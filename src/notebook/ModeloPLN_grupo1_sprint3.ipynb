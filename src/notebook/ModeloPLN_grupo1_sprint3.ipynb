{
 "cells": [
  {
   "cell_type": "markdown",
   "metadata": {
    "id": "1QcvfDZJbba4"
   },
   "source": [
    "# Processamento de linguagem natural e modelo de análise de sentimento."
   ]
  },
  {
   "cell_type": "markdown",
   "metadata": {
    "id": "KNUwxSCZATI5"
   },
   "source": [
    "A fim de que seja possível comparar os tópicos abaixo descritos com os itens explicitados pelo barema, encontra-se, nessa célula, um índice comparativo entre ambas partes. Ele foi feito para facilitar a correção dos professores e permitir a existência de uma autonomia na nomenclatura das células de organização. \n",
    "- Instalação -> tópico 1.0\n",
    "- Testes isolados - >  tópico 3.8 \n",
    "- Definição de funções -> tópico 3.1 a 3.7\n",
    "- Testes das funções -> tópico 4.3\n",
    "- Análise descritiva -> tópico 2.0\n",
    "- Pré processamento -> tópico 3.0\n",
    "- Pipeline -> tópico 4.3\n",
    "- Modelo Bag of words -> tópico 4.0\n"
   ]
  },
  {
   "cell_type": "markdown",
   "metadata": {
    "id": "F0pr4J2Ibba9"
   },
   "source": [
    "## 1.0 Instalação"
   ]
  },
  {
   "cell_type": "markdown",
   "metadata": {
    "id": "3fk1FJ8KGVdz"
   },
   "source": [
    "Nessa parte do notebook realiza-se a instalação das bibliotecas que serão utilizadas no decorrer do código, bem como a importação da base de dados que baseia todas as posteriores análises. "
   ]
  },
  {
   "cell_type": "markdown",
   "metadata": {
    "id": "KN9FmiYRbba-"
   },
   "source": [
    "### 1.1 Importação das bibliotecas"
   ]
  },
  {
   "cell_type": "code",
   "execution_count": 1,
   "metadata": {
    "colab": {
     "base_uri": "https://localhost:8080/"
    },
    "collapsed": true,
    "id": "y_qupiGsIwlC",
    "jupyter": {
     "outputs_hidden": true
    },
    "outputId": "8a6ac582-d734-40b6-9bbe-d47555e3d52c",
    "tags": []
   },
   "outputs": [
    {
     "name": "stdout",
     "output_type": "stream",
     "text": [
      "Requirement already satisfied: unidecode in /Users/luizferreira/anaconda3/lib/python3.10/site-packages (1.2.0)\n",
      "Requirement already satisfied: emoji in /Users/luizferreira/anaconda3/lib/python3.10/site-packages (2.2.0)\n",
      "Requirement already satisfied: spacy in /Users/luizferreira/anaconda3/lib/python3.10/site-packages (3.5.3)\n",
      "Requirement already satisfied: spacy-legacy<3.1.0,>=3.0.11 in /Users/luizferreira/anaconda3/lib/python3.10/site-packages (from spacy) (3.0.12)\n",
      "Requirement already satisfied: spacy-loggers<2.0.0,>=1.0.0 in /Users/luizferreira/anaconda3/lib/python3.10/site-packages (from spacy) (1.0.4)\n",
      "Requirement already satisfied: murmurhash<1.1.0,>=0.28.0 in /Users/luizferreira/anaconda3/lib/python3.10/site-packages (from spacy) (1.0.9)\n",
      "Requirement already satisfied: cymem<2.1.0,>=2.0.2 in /Users/luizferreira/anaconda3/lib/python3.10/site-packages (from spacy) (2.0.7)\n",
      "Requirement already satisfied: preshed<3.1.0,>=3.0.2 in /Users/luizferreira/anaconda3/lib/python3.10/site-packages (from spacy) (3.0.8)\n",
      "Requirement already satisfied: thinc<8.2.0,>=8.1.8 in /Users/luizferreira/anaconda3/lib/python3.10/site-packages (from spacy) (8.1.10)\n",
      "Requirement already satisfied: wasabi<1.2.0,>=0.9.1 in /Users/luizferreira/anaconda3/lib/python3.10/site-packages (from spacy) (1.1.1)\n",
      "Requirement already satisfied: srsly<3.0.0,>=2.4.3 in /Users/luizferreira/anaconda3/lib/python3.10/site-packages (from spacy) (2.4.6)\n",
      "Requirement already satisfied: catalogue<2.1.0,>=2.0.6 in /Users/luizferreira/anaconda3/lib/python3.10/site-packages (from spacy) (2.0.8)\n",
      "Requirement already satisfied: typer<0.8.0,>=0.3.0 in /Users/luizferreira/anaconda3/lib/python3.10/site-packages (from spacy) (0.7.0)\n",
      "Requirement already satisfied: pathy>=0.10.0 in /Users/luizferreira/anaconda3/lib/python3.10/site-packages (from spacy) (0.10.1)\n",
      "Requirement already satisfied: smart-open<7.0.0,>=5.2.1 in /Users/luizferreira/anaconda3/lib/python3.10/site-packages (from spacy) (5.2.1)\n",
      "Requirement already satisfied: tqdm<5.0.0,>=4.38.0 in /Users/luizferreira/anaconda3/lib/python3.10/site-packages (from spacy) (4.64.1)\n",
      "Requirement already satisfied: numpy>=1.15.0 in /Users/luizferreira/anaconda3/lib/python3.10/site-packages (from spacy) (1.23.5)\n",
      "Requirement already satisfied: requests<3.0.0,>=2.13.0 in /Users/luizferreira/anaconda3/lib/python3.10/site-packages (from spacy) (2.28.1)\n",
      "Requirement already satisfied: pydantic!=1.8,!=1.8.1,<1.11.0,>=1.7.4 in /Users/luizferreira/anaconda3/lib/python3.10/site-packages (from spacy) (1.10.7)\n",
      "Requirement already satisfied: jinja2 in /Users/luizferreira/anaconda3/lib/python3.10/site-packages (from spacy) (3.1.2)\n",
      "Requirement already satisfied: setuptools in /Users/luizferreira/anaconda3/lib/python3.10/site-packages (from spacy) (65.6.3)\n",
      "Requirement already satisfied: packaging>=20.0 in /Users/luizferreira/anaconda3/lib/python3.10/site-packages (from spacy) (22.0)\n",
      "Requirement already satisfied: langcodes<4.0.0,>=3.2.0 in /Users/luizferreira/anaconda3/lib/python3.10/site-packages (from spacy) (3.3.0)\n",
      "Requirement already satisfied: typing-extensions>=4.2.0 in /Users/luizferreira/anaconda3/lib/python3.10/site-packages (from pydantic!=1.8,!=1.8.1,<1.11.0,>=1.7.4->spacy) (4.4.0)\n",
      "Requirement already satisfied: charset-normalizer<3,>=2 in /Users/luizferreira/anaconda3/lib/python3.10/site-packages (from requests<3.0.0,>=2.13.0->spacy) (2.0.4)\n",
      "Requirement already satisfied: idna<4,>=2.5 in /Users/luizferreira/anaconda3/lib/python3.10/site-packages (from requests<3.0.0,>=2.13.0->spacy) (3.4)\n",
      "Requirement already satisfied: urllib3<1.27,>=1.21.1 in /Users/luizferreira/anaconda3/lib/python3.10/site-packages (from requests<3.0.0,>=2.13.0->spacy) (1.26.14)\n",
      "Requirement already satisfied: certifi>=2017.4.17 in /Users/luizferreira/anaconda3/lib/python3.10/site-packages (from requests<3.0.0,>=2.13.0->spacy) (2022.12.7)\n",
      "Requirement already satisfied: blis<0.8.0,>=0.7.8 in /Users/luizferreira/anaconda3/lib/python3.10/site-packages (from thinc<8.2.0,>=8.1.8->spacy) (0.7.9)\n",
      "Requirement already satisfied: confection<1.0.0,>=0.0.1 in /Users/luizferreira/anaconda3/lib/python3.10/site-packages (from thinc<8.2.0,>=8.1.8->spacy) (0.0.4)\n",
      "Requirement already satisfied: click<9.0.0,>=7.1.1 in /Users/luizferreira/anaconda3/lib/python3.10/site-packages (from typer<0.8.0,>=0.3.0->spacy) (8.0.4)\n",
      "Requirement already satisfied: MarkupSafe>=2.0 in /Users/luizferreira/anaconda3/lib/python3.10/site-packages (from jinja2->spacy) (2.1.1)\n"
     ]
    }
   ],
   "source": [
    "# instalação de pacotes para remoção de acentos\n",
    "!pip install unidecode\n",
    "# Instalando biblioteca Python \"emoji\"\n",
    "!pip install emoji\n",
    "# Instalação de biblioteca para remoção de stop words\n",
    "!pip install -U spacy"
   ]
  },
  {
   "cell_type": "code",
   "execution_count": 2,
   "metadata": {
    "colab": {
     "base_uri": "https://localhost:8080/"
    },
    "collapsed": true,
    "id": "L_lWGKttbba_",
    "jupyter": {
     "outputs_hidden": true
    },
    "outputId": "b746af20-d776-4075-9f8e-96495d99901e",
    "tags": []
   },
   "outputs": [
    {
     "name": "stderr",
     "output_type": "stream",
     "text": [
      "[nltk_data] Downloading package punkt to\n",
      "[nltk_data]     /Users/luizferreira/nltk_data...\n",
      "[nltk_data]   Package punkt is already up-to-date!\n",
      "/Users/luizferreira/anaconda3/lib/python3.10/site-packages/tqdm/auto.py:22: TqdmWarning: IProgress not found. Please update jupyter and ipywidgets. See https://ipywidgets.readthedocs.io/en/stable/user_install.html\n",
      "  from .autonotebook import tqdm as notebook_tqdm\n"
     ]
    },
    {
     "name": "stdout",
     "output_type": "stream",
     "text": [
      "Collecting pt-core-news-sm==3.5.0\n",
      "  Downloading https://github.com/explosion/spacy-models/releases/download/pt_core_news_sm-3.5.0/pt_core_news_sm-3.5.0-py3-none-any.whl (13.0 MB)\n",
      "\u001b[2K     ━━━━━━━━━━━━━━━━━━━━━━━━━━━━━━━━━━━━━━━━ 13.0/13.0 MB 26.2 MB/s eta 0:00:00\n",
      "\u001b[?25hRequirement already satisfied: spacy<3.6.0,>=3.5.0 in /Users/luizferreira/anaconda3/lib/python3.10/site-packages (from pt-core-news-sm==3.5.0) (3.5.3)\n",
      "Requirement already satisfied: spacy-legacy<3.1.0,>=3.0.11 in /Users/luizferreira/anaconda3/lib/python3.10/site-packages (from spacy<3.6.0,>=3.5.0->pt-core-news-sm==3.5.0) (3.0.12)\n",
      "Requirement already satisfied: spacy-loggers<2.0.0,>=1.0.0 in /Users/luizferreira/anaconda3/lib/python3.10/site-packages (from spacy<3.6.0,>=3.5.0->pt-core-news-sm==3.5.0) (1.0.4)\n",
      "Requirement already satisfied: murmurhash<1.1.0,>=0.28.0 in /Users/luizferreira/anaconda3/lib/python3.10/site-packages (from spacy<3.6.0,>=3.5.0->pt-core-news-sm==3.5.0) (1.0.9)\n",
      "Requirement already satisfied: cymem<2.1.0,>=2.0.2 in /Users/luizferreira/anaconda3/lib/python3.10/site-packages (from spacy<3.6.0,>=3.5.0->pt-core-news-sm==3.5.0) (2.0.7)\n",
      "Requirement already satisfied: preshed<3.1.0,>=3.0.2 in /Users/luizferreira/anaconda3/lib/python3.10/site-packages (from spacy<3.6.0,>=3.5.0->pt-core-news-sm==3.5.0) (3.0.8)\n",
      "Requirement already satisfied: thinc<8.2.0,>=8.1.8 in /Users/luizferreira/anaconda3/lib/python3.10/site-packages (from spacy<3.6.0,>=3.5.0->pt-core-news-sm==3.5.0) (8.1.10)\n",
      "Requirement already satisfied: wasabi<1.2.0,>=0.9.1 in /Users/luizferreira/anaconda3/lib/python3.10/site-packages (from spacy<3.6.0,>=3.5.0->pt-core-news-sm==3.5.0) (1.1.1)\n",
      "Requirement already satisfied: srsly<3.0.0,>=2.4.3 in /Users/luizferreira/anaconda3/lib/python3.10/site-packages (from spacy<3.6.0,>=3.5.0->pt-core-news-sm==3.5.0) (2.4.6)\n",
      "Requirement already satisfied: catalogue<2.1.0,>=2.0.6 in /Users/luizferreira/anaconda3/lib/python3.10/site-packages (from spacy<3.6.0,>=3.5.0->pt-core-news-sm==3.5.0) (2.0.8)\n",
      "Requirement already satisfied: typer<0.8.0,>=0.3.0 in /Users/luizferreira/anaconda3/lib/python3.10/site-packages (from spacy<3.6.0,>=3.5.0->pt-core-news-sm==3.5.0) (0.7.0)\n",
      "Requirement already satisfied: pathy>=0.10.0 in /Users/luizferreira/anaconda3/lib/python3.10/site-packages (from spacy<3.6.0,>=3.5.0->pt-core-news-sm==3.5.0) (0.10.1)\n",
      "Requirement already satisfied: smart-open<7.0.0,>=5.2.1 in /Users/luizferreira/anaconda3/lib/python3.10/site-packages (from spacy<3.6.0,>=3.5.0->pt-core-news-sm==3.5.0) (5.2.1)\n",
      "Requirement already satisfied: tqdm<5.0.0,>=4.38.0 in /Users/luizferreira/anaconda3/lib/python3.10/site-packages (from spacy<3.6.0,>=3.5.0->pt-core-news-sm==3.5.0) (4.64.1)\n",
      "Requirement already satisfied: numpy>=1.15.0 in /Users/luizferreira/anaconda3/lib/python3.10/site-packages (from spacy<3.6.0,>=3.5.0->pt-core-news-sm==3.5.0) (1.23.5)\n",
      "Requirement already satisfied: requests<3.0.0,>=2.13.0 in /Users/luizferreira/anaconda3/lib/python3.10/site-packages (from spacy<3.6.0,>=3.5.0->pt-core-news-sm==3.5.0) (2.28.1)\n",
      "Requirement already satisfied: pydantic!=1.8,!=1.8.1,<1.11.0,>=1.7.4 in /Users/luizferreira/anaconda3/lib/python3.10/site-packages (from spacy<3.6.0,>=3.5.0->pt-core-news-sm==3.5.0) (1.10.7)\n",
      "Requirement already satisfied: jinja2 in /Users/luizferreira/anaconda3/lib/python3.10/site-packages (from spacy<3.6.0,>=3.5.0->pt-core-news-sm==3.5.0) (3.1.2)\n",
      "Requirement already satisfied: setuptools in /Users/luizferreira/anaconda3/lib/python3.10/site-packages (from spacy<3.6.0,>=3.5.0->pt-core-news-sm==3.5.0) (65.6.3)\n",
      "Requirement already satisfied: packaging>=20.0 in /Users/luizferreira/anaconda3/lib/python3.10/site-packages (from spacy<3.6.0,>=3.5.0->pt-core-news-sm==3.5.0) (22.0)\n",
      "Requirement already satisfied: langcodes<4.0.0,>=3.2.0 in /Users/luizferreira/anaconda3/lib/python3.10/site-packages (from spacy<3.6.0,>=3.5.0->pt-core-news-sm==3.5.0) (3.3.0)\n",
      "Requirement already satisfied: typing-extensions>=4.2.0 in /Users/luizferreira/anaconda3/lib/python3.10/site-packages (from pydantic!=1.8,!=1.8.1,<1.11.0,>=1.7.4->spacy<3.6.0,>=3.5.0->pt-core-news-sm==3.5.0) (4.4.0)\n",
      "Requirement already satisfied: charset-normalizer<3,>=2 in /Users/luizferreira/anaconda3/lib/python3.10/site-packages (from requests<3.0.0,>=2.13.0->spacy<3.6.0,>=3.5.0->pt-core-news-sm==3.5.0) (2.0.4)\n",
      "Requirement already satisfied: idna<4,>=2.5 in /Users/luizferreira/anaconda3/lib/python3.10/site-packages (from requests<3.0.0,>=2.13.0->spacy<3.6.0,>=3.5.0->pt-core-news-sm==3.5.0) (3.4)\n",
      "Requirement already satisfied: urllib3<1.27,>=1.21.1 in /Users/luizferreira/anaconda3/lib/python3.10/site-packages (from requests<3.0.0,>=2.13.0->spacy<3.6.0,>=3.5.0->pt-core-news-sm==3.5.0) (1.26.14)\n",
      "Requirement already satisfied: certifi>=2017.4.17 in /Users/luizferreira/anaconda3/lib/python3.10/site-packages (from requests<3.0.0,>=2.13.0->spacy<3.6.0,>=3.5.0->pt-core-news-sm==3.5.0) (2022.12.7)\n",
      "Requirement already satisfied: blis<0.8.0,>=0.7.8 in /Users/luizferreira/anaconda3/lib/python3.10/site-packages (from thinc<8.2.0,>=8.1.8->spacy<3.6.0,>=3.5.0->pt-core-news-sm==3.5.0) (0.7.9)\n",
      "Requirement already satisfied: confection<1.0.0,>=0.0.1 in /Users/luizferreira/anaconda3/lib/python3.10/site-packages (from thinc<8.2.0,>=8.1.8->spacy<3.6.0,>=3.5.0->pt-core-news-sm==3.5.0) (0.0.4)\n",
      "Requirement already satisfied: click<9.0.0,>=7.1.1 in /Users/luizferreira/anaconda3/lib/python3.10/site-packages (from typer<0.8.0,>=0.3.0->spacy<3.6.0,>=3.5.0->pt-core-news-sm==3.5.0) (8.0.4)\n",
      "Requirement already satisfied: MarkupSafe>=2.0 in /Users/luizferreira/anaconda3/lib/python3.10/site-packages (from jinja2->spacy<3.6.0,>=3.5.0->pt-core-news-sm==3.5.0) (2.1.1)\n",
      "\u001b[38;5;2m✔ Download and installation successful\u001b[0m\n",
      "You can now load the package via spacy.load('pt_core_news_sm')\n"
     ]
    }
   ],
   "source": [
    "#importação das bibliotecas:\n",
    "import pandas as pd\n",
    "import numpy as np\n",
    "# bibliotecas utilizadas para tokenização\n",
    "from nltk.tokenize import word_tokenize\n",
    "from nltk.tokenize import sent_tokenize\n",
    "#biblioteca para tokenização \n",
    "from keras.preprocessing.text import Tokenizer\n",
    "# bibliotecas utilizadas para remoção de stop words\n",
    "import nltk\n",
    "nltk.download('punkt')\n",
    "#importação das bibliotecas para remoção de Stop Words\n",
    "import spacy\n",
    "nlp = spacy.cli.download('pt_core_news_sm')\n",
    "nlp = spacy.load('pt_core_news_sm')\n",
    "# bibliotecas para remoção de acentos\n",
    "from unidecode import unidecode\n",
    "# bibliotecas utilizadas para o tratamento de abreviações\n",
    "import re\n",
    "# Instalando biblioteca Python \"emoji\"\n",
    "import emoji\n",
    "# importação de biblioteca para exportação do modelo\n",
    "import pickle\n",
    "# importação de biblioteca para separar treino e teste\n",
    "from sklearn.model_selection import train_test_split\n",
    "# importação do naive Bayes\n",
    "from sklearn.naive_bayes import GaussianNB"
   ]
  },
  {
   "cell_type": "markdown",
   "metadata": {
    "id": "44S5uXPbbbbE"
   },
   "source": [
    "### 1.2 Criação da tabela "
   ]
  },
  {
   "cell_type": "code",
   "execution_count": null,
   "metadata": {
    "id": "ys0GfKh-SGck"
   },
   "outputs": [],
   "source": [
    "#Conexão com o drive\n",
    "from google.colab import drive\n",
    "drive.mount('/content/drive')\n",
    "#importação da base de dados:\n",
    "df = pd.read_excel('/content/drive/MyDrive/Modulo_6_grupo_1/2-base_10052023-G1.xlsx')\n",
    "novas_colunas = {\n",
    "    '\"dataPublicada\"': 'dataPublicada',\n",
    "    '\"autor\"': 'autor',\n",
    "    '\"texto\"': 'texto',\n",
    "    '\"sentimento\"': 'targetSentimento',\n",
    "    '\"tipoInteracao\"': 'tipoInteracao',\n",
    "    '\"anomalia\"': 'anomalia',\n",
    "    '\"probabilidadeAnomalia\"': 'probabilidadeAnomalia',\n",
    "    '\"linkPost\"': 'linkPost',\n",
    "    '\"processado\"': 'processado',\n",
    "    '\"contemHyperlink\"': 'contemHyperlink'\n",
    "}\n",
    "\n",
    "# Renomear as colunas\n",
    "df = df.rename(columns=novas_colunas)\n",
    "# Remover linhas sem a coluna \"texto\"\n",
    "df = df.dropna(subset=['texto'])\n",
    "# Filtrar as linhas com base em diferentes condições\n",
    "df = df[(df['anomalia'] != 1) & (df['autor'] != 'btgpactual') & (df['contemHyperlink'] != 1) & (df['probabilidadeAnomalia'] <= 50)]\n",
    "# Redefinir o índice\n",
    "df = df.reset_index(drop=True)"
   ]
  },
  {
   "cell_type": "markdown",
   "metadata": {
    "id": "xas-NjmpBZVq"
   },
   "source": [
    "##### Importação da tabela"
   ]
  },
  {
   "cell_type": "code",
   "execution_count": null,
   "metadata": {
    "colab": {
     "base_uri": "https://localhost:8080/"
    },
    "id": "7i3IiM8WbqL0",
    "outputId": "be006bd1-cf22-47a6-cc5c-d3b19fa2671a"
   },
   "outputs": [
    {
     "name": "stdout",
     "output_type": "stream",
     "text": [
      "Mounted at /content/drive\n"
     ]
    }
   ],
   "source": [
    "#Conexão com o drive\n",
    "from google.colab import drive\n",
    "drive.mount('/content/drive')"
   ]
  },
  {
   "cell_type": "code",
   "execution_count": 5,
   "metadata": {
    "id": "pyyTpwj9bbbG"
   },
   "outputs": [
    {
     "data": {
      "text/html": [
       "<div>\n",
       "<style scoped>\n",
       "    .dataframe tbody tr th:only-of-type {\n",
       "        vertical-align: middle;\n",
       "    }\n",
       "\n",
       "    .dataframe tbody tr th {\n",
       "        vertical-align: top;\n",
       "    }\n",
       "\n",
       "    .dataframe thead th {\n",
       "        text-align: right;\n",
       "    }\n",
       "</style>\n",
       "<table border=\"1\" class=\"dataframe\">\n",
       "  <thead>\n",
       "    <tr style=\"text-align: right;\">\n",
       "      <th></th>\n",
       "      <th>id</th>\n",
       "      <th>\"dataPublicada\"</th>\n",
       "      <th>\"autor\"</th>\n",
       "      <th>\"texto\"</th>\n",
       "      <th>\"sentimento\"</th>\n",
       "      <th>\"tipoInteracao\"</th>\n",
       "      <th>\"anomalia\"</th>\n",
       "      <th>\"probabilidadeAnomalia\"</th>\n",
       "      <th>\"linkPost\"</th>\n",
       "      <th>\"processado\"</th>\n",
       "      <th>\"contemHyperlink\"</th>\n",
       "    </tr>\n",
       "  </thead>\n",
       "  <tbody>\n",
       "    <tr>\n",
       "      <th>0</th>\n",
       "      <td>1</td>\n",
       "      <td>\"2022-03-04 09:38:00\"</td>\n",
       "      <td>v8_capital</td>\n",
       "      <td>Confira os resultados dos nossos fundos no mês...</td>\n",
       "      <td>NEUTRAL</td>\n",
       "      <td>marcação</td>\n",
       "      <td>1</td>\n",
       "      <td>52</td>\n",
       "      <td>https://www.instagram.com/p/CarqO6drRux/</td>\n",
       "      <td>0</td>\n",
       "      <td>0</td>\n",
       "    </tr>\n",
       "    <tr>\n",
       "      <th>1</th>\n",
       "      <td>2</td>\n",
       "      <td>\"2022-03-04 09:29:00\"</td>\n",
       "      <td>winthegame_of</td>\n",
       "      <td>A Alvarez &amp; Marsal estará conosco no Sportainm...</td>\n",
       "      <td>NEUTRAL</td>\n",
       "      <td>marcação</td>\n",
       "      <td>0</td>\n",
       "      <td>43</td>\n",
       "      <td>https://www.instagram.com/p/CarpQUluh7z/</td>\n",
       "      <td>0</td>\n",
       "      <td>0</td>\n",
       "    </tr>\n",
       "    <tr>\n",
       "      <th>2</th>\n",
       "      <td>3</td>\n",
       "      <td>\"2022-03-04 09:20:00\"</td>\n",
       "      <td>marta_bego</td>\n",
       "      <td>#Repost btgpactual with make_repost ・・・ Entend...</td>\n",
       "      <td>NEUTRAL</td>\n",
       "      <td>marcação</td>\n",
       "      <td>0</td>\n",
       "      <td>45</td>\n",
       "      <td>https://www.instagram.com/p/CaroK9Nu8tC/</td>\n",
       "      <td>0</td>\n",
       "      <td>0</td>\n",
       "    </tr>\n",
       "    <tr>\n",
       "      <th>3</th>\n",
       "      <td>4</td>\n",
       "      <td>\"2022-03-04 08:36:00\"</td>\n",
       "      <td>lmviapiana</td>\n",
       "      <td>Minuto touro de ouro</td>\n",
       "      <td>POSITIVE</td>\n",
       "      <td>comentário</td>\n",
       "      <td>0</td>\n",
       "      <td>38</td>\n",
       "      <td>https://www.instagram.com/p/CapXhB5Lvas/#17977...</td>\n",
       "      <td>0</td>\n",
       "      <td>0</td>\n",
       "    </tr>\n",
       "    <tr>\n",
       "      <th>4</th>\n",
       "      <td>5</td>\n",
       "      <td>\"2022-03-03 21:10:00\"</td>\n",
       "      <td>vanilson_dos</td>\n",
       "      <td>@ricktolledo Sim</td>\n",
       "      <td>NEUTRAL</td>\n",
       "      <td>resposta</td>\n",
       "      <td>0</td>\n",
       "      <td>17</td>\n",
       "      <td>https://www.instagram.com/p/CapXhB5Lvas/#17842...</td>\n",
       "      <td>0</td>\n",
       "      <td>0</td>\n",
       "    </tr>\n",
       "    <tr>\n",
       "      <th>...</th>\n",
       "      <td>...</td>\n",
       "      <td>...</td>\n",
       "      <td>...</td>\n",
       "      <td>...</td>\n",
       "      <td>...</td>\n",
       "      <td>...</td>\n",
       "      <td>...</td>\n",
       "      <td>...</td>\n",
       "      <td>...</td>\n",
       "      <td>...</td>\n",
       "      <td>...</td>\n",
       "    </tr>\n",
       "    <tr>\n",
       "      <th>12350</th>\n",
       "      <td>3044013</td>\n",
       "      <td>\"2022-11-30 11:51:00\"</td>\n",
       "      <td>onixcapital</td>\n",
       "      <td>Uma noite de encontros e muito conhecimento on...</td>\n",
       "      <td>NEUTRAL</td>\n",
       "      <td>marcação</td>\n",
       "      <td>1</td>\n",
       "      <td>54</td>\n",
       "      <td>https://www.instagram.com/reel/CllsqI7goSC/</td>\n",
       "      <td>0</td>\n",
       "      <td>0</td>\n",
       "    </tr>\n",
       "    <tr>\n",
       "      <th>12351</th>\n",
       "      <td>3044212</td>\n",
       "      <td>\"2022-11-30 12:25:00\"</td>\n",
       "      <td>amgcapitalinvest</td>\n",
       "      <td>Erros financeiros para eliminar antes dos 30 a...</td>\n",
       "      <td>NEUTRAL</td>\n",
       "      <td>marcação</td>\n",
       "      <td>0</td>\n",
       "      <td>39</td>\n",
       "      <td>https://www.instagram.com/p/Cllw0CmNGkX/</td>\n",
       "      <td>0</td>\n",
       "      <td>0</td>\n",
       "    </tr>\n",
       "    <tr>\n",
       "      <th>12352</th>\n",
       "      <td>3044213</td>\n",
       "      <td>\"2022-11-30 12:18:00\"</td>\n",
       "      <td>jayipacderota</td>\n",
       "      <td>Estou muito grato por todo o esforço que você ...</td>\n",
       "      <td>POSITIVE</td>\n",
       "      <td>comentário</td>\n",
       "      <td>1</td>\n",
       "      <td>52</td>\n",
       "      <td>https://www.instagram.com/p/CllkSBOuKlJ/#17960...</td>\n",
       "      <td>0</td>\n",
       "      <td>0</td>\n",
       "    </tr>\n",
       "    <tr>\n",
       "      <th>12353</th>\n",
       "      <td>3044412</td>\n",
       "      <td>\"2022-11-30 12:50:00\"</td>\n",
       "      <td>moinho_cultural</td>\n",
       "      <td>\"👉GUADAKAN está chegando!!!!  A aula pública e...</td>\n",
       "      <td>NEUTRAL</td>\n",
       "      <td>marcação</td>\n",
       "      <td>0</td>\n",
       "      <td>43</td>\n",
       "      <td>https://www.instagram.com/reel/ClluX-cAoaf/</td>\n",
       "      <td>0</td>\n",
       "      <td>0</td>\n",
       "    </tr>\n",
       "    <tr>\n",
       "      <th>12354</th>\n",
       "      <td>3045012</td>\n",
       "      <td>\"2022-11-30 14:27:00\"</td>\n",
       "      <td>bfmarilia</td>\n",
       "      <td>@btgpactual pq o morning call não está mais ap...</td>\n",
       "      <td>NEGATIVE</td>\n",
       "      <td>comentário</td>\n",
       "      <td>0</td>\n",
       "      <td>28</td>\n",
       "      <td>https://www.instagram.com/p/CllkSBOuKlJ/#17975...</td>\n",
       "      <td>0</td>\n",
       "      <td>0</td>\n",
       "    </tr>\n",
       "  </tbody>\n",
       "</table>\n",
       "<p>12355 rows × 11 columns</p>\n",
       "</div>"
      ],
      "text/plain": [
       "            id        \"dataPublicada\"           \"autor\"  \\\n",
       "0            1  \"2022-03-04 09:38:00\"        v8_capital   \n",
       "1            2  \"2022-03-04 09:29:00\"     winthegame_of   \n",
       "2            3  \"2022-03-04 09:20:00\"        marta_bego   \n",
       "3            4  \"2022-03-04 08:36:00\"        lmviapiana   \n",
       "4            5  \"2022-03-03 21:10:00\"      vanilson_dos   \n",
       "...        ...                    ...               ...   \n",
       "12350  3044013  \"2022-11-30 11:51:00\"       onixcapital   \n",
       "12351  3044212  \"2022-11-30 12:25:00\"  amgcapitalinvest   \n",
       "12352  3044213  \"2022-11-30 12:18:00\"     jayipacderota   \n",
       "12353  3044412  \"2022-11-30 12:50:00\"   moinho_cultural   \n",
       "12354  3045012  \"2022-11-30 14:27:00\"         bfmarilia   \n",
       "\n",
       "                                                 \"texto\" \"sentimento\"  \\\n",
       "0      Confira os resultados dos nossos fundos no mês...      NEUTRAL   \n",
       "1      A Alvarez & Marsal estará conosco no Sportainm...      NEUTRAL   \n",
       "2      #Repost btgpactual with make_repost ・・・ Entend...      NEUTRAL   \n",
       "3                                   Minuto touro de ouro     POSITIVE   \n",
       "4                                       @ricktolledo Sim      NEUTRAL   \n",
       "...                                                  ...          ...   \n",
       "12350  Uma noite de encontros e muito conhecimento on...      NEUTRAL   \n",
       "12351  Erros financeiros para eliminar antes dos 30 a...      NEUTRAL   \n",
       "12352  Estou muito grato por todo o esforço que você ...     POSITIVE   \n",
       "12353  \"👉GUADAKAN está chegando!!!!  A aula pública e...      NEUTRAL   \n",
       "12354  @btgpactual pq o morning call não está mais ap...     NEGATIVE   \n",
       "\n",
       "      \"tipoInteracao\"  \"anomalia\"  \"probabilidadeAnomalia\"  \\\n",
       "0            marcação           1                       52   \n",
       "1            marcação           0                       43   \n",
       "2            marcação           0                       45   \n",
       "3          comentário           0                       38   \n",
       "4            resposta           0                       17   \n",
       "...               ...         ...                      ...   \n",
       "12350        marcação           1                       54   \n",
       "12351        marcação           0                       39   \n",
       "12352      comentário           1                       52   \n",
       "12353        marcação           0                       43   \n",
       "12354      comentário           0                       28   \n",
       "\n",
       "                                              \"linkPost\"  \"processado\"  \\\n",
       "0               https://www.instagram.com/p/CarqO6drRux/             0   \n",
       "1               https://www.instagram.com/p/CarpQUluh7z/             0   \n",
       "2               https://www.instagram.com/p/CaroK9Nu8tC/             0   \n",
       "3      https://www.instagram.com/p/CapXhB5Lvas/#17977...             0   \n",
       "4      https://www.instagram.com/p/CapXhB5Lvas/#17842...             0   \n",
       "...                                                  ...           ...   \n",
       "12350        https://www.instagram.com/reel/CllsqI7goSC/             0   \n",
       "12351           https://www.instagram.com/p/Cllw0CmNGkX/             0   \n",
       "12352  https://www.instagram.com/p/CllkSBOuKlJ/#17960...             0   \n",
       "12353        https://www.instagram.com/reel/ClluX-cAoaf/             0   \n",
       "12354  https://www.instagram.com/p/CllkSBOuKlJ/#17975...             0   \n",
       "\n",
       "       \"contemHyperlink\"  \n",
       "0                      0  \n",
       "1                      0  \n",
       "2                      0  \n",
       "3                      0  \n",
       "4                      0  \n",
       "...                  ...  \n",
       "12350                  0  \n",
       "12351                  0  \n",
       "12352                  0  \n",
       "12353                  0  \n",
       "12354                  0  \n",
       "\n",
       "[12355 rows x 11 columns]"
      ]
     },
     "execution_count": 5,
     "metadata": {},
     "output_type": "execute_result"
    }
   ],
   "source": [
    "#importação da base de dados:\n",
    "df = pd.read_excel('../../../bases/2-base_10052023-G1.xlsx')\n",
    "df"
   ]
  },
  {
   "cell_type": "markdown",
   "metadata": {
    "id": "8JnP2qFcBPuH"
   },
   "source": [
    "##### Colunas renomeadas"
   ]
  },
  {
   "cell_type": "code",
   "execution_count": 6,
   "metadata": {
    "id": "ze-JD_NzDNyz"
   },
   "outputs": [
    {
     "data": {
      "text/html": [
       "<div>\n",
       "<style scoped>\n",
       "    .dataframe tbody tr th:only-of-type {\n",
       "        vertical-align: middle;\n",
       "    }\n",
       "\n",
       "    .dataframe tbody tr th {\n",
       "        vertical-align: top;\n",
       "    }\n",
       "\n",
       "    .dataframe thead th {\n",
       "        text-align: right;\n",
       "    }\n",
       "</style>\n",
       "<table border=\"1\" class=\"dataframe\">\n",
       "  <thead>\n",
       "    <tr style=\"text-align: right;\">\n",
       "      <th></th>\n",
       "      <th>id</th>\n",
       "      <th>dataPublicada</th>\n",
       "      <th>autor</th>\n",
       "      <th>texto</th>\n",
       "      <th>sentimento</th>\n",
       "      <th>tipoInteracao</th>\n",
       "      <th>anomalia</th>\n",
       "      <th>probabilidadeAnomalia</th>\n",
       "      <th>linkPost</th>\n",
       "      <th>processado</th>\n",
       "      <th>contemHyperlink</th>\n",
       "    </tr>\n",
       "  </thead>\n",
       "  <tbody>\n",
       "    <tr>\n",
       "      <th>0</th>\n",
       "      <td>1</td>\n",
       "      <td>\"2022-03-04 09:38:00\"</td>\n",
       "      <td>v8_capital</td>\n",
       "      <td>Confira os resultados dos nossos fundos no mês...</td>\n",
       "      <td>NEUTRAL</td>\n",
       "      <td>marcação</td>\n",
       "      <td>1</td>\n",
       "      <td>52</td>\n",
       "      <td>https://www.instagram.com/p/CarqO6drRux/</td>\n",
       "      <td>0</td>\n",
       "      <td>0</td>\n",
       "    </tr>\n",
       "    <tr>\n",
       "      <th>1</th>\n",
       "      <td>2</td>\n",
       "      <td>\"2022-03-04 09:29:00\"</td>\n",
       "      <td>winthegame_of</td>\n",
       "      <td>A Alvarez &amp; Marsal estará conosco no Sportainm...</td>\n",
       "      <td>NEUTRAL</td>\n",
       "      <td>marcação</td>\n",
       "      <td>0</td>\n",
       "      <td>43</td>\n",
       "      <td>https://www.instagram.com/p/CarpQUluh7z/</td>\n",
       "      <td>0</td>\n",
       "      <td>0</td>\n",
       "    </tr>\n",
       "    <tr>\n",
       "      <th>2</th>\n",
       "      <td>3</td>\n",
       "      <td>\"2022-03-04 09:20:00\"</td>\n",
       "      <td>marta_bego</td>\n",
       "      <td>#Repost btgpactual with make_repost ・・・ Entend...</td>\n",
       "      <td>NEUTRAL</td>\n",
       "      <td>marcação</td>\n",
       "      <td>0</td>\n",
       "      <td>45</td>\n",
       "      <td>https://www.instagram.com/p/CaroK9Nu8tC/</td>\n",
       "      <td>0</td>\n",
       "      <td>0</td>\n",
       "    </tr>\n",
       "    <tr>\n",
       "      <th>3</th>\n",
       "      <td>4</td>\n",
       "      <td>\"2022-03-04 08:36:00\"</td>\n",
       "      <td>lmviapiana</td>\n",
       "      <td>Minuto touro de ouro</td>\n",
       "      <td>POSITIVE</td>\n",
       "      <td>comentário</td>\n",
       "      <td>0</td>\n",
       "      <td>38</td>\n",
       "      <td>https://www.instagram.com/p/CapXhB5Lvas/#17977...</td>\n",
       "      <td>0</td>\n",
       "      <td>0</td>\n",
       "    </tr>\n",
       "    <tr>\n",
       "      <th>4</th>\n",
       "      <td>5</td>\n",
       "      <td>\"2022-03-03 21:10:00\"</td>\n",
       "      <td>vanilson_dos</td>\n",
       "      <td>@ricktolledo Sim</td>\n",
       "      <td>NEUTRAL</td>\n",
       "      <td>resposta</td>\n",
       "      <td>0</td>\n",
       "      <td>17</td>\n",
       "      <td>https://www.instagram.com/p/CapXhB5Lvas/#17842...</td>\n",
       "      <td>0</td>\n",
       "      <td>0</td>\n",
       "    </tr>\n",
       "    <tr>\n",
       "      <th>...</th>\n",
       "      <td>...</td>\n",
       "      <td>...</td>\n",
       "      <td>...</td>\n",
       "      <td>...</td>\n",
       "      <td>...</td>\n",
       "      <td>...</td>\n",
       "      <td>...</td>\n",
       "      <td>...</td>\n",
       "      <td>...</td>\n",
       "      <td>...</td>\n",
       "      <td>...</td>\n",
       "    </tr>\n",
       "    <tr>\n",
       "      <th>12350</th>\n",
       "      <td>3044013</td>\n",
       "      <td>\"2022-11-30 11:51:00\"</td>\n",
       "      <td>onixcapital</td>\n",
       "      <td>Uma noite de encontros e muito conhecimento on...</td>\n",
       "      <td>NEUTRAL</td>\n",
       "      <td>marcação</td>\n",
       "      <td>1</td>\n",
       "      <td>54</td>\n",
       "      <td>https://www.instagram.com/reel/CllsqI7goSC/</td>\n",
       "      <td>0</td>\n",
       "      <td>0</td>\n",
       "    </tr>\n",
       "    <tr>\n",
       "      <th>12351</th>\n",
       "      <td>3044212</td>\n",
       "      <td>\"2022-11-30 12:25:00\"</td>\n",
       "      <td>amgcapitalinvest</td>\n",
       "      <td>Erros financeiros para eliminar antes dos 30 a...</td>\n",
       "      <td>NEUTRAL</td>\n",
       "      <td>marcação</td>\n",
       "      <td>0</td>\n",
       "      <td>39</td>\n",
       "      <td>https://www.instagram.com/p/Cllw0CmNGkX/</td>\n",
       "      <td>0</td>\n",
       "      <td>0</td>\n",
       "    </tr>\n",
       "    <tr>\n",
       "      <th>12352</th>\n",
       "      <td>3044213</td>\n",
       "      <td>\"2022-11-30 12:18:00\"</td>\n",
       "      <td>jayipacderota</td>\n",
       "      <td>Estou muito grato por todo o esforço que você ...</td>\n",
       "      <td>POSITIVE</td>\n",
       "      <td>comentário</td>\n",
       "      <td>1</td>\n",
       "      <td>52</td>\n",
       "      <td>https://www.instagram.com/p/CllkSBOuKlJ/#17960...</td>\n",
       "      <td>0</td>\n",
       "      <td>0</td>\n",
       "    </tr>\n",
       "    <tr>\n",
       "      <th>12353</th>\n",
       "      <td>3044412</td>\n",
       "      <td>\"2022-11-30 12:50:00\"</td>\n",
       "      <td>moinho_cultural</td>\n",
       "      <td>\"👉GUADAKAN está chegando!!!!  A aula pública e...</td>\n",
       "      <td>NEUTRAL</td>\n",
       "      <td>marcação</td>\n",
       "      <td>0</td>\n",
       "      <td>43</td>\n",
       "      <td>https://www.instagram.com/reel/ClluX-cAoaf/</td>\n",
       "      <td>0</td>\n",
       "      <td>0</td>\n",
       "    </tr>\n",
       "    <tr>\n",
       "      <th>12354</th>\n",
       "      <td>3045012</td>\n",
       "      <td>\"2022-11-30 14:27:00\"</td>\n",
       "      <td>bfmarilia</td>\n",
       "      <td>@btgpactual pq o morning call não está mais ap...</td>\n",
       "      <td>NEGATIVE</td>\n",
       "      <td>comentário</td>\n",
       "      <td>0</td>\n",
       "      <td>28</td>\n",
       "      <td>https://www.instagram.com/p/CllkSBOuKlJ/#17975...</td>\n",
       "      <td>0</td>\n",
       "      <td>0</td>\n",
       "    </tr>\n",
       "  </tbody>\n",
       "</table>\n",
       "<p>12355 rows × 11 columns</p>\n",
       "</div>"
      ],
      "text/plain": [
       "            id          dataPublicada             autor  \\\n",
       "0            1  \"2022-03-04 09:38:00\"        v8_capital   \n",
       "1            2  \"2022-03-04 09:29:00\"     winthegame_of   \n",
       "2            3  \"2022-03-04 09:20:00\"        marta_bego   \n",
       "3            4  \"2022-03-04 08:36:00\"        lmviapiana   \n",
       "4            5  \"2022-03-03 21:10:00\"      vanilson_dos   \n",
       "...        ...                    ...               ...   \n",
       "12350  3044013  \"2022-11-30 11:51:00\"       onixcapital   \n",
       "12351  3044212  \"2022-11-30 12:25:00\"  amgcapitalinvest   \n",
       "12352  3044213  \"2022-11-30 12:18:00\"     jayipacderota   \n",
       "12353  3044412  \"2022-11-30 12:50:00\"   moinho_cultural   \n",
       "12354  3045012  \"2022-11-30 14:27:00\"         bfmarilia   \n",
       "\n",
       "                                                   texto sentimento  \\\n",
       "0      Confira os resultados dos nossos fundos no mês...    NEUTRAL   \n",
       "1      A Alvarez & Marsal estará conosco no Sportainm...    NEUTRAL   \n",
       "2      #Repost btgpactual with make_repost ・・・ Entend...    NEUTRAL   \n",
       "3                                   Minuto touro de ouro   POSITIVE   \n",
       "4                                       @ricktolledo Sim    NEUTRAL   \n",
       "...                                                  ...        ...   \n",
       "12350  Uma noite de encontros e muito conhecimento on...    NEUTRAL   \n",
       "12351  Erros financeiros para eliminar antes dos 30 a...    NEUTRAL   \n",
       "12352  Estou muito grato por todo o esforço que você ...   POSITIVE   \n",
       "12353  \"👉GUADAKAN está chegando!!!!  A aula pública e...    NEUTRAL   \n",
       "12354  @btgpactual pq o morning call não está mais ap...   NEGATIVE   \n",
       "\n",
       "      tipoInteracao  anomalia  probabilidadeAnomalia  \\\n",
       "0          marcação         1                     52   \n",
       "1          marcação         0                     43   \n",
       "2          marcação         0                     45   \n",
       "3        comentário         0                     38   \n",
       "4          resposta         0                     17   \n",
       "...             ...       ...                    ...   \n",
       "12350      marcação         1                     54   \n",
       "12351      marcação         0                     39   \n",
       "12352    comentário         1                     52   \n",
       "12353      marcação         0                     43   \n",
       "12354    comentário         0                     28   \n",
       "\n",
       "                                                linkPost  processado  \\\n",
       "0               https://www.instagram.com/p/CarqO6drRux/           0   \n",
       "1               https://www.instagram.com/p/CarpQUluh7z/           0   \n",
       "2               https://www.instagram.com/p/CaroK9Nu8tC/           0   \n",
       "3      https://www.instagram.com/p/CapXhB5Lvas/#17977...           0   \n",
       "4      https://www.instagram.com/p/CapXhB5Lvas/#17842...           0   \n",
       "...                                                  ...         ...   \n",
       "12350        https://www.instagram.com/reel/CllsqI7goSC/           0   \n",
       "12351           https://www.instagram.com/p/Cllw0CmNGkX/           0   \n",
       "12352  https://www.instagram.com/p/CllkSBOuKlJ/#17960...           0   \n",
       "12353        https://www.instagram.com/reel/ClluX-cAoaf/           0   \n",
       "12354  https://www.instagram.com/p/CllkSBOuKlJ/#17975...           0   \n",
       "\n",
       "       contemHyperlink  \n",
       "0                    0  \n",
       "1                    0  \n",
       "2                    0  \n",
       "3                    0  \n",
       "4                    0  \n",
       "...                ...  \n",
       "12350                0  \n",
       "12351                0  \n",
       "12352                0  \n",
       "12353                0  \n",
       "12354                0  \n",
       "\n",
       "[12355 rows x 11 columns]"
      ]
     },
     "execution_count": 6,
     "metadata": {},
     "output_type": "execute_result"
    }
   ],
   "source": [
    "novasColunas = {'\"dataPublicada\"': 'dataPublicada', '\"autor\"': 'autor', '\"texto\"': 'texto', '\"sentimento\"':'sentimento', '\"tipoInteracao\"':'tipoInteracao', '\"anomalia\"':'anomalia', '\"probabilidadeAnomalia\"': 'probabilidadeAnomalia', '\"linkPost\"':'linkPost', '\"processado\"': 'processado', '\"contemHyperlink\"': 'contemHyperlink'}\n",
    "df = df.rename(columns=novasColunas)\n",
    "df\n"
   ]
  },
  {
   "cell_type": "markdown",
   "metadata": {
    "id": "rHbPMmMO-2KA"
   },
   "source": [
    "##### Remoção de colunas que não possuem textos"
   ]
  },
  {
   "cell_type": "code",
   "execution_count": 7,
   "metadata": {
    "id": "ze4iWGOObbbH"
   },
   "outputs": [
    {
     "data": {
      "text/html": [
       "<div>\n",
       "<style scoped>\n",
       "    .dataframe tbody tr th:only-of-type {\n",
       "        vertical-align: middle;\n",
       "    }\n",
       "\n",
       "    .dataframe tbody tr th {\n",
       "        vertical-align: top;\n",
       "    }\n",
       "\n",
       "    .dataframe thead th {\n",
       "        text-align: right;\n",
       "    }\n",
       "</style>\n",
       "<table border=\"1\" class=\"dataframe\">\n",
       "  <thead>\n",
       "    <tr style=\"text-align: right;\">\n",
       "      <th></th>\n",
       "      <th>id</th>\n",
       "      <th>dataPublicada</th>\n",
       "      <th>autor</th>\n",
       "      <th>texto</th>\n",
       "      <th>sentimento</th>\n",
       "      <th>tipoInteracao</th>\n",
       "      <th>anomalia</th>\n",
       "      <th>probabilidadeAnomalia</th>\n",
       "      <th>linkPost</th>\n",
       "      <th>processado</th>\n",
       "      <th>contemHyperlink</th>\n",
       "    </tr>\n",
       "  </thead>\n",
       "  <tbody>\n",
       "    <tr>\n",
       "      <th>0</th>\n",
       "      <td>1</td>\n",
       "      <td>\"2022-03-04 09:38:00\"</td>\n",
       "      <td>v8_capital</td>\n",
       "      <td>Confira os resultados dos nossos fundos no mês...</td>\n",
       "      <td>NEUTRAL</td>\n",
       "      <td>marcação</td>\n",
       "      <td>1</td>\n",
       "      <td>52</td>\n",
       "      <td>https://www.instagram.com/p/CarqO6drRux/</td>\n",
       "      <td>0</td>\n",
       "      <td>0</td>\n",
       "    </tr>\n",
       "    <tr>\n",
       "      <th>1</th>\n",
       "      <td>2</td>\n",
       "      <td>\"2022-03-04 09:29:00\"</td>\n",
       "      <td>winthegame_of</td>\n",
       "      <td>A Alvarez &amp; Marsal estará conosco no Sportainm...</td>\n",
       "      <td>NEUTRAL</td>\n",
       "      <td>marcação</td>\n",
       "      <td>0</td>\n",
       "      <td>43</td>\n",
       "      <td>https://www.instagram.com/p/CarpQUluh7z/</td>\n",
       "      <td>0</td>\n",
       "      <td>0</td>\n",
       "    </tr>\n",
       "    <tr>\n",
       "      <th>2</th>\n",
       "      <td>3</td>\n",
       "      <td>\"2022-03-04 09:20:00\"</td>\n",
       "      <td>marta_bego</td>\n",
       "      <td>#Repost btgpactual with make_repost ・・・ Entend...</td>\n",
       "      <td>NEUTRAL</td>\n",
       "      <td>marcação</td>\n",
       "      <td>0</td>\n",
       "      <td>45</td>\n",
       "      <td>https://www.instagram.com/p/CaroK9Nu8tC/</td>\n",
       "      <td>0</td>\n",
       "      <td>0</td>\n",
       "    </tr>\n",
       "    <tr>\n",
       "      <th>3</th>\n",
       "      <td>4</td>\n",
       "      <td>\"2022-03-04 08:36:00\"</td>\n",
       "      <td>lmviapiana</td>\n",
       "      <td>Minuto touro de ouro</td>\n",
       "      <td>POSITIVE</td>\n",
       "      <td>comentário</td>\n",
       "      <td>0</td>\n",
       "      <td>38</td>\n",
       "      <td>https://www.instagram.com/p/CapXhB5Lvas/#17977...</td>\n",
       "      <td>0</td>\n",
       "      <td>0</td>\n",
       "    </tr>\n",
       "    <tr>\n",
       "      <th>4</th>\n",
       "      <td>5</td>\n",
       "      <td>\"2022-03-03 21:10:00\"</td>\n",
       "      <td>vanilson_dos</td>\n",
       "      <td>@ricktolledo Sim</td>\n",
       "      <td>NEUTRAL</td>\n",
       "      <td>resposta</td>\n",
       "      <td>0</td>\n",
       "      <td>17</td>\n",
       "      <td>https://www.instagram.com/p/CapXhB5Lvas/#17842...</td>\n",
       "      <td>0</td>\n",
       "      <td>0</td>\n",
       "    </tr>\n",
       "    <tr>\n",
       "      <th>...</th>\n",
       "      <td>...</td>\n",
       "      <td>...</td>\n",
       "      <td>...</td>\n",
       "      <td>...</td>\n",
       "      <td>...</td>\n",
       "      <td>...</td>\n",
       "      <td>...</td>\n",
       "      <td>...</td>\n",
       "      <td>...</td>\n",
       "      <td>...</td>\n",
       "      <td>...</td>\n",
       "    </tr>\n",
       "    <tr>\n",
       "      <th>12350</th>\n",
       "      <td>3044013</td>\n",
       "      <td>\"2022-11-30 11:51:00\"</td>\n",
       "      <td>onixcapital</td>\n",
       "      <td>Uma noite de encontros e muito conhecimento on...</td>\n",
       "      <td>NEUTRAL</td>\n",
       "      <td>marcação</td>\n",
       "      <td>1</td>\n",
       "      <td>54</td>\n",
       "      <td>https://www.instagram.com/reel/CllsqI7goSC/</td>\n",
       "      <td>0</td>\n",
       "      <td>0</td>\n",
       "    </tr>\n",
       "    <tr>\n",
       "      <th>12351</th>\n",
       "      <td>3044212</td>\n",
       "      <td>\"2022-11-30 12:25:00\"</td>\n",
       "      <td>amgcapitalinvest</td>\n",
       "      <td>Erros financeiros para eliminar antes dos 30 a...</td>\n",
       "      <td>NEUTRAL</td>\n",
       "      <td>marcação</td>\n",
       "      <td>0</td>\n",
       "      <td>39</td>\n",
       "      <td>https://www.instagram.com/p/Cllw0CmNGkX/</td>\n",
       "      <td>0</td>\n",
       "      <td>0</td>\n",
       "    </tr>\n",
       "    <tr>\n",
       "      <th>12352</th>\n",
       "      <td>3044213</td>\n",
       "      <td>\"2022-11-30 12:18:00\"</td>\n",
       "      <td>jayipacderota</td>\n",
       "      <td>Estou muito grato por todo o esforço que você ...</td>\n",
       "      <td>POSITIVE</td>\n",
       "      <td>comentário</td>\n",
       "      <td>1</td>\n",
       "      <td>52</td>\n",
       "      <td>https://www.instagram.com/p/CllkSBOuKlJ/#17960...</td>\n",
       "      <td>0</td>\n",
       "      <td>0</td>\n",
       "    </tr>\n",
       "    <tr>\n",
       "      <th>12353</th>\n",
       "      <td>3044412</td>\n",
       "      <td>\"2022-11-30 12:50:00\"</td>\n",
       "      <td>moinho_cultural</td>\n",
       "      <td>\"👉GUADAKAN está chegando!!!!  A aula pública e...</td>\n",
       "      <td>NEUTRAL</td>\n",
       "      <td>marcação</td>\n",
       "      <td>0</td>\n",
       "      <td>43</td>\n",
       "      <td>https://www.instagram.com/reel/ClluX-cAoaf/</td>\n",
       "      <td>0</td>\n",
       "      <td>0</td>\n",
       "    </tr>\n",
       "    <tr>\n",
       "      <th>12354</th>\n",
       "      <td>3045012</td>\n",
       "      <td>\"2022-11-30 14:27:00\"</td>\n",
       "      <td>bfmarilia</td>\n",
       "      <td>@btgpactual pq o morning call não está mais ap...</td>\n",
       "      <td>NEGATIVE</td>\n",
       "      <td>comentário</td>\n",
       "      <td>0</td>\n",
       "      <td>28</td>\n",
       "      <td>https://www.instagram.com/p/CllkSBOuKlJ/#17975...</td>\n",
       "      <td>0</td>\n",
       "      <td>0</td>\n",
       "    </tr>\n",
       "  </tbody>\n",
       "</table>\n",
       "<p>12355 rows × 11 columns</p>\n",
       "</div>"
      ],
      "text/plain": [
       "            id          dataPublicada             autor  \\\n",
       "0            1  \"2022-03-04 09:38:00\"        v8_capital   \n",
       "1            2  \"2022-03-04 09:29:00\"     winthegame_of   \n",
       "2            3  \"2022-03-04 09:20:00\"        marta_bego   \n",
       "3            4  \"2022-03-04 08:36:00\"        lmviapiana   \n",
       "4            5  \"2022-03-03 21:10:00\"      vanilson_dos   \n",
       "...        ...                    ...               ...   \n",
       "12350  3044013  \"2022-11-30 11:51:00\"       onixcapital   \n",
       "12351  3044212  \"2022-11-30 12:25:00\"  amgcapitalinvest   \n",
       "12352  3044213  \"2022-11-30 12:18:00\"     jayipacderota   \n",
       "12353  3044412  \"2022-11-30 12:50:00\"   moinho_cultural   \n",
       "12354  3045012  \"2022-11-30 14:27:00\"         bfmarilia   \n",
       "\n",
       "                                                   texto sentimento  \\\n",
       "0      Confira os resultados dos nossos fundos no mês...    NEUTRAL   \n",
       "1      A Alvarez & Marsal estará conosco no Sportainm...    NEUTRAL   \n",
       "2      #Repost btgpactual with make_repost ・・・ Entend...    NEUTRAL   \n",
       "3                                   Minuto touro de ouro   POSITIVE   \n",
       "4                                       @ricktolledo Sim    NEUTRAL   \n",
       "...                                                  ...        ...   \n",
       "12350  Uma noite de encontros e muito conhecimento on...    NEUTRAL   \n",
       "12351  Erros financeiros para eliminar antes dos 30 a...    NEUTRAL   \n",
       "12352  Estou muito grato por todo o esforço que você ...   POSITIVE   \n",
       "12353  \"👉GUADAKAN está chegando!!!!  A aula pública e...    NEUTRAL   \n",
       "12354  @btgpactual pq o morning call não está mais ap...   NEGATIVE   \n",
       "\n",
       "      tipoInteracao  anomalia  probabilidadeAnomalia  \\\n",
       "0          marcação         1                     52   \n",
       "1          marcação         0                     43   \n",
       "2          marcação         0                     45   \n",
       "3        comentário         0                     38   \n",
       "4          resposta         0                     17   \n",
       "...             ...       ...                    ...   \n",
       "12350      marcação         1                     54   \n",
       "12351      marcação         0                     39   \n",
       "12352    comentário         1                     52   \n",
       "12353      marcação         0                     43   \n",
       "12354    comentário         0                     28   \n",
       "\n",
       "                                                linkPost  processado  \\\n",
       "0               https://www.instagram.com/p/CarqO6drRux/           0   \n",
       "1               https://www.instagram.com/p/CarpQUluh7z/           0   \n",
       "2               https://www.instagram.com/p/CaroK9Nu8tC/           0   \n",
       "3      https://www.instagram.com/p/CapXhB5Lvas/#17977...           0   \n",
       "4      https://www.instagram.com/p/CapXhB5Lvas/#17842...           0   \n",
       "...                                                  ...         ...   \n",
       "12350        https://www.instagram.com/reel/CllsqI7goSC/           0   \n",
       "12351           https://www.instagram.com/p/Cllw0CmNGkX/           0   \n",
       "12352  https://www.instagram.com/p/CllkSBOuKlJ/#17960...           0   \n",
       "12353        https://www.instagram.com/reel/ClluX-cAoaf/           0   \n",
       "12354  https://www.instagram.com/p/CllkSBOuKlJ/#17975...           0   \n",
       "\n",
       "       contemHyperlink  \n",
       "0                    0  \n",
       "1                    0  \n",
       "2                    0  \n",
       "3                    0  \n",
       "4                    0  \n",
       "...                ...  \n",
       "12350                0  \n",
       "12351                0  \n",
       "12352                0  \n",
       "12353                0  \n",
       "12354                0  \n",
       "\n",
       "[12355 rows x 11 columns]"
      ]
     },
     "execution_count": 7,
     "metadata": {},
     "output_type": "execute_result"
    }
   ],
   "source": [
    "#remoção de todas as linhas que não possuem a coluna texto:\n",
    "df = df.dropna(subset=['texto'])\n",
    "df"
   ]
  },
  {
   "cell_type": "markdown",
   "metadata": {
    "id": "Lqdjt7Sy-7Bf"
   },
   "source": [
    "##### Remoção de linhas que possuem anomalias"
   ]
  },
  {
   "cell_type": "code",
   "execution_count": 8,
   "metadata": {
    "id": "mrYs9wNj_Afg"
   },
   "outputs": [],
   "source": [
    "df = df[df['anomalia'] != 1]"
   ]
  },
  {
   "cell_type": "markdown",
   "metadata": {
    "id": "h4Ykd1VX_oNW"
   },
   "source": [
    "##### Remoção de comentários do banco BTG"
   ]
  },
  {
   "cell_type": "code",
   "execution_count": 9,
   "metadata": {
    "id": "__mfxIMzAjfp"
   },
   "outputs": [
    {
     "data": {
      "text/html": [
       "<div>\n",
       "<style scoped>\n",
       "    .dataframe tbody tr th:only-of-type {\n",
       "        vertical-align: middle;\n",
       "    }\n",
       "\n",
       "    .dataframe tbody tr th {\n",
       "        vertical-align: top;\n",
       "    }\n",
       "\n",
       "    .dataframe thead th {\n",
       "        text-align: right;\n",
       "    }\n",
       "</style>\n",
       "<table border=\"1\" class=\"dataframe\">\n",
       "  <thead>\n",
       "    <tr style=\"text-align: right;\">\n",
       "      <th></th>\n",
       "      <th>id</th>\n",
       "      <th>dataPublicada</th>\n",
       "      <th>autor</th>\n",
       "      <th>texto</th>\n",
       "      <th>sentimento</th>\n",
       "      <th>tipoInteracao</th>\n",
       "      <th>anomalia</th>\n",
       "      <th>probabilidadeAnomalia</th>\n",
       "      <th>linkPost</th>\n",
       "      <th>processado</th>\n",
       "      <th>contemHyperlink</th>\n",
       "    </tr>\n",
       "  </thead>\n",
       "  <tbody>\n",
       "    <tr>\n",
       "      <th>1</th>\n",
       "      <td>2</td>\n",
       "      <td>\"2022-03-04 09:29:00\"</td>\n",
       "      <td>winthegame_of</td>\n",
       "      <td>A Alvarez &amp; Marsal estará conosco no Sportainm...</td>\n",
       "      <td>NEUTRAL</td>\n",
       "      <td>marcação</td>\n",
       "      <td>0</td>\n",
       "      <td>43</td>\n",
       "      <td>https://www.instagram.com/p/CarpQUluh7z/</td>\n",
       "      <td>0</td>\n",
       "      <td>0</td>\n",
       "    </tr>\n",
       "    <tr>\n",
       "      <th>2</th>\n",
       "      <td>3</td>\n",
       "      <td>\"2022-03-04 09:20:00\"</td>\n",
       "      <td>marta_bego</td>\n",
       "      <td>#Repost btgpactual with make_repost ・・・ Entend...</td>\n",
       "      <td>NEUTRAL</td>\n",
       "      <td>marcação</td>\n",
       "      <td>0</td>\n",
       "      <td>45</td>\n",
       "      <td>https://www.instagram.com/p/CaroK9Nu8tC/</td>\n",
       "      <td>0</td>\n",
       "      <td>0</td>\n",
       "    </tr>\n",
       "    <tr>\n",
       "      <th>3</th>\n",
       "      <td>4</td>\n",
       "      <td>\"2022-03-04 08:36:00\"</td>\n",
       "      <td>lmviapiana</td>\n",
       "      <td>Minuto touro de ouro</td>\n",
       "      <td>POSITIVE</td>\n",
       "      <td>comentário</td>\n",
       "      <td>0</td>\n",
       "      <td>38</td>\n",
       "      <td>https://www.instagram.com/p/CapXhB5Lvas/#17977...</td>\n",
       "      <td>0</td>\n",
       "      <td>0</td>\n",
       "    </tr>\n",
       "    <tr>\n",
       "      <th>4</th>\n",
       "      <td>5</td>\n",
       "      <td>\"2022-03-03 21:10:00\"</td>\n",
       "      <td>vanilson_dos</td>\n",
       "      <td>@ricktolledo Sim</td>\n",
       "      <td>NEUTRAL</td>\n",
       "      <td>resposta</td>\n",
       "      <td>0</td>\n",
       "      <td>17</td>\n",
       "      <td>https://www.instagram.com/p/CapXhB5Lvas/#17842...</td>\n",
       "      <td>0</td>\n",
       "      <td>0</td>\n",
       "    </tr>\n",
       "    <tr>\n",
       "      <th>5</th>\n",
       "      <td>6</td>\n",
       "      <td>\"2022-03-03 20:54:00\"</td>\n",
       "      <td>ricktolledo</td>\n",
       "      <td>Queria saber se a Btg banking é a própria btg ...</td>\n",
       "      <td>POSITIVE</td>\n",
       "      <td>comentário</td>\n",
       "      <td>0</td>\n",
       "      <td>20</td>\n",
       "      <td>https://www.instagram.com/p/CapXhB5Lvas/#17935...</td>\n",
       "      <td>0</td>\n",
       "      <td>0</td>\n",
       "    </tr>\n",
       "    <tr>\n",
       "      <th>...</th>\n",
       "      <td>...</td>\n",
       "      <td>...</td>\n",
       "      <td>...</td>\n",
       "      <td>...</td>\n",
       "      <td>...</td>\n",
       "      <td>...</td>\n",
       "      <td>...</td>\n",
       "      <td>...</td>\n",
       "      <td>...</td>\n",
       "      <td>...</td>\n",
       "      <td>...</td>\n",
       "    </tr>\n",
       "    <tr>\n",
       "      <th>12346</th>\n",
       "      <td>3043812</td>\n",
       "      <td>\"2022-11-30 11:27:00\"</td>\n",
       "      <td>eduardocolares</td>\n",
       "      <td>Atendam o telefone pelo amor de Deus</td>\n",
       "      <td>POSITIVE</td>\n",
       "      <td>comentário</td>\n",
       "      <td>0</td>\n",
       "      <td>28</td>\n",
       "      <td>https://www.instagram.com/p/CllkSBOuKlJ/#17960...</td>\n",
       "      <td>0</td>\n",
       "      <td>0</td>\n",
       "    </tr>\n",
       "    <tr>\n",
       "      <th>12349</th>\n",
       "      <td>3044012</td>\n",
       "      <td>\"2022-11-30 12:00:00\"</td>\n",
       "      <td>danielucm</td>\n",
       "      <td>Você sabe quais são os 10 maiores FIIs do merc...</td>\n",
       "      <td>POSITIVE</td>\n",
       "      <td>marcação</td>\n",
       "      <td>0</td>\n",
       "      <td>44</td>\n",
       "      <td>https://www.instagram.com/p/Cllt7_nOTBc/</td>\n",
       "      <td>0</td>\n",
       "      <td>0</td>\n",
       "    </tr>\n",
       "    <tr>\n",
       "      <th>12351</th>\n",
       "      <td>3044212</td>\n",
       "      <td>\"2022-11-30 12:25:00\"</td>\n",
       "      <td>amgcapitalinvest</td>\n",
       "      <td>Erros financeiros para eliminar antes dos 30 a...</td>\n",
       "      <td>NEUTRAL</td>\n",
       "      <td>marcação</td>\n",
       "      <td>0</td>\n",
       "      <td>39</td>\n",
       "      <td>https://www.instagram.com/p/Cllw0CmNGkX/</td>\n",
       "      <td>0</td>\n",
       "      <td>0</td>\n",
       "    </tr>\n",
       "    <tr>\n",
       "      <th>12353</th>\n",
       "      <td>3044412</td>\n",
       "      <td>\"2022-11-30 12:50:00\"</td>\n",
       "      <td>moinho_cultural</td>\n",
       "      <td>\"👉GUADAKAN está chegando!!!!  A aula pública e...</td>\n",
       "      <td>NEUTRAL</td>\n",
       "      <td>marcação</td>\n",
       "      <td>0</td>\n",
       "      <td>43</td>\n",
       "      <td>https://www.instagram.com/reel/ClluX-cAoaf/</td>\n",
       "      <td>0</td>\n",
       "      <td>0</td>\n",
       "    </tr>\n",
       "    <tr>\n",
       "      <th>12354</th>\n",
       "      <td>3045012</td>\n",
       "      <td>\"2022-11-30 14:27:00\"</td>\n",
       "      <td>bfmarilia</td>\n",
       "      <td>@btgpactual pq o morning call não está mais ap...</td>\n",
       "      <td>NEGATIVE</td>\n",
       "      <td>comentário</td>\n",
       "      <td>0</td>\n",
       "      <td>28</td>\n",
       "      <td>https://www.instagram.com/p/CllkSBOuKlJ/#17975...</td>\n",
       "      <td>0</td>\n",
       "      <td>0</td>\n",
       "    </tr>\n",
       "  </tbody>\n",
       "</table>\n",
       "<p>9487 rows × 11 columns</p>\n",
       "</div>"
      ],
      "text/plain": [
       "            id          dataPublicada             autor  \\\n",
       "1            2  \"2022-03-04 09:29:00\"     winthegame_of   \n",
       "2            3  \"2022-03-04 09:20:00\"        marta_bego   \n",
       "3            4  \"2022-03-04 08:36:00\"        lmviapiana   \n",
       "4            5  \"2022-03-03 21:10:00\"      vanilson_dos   \n",
       "5            6  \"2022-03-03 20:54:00\"       ricktolledo   \n",
       "...        ...                    ...               ...   \n",
       "12346  3043812  \"2022-11-30 11:27:00\"    eduardocolares   \n",
       "12349  3044012  \"2022-11-30 12:00:00\"         danielucm   \n",
       "12351  3044212  \"2022-11-30 12:25:00\"  amgcapitalinvest   \n",
       "12353  3044412  \"2022-11-30 12:50:00\"   moinho_cultural   \n",
       "12354  3045012  \"2022-11-30 14:27:00\"         bfmarilia   \n",
       "\n",
       "                                                   texto sentimento  \\\n",
       "1      A Alvarez & Marsal estará conosco no Sportainm...    NEUTRAL   \n",
       "2      #Repost btgpactual with make_repost ・・・ Entend...    NEUTRAL   \n",
       "3                                   Minuto touro de ouro   POSITIVE   \n",
       "4                                       @ricktolledo Sim    NEUTRAL   \n",
       "5      Queria saber se a Btg banking é a própria btg ...   POSITIVE   \n",
       "...                                                  ...        ...   \n",
       "12346               Atendam o telefone pelo amor de Deus   POSITIVE   \n",
       "12349  Você sabe quais são os 10 maiores FIIs do merc...   POSITIVE   \n",
       "12351  Erros financeiros para eliminar antes dos 30 a...    NEUTRAL   \n",
       "12353  \"👉GUADAKAN está chegando!!!!  A aula pública e...    NEUTRAL   \n",
       "12354  @btgpactual pq o morning call não está mais ap...   NEGATIVE   \n",
       "\n",
       "      tipoInteracao  anomalia  probabilidadeAnomalia  \\\n",
       "1          marcação         0                     43   \n",
       "2          marcação         0                     45   \n",
       "3        comentário         0                     38   \n",
       "4          resposta         0                     17   \n",
       "5        comentário         0                     20   \n",
       "...             ...       ...                    ...   \n",
       "12346    comentário         0                     28   \n",
       "12349      marcação         0                     44   \n",
       "12351      marcação         0                     39   \n",
       "12353      marcação         0                     43   \n",
       "12354    comentário         0                     28   \n",
       "\n",
       "                                                linkPost  processado  \\\n",
       "1               https://www.instagram.com/p/CarpQUluh7z/           0   \n",
       "2               https://www.instagram.com/p/CaroK9Nu8tC/           0   \n",
       "3      https://www.instagram.com/p/CapXhB5Lvas/#17977...           0   \n",
       "4      https://www.instagram.com/p/CapXhB5Lvas/#17842...           0   \n",
       "5      https://www.instagram.com/p/CapXhB5Lvas/#17935...           0   \n",
       "...                                                  ...         ...   \n",
       "12346  https://www.instagram.com/p/CllkSBOuKlJ/#17960...           0   \n",
       "12349           https://www.instagram.com/p/Cllt7_nOTBc/           0   \n",
       "12351           https://www.instagram.com/p/Cllw0CmNGkX/           0   \n",
       "12353        https://www.instagram.com/reel/ClluX-cAoaf/           0   \n",
       "12354  https://www.instagram.com/p/CllkSBOuKlJ/#17975...           0   \n",
       "\n",
       "       contemHyperlink  \n",
       "1                    0  \n",
       "2                    0  \n",
       "3                    0  \n",
       "4                    0  \n",
       "5                    0  \n",
       "...                ...  \n",
       "12346                0  \n",
       "12349                0  \n",
       "12351                0  \n",
       "12353                0  \n",
       "12354                0  \n",
       "\n",
       "[9487 rows x 11 columns]"
      ]
     },
     "execution_count": 9,
     "metadata": {},
     "output_type": "execute_result"
    }
   ],
   "source": [
    "df = df[df['autor'] != 'btgpactual']\n",
    "df"
   ]
  },
  {
   "cell_type": "markdown",
   "metadata": {
    "id": "ROTgYolWEQuh"
   },
   "source": [
    "##### Remoção de linhas que possuem hyperlink"
   ]
  },
  {
   "cell_type": "code",
   "execution_count": 10,
   "metadata": {
    "id": "SAiVGFoHEXZz"
   },
   "outputs": [
    {
     "data": {
      "text/html": [
       "<div>\n",
       "<style scoped>\n",
       "    .dataframe tbody tr th:only-of-type {\n",
       "        vertical-align: middle;\n",
       "    }\n",
       "\n",
       "    .dataframe tbody tr th {\n",
       "        vertical-align: top;\n",
       "    }\n",
       "\n",
       "    .dataframe thead th {\n",
       "        text-align: right;\n",
       "    }\n",
       "</style>\n",
       "<table border=\"1\" class=\"dataframe\">\n",
       "  <thead>\n",
       "    <tr style=\"text-align: right;\">\n",
       "      <th></th>\n",
       "      <th>id</th>\n",
       "      <th>dataPublicada</th>\n",
       "      <th>autor</th>\n",
       "      <th>texto</th>\n",
       "      <th>sentimento</th>\n",
       "      <th>tipoInteracao</th>\n",
       "      <th>anomalia</th>\n",
       "      <th>probabilidadeAnomalia</th>\n",
       "      <th>linkPost</th>\n",
       "      <th>processado</th>\n",
       "      <th>contemHyperlink</th>\n",
       "    </tr>\n",
       "  </thead>\n",
       "  <tbody>\n",
       "    <tr>\n",
       "      <th>1</th>\n",
       "      <td>2</td>\n",
       "      <td>\"2022-03-04 09:29:00\"</td>\n",
       "      <td>winthegame_of</td>\n",
       "      <td>A Alvarez &amp; Marsal estará conosco no Sportainm...</td>\n",
       "      <td>NEUTRAL</td>\n",
       "      <td>marcação</td>\n",
       "      <td>0</td>\n",
       "      <td>43</td>\n",
       "      <td>https://www.instagram.com/p/CarpQUluh7z/</td>\n",
       "      <td>0</td>\n",
       "      <td>0</td>\n",
       "    </tr>\n",
       "    <tr>\n",
       "      <th>2</th>\n",
       "      <td>3</td>\n",
       "      <td>\"2022-03-04 09:20:00\"</td>\n",
       "      <td>marta_bego</td>\n",
       "      <td>#Repost btgpactual with make_repost ・・・ Entend...</td>\n",
       "      <td>NEUTRAL</td>\n",
       "      <td>marcação</td>\n",
       "      <td>0</td>\n",
       "      <td>45</td>\n",
       "      <td>https://www.instagram.com/p/CaroK9Nu8tC/</td>\n",
       "      <td>0</td>\n",
       "      <td>0</td>\n",
       "    </tr>\n",
       "    <tr>\n",
       "      <th>3</th>\n",
       "      <td>4</td>\n",
       "      <td>\"2022-03-04 08:36:00\"</td>\n",
       "      <td>lmviapiana</td>\n",
       "      <td>Minuto touro de ouro</td>\n",
       "      <td>POSITIVE</td>\n",
       "      <td>comentário</td>\n",
       "      <td>0</td>\n",
       "      <td>38</td>\n",
       "      <td>https://www.instagram.com/p/CapXhB5Lvas/#17977...</td>\n",
       "      <td>0</td>\n",
       "      <td>0</td>\n",
       "    </tr>\n",
       "    <tr>\n",
       "      <th>4</th>\n",
       "      <td>5</td>\n",
       "      <td>\"2022-03-03 21:10:00\"</td>\n",
       "      <td>vanilson_dos</td>\n",
       "      <td>@ricktolledo Sim</td>\n",
       "      <td>NEUTRAL</td>\n",
       "      <td>resposta</td>\n",
       "      <td>0</td>\n",
       "      <td>17</td>\n",
       "      <td>https://www.instagram.com/p/CapXhB5Lvas/#17842...</td>\n",
       "      <td>0</td>\n",
       "      <td>0</td>\n",
       "    </tr>\n",
       "    <tr>\n",
       "      <th>5</th>\n",
       "      <td>6</td>\n",
       "      <td>\"2022-03-03 20:54:00\"</td>\n",
       "      <td>ricktolledo</td>\n",
       "      <td>Queria saber se a Btg banking é a própria btg ...</td>\n",
       "      <td>POSITIVE</td>\n",
       "      <td>comentário</td>\n",
       "      <td>0</td>\n",
       "      <td>20</td>\n",
       "      <td>https://www.instagram.com/p/CapXhB5Lvas/#17935...</td>\n",
       "      <td>0</td>\n",
       "      <td>0</td>\n",
       "    </tr>\n",
       "    <tr>\n",
       "      <th>...</th>\n",
       "      <td>...</td>\n",
       "      <td>...</td>\n",
       "      <td>...</td>\n",
       "      <td>...</td>\n",
       "      <td>...</td>\n",
       "      <td>...</td>\n",
       "      <td>...</td>\n",
       "      <td>...</td>\n",
       "      <td>...</td>\n",
       "      <td>...</td>\n",
       "      <td>...</td>\n",
       "    </tr>\n",
       "    <tr>\n",
       "      <th>12346</th>\n",
       "      <td>3043812</td>\n",
       "      <td>\"2022-11-30 11:27:00\"</td>\n",
       "      <td>eduardocolares</td>\n",
       "      <td>Atendam o telefone pelo amor de Deus</td>\n",
       "      <td>POSITIVE</td>\n",
       "      <td>comentário</td>\n",
       "      <td>0</td>\n",
       "      <td>28</td>\n",
       "      <td>https://www.instagram.com/p/CllkSBOuKlJ/#17960...</td>\n",
       "      <td>0</td>\n",
       "      <td>0</td>\n",
       "    </tr>\n",
       "    <tr>\n",
       "      <th>12349</th>\n",
       "      <td>3044012</td>\n",
       "      <td>\"2022-11-30 12:00:00\"</td>\n",
       "      <td>danielucm</td>\n",
       "      <td>Você sabe quais são os 10 maiores FIIs do merc...</td>\n",
       "      <td>POSITIVE</td>\n",
       "      <td>marcação</td>\n",
       "      <td>0</td>\n",
       "      <td>44</td>\n",
       "      <td>https://www.instagram.com/p/Cllt7_nOTBc/</td>\n",
       "      <td>0</td>\n",
       "      <td>0</td>\n",
       "    </tr>\n",
       "    <tr>\n",
       "      <th>12351</th>\n",
       "      <td>3044212</td>\n",
       "      <td>\"2022-11-30 12:25:00\"</td>\n",
       "      <td>amgcapitalinvest</td>\n",
       "      <td>Erros financeiros para eliminar antes dos 30 a...</td>\n",
       "      <td>NEUTRAL</td>\n",
       "      <td>marcação</td>\n",
       "      <td>0</td>\n",
       "      <td>39</td>\n",
       "      <td>https://www.instagram.com/p/Cllw0CmNGkX/</td>\n",
       "      <td>0</td>\n",
       "      <td>0</td>\n",
       "    </tr>\n",
       "    <tr>\n",
       "      <th>12353</th>\n",
       "      <td>3044412</td>\n",
       "      <td>\"2022-11-30 12:50:00\"</td>\n",
       "      <td>moinho_cultural</td>\n",
       "      <td>\"👉GUADAKAN está chegando!!!!  A aula pública e...</td>\n",
       "      <td>NEUTRAL</td>\n",
       "      <td>marcação</td>\n",
       "      <td>0</td>\n",
       "      <td>43</td>\n",
       "      <td>https://www.instagram.com/reel/ClluX-cAoaf/</td>\n",
       "      <td>0</td>\n",
       "      <td>0</td>\n",
       "    </tr>\n",
       "    <tr>\n",
       "      <th>12354</th>\n",
       "      <td>3045012</td>\n",
       "      <td>\"2022-11-30 14:27:00\"</td>\n",
       "      <td>bfmarilia</td>\n",
       "      <td>@btgpactual pq o morning call não está mais ap...</td>\n",
       "      <td>NEGATIVE</td>\n",
       "      <td>comentário</td>\n",
       "      <td>0</td>\n",
       "      <td>28</td>\n",
       "      <td>https://www.instagram.com/p/CllkSBOuKlJ/#17975...</td>\n",
       "      <td>0</td>\n",
       "      <td>0</td>\n",
       "    </tr>\n",
       "  </tbody>\n",
       "</table>\n",
       "<p>9487 rows × 11 columns</p>\n",
       "</div>"
      ],
      "text/plain": [
       "            id          dataPublicada             autor  \\\n",
       "1            2  \"2022-03-04 09:29:00\"     winthegame_of   \n",
       "2            3  \"2022-03-04 09:20:00\"        marta_bego   \n",
       "3            4  \"2022-03-04 08:36:00\"        lmviapiana   \n",
       "4            5  \"2022-03-03 21:10:00\"      vanilson_dos   \n",
       "5            6  \"2022-03-03 20:54:00\"       ricktolledo   \n",
       "...        ...                    ...               ...   \n",
       "12346  3043812  \"2022-11-30 11:27:00\"    eduardocolares   \n",
       "12349  3044012  \"2022-11-30 12:00:00\"         danielucm   \n",
       "12351  3044212  \"2022-11-30 12:25:00\"  amgcapitalinvest   \n",
       "12353  3044412  \"2022-11-30 12:50:00\"   moinho_cultural   \n",
       "12354  3045012  \"2022-11-30 14:27:00\"         bfmarilia   \n",
       "\n",
       "                                                   texto sentimento  \\\n",
       "1      A Alvarez & Marsal estará conosco no Sportainm...    NEUTRAL   \n",
       "2      #Repost btgpactual with make_repost ・・・ Entend...    NEUTRAL   \n",
       "3                                   Minuto touro de ouro   POSITIVE   \n",
       "4                                       @ricktolledo Sim    NEUTRAL   \n",
       "5      Queria saber se a Btg banking é a própria btg ...   POSITIVE   \n",
       "...                                                  ...        ...   \n",
       "12346               Atendam o telefone pelo amor de Deus   POSITIVE   \n",
       "12349  Você sabe quais são os 10 maiores FIIs do merc...   POSITIVE   \n",
       "12351  Erros financeiros para eliminar antes dos 30 a...    NEUTRAL   \n",
       "12353  \"👉GUADAKAN está chegando!!!!  A aula pública e...    NEUTRAL   \n",
       "12354  @btgpactual pq o morning call não está mais ap...   NEGATIVE   \n",
       "\n",
       "      tipoInteracao  anomalia  probabilidadeAnomalia  \\\n",
       "1          marcação         0                     43   \n",
       "2          marcação         0                     45   \n",
       "3        comentário         0                     38   \n",
       "4          resposta         0                     17   \n",
       "5        comentário         0                     20   \n",
       "...             ...       ...                    ...   \n",
       "12346    comentário         0                     28   \n",
       "12349      marcação         0                     44   \n",
       "12351      marcação         0                     39   \n",
       "12353      marcação         0                     43   \n",
       "12354    comentário         0                     28   \n",
       "\n",
       "                                                linkPost  processado  \\\n",
       "1               https://www.instagram.com/p/CarpQUluh7z/           0   \n",
       "2               https://www.instagram.com/p/CaroK9Nu8tC/           0   \n",
       "3      https://www.instagram.com/p/CapXhB5Lvas/#17977...           0   \n",
       "4      https://www.instagram.com/p/CapXhB5Lvas/#17842...           0   \n",
       "5      https://www.instagram.com/p/CapXhB5Lvas/#17935...           0   \n",
       "...                                                  ...         ...   \n",
       "12346  https://www.instagram.com/p/CllkSBOuKlJ/#17960...           0   \n",
       "12349           https://www.instagram.com/p/Cllt7_nOTBc/           0   \n",
       "12351           https://www.instagram.com/p/Cllw0CmNGkX/           0   \n",
       "12353        https://www.instagram.com/reel/ClluX-cAoaf/           0   \n",
       "12354  https://www.instagram.com/p/CllkSBOuKlJ/#17975...           0   \n",
       "\n",
       "       contemHyperlink  \n",
       "1                    0  \n",
       "2                    0  \n",
       "3                    0  \n",
       "4                    0  \n",
       "5                    0  \n",
       "...                ...  \n",
       "12346                0  \n",
       "12349                0  \n",
       "12351                0  \n",
       "12353                0  \n",
       "12354                0  \n",
       "\n",
       "[9487 rows x 11 columns]"
      ]
     },
     "execution_count": 10,
     "metadata": {},
     "output_type": "execute_result"
    }
   ],
   "source": [
    "df = df[df['contemHyperlink'] != 1]\n",
    "df"
   ]
  },
  {
   "cell_type": "markdown",
   "metadata": {
    "id": "4wmnDZD5FlT_"
   },
   "source": [
    "##### Remoção de linhas que possuem probabilidade de anomalia maior que 50%"
   ]
  },
  {
   "cell_type": "code",
   "execution_count": 11,
   "metadata": {
    "id": "-ldSDk9XFpYl"
   },
   "outputs": [
    {
     "data": {
      "text/html": [
       "<div>\n",
       "<style scoped>\n",
       "    .dataframe tbody tr th:only-of-type {\n",
       "        vertical-align: middle;\n",
       "    }\n",
       "\n",
       "    .dataframe tbody tr th {\n",
       "        vertical-align: top;\n",
       "    }\n",
       "\n",
       "    .dataframe thead th {\n",
       "        text-align: right;\n",
       "    }\n",
       "</style>\n",
       "<table border=\"1\" class=\"dataframe\">\n",
       "  <thead>\n",
       "    <tr style=\"text-align: right;\">\n",
       "      <th></th>\n",
       "      <th>id</th>\n",
       "      <th>dataPublicada</th>\n",
       "      <th>autor</th>\n",
       "      <th>texto</th>\n",
       "      <th>sentimento</th>\n",
       "      <th>tipoInteracao</th>\n",
       "      <th>anomalia</th>\n",
       "      <th>probabilidadeAnomalia</th>\n",
       "      <th>linkPost</th>\n",
       "      <th>processado</th>\n",
       "      <th>contemHyperlink</th>\n",
       "    </tr>\n",
       "  </thead>\n",
       "  <tbody>\n",
       "    <tr>\n",
       "      <th>0</th>\n",
       "      <td>2</td>\n",
       "      <td>\"2022-03-04 09:29:00\"</td>\n",
       "      <td>winthegame_of</td>\n",
       "      <td>A Alvarez &amp; Marsal estará conosco no Sportainm...</td>\n",
       "      <td>NEUTRAL</td>\n",
       "      <td>marcação</td>\n",
       "      <td>0</td>\n",
       "      <td>43</td>\n",
       "      <td>https://www.instagram.com/p/CarpQUluh7z/</td>\n",
       "      <td>0</td>\n",
       "      <td>0</td>\n",
       "    </tr>\n",
       "    <tr>\n",
       "      <th>1</th>\n",
       "      <td>3</td>\n",
       "      <td>\"2022-03-04 09:20:00\"</td>\n",
       "      <td>marta_bego</td>\n",
       "      <td>#Repost btgpactual with make_repost ・・・ Entend...</td>\n",
       "      <td>NEUTRAL</td>\n",
       "      <td>marcação</td>\n",
       "      <td>0</td>\n",
       "      <td>45</td>\n",
       "      <td>https://www.instagram.com/p/CaroK9Nu8tC/</td>\n",
       "      <td>0</td>\n",
       "      <td>0</td>\n",
       "    </tr>\n",
       "    <tr>\n",
       "      <th>2</th>\n",
       "      <td>4</td>\n",
       "      <td>\"2022-03-04 08:36:00\"</td>\n",
       "      <td>lmviapiana</td>\n",
       "      <td>Minuto touro de ouro</td>\n",
       "      <td>POSITIVE</td>\n",
       "      <td>comentário</td>\n",
       "      <td>0</td>\n",
       "      <td>38</td>\n",
       "      <td>https://www.instagram.com/p/CapXhB5Lvas/#17977...</td>\n",
       "      <td>0</td>\n",
       "      <td>0</td>\n",
       "    </tr>\n",
       "    <tr>\n",
       "      <th>3</th>\n",
       "      <td>5</td>\n",
       "      <td>\"2022-03-03 21:10:00\"</td>\n",
       "      <td>vanilson_dos</td>\n",
       "      <td>@ricktolledo Sim</td>\n",
       "      <td>NEUTRAL</td>\n",
       "      <td>resposta</td>\n",
       "      <td>0</td>\n",
       "      <td>17</td>\n",
       "      <td>https://www.instagram.com/p/CapXhB5Lvas/#17842...</td>\n",
       "      <td>0</td>\n",
       "      <td>0</td>\n",
       "    </tr>\n",
       "    <tr>\n",
       "      <th>4</th>\n",
       "      <td>6</td>\n",
       "      <td>\"2022-03-03 20:54:00\"</td>\n",
       "      <td>ricktolledo</td>\n",
       "      <td>Queria saber se a Btg banking é a própria btg ...</td>\n",
       "      <td>POSITIVE</td>\n",
       "      <td>comentário</td>\n",
       "      <td>0</td>\n",
       "      <td>20</td>\n",
       "      <td>https://www.instagram.com/p/CapXhB5Lvas/#17935...</td>\n",
       "      <td>0</td>\n",
       "      <td>0</td>\n",
       "    </tr>\n",
       "    <tr>\n",
       "      <th>...</th>\n",
       "      <td>...</td>\n",
       "      <td>...</td>\n",
       "      <td>...</td>\n",
       "      <td>...</td>\n",
       "      <td>...</td>\n",
       "      <td>...</td>\n",
       "      <td>...</td>\n",
       "      <td>...</td>\n",
       "      <td>...</td>\n",
       "      <td>...</td>\n",
       "      <td>...</td>\n",
       "    </tr>\n",
       "    <tr>\n",
       "      <th>9482</th>\n",
       "      <td>3043812</td>\n",
       "      <td>\"2022-11-30 11:27:00\"</td>\n",
       "      <td>eduardocolares</td>\n",
       "      <td>Atendam o telefone pelo amor de Deus</td>\n",
       "      <td>POSITIVE</td>\n",
       "      <td>comentário</td>\n",
       "      <td>0</td>\n",
       "      <td>28</td>\n",
       "      <td>https://www.instagram.com/p/CllkSBOuKlJ/#17960...</td>\n",
       "      <td>0</td>\n",
       "      <td>0</td>\n",
       "    </tr>\n",
       "    <tr>\n",
       "      <th>9483</th>\n",
       "      <td>3044012</td>\n",
       "      <td>\"2022-11-30 12:00:00\"</td>\n",
       "      <td>danielucm</td>\n",
       "      <td>Você sabe quais são os 10 maiores FIIs do merc...</td>\n",
       "      <td>POSITIVE</td>\n",
       "      <td>marcação</td>\n",
       "      <td>0</td>\n",
       "      <td>44</td>\n",
       "      <td>https://www.instagram.com/p/Cllt7_nOTBc/</td>\n",
       "      <td>0</td>\n",
       "      <td>0</td>\n",
       "    </tr>\n",
       "    <tr>\n",
       "      <th>9484</th>\n",
       "      <td>3044212</td>\n",
       "      <td>\"2022-11-30 12:25:00\"</td>\n",
       "      <td>amgcapitalinvest</td>\n",
       "      <td>Erros financeiros para eliminar antes dos 30 a...</td>\n",
       "      <td>NEUTRAL</td>\n",
       "      <td>marcação</td>\n",
       "      <td>0</td>\n",
       "      <td>39</td>\n",
       "      <td>https://www.instagram.com/p/Cllw0CmNGkX/</td>\n",
       "      <td>0</td>\n",
       "      <td>0</td>\n",
       "    </tr>\n",
       "    <tr>\n",
       "      <th>9485</th>\n",
       "      <td>3044412</td>\n",
       "      <td>\"2022-11-30 12:50:00\"</td>\n",
       "      <td>moinho_cultural</td>\n",
       "      <td>\"👉GUADAKAN está chegando!!!!  A aula pública e...</td>\n",
       "      <td>NEUTRAL</td>\n",
       "      <td>marcação</td>\n",
       "      <td>0</td>\n",
       "      <td>43</td>\n",
       "      <td>https://www.instagram.com/reel/ClluX-cAoaf/</td>\n",
       "      <td>0</td>\n",
       "      <td>0</td>\n",
       "    </tr>\n",
       "    <tr>\n",
       "      <th>9486</th>\n",
       "      <td>3045012</td>\n",
       "      <td>\"2022-11-30 14:27:00\"</td>\n",
       "      <td>bfmarilia</td>\n",
       "      <td>@btgpactual pq o morning call não está mais ap...</td>\n",
       "      <td>NEGATIVE</td>\n",
       "      <td>comentário</td>\n",
       "      <td>0</td>\n",
       "      <td>28</td>\n",
       "      <td>https://www.instagram.com/p/CllkSBOuKlJ/#17975...</td>\n",
       "      <td>0</td>\n",
       "      <td>0</td>\n",
       "    </tr>\n",
       "  </tbody>\n",
       "</table>\n",
       "<p>9487 rows × 11 columns</p>\n",
       "</div>"
      ],
      "text/plain": [
       "           id          dataPublicada             autor  \\\n",
       "0           2  \"2022-03-04 09:29:00\"     winthegame_of   \n",
       "1           3  \"2022-03-04 09:20:00\"        marta_bego   \n",
       "2           4  \"2022-03-04 08:36:00\"        lmviapiana   \n",
       "3           5  \"2022-03-03 21:10:00\"      vanilson_dos   \n",
       "4           6  \"2022-03-03 20:54:00\"       ricktolledo   \n",
       "...       ...                    ...               ...   \n",
       "9482  3043812  \"2022-11-30 11:27:00\"    eduardocolares   \n",
       "9483  3044012  \"2022-11-30 12:00:00\"         danielucm   \n",
       "9484  3044212  \"2022-11-30 12:25:00\"  amgcapitalinvest   \n",
       "9485  3044412  \"2022-11-30 12:50:00\"   moinho_cultural   \n",
       "9486  3045012  \"2022-11-30 14:27:00\"         bfmarilia   \n",
       "\n",
       "                                                  texto sentimento  \\\n",
       "0     A Alvarez & Marsal estará conosco no Sportainm...    NEUTRAL   \n",
       "1     #Repost btgpactual with make_repost ・・・ Entend...    NEUTRAL   \n",
       "2                                  Minuto touro de ouro   POSITIVE   \n",
       "3                                      @ricktolledo Sim    NEUTRAL   \n",
       "4     Queria saber se a Btg banking é a própria btg ...   POSITIVE   \n",
       "...                                                 ...        ...   \n",
       "9482               Atendam o telefone pelo amor de Deus   POSITIVE   \n",
       "9483  Você sabe quais são os 10 maiores FIIs do merc...   POSITIVE   \n",
       "9484  Erros financeiros para eliminar antes dos 30 a...    NEUTRAL   \n",
       "9485  \"👉GUADAKAN está chegando!!!!  A aula pública e...    NEUTRAL   \n",
       "9486  @btgpactual pq o morning call não está mais ap...   NEGATIVE   \n",
       "\n",
       "     tipoInteracao  anomalia  probabilidadeAnomalia  \\\n",
       "0         marcação         0                     43   \n",
       "1         marcação         0                     45   \n",
       "2       comentário         0                     38   \n",
       "3         resposta         0                     17   \n",
       "4       comentário         0                     20   \n",
       "...            ...       ...                    ...   \n",
       "9482    comentário         0                     28   \n",
       "9483      marcação         0                     44   \n",
       "9484      marcação         0                     39   \n",
       "9485      marcação         0                     43   \n",
       "9486    comentário         0                     28   \n",
       "\n",
       "                                               linkPost  processado  \\\n",
       "0              https://www.instagram.com/p/CarpQUluh7z/           0   \n",
       "1              https://www.instagram.com/p/CaroK9Nu8tC/           0   \n",
       "2     https://www.instagram.com/p/CapXhB5Lvas/#17977...           0   \n",
       "3     https://www.instagram.com/p/CapXhB5Lvas/#17842...           0   \n",
       "4     https://www.instagram.com/p/CapXhB5Lvas/#17935...           0   \n",
       "...                                                 ...         ...   \n",
       "9482  https://www.instagram.com/p/CllkSBOuKlJ/#17960...           0   \n",
       "9483           https://www.instagram.com/p/Cllt7_nOTBc/           0   \n",
       "9484           https://www.instagram.com/p/Cllw0CmNGkX/           0   \n",
       "9485        https://www.instagram.com/reel/ClluX-cAoaf/           0   \n",
       "9486  https://www.instagram.com/p/CllkSBOuKlJ/#17975...           0   \n",
       "\n",
       "      contemHyperlink  \n",
       "0                   0  \n",
       "1                   0  \n",
       "2                   0  \n",
       "3                   0  \n",
       "4                   0  \n",
       "...               ...  \n",
       "9482                0  \n",
       "9483                0  \n",
       "9484                0  \n",
       "9485                0  \n",
       "9486                0  \n",
       "\n",
       "[9487 rows x 11 columns]"
      ]
     },
     "execution_count": 11,
     "metadata": {},
     "output_type": "execute_result"
    }
   ],
   "source": [
    "df = df[df['probabilidadeAnomalia'] <= 50]\n",
    "df = df.reset_index(drop=True)\n",
    "df"
   ]
  },
  {
   "cell_type": "markdown",
   "metadata": {
    "id": "FgDJv2N-yPyx",
    "jp-MarkdownHeadingCollapsed": true,
    "tags": []
   },
   "source": [
    "## 2.0 Análise descritiva"
   ]
  },
  {
   "cell_type": "markdown",
   "metadata": {
    "id": "DHxZ5iqRVqU_"
   },
   "source": [
    "A Análise Descritiva dos Dados é uma técnica importante para obter insights e compreender as características dos dados sem a utilização de modelos estatísticos complexos."
   ]
  },
  {
   "cell_type": "markdown",
   "metadata": {
    "id": "SupkDR7xyUgH"
   },
   "source": [
    "### 2.1 Colunas"
   ]
  },
  {
   "cell_type": "markdown",
   "metadata": {
    "id": "el6GfLMHFLNN"
   },
   "source": [
    "Célula que permite a visualização de todas as colunas do dataframe:"
   ]
  },
  {
   "cell_type": "code",
   "execution_count": null,
   "metadata": {
    "id": "oNXBE2FPFAxZ"
   },
   "outputs": [],
   "source": [
    "df.columns"
   ]
  },
  {
   "cell_type": "markdown",
   "metadata": {
    "id": "l8aR8v5uT7Q2"
   },
   "source": [
    "\n",
    "1. **Coluna Id:** A coluna id apresenta o index para visualização da planilha e pode ser usada como chave primária do comentário. No que diz respeito à utilização no modelo, essa coluna não confere relevância para a sua construção, visto que sua utilidade está atrelada apenas ao fato de garantir que cada linha possua um identificador único. Portanto, *essa coluna não será utilizada.*\n",
    "\n",
    "2. **Coluna dataPublicada:** A coluna data publicada refere-se a data de publicação do comentário. Para a construção do modelo **bag of words**, essa coluna não apresenta relevância, portanto, *não será utilizada*. Posteriormente, sua utilização pode se fazer necessária para a averiguação dos períodos das campanhas.\n",
    "\n",
    "3. **Coluna autor:** A coluna autor é referente à conta do instagram que realizou o comentário na postagem. Essa coluna não será utilizada diretamente pelo modelo bag of words, mas será importante para o agrupamento de comentários referente à empresa BTG. \n",
    "\n",
    "4. **Coluna texto:** A coluna texto se refere ao texto presente no comentário realizado. Para a construção do modelo, essa é a coluna com maior relevância, visto que são justamente os conteúdos dos comentários que precisam ser analisados pelo modelo. \n",
    "\n",
    "5. **Coluna sentimento:** A coluna sentimento é, justamente, o target da classificação que precisamos fazer dos dados. Essa coluna será utilizada para o treinamento posterior do modelo, visto que apresenta o resultado esperado. Contudo, diante de uma análise manual das classificações, foi possível perceber que alguns comentários foram classificados de maneira errônea, dado que possuem um teor positivo mas foram classificados como negativos ou neutros.\n",
    "\n",
    "6. **Coluna tipoInteracao:** A coluna tipo interação informa o tipo de interação a qual aquele comentário pertence, como, por exemplo, uma resposta ou como marcação. Essa coluna, inicialmente, não será utilizada para a construção do modelo bag of words.\n",
    "\n",
    "7. **Coluna anomalia:**  Não possuímos informações suficientes para definir qual é o significado dessa coluna. Portanto, ainda não pode-se definir se ela será utilizada ou não no decorrer do desenvolvimento do projeto. Por ora, essa coluna não será utilizada.\n",
    "\n",
    "8. **Coluna probabilidadeAnomalia:**  Não possuímos informações suficientes para definir qual é o significado dessa coluna. Portanto, ainda não pode-se definir se ela será utilizada ou não no decorrer do desenvolvimento do projeto. Por ora, essa coluna não será utilizada.\n",
    "\n",
    "9. **Coluna linkPost:** Essa coluna possui o link referente a postagem da qual foram retirados os comentários. Todos os comentários referentes à mesma postagem possuem o link igual. Pensando na análise de sentimento, essa coluna não apresenta relevância, portanto, não será utilizada. \n",
    "\n",
    "10. **Coluna processado:** Não possuímos informações suficientes para definir qual é o significado dessa coluna. Portanto, ainda não pode-se definir se ela será utilizada ou não no decorrer do desenvolvimento do projeto. Por ora, essa coluna não será utilizada.\n",
    "\n",
    "11. **Coluna contemHyperlink:** Não possuímos informações suficientes para definir qual é o significado dessa coluna. Portanto, ainda não pode-se definir se ela será utilizada ou não no decorrer do desenvolvimento do projeto. Por ora, essa coluna não será utilizada.\n",
    "\n"
   ]
  },
  {
   "cell_type": "markdown",
   "metadata": {
    "id": "4WP0dUrKxy59"
   },
   "source": [
    "### 2.2 Funções"
   ]
  },
  {
   "cell_type": "markdown",
   "metadata": {
    "id": "0kpt8UL4Inwb"
   },
   "source": [
    "Abaixo estão listadas todas as funções presentes nesse notebook e o que elas fazem:\n",
    "1. **remocaoAcentos:** função que remove todos os acentos presentes nos comentários da coluna texto.\n",
    "2. **tratamentoMaiusculas:** função que trata todas as letras maiúsculas dos comentários presentes na coluna texto, passando-as para caixa baixa.\n",
    "3. **conversaoEmojis:** função que converte todo emoji presente na coluna texto para seu significado em inglês.\n",
    "4. **tratamentoAbreviacoes:** função que converte todas as abreviações para seu significado real, além de remover todas as pontuações e diferentes tipos de marcações comumente utilizadas em redes sociais.\n",
    "5. **tokenizacaoPalavra:** função que tokeniza em palavras os comentários, separando cada uma delas do todo.\n",
    "6. **tokenizacaoFrase:** função que tokeniza em frases os comentários, separando cada uma das frases, sejam elas do mesmo comentário ou de comentários diferentes.\n",
    "7. **remocaoStopWords:** função que remove todas as stopwords presentes nos comentários da coluna texto.\n",
    "8. **bagOfWords:** função para chamar o modelo de bag of words e salvar um vetor de recorrencia.\n",
    "9. **pipelineBow:** função que define a pipeline que será utilizada no modelo, com todos os pré-processamentos realizados e o modelo BOW aplicado para gerar um dicionário e um vetor.\n",
    "10. **contarPalavras:** função para contar quantas vezes cada palavra se repetiu no modelo bag of words.\n",
    "11. **gerarNuvemPalavras:** função para gerar uma nuvem de palavras utilizando os resultados do modelo bag of words."
   ]
  },
  {
   "cell_type": "markdown",
   "metadata": {
    "id": "iAPutSjZIFgt"
   },
   "source": [
    "###2.3 Visualização gráfica de dados"
   ]
  },
  {
   "cell_type": "markdown",
   "metadata": {
    "id": "EKu17TbgIPPE"
   },
   "source": [
    "#### 2.3.1 Valores nulos"
   ]
  },
  {
   "cell_type": "markdown",
   "metadata": {
    "id": "yLt9161pHHFL"
   },
   "source": [
    "Visualização da proporção entre o número de linhas que possuem algum tipo de valor nulo e as linhas que não os possuem. "
   ]
  },
  {
   "cell_type": "code",
   "execution_count": null,
   "metadata": {
    "id": "H3v_lEORGcqP"
   },
   "outputs": [],
   "source": [
    "import pandas as pd\n",
    "import seaborn as sns\n",
    "import matplotlib.pyplot as plt\n",
    "\n",
    "# visualizando todos os itens nulos\n",
    "print(df.isnull().sum())\n",
    "\n",
    "# criando um gráfico de barras para comparar os itens nulos e não nulos\n",
    "sns.countplot(x=df.isnull().any(axis=1), hue=df.isnull().any(axis=1))\n",
    "plt.title(\"Itens Nulos vs Não Nulos\")\n",
    "plt.xlabel(\"Itens\")\n",
    "plt.ylabel(\"Contagem\")\n",
    "plt.legend(labels=['Itens com valores não nulos', 'Itens com valores nulos'])\n",
    "plt.show()"
   ]
  },
  {
   "cell_type": "markdown",
   "metadata": {
    "id": "GwarFX5gH4cs"
   },
   "source": [
    "Visualização de ítens nulos em cada uma das colunas do dataframe:"
   ]
  },
  {
   "cell_type": "code",
   "execution_count": null,
   "metadata": {
    "id": "4RtjubKaHWEV"
   },
   "outputs": [],
   "source": [
    "# contando os valores nulos em cada coluna\n",
    "null_counts = df.isnull().sum()\n",
    "\n",
    "# criando um gráfico de barras para mostrar a contagem de valores nulos em cada coluna\n",
    "sns.barplot(x=null_counts.index, y=null_counts.values)\n",
    "plt.xticks(rotation=90) # adicionando a rotação de 90 graus nas legendas\n",
    "\n",
    "# adicionando as etiquetas de texto no topo de cada barra\n",
    "for i, v in enumerate(null_counts.values):\n",
    "    plt.text(i, v+10, str(v), ha='center', fontsize=12)\n",
    "\n",
    "# configurando os rótulos dos eixos e o título do gráfico\n",
    "plt.xlabel(\"Colunas\")\n",
    "plt.ylabel(\"Contagem de Valores Nulos\")\n",
    "plt.title(\"Contagem de Valores Nulos por Coluna\")\n",
    "\n",
    "# exibindo o gráfico\n",
    "plt.show()"
   ]
  },
  {
   "cell_type": "markdown",
   "metadata": {
    "id": "fv9gLorsITMn"
   },
   "source": [
    "#### 2.2.2 Agrupamento por autores"
   ]
  },
  {
   "cell_type": "code",
   "execution_count": null,
   "metadata": {
    "id": "TEJdRv-6RMXN"
   },
   "outputs": [],
   "source": [
    "import pandas as pd\n",
    "import matplotlib.pyplot as plt\n",
    "\n",
    "# Agrupamento dos textos por autor, excluindo o \"btg pactual\"\n",
    "textosPorAutor = df.query(\"autor != 'btgpactual'\").groupby('autor')['texto'].count().reset_index()\n",
    "\n",
    "# Ordenação dos autores por quantidade de textos\n",
    "textosPorAutor = textosPorAutor.sort_values('texto', ascending=False).reset_index(drop=True)\n",
    "\n",
    "# Seleção dos 10 autores com mais textos\n",
    "top10Autores = textosPorAutor.head(10)\n",
    "\n",
    "# Gráfico de barras com a quantidade de textos por autor\n",
    "plt.bar(top10Autores['autor'], top10Autores['texto'])\n",
    "plt.xticks(rotation=90)\n",
    "plt.xlabel('Autor')\n",
    "plt.ylabel('Quantidade de Textos')\n",
    "plt.title('Top 10 Autores com Mais Textos (exceto btgpactual)')\n",
    "plt.show()\n"
   ]
  },
  {
   "cell_type": "markdown",
   "metadata": {
    "id": "cacmvj7kMIpZ"
   },
   "source": [
    "### Análise dos sentimentos"
   ]
  },
  {
   "cell_type": "code",
   "execution_count": null,
   "metadata": {
    "id": "_DBBAHEm7AJU"
   },
   "outputs": [],
   "source": [
    "import pandas as pd\n",
    "import matplotlib.pyplot as plt\n",
    "\n",
    "# Contar a quantidade de dados para cada combinação de marcação e tipo de interação\n",
    "contagem = df.groupby(['tipoInteracao', 'sentimento']).size().unstack(fill_value=0)\n",
    "\n",
    "# Criar o gráfico de barras agrupadas\n",
    "contagem.plot(kind='bar', stacked=True)\n",
    "\n",
    "# Configurar os rótulos dos eixos\n",
    "plt.xlabel('Tipo de Interação')\n",
    "plt.ylabel('Quantidade de Dados')\n",
    "\n",
    "# Exibir o gráfico\n",
    "plt.show()\n"
   ]
  },
  {
   "cell_type": "code",
   "execution_count": null,
   "metadata": {
    "id": "R5Yxa9M375Pa"
   },
   "outputs": [],
   "source": [
    "import pandas as pd\n",
    "import matplotlib.pyplot as plt\n",
    "\n",
    "# Contar a quantidade de dados para cada combinação de marcação e tipo de interação\n",
    "contagem = df.groupby(['tipoInteracao', 'sentimento']).size().unstack(fill_value=0)\n",
    "\n",
    "# Cores das colunas\n",
    "cores = [ '#FF0000', '#C0C0C0', '#008000']\n",
    "\n",
    "# Criar o gráfico de barras agrupadas com as cores personalizadas\n",
    "contagem.plot(kind='bar', stacked=True, color=cores)\n",
    "\n",
    "# Configurar os rótulos dos eixos\n",
    "plt.xlabel('Tipo de Interação')\n",
    "plt.ylabel('Quantidade de Dados')\n",
    "\n",
    "# Exibir o gráfico\n",
    "plt.show()\n"
   ]
  },
  {
   "cell_type": "markdown",
   "metadata": {
    "id": "tH4hTYprbbbI"
   },
   "source": [
    "## 3.0 Pré processamento dos dados"
   ]
  },
  {
   "cell_type": "markdown",
   "metadata": {
    "id": "nOFxAfuXIAum"
   },
   "source": [
    "O pré processamento dos dados é uma técnica que consiste em uma série de etapas que buscam preparar os dados para uma análise posterior, eliminando informações desnecessárias, corrigindo erros e padronizando o formato dos dados. \n",
    "Essa é uma etapa muito importante porque, muitas vezes, dados textuais são frequentemente não estruturados, o que significa que não seguem um formato padronizado ou organizado, dificultando a análise e extração de informações relevantes."
   ]
  },
  {
   "cell_type": "markdown",
   "metadata": {
    "id": "2TaHb7fRbbbJ"
   },
   "source": [
    "### 3.1 Remoção de acentos"
   ]
  },
  {
   "cell_type": "markdown",
   "metadata": {
    "id": "DDviYnCXbbbJ"
   },
   "source": [
    "Para garantir que um texto seja processado de forma consistente, é importante realizar a normalização dos seus componentes. Nesse sentido, a remoção de acentos é uma etapa fundamental, já que isso ajuda o algoritmo a compreender com mais precisão o que o texto está dizendo. Além disso, a ausência de acentos reduz o risco de que o algoritmo interprete de maneira diferente duas palavras idênticas, mas que tenham sido acentuadas de formas distintas ou incorretas. Em resumo, a remoção de acentos é uma prática essencial no pré-processamento de textos para aprimorar a qualidade e a eficácia da análise de dados em linguagem natural."
   ]
  },
  {
   "cell_type": "code",
   "execution_count": 12,
   "metadata": {
    "id": "BavRi-SDbbbK"
   },
   "outputs": [],
   "source": [
    "#Código para remoção dos acentos\n",
    "def remocaoAcentos(dataframe):\n",
    "    dataframe = dataframe.applymap(lambda x: unidecode(str(x)))\n",
    "    return dataframe"
   ]
  },
  {
   "cell_type": "markdown",
   "metadata": {
    "id": "pTUuNFNKOwKJ"
   },
   "source": [
    "Teste isolado"
   ]
  },
  {
   "cell_type": "code",
   "execution_count": null,
   "metadata": {
    "id": "k6ZodRf6bbbK"
   },
   "outputs": [],
   "source": [
    "# Teste isolado da função remoção de acentos\n",
    "remocaoAcentos(df)"
   ]
  },
  {
   "cell_type": "markdown",
   "metadata": {
    "id": "WYJ4p_SbbbbM"
   },
   "source": [
    "### 3.2 Remoção letras maiusculas"
   ]
  },
  {
   "cell_type": "markdown",
   "metadata": {
    "id": "t1LJjI1mFz94"
   },
   "source": [
    "O tratamento de letras maiúsculas é importante porque, muitas vezes, a diferença entre letras maiúsculas e minúsculas pode impactar negativamente a análise do algoritmo, tendo em vista que ele pode interpretar as palavras como diferentes em determinadas situações. Esse problema pode levar a resultados imprecisos, tendo em vista que, diante do objetivo de contar a frequência de palavras, essas diferenças garantem que as palavras sejam contadas de maneira distinta. "
   ]
  },
  {
   "cell_type": "code",
   "execution_count": 13,
   "metadata": {
    "id": "Mo07IX55bbbN"
   },
   "outputs": [],
   "source": [
    "def tratamentoMaiusculas(dataframe):\n",
    "    # Pré-processamento das letras maiúsculas\n",
    "    dataframe = dataframe.applymap(lambda x: x.lower() if isinstance(x, str) else x)\n",
    "    # Exibição dos dados pré-processados\n",
    "    return dataframe"
   ]
  },
  {
   "cell_type": "markdown",
   "metadata": {
    "id": "xg1nxmfUO0ja"
   },
   "source": [
    "Teste isolado"
   ]
  },
  {
   "cell_type": "code",
   "execution_count": null,
   "metadata": {
    "id": "SCAHPrdaF6s0"
   },
   "outputs": [],
   "source": [
    "#teste isolado da função tratamento Maiúsculas\n",
    "tratamentoMaiusculas(df)"
   ]
  },
  {
   "cell_type": "markdown",
   "metadata": {
    "id": "yUhw8Lu9DMIA"
   },
   "source": [
    "### 3.3 Lematização"
   ]
  },
  {
   "cell_type": "markdown",
   "metadata": {
    "id": "6baqKTLhDOOC"
   },
   "source": [
    "A lematização é uma técnica utilizada a fim de reduzir palavras flexionadas para sua forma básica. Ela representa as palavras através do infinitivo dos verbos e singular dos substantivos e adjetivos. Esse processo também leva em consideração o contexto inserido de cada palavra e resolve o problema da ambiguidade lexical, onde uma mesma palavra pode ter múltiplos significados."
   ]
  },
  {
   "cell_type": "code",
   "execution_count": 14,
   "metadata": {
    "id": "Ue6FA-seDaBU"
   },
   "outputs": [],
   "source": [
    "# Função de lematização\n",
    "def textoLemmatizado(coluna):\n",
    "    textosLemmatizados = []\n",
    "    for texto in coluna:\n",
    "        # Processa o texto com o modelo do Spacy\n",
    "        doc = nlp(texto)\n",
    "        # Lematiza cada token no documento\n",
    "        lemmas = [token.lemma_ for token in doc]\n",
    "        # Junta os lemmas em um único texto\n",
    "        textoLemmatizado = ' '.join(lemmas)\n",
    "        textosLemmatizados.append(textoLemmatizado)\n",
    "    return textosLemmatizados"
   ]
  },
  {
   "cell_type": "code",
   "execution_count": null,
   "metadata": {
    "id": "drqKIIUHEfns"
   },
   "outputs": [],
   "source": [
    "#Teste isolado:\n",
    "resultado = textoLemmatizado(df['texto'])\n",
    "resultado"
   ]
  },
  {
   "cell_type": "markdown",
   "metadata": {
    "id": "PFoYSbT8bbbL"
   },
   "source": [
    "### 3.4 Tratamento de emojis"
   ]
  },
  {
   "cell_type": "markdown",
   "metadata": {
    "id": "whNw64xxbbbL"
   },
   "source": [
    "Emojis são muito utilizados por usuários de redes sociais, ajudando-os, assim, a expressar emoções e sentimentos. Portanto, para melhor entender o sentido de uma mensagem, o tratamento de emojis podem fornecer uma melhor precisão para a análise e uma classificação mais precisa dos sentimentos de uma mensagem."
   ]
  },
  {
   "cell_type": "code",
   "execution_count": 15,
   "metadata": {
    "id": "IZLG0AU0H9TH"
   },
   "outputs": [],
   "source": [
    "# Função para converter emojis em texto.\n",
    "# A função recebe dois argumentos. O dataframe e a coluna a ser tratada, e retorna o dataframe.\n",
    "def conversaoEmojis(coluna):\n",
    "    coluna = coluna.apply(emoji.demojize)\n",
    "    return coluna"
   ]
  },
  {
   "cell_type": "markdown",
   "metadata": {
    "id": "y6UknEdSO3b4"
   },
   "source": [
    "Teste isolado"
   ]
  },
  {
   "cell_type": "code",
   "execution_count": null,
   "metadata": {
    "id": "MTAmi0z_Ii3A"
   },
   "outputs": [],
   "source": [
    "# Teste isolado da função converter emoji em texto\n",
    "conversaoEmojis(df['texto'])"
   ]
  },
  {
   "cell_type": "markdown",
   "metadata": {
    "id": "M5xSqfYQbbbP"
   },
   "source": [
    "### 3.5 Tratamento de abreviações e pontuações"
   ]
  },
  {
   "cell_type": "markdown",
   "metadata": {
    "id": "W1Bj3-fPbbbP"
   },
   "source": [
    "O tratamento de abreviações é importante porque garante que o algoritmo de processamento de linguagem natural interprete corretamente o significado do texto. Ao substituir abreviações por suas formas completas, o texto se torna mais legível e compreensível para o algoritmo que realizará o processamento."
   ]
  },
  {
   "cell_type": "code",
   "execution_count": 16,
   "metadata": {
    "id": "3pnCai09bbbQ"
   },
   "outputs": [],
   "source": [
    "   \n",
    "def tratamentoAbreviacoes(coluna):    \n",
    "    coluna = coluna.astype(str)\n",
    "    coluna.str.lower()\n",
    "# Dicionário com as abreviações e suas expansões\n",
    "    abreviacoes = {\n",
    "        r'\\bvc\\b': 'você',\n",
    "        r'\\btbm\\b': 'também',\n",
    "        r'\\bpq\\b': 'porque',\n",
    "        r'\\bmt\\b': 'muito',\n",
    "        r'\\bmto\\b':'muito',\n",
    "        r'\\bblz\\b': 'beleza',\n",
    "        r'\\bjah\\b': 'já',\n",
    "        r'\\bbj\\b': 'beijo',\n",
    "        r'\\bflw\\b': 'falou',\n",
    "        r'\\bvlw\\b': 'valeu',\n",
    "        r'\\bkrl\\b': 'caralho',\n",
    "        r'\\bqnd\\b': 'quando',\n",
    "        r'\\bfds\\b': 'fim de semana',\n",
    "        r'\\bqq\\b': 'qualquer',\n",
    "        r'\\bmsg\\b': 'mensagem',\n",
    "        r'\\bpra\\b': 'para',\n",
    "        r'\\bp\\b': 'para',\n",
    "        r'\\bpqp\\b': 'puta que pariu',\n",
    "        r'\\bvlh\\b': 'velho',\n",
    "        r'\\bnss\\b': 'nossa',\n",
    "        r'\\bngm\\b': 'ninguém',\n",
    "        r'\\bqm\\b': 'quem',\n",
    "        r'\\bobs\\b': 'observação',\n",
    "        r'\\bqt\\b': 'quanto',\n",
    "        r'\\btbm ñ\\b': 'também não',\n",
    "        r'\\bpf\\b': 'por favor',\n",
    "        r'\\bpdc\\b': 'pode crer',\n",
    "        r'\\btalkei\\b': 'ok',\n",
    "        r'\\bd+\\b': 'demais',\n",
    "        r'\\bdms\\b': 'demais',\n",
    "        r'\\bsqn\\b': 'só que não',\n",
    "        r'\\bmsm\\b': 'mesmo',\n",
    "        r'\\bn/ao\\b': 'não',\n",
    "        r'\\bn/\\b': 'não',\n",
    "        r'\\bblz\\b': 'beleza',\n",
    "        r'\\bq\\b': 'que',\n",
    "        r'\\btd\\b': 'tudo',\n",
    "        r'\\bpfvr\\b': 'por favor',\n",
    "        r'\\bgnt\\b': 'gente',\n",
    "        r'\\bto\\b': 'estou',\n",
    "        r'\\bvcs\\b': 'vocês',\n",
    "        r'\\bn/oa\\b': 'não',\n",
    "        r'\\bsla\\b': 'sei lá',\n",
    "        r'\\bflws\\b': 'falou',\n",
    "        r'\\bbjos\\b': 'beijos',\n",
    "        r'\\bkd\\b': 'cadê',\n",
    "        r'\\blgl\\b': 'legal',\n",
    "        r'\\bnum\\b': 'número',\n",
    "        r'\\bjá q\\b': 'já que',\n",
    "        r'\\bmano\\b': 'irmão',\n",
    "        r'\\bpke\\b': 'porque',\n",
    "        r'\\bpr\\b': 'para',\n",
    "        r'\\btpm\\b': 'tensão pré-menstrual',\n",
    "        r'\\btá\\b': 'está',\n",
    "        r'\\bqmto\\b': 'muito',\n",
    "        r'\\bñ\\b': 'não',\n",
    "        r'\\bvamu\\b': 'vamos',\n",
    "        r'\\btmj\\b': 'estamos juntos',\n",
    "        r'[0-9]': '',\n",
    "        r'@\\w+': '',\n",
    "        r'[^\\w\\s]': '',\n",
    "        r'\\bwww\\.[^\\s]*': '',\n",
    "        r'\\bola\\b': '',\n",
    "        r'\\n': '',\n",
    "        r'\\bbtg\\b': '',\n",
    "        r'\\bpactual\\b': ''\n",
    "    }\n",
    "\n",
    "    # Aplica a substituição de cada abreviação no dataframe\n",
    "    for abreviacao, expansao in abreviacoes.items():\n",
    "        coluna= coluna.apply(lambda x: re.sub(abreviacao, expansao, x, flags=re.IGNORECASE))\n",
    "    \n",
    "    return coluna"
   ]
  },
  {
   "cell_type": "markdown",
   "metadata": {
    "id": "5PLBCbxWbbbR"
   },
   "source": [
    "Teste isolado:"
   ]
  },
  {
   "cell_type": "code",
   "execution_count": null,
   "metadata": {
    "id": "5KEsO9NtbbbR"
   },
   "outputs": [],
   "source": [
    "#teste isolado\n",
    "tratamentoAbreviacoes(df['texto'])"
   ]
  },
  {
   "cell_type": "markdown",
   "metadata": {
    "id": "8TyRlmSTbbbN"
   },
   "source": [
    "### 3.6 Tokenização"
   ]
  },
  {
   "cell_type": "markdown",
   "metadata": {
    "id": "NkZyQbF9bbbO"
   },
   "source": [
    "A tokenização é um processo de pré-processamento utilizado para dividir os valores de uma coluna em pedaços menores, como palavras ou frases. Cada pedaço, conhecido como token, recebe um valor específico para identificação. Esse processo torna o texto mais gerenciável e facilita a análise e os processamentos subsequentes dos dados."
   ]
  },
  {
   "cell_type": "markdown",
   "metadata": {
    "id": "UiA9iQBCMFIs"
   },
   "source": [
    "Função para gerar um dicionario, com os tokens"
   ]
  },
  {
   "cell_type": "code",
   "execution_count": 17,
   "metadata": {
    "id": "dKCa1seKMHom"
   },
   "outputs": [],
   "source": [
    "#definição de função para tokenização em palavras\n",
    "def tokenizacaoPalavra(comentarios):\n",
    "  tokenizer = Tokenizer()\n",
    "  tokenizer.fit_on_texts(comentarios)\n",
    "  return tokenizer"
   ]
  },
  {
   "cell_type": "markdown",
   "metadata": {
    "id": "MNYDSnvTPFb8"
   },
   "source": [
    "Tokenização por frase"
   ]
  },
  {
   "cell_type": "code",
   "execution_count": 18,
   "metadata": {
    "id": "C2n1dbENbbbO"
   },
   "outputs": [],
   "source": [
    "# definição de função para tokenização em frases\n",
    "def tokenizacaoFrase(coluna):\n",
    "  comentarios = coluna.values\n",
    "  tokenFrase = []\n",
    "  for comentarios in comentarios:\n",
    "    tokenFrase.append(sent_tokenize(comentarios))\n",
    "  return tokenFrase"
   ]
  },
  {
   "cell_type": "markdown",
   "metadata": {
    "id": "7098ZEmWXUQK"
   },
   "source": [
    "Função para gerar tokens de palavras, referentes a cada frase"
   ]
  },
  {
   "cell_type": "code",
   "execution_count": 30,
   "metadata": {
    "id": "CmQllFlDaCHj"
   },
   "outputs": [],
   "source": [
    "def tokenizar(coluna):\n",
    "    # Tokeniza as frases\n",
    "    tokensPalavras = nltk.word_tokenize(coluna)\n",
    "    return tokensPalavras"
   ]
  },
  {
   "cell_type": "markdown",
   "metadata": {
    "id": "iC9ufRU7PIWA"
   },
   "source": [
    "Testes isolados:"
   ]
  },
  {
   "cell_type": "markdown",
   "metadata": {
    "id": "-cVcC7D_aJdx"
   },
   "source": [
    "Geração de dicionario."
   ]
  },
  {
   "cell_type": "code",
   "execution_count": null,
   "metadata": {
    "id": "cn5cKVECuLQA"
   },
   "outputs": [],
   "source": [
    "tokenizacaoPalavra(df['texto'])"
   ]
  },
  {
   "cell_type": "markdown",
   "metadata": {
    "id": "szBXORpvaOUc"
   },
   "source": [
    "Tokenizando frases."
   ]
  },
  {
   "cell_type": "code",
   "execution_count": null,
   "metadata": {
    "id": "lJIrbuVarPzb"
   },
   "outputs": [],
   "source": [
    "tokenizacaoFrase(df['texto'])"
   ]
  },
  {
   "cell_type": "markdown",
   "metadata": {
    "id": "l6hGt8_9aTdd"
   },
   "source": [
    "Tokenizando as palavras de cada post individualmente"
   ]
  },
  {
   "cell_type": "code",
   "execution_count": null,
   "metadata": {
    "id": "Ep5TKiZYalBz"
   },
   "outputs": [],
   "source": [
    "resultado = df['texto'].apply(tokenizar)\n",
    "resultado"
   ]
  },
  {
   "cell_type": "markdown",
   "metadata": {
    "id": "BAQJ4x_3bbbO"
   },
   "source": [
    "### 3.7 Remoção de stopwords\n"
   ]
  },
  {
   "cell_type": "markdown",
   "metadata": {
    "id": "ZQjRQ5HYbbbP"
   },
   "source": [
    "A remoção dos Stop Words é um pré-processamento importante pois elimina palavras irrelevantes que podem prejudicar a precisão do modelo final, como artigos, preposições, conjunções, entre outros conectores. Esse tratamento ajuda na eficácia da classificação de texto  e na redução tanto do vocabulário quanto de ruídos (palavras que não têm um valor semântico significativo)."
   ]
  },
  {
   "cell_type": "code",
   "execution_count": 19,
   "metadata": {
    "id": "12aYfCC9v49C"
   },
   "outputs": [],
   "source": [
    "def remocaoStopWords(coluna):\n",
    "    listaSemStopWords = []\n",
    "    for texto in coluna:\n",
    "        # converte o texto em um documento do Spacy\n",
    "        doc = nlp(texto)\n",
    "        # filtra os tokens que não são stop words\n",
    "        tokenSemStopwords = [token.text for token in doc if not token.is_stop]\n",
    "        # adiciona a lista de frases sem stop words\n",
    "        listaSemStopWords.append(' '.join(tokenSemStopwords))\n",
    "    # substitui a coluna original pelos textos sem stop words\n",
    "    coluna[:] = listaSemStopWords\n",
    "    return coluna"
   ]
  },
  {
   "cell_type": "markdown",
   "metadata": {
    "id": "baEM2yh9QBQm"
   },
   "source": [
    "Teste isolado"
   ]
  },
  {
   "cell_type": "code",
   "execution_count": null,
   "metadata": {
    "id": "C-25119jPba_"
   },
   "outputs": [],
   "source": [
    "remocaoStopWords(df['texto'])"
   ]
  },
  {
   "cell_type": "markdown",
   "metadata": {
    "id": "NwbhwwR1BEpo"
   },
   "source": [
    "### 3.8 Testes isolados"
   ]
  },
  {
   "cell_type": "markdown",
   "metadata": {
    "id": "Iqa12FgQDHUA"
   },
   "source": [
    "Teste isolado para função de remoção de acentos:"
   ]
  },
  {
   "cell_type": "code",
   "execution_count": null,
   "metadata": {
    "id": "ahCFXPI3BKYR"
   },
   "outputs": [],
   "source": [
    "remocaoAcentos(df)"
   ]
  },
  {
   "cell_type": "markdown",
   "metadata": {
    "id": "2lW9kHViDQhY"
   },
   "source": [
    "Teste isolado para função de tratamento de letras maiúsculas:"
   ]
  },
  {
   "cell_type": "code",
   "execution_count": null,
   "metadata": {
    "id": "VCotuM-UBRTE"
   },
   "outputs": [],
   "source": [
    "tratamentoMaiusculas(df)"
   ]
  },
  {
   "cell_type": "markdown",
   "metadata": {
    "id": "wqCS535fDUdq"
   },
   "source": [
    "teste isolado para função de conversão de emojis:"
   ]
  },
  {
   "cell_type": "code",
   "execution_count": null,
   "metadata": {
    "id": "2AFLkD5kCGgr"
   },
   "outputs": [],
   "source": [
    "conversaoEmojis(df['texto'])"
   ]
  },
  {
   "cell_type": "markdown",
   "metadata": {
    "id": "qeWwKT-FDYn9"
   },
   "source": [
    "Teste isolado para função de tratamento de abreviações:"
   ]
  },
  {
   "cell_type": "code",
   "execution_count": null,
   "metadata": {
    "id": "OvBoDJERCR9E"
   },
   "outputs": [],
   "source": [
    "tratamentoAbreviacoes(df['texto'])"
   ]
  },
  {
   "cell_type": "markdown",
   "metadata": {
    "id": "-Io9jJFPDcOE"
   },
   "source": [
    "Teste isolado para função de gerar dicionario dos comentários:"
   ]
  },
  {
   "cell_type": "code",
   "execution_count": null,
   "metadata": {
    "id": "XMScrRBoCrTD"
   },
   "outputs": [],
   "source": [
    "tokenizacaoPalavra(df['texto'])"
   ]
  },
  {
   "cell_type": "markdown",
   "metadata": {
    "id": "OlTqNq82axLL"
   },
   "source": [
    "Teste isolado da função de gerar tokens de cada comentario:"
   ]
  },
  {
   "cell_type": "code",
   "execution_count": null,
   "metadata": {
    "id": "wQgGvCB9a36z"
   },
   "outputs": [],
   "source": [
    "resultado = df['texto'].apply(tokenizar)\n",
    "resultado"
   ]
  },
  {
   "cell_type": "markdown",
   "metadata": {
    "id": "QBr4pJ6UDglw"
   },
   "source": [
    "Teste isolado para função que remove stopwords:"
   ]
  },
  {
   "cell_type": "code",
   "execution_count": null,
   "metadata": {
    "colab": {
     "background_save": true
    },
    "id": "Vr2qR-n7Czcv"
   },
   "outputs": [],
   "source": [
    "remocaoStopWords(df['texto'])"
   ]
  },
  {
   "cell_type": "markdown",
   "metadata": {
    "id": "nIxt9tJAHnCb"
   },
   "source": [
    "### 3.9 Pipeline dos pré processamentos"
   ]
  },
  {
   "cell_type": "markdown",
   "metadata": {
    "id": "KnIfQOVZLLLx"
   },
   "source": [
    "Criação de pipiline para tratamento dos dados."
   ]
  },
  {
   "cell_type": "code",
   "execution_count": 20,
   "metadata": {
    "id": "mZjV13HRHzIP"
   },
   "outputs": [],
   "source": [
    "def pipeline(dados):\n",
    "  #cria um novo df a ser tratado\n",
    "  dadosT =  pd.DataFrame({'dadosTratados': dados})\n",
    "  # remove os acentos dos dados\n",
    "  dadosT['dadosTratados'] = remocaoAcentos(dadosT) \n",
    "  # substituição das letras maiusculas dos dados\n",
    "  dadosT['dadosTratados'] = tratamentoMaiusculas(dadosT)\n",
    "  ## tratamento dos emojis\n",
    "  #dadosT = conversaoEmojis(dadosT)\n",
    "  #tratamento de abreviações \n",
    "  dadosT['dadosTratados'] = tratamentoAbreviacoes(dadosT['dadosTratados'])\n",
    "  ##tratamento de stopwords\n",
    "  dadosT['dadosTratados'] = remocaoStopWords(dadosT['dadosTratados'])\n",
    "  return dadosT['dadosTratados']"
   ]
  },
  {
   "cell_type": "markdown",
   "metadata": {
    "id": "DPPAkeOyLKbA"
   },
   "source": [
    "#### 3.9.1 Resultado dos pré processamentos."
   ]
  },
  {
   "cell_type": "markdown",
   "metadata": {
    "id": "WH9T5uiVLaEa"
   },
   "source": [
    "Abaixo e póssivel ver o resultado dessa pipeline."
   ]
  },
  {
   "cell_type": "code",
   "execution_count": null,
   "metadata": {
    "colab": {
     "base_uri": "https://localhost:8080/"
    },
    "id": "cW_Bx1xoLhlS",
    "outputId": "9fbb97f6-3b07-4e89-c13e-523b51fa76b4"
   },
   "outputs": [
    {
     "data": {
      "text/plain": [
       "0       alvarez   marsal estara conosco sportainmetr l...\n",
       "1       repost btgpactual with make_repost   entenda i...\n",
       "2                                       minuto touro ouro\n",
       "3                                                        \n",
       "4                   queria   banking propria   administra\n",
       "                              ...                        \n",
       "9482                           atendam telefone amor deus\n",
       "9483    voce sao   maiores fiis mercado nao    selecio...\n",
       "9484    erros financeiros eliminar   anos   parar oste...\n",
       "9485    guadakan chegando   aula publica formato espet...\n",
       "9486      morning call nao aparecendo spotify atualiza...\n",
       "Name: dadosTratados, Length: 9487, dtype: object"
      ]
     },
     "execution_count": 18,
     "metadata": {},
     "output_type": "execute_result"
    }
   ],
   "source": [
    "dadosTratados = pipeline(df['texto'])\n",
    "dadosTratados"
   ]
  },
  {
   "cell_type": "markdown",
   "metadata": {
    "id": "RGq9lC2eLvRh"
   },
   "source": [
    "Também foi criada a váriavel \"dadosTratados\", que pode ser utilizada posteriormente para visualizar o resultado de essa pipeline."
   ]
  },
  {
   "cell_type": "markdown",
   "metadata": {
    "id": "4Asa0FIoQk-C"
   },
   "source": [
    "#### 3.9.2 Exportando pré proscessamento"
   ]
  },
  {
   "cell_type": "code",
   "execution_count": null,
   "metadata": {
    "id": "QuXsZ7NeQtow"
   },
   "outputs": [],
   "source": [
    "dfTratado = pd.DataFrame({'texto': dadosTratados, 'targetSentimento': df['targetSentimento']})"
   ]
  },
  {
   "cell_type": "code",
   "execution_count": null,
   "metadata": {
    "colab": {
     "base_uri": "https://localhost:8080/",
     "height": 424
    },
    "id": "hMbc0RLCRDdl",
    "outputId": "063726b9-6442-4fcd-b083-aff64b379145"
   },
   "outputs": [
    {
     "data": {
      "text/html": [
       "\n",
       "  <div id=\"df-675c5d5d-9f47-43a1-b763-5c950ad93a70\">\n",
       "    <div class=\"colab-df-container\">\n",
       "      <div>\n",
       "<style scoped>\n",
       "    .dataframe tbody tr th:only-of-type {\n",
       "        vertical-align: middle;\n",
       "    }\n",
       "\n",
       "    .dataframe tbody tr th {\n",
       "        vertical-align: top;\n",
       "    }\n",
       "\n",
       "    .dataframe thead th {\n",
       "        text-align: right;\n",
       "    }\n",
       "</style>\n",
       "<table border=\"1\" class=\"dataframe\">\n",
       "  <thead>\n",
       "    <tr style=\"text-align: right;\">\n",
       "      <th></th>\n",
       "      <th>texto</th>\n",
       "      <th>targetSentimento</th>\n",
       "    </tr>\n",
       "  </thead>\n",
       "  <tbody>\n",
       "    <tr>\n",
       "      <th>0</th>\n",
       "      <td>alvarez   marsal estara conosco sportainmetr l...</td>\n",
       "      <td>NEUTRAL</td>\n",
       "    </tr>\n",
       "    <tr>\n",
       "      <th>1</th>\n",
       "      <td>repost btgpactual with make_repost   entenda i...</td>\n",
       "      <td>NEUTRAL</td>\n",
       "    </tr>\n",
       "    <tr>\n",
       "      <th>2</th>\n",
       "      <td>minuto touro ouro</td>\n",
       "      <td>POSITIVE</td>\n",
       "    </tr>\n",
       "    <tr>\n",
       "      <th>3</th>\n",
       "      <td></td>\n",
       "      <td>NEUTRAL</td>\n",
       "    </tr>\n",
       "    <tr>\n",
       "      <th>4</th>\n",
       "      <td>queria   banking propria   administra</td>\n",
       "      <td>POSITIVE</td>\n",
       "    </tr>\n",
       "    <tr>\n",
       "      <th>...</th>\n",
       "      <td>...</td>\n",
       "      <td>...</td>\n",
       "    </tr>\n",
       "    <tr>\n",
       "      <th>9482</th>\n",
       "      <td>atendam telefone amor deus</td>\n",
       "      <td>POSITIVE</td>\n",
       "    </tr>\n",
       "    <tr>\n",
       "      <th>9483</th>\n",
       "      <td>voce sao   maiores fiis mercado nao    selecio...</td>\n",
       "      <td>POSITIVE</td>\n",
       "    </tr>\n",
       "    <tr>\n",
       "      <th>9484</th>\n",
       "      <td>erros financeiros eliminar   anos   parar oste...</td>\n",
       "      <td>NEUTRAL</td>\n",
       "    </tr>\n",
       "    <tr>\n",
       "      <th>9485</th>\n",
       "      <td>guadakan chegando   aula publica formato espet...</td>\n",
       "      <td>NEUTRAL</td>\n",
       "    </tr>\n",
       "    <tr>\n",
       "      <th>9486</th>\n",
       "      <td>morning call nao aparecendo spotify atualiza...</td>\n",
       "      <td>NEGATIVE</td>\n",
       "    </tr>\n",
       "  </tbody>\n",
       "</table>\n",
       "<p>9487 rows × 2 columns</p>\n",
       "</div>\n",
       "      <button class=\"colab-df-convert\" onclick=\"convertToInteractive('df-675c5d5d-9f47-43a1-b763-5c950ad93a70')\"\n",
       "              title=\"Convert this dataframe to an interactive table.\"\n",
       "              style=\"display:none;\">\n",
       "        \n",
       "  <svg xmlns=\"http://www.w3.org/2000/svg\" height=\"24px\"viewBox=\"0 0 24 24\"\n",
       "       width=\"24px\">\n",
       "    <path d=\"M0 0h24v24H0V0z\" fill=\"none\"/>\n",
       "    <path d=\"M18.56 5.44l.94 2.06.94-2.06 2.06-.94-2.06-.94-.94-2.06-.94 2.06-2.06.94zm-11 1L8.5 8.5l.94-2.06 2.06-.94-2.06-.94L8.5 2.5l-.94 2.06-2.06.94zm10 10l.94 2.06.94-2.06 2.06-.94-2.06-.94-.94-2.06-.94 2.06-2.06.94z\"/><path d=\"M17.41 7.96l-1.37-1.37c-.4-.4-.92-.59-1.43-.59-.52 0-1.04.2-1.43.59L10.3 9.45l-7.72 7.72c-.78.78-.78 2.05 0 2.83L4 21.41c.39.39.9.59 1.41.59.51 0 1.02-.2 1.41-.59l7.78-7.78 2.81-2.81c.8-.78.8-2.07 0-2.86zM5.41 20L4 18.59l7.72-7.72 1.47 1.35L5.41 20z\"/>\n",
       "  </svg>\n",
       "      </button>\n",
       "      \n",
       "  <style>\n",
       "    .colab-df-container {\n",
       "      display:flex;\n",
       "      flex-wrap:wrap;\n",
       "      gap: 12px;\n",
       "    }\n",
       "\n",
       "    .colab-df-convert {\n",
       "      background-color: #E8F0FE;\n",
       "      border: none;\n",
       "      border-radius: 50%;\n",
       "      cursor: pointer;\n",
       "      display: none;\n",
       "      fill: #1967D2;\n",
       "      height: 32px;\n",
       "      padding: 0 0 0 0;\n",
       "      width: 32px;\n",
       "    }\n",
       "\n",
       "    .colab-df-convert:hover {\n",
       "      background-color: #E2EBFA;\n",
       "      box-shadow: 0px 1px 2px rgba(60, 64, 67, 0.3), 0px 1px 3px 1px rgba(60, 64, 67, 0.15);\n",
       "      fill: #174EA6;\n",
       "    }\n",
       "\n",
       "    [theme=dark] .colab-df-convert {\n",
       "      background-color: #3B4455;\n",
       "      fill: #D2E3FC;\n",
       "    }\n",
       "\n",
       "    [theme=dark] .colab-df-convert:hover {\n",
       "      background-color: #434B5C;\n",
       "      box-shadow: 0px 1px 3px 1px rgba(0, 0, 0, 0.15);\n",
       "      filter: drop-shadow(0px 1px 2px rgba(0, 0, 0, 0.3));\n",
       "      fill: #FFFFFF;\n",
       "    }\n",
       "  </style>\n",
       "\n",
       "      <script>\n",
       "        const buttonEl =\n",
       "          document.querySelector('#df-675c5d5d-9f47-43a1-b763-5c950ad93a70 button.colab-df-convert');\n",
       "        buttonEl.style.display =\n",
       "          google.colab.kernel.accessAllowed ? 'block' : 'none';\n",
       "\n",
       "        async function convertToInteractive(key) {\n",
       "          const element = document.querySelector('#df-675c5d5d-9f47-43a1-b763-5c950ad93a70');\n",
       "          const dataTable =\n",
       "            await google.colab.kernel.invokeFunction('convertToInteractive',\n",
       "                                                     [key], {});\n",
       "          if (!dataTable) return;\n",
       "\n",
       "          const docLinkHtml = 'Like what you see? Visit the ' +\n",
       "            '<a target=\"_blank\" href=https://colab.research.google.com/notebooks/data_table.ipynb>data table notebook</a>'\n",
       "            + ' to learn more about interactive tables.';\n",
       "          element.innerHTML = '';\n",
       "          dataTable['output_type'] = 'display_data';\n",
       "          await google.colab.output.renderOutput(dataTable, element);\n",
       "          const docLink = document.createElement('div');\n",
       "          docLink.innerHTML = docLinkHtml;\n",
       "          element.appendChild(docLink);\n",
       "        }\n",
       "      </script>\n",
       "    </div>\n",
       "  </div>\n",
       "  "
      ],
      "text/plain": [
       "                                                  texto targetSentimento\n",
       "0     alvarez   marsal estara conosco sportainmetr l...          NEUTRAL\n",
       "1     repost btgpactual with make_repost   entenda i...          NEUTRAL\n",
       "2                                     minuto touro ouro         POSITIVE\n",
       "3                                                                NEUTRAL\n",
       "4                 queria   banking propria   administra         POSITIVE\n",
       "...                                                 ...              ...\n",
       "9482                         atendam telefone amor deus         POSITIVE\n",
       "9483  voce sao   maiores fiis mercado nao    selecio...         POSITIVE\n",
       "9484  erros financeiros eliminar   anos   parar oste...          NEUTRAL\n",
       "9485  guadakan chegando   aula publica formato espet...          NEUTRAL\n",
       "9486    morning call nao aparecendo spotify atualiza...         NEGATIVE\n",
       "\n",
       "[9487 rows x 2 columns]"
      ]
     },
     "execution_count": 22,
     "metadata": {},
     "output_type": "execute_result"
    }
   ],
   "source": [
    "dfTratado"
   ]
  },
  {
   "cell_type": "code",
   "execution_count": null,
   "metadata": {
    "id": "m4cB09f3Rzy_"
   },
   "outputs": [],
   "source": [
    "dfTratado.to_csv('resultadoTratamento.csv', index=False)"
   ]
  },
  {
   "cell_type": "markdown",
   "metadata": {
    "id": "-ldg79l0bbbS"
   },
   "source": [
    "##4.0  Bag of words"
   ]
  },
  {
   "cell_type": "markdown",
   "metadata": {
    "id": "9NfxQfqwZPD1"
   },
   "source": [
    "O modelo de bag of words (ou, em tradução literal, saco de palavras) é uma representação que transforma texto em vetores de tamanho fixo para contar quantas vezes as palavras aparecem nas frases em questão. Esse método é comumente chamado de **vetorização**."
   ]
  },
  {
   "cell_type": "markdown",
   "metadata": {
    "id": "ihwBPKd71mH3"
   },
   "source": [
    "### 4.1 Setup do modelo"
   ]
  },
  {
   "cell_type": "code",
   "execution_count": null,
   "metadata": {
    "id": "rEC3Zc7j1vJd"
   },
   "outputs": [],
   "source": [
    "#importação de bibliotecas\n",
    "#importação de keras, para execução do modelo e criação do dicionario\n",
    "from keras.preprocessing.text import Tokenizer"
   ]
  },
  {
   "cell_type": "markdown",
   "metadata": {
    "id": "is3yvOVb408S"
   },
   "source": [
    "#### 4.1.1 Definição de funções\n"
   ]
  },
  {
   "cell_type": "markdown",
   "metadata": {
    "id": "z-tfwtrI408T"
   },
   "source": [
    "função para criação dos vetores:\n"
   ]
  },
  {
   "cell_type": "code",
   "execution_count": 21,
   "metadata": {
    "id": "B4ggs2ya4-HT"
   },
   "outputs": [],
   "source": [
    "#função para chamar o modelo de bag of words, e salvar um vetor de recorrencia.\n",
    "def bagOfWords(tokens,comentarios):\n",
    "  salvar = tokens.texts_to_matrix(comentarios, mode='count')\n",
    "  return salvar"
   ]
  },
  {
   "cell_type": "markdown",
   "metadata": {
    "id": "ztddFNQf408S"
   },
   "source": [
    "###4.2 Execução do modelo\n"
   ]
  },
  {
   "cell_type": "markdown",
   "metadata": {
    "id": "IzYrieC-408T"
   },
   "source": [
    "##### 4.2.1 Teste do modelo de bag of words"
   ]
  },
  {
   "cell_type": "markdown",
   "metadata": {
    "id": "2vcKCLX4PABI"
   },
   "source": [
    "Nesse momento é chamada a função bag of words para realização do teste da função."
   ]
  },
  {
   "cell_type": "code",
   "execution_count": null,
   "metadata": {
    "colab": {
     "base_uri": "https://localhost:8080/"
    },
    "id": "SmOpT0KS8a5M",
    "outputId": "1be3a5b5-288f-42fa-918a-fe3ce82e242f"
   },
   "outputs": [
    {
     "data": {
      "text/plain": [
       "array([[0., 1., 3., ..., 0., 0., 0.],\n",
       "       [0., 1., 2., ..., 0., 0., 0.],\n",
       "       [0., 1., 0., ..., 0., 0., 0.],\n",
       "       ...,\n",
       "       [0., 6., 2., ..., 0., 0., 0.],\n",
       "       [0., 6., 7., ..., 1., 1., 1.],\n",
       "       [0., 0., 1., ..., 0., 0., 0.]])"
      ]
     },
     "execution_count": 26,
     "metadata": {},
     "output_type": "execute_result"
    }
   ],
   "source": [
    "bagOfWords(tokenizacaoPalavra(df['texto']),df['texto'])"
   ]
  },
  {
   "cell_type": "markdown",
   "metadata": {
    "id": "HJJM1ZTtOagc"
   },
   "source": [
    "Como é possível visualizar pelo resultado, com o modelo, conseguimos obter como retorno uma matriz com o número de repetições de cada palavra presente no dicionário."
   ]
  },
  {
   "cell_type": "markdown",
   "metadata": {
    "id": "3BHFLPIFAPbj"
   },
   "source": [
    "###4.3 Modelo Bag of Words"
   ]
  },
  {
   "cell_type": "markdown",
   "metadata": {
    "id": "SZBPVlSfvuwu"
   },
   "source": [
    "Abaixo é possível ver a função que define a pipeline que será utilizada no modelo, com todos os pré-processamentos realizados e o modelo BOW aplicado para gerar um dicionário e um vetor."
   ]
  },
  {
   "cell_type": "code",
   "execution_count": 22,
   "metadata": {
    "id": "74sPwqnuAS7r"
   },
   "outputs": [],
   "source": [
    "def modeloBow(dados):\n",
    "  #Recebe os dados a ser realizado o BOW\n",
    "  dadosTratados = pipeline(dados)\n",
    "  #cria um novo df a ser tratado\n",
    "  dadosT =  pd.DataFrame({'dadosBow': dadosTratados})\n",
    "  #tokenização/geração de dicionario\n",
    "  dicionario = tokenizacaoPalavra(dadosT['dadosBow'])\n",
    "  # chamando o modelo de bag of words, usando dados_t e o dicionario criado com a tokenização\n",
    "  modelo = (bagOfWords(dicionario,dadosT['dadosBow']))\n",
    "  return modelo,dicionario"
   ]
  },
  {
   "cell_type": "markdown",
   "metadata": {
    "id": "fl5mwE2K0Qtq"
   },
   "source": [
    "Abaixo é possível ver o resultado da execução da função pipeline:"
   ]
  },
  {
   "cell_type": "code",
   "execution_count": null,
   "metadata": {
    "colab": {
     "base_uri": "https://localhost:8080/"
    },
    "collapsed": true,
    "id": "WpJUNuhEbCAQ",
    "jupyter": {
     "outputs_hidden": true
    },
    "outputId": "9a873afe-c485-489e-9ddb-5379e097ba31",
    "tags": []
   },
   "outputs": [
    {
     "name": "stdout",
     "output_type": "stream",
     "text": [
      "['btgpactual', 'nao', 'investimentos', 'voce', 'banco', 'mercado', 'dia', 'ja', 'sao', 'evento', 'brasil', 'so', 'melhor', 'hoje', 'link', 'conta', 'tambem', 'r', 'voces', 'fundo', 'ano', 'time', 'acoes', 'ate', 'dinheiro', 'economia', 'anos', 'clientes', 'paulo', 'investimento', 'bio', 'financeiro', 'vida', 'semana', 'taxa', 'dias', 'ativos', 'mercadofinanceiro', 'inflacao', 'pessoas', 'alem', 'selic', 'investir', 'compra', 'empresas', 'trabalho', 'sera', 'cliente', 'parceria', 'estao', 'parabens', 'fiis', 'equipe', 'cartao', 'repost', 'estamos', 'copom', 'la', 'email', 'empresa', 'sucesso', 'mundo', 'oferta', 'politica', 'negocios', 'futuro', 'oportunidade', 'vamos', 'fundos', 'mes', 'historia', 'america', 'venda', 'melhores', 'confira', 'credito', 'latina', 'financeiros', 'gente', 'trader', 'area', 'ai', 'atendimento', 'post', 'incrivel', 'app', 'pais', 'juros', 'ajudar', 'milhoes', 'carteira', 'renda', 'financeira', 'especial', 'educacaofinanceira', 'ha', 'flu', 'porto', 'mulheres', 'cenario', 'alta', 'cdb', 'site', 'ibovespa', 'investidores', 'seja', 'monetaria', 'capital', 'ceo', 'comite', 'b', 'alegre', 'informativo', 'oficial', 'carater', 'assessoria', 'apos', 'constitui', 'h', 'experiencia', 'debentures', 'disclaimer', 'contatocombr', 'credenciados', 'telefones', 'importante', 'reuniao', 'amgcapital', 'acordo', 'wwwamgcapitalcombr', 'florianopolis', 'pesquisa', 'edicao', 'relatorio', 'central', 'macro', 'analise', 'participar', 'plataforma', 'lci', 'aumento', 'parceiros', 'day', 'principais', 'gestao', 'with', 'estrategia', 'lca', 'etfs', 'informacoes', 'projeto', 'tao', 'atraves', 'resultado', 'periodo', 'valores', 'tesourodireto', 'investidor', 'encontro', 'financas', 'programa', 'bancos', 'possivel', 'presenca', 'assessor', 'decisao', 'escritorio', 'entao', 'muita', 'limite', 'patrimonio', 'produtos', 'falar', 'pro', 'processo', 'carreira', 'vou', 'lucro', 'orgulho', 'acessar', 'prazo', 'precisa', 'longo', 'acesse', 'youtube', 'vao', 'canal', 'objetivo', 'bolsadevalores', 'maiores', 'contato', 'sacre', 'foco', 'conhecer', 'retorno', 'conhecimento', 'xpinvestimentos', 'juntos', 'sendo', 'trimestre', 'junto', 'ta', 'stories', 'crescimento', 'agosto', 'digital', 'oportunidades', 'corretora', 'jornada', 'completo', 'setor', 'bilhoes', 'socio', 'sacreinvestimentos', 'abrir', 'comunicado', 'mim', 'the', 'servicos', 'prazer', 'caso', 'outro', 'hora', 'nacional', 'resultados', 'andre', 'educacao', 'acesso', 'deus', 'confianca', 'fii', 'marco', 'feliz', 'faca', 'conteudo', 'brasileiro', 'tecnologia', 'y', 'frente', 'profissionais', 'perfil', 'principal', 'profissional', 'qualidade', 'social', 'disponivel', 'presidente', 'bolsa', 'negocio', 'direito', 'compartilhar', 'expansao', 'pagamento', 'casa', 'ultima', 'prova', 'proxima', 'fica', 'gostaria', 'visao', 'exame', 'excelencia', 'trabalhar', 'noite', 'top', 'entender', 'online', 'cota', 'ambiente', 'participacao', 'real', 'valorsacre', 'gratuito', 'vale', 'ficou', 'ultimos', 'acquavero', 'pessoal', 'amigos', 'busca', 'divulgada', 'imobiliario', 'video', 'riscos', 'aprender', 'trade', 'nomes', 'super', 'pessoa', 'cotistas', 'operacoes', 'rio', 'rendavariavel', 'importantes', 'ninguem', 'imoveis', 'fazendo', 'agro', 'abaixo', 'contar', 'junho', 'research', 'forte', 'comigo', 'of', 'imobiliarios', 'inscricao', 'porem', 'en', 'seguranca', 'i', 'outubro', 'fundosimobiliarios', 'excelente', 'cotas', 'fiz', 'agradecemos', 'setembro', 'm', 'familia', 'marca', 'empreendedorismo', 'atencao', 'durante', 'cultura', 'deu', 'tera', 'esporte', 'vivo', 'realmente', 'muitas', 'head', 'divulgado', 'convite', 'bolsonaro', 'saiba', 'serao', 'proposito', 'preciso', 'ficar', 'planejamento', 'feito', 'operacao', 'destaque', 'precos', 'lula', 'global', 'feita', 'proximo', 'trajetoria', 'fixa', 'deg', 'show', 'agradeco', 'instituto', 'desafios', 'ajuda', 'dolar', 'honra', 'evolucao', 'risco', 'arraste', 'troca', 'recursos', 'leia', 'eventos', 'ranking', 'completa', 'receber', 'itau', 'distribuicao', 'socios', 'comeco', 'ar', 'agronegocio', 'total', 'sala', 'ultimo', 'acima', 'el', 'patrimonial', 'faco', 'objetivos', 'maio', 'comecar', 'relacao', 'simples', 'realidade', 'aai', 'suporte', 'basica', 'patrocinadores', 'pix', 'amanha', 'horas', 'sp', 'foto', 'fala', 'treinamento', 'economico', 'cara', 'sonho', 'alunos', 'comunidade', 'aconteceu', 'algum', 'commodities', 'dividendos', 'palestra', 'taxas', 'resposta', 'proximos', 'painel', 'decisoes', 'carteiras', 'sociais', 'assessoriadeinvestimentos', 'roberto', 'jovens', 'passado', 'live', 'realizar', 'quase', 'agradecer', 'and', 'nome', 'abril', 'informacao', 'nivel', 'convidados', 'construir', 'acao', 'energia', 'conosco', 'escritorios', 'disponiveis', 'dedicacao', 'indice', 'reais', 'black', 'mesma', 'ne', 'ajustado', 'impacto', 'brasileira', 'gratidao', 'aplicativo', 'cordierinvestimentos', 'deixar', 'data', 'desafio', 'networking', 'especialistas', 'espaco', 'sonhos', 'marthaleonardis', 'maneira', 'solucoes', 'experiencias', 'diariamente', 'papo', 'aprendizado', 'igual', 'episodio', 'diferenca', 'diferentes', 'recomendadas', 'performance', 'base', 'premio', 'lideranca', 'entrar', 'seguro', 'xp', 'controlar', 'receita', 'userepost', 'aa', 'feira', 'revista', 'representa', 'inovacao', 'analises', 'importancia', 'alguem', 'erro', 'governo', 'br', 'pior', 'presente', 'certo', 'dados', 'verdade', 'economista', 'rentabilidade', 'fato', 'economica', 'dicas', 'entretenimento', 'paineis', 'mulher', 'varios', 'alto', 'pessimo', 'octocapitalbr', 'mudanca', 'comprar', 'podemos', 'abertura', 'conferir', 'patrocinio', 'sextafeira', 'taxaselic', 'nelogica', 'macroeconomia', 'sportainment', 'esteves', 'desenvolvimento', 'lideres', 'instituicao', 'tres', 'iniciativa', 'preco', 'relatorios', 'mercados', 'assunto', 'colaboradores', 'amigo', 'in', 'diretor', 'chegou', 'ciclo', 'nota', 'janeiro', 'tomar', 'passando', 'atual', 'existe', 'uso', 'consigo', 'realizada', 'comercial', 'rendafixa', 'operar', 'pesquisas', 'explicou', 'make', 'rendapassiva', 'duvida', 'deles', 'acontece', 'responsabilidade', 'problemas', 'queria', 'tbt', 'bancocentral', 'momentos', 'crescer', 'relevante', 'tentando', 'percentual', 'modelo', 'expectativas', 'balanco', 'bradesco', 'acontecer', 'inscricoes', 'conquista', 'diversos', 'sede', 'instituicoes', 'meta', 'agradecimento', 'chegar', 'gerar', 'podcast', 'liquido', 'ajuste', 'x', 'passada', 'principalmente', 'direct', 'assessordeinvestimentos', 'curso', 'construcao', 'conte', 'tema', 'soma', 'lima', 'internacional', 'claro', 'incriveis', 'previdencia', 'papel', 'comentarios', 'btlg', 'dificil', 'necessario', 'forca', 'plataformas', 'esg', 'mm', 'sportainmentr', 'afinal', 'proprio', 'mudar', 'transmissao', 'projetos', 'lider', 'conhece', 'tendo', 'assessores', 'acompanhar', 'quartafeira', 'brasileiros', 'visita', 'falando', 'aceleracao', 'organizacoes', 'cambio', 'produto', 'tenha', 'administrador', 'diversidade', 'winthegame', 'rede', 'parceiro', 'traz', 'imovel', 'custodia', 'novamente', 'unico', 'motivo', 'sensacional', 'cidade', 'nectoninvestimentos', 'emissao', 'passo', 'invest', 'tecnica', 'aluguel', 'cerca', 'deumbtg', 'conference', 'temas', 'agenda', 'segue', 'jeito', 'ordem', 'ativo', 'nenhum', 'coisas', 'pratica', 'venha', 'atras', 'materia', 'tinha', 'reducao', 'consegue', 'julho', 'estrutura', 'saude', 'pontosbase', 'joao', 'facil', 'alocacao', 'numero', 'beneficios', 'alguma', 'situacao', 'duvidas', 'encontrar', 'mansueto', 'almeida', 'perder', 'unica', 'movimento', 'terras', 'exclusivo', 'lucascostaat', 'aproveite', 'banking', 'referente', 'recomendacoes', 'entrada', 'comunicacao', 'coracao', 'diversas', 'funciona', 'variavel', 'viagem', 'cdi', 'comparacao', 'resolver', 'fundamental', 'ipca', 'mesa', 'receitas', 'estrategias', 'you', 'cuidado', 'sido', 'contou', 'sair', 'atividades', 'politico', 'fizeram', 'aula', 'referencia', 'bora', 'segmento', 'clube', 'recordes', 'convergencia', 'instrumento', 'hubstage', 'independente', 'gratuitamente', 'criar', 'business', 'ouvir', 'regiao', 'sallouti', 'recebi', 'resumo', 'prevista', 'manteve', 'talks', 'inscrevase', 'bicharaemotta', 'seguir', 'metas', 'possui', 'lembrar', 'ficam', 'tech', 'realizado', 'eua', 'sociedade', 'diferente', 'pagar', 'acompanhe', 'fique', 'interesse', 'novembro', 'redes', 'trazer', 'vergonha', 'orgao', 'assegurar', 'baixar', 'btgpactualdigital', 'garanta', 'ira', 'aproveitar', 'opcoes', 'deixe', 'corretagem', 'oferecer', 'reconhecimento', 'tendencias', 'areas', 'los', 'participaram', 'emprestimo', 'experience', 'terminal', 'ouro', 'liberdade', 'informou', 'tela', 'detalhes', 'servico', 'otimo', 'volta', 'g', 'passar', 'subiu', 'bons', 'gestor', 'desempenho', 'efeito', 'poderia', 'aumentar', 'rodrigo', 'boas', 'cafe', 'manha', 'alvarosfrasson', 'oi', 'httpswwwbcbgovbrdetalhenoticianota', 'liquidez', 'mundial', 'chegando', 'ottogsparenberg', 'organizacao', 'marketing', 'comecou', 'solucao', 'dando', 'dele', 'exterior', 'financeiras', 'mensagem', 'acreditar', 'etapa', 'consecutivo', 'amor', 'gestora', 'atividade', 'ideia', 'vi', 'del', 'w', 'filho', 'imersao', 'volatilidade', 'mercadoimobiliario', 'fundoimobiliario', 'wiseaai', 'levar', 'deixa', 'daytrader', 'buscar', 'recomendo', 'responsavel', 'gestores', 'robertosallouti', 'summit', 'satisfacao', 'acho', 'basta', 'cenarios', 'sa', 'fonte', 'corretoras', 'chat', 'logistica', 'escolha', 'questao', 'historico', 'fosse', 'atualmente', 'traders', 'talentos', 'portfolio', 'asset', 'garantia', 'futuros', 'btra', 'labs', 'judicial', 'justica', 'wwwclubefiinewscombr', 'respeito', 'trouxe', 'alcancar', 'lucasmclaro', 'palestras', 'apoiar', 'guedes', 'liga', 'conseguir', 'sabia', 'recebemos', 'publico', 'contas', 'olha', 'entregar', 'assistir', 'direto', 'historias', 'via', 'anunciou', 'vantagens', 'sentido', 'recuperacao', 'con', 'jornaloglobo', 'management', 'esperando', 'palavras', 'pensando', 've', 'alegria', 'conversa', 'passos', 'eleicoes', 'c', 'fluminense', 'mantendo', 'tiago', 'pensar', 'reportagem', 'apresentar', 'melhorar', 'private', 'inscrever', 'turma', 'aniversario', 'extremamente', 'opcao', 'v', 'colocar', 'continue', 'trading', 'realestate', 'setores', 'disciplina', 'horario', 'aquisicao', 'vagas', 'promovido', 'bb', 'relevantes', 'presentes', 'segundafeira', 'otima', 'desses', 'beneficio', 'empreender', 'continuar', 'existem', 'simplesmente', 'manutencao', 'chama', 'seguido', 'transformacao', 'noticias', 'consegui', 'lindo', 'tirar', 'absurdo', 'workshop', 'recorde', 'criancas', 'avanco', 'folhadespaulo', 'missao', 'conteudos', 'women', 'desenvolver', 'ministro', 'fiquei', 'fatura', 'us', 'possa', 'selecionadas', 'tenis', 'tecnico', 'transparencia', 'representantes', 'espero', 'custo', 'conseguiu', 'gracas', 'especialista', 'obter', 'souza', 'mastermind', 'cvm', 'forum', 'projecoes', 'criptomoedas', 'administradora', 'completos', 'passa', 'bate', 'destaques', 'marcelo', 'participantes', 'opiniao', 'ler', 'relacionamento', 'teremos', 'valeu', 'sustentavel', 'semanal', 'entrevista', 'linda', 'posicao', 'finance', 'dela', 'sportainmentlabs', 'impactos', 'bitcoin', 'rendimentos', 'liderancas', 'universo', 'empreendedores', 'perspectivas', 'transformar', 'marceloflora', 'fotos', 'privilegio', 'senior', 'fase', 'felipe', 'conquistar', 'causa', 'paises', 'equivalente', 'exatamente', 'horizonte', 'mesquita', 'iof', 'rogeriokarp', 'moedas', 'encerrar', 'safra', 'eletrobras', 'devido', 'mostrar', 'gosto', 'bc', 'pagina', 'by', 'investor', 'voltado', 'faria', 'interessante', 'positivo', 'it', 'rapido', 'woman', 'totalmente', 'portugal', 'mao', 'trabalha', 'privada', 'curto', 'lista', 'rendimento', 'pensa', 'serie', 'infelizmente', 'quintafeira', 'montar', 'diretora', 'estadao', 'globonews', 'shb', 'estara', 'perca', 'planos', 'torna', 'players', 'vaga', 'condicoes', 'santos', 'arte', 'grato', 'geracao', 'bovespa', 'mulheresinvestidoras', 'passou', 'deseja', 'liberdadefinanceira', 'amo', 'socia', 'titulos', 'patrocinador', 'prejuizo', 'empreendedor', 'n', 'chega', 'btgpactualempresas', 'contrato', 'queda', 'sementes', 'ana', 'pt', 'ptbrasil', 'vista', 'poderao', 'lucas', 'call', 'decimo', 'totais', 'roae', 'possibilidade', 'carteirarecomendada', 'medio', 'preferencia', 'aporte', 'representando', 'centro', 'atuacao', 'producao', 'capaz', 'estudo', 'federal', 'erros', 'chamar', 'escolher', 'permite', 'ganhar', 'assessora', 'olho', 'livre', 'irao', 'proteger', 'dessas', 'comeca', 'beachtennis', 'independencia', 'contratar', 'auditorio', 'contando', 'soja', 'empiricus', 'mdb', 'mensal', 'fevereiro', 'dica', 'aplicacao', 'cri', 'jose', 'abri', 'vemos', 'perfis', 'especialmente', 'peso', 'siga', 'pena', 'legal', 'mostra', 'leitura', 'fechou', 'saldo', 'mestre', 'profittoinvestimentos', 'tercafeira', 'empresarial', 'conselhos', 'precisam', 'abra', 'fundador', 'carinho', 'comum', 'mudancas', 'caixa', 'febraban', 'nisso', 'l', 'comecando', 'elevando', 'veio', 'copa', 'tarcisio', 'agroforum', 'advogados', 'entenda', 'ucrania', 'quiser', 'plano', 'seguros', 'privado', 'seguimos', 'investe', 'sabem', 'potencial', 'digitais', 'programacao', 'tennis', 'petroleo', 'debate', 'assista', 'acompanhando', 'abaai', 'convidado', 'daytrade', 'seguem', 'ruim', 'acontecendo', 'escolhas', 'demanda', 'tomada', 'amazonia', 'agosocial', 'orquestra', 'confirma', 'modalmais', 'telefone', 'news', 'diversificacao', 'diretamente', 'industria', 'presencial', 'carlos', 'edu', 'moeda', 'investindo', 'fico', 'proposta', 'encontra', 'carreiras', 'enforce', 'macroday', 'russia', 'reserva', 'recebeu', 'serio', 'media', 'disse', 'recomendacao', 'crcnews', 'seven', 'esperado', 'premiacao', 'empenho', 'ganha', 'olhar', 'asinvestimentos', 'rico', 'falou', 'achei', 'garantir', 'comentario', 'expectativa', 'bpac', 'henrique', 'apresentacao', 'material', 'paap', 'anterior', 'es', 'metros', 'poucos', 'rj', 'lulaoficial', 'efeitos', 'atingir', 'problema', 't', 'captacao', 'from', 'simulador', 'papeis', 'morning', 'antonio', 'randolferodrigues', 'uolnoticias', 'vinculada', 'inclusao', 'fgts', 'invightme', 'rally', 'wealth', 'crescendo', 'pago', 'selecao', 'prosperidadeinvestimentos', 'integra', 'possibilidades', 'on', 'estados', 'galera', 'empresarios', 'credibilidade', 'sustentabilidade', 'invista', 'pessoais', 'acredito', 'investido', 'entende', 'etc', 'pe', 'cabeca', 'deram', 'bank', 'maria', 'canais', 'divida', 'si', 'heliopolis', 'incentivo', 'manter', 'sabado', 'pedir', 'baixa', 'pedro', 'precisar', 'apresenta', 'realizacao', 'trabalhando', 'capitais', 'exercicio', 'topo', 'rs', 'estaremos', 'vendas', 'valoreconomico', 'toa', 'assuntos', 'gleisihoffmann', 'santo', 'oliveira', 'tornar', 'apoiam', 'is', 'cade', 'anual', 'prosperidade', 'proporcionar', 'saopaulo', 'compartilho', 'auxiliar', 'minutos', 'significa', 'acreditamos', 'focado', 'admiro', 'fortes', 'bancario', 'funcao', 'construindo', 'populacao', 'poupanca', 'tesouro', 'informar', 'varias', 'musica', 'lei', 'locacao', 'viver', 'nubank', 'perdeu', 'usando', 'clicar', 'advisor', 'espera', 'desafiador', 'executivos', 'evitar', 'infraestrutura', 'carro', 'whatsapp', 'pedido', 'imagina', 'primeiros', 'semanas', 'jovem', 'fabiofariabr', 'haddad', 'aviso', 'gerente', 'startups', 'mandei', 'design', 'marcado', 'mar', 'venham', 'subir', 'companhia', 'planejamentofinanceiro', 'desejo', 'inspirador', 'campanha', 'esquerda', 'gabriel', 'traderbrasil', 'certa', 'tras', 'constante', 'esperamos', 'domingo', 'livro', 'maravilhosa', 'debater', 'voto', 'especiais', 'conversar', 'trocar', 'riodejaneiro', 'tantas', 'dezembro', 'concerto', 'recebe', 'acerto', 'futebol', 'viu', 'patamar', 'novidades', 'vender', 'consultoria', 'ex', 'encerramento', 'fale', 'competicao', 'necessidades', 'santa', 'elevada', 'ganhou', 'enfatiza', 'ajustados', 'dependerao', 'miniindice', 'cresce', 'comerciais', 'paula', 'amatra', 'vantagem', 'money', 'valorizacao', 'cheia', 'exposicao', 'ideias', 'afirma', 'apesar', 'deveria', 'this', 'batepapo', 'agricola', 'necton', 'estagio', 'aberto', 'membros', 'estudos', 'leva', 'conheca', 'continua', 'resiliencia', 'seguiremos', 'emergentes', 'ferramenta', 'visa', 'expandir', 'inspiracao', 'apresentado', 'dificuldades', 'infomoney', 'minimo', 'forex', 'octocapital', 'yield', 'quadrados', 'investment', 'caro', 'gestoras', 'gustavo', 'protecao', 'atender', 'marcus', 'noticia', 'voltar', 'cobranca', 'falamos', 'imposto', 'recomendada', 'pagamentos', 'reconhece', 'una', 'revistaistoe', 'santanderbrasil', 'junior', 'correiobraziliense', 'portas', 'llz', 'rever', 'aponta', 'machado', 'contamos', 'participou', 'conhecimentos', 'voz', 'visto', 'genialinvestimentos', 'reunir', 'encerrada', 'tempos', 'enorme', 'visando', 'cheio', 'fiagro', 'kkkkk', 'conquistas', 'pandemia', 'conjunto', 'aplicacoes', 'capacitacao', 'praticas', 'compromisso', 'inteligencia', 'cancelar', 'aberta', 'analistas', 'ocorreu', 'buscando', 'explorar', 'habilidades', 'varejo', 'sinto', 'bi', 'horrivel', 'financiamento', 'dao', 'acredita', 'segmentos', 'internacionais', 'insights', 'caracteristicas', 'pequeno', 'felizes', 'fundacao', 'entrega', 'oferece', 'cuidar', 'rapida', 'publica', 'produzido', 'lancamento', 'fmp', 'km', 'propria', 'suficiente', 'dado', 'instagram', 'conexao', 'rua', 'best', 'fatores', 'transferencia', 'rolou', 'clearcorretora', 'comecei', 'artigo', 'contexto', 'medo', 'limites', 'bens', 'possiveis', 'capacidade', 'detalhe', 'web', 'ecossistema', 'explica', 'sul', 'master', 'ordens', 'brasileiras', 'encerramos', 'ancord', 'fechar', 'dividend', 'fe', 'tornou', 'enviar', 'termos', 'consequencia', 'mente', 'segura', 'impossivel', 'organizado', 'vontade', 'publicos', 'facilidade', 'consumidor', 'gtcapital', 'normal', 'politicas', 'mato', 'terao', 'equipes', 'deixou', 'acionistas', 'vidadetrader', 'comportamento', 'portalg', 'fazenda', 'sucessao', 'diariodonordeste', 'rav', 'sany', 'economistachefe', 'estrategista', 'daniel', 'demaisor', 'conferencia', 'definicao', 'fluxo', 'globais', 'almoco', 'parcerias', 'are', 'team', 'recentemente', 'inspira', 'mae', 'passei', 'ok', 'processos', 'iria', 'guideinvestimentos', 'planejar', 'perspectiveinvestimentos', 'personalidades', 'mudou', 'terca', 'daqui', 'pantanal', 'atua', 'esforco', 'dentre', 'sinfonica', 'somosvotorantim', 'avaliacao', 'jornalista', 'dm', 'merece', 'chance', 'chave', 'hein', 'las', 'aplicar', 'melhora', 'conforme', 'familias', 'pai', 'rumo', 'aspectos', 'longa', 'surpresa', 'formacao', 'fizemos', 'atingimos', 'professor', 'aulas', 'produtor', 'reforcar', 'capitalizado', 'padrao', 'mblivre', 'episodios', 'uoleconomia', 'mdbsaopaulo', 'adolfo', 'sachsida', 'hipismo', 'grosso', 'trainee', 'profitchart', 'painelista', 'btgvirtualchallenge', 'importa', 'trouxemos', 'confirmada', 'questoes', 'pergunta', 'ideal', 'rendaextra', 'btg', 'gosta', 'abre', 'lugares', 'novidade', 'faculdade', 'queremos', 'trazendo', 'conseguindo', 'gratificante', 'querendo', 'cobertura', 'sejam', 'registrou', 'destacar', 's', 'chefe', 'dedicado', 'maximo', 'alo', 'abrindo', 'querer', 'pouquinho', 'analista', 'estreia', 'anuidade', 'aguardando', 'divulgacao', 'exclusiva', 'un', 'associado', 'contrario', 'montante', 'agricolas', 'indicadores', 'podera', 'compras', 'luigicani', 'lucros', 'solicitacao', 'atitude', 'essencial', 'esposa', 'motivacao', 'liquidacao', 'fluzao', 'mentoria', 'inteli', 'ensinar', 'ensino', 'luiz', 'partners', 'be', 'ricocomvc', 'perspective', 'milho', 'pwcbrasil', 'comece', 'minidolar', 'jairmessiasbolsonaro', 'tendencia', 'privatizacao', 'rafamartineli', 'danilogentili', 'faeg', 'conflito', 'estarao', 'guerra', 'senhora', 'havia', 'determinacao', 'conforto', 'aproximadamente', 'categoria', 'fed', 'recente', 'conexoes', 'marcas', 'recebiveis', 'predio', 'felicidade', 'estagiario', 'alvo', 'elevacao', 'preparado', 'recebido', 'treino', 'shoppingleblon', 'apoiando', 'internet', 'epoca', 'luz', 'leonardo', 'ibov', 'like', 'cartoes', 'acha', 'fernando', 'lembrando', 'encontros', 'teria', 'feminina', 'olhos', 'envolvidos', 'europa', 'vidas', 'acontecera', 'dominvestimentos', 'linha', 'inauguracao', 'explicacao', 'gastos', 'edificio', 'houve', 'crise', 'carrefourbrasil', 'pj', 'gas', 'seguintes', 'casos', 'kkk', 'assets', 'economistas', 'consumo', 'diario', 'posicionamento', 'nativas', 'my', 'lembrese', 'apresentou', 'custos', 'manda', 'documento', 'recepcao', 'negociacao', 'bruno', 'alternativa', 'jersonzanlorenzi', 'sozinho', 'thiago', 'posicoes', 'chame', 'especie', 'movimentos', 'fisica', 'descubra', 'operacional', 'acqua', 'vero', 'jpmorgan', 'mantera', 'estadodeminas', 'utilizar', 'astropontes', 'romeuzemaoficial', 'vigilante', 'suficientemente', 'prolongado', 'fic', 'nslu', 'retomada', 'gustavocerbasi', 'acompanhado', 'economicos', 'vidadeassessor', 'tornaram', 'esteja', 'comemorar', 'precisamos', 'incertezas', 'razao', 'fabio', 'fa', 'deixando', 'dizendo', 'chamado', 'ocasiao', 'tiver', 'participei', 'kkkk', 'aonde', 'hj', 'dor', 'maringa', 'arenabtg', 'teatro', 'futura', 'dificuldade', 'esperar', 'confiar', 'evoluir', 'partner', 'administracao', 'eqiinvestimentos', 'eqi', 'consideracao', 'titulo', 'bahia', 'amiga', 'gaboardi', 'profissao', 'imperdivel', 'gratuita', 'edpbrasil', 'institucional', 'eleicao', 'direitos', 'praticamente', 'octo', 'victorferreira', 'escutaram', 'empresario', 'maravilhoso', 'entrou', 'anbima', 'cadeias', 'perdendo', 'frasson', 'cultural', 'macroeconomico', 'marcusbuaiz', 'vejanoinsta', 'radar', 'cironogueira', 'tecnicas', 'all', 'folhape', 'focados', 'cella', 'deflacao', 'avaliando', 'kimpaim', 'venderam', 'aparece', 'locataria', 'caminhos', 'zona', 'conversas', 'acelerar', 'delas', 'estrangeiro', 'conseguiram', 'responder', 'responde', 'alocar', 'atualizacao', 'perfeito', 'certificados', 'debates', 'lucasamadeu', 'auxilio', 'bankers', 'agradece', 'alimentos', 'ganho', 'tantos', 'rodrigues', 'serem', 'sentimento', 'quemtemtimetemtudo', 'parar', 'acabou', 'bela', 'adquirir', 'abraco', 'your', 'mesmos', 'conseguimos', 'sr', 'turno', 'ultimas', 'acreditarem', 'retornos', 'xoulee', 'that', 'arthur', 'prata', 'estavam', 'sai', 'homem', 'empreendimentos', 'civil', 'expertise', 'frase', 'controle', 'toroinvestimentos', 'jogo', 'perdas', 'vir', 'aprendizados', 'vamo', 'iniciando', 'teste', 'bosta', 'portal', 'k', 'pude', 'tende', 'contratos', 'bancobv', 'astraoficialbr', 'possuem', 'eleitoral', 'google', 'conceito', 'rosto', 'publicacao', 'eduardo', 'encerrou', 'mostrando', 'palavra', 'humano', 'semear', 'inteiro', 'cordier', 'eficiente', 'adicional', 'riqueza', 'quantidade', 'diferencial', 'decidir', 'eumebancoeducacao', 'paga', 'decepcao', 'transferir', 'empreendedora', 'reuniu', 'vencimento', 'criando', 'istoe', 'antagonista', 'if', 'cirogomes', 'aproximar', 'sabemi', 'creditos', 'avin', 'mracing', 'fronteira', 'condominios', 'participe', 'saiu', 'medidas', 'work', 'personalizado', 'preocupar', 'contratado', 'corre', 'convidar', 'ceoconference', 'havera', 'seguida', 'enviei', 'coragem', 'reconhecido', 'forevercapitalbr', 'virtual', 'usei', 'corporativo', 'falei', 'f', 'cadastro', 'celular', 'sonhar', 'observação', 'altos', 'ouviu', 'atuam', 'caiu', 'artisticopedagogicas', 'unileverbrasil', 'lamentavel', 'proporcionarem', 'fia', 'negativo', 'aprendi', 'trabalhamos', 'curtir', 'caminhada', 'porta', 'realizando', 'torno', 'tradicionais', 'integracao', 'emsfarmaceutica', 'ruas', 'situacoes', 'formado', 'ladrao', 'vejo', 'obra', 'tvglobo', 'orcamento', 'completamente', 'metaverso', 'trata', 'reduzir', 'estudar', 'registro', 'midia', 'juntamente', 'caras', 'abencoe', 'humanos', 'funcionarios', 'times', 'propaganda', 'contribuicao', 'instrucao', 'deposito', 'excelentes', 'numeros', 'cores', 'fortuna', 'graos', 'universidade', 'somostraders', 'financeiramente', 'racing', 'oedacoisaband', 'mdbnosenado', 'o', 'desenvolvido', 'diariodocentrodomundo', 'jovempannews', 'agua', 'investi', 'gusttavolima', 'tvgazetaoficial', 'crmbonus', 'barras', 'posted', 'wmm', 'ibovespaoficial', 'comat', 'icmarkets', 'neymarjr', 'cunha', 'entregamos', 'colegas', 'exclusivos', 'unidos', 'imagem', 'criacao', 'disciplinas', 'poderiam', 'pensei', 'marcou', 'medida', 'agilidade', 'azul', 'alavancagem', 'araujo', 'superar', 'aluno', 'iniciei', 'ritmo', 'levantamento', 'comenta', 'aguardo', 'piloto', 'brazil', 'representar', 'emprestimos', 'natureza', 'meioambiente', 'indico', 'emocionante', 'proximas', 'videos', 'versao', 'divulgou', 'recomendados', 'onixcapital', 'feio', 'gostariamos', 'revistaexame', 'brunolima', 'viva', 'clique', 'grafico', 'jamais', 'tome', 'nele', 'rafael', 'inter', 'semestre', 'irei', 'boostlab', 'sentir', 'cotista', 'bemestar', 'kineainvestimentos', 'pfizerbrasil', 'provida', 'novelis', 'ibiunainvestimentos', 'furnasenergia', 'alelobrasil', 'dividir', 'reposted', 'cadeia', 'tivesse', 'candidato', 'necessidade', 'brincadeira', 'ma', 'jornal', 'confere', 'recebiveisimobiliarios', 'virar', 'formas', 'nasceu', 'congresso', 'publicas', 'silva', 'bancaria', 'preparamos', 'literalmente', 'praia', 'influencia', 'escriturador', 'pib', 'subscricao', 'petrobras', 'fechamento', 'crypto', 'jesus', 'pessoalmente', 'disposicao', 'campeao', 'eou', 'corrida', 'oferecendo', 'observamos', 'vitreo', 'entanto', 'relacionados', 'movimentar', 'ficamos', 'realizamos', 'carolina', 'firulas', 'limitadas', 'shbrj', 'tv', 'previdenciaprivada', 'conexaopoliticabrasil', 'diariosp', 'milton', 'folhadobrasil', 'volume', 'afirmou', 'provas', 'redesconto', 'cobrir', 'perguntam', 'guigaspinellipiloto', 'equidade', 'csn', 'myntcrypto', 'villa', 'sequencia', 'modalmaistrader', 'recompensa', 'celebramos', 'miltonneves', 'garantidora', 'sociofundador', 'velho', 'hedge', 'especifico', 'tamanho', 'nesses', 'levou', 'discutir', 'investments', 'gwminvestments', 'advisors', 'av', 'atuais', 'seveninvestor', 'acaba', 'companhias', 'impactar', 'pedi', 'querido', 'competente', 'discussoes', 'inteligente', 'tb', 'abundancia', 'tempoedinheiro', 'crianca', 'preparar', 'intenso', 'cnnbrasil', 'sac', 'merito', 'sugestao', 'solidez', 'lifetime', 'intencao', 'gostei', 'juntas', 'especializada', 'feras', 'santander', 'bilhao', 'btgsoma', 'competencia', 'maestro', 'obras', 'ingressos', 'plateia', 'apresentacoes', 'have', 'desistir', 'garante', 'demos', 'novafuturainvestimentos', 'entrei', 'resolve', 'mensagens', 'complicado', 'pronta', 'venho', 'contribuir', 'salvador', 'clear', 'frear', 'elevar', 'irmao', 'aumentos', 'open', 'presenciais', 'diminuindo', 'bronze', 'averydennisonbrasil', 'sofisa', 'estate', 'fsb', 'isencao', 'marcos', 'cortes', 'cai', 'negociacoes', 'associados', 'acreditam', 'mormaii', 'diversificar', 'historicamente', 'exclusivas', 'superior', 'atletas', 'fortalecer', 'ricardo', 'ca', 'recebo', 'registrando', 'certificacao', 'consequentemente', 'guilherme', 'posts', 'presencialmente', 'palestrantes', 'abordados', 'entra', 'fisico', 'martins', 'proporciona', 'inesquecivel', 'instrumentos', 'fiscal', 'impulsionado', 'escola', 'acabei', 'exercito', 'confiantes', 'rural', 'juridica', 'sorte', 'pos', 'fundosdeinvestimentos', 'integrado', 'imparcial', 'marketeiras', 'comercio', 'blockchain', 'decidiu', 'sonha', 'inteligenciafinanceira', 'conecta', 'fgv', 'inovadoras', 'sabemibrasil', 'kimkataguiri', 'salimmattarbr', 'envio', 'leandro', 'bancointer', 'paguei', 'flavio', 'finshe', 'geducacao', 'movimentacao', 'educador', 'buaiz', 'cavalo', 'guiga', 'triton', 'cancer', 'crescem', 'fruto', 'uniaobrasil', 'kimak', 'natal', 'decente', 'damaresalvesoficial', 'etf', 'move', 'cidades', 'abordar', 'automobilismo', 'china', 'temporada', 'intensa', 'lifetimeinvestimentos', 'circulacao', 'liderados', 'investimentosinteligentes', 'feriado', 'at', 'pronto', 'mirna', 'palco', 'impostos', 'agentes', 'senhor', 'justamente', 'enfim', 'goiania', 'vencer', 'fundacaoestudar', 'miranda', 'daytrading', 'senha', 'anunciar', 'bola', 'moro', 'quadro', 'salario', 'estarei', 'alexandre', 'serve', 'falaram', 'more', 'inicial', 'aplicativos', 'imaginar', 'opa', 'cast', 'depende', 'ganhos', 'digo', 'andar', 'previsao', 'vacancia', 'vive', 'procurando', 'pregao', 'descaso', 'condicao', 'parceira', 'pequenos', 'gigantes', 'marcando', 'facilitar', 'altas', 'vivendo', 'estavel', 'debito', 'bancodaycoval', 'havanoficial', 'luiza', 'render', 'politicos', 'contara', 'votar', 'fortaleza', 'errado', 'farialima', 'dinamica', 'sport', 'tradicional', 'insta', 'criptoativos', 'negativa', 'gostou', 'corpo', 'banker', 'ajudaram', 'ocorre', 'ajudou', 'jorge', 'lidar', 'piada', 'boat', 'nautica', 'doacao', 'eficiencia', 'produtivas', 'imenso', 'bater', 'grupos', 'fara', 'reclamacao', 'preparados', 'overview', 'fantastica', 'significativo', 'contidas', 'pilares', 'cuida', 'preparada', 'agrishow', 'nacionais', 'boi', 'gordo', 'inspiradoras', 'produtores', 'conectar', 'casas', 'reportando', 'corroborou', 'oficialarthurlira', 'psol', 'util', 'anuncio', 'engenharia', 'fontes', 'reclame', 'iniciativas', 'trecho', 'blcp', 'segavin', 'vemprarua', 'olhada', 'jmen', 'jornaldarecord', 'cbnoficial', 'su', 'formulario', 'faturas', 'devera', 'revistaepoca', 'bandnewstv', 'young', 'reunidos', 'hipica', 'workshops', 'hotel', 'ama', 'opahitdigital', 'vianmancel', 'marcelosampaiocf', 'juiz', 'implantaragro', 'faegjovem', 'basileia', 'macedo', 'ronaldocaiado', 'nyse', 'cafecomferri', 'ratinho', 'dono', 'bandeira', 'alavancar', 'trajetorias', 'empreendedorismofeminino', 'parcela', 'formato', 'considerando', 'monteiro', 'forbesbr', 'performer', 'triste', 'home', 'fantastico', 'incluindo', 'ponta', 'orgulhodeserassessor', 'bancodobrasil', 'aprendendo', 'surgiu', 'covid', 'salve', 'finalmente', 'entendi', 'esqueca', 'parado', 'exemplos', 'andrelvbona', 'sobretudo', 'convido', 'gravacao', 'portabilidade', 'entendemos', 'relacionadas', 'legado', 'calculo', 'conservacao', 'mata', 'cresceu', 'caps', 'saida', 'bdrs', 'play', 'termo', 'we', 'borges', 'marcar', 'titular', 'salas', 'festa', 'acontecem', 'inadimplencia', 'carvalho', 'apareceu', 'locais', 'oramainvestimentos', 'podio', 'market', 'escolhi', 'procurar', 'curva', 'aliado', 'conduzido', 'escolhido', 'faaala', 'trades', 'vende', 'dose', 'doenca', 'acontecimentos', 'empreendimento', 'diaria', 'considera', 'facam', 'seguradoraaustral', 'juntar', 'metodo', 'parque', 'academia', 'ficara', 'perda', 'comunidades', 'reune', 'receberam', 'vence', 'seguinte', 'pagou', 'mentor', 'sorriso', 'interesses', 'atuando', 'unidade', 'preto', 'premios', 'duro', 'cair', 'reunioes', 'ewzcapital', 'moraes', 'bacana', 'inumeras', 'multiplicar', 'shopping', 'puta', 'age', 'dever', 'vanessa', 'estrategica', 'ribeiro', 'multimercado', 'financiar', 'comissao', 'santana', 'reflexo', 'orientacao', 'avaliar', 'espirito', 'cruz', 'contam', 'adicionalmente', 'analisetecnica', 'humildade', 'perdi', 'spread', 'stop', 'financaspessoais', 'recurso', 'york', 'americano', 'simulacao', 'acompanharam', 'our', 'poucas', 'industrial', 'menores', 'atleta', 'guilhermeboulosoficial', 'fome', 'conclusao', 'cecilia', 'falha', 'consistente', 'assessorextraordinario', 'profissaodofuturo', 'psdboficial', 'dupla', 'fraude', 'grupoabveiculos', 'marcoantoniovillaoficial', 'volatil', 'estudantes', 'radiobandnewsfm', 'emprego', 'assembleia', 'formada', 'usharktoken', 'executivas', 'ethereum', 'lembra', 'am', 'anapaulavolei', 'plnacional', 'conscientizacao', 'inversion', 'cn', 'gerenciar', 'acessoria', 'tokenizacao', 'macroeconomicas', 'politizar', 'pop', 'cenci', 'fbs', 'andrejanones', 'abduch', 'desagil', 'motta', 'informado', 'verde', 'proprietario', 'reunidas', 'empreendedoras', 'consciente', 'compartilhe', 'comentar', 'hub', 'arquitetura', 'casamento', 'maos', 'ifix', 'diversifiicando', 'juliana', 'propriedade', 'fernanda', 'provavelmente', 'respondem', 'funcionamento', 'coloco', 'saques', 'avancos', 'feminino', 'socias', 'afscapitaloficial', 'homens', 'competentes', 'tenham', 'buscamos', 'reflete', 'renato', 'moderno', 'admiracao', 'bona', 'agenteautonomodeinvestimentos', 'estaria', 'experiente', 'certificacoes', 'dificeis', 'seletivo', 'enriquecedor', 'coloquei', 'criada', 'aceitar', 'paixao', 'gomes', 'dna', 'aprimorar', 'propostas', 'daqueles', 'referencias', 'direta', 'abertas', 'cerrado', 'existencia', 'esforcos', 'voluntarios', 'small', 'sol', 'convidamos', 'osh', 'an', 'determinado', 'continuo', 'cmcapital', 'klabinsa', 'antigo', 'solucionar', 'resolucao', 'espetacular', 'especializado', 'confia', 'promover', 'gigante', 'curitiba', 'disponibilidade', 'representam', 'estabilidade', 'equity', 'fs', 'desejam', 'remedio', 'popular', 'bps', 'anunciamos', 'amanda', 'alves', 'positiva', 'constancia', 'corporate', 'unidades', 'piso', 'sensacao', 'was', 'instabilidade', 'seguindo', 'resolvido', 'institutobaccarelli', 'ong', 'magazineluiza', 'verdeassetmanagement', 'alternativas', 'claudio', 'analisar', 'metodologia', 'judiciais', 'dolares', 'prever', 'dividas', 'acessivel', 'massa', 'conhecidos', 'responsaveis', 'fund', 'mantem', 'buscam', 'atento', 'leilao', 'cheguei', 'interessantes', 'apoiadores', 'estarem', 'vivemos', 'concorrentes', 'barreiras', 'terem', 'indigenas', 'trocas', 'quis', 'reclamacoes', 'animado', 'rotina', 'ah', 'ganhei', 'lancado', 'give', 'liberar', 'institutovelhoamigo', 'passaram', 'ressalta', 'patamares', 'declaracao', 'enriquecedora', 'advogado', 'pimenta', 'who', 'alvaro', 'vip', 'perspectiva', 'despesas', 'ligados', 'big', 'motivos', 'respectivamente', 'adequados', 'cris', 'pascoa', 'institutotiagocamilo', 'judo', 'campeoes', 'segurodevida', 'pressao', 'centrais', 'jobininvestimentos', 'modo', 'go', 'dei', 'pequenas', 'chegamos', 'vim', 'pagaria', 'aguardamos', 'correr', 'comando', 'beach', 'comoinvestir', 'relacoes', 'premium', 'ptsaopaulo', 'sf', 'pdt', 'focada', 'tratamento', 'prejuizos', 'sunoresearch', 'bootcampadvisors', 'transformou', 'radardasemana', 'anda', 'start', 'renancalheiros', 'colaboracao', 'campo', 'economizar', 'hipismobrasil', 'lulanoprimeiroturno', 'bancarios', 'relembrar', 'atingindo', 'jornalnacional', 'psbnacional', 'instafiesp', 'fiemgoficial', 'cnibr', 'tarcisiogdf', 'variados', 'alimentacao', 'obtive', 'parceiras', 'usamos', 'comecinho', 'pwc', 'cavalos', 'bplangroup', 'tipos', 'cannabis', 'principios', 'dacar', 'spinelliracing', 'gustavogugelmin', 'bajaportalegre', 'bancosafra', 'cbank', 'braco', 'marceloqueiroga', 'cavalcare', 'moinho', 'freou', 'seguidos', 'xxxi', 'arca', 'correiohoras', 'oratinho', 'nikolasferreirabr', 'patinhadepano', 'karinakufa', 'juiza', 'essencia', 'totalidade', 'necessarias', 'compartilhamos', 'presidencia', 'fomentar', 'fator', 'peca', 'ipo', 'adorei', 'opera', 'look', 'coloca', 'cobra', 'concordo', 'broker', 'migrar', 'fabricio', 'essenciais', 'imensamente', 'leblon', 'telecomunicacoes', 'toque', 'orgulhoso', 'prol', 'potenzacapital', 'explicar', 'entendo', 'atuar', 'recebidos', 'destino', 'per', 'director', 'organizar', 'ia', 'atitudes', 'decidi', 'construimos', 'jogos', 'satisfeito', 'execucao', 'continuaremos', 'ciro', 'fundadores', 'transformacoes', 'governador', 'preocupacao', 'inves', 'intensos', 'fazerem', 'feitas', 'formula', 'natural', 'aprenderam', 'group', 'baita', 'repertorio', 'programas', 'love', 'segredo', 'regioes', 'modelos', 'fi', 'cp', 'ambiental', 'wertinvestimentos', 'vendo', 'demo', 'qualidadedevida', 'gostava', 'priceaction', 'prontos', 'ligar', 'gerenciamento', 'sequer', 'abertos', 'associacao', 'torre', 'queridos', 'norte', 'sabemos', 'descobrir', 'avisar', 'ti', 'irmão', 'superacao', 'art', 'consistencia', 'atrativo', 'dura', 'saindo', 'sigo', 'protagonismo', 'cripto', 'organizada', 'diniz', 'abriu', 'integral', 'estruturacao', 'oferecem', 'ambientais', 'utilizado', 'acumulado', 'fifa', 'cstopbr', 'grupohagana', 'jantar', 'ajudem', 'mossoro', 'correta', 'votos', 'absolutamente', 'funcionario', 'atende', 'nuevo', 'inquilino', 'grata', 'alteracao', 'previsto', 'acompanha', 'spotify', 'contem', 'cotacao', 'exportadores', 'usado', 'acompanham', 'disseram', 'interna', 'abaaioficial', 'job', 'afs', 'ouvidoria', 'atingiu', 'augusto', 'campos', 'operacionais', 'modalidade', 'desbloqueio', 'flora', 'campeonato', 'sabedoria', 'faltou', 'li', 'aposentadoria', 'longoprazo', 'registros', 'revistanautica', 'back', 'ensinamentos', 'sacrenamidia', 'restrita', 'conselheira', 'combustiveis', 'belo', 'pariu', 'produtivo', 'gastronomia', 'votacao', 'celebrar', 'visitar', 'asidbrasil', 'previo', 'presenciar', 'bolsas', 'altamente', 'julia', 'administrar', 'adocao', 'discutidos', 'liderar', 'reconhecer', 'jornalismo', 'economias', 'transferencias', 'redor', 'aumenta', 'potencia', 'saf', 'negociar', 'classe', 'projecao', 'tomem', 'corporativos', 'network', 'legais', 'voluntariado', 'charles', 'destaca', 'danca', 'loss', 'etica', 'queira', 'relacionar', 'eleito', 'trilhao', 'esquece', 'documentos', 'queiroz', 'presidiario', 'clevel', 'infra', 'motorsport', 'nasdaq', 'reconhecidos', 'ceos', 'bbcbrasil', 'elpaisbrasil', 'janainacpaschoal', 'fernandohaddadoficial', 'devo', 'responderam', 'conseguem', 'chao', 'gera', 'bluecap', 'privados', 'costa', 'retencao', 'gazetadopovo', 'augustosnunesoficial', 'flaviobolsonaro', 'tranquilidade', 'chato', 'expert', 'agradecimentos', 'mattos', 'compradas', 'desisti', 'jornalhoje', 'geraldoalckmin', 'cbnspoficial', 'estadio', 'medias', 'formar', 'mutuo', 'lf', 'ponde', 'fgc', 'diariodograndeabc', 'pereira', 'assessoraaline', 'toledoarthur', 'geovanainvest', 'rafa', 'dema', 'cristessamarino', 'tessaro', 'maringaparana', 'prospecto', 'preliminar', 'jump', 'cursos', 'managers', 'representatividade', 'reduz', 'lide', 'womanmastermind', 'municipio', 'nandomoura', 'colchoescastor', 'httpswwwvcapitalcombr', 'filesugdaa', 'seguradora', 'sabados', 'cfpr', 'recomendamos', 'replay', 'golpe', 'irdm', 'galpoes', 'campinas', 'depoimento', 'people', 'negociei', 'reels', 'marcelotas', 'deficiencia', 'excecao', 'leads', 'bspar', 'bs', 'viramos', 'comecamos', 'teamfuturobom', 'institutosalvequebrada', 'abat', 'mama', 'joaquinteixeiraoficial', 'acmnetooficial', 'rodrigogarciaoficial', 'marcelvanhattem', 'claudiocastrorj', 'celsoportiolli', 'brasinha', 'ingles', 'saimos', 'quantas', 'confirmou', 'feed', 'visibilidade', 'postura', 'imagens', 'ambientes', 'impecavel', 'vitoria', 'condominio', 'cash', 'lifestyle', 'executivo', 'gerido', 'recebendo', 'considerado', 'crescente', 'continuara', 'levando', 'trxf', 'realizou', 'indicador', 'orthopride', 'nike', 'alberto', 'gracias', 'verdadeiro', 'eternamente', 'loja', 'postagem', 'meramente', 'bolso', 'facial', 'pessima', 'viverderenda', 'conversamos', 'po', 'faltando', 'entendem', 'comecaram', 'ficaram', 'baixos', 'exsecretario', 'tirou', 'mais', 'milhas', 'corresponde', 'z', 'up', 'much', 'resolveu', 'regencia', 'interpreta', 'baccarelli', 'profit', 'selecionar', 'pensou', 'intimado', 'informando', 'alugueis', 'trx', 'smart', 'identificar', 'cresceram', 'diga', 'recomecar', 'gabriela', 'homenagem', 'corporativas', 'desconto', 'sigam', 'vivi', 'lindas', 'diria', 'surgem', 'tendem', 'ferreira', 'fernandes', 'proximidade', 'prazos', 'profitto', 'emergencia', 'facilita', 'vinculado', 'paz', 'motociclooficial', 'dufriorefrigeracao', 'reforma', 'infantil', 'idade', 'circuito', 'jogar', 'deveriam', 'conheco', 'compreender', 'explique', 'corporativa', 'professores', 'high', 'tava', 'eh', 'one', 'independenciafinanceira', 'sobe', 'exclusivamente', 'solida', 'apple', 'mario', 'betano', 'industrias', 'rica', 'vieira', 'positivos', 'eletrica', 'categorias', 'cria', 'aproveita', 'empoderamento', 'investirem', 'terra', 'respeitados', 'distribuidas', 'life', 'positivas', 'mobiliarios', 'composicao', 'san', 'desculpas', 'milionario', 'ridiculo', 'solicitar', 'participando', 'emocional', 'amigas', 'captar', 'idealizado', 'filhos', 'rioboatshow', 'localizado', 'idosos', 'scre', 'plugado', 'httpsbitlydmslb', 'full', 'desenvolvendo', 'tento', 'constroi', 'atendente', 'passam', 'insper', 'mentores', 'criado', 'pudemos', 'uteis', 'economicas', 'va', 'ferrari', 'executiva', 'clara', 'emergente', 'inscreva', 'efetuar', 'renovainvest', 'rogerio', 'emocao', 'mentira', 'camilo', 'gastar', 'impressao', 'geopoliticos', 'onda', 'tom', 'inflacionario', 'ajude', 'trazem', 'investing', 'partiu', 'escutar', 'oficialmente', 'kazacapital', 'viajar', 'btal', 'integrantes', 'john', 'visitas', 'river', 'incentivar', 'saudades', 'cmg', 'danos', 'otica', 'mandar', 'beachtennislife', 'goias', 'possam', 'atendido', 'datenareal', 'lasiermartins', 'erikakokay', 'apresentaram', 'discutiu', 'etapas', 'fundosdeinvestimento', 'micro', 'qualificado', 'comentou', 'poderiamos', 'renansantosmbl', 'bolsonarosp', 'promocao', 'regras', 'embarque', 'santaceciliastables', 'dedos', 'mito', 'pgbl', 'candidatos', 'pensam', 'martha', 'accionistas', 'proceso', 'marcelofreixo', 'americana', 'luizaerundina', 'federais', 'refletindo', 'vitor', 'epocanegocios', 'cfoab', 'robert', 'bloquearam', 'cpf', 'download', 'psdb', 'xpinc', 'marque', 'contabilidade', 'reeleito', 'agorainvestimentos', 'brpartnersoficial', 'morganstanley', 'percentclub', 'womeninfinance', 'folha', 'freitas', 'estoque', 'mariana', 'pratique', 'texto', 'ocorrer', 'alerta', 'drrafaelfreitas', 'correntistas', 'devemos', 'conto', 'incansavel', 'roadsec', 'tornei', 'registraram', 'pre', 'portalegre', 'webcast', 'incorporacao', 'branco', 'incompetencia', 'uniaobrasilsp', 'miriamleitao', 'ofertas', 'lira', 'robusto', 'comprometida', 'diaztrade', 'independenciasacre', 'grupoccroficial', 'marchagenuina', 'qualificador', 'pretexto', 'perfin', 'fundacaofhc', 'primo', 'bernardopkuster', 'rogeriosmarinho', 'generalmourao', 'terraosmar', 'cleitinhoazevedo', 'withrepost', 'spgc', 'trtba', 'carlazambelli', 'ethimos', 'claudioduarte', 'gusgayer', 'bruce', 'gp', 'artpe', 'original', 'entretanto', 'hospital', 'wise', 'verdes', 'invasao', 'gerando', 'filme', 'relevancia', 'postar', 'dolarfuturo', 'ajudando', 'identidade', 'cases', 'businesswoman', 'esportivo', 'criaram', 'verificar', 'costas', 'comentei', 'goncalvez', 'discussao', 'assessoradeinvestimentos', 'mulheresnomercado', 'voltados', 'sermos', 'luta', 'tinham', 'respectivos', 'proshop', 'mineracao', 'alinhamento', 'imaginou', 'vencedor', 'falam', 'cerimonia', 'seleto', 'partes', 'incessante', 'falo', 'cnpj', 'arena', 'lembro', 'tirei', 'basicamente', 'ingressar', 'funcionava', 'durou', 'inteiros', 'tomei', 'carga', 'warrenbrasil', 'colocando', 'dividendo', 'inc', 'mastercard', 'descobri', 'massafelipe', 'mandou', 'sales', 'senti', 'virou', 'indispensavel', 'contratados', 'motor', 'faltam', 'tentativas', 'lutas', 'despeito', 'world', 'encontrei', 'eleva', 'biodiversidade', 'atlantica', 'mentorias', 'acompanhamento', 'alteracoes', 'mandaram', 'reforca', 'today', 'has', 'pagando', 'hebraica', 'estiver', 'cobrando', 'normalmente', 'token', 'continuam', 'acessos', 'locatario', 'dara', 'lancamos', 'seres', 'achar', 'pratico', 'perde', 'atualizar', 'premiados', 'bastasse', 'gain', 'necessaria', 'confiavel', 'estrategico', 'antecipada', 'registrado', 'porcaria', 'anuario', 'saco', 'surpresas', 'prejudicial', 'plantao', 'comecam', 'produz', 'vera', 'miurainvestimentos', 'inumeros', 'software', 'interacao', 'almirante', 'conservador', 'geralmente', 'diversificada', 'ajudalo', 'sabendo', 'remuneracao', 'margem', 'decepcionado', 'what', 'feedback', 'nigro', 'carioca', 'espacos', 'dignidade', 'acessando', 'entrando', 'revolucao', 'club', 'sinceramente', 'consciencia', 'transparente', 'analisei', 'realiza', 'asi', 'competencias', 'rodada', 'prefiro', 'sinal', 'vendedor', 'jus', 'agente', 'fecha', 'enche', 'intuito', 'nuestro', 'voando', 'melhorias', 'precisando', 'fujam', 'minima', 'leve', 'nobre', 'maisaai', 'utilizam', 'gerdau', 'modal', 'kkkkkk', 'alias', 'diminuir', 'cientista', 'compartilha', 'houver', 'convidada', 'financial', 'juntou', 'paraquedistas', 'reagindo', 'sofridos', 'luigi', 'biodegradavel', 'contendo', 'quilos', 'povos', 'chairman', 'amg', 'considerar', 'executar', 'enviado', 'conhecemos', 'imediato', 'envie', 'obg', 'barbara', 'preparando', 'possamos', 'ativa', 'marina', 'ansiosos', 'salao', 'variacao', 'ambev', 'filantropia', 'repleta', 'parcelas', 'origem', 'inferior', 'consenso', 'uniao', 'sobras', 'dedicar', 'adoro', 'lancamentos', 'regulamento', 'anderson', 'anportilho', 'projetosocial', 'indicacao', 'soubtg', 'ressaltar', 'somosseven', 'restricoes', 'marketingdigital', 'vencedores', 'id', 'iremos', 'interpretado', 'destinatarios', 'especificas', 'reservas', 'startup', 'destinados', 'preparo', 'ihp', 'esperanca', 'celebracao', 'pretende', 'compoem', 'ciclos', 'exclusividade', 'insumos', 'decorrente', 'aliainvestimentos', 'mostram', 'rsrs', 'fake', 'humanizacao', 'papai', 'motiva', 'genial', 'carregar', 'quantias', 'gostando', 'reis', 'superficie', 'retirar', 'fisicas', 'equipamentos', 'esquecam', 'morais', 'seguidores', 'torcida', 'tomarem', 'colombia', 'can', 'separe', 'descomplicado', 'ligacoes', 'estudios', 'maes', 'luis', 'treinos', 'recordnews', 'deixei', 'compartilhou', 'equilibrio', 'nu', 'merecido', 'humanizado', 'acreditando', 'beatriz', 'desrespeito', 'mensais', 'guaruja', 'acham', 'linhas', 'verdadeira', 'trio', 'percepcao', 'nave', 'pires', 'anna', 'victoria', 'nathana', 'bedran', 'calil', 'beto', 'atribunasantos', 'jc', 'portaldatafolha', 'bandjornalismo', 'agricultura', 'tirando', 'associate', 'aereas', 'cuidadosa', 'devedor', 'prio', 'goncalves', 'lucianohangbr', 'ullmann', 'neto', 'matriculas', 'tc', 'preparou', 'abbcbr', 'cfasocietybrazil', 'notificacao', 'farao', 'btc', 'cartorio', 'diverso', 'talentosas', 'httpswwwfinshecoyws', 'atrativos', 'amei', 'le', 'capaiffer', 'lastro', 'craques', 'quao', 'odio', 'sucessorio', 'patrocinando', 'cofundador', 'inovadora', 'conduzir', 'cm', 'segurado', 'reduziram', 'binance', 'favela', 'negras', 'mitsubishi', 'guimaraes', 'setima', 'mi', 'inedito', 'tsejus', 'agregar', 'clicando', 'sistemafaeg', 'stakeholders', 'earning', 'stonoex', 'som', 'ultra', 'mazarsnobrasil', 'fundamentogrupodecomunicacao', 'felipeneto', 'noomis', 'lamento', 'incendio', 'mangalarga', 'marchaoriginalporexcelencia', 'marchamangalarga', 'cavalodeselabrasileiro', 'mangalargadobrasil', 'cavalodesela', 'cavalgada', 'abccrm', 'cavalodafamilia', 'aexponacionalmangalarga', 'compilado', 'anota', 'rideplay', 'rodrigopacheco', 'quebrada', 'hackathon', 'jpmorganprivatebank', 'content', 'adrillesjorge', 'brasilparalelo', 'ottogsparenberrg', 'trt', 'sorayathronicke', 'ricardobarrosoficial', 'fracoes', 'generalpazuellooficial', 'termina', 'secretaria', 'available', 'alvarez', 'marsal', 'moderacao', 'bce', 'future', 'escala', 'indicados', 'lourdes', 'paciencia', 'inovar', 'michael', 'talk', 'somar', 'edital', 'rotacao', 'btgfaztech', 'bcff', 'letras', 'fof', 'thiagonigro', 'ampla', 'robertoljustus', 'euro', 'mercadodecapitais', 'ready', 'elevado', 'proporcionou', 'economirna', 'inesqueciveis', 'tiofly', 'comprometimento', 'reflexao', 'tomando', 'preconceitos', 'genero', 'autonomos', 'nps', 'craque', 'tenisrj', 'atp', 'pertencer', 'pautas', 'cia', 'avaliou', 'interno', 'externo', 'concurso', 'vitorias', 'surpreendido', 'peguei', 'managing', 'apresentamos', 'concorrente', 'encerra', 'salvou', 'oferecemos', 'indicando', 'cobrado', 'comprei', 'diversificado', 'unificar', 'energy', 'about', 'pensamentos', 'forevercapital', 'apps', 'define', 'imprensa', 'repleto', 'contratacao', 'desejado', 'fundadora', 'primaria', 'funcionam', 'causando', 'envolve', 'fins', 'biomas', 'patrocina', 'very', 'uau', 'desenvolvedores', 'diminuiram', 'pessimos', 'luciana', 'ativacao', 'cooperativas', 'destruicao', 'imagine', 'fixado', 'tribunal', 'primeiras', 'vanquish', 'lisboa', 'argentina', 'diferenciais', 'demora', 'desejar', 'resolvem', 'price', 'utilizo', 'bracos', 'propositos', 'compartilhado', 'vila', 'terreno', 'dom', 'turismo', 'reduzida', 'beleza', 'previa', 'alternativos', 'analisou', 'reconheceu', 'ajustar', 'atrair', 'regular', 'citar', 'certificado', 'diego', 'organize', 'membro', 'international', 'trademap', 'preparativos', 'magna', 'correcao', 'pega', 'louco', 'interior', 'materiais', 'green', 'not', 'integrar', 'tinhamos', 'positivamente', 'oferecido', 'maravilhosas', 'funcoes', 'percebo', 'osorio', 'permitir', 'letrepost', 'possuo', 'ciencia', 'chamada', 'criterios', 'dai', 'critica', 'gado', 'valiosa', 'indo', 'regra', 'comprou', 'resgate', 'depender', 'autonomo', 'indicar', 'aplicado', 'cio', 'rocha', 'juro', 'panel', 'solicitei', 'voltou', 'enriquecer', 'permitira', 'nft', 'sumiu', 'compostos', 'proventos', 'indicado', 'muda', 'ressaltou', 'criador', 'posse', 'localiza', 'atendem', 'mendes', 'estrategicas', 'prometem', 'incondicional', 'promovendo', 'cut', 'combustivel', 'aprimoramento', 'oabsaopaulo', 'orgulhosa', 'promovida', 'incerteza', 'desafiadora', 'gentileza', 'tabela', 'amador', 'tomadas', 'habito', 'amazon', 'aprendizagem', 'conheci', 'voltando', 'pablo', 'amamos', 'prioridade', 'perpheito', 'ingresso', 'gloria', 'regressiva', 'entrevistado', 'vieram', 'accenturebrasil', 'duras', 'diretoria', 'guia', 'geram', 'meeting', 'extraordinaria', 'aprovacao', 'transformando', 'rossi', 'harvard', 'resume', 'adolescentes', 'inteligentes', 'maua', 'eram', 'ii', 'face', 'coletivo', 'priscila', 'complexos', 'valorizou', 'rand', 'sulafricano', 'chileno', 'valorizaram', 'datasacre', 'derivativos', 'favoravel', 'hcri', 'piracicaba', 'fintech', 'lenda', 'franco', 'carros', 'alexatala', 'acaosocial', 'significativa', 'pandemico', 'teto', 'continuidade', 'jr', 'explicando', 'democracia', 'tiraram', 'guide', 'anteriores', 'ficando', 'pau', 'banqueiros', 'enxerga', 'definir', 'kk', 'unimos', 'custeio', 'colheita', 'civel', 'aproveitamos', 'engajamento', 'estande', 'orgulhosos', 'proporcionando', 'anteciparmos', 'superansioso', 'brilhantes', 'aprofundar', 'magistrados', 'tese', 'alma', 'rurais', 'caros', 'bbicapital', 'safira', 'boletim', 'focus', 'milhares', 'inspirar', 'beachtennislifestyle', 'winfut', 'bmf', 'moneytimesbr', 'praticos', 'assumir', 'universitarias', 'renata', 'garcia', 'apresentando', 'traves', 'competir', 'selecionados', 'justificativa', 'galeria', 'menu', 'bt', 'arenabtcampina', 'mensalmente', 'parecido', 'perguntas', 'somosatom', 'enviou', 'recentes', 'atualizado', 'vivem', 'sistemas', 'ferramentas', 'graduacao', 'separei', 'confio', 'produtiva', 'costumam', 'preservacao', 'pedindo', 'comemoracao', 'sigla', 'pares', 'relacionada', 'gratuitas', 'devolver', 'alcancamos', 'vinculados', 'dinheirovivopt', 'reconhecem', 'usuarios', 'escrever', 'linkedin', 'emb', 'decada', 'mini', 'sarmento', 'oficio', 'passamos', 'mande', 'recuou', 'fernandoholiday', 'pmes', 'lixo', 'reference', 'percebi', 'volateis', 'meia', 'country', 'otimos', 'assume', 'mecanismo', 'complementares', 'continuarei', 'impulso', 'torneio', 'recomenda', 'logisticos', 'josua', 'salvatore', 'stand', 'cidadania', 'secao', 'jornaldacidadeonline', 'marthaseillier', 'confiram', 'diferenciada', 'gazeta', 'recessao', 'challenge', 'sociosfundadores', 'governanca', 'anbimaoficial', 'getrepost', 'auditoria', 'partnership', 'bandido', 'transferi', 'cardapio', 'sandrabronzina', 'credor', 'red', 'depositos', 'atom', 'preferida', 'judepaaula', 'degrau', 'procedimentos', 'doce', 'mauricio', 'escolas', 'universidades', 'forextrader', 'aprovado', 'necessarios', 'garantindo', 'segredos', 'lo', 'asia', 'now', 'brasilia', 'pernambuco', 'moderar', 'baixistas', 'spinelli', 'baja', 'mitsubishimotorsbr', 'conversam', 'fluuu', 'fluuuuu', 'mchf', 'lancaram', 'puder', 'teriamos', 'brilhante', 'comentarista', 'share', 'fiscais', 'vgbl', 'futevolei', 'monica', 'convida', 'levam', 'compliance', 'bolada', 'tecnologias', 'territorio', 'itausocial', 'escritoriosdeinvestimentos', 'negociando', 'somobtg', 'reforcamos', 'friday', 'edilson', 'ventureli', 'caetanoveloso', 'aloisio', 'chegada', 'admirado', 'inspirados', 'italia', 'tivessem', 'mclaro', 'icmarketsofficial', 'paulomartins', 'henriquemeirellesreal', 'licao', 'stephan', 'rios', 'domicilio', 'trabalhodecente', 'nikolasferreirainfo', 'teatualizeioficial', 'neymarpai', 'magnomalta', 'fecastanhari', 'empurrando', 'voluntario', 'exposicoes', 'terezacristinams', 'llzgarantidora', 'timebtg', 'institutoprotea', 'reduzindo', 'touro', 'caracteristica', 'ganhando', 'moderado', 'cesta', 'hospitais', 'fundada', 'optei', 'quantos', 'republica', 'comandado', 'mundiais', 'indica', 'firme', 'beneficiado', 'estrangeiros', 'publicar', 'vencedora', 'alinhados', 'revela', 'meyer', 'internos', 'beira', 'suites', 'varanda', 'garagem', 'fitness', 'fashion', 'altopadrao', 'errada', 'funcionar', 'destacado', 'dito', 'musk', 'fundamento', 'tesla', 'estilo', 'nessas', 'explico', 'abordou', 'excepcional', 'parabenizar', 'acabamos', 'legacy', 'score', 'vitamind', 'rioopen', 'aulasdetenis', 'rayban', 'relacionamentos', 'revolucionar', 'talento', 'donde', 'thanks', 'frentes', 'desafiadores', 'democratizar', 'potenza', 'vento', 'jair', 'claramente', 'estudado', 'precisava', 'seletivos', 'ofelipe', 'magico', 'trara', 'amplo', 'coelho', 'petr', 'baixe', 'terrainvestimentosoficial', 'manaus', 'urgencia', 'bloqueada', 'branca', 'sugestoes', 'cairam', 'incluido', 'disponibilizar', 'alinhadas', 'transforma', 'reforcou', 'bancarias', 'maravilha', 'cumprir', 'doria', 'tranquilo', 'culpa', 'masculino', 'evidente', 'apontam', 'protagonistas', 'compor', 'vs', 'explicado', 'estimula', 'confiam', 'reunem', 'acompanho', 'lucrativos', 'ago', 'stands', 'microsoft', 'facebook', 'lancada', 'trabalham', 'respondi', 'conjunta', 'resto', 'permitirem', 'instavel', 'ramo', 'but', 'definitiva', 'artistico', 'chef', 'trava', 'cancelei', 'status', 'esclarecer', 'oferecidos', 'revisao', 'investem', 'atrelados', 'firf', 'veyron', 'beta', 'elva', 'incentivadas', 'ativainvestimentos', 'rbinvestimentos', 'mycapinvestimentos', 'alterar', 'awards', 'solar', 'agradavel', 'graficos', 'levaram', 'fizer', 'adianta', 'corretamente', 'curtiu', 'surreal', 'diferenciado', 'licoes', 'conquistou', 'trabalhe', 'contratada', 'indireta', 'construido', 'arrasta', 'lajes', 'bmlc', 'legislacao', 'lajescorporativas', 'autoridades', 'livros', 'preso', 'assinou', 'avenida', 'pagos', 'estarmos', 'aprendemos', 'aguardar', 'perderam', 'alex', 'recorrente', 'freio', 'paciente', 'colateral', 'demonstra', 'souericareis', 'inaugurado', 'consistentes', 'pare', 'investidorinteligente', 'possuir', 'aprovados', 'victor', 'menina', 'mesmas', 'vapor', 'vinhedo', 'informados', 'logisticosindustriais', 'almi', 'extensao', 'which', 'or', 'first', 'memoria', 'capazes', 'lancar', 'frequencia', 'garantiu', 'grade', 'aumentado', 'planta', 'want', 'orquestrasinfonicaheliopolis', 'finalizando', 'sincero', 'percentuais', 'ouvi', 'cidadaos', 'inclui', 'atualidade', 'tse', 'stf', 'encerrando', 'consulta', 'estatistica', 'surgimento', 'pracownik', 'esquecer', 'fan', 'apostas', 'liquida', 'nordeste', 'nuestra', 'opinioes', 'special', 'prezados', 'desejos', 'tenta', 'preocupado', 'dependendo', 'revelou', 'auto', 'alinhado', 'amadurecimento', 'expresidente', 'eleitor', 'anunciada', 'migracao', 'ouvido', 'music', 'haver', 'impressionado', 'deixaram', 'basicos', 'atracao', 'pedidas', 'apresentam', 'amurcapital', 'cuidando', 'poxa', 'americanos', 'chances', 'variacoes', 'provou', 'humanidade', 'compartilhamento', 'visoes', 'prestigiar', 'depositada', 'amizade', 'wanessa', 'lancou', 'reportou', 'cfo', 'transformam', 'exige', 'certas', 'nossajbs', 'gratos', 'ricos', 'logistico', 'nucleo', 'convidadas', 'compartilhando', 'amar', 'cancelamento', 'inicialmente', 'story', 'encontrou', 'miami', 'saudefinanceira', 'fintechs', 'otimizar', 'foda', 'escuta', 'puro', 'mantenha', 'solo', 'adultos', 'intensas', 'cheios', 'nautico', 'utilizada', 'boatshoweventos', 'diarios', 'eventoscorporativos', 'recode', 'page', 'institutoalok', 'tr', 'ale', 'livres', 'rodrigoleone', 'parada', 'mostrou', 'inicia', 'ny', 'profundamente', 'mercadobitcoin', 'aumentou', 'escolhe', 'elite', 'destes', 'cambial', 'liguei', 'pass', 'agir', 'fornece', 'iluminacao', 'vcapital', 'recebimentos', 'infinitamente', 'chamados', 'rodrigommoura', 'kelly', 'imobiliaria', 'drive', 'menthor', 'hugootani', 'agroindustriais', 'agencia', 'interlagos', 'buffet', 'trabalhado', 'participamos', 'rbr', 'estruturado', 'transacoes', 'xpml', 'ein', 'pilotagem', 'growth', 'indescritivel', 'valenobrasil', 'renovacao', 'demandas', 'flexibilidade', 'loucura', 'mercadorias', 'mobilidade', 'inflacionaria', 'print', 'curta', 'colocacao', 'conscientes', 'credenciado', 'vgip', 'barreto', 'latam', 'adequada', 'arcah', 'sujeito', 'encerrei', 'action', 'ouve', 'separamos', 'pede', 'voltamos', 'bando', 'unir', 'diminuiu', 'apoiado', 'falaaaa', 'cpr', 'democratizacao', 'dra', 'dr', 'juridico', 'escoamento', 'asid', 'fundodeinvestimento', 'autonomia', 'enganosa', 'progressivo', 'bbfib', 'vara', 'diligencia', 'bndes', 'magnitude', 'gt', 'gri', 'comprava', 'vtal', 'fechando', 'magazine', 'procon', 'definitivamente', 'investidora', 'stopgain', 'somostrader', 'autor', 'afetados', 'itens', 'valuation', 'kart', 'pista', 'roda', 'exchange', 'mynt', 'morte', 'veiculo', 'devolvam', 'itf', 'campinassp', 'monstro', 'tiebeachtennis', 'tiebeachtenniscg', 'contafacio', 'suplementos', 'azodigital', 'jdoriajr', 'sextou', 'referentes', 'off', 'deixamos', 'tijolo', 'cor', 'cancelada', 'afeta', 'estrela', 'funds', 'indicacoes', 'horse', 'bancobtgpactual', 'economics', 'vvpr', 'cnh', 'basf', 'opeacapital', 'educarcomesporte', 'educacaofisica', 'incentivoaoesporte', 'conseguiria', 'federacao', 'solicitada', 'fotografia', 'edga', 'wilson', 'voar', 'beachtennisplayer', 'ante', 'bloombergbusiness', 'carlosbolsonaro', 'gwm', 'reconhecemos', 'acredite', 'abriram', 'prioridades', 'planeja', 'diminuicao', 'chile', 'manuela', 'todeschini', 'sin', 'adrigoes', 'aceita', 'pobres', 'levantar', 'jornalismotvcultura', 'personas', 'remodelacion', 'nuevos', 'paso', 'ministeriodaeconomia', 'millones', 'arrastar', 'qualificar', 'atendeu', 'danielamercury', 'senadofederal', 'links', 'decisorio', 'minuciosa', 'suitability', 'brown', 'chamei', 'mari', 'equidadedegenero', 'psdbmg', 'zambolin', 'vianna', 'edgard', 'marins', 'ibest', 'nela', 'perante', 'comprada', 'buyes', 'propriedades', 'emocoes', 'magalu', 'finan', 'contrate', 'robo', 'zerar', 'poste', 'prefeito', 'hipismocarioca', 'mxmsistemas', 'powered', 'diversificados', 'discutindo', 'burro', 'geracaodevalor', 'palhacada', 'parabenizamos', 'superou', 'dependentes', 'compulsorio', 'relacionado', 'incansavelmente', 'previsoes', 'detentores', 'sigilo', 'bgtpactual', 'leonardocpaiva', 'decolar', 'apoiaram', 'will', 'cross', 'desaceleracao', 'participa', 'parem', 'simonetebet', 'valorinveste', 'theinterceptbrasil', 'vitima', 'otimismo', 'case', 'faaaaala', 'valentina', 'lemos', 'ri', 'ocorrencia', 'vimos', 'reduzido', 'funcionalidade', 'costuma', 'quadras', 'im', 'bold', 'jerson', 'comprem', 'bla', 'sacar', 'familiar', 'ltda', 'playlist', 'destinado', 'uber', 'pts', 'htmx', 'terceirosetor', 'atrasei', 'midias', 'panorama', 'superintendente', 'embaixador', 'camisa', 'camila', 'conquistados', 'franquias', 'faturamento', 'presta', 'lucio', 'complicados', 'regressivo', 'quadrilha', 'instagood', 'variaveis', 'mundoinvest', 'morningcall', 'd', 'carteiroreaca', 'diariodepernambuco', 'doacoes', 'ue', 'condenado', 'mocada', 'usp', 'rosa', 'manusear', 'automatizados', 'disponibilizou', 'lgbtqiap', 'roubado', 'estreitar', 'institutoculturalvale', 'jumping', 'trabalhistas', 'rock', 'criados', 'monte', 'obstinacao', 'studart', 'precificacao', 'totvs', 'comprados', 'cdbs', 'busco', 'sesc', 'votei', 'masp', 'would', 'pablopinuelo', 'brandao', 'magalhaes', 'cnnbrasilbusiness', 'cavaleiro', 'barcha', 'vasconcellos', 'nucleos', 'cursosonline', 'trazemos', 'repasse', 'icms', 'jotape', 'soares', 'out', 'micheltemer', 'gilsonmachadoneto', 'marceloalvaroantonio', 'andersontorresoficial', 'fairfaxbrasil', 'negativas', 'disparando', 'ameacar', 'discriminacao', 'laboral', 'josemedeirosmt', 'ledanagleoficial', 'prevencao', 'protea', 'paolo', 'tazzari', 'odd', 'recorrentes', 'marinho', 'audio', 'minuto', 'preocupam', 'veremos', 'gerir', 'insurance', 'enjoy', 'sejaonix', 'universos', 'experientes', 'leste', 'escalada', 'direcionamento', 'expostos', 'seguiu', 'observando', 'saudavel', 'layout', 'visual', 'einstein', 'mba', 'participarem', 'apresentados', 'integrada', 'forbes', 'conflitos', 'cancelado', 'esportes', 'emails', 'aproveitando', 'flutuacoes', 'benefico', 'permitindo', 'educacional', 'surpreendendo', 'disponibilizado', 'knsc', 'fabianaarana', 'crismartinsreis', 'ocupar', 'resistencia', 'vira', 'moral', 'legacyinvestimentos', 'reconhecida', 'quesito', 'premiou', 'transicao', 'endorfina', 'montebravoinvestimentos', 'cbtoficial', 'itftennis', 'teva', 'derivados', 'ascensao', 'classico', 'produtividade', 'fera', 'agenciagude', 'region', 'completando', 'marcosmaluf', 'combinacao', 'compromissos', 'representou', 'btgbestperformer', 'definido', 'expressao', 'ido', 'errar', 'estuda', 'terei', 'viraram', 'batalha', 'demorassem', 'exquece', 'passava', 'significava', 'fred', 'coloque', 'cnn', 'reclamar', 'funcionando', 'milionaria', 'rebalanceamento', 'reinvestido', 'fidelizar', 'valiosos', 'baseada', 'bemvindo', 'bastos', 'infancia', 'ceu', 'inscreveu', 'sergio', 'expressar', 'conquistamos', 'reencontrar', 'decadas', 'investidoras', 'fcfl', 'impactado', 'convencer', 'cadastrar', 'perfeita', 'espere', 'envolvem', 'financiamentos', 'abc', 'urgente', 'marcante', 'lets', 'petroleum', 'brazilian', 'oil', 'other', 'aabbrio', 'investirmelhor', 'levantei', 'dispostos', 'extrema', 'cargo', 'isaac', 'karabtchevsky', 'bilheteria', 'food', 'travou', 'estivesse', 'resgatar', 'constantemente', 'usada', 'estavamos', 'rota', 'efetivamente', 'tramite', 'parcial', 'edicoes', 'consultor', 'sustentaveis', 'compartilharam', 'mexico', 'raizen', 'assessorias', 'travada', 'decepcionada', 'vendedores', 'ensina', 'vivido', 'tracar', 'cpa', 'cra', 'tornado', 'pedrobreitman', 'dona', 'brascan', 'multa', 'distribuido', 'unidas', 'oneroso', 'biblia', 'antecedencia', 'tenso', 'bloqueado', 'colaborar', 'beamunhozr', 'entradas', 'penso', 'conhecendo', 'analogias', 'freia', 'metafora', 'rentaveis', 'entusiasmo', 'lindos', 'envolvidas', 'semente', 'resistente', 'fexc', 'virtude', 'aumentando', 'conhecia', 'publi', 'saudade', 'acestartups', 'potencializar', 'poderemos', 'ceratti', 'recebimento', 'locavel', 'acrescimo', 'prime', 'new', 'office', 'centrooeste', 'modalidades', 'debenture', 'precisei', 'movimentando', 'platinum', 'adicionais', 'automatico', 'mentes', 'complexo', 'ipanema', 'campea', 'palestrar', 'coach', 'bloqueia', 'disparada', 'acabam', 'desculpe', 'desastre', 'interessados', 'culturais', 'hibrido', 'payfunpf', 'letsplay', 'partido', 'gasolina', 'tecnologica', 'estude', 'creio', 'tambien', 'hasta', 'vota', 'colhendo', 'acumular', 'milhao', 'interessado', 'use', 'caem', 'exponencial', 'crises', 'demorar', 'adm', 'remanescente', 'respostas', 'enfrentar', 'influenciar', 'afetar', 'viviane', 'igpm', 'trilhoes', 'mede', 'di', 'ataque', 'refletir', 'curriculo', 'avalia', 'comparacoes', 'inserida', 'bon', 'invetimento', 'quebra', 'brasa', 'maneiras', 'arrojado', 'desvalorizacao', 'helioranieri', 'roubar', 'desenvolvidos', 'representada', 'atendimentos', 'marcaram', 'fundamentais', 'lazer', 'paraquedista', 'profissionalismo', 'contabil', 'insolvencia', 'jurimetria', 'st', 'glicose', 'criamos', 'qualificada', 'concorda', 'publicidade', 'ministerio', 'pl', 'envolvendo', 'orama', 'turbulentos', 'preparei', 'encontre', 'alfa', 'iriam', 'hectares', 'ajudam', 'running', 'proprias', 'correto', 'fiquem', 'ps', 'meumanualdemercado', 'reflexoes', 'u', 'poupar', 'vivencias', 'contagem', 'quiserem', 'vinculo', 'reclamei', 'center', 'iniciamos', 'impactando', 'esperam', 'elevator', 'consolidacao', 'tomamos', 'convexainvestimentos', 'mgoncalves', 'douglaselit', 'dou', 'irim', 'slc', 'fogo', 'detentor', 'emitidas', 'convocacao', 'representante', 'mandato', 'prefeitura', 'firmes', 'mudando', 'leooo', 'alexandrekendy', 'fabiolouzada', 'pense', 'tenniskraft', 'moda', 'deixado', 'testar', 'thank', 'vivenciando', 'eventocorporativo', 'maxsuel', 'adquirindo', 'burocracia', 'envolvido', 'fortunas', 'apartamento', 'tack', 'promove', 'gabrielaprioli', 'entidades', 'estrangeira', 'ressarcir', 'filial', 'descontraido', 'movimentacoes', 'estruturadas', 'secundario', 'realizados', 'danilozanini', 'topgainoficial', 'pneus', 'desejamos', 'opportunity', 'again', 'resenha', 'aborda', 'governos', 'btcr', 'composto', 'conseguido', 'impulsionar', 'experimentando', 'catalisadores', 'descasamentos', 'disfuncoes', 'pressionado', 'fretes', 'armazenamentos', 'estoques', 'iii', 'promovidas', 'modificado', 'sinalizacoes', 'apertando', 'significativamente', 'bitcoins', 'encerrado', 'individual', 'apresento', 'valora', 'defesa', 'cachaceiro', 'aportes', 'atualizados', 'kkkkkkkkk', 'suno', 'confirmar', 'pequena', 'distante', 'requisitos', 'furada', 'ativar', 'grana', 'harvardhbs', 'tira', 'esperava', 'extra', 'cobram', 'palestrante', 'pontuacao', 'ribeirao', 'karina', 'fechado', 'distribuidores', 'atendentes', 'nascimento', 'gasto', 'falencia', 'somado', 'lealdade', 'senhores', 'passarem', 'previstos', 'influenciam', 'russo', 'levamos', 'cooperativa', 'martinez', 'never', 'casadosventos', 'bndesgovbr', 'personalidade', 'personalizada', 'sairem', 'rapazes', 'maisinvestimentos', 'wdofut', 'soutrader', 'dinheiroemcasa', 'contadoradabolsa', 'endereco', 'skills', 'bolsonaroreeleito', 'tamo', 'admiravel', 'bolo', 'montagem', 'ligo', 'trigo', 'exportacao', 'franca', 'after', 'some', 'santiago', 'bdif', 'niveis', 'aderencia', 'detrimento', 'xtage', 'teoria', 'seculo', 'aplicada', 'impact', 'development', 'navegador', 'imprevistos', 'filmagem', 'spotenapp', 'mormaiibeachtennis', 'manueladavila', 'agroinsper', 'permanente', 'materias', 'disponibilizamos', 'aceito', 'colocaram', 'resolveram', 'bastidores', 'cordeiro', 'computacao', 'apaixonado', 'lago', 'intermitencia', 'dada', 'ligacao', 'jogam', 'optaram', 'profitpro', 'acabar', 'monaco', 'dedicada', 'ajudo', 'elon', 'regente', 'promete', 'bancobtg', 'spara', 'acertos', 'favorito', 'amazing', 'responda', 'gaianinhos', 'mincidadania', 'leideincentivoaoesporte', 'ministeriodacidadania', 'lumen', 'weg', 'alegando', 'valido', 'eletrico', 'finalizar', 'registrada', 'ampliar', 'solutions', 'sentindo', 'quadra', 'contatos', 'sacanagem', 'matheus', 'comecado', 'queriam', 'operando', 'londrina', 'brilho', 'conjuntura', 'parecer', 'a', 'bernardo', 'absoluto', 'investiria', 'patria', 'hrs', 'fracasso', 'permita', 'eumebanco', 'ilustre', 'leonardis', 'jornalsensacionalista', 'jornalosaopaulo', 'pablomarcal', 'podran', 'acciones', 'preocupacoes', 'ninos', 'ted', 'inbox', 'deusnocomando', 'lgbti', 'guiar', 'alocacoes', 'intervalo', 'estimativas', 'consideradas', 'responsabiliza', 'garantidor', 'debitos', 'stress', 'estagiaria', 'olhando', 'sbtnews', 'stephanie', 'macieira', 'atualizando', 'estorno', 'guarulhos', 'prejudicando', 'telegram', 'secundaria', 'olimpico', 'jornaldebrasilia', 'iguatemi', 'imobiliarias', 'apexpartners', 'cenografia', 'abrem', 'responsa', 'replica', 'stefanie', 'birman', 'estrategistachefe', 'convidou', 'titularidade', 'cgm', 'oibr', 'caio', 'oposto', 'listadas', 'porte', 'reunimos', 'womeninvestsummit', 'estadaoinvestidor', 'womenonboard', 'wob', 'wcd', 'worldcorporatedirectors', 'grand', 'smarttrends', 'escritura', 'kinea', 'fiagros', 'prestar', 'barato', 'determinados', 'salvar', 'adaptar', 'manager', 'empresaria', 'acontecam', 'lideglobal', 'parou', 'escravo', 'voltadas', 'embarcaram', 'aventura', 'fucape', 'perfeitamente', 'direcionado', 'ae', 'marthinabrandt', 'daisykohler', 'garantias', 'fatos', 'conectadas', 'how', 'been', 'discutidas', 'tabus', 'usam', 'uefa', 'mostrei', 'reduziu', 'cvbi', 'reino', 'mandam', 'dores', 'sostenible', 'cresci', 'rol', 'imaginavamos', 'reclameaqui', 'googlebrasil', 'irma', 'mentalidade', 'barros', 'torinoinvestimentos', 'recife', 'protege', 'planejadorfinanceiro', 'alexandrealvesconsultor', 'spoiler', 'satisfeitos', 'vdd', 'tamanha', 'aconselho', 'capacitado', 'united', 'exibido', 'pacote', 'interessou', 'pele', 'aprenda', 'cyber', 'mensalidade', 'safadeza', 'sra', 'filha', 'participado', 'procede', 'sinceridade', 'exchanges', 'cpi', 'ausencia', 'portuguesa', 'perfomance', 'rita', 'recuperei', 'bradescoasset', 'aposentar', 'liquidos', 'jwalenkamp', 'eusoulaio', 'reirabeloficial', 'pioneiros', 'nicho', 'playlists', 'almadao', 'estetica', 'acessibilidade', 'trabalhista', 'its', 'bergamo', 'principio', 'formal', 'nense', 'rende', 'diferencas', 'recebem', 'golpes', 'metade', 'perguntando', 'relativa', 'veiculos', 'carne', 'estadual', 'ajudado', 'caminhando', 'querida', 'nuinvest', 'tratar', 'cnpi', 'caiobeny', 'naturabroficial', 'oabdf', 'globominas', 'kennedyalencar', 'ocorrera', 'ionitau', 'estacio', 'automatica', 'xted', 'leonnardocfurquim', 'zemariogo', 'significado', 'consideravel', 'pudesse', 'palestrando', 'anitta', 'expressivo', 'marcofeliciano', 'uniaobrasilrj', 'pardas', 'ralph', 'enriquecedoras', 'fonseca', 'fundado', 'impar', 'fronteiricos', 'aplicadas', 'agorarn', 'combate', 'acionista', 'francisco', 'get', 'filosofia', 'fiel', 'musa', 'jessicavelar', 'berriel', 'cantora', 'antecipacao', 'tutela', 'mazzer', 'vote', 'mariofriasoficial', 'totvscuritiba', 'terminar', 'amazonas', 'fossem', 'adapteinvest', 'bomdia', 'their', 'domestica', 'unicef', 'robertousallouti', 'speech', 'esquerdo', 'escapar', 'radio', 'lucasalmeidaeduca', 'usda', 'presidentefhc', 'reynoso', 'mukinhaparatleta', 'marcello', 'basmaum', 'mirim', 'sousa', 'cuidados', 'situations', 'convencional', 'primocast', 'openfinance', 'good', 'galvao', 'owenplatform', 'direitodotrabalho', 'xmglobal', 'eduarda', 'paulafernandes', 'patriotasb', 'joaoromaneto', 'leouchihavlog', 'marciacasz', 'gmgaertner', 'ricardosallesmma', 'plantio', 'xxxicomat', 'idosas', 'debatedora', 'formatura', 'presidida', 'geografica', 'sitealoalobahia', 'voga', 'claudia', 'sportv', 'mathias', 'popofreitas', 'depheliolopes', 'italoferreira', 'ladyfontenelle', 'rodrigomaiarj', 'karolelleroficial', 'mantenho', 'outubrorosa', 'sandever', 'padariareal', 'altogiro', 'sherwinwilliamsbr', 'decathlonbrasil', 'tbmakeoficial', 'dickinson', 'ironmaiden', 'reportamos', 'prestados', 'noel', 'aum', 'copadomundo', 'impactus', 'aruba', 'assunta', 'sujo', 'acontecesse', 'larga', 'aguentar', 'receba', 'sentenca', 'sucessos', 'precandidatos', 'influenciadores', 'curadoria', 'pitch', 'ace', 'adicionar', 'imaginamos', 'direcionar', 'ambientacao', 'desenvolvemos', 'bezerra', 'perkinswill', 'mares', 'apto', 'visitantes', 'vias', 'carlinhosmaiaof', 'pactual', 'famosos', 'interiordesign', 'comprometidos', 'reconhecimentos', 'invistamelhor', 'rodolfo', 'fechada', 'reclamando', 'sustentar', 'conferencias', 'astral', 'andrekliousoff', 'aconteca', 'altissimo', 'mxrf', 'adquirido', 'moderando', 'progresso', 'igualdade', 'mulheresempoderadas', 'mulheresnomercadofinanceiro', 'empoderamentofeminino', 'excellence', 'tennisplayer', 'tenniscoach', 'acucar', 'focando', 'embaixo', 'putin', 'debateram', 'muy', 'agradecidos', 'institutos', 'capitao', 'rei', 'mkt', 'obvio', 'seriedade', 'rolar', 'banqueiro', 'empolgado', 'depara', 'pensamento', 'percurso', 'frases', 'melhoria', 'shop', 'swingtrade', 'citados', 'isento', 'retirados', 'hgru', 'rubens', 'transtorno', 'pagam', 'jogando', 'desafia', 'peco', 'great', 'entramos', 'separados', 'forabolsonaro', 'ganhamos', 'genuino', 'cidadao', 'rendendo', 'trilhando', 'honrado', 'rumos', 'educar', 'comente', 'curiosidade', 'divulgados', 'cargos', 'oneinvestimentos', 'ceara', 'journey', 'maira', 'oque', 'cashback', 'entregue', 'causas', 'shows', 'visitaram', 'morgan', 'engie', 'aprecio', 'contribui', 'btgsomameioambiente', 'stock', 'lot', 'graus', 'powell', 'secretario', 'vulnerabilidade', 'adquiridos', 'rubinstein', 'happy', 'amaral', 'piores', 'modificacao', 'centenas', 'mail', 'informaram', 'executada', 'favoraveis', 'daquilo', 'continuamos', 'obstaculo', 'entrevistas', 'clubefii', 'chegado', 'entregou', 'acumulando', 'miraeassetcorretora', 'latin', 'visualizar', 'coordenador', 'antiga', 'particularmente', 'bonito', 'pc', 'limitado', 'estruturar', 'virao', 'financialadvisor', 'candlestick', 'busque', 'abrimos', 'alcancado', 'creditoprivado', 'wealthmanagement', 'pediu', 'abs', 'especializadas', 'resolvi', 'nestes', 'caindo', 'concretizacao', 'nocao', 'encarar', 'animada', 'inauguramos', 'moradores', 'acolhimento', 'aumentara', 'boanoite', 'instabilidades', 'departamento', 'citi', 'publicou', 'geridos', 'causar', 'desemprego', 'cobertor', 'otimas', 'erica', 'renova', 'selecionado', 'influenciado', 'notificacoes', 'estragar', 'animados', 'arvore', 'frutos', 'achou', 'conservation', 'frederico', 'thais', 'bruna', 'pinheiro', 'devolucao', 'dutra', 'supermarket', 'vendido', 'itambe', 'quitacao', 'proporcionado', 'localizados', 'adquiriu', 'autonomas', 'tire', 'jardim', 'paisagismo', 'aberturas', 'privilegiada', 'elementos', 'madeira', 'there', 'floor', 'conservadores', 'atendemos', 'tornouse', 'intuitivo', 'planeta', 'prefixados', 'indexados', 'variedade', 'reflita', 'corra', 'hall', 'michel', 'restaurante', 'podcasts', 'beneficiar', 'banda', 'criativa', 'mobiliario', 'multiplas', 'investidos', 'toma', 'roubou', 'senao', 'seriamente', 'probabilidade', 'cena', 'existentes', 'iuri', 'rapoport', 'alvarezmarsal', 'urnas', 'publicada', 'baixou', 'mitu', 'remoto', 'senso', 'corrupcao', 'marzo', 'deporte', 'divulgar', 'al', 'intercambio', 'marcosmottamavi', 'luizpauloteixeira', 'mismo', 'calcular', 'corte', 'obrigacao', 'levado', 'criticas', 'atualizacoes', 'diminui', 'corruptos', 'atinge', 'oscilacao', 'cool', 'cambiais', 'aportar', 'anunciado', 'eventuais', 'longos', 'suma', 'aparecer', 'conducao', 'eleitorais', 'advice', 'insatisfeita', 'navalhas', 'ministros', 'usuario', 'escrito', 'torcendo', 'miamiopen', 'confirmaram', 'sprint', 'pressoes', 'contribuiram', 'wall', 'street', 'oakley', 'registrar', 'habitos', 'bemsucedidas', 'nfts', 'implementacao', 'abordagens', 'interagir', 'uc', 'finalizamos', 'ab', 'marques', 'perceber', 'inspiram', 'allocation', 'acumulada', 'concentracao', 'coluna', 'helio', 'ranieri', 'dizia', 'desistido', 'frasedodia', 'automaticamente', 'amcham', 'insperedu', 'investiu', 'aco', 'chamando', 'teses', 'valorizar', 'entregando', 'diversao', 'nobel', 'magica', 'publicado', 'priorizar', 'avancar', 'comprala', 'mediana', 'deixem', 'prosas', 'contemplados', 'abj', 'comecara', 'aline', 'cruzado', 'recrutamento', 'localizada', 'matriz', 'audi', 'analyst', 'simoes', 'prestacao', 'eleitos', 'arriscar', 'competitividade', 'plena', 'compoe', 'motores', 'autorizacao', 'legenda', 'viagens', 'reflorestamento', 'surge', 'aparecem', 're', 'extrajudicial', 'artificial', 'libera', 'dialogo', 'estudando', 'welcome', 'circunstancias', 'evoluxinvestimentos', 'zelo', 'pes', 'observar', 'entendermos', 'forem', 'desconforto', 'foca', 'kinvo', 'reits', 'compre', 'anote', 'outdoor', 'saibam', 'movimenta', 'celebra', 'escrita', 'sorrisos', 'batalhas', 'contada', 'incentivos', 'construida', 'serei', 'prontas', 'movimentado', 'recorrer', 'desce', 'planejada', 'leaders', 'pqdp', 'equivale', 'stack', 'juniores', 'apreciacao', 'etanol', 'monetarias', 'brinde', 'fabinho', 'iridium', 'exercer', 'gratis', 'privatebanking', 'forcas', 'reajuste', 'recebida', 'diretores', 'treinamentos', 'cryptocurrency', 'acordar', 'week', 'pipa', 'seremos', 'quantia', 'apoiarem', 'processar', 'honrada', 'projetoaproximar', 'tour', 'cafezinho', 'loungekey', 'separado', 'mit', 'ms', 'energiasolar', 'official', 'confiarem', 'desconhecido', 'listados', 'administrados', 'moura', 'nogueira', 'join', 'lucianohuck', 'pilotar', 'apxinvest', 'fiagronews', 'classificacao', 'confirmacao', 'rating', 'revisional', 'caldas', 'rbry', 'somam', 'ficarao', 'asainvestments', 'levantados', 'fazermos', 'equinor', 'acontecia', 'pego', 'kit', 'sobrevivencia', 'premiada', 'isabela', 'ata', 'distribuir', 'training', 'samsungbrasil', 'geekieeducacao', 'toribavolkswagen', 'solidariedade', 'podendo', 'permanece', 'facilmente', 'bitcoinbrasil', 'regime', 'adequadas', 'ep', 'agronautas', 'tupy', 'imaginava', 'familiares', 'stanley', 'ilustres', 'elogio', 'zera', 'institucionais', 'encontrando', 'pensamos', 'assinatura', 'invisto', 'aparecendo', 'gr', 'engracado', 'opero', 'codigo', 'yt', 'alinhada', 'anualmente', 'sozinhos', 'klein', 'perco', 'colocam', 'toro', 'fundosdeacoes', 'dedicados', 'amam', 'associar', 'sente', 'grao', 'frisar', 'tarifa', 'abro', 'prestigiaram', 'duracao', 'musical', 'franz', 'williams', 'ganham', 'contribuindo', 'farei', 'interessar', 'abram', 'investors', 'atrativas', 'basico', 'negado', 'migrei', 'campanhas', 'coletiva', 'bemsucedidos', 'convites', 'compartilharem', 'fortalecendo', 'potencializacao', 'camara', 'propriamente', 'indiretos', 'indesejados', 'governantes', 'tampar', 'buracos', 'colaterais', 'raca', 'dava', 'impacta', 'warren', 'iniciou', 'falarmos', 'batendo', 'agroebtgepgg', 'juan', 'agrega', 'nueva', 'cientifico', 'damos', 'direcao', 'venture', 'jack', 'viabilizar', 'bancodonordeste', 'idiota', 'diversifique', 'npbt', 'beachtennisworld', 'bateu', 'reafirma', 'depositam', 'significaram', 'retail', 'demonstrar', 'dividido', 'desbloquear', 'patricia', 'daniela', 'paulista', 'exemplar', 'militar', 'procura', 'realizacoes', 'sofisticada', 'event', 'adriana', 'pierre', 'valuations', 'convertido', 'accion', 'eneva', 'amarelo', 'durabilidade', 'cgs', 'destinada', 'lutar', 'sono', 'duradouras', 'anninhadamatacerimonial', 'hachirooftop', 'cymiluminacaoedesign', 'ewertonfilmes', 'mormaiipb', 'pitacobr', 'mix', 'beachtennisbrasileiro', 'profundo', 'homebroker', 'fundamentalista', 'sofisticacao', 'concluido', 'obtidos', 'figura', 'reversao', 'pague', 'database', 'bug', 'signal', 'carrossel', 'kapitalo', 'reencontro', 'disputa', 'historicos', 'thehillcapital', 'comunicando', 'negociadas', 'kkkkkkk', 'saneamento', 'knip', 'espm', 'rankingshb', 'conselheiro', 'negociado', 'bloomberg', 'mostraram', 'agencias', 'long', 'orientar', 'verkinvest', 'inspirese', 'famoso', 'futsal', 'modalpremium', 'minas', 'energea', 'fiesc', 'jbs', 'azevedo', 'permanecer', 'privadas', 'cliche', 'completou', 'acreditei', 'portilho', 'fomc', 'passara', 'artplan', 'diariocatarinense', 'pcdob', 'correiodopovo', 'cabe', 'sejagwm', 'idolo', 'incentivando', 'travando', 'humana', 'founders', 'arrependimento', 'tornando', 'falsos', 'faceis', 'gabsdgouveia', 'cjinvestimentos', 'generoso', 'digitos', 'aliados', 'impactam', 'brites', 'tributaria', 'tributacao', 'joaopiress', 'alheio', 'tido', 'misericordia', 'avante', 'catalogo', 'conhecem', 'natura', 'marthinha', 'estudamos', 'putz', 'tratase', 'jornalextra', 'opopular', 'espectadores', 'cuenta', 'igualmente', 'estan', 'theeconomist', 'velocidade', 'aprendido', 'assessorado', 'emitir', 'samantha', 'gerado', 'potenciais', 'prepare', 'patrocinado', 'together', 'promoveu', 'altistas', 'agradecerlhe', 'mundos', 'consertar', 'federacaorj', 'cnbbnacional', 'meios', 'gonzaga', 'berro', 'ra', 'ouca', 'eletricas', 'website', 'mediacao', 'devia', 'questionamentos', 'fechei', 'sistemacna', 'inspiradora', 'confiabilidade', 'instrucoes', 'verifique', 'diabetes', 'bossainvest', 'sunonoticias', 'rolando', 'realizara', 'dividiram', 'kkkkkkkk', 'chora', 'parei', 'concretizar', 'lua', 'recordar', 'dizemos', 'vq', 'jewellery', 'ibefsp', 'ative', 'rhopen', 'service', 'mcs', 'inacreditavel', 'index', 'revisar', 'grcapital', 'aceitacao', 'independentemente', 'showjumping', 'sollissmartbeach', 'pet', 'comunista', 'internacionalizacao', 'hahaha', 'segundei', 'oiticica', 'controlada', 'emissoes', 'aproveito', 'ej', 'quanta', 'tecnicamente', 'mel', 'liderinc', 'liberaram', 'coo', 'pedidos', 'liminar', 'benjamin', 'talentoso', 'recado', 'mageronymo', 'carol', 'paiffer', 'shark', 'accioly', 'corretor', 'opahit', 'suspensao', 'liberarem', 'sofrendo', 'prejudica', 'prestigio', 'colocou', 'sinergia', 'riquezas', 'apagar', 'sorrir', 'desgoverno', 'afirmar', 'debb', 'inovacoes', 'cerbasiresponde', 'mblsaopaulo', 'sexual', 'constituicao', 'aquisicoes', 'pergunto', 'felizmente', 'adequado', 'envia', 'paraisopolis', 'daiane', 'beachtennisbrasil', 'realizaram', 'unido', 'unibanco', 'doencas', 'reconocimiento', 'justo', 'criei', 'atores', 'empresariais', 'disparado', 'cobre', 'juca', 'maisonducavalier', 'trainees', 'min', 'dano', 'estrangeiras', 'quebrei', 'especializar', 'peru', 'desarrollo', 'educado', 'ligando', 'cumprido', 'bar', 'dream', 'iglesias', 'podcastbrasil', 'eumecast', 'vozes', 'criou', 'atendendo', 'institutional', 'utiliza', 'sinistro', 'pec', 'calculadora', 'esto', 'calma', 'negro', 'distancia', 'nestle', 'puravida', 'tiro', 'parnaiba', 'mimo', 'oratoria', 'bonificacao', 'perguntei', 'faro', 'assertividade', 'blog', 'definem', 'identificacao', 'att', 'delfim', 'choque', 'rapidez', 'desenvolveu', 'alzr', 'isentos', 'atingido', 'vetores', 'motors', 'ff', 'gugelmin', 'dakar', 'utvs', 'consagrada', 'manuel', 'disputara', 'estreias', 'participacoes', 'consequencias', 'navarro', 'euromoney', 'insatisfeito', 'consulte', 'folego', 'experimentei', 'corta', 'fluu', 'fluuuu', 'habitantes', 'apoiou', 'place', 'lojas', 'conglomerado', 'mchy', 'diarias', 'trafico', 'conversiveis', 'quirografaria', 'series', 'normalizou', 'correa', 'learning', 'eventoalltogether', 'criatividade', 'voltada', 'sexualidade', 'canto', 'professora', 'itc', 'dielvili', 'helena', 'posicionar', 'escolhidas', 'pris', 'unique', 'unike', 'encontrada', 'bemfeitinho', 'ibff', 'alertar', 'liberam', 'tiram', 'integrante', 'terrenos', 'desconhecidos', 'desconhecimento', 'postarei', 'investimentofacil', 'investirparaofuturo', 'frequentemente', 'crime', 'voice', 'lucagallacci', 'hrcastiglione', 'especificamente', 'oficiais', 'escolinhadetriathlon', 'volvocaminhoes', 'kids', 'mdbgoias', 'psolsaopaulo', 'venezuela', 'estagios', 'possibilitar', 'terceiros', 'filiais', 'medico', 'profissoes', 'incluiu', 'posto', 'dilma', 'amplie', 'queridas', 'macae', 'dirceuborgesgo', 'sucessofinanceiro', 'wm', 'quantumfinance', 'celio', 'bandtv', 'tematica', 'rlp', 'mateus', 'demorado', 'movimentaram', 'assalto', 'responsabilidadesocial', 'briga', 'cercado', 'vendendo', 'petista', 'disruptivas', 'recaf', 'rolonmarcia', 'mencionei', 'esperidiaoamin', 'senadorkajuru', 'metrojornal', 'conversao', 'arrefeceu', 'marginal', 'estranho', 'curioso', 'institutoponte', 'copasabemi', 'apresentadora', 'financiera', 'criptomonedas', 'criptoactivos', 'aperto', 'agil', 'passados', 'marcia', 'rolon', 'ajustes', 'loucos', 'classicos', 'boletimcoppolla', 'selecionamos', 'acolhedora', 'maratonar', 'thedevconf', 'leite', 'microsoftbr', 'drance', 'alencar', 'ximenes', 'ouvindo', 'macroeconomica', 'conversando', 'comemoramos', 'impossibilitado', 'madrugacast', 'visitou', 'haja', 'meiaentrada', 'tunel', 'bombeiros', 'chamas', 'theo', 'seebacher', 'jordao', 'pas', 'casimiro', 'narrasse', 'arthuralmota', 'beneficiem', 'ciclicos', 'paola', 'acreditaram', 'ocamargo', 'tensao', 'bicalho', 'femininas', 'cavaleiros', 'abbud', 'sarquis', 'aiex', 'clac', 'ciavaglia', 'nina', 'batista', 'christovao', 'aguardem', 'just', 'acreditou', 'slam', 'vw', 'nivus', 'equestre', 'marcacao', 'conscientizar', 'quebradas', 'nocoes', 'isq', 'potenciaperiferica', 'periferiapotente', 'periferiapreta', 'jdmiriam', 'focojardimiriam', 'financialeducation', 'godoy', 'experienceclub', 'mulheresempreendedoras', 'artistas', 'oprimoricothiagonigroprimocastreelspodcast', 'company', 'shopee', 'governamentais', 'catalisada', 'reajustes', 'difusao', 'better', 'bco', 'artist', 'passeios', 'plantar', 'oscs', 'cetip', 'judiciario', 'surf', 'contaram', 'impressaod', 'empregos', 'tassojereissati', 'joseserra', 'zezedicamargo', 'fernandez', 'halloween', 'rg', 'aguarda', 'constrangimento', 'cbnbrasiliaoficial', 'ais', 'jomi', 'centrodombosco', 'pekelmon', 'recordtvoficial', 'ampliacao', 'tst', 'inquietacao', 'uniu', 'juntarao', 'aloalobahia', 'bvalladao', 'raul', 'lightcomvoce', 'quintoandar', 'embelleze', 'bancobs', 'norteshoppingrj', 'riotennisacademy', 'adintennisacademy', 'midwaydigital', 'eudora', 'ambipargroup', 'heinekenbr', 'fortevironoficial', 'ethimosinvestimentos', 'opropriolavodecarvalho', 'filipebarrosoficial', 'claudemirgigliotti', 'neni', 'genheleno', 'jorgeemateus', 'arnaldodanembergcollection', 'oricaperrone', 'aniversarioshb', 'onyxlorenzoni', 'fredericodavilaoficial', 'jorgeseifjunior', 'mauriciovolei', 'gloriafperez', 'sinalizado', 'robotizadas', 'enhub', 'erre', 'uno', 'alimentossantoni', 'equipo', 'larafranco', 'asandreastuto', 'angelamarsola', 'pripa', 'knew', 'brucedickinsonofficial', 'vocalista', 'btgchallenge', 'corrigir', 'gaucho', 'gaste', 'institutofar', 'hinode', 'brinksbrasil', 'oficialrodobens', 'jmacedo', 'sescms', 'fecomercioms', 'hinoveoficial', 'criancaesperanca', 'governoms', 'prefeituradecorumba', 'blackfriday', 'missionaria', 'oncafari', 'cuanto', 'hemos', 'custodiados', 'iquine', 'bichara', 'win', 'administra', 'dominante', 'christine', 'lagarde', 'sancoes', 'haveria', 'estomago', 'hashdex', 'hashdexcripto', 'hash', 'moveday', 'grow', 'souber', 'motivou', 'apetite', 'vistas', 'did', 'say', 'catupiry', 'sinalizacao', 'space', 'harmonia', 'minimos', 'renatonavarrofotografia', 'bmg', 'perkinsandwill', 'informe', 'inovando', 'reinvestimento', 'otimistaoficial', 'vitral', 'closet', 'nascente', 'intimo', 'dependencias', 'elevadores', 'vilar', 'fonteles', 'versace', 'versaillesbrasil', 'geraldo', 'mentorebank', 'juliette', 'businessman', 'bussiness', 'fitnessmotivation', 'cashondelivery', 'vistamar', 'imoveisdeluxo', 'imoveisaltopadrao', 'privatebank', 'cfp', 'medina', 'trabalhador', 'audiovisual', 'compartilhados', 'mds', 'carnaval', 'nasci', 'capa', 'prestando', 'socorro', 'iminente', 'bilionarios', 'dispoe', 'arrependo', 'mercadoemfoco', 'meneobregon', 'amgcapitalinvest', 'mudamos', 'normas', 'cegos', 'parabeniza', 'lacoste', 'alcool', 'meritocracia', 'gere', 'duradouros', 'comunicacoes', 'portugues', 'telo', 'fenomenal', 'destroi', 'horror', 'celebrando', 'mediar', 'classica', 'trabalhei', 'posteriormente', 'estudei', 'aguas', 'desafiar', 'confirmamos', 'itub', 'bbas', 'mglu', 'apostolo', 'bugs', 'parede', 'iluminado', 'finalizou', 'lucrando', 'recomendam', 'formei', 'doi', 'consultas', 'pareca', 'ultrapassado', 'confirmadas', 'elegeu', 'permitem', 'enxergar', 'isenta', 'pretendem', 'ambito', 'cpfs', 'evoluindo', 'cumprem', 'pedacinho', 'memorias', 'education', 'provocacao', 'debatido', 'deficit', 'domestico', 'garra', 'modular', 'acompanhem', 'perguntou', 'influenciando', 'realizadas', 'zinvest', 'brasilagro', 'taesa', 'zsummit', 'geracaoz', 'maxima', 'senna', 'avgcapital', 'rentavel', 'last', 'days', 'rise', 'than', 'dovish', 'fechamos', 'servir', 'clareza', 'palcos', 'pianista', 'bratke', 'emblematicas', 'compositores', 'van', 'beethoven', 'transmitido', 'simbolo', 'american', 'faith', 'infinite', 'photo', 'animacao', 'disposto', 'conseguia', 'aprovar', 'biometria', 'socioambientais', 'wert', 'aracaju', 'planejado', 'ressarcimento', 'calculos', 'movem', 'indices', 'lembrado', 'setimo', 'comentamos', 'elevados', 'trxinvestimentos', 'individuos', 'acumula', 'nominal', 'rosario', 'visualizacao', 'periodos', 'faixa', 'padroes', 'procure', 'significativos', 'analisando', 'mercadofinanciero', 'persistencia', 'centros', 'americalatina', 'bside', 'blackrocks', 'heim', 'sobrou', 'tempinho', 'surpreende', 'aceitei', 'colaboraram', 'seidel', 'timaco', 'bm', 'rescisao', 'twitter', 'btgpctual', 'terminou', 'transportes', 'nacoes', 'cenu', 'acordado', 'cessao', 'contratual', 'cristo', 'dio', 'atrapalhando', 'sell', 'side', 'pensada', 'lab', 'artlabgalleryoscarfreire', 'carlosjordaky', 'negociosdeluxo', 'mulheresdesucesso', 'preqin', 'nominalmente', 'tampa', 'pausa', 'bemvinda', 'comandou', 'arminha', 'sensibilidade', 'predios', 'iguacu', 'alcance', 'chegara', 'soube', 'democratico', 'inspiradores', 'pompeu', 'luciano', 'testagem', 'protocolos', 'acompanhada', 'locatarios', 'naturais', 'lembram', 'find', 'among', 'indexadores', 'ficaria', 'procuradas', 'sos', 'fixada', 'previamente', 'estabelecer', 'prefixada', 'determinar', 'div', 'renegociar', 'sebastian', 'volto', 'repetir', 'curtissimo', 'come', 'they', 'know', 'telefonico', 'arruda', 'encantar', 'mendelssohn', 'fnz', 'voltas', 'acreditaria', 'bairro', 'lanca', 'babaca', 'berco', 'praca', 'general', 'orgaos', 'valentim', 'icone', 'percebido', 'uni', 'derrota', 'entregam', 'coletados', 'petistas', 'liberal', 'amostra', 'indignada', 'adotado', 'mesas', 'compostas', 'passadas', 'condiz', 'mete', 'divulga', 'abordara', 'esports', 'gamificacao', 'esportivos', 'esportivas', 'garmin', 'pay', 'negaram', 'mudado', 'matematica', 'comunidad', 'sus', 'exito', 'servira', 'extrai', 'vieses', 'mst', 'perguntar', 'distressed', 'estressados', 'proporcional', 'bolsonaristas', 'refletem', 'dotore', 'negativos', 'lulinha', 'comparando', 'saca', 'dispara', 'arrisca', 'iniciantes', 'quitou', 'organizou', 'empresta', 'navegacao', 'idinheiro', 'parecia', 'sonhei', 'disposta', 'bluemacaw', 'blmc', 'decidiram', 'especializados', 'contribuido', 'occam', 'marcel', 'fortemente', 'sucedido', 'lento', 'tributos', 'iptu', 'esquecido', 'externos', 'bull', 'investida', 'distrito', 'idealizada', 'simboliza', 'instalacao', 'camera', 'elaborado', 'alemdopapo', 'alemdotrade', 'sjcity', 'sectores', 'inversiones', 'percam', 'hacks', 'finalista', 'tennistimeeventosexclusivos', 'clsolar', 'ecoflamegarden', 'sottilemobile', 'sportslabclinic', 'talihandcraft', 'toldovela', 'uselinus', 'family', 'entendimento', 'humor', 'caatinga', 'compreensao', 'finalidade', 'ocorrem', 'correlacao', 'tracado', 'diluir', 'discutirem', 'thomas', 'edison', 'inventores', 'lampada', 'afirmava', 'fraqueza', 'amigosdobem', 'minerio', 'aluminio', 'montou', 'controles', 'conquistaram', 'frustracao', 'minimas', 'record', 'tornarem', 'gala', 'trouxeram', 'desmistificar', 'desmatamento', 'passe', 'entendessem', 'teriam', 'denunciar', 'vendem', 'providencias', 'romper', 'arrepender', 'irresponsavel', 'improvavel', 'prosperar', 'din', 'observatorio', 'falencias', 'kpmgbrasil', 'school', 'lopes', 'gordura', 'acumulo', 'vo', 'hosp', 'brqdigital', 'expondo', 'juntaram', 'imensuravel', 'serias', 'leis', 'termino', 'passarao', 'vbi', 'lvbi', 'aratulog', 'dtvm', 'mora', 'abandonado', 'joga', 'nascer', 'atraso', 'constava', 'acabado', 'haviam', 'torneios', 'prisao', 'requer', 'incomodados', 'completar', 'felicidades', 'apostar', 'repeticao', 'esqueci', 'economicnewsbrasil', 'atualizou', 'intuitiva', 'suspeita', 'fajuta', 'logico', 'project', 'consigam', 'adoraria', 'finals', 'troco', 'israel', 'smallcaps', 'compareceram', 'arrasou', 'cea', 'societario', 'sonhe', 'lemann', 'carrego', 'llsm', 'ansioso', 'aais', 'encher', 'brabo', 'decide', 'desejada', 'escuro', 'buyandhold', 'boatshow', 'vivenciar', 'kodja', 'apaixonados', 'bebidas', 'torcedores', 'largo', 'quente', 'iniciava', 'viria', 'compartilhadas', 'lagrimas', 'ato', 'indiretamente', 'aplausos', 'personagens', 'tricolor', 'loucosporbarcos', 'respondido', 'optar', 'relembramos', 'coordenadorlider', 'negros', 'prima', 'represente', 'fod', 'mandando', 'fasano', 'man', 'custou', 'excesso', 'largada', 'dedico', 'walterforte', 'cielo', 'gratuitos', 'escrevo', 'marcantes', 'encantamento', 'compensa', 'solicitante', 'ibge', 'indicou', 'engenheiro', 'melo', 'visitando', 'juanlucaspescarolo', 'evoluiu', 'nobrega', 'assertiva', 'mcci', 'movimentou', 'ressaltamos', 'bancas', 'tragedia', 'capitania', 'cpts', 'verdades', 'levados', 'pegou', 'bordo', 'dragon', 'mecanica', 'atrelado', 'estornado', 'planejamos', 'ribas', 'grandhyattsp', 'integram', 'roi', 'dissesse', 'residencial', 'assustar', 'rentabilizar', 'marcusantonioamorim', 'camillaportugal', 'dedeaolicastro', 'corretordeimoveis', 'paixoes', 'escolhem', 'stone', 'presidentes', 'externa', 'exameinvest', 'devedora', 'autodromo', 'gravar', 'bancoes', 'gerencial', 'remunerando', 'integralizacao', 'distribuida', 'ni', 'hglg', 'visc', 'btgasset', 'operam', 'afhi', 'onix', 'markets', 'shell', 'trp', 'alfredomenezes', 'rossettiraony', 'antonioformiga', 'marcopradokim', 'betonuzzi', 'gabrielmaksoud', 'lombardi', 'enciclopedia', 'thcalestine', 'prox', 'curiosoa', 'inscritas', 'hey', 'testes', 'ovos', 'clima', 'turmas', 'coral', 'grateful', 'part', 'institutojurua', 'liamarinhabio', 'cooprima', 'institutosalvemar', 'pickupau', 'naturezabeladeitabela', 'brindes', 'silvestre', 'continuarmos', 'linguagem', 'colgatebrasil', 'tiagocamilo', 'sabera', 'certos', 'desespero', 'segurosaude', 'grafica', 'enviando', 'investsmartxp', 'alia', 'cesar', 'moreira', 'agroemdiapodcast', 'clinicas', 'copo', 'previdenciario', 'wg', 'treinar', 'girls', 'concorrencia', 'dalhe', 'bandidos', 'curti', 'comprometer', 'firma', 'distribuidoras', 'guilhermebenchimol', 'manipulacao', 'donos', 'incentivem', 'conceitos', 'concluir', 'instalar', 'selecionou', 'apostou', 'felipemassa', 'cansativo', 'retiradas', 'bancooriginal', 'pudessemos', 'campina', 'aba', 'captacoes', 'vindos', 'insumo', 'assessoriafinanceira', 'consta', 'queridinho', 'formou', 'agio', 'exploracao', 'objetiva', 'virtualmente', 'gioachino', 'rossini', 'von', 'suppe', 'heitor', 'villalobos', 'maurice', 'ravel', 'crm', 'idom', 'envolvimento', 'seguradoras', 'juridicas', 'usala', 'transferido', 'vejam', 'transferindo', 'visitamos', 'agronegocios', 'autora', 'gerados', 'implementar', 'disseminar', 'sebrae', 'formando', 'balletparaisopolis', 'importam', 'fomenta', 'ajudandoos', 'cooperacao', 'encaminhe', 'consagre', 'proverbios', 'valioso', 'movido', 'realizarem', 'justas', 'conseguira', 'poa', 'marcio', 'acquaveroequipe', 'barbosa', 'parques', 'eolicos', 'rn', 'bba', 'diaadia', 'ambicao', 'cbre', 'seriam', 'paramos', 'fibra', 'minds', 'galloway', 'kallayil', 'elevou', 'rendem', 'holding', 'offshore', 'estimular', 'inferno', 'listagem', 'pensem', 'resumir', 'multimercados', 'acertar', 'permanecerem', 'beachtennisnordeste', 'modulo', 'consultorias', 'max', 'maxr', 'inquilinos', 'mentorada', 'interessadas', 'didaticos', 'associadas', 'apagaram', 'report', 'ifoodbrasil', 'americanas', 'cortex', 'bloqueou', 'testemunhar', 'mudaram', 'hahahaha', 'utilizadas', 'interiores', 'unem', 'produzem', 'jaja', 'atuou', 'diretorexecutivo', 'executives', 'park', 'were', 'lacerda', 'org', 'james', 'apexbrasil', 'inside', 'comprometido', 'mientras', 'kartracing', 'karting', 'gokart', 'kartingmoments', 'kartinglife', 'kartingtime', 'kartbrasiloficial', 'tenax', 'wwwtenaxcapital', 'daquelas', 'academica', 'mogno', 'mgim', 'edificios', 'spe', 'gato', 'ce', 'tratando', 'odiloncosta', 'kareninefernandes', 'saulosantiagofotografo', 'ctmpilates', 'dezenas', 'conversado', 'incorporando', 'benchmark', 'iniciada', 'meados', 'envolveu', 'devolvido', 'integralmente', 'distrato', 'mapa', 'nchb', 'making', 'gastando', 'possibilita', 'colegiado', 'sofre', 'logica', 'cobrada', 'honorarios', 'remanescentes', 'enviadas', 'podermos', 'mota', 'bia', 'aprendam', 'valorizamos', 'exercendo', 'possuimos', 'auxiliam', 'ferias', 'ganharam', 'medido', 'caia', 'relatar', 'descer', 'festival', 'vergonhoso', 'paulosp', 'gostam', 'definida', 'vrta', 'eficientes', 'avancando', 'pertencem', 'acompanhou', 'velha', 'entrarem', 'genuina', 'frio', 'vestindo', 'pecas', 'atravessar', 'renatomoritz', 'estabelecido', 'such', 'tomou', 'resolvidos', 'temporini', 'explicaram', 'emissores', 'especificos', 'vendidas', 'atentos', 'opere', 'produzidos', 'docinvestimentos', 'properties', 'assembleias', 'btgpactualadvisors', 'gaia', 'oficinas', 'basquete', 'cotidiano', 'caxias', 'usinas', 'gerais', 'proprietaria', 'aguiar', 'rapidas', 'localizacao', 'renovar', 'ibmec', 'estivermos', 'gremio', 'vitoriosa', 'correspondente', 'incorporado', 'asociacion', 'fiduciarias', 'fiduciaria', 'asofiduciarias', 'finanzas', 'expo', 'produzida', 'declarou', 'reajustado', 'exato', 'emocionantes', 'sulamericano', 'eesp', 'grifa', 'comprova', 'bodylaser', 'comprado', 'sextasfeiras', 'orientacoes', 'inesperadas', 'valem', 'pilar', 'cultivo', 'rapidamente', 'certinho', 'reservado', 'lotado', 'explorando', 'eventualmente', 'consiga', 'paapeumebanco', 'raio', 'sugiro', 'arquivo', 'abrange', 'desdobramentos', 'tentativa', 'molusco', 'liderando', 'socialista', 'ladro', 'geovane', 'ml', 'loisse', 'granadeiro', 'mussi', 'kitri', 'sportiello', 'jeolas', 'jeolasbernardo', 'horses', 'aliquota', 'comecotas', 'magarciajunior', 'extrato', 'especular', 'tendenciosa', 'marido', 'colocado', 'leao', 'madrugabancario', 'epico', 'desejadas', 'descanso', 'reembolsado', 'zeraram', 'policia', 'socialismo', 'capitalismo', 'lamborghini', 'avinexperience', 'eramos', 'ig', 'desocupacao', 'hazte', 'accionista', 'cumplamos', 'sueno', 'miercoles', 'junio', 'loscruzados', 'lascruzadas', 'contactar', 'corredora', 'ingresar', 'orden', 'permitan', 'cruzados', 'concretar', 'anhelo', 'universidad', 'catolica', 'cuyo', 'plazo', 'construccion', 'extendera', 'iniciadas', 'incrementar', 'cantidad', 'apoquindo', 'dotar', 'recinto', 'multiproposito', 'capacidad', 'puede', 'realizarse', 'incorporacion', 'sumarse', 'subasta', 'atraer', 'wwwbtgpactualclcruzados', 'precio', 'colocacion', 'pesos', 'actuales', 'habilitados', 'altissima', 'operadora', 'camp', 'siendo', 'servicios', 'nuestras', 'miles', 'medica', 'pobre', 'atalhos', 'pretendo', 'impedir', 'verificacao', 'vermelha', 'chinesa', 'consultar', 'suica', 'decorrencia', 'atenta', 'pessimista', 'afetando', 'acolhida', 'oferecidas', 'antecipar', 'tel', 'olimpiada', 'delegacao', 'olympiad', 'siila', 'juliano', 'sure', 'camaradeputados', 'moacir', 'sistematico', 'levanta', 'bancopan', 'elet', 'levemente', 'revisoes', 'majoritario', 'compram', 'precisara', 'estrelas', 'partidonovo', 'presidio', 'ewz', 'coordenadora', 'neo', 'cup', 'reabertura', 'ptbnacional', 'colunaesplanada', 'jornaldagazeta', 'apresentada', 'thiagootuki', 'hermes', 'gouvea', 'palmas', 'rinaldi', 'girl', 'lgbt', 'voo', 'premioibest', 'muitooooo', 'patriciagenelhu', 'httpswwwbtgpactualcominvestmentbank', 'precisaria', 'faremos', 'rir', 'ieo', 'meninas', 'representacao', 'thogarcia', 'aceitou', 'acolhido', 'banquinho', 'estudio', 'corretores', 'alugar', 'bloco', 'acessiveis', 'comentaram', 'viram', 'realize', 'bancodigital', 'socioemocionais', 'cashmebrasil', 'adyenbrasil', 'recodeproorgbr', 'android', 'leitor', 'eurofarma', 'neoliberal', 'escreve', 'naquilo', 'chilena', 'muniz', 'imaginem', 'anuncia', 'safirainvestimentos', 'grupotecnoset', 'nutrienbr', 'unisyscorp', 'pirelli', 'institutonovadimensao', 'institutonovaera', 'fotografo', 'miseria', 'mentirosa', 'constatar', 'deixo', 'mamata', 'odeio', 'ingenuo', 'falhas', 'executado', 'atracoes', 'arrecadacao', 'independentes', 'poderosas', 'colecao', 'avisado', 'catia', 'horsts', 'markup', 'semanais', 'coma', 'followforfollowback', 'altcoins', 'comprando', 'coe', 'visite', 'conduta', 'cry', 'smartbrain', 'blue', 'conjuntos', 'retracao', 'pulverizados', 'recr', 'pedimos', 'capixabas', 'apex', 'cachorro', 'dog', 'corgi', 'corgilove', 'corgibrasil', 'barolo', 'corgicuteness', 'corgipuppies', 'corgicommunity', 'pacientes', 'agenteautonomo', 'protecaopatrimonial', 'investimentosnoexterior', 'lineinvest', 'lounge', 'laura', 'inverso', 'trago', 'taticos', 'piora', 'ssouza', 'cocobambubsboficial', 'farra', 'dialogar', 'lidebr', 'boutique', 'mental', 'memoraveis', 'debateu', 'capixaba', 'zordan', 'reformas', 'france', 'credit', 'soffatti', 'existente', 'graham', 'curte', 'ativado', 'lembrete', 'coracoes', 'ademirfotografo', 'oeste', 'encorajando', 'travelplustur', 'glauvidal', 'resumindo', 'guaranifc', 'brunoviottobcv', 'julianobelletti', 'baixas', 'year', 'feel', 'nothing', 'could', 'danielucm', 'gostamos', 'rodrigoconstantino', 'romariofaria', 'ficarei', 'karnal', 'gptw', 'jo', 'batermos', 'pan', 'caramba', 'mentirosas', 'ouvimos', 'manipular', 'tebet', 'consumismo', 'abuso', 'abusivo', 'corredores', 'concluiu', 'rent', 'centers', 'superando', 'gesser', 'ameacando', 'convidam', 'filantropica', 'bgt', 'pratodosverem', 'guinada', 'ambientales', 'brasileno', 'atrasado', 'nigri', 'tecnisa', 'ans', 'btgpactualcom', 'seguimento', 'escrevi', 'poderoso', 'hh', 'atletico', 'contratou', 'tratativas', 'senador', 'fornecer', 'fundamentos', 'tecnicos', 'godinho', 'couto', 'leque', 'sucedida', 'prepara', 'provedor', 'soon', 'plantacao', 'afscapital', 'acionar', 'botar', 'cerimonial', 'compartilhada', 'promotora', 'prepago', 'exponencialmente', 'remessas', 'natalia', 'enfiei', 'engajado', 'juntese', 'impecaveis', 'intuicao', 'abusivas', 'participo', 'inspirou', 'expor', 'retira', 'indicava', 'falava', 'ocorrido', 'endividamento', 'determina', 'comunicar', 'apolice', 'ivest', 'imaginei', 'sequeira', 'sensivel', 'qualidades', 'juntossomosmaisfortes', 'humilde', 'promissor', 'coletanea', 'obteve', 'abordaram', 'gerandofalcoes', 'agr', 'confidencialidade', 'btgtalks', 'canalzinvest', 'gigantesco', 'osso', 'beijo', 'inadimplentes', 'grave', 'existir', 'postei', 'run', 'reativar', 'ingrato', 'arduo', 'marinha', 'datas', 'certificar', 'step', 'ever', 'transacao', 'conhecidas', 'barata', 'aracatuba', 'paolajardimcarvalho', 'oferecimento', 'perdida', 'sinais', 'assistiu', 'amores', 'cybersecurity', 'oii', 'porra', 'preenchi', 'vertical', 'participara', 'caminhar', 'chamamos', 'entrado', 'serios', 'gohan', 'plantas', 'surpreender', 'criterioso', 'intencoes', 'btgl', 'usados', 'quitar', 'ligadas', 'excepcionais', 'beachtennislovers', 'prognostico', 'dadas', 'motorsports', 'fairfaxseguros', 'estrear', 'canabis', 'moca', 'leticia', 'cedulas', 'bill', 'marinahelenabr', 'fornecedores', 'logotipo', 'balcao', 'rankings', 'ubs', 'sectorfiduciario', 'distintas', 'assis', 'escritor', 'europeia', 'going', 'plantaofiis', 'forro', 'nuvem', 'absorcao', 'esfera', 'enforcecommunity', 'nenseeee', 'dale', 'sucedidas', 'globo', 'iniciado', 'baratella', 'respeitam', 'idosa', 'cuidam', 'bloqueio', 'dependencia', 'devidos', 'oq', 'monetario', 'entendeu', 'cordao', 'fabricante', 'convencao', 'ibirapuera', 'febrabantechcom', 'cobrem', 'legitima', 'bolha', 'gasta', 'cilada', 'fiislogisticos', 'joana', 'doe', 'teducacao', 'setupcititrader', 'daytraderbrasil', 'radarinvestimentos', 'honrar', 'tomam', 'unindo', 'direcionados', 'dissenha', 'martinho', 'eliminar', 'mecanismos', 'globalizacao', 'fronteiras', 'difundir', 'oliva', 'bischoff', 'tutores', 'maiara', 'barboza', 'descrever', 'escreveu', 'convence', 'expandiram', 'sangue', 'hollywood', 'because', 'savio', 'vinho', 'rombo', 'conquistando', 'fraudulentas', 'ads', 'brei', 'revelado', 'arthurvmoraes', 'igor', 'climaticas', 'davida', 'heller', 'gesner', 'autorregulacao', 'cohead', 'estresse', 'dinamicas', 'bolsonarotemrazao', 'pv', 'periferia', 'permitido', 'medical', 'habitat', 'futevoleibrasil', 'logomarca', 'itubers', 'wwwmacrodaylive', 'clinica', 'honesto', 'pepperpaulo', 'mdbmulheroficial', 'psbsp', 'feitos', 'adulto', 'graca', 'credenciada', 'transforme', 'armadilhas', 'colaborador', 'taiwan', 'estariamos', 'curriculos', 'rogedankien', 'comercializacao', 'supera', 'irisp', 'confiaram', 'omissao', 'ansiosamente', 'salgado', 'calendario', 'amplamente', 'defender', 'efetivacao', 'quebrado', 'senargoias', 'sarahthome', 'sonham', 'negociados', 'lives', 'consolidar', 'referindo', 'assinado', 'memoravel', 'pmr', 'advocacia', 'repensar', 'ual', 'pequenosnegocios', 'adianto', 'dont', 'do', 'marcosrogeriooficial', 'carloslupipdt', 'da', 'encontrotecnico', 'corrigido', 'bruto', 'eth', 'confirmados', 'finsiders', 'respiracao', 'habilidade', 'tematicas', 'credo', 'condado', 'falhar', 'cilaschulman', 'acorda', 'offsite', 'empenhada', 'une', 'olimpiadas', 'ciencias', 'sidneyferreirados', 'postado', 'acaso', 'refere', 'adolescente', 'triplice', 'assessordeinvestimento', 'samba', 'jato', 'investigar', 'oscilacoes', 'procurei', 'troque', 'mudei', 'farmacias', 'pharma', 'regionais', 'boletimfocus', 'ruins', 'criminoso', 'apontando', 'focar', 'protejase', 'sequestro', 'impactados', 'segui', 'importacao', 'premiado', 'impressionante', 'partidos', 'alianza', 'fantasticas', 'william', 'dudley', 'reserve', 'ronaldo', 'selfie', 'tbem', 'tremenda', 'mistura', 'juvenil', 'enganado', 'conversou', 'porelas', 'summitleads', 'cancoes', 'colunadiretodafonte', 'emissor', 'jmiranda', 'wwwbtgpactualdigitalcomanalisesmacroeconomiaeestrategia', 'impulsiona', 'capitulo', 'ocaradomercado', 'tdc', 'bacen', 'menthorinvestimentos', 'anuais', 'trilha', 'mascarenhas', 'lourenco', 'tito', 'bsdesign', 'aldeota', 'wdo', 'envolvida', 'esperada', 'eurodollar', 'elencou', 'levantadas', 'sorteio', 'trusted', 'movel', 'marcados', 'obrigatoria', 'cga', 'comp', 'msc', 'nasce', 'performaram', 'fernandohmag', 'perdido', 'chamaram', 'progressiva', 'autorizada', 'irregularidade', 'cabiveis', 'marcada', 'futurista', 'topp', 'referese', 'comemorando', 'incluir', 'gemeos', 'non', 'io', 'jonathanfiis', 'respondeu', 'edward', 'amadeo', 'chegarem', 'mura', 'afetadas', 'audiencia', 'ouvidas', 'jonas', 'parents', 'hadnt', 'help', 'everyone', 'je', 'ausentes', 'catar', 'reembolsos', 'coordenacao', 'utilizados', 'razoavel', 'fundamentalistas', 'goldman', 'sachs', 'permanecera', 'poco', 'surpreendeu', 'rosenberg', 'lubrificantes', 'ramos', 'sintase', 'engineer', 'security', 'liderado', 'acordos', 'ci', 'idealizarem', 'atualizada', 'divide', 'safrainvest', 'paodemeldafran', 'travaram', 'acreditem', 'girobusiness', 'giro', 'monitores', 'ryanzin', 'iamfernandoalves', 'vestir', 'petroreconcavo', 'imediatista', 'guardando', 'rasteira', 'cortam', 'matheusfiis', 'bancada', 'ciclicas', 'sentimentos', 'ucranianos', 'contrariando', 'trofeu', 'chuva', 'ullman', 'lcruas', 'completam', 'ocorrida', 'pcd', 'atletismo', 'petra', 'cambraia', 'metropoles', 'brilhando', 'educa', 'let', 'carmelo', 'mg', 'maternidade', 'utilizacao', 'trabalhem', 'eurusd', 'usdjpy', 'torodourado', 'virada', 'dourado', 'adquira', 'imgacademy', 'rioopenoficial', 'quo', 'perdem', 'unisuam', 'analuisagodoy', 'wine', 'ricardonatale', 'segurancadainformacao', 'musculacao', 'idealizadores', 'alinhar', 'got', 'saw', 'comprovante', 'prateleiras', 'dissipacao', 'estaduais', 'vestuario', 'tarifas', 'baixista', 'arrefecimento', 'observado', 'leites', 'boasafra', 'insight', 'possibilitando', 'had', 'way', 'agribusiness', 'recovery', 'belapasqualini', 'apertada', 'optamos', 'experimentamos', 'imersiva', 'encantadores', 'dedicamos', 'simoninha', 'societaria', 'golpistas', 'confessar', 'consolidamos', 'aniversarios', 'campainha', 'onu', 'wish', 'sympla', 'magistratura', 'cejur', 'cury', 'mpf', 'flavia', 'otto', 'tesouraria', 'jogadores', 'planeje', 'ballet', 'contraparte', 'meninasabores', 'deltaflow', 'montei', 'ceder', 'natassiavm', 'rafaelgiovani', 'leandrobovo', 'tupiocas', 'tapiocaria', 'nathalia', 'correia', 'euclydes', 'caioccoppolla', 'joaquinteixeiraoficiau', 'carlosjordy', 'maragabrilli', 'roberta', 'speaking', 'nandoreis', 'felipemourabrasil', 'thigagliasso', 'entidade', 'barong', 'drummond', 'justicatrabalhista', 'cat', 'hcp', 'apoiadora', 'meirelles', 'ejud', 'conforti', 'procuradora', 'mptsp', 'castro', 'heads', 'mentorados', 'extraordinario', 'pepauloricardo', 'balazeiro', 'oabba', 'slogan', 'especifica', 'garantida', 'llzebtg', 'eleicaodesindico', 'assembleiadecondominio', 'jornaldacultura', 'silvionavarrojornalista', 'marginais', 'ferrito', 'trtrj', 'cristovam', 'trabalhos', 'zeram', 'pixbet', 'timbrasil', 'grupoheinekenbr', 'plenonews', 'programapanico', 'anacampagnolo', 'nikolasferreiradm', 'arx', 'donadabolsa', 'dicasdevalorcombtg', 'aliancapelobrasil', 'radiobandeirantes', 'uniaobrasilbahia', 'pedem', 'marinhaoficial', 'fab', 'cbnrecife', 'csiw', 'almocar', 'majorvitorhugo', 'livcapital', 'ginecologista', 'when', 'lama', 'criaturas', 'fantasmas', 'atrapalham', 'verso', 'paris', 'mis', 'concentrada', 'iron', 'maiden', 'fere', 'cbdc', 'levara', 'zerado', 'desvantagem', 'marianomferraz', 'atacado', 'erronea', 'prejudicam', 'encobtra', 'negrito', 'ineficientes', 'clike', 'carbono', 'palabras', 'progressistas', 'generalgirao', 'fixos', 'comemoram', 'prosabersp', 'blackfridaybrasil', 'guinebissau', 'acarretar', 'temido', 'igualandose', 'papelmoeda', 'partida', 'stocks', 'avisos', 'tintasiquine', 'contemporanea', 'cais', 'sertao', 'pavimento', 'doda', 'shp', 'seixas', 'capita', 'permanent', 'clonado', 'ladarioprefeituramunicipal', 'ifmscb', 'acaiapantanal', 'documentapantanal', 'canon', 'sportainmetr', 'game', 'inedita', 'anatole', 'kaletsky', 'gavekal', 'scandiuzzi', 'intrinseca', 'especulava', 'pararmos', 'competitiva', 'descentralizadas', 'hillary', 'clinton', 'driblar', 'futofmoney', 'ticker', 'tomara', 'cumprimento', 'tracamos', 'saving', 'racionalidade', 'motivam', 'angelo', 'alberoni', 'betcris', 'betziliancom', 'meltzer', 'negociosdeimpacto', 'europeu', 'acelerando', 'trimestrais', 'suportar', 'dy', 'apreco', 'heroi', 'mostrarei', 'stockmarket', 'chefleticia', 'virtualcookingclass', 'encaixe', 'dea', 'ricardobassetti', 'romulofialdini', 'perkinsandwillsaopaulo', 'designwithpurpose', 'inspiredbypeople', 'designdeinteriores', 'compet', 'btgbtgpactual', 'techwomen', 'diainternacionaldasmulheres', 'hipotecarias', 'lh', 'lucaspit', 'comunidadedootimista', 'primorico', 'juroscompostos', 'caiocastro', 'vandersonmbaquino', 'gustavosousacorretor', 'artigosdeluxo', 'celebrarmos', 'bestperformer', 'assisti', 'associada', 'corretas', 'rothschild', 'assistam', 'valida', 'considerada', 'interferencia', 'milionarios', 'preferem', 'lido', 'avaliado', 'solicitacoes', 'fredpompeu', 'maestria', 'imperdiveis', 'vaza', 'papos', 'margens', 'apelo', 'ficado', 'contemplada', 'net', 'jardimpernambuco', 'auladetenis', 'cmdb', 'extracao', 'valorizando', 'falado', 'praticado', 'futureinvest', 'geopolitica', 'semelhanca', 'ataques', 'tim', 'confuso', 'looks', 'apostei', 'saia', 'elegante', 'excelentissima', 'joias', 'exigencia', 'libro', 'proyectos', 'edicion', 'permanencia', 'loco', 'mognocapital', 'stelleo', 'tolda', 'ceoconferencebtg', 'destacou', 'reafirmar', 'conectividade', 'mentiras', 'publicacoes', 'caminhe', 'corrigiu', 'lembrei', 'divisor', 'kayofraga', 'derrotas', 'cicatrizes', 'motivation', 'combinado', 'inclusivo', 'bbdc', 'obs', 'brco', 'vilg', 'esclarecimento', 'bancar', 'axiomas', 'zurique', 'reencontrei', 'danada', 'person', 'storytelling', 'responsivo', 'simplificar', 'engana', 'debatem', 'presencas', 'ego', 'faltava', 'gestaofinanceira', 'prospero', 'katsonis', 'intensidade', 'bestperformance', 'interpretadas', 'predominantemente', 'notamos', 'glorias', 'chegarmos', 'caixinha', 'obviamente', 'edtechs', 'celso', 'habimorad', 'key', 'nelas', 'observados', 'balanca', 'sazonalidade', 'resultar', 'inegociaveis', 'procuro', 'dreyfus', 'socioscom', 'praticados', 'indireto', 'desenvolvam', 'participarao', 'wwwrevistaidealcombr', 'revistaideal', 'brds', 'fils', 'getnet', 'telefonica', 'cpfl', 'seguridade', 'copel', 'prometo', 'palestrou', 'ayrton', 'oxyp', 'went', 'already', 'profitable', 'many', 'rjfisioterapia', 'jerome', 'merecem', 'elogiar', 'ocupou', 'indignacao', 'tranquila', 'desagradavel', 'btgwomen', 'admira', 'retorna', 'ludwig', 'felix', 'educacionais', 'ticket', 'pendente', 'verificamos', 'remete', 'pendencia', 'executa', 'refazer', 'permaneca', 'contribuem', 'apresentem', 'regenerativa', 'distributiva', 'flores', 'foge', 'redirecionamos', 'intimacao', 'exatidao', 'paralisar', 'pandemias', 'compila', 'compilacao', 'bresco', 'wellington', 'mafe', 'violatti', 'mafeviolatti', 'ligadefiis', 'ousadia', 'desbravar', 'incansaveis', 'considere', 'vemcomigo', 'deumbtgnoseusinvestimentos', 'simpaulinvestimentos', 'puderem', 'kussarev', 'cdp', 'moldar', 'braskem', 'eletrobrasoficial', 'oficina', 'naturalista', 'visualmente', 'six', 'keepgoing', 'lados', 'compradores', 'isolado', 'mercadodeacoes', 'guiada', 'ganharei', 'recomeco', 'wavebtg', 'respirando', 'conversarmos', 'quilombo', 'blackrocksstartups', 'programadeaceleracao', 'pormaisnegrasenegros', 'blackintech', 'blackstartups', 'growstartups', 'perai', 'agradeceu', 'reconstruir', 'bipbrasil', 'primeiramente', 'alcancando', 'bip', 'marinichelenichele', 'altmaincorporadora', 'reconstrucao', 'ousada', 'argucia', 'juntoscontraocoronavirus', 'btgaai', 'trnt', 'transwolff', 'carencia', 'canada', 'prorrogado', 'pecado', 'aovivo', 'btcpactual', 'tarsooliveira', 'invalida', 'jobsher', 'morando', 'desbravando', 'ativamente', 'galery', 'posicionamentodemarca', 'mercadodeluxo', 'ninguém', 'demitido', 'prosperidadeinvestimentoscg', 'aprofundado', 'traduzindo', 'desacelera', 'podese', 'abaixar', 'explicacoes', 'dourados', 'mindset', 'flowork', 'imponentes', 'nono', 'decidido', 'sigma', 'droga', 'desocupado', 'almeja', 'agradeca', 'persistente', 'tirada', 'promissora', 'diadelive', 'invistaconsciente', 'analfabeto', 'wow', 'devs', 'motomura', 'resende', 'viana', 'estacao', 'sanitarios', 'impactara', 'comprador', 'reciclagem', 'pavimentos', 'vigencia', 'locacoes', 'barroso', 'realestat', 'simplifique', 'vidro', 'biofilia', 'estacoes', 'pedras', 'garden', 'bring', 'offer', 'view', 'buildings', 'something', 'into', 'compondo', 'profittogrowth', 'recarga', 'ongs', 'agressivo', 'indexador', 'posfixados', 'remunerado', 'livelo', 'cobrar', 'bancomas', 'acontecido', 'continuou', 'agende', 'cuiaba', 'runge', 'vips', 'dita', 'ilimitados', 'titulares', 'truly', 'become', 'steve', 'jobs', 'clubehebraica', 'orquestrasinfonica', 'summitalliance', 'wurman', 'ignorar', 'aparente', 'sarainvestoficial', 'geocapital', 'vamosjuntos', 'iccc', 'catalisador', 'chafariz', 'saracuras', 'iphan', 'revitalizacao', 'envolver', 'cofundadora', 'gradil', 'parcao', 'implantacao', 'cameras', 'errejota', 'afiliados', 'alliancejjteam', 'jiu', 'jitsu', 'fabiogurgel', 'patrick', 'btgpactualevents', 'bozo', 'laterais', 'variar', 'direcionada', 'rejeicao', 'fraco', 'proporcionam', 'previsibilidade', 'protegeu', 'exigencias', 'kara', 'descaradamente', 'expresidiario', 'imediatamente', 'consultado', 'impressa', 'entrevistar', 'assistimos', 'tecnologicos', 'promovem', 'concebido', 'formais', 'redondas', 'debaterao', 'gostariam', 'convidalo', 'remota', 'compartilham', 'tarcisiogovernadorsp', 'erraram', 'contratando', 'fingers', 'ufa', 'multidao', 'desempregados', 'chamam', 'arenas', 'monetizacao', 'engagement', 'integridade', 'ownership', 'paradigma', 'audiovisuais', 'franqueza', 'matematico', 'aplaudido', 'esquema', 'defendendo', 'cenas', 'ecosistema', 'cual', 'presentamos', 'son', 'ods', 'angulos', 'ciudad', 'entorno', 'organiza', 'bicharaabidaoneto', 'primer', 'conglomerados', 'populacional', 'fracao', 'levarmos', 'concreta', 'afirmacao', 'justa', 'pobreza', 'comida', 'escolaridade', 'parecidas', 'portando', 'incompetente', 'enfrentou', 'enfrenta', 'roubando', 'pgtalks', 'pglaw', 'governancacorporativa', 'mensageiro', 'fsbcomunicacao', 'sensato', 'perdidos', 'adiar', 'porr', 'nacao', 'estrategicamente', 'vasta', 'gama', 'ajudara', 'protecaonada', 'assimetria', 'monitoro', 'chatice', 'lockdown', 'decretado', 'sobrevalorizado', 'desvalorizado', 'testado', 'dolaresfundos', 'observe', 'cotizar', 'bruta', 'obrigacoes', 'consultores', 'consorcio', 'oracoes', 'presidenciais', 'ineditismo', 'antecipando', 'historica', 'ligam', 'contados', 'escrituracao', 'escutou', 'estejam', 'line', 'httpsopenspotifycomepisodedpftfvzjtwupxoepynsigfezeatzsjhlmuvsudqqutm', 'sourcecopylinknd', 'occambrasil', 'construtiva', 'recomendaria', 'confusos', 'significativas', 'habilitar', 'realizei', 'adicionarem', 'recuo', 'norteamericana', 'car', 'escultura', 'iorque', 'altura', 'instalada', 'pujante', 'correntista', 'engano', 'iniciaram', 'oceano', 'audibr', 'cozinha', 'arrematada', 'reinventouse', 'recupera', 'casaitaim', 'abrilhantou', 'encerro', 'artigos', 'elencar', 'metal', 'siempre', 'signos', 'btgpactualcolombia', 'filieseabaai', 'conferiu', 'reformulamos', 'atualize', 'tennistime', 'trabalhou', 'antoniobernardo', 'austral', 'atilatte', 'ararason', 'bennusports', 'brizzaarezzo', 'cachacabrasilchik', 'corona', 'dermagebrasil', 'doog', 'gatoradebrasil', 'guto', 'divieirafotografia', 'possible', 'aplicados', 'troquei', 'adiantou', 'sumir', 'representei', 'valorizam', 'revertido', 'resgatado', 'obtido', 'bussola', 'tratou', 'miura', 'assessoras', 'carla', 'blindado', 'batido', 'gauchos', 'portoalegre', 'quick', 'homenagear', 'poderosa', 'tapereading', 'areia', 'bolinha', 'refugio', 'oficialparqueglobal', 'reacaobeachtennisteam', 'suspense', 'aviao', 'floresta', 'ilegal', 'enganando', 'aplicam', 'robos', 'nascemos', 'atos', 'maneiro', 'horizontes', 'recebidas', 'liberados', 'alcancou', 'nega', 'vasconcelos', 'terranovajurimetria', 'incomodado', 'filosofo', 'representaram', 'vozfeminina', 'short', 'esgotada', 'enriquecedores', 'vemserbtg', 'valendo', 'unirparafortalecer', 'btgbankers', 'celulas', 'descoberto', 'flexivel', 'irrelevante', 'partnershipmarketing', 'staff', 'vempradipmaisvocetambem', 'porschecupbrasil', 'allianzparque', 'friend', 'autoridade', 'aceleradas', 'armazenagem', 'locatarias', 'gargalos', 'arnaldo', 'silvio', 'reeleicao', 'breno', 'trajeto', 'trilhado', 'patrocinadoras', 'desmatada', 'arvores', 'incentivadores', 'gallery', 'cap', 'luxo', 'solicito', 'substituicao', 'sensiveis', 'dependente', 'aprovada', 'sistemico', 'wiseinvestimentos', 'degradadas', 'prazeres', 'frequentar', 'abandona', 'mudaria', 'acionario', 'besa', 'subsidiarias', 'greenwashing', 'liberacao', 'equities', 'regulamentacao', 'formamos', 'maquinas', 'sudeste', 'brickell', 'maltrata', 'trip', 'apresentadas', 'tecnologicas', 'dimensao', 'celinabuhlerbranding', 'consumidormoderno', 'consumidores', 'raiz', 'afiando', 'adapteaai', 'gestaodepatrimonio', 'livraria', 'gostar', 'sonhogrande', 'batemos', 'maceio', 'ensinamento', 'brother', 'especies', 'demonstram', 'domingao', 'ventos', 'quilometros', 'maluco', 'pertence', 'lida', 'profunda', 'incorporar', 'metodos', 'holder', 'skininthegame', 'madness', 'turisticos', 'capkodja', 'filipepenko', 'marfrigmrfg', 'presentinho', 'brigadeiro', 'restrito', 'velhoamigo', 'mandem', 'energias', 'despedia', 'empregaticio', 'presenciado', 'repassado', 'confraternizacoes', 'conquistadas', 'historinha', 'exfuncionarios', 'fisicamental', 'fornecido', 'injustos', 'inserir', 'eternamen', 'eventosemcondominios', 'granstadvolvo', 'rodar', 'barcos', 'espalhados', 'shoppingcenters', 'substitutas', 'biodiesel', 'canadeacucar', 'restringem', 'algodao', 'substituto', 'poliester', 'derivado', 'desincentivam', 'concentrar', 'repassada', 'circulando', 'tra', 'garoto', 'mexem', 'alisoncorreia', 'galeraaaa', 'ifljovemsp', 'rateio', 'aprimorando', 'chocolate', 'valorizado', 'flls', 'sulamerica', 'log', 'morre', 'confesso', 'propor', 'montando', 'limers', 'inevitavelmente', 'foguete', 'luzes', 'referido', 'campus', 'ocupado', 'comunicou', 'verificado', 'vargas', 'geografia', 'th', 'whos', 'bancocentraldobrasil', 'periferias', 'bauru', 'sisteleng', 'agrosolo', 'portalrays', 'paschoalottooficial', 'movimentobemmaior', 'carolambm', 'gfstore', 'achamos', 'expressivos', 'somosacquaveroinvestimentos', 'distribuiu', 'elegancia', 'alianscesonae', 'ansiedade', 'progressista', 'preenche', 'securities', 'lotus', 'lotuscapital', 'tropa', 'ilha', 'xie', 'devolve', 'dedicaram', 'doaram', 'protocolo', 'cumprida', 'acabando', 'prestes', 'cuide', 'stanford', 'integrais', 'incrivelmente', 'soffiatti', 'belissimo', 'yamaha', 'shure', 'sbsomeluz', 'azimut', 'house', 'risadas', 'retarda', 'desconhecem', 'tradicionalmente', 'capacitadas', 'marcusschulzepeixinho', 'danilolandeiro', 'souzawilliam', 'tiagomachadoba', 'lanzarinleo', 'valoriza', 'enfrentavam', 'necessitando', 'factivel', 'jeff', 'maracana', 'loyo', 'tackfestival', 'trofeus', 'sindibaresgyn', 'sodexobrasil', 'moodys', 'consistentemente', 'juizo', 'manifestacao', 'apurados', 'credora', 'clubin', 'rosman', 'brigar', 'luc', 'core', 'hgre', 'brcr', 'xplg', 'shoppings', 'fechados', 'darumbtg', 'arcar', 'executados', 'admirar', 'percorrer', 'grandiosos', 'pedrohrvital', 'lmmaximo', 'mia', 'products', 'renewables', 'bp', 'association', 'petronas', 'nigeria', 'camiseta', 'conservacaoambiental', 'alterou', 'adocar', 'musicalizacao', 'institutions', 'espacosilvestre', 'barrancoalto', 'houstonzoo', 'zoomiami', 'baronghouse', 'iucn', 'otterspecialistgroup', 'conciliar', 'admiramos', 'voamos', 'versignassi', 'jabuti', 'divertida', 'curiosidades', 'atentar', 'constituido', 'preferencialmente', 'pulverizado', 'saltou', 'rendamensal', 'jobin', 'houvesse', 'tarefa', 'cometer', 'bira', 'biraferreira', 'paulopedroso', 'narciso', 'vidaboiadeira', 'agroemdia', 'sintonize', 'noticiasdoagro', 'galdermaaestheticsbr', 'femclinica', 'orgulhodepertencer', 'restylane', 'dysport', 'toxinabotulinica', 'preenchimentofacial', 'rentabilidades', 'decidimos', 'prospera', 'reconhecendo', 'alexa', 'tradingfloor', 'redesocial', 'previdencias', 'explora', 'spxcapital', 'param', 'repetidamente', 'soocomeco', 'proveniente', 'executive', 'advogada', 'somoswg', 'eterno', 'fraca', 'julgamento', 'culpado', 'faccao', 'explicamos', 'especulacao', 'unitario', 'comandos', 'mereco', 'pnc', 'benchimol', 'brincando', 'seleciona', 'lhes', 'entenderam', 'agradaveis', 'descompressao', 'informais', 'willis', 'towers', 'watson', 'apontavam', 'predilecao', 'vinha', 'dividindo', 'sequestrado', 'leadership', 'program', 'oferecida', 'enviam', 'codigos', 'tmb', 'descreve', 'onboarding', 'iv', 'ajudamos', 'desativaram', 'claros', 'amado', 'acessado', 'renomadas', 'singularecorretora', 'simpaul', 'taxadejuros', 'recargas', 'ficaadica', 'bravo', 'julianoacustodio', 'composta', 'inenarravel', 'socialmente', 'tchau', 'revendas', 'financiamos', 'pegamos', 'patrocinar', 'pace', 'abrirem', 'cant', 'upgrade', 'antecipado', 'baixei', 'cprfinanceira', 'objeto', 'logisticas', 'distribuidos', 'rotas', 'rodoviarias', 'operas', 'cs', 'absorvemos', 'realidades', 'vinicius', 'abracos', 'entregas', 'alcancaram', 'icatu', 'zurich', 'evandro', 'desisto', 'marcamos', 'fias', 'value', 'confortavel', 'charlesrivercapital', 'paradigmacapital', 'concluindo', 'madrinha', 'nathaliaarcuri', 'bailarina', 'somposeguros', 'toyotatsushooficial', 'vestem', 'arrependido', 'onecomelas', 'finaceiro', 'traderevolution', 'ibajud', 'discutem', 'administradores', 'gutierrez', 'walter', 'fernandalarissainvest', 'motivacaorazao', 'renovatoria', 'comarca', 'zerada', 'pergunte', 'alexandra', 'aquecimento', 'innovation', 'sigaadilsonramos', 'parapara', 'cautela', 'consecutiva', 'lotada', 'divido', 'genocidio', 'scuderia', 'pgg', 'pggchem', 'proddutorrural', 'distributor', 'aproveitam', 'tammysj', 'permaneceu', 'nhhotelgroup', 'cabo', 'octubre', 'bogota', 'informacion', 'griclub', 'josypguedes', 'recomendando', 'anything', 'sitting', 'down', 'agradar', 'enormes', 'aprova', 'neutra', 'alienacao', 'globenet', 'provedores', 'techday', 'scott', 'liderada', 'divesh', 'makan', 'iconiq', 'mark', 'zuckerberg', 'sheryl', 'sandberg', 'dorsey', 'galperin', 'poderosos', 'dan', 'morehead', 'pantera', 'gopi', 'chief', 'evangelist', 'revistas', 'junta', 'assessoriaeminvestimentos', 'emitimos', 'ambientalmente', 'coordenaram', 'greenbonds', 'invight', 'finais', 'desafiocumprido', 'iguais', 'visivel', 'construiram', 'reagir', 'tremendo', 'extraordinarios', 'ets', 'ingressarem', 'pedrohavasco', 'luminiinvest', 'aletavares', 'investpartnerinvestimentos', 'instalado', 'elthon', 'paulorbarreto', 'premiacoes', 'aprendo', 'moneyreportoficial', 'divulgarem', 'retendo', 'gostoso', 'pioneiro', 'modulos', 'alunas', 'lendo', 'gerador', 'cvc', 'simplicidade', 'cearense', 'anjo', 'assumido', 'apropriado', 'atenda', 'reforcando', 'bancobmg', 'higher', 'reality', 'andei', 'tentado', 'textao', 'barbeiro', 'viddacapital', 'aceitam', 'paralelos', 'onuoficial', 'netzero', 'deslize', 'construidas', 'most', 'members', 'main', 'trends', 'foreign', 'technology', 'capitalmarkets', 'jamestownlp', 'mira', 'newmark', 'moises', 'credicorp', 'finished', 'ritch', 'mueller', 'marriottintl', 'popularizar', 'tocou', 'bnpparibas', 'campana', 'exit', 'dejen', 'extraccion', 'colapso', 'vivianemrcarvalhoinvest', 'lisos', 'suave', 'vermelho', 'laranja', 'fundomultimercado', 'combinamos', 'porumbrasilmelhor', 'sozinha', 'batizada', 'anuncios', 'turbulencia', 'darwin', 'adaptacao', 'adversas', 'nascido', 'prematura', 'pertencente', 'goulart', 'rabo', 'casting', 'acisa', 'voltarei', 'camarada', 'responderem', 'adiantar', 'agilizar', 'restante', 'inspirando', 'possuindo', 'escossia', 'cerim', 'cer', 'chefejufernandes', 'barrica', 'vinhos', 'pettros', 'dj', 'rafasaxman', 'sax', 'xismac', 'com', 'arenaaveiro', 'showww', 'empolgante', 'programaplaybt', 'evandrorufino', 'janaarouca', 'disputando', 'familiamormaii', 'eduardonedeff', 'muri', 'rafalosamigos', 'garopaba', 'albuquerquefernando', 'qualy', 'vencermos', 'tiebreak', 'teresinapi', 'playbeachtennis', 'pedrosa', 'redecompras', 'mormaiioficial', 'circuitomormaiidebeachtennis', 'beachtennisbeachtennisworld', 'conhecela', 'sonhando', 'saio', 'desenhar', 'encantadora', 'jandira', 'feghali', 'tabataamaralsp', 'transformaram', 'debatida', 'sc', 'httpsfiesccombrsemanadaindustria', 'ucascostaat', 'andam', 'empregabilidade', 'iiii', 'vocesa', 'informa', 'automatizada', 'mensurar', 'enviada', 'relogio', 'merecedor', 'tissot', 'httpsagroinspercombreventospaineldeoportunidades', 'escolhidos', 'sedes', 'acolhedor', 'decor', 'construtora', 'rapha', 'impulsionam', 'vqv', 'sejamais', 'legendinvestimentos', 'sinta', 'conferida', 'crie', 'distribuindo', 'calculados', 'aumentaria', 'classificado', 'amortizacao', 'gerou', 'polemica', 'permitiria', 'suspensivo', 'criptomoeda', 'moedadigital', 'manifestar', 'desgastante', 'acionei', 'sofia', 'desligam', 'temer', 'caos', 'batch', 'kick', 'restou', 'mollica', 'equacao', 'chupa', 'inadmissivel', 'change', 'internas', 'pilotos', 'projetou', 'psicologico', 'mansuetoalmeida', 'colocada', 'assistindo', 'executadas', 'httpsfnetbmfbovespacombrfnetpublicoexibirdocumentoid', 'restantes', 'simultaneamente', 'desfazer', 'quitado', 'respeitando', 'arg', 'hike', 'piramide', 'inteira', 'evelinsaretto', 'gescabin', 'reconheco', 'prudential', 'sentada', 'mestrado', 'mega', 'estudava', 'ajudinha', 'ferrar', 'lancando', 'chamadas', 'ligas', 'virei', 'equitacao', 'goste', 'bootcamp', 'chicago', 'cbot', 'calculada', 'converse', 'incluidos', 'rcrb', 'tratados', 'sejabtg', 'hapvida', 'despencaram', 'zambello', 'notas', 'macroeconomicos', 'ganhe', 'guardar', 'vire', 'quorum', 'cometendo', 'golaco', 'competicoes', 'singulares', 'alexandreabreu', 'estruturalinvestimentos', 'caiocdecastro', 'rjinvestimentos', 'fotovoltaicas', 'localizadas', 'comerc', 'namidia', 'nazari', 'whirlpool', 'fidcs', 'inbrands', 'ocupa', 'projetada', 'fomento', 'fases', 'exatos', 'obcecada', 'lugarcomum', 'board', 'manteremos', 'antigas', 'premissa', 'traga', 'cptr', 'fiduciario', 'maranhao', 'contaremos', 'peter', 'simbora', 'fisioliviaventura', 'superiores', 'reter', 'number', 'dow', 'jones', 'pn', 'aconteceram', 'assimilar', 'simulacoes', 'giselesouzabarros', 'jornais', 'folhadesaopaulo', 'lance', 'pco', 'ivanvalentepsol', 'metodologias', 'deumbtgnasuavida', 'acreditado', 'insatisfacao', 'consecutivas', 'vermos', 'tirem', 'covardia', 'cancela', 'raiva', 'imersivo', 'maconha', 'fuja', 'timegwm', 'proveitoso', 'intermediado', 'cearasc', 'banca', 'chamou', 'enfrentam', 'escolhida', 'livrar', 'senta', 'cadeira', 'escolheria', 'buscadora', 'apreender', 'claras', 'imprevisto', 'qualificacao', 'recrutadora', 'influenciador', 'ensinando', 'amos', 'preferencias', 'violam', 'descritos', 'pilota', 'ferve', 'pb', 'crisatalla', 'fattocapital', 'jhccordeiro', 'mcporto', 'nucleopar', 'cometa', 'anemus', 'wind', 'limpa', 'renancarini', 'assetallocation', 'veia', 'fulviopennacchi', 'ronaldocerqueira', 'adverso', 'elevacoes', 'consolidando', 'assustador', 'tentem', 'rasputin', 'waks', 'mariano', 'luminatti', 'olyntho', 'viktor', 'gree', 'kentucky', 'padilha', 'polinesio', 'tok', 'dieulefit', 'aphotographs', 'incorporados', 'semelhante', 'entrevistados', 'destas', 'evite', 'exposto', 'emilioederson', 'taokey', 'eleitores', 'retrocesso', 'virtuais', 'debitaram', 'muletas', 'cantos', 'empregadoras', 'debitado', 'pediram', 'financia', 'companheiros', 'opta', 'irpf', 'regileme', 'enderecos', 'correndo', 'recomendava', 'piticas', 'booons', 'reconectamos', 'divertidae', 'expliquei', 'nomo', 'mothers', 'normalizar', 'maee', 'amigasamigos', 'aviaozinho', 'coitado', 'odiaonline', 'pera', 'caricatura', 'valoramaresearch', 'humanitarias', 'continuan', 'salvo', 'mayo', 'habian', 'internamente', 'gran', 'tener', 'zonas', 'civiles', 'tenemos', 'enfoque', 'putnh', 'vencera', 'boleto', 'pros', 'mulheresnabolsadevalores', 'estatais', 'travar', 'cumpre', 'sujeita', 'prejudicar', 'atualizadas', 'relativas', 'trupe', 'duzia', 'desistiu', 'sessao', 'melhorem', 'percepcoes', 'globalizada', 'orientada', 'igc', 'fortezza', 'navi', 'canalhas', 'concorrem', 'brazilians', 'while', 'able', 'also', 'crestana', 'custodio', 'razia', 'fiisummit', 'incorretos', 'diariodopoder', 'blogdonoblat', 'clave', 'mediado', 'diversa', 'aceitando', 'privatizada', 'volte', 'comparativo', 'avancou', 'pandemica', 'tt', 'adicao', 'domiciliar', 'checar', 'marcal', 'football', 'atala', 'imprimir', 'michelin', 'canalrural', 'ruralbusinessbr', 'belarmino', 'seminario', 'obecon', 'pesquisar', 'nine', 'sdr', 'services', 'innova', 'vagasparamulheres', 'jovenstalentos', 'avo', 'beneficente', 'stpaulsinternationalday', 'stpauls', 'pta', 'maoamiga', 'vis', 'tuccaoficial', 'acerbrasiloficial', 'fundacaobritanica', 'ligasolidaria', 'correspondem', 'corp', 'riscoretorno', 'vemprawise', 'deputadofederalpaulinho', 'rubinhonunesmbl', 'lembremse', 'cartouche', 'catarina', 'jesses', 'amorosa', 'eric', 'souto', 'maison', 'du', 'cavalier', 'kan', 'ffc', 'ambelline', 'west', 'elisabelle', 'nolot', 'furio', 'carthagos', 'vetnil', 'bianca', 'mello', 'mostre', 'participante', 'aeroporto', 'belissima', 'empresarias', 'pesquisem', 'expressiva', 'pucrsonline', 'contemplar', 'ordinarias', 'otuki', 'carregado', 'contrapartida', 'abordagem', 'bandes', 'planilhas', 'obeconomia', 'encontravam', 'estudada', 'reunindo', 'conab', 'movimentosemterra', 'cx', 'desenvolvida', 'eumecastoficial', 'sentimos', 'arrasaram', 'boletos', 'vivareal', 'figueiredo', 'preocupe', 'ericareis', 'gema', 'atuante', 'replicar', 'cordial', 'mchecon', 'sensacoes', 'iluminada', 'hebraicasp', 'lojacastor', 'yws', 'vagasdeemprego', 'mulheresnasfinancas', 'passiva', 'sparab', 'bear', 'adilsonffonseca', 'coquetel', 'happybirthday', 'matogrosso', 'processamento', 'push', 'reduzidos', 'euros', 'comprovantes', 'swifts', 'recoder', 'beth', 'portadores', 'ios', 'sensores', 'glucopatchr', 'automonitor', 'invasivo', 'invasiva', 'revolucionario', 'glicemia', 'glicemiacontrolada', 'saudeebemestar', 'diabetessbd', 'minsaude', 'bayerbrasil', 'roche', 'sanofi', 'fleury', 'novonordiskbr', 'cimedremedios', 'anvisaoficial', 'mcti', 'finepinova', 'captablebr', 'dasaoficial', 'dasaempresas', 'camilafarani', 'carloswizardmartins', 'tiagobrunet', 'joaoappolinario', 'sharktankbrasiloficial', 'mbrasil', 'siemens', 'cuidadosphilipsbr', 'jnjbrasil', 'gcapital', 'foque', 'neuchatel', 'suiza', 'seleccion', 'logro', 'ssl', 'gold', 'barhein', 'luftglas', 'avaliados', 'cinza', 'comemoracoes', 'cobrara', 'sairam', 'humberto', 'centrao', 'marcacoes', 'confirmacoes', 'zer', 'traderlife', 'tradersbrasil', 'bolsadevaloresbrasileira', 'minidorlar', 'realbrasileiro', 'acoesdabolsa', 'rendaextraemcasa', 'voluntaria', 'posturas', 'grupoaguiabranca', 'copergas', 'bandid', 'dindin', 'curtindo', 'popularidade', 'lucrar', 'preve', 'sucumbencia', 'boicotar', 'imaginando', 'guerreiro', 'confiamos', 'represento', 'sn', 'inocente', 'comuna', 'intermediarias', 'co', 'grosseiramente', 'derrotado', 'alcar', 'voos', 'contempla', 'saltos', 'iniciam', 'byravsany', 'concluimos', 'divulgamos', 'literatura', 'games', 'independetemente', 'rodovias', 'aeroportos', 'bachi', 'latini', 'irlo', 'background', 'liderou', 'fundar', 'musial', 'dividendyield', 'placas', 'startseoficial', 'valeram', 'correm', 'hodl', 'cryptomillionaire', 'cardano', 'ico', 'followfollowback', 'blockchaintechnology', 'poe', 'choro', 'cariocas', 'revolucionando', 'questionamento', 'grandcapital', 'assumiram', 'investidas', 'vinham', 'navegar', 'baseados', 'encarecer', 'lucratividade', 'century', 'totalizam', 'itaim', 'bibi', 'aportado', 'kncr', 'vgia', 'tomadores', 'unit', 'mision', 'estimado', 'spreads', 'esquerdista', 'falarem', 'withregram', 'destacamos', 'destinatario', 'devidamente', 'consumidos', 'farolsantander', 'chevroletbr', 'rededor', 'qualicorp', 'cem', 'alesupercinema', 'mimica', 'solicitando', 'liberado', 'siqueiradudu', 'regula', 'controla', 'resumidamente', 'expansionista', 'aplicasse', 'complementar', 'irmaos', 'devedores', 'paravpa', 'fundosimobiliario', 'host', 'sonhada', 'auxiliando', 'ornelas', 'agregando', 'copacabana', 'abordando', 'paratodosverem', 'observei', 'photography', 'photooftheday', 'palestrei', 'mulherada', 'investiram', 'escolheu', 'produzimos', 'quiz', 'hardenberg', 'mobius', 'proveitosa', 'lauramws', 'party', 'air', 'descritas', 'inadimplidos', 'xx', 'investimetos', 'latia', 'pizzacommarketing', 'titulospublicos', 'quant', 'empreeendedorismofeminino', 'mulherempreendedora', 'womanpower', 'poderfeminino', 'unindoforcas', 'businesswomen', 'promovemos', 'recolhe', 'obrigados', 'portfolios', 'correspondentes', 'alegado', 'atipico', 'sale', 'lease', 'tubaroes', 'tank', 'debora', 'interlocucao', 'menescal', 'musico', 'pospandemia', 'forumempresarial', 'colocados', 'deferimento', 'suspensas', 'stay', 'provocando', 'since', 'during', 'forward', 'doing', 'sindical', 'rampinilide', 'kazuo', 'kajiharalide', 'vixi', 'reinventar', 'caetano', 'aff', 'selo', 'thmblanco', 'monde', 'alinemonaretto', 'derrubando', 'sororidade', 'quedas', 'baseado', 'mentem', 'clubes', 'compositor', 'irineu', 'perpetuo', 'critico', 'ganhara', 'completado', 'assetmanagement', 'palocci', 'desonestos', 'barra', 'haller', 'simone', 'adotar', 'essencialismo', 'votarei', 'omarazizsenador', 'pvoficial', 'realsardenberg', 'sofrido', 'aumentamos', 'assuma', 'vinci', 'ocupacao', 'sugere', 'spolier', 'vamooo', 'clientesa', 'identifica', 'incorreta', 'adega', 'filantropicas', 'respondam', 'sorrindo', 'provisorio', 'totaliza', 'administrativo', 'discurso', 'empatia', 'comer', 'seguras', 'negocia', 'aspecto', 'especulativo', 'gs', 'praticidade', 'btgdigital', 'ctmoska', 'beachtennisrj', 'ademicon', 'avaliacoes', 'sicredi', 'agressivos', 'profundidade', 'julgam', 'multipla', 'kliousoff', 'tig', 'environmental', 'dedica', 'climaticos', 'sociales', 'financieros', 'instancia', 'distintos', 'medicina', 'projetossociais', 'cuidarem', 'seguirmos', 'pudermos', 'stj', 'julgar', 'medicos', 'aepremerj', 'bridges', 'concretizada', 'ofertado', 'laudo', 'analisa', 'consignado', 'recomendado', 'traduzirem', 'gol', 'luisa', 'trajano', 'desafiando', 'franklin', 'vendi', 'regianemagalhaes', 'necessariamente', 'conselheiros', 'anonima', 'moldes', 'senadordorio', 'senadorportinho', 'carlosportinho', 'woelz', 'separar', 'deb', 'guilhon', 'vetnilequinosoficial', 'teixeira', 'alho', 'fabiano', 'boy', 'pinho', 'biase', 'ibrahim', 'stewart', 'escassez', 'alemanha', 'faculdades', 'mec', 'londres', 'mz', 'amarela', 'comportamentais', 'community', 'traineeenforce', 'invalidez', 'elaboracao', 'alert', 'little', 'bit', 'happened', 'recording', 'coming', 'lins', 'nossocompromisso', 'protegidas', 'secreto', 'roseli', 'indicada', 'divergencias', 'vainaweb', 'preparadas', 'aproximando', 'precosmuito', 'protegido', 'botou', 'carta', 'obrigar', 'zerou', 'inaugurou', 'merecia', 'ficha', 'clrodrigues', 'alegibinlibman', 'gtfgabriel', 'rafbianh', 'poi', 'martaalinecaires', 'finacap', 'agremiados', 'visam', 'tornara', 'ofensa', 'gostosa', 'constrangida', 'repito', 'diminuirem', 'excessivas', 'instante', 'daria', 'organizando', 'modesto', 'entendam', 'aumentam', 'desculpa', 'tomado', 'lembre', 'extrapolar', 'ligou', 'tecpar', 'orgulha', 'contratuais', 'plantando', 'bananeira', 'criterio', 'prateleira', 'desejei', 'goes', 'amoroso', 'martin', 'casals', 'mariany', 'publicamente', 'capitual', 'escolhendo', 'entrem', 'encantada', 'auteminvestimentos', 'judsoninvest', 'relembraram', 'preciosos', 'assinar', 'veem', 'empoderar', 'amplificar', 'abencoou', 'escolamobile', 'fisesp', 'marcosknobel', 'federacaosp', 'lftm', 'confirmado', 'privacidade', 'item', 'evitando', 'barulho', 'delicia', 'wwwbtgpactualcomouvidoria', 'cancelando', 'bullmarket', 'studio', 'expandindo', 'prs', 'embarcar', 'alugado', 'eai', 'matar', 'realizam', 'retroceder', 'deixam', 'horizontal', 'estimulando', 'converso', 'resgatavel', 'indenizacao', 'temporario', 'montanhas', 'desanimador', 'iti', 'pateta', 'brilha', 'assumi', 'destacam', 'backoffice', 'unicas', 'lasquem', 'mostrara', 'legitimo', 'sea', 'hecho', 'estoy', 'explicativo', 'encontrala', 'alturas', 'charmoso', 'simulando', 'anistia', 'conheceria', 'enchia', 'lotava', 'pegaria', 'viraria', 'avesso', 'admirava', 'apressada', 'doida', 'fascinante', 'furacao', 'espanha', 'machuca', 'decided', 'act', 'instead', 'fear', 'reaping', 'rewards', 'foodtech', 'tauil', 'chequer', 'mayer', 'demarest', 'pic', 'emitido', 'compramos', 'contraditorio', 'liquidacoes', 'securitizadora', 'prepagamento', 'brf', 'incontaveis', 'inesperado', 'tiposdeinvestimento', 'investimentoalongoprazo', 'osentidofeminino', 'getty', 'images', 'imprescindivel', 'charmain', 'obrigasa', 'computador', 'encaminhar', 'derrubar', 'identifiquei', 'enzopionacom', 'colheu', 'diretrizes', 'agendamentos', 'ofereceramemprestimo', 'estranhei', 'cobraram', 'camille', 'entraram', 'merda', 'somem', 'labirinto', 'aparecam', 'zanlorenzi', 'recheada', 'spotifypodcast', 'youtubepodcast', 'solidario', 'inflexao', 'explicam', 'contigo', 'inscrevi', 'psicologo', 'mind', 'apresentarmos', 'aguento', 'sara', 'negra', 'pretas', 'negligenciadas', 'itauunibanco', 'vice', 'auditiva', 'ouvidos', 'vaquinha', 'folga', 'sentime', 'soltar', 'vivos', 'galeraaaaal', 'corretorta', 'desenvolvermos', 'revoluciona', 'otavio', 'qualificados', 'resumido', 'somosgrupofsb', 'liquidar', 'estimase', 'cotames', 'passivos', 'fracassos', 'produziu', 'semelhantes', 'tornarao', 'uniforme', 'redonda', 'macbook', 'brasilstore', 'macbookaracaju', 'sergipe', 'fabiana', 'emitidos', 'definidos', 'lusitanas', 'fairfax', 'navegando', 'afinado', 'recomendar', 'verdadeiramente', 'veridico', 'wpp', 'funcionaria', 'ajudaria', 'ouvirem', 'abordam', 'recuperaempresagaldino', 'controlefinanceiro', 'machiaveli', 'genesis', 'espiritual', 'desanima', 'limpo', 'acusticas', 'foro', 'fran', 'parente', 'ducci', 'flutuante', 'especialidade', 'cifras', 'marquei', 'adora', 'competitivo', 'administrativa', 'consumir', 'btgpactuals', 'looking', 'english', 'atualiza', 'bbpo', 'protagonista', 'materialidade', 'desperdicio', 'elemento', 'forros', 'metalicos', 'procuramos', 'transmitir', 'acustica', 'ei', 'adotou', 'juntando', 'bittencourt', 'assessorar', 'contabeis', 'invadam', 'nenseeeeeee', 'fluuuuuuu', 'vamosssss', 'nenseeeee', 'fluuuuuu', 'dede', 'nenseee', 'emergent', 'cold', 'refrigerada', 'cristina', 'contrata', 'neymar', 'treinando', 'escritoriodeinvestimentos', 'focadas', 'destravar', 'possuitextoalternativo', 'impactosocial', 'transformacaosocial', 'vizinhos', 'atravessa', 'nois', 'blackrock', 'economistasincero', 'moneytime', 'primos', 'lascar', 'estabelecimento', 'olhe', 'adiantado', 'aditivo', 'quebrou', 'credencial', 'cracha', 'solicite', 'mudam', 'acelerada', 'bienal', 'forexlifestyle', 'forextrading', 'orcatea', 'orcateacontabilidade', 'herdeiros', 'polos', 'liberando', 'saiam', 'mortari', 'associacaoacorde', 'porumbrasilmaisdoador', 'culturadedoacao', 'querodoar', 'uxp', 'avila', 'educacaocontinuada', 'alltogether', 'sisimoveis', 'experts', 'constar', 'retirou', 'saidas', 'intensivos', 'multidisciplinar', 'sinimplantsystem', 'mazainvest', 'formalmente', 'conozca', 'adoramos', 'atendidos', 'estudante', 'bovina', 'busquei', 'reset', 'cadastrado', 'exigente', 'trilhar', 'izabellaesper', 'jjsportoficial', 'regulatorias', 'participam', 'villard', 'duran', 'kinitrocapital', 'risada', 'guru', 'boca', 'abqmoficial', 'element', 'hk', 'utilizamos', 'eventogude', 'avaliadas', 'divisao', 'alinhamos', 'emrsonlima', 'sauter', 'mercadoinfoco', 'convexa', 'telos', 'cloud', 'demorou', 'estando', 'mensalidades', 'identifico', 'xrp', 'variam', 'arbitragem', 'tahan', 'yes', 'raleduc', 'goraleduc', 'tribos', 'bancodeinvestimentos', 'usufruir', 'trabalharem', 'wbtg', 'euromoneys', 'selecionada', 'integralgroup', 'contraria', 'bidetti', 'respeita', 'absurda', 'dis', 'protegendo', 'maximizando', 'plenamente', 'governance', 'receberemos', 'serra', 'faturando', 'conceder', 'milagre', 'achando', 'cartinha', 'piero', 'ferraz', 'sustainable', 'trechos', 'pararem', 'cila', 'schulman', 'liminares', 'registrados', 'faziam', 'treinou', 'compactua', 'andas', 'direi', 'menino', 'dal', 'alternativo', 'viral', 'agrolink', 'pronunciar', 'urso', 'bearish', 'swing', 'farinha', 'artistica', 'calls', 'segware', 'maiscode', 'ibm', 'identificou', 'disponibilizam', 'posgraduacao', 'precisavamos', 'andreesteves', 'doc', 'his', 'silencio', 'cagada', 'eujogofutevolei', 'idoso', 'solicitou', 'representados', 'leandrokarnal', 'escolinhas', 'formandocampeoes', 'navida', 'noesporte', 'joaopaulodinizoficial', 'anaoliva', 'ricardocons', 'anaelseoliveira', 'ricardozonta', 'giselanassis', 'electroluxbr', 'japibr', 'grupouninter', 'ablbrasil', 'dhlbrasil', 'ciandt', 'stoller', 'materaoficial', 'grupoedsonqueiroz', 'institutoacocearense', 'vestas', 'incentivme', 'biagurgelconsultoria', 'anjotintas', 'martinelliadvogados', 'fetriece', 'fetrisc', 'apanisemeitu', 'triathlonparana', 'triathlonbrasil', 'luiziranguimaraes', 'escolinha', 'escot', 'brasalrefrigerantes', 'brasalveiculos', 'grupodass', 'meninaolimpica', 'redecondor', 'belcarvolkswagen', 'belcarcaminhoes', 'belcarfiat', 'onboardsports', 'fsaretta', 'adhemar', 'inovadores', 'debatendo', 'farialimers', 'marcelle', 'comecarem', 'oabmgoficial', 'rogeriochequer', 'pcorj', 'psolcarioca', 'bolivariano', 'psolmg', 'negociosglobo', 'pracegover', 'ilustracao', 'manterse', 'supere', 'deem', 'precatorios', 'permissao', 'assistencialista', 'precise', 'pisicanalise', 'opus', 'infinito', 'quebrar', 'falante', 'leio', 'reaberto', 'brinquedos', 'louvavel', 'batem', 'estimacao', 'atrativa', 'caixar', 'enviaram', 'alegacao', 'desembargadora', 'descumprimento', 'aceitaram', 'mercadolivre', 'vendasonline', 'bhfyp', 'hotmart', 'empreendedorismodigital', 'digitalmarketing', 'httpsamginvestimentosmacrodaylive', 'ignoradas', 'confiante', 'soltando', 'renuncia', 'prospeccao', 'locado', 'causadas', 'nulidade', 'prestou', 'flaviohenriqueagro', 'valer', 'alcanca', 'montanha', 'atrasados', 'agroetudo', 'argenton', 'braunainvestimentos', 'carolinamfazevedo', 'gerada', 'issoo', 'tocantins', 'giovannasanchetta', 'noticiasfiis', 'rztr', 'vinlandcapital', 'vagabundos', 'ironia', 'fakes', 'horrores', 'americas', 'destaco', 'apontou', 'pmradvocacia', 'editora', 'considero', 'parlamentar', 'cogna', 'disponibiliza', 'tentasse', 'commodity', 'economicapolitica', 'oh', 'ces', 'trabalharam', 'atingissemos', 'marcosdoval', 'cnnoticias', 'de', 'economicopolitica', 'ministrada', 'faegjovemmineiros', 'sucessaofamiliar', 'elizeuagro', 'gabyagro', 'maquina', 'avancado', 'lideram', 'leem', 'assine', 'newsletter', 'determinante', 'destinar', 'plantare', 'ofegante', 'atuem', 'receberao', 'roubalheira', 'mundialmente', 'honestidade', 'cadê', 'danielbonaldi', 'completamos', 'debatidos', 'garanto', 'respondo', 'causou', 'idiotas', 'carai', 'ciclofaixas', 'encheu', 'duvido', 'besteira', 'giant', 'steps', 'medalhistas', 'aprendiz', 'baixando', 'acillondrina', 'assusta', 'morrer', 'pendurado', 'apaga', 'citou', 'possibilitam', 'sap', 'decidem', 'pharos', 'palk', 'deletado', 'apagando', 'excluir', 'misterio', 'escutados', 'tocados', 'alimentados', 'emocionei', 'acrechegou', 'caminhamos', 'sulamericana', 'imc', 'certificadoras', 'vasto', 'dprintacademy', 'organizadora', 'corda', 'pagode', 'foconoobjetivo', 'preferido', 'cuba', 'caderneta', 'lava', 'responsabilizados', 'rapaz', 'bpolibio', 'esperancar', 'fisioterapia', 'eae', 'farmaceutica', 'farmaceutico', 'farmacia', 'proporcao', 'estaveis', 'blocknews', 'deputado', 'vakinha', 'fundei', 'vivencia', 'empolgados', 'tokenizadas', 'germanodasilvaesilva', 'divulgando', 'qdo', 'comerciante', 'testou', 'abl', 'tavares', 'tradicao', 'consolidado', 'convide', 'arrendatarios', 'aluga', 'relativamente', 'arrendatario', 'repostandroid', 'repostw', 'defensor', 'belisamaggi', 'maximizar', 'bussines', 'sinceras', 'discrimina', 'globalmente', 'inclusaosocial', 'eis', 'acontecerao', 'transmissoes', 'comparar', 'interessa', 'venceu', 'salariais', 'provar', 'indicaram', 'achievement', 'importantissimo', 'redetv', 'duena', 'lanzado', 'compania', 'ademas', 'sudamericano', 'disponible', 'ella', 'intercambiar', 'logrado', 'neoyorquina', 'opinas', 'dejanos', 'mundocriptomonedas', 'newyork', 'economiamundial', 'antgroup', 'listanegra', 'vocacao', 'cela', 'inscreveram', 'virem', 'senar', 'girar', 'usem', 'melhorando', 'procurado', 'daniella', 'montezano', 'snff', 'garantido', 'dowhatyoulove', 'sobra', 'acre', 'institucion', 'educativa', 'monicabamacedo', 'xo', 'convidando', 'deveriamos', 'conectando', 'safados', 'barco', 'corridas', 'bajaportoalegre', 'rali', 'encomendada', 'paulalima', 'suingue', 'bronzebradesco', 'emsfarmaceuticaibiunainvestimentos', 'apoiobancodaycoval', 'revogacao', 'finalizada', 'cartaodecredito', 'folhauniversal', 'bpmoney', 'gilbertokassab', 'gilbertogil', 'distorcida', 'fast', 'rentabilizaram', 'remunerem', 'agi', 'cpfcnpj', 'httpswwwfgcorgbrgarantiafgcperguntaserespostas', 'cortou', 'anexo', 'galleria', 'vivera', 'descontracao', 'recrutadores', 'ufrj', 'definidas', 'regulacoes', 'alinharem', 'publicam', 'argumentou', 'citibank', 'vempraocto', 'ageis', 'urushibata', 'twilio', 'lojasrenner', 'dell', 'intel', 'iteris', 'zenvia', 'vp', 'desenvolveram', 'webdevelopment', 'grau', 'fornecem', 'almendra', 'inaugura', 'apoiem', 'beijos', 'leveza', 'caricaturas', 'impactadas', 'estandes', 'sensacionais', 'lote', 'atrasou', 'secret', 'ag', 'simple', 'invitamos', 'pablospyer', 'deltaflowinvest', 'deltaflowsports', 'pedroso', 'ogustavopedroso', 'vinculos', 'marcioviana', 'mercadotecnologico', 'mercadodascoes', 'motivacoes', 'andando', 'vencidos', 'fibonacci', 'serrilhada', 'wallstreet', 'tokiomarineseguradora', 'corridaderua', 'alimenta', 'escritural', 'pendentes', 'escrituradora', 'microcreditos', 'segundasfeiras', 'caiomcamargo', 'conhecidissimo', 'copaap', 'tiagocarreira', 'quartasfeiras', 'comites', 'gutoczordan', 'toca', 'tercasfeiras', 'copai', 'dermendjian', 'wanessadermendjian', 'anacarolinaduartesilva', 'bygabicosta', 'quintasfeiras', 'cocape', 'ibradimec', 'protagonistasdobrasil', 'eng', 'xin', 'ji', 'resiliente', 'planejando', 'geo', 'aranha', 'confusao', 'guga', 'csaleblon', 'previdenciarios', 'impactante', 'tornam', 'box', 'conectado', 'costinha', 'dt', 'demonstrou', 'disputar', 'visitei', 'cativar', 'perfinasset', 'possibilitou', 'ayoofuture', 'ivan', 'soluciona', 'trilhas', 'sescguarulhos', 'trilhasdecinema', 'starwars', 'apurada', 'administrada', 'voltaremos', 'analisado', 'luryslima', 'bilheterias', 'inventario', 'erudita', 'wouldnt', 'covarde', 'agendamos', 'pfv', 'resolverem', 'auge', 'performers', 'pu', 'partiro', 'che', 'vivro', 'namoral', 'silo', 'guabioficial', 'noticiasdfii', 'avenue', 'derrepente', 'brasatalks', 'rafaella', 'orituaali', 'lossio', 'indigena', 'hipocrisia', 'enevabrasil', 'medos', 'charge', 'things', 'mavaient', 'aproximados', 'cnpjs', 'entendido', 'perceba', 'nervoso', 'heuristica', 'vianmacel', 'cujas', 'vendidos', 'sonhador', 'gigantescas', 'daytraderbr', 'easyinvest', 'mediocre', 'vazias', 'escolho', 'iniciante', 'induzir', 'ciente', 'menthorcomvc', 'judobrasil', 'mpb', 'entendendo', 'goesmarcel', 'danbordalo', 'toscana', 'premiadas', 'iconic', 'finpec', 'valia', 'digno', 'ramalho', 'antunes', 'samuel', 'intensificar', 'protecionista', 'drivers', 'prevemos', 'verificados', 'nearshoring', 'reshoring', 'referem', 'aproximacao', 'internalizacao', 'ganhado', 'beneficiaram', 'ocidente', 'propomos', 'cauda', 'oportuno', 'recompensador', 'parana', 'bobeira', 'meninos', 'ufpe', 'study', 'deborah', 'tigre', 'desenvolve', 'municipios', 'fecap', 'holderaai', 'diane', 'zhu', 'pardos', 'mannis', 'conquistala', 'eteias', 'brucuropos', 'tothcapitalaai', 'janainatrajanoaai', 'apolloinvestimentos', 'prorrogada', 'retificacao', 'vibra', 'vbbr', 'wege', 'beef', 'entendera', 'abusiva', 'coleciono', 'canalterraviva', 'agromaistv', 'mag', 'wta', 'pocos', 'estatal', 'respeitar', 'espetaculares', 'mobiliar', 'indicarei', 'migrou', 'httpslnkdindai', 'csum', 'baixam', 'hipico', 'abaixaram', 'linea', 'governing', 'council', 'sugerindo', 'sinalizar', 'unanime', 'afetada', 'climatico', 'ditando', 'noticiario', 'pesar', 'mistos', 'impasses', 'pesaram', 'postas', 'vies', 'retomado', 'bresserpereira', 'check', 'sicoob', 'umberto', 'comemora', 'adv', 'dedo', 'vozesdasperiferias', 'brilhantismo', 'chloe', 'tanzilli', 'teillere', 'absoluteinvestimentos', 'preferidos', 'gestaoderecursos', 'arxinvestimentos', 'edulyragf', 'gouveia', 'museu', 'chefdiserio', 'meligeni', 'aware', 'god', 'mukinha', 'paratleta', 'voa', 'framerunning', 'eventoparamulheres', 'percursos', 'exceo', 'schultz', 'cabrera', 'lomba', 'jca', 'basbaum', 'analice', 'julyana', 'criminal', 'megamodeldiversity', 'megatalents', 'lucacastanho', 'those', 'mall', 'paraiso', 'precisou', 'coesa', 'bravamente', 'plantei', 'dediquei', 'soberba', 'citei', 'jp', 'luque', 'confiou', 'fichas', 'aproveitem', 'rouba', 'institutoab', 'pontuar', 'segundos', 'veloe', 'estabilidadefinanceira', 'particulares', 'clubepaissandu', 'sucedidos', 'tratam', 'superquarta', 'dxy', 'sampaio', 'dedicam', 'beefbar', 'rate', 'manteu', 'falso', 'usd', 'mudo', 'academias', 'rompimento', 'barreira', 'costumo', 'operations', 'deliciosa', 'camis', 'individuo', 'santinha', 'estevesandresantos', 'havaianas', 'triplicar', 'razoavelmente', 'specialsituations', 'riograndedonorte', 'potente', 'iranian', 'any', 'iran', 'encerraram', 'espacoancord', 'ninja', 'esquerdistas', 'privilege', 'alone', 'ungrateful', 'breakthrough', 'well', 'recommendations', 'too', 'favorecido', 'retornou', 'agindo', 'verificaram', 'reembolsaram', 'sujeira', 'lesadas', 'postos', 'mitsubishimotors', 'brancos', 'brnewstvbrasil', 'olhei', 'pernambucano', 'desenvolvem', 'eficaz', 'tripe', 'lidera', 'resenhabb', 'jjonas', 'crisb', 'saocaetanodosul', 'futevoleisp', 'icatuvanguarda', 'quantum', 'wwwagroforumlive', 'preocupada', 'altista', 'kaiqueeditor', 'lucaszafraa', 'retirada', 'alcancadas', 'lirio', 'trocador', 'aggroinvest', 'preparatorios', 'envolveram', 'severas', 'pilotado', 'regulagem', 'dirigibilidade', 'spineliracing', 'cuidamos', 'protegemos', 'agrobusiness', 'riquissima', 'dahliacapital', 'grandioso', 'pray', 'recognition', 'efforts', 'dear', 'souls', 'yours', 'respect', 'blessings', 'penna', 'jalles', 'agrogalaxy', 'marino', 'colpo', 'boasafrasementes', 'farias', 'mussa', 'gilberto', 'tomazoni', 'beny', 'fiterman', 'agropalma', 'guillaumon', 'ivo', 'insulto', 'prestam', 'cancelam', 'enganacao', 'pontes', 'reviziaapp', 'sabrina', 'utr', 'egbertocaldastennis', 'egbertocaldas', 'envergonhado', 'tendenciosas', 'falir', 'led', 'simultanea', 'paineldeled', 'timecode', 'mapping', 'netoeventos', 'janela', 'ipos', 'cantor', 'musicais', 'lotes', 'novorecife', 'humanas', 'stefan', 'baro', 'nicholas', 'sacchi', 'reimaginar', 'cisos', 'description', 'cleber', 'ianno', 'aec', 'godoi', 'riachuelo', 'httpslnkdinggtqeznq', 'securityleaders', 'sl', 'eventoempresarial', 'eventogratuito', 'tvdecision', 'segurancaprivada', 'segurancacibernetica', 'baixaram', 'vamooooo', 'coordenou', 'transacional', 'projetoariranhas', 'econois', 'btir', 'convicto', 'demonstrando', 'salvadorba', 'contemporaneo', 'servidores', 'mpt', 'httpswwwsymplacombrxxxicomat', 'direitostrabalhistas', 'justicadotrabalho', 'gv', 'mostramos', 'malditos', 'adversolab', 'favelaradical', 'radical', 'experimentacao', 'spiralem', 'cassio', 'portella', 'gerenteexecutivo', 'cubo', 'triacao', 'inserido', 'access', 'advisory', 'salto', 'boleirar', 'dlabprint', 'dgeekshow', 'printandplay', 'cereja', 'ruina', 'unimed', 'empregadas', 'adapte', 'alok', 'institutobacuri', 'conhecerem', 'empreendendo', 'aumentada', 'elieloliveira', 'fx', 'arriscada', 'radarinvestimentossjrp', 'stjamesbarbershop', 'filiada', 'ricardopradodecarvalho', 'otaviocan', 'libra', 'iscillalingeries', 'chefdanipimenta', 'rosanamaria', 'trancas', 'belamordidabuffet', 'vagaodogefritas', 'docinhosdapreta', 'riosdemim', 'sorprizaoficial', 'amorabrechoo', 'daraiz', 'ao', 'briigadoces', 'agenciatribos', 'mood', 'elielson', 'kevin', 'cox', 'meira', 'bolsonaropaulo', 'press', 'uneoficial', 'ubesoficial', 'paulopaimsenador', 'giania', 'beiler', 'damiani', 'conhecam', 'controlador', 'saira', 'grama', 'carbon', 'mblivremg', 'sigagazetabrasil', 'regeneration', 'initiative', 'reverter', 'colegioecursosei', 'somou', 'paolacarosella', 'acelerado', 'radicular', 'pericias', 'dominvestimentoscombrkenzotrader', 'crescermos', 'tk', 'gastou', 'soft', 'verao', 'arrepende', 'amargamente', 'sedep', 'adriell', 'penteado', 'vito', 'abvcap', 'piovesan', 'santoro', 'hexa', 'tacadas', 'greenpeople', 'voluntariadocorporativo', 'erradicacao', 'trabalhose', 'edilton', 'monique', 'matos', 'convencionalidade', 'trtpe', 'enfrentamento', 'mptdfestou', 'forcado', 'procurador', 'tenorio', 'fecomercio', 'vicosa', 'viveu', 'dedicou', 'houses', 'aposta', 'chxoficial', 'aposentada', 'geruzia', 'amorim', 'desa', 'tesoureira', 'mutacao', 'oabpara', 'sindicos', 'sindicas', 'moradoras', 'viamidiapublicidade', 'polo', 'beze', 'feiradesantana', 'marketshare', 'redeglobotv', 'cabrini', 'negonadobolsonaro', 'primordial', 'george', 'loez', 'namaste', 'doar', 'eliminacao', 'vicepresidente', 'debatedor', 'dorea', 'carreiro', 'adequacao', 'pluralidade', 'religiao', 'atrapalha', 'afim', 'enoque', 'regulacao', 'lawrence', 'estivalet', 'lorena', 'condominial', 'setorial', 'bias', 'apostando', 'manhas', 'medleyfarmaceutica', 'eduardopaes', 'raullsantiago', 'pit', 'topei', 'estacoesnasfestas', 'manajemenstrategi', 'tradinglines', 'chainlink', 'polygon', 'matic', 'stablecoin', 'circle', 'usdc', 'ladraolula', 'apoioabolsonaro', 'fecomercioba', 'escalar', 'carolvitalemkt', 'pracima', 'expande', 'suado', 'alexandregarciabr', 'uniaobrasilpe', 'agregadas', 'ginastico', 'desportivo', 'preparacao', 'banquete', 'vidadeantiquario', 'vidadeantiquarioad', 'caminhoporumarua', 'legrandtourdearnaldodanemberg', 'banquetedamemoriaad', 'monedas', 'munir', 'economy', 'oabrio', 'globobrasilia', 'roxmo', 'monarkoficial', 'motivar', 'vempralibra', 'pensado', 'brunch', 'deliciosas', 'francesa', 'bouef', 'bourguignon', 'gratin', 'pene', 'au', 'formage', 'balas', 'folhadas', 'goiabada', 'calda', 'bebida', 'alcoolica', 'incluida', 'cerveja', 'drinks', 'forever', 'busqueconhecimento', 'investirliberta', 'utilizando', 'bolsomoto', 'eumalvinosalvador', 'quebrandootabu', 'guilhermeebenuto', 'zoebmartinez', 'luana', 'parceiria', 'jornallnacional', 'receosos', 'leves', 'estruturalmente', 'kiki', 'diariororaimense', 'sabrinaparlaoficial', 'macchione', 'clients', 'valiosas', 'cultivala', 'transparecer', 'rodeado', 'cultive', 'escute', 'construa', 'produtoservico', 'richarlison', 'journal', 'chegaram', 'farsa', 'arautossemsegredos', 'guilhermepiai', 'ahickmann', 'igorpavantres', 'interferir', 'decoracao', 'exijam', 'aficcionado', 'readaptacao', 'nitidamente', 'progredindo', 'prologo', 'umido', 'seco', 'molhada', 'travessias', 'pocas', 'estradas', 'demaisagua', 'exigindo', 'abreviacao', 'sediada', 'fusao', 'denominar', 'votam', 'gopu', 'renatamacchione', 'hello', 'mkd', 'celebrate', 'seminar', 'places', 'own', 'changed', 'november', 'waste', 'name', 'below', 'rafaeli', 'fertilidade', 'try', 'instragramavel', 'vidasemfiltro', 'carregaaa', 'fabiowajngarten', 'leosakamoto', 'bajattacp', 'nordwealth', 'comandar', 'fiber', 'lendario', 'esgrimista', 'aviador', 'enviamos', 'omitir', 'constranger', 'negligencia', 'gzleite', 'zrteamsintra', 'realdigital', 'polvolab', 'ictssecurity', 'escolademarketingindustrial', 'brucedickinson', 'jacarandainvestimentos', 'particularidades', 'crueis', 'piramides', 'custar', 'danosas', 'alcancalas', 'sustente', 'masi', 'aventurar', 'drasticamente', 'estruturas', 'dejesusoficial', 'wilsonlimaam', 'rivkahmusic', 'rivkahpodcast', 'tri', 'conacredi', 'torcer', 'biahaddadmaia', 'maravilhosos', 'belmondcopacabanapalace', 'hem', 'simbolismo', 'quebvcs', 'negociamos', 'aprisionado', 'dorf', 'platform', 'flavinhacviana', 'httpsclaudiaabrilcombrcolunaflaviavianadancahadezanosoballetdoparaisopolistransformavidas', 'still', 'article', 'capitalace', 'confraternizacao', 'poseleicao', 'semarc', 'regulatorio', 'indisponivel', 'horarios', 'cbnbhoficial', 'imortal', 'wibx', 'torcedor', 'ineditas', 'representem', 'possibilitem', 'biografia', 'zenetoecristiano', 'leal', 'jucaveiro', 'vendever', 'walaslopes', 'nb', 'albertovendasoficial', 'bandas', 'desbloqueado', 'embaixadaeua', 'alemanhanobrasil', 'embaixadachina', 'zedecrypto', 'repercussao', 'ftx', 'ministerios', 'liderencas', 'monitoramento', 'sofreram', 'supermercadoscomper', 'ipt', 'futuramente', 'mazettojuliana', 'centavo', 'traderforex', 'gnpoliusp', 'infinanceinsper', 'colaboradoras', 'xi', 'jinping', 'preencher', 'amadores', 'exploradores', 'globalistas', 'venenos', 'potus', 'eduardogiraooficial', 'comodidade', 'dizeres', 'veraodaspoderosas', 'prainha', 'blasonotica', 'avvistare', 'oftalmozonasul', 'squashtenniscenter', 'noivo', 'semestral', 'basilieventos', 'venus', 'olavo', 'pattydiazbt', 'income', 'tax', 'several', 'decision', 'account', 'homeoffice', 'ended', 'acceleration', 'course', 'take', 'records', 'desonesto', 'hs', 'isacteepbr', 'premierpet', 'ellus', 'grandcruvinhos', 'aptkspirits', 'chivasbrasil', 'pernodricardbrasil', 'ositiosaojose', 'royalenfieldbr', 'landroverbr', 'oncafarianos', 'quedo', 'describir', 'emociones', 'vividas', 'torneo', 'competi', 'primera', 'despues', 'algunos', 'sigue', 'especiales', 'soy', 'carino', 'imposible', 'sentirme', 'esa', 'organizadores', 'respetos', 'rivales', 'duda', 'exigen', 'batalla', 'nicolenobilebt', 'soficimattibt', 'ninny', 'valentini', 'giulia', 'gasparri', 'companera', 'batallas', 'rafamiiller', 'dios', 'bendiciendo', 'arriviamo', 'jansenstudio', 'utilize', 'payment', 'suzano', 'equatorial', 'irresponsabilidade', 'cancelo', 'desempate', 'cornet', 'etonian', 'coube', 'dalouna', 'elysees', 'waza', 'limongi', 'chen', 'galerias', 'livrarias', 'bistrot', 'feiradearte', 'artebrasileira', 'indoor', 'otempo', 'luzinha', 'pontuada', 'acesa', 'ufmsoficial', 'architecture', 'lightroom', 'housel', 'coincidencia', 'inve', 'impactada', 'negativamente', 'empreendo', 'exigiu', 'enxergamos', 'gabarito', 'torcem', 'abordamos', 'table', 'significando', 'cofundar', 'desafix', 'ciser', 'greensampa', 'kaleydoscombr', 'impactoambiental', 'empreendedorismoperiferico', 'afroempreendedorismo', 'kaleydosoficial', 'componentes', 'geopoliticas', 'tensoes', 'buscarao', 'flight', 'quality', 'desenrolar', 'impostas', 'otan', 'estimulos', 'ilustra', 'sisnando', 'colacar', 'reorganizar', 'trabalharei', 'macroeconomicasagronegocios', 'jccapital', 'agropecuariabrasil', 'agropecuaria', 'eita', 'grossas', 'oficinadotrader', 'dolarsemsetup', 'oficinadofraja', 'somebody', 'dessert', 'blueberrytart', 'blueberryrecipes', 'catupiryblueberrytart', 'creamcheesetart', 'onlinecookingclass', 'latincookingclass', 'brand', 'investigamos', 'encontrarem', 'desenharmos', 'percebe', 'albert', 'marcelodonatelli', 'comunicacaovisual', 'rentabilizou', 'considerarmos', 'rma', 'fiisdepapel', 'fundosdefundos', 'milhaoemfiis', 'financaspessoas', 'pitmoney', 'instagrambrasil', 'agradecermos', 'mercadodeinvestimentos', 'rendadixa', 'saojosedoriopreto', 'riopretosp', 'dreamers', 'vivifinancas', 'bovegas', 'avezum', 'intelectual', 'eletronicos', 'lobao', 'boasvindas', 'sarou', 'ressaca', 'expertsmas', 'portale', 'errrrou', 'hahahahahhaha', 'apartir', 'retifiquem', 'mfs', 'evita', 'concluo', 'afirmando', 'gerencia', 'ellon', 'civis', 'elogiam', 'isolamento', 'estimar', 'ofensiva', 'russa', 'tsla', 'criticam', 'criticando', 'barba', 'considerei', 'gerenciado', 'boto', 'inestimavel', 'costumeira', 'premiam', 'ceconference', 'pme', 'ladmircarvalho', 'rogeriostallone', 'apoiepietrofittipaldi', 'gordinho', 'cpel', 'cmig', 'proveitos', 'rendafii', 'jcp', 'fiasco', 'parecendo', 'gentejpeg', 'boavista', 'roraima', 'boicote', 'cenarioeconomico', 'cenariomacro', 'intermediando', 'conduziu', 'fundadoras', 'movase', 'convive', 'todossaoimportantes', 'somosafscapital', 'melindafrenchgates', 'acrescentando', 'qualificadas', 'duradouro', 'despirmos', 'disfarces', 'suspeitado', 'enxergalos', 'posicionarao', 'escondem', 'ocupam', 'atravessarem', 'acrescentarem', 'girlpower', 'mulheresnopoder', 'certificate', 'promoter', 'depositadas', 'satisfacaodocliente', 'defesaataque', 'guiazevedos', 'comporta', 'carnes', 'celulose', 'metalurgia', 'fazespecialista', 'discursao', 'vladimir', 'alemaes', 'viam', 'polonia', 'mediada', 'mazzola', 'nokia', 'ailton', 'ciberseguranca', 'huawei', 'griselli', 'royal', 'paete', 'atemporal', 'lethiciabronstein', 'delicadas', 'adrianahelaldesign', 'israelescobar', 'mincomunicacoes', 'perfeccionismo', 'felices', 'hermoso', 'espacios', 'incluyendo', 'residencias', 'museos', 'independientes', 'fundaciones', 'fticoulat', 'jotapox', 'juliademeter', 'artconsultingtool', 'gabrielpiresdecamargocurti', 'enviarnos', 'inmensa', 'impecable', 'trilingue', 'castellano', 'cloroquina', 'rachadinha', 'carnavais', 'conviver', 'mutua', 'multidisciplinaridade', 'investinrealestate', 'danielcaldeira', 'juuuurrrraaaaa', 'mentecaptos', 'morrem', 'cvardes', 'ideais', 'bizarro', 'sobrevivendo', 'bozonaro', 'destilando', 'improperios', 'cerbasi', 'pareceu', 'rasgacao', 'ceda', 'mauro', 'portoalegrense', 'complica', 'perguntaram', 'adolescencia', 'prestei', 'faltavam', 'corri', 'esquecemos', 'frasesmotivacionais', 'phrases', 'escolhabtg', 'surpreendi', 'veicular', 'biden', 'viverdetrader', 'kiev', 'continuando', 'economatica', 'oramaai', 'httpswwwcnnbrasilcombrbusinessvejafundosimobiliariosrecomendadosporespecialistasparainvestiremmarco', 'statusinvest', 'fiisanalises', 'buyandholdbrasil', 'dispensam', 'redefinir', 'biometriareconhecimento', 'aloooooo', 'pietro', 'boraaaaaaa', 'cc', 'remunerada', 'repercutira', 'rafinha', 'trabalheira', 'vando', 'pleasure', 'finally', 'interact', 'craigwortmann', 'definitely', 'showed', 'passion', 'craig', 'deliberada', 'dora', 'implementem', 'aeeeee', 'estacioram', 'impactarao', 'demaisss', 'forabolsonarogenocida', 'enaltece', 'criavamos', 'sintetizar', 'ator', 'piadista', 'governa', 'estacionaram', 'pesrpective', 'guardado', 'mediei', 'presidenciavel', 'ficouu', 'foddaa', 'perseguimos', 'declara', 'reiteramos', 'estabelecida', 'btgsummit', 'melhorescritoriobtg', 'httpslbtgpactualcomkdqxvp', 'reencontros', 'raros', 'rara', 'nomede', 'distorcoes', 'microcosmo', 'ascende', 'hierarquia', 'agravou', 'meritocratico', 'oportunizando', 'batalhado', 'guardados', 'kiperman', 'granjeiro', 'takeaway', 'edtech', 'gravada', 'toppp', 'aprovaram', 'deficits', 'norteamericanos', 'caldeirao', 'puras', 'retalhadas', 'aulavenda', 'prefere', 'governodobrasil', 'zelker', 'percy', 'wilman', 'preparase', 'norteia', 'aceitas', 'desempenha', 'dividilo', 'apoiamos', 'agrosocial', 'clearsale', 'sinqia', 'kinder', 'tinto', 'freeportmcmoran', 'wells', 'fargo', 'priceline', 'saque', 'performancecomproposito', 'preservacaoambiental', 'felicitamos', 'indicate', 'then', 'fallen', 'started', 'unstable', 'companies', 'countries', 'drfelipemagno', 'riograus', 'escolinhagugaaabbleblon', 'cirurgiaplastica', 'transitoria', 'encanto', 'asmulheresvaodominaromundo', 'mulheresfortes', 'diadasmulheres', 'luizahelenatrajano', 'lazard', 'luizpeccioli', 'guiarem', 'didatica', 'desbloqueia', 'mendelssohnbartholdy', 'revolucionaram', 'colorido', 'pianistico', 'abrilhantar', 'solista', 'prestigiadas', 'personalbanker', 'restritos', 'priveligiada', 'hope', 'mother', 'power', 'womens', 'incredible', 'picturethisct', 'happywomensday', 'womenempowerment', 'bugado', 'oprah', 'winfrey', 'injusta', 'lastimavel', 'descontando', 'neologica', 'processa', 'requisitada', 'agendada', 'agendei', 'executei', 'invesimentos', 'autenticacao', 'agendando', 'natalrn', 'ipatinga', 'riobranco', 'enquadra', 'desiste', 'adequar', 'percebera', 'verifica', 'embasaram', 'reduzira', 'oqueteimpulsiona', 'oqueteinspira', 'oquetefazseguir', 'oquetefazser', 'andersonvarejao', 'giovannoni', 'partilharem', 'despertar', 'mover', 'lesoes', 'draolindaavila', 'nefro', 'oquetemove', 'circulado', 'periodico', 'acontecimento', 'visionarios', 'httpslnkdinduscjmn', 'httpslnkdindpngjuu', 'httpslnkdindjnjwpp', 'httpslnkdindapvv', 'azimutbrasi', 'vizualizacar', 'porcentagem', 'argumentogestaodeinvestimentos', 'gases', 'muni', 'munibuenosaires', 'metropolitana', 'guadalajara', 'amaggibri', 'cemigenergia', 'relataram', 'imaginarios', 'mirodantas', 'pintura', 'iptiorg', 'genissoncardooso', 'euflormartiins', 'particularmentecurtimos', 'alcantara', 'muitomorgulhosonde', 'horroroso', 'espalhado', 'mexer', 'podiam', 'guerreiras', 'pegadinha', 'rainbow', 'extraction', 'presentao', 'codiguin', 'marceloclaudino', 'vinibicalho', 'existirao', 'mahatma', 'gandhi', 'movingforward', 'vela', 'doji', 'dojistar', 'candlesticks', 'dougtrader', 'formandotraders', 'analisegrafica', 'haramidealtabullishharami', 'teamurso', 'alegrias', 'tristezas', 'intensamente', 'absurdamente', 'christiansen', 'experienciamos', 'gowave', 'funcionalidades', 'proffito', 'ctz', 'obrigadoooooooo', 'hiii', 'ronda', 'aprendeu', 'reinventou', 'conheceu', 'reviravolta', 'esforca', 'reinvestir', 'encaixara', 'contruir', 'paulabonamigo', 'salazargean', 'cristianomendessantos', 'mfmeneghetti', 'franciscocsanchez', 'cesarpio', 'rotunnoguilherme', 'andreiafortes', 'clarissavcs', 'hugotk', 'robertoqueirozfotografia', 'joanita', 'weefor', 'racengenharia', 'hiexempreendimentos', 'ideeinc', 'nommoarquitetos', 'blocobase', 'urbideias', 'alicerceedu', 'junia', 'cedeu', 'vilajoanita', 'pretendemos', 'rafaelmvbraga', 'sergiosrj', 'brookfield', 'sportainmentrlabs', 'httpsbitlywdhvda', 'httpsdominvestimentoscombrkenzotrader', 'autografos', 'aquario', 'petesant', 'williamwelsch', 'locada', 'temporaria', 'consulado', 'acordados', 'cessionario', 'marciotome', 'biblico', 'daniiel', 'moraees', 'geisse', 'unhas', 'ciel', 'santoos', 'andrade', 'cubasemporcelanatos', 'lecoestetica', 'joveminvestidor', 'assembleiadedeus', 'dinheiroonline', 'bibliasagrada', 'jovemempreendedor', 'candeias', 'minasgerais', 'salmo', 'gospel', 'jesuscristoeosenhor', 'sdvsempre', 'rtblikes', 'rtbcomentarios', 'bach', 'digitalinnovationone', 'iglageneroso', 'representamos', 'sejatroca', 'esforcando', 'insatisfeitos', 'algoritimo', 'falhando', 'meleca', 'funcionasse', 'estag', 'precisarei', 'bugaram', 'programou', 'travamentos', 'indiquei', 'bancogeram', 'bourgeois', 'oli', 'assessoriafinanceiracg', 'presenteado', 'desaquecer', 'indesejada', 'abrupto', 'maleficios', 'destampa', 'inevitavel', 'intensidad', 'aumentodaselic', 'ricardoacmolina', 'propositodevida', 'netowork', 'sadio', 'batel', 'construtoralaguna', 'teichconstrutora', 'injusto', 'copomanunciou', 'acione', 'sigmainvestimentos', 'metido', 'fudcom', 'frustrado', 'alegres', 'respire', 'plantada', 'regada', 'colher', 'rrrkinvestcomvoce', 'emporiodeliciasesabores', 'investidoraolongodotempo', 'estudaveis', 'fundosinvestimentos', 'rendapassivaeresidual', 'investiment', 'investimentosfinanceiros', 'abbai', 'ramiro', 'diramiro', 'modestia', 'prudencia', 'contei', 'palma', 'administrando', 'tou', 'edgar', 'livemode', 'apresentara', 'vibrante', 'waengertner', 'compani', 'michelle', 'coutinho', 'christian', 'flemming', 'petrenko', 'lahtermaher', 'mundao', 'makethechange', 'borntobeglobal', 'gogogo', 'maya', 'mulherao', 'acrescido', 'indenizacoes', 'securitizacao', 'destravando', 'otimizacao', 'escopo', 'chegue', 'postagens', 'embaraca', 'clientesmas', 'acessei', 'debugger', 'programador', 'circunda', 'ampliase', 'terreo', 'jardins', 'floreiras', 'headquarters', 'surrounds', 'entire', 'length', 'plot', 'highlight', 'concern', 'whether', 'landscaping', 'finishing', 'glass', 'openings', 'privileged', 'common', 'example', 'bringing', 'elements', 'nature', 'feeling', 'wellbeing', 'employees', 'amplified', 'effect', 'biophilia', 'ground', 'greater', 'proximity', 'solution', 'fugindo', 'potencializando', 'havendo', 'fluido', 'podesse', 'existirem', 'mrd', 'gravados', 'encontradas', 'concedem', 'colega', 'mencionou', 'restabilizou', 'propicie', 'variante', 'loungkey', 'enderece', 'fruta', 'bomdiagraca', 'otimotente', 'courage', 'follow', 'heart', 'intuition', 'somehow', 'ultimamente', 'eternidade', 'thairo', 'temporadadeconcertos', 'mazars', 'fundamentomarketing', 'steinwaybrasil', 'capota', 'falasse', 'voltaria', 'subindo', 'allan', 'haddid', 'rui', 'avillez', 'chiado', 'joseavillez', 'ressentimento', 'babaquice', 'vide', 'orientado', 'cotovelo', 'iuricordeiro', 'marcosaravalle', 'vejario', 'catacumba', 'portao', 'guinle', 'pracas', 'hippie', 'publicoprivadas', 'provenientes', 'restauro', 'tombado', 'apropriem', 'preservalos', 'piza', 'intervencao', 'urbano', 'feirahippiedeipanema', 'pracageneralosorio', 'masterjacare', 'gigipaivabjj', 'alliancesp', 'bernardinho', 'mouratoglou', 'btgwealthmanagement', 'novais', 'celulares', 'hostilizado', 'comparada', 'rro', 'comunistas', 'chinesas', 'divergentes', 'opaaa', 'chorao', 'saqueou', 'destruiu', 'pesquisanao', 'consultada', 'maldita', 'envergonhar', 'estampar', 'pequia', 'militante', 'nichos', 'participadoquais', 'circulos', 'condizentes', 'bolsonaropresidenteate', 'irreal', 'comecem', 'queimando', 'eapoiador', 'cey', 'assalta', 'estupido', 'parlemos', 'bicho', 'recomendou', 'concedido', 'estudarei', 'questionando', 'publique', 'tipico', 'gadominion', 'terraplanista', 'considerem', 'orquestrou', 'acessava', 'minimamente', 'dimensoes', 'invenciveis', 'lleno', 'innovadores', 'interesantes', 'siguientes', 'interes', 'smu', 'comenzamos', 'espana', 'contribucion', 'logros', 'espacio', 'compartir', 'asociado', 'fundacio', 'barcelona', 'olimpica', 'httpswwwsportmanagersunitedcomeventoselvalordeldeporteenelsigloxxidesarrollosostenibleydeporte', 'futforumbrasil', 'profesionales', 'futbol', 'analizar', 'reflexionar', 'ideas', 'httpswwwsportmanagersunitedcomeventosfutforum', 'dond', 'debatira', 'gestion', 'entretenimiento', 'tiempo', 'derechos', 'audiovisuales', 'httpswwwsportmanagersunitedcomeventossportainmentlabs', 'olvides', 'registrate', 'manera', 'mentissem', 'alienado', 'exclui', 'cautelosa', 'cocacola', 'pegarmos', 'inferirmos', 'obvia', 'correspondera', 'tampouco', 'tendendo', 'mandados', 'removidos', 'sexo', 'pm', 'adversario', 'thomazlsantana', 'admontuori', 'situation', 'detalha', 'recuperacoes', 'favorita', 'distressedassets', 'densidade', 'aspas', 'ovacionado', 'monglona', 'odiados', 'discordancias', 'bemvindas', 'lastreadas', 'minions', 'fly', 'encomendadas', 'psicopata', 'bolsonarogenocida', 'anoes', 'morojuizladrao', 'cirogomesporralouca', 'eduardoleitementiroso', 'joaodorianuncamais', 'lulapresidente', 'repudia', 'tostoes', 'ganhados', 'surja', 'bizarra', 'dobrar', 'prefixadas', 'vazio', 'imobilizar', 'percebemos', 'governando', 'preocupa', 'paulorobertojr', 'listou', 'aaa', 'restando', 'reteve', 'assumidas', 'lcilca', 'elaborar', 'melhorescorretoras', 'corretorasdevalores', 'investimentosdesucesso', 'investimentoparainiciantes', 'pequenosinvestidores', 'consorcios', 'mapfrebr', 'omelhor', 'capacitar', 'agarrala', 'crucial', 'curiosa', 'esclarecedor', 'tokarski', 'sociodiretor', 'murillo', 'aragao', 'arko', 'fsbbtg', 'polarizacao', 'hahahahahahahahahaha', 'bluemacawgestora', 'voluntarias', 'explorado', 'gerentes', 'generalistas', 'obriga', 'fatia', 'dispomos', 'inaugurada', 'altarenda', 'bozobosta', 'procastine', 'amagocapital', 'recuerda', 'manana', 'jueves', 'latamfocus', 'pierdas', 'transmision', 'wwwbtgpactualcl', 'participacion', 'ministeriodehacienda', 'expertos', 'ignacio', 'briones', 'larrain', 'valdes', 'reestruturacao', 'interface', 'reestruturaram', 'beeeem', 'lidos', 'header', 'ops', 'piorou', 'ipva', 'problemashj', 'pedidecepcionada', 'decisivo', 'continuarem', 'corram', 'despencou', 'norteamericano', 'primarios', 'empurrar', 'resistiu', 'externas', 'decorre', 'estimulam', 'divisas', 'barril', 'brent', 'sonhou', 'charging', 'traducao', 'situada', 'bowling', 'manhattan', 'pesa', 'toneladas', 'comprimento', 'arturo', 'modica', 'guerrilha', 'turistica', 'dinheiroemfoco', 'filmadas', 'atlantico', 'videozinho', 'fodaaaaa', 'agenciabhub', 'betafalci', 'incomodam', 'aplicalos', 'httpslnkdindqesyrg', 'mediano', 'grupocsn', 'usiminasoficial', 'confusa', 'conoce', 'presentaran', 'buen', 'comportamiento', 'cuando', 'recuperacion', 'crecimiento', 'experienciaglobal', 'conocimientolocal', 'investo', 'crc', 'agenteautonomodeinvestimento', 'realizouse', 'baseadas', 'desporto', 'duarte', 'nandalob', 'richardlane', 'arthurlb', 'relevo', 'sportalliance', 'gameon', 'concorrer', 'california', 'descolar', 'internship', 'brasahacks', 'hurb', 'poatekofficial', 'berkeley', 'httpsgobrasaiohackathon', 'httphacksgobrasaorg', 'capricho', 'acaiformosavilaema', 'aguasprata', 'grandstadvolvo', 'gatorade', 'labasqueoficial', 'luciannekornarquiteta', 'uindistore', 'vefloratelie', 'jubiojone', 'vinialves', 'alineaboulafia', 'jeeziel', 'mining', 'bolsominions', 'charme', 'carisma', 'timeline', 'semiarido', 'producaaaaaun', 'superamos', 'obstaculos', 'dificulta', 'concordam', 'minimizando', 'equilibrar', 'desvalorizam', 'inversamente', 'minimizacao', 'abestad', 'organizados', 'estabelecimentos', 'tags', 'autorize', 'cyrela', 'concordaram', 'julianarosaoficial', 'bandeirantes', 'expos', 'agravados', 'assumirem', 'compete', 'eugenio', 'mattar', 'amchamcombr', 'amchamliga', 'amchamcombrliga', 'moeko', 'ferri', 'ruptura', 'paradigmas', 'sttefany', 'ingrid', 'repetitivos', 'frequencias', 'acompanhamos', 'tradicoes', 'tips', 'tennistips', 'tennisclinic', 'sprintcomercial', 'aceleracaoperformance', 'timedecapacitacao', 'investoetf', 'oscar', 'freire', 'linguisticas', 'territoriais', 'andreapavlo', 'brendalezie', 'cabley', 'colabore', 'guardaroupasocial', 'treading', 'tape', 'reading', 'raquete', 'conciliando', 'blogueiro', 'jogou', 'punhado', 'recuperou', 'restabelecendo', 'nutrientes', 'garimpo', 'clandestino', 'tiririca', 'jequitiba', 'desservico', 'gglobotv', 'ecossistemas', 'cientistas', 'gastaram', 'mentiroso', 'florestal', 'extintas', 'venderem', 'homologar', 'devidas', 'assessoriaprivate', 'atendimentoruim', 'pessimonegocio', 'semsolucao', 'edificante', 'petrorio', 'astercapital', 'contasse', 'realizo', 'incentivarem', 'oficialmarciogarcia', 'brunomartini', 'httpsprosascombreditais', 'estanaprosas', 'cohn', 'lancara', 'laspro', 'megaleiloes', 'siegenconsultoriafinanceira', 'hecker', 'httpsbitlyobsinsolvenciafasefalencias', 'allain', 'botton', 'laraangelis', 'ivybittar', 'cahstelzer', 'julianamds', 'million', 'seeds', 'mestres', 'vemserprofittoinvestimentos', 'postando', 'musculares', 'atrasara', 'lactato', 'acidose', 'metabolica', 'adaptados', 'cetose', 'queima', 'metabolicamente', 'retardar', 'acido', 'celula', 'anaerobico', 'primalendurance', 'beefperformance', 'dradrianoantunes', 'territoriodacarne', 'nutrileticiamoreira', 'httpspubmedncbinlmnihgov', 'drricardoschneider', 'jadesoller', 'colostropontocom', 'fornecendo', 'solicitado', 'maodeobraqualificaparaeventos', 'jim', 'collins', 'oficialpiracanjuba', 'naturaloneoficial', 'sucosmaguary', 'fuginialimentos', 'saborescepera', 'marilanalimentos', 'catupiryoficial', 'tirolezqueijos', 'tf', 'rockinrio', 'weachgroup', 'preventsenior', 'haraldchocolates', 'benassisp', 'searabrasil', 'crefisa', 'vemprafam', 'elginiluminacao', 'expocenternorte', 'saopauloexpo', 'rxglobal', 'salvadoranos', 'participavamos', 'contemplamos', 'cosanbrasil', 'tentos', 'eusouodouglasleal', 'boiada', 'ruralistas', 'veneno', 'isoladas', 'inimiga', 'taxados', 'finalizarem', 'biomasbrasileiros', 'preferenciais', 'vbirealestate', 'galpao', 'nepi', 'pucsp', 'analisaram', 'coletar', 'jurisdicional', 'appgluepcomeventobservatoriodainsolvenciafasefalencias', 'comissaojurimetriaoab', 'engenheirojuridico', 'datascientist', 'planner', 'guerino', 'furlanettim', 'novinvest', 'casiuch', 'chamma', 'lutfalla', 'tvm', 'emerson', 'lambrecht', 'azer', 'maluf', 'agentesautonomos', 'filieseaabaai', 'larguei', 'engolir', 'correria', 'restam', 'ouvida', 'respeitada', 'colaborou', 'agnt', 'esteva', 'sirva', 'httpslnkdindbssumdq', 'pecinha', 'autenticidade', 'faitoamao', 'pequenosnegociosdeluxo', 'continuem', 'verificarem', 'indevido', 'lgpd', 'reclama', 'ajudarme', 'clonaram', 'cancelaram', 'regularizar', 'estaca', 'informem', 'migro', 'uhulllllll', 'esqueceram', 'parabennnns', 'linegomes', 'catita', 'beachtennisgranjaviana', 'catitanareia', 'heya', 'agregador', 'tanks', 'restauracao', 'farsantes', 'bruscas', 'transformadoras', 'sentem', 'vicia', 'tendemos', 'sabota', 'desanimo', 'apego', 'efetivo', 'geraria', 'buzz', 'revelados', 'pesquisando', 'suguranca', 'desmatar', 'mineiro', 'hahahahaha', 'pesquisou', 'abertamente', 'tropico', 'acessalos', 'comercialcom', 'buena', 'oakleybr', 'gopro', 'goprobr', 'crakeiros', 'deslike', 'confiavele', 'exelente', 'finaliza', 'oramos', 'glorificado', 'organizarmos', 'poderes', 'cuidemse', 'pacutal', 'algarrobo', 'sailing', 'melhoras', 'educacoes', 'abandonar', 'maus', 'santoandre', 'sjrp', 'pessoascuidandodepessoas', 'ocasionaram', 'evitem', 'obsessed', 'vibrant', 'colors', 'these', 'arrangements', 'delivered', 'yesterday', 'miamifloraldesigner', 'corporateflowers', 'floraldesign', 'miamievents', 'privatechef', 'tropicalflowers', 'miamibeach', 'tennistournament', 'highlandsnc', 'cashiersnc', 'ncflowers', 'ncevents', 'northcarolinaliving', 'ncwedding', 'logistic', 'cbweddingmovies', 'instruindo', 'compreendam', 'anoteai', 'aura', 'aprecialo', 'kamenetz', 'telaviv', 'cibernetica', 'percorrido', 'seguidoras', 'cumprimentaram', 'historiadevida', 'caraca', 'andaram', 'agradecido', 'otavioln', 'negao', 'corretoratomei', 'duplicada', 'apredizado', 'compartilhamentos', 'chamome', 'resido', 'certificada', 'preparandome', 'encomendou', 'ousados', 'evolutivo', 'simaomborges', 'geizonbatistadias', 'antesdoaporte', 'cronicas', 'boss', 'lucianarando', 'pautada', 'domusinvesting', 'falem', 'oloco', 'bioma', 'germinativo', 'pousem', 'liberadas', 'precisamente', 'camada', 'semeadura', 'precisao', 'lembrarmos', 'vemprofluminense', 'fluzaaao', 'criem', 'reflitam', 'educacaoinfantil', 'contadeinvestimento', 'tonalidade', 'descobertas', 'rumoaomilhao', 'dividendosme', 'repitam', 'preparese', 'postaremos', 'transmitindo', 'rioboatshowcombr', 'marinadagloria', 'esperancosos', 'viveremos', 'mentoriabtg', 'aceleracaobtg', 'btgeducacao', 'construindoumnovocaminho', 'fazendoobem', 'transfirmadosparatransformar', 'umpelooutro', 'wisemadness', 'eufacoparte', 'httpslnkdindnqkjhby', 'tio', 'verba', 'comprarem', 'integrara', 'httpswebcventcomeventedebecfcaaeddfcesummary', 'btgactual', 'givebackday', 'veeem', 'gestamos', 'respiramos', 'aliviadas', 'retrospectiva', 'eventosdiferenciados', 'extornar', 'monomotor', 'pessoapb', 'ubatubasp', 'aproveitalo', 'pagara', 'fixas', 'cheque', 'httpswwwamgcapitalcombrblogeducacaofinanceiracreditopessoalquandoeumasolucao', 'vomitativo', 'unitarios', 'formados', 'lgbtqia', 'pcds', 'habib', 'nascif', 'gijs', 'delft', 'pedropaulo', 'cto', 'exalunos', 'alan', 'biz', 'edik', 'institutolocaliza', 'oficializamos', 'reinauguracao', 'depositou', 'revistafever', 'rcabralfotos', 'muitasssss', 'postarno', 'aguentei', 'operador', 'wpsomluz', 'prorrogacao', 'httpstinyurlcommfrer', 'httpsconteudoamgcapitalcombrebookir', 'impostoderenda', 'subscritas', 'totalizou', 'divulgara', 'destinadas', 'psicologakarlamartins', 'enoronhaa', 'dalecarnegieparaiba', 'encorpando', 'inteiramente', 'httpslnkdindemaissenqn', 'tantao', 'casca', 'grossa', 'espalhar', 'manja', 'idealizei', 'existo', 'opinam', 'sugerem', 'privatebanker', 'michele', 'equivocada', 'vlog', 'cavalcanti', 'enxergam', 'polvora', 'explosao', 'magnificas', 'celebram', 'excluido', 'qrcode', 'drafinpass', 'orgulhodeserforever', 'elisa', 'cashgestora', 'identificado', 'submetida', 'getulio', 'substituido', 'fixacao', 'imo', 'adiquirido', 'damaris', 'acsjovem', 'santoscidade', 'netopouza', 'estudam', 'morro', 'penha', 'vilas', 'criativas', 'transformarem', 'acsantosbs', 'desejados', 'universitys', 'annual', 'features', 'april', 'ftota', 'msampaiom', 'cmancini', 'blocknewsinsta', 'httpswwwbrazilconferenceorgbragenda', 'ht', 'portaldobitcoin', 'asicsbrasil', 'idis', 'wisemadnesssocial', 'interessada', 'remotas', 'argumentacao', 'levantou', 'pertinentes', 'questionadores', 'chancela', 'miziara', 'satisfatoria', 'greenwash', 'baurusp', 'idislamasson', 'conquistada', 'trilhalo', 'voarmos', 'thata', 'integrou', 'somara', 'viniciusthomazrocha', 'luribeiromoreno', 'stecelentano', 'joaopessoaandrade', 'lucidas', 'apelando', 'lacracao', 'perdemos', 'monta', 'confraria', 'figueroa', 'magia', 'directs', 'interacoes', 'mercadodigital', 'escolheram', 'trabalhara', 'onossoprojeto', 'draannjones', 'desvantagens', 'httpswwwamgcapitalcombrblogeducacaofinanceirafundocambialoqueeecomoinvestir', 'lulis', 'vivenciou', 'ativacoes', 'visitacao', 'estaleiros', 'embarcacoes', 'amaram', 'schaeferyachts', 'yachts', 'ecosinvestimentos', 'priority', 'validacao', 'tragam', 'inspirada', 'concede', 'sairao', 'daniloalcantara', 'nozomuniwa', 'expocon', 'marcandopresenca', 'btgbusiness', 'venca', 'investmentadvisor', 'grandhyatt', 'culturadealtodesempenho', 'sonorizacao', 'proaudio', 'jblaudio', 'crown', 'dpa', 'microphones', 'malightinglatinamerica', 'dtslighting', 'hplcompany', 'hotmachine', 'valeuuuu', 'sbcorporativo', 'someluz', 'somoslivemkt', 'somoslivemarketing', 'livemarketing', 'livemkt', 'httpslnkdineqfpqj', 'httpslnkdinekze', 'httpslnkdineqkkghfc', 'httpslnkdineafwjzv', 'erisneyribeiro', 'terradopedro', 'vaidade', 'presenciaria', 'santanaba', 'almejo', 'interlagossportmarketing', 'atendelos', 'depositaram', 'feriados', 'bezos', 'cefet', 'embarcou', 'boston', 'conheceram', 'mitbeaver', 'conectarem', 'david', 'neeleman', 'augustoelins', 'kond', 'antoniotabet', 'desafiotack', 'brazilconference', 'perspec', 'apx', 'imponente', 'alavancarem', 'artesanato', 'fazergrande', 'three', 'abraselgo', 'negociosdealimentacao', 'tramontinaoficial', 'abrasel', 'happyhour', 'agenciademarketing', 'ponderar', 'embasadas', 'httpswwwamgcapitalcombrblogeducacaofinanceiraseraqueocenarioeconomicoeimportantenahoradeinvestir', 'soberano', 'ba', 'estruturais', 'apoiarao', 'mitiga', 'furou', 'superavit', 'sustentando', 'protocolou', 'requerendo', 'perito', 'interlagossportmarket', 'automotive', 'driveexperience', 'clavecapital', 'vingar', 'dinamico', 'explorarmos', 'vemproclube', 'rodrigobruno', 'rbrasset', 'lindenberg', 'jfl', 'tarjab', 'originadas', 'tatica', 'geraram', 'anunciando', 'piiiinga', 'fundosdetijolos', 'fundosdepapeis', 'fundoshibridos', 'fundoshighgrade', 'hgcr', 'fundoshighyield', 'vino', 'galpoeslogisticos', 'hgbs', 'xpasset', 'vincipartners', 'creditsuissehedginggriffo', 'tiradentes', 'stallone', 'canalnautica', 'asa', 'assessoriainvestimentos', 'af', 'cobrala', 'ativosalvo', 'saem', 'dispostas', 'distancias', 'friendship', 'alpha', 'shellnigerialtd', 'chevron', 'plc', 'famfaoillimited', 'amazonenergylimited', 'gulftreasureslimited', 'mastersenergy', 'thehoneywellgroup', 'prosperon', 'petrocamng', 'asconoil', 'iamsaharagroup', 'nigerian', 'hoglenergy', 'techno', 'fmprng', 'officialnnpcgroup', 'nigerialng', 'nestoilltd', 'eternaplc', 'maerskdrilling', 'conocophillips', 'totalenergies', 'ardovaplc', 'heirsholdings', 'glencoreplc', 'exxonmobil', 'miaalpha', 'miaalphabrand', 'miaalphabusinessservices', 'miaalphainvestment', 'oilandgas', 'oilandgasuk', 'oilandgasnigeria', 'oilandgasindustry', 'uk', 'krone', 'bormio', 'sanches', 'raphael', 'zimmermann', 'automobilisticas', 'simuladores', 'narradores', 'headshottradingacademy', 'bossi', 'malununes', 'boticario', 'mataatlantica', 'bacarelli', 'felizpascoa', 'invadiu', 'precoral', 'ovosdepascoa', 'honrados', 'selected', 'honored', 'jaguaridproject', 'conservationwild', 'desenhos', 'adesivos', 'artebela', 'gostado', 'honradas', 'crash', 'redacao', 'superinteressante', 'httpswwwamgcapitalcombrblogeducacaofinanceiraresenhadolivrocrashumabrevehistoriadaeconomia', 'thaismack', 'aluna', 'mundomelhor', 'vertentes', 'acertamos', 'compraria', 'publicoalvo', 'contida', 'persona', 'insistir', 'compativeis', 'repetitivas', 'otimizando', 'certeiro', 'magsegurosoficial', 'metlifebrasil', 'surfar', 'highgrade', 'highyeld', 'qii', 'btcusd', 'tocando', 'ajudalos', 'traderaltaperformance', 'traderesportivo', 'traderlifestyle', 'miniindece', 'bolsadenewyork', 'opcoesbinarias', 'iqoptionbrasil', 'iqoption', 'inflaca', 'httpswwwamgcapitalcombrblogcomoinvestircomoinvestirseudinheirocorretamentedicasessenciaisnessajornada', 'tet', 'tiktok', 'preenchimentolabial', 'preenchimentoolheiras', 'preenchimento', 'drataiseliberman', 'drajudermato', 'sculptra', 'vibees', 'rusticusufrrj', 'multiconsultoria', 'ufrrj', 'desafiado', 'p', 'entregues', 'acessem', 'aproveitei', 'invite', 'primeirolugar', 'copostanley', 'fazendarentavel', 'aperfeicoar', 'prosperidadefinanceira', 'aristoteles', 'marcadofinanceiro', 'marianatdavila', 'weareappreach', 'akemi', 'dataai', 'andriolli', 'bd', 'linkmeads', 'femininos', 'ativista', 'justiceiras', 'womeningrowth', 'glow', 'womenleadership', 'growthforwomen', 'comoo', 'propoese', 'transformalo', 'excondenado', 'manipulacoes', 'fernandinho', 'beiramar', 'marcola', 'facoes', 'analogia', 'consistem', 'httpswwwamgcapitalcombrbloginvestimentoscomoescolheruminvestimentoderendafixa', 'custara', 'appmelhor', 'euamomeubtg', 'unificacao', 'ficariam', 'unificasse', 'tader', 'estresso', 'desalocar', 'acostumar', 'bobos', 'crtza', 'mapearam', 'melhorada', 'simplificando', 'removendo', 'digitacao', 'anterio', 'disponibilizarem', 'vdade', 'coerencia', 'idoneidade', 'meuncelular', 'graphico', 'pizza', 'agressor', 'permaneco', 'caca', 'viverdevendas', 'viverdetrade', 'tourodeouro', 'spiti', 'oprimorico', 'bolsabrasilbalcao', 'brasileirosemorlando', 'brasileirosnacalifornia', 'brasileirosnaalemanha', 'brasileirosemmadrid', 'brasileirosnaitalia', 'sapucai', 'melhorarem', 'massas', 'convem', 'inventados', 'riam', 'reuniaozinha', 'fracionado', 'dinheir', 'esperemos', 'ludicos', 'reservadas', 'flexiveis', 'disruptivos', 'agravadas', 'surgida', 'sacudiu', 'tornasse', 'setorizacao', 'aproveitamento', 'tadaofuzihara', 'renatonavarrofoto', 'entrevistou', 'probelmas', 'respodem', 'probelma', 'soqueromeu', 'pesquias', 'descobrimos', 'escuras', 'tudotenho', 'desinstalar', 'entrase', 'desistlar', 'empolgada', 'madrugas', 'user', 'fishing', 'fecho', 'enganam', 'corrup', 'acalmem', 'encomenda', 'intensoes', 'sms', 'emboraem', 'repercutir', 'btgfsb', 'adorando', 'certeira', 'completas', 'floratemos', 'onboardfbr', 'fnaband', 'fnobandsports', 'formulaum', 'formulaone', 'mercedesamgf', 'mercedesbenz', 'mercedes', 'redbull', 'redbullracing', 'willimasracing', 'charlesleclerc', 'leclerc', 'maxverstappen', 'lubraxpodiumteam', 'tombamento', 'financiando', 'aposto', 'hahahahahah', 'engrandecedora', 'uniongroupbrasil', 'aguentaram', 'sinda', 'pesados', 'pegaram', 'entrevistaram', 'superam', 'glorioso', 'incorporam', 'duvulgados', 'mentirosos', 'suplico', 'cadastramento', 'biometrico', 'escaneia', 'excedeu', 'encontrado', 'singulare', 'rioverdeinvestimentos', 'portosegurobank', 'fundossmallcaps', 'acoesem', 'freguesia', 'dormindo', 'colocasse', 'bullets', 'consecutivos', 'quedamos', 'puntos', 'euqueroinvestir', 'moneyweekoficial', 'velomoney', 'gdi', 'interpessoal', 'proporcionara', 'alcancarmos', 'gdiinvest', 'gdinvest', 'camarotearpoadoroficial', 'camarotearpoador', 'granderio', 'marquesdesapucai', 'bolsadevaloresdecaracas', 'ores', 'renatomimica', 'treinado', 'motivados', 'dennesmatias', 'pendurando', 'bandeirinhas', 'jogador', 'inseguro', 'carona', 'glaciane', 'feiraagrishowoficial', 'emplacar', 'rato', 'amoooo', 'ufsoficial', 'ufs', 'notifica', 'dividedos', 'wait', 'indeterminado', 'regido', 'disposicoes', 'regulamentares', 'aplicaveis', 'primordialmente', 'auferir', 'arrendamento', 'vier', 'alienar', 'incorporacoes', 'infraestruturaarmazenagem', 'ferroviarias', 'hidroviarias', 'motoci', 'klab', 'karl', 'girou', 'organizacaosocial', 'abaaifgv', 'propaga', 'agrishowwww', 'sacolinha', 'lptailorbr', 'questionaram', 'listado', 'httpsmaquinasequipamentoscombrinstituicaoespecializadaeminvestimentosapresentaseaosempreendedores', 'resolvo', 'orionindustria', 'recepcionados', 'jtononjr', 'equipecentrooeste', 'suzana', 'liskaukas', 'objetivamos', 'picking', 'descontados', 'intrinsecos', 'risadinha', 'marota', 'terninho', 'cretino', 'bolsodo', 'pah', 'labia', 'danieldsop', 'carolinainvest', 'descentralizar', 'adulta', 'cvmeducacional', 'proferidas', 'comemorado', 'unesco', 'jeangeorges', 'noverre', 'criadores', 'bale', 'marika', 'gidali', 'decio', 'otero', 'fundou', 'balletstagium', 'apreciar', 'desenvolverem', 'rehaubrasil', 'sanko', 'macron', 'sankonfortoficial', 'engemet', 'redesimpatia', 'topsupply', 'vinil', 'sodanca', 'naturalquimic', 'uninoveoficial', 'vitaorgbr', 'culturainglesasp', 'diamundialdadanca', 'pura', 'pagamo', 'viavel', 'guardem', 'colchao', 'tag', 'forneceu', 'sentar', 'sequencinha', 'fiscaliza', 'enganosas', 'prove', 'bonita', 'atrai', 'vanguarda', 'coretagem', 'prosperidadeinvest', 'rochal', 'tomo', 'naba', 'brgpactual', 'jive', 'reestruturacoes', 'insolvency', 'reunira', 'jiveinvestiments', 'nikk', 'trocarmos', 'aperfeicoarmos', 'desenvolvimentoprofissional', 'mentoriadecomunicacao', 'mktbrasil', 'niver', 'racional', 'acrescentaria', 'mencionado', 'fidelidade', 'mataram', 'dda', 'defeitos', 'enfrentado', 'relatado', 'agenciasbancarias', 'impulsionarmos', 'buscarem', 'comprarmeu', 'alexandrabcarter', 'amplificacao', 'carter', 'corporacoes', 'south', 'southsummit', 'reciprocidade', 'avinseg', 'ruscitto', 'rpcarvalho', 'ehhehehehehehe', 'eolico', 'domicilios', 'impulsionando', 'ribeiraopreto', 'imoveisemribeiraopreto', 'imoveisrp', 'bonfimpaulista', 'pararia', 'desancoragem', 'prorrogados', 'arrojadas', 'conservadora', 'indexadas', 'investiremque', 'ondeinvisto', 'pacecapitalinvestimentos', 'decima', 'barrar', 'pesando', 'estraga', 'thoughtworksbr', 'southsummitbrasil', 'lccdn', 'russos', 'alcancados', 'lulalau', 'lcas', 'escucha', 'joanna', 'ayala', 'quintana', 'nh', 'hoteles', 'timothy', 'gifford', 'munoz', 'encinales', 'visum', 'sas', 'plazas', 'titularizadora', 'colombiana', 'hinestrosa', 'gallego', 'tus', 'unete', 'llevara', 'mercadoinmobiliario', 'colombiagri', 'griclublatam', 'lifeexperience', 'standing', 'lying', 'equivaliam', 'bprivateoficial', 'acessora', 'cebaci', 'anatelgovbr', 'operadoras', 'anatel', 'redeneutra', 'fibraoptica', 'vasquez', 'andreessen', 'horowitz', 'feche', 'deducao', 'vinculadas', 'cinegrafista', 'depoimentos', 'eventosexclusivos', 'eventotop', 'acaiformosa', 'premiobtg', 'atestam', 'globalfinance', 'abastecido', 'impenhorabilidade', 'prinevesso', 'protecaofinanceira', 'cancelarem', 'presa', 'urgentes', 'fingindo', 'nascidas', 'judshow', 'pedrao', 'garotada', 'carinhosa', 'engajando', 'josenavikas', 'ze', 'simplista', 'tesouroinflacao', 'tesouroselic', 'batalhadoras', 'amorosas', 'protetoras', 'compreensivas', 'educadoras', 'mamaes', 'diadasmaes', 'abrira', 'internacionaisseria', 'capacita', 'agitando', 'httpsbraziljournalcombtgbateexpectativasemtrimestrerecorde', 'tesour', 'diferenciados', 'grandepb', 'boradarumbtg', 'bancodeinvestimento', 'melhorprivatebank', 'beachtennisbr', 'beachtenniscg', 'beavhtennisplayer', 'investtgpactual', 'httpslnkdingwkbwuu', 'httpslnkdingufwhbik', 'httpslnkdingvqksu', 'httpslnkdingdbwzc', 'bankofamerica', 'precificando', 'viexamericas', 'sindienergia', 'carboncredit', 'interativa', 'sabespcia', 'farsul', 'epe', 'solvioficial', 'termoverdessa', 'battressa', 'peao', 'correspondeu', 'eufacopartedestahistoria', 'vemcreacercomagente', 'vemcrescercomagente', 'movimentamos', 'studioarq', 'gunther', 'transmitidos', 'heinrich', 'exfuncionario', 'suico', 'alavancarao', 'httpswwwamgcapitalcombrblogdicasresenhadolivroosaxiomasdezuriquemaxgunther', 'universitaria', 'candidatas', 'teoricos', 'vivenciarao', 'colaborativos', 'mentoradas', 'ontemcolocar', 'colaestou', 'denuncia', 'protocolei', 'anexos', 'esh', 'moneymoneyinvest', 'resalebr', 'deis', 'enventam', 'vencedoras', 'frugais', 'preposto', 'vitorhugogovernador', 'deusabencoegoias', 'mariapassanafrente', 'assisto', 'acertando', 'iolanda', 'edson', 'futuredojo', 'genelhu', 'faber', 'capitalismoconscientebrasil', 'primorosa', 'magistral', 'sima', 'pratas', 'aabb', 'frequentando', 'incentivados', 'odalicardoso', 'pratasdacasa', 'aliancesonae', 'postao', 'fogueta', 'uhulll', 'copas', 'foise', 'compreenderam', 'encarado', 'perkinsandwillsaopauloanos', 'perkinsandwillawards', 'designforlife', 'edificiosdesaopaulo', 'brazilianarchitecture', 'grbank', 'machadomeyer', 'alberteinstein', 'trenchrossiwatanabe', 'willistowerwatson', 'interiorescorporativos', 'corporateinteriors', 'escritoriosdofuturo', 'officesnapshots', 'glimpse', 'brutal', 'acceptance', 'decrescente', 'alfabetica', 'favoritos', 'cruzes', 'caderno', 'humanitaria', 'militares', 'vacuo', 'fabricados', 'australia', 'httpslnkdindrzggr', 'repetidas', 'weber', 'comodismo', 'saboaria', 'naono', 'val', 'raoni', 'ipcapitalpart', 'leofrisoni', 'intermediou', 'efetivar', 'mundojbz', 'jbz', 'tornarse', 'arrasar', 'bakeoffbrasil', 'comecarmos', 'equilibrada', 'began', 'ernesto', 'revilla', 'opened', 'economical', 'projections', 'tiagolhes', 'iwgplc', 'regusglobal', 'moderated', 'discussed', 'closeddoor', 'rooms', 'abou', 'offices', 'workspaces', 'living', 'masterplans', 'hospitality', 'early', 'leaded', 'ruben', 'velarde', 'pulido', 'mx', 'giovanni', 'demaisagostino', 'jll', 'ramirez', 'beck', 'federico', 'gagliardo', 'vitriumcapital', 'ifc', 'gastao', 'valente', 'gicsg', 'vicente', 'naves', 'arthacapital', 'gonzalo', 'sarmiento', 'centenario', 'hurtado', 'misael', 'shimizu', 'realplaza', 'guillermo', 'montano', 'mobiliare', 'jean', 'fontanot', 'urbanova', 'ilan', 'senerman', 'inmobiliaria', 'sencorp', 'loveday', 'moreno', 'others', 'cocktail', 'sponsored', 'bancosabadellmx', 'greystarapartments', 'deloitte', 'skyhausmx', 'setech', 'fitch', 'ratings', 'gbincmx', 'latinamericagri', 'gricl', 'baguncado', 'desbancarizada', 'negacao', 'principles', 'breaking', 'darle', 'fin', 'financiamiento', 'nuevas', 'perforaciones', 'petroleras', 'presion', 'adoptar', 'exclusion', 'solidaridad', 'llamado', 'presionando', 'ecologico', 'vital', 'instituciones', 'financieras', 'combustibles', 'fosiles', 'selva', 'tropical', 'gustaria', 'ejemplo', 'dejar', 'standearth', 'amazonwatch', 'coica', 'confeniae', 'protectheamazon', 'exitamazonoilandgas', 'bankingonamazondestruction', 'bankingonclimatechaos', 'qg', 'sartori', 'lembranca', 'bolfoni', 'bdiv', 'endd', 'investimentoimobiliario', 'fiifacil', 'melhoren', 'transmitem', 'cumpridas', 'empenham', 'duram', 'propoem', 'pneu', 'esquenta', 'molda', 'curvas', 'grip', 'kartinglovers', 'kartingemotionanpassion', 'retornorisco', 'rabechini', 'teleconferencia', 'apagou', 'lancameto', 'ambient', 'revolucionou', 'ixx', 'pretensao', 'longevidade', 'predestinados', 'cumprirem', 'extinto', 'reformar', 'oswaldo', 'iconico', 'gurgel', 'buarque', 'rebatizado', 'minhocao', 'abriga', 'cora', 'sobrevida', 'maisfamilyasp', 'pxoliver', 'jessynascimento', 'apresentei', 'esclarecimentos', 'explorada', 'sumiram', 'defasada', 'melhorarcomo', 'parcelar', 'considerava', 'chego', 'diaaa', 'jaque', 'inverti', 'entrevistando', 'terradesenvolvimento', 'lucascoelhoalves', 'cloveselias', 'diegohorst', 'uhuuuul', 'fotoempresarial', 'publicidadeepropaganda', 'netopedrosabt', 'clubedobeachtennis', 'ladra', 'mandatarios', 'repete', 'alexandretaleb', 'brunovanenck', 'cidacoelhofono', 'transbordando', 'faturamentos', 'ensinaram', 'profundas', 'seguirei', 'orgulhando', 'biel', 'raftanti', 'devaneios', 'criativos', 'materializou', 'checkin', 'quartos', 'ev', 'chicoalencar', 'catarinenses', 'apresentarao', 'vislumbram', 'reinventa', 'reinventaram', 'reinventasc', 'semanadaindustria', 'mundodotrabalho', 'betanea', 'tranquilade', 'momentoseja', 'joia', 'superado', 'sentia', 'dormir', 'torco', 'tissotwatch', 'dreamer', 'concepcao', 'habitual', 'empreendimentoscomerciais', 'jardimeuropa', 'empreendimentosmeta', 'bancoinvestimentos', 'formalizacao', 'finalizacao', 'sobremorar', 'fas', 'corretoradeimoveis', 'vidadecorretora', 'corretoraguarapari', 'mulhernomercadoimobiliario', 'vistaparaomar', 'corretoradeimoveisdeluxo', 'explorer', 'nch', 'inclusa', 'contabiliza', 'fresquinho', 'makingof', 'reunido', 'bucharel', 'reforcam', 'belem', 'sjcampos', 'epicas', 'integro', 'empresaagradeco', 'pedrosallles', 'legend', 'recepcaoainda', 'dietrich', 'bonhoeffer', 'pastor', 'luterano', 'reservando', 'hetty', 'financista', 'vaca', 'sensacionalistas', 'chamavam', 'bruxa', 'vestimentas', 'humildes', 'peculiar', 'acumulava', 'rendas', 'jornadavidadetrader', 'traderdesucesso', 'atoa', 'tudooo', 'automatize', 'programando', 'clica', 'unanimidade', 'questionava', 'maxi', 'regularidade', 'excediam', 'acumulados', 'rubrica', 'reduza', 'ocorreria', 'deferido', 'regulador', 'decisa', 'autorizacoes', 'especiaisdo', 'itaipava', 'werneckmarcus', 'snci', 'negociada', 'revertidos', 'exercam', 'obt', 'trocarem', 'palhaca', 'preta', 'lindao', 'concreto', 'desdo', 'prolongando', 'executando', 'adoidado', 'comendo', 'quebrando', 'preservar', 'inaceitavel', 'clientescilada', 'scale', 'ups', 'conversaram', 'contatar', 'bugar', 'conseguiam', 'abriam', 'cliquem', 'retratar', 'jgp', 'surpreendia', 'estocastica', 'covariancias', 'doutoranda', 'oxford', 'neurociencias', 'pesquisadora', 'preferindo', 'muie', 'milhooooooooo', 'xuxu', 'bikeladypellegatti', 'trabalhadores', 'respondendo', 'meritocraticos', 'versatil', 'elaborando', 'focamos', 'facilitem', 'estagiar', 'linguagens', 'java', 'css', 'html', 'python', 'vba', 'ac', 'rivalidades', 'historicas', 'alain', 'prost', 'genios', 'protagonizaram', 'duelo', 'mclaren', 'alainprost', 'sennaforever', 'sennnasempre', 'nostalgia', 'clicava', 'botao', 'aloquei', 'filmagens', 'descontaram', 'abalado', 'funcionou', 'inexistente', 'estimados', 'ressarcidos', 'sambando', 'lutamos', 'zeroooo', 'bvalaw', 'vibram', 'cassianagarcia', 'brilhou', 'aquariana', 'mglg', 'tornadas', 'compreendia', 'janeirorj', 'vinhedosp', 'noticiadas', 'repactuacoes', 'supermaket', 'multas', 'correcoes', 'derepente', 'stoploss', 'beneficil', 'deixao', 'atomsaopaulo', 'ihfa', 'flutuacao', 'lcalci', 'periodicidade', 'pagadoras', 'pagaram', 'itsa', 'itausa', 'taee', 'sapr', 'sanepar', 'enganada', 'ensinarei', 'httpswwwamgcapitalcombrblogeducacaofinanceiramedodeperderdinheirooquefazerparacombatelo', 'assustadoras', 'prudentialdobrasil', 'facilne', 'nationcken', 'belliness', 'mariottothayna', 'biblioteca', 'expressoes', 'faciais', 'macacos', 'naoverbal', 'primitivo', 'mediatraining', 'fonoaudiologia', 'linguagemnaoverbal', 'dudu', 'equestrian', 'competcefet', 'cefetmg', 'campusng', 'vivenciada', 'extremo', 'ifspsaopaulo', 'hospedagem', 'btgoffair', 'gata', 'interpretacoes', 'guarani', 'sevilha', 'cavalaria', 'ligeira', 'temporadadeconcerto', 'antoniocarlosgomes', 'franzvonsuppe', 'heitorvillalobos', 'mauriceravel', 'isaackarabtchevsky', 'danstulbach', 'tecomedina', 'fridman', 'transacionais', 'domrestaurante', 'cme', 'tonelada', 'platts', 'negocialo', 'meso', 'mercadofuturo', 'garantam', 'comportou', 'composicoes', 'receeeba', 'enganar', 'fiisdeescritorios', 'fiisdelajes', 'topfiis', 'hgpo', 'jsre', 'riobravo', 'cshg', 'insiders', 'perceptivel', 'avaliadoras', 'atribuem', 'only', 'fotodetrilhoes', 'padraobtg', 'despercebidas', 'montarem', 'winfutcombr', 'decolasse', 'kristian', 'huber', 'tracam', 'sigaif', 'ofertapublicadeaquisicao', 'emitiu', 'incorpore', 'convocar', 'deliberacao', 'incorporadas', 'documental', 'convocadas', 'conectemonos', 'brincadeiras', 'gaiaininhos', 'brincar', 'comercenergia', 'energeaglobal', 'salinas', 'pedrinopolis', 'pontas', 'canalsolar', 'patual', 'leblonequities', 'financialtimes', 'grillo', 'rizzo', 'brega', 'corporation', 'fiates', 'diadaindustria', 'rubin', 'michelrubin', 'mpartners', 'conseguisse', 'satisfeita', 'recusando', 'desatualizado', 'camilabarros', 'sons', 'magallanes', 'manifestaram', 'rescindir', 'obtenha', 'formalizar', 'concretizadas', 'admirados', 'viex', 'obtencao', 'aperfeicoamentos', 'regulatorios', 'leiloes', 'viabilidade', 'economicofinanceira', 'httpswwwviexamericascomeventosfinanciamentodeprojetosnosetoreletrico', 'coincidencias', 'entusiasmado', 'trabalharemos', 'segurosdevida', 'perceberam', 'sumicity', 'universidadedevassouras', 'sebraerj', 'vinylol', 'viniciusverlyb', 'wilbert', 'faculdadeunivertixtr', 'contextos', 'strategies', 'arcados', 'worldeconomicforum', 'timefamilia', 'vittorio', 'perona', 'ibd', 'partnerhead', 'huw', 'jenkins', 'vicechairman', 'tiene', 'mejorar', 'conocimiento', 'httpbitlynykyna', 'encontrara', 'actividad', 'ejerce', 'sociedad', 'educacionfinanciera', 'ajustando', 'velas', 'sistemafiema', 'expositores', 'competividade', 'maranha', 'bebendo', 'engole', 'ducker', 'velhaes', 'itfinternacionalvilavelha', 'cristianograbner', 'antonioviniciusof', 'chrislandim', 'verk', 'concluida', 'abatimento', 'recorre', 'determinou', 'registramos', 'mostrado', 'pressionada', 'bidi', 'completei', 'concretizando', 'hibrida', 'comportamental', 'serrano', 'eletron', 'road', 'maximizarem', 'tornandose', 'autoprodutores', 'vidaextraordinaria', 'veiculada', 'tailor', 'regionalizar', 'tailormedia', 'digitalpremium', 'adnetwork', 'nuday', 'agorasaopaulo', 'correiopopular', 'oestadodesaopaulo', 'anoticia', 'horadesantacatarina', 'jornaldesantacatarina', 'diariogaucho', 'zerohora', 'oglobo', 'tribunadoparana', 'agazeta', 'opovo', 'luxemburguesas', 'lcmbexperience', 'projetar', 'calculoestrurual', 'engenhariacivil', 'estrurura', 'revelar', 'darem', 'construirem', 'eleita', 'cuidador', 'cesarnunesmorais', 'rolandgarros', 'ybotiramainvestimentos', 'mutaaaaaa', 'pular', 'prosseguir', 'sextas', 'issovices', 'mexendo', 'prepararmos', 'procurarmos', 'honestamente', 'meter', 'retornaram', 'decepcionando', 'entram', 'sozinhas', 'indignados', 'taa', 'costumamos', 'coincididas', 'idolos', 'escada', 'httpswwwperspectivecombrabrasuaconta', 'viciar', 'bancobaixo', 'sejaforevercapital', 'aproimoramento', 'perspecs', 'precisavam', 'liv', 'malu', 'nunes', 'anacarolbastida', 'deboni', 'garutti', 'fauna', 'bacias', 'hidrograficas', 'detem', 'naufragio', 'pretensoes', 'recusar', 'motivadora', 'bunda', 'dependia', 'proeza', 'pelomenos', 'resolvendo', 'empoderada', 'espiritualizada', 'madura', 'martelando', 'redundante', 'bottari', 'karine', 'aprofundamento', 'falarei', 'natacha', 'piacentini', 'falara', 'claudinei', 'renan', 'darao', 'alocation', 'finalizaremos', 'louzada', 'devagar', 'kahneman', 'tversky', 'estudaram', 'intuitivas', 'racionais', 'experimentos', 'psicologia', 'peculiaridades', 'falecer', 'httpswwwamgcapitalcombrblogdicasresenhadolivrorapidoedevagardanielkahneman', 'guri', 'vistos', 'glamouroso', 'extremante', 'aquecido', 'darei', 'transformador', 'bucolica', 'currais', 'novosrn', 'subestacao', 'limpos', 'domine', 'inundada', 'monalisa', 'marcosjmpennacchi', 'giovannapennacchi', 'segurar', 'coberta', 'patrono', 'bth', 'apio', 'acordem', 'abalaram', 'relacionam', 'seguidas', 'parciais', 'recompor', 'afetou', 'sondagem', 'demaise', 'koifilmss', 'descontada', 'cgu', 'suspeitas', 'desanimado', 'uruguai', 'mens', 'cometam', 'sustendo', 'ibraim', 'mustang', 'uassu', 'cataratas', 'diamantina', 'kaminitz', 'peres', 'cassiro', 'ec', 'flying', 'fox', 'confit', 'balou', 'dakota', 'insbruck', 'isabelle', 'singobat', 'joter', 'fanny', 'incroyable', 'muze', 'bengaly', 'return', 'substancialmente', 'assimetrico', 'capturando', 'memento', 'diferimento', 'desmascarada', 'lacra', 'lucra', 'aprox', 'pretenda', 'minoria', 'cancele', 'repensando', 'militancia', 'nve', 'deslavrada', 'aplico', 'jegue', 'fanaticos', 'micto', 'causado', 'traido', 'kkmkkk', 'turnes', 'vemprarualula', 'pisa', 'pisasse', 'juntaria', 'acreditarei', 'reciprocomas', 'naomas', 'operei', 'fissurado', 'falham', 'levantam', 'tombo', 'altaperformance', 'bancodobarril', 'centena', 'disponibilizaram', 'acolhe', 'fernandabottari', 'operado', 'contribuinte', 'tributaveis', 'reginaldo', 'franklintempleton', 'lamborghinisaopaulo', 'travava', 'condizem', 'evacionado', 'ovado', 'expulso', 'palmo', 'nariz', 'entreguei', 'convidem', 'jornaldabandoficial', 'esnoticiasdigital', 'correiodamanhaoficial', 'chegadessesdois', 'chegadeses', 'pablomarcalpresidentebr', 'ddesde', 'vantajoso', 'existiria', 'atendidas', 'ajudalas', 'cesarcielof', 'titanium', 'acumulou', 'avanca', 'precisem', 'comvoces', 'teniendo', 'devastador', 'necesidades', 'multiplican', 'combates', 'siguen', 'asesinados', 'heridos', 'traumatizados', 'violencia', 'rodea', 'aterrorizadas', 'shock', 'desesperadas', 'refugiados', 'huido', 'desplazadas', 'tales', 'desplazamientos', 'podrian', 'consecuencias', 'duraderas', 'generaciones', 'venideras', 'huyen', 'corren', 'mayor', 'riesgo', 'explotacion', 'armas', 'explosivas', 'urbanas', 'pobladas', 'victimas', 'considerables', 'infraestructura', 'esenciales', 'hogares', 'escuelas', 'hospitales', 'centrales', 'electricas', 'buscan', 'han', 'danados', 'destruidos', 'obligaciones', 'quatcapitalcom', 'fondo', 'caridad', 'kyiv', 'hogar', 'vienen', 'reciben', 'asistencia', 'instalaciones', 'asearse', 'lavanderias', 'beyonce', 'comandarmos', 'edmund', 'burke', 'servo', 'encurtar', 'padeiro', 'june', 'mymonth', 'cabimento', 'recorrendo', 'sabiam', 'lock', 'retornar', 'exceder', 'poderam', 'daremos', 'oferendo', 'intermedio', 'ftgs', 'eletricidade', 'fb', 'whatsappdepois', 'academy', 'oguilhermeconde', 'privateacademy', 'pane', 'interrupcoes', 'atrasos', 'passivel', 'checagem', 'cessante', 'lucrativa', 'sujeitos', 'custeioagricola', 'atendimentopersonalizado', 'boteco', 'ladroes', 'cervejinha', 'viciado', 'cabeludo', 'fedorento', 'sustentado', 'siderurgicas', 'teem', 'comprovado', 'lc', 'wef', 'davos', 'solavancos', 'enfrentara', 'porvir', 'poli', 'milanez', 'denis', 'morante', 'aster', 'rgs', 'bocom', 'bbm', 'lts', 'spx', 'vita', 'politecnicos', 'homer', 'bronker', 'despreparada', 'oj', 'ressarciram', 'bancam', 'jatinho', 'ihub', 'wednesday', 'invited', 'opening', 'session', 'hosted', 'put', 'discussion', 'stage', 'siilabr', 'analytics', 'commercial', 'along', 'perspectives', 'cre', 'counted', 'moderator', 'invitation', 'putting', 'contribution', 'investimentoemimoveis', 'queixa', 'direcionando', 'redirecionado', 'convidalos', 'castbox', 'radiopublic', 'desatualizada', 'anfitrias', 'arco', 'irisbandeira', 'transgenero', 'hei', 'relembrado', 'setorchave', 'ordinaria', 'card', 'autorizar', 'consultarem', 'dududocavacooficial', 'leogontas', 'institutomanodown', 'investira', 'avisa', 'sazonal', 'pmc', 'pms', 'beneficiados', 'terrestres', 'nordresearch', 'pilantras', 'httpsepocaogloboglobocomtemponoticiaporqueprisaodobanqueiroandreestevesassustaogovernoeopthtml', 'amur', 'instainnova', 'almocopalestra', 'renovaveis', 'fornecida', 'concessionaria', 'celpe', 'nossotimeehpaudedaremdoido', 'denisesantos', 'keilaregina', 'odersonacioliadv', 'conservao', 'faltara', 'desejas', 'napoleon', 'hill', 'neverquit', 'strength', 'pilula', 'dominando', 'concentrarmos', 'surgirem', 'pimco', 'pisando', 'montanharussa', 'carrinho', 'wwwtesourodiretocombr', 'picos', 'descolado', 'vicecolocacao', 'viniciusmartinsjj', 'tiaguinhonascimentoo', 'leogoncalvesjudo', 'thamyres', 'thamybjj', 'gamba', 'rafagamba', 'saboia', 'thiagosaboia', 'interfaz', 'pag', 'trabada', 'datos', 'redundantes', 'deja', 'nesaa', 'tendenciado', 'importance', 'leagues', 'europe', 'direitodesportivo', 'permitiram', 'sabor', 'pratos', 'prestigiado', 'sucks', 'avelino', 'guilhermeavelino', 'bjj', 'arkoadvice', 'posicionando', 'parace', 'rodrigobcampos', 'squaloinvestimentos', 'helioaai', 'iurischiavon', 'support', 'confidencial', 'hunter', 'brilhar', 'vagasdetrabalho', 'patricio', 'pauls', 'paralelas', 'cred', 'sparta', 'prev', 'vigarista', 'funcionarem', 'pecam', 'ligaria', 'feedbackcliente', 'concordancia', 'bloombergtv', 'fpabramo', 'folhauberaba', 'joeldatena', 'escopos', 'urbana', 'btrabtal', 'entrevistamos', 'manipulador', 'utilizem', 'vmbrandao', 'caramelo', 'odin', 'staiti', 'bloond', 'piccola', 'catira', 'vii', 'quebec', 'rituaali', 'oro', 'ravell', 'crackerjack', 'barcenal', 'othello', 'ad', 'daugther', 'gms', 'florence', 'heeloise', 'indio', 'fleur', 'lys', 'jesse', 'intercar', 'quidarco', 'caron', 'solene', 'veruska', 'natividade', 'loritta', 'chap', 'haegler', 'nani', 'elektra', 'figueira', 'luna', 'cerberus', 'ofertar', 'empreitada', 'atuacoes', 'atuantes', 'feiradiversa', 'superlike', 'incompetentes', 'falaremos', 'familytime', 'dataengineer', 'corretorasdigitais', 'desviou', 'totalizaram', 'kinvestimentos', 'semcorretagem', 'perenidade', 'maianaalmeida', 'candidatese', 'wacj', 'auxiliarao', 'aun', 'correo', 'magisterio', 'medalha', 'obinvestbrasil', 'partilho', 'magnifica', 'colegiostjohn', 'divididas', 'usuaria', 'thom', 'srougi', 'drconsulta', 'exameesg', 'refaber', 'btral', 'apresentador', 'regulado', 'zambolim', 'revendido', 'tributario', 'inviabilizar', 'maquinario', 'aprovasse', 'choi', 'farol', 'orgulhocapixaba', 'governodoes', 'casagrande', 'abudmunir', 'casagrandejoseamarildo', 'crissamorini', 'renanchieppe', 'findesoficial', 'banestes', 'apexnewses', 'belisco', 'shanghai', 'insegurancas', 'frustracoes', 'permearam', 'inglid', 'impares', 'btgpa', 'levada', 'pbenetton', 'rafcs', 'pesada', 'secretarios', 'mtstbrasil', 'mtstsp', 'nytimes', 'eu', 'officiale', 'globorural', 'karp', 'enriqueceu', 'acolhidos', 'quemomvao', 'montaria', 'proximoeu', 'religioso', 'pessoaleu', 'montado', 'okta', 'pontofrio', 'brian', 'requarth', 'napa', 'valley', 'marketplace', 'quartinho', 'olx', 'brianrequarth', 'tereza', 'softbank', 'lombardo', 'omieoficial', 'ogrady', 'vectis', 'printei', 'boletimeconomia', 'pernambucana', 'habilitacao', 'simpatica', 'perspicacia', 'folhabusiness', 'encontramse', 'autonoma', 'modernidade', 'rsomos', 'makersecosystem', 'somostodosmchecon', 'mcheconceno', 'grupomchecon', 'mchecongroup', 'processocriativo', 'feiraenase', 'enaserj', 'mcheconrio', 'andrelajst', 'israeloriente', 'criadas', 'vantajosas', 'questionario', 'mulheresdenegocio', 'sucessoprofissional', 'wcdbrazil', 'possuiu', 'assinante', 'insatisfatoria', 'assinaturas', 'jogada', 'levo', 'voooooa', 'arielapz', 'retrovisor', 'traded', 'proporcoes', 'esgb', 'genb', 'ingenius', 'spxb', 'bolsadevaloresbr', 'andamento', 'conter', 'btf', 'doutores', 'guiam', 'inspiramos', 'youngwomensummit', 'mulhereslideres', 'coquetelpalestra', 'palestrainvestimentos', 'entree', 'nivercuiaba', 'aniversariocuiaba', 'jantardeaniversario', 'chapadamt', 'eventoscuiaba', 'eventosmt', 'eventosucesso', 'eventospersonalizados', 'homensnacozinha', 'instafood', 'waluntar', 'tirofotodecomida', 'untar', 'waldemaruntar', 'planning', 'apta', 'wealthplanning', 'remessainternacional', 'comercioexterior', 'influencer', 'desgraca', 'descalabro', 'desgovernante', 'inominavel', 'trevas', 'prenome', 'despudoravel', 'imerso', 'maiorbancodeinvestimentos', 'jampanabolsa', 'upi', 'compone', 'hoy', 'clasificacion', 'noviembre', 'influencias', 'ygor', 'apuracao', 'envergonhados', 'beija', 'perguntaria', 'monitordomercado', 'oclubedomilhao', 'beminformado', 'neles', 'superlativos', 'uberlandia', 'triangulo', 'uba', 'caioestevesf', 'patti', 'mariaclarapatti', 'zocratto', 'zocrattoflavio', 'desmarcar', 'adotam', 'comportamentos', 'promovam', 'praticam', 'efbrasil', 'qulturerocks', 'gruponkn', 'smworkbr', 'agunicabr', 'ambevvoa', 'certissimo', 'laia', 'pesquisinha', 'arranca', 'btglixo', 'ptralhada', 'viuu', 'bancosdigitais', 'desesperado', 'esperneia', 'ridiculamente', 'padle', 'santopadel', 'postamos', 'gasparnobrega', 'worldcupstpauls', 'russomano', 'infima', 'remarem', 'migrem', 'microdados', 'descreveu', 'aproveitou', 'origens', 'contingencia', 'somada', 'vencida', 'parcelada', 'boafe', 'inequivoca', 'pac', 'alimentam', 'frequente', 'pagegroupbr', 'recrutador', 'reforce', 'tecnologico', 'fundamos', 'suportes', 'minion', 'falacias', 'detonando', 'publicador', 'abomino', 'reduto', 'teer', 'ala', 'engajada', 'nexo', 'demoniza', 'inimigo', 'insistem', 'suicidar', 'caminhoes', 'agricultor', 'mercadoria', 'besta', 'mediocres', 'taxar', 'invasores', 'abortistas', 'sanfona', 'desesperados', 'problematico', 'produzir', 'picareta', 'profissionalizadas', 'frigorificos', 'bancabilidade', 'identifique', 'erradas', 'aguenta', 'incondicionalmente', 'garanti', 'perna', 'imunda', 'azeitona', 'pistas', 'marceloserrado', 'sambadevinil', 'showaovivo', 'sabonetes', 'tornalas', 'autoconfiantes', 'victoriapizz', 'racecar', 'kartingemotionandpassion', 'kartbr', 'correspondendo', 'documentooooooo', 'quemtemtimetemtudogus', 'terminando', 'interrompi', 'kkkkkkkkkk', 'kkkkkkkkkkkkkk', 'inacio', 'opositor', 'newmag', 'olami', 'ensinos', 'cabala', 'respondemos', 'consolidadas', 'patrocinam', 'finshecoyws', 'carreirafemina', 'oportunidadeprofissional', 'ficcao', 'cientifica', 'incipiente', 'videogames', 'mostraremos', 'misterios', 'ajeita', 'btgtalkslive', 'voltarmos', 'coleciona', 'competitivos', 'usufruidos', 'ferrovias', 'portuarios', 'conhecaoes', 'nacionalmente', 'pingou', 'diversfiicando', 'plenosenior', 'timenow', 'ish', 'medsenior', 'bh', 'kalil', 'direcionarmos', 'arriverdeci', 'hgouvesse', 'vigor', 'cogitando', 'kkkkkkkkkkkkk', 'perguntassem', 'pedrovenglert', 'startse', 'insustentavel', 'subirem', 'errarem', 'exagero', 'reduzam', 'estacione', 'wifi', 'ada', 'blockchainbrasil', 'naoso', 'otario', 'puxar', 'gadoburro', 'volts', 'arminda', 'escondendo', 'frankel', 'vitacon', 'housi', 'alelafer', 'housioficial', 'vitaconoficial', 'exibicao', 'desabonasse', 'recomendei', 'alertandoos', 'exemplificando', 'perderao', 'grandcorporate', 'preferidas', 'chips', 'voltaram', 'figurar', 'comodities', 'bova', 'viia', 'rrr', 'montanteoficial', 'ampliaram', 'joaquim', 'floriano', 'combinada', 'itbi', 'validade', 'estatica', 'merecida', 'devaci', 'mxff', 'administradas', 'trimestralmente', 'aapl', 'comparado', 'representado', 'grahl', 'licenca', 'coneccao', 'gestaodepessoas', 'recursoshumanos', 'cumplida', 'compuesta', 'clasificar', 'sslteamperu', 'qir', 'arquivamento', 'cancelados', 'meoooo', 'caotrocina', 'liberalzinhos', 'irresponsavveis', 'politicagem', 'encerrarem', 'furtou', 'transfere', 'impacientes', 'planing', 'absorver', 'geopolitico', 'utilizarmos', 'investmais', 'httpslnkdindwcbnin', 'httpslnkdind', 'wasamq', 'particular', 'devendo', 'tolerancia', 'aacdoficial', 'athiewohnrath', 'barrycallebautgroup', 'brmallstalentos', 'mathilde', 'loft', 'engekoengenharia', 'escolalourencocastanho', 'fagronbrasil', 'fecomerciosp', 'djm', 'hospitalpresidenteoficial', 'veracruzcampinas', 'icbusp', 'incorbase', 'butantanoficial', 'racionalengenharia', 'redelucymontoro', 'rgci', 'ribeirocaram', 'sobrosaconstrutora', 'teixeiraduarte', 'tintasmc', 'unimedbotucatu', 'anhembimorumbi', 'votorantimcimentos', 'instant', 'gndi', 'gelatinas', 'russelot', 'gerbur', 'ccam', 'cienciaesauderetrofitrevitalizacao', 'instalacoeseletricasinstalacoes', 'instalacoeseletromecanicas', 'engenhariaengenhariaeletrica', 'lgelgeinstalacoes', 'utilidadesindustriais', 'clientesprojetosgerandovalor', 'tatafernandesv', 'toorantonio', 'falakleber', 'penkovideomaker', 'letyciascaquetti', 'sophiaprein', 'diegoalgarte', 'nataliasnascimento', 'mantovani', 'seabra', 'womenonboar', 'velhos', 'knhy', 'obrigatoriedade', 'destacarmos', 'mercadofinan', 'sarainvest', 'acontencer', 'coleta', 'desvios', 'torceram', 'tatianacastanho', 'sonhorealizado', 'confeccionado', 'graficasantaluiza', 'empreededorismofeminino', 'enxergando', 'gerarem', 'adversos', 'luizplinio', 'arthurliins', 'dinner', 'lay', 'santiagopaty', 'roquekhouripinheiro', 'angelarpinheiro', 'danielybritooficial', 'trattoria', 'globalmanagersconference', 'fairmont', 'modernizacao', 'energetico', 'profissionalizacao', 'revistalide', 'mosaico', 'interligam', 'evolua', 'dependem', 'coligado', 'desafie', 'empenhe', 'alicerce', 'instadaily', 'anotamos', 'daud', 'ibef', 'third', 'distribution', 'ccifbsp', 'bistronomie', 'bife', 'alstom', 'chenut', 'cma', 'groupe', 'agricole', 'carrefour', 'lvmh', 'fecharam', 'ajuizados', 'autos', 'identificamos', 'movidas', 'alegadamente', 'questionada', 'eficacia', 'atemporais', 'httpswwwamgcapitalcombrblogdicasensinamentosdoinvestidorbenjamingrahamquevaleapenaconhecer', 'rugby', 'preparem', 'powerwoman', 'womaninred', 'entepreneur', 'womamenterpreneur', 'comandites', 'dispositivos', 'descontrolada', 'quantitativa', 'patrocinada', 'sentado', 'sombra', 'plantou', 'atrasa', 'lidesantacatarina', 'exigidas', 'suficientes', 'foruns', 'ajuizado', 'permitiu', 'incentiva', 'calainho', 'discutiram', 'empresariado', 'lidemt', 'quemelideparticipa', 'backdrop', 'lona', 'ivanmfranco', 'hcunit', 'beletti', 'desafiarem', 'torar', 'representadas', 'tomaram', 'declarada', 'execucoes', 'recuperandas', 'period', 'estiverem', 'recuperanda', 'problematicas', 'acentuadas', 'joined', 'express', 'spent', 'past', 'surrounded', 'brilliant', 'starting', 'pandemic', 'challenging', 'hard', 'desire', 'succeed', 'grown', 'personally', 'professionally', 'paths', 'womenonbo', 'boost', 'precificada', 'pmi', 'levantamonos', 'fazemolo', 'dilmarousseff', 'molonrj', 'destacaram', 'localizei', 'topicos', 'randomicos', 'engaja', 'sandro', 'crescendooo', 'carregam', 'ameaca', 'canditados', 'pario', 'exceto', 'pifias', 'canditado', 'odara', 'abbc', 'deslanchar', 'reforcada', 'martineli', 'blanco', 'krahl', 'tiagokrahl', 'maringapara', 'wwwsacreinvestimentoscombrtrabalheconosco', 'renatorique', 'doado', 'espelhem', 'dificultam', 'partem', 'convidarem', 'tonycelestino', 'amaryllisgullatissei', 'estendo', 'louvado', 'lucido', 'metais', 'modernas', 'reguladores', 'ligada', 'influenciada', 'emitindo', 'proft', 'slce', 'provam', 'slcagricola', 'convocado', 'champions', 'league', 'mastercardbrasil', 'premiamos', 'belletti', 'acalentava', 'geracoes', 'meditar', 'pesadelos', 'irineufperpetuo', 'esgotados', 'wwwinstitutobaccarelliorgbragenda', 'tradutor', 'criticos', 'aprofundando', 'boldonaro', 'talves', 'conhecereis', 'btgcreli', 'introducao', 'excel', 'paschoalotto', 'marcosneuhaus', 'lucrativo', 'nisto', 'pwm', 'semanabtgpactual', 'delacao', 'preocupasse', 'dammmmmmmmmmmmmm', 'exclusive', 'cocktails', 'postes', 'marcadinho', 'forcada', 'todoss', 'tentam', 'indecisas', 'aaaahhh', 'rhabooo', 'vak', 'canalh', 'ligaram', 'hospicio', 'vergonhame', 'pingado', 'kakakakakakaka', 'boaaa', 'fraudado', 'modernos', 'rebalanceamentos', 'criteriosa', 'msmo', 'consumista', 'minimalista', 'minimalismo', 'somatorio', 'baldotto', 'reuters', 'wcasagrandejr', 'discursou', 'traumas', 'agressoes', 'estupro', 'superarem', 'inferiores', 'incapazes', 'socialite', 'empreendedorismoeproposito', 'acionistacombr', 'lallaugnol', 'marmelada', 'kkkkkkkkkkkk', 'condensacoes', 'jumento', 'diminuido', 'pretendiamos', 'drastica', 'concordei', 'flamboyat', 'hsinvest', 'ivanhoecambridge', 'jhsfinstitucional', 'multiplanoficial', 'previ', 'previas', 'fusoes', 'ecommerce', 'unicos', 'rawpixelcom', 'freepik', 'bandeiras', 'elo', 'generosa', 'lugarcada', 'cumulo', 'kkkkkkkkkkkkkkkkkkkkkkkkkkkkkkkkkkkk', 'womenonb', 'lacava', 'adegalacava', 'adegaclimatizada', 'adegapersonalizada', 'adegaspersonalizadas', 'adegacomercial', 'lacavaadegas', 'filantropos', 'institutomol', 'regininhamoraes', 'fundacaoliamariaaguiar', 'capture', 'establishment', 'aparelhamento', 'continuamente', 'carj', 'reves', 'movida', 'pleiteou', 'considerasse', 'estipulado', 'relatados', 'comunicados', 'colorida', 'posando', 'diretorpresidente', 'valcemiro', 'letreiro', 'assessorbanker', 'sm', 'aguentam', 'reveja', 'knowhow', 'assertivos', 'diferencia', 'arriscadas', 'incorrer', 'apittigliani', 'ceuparaisopolis', 'unilever', 'pernambucanas', 'bicbrasiloficial', 'motorolabr', 'synergiasocioambiental', 'sakuraalimentos', 'fujifilmbr', 'portaldosorriso', 'atenciosos', 'estruturados', 'produtosfinanceiros', 'planejamentosucessorio', 'planejamentopatrimonial', 'planejamentopatrimonialesucessorio', 'empresafamiliar', 'direitoempresarial', 'voleio', 'punho', 'luizavaldetaro', 'ctmoskabeachtennis', 'praiadoleblon', 'ademiconrio', 'riodesignleblon', 'mormaibeachtennis', 'itfbeachtennis', 'trackandfield', 'bodytech', 'araujods', 'confeitaria', 'cabeleireiro', 'wemind', 'historiasconectam', 'bemestarfinanceiro', 'planejamentodevida', 'autocuidado', 'sejawemind', 'chamo', 'centrado', 'criteriosas', 'construi', 'almejei', 'disto', 'abstem', 'preconceituosos', 'recreativo', 'alienados', 'estudem', 'negacionista', 'educados', 'retrogrados', 'educando', 'erroneamente', 'esclerose', 'fibromialgia', 'canceraliviando', 'autoimunes', 'afloram', 'julgando', 'jdos', 'timberland', 'organizacion', 'ambientalista', 'ganaron', 'colaboracion', 'restaurar', 'bosques', 'naturales', 'publicacion', 'madereras', 'sostenibles', 'inversionistas', 'institucionales', 'division', 'arlington', 'virginia', 'trabaja', 'detectar', 'asegurar', 'naturaleza', 'biodiversidad', 'vehiculo', 'generar', 'rendimientos', 'desplegar', 'asesor', 'monitoreo', 'conservacion', 'restauracion', 'disminucioncarteravencida', 'solucionesempresariales', 'cobranza', 'cobranzaefectiva', 'cobranzaju', 'relembrando', 'zootecnia', 'preocupante', 'luenysm', 'julioalbieri', 'ipedroaraujo', 'flaviannyguimaraes', 'cura', 'milagrosa', 'taxatividade', 'resp', 'taxativo', 'operadorasseguradoras', 'obrigadas', 'condicionados', 'segurados', 'xv', 'institutosdeprevidencia', 'aposentado', 'pensionista', 'servidorpublico', 'previdenciasocial', 'terceiraidade', 'congressoprevidenciario', 'buziosrj', 'congressoaepremerj', 'fecormercio', 'rejeitou', 'visava', 'cogitada', 'ponderou', 'desaconselhou', 'capturar', 'compativel', 'vantajosos', 'fundosimob', 'imediatistas', 'exigentes', 'demaisonde', 'invisiveis', 'entenderem', 'dominar', 'encarando', 'listar', 'socorrem', 'emocionar', 'petro', 'embarquei', 'gpini', 'danielesebastiani', 'marconesouza', 'cbav', 'igti', 'dominam', 'raquetinha', 'comidas', 'tipicas', 'juninas', 'tenisclubedesantos', 'crendo', 'patriotaenxerga', 'umbigo', 'financeiromas', 'sobedesce', 'urizzi', 'solteira', 'rapadura', 'convocacoes', 'concursos', 'chilibeans', 'mcdonalds', 'facebookbr', 'pepsibr', 'dispositivo', 'materna', 'viajie', 'importei', 'viajeieimporteioficial', 'saraurizzi', 'terapeuta', 'geanterapeuta', 'delongas', 'relator', 'requisito', 'contemporaneas', 'associativos', 'itatiaiaoficial', 'ey', 'prestarao', 'atleticomg', 'leram', 'caligula', 'alckmin', 'sobrinho', 'derreteram', 'distorcidas', 'gravo', 'ruido', 'calibre', 'encara', 'jun', 'documentacoes', 'acessados', 'fbceffffcapdf', 'bcceebcacababdpdf', 'abfecceaecapdf', 'bfdadddffceapdf', 'challenger', 'ccdcbabeafcpdf', 'anf', 'luxbridge', 'ie', 'efcbbdaebbpdf', 'manoella', 'carvalhal', 'zeitune', 'venancio', 'nucci', 'walther', 'kaick', 'carius', 'chapman', 'lord', 'caretino', 'ruy', 'logan', 'abintercar', 'deva', 'esquecem', 'colhido', 'plante', 'recarregar', 'manchete', 'bemsucedida', 'austria', 'certificadas', 'employeru', 'converge', 'aderiram', 'ensinoepesquisaeinstein', 'wegelectric', 'faculdadexpeducacao', 'embraer', 'emprega', 'blaidi', 'santanna', 'linknabio', 'educacaoprofissional', 'educacaocorporativa', 'bbpac', 'distribuicaoo', 'continentes', 'medellin', 'barranquila', 'buenos', 'aires', 'atlanta', 'stamford', 'httpribtgpactualcom', 'mzgroup', 'capitalmarket', 'stockexchange', 'empoweringir', 'role', 'plays', 'embasamento', 'desafiadoras', 'somosecos', 'prevenir', 'prejudique', 'beneficiario', 'protegidos', 'falecimento', 'graves', 'avalie', 'else', 'excited', 'usina', 'transformalos', 'usinalins', 'creditoverde', 'programasemear', 'teamtrader', 'alagoas', 'bolsolao', 'tratores', 'refinaria', 'zapzap', 'tia', 'credores', 'substitui', 'exigido', 'alega', 'habilitacoes', 'amortece', 'dontstophacking', 'recrutamentotech', 'techrecruitment', 'employerbranding', 'guilhotina', 'ditamento', 'pagasse', 'gravissimo', 'editar', 'enrolando', 'macho', 'requinte', 'inegociavel', 'vivenciala', 'georgiannifreitasinvest', 'assistentes', 'karol', 'tamararocham', 'djpettrus', 'assessoriaecerimonialdeeventos', 'brq', 'ferasbrq', 'somosferas', 'analistadetestes', 'qa', 'qualityassurance', 'tester', 'programadora', 'testesautomatizados', 'didatico', 'sunofia', 'fabiofmd', 'dudosanjos', 'aproveitarmos', 'futuras', 'surgir', 'lotarem', 'posicionam', 'considerase', 'capitaneado', 'perfeitos', 'aperfeicoaram', 'proveito', 'upabra', 'jacob', 'indie', 'fabietti', 'finacapcombr', 'fundodeacoes', 'gigoia', 'isc', 'nucleoilhadagigoia', 'projetoincentivado', 'ministeriodoesporte', 'skate', 'skatecuida', 'custodios', 'asociados', 'articuladores', 'promotores', 'ahorro', 'generamos', 'confianza', 'solucionada', 'troxa', 'varzea', 'organizadas', 'mutirao', 'filas', 'quilometricas', 'integralizando', 'divididos', 'lindaaaa', 'desnaturada', 'aventuras', 'radiantes', 'merecedora', 'desligar', 'abencoando', 'presas', 'irretocavel', 'gravei', 'pssara', 'milhareis', 'capixababjo', 'sabias', 'orgulhar', 'muitoooooo', 'tudoo', 'suafoi', 'verdadede', 'naos', 'gorda', 'devolva', 'autoinvest', 'abusa', 'atormentar', 'plaforma', 'motoboy', 'chateada', 'consultora', 'consignados', 'adiantando', 'iniciaria', 'atrasar', 'decepcionante', 'priorizei', 'retido', 'falacia', 'relato', 'generica', 'enrolada', 'administrasse', 'considerome', 'discernimento', 'liability', 'ressarcido', 'grosseiro', 'fiskare', 'fornecerem', 'prometido', 'enquadro', 'isencoes', 'teston', 'societarios', 'rodadadeinvestimento', 'operacoessocietarias', 'aplicavel', 'securitarios', 'agravar', 'cimaaa', 'inspiracomo', 'admiroseu', 'estoria', 'lindaparabens', 'emocionam', 'graduouse', 'purdue', 'proclamo', 'abencoado', 'annanikolg', 'lov', 'amordemae', 'familiaprojetodedeus', 'arrebentenoinsta', 'revolucionainstagram', 'financascomportamentais', 'lifeinsurance', 'promissores', 'pvianna', 'rizaasset', 'gamhamos', 'httpswwwamgcapitalcombrblogdicasresenhadolivroinvestimentosumlivrodesegredoseconselhos', 'mediu', 'invistasemmedo', 'educadorfinanceiro', 'mudabrasil', 'assiras', 'normalizando', 'travados', 'desentendimentos', 'provia', 'kucoin', 'huobi', 'gateway', 'incentivou', 'sacarem', 'pp', 'livecoins', 'retomando', 'parados', 'esclareci', 'bobo', 'tracei', 'contos', 'famira', 'aguentem', 'professormira', 'mepoupenaweb', 'minhacarteiranumero', 'epicos', 'muuuito', 'emergencias', 'utilizala', 'amaria', 'concetrar', 'silenciadas', 'dedicadas', 'absoluta', 'contablack', 'vambora', 'knobel', 'israelita', 'juventude', 'novissimo', 'crmnoo', 'vese', 'precisos', 'ergonomia', 'fluida', 'distracoes', 'climatizacao', 'planejados', 'acustico', 'impedindo', 'vazem', 'externamente', 'valorizada', 'surgidas', 'consonancia', 'tecnologicamente', 'laptops', 'affff', 'denovo', 'pfr', 'miamifl', 'andbankbrasil', 'azulinhasaereas', 'neoinvestimentos', 'schrodersglobal', 'avenuesecurities', 'portogallofamilyoffice', 'talergestaodepatrimonio', 'apexinvestimentos', 'betamindrh', 'majorisinvestimentos', 'modabagoficial', 'pratapolo', 'penedoborges', 'panambycapital', 'womeninvest', 'contramao', 'paralisa', 'curtiurs', 'punidos', 'motorista', 'impunidade', 'possuia', 'alegam', 'configuracao', 'envios', 'insistente', 'falhou', 'favoreceu', 'destruiram', 'minh', 'cagadas', 'ferram', 'cessando', 'desmotivar', 'agarrada', 'paguem', 'almejam', 'resgatada', 'etaria', 'preestabelecidas', 'preestabelecido', 'formem', 'consultorfinanceiro', 'flor', 'apanhala', 'perfume', 'cheiro', 'frescor', 'delicadeza', 'petalas', 'macias', 'rds', 'babado', 'devolveu', 'assumem', 'naoa', 'indique', 'dispensavel', 'marcilio', 'bandidagem', 'eleitoreira', 'xy', 'kskskskskd', 'jumentinho', 'bolsominion', 'xxxyproximo', 'disponibilizarao', 'vistatermo', 'disruptiva', 'hr', 'rh', 'olhasse', 'pras', 'agilizem', 'nascendo', 'tche', 'tchebrasilltda', 'interessam', 'guarda', 'sidney', 'liberem', 'cansada', 'inscrita', 'hago', 'ninguna', 'razon', 'verdad', 'dicha', 'buenas', 'merecen', 'negare', 'celoso', 'trabajo', 'habilidad', 'orgullosa', 'necesitamos', 'restaurantes', 'bares', 'famosas', 'padariasno', 'jesuino', 'pensavamos', 'metro', 'quadrado', 'surgiram', 'belissimas', 'exploradas', 'gastronomico', 'quadrasbeachtennis', 'itaimbibi', 'riscando', 'porsches', 'maritima', 'rasgando', 'oceanos', 'transportando', 'emirados', 'baleias', 'piratas', 'golfo', 'persico', 'comemorativas', 'navio', 'chegasse', 'descarregar', 'mantimentos', 'confinados', 'embarcado', 'desembarquei', 'odisseia', 'seguiam', 'postava', 'influenciei', 'tooooope', 'late', 'may', 'drink', 'conglomerate', 'announced', 'acquisition', 'sells', 'organic', 'suplements', 'cosmetics', 'assisted', 'transaction', 'advised', 'ptbr', 'organicos', 'cosmeticos', 'assessorou', 'assessoraram', 'btgmodel', 'smile', 'pose', 'model', 'beauty', 'blogueira', 'blogger', 'followme', 'liketime', 'emprestando', 'emprestado', 'malandragem', 'sacada', 'exist', 'prioriza', 'progride', 'vlm', 'spam', 'respondidos', 'jajannemattos', 'janematos', 'mulhernomercadofinanceiro', 'aconselharia', 'honesta', 'jabour', 'chapeu', 'vert', 'otimiza', 'despesa', 'causara', 'estimada', 'caix', 'claudiaonline', 'rolaram', 'pulo', 'paridade', 'trechinho', 'daianedossantos', 'vidafinanceira', 'prazeirosas', 'denuncie', 'wesley', 'silas', 'ligarmos', 'contentes', 'retornara', 'perguntamos', 'gricel', 'bobsantoscom', 'sibely', 'definitivo', 'reanalises', 'novinha', 'flavioaugusto', 'paineiso', 'veracidade', 'miguel', 'helder', 'consolidada', 'winkler', 'fontedafortuna', 'pendencias', 'leigo', 'efetuou', 'pagamentosabado', 'cairia', 'bondoso', 'rezaremos', 'resistimos', 'humanitario', 'dayoneproducoes', 'bhcenografia', 'ceno', 'cenografiadeeventos', 'cenografiacorporativa', 'marcenaria', 'httpsamginvestimentosbtgtalkslive', 'btgtlaks', 'fasso', 'reequilibrar', 'sofrimentos', 'fundodegarantia', 'equilibriofinanceiro', 'sugar', 'daddy', 'solicitam', 'parceriaprestacao', 'progredir', 'conhecermos', 'sociafundadora', 'noba', 'nap', 'vpu', 'custom', 'aloooo', 'vejp', 'yengo', 'intrressa', 'ondustroa', 'infos', 'ppr', 'desconfiado', 'latinoamericana', 'caribenha', 'realizaremos', 'ciranda', 'sociocultural', 'mobilizar', 'igualitaria', 'antirracistas', 'ciclica', 'paralelamente', 'trocariam', 'oferecesse', 'tecnologiablockchain', 'mercadopago', 'pagbank', 'narnia', 'reparcelar', 'sentidos', 'botafogo', 'intimos', 'severa', 'organizaram', 'inscrito', 'oiii', 'rastrear', 'lisonjeado', 'inimigos', 'convencidos', 'furia', 'proteja', 'apliquei', 'nonbank', 'marciaischneidercom', 'embrionaria', 'unb', 'pioneira', 'nanotecnologia', 'alimentares', 'fitoterapicos', 'candidatar', 'nanomolecular', 'tania', 'fumo', 'placebrasil', 'indiferenca', 'oracao', 'vei', 'scatalo', 'integradores', 'fones', 'financiamentohabitacional', 'luminariasdecorativas', 'casapropria', 'caixaeconomicafederal', 'energiafotovoltaica', 'projetoinovador', 'engenhariaeletrica', 'financiamentoenergiasolar', 'aneel', 'aumentodeenergia', 'pesado', 'poluido', 'ray', 'dalio', 'classifica', 'servem', 'provera', 'similares', 'forcar', 'ocorram', 'diagnostique', 'aparecerem', 'aperfeicoados', 'audaciosas', 'falharmos', 'repetirmos', 'modus', 'operandi', 'fracassar', 'diagnosticar', 'redesenhar', 'httpswwwamgcapitalcombrblogdicasresenhadolivroprincipiosraydalio', 'acionando', 'juridicos', 'spoten', 'reservar', 'soujorgeoliveira', 'turbinar', 'chip', 'revendedor', 'aracajusalvador', 'aparelhos', 'novoslacrados', 'macbookair', 'macbookairm', 'ipadaracaju', 'applearacaju', 'ipad', 'diadospais', 'diadospaischegando', 'itabaiana', 'cumplice', 'larapio', 'noutro', 'flui', 'capellato', 'fixadas', 'remuneracoes', 'amortizacoes', 'securitizadoras', 'parecidos', 'requerimento', 'autem', 'esperados', 'pico', 'oposta', 'desenhado', 'atinja', 'acelerou', 'destoando', 'persistentes', 'habitacao', 'qualitativo', 'disseminado', 'mwndar', 'envestimento', 'indicativos', 'cartada', 'sorry', 'transferirvia', 'rosado', 'benfatti', 'entrear', 'detalh', 'motorsp', 'adiciona', 'puc', 'docente', 'napucminas', 'iecpucminas', 'vianaassis', 'apolocferreira', 'ricmedicidrubscky', 'leolima', 'biondifernando', 'adrianasole', 'alexandrelpinheiro', 'bancobdmg', 'bancosemear', 'vermontinvestimentos', 'inverteu', 'tiv', 'temerario', 'inexperientes', 'banana', 'imprimi', 'assinei', 'negativado', 'alertado', 'preaprovado', 'rmil', 'ooi', 'desejariam', 'avalista', 'bezzos', 'serviria', 'passem', 'renangaldino', 'brasilempresario', 'emergenciais', 'descapitalizar', 'garantidas', 'lig', 'permitidos', 'promissorias', 'creditorios', 'fip', 'anunciadas', 'weccast', 'gates', 'perdera', 'diferencie', 'prisioneiro', 'neruda', 'arbitrio', 'comcertezs', 'conversei', 'curtam', 'compartilhem', 'sociedades', 'vigiladas', 'sfcsupervisor', 'prestan', 'esos', 'dependiendo', 'conozcalos', 'acompanhadas', 'adri', 'tamarozzi', 'despedir', 'apaixonei', 'inseridos', 'dri', 'engrandecem', 'visitante', 'corporacao', 'arquitetonicos', 'oferecam', 'visuais', 'bassetti', 'romulo', 'fialdini', 'trench', 'watanabe', 'perkinsandwil', 'httpswwwamgcapitalcombrblogdicassaibaoqueereservadeemergenciaflutuanteecomoutilizala', 'transporte', 'passageiros', 'airbnb', 'demonstracao', 'mapeado', 'ari', 'comeram', 'canaloff', 'pvbi', 'esperem', 'mudarem', 'mudem', 'ecm', 'lineas', 'articulan', 'principales', 'sector', 'encostar', 'endossando', 'temores', 'mf', 'entrara', 'fita', 'beachtennissorocaba', 'cortar', 'abusado', 'debochava', 'lucram', 'comprinhas', 'assustadora', 'desconexao', 'nutriu', 'deteriora', 'varejista', 'dogma', 'afundou', 'semiescrava', 'precarizacao', 'mentalid', 'tornamos', 'eventao', 'insuportavel', 'entrepreneurship', 'empreendedore', 'queeroo', 'volateisnos', 'procurem', 'notificam', 'detectado', 'ottogspareeberg', 'plus', 'avg', 'andressa', 'meninaaa', 'complexidade', 'laje', 'denominado', 'entreforro', 'hidraulica', 'arcondicionado', 'implicando', 'compatibilizado', 'trabalhadas', 'amplitude', 'multifuncional', 'esteticas', 'luminotecnicas', 'exploramos', 'amadeirados', 'drywall', 'acusticos', 'douglas', 'tolaine', 'quadriculado', 'ripado', 'mineral', 'placa', 'vidal', 'pompeo', 'impecam', 'tiagoasilvaoficial', 'pontape', 'recemformado', 'agronomia', 'engenharias', 'desenvolva', 'pingar', 'xpin', 'jeh', 'recebela', 'precoalvo', 'hummel', 'cxbrinvestimentos', 'vitalemarcos', 'portopar', 'analopesinveste', 'fluzaooo', 'invadir', 'preparatorio', 'modelagem', 'reforco', 'consequentes', 'concretizaram', 'assinaram', 'encaminhamento', 'restricao', 'subimos', 'vislumbrar', 'projeta', 'abrirmos', 'neeeense', 'baguncaaaa', 'titio', 'fechem', 'vemmmmmmm', 'qr', 'fluzaun', 'existira', 'colocarem', 'fluminese', 'nensee', 'neeeennseeee', 'flusao', 'veemmmmmmmm', 'fluzaaaaaaaao', 'seleflu', 'cadastros', 'nenseeeeee', 'fluuuuuuminense', 'fluuufluuu', 'vascaino', 'maiiiis', 'carajo', 'fluuuuuuuuu', 'pixxxxx', 'nenssseeee', 'cntg', 'estareeeeeiiiiii', 'apresentava', 'organico', 'indexada', 'aval', 'pmts', 'prestacoes', 'lineage', 'logistics', 'reit', 'rsuperam', 'cubicos', 'pallet', 'hosken', 'incorporadora', 'fu', 'obtenho', 'nanico', 'akakakkakakaka', 'obsem', 'escolares', 'conseguiriam', 'salvem', 'focaremos', 'conduzida', 'endividar', 'fpu', 'comunicacaodecausas', 'assessoriadeimprensa', 'clientesdeproposito', 'colabapp', 'painelistas', 'adivinhar', 'gaiamais', 'classes', 'acelere', 'conquistarem', 'fortalecerem', 'ampliarem', 'trabalhados', 'flowpage', 'httpsconteudoasidbrasilorgbrbtgsomadiversidade', 'portadora', 'dc', 'cronica', 'turbilhao', 'cotada', 'respeiram', 'ommomento', 'atravessanso', 'destespeitosos', 'caralho', 'fluuuuuuuu', 'fluminensr', 'fc', 'revoltado', 'porraaaaa', 'citigroup', 'bofa', 'trump', 'muitoooo', 'nuncanuncanunca', 'atrasada', 'avisoooooo', 'formaaaa', 'inexplicavel', 'caiupra', 'seriooooo', 'vergonhaa', 'diassss', 'viola', 'sancao', 'alargado', 'creditoverifiquem', 'veram', 'diaaaaaaaaaa', 'amava', 'bancoagora', 'nda', 'competitivas', 'disponibilizei', 'diret', 'parcelei', 'revoltada', 'catao', 'resultarao', 'inbrads', 'metlife', 'multipatrocinados', 'equi', 'theres', 'rather', 'cambui', 'cofrinho', 'acumuladas', 'aceitariam', 'limitar', 'limitacao', 'wwwbcbgovbrcedulasemoedasmoedas', 'credenciais', 'primesetoficial', 'cordoes', 'personalizados', 'feiraseeventos', 'cordaopersonalizado', 'primesetcordao', 'cordaoparacracha', 'cordaoparacrachapersonalizado', 'enfiando', 'pendurada', 'amorosino', 'maluhy', 'mauacapital', 'remunera', 'totalizava', 'renunciado', 'armadura', 'forexmoney', 'aaicnpitraderbrasil', 'tradingforex', 'tradinglifestyle', 'cititrader', 'cidadaopromundo', 'tranferir', 'suspeitos', 'novossc', 'separacao', 'protegem', 'hospitalares', 'internado', 'afastado', 'gestaoderiscos', 'btgadvisors', 'mesago', 'perpetuar', 'vulneraveis', 'indispensaveis', 'wwwinstitutotiagocamiloorgbr', 'almeriaresto', 'reducoes', 'achavamos', 'bonitas', 'compro', 'economiaenegocios', 'nucleorenangaldino', 'tactical', 'bonds', 'wit', 'revistawit', 'jornaloceleiro', 'combater', 'wwwbtgpactualcominvestmentbank', 'umavez', 'feedbacks', 'fluuuzaao', 'cocriadora', 'eleitas', 'continuada', 'orlando', 'tevaindices', 'prepararam', 'beneficiam', 'traderiniciante', 'expoagrogoiatuba', 'esclarecendo', 'mercadoindependente', 'perguntado', 'prevalece', 'barganhas', 'relatos', 'negativar', 'iludam', 'brincam', 'cooperativo', 'fabrica', 'necessitamos', 'odontologico', 'formidavel', 'investimentospessoajuridica', 'investimentospessoafisica', 'sinimplantsysyem', 'nuestros', 'julio', 'manifestamos', 'apoyo', 'adhesion', 'declaracion', 'responsable', 'desarrollosostenible', 'inversionresponsable', 'objetivosdedesarrollosostenible', 'copiando', 'apicoloto', 'saadtemer', 'primeservlog', 'negociosemexpansao', 'morrendo', 'tudinho', 'elancobrasil', 'agrarias', 'topa', 'aquecer', 'caraiii', 'isaquedesouzza', 'cursar', 'cursando', 'anapolis', 'qro', 'selecionaram', 'reuniriam', 'donacoelha', 'paraazer', 'regua', 'orgasmos', 'coelha', 'mozao', 'renandepaula', 'cadastrando', 'capitaneada', 'prestigiando', 'irio', 'inconscientemente', 'lutei', 'officeboy', 'transformadora', 'plasticos', 'pvc', 'contrucao', 'irrigacao', 'desejava', 'ledwave', 'recomecei', 'tropecos', 'supremo', 'equilibra', 'profiss', 'pelada', 'guidof', 'facao', 'rsilva', 'whelan', 'vilain', 'revigora', 'conhecelo', 'erichdecat', 'dcunha', 'saviobarbosa', 'cenarioglobal', 'inovador', 'prosperam', 'rincoes', 'demonstrativos', 'mana', 'cacnogueira', 'ek', 'dinamicos', 'comandada', 'designer', 'grife', 'adriane', 'jesusmeudeus', 'elenca', 'nocaminhodobem', 'redfoxtech', 'imparaveis', 'pla', 'augola', 'toki', 'barolandia', 'plemio', 'caopeao', 'juscelino', 'kubitschek', 'gudeagenciagude', 'pactualbtgpactual', 'sbsomluz', 'seguites', 'sub', 'eas', 'console', 'cl', 'microfones', 'urd', 'sorporation', 'brandexperience', 'ippon', 'dentzoficial', 'classificada', 'odontologia', 'dentz', 'franqueados', 'dentistas', 'cofundadores', 'felipeprandinite', 'carloseduardoallegretti', 'citadas', 'aparecemos', 'rankeados', 'sustentacao', 'feliznapris', 'missed', 'dressed', 'overalls', 'trouxeinha', 'promessa', 'movimentada', 'memories', 'negociosdamoda', 'plural', 'interativo', 'erich', 'decat', 'moderador', 'orgulhosas', 'arana', 'tona', 'muitissimo', 'wwwwomeninvestsummitcombr', 'andershartington', 'evidenciando', 'frictionless', 'sauterdigital', 'clientenobrepress', 'entiada', 'atrapalharam', 'desbloqueou', 'silvaferreira', 'ginasta', 'amada', 'valorizo', 'winedoc', 'lisadossi', 'menuharmonizado', 'vinhoecomida', 'winebusiness', 'sommelierdevinho', 'vinhobrasileiro', 'vinhotinto', 'vinhobranco', 'serviu', 'maiscafe', 'garemarques', 'alanparise', 'hilstonguerim', 'intermediadoras', 'guardam', 'criptos', 'usalas', 'dogecoin', 'doge', 'solana', 'supervisionadas', 'ilegais', 'fogem', 'cobradas', 'guardara', 'dinheiroextra', 'desrespeitosos', 'desumanos', 'patologia', 'oxiiiii', 'pedal', 'abqm', 'beautiful', 'cowgirl', 'picoftheday', 'cute', 'xpeedschool', 'casais', 'gravidez', 'quantificacao', 'mauabank', 'contabilidadeat', 'imoveisflutuantes', 'encaixa', 'literaciafinanceira', 'vidacentrodefertilidade', 'fiv', 'negociosemsaude', 'infertilidade', 'securitario', 'rodrigozmelo', 'afiar', 'senacpb', 'matheusmullersp', 'lucassacavalcanti', 'bbtg', 'lullaprocede', 'nojentas', 'adoram', 'solto', 'euromonitorintl', 'afffffff', 'seifoi', 'encaminhado', 'concedida', 'oncoguiaoncofriendsamigosdaquimiodefesadireitodosidosos', 'desrespeitam', 'cronicos', 'wiseaad', 'perversa', 'tapete', 'citado', 'bo', 'notificou', 'desrespeitosa', 'turbulento', 'treidando', 'fixacurva', 'precifica', 'antever', 'atendelo', 'mercadfinanceiro', 'alphaville', 'unentelbr', 'aprimorado', 'adl', 'fy', 'bombas', 'incautos', 'sininho', 'mentirem', 'rocco', 'soltou', 'cindy', 'bandana', 'sibara', 'balneario', 'camboriu', 'adair', 'naspolini', 'chede', 'congelado', 'fazelo', 'vendida', 'valorize', 'subramanian', 'kuppuswami', 'tata', 'consultancy', 'eugenia', 'buosi', 'resultante', 'desnecessaria', 'emprestar', 'camaras', 'fazendeiro', 'suspenderam', 'ineficacia', 'verificada', 'repr', 'evangelista', 'criadora', 'plr', 'leila', 'nemes', 'regional', 'yacoub', 'salviato', 'livepodcast', 'falabancario', 'kellyevangelista', 'dizeme', 'careful', 'captados', 'conivente', 'treta', 'mascara', 'caracas', 'compactuam', 'pronunciarem', 'cantando', 'babando', 'haaaai', 'sacramento', 'marianasacramento', 'magro', 'proa', 'alinidalmagro', 'institutoproa', 'manifestemse', 'desabafo', 'memesbrasil', 'impunes', 'entenderia', 'softexpert', 'alusao', 'temidos', 'tourinho', 'notoriedade', 'dinamismo', 'simbolos', 'representativos', 'domar', 'indominavel', 'bullish', 'preciosa', 'lulistas', 'desmontam', 'fundacaolemann', 'desistindo', 'abandonados', 'baldes', 'httpswwwamgcapitalcombrbloginvestimentoscomoorganizarseuorcamentocomateoriadosbaldes', 'bacanas', 'mailson', 'aplicativoaguardo', 'antecipadas', 'tardar', 'mesmooooo', 'dievili', 'manipulando', 'ginastica', 'jefferson', 'tauansmatos', 'diogobzz', 'reprogramarem', 'azulviagens', 'thisisbillgates', 'sortudo', 'desponta', 'elaborada', 'cnae', 'medicalsanbr', 'cenaefcee', 'valoresdors', 'estrelars', 'chateando', 'aprovam', 'analisam', 'tantan', 'masterclass', 'presidi', 'incluem', 'implora', 'jantares', 'carissimos', 'assentados', 'hipocrita', 'pouquissimas', 'bot', 'edraposooficial', 'edraposo', 'indevidamente', 'supostamente', 'taken', 'avaaraujo', 'depicts', 'farialimer', 'sandracanellas', 'proaltooficial', 'flsports', 'adelbrasfitasadesivas', 'demarchioficial', 'ciepbrasil', 'alfalog', 'sportlifevin', 'cameraftv', 'ftv', 'futevoleivinhedo', 'lesados', 'pensao', 'cro', 'demoday', 'mola', 'corbans', 'molacorban', 'confirmo', 'certissima', 'dividendosrendimentos', 'misturados', 'historiador', 'exemplifica', 'similar', 'juracimoreira', 'netopixel', 'proporcionada', 'extenista', 'saretta', 'arcahorginvestimento', 'silenciar', 'endeavor', 'unicoidtech', 'meukovi', 'classificadas', 'scaleups', 'reconhecidas', 'learningvillagebr', 'roteiro', 'mei', 'diaaaaa', 'olhem', 'mtaaaa', 'risadaaaaa', 'boraaaaaa', 'jahcuida', 'thekingiscoming', 'buka', 'esperto', 'cana', 'idpgo', 'gira', 'assertivo', 'sentiram', 'consolidados', 'convictos', 'damiaosalves', 'jhonnfischer', 'jadersateles', 'escandalo', 'tradersclub', 'assessoriadeinvestimentoscg', 'exatleta', 'aproximam', 'relaxar', 'divertir', 'noutra', 'bichiii', 'aumiguinha', 'panqueca', 'myntegration', 'gustavoborges', 'reconecton', 'gesto', 'rosangelawmoro', 'joseneumannepinto', 'oancelmogois', 'agazetaes', 'grupoatarde', 'vitalidade', 'atraem', 'teorico', 'lho', 'saaaaa', 'haiti', 'mdbmulhersaopaulo', 'psolrj', 'oabsantacatarina', 'bloombergbrasil', 'efetivos', 'foyer', 'somosinsper', 'feiradecarreiras', 'feiradestagios', 'esverdeado', 'lese', 'contruindo', 'blocos', 'logos', 'opcional', 'incomodar', 'carteirarecomendadabtg', 'vish', 'familiarizadas', 'medicinais', 'usos', 'limita', 'sechat', 'mercadoglobal', 'futurodacannabis', 'greccomarcelo', 'thegreenhub', 'vertua', 'inspirado', 'rbrp', 'somarmos', 'porcentagens', 'assetstrategy', 'academico', 'fabriciomaniglia', 'nobres', 'maniglia', 'kendy', 'toyofuku', 'olhadinha', 'maliciosamente', 'presos', 'bancosdeinvestimento', 'spiritsp', 'estornaram', 'encerram', 'faixapreta', 'wwwwiseaaicombr', 'presentear', 'carteirarecome', 'assistenciais', 'mcd', 'assistencialismo', 'reelsviral', 'fixados', 'posteie', 'jurosselic', 'cirurgia', 'humanamente', 'palestracurso', 'caiam', 'mo', 'corpomas', 'analisesucesso', 'empreendedoresde', 'sinalize', 'cobert', 'hra', 'calado', 'religamento', 'escultor', 'tombada', 'restaurada', 'cidadecriativa', 'totens', 'flags', 'ppp', 'publicoprivada', 'fecomerciorj', 'sescrio', 'senac', 'zonasulsupermercado', 'pensava', 'gestos', 'tocam', 'arrumar', 'justificando', 'ineficiencia', 'baba', 'safado', 'velo', 'tenhe', 'chegare', 'newsun', 'briefings', 'branding', 'landing', 'pages', 'sotwares', 'pixlr', 'adobecreativecloud', 'wordpressdotcom', 'elementor', 'canva', 'wondershare', 'teslamotors', 'insectashoes', 'togetherbandofficial', 'shimadaagro', 'euforia', 'mergulhar', 'furar', 'afirmativas', 'atreladas', 'proatividade', 'revistapoder', 'poderonline', 'glamurama', 'joycepascowitch', 'miriansalomao', 'copia', 'gravou', 'tevisa', 'linhares', 'pch', 'povoacao', 'tropicalia', 'transmissora', 'ademaisri', 'revogar', 'permitia', 'ocuparem', 'arrendadas', 'pleitear', 'arrendar', 'relatora', 'indeferido', 'celebrada', 'resolvida', 'superficiarios', 'envolvia', 'coktail', 'privativo', 'consultoriapascalvalero', 'erickdomenico', 'romulogiponi', 'rucoutinho', 'seriamos', 'anotei', 'combustiveisentre', 'melhorariam', 'propos', 'patrimoni', 'stelleotolda', 'mercadofinaceiro', 'chimamanda', 'adichie', 'serrana', 'awcapital', 'editoraleader', 'coautoras', 'alecavalcante', 'alea', 'fiszpan', 'abelins', 'rafaela', 'danzi', 'manzi', 'marisa', 'liderancafeminina', 'diversidadeeinclusao', 'leader', 'mulheresquetransformam', 'madrugada', 'esperei', 'canabi', 'lenta', 'chic', 'estabeleca', 'estreita', 'expresso', 'abencoados', 'alcancala', 'compromete', 'suspende', 'explicito', 'avaliem', 'questionou', 'gonzalez', 'lembrou', 'instru', 'renunciou', 'peugeot', 'desinvestimento', 'liquidado', 'conduzidas', 'evitandose', 'separadas', 'creditar', 'bvaz', 'dornas', 'jorgemeireles', 'sindicatoruraldeluziania', 'armandorollemberg', 'manoeldecastrojunior', 'j', 'claudiacastrooliveira', 'oclneto', 'carolhaf', 'fda', 'sonhava', 'dolorido', 'guias', 'graficasantaluziabsb', 'mesaposta', 'andreahomedecor', 'filipe', 'stopada', 'motocicletas', 'godistribuicao', 'capacitando', 'senarbrasil', 'engnylloherculy', 'sindicatoruraldecabeceiras', 'ifaggo', 'sebraegoias', 'agrobayerbrasil', 'nissanbrasil', 'gruposagaoficial', 'senargo', 'desnecessarios', 'atedimento', 'divirta', 'dizrepresentam', 'comunhao', 'industriais', 'revertida', 'investimentoemfundolmobiliario', 'fundolmobiliario', 'seumelhorativo', 'incetivo', 'apresente', 'noturnos', 'usarem', 'atualizamos', 'olucasmagalhaes', 'salva', 'resumodfii', 'meudinheiroativo', 'rect', 'intencionada', 'ignorante', 'prorrogadas', 'persiste', 'desempenhos', 'resgates', 'atratividade', 'azquest', 'opportunitygestora', 'fundosdejulho', 'huahuahuahua', 'cansam', 'fechadocombolsonaro', 'abrangente', 'cardia', 'passarelli', 'mccardell', 'parreira', 'delgado', 'fresneda', 'bistro', 'pascal', 'valero', 'inguedeswetrust', 'xd', 'afff', 'chamariz', 'faloue', 'bolsonaaaaro', 'seloko', 'palanque', 'celebridadeciro', 'paulinho', 'tirador', 'salada', 'maca', 'founding', 'debevoiseandplimptonucl', 'doutor', 'carlosportugalgouvea', 'due', 'diligence', 'petri', 'conjugando', 'complianceantidiscriminatorio', 'publiquei', 'revistadostribunais', 'fusoeseaquisicoes', 'duediligence', 'advocaciaempresarial', 'ferrando', 'afundando', 'desculpem', 'asco', 'conveniencia', 'conchavos', 'interessaria', 'desprovido', 'aiiii', 'aguns', 'vivia', 'pasta', 'assalariado', 'botei', 'enganaca', 'incerta', 'reaceleracao', 'valeminerio', 'ferro', 'exposta', 'corretoradevalores', 'consideracoes', 'pesquise', 'confrontar', 'httpsseveninvestormacrodaylive', 'voaprosperidade', 'chamarem', 'aquisitivo', 'implementado', 'verificarmos', 'envestir', 'virando', 'anita', 'normally', 'comment', 'felt', 'compelled', 'add', 'thousands', 'benefited', 'generosity', 'precious', 'few', 'genuinely', 'industry', 'blessing', 'folhadelondrina', 'marcosmontescordeiro', 'uniaobrasildf', 'uniaobrasilpr', 'uniaobrasilmulheroficial', 'uniaobrasilmt', 'pdtdiretorioestadualsp', 'tvgazetaes', 'colocalo', 'httpwwwmacrodaylive', 'salesman', 'achismo', 'confrades', 'inigualavel', 'onibus', 'apurado', 'acatasse', 'peticao', 'mostrasse', 'clausula', 'fixo', 'fundoimob', 'filiar', 'odeia', 'automatizado', 'ilimitado', 'psicologos', 'criptonizandocom', 'toros', 'ibiuna', 'argumentam', 'vardan', 'papikyanunsplash', 'arranjos', 'casaperlage', 'mentiria', 'vempraplantare', 'drops', 'colete', 'fl', 'jetsons', 'desnecessarias', 'facamos', 'fabriciostagliano', 'pedroalxmoreira', 'respira', 'relacional', 'permear', 'afirmo', 'serena', 'inovaacao', 'inovacdl', 'abordarao', 'elegiveis', 'comprovavel', 'estatuto', 'atestar', 'minoritarios', 'lgbtq', 'paletas', 'piorcorretora', 'assistio', 'bomja', 'maisbora', 'lindeza', 'hrsrsnao', 'bigio', 'porciuncula', 'sinaliza', 'grexplodeoriginal', 'feiradamusicagr', 'valoeconomico', 'leandrocastan', 'imaginam', 'castan', 'instantaneos', 'computadores', 'asfaltar', 'libertar', 'simpatia', 'admiralo', 'elcjr', 'akiraedu', 'pauletobarreto', 'avnafl', 'aer', 'appiar', 'agricultores', 'ceiminosos', 'lucur', 'arterias', 'aparencias', 'mencionaram', 'lifetimeanos', 'birthday', 'nunessilvat', 'andressabergamoavg', 'abergamo', 'apoiadoras', 'ilbaristacafes', 'vie', 'rose', 'fazendacapoeiracoffee', 'marisasousacontreras', 'iaminstitutoamoremmechas', 'beneficiada', 'cafecomproposito', 'cancerdemama', 'calibrada', 'arton', 'aproxima', 'desculpar', 'bcs', 'posicionamentos', 'bixo', 'mangoloide', 'resultads', 'adele', 'restinho', 'meireles', 'adotando', 'confiando', 'cannabisironico', 'lambeu', 'legados', 'repeti', 'manipuladas', 'paulistas', 'politicalia', 'infeliz', 'cidadaoo', 'cartilha', 'inapropriadaestou', 'chocolates', 'morram', 'inveja', 'diamante', 'serenata', 'valsa', 'bis', 'ericareisdecalcadecouroparasempre', 'seletivas', 'exatas', 'computacional', 'quantitativos', 'aplicando', 'publicidades', 'necessito', 'geminiana', 'peixes', 'signo', 'ascendente', 'diferentao', 'mica', 'vamosdesenvolverlondrina', 'lembrancas', 'doriana', 'relatando', 'apagado', 'endossam', 'convidaram', 'ptg', 'votem', 'zerando', 'coitada', 'organismo', 'usurpam', 'nojo', 'libre', 'patriotas', 'admiram', 'arrependeu', 'zombou', 'empreendorismo', 'chuta', 'macu', 'denunciado', 'maiorconhecido', 'cy', 'bynda', 'fantoche', 'mandado', 'hagana', 'rodas', 'aprimora', 'guiaderodas', 'combina', 'presencias', 'aproximarse', 'familiarizarse', 'favorece', 'amchambrasil', 'brproperties', 'brookfieldproperties', 'cushman', 'eztec', 'greenbuildingcouncil', 'gtispartners', 'hilton', 'inovabra', 'leroymerlin', 'linkschoolofbusiness', 'netflix', 'opussoftware', 'palaciotangara', 'pepsico', 'saocarlos', 'sky', 'sxnegocios', 'trendmicro', 'vbirealstate', 'wework', 'gaucha', 'construtivo', 'pharoscorp', 'estabelecerem', 'prestado', 'transmite', 'exaltando', 'httppalkccblog', 'contatocc', 'palkhubdenegocios', 'curadoriacomercial', 'gestaopatrimonial', 'mercadofinanceirobrasil', 'caxiasdosulrs', 'concorde', 'faturar', 'corban', 'snowflake', 'raddard', 'ix', 'amolado', 'comentado', 'piorar', 'inquestionavel', 'fechadissimocombolsonaro', 'investday', 'labios', 'culpando', 'digitados', 'cupando', 'justifica', 'buggs', 'comentam', 'escrevem', 'ficalize', 'enforca', 'qamais', 'churrasco', 'retro', 'batucadaboa', 'englobando', 'sanar', 'marcadas', 'transformada', 'comodites', 'custas', 'dicidas', 'cadernetas', 'fechadas', 'desviado', 'presidenre', 'estatizacao', 'responsabilizacao', 'roubo', 'saquearam', 'nadaram', 'mortos', 'esquecidos', 'ntnb', 'ntnbs', 'titulosprivados', 'tesouroipca', 'manchada', 'concretizalos', 'rezem', 'estadaorj', 'jornaldoborisverdade', 'jornalnacionalfc', 'temse', 'desistencia', 'janones', 'indecisos', 'anulariam', 'espontaneo', 'estimulado', 'desaprova', 'segmentacoes', 'httpslbtgpactualcom', 'desinstalei', 'instalei', 'efetivas', 'xtageco', 'sofrer', 'estrondoso', 'seudinheiro', 'ondeinvestir', 'btgzbn', 'dizes', 'adivinha', 'prrcisamos', 'tentanos', 'pa', 'estanos', 'negligenciados', 'rafaeljacobfisio', 'circuitoflagaveadetenis', 'vagabunda', 'roubalos', 'drogariasbigbenoficial', 'lacuna', 'bilionario', 'distrital', 'guararapes', 'farmais', 'carina', 'ben', 'decretada', 'drogarias', 'muuuu', 'retencoes', 'adotada', 'proferiu', 'despacho', 'intimando', 'planilha', 'roque', 'descomplicar', 'omyntouchegou', 'vempramynt', 'nicetomyntyou', 'myntou', 'amer', 'pao', 'padaria', 'acougue', 'drogaria', 'kanchanaraunsplash', 'financialservices', 'digitar', 'itaubba', 'bsebarcelona', 'doutorado', 'terraco', 'terracoeconomico', 'mandamos', 'yale', 'ylainetwork', 'renovabr', 'defenderei', 'privilegios', 'elites', 'tratado', 'httpswwwquero', 'pedaco', 'criptoativo', 'wwwboletimbitcoincom', 'franciscus', 'coceos', 'bomesp', 'especializou', 'sinergias', 'contribuira', 'inovarmos', 'tokens', 'estimam', 'tokenizada', 'retrasada', 'duvidar', 'esconde', 'mentir', 'ogiganteacordou', 'frutifera', 'escolhela', 'srs', 'presidios', 'sindicatos', 'perpetuacao', 'invistadeverdade', 'invistaemconhecimento', 'disfarcada', 'limer', 'lara', 'dispenso', 'exerce', 'falarafffff', 'delss', 'mesgostando', 'habitese', 'leasing', 'compreende', 'abcdm', 'casedesucesso', 'paulobiorealestate', 'parceriasesucesso', 'liderenca', 'extinguido', 'inexistencia', 'procedencia', 'argumentos', 'peticoes', 'concordando', 'averbacoes', 'onus', 'higida', 'comprometeuse', 'formular', 'surpreendente', 'review', 'httpswwwamgcapitalcombrbloginvestimentoscomoseprotegerdainflacaodescubraondeinvestir', 'deben', 'delfosinvestimentos', 'beachtennislover', 'credpago', 'fiador', 'esgotando', 'gruposabemi', 'zitelmann', 'rzitelmann', 'dialogos', 'portos', 'financeito', 'petros', 'representates', 'estusiasmados', 'adaptabilidade', 'operacaoportuaria', 'operadorlogistico', 'portodesalvador', 'portodeilheus', 'portodearatu', 'agenciamaritima', 'agenciamentomaritimo', 'terminalalfandegado', 'centrodedistribuicao', 'transportadora', 'transporterodoviario', 'shipping', 'maritimeagency', 'bondedwharehouse', 'husbandry', 'portoperations', 'terminalhandling', 'ahahahaha', 'tiiii', 'resgata', 'amamilhas', 'onwership', 'migration', 'hehehe', 'refaca', 'furo', 'boco', 'discutida', 'macroeconomics', 'discute', 'monopolismo', 'liderancaquetransforma', 'transformacaobancaria', 'btgsp', 'palomatocci', 'esqueceu', 'capta', 'aplaudir', 'distruindo', 'brasileirovai', 'mortal', 'favelados', 'venceni', 'leman', 'devese', 'contrar', 'tes', 'miagui', 'libertando', 'researchs', 'mahfriend', 'masterchefbr', 'investirecocar', 'sobrevive', 'licencias', 'amplias', 'financiero', 'desarrollar', 'actividades', 'terceros', 'multiples', 'ancho', 'metrica', 'descolados', 'bobagem', 'argumenta', 'aliancas', 'honestas', 'despreparado', 'paralelo', 'trabalhada', 'acostumando', 'isolada', 'meo', 'tijucano', 'antecede', 'bicalhojulia', 'styleoftheday', 'stylish', 'lookdodia', 'fashionstyle', 'duelodelooks', 'tvhost', 'redetvnews', 'looksfemininos', 'otimista', 'luladrao', 'lulanacadeia', 'liberalismoeconomico', 'politicoscolaborem', 'entrevistei', 'macrodaylive', 'amablack', 'gmontezano', 'lulanuncamais', 'abrace', 'vidaverde', 'abracearvores', 'planteamor', 'cruciais', 'abrangidos', 'reiterou', 'reintegrada', 'pertencentes', 'abencoalo', 'esconder', 'suposta', 'perdoeme', 'legitimidade', 'ouvia', 'nun', 'rainha', 'imensa', 'gigantescomnumo', 'lendas', 'ls', 'petrolina', 'faegsenas', 'apoiador', 'schreiner', 'caiado', 'verpresenciar', 'marinasauter', 'agriculturaurbana', 'jovenslideres', 'produtorrural', 'umcartao', 'ploretariodo', 'bloquearem', 'movimente', 'rafaelfavetti', 'rovertraining', 'eeee', 'diazinho', 'esclareceu', 'regravado', 'alooo', 'ptnaoptnuncamais', 'ruin', 'aeeee', 'totoalbanoalbano', 'absurdos', 'amenizar', 'artificialmente', 'tregua', 'metiam', 'trend', 'escroto', 'manchado', 'distribuia', 'sociosdiretores', 'akira', 'siqueira', 'politicoeconomico', 'hoffmann', 'exfed', 'deputados', 'precificado', 'posicionado', 'respeitado', 'auxilarmos', 'ffgbank', 'abriremos', 'divulgaremos', 'esclarecedora', 'falas', 'cef', 'middle', 'risk', 'relativo', 'deixara', 'gostinho', 'companheirismo', 'estrada', 'bolivia', 'escutando', 'criancasadolescentes', 'iris', 'celia', 'cabanellas', 'zannini', 'bolpebra', 'bolpebrabolivia', 'deslocou', 'kairala', 'karaila', 'brasileia', 'inapari', 'inhapariperu', 'psicologa', 'carstens', 'politicaspublicas', 'darvoz', 'desvio', 'ciclovias', 'patrocinou', 'tatico', 'pcp', 'marlene', 'selma', 'manifestei', 'inflando', 'economicopolitico', 'moderados', 'debaterem', 'vamoooos', 'impedem', 'anjudou', 'enxugando', 'geloenquanto', 'deixarem', 'governar', 'ciclista', 'mencionam', 'promessas', 'pg', 'hadad', 'pleno', 'eleger', 'embaixadora', 'tvcrcnews', 'quentinha', 'institutofsbpesquisa', 'vanessafederal', 'institutobaccare', 'capitalizacao', 'destacamse', 'empresasbrasileiras', 'marketcap', 'suspendido', 'anulacao', 'moveu', 'agravo', 'negou', 'argumento', 'anular', 'representativo', 'catttorres', 'procurarem', 'baldarena', 'callbear', 'lx', 'viaje', 'piracicabahoje', 'psoldf', 'psolrn', 'globolixo', 'bruninhamontibeller', 'traderevolutionbr', 'wwwcititradercombrmembros', 'reorganizacao', 'macronacional', 'ericavianaa', 'karlaaguiar', 'lilianholanda', 'hyagonery', 'danielcosta', 'maiakarine', 'juareznapoleao', 'prefiri', 'delicioso', 'stefaniebirman', 'santucci', 'maureenmelo', 'coordenadoria', 'cale', 'btb', 'reitoria', 'quebram', 'villain', 'desenha', 'regulatoria', 'legislativos', 'carolinebcouto', 'boletimfocussemanal', 'relatoriofocus', 'xavier', 'menezes', 'tgmc', 'educacaofincaneira', 'facul', 'inscritos', 'httpsbitlybtgfaztechufrj', 'panico', 'atributo', 'investidoriniciante', 'investidorveterano', 'volatilidadedomercado', 'promagno', 'protagonistaagil', 'andersonribeirooficial', 'alavanca', 'businessagility', 'literaturas', 'protagonistasageis', 'yara', 'yaratdc', 'zaparolli', 'marianazaparolli', 'thyago', 'bobsin', 'eduardobobsin', 'cleiton', 'mafra', 'cacoxp', 'consolmagno', 'laurafernanda', 'guaycara', 'guaycarag', 'erika', 'viviani', 'schneider', 'erikaferrarivivianischneider', 'katsuren', 'katsurenmachado', 'alessandro', 'agility', 'brilhantemente', 'coordenada', 'bartosiaki', 'zup', 'zupinnovation', 'encantech', 'nuvenshop', 'nuvemshop', 'dock', 'docktech', 'hat', 'redhatinc', 'turing', 'turingcombra', 'recruiter', 'desenvolvedoras', 'vemsemmedodeserfeliz', 'pessoasdesenvolvedoras', 'dotenet', 'flutter', 'aws', 'equivalencia', 'sustos', 'regem', 'paravp', 'paral', 'evebit', 'mebit', 'roe', 'ligue', 'mire', 'quotas', 'rubiinvestimentos', 'geracaobtg', 'recrutar', 'recemformados', 'ed', 'milena', 'veiga', 'microfrontends', 'httpssacredigitalliveig', 'reiterando', 'santossp', 'relationship', 'organizacional', 'goo', 'recepcionaram', 'vamoooo', 'artemis', 'sfiinvestimentos', 'fundoartemis', 'atoresssss', 'cidadoes', 'pagamos', 'ajudemos', 'entedimento', 'avos', 'tios', 'tias', 'deuso', 'cristianismoa', 'deuscriador', 'quisermos', 'amem', 'dasilva', 'leveeeee', 'globotv', 'falsas', 'bolsonaroarrastamultidoes', 'vaiserbolsonaronoprimeitoturnosim', 'mentalidadedesucesso', 'mentemilionaria', 'pessoasricas', 'atitudepositiva', 'inaugurar', 'bsdesigncorporate', 'saleteemsociedade', 'empresariaisbranding', 'sutil', 'perduravam', 'amarelaoazulao', 'humanoa', 'estatico', 'loguei', 'sutilmente', 'frieza', 'mera', 'fachada', 'mege', 'sintese', 'levem', 'testers', 'gamers', 'makers', 'gsantos', 'iago', 'awsdevopsengineer', 'googledevs', 'playersbank', 'ricas', 'absorveu', 'idea', 'ideapublicidade', 'thedeveloperconference', 'developer', 'coding', 'frontenddeveloper', 'criatura', 'rpa', 'roboticprocessautomation', 'robots', 'bots', 'oppen', 'estatutario', 'agradecendo', 'oneagenda', 'exercerem', 'exerceram', 'institutoalliancebjj', 'greve', 'aderir', 'iniciador', 'itp', 'personal', 'lasting', 'relationships', 'confidence', 'debrucar', 'dezena', 'rapidinho', 'arterisbr', 'depeduardobolsonaro', 'ccraeroportos', 'gang', 'mala', 'desburocratizar', 'hojalata', 'estanada', 'alambre', 'creo', 'utensilio', 'cocina', 'icono', 'creado', 'anonimamente', 'manos', 'artesanas', 'alrededor', 'llego', 'masifico', 'diseno', 'ingenioso', 'hace', 'funcion', 'leer', 'resena', 'wwwrevistamateriacom', 'karla', 'riquelme', 'karliriquelme', 'disenochileno', 'tostadorchileno', 'disenoindustrial', 'disenoindustrialchileno', 'antonieljsilva', 'innovacion', 'sustentable', 'mirada', 'escuchar', 'btgpodcast', 'catalinaed', 'escuchalo', 'auxilie', 'iorio', 'miraglia', 'bingemer', 'fundosdeinvestiment', 'pricilamp', 'estratosferico', 'winwdo', 'yasmim', 'fial', 'accenture', 'lelelucati', 'cawarick', 'especialissimas', 'multireceitas', 'uinbhkiki', 'bxbbvvv', 'bvn', 'fcvv', 'inspiracoes', 'comments', 'mapeados', 'alvos', 'projetados', 'sustenta', 'notem', 'moveis', 'apontadas', 'topos', 'candle', 'ignicao', 'elefante', 'filypele', 'semmarktrader', 'vilhena', 'klausniggl', 'impeacavel', 'manuseto', 'atue', 'alocadores', 'bizarrices', 'valueinvestingbrasil', 'financialmarkets', 'peninsulamineira', 'warrenbuffett', 'pitstop', 'lubrax', 'autoservice', 'richardmille', 'indianapolis', 'flavao', 'motriz', 'matas', 'delfos', 'afof', 'brl', 'trust', 'indisponibilidade', 'indisponiveis', 'depositaria', 'cadastral', 'gravames', 'repassadas', 'permanecerao', 'validas', 'conferidos', 'custodiadas', 'cadastrais', 'escrituracaofundoscom', 'deposi', 'joaovcarvalhoaai', 'multiplica', 'medios', 'simplificacao', 'microcredito', 'nadar', 'naveguei', 'comanche', 'rubi', 'centroequestreplenitude', 'strutz', 'andrea', 'tulio', 'presenciamos', 'controlala', 'identificacoes', 'update', 'descontinuou', 'tickets', 'descrescente', 'subidas', 'descidas', 'made', 'psk', 'intersolar', 'entusiastas', 'trocam', 'kaltenbach', 'tadeulockermannoficial', 'deleu', 'marciogiacobelli', 'walterhenriqueh', 'joeldeandradejr', 'drmarcelobraga', 'livialockermann', 'caratoficial', 'xand', 'camilasantosv', 'natyferrazzo', 'clubemastermindprotagonistasdobrasil', 'inverter', 'entrevistadora', 'jie', 'zhe', 'chi', 'qian', 'rqian', 'fang', 'kao', 'xxin', 'jjuchi', 'zhua', 'resistentes', 'loturco', 'identificam', 'baratas', 'aguilar', 'saldos', 'adicionei', 'compilados', 'oliver', 'mizne', 'carramaschi', 'elegivel', 'entrego', 'rinesantos', 'demaaais', 'escrevendo', 'libano', 'agendar', 'experimental', 'escolaguga', 'escolagugamontelibano', 'montelibano', 'beachtennisrio', 'escolapopeye', 'precario', 'minimiza', 'deduz', 'tributo', 'vgbltambem', 'tributados', 'semestralmente', 'obterem', 'minuciosamente', 'brigando', 'iriamos', 'enganamos', 'descontraidas', 'bilionarias', 'falharam', 'calor', 'recepcionar', 'liberta', 'petroleiro', 'saturado', 'piscar', 'tamaraklink', 'kadimaasset', 'abalizadas', 'ambiguidades', 'kawa', 'meetings', 'noixx', 'marinasteixeira', 'laismacedo', 'lidefuturo', 'esteelauderbrasil', 'bmwdobrasil', 'theledoficial', 'danonebrasil', 'amilsaude', 'ciadetalentos', 'rihappy', 'spacesbrasil', 'nespresso', 'highlights', 'queridissimo', 'luizcandreva', 'enxergarmos', 'multiplicidade', 'desobediencia', 'perceptivo', 'disperse', 'distracao', 'rostos', 'individuais', 'previdenciaria', 'irado', 'cinemas', 'johnwilliams', 'indianajones', 'et', 'francishime', 'chicobuarque', 'trxl', 'integrativo', 'prq', 'manutencoes', 'efetiva', 'transacionados', 'ajustada', 'trancou', 'terminamos', 'partnerhsip', 'impensavel', 'podiamos', 'obcecados', 'meritocratica', 'timida', 'empurrado', 'independenciafinanceiraindependenciafinanceiraliberdadefinanceirarendapassivarendimentosdividendosfundosimobiliariosfundosimobiliariosfiifiisviverderendafinancasfinancasfinancaspessoaisfinancaspessoaisrendavariavelrendavariavelinvestidormercadofinanceiroetfinvestimentoinvestimentosinvestidoresbolsadevaloresbondseducacaofinanceiraeducacaofinanceirafiagrofiagros', 'promocoes', 'empenhado', 'bbcedaafapdf', 'cfbdcacdcapdf', 'ecaacdccccpdf', 'cbdddcffeafdcpdf', 'miraeassetbrasil', 'tulipa', 'ruiz', 'interpretara', 'musicas', 'album', 'tuliparuiz', 'musicapopular', 'musicaerudita', 'vilamariana', 'grupoultra', 'vivenda', 'slides', 'superaram', 'interpretada', 'concorrendo', 'httpslbtgpactualcomreclameaqui', 'peculio', 'patrimoniais', 'silmara', 'drezza', 'reginato', 'programao', 'httpsmaspbyinticomeventtemporadainstitutobaccarelli', 'coralheliopolis', 'coralinfantojuvenil', 'coraljuvenil', 'infantojuvenil', 'said', 'bom', 'tennislove', 'sportlife', 'healthy', 'perrengues', 'creditoahh', 'formainvestir', 'empurram', 'somemignoram', 'infracoes', 'bloqueando', 'acreditemseria', 'limitaram', 'rchristis', 'bsideinvestimentos', 'wowbusque', 'exorbitantes', 'bli', 'paesi', 'ho', 'mai', 'veduto', 'vissuto', 'adesso', 'esistono', 'piu', 'karinasouza', 'piano', 'valozcrypto', 'ptnuncamais', 'mutum', 'davi', 'criminosa', 'vizinhas', 'aceros', 'vegetacao', 'desbastada', 'propagacao', 'supressao', 'incluidas', 'tornaramse', 'neh', 'centrohipicodetatui', 'mangalargamarchador', 'ggrc', 'urpr', 'conclui', 'coaching', 'paulovieira', 'bestmoments', 'clovisdebarrosfilho', 'textos', 'debocham', 'colo', 'adotem', 'vinicola', 'argiano', 'bestperformerbtg', 'cobta', 'pesquisador', 'ipea', 'coprodutor', 'jardineiro', 'ofernando', 'kaua', 'cardoso', 'zanini', 'yves', 'nicole', 'pierr', 'saturda', 'enfrentaram', 'fazendose', 'fosseis', 'encontraram', 'utg', 'silves', 'cansadas', 'potencialmente', 'autoconvocada', 'financiadores', 'climatica', 'fossil', 'cacique', 'protestar', 'cop', 'escocia', 'definese', 'liveauthentic', 'boatardee', 'nftcollectibles', 'unicornsociety', 'mercadopagobr', 'navegadora', 'contado', 'assistido', 'navios', 'imaginado', 'perigosas', 'contagiosos', 'secreta', 'soubesse', 'navigator', 'told', 'built', 'fortress', 'books', 'protect', 'watched', 'ships', 'imagined', 'myself', 'dreams', 'dangerous', 'desires', 'contagious', 'fears', 'despite', 'difficulties', 'brought', 'every', 'write', 'lecture', 'someone', 'hold', 'mission', 'daughter', 'suis', 'sur', 'serais', 'navigateur', 'raconte', 'leurs', 'histoires', 'mer', 'sils', 'aide', 'construire', 'forteresse', 'qui', 'mon', 'reve', 'navais', 'regarde', 'fem', 'mare', 'treinados', 'boletada', 'grita', 'operadores', 'player', 'stops', 'workhardplayhard', 'meusamores', 'ninineneenono', 'trioparadadura', 'maedetres', 'cumpram', 'acabe', 'usou', 'cerebro', 'pensadas', 'lentamente', 'httpswwwamgcapitalcombrblogeducacaofinanceiraheuristicadadisponibilidadecomoelaafetaoinvestidor', 'brianorte', 'cedidas', 'correspondiam', 'palotina', 'equivoco', 'retirado', 'feridos', 'esteira', 'reitera', 'repassar', 'precisas', 'vocetrader', 'direcionadas', 'esporadico', 'distinguem', 'incidencia', 'notavel', 'centralizar', 'filabr', 'garotos', 'propagandas', 'fatiar', 'variantes', 'melodia', 'mdemais', 'claudinho', 'operarem', 'gabicvj', 'avenueu', 'adoravel', 'falavam', 'debochavam', 'piadas', 'sacaneia', 'roer', 'mau', 'derrotou', 'diabo', 'subsolo', 'zumbis', 'pergunteme', 'carlo', 'impoe', 'frequentes', 'evitalas', 'mostro', 'httpswwwamgcapitalcombrblogdicaserrosdoinvestidorinicianteecomoevitalos', 'cei', 'incentivam', 'adiante', 'coresponsaveis', 'sinceros', 'patrocinadora', 'arigato', 'cinema', 'ind', 'casadinho', 'regina', 'resgatei', 'equipefamilia', 'vibrando', 'recomecamos', 'queriamos', 'rbi', 'contribuiu', 'demorada', 'verificando', 'viuh', 'expedicao', 'syngenta', 'rabobank', 'estabelecidos', 'aprofundada', 'esalq', 'possibilitandonos', 'visitadas', 'proporcionaram', 'ipiranga', 'texacolubrificantes', 'syngentabrasil', 'greenhouseestufas', 'eiwa', 'aruaposcolheita', 'agroallimportadora', 'substratos', 'coleagro', 'stonex', 'btgpactualdogital', 'vivela', 'alcancalo', 'frageis', 'frustradas', 'regida', 'marianaaydar', 'dancar', 'aydar', 'elba', 'dominguinhos', 'toni', 'garrido', 'mercury', 'donato', 'leci', 'emilio', 'custam', 'inti', 'she', 'votorantim', 'electronic', 'netc', 'yellow', 'nodejs', 'vagasjobsforher', 'placer', 'acompanar', 'viajes', 'muchas', 'nosotros', 'vuelos', 'viajescorporativos', 'bussinesstrip', 'keepers', 'viajesporelmundo', 'satellogic', 'softline', 'burgerking', 'starbucks', 'mapfre', 'viajeseguro', 'peoplecare', 'aerolineas', 'passaria', 'depressa', 'viveria', 'inimaginavel', 'respondeperdi', 'financiei', 'salaaovivobtgtrader', 'btgtrader', 'bicentenario', 'concursospublicos', 'unasp', 'studymotivation', 'studygrambr', 'rainhaelizabeth', 'sunset', 'concurseiro', 'estrategiaconcursos', 'chamaolemos', 'vieitas', 'implementadas', 'higiene', 'migrantes', 'dialogaram', 'accor', 'brk', 'ambipar', 'ero', 'takeda', 'aderem', 'vietas', 'babos', 'interina', 'necon', 'ajudante', 'pedreiro', 'wwwprimeservcombr', 'parabenizo', 'donajoofficial', 'ouvila', 'marcuz', 'brasiloficial', 'educacaofinanceiraassessoriadeinvest', 'mentos', 'diversificaracoes', 'hesito', 'kristina', 'shaw', 'picado', 'sucessoamei', 'caraaaaalho', 'mlk', 'booooooom', 'rbwndd', 'gbr', 'rrbfdsertednzhu', 'bzhu', 'jogadas', 'lecionei', 'descompasso', 'diferentemente', 'funcional', 'acolher', 'fomentou', 'custear', 'moradia', 'notebook', 'facilitando', 'comanda', 'reencontra', 'guilhermemannis', 'apaixonou', 'lavizooceara', 'coco', 'diretaco', 'inspirarmos', 'especialistadeinvestimentos', 'hahahahha', 'firmamos', 'fisicamente', 'denise', 'pavarina', 'monicajesusoficial', 'amescmulher', 'suprimento', 'tiverem', 'deixaremos', 'informarem', 'adesao', 'abater', 'parcialmente', 'amortizado', 'iniciara', 'retificar', 'implicar', 'recolhimento', 'disponibilizada', 'considerados', 'escl', 'morfologia', 'marcha', 'potentes', 'wwwexamecom', 'mastercardblack', 'retirem', 'pompa', 'restituir', 'enganem', 'sofreu', 'cfa', 'osni', 'carfi', 'retiraram', 'incluiram', 'sabesp', 'sbsp', 'renner', 'lren', 'tots', 'minerva', 'estrategicos', 'conarec', 'perigoso', 'favorecer', 'traduz', 'httpswwwamgcapitalcombrblogcomoinvestircomocalcularjuroscompostosdescubraadicadeouroparautilizalosaoseufavor', 'sinonimos', 'substanciais', 'significados', 'aplicabilidade', 'latinhas', 'personalizadas', 'presenteados', 'barca', 'humilhado', 'propiciar', 'atenderam', 'campanhamag', 'magseguros', 'kkkko', 'podcastdepaiprafilho', 'galleriabarsp', 'ryan', 'cursarem', 'retribuicao', 'assinadas', 'vt', 'lops', 'arauj', 'ilovetennis', 'quartel', 'terno', 'gravata', 'condicionado', 'macacao', 'rachando', 'potiguar', 'instalacoes', 'recv', 'petrolifera', 'quentes', 'barris', 'oleo', 'boe', 'extrair', 'jazidas', 'troy', 'finner', 'sondas', 'stenio', 'cruvinel', 'wwwbtgpactualcom', 'sadia', 'embreve', 'btgrepost', 'preparos', 'respeite', 'cursoonline', 'eurodolar', 'hahahhahahaha', 'periodicamente', 'msjunioradalberto', 'corter', 'semdo', 'pow', 'mobilir', 'sobrando', 'tatui', 'blockchains', 'wra', 'compensacao', 'oficialcause', 'papoderesponsa', 'apixonada', 'rosewood', 'bloomberglineasummit', 'venturecapital', 'httpsbitlyqgbzwq', 'vemmm', 'amoooor', 'esquentar', 'apaixonada', 'zaga', 'lateral', 'pombo', 'gerenciador', 'desesperador', 'seimas', 'guedeso', 'cannabisna', 'duvidavai', 'tambemnem', 'faziamos', 'lavizoo', 'explicada', 'httpswwwagroforumlive', 'httpslnkdindqdpujdd', 'httpslnkdindrqxjpq', 'httpslnkdindixkbwe', 'httpslnkdindtfxqpgr', 'miraeasset', 'beautyfulrealestate', 'industrialrealestate', 'industrialdevelopment', 'ciudadjuarez', 'estadaoalagoas', 'datafolhaoficial', 'sbtneoficial', 'nanirampa', 'ineed', 'depe', 'bov', 'isabelasimoes', 'nanh', 'priscillawhitaker', 'shoes', 'tatiana', 'kimura', 'aprendendoainvestir', 'meribehrens', 'caioaveline', 'ligiamariante', 'jorgekralik', 'professorlucassilva', 'rafaeltoro', 'itaupersonnalite', 'unicred', 'bara', 'bresolin', 'performing', 'loans', 'npls', 'wwwbicalhoadvbr', 'homenageado', 'diadocliente', 'bicalhoadvogados', 'bicalhoadv', 'direitocontencioso', 'contenciosoimobiliario', 'oab', 'lawyer', 'advogadosassociados', 'advogadossp', 'escolhemos', 'replicamos', 'assessoriaespecializada', 'akmperformma', 'hcampospr', 'tamojuntoag', 'leobagarolo', 'leo', 'bancobradesco', 'bancosantander', 'bancoitau', 'instituicoesfinanceiras', 'canalwomeninvest', 'preocupadas', 'penetracao', 'levels', 'wo', 'mulheresnalideranca', 'baixissima', 'ofusca', 'mourao', 'figueiro', 'severo', 'simas', 'lenadro', 'abrahao', 'eljaick', 'competition', 'firstday', 'preferir', 'avantgardeam', 'westernassetmanagement', 'alaskainvestimentos', 'realinvestor', 'truxtinvestimentos', 'constellationassetmanagement', 'equitasinvestimentos', 'remuneram', 'emprestara', 'recebelo', 'educadora', 'falcoes', 'lyra', 'gouveiia', 'prudente', 'foundation', 'brazilfound', 'serjall', 'leoafe', 'iannunjara', 'wmlanders', 'niii', 'vicecampeoes', 'sacola', 'deliciais', 'lascasdepolvilho', 'tenisweek', 'ipegolg', 'agem', 'solucionaram', 'naoyfli', 'postam', 'magnitudeincrivel', 'pregoes', 'beaware', 'awaremfo', 'fluminensefc', 'mbittenfluoficial', 'avancam', 'acirradas', 'goodvibes', 'bicicleta', 'boanoitee', 'sprinter', 'race', 'triciclo', 'apaixonadosporaviacao', 'afsports', 'ipegolf', 'facilitador', 'carrasco', 'financapessoal', 'passamani', 'unirem', 'plugadas', 'dilemas', 'enfrentados', 'henriquemeirelles', 'lagoa', 'csi', 'acervo', 'selas', 'cbhoficial', 'jccescoladeequitacao', 'joinvillecountryclub', 'hipicaparanaense', 'cavalobrasileirodehipismo', 'sabemiseguradora', 'adicionaram', 'ferme', 'morrison', 'indart', 'ventura', 'granato', 'piro', 'bento', 'pupo', 'enrico', 'crepaldi', 'henriques', 'quentinho', 'resumao', 'seguidora', 'programaconexaobahia', 'feijaodanegasu', 'cocobambubahiaoficial', 'iasmine', 'carlinhosreii', 'sebraebahia', 'samara', 'cachecrespas', 'concerteza', 'retribuir', 'lembrados', 'realizarmos', 'mafia', 'julga', 'ociosidade', 'materializado', 'alivio', 'melhorou', 'todavia', 'trabalhoso', 'sinalizadas', 'econom', 'energialimpa', 'supermercado', 'dobro', 'melhordobrasil', 'omaiorpremiodobrasil', 'topibest', 'bbhomebroker', 'prelive', 'honor', 'witness', 'nd', 'edition', 'faceestouface', 'extremely', 'valuable', 'undertake', 'universe', 'slip', 'away', 'congratulations', 'creating', 'ahammm', 'segundou', 'vesti', 'renovete', 'atuamos', 'blindagem', 'analisados', 'pegando', 'hahahah', 'jurema', 'hospedadas', 'fotografando', 'otimistas', 'riograndedosul', 'cruzalta', 'engenheiros', 'espontanea', 'ursulalima', 'capacitarmos', 'anosgt', 'indiquem', 'nubankitau', 'escrevame', 'grandslamequestrian', 'nojento', 'planejarmos', 'eventoagronegocio', 'pecuaria', 'campograndems', 'incide', 'normalmemte', 'abdicacao', 'chorei', 'esposo', 'diegoselva', 'sinergica', 'nutri', 'conduz', 'reformulado', 'acordamos', 'maite', 'morena', 'gontijo', 'precioso', 'combinam', 'estrategiasfinanceiras', 'tenniscourt', 'luismiranda', 'contente', 'somosdacarne', 'grandselectionbyzilli', 'carnesbyzilli', 'zedaplatina', 'canhoes', 'trompetes', 'reprovam', 'insiste', 'gabriellaacruz', 'robertaglatt', 'logicamente', 'nonaplicativo', 'arrodeando', 'inventando', 'encobrir', 'peneira', 'transparentes', 'operava', 'traremos', 'ferver', 'gabrielvaladao', 'clarice', 'klossoski', 'engrenagem', 'rentabiliza', 'lunch', 'preludio', 'ixiiiisangue', 'sanguekkk', 'coincide', 'ffr', 'prematuros', 'divulgadas', 'sep', 'restritivo', 'convergiria', 'agitado', 'bastando', 'possenna', 'meunosso', 'segurando', 'cumpriu', 'perdurou', 'discordancia', 'votaram', 'deixaria', 'sinalizou', 'hesitara', 'retomar', 'desinflacao', 'transcorra', 'wisepoa', 'jeitinho', 'concessao', 'vencendo', 'sinalizando', 'mpce', 'desesperota', 'valmir', 'feitosa', 'educada', 'pespective', 'apostaram', 'imensuraveis', 'perpective', 'somosperspective', 'recuara', 'posfixadas', 'selicmeta', 'selicover', 'consultoriagratis', 'assustei', 'bgtpactualdigital', 'limiteeeee', 'aumentaram', 'unistudios', 'deunos', 'imgtennis', 'statu', 'res', 'erant', 'bellu', 'desafiamos', 'conformismo', 'quebramos', 'sindrome', 'manada', 'definimos', 'parecida', 'statusquo', 'magicos', 'ellebrasil', 'atraiu', 'disponibilizacao', 'informativos', 'pelliccione', 'transformarvidas', 'carreirabancaria', 'polen', 'cognitiva', 'degustando', 'dudatrindadeofc', 'frota', 'winegobrasil', 'conprovante', 'sextouuuu', 'pulseira', 'juju', 'eventosdebeachtennis', 'lovebt', 'camisday', 'jousbyjujuacessoriosquesaoamuletos', 'abastecendo', 'lifelonglearning', 'vooolta', 'comentem', 'compraosantacruz', 'apbogus', 'alpargatas', 'diegocbarreto', 'talita', 'colucci', 'sofiteljequitimar', 'forumceobrasil', 'ciberseguridad', 'protecaodedados', 'profissaotrader', 'metabatida', 'fluxodeordens', 'dolfut', 'axiainvesting', 'godvibes', 'personaltrainer', 'nordestebrasileiro', 'castr', 'liberou', 'heheeheh', 'erram', 'hugo', 'eterna', 'tietar', 'digna', 'mentora', 'brigadeirofarialima', 'avbrigadeirofarialima', 'cidadesp', 'gunsnroses', 'dramonalisanavas', 'camarote', 'brazagastronomia', 'funk', 'jazz', 'blues', 'accessing', 'channel', 'using', 'mahsaamini', 'oplran', 'gilson', 'finkelsztain', 'sunoasset', 'bloxsinvestimentos', 'titaniumasset', 'entrevistaexclusiva', 'acusou', 'automaticos', 'herdando', 'escurra', 'nandex', 'jbcostatenis', 'fortalecemos', 'uberaba', 'causam', 'negociosvoce', 'ganharbrazilian', 'storm', 'laaa', 'dublin', 'descansar', 'cadinho', 'mahsa', 'aminihelp', 'tidata', 'science', 'hereataws', 'imprestimo', 'meg', 'megs', 'squad', 'opensolutions', 'carteirinha', 'arrogantes', 'devolverem', 'sertoes', 'fairfaxbrasildacar', 'motorsportsmracing', 'mantiveram', 'nulos', 'cenarioeleitoral', 'votoavoto', 'jornalismodefato', 'qta', 'ouso', 'subi', 'agradeci', 'representavam', 'cenografica', 'empatico', 'paulomagnusmv', 'mvsaudedigital', 'italolnogueira', 'arrecadamos', 'alcionealbanesi', 'olimpicos', 'comandando', 'triple', 'gerenciando', 'estima', 'desenvolvidas', 'atraimos', 'conspira', 'obstaculosdecisoes', 'cumprimentar', 'sintonizar', 'detectem', 'proponham', 'privite', 'mantenedor', 'excluiram', 'desfacatez', 'humanizar', 'preconceito', 'optimaprodutora', 'futevoleiscs', 'futevoleiabc', 'futevoleifeminino', 'arenagoias', 'ftvoleibrasil', 'scs', 'mormaiifutevolei', 'futevoleipaulista', 'futevoleinaveia', 'minhamelhormarca', 'sintasemormaii', 'futevoleidepressao', 'beacharenassp', 'futevoleiraiz', 'futevoleishow', 'futevoleipelomundo', 'futevoleiparatodos', 'futevoleiparaelas', 'ajudarem', 'levei', 'expiracao', 'schroder', 'mapamento', 'plataformasdigitais', 'crencas', 'limitantes', 'saido', 'empodere', 'indiqueas', 'engrandeca', 'repita', 'fdemais', 'pegue', 'levante', 'exalte', 'sejamos', 'as', 'camilas', 'ferosseto', 'cely', 'romero', 'raphafakri', 'explore', 'mamateiro', 'ministrado', 'empreendendorismo', 'buscador', 'bilhete', 'ajudarmos', 'baixis', 'favamos', 'devastadora', 'suar', 'kaique', 'lucao', 'bandnews', 'girobusinessagro', 'serasa', 'experian', 'movidaalugueldecarros', 'tokiomarinehall', 'salvarem', 'hahahaahaha', 'cnlha', 'beneficas', 'resultou', 'aaaah', 'sfc', 'haahhaha', 'agroforumbtg', 'pauta', 'molusgo', 'btgagroforum', 'conserta', 'eventoagro', 'chatisse', 'ignoram', 'sucroenergetico', 'wharton', 'dennis', 'lobo', 'sofisticados', 'hamer', 'netuno', 'rigorosa', 'inflacaoalta', 'investimentoseguro', 'sensual', 'charmosa', 'newsagora', 'voltei', 'figuras', 'rumologistica', 'agrolife', 'agroepop', 'agroetop', 'aquavero', 'icones', 'sarah', 'cogestora', 'corajoso', 'puliti', 'revelaram', 'respectivas', 'abreu', 'granja', 'brum', 'land', 'grabbing', 'financeirizacao', 'fantoches', 'oseconomistaspodcastoprimoricothiagonigroprimocastreelspodcastlucaspitcharleswiczinvestimentos', 'brasileconomistasincero', 'especulacaofinanceira', 'especulacaodomercado', 'nula', 'rangelweb', 'thks', 'muros', 'metaverse', 'webbr', 'centralizada', 'pma', 'esferabr', 'eliteeee', 'endosso', 'estabilizar', 'berquo', 'gabrielandrade', 'decaiu', 'abandonei', 'beneficiei', 'deparo', 'chegarei', 'determinada', 'voada', 'adrenalina', 'btgmais', 'facilidades', 'nyc', 'usufrui', 'iguala', 'atendida', 'empaticas', 'ruinzinhos', 'patrry', 'procedo', 'atendimentoaocliente', 'premioreclameaqui', 'encomendar', 'patrocinarem', 'errou', 'eleitoralfica', 'luto', 'arriscado', 'complexa', 'cubra', 'florian', 'bartunek', 'florianbartunek', 'constellation', 'empresariogestor', 'kerry', 'gomez', 'obtiveram', 'beneficos', 'juliocarlos', 'remeter', 'imaginario', 'janelacombr', 'janelapublicitaria', 'destaquei', 'ressaltei', 'compreenda', 'tipica', 'safras', 'usadas', 'kherlakian', 'jotapeart', 'myart', 'contemporaryart', 'instaart', 'atualidades', 'porsche', 'welles', 'pascoal', 'vicchiato', 'abud', 'fsbio', 'miron', 'frigol', 'agrotech', 'sescitaquera', 'estilos', 'interprete', 'simonal', 'concertos', 'orquestrasinfonicaheliop', 'estelita', 'eletronico', 'certame', 'ocorra', 'incidentes', 'societarias', 'detidas', 'queirozgalvaovendaspe', 'glempreendimentos', 'desbloqueie', 'vereador', 'comemorase', 'alimento', 'recreacao', 'desperdicar', 'reaproveitar', 'exagerado', 'diadanatureza', 'projetoplantar', 'megamodelminasgerais', 'leniomartins', 'gianfontoura', 'rezinhamori', 'priargamin', 'achava', 'anuidademensalidade', 'lucianekariocacom', 'obgda', 'sermoud', 'httpslnkdingcfvifqz', 'testemunho', 'noomisoficial', 'vamuuuuuu', 'meritos', 'prejudicou', 'pagava', 'sentiu', 'atptour', 'lulista', 'negar', 'caminhou', 'btlixo', 'helborincorporadora', 'celebraram', 'cvmgovbr', 'alexia', 'cabelos', 'castanhos', 'vestido', 'toto', 'pactuais', 'perigosos', 'tendenciosos', 'provedora', 'clearing', 'contrapartes', 'deparam', 'organizacoessociaiscivis', 'picaretagem', 'cotacoes', 'falainvestidor', 'influenciadordigital', 'bisobcustodia', 'bondade', 'mayfolha', 'duros', 'poderdaunidade', 'biano', 'vamosvencer', 'mktdigital', 'gde', 'rubem', 'duek', 'consagrados', 'gleiser', 'bogus', 'mfd', 'desigualdade', 'descartados', 'comunismo', 'kaku', 'sacrificio', 'advance', 'grandiosas', 'lutariam', 'acreditariam', 'cuidou', 'teme', 'btgp', 'fabuloso', 'mencionar', 'fortune', 'primavera', 'testei', 'redigir', 'pranchas', 'manipuladores', 'roubaram', 'impiricus', 'jornalecos', 'compraram', 'iludir', 'pension', 'btglifeexperince', 'uhul', 'construirmos', 'conectam', 'grito', 'ecoa', 'vamosdekombi', 'faveladekombi', 'redegerandofalcoes', 'machupicchoenergy', 'vamokida', 'egoista', 'compartilhasse', 'gtradergenial', 'defensoriarj', 'policiafederalbrasil', 'foonseca', 'matogrossenses', 'beneficia', 'caneca', 'doleira', 'delta', 'coffeebreak', 'ilhagastronomica', 'tictac', 'casaesportiva', 'petfarmsalvador', 'elegancecolchoes', 'supremehomecare', 'lupapromo', 'soudobro', 'proteinutri', 'caffeinearmy', 'vempromana', 'bulosphotoart', 'natacao', 'sparenberg', 'motivadoras', 'responsabilidades', 'luizaapaparounis', 'esforce', 'probabilidades', 'condicionante', 'mitigar', 'perece', 'descubrao', 'moram', 'cocriadas', 'feminista', 'sugeridos', 'vidda', 'ahhhhh', 'incrivelprofissional', 'giovanna', 'luanda', 'reporter', 'viajou', 'fedex', 'nitto', 'despedida', 'roger', 'federer', 'correu', 'lidou', 'diverti', 'boleiros', 'desafiante', 'atpfinals', 'dprinter', 'vasosbob', 'dimpressao', 'dprinting', 'empreendeorismo', 'empreendedorismolocal', 'polvo', 'octopus', 'doctopus', 'topgun', 'topgunmaverick', 'matinal', 'segueofelipe', 'half', 'demandadas', 'contratam', 'varejoecommerce', 'hugorodriguess', 'maodeobraqualificadaparaeventos', 'mercadodetrabalho', 'crescimentoprofissional', 'pesquisademercado', 'oportunidadedetrabalho', 'meioemensagem', 'promoview', 'comparou', 'envolvam', 'cairem', 'avincorp', 'saraivafilhodaniel', 'possibilitara', 'andrehzavarize', 'isabelaa', 'sousaaa', 'aliviamos', 'reability', 'fixtpersonal', 'reabilityrp', 'drajuliamfv', 'dragabrielabertacchini', 'innarabessanutri', 'camilanutrichef', 'benessererobertalacerda', 'teamnogueirarp', 'dresscode', 'pietra', 'emoji', 'clienteinvestidor', 'elaboradora', 'incomoda', 'irmos', 'empreende', 'descobrira', 'guiala', 'decidida', 'mergulhei', 'desconhecia', 'noites', 'viradas', 'dedicando', 'edsonsantosinvestimentos', 'artgrossi', 'luispereiraaai', 'trocamos', 'salinha', 'prosseguimos', 'docesdememoriaafetiva', 'licoresartesanais', 'sdrs', 'recomendarei', 'martinsdafonseca', 'psiquiatra', 'urbanos', 'aborto', 'gedankien', 'docinhos', 'artesanais', 'adeliarodriguezs', 'chefalessandraguilherme', 'lugardemulhereondeelaquiser', 'juntassomosmaisfortes', 'mulherespretas', 'vestiram', 'cristian', 'salgadinho', 'ro', 'atributos', 'aposentados', 'inss', 'salariominimo', 'produzindo', 'produzo', 'inventar', 'noe', 'aloo', 'bechi', 'puxa', 'galerinha', 'foramario', 'palhaco', 'idem', 'publicaram', 'blackbridgefinancial', 'elaespinosa', 'amorabrecho', 'virgula', 'mulherespoderosas', 'treinamentoedesenvolvimento', 'brecho', 'santanderuniversidadesbrasil', 'jennifertranciista', 'idealizarecriarart', 'camilaabreul', 'apoieumaempreendedora', 'promotions', 'competidores', 'calmon', 'marianna', 'thorstensen', 'barcellos', 'kruger', 'cabana', 'liptonmorganassociadoscom', 'katrielmarquesb', 'atingisse', 'estouro', 'sustento', 'surpreendem', 'festas', 'cumprimentos', 'mundooooo', 'influencers', 'lpbragancabr', 'cutsaopaulo', 'carlosviana', 'senadorhum', 'imbcis', 'instancias', 'lupa', 'stait', 'rothier', 'quintella', 'sofie', 'sarto', 'magluta', 'pachecho', 'spina', 'autoestima', 'permanecem', 'lolodelicias', 'biancagestaodetrafego', 'giovannacaminha', 'ledajanuario', 'vborelli', 'bancoeconomico', 'assumiu', 'autorizado', 'imediatos', 'listada', 'anotabahia', 'wwwanotabahiacom', 'banho', 'deitado', 'evolui', 'eventocordier', 'eventoinsititucional', 'fortalece', 'brpartners', 'alcancarem', 'individualidade', 'espalhadas', 'bestas', 'bts', 'psbpernambuco', 'psbcidadesp', 'poderdata', 'fitchratings', 'oba', 'renature', 'guus', 'haar', 'giin', 'amsterdam', 'reinventing', 'options', 'climate', 'copanelists', 'romie', 'goedicke', 'nations', 'environment', 'programme', 'unep', 'charlotte', 'kaiser', 'matthew', 'mcluckie', 'posaidon', 'regenerate', 'regenerativeagriculture', 'impactinvesting', 'anjodpa', 'dgeek', 'tecnocubod', 'dlabs', 'printacademie', 'halloweend', 'halloweendprints', 'dprint', 'impressaodbrasil', 'documentacao', 'viidaaaaa', 'urgenteeeeee', 'suumiiuuuuuu', 'liiix', 'extorno', 'rebanho', 'merd', 'arreste', 'basicas', 'orcamentaria', 'medodeinvestir', 'medodeinvestirerrado', 'novoinvestidor', 'requisitadas', 'aulao', 'divertiram', 'academicamente', 'state', 'radioglobo', 'senadorhumberto', 'blogdojosias', 'bandfm', 'cbncampinas', 'emicida', 'revistapiaui', 'imoreirasalles', 'mailsondanobregaoficial', 'estadaoeconomia', 'proffelipe', 'aquino', 'sikerajr', 'compasso', 'velocimetro', 'aparentes', 'causados', 'umidade', 'ocasionada', 'patogeno', 'gaeumannomyces', 'graminis', 'var', 'tritici', 'sintoma', 'reboleiras', 'infeccao', 'raizes', 'coloracao', 'escura', 'aderidas', 'criteriosamente', 'detalhada', 'evidenciar', 'oestepericias', 'brasilseg', 'swissre', 'agrobrasil', 'sombrero', 'manejo', 'fitossanitario', 'goautonomous', 'ideiasdenegocios', 'gestaodenegocios', 'desenvolvimentodenegocios', 'startupnegocios', 'negocioscomproposito', 'reproducaovideo', 'comparativos', 'sabemfazer', 'importuno', 'ingressaram', 'explorados', 'gigantess', 'avaliamos', 'corrobora', 'longer', 'restritivos', 'alimentar', 'discricionario', 'tracos', 'crop', 'lavouras', 'reportada', 'estadunidense', 'tracao', 'contrari', 'assumo', 'abrirei', 'utilizarei', 'recorte', 'anfiteatro', 'poliusp', 'ists', 'percorre', 'reprodutiva', 'educativos', 'lingua', 'mestrando', 'lgbtqiapn', 'candidata', 'candidaturas', 'lbti', 'aconselha', 'psicologica', 'patr', 'incentivamos', 'ventures', 'carrullo', 'minardi', 'philippe', 'laffont', 'coatue', 'interamericana', 'oea', 'identificadas', 'instigante', 'extincao', 'chefao', 'rsrsrs', 'dinheirinho', 'mesobrigado', 'fugir', 'parabensss', 'pepe', 'golf', 'mantovanini', 'vicecampeao', 'sandoval', 'ipgc', 'fo', 'schimidt', 'janeli', 'sergineiro', 'vanderlinde', 'rggc', 'kiko', 'salomao', 'orgulhamos', 'torneiros', 'roland', 'garros', 'classic', 'rendera', 'openspgc', 'reencontralo', 'assistidos', 'reviver', 'acompanhados', 'voluntariosbtg', 'curtiram', 'ensolarado', 'interativas', 'alongamento', 'carregaremos', 'disruptivo', 'vidaaaaa', 'ismar', 'brunoismar', 'rvaraschin', 'vbello', 'elder', 'montes', 'quimica', 'sampaulo', 'coordenar', 'coordena', 'hispanicoslatinos', 'fei', 'ifood', 'sistemicas', 'todxs', 'captando', 'gerson', 'missoes', 'ufmg', 'aplica', 'futures', 'acendendo', 'iflcast', 'lgpriolli', 'maiskkkkk', 'financiamentoimobiliario', 'tribunadonorte', 'tribunadopovoilhabela', 'nikolasferreiramd', 'tvcancaonova', 'cancaonova', 'adbelempaoficial', 'adbrasiloficial', 'rss', 'construiu', 'breading', 'conheceriam', 'jersonz', 'eduard', 'httpswwwinstagramcomsitealoalobahia', 'localizar', 'httpswhatsfacilcomdc', 'itajai', 'altacupula', 'benevites', 'assina', 'mirando', 'httpsexamecominvestme', 'recompensas', 'ousado', 'ganhand', 'henriquedossantosazeve', 'amooooooooo', 'transferiu', 'prendeu', 'paissandu', 'treinamos', 'homenageia', 'thomaz', 'koch', 'tenista', 'manoel', 'lily', 'minhaobrigado', 'sujeitinho', 'lulacagao', 'bgancia', 'pdtsaopaulo', 'skafoficial', 'uolpolitica', 'josefucs', 'joaoamoedonovo', 'nacamara', 'josedeabreu', 'felipemelo', 'lesando', 'bancohoras', 'qualuer', 'lesado', 'acompanhalos', 'escutalos', 'reverberando', 'halle', 'baptista', 'cambada', 'xequematecastoficial', 'discriminacaolaboral', 'treinada', 'fraudada', 'enormemente', 'emblematico', 'caixinhas', 'encomendas', 'somoseven', 'obrigam', 'fertil', 'reclamava', 'alegar', 'hehe', 'fortalecimento', 'landulfo', 'prerrogativas', 'reformatacao', 'desembargador', 'ufba', 'milesimo', 'gravado', 'debati', 'moderada', 'analauraassis', 'idealizadora', 'lucioqdelfino', 'cuidaram', 'entusiamo', 'condominos', 'httpsexamecominvestmercadosbtgpactualadquirefatiadallzgarantidoradecondominios', 'esclareceram', 'disponibilizando', 'encanta', 'fonteinteliedubr', 'pitaarq', 'projetosincriveis', 'arquiteturadeinteriores', 'arquiteturadofuturo', 'arquiteturacorporativa', 'arquiteturacontemporanea', 'arquiteturaescolar', 'neuroarquitetura', 'arquiteturasensorial', 'metodosensory', 'comercializar', 'negociofechado', 'paulobio', 'datacenter', 'coordenado', 'yoshinaga', 'ricardoschweitzer', 'demostre', 'alunodpa', 'futurecom', 'birmindauto', 'weggroup', 'telecom', 'iot', 'benyfard', 'cascavel', 'organizacionais', 'pertencimento', 'lema', 'pessoascomperformance', 'somosacquavero', 'compraofluminense', 'stefanbaro', 'booker', 'conviccao', 'solido', 'colaborativa', 'janelas', 'norteasset', 'comissoes', 'capim', 'minhares', 'venco', 'recruiting', 'atentamente', 'inglaterra', 'sofrem', 'demore', 'recue', 'tentara', 'dissuadir', 'niet', 'recibos', 'responsabilizam', 'repasses', 'sports', 'assessoriadeinvestimento', 'bdr', 'cafes', 'aventuramauro', 'marreirosleandro', 'gruposouzalima', 'grandemeier', 'zonanorte', 'pratiquetenisempilares', 'despontou', 'buy', 'consumer', 'udesc', 'ufrgs', 'ibmecrj', 'fgvrj', 'apimec', 'ambima', 'hosts', 'wicz', 'usebebrasil', 'suzukimotogp', 'beomm', 'artefactooficialbrasil', 'fiideagro', 'llzebtgpactual', 'enxerguei', 'defendido', 'chegariamos', 'terminoua', 'comportar', 'viemos', 'tioricco', 'robusta', 'construaseulegado', 'preste', 'eiiii', 'desista', 'regar', 'cuidada', 'florecer', 'mimlevar', 'coffe', 'break', 'staropenfood', 'pointdasestacoesgourmet', 'eucreionodeusdoimpossivel', 'deusaindarealizasonhos', 'borapracima', 'health', 'system', 'consultingagency', 'consultingservices', 'consulting', 'businessconsulting', 'consultant', 'consultingfirm', 'consultingbusiness', 'humanresources', 'consultinglife', 'careergrowth', 'humanresourcesmanagement', 'humanresourcesconsulting', 'strategicmanagement', 'consultingproject', 'strategicmanagementconsultant', 'strategyguide', 'businessreputation', 'competitiveadvantages', 'corporatestrategy', 'personali', 'konsultanmanajemenstrategi', 'konsultanmanajemen', 'samahitawirotama', 'konsultan', 'fiborules', 'cursogratuito', 'cursodaytrade', 'fiboart', 'vanderleiendres', 'discipulado', 'robertocostadeoliveira', 'exaloficial', 'senhoras', 'acompanharem', 'btgpt', 'posta', 'acefals', 'questionar', 'doente', 'curtirem', 'guarujasp', 'apresentolhes', 'nivalda', 'enferma', 'avc', 'impossibilitada', 'pernas', 'recuperada', 'mergulhoe', 'poucosrsainda', 'ciciliato', 'politicaemfocodf', 'agustinofficial', 'michellebolsonaro', 'carolinedetoni', 'gabigol', 'hojenomundomilitar', 'trtbahia', 'anamatra', 'anamatraoficial', 'mptba', 'mptnabahia', 'pgt', 'mptrabalho', 'escolajudicial', 'oabbahia', 'juristas', 'eixos', 'tematicos', 'estruturaram', 'fomente', 'formalidade', 'priorizam', 'denali', 'rf', 'espelho', 'felipebeckel', 'pierrejadoul', 'foguetenaotemre', 'semmimimi', 'bomdiamundo', 'boatardinha', 'ifcenografia', 'workshopintegrativo', 'potencializa', 'ande', 'despiora', 'leodias', 'luislacombe', 'alvarogarnero', 'planteumaarvore', 'empresaamigadanatureza', 'arborizacao', 'assertivas', 'zeneide', 'cesarpereiraalves', 'daniellemalves', 'empurrou', 'saisse', 'delirio', 'empurrao', 'tirado', 'estagiarios', 'ombros', 'arbitros', 'arbmarcosbraga', 'ouviram', 'marceloyangfotografia', 'camilaa', 'santini', 'prontificou', 'precisasse', 'deixarmos', 'ecelente', 'clientela', 'corretagens', 'rodei', 'manual', 'projetado', 'eventosbrasil', 'facaseuorcamento', 'instawork', 'angeventos', 'cometidos', 'dificuldando', 'intelers', 'recordada', 'presenciei', 'ordenada', 'microeconomia', 'lentos', 'desmembra', 'ordenado', 'desordem', 'ineficiente', 'reitero', 'matam', 'forpus', 'squadra', 'hix', 'dacarmotorports', 'mracingportugal', 'formalizou', 'substituidas', 'patrimonios', 'ofertadas', 'creditados', 'deverao', 'custodiantes', 'morem', 'dominadas', 'escolar', 'inserindo', 'belmond', 'palace', 'paysandu', 'tenias', 'cruzada', 'passaporte', 'premiando', 'ofereceremos', 'uniformes', 'autistas', 'cadeirantes', 'dificilmente', 'alcancada', 'eden', 'pulsa', 'podido', 'resguardo', 'tan', 'fortalecido', 'jalil', 'jefe', 'andina', 'hay', 'otras', 'fuertes', 'puedan', 'hacer', 'ese', 'quite', 'oabamapa', 'comissaooab', 'cbnribeirao', 'agora', 'sbtjornalismooficial', 'gloriafpere', 'impactplusbr', 'growplusventures', 'giffoni', 'pitches', 'querodobra', 'guimassena', 'hour', 'acreditevoce', 'btgporem', 'desestimula', 'desaquece', 'fria', 'abaixe', 'raciocinio', 'aquece', 'insere', 'consumindo', 'baratos', 'aparenta', 'destampando', 'contraindo', 'precisarao', 'youtubers', 'assustados', 'colapsar', 'instituicaoempresa', 'remunere', 'aprove', 'aplicaria', 'varejistas', 'esquivafalcao', 'danielzukerma', 'atendi', 'acordou', 'dani', 'normalizado', 'bjs', 'bjbj', 'merdaaaaaaq', 'shake', 'deteriorado', 'engrandece', 'macchion', 'marieta', 'acompanhava', 'risos', 'visitava', 'acompanhala', 'respeitos', 'cogestor', 'weickert', 'alumni', 'techs', 'tourportugal', 'competindo', 'jessicacostanutri', 'elmosobralferreira', 'comecas', 'estrema', 'aumentasse', 'recuperaram', 'patriciasfx', 'harvey', 'beneficiou', 'fiespsaopaulo', 'aguinaldofsilva', 'fabioporchat', 'waldirlferraz', 'emersonsheik', 'juniordurski', 'retrato', 'reerguer', 'lucky', 'assinada', 'eike', 'brevemente', 'amadas', 'guardeos', 'sintaos', 'itapetininga', 'felipemoraes', 'rafaelplens', 'cerimonias', 'lecomkre', 'kikilecomkre', 'rtcervejaria', 'plens', 'wesleyrfilm', 'portowill', 'falcaooficial', 'joseloreto', 'francescaschiav', 'rafaelxqueiroz', 'maxfercondini', 'andreolifelipe', 'seal', 'lixoooo', 'arranje', 'bombando', 'direitaminas', 'mtcbasquete', 'redeminastv', 'recordtvminas', 'folhavitoria', 'folhanordeste', 'diariodecaratingaoficial', 'uoloficial', 'nossa', 'uol', 'uolmeunegocio', 'por', 'tomcavalcante', 'diagnostico', 'precoce', 'ambitious', 'goals', 'towards', 'care', 'welfare', 'magnificent', 'comes', 'inovation', 'oportunizar', 'consultoriafinanceira', 'montada', 'outsidertours', 'renesilva', 'loterjoficial', 'stambrasil', 'guaranaantarctica', 'avanutriequipamentos', 'frescatto', 'zinzaneoficial', 'leroymerlinriodejaneiro', 'leroymerlinbrasil', 'assaiatacadistaoficial', 'giucittadino', 'recebelos', 'cedida', 'andrewhrs', 'camisas', 'vestirao', 'sevensilksign', 'beachtennisschool', 'experimentalos', 'julgue', 'aca', 'miembros', 'construyendo', 'felicitaciones', 'alfonso', 'ovalle', 'eres', 'adelantado', 'tiempos', 'tendran', 'democratizacion', 'capitales', 'boneco', 'centralnikolasf', 'cocielo', 'clarabolica', 'desimpedidos', 'jojotodynho', 'dpf', 'alexandreramagem', 'eduardocosta', 'eduprimitivo', 'hugogloss', 'brunogagliasso', 'joicehasselmannoficial', 'hugomottapb', 'sensoincomum', 'joaoromanet', 'httpswwwbtgpactualdigitalcomcomoinvestirartigoscolunaandrebonarazaoouemocaocomotemsidoasuatomadadedecisaoaoinvestir', 'paollaoliveirareal', 'casado', 'edicoescnbb', 'uniaobrasilma', 'noutros', 'sacado', 'informada', 'braiscompany', 'ocultando', 'porrs', 'conluio', 'desercao', 'receptividade', 'sebastiao', 'paulinha', 'vinhamos', 'barro', 'valeuuu', 'hahag', 'aplicarmos', 'fecharemos', 'fernandacbaguiar', 'mamasdoamor', 'antenado', 'printado', 'transborda', 'intolerancia', 'protegela', 'unirmos', 'planejamentofinanceirocompleto', 'brazen', 'savings', 'meror', 'inshot', 'bgmi', 'maxinvest', 'ibis', 'congonhas', 'hoteleiras', 'quitara', 'finalizara', 'recebera', 'adquiridas', 'hoteis', 'zoha', 'vlzws', 'golpista', 'canalnde', 'perse', 'terrivel', 'silvana', 'chedid', 'reproducao', 'congelamento', 'ovulos', 'adia', 'motivaram', 'announcement', 'years', 'created', 'gift', 'totally', 'free', 'copy', 'paste', 'signals', 'profession', 'over', 'term', 'why', 'organizing', 'quickly', 'interested', 'send', 'telephone', 'address', 'contact', 'counting', 'aguilheiro', 'raphaellihairtherapy', 'ograorealfood', 'intimista', 'contemporaneos', 'dividiu', 'visar', 'acidente', 'vlk', 'adriano', 'preservacaodefertilidade', 'secuencia', 'sporttraits', 'arrasam', 'sincerely', 'mrs', 'commenting', 'until', 'gave', 'her', 'projecta', 'natlanussy', 'agrojovem', 'decoracaodeeventos', 'eventossp', 'redessociais', 'besteiras', 'colocava', 'sanadas', 'hdferreira', 'ffseguro', 'mitsubishimotorsofficial', 'superhomem', 'spiderman', 'medicas', 'drarenatamacchione', 'clinicadrasilvanachedid', 'venceram', 'alertam', 'fatima', 'trocou', 'mediante', 'batalhadasstartups', 'centradas', 'aperitivo', 'republiqueta', 'ericsurita', 'biakicis', 'ivesgandramartins', 'wandfc', 'spinellirallyteam', 'geopolitics', 'geoeconomics', 'create', 'massive', 'impactonhumanity', 'geoconomics', 'desentendidos', 'controladores', 'estela', 'papelmesmo', 'bolsabrasil', 'paulao', 'contea', 'maisa', 'devantasset', 'murad', 'foreverconecta', 'farteiras', 'exministro', 'pizzol', 'posiciona', 'fabril', 'materiasprimas', 'textil', 'calcadista', 'automobilistico', 'moveleiro', 'ortopedico', 'solutionswmbtgbestperformer', 'sincroniza', 'sicronizacao', 'divergente', 'choices', 'he', 'talking', 'victory', 'fight', 'against', 'star', 'dead', 'hd', 'permeiam', 'intercorrencias', 'sucessores', 'assistente', 'paulogalvaoconductor', 'hebridas', 'gruta', 'fingal', 'sinfonia', 'escocesa', 'fantasia', 'autoria', 'orquest', 'avancamos', 'atravez', 'sincronizacao', 'fdpvou', 'verms', 'transporteexecutivo', 'transfer', 'pontualidade', 'escalando', 'escalandocomkaisser', 'oskaissers', 'braip', 'klabs', 'arkad', 'spirittransfer', 'bencao', 'enganamse', 'lamentavelmente', 'consideram', 'castigo', 'ut', 'operaretur', 'trabalhasse', 'abencoada', 'diminuem', 'pontuais', 'incisso', 'desacata', 'centavos', 'cdc', 'cod', 'catastrofe', 'trinca', 'seca', 'greens', 'matutinos', 'apostadores', 'insanos', 'jiujitsu', 'edilourencopersonal', 'apostasdescomplicadas', 'petruslucchesi', 'ruisantosoficial', 'ruipedrobraz', 'ropinto', 'catarincardoso', 'camillojoga', 'elainetrevisan', 'renatasilveira', 'nivaldoprieto', 'mendoncaromulo', 'taynahespinoza', 'pedrotti', 'betfair', 'sportingbet', 'bet', 'sportsleague', 'apostasedicas', 'equipehjjt', 'hjjt', 'zn', 'premiere', 'espnbrasil', 'tntsports', 'sportvbr', 'usetitanium', 'tanaarea', 'brasileirao', 'futebolfeminino', 'canalfuteboltotal', 'falindo', 'emitida', 'incrivelas', 'convivencia', 'quande', 'renovada', 'missaosp', 'missaoempresarial', 'mulheresdenegocios', 'mge', 'politicadascoisas', 'rompem', 'timidez', 'reprodutivo', 'clinicadrasilvanachedi', 'tocar', 'laironmaiden', 'gracinhas', 'storie', 'btgpactua', 'parceladas', 'providenciar', 'unifiquem', 'antecipou', 'supervalorizacao', 'atribuindo', 'precisariamos', 'cofres', 'informam', 'gerandome', 'herdarsbrasil', 'eusouloopbrazil', 'aptas', 'inspiradas', 'bonifacia', 'veniceinvest', 'atividadefisica', 'parquemaebonifacia', 'miraggioveiculo', 'alterado', 'classicas', 'urbanoide', 'sup', 'praticarem', 'inviavel', 'kaka', 'quiero', 'vivir', 'veces', 'aunque', 'termine', 'muerta', 'jejeje', 'desafiobtgvirtual', 'deal', 'desafiou', 'divertido', 'sinusite', 'braba', 'atrapalhou', 'obedece', 'dorflex', 'caminhadas', 'thalysson', 'toques', 'apaixonar', 'evolucoes', 'currency', 'contracts', 'programavel', 'runnergirl', 'combinar', 'bike', 'arrastei', 'quemdancaemaisfeliz', 'claudiaeisabellasetaciadedanca', 'acessam', 'servidor', 'seg', 'heloalves', 'casadepedra', 'climb', 'merdas', 'desgracados', 'bostas', 'adesivo', 'mochila', 'responsabilizar', 'crimes', 'bolsonarismo', 'zamvelli', 'desmonte', 'saqueamento', 'beneficiarios', 'investirei', 'elegibilidade', 'rp', 'bancorendimento', 'edreypierre', 'pizaricardo', 'acaciodorta', 'luizapoliti', 'neela', 'neelasa', 'solucionam', 'desapontado', 'migrado', 'falardesculpas', 'plausivel', 'cortaram', 'aceitava', 'contatei', 'lamenta', 'animadoestava', 'cadastrandomais', 'desanimaram', 'veramagalhaesjornalista', 'oficialmagnomalta', 'francischini', 'heinzeoficial', 'sostenescavalcante', 'seminarioic', 'rat', 'palavrachave', 'strategy', 'sugerida', 'racheldare', 'lucaahonda', 'rivkahlovers', 'realinvestitau', 'microcreditoitau', 'tabua', 'ilumine', 'nadasuperaarotina', 'realizador', 'diversificadas', 'reportar', 'bottom', 'esperavam', 'braziljournal', 'creditonoagro', 'avancaram', 'anualizado', 'trimestres', 'dolarizar', 'udemais', 'creditodebito', 'trocados', 'negociavel', 'limitada', 'autorizei', 'debitada', 'inoperante', 'formalizei', 'indevida', 'isentoes', 'defendiam', 'davam', 'maipriandos', 'naobse', 'cobtabestar', 'judiacial', 'eravtwr', 'desbloqueada', 'wtamaster', 'tenistas', 'iga', 'swiatek', 'sakkari', 'kvitova', 'karolina', 'pliskova', 'belinda', 'bencic', 'pisos', 'ndeg', 'duplas', 'princesinhas', 'maia', 'vilarinho', 'wwwdiariocomercialcombr', 'satisfaz', 'moldaram', 'seguran', 'jabdesde', 'posicionados', 'comercializa', 'frutas', 'legumes', 'cereais', 'fazendeiros', 'camelo', 'relogios', 'banquinha', 'calcada', 'exportador', 'confirmarem', 'bloqueaana', 'fazemperder', 'prejudicado', 'receberem', 'vamooos', 'uniformizado', 'encrachazado', 'utilities', 'extraordinarias', 'nestas', 'engiebrasil', 'adie', 'aprenderparaempreender', 'empreendertransforma', 'aprendaaempreender', 'transparency', 'doubts', 'seeing', 'paid', 'deemed', 'necessary', 'public', 'them', 'suffering', 'took', 'financially', 'responsible', 'thats', 'afora', 'corajosos', 'batalhadores', 'rendeu', 'vezdont', 'desburocratizacoes', 'celebrating', 'anniversary', 'trajectory', 'plans', 'being', 'students', 'above', 'marcosalonsophoto', 'fernandakirmayr', 'ensaios', 'viandregueti', 'devoradores', 'paiso', 'desbloqueasse', 'vivest', 'actum', 'bv', 'partindo', 'ouvidoras', 'senacon', 'amaury', 'sergiogiannella', 'tratamos', 'lauratirelli', 'claudiasilvano', 'luciafariasombudsman', 'conhecelas', 'mprandini', 'login', 'ponho', 'lkkk', 'sistematicos', 'escreva', 'portifoliodeinvestimentos', 'janira', 'guibernar', 'frequenta', 'cerquese', 'cirochaves', 'importacoes', 'sincronizar', 'baguncar', 'darfs', 'elogios', 'decepcoes', 'prosseguirmos', 'eventoscampinas', 'urbanismo', 'acic', 'sanasa', 'hm', 'dbi', 'realty', 'swiss', 'thcm', 'eeletromidia', 'lg', 'savegnago', 'furlan', 'rdz', 'patriani', 'dahruj', 'incorpi', 'cristais', 'prado', 'alas', 'alegoricos', 'consulados', 'glicerio', 'correios', 'paradas', 'festividades', 'saguao', 'paco', 'municipal', 'saxofonista', 'adner', 'wr', 'producoes', 'dario', 'saadi', 'ajudarao', 'secretarias', 'flosi', 'caprioli', 'captado', 'fundacoes', 'hdf', 'atmos', 'dynamo', 'excluindo', 'maioresgestoras', 'aprendera', 'httpswwwbtgpactualdigitalcomcomoinvestirartigosinvestimentosmarcacaoamercadooqueecomofuncionaevantagens', 'pluribus', 'unum', 'cede', 'apareco', 'henaramatache', 'rocketathletes', 'cheias', 'almejamos', 'ricamorim', 'chitaozinhooficial', 'waiver', 'lavou', 'otarios', 'realpfigueiredo', 'davialcolumbre', 'colaborando', 'energetica', 'concessoes', 'panelistas', 'cintia', 'pecanha', 'guzela', 'radames', 'casseb', 'marcato', 'sattamini', 'cassaniga', 'ganut', 'uras', 'moderadores', 'perfininfraday', 'rdsummit', 'rdstation', 'derrubada', 'acusa', 'refaz', 'lambendo', 'marcellomacedoadvogados', 'sofri', 'golpee', 'usaram', 'concelho', 'cansado', 'gurus', 'enrolam', 'opcaotraders', 'retornaria', 'cairao', 'itauparaguay', 'aguarde', 'incomparavel', 'ufv', 'lotou', 'bemhumorado', 'uptheirons', 'aprisionando', 'somandam', 'esperarora', 'monicaiozzi', 'gessinger', 'sandradesa', 'filgmartin', 'maraluquet', 'mdbrs', 'arthurvirgilionetoam', 'bandnewssaopaulo', 'franceaubresil', 'australianobr', 'boldsnacks', 'imita', 'elenalandau', 'incorpora', 'impactaram', 'rusrus', 'reduzem', 'nortear', 'klabin', 'lute', 'lanccamento', 'itapetiningasp', 'macroecononomia', 'exibiu', 'jpara', 'batepapos', 'workshopdetecnologia', 'estudantedetech', 'vagasemtech', 'carreiraemtecnologia', 'vagasnomercadofinanceiro', 'vagasdeestagio', 'universitario', 'bancorandon', 'bancomasteroficial', 'financasempresariais', 'investidoresdesucesso', 'assistencia', 'sedhast', 'creditaram', 'duplo', 'anovaresearch', 'tallisgomes', 'negligenciando', 'desabamento', 'sonhados', 'fundamentado', 'alicercado', 'imperio', 'desmoronar', 'gigantesca', 'socioambiental', 'bolsistas', 'financiadas', 'equipado', 'visiveis', 'hackathons', 'formarem', 'based', 'mentoras', 'patrocinadas', 'bre', 'constroem', 'convoca', 'maravilhosamente', 'romulopessoalopes', 'lucascampos', 'caiocesarceo', 'enialago', 'oleaorugiu', 'apaixonadafa', 'ros', 'nachoguedez', 'carlosvigonbt', 'diegoaguzman', 'andrecolavita', 'gabanzola', 'fisio', 'carvajal', 'conmigo', 'itfbeachtennisworldcup', 'vivendadacrianca', 'eixo', 'intituophi', 'anajulia', 'lied', 'banks', 'helped', 'elect', 'chaotic', 'scenario', 'mazettobertelli', 'garotinhos', 'incomum', 'desistem', 'encontrados', 'dico', 'apelido', 'parabensaograndeempreendimento', 'corretara', 'estrearam', 'newmais', 'bayescapital', 'novuscapital', 'fundosmultimercado', 'miss', 'aprendermos', 'ensinou', 'genuinamente', 'missmind', 'confiem', 'retornam', 'hojemesmo', 'clientebreve', 'migrando', 'mude', 'verdadeiros', 'pattyhernandez', 'corretos', 'indenizatoria', 'pagarei', 'fraudulento', 'microempreendedores', 'luan', 'admiradora', 'transformadores', 'manduzisses', 'sejaseven', 'destacando', 'aislivres', 'prejudicada', 'filiados', 'arrecadado', 'aprovacoes', 'reuniram', 'farroupilha', 'panoramas', 'urgentemente', 'chines', 'reconducao', 'cupula', 'ccp', 'assegurou', 'escalao', 'desfavoravel', 'elevamos', 'estimativa', 'provocar', 'cautelosos', 'renovado', 'estrutural', 'enchimento', 'incessantemente', 'inundadas', 'ansiosas', 'sacolas', 'explicaremos', 'httpswwwbtgpactualdigitalcomcomoinvestirartigoscolunagustavocerbasicomprasdefimdeanocomoseplanejar', 'aprofundamos', 'urquiza', 'arquibancadas', 'pertinho', 'pulseiras', 'portaria', 'perene', 'notorio', 'torres', 'odontologiaporamor', 'qualidadeemsaude', 'checkupdigitalodontologicopreventivo', 'rhodontologia', 'antonia', 'vicentim', 'herdeiro', 'wecreatespark', 'drycatgin', 'beedoo', 'ailarning', 'azosseguros', 'geiko', 'cypreste', 'crialo', 'horrivelllllllll', 'agradando', 'constrangedor', 'aperfeicoamento', 'davis', 'partidas', 'fodacmano', 'narrar', 'construidos', 'espacosi', 'estivessemos', 'reenergizados', 'chalanaesperanca', 'silvestressc', 'cetas', 'avesdenoronha', 'ieseduca', 'infographic', 'infograficos', 'verem', 'molhos', 'marrons', 'colunas', 'rodape', 'wwwclubefiicombr', 'direction', 'deside', 'perdidas', 'bemsucedido', 'cadastrei', 'sites', 'latino', 'medeixoy', 'aliada', 'bilateral', 'piaui', 'construcoes', 'prevendo', 'estruturada', 'bureau', 'veritas', 'complementam', 'investidorqualquer', 'bolsasdevalores', 'httpsbitlyfgvfinancebtg', 'notar', 'neee', 'veniceinvestimentos', 'agenciademodelos', 'empresadeventos', 'agenciadeventos', 'empresadesucesso', 'recepcionistas', 'promotoras', 'staffs', 'barman', 'supervisao', 'sampling', 'blitz', 'saudaveis', 'httpswwwbtgpactualdigitalcomcomoinvestirartigosfinancasentendaoquesaoecomoorganizaroscustosfixosevariaveisnasfinancaspessoais', 'dominado', 'contatoinvestcombr', 'semifinal', 'formaram', 'pedrinsampaio', 'gabrielrosa', 'cout', 'vini', 'joemcopeli', 'jpcalmeida', 'gustavobagio', 'cesarmayon', 'descontam', 'caloteiro', 'telha', 'bota', 'island', 'tnthassianaves', 'extends', 'including', 'however', 'alternatives', 'include', 'fee', 'exempt', 'profitability', 'weight', 'taxes', 'usually', 'factor', 'considered', 'choice', 'depends', 'profile', 'count', 'answer', 'questions', 'clarify', 'important', 'information', 'challenges', 'professionals', 'capable', 'providing', 'decisions', 'ofinanceira', 'financialplanning', 'faaase', 'primordios', 'diadoempreendedorismofeminino', 'alugados', 'resgatados', 'pedra', 'aguia', 'vescovi', 'minhamelhorescolha', 'maiorbancodeinvestimentodaamericala', 'tina', 'nomadedigital', 'fitnessgirl', 'believe', 'believeinyourself', 'vemserbtgpactualdigital', 'vemtrabalharfeliz', 'gerentebanco', 'vistaacamisa', 'luxurytm', 'infinity', 'antecipadamente', 'disparar', 'viveram', 'acompanhamentos', 'enthusiasm', 'participation', 'carried', 'months', 'mentoring', 'followup', 'sustainability', 'expansion', 'participating', 'presentations', 'sideways', 'iffarcampuspanambi', 'georgeleandro', 'caroleucht', 'alxbossi', 'mentalmente', 'irritam', 'encaram', 'gentis', 'desperdicam', 'vindas', 'existia', 'culinaria', 'lrimeiro', 'agradou', 'blogjoaoalberto', 'walmorsouza', 'mfmarinaclube', 'thalytakarla', 'dpretosambaclub', 'dronepac', 'draadelinaodonto', 'kakatorga', 'angelicapontual', 'adricavalcanti', 'coopanestal', 'cooperados', 'treinaram', 'fest', 'aliar', 'teen', 'friendly', 'petiscos', 'paisefilhossm', 'japonesa', 'sushiyoubrasil', 'feijoada', 'picoles', 'soleneveoficial', 'reuna', 'jf', 'juizdefora', 'assuntaoficial', 'fanfest', 'dfdgsdf', 'cronograma', 'ocorrerao', 'desconfortavel', 'aproximado', 'liquidadas', 'reembolso', 'deter', 'inteiras', 'juncao', 'possuida', 'multiplicada', 'guine', 'bissau', 'complicada', 'assinantes', 'class', 'mariba', 'fracionarias', 'cobrassem', 'investigado', 'continuarao', 'sujos', 'impressiona', 'brutalmente', 'atacada', 'brito', 'representara', 'bramex', 'alugada', 'aumentarao', 'arcadas', 'fundosimo', 'falcatruas', 'enganados', 'optou', 'zerei', 'devida', 'tratativa', 'escarnio', 'eur', 'mico', 'gte', 'faltar', 'goleiro', 'zagueiros', 'defensiva', 'meiocampo', 'armar', 'gerem', 'atacantes', 'contraataque', 'escalacao', 'doarmos', 'permitirmos', 'rosewoodsaopaulo', 'trousseauoficial', 'ara', 'vartanian', 'aigaispa', 'calliechocolats', 'mulapreta', 'nbsteak', 'avecgastronomie', 'donalboyd', 'brothersbarsp', 'titinaleao', 'mattardenise', 'bases', 'caimanpantanal', 'pousadatrijuncao', 'anavilhanaslodge', 'inimigosdahpoficial', 'alankinx', 'klebbertoledo', 'henrizylber', 'rayssalealsk', 'wsl', 'rubarrichello', 'fhits', 'coordinareeventos', 'ffreixosa', 'thabatacordeirofotografa', 'oluiz', 'apensar', 'ficaremos', 'aderentes', 'aderente', 'il', 'nostro', 'lavoro', 'lungo', 'finalidades', 'converter', 'nomad', 'pontuam', 'aprovarem', 'arnold', 'schwarzenegger', 'nostra', 'strada', 'lunga', 'avantgardemotors', 'votou', 'fundamentonet', 'colaboracoes', 'guardioes', 'arabe', 'cravar', 'herois', 'sinonimo', 'ciclismo', 'terco', 'televisao', 'patrocinios', 'schiller', 'proponho', 'liceu', 'miolo', 'cracolandia', 'dirigido', 'padres', 'maristas', 'secular', 'ipses', 'literis', 'qye', 'auxilios', 'institucionalizadas', 'cronometro', 'programese', 'custodiar', 'escolhermos', 'favoritas', 'agradaram', 'interbr', 'personalite', 'avelme', 'garcaequities', 'teso', 'inspecao', 'veterinaria', 'warm', 'rola', 'michelinbrasil', 'hipismorj', 'comemorativo', 'juntospelaconservacao', 'btgpacutal', 'apology', 'doubt', 'sincerity', 'professionalism', 'received', 'second', 'became', 'payments', 'bahiaaaaa', 'hapvidasaude', 'escaladas', 'sttos', 'respostando', 'nuncamais', 'automaticas', 'coursedesigner', 'sagrouse', 'polana', 'derrube', 'camps', 'seletiva', 'disputado', 'prestigiada', 'gsttrader', 'evoluimos', 'mariadaltoe', 'caiocasabona', 'jubasa', 'matheusdmgomes', 'cesarpriolo', 'sicchi', 'importantissimos', 'helenapipa', 'jamillecunhadesa', 'carlamfmiranda', 'rekastrup', 'fredmafort', 'giovannahgn', 'alaislima', 'artesanatos', 'joneves', 'gracebijueacessorios', 'rosamssrj', 'germanacombr', 'criativartes', 'neiadecoracoes', 'iraciartesa', 'criacoesbyana', 'mamaditeiu', 'renataabranchsbranding', 'criavel', 'seimrio', 'parceriacarioca', 'colaborario', 'joselealze', 'atelie', 'murilomelo', 'elenamartinis', 'afabula', 'artrio', 'widecomunicacaoexpandida', 'institutorme', 'bezzoura', 'champs', 'henessy', 'hst', 'roza', 'orange', 'hipismobr', 'uirapuru', 'distribuiram', 'assistiram', 'judocas', 'exercicios', 'tati', 'randoris', 'impressionados', 'apreciarem', 'churros', 'pasteis', 'refrigerante', 'suco', 'diadascriancas', 'caisdosertao', 'artfair', 'vernhalia', 'caique', 'dantas', 'fraudes', 'lose', 'happens', 'failure', 'cause', 'trying', 'cotinuously', 'fortunately', 'smiling', 'getting', 'involved', 'him', 'presenteando', 'combr', 'aniversariosolidario', 'comparecer', 'usain', 'bolt', 'levaremos', 'confiaveis', 'operamos', 'empenha', 'proativa', 'sistematica', 'dealerem', 'horus', 'financie', 'horusdistribuidora', 'financiamentosolar', 'broadcast', 'classificadora', 'austin', 'heldt', 'tristeee', 'mantenham', 'bloomcapitalbtg', 'httpswwwbtgpactualdigitalcomcomoinvestirartigosbibliotecabtgresenhadolivroinvestimentossegredoseconselhos', 'retornando', 'pressionando', 'vestuarios', 'usualmente', 'antecedem', 'branda', 'agregado', 'catalisado', 'passagens', 'subjacentes', 'bcb', 'deterioracao', 'impulsionada', 'desoneracoes', 'tributarias', 'vetor', 'depreciacao', 'dificultar', 'produtivos', 'trajetor', 'pontualmente', 'possuam', 'concertar', 'sogro', 'mereciamos', 'puxando', 'nunbak', 'cliques', 'arie', 'carneiro', 'brisa', 'demaiso', 'ruan', 'ferrao', 'chaves', 'ch', 'cascharella', 'cher', 'araucaria', 'chiroccco', 'cyrana', 'ferruci', 'bredariol', 'nobu', 'pullman', 'bisco', 'shaitaan', 'krisbel', 'ferluche', 'kergas', 'gazarin', 'pafflam', 'klynberg', 'noronha', 'tergilene', 'salek', 'thelma', 'olivia', 'pastore', 'vilela', 'sil', 'cleo', 'cesnik', 'cassanto', 'botelho', 'greenlees', 'veneur', 'ste', 'hermelle', 'kraus', 'hfg', 'mandaliti', 'balada', 'umburanas', 'christiani', 'marchezoni', 'junqueira', 'bf', 'jessica', 'dejet', 'platina', 'hfb', 'diaratha', 'ctropicana', 'isabella', 'tovani', 'chevaux', 'jlp', 'mr', 'lou', 'paraa', 'yamim', 'bollywood', 'dialoubet', 'daram', 'porcs', 'princess', 'revel', 'repetindo', 'vencemos', 'cobicado', 'saltei', 'egua', 'comemorou', 'saltar', 'dinoso', 'integrando', 'medalhista', 'hipicapaulista', 'worldcupqualifier', 'seniortop', 'rme', 'sacaneada', 'semvergonha', 'imagino', 'incerto', 'receio', 'canarinho', 'verdeeamarelo', 'copadavida', 'avisando', 'desconfiei', 'saberem', 'numbak', 'chorar', 'mimimi', 'trabalharia', 'admissao', 'imediata', 'precifcar', 'associaria', 'carente', 'pauloguedes', 'matrizcapital', 'aragon', 'agenteautonomosdeinvestimentos', 'investimentosalternativos', 'enriquecendo', 'afastem', 'incomodo', 'desmascarar', 'armado', 'vassalo', 'pica', 'ahh', 'selecaobrasileira', 'vinijr', 'tornese', 'necessitadas', 'saladaorganicaosocial', 'saladaorganica', 'projetosarcah', 'contribua', 'moradoresderua', 'ajudeaspessoas', 'euacreditoempessoasboas', 'jornadadaautonomia', 'agricultoresdobem', 'permacultura', 'vergnh', 'rezudir', 'limitedo', 'encerraremos', 'financiou', 'demitiram', 'tristeza', 'manterem', 'ottinho', 'paranaense', 'sotaque', 'ingressei', 'otimize', 'conquiste', 'octoeducacional', 'samanthaborges', 'octorbtg', 'ucasamadeu', 'precariedade', 'isentando', 'totamente', 'cometeu', 'indole', 'constrangimentos', 'guys', 'ask', 'ones', 'highly', 'recommend', 'here', 'addition', 'having', 'realtime', 'simulator', 'allows', 'keep', 'operate', 'request', 'behavior', 'thus', 'develop', 'faster', 'reda', 'marica', 'uspara', 'japao', 'presal', 'presalt', 'alaska', 'norges', 'comedor', 'calango', 'respeitavel', 'cristao', 'terrorista', 'lambancas', 'httpsdataworldbankorgindicatornygdppcapcadêzglocationsbrnow', 'httpsdataworldbankorgindicatornygdppcapcdlocationsbrnow', 'entro', 'efeitomanada', 'perfildeinvestidor', 'amantes', 'bicampeao', 'gps', 'novinho', 'trofeurobertomarinho', 'grandslam', 'cuma', 'malabarismo', 'guedesoficial', 'cbnsalvadoroficial', 'jornalbsm', 'nikolasferreiraadm', 'falho', 'armadilha', 'ilusoes', 'fragil', 'foguetinho', 'sito', 'conhecera', 'quebre', 'republicanos', 'bolsonarotv', 'terrabrasilnoticias', 'vlogdolisboa', 'andrefernandesbr', 'meciasdejesus', 'jonathannemer', 'robertomottaoficial', 'marceloque', 'jornalfolhanoroeste', 'folhailustrada', 'embaixadajapao', 'ukinbrazil', 'brasiliauae', 'suicanobrasil', 'italyinbrazil', 'embaixadacoreia', 'embamexbra', 'embaixadadoira', 'australianobrasil', 'embaargenbrasil', 'austriaembaixada', 'juventudepsdb', 'psdbrs', 'canonbr', 'stm', 'canoncollegeoficial', 'adobe', 'adobebra', 'canond', 'canoneos', 'canoneosd', 'canonphotography', 'canonprogear', 'canonmm', 'canonmmstm', 'canoncamera', 'canonlens', 'urbanphotography', 'pagalo', 'controleemocional', 'apsicologiafinanceira', 'facilitadores', 'otimizada', 'tiramos', 'prezamos', 'csna', 'bpan', 'embr', 'forexsignals', 'entrepreneur', 'forexlife', 'technicalanalysis', 'swingtrading', 'financialfreedom', 'forexmarket', 'confra', 'araceli', 'chacon', 'inv', 'cadastra', 'sequencias', 'acompanharlos', 'perseveranca', 'superacoes', 'fofa', 'encantam', 'avinday', 'multiartista', 'cabral', 'estudou', 'artista', 'plastico', 'pinturas', 'realismo', 'diaspora', 'parecem', 'fotoshooting', 'exibindo', 'vestidos', 'altacostura', 'remetendo', 'brasilidade', 'mistico', 'comercializadas', 'originais', 'prints', 'store', 'armazen', 'alfredo', 'atacadista', 'distribuidor', 'df', 'sindiatacadistadf', 'sankhyagestao', 'distribuidora', 'sankhya', 'interestelar', 'cordeirodias', 'ohh', 'coelhinho', 'atendam', 'selecionei', 'ifx', 'ostentar', 'guadakan', 'espetaculo', 'concert', 'anotem', 'convencoes', 'sessoes', 'lembramos', 'coreografo', 'chico', 'neller', 'cpanufmsoficial', 'sebraems']\n",
      "[[0. 1. 0. ... 0. 0. 0.]\n",
      " [0. 1. 1. ... 0. 0. 0.]\n",
      " [0. 0. 0. ... 0. 0. 0.]\n",
      " ...\n",
      " [0. 2. 5. ... 0. 0. 0.]\n",
      " [0. 1. 1. ... 1. 1. 1.]\n",
      " [0. 0. 1. ... 0. 0. 0.]]\n"
     ]
    }
   ],
   "source": [
    "#execução do modelo, e salvamento de variaveis\n",
    "vetor,dicionario = (modeloBow(df['texto']))\n",
    "dicionario = list(dicionario.word_index.keys())\n",
    "print(dicionario)\n",
    "print(vetor)"
   ]
  },
  {
   "cell_type": "markdown",
   "metadata": {
    "id": "lcrXY9o89bNg"
   },
   "source": [
    "#### 4.3.1 Criação de dataframe com resultado final"
   ]
  },
  {
   "cell_type": "markdown",
   "metadata": {
    "id": "SayKYNkDyRoM"
   },
   "source": [
    "Nesse dataframe encontra-se o resultado obtido após a execução da função pipeline."
   ]
  },
  {
   "cell_type": "code",
   "execution_count": 23,
   "metadata": {
    "colab": {
     "base_uri": "https://localhost:8080/",
     "height": 1000
    },
    "id": "BRPOsLKK9gSr",
    "outputId": "a9a7bb24-89e5-45ed-c724-68775e9e041e"
   },
   "outputs": [
    {
     "ename": "NameError",
     "evalue": "name 'vetor' is not defined",
     "output_type": "error",
     "traceback": [
      "\u001b[0;31m---------------------------------------------------------------------------\u001b[0m",
      "\u001b[0;31mNameError\u001b[0m                                 Traceback (most recent call last)",
      "Cell \u001b[0;32mIn[23], line 2\u001b[0m\n\u001b[1;32m      1\u001b[0m \u001b[38;5;66;03m#adequação do vetor                                                                                                               #adequando o tamanho do vetor\u001b[39;00m\n\u001b[0;32m----> 2\u001b[0m vetorTabela \u001b[38;5;241m=\u001b[39m \u001b[43mvetor\u001b[49m[:, \u001b[38;5;241m1\u001b[39m:]\n\u001b[1;32m      3\u001b[0m \u001b[38;5;66;03m#criando data frame\u001b[39;00m\n\u001b[1;32m      4\u001b[0m dfBagOfWords \u001b[38;5;241m=\u001b[39m pd\u001b[38;5;241m.\u001b[39mDataFrame(vetorTabela, columns\u001b[38;5;241m=\u001b[39mdicionario, index\u001b[38;5;241m=\u001b[39mdadosTratados)\n",
      "\u001b[0;31mNameError\u001b[0m: name 'vetor' is not defined"
     ]
    }
   ],
   "source": [
    "#adequação do vetor                                                                                                               #adequando o tamanho do vetor\n",
    "vetorTabela = vetor[:, 1:]\n",
    "#criando data frame\n",
    "dfBagOfWords = pd.DataFrame(vetorTabela, columns=dicionario, index=dadosTratados)\n",
    "dfBagOfWords"
   ]
  },
  {
   "cell_type": "markdown",
   "metadata": {
    "id": "5tAPjt6tqQgv"
   },
   "source": [
    "#### 4.3.2 Exportação do resultado"
   ]
  },
  {
   "cell_type": "markdown",
   "metadata": {
    "id": "LHfPmzqZqdR8"
   },
   "source": [
    "Abaixo, é possível ver a geração de um arquivo csv, com o resultado do modelo:"
   ]
  },
  {
   "cell_type": "code",
   "execution_count": null,
   "metadata": {
    "id": "x2xonxwrqa1a"
   },
   "outputs": [],
   "source": [
    "#Criação de csv com resultado do modelo\n",
    "dfBagOfWords.to_csv('resultadoBOW.csv', index=False)"
   ]
  },
  {
   "cell_type": "markdown",
   "metadata": {
    "id": "6eiF27pNmMSB"
   },
   "source": [
    "### 4.4 Representação visual"
   ]
  },
  {
   "cell_type": "markdown",
   "metadata": {
    "id": "R_1_Kgrgo3b1"
   },
   "source": [
    "##### 4.4.1 Tabela de frequência"
   ]
  },
  {
   "cell_type": "markdown",
   "metadata": {
    "id": "jizhSpNU4LxC"
   },
   "source": [
    "Definição de função para contar quantas vezes cada palavra se repetiu."
   ]
  },
  {
   "cell_type": "code",
   "execution_count": null,
   "metadata": {
    "id": "Y_uRXGHi-E3m"
   },
   "outputs": [],
   "source": [
    "#código para gerar a matriz de repetição das palavras\n",
    "def contarPalavras(dicionario, matriz):\n",
    "    dicionario = [''] + dicionario\n",
    "    contagemPalavras = [0] * len(dicionario)\n",
    "    for i, palavra in enumerate(dicionario):\n",
    "        for j in range(len(matriz)):\n",
    "            contagemPalavras[i] += matriz[j][i]\n",
    "    contagemDf = pd.DataFrame({'palavra': dicionario, 'repetição': contagemPalavras})\n",
    "    return contagemDf.iloc[1:]\n"
   ]
  },
  {
   "cell_type": "markdown",
   "metadata": {
    "id": "qPiwacrA4e-o"
   },
   "source": [
    "Chamando a função para \"contarPalavras\", para gerar uma tabela"
   ]
  },
  {
   "cell_type": "code",
   "execution_count": null,
   "metadata": {
    "id": "GSAAY367EgAW"
   },
   "outputs": [],
   "source": [
    "tabela = contarPalavras(dicionario, vetor)"
   ]
  },
  {
   "cell_type": "markdown",
   "metadata": {
    "id": "OMaSVvIs4qyK"
   },
   "source": [
    "Abaixo é possível visualizar quantas vezes cada palavra estava presente nos comentários fornecidos."
   ]
  },
  {
   "cell_type": "code",
   "execution_count": null,
   "metadata": {
    "id": "Bi7bCszhF3B9"
   },
   "outputs": [],
   "source": [
    "tabela.head(10)"
   ]
  },
  {
   "cell_type": "markdown",
   "metadata": {
    "id": "XNd7hriGo95i"
   },
   "source": [
    "##### 4.4.2 Núvem de palavras"
   ]
  },
  {
   "cell_type": "markdown",
   "metadata": {
    "id": "X57SFEXTw7Yz"
   },
   "source": [
    "A nuvem de palavras foi utilizada como representação visual das palavras mais relevantes dos comentários analisados, nela o tamanho de cada palavra é proporcional à frequência em que ele aparece. Ela contribui com modelo de bow ao destacar os termos-chave e a resumir rapidamente o conteúdo mais expressivo dos comentários."
   ]
  },
  {
   "cell_type": "markdown",
   "metadata": {
    "id": "-oSvYGqmxIuY"
   },
   "source": [
    "##### 4.4.2.1 setup"
   ]
  },
  {
   "cell_type": "code",
   "execution_count": null,
   "metadata": {
    "id": "sttKWefhxQYc"
   },
   "outputs": [],
   "source": [
    "#bibliotecas utilizadas\n",
    "from wordcloud import WordCloud\n",
    "import matplotlib.pyplot as plt"
   ]
  },
  {
   "cell_type": "markdown",
   "metadata": {
    "id": "GCt_yFL2xXa1"
   },
   "source": [
    "##### 4.4.2.2 Definição da função"
   ]
  },
  {
   "cell_type": "markdown",
   "metadata": {
    "id": "It6VqV9qxtFM"
   },
   "source": [
    "Definindo função que ira gerar a nuvem de palavras"
   ]
  },
  {
   "cell_type": "code",
   "execution_count": null,
   "metadata": {
    "id": "sgbRXgeRmMSE"
   },
   "outputs": [],
   "source": [
    "#definição da função\n",
    "def gerarNuvemPalavras(matrizRec, vocabulario):\n",
    "    # Cria um dicionário com as palavras do vocabulário e suas frequências na matriz de recorrência\n",
    "    freqPalavras = dict(zip(vocabulario, matrizRec.sum(axis=0)))\n",
    "    \n",
    "    # Cria uma instância da classe WordCloud com as configurações desejadas\n",
    "    nuvemPalavras = WordCloud(width=8000, height=4000, background_color='white', colormap='viridis')\n",
    "    \n",
    "    # Gera a nuvem de palavras a partir do dicionário de frequências\n",
    "    nuvemPalavras.generate_from_frequencies(freqPalavras)\n",
    "    \n",
    "    # Exibe a nuvem de palavras\n",
    "    plt.figure(figsize=(12,6))\n",
    "    plt.imshow(nuvemPalavras, interpolation='bilinear')\n",
    "    plt.axis('off')\n",
    "    plt.show()"
   ]
  },
  {
   "cell_type": "markdown",
   "metadata": {
    "id": "Y_aiBJhAxd_Y"
   },
   "source": [
    "##### 4.4.2.4 Visualização"
   ]
  },
  {
   "cell_type": "markdown",
   "metadata": {
    "id": "Qn36m-cNxpjL"
   },
   "source": [
    "Abaixo e possivel visualizar a nuvem de palavras:"
   ]
  },
  {
   "cell_type": "code",
   "execution_count": null,
   "metadata": {
    "id": "dR1KF075mMSF"
   },
   "outputs": [],
   "source": [
    "gerarNuvemPalavras(vetor, dicionario)"
   ]
  },
  {
   "cell_type": "markdown",
   "metadata": {
    "id": "9KhmkjUxYV_0"
   },
   "source": []
  },
  {
   "cell_type": "markdown",
   "metadata": {
    "id": "4nhw22t9-_t2"
   },
   "source": [
    "## 5.0 Word2vec pré - treinado"
   ]
  },
  {
   "cell_type": "markdown",
   "metadata": {
    "id": "FLimHLeKDoS3"
   },
   "source": [
    "### 5.1 Setup do modelo"
   ]
  },
  {
   "cell_type": "code",
   "execution_count": 24,
   "metadata": {
    "id": "CvtZsHr1AQAW"
   },
   "outputs": [],
   "source": [
    "#setup\n",
    "import gensim\n",
    "from scipy.spatial.distance import cosine\n",
    "from gensim.models import KeyedVectors"
   ]
  },
  {
   "cell_type": "code",
   "execution_count": 25,
   "metadata": {
    "id": "RDxTkm0A_T9g"
   },
   "outputs": [],
   "source": [
    "#Carregando o modelo\n",
    "modelo_cbow = KeyedVectors.load_word2vec_format(\"../../../bases/cbow_s50.txt\")"
   ]
  },
  {
   "cell_type": "markdown",
   "metadata": {
    "id": "vqbfSexYDdku"
   },
   "source": [
    "### 5.2 definição de funções"
   ]
  },
  {
   "cell_type": "code",
   "execution_count": 26,
   "metadata": {
    "id": "KWplLW_gA_JJ"
   },
   "outputs": [],
   "source": [
    "def word2Vec(coluna):\n",
    "# lista que armazena os vetores resultantes de todas as frases\n",
    "  x = []\n",
    "  for i in range(0,len(coluna)):\n",
    "# lista que armazena os vetores das palavras de cada frase\n",
    "    vetor = []\n",
    "    for h in range(0,len(coluna[i])):\n",
    "      vetor.append(modelo_cbow[h])\n",
    "# soma dos vetores de todas as palavras \n",
    "    x.append(list(map(sum, zip(*vetor))))\n",
    "    vetor=[]\n",
    "  print(x)\n",
    "  return x"
   ]
  },
  {
   "cell_type": "markdown",
   "metadata": {
    "id": "6zkUYC9tElZS"
   },
   "source": [
    "### 5.3 teste da funções"
   ]
  },
  {
   "cell_type": "code",
   "execution_count": 27,
   "metadata": {
    "id": "qLdvFwVQJOYr"
   },
   "outputs": [
    {
     "ename": "NameError",
     "evalue": "name 'tokenizar' is not defined",
     "output_type": "error",
     "traceback": [
      "\u001b[0;31m---------------------------------------------------------------------------\u001b[0m",
      "\u001b[0;31mNameError\u001b[0m                                 Traceback (most recent call last)",
      "Cell \u001b[0;32mIn[27], line 2\u001b[0m\n\u001b[1;32m      1\u001b[0m \u001b[38;5;66;03m# chama a função Word2Vec para testá-la\u001b[39;00m\n\u001b[0;32m----> 2\u001b[0m testeword2Vec \u001b[38;5;241m=\u001b[39m word2Vec(df[\u001b[38;5;124m'\u001b[39m\u001b[38;5;124mtexto\u001b[39m\u001b[38;5;124m'\u001b[39m]\u001b[38;5;241m.\u001b[39mapply(\u001b[43mtokenizar\u001b[49m))\n\u001b[1;32m      3\u001b[0m \u001b[38;5;66;03m#criação de um Dataframe para visualizar o resultado\u001b[39;00m\n\u001b[1;32m      4\u001b[0m dfTesteword2Vec \u001b[38;5;241m=\u001b[39m pd\u001b[38;5;241m.\u001b[39mDataFrame(testeword2Vec)\n",
      "\u001b[0;31mNameError\u001b[0m: name 'tokenizar' is not defined"
     ]
    }
   ],
   "source": [
    "# chama a função Word2Vec para testá-la\n",
    "testeword2Vec = word2Vec(df['texto'].apply(tokenizar))\n",
    "#criação de um Dataframe para visualizar o resultado\n",
    "dfTesteword2Vec = pd.DataFrame(testeword2Vec)\n",
    "dfTesteword2Vec"
   ]
  },
  {
   "cell_type": "markdown",
   "metadata": {
    "id": "3xg3bw7LNZoq"
   },
   "source": [
    "### 5.4 Teste isolado"
   ]
  },
  {
   "cell_type": "markdown",
   "metadata": {
    "id": "9LJXHKx5NZoq"
   },
   "source": [
    "Esses teste tem como objetivo comprovar que os vetores estão sendo corretamente somados"
   ]
  },
  {
   "cell_type": "markdown",
   "metadata": {
    "id": "Hperzg5hNZor"
   },
   "source": [
    "O codigo abaixo ainda não soma os vetores de cada palvra da frase"
   ]
  },
  {
   "cell_type": "code",
   "execution_count": null,
   "metadata": {
    "id": "0PAEXyPJNZor"
   },
   "outputs": [],
   "source": [
    "#teste que converte palavras em vetores e retorna uma lista de vetores resultantes\n",
    "def word2Vecteste(coluna):\n",
    "#armazena os vetores resultantes\n",
    "  x = []\n",
    "  for i in range(0,len(coluna)):\n",
    "    vetor = []\n",
    "#armazena todos os vetores de todas as palavras\n",
    "    for h in range(0,len(coluna[i])):\n",
    "      vetor.append(modelo_cbow[h])\n",
    "    x.append(vetor)\n",
    "    vetor=[]\n",
    "  print(x)\n",
    "  return x"
   ]
  },
  {
   "cell_type": "markdown",
   "metadata": {
    "id": "QeM6An48NZor"
   },
   "source": [
    "Abaixo esta sendo executado o teste da função"
   ]
  },
  {
   "cell_type": "code",
   "execution_count": null,
   "metadata": {
    "id": "JohOWluUNZor"
   },
   "outputs": [],
   "source": [
    "# gera os vetores das 10 primeiras frases\n",
    "testeSoma = word2Vecteste(df['texto'].apply(tokenizar).head(10))\n",
    "#criação de um dataframe para retornar o valor do 'testeSoma' que contém a lista de vetores resultantes\n",
    "dftesteSoma = pd.DataFrame(testeSoma)\n",
    "testeSoma"
   ]
  },
  {
   "cell_type": "markdown",
   "metadata": {
    "id": "E0416A8mNZos"
   },
   "source": [
    "#### Comprovação"
   ]
  },
  {
   "cell_type": "markdown",
   "metadata": {
    "id": "ff-y2nw1NZos"
   },
   "source": [
    "Abaixo e possivel ver a 3 coluna do df['texto'], que sera utilizada como exemplo para esse teste."
   ]
  },
  {
   "cell_type": "code",
   "execution_count": null,
   "metadata": {
    "id": "9U2ALly5NZos"
   },
   "outputs": [],
   "source": [
    "df['texto'][3]"
   ]
  },
  {
   "cell_type": "markdown",
   "metadata": {
    "id": "l8j8tKtvNZos"
   },
   "source": [
    "Abaixo e possivel ver o vetor de cada palavra da coluna 3 do df['texto'], que sera utilizada como exemplo para esse teste."
   ]
  },
  {
   "cell_type": "code",
   "execution_count": null,
   "metadata": {
    "id": "qjFHNZkfNZot"
   },
   "outputs": [],
   "source": [
    "testeSoma[3]"
   ]
  },
  {
   "cell_type": "markdown",
   "metadata": {
    "id": "k8eKNfH2NZot"
   },
   "source": [
    "Como e possivel observar a primeira linha de cada correspondem ao valores -0.01, 0.094044, -0.036609"
   ]
  },
  {
   "cell_type": "markdown",
   "metadata": {
    "id": "8ltxh6lWNZou"
   },
   "source": [
    "Abaixo e possivel visualizar o resultado da soma vetorial, no caso 0.047435"
   ]
  },
  {
   "cell_type": "code",
   "execution_count": null,
   "metadata": {
    "id": "mLmbztGANZou"
   },
   "outputs": [],
   "source": [
    "dfTesteword2Vec[0][3]"
   ]
  },
  {
   "cell_type": "code",
   "execution_count": null,
   "metadata": {
    "id": "uHogBCgJNZou"
   },
   "outputs": [],
   "source": [
    "testeSomaExemplo = - 0.01 + 0.094044 - 0.036609\n",
    "testeSomaExemplo"
   ]
  },
  {
   "cell_type": "markdown",
   "metadata": {
    "id": "7nIa3y_gNZo0"
   },
   "source": [
    "Como é possível observar, utilizando esse exemplo da coluna 3, a soma dos vetores das 3 palavras e 0.047435, assim como é possível observar no resultado da função original. Comprovando assim que a soma vetorial foi executada de forma correta."
   ]
  },
  {
   "cell_type": "code",
   "execution_count": null,
   "metadata": {
    "id": "7uREIlrST0rR"
   },
   "outputs": [],
   "source": []
  },
  {
   "cell_type": "markdown",
   "metadata": {
    "id": "VLVFJWXTMfZD"
   },
   "source": [
    "### 5.5 Modelo Word2vec pré - treinado"
   ]
  },
  {
   "cell_type": "markdown",
   "metadata": {
    "id": "5oNq2dvuShUZ"
   },
   "source": [
    "#### 5.5.1 definição"
   ]
  },
  {
   "cell_type": "markdown",
   "metadata": {
    "id": "hRIOL8qkRh1A"
   },
   "source": [
    "Abaixo e definido modelo word2vec, funcionando em conjunto com a pipeline."
   ]
  },
  {
   "cell_type": "code",
   "execution_count": 28,
   "metadata": {
    "id": "BGt86wHTOE2d"
   },
   "outputs": [],
   "source": [
    "def modeloWord2Vec(coluna):\n",
    "  #Recebe os dados a ser realizado o BOW\n",
    "  frases = pipeline(coluna)\n",
    "  #Cria os tokens a serem utilizados pelo modelo\n",
    "  frases = frases.apply(tokenizar)\n",
    "  #aplica a função de word2vec\n",
    "  vetores = word2Vec(frases)\n",
    "  #retorna o reusltado\n",
    "  return vetores"
   ]
  },
  {
   "cell_type": "markdown",
   "metadata": {
    "id": "r02Y_YugSkWv"
   },
   "source": [
    "#### 5.5.2 teste"
   ]
  },
  {
   "cell_type": "markdown",
   "metadata": {
    "id": "GEXci2I0OG_o"
   },
   "source": [
    "Abaixo e possivel vizualisar o modelo word2vec, funcionando em conjunto com a pipeline"
   ]
  },
  {
   "cell_type": "code",
   "execution_count": 31,
   "metadata": {
    "id": "pTH40sERPRhv"
   },
   "outputs": [
    {
     "name": "stderr",
     "output_type": "stream",
     "text": [
      "IOPub data rate exceeded.\n",
      "The Jupyter server will temporarily stop sending output\n",
      "to the client in order to avoid crashing it.\n",
      "To change this limit, set the config variable\n",
      "`--ServerApp.iopub_data_rate_limit`.\n",
      "\n",
      "Current values:\n",
      "ServerApp.iopub_data_rate_limit=1000000.0 (bytes/sec)\n",
      "ServerApp.rate_limit_window=3.0 (secs)\n",
      "\n"
     ]
    }
   ],
   "source": [
    "resultadoModeloWord2Vec= modeloWord2Vec(df['texto'])"
   ]
  },
  {
   "cell_type": "markdown",
   "metadata": {
    "id": "QVrikqtMSXIP"
   },
   "source": [
    "####  5.5.3 Criando dataframe "
   ]
  },
  {
   "cell_type": "code",
   "execution_count": 33,
   "metadata": {
    "id": "o-we9jwTTCAX"
   },
   "outputs": [
    {
     "data": {
      "text/html": [
       "<div>\n",
       "<style scoped>\n",
       "    .dataframe tbody tr th:only-of-type {\n",
       "        vertical-align: middle;\n",
       "    }\n",
       "\n",
       "    .dataframe tbody tr th {\n",
       "        vertical-align: top;\n",
       "    }\n",
       "\n",
       "    .dataframe thead th {\n",
       "        text-align: right;\n",
       "    }\n",
       "</style>\n",
       "<table border=\"1\" class=\"dataframe\">\n",
       "  <thead>\n",
       "    <tr style=\"text-align: right;\">\n",
       "      <th></th>\n",
       "      <th>0</th>\n",
       "      <th>1</th>\n",
       "      <th>2</th>\n",
       "      <th>3</th>\n",
       "      <th>4</th>\n",
       "      <th>5</th>\n",
       "      <th>6</th>\n",
       "      <th>7</th>\n",
       "      <th>8</th>\n",
       "      <th>9</th>\n",
       "      <th>...</th>\n",
       "      <th>40</th>\n",
       "      <th>41</th>\n",
       "      <th>42</th>\n",
       "      <th>43</th>\n",
       "      <th>44</th>\n",
       "      <th>45</th>\n",
       "      <th>46</th>\n",
       "      <th>47</th>\n",
       "      <th>48</th>\n",
       "      <th>49</th>\n",
       "    </tr>\n",
       "  </thead>\n",
       "  <tbody>\n",
       "    <tr>\n",
       "      <th>0</th>\n",
       "      <td>1.383377</td>\n",
       "      <td>-2.654717</td>\n",
       "      <td>-1.405555</td>\n",
       "      <td>-3.668075</td>\n",
       "      <td>0.229193</td>\n",
       "      <td>0.304061</td>\n",
       "      <td>-1.807550</td>\n",
       "      <td>-0.759527</td>\n",
       "      <td>-4.674443</td>\n",
       "      <td>-4.022112</td>\n",
       "      <td>...</td>\n",
       "      <td>0.220864</td>\n",
       "      <td>-3.715628</td>\n",
       "      <td>-0.508049</td>\n",
       "      <td>-1.681060</td>\n",
       "      <td>0.322339</td>\n",
       "      <td>3.070996</td>\n",
       "      <td>-1.145615</td>\n",
       "      <td>-0.220174</td>\n",
       "      <td>-1.008628</td>\n",
       "      <td>4.302267</td>\n",
       "    </tr>\n",
       "    <tr>\n",
       "      <th>1</th>\n",
       "      <td>1.283763</td>\n",
       "      <td>-3.410798</td>\n",
       "      <td>-2.465253</td>\n",
       "      <td>-3.282195</td>\n",
       "      <td>0.012297</td>\n",
       "      <td>-0.849639</td>\n",
       "      <td>-1.143002</td>\n",
       "      <td>-0.586896</td>\n",
       "      <td>-4.501272</td>\n",
       "      <td>-3.937777</td>\n",
       "      <td>...</td>\n",
       "      <td>0.604381</td>\n",
       "      <td>-5.294922</td>\n",
       "      <td>-0.893327</td>\n",
       "      <td>-0.872390</td>\n",
       "      <td>1.264841</td>\n",
       "      <td>2.869610</td>\n",
       "      <td>-0.396956</td>\n",
       "      <td>-0.465566</td>\n",
       "      <td>-2.063515</td>\n",
       "      <td>4.795250</td>\n",
       "    </tr>\n",
       "    <tr>\n",
       "      <th>2</th>\n",
       "      <td>0.047435</td>\n",
       "      <td>-0.007625</td>\n",
       "      <td>0.173723</td>\n",
       "      <td>-0.445078</td>\n",
       "      <td>-0.058977</td>\n",
       "      <td>-0.182599</td>\n",
       "      <td>-0.079506</td>\n",
       "      <td>-0.220796</td>\n",
       "      <td>-0.265243</td>\n",
       "      <td>-0.346969</td>\n",
       "      <td>...</td>\n",
       "      <td>-0.012755</td>\n",
       "      <td>-0.238091</td>\n",
       "      <td>0.309302</td>\n",
       "      <td>-0.140818</td>\n",
       "      <td>-0.078406</td>\n",
       "      <td>-0.180135</td>\n",
       "      <td>0.013944</td>\n",
       "      <td>-0.043409</td>\n",
       "      <td>0.288535</td>\n",
       "      <td>0.232324</td>\n",
       "    </tr>\n",
       "    <tr>\n",
       "      <th>3</th>\n",
       "      <td>NaN</td>\n",
       "      <td>NaN</td>\n",
       "      <td>NaN</td>\n",
       "      <td>NaN</td>\n",
       "      <td>NaN</td>\n",
       "      <td>NaN</td>\n",
       "      <td>NaN</td>\n",
       "      <td>NaN</td>\n",
       "      <td>NaN</td>\n",
       "      <td>NaN</td>\n",
       "      <td>...</td>\n",
       "      <td>NaN</td>\n",
       "      <td>NaN</td>\n",
       "      <td>NaN</td>\n",
       "      <td>NaN</td>\n",
       "      <td>NaN</td>\n",
       "      <td>NaN</td>\n",
       "      <td>NaN</td>\n",
       "      <td>NaN</td>\n",
       "      <td>NaN</td>\n",
       "      <td>NaN</td>\n",
       "    </tr>\n",
       "    <tr>\n",
       "      <th>4</th>\n",
       "      <td>0.106028</td>\n",
       "      <td>0.121924</td>\n",
       "      <td>0.139373</td>\n",
       "      <td>-0.918912</td>\n",
       "      <td>0.004461</td>\n",
       "      <td>-0.216214</td>\n",
       "      <td>-0.204989</td>\n",
       "      <td>-0.420545</td>\n",
       "      <td>-0.648111</td>\n",
       "      <td>-0.363125</td>\n",
       "      <td>...</td>\n",
       "      <td>-0.179132</td>\n",
       "      <td>-0.510152</td>\n",
       "      <td>0.635353</td>\n",
       "      <td>-0.319989</td>\n",
       "      <td>-0.392927</td>\n",
       "      <td>0.184347</td>\n",
       "      <td>-0.225403</td>\n",
       "      <td>0.008890</td>\n",
       "      <td>0.201078</td>\n",
       "      <td>0.354131</td>\n",
       "    </tr>\n",
       "    <tr>\n",
       "      <th>...</th>\n",
       "      <td>...</td>\n",
       "      <td>...</td>\n",
       "      <td>...</td>\n",
       "      <td>...</td>\n",
       "      <td>...</td>\n",
       "      <td>...</td>\n",
       "      <td>...</td>\n",
       "      <td>...</td>\n",
       "      <td>...</td>\n",
       "      <td>...</td>\n",
       "      <td>...</td>\n",
       "      <td>...</td>\n",
       "      <td>...</td>\n",
       "      <td>...</td>\n",
       "      <td>...</td>\n",
       "      <td>...</td>\n",
       "      <td>...</td>\n",
       "      <td>...</td>\n",
       "      <td>...</td>\n",
       "      <td>...</td>\n",
       "      <td>...</td>\n",
       "    </tr>\n",
       "    <tr>\n",
       "      <th>9482</th>\n",
       "      <td>0.106028</td>\n",
       "      <td>0.121924</td>\n",
       "      <td>0.139373</td>\n",
       "      <td>-0.918912</td>\n",
       "      <td>0.004461</td>\n",
       "      <td>-0.216214</td>\n",
       "      <td>-0.204989</td>\n",
       "      <td>-0.420545</td>\n",
       "      <td>-0.648111</td>\n",
       "      <td>-0.363125</td>\n",
       "      <td>...</td>\n",
       "      <td>-0.179132</td>\n",
       "      <td>-0.510152</td>\n",
       "      <td>0.635353</td>\n",
       "      <td>-0.319989</td>\n",
       "      <td>-0.392927</td>\n",
       "      <td>0.184347</td>\n",
       "      <td>-0.225403</td>\n",
       "      <td>0.008890</td>\n",
       "      <td>0.201078</td>\n",
       "      <td>0.354131</td>\n",
       "    </tr>\n",
       "    <tr>\n",
       "      <th>9483</th>\n",
       "      <td>1.815789</td>\n",
       "      <td>-2.876974</td>\n",
       "      <td>-1.558797</td>\n",
       "      <td>-3.573577</td>\n",
       "      <td>1.132767</td>\n",
       "      <td>-0.111063</td>\n",
       "      <td>-1.510444</td>\n",
       "      <td>-0.775099</td>\n",
       "      <td>-4.272242</td>\n",
       "      <td>-3.677279</td>\n",
       "      <td>...</td>\n",
       "      <td>0.356593</td>\n",
       "      <td>-4.013429</td>\n",
       "      <td>-0.626634</td>\n",
       "      <td>-1.653492</td>\n",
       "      <td>0.486769</td>\n",
       "      <td>2.573709</td>\n",
       "      <td>0.071672</td>\n",
       "      <td>-0.287472</td>\n",
       "      <td>-0.189655</td>\n",
       "      <td>3.710586</td>\n",
       "    </tr>\n",
       "    <tr>\n",
       "      <th>9484</th>\n",
       "      <td>0.836931</td>\n",
       "      <td>-4.082651</td>\n",
       "      <td>-2.630611</td>\n",
       "      <td>-4.756009</td>\n",
       "      <td>-0.629420</td>\n",
       "      <td>-0.144831</td>\n",
       "      <td>-1.697202</td>\n",
       "      <td>-0.302105</td>\n",
       "      <td>-5.067372</td>\n",
       "      <td>-5.055635</td>\n",
       "      <td>...</td>\n",
       "      <td>-0.118279</td>\n",
       "      <td>-6.384274</td>\n",
       "      <td>-0.833756</td>\n",
       "      <td>0.019192</td>\n",
       "      <td>1.295962</td>\n",
       "      <td>3.993481</td>\n",
       "      <td>0.281847</td>\n",
       "      <td>0.516516</td>\n",
       "      <td>-3.820503</td>\n",
       "      <td>6.278456</td>\n",
       "    </tr>\n",
       "    <tr>\n",
       "      <th>9485</th>\n",
       "      <td>0.068602</td>\n",
       "      <td>-8.919511</td>\n",
       "      <td>-2.793904</td>\n",
       "      <td>-7.389237</td>\n",
       "      <td>-0.428109</td>\n",
       "      <td>-0.655916</td>\n",
       "      <td>-1.413017</td>\n",
       "      <td>0.700860</td>\n",
       "      <td>-5.643440</td>\n",
       "      <td>-7.405999</td>\n",
       "      <td>...</td>\n",
       "      <td>-0.731742</td>\n",
       "      <td>-7.833986</td>\n",
       "      <td>-0.155092</td>\n",
       "      <td>-0.787291</td>\n",
       "      <td>3.670361</td>\n",
       "      <td>7.178771</td>\n",
       "      <td>-0.241885</td>\n",
       "      <td>-0.687680</td>\n",
       "      <td>-7.578391</td>\n",
       "      <td>5.693573</td>\n",
       "    </tr>\n",
       "    <tr>\n",
       "      <th>9486</th>\n",
       "      <td>0.948231</td>\n",
       "      <td>-0.942366</td>\n",
       "      <td>-0.010881</td>\n",
       "      <td>-2.126990</td>\n",
       "      <td>0.949057</td>\n",
       "      <td>-0.365847</td>\n",
       "      <td>-0.170032</td>\n",
       "      <td>-1.474218</td>\n",
       "      <td>-2.592782</td>\n",
       "      <td>-1.941407</td>\n",
       "      <td>...</td>\n",
       "      <td>0.838269</td>\n",
       "      <td>-2.599074</td>\n",
       "      <td>0.021309</td>\n",
       "      <td>-0.552362</td>\n",
       "      <td>0.259679</td>\n",
       "      <td>0.921726</td>\n",
       "      <td>-0.890135</td>\n",
       "      <td>1.305274</td>\n",
       "      <td>0.611135</td>\n",
       "      <td>1.765292</td>\n",
       "    </tr>\n",
       "  </tbody>\n",
       "</table>\n",
       "<p>9487 rows × 50 columns</p>\n",
       "</div>"
      ],
      "text/plain": [
       "            0         1         2         3         4         5         6   \\\n",
       "0     1.383377 -2.654717 -1.405555 -3.668075  0.229193  0.304061 -1.807550   \n",
       "1     1.283763 -3.410798 -2.465253 -3.282195  0.012297 -0.849639 -1.143002   \n",
       "2     0.047435 -0.007625  0.173723 -0.445078 -0.058977 -0.182599 -0.079506   \n",
       "3          NaN       NaN       NaN       NaN       NaN       NaN       NaN   \n",
       "4     0.106028  0.121924  0.139373 -0.918912  0.004461 -0.216214 -0.204989   \n",
       "...        ...       ...       ...       ...       ...       ...       ...   \n",
       "9482  0.106028  0.121924  0.139373 -0.918912  0.004461 -0.216214 -0.204989   \n",
       "9483  1.815789 -2.876974 -1.558797 -3.573577  1.132767 -0.111063 -1.510444   \n",
       "9484  0.836931 -4.082651 -2.630611 -4.756009 -0.629420 -0.144831 -1.697202   \n",
       "9485  0.068602 -8.919511 -2.793904 -7.389237 -0.428109 -0.655916 -1.413017   \n",
       "9486  0.948231 -0.942366 -0.010881 -2.126990  0.949057 -0.365847 -0.170032   \n",
       "\n",
       "            7         8         9   ...        40        41        42  \\\n",
       "0    -0.759527 -4.674443 -4.022112  ...  0.220864 -3.715628 -0.508049   \n",
       "1    -0.586896 -4.501272 -3.937777  ...  0.604381 -5.294922 -0.893327   \n",
       "2    -0.220796 -0.265243 -0.346969  ... -0.012755 -0.238091  0.309302   \n",
       "3          NaN       NaN       NaN  ...       NaN       NaN       NaN   \n",
       "4    -0.420545 -0.648111 -0.363125  ... -0.179132 -0.510152  0.635353   \n",
       "...        ...       ...       ...  ...       ...       ...       ...   \n",
       "9482 -0.420545 -0.648111 -0.363125  ... -0.179132 -0.510152  0.635353   \n",
       "9483 -0.775099 -4.272242 -3.677279  ...  0.356593 -4.013429 -0.626634   \n",
       "9484 -0.302105 -5.067372 -5.055635  ... -0.118279 -6.384274 -0.833756   \n",
       "9485  0.700860 -5.643440 -7.405999  ... -0.731742 -7.833986 -0.155092   \n",
       "9486 -1.474218 -2.592782 -1.941407  ...  0.838269 -2.599074  0.021309   \n",
       "\n",
       "            43        44        45        46        47        48        49  \n",
       "0    -1.681060  0.322339  3.070996 -1.145615 -0.220174 -1.008628  4.302267  \n",
       "1    -0.872390  1.264841  2.869610 -0.396956 -0.465566 -2.063515  4.795250  \n",
       "2    -0.140818 -0.078406 -0.180135  0.013944 -0.043409  0.288535  0.232324  \n",
       "3          NaN       NaN       NaN       NaN       NaN       NaN       NaN  \n",
       "4    -0.319989 -0.392927  0.184347 -0.225403  0.008890  0.201078  0.354131  \n",
       "...        ...       ...       ...       ...       ...       ...       ...  \n",
       "9482 -0.319989 -0.392927  0.184347 -0.225403  0.008890  0.201078  0.354131  \n",
       "9483 -1.653492  0.486769  2.573709  0.071672 -0.287472 -0.189655  3.710586  \n",
       "9484  0.019192  1.295962  3.993481  0.281847  0.516516 -3.820503  6.278456  \n",
       "9485 -0.787291  3.670361  7.178771 -0.241885 -0.687680 -7.578391  5.693573  \n",
       "9486 -0.552362  0.259679  0.921726 -0.890135  1.305274  0.611135  1.765292  \n",
       "\n",
       "[9487 rows x 50 columns]"
      ]
     },
     "execution_count": 33,
     "metadata": {},
     "output_type": "execute_result"
    }
   ],
   "source": [
    "dfresultadoModeloWord2Vec = pd.DataFrame(resultadoModeloWord2Vec)\n",
    "dfresultadoModeloWord2Vec"
   ]
  },
  {
   "cell_type": "markdown",
   "metadata": {
    "id": "LueBMrl2TOX-"
   },
   "source": [
    "#### 5.5.4 exportando resultado"
   ]
  },
  {
   "cell_type": "code",
   "execution_count": 34,
   "metadata": {
    "id": "-FZQ8rkZTQ4q"
   },
   "outputs": [],
   "source": [
    "dfresultadoModeloWord2Vec.to_csv('resultadoWord2vec.csv', index=False)"
   ]
  },
  {
   "cell_type": "markdown",
   "metadata": {
    "id": "aVY71weAfoP4"
   },
   "source": [
    "## 6.0 Modelos"
   ]
  },
  {
   "cell_type": "markdown",
   "metadata": {
    "id": "BMFbcHrCk7f8"
   },
   "source": [
    "### Naive Bayes com Word2Vec"
   ]
  },
  {
   "cell_type": "code",
   "execution_count": 35,
   "metadata": {
    "id": "918QrKLYnVao"
   },
   "outputs": [],
   "source": [
    "#verificar quais indices tem um valor nulo\n",
    "indices_nan = dfresultadoModeloWord2Vec[dfresultadoModeloWord2Vec[1].isna()].index\n",
    "\n",
    "dfresultadoModeloWord2Vec = dfresultadoModeloWord2Vec.drop(indices_nan)\n",
    "df = df.drop(indices_nan)\n",
    "\n",
    "#Traduzir as tuplas que contem negativo para 0 e as que contem neutro e positivo para 1\n",
    "df['sentimento'] = df['sentimento'].replace({'POSITIVE': 0, 'NEUTRAL': 0, 'NEGATIVE': 1})"
   ]
  },
  {
   "cell_type": "code",
   "execution_count": 36,
   "metadata": {
    "id": "FEuUwKYNlBbm"
   },
   "outputs": [],
   "source": [
    "previsores = dfresultadoModeloWord2Vec\n",
    "classe = df['sentimento']\n",
    "\n",
    "classe = classe.ravel()\n",
    "\n",
    "X_train, X_test, y_train, Y_test = train_test_split (previsores, classe, test_size=0.5)"
   ]
  },
  {
   "cell_type": "code",
   "execution_count": 37,
   "metadata": {
    "id": "mBJ2a4-LmLOi"
   },
   "outputs": [],
   "source": [
    "model = GaussianNB()"
   ]
  },
  {
   "cell_type": "code",
   "execution_count": 38,
   "metadata": {
    "id": "CzlIIpJLmOmI"
   },
   "outputs": [
    {
     "data": {
      "text/html": [
       "<style>#sk-container-id-1 {color: black;background-color: white;}#sk-container-id-1 pre{padding: 0;}#sk-container-id-1 div.sk-toggleable {background-color: white;}#sk-container-id-1 label.sk-toggleable__label {cursor: pointer;display: block;width: 100%;margin-bottom: 0;padding: 0.3em;box-sizing: border-box;text-align: center;}#sk-container-id-1 label.sk-toggleable__label-arrow:before {content: \"▸\";float: left;margin-right: 0.25em;color: #696969;}#sk-container-id-1 label.sk-toggleable__label-arrow:hover:before {color: black;}#sk-container-id-1 div.sk-estimator:hover label.sk-toggleable__label-arrow:before {color: black;}#sk-container-id-1 div.sk-toggleable__content {max-height: 0;max-width: 0;overflow: hidden;text-align: left;background-color: #f0f8ff;}#sk-container-id-1 div.sk-toggleable__content pre {margin: 0.2em;color: black;border-radius: 0.25em;background-color: #f0f8ff;}#sk-container-id-1 input.sk-toggleable__control:checked~div.sk-toggleable__content {max-height: 200px;max-width: 100%;overflow: auto;}#sk-container-id-1 input.sk-toggleable__control:checked~label.sk-toggleable__label-arrow:before {content: \"▾\";}#sk-container-id-1 div.sk-estimator input.sk-toggleable__control:checked~label.sk-toggleable__label {background-color: #d4ebff;}#sk-container-id-1 div.sk-label input.sk-toggleable__control:checked~label.sk-toggleable__label {background-color: #d4ebff;}#sk-container-id-1 input.sk-hidden--visually {border: 0;clip: rect(1px 1px 1px 1px);clip: rect(1px, 1px, 1px, 1px);height: 1px;margin: -1px;overflow: hidden;padding: 0;position: absolute;width: 1px;}#sk-container-id-1 div.sk-estimator {font-family: monospace;background-color: #f0f8ff;border: 1px dotted black;border-radius: 0.25em;box-sizing: border-box;margin-bottom: 0.5em;}#sk-container-id-1 div.sk-estimator:hover {background-color: #d4ebff;}#sk-container-id-1 div.sk-parallel-item::after {content: \"\";width: 100%;border-bottom: 1px solid gray;flex-grow: 1;}#sk-container-id-1 div.sk-label:hover label.sk-toggleable__label {background-color: #d4ebff;}#sk-container-id-1 div.sk-serial::before {content: \"\";position: absolute;border-left: 1px solid gray;box-sizing: border-box;top: 0;bottom: 0;left: 50%;z-index: 0;}#sk-container-id-1 div.sk-serial {display: flex;flex-direction: column;align-items: center;background-color: white;padding-right: 0.2em;padding-left: 0.2em;position: relative;}#sk-container-id-1 div.sk-item {position: relative;z-index: 1;}#sk-container-id-1 div.sk-parallel {display: flex;align-items: stretch;justify-content: center;background-color: white;position: relative;}#sk-container-id-1 div.sk-item::before, #sk-container-id-1 div.sk-parallel-item::before {content: \"\";position: absolute;border-left: 1px solid gray;box-sizing: border-box;top: 0;bottom: 0;left: 50%;z-index: -1;}#sk-container-id-1 div.sk-parallel-item {display: flex;flex-direction: column;z-index: 1;position: relative;background-color: white;}#sk-container-id-1 div.sk-parallel-item:first-child::after {align-self: flex-end;width: 50%;}#sk-container-id-1 div.sk-parallel-item:last-child::after {align-self: flex-start;width: 50%;}#sk-container-id-1 div.sk-parallel-item:only-child::after {width: 0;}#sk-container-id-1 div.sk-dashed-wrapped {border: 1px dashed gray;margin: 0 0.4em 0.5em 0.4em;box-sizing: border-box;padding-bottom: 0.4em;background-color: white;}#sk-container-id-1 div.sk-label label {font-family: monospace;font-weight: bold;display: inline-block;line-height: 1.2em;}#sk-container-id-1 div.sk-label-container {text-align: center;}#sk-container-id-1 div.sk-container {/* jupyter's `normalize.less` sets `[hidden] { display: none; }` but bootstrap.min.css set `[hidden] { display: none !important; }` so we also need the `!important` here to be able to override the default hidden behavior on the sphinx rendered scikit-learn.org. See: https://github.com/scikit-learn/scikit-learn/issues/21755 */display: inline-block !important;position: relative;}#sk-container-id-1 div.sk-text-repr-fallback {display: none;}</style><div id=\"sk-container-id-1\" class=\"sk-top-container\"><div class=\"sk-text-repr-fallback\"><pre>GaussianNB()</pre><b>In a Jupyter environment, please rerun this cell to show the HTML representation or trust the notebook. <br />On GitHub, the HTML representation is unable to render, please try loading this page with nbviewer.org.</b></div><div class=\"sk-container\" hidden><div class=\"sk-item\"><div class=\"sk-estimator sk-toggleable\"><input class=\"sk-toggleable__control sk-hidden--visually\" id=\"sk-estimator-id-1\" type=\"checkbox\" checked><label for=\"sk-estimator-id-1\" class=\"sk-toggleable__label sk-toggleable__label-arrow\">GaussianNB</label><div class=\"sk-toggleable__content\"><pre>GaussianNB()</pre></div></div></div></div></div>"
      ],
      "text/plain": [
       "GaussianNB()"
      ]
     },
     "execution_count": 38,
     "metadata": {},
     "output_type": "execute_result"
    }
   ],
   "source": [
    "model.fit(X_train, y_train)"
   ]
  },
  {
   "cell_type": "code",
   "execution_count": 39,
   "metadata": {
    "id": "SL5OClUqmQ1W"
   },
   "outputs": [
    {
     "data": {
      "text/plain": [
       "0.4517479074347612"
      ]
     },
     "execution_count": 39,
     "metadata": {},
     "output_type": "execute_result"
    }
   ],
   "source": [
    "model.score(X_test,Y_test)"
   ]
  },
  {
   "cell_type": "markdown",
   "metadata": {
    "id": "iqyd_LA4mWuc"
   },
   "source": [
    "### Naive Bayes com BagOfWords"
   ]
  },
  {
   "cell_type": "code",
   "execution_count": 40,
   "metadata": {
    "id": "2kvWFzffmeeP"
   },
   "outputs": [
    {
     "name": "stdout",
     "output_type": "stream",
     "text": [
      "[[0. 1. 0. ... 0. 0. 0.]\n",
      " [0. 1. 1. ... 0. 0. 0.]\n",
      " [0. 0. 0. ... 0. 0. 0.]\n",
      " ...\n",
      " [0. 2. 5. ... 0. 0. 0.]\n",
      " [0. 1. 1. ... 1. 1. 1.]\n",
      " [0. 0. 1. ... 0. 0. 0.]]\n"
     ]
    }
   ],
   "source": [
    "vetor,dicionario = (modeloBow(df['texto']))\n",
    "print(vetor)"
   ]
  },
  {
   "cell_type": "code",
   "execution_count": 41,
   "metadata": {
    "id": "k5RR-t33mkq7"
   },
   "outputs": [],
   "source": [
    "previsores = vetor\n",
    "classe = df['sentimento']\n",
    "\n",
    "classe = classe.ravel()\n",
    "\n",
    "from sklearn.model_selection import train_test_split\n",
    "X_train, X_test, y_train, Y_test = train_test_split (previsores, classe, test_size=0.5)"
   ]
  },
  {
   "cell_type": "code",
   "execution_count": 42,
   "metadata": {
    "id": "L8-ZiUQnmvH3"
   },
   "outputs": [],
   "source": [
    "model2 = GaussianNB()"
   ]
  },
  {
   "cell_type": "code",
   "execution_count": 43,
   "metadata": {
    "id": "i_mKeIvkmxLI"
   },
   "outputs": [
    {
     "data": {
      "text/html": [
       "<style>#sk-container-id-2 {color: black;background-color: white;}#sk-container-id-2 pre{padding: 0;}#sk-container-id-2 div.sk-toggleable {background-color: white;}#sk-container-id-2 label.sk-toggleable__label {cursor: pointer;display: block;width: 100%;margin-bottom: 0;padding: 0.3em;box-sizing: border-box;text-align: center;}#sk-container-id-2 label.sk-toggleable__label-arrow:before {content: \"▸\";float: left;margin-right: 0.25em;color: #696969;}#sk-container-id-2 label.sk-toggleable__label-arrow:hover:before {color: black;}#sk-container-id-2 div.sk-estimator:hover label.sk-toggleable__label-arrow:before {color: black;}#sk-container-id-2 div.sk-toggleable__content {max-height: 0;max-width: 0;overflow: hidden;text-align: left;background-color: #f0f8ff;}#sk-container-id-2 div.sk-toggleable__content pre {margin: 0.2em;color: black;border-radius: 0.25em;background-color: #f0f8ff;}#sk-container-id-2 input.sk-toggleable__control:checked~div.sk-toggleable__content {max-height: 200px;max-width: 100%;overflow: auto;}#sk-container-id-2 input.sk-toggleable__control:checked~label.sk-toggleable__label-arrow:before {content: \"▾\";}#sk-container-id-2 div.sk-estimator input.sk-toggleable__control:checked~label.sk-toggleable__label {background-color: #d4ebff;}#sk-container-id-2 div.sk-label input.sk-toggleable__control:checked~label.sk-toggleable__label {background-color: #d4ebff;}#sk-container-id-2 input.sk-hidden--visually {border: 0;clip: rect(1px 1px 1px 1px);clip: rect(1px, 1px, 1px, 1px);height: 1px;margin: -1px;overflow: hidden;padding: 0;position: absolute;width: 1px;}#sk-container-id-2 div.sk-estimator {font-family: monospace;background-color: #f0f8ff;border: 1px dotted black;border-radius: 0.25em;box-sizing: border-box;margin-bottom: 0.5em;}#sk-container-id-2 div.sk-estimator:hover {background-color: #d4ebff;}#sk-container-id-2 div.sk-parallel-item::after {content: \"\";width: 100%;border-bottom: 1px solid gray;flex-grow: 1;}#sk-container-id-2 div.sk-label:hover label.sk-toggleable__label {background-color: #d4ebff;}#sk-container-id-2 div.sk-serial::before {content: \"\";position: absolute;border-left: 1px solid gray;box-sizing: border-box;top: 0;bottom: 0;left: 50%;z-index: 0;}#sk-container-id-2 div.sk-serial {display: flex;flex-direction: column;align-items: center;background-color: white;padding-right: 0.2em;padding-left: 0.2em;position: relative;}#sk-container-id-2 div.sk-item {position: relative;z-index: 1;}#sk-container-id-2 div.sk-parallel {display: flex;align-items: stretch;justify-content: center;background-color: white;position: relative;}#sk-container-id-2 div.sk-item::before, #sk-container-id-2 div.sk-parallel-item::before {content: \"\";position: absolute;border-left: 1px solid gray;box-sizing: border-box;top: 0;bottom: 0;left: 50%;z-index: -1;}#sk-container-id-2 div.sk-parallel-item {display: flex;flex-direction: column;z-index: 1;position: relative;background-color: white;}#sk-container-id-2 div.sk-parallel-item:first-child::after {align-self: flex-end;width: 50%;}#sk-container-id-2 div.sk-parallel-item:last-child::after {align-self: flex-start;width: 50%;}#sk-container-id-2 div.sk-parallel-item:only-child::after {width: 0;}#sk-container-id-2 div.sk-dashed-wrapped {border: 1px dashed gray;margin: 0 0.4em 0.5em 0.4em;box-sizing: border-box;padding-bottom: 0.4em;background-color: white;}#sk-container-id-2 div.sk-label label {font-family: monospace;font-weight: bold;display: inline-block;line-height: 1.2em;}#sk-container-id-2 div.sk-label-container {text-align: center;}#sk-container-id-2 div.sk-container {/* jupyter's `normalize.less` sets `[hidden] { display: none; }` but bootstrap.min.css set `[hidden] { display: none !important; }` so we also need the `!important` here to be able to override the default hidden behavior on the sphinx rendered scikit-learn.org. See: https://github.com/scikit-learn/scikit-learn/issues/21755 */display: inline-block !important;position: relative;}#sk-container-id-2 div.sk-text-repr-fallback {display: none;}</style><div id=\"sk-container-id-2\" class=\"sk-top-container\"><div class=\"sk-text-repr-fallback\"><pre>GaussianNB()</pre><b>In a Jupyter environment, please rerun this cell to show the HTML representation or trust the notebook. <br />On GitHub, the HTML representation is unable to render, please try loading this page with nbviewer.org.</b></div><div class=\"sk-container\" hidden><div class=\"sk-item\"><div class=\"sk-estimator sk-toggleable\"><input class=\"sk-toggleable__control sk-hidden--visually\" id=\"sk-estimator-id-2\" type=\"checkbox\" checked><label for=\"sk-estimator-id-2\" class=\"sk-toggleable__label sk-toggleable__label-arrow\">GaussianNB</label><div class=\"sk-toggleable__content\"><pre>GaussianNB()</pre></div></div></div></div></div>"
      ],
      "text/plain": [
       "GaussianNB()"
      ]
     },
     "execution_count": 43,
     "metadata": {},
     "output_type": "execute_result"
    }
   ],
   "source": [
    "model2.fit(X_train, y_train)"
   ]
  },
  {
   "cell_type": "code",
   "execution_count": 44,
   "metadata": {
    "id": "iUKyrsdpm8_Z"
   },
   "outputs": [
    {
     "data": {
      "text/plain": [
       "0.6511570654849828"
      ]
     },
     "execution_count": 44,
     "metadata": {},
     "output_type": "execute_result"
    }
   ],
   "source": [
    "model2.score(X_test,Y_test)"
   ]
  },
  {
   "cell_type": "markdown",
   "metadata": {
    "id": "rk0Y0b61m-pZ"
   },
   "source": [
    "### Rede Neural com Word2Vec"
   ]
  },
  {
   "cell_type": "code",
   "execution_count": 45,
   "metadata": {
    "id": "T7mPm9kRnQml"
   },
   "outputs": [],
   "source": [
    "#Importacao Necessárias\n",
    "\n",
    "import keras\n",
    "from keras.models import Sequential\n",
    "from keras.layers import Dense\n",
    "from sklearn.metrics import confusion_matrix, accuracy_score\n",
    "from imblearn.over_sampling import SMOTE\n",
    "from keras.utils import to_categorical"
   ]
  },
  {
   "cell_type": "code",
   "execution_count": 46,
   "metadata": {
    "id": "unFAKvXHoHMG"
   },
   "outputs": [],
   "source": [
    "# Organizar os previsores e classes\n",
    "previsores = dfresultadoModeloWord2Vec\n",
    "classe = df['sentimento']"
   ]
  },
  {
   "cell_type": "code",
   "execution_count": 47,
   "metadata": {
    "id": "MzJhtNvJneTT"
   },
   "outputs": [],
   "source": [
    "#Balanciamento das classes ultilizando a biblioteca smote\n",
    "smote = SMOTE()\n",
    "X_resampled, y_resampled = smote.fit_resample(previsores, classe)\n",
    "\n",
    "previsores = pd.DataFrame(X_resampled)\n",
    "classe = pd.DataFrame(y_resampled)"
   ]
  },
  {
   "cell_type": "code",
   "execution_count": 48,
   "metadata": {
    "id": "U3UQu7ZfoAQW"
   },
   "outputs": [],
   "source": [
    "#Divisão treinamento e teste\n",
    "previsores_treinamento, previsores_teste, classe_treinamento, classe_teste = train_test_split(previsores,classe, test_size = 0.25)"
   ]
  },
  {
   "cell_type": "code",
   "execution_count": 49,
   "metadata": {
    "id": "Ydm24A5Zob4D"
   },
   "outputs": [
    {
     "name": "stdout",
     "output_type": "stream",
     "text": [
      "Epoch 1/30\n",
      "10/10 [==============================] - 0s 834us/step - loss: 0.6848 - accuracy: 0.5406\n",
      "Epoch 2/30\n",
      "10/10 [==============================] - 0s 731us/step - loss: 0.6733 - accuracy: 0.6044\n",
      "Epoch 3/30\n",
      "10/10 [==============================] - 0s 899us/step - loss: 0.6686 - accuracy: 0.6208\n",
      "Epoch 4/30\n",
      "10/10 [==============================] - 0s 687us/step - loss: 0.6663 - accuracy: 0.6247\n",
      "Epoch 5/30\n",
      "10/10 [==============================] - 0s 860us/step - loss: 0.6634 - accuracy: 0.6253\n",
      "Epoch 6/30\n",
      "10/10 [==============================] - 0s 687us/step - loss: 0.6617 - accuracy: 0.6310\n",
      "Epoch 7/30\n",
      "10/10 [==============================] - 0s 824us/step - loss: 0.6608 - accuracy: 0.6359\n",
      "Epoch 8/30\n",
      "10/10 [==============================] - 0s 743us/step - loss: 0.6592 - accuracy: 0.6375\n",
      "Epoch 9/30\n",
      "10/10 [==============================] - 0s 805us/step - loss: 0.6584 - accuracy: 0.6356\n",
      "Epoch 10/30\n",
      "10/10 [==============================] - 0s 686us/step - loss: 0.6573 - accuracy: 0.6380\n",
      "Epoch 11/30\n",
      "10/10 [==============================] - 0s 766us/step - loss: 0.6561 - accuracy: 0.6384\n",
      "Epoch 12/30\n",
      "10/10 [==============================] - 0s 707us/step - loss: 0.6552 - accuracy: 0.6386\n",
      "Epoch 13/30\n",
      "10/10 [==============================] - 0s 740us/step - loss: 0.6545 - accuracy: 0.6374\n",
      "Epoch 14/30\n",
      "10/10 [==============================] - 0s 643us/step - loss: 0.6537 - accuracy: 0.6399\n",
      "Epoch 15/30\n",
      "10/10 [==============================] - 0s 740us/step - loss: 0.6531 - accuracy: 0.6367\n",
      "Epoch 16/30\n",
      "10/10 [==============================] - 0s 739us/step - loss: 0.6539 - accuracy: 0.6352\n",
      "Epoch 17/30\n",
      "10/10 [==============================] - 0s 775us/step - loss: 0.6525 - accuracy: 0.6346\n",
      "Epoch 18/30\n",
      "10/10 [==============================] - 0s 717us/step - loss: 0.6521 - accuracy: 0.6377\n",
      "Epoch 19/30\n",
      "10/10 [==============================] - 0s 769us/step - loss: 0.6523 - accuracy: 0.6350\n",
      "Epoch 20/30\n",
      "10/10 [==============================] - 0s 707us/step - loss: 0.6513 - accuracy: 0.6346\n",
      "Epoch 21/30\n",
      "10/10 [==============================] - 0s 770us/step - loss: 0.6502 - accuracy: 0.6362\n",
      "Epoch 22/30\n",
      "10/10 [==============================] - 0s 680us/step - loss: 0.6478 - accuracy: 0.6388\n",
      "Epoch 23/30\n",
      "10/10 [==============================] - 0s 779us/step - loss: 0.6485 - accuracy: 0.6389\n",
      "Epoch 24/30\n",
      "10/10 [==============================] - 0s 700us/step - loss: 0.6475 - accuracy: 0.6360\n",
      "Epoch 25/30\n",
      "10/10 [==============================] - 0s 739us/step - loss: 0.6483 - accuracy: 0.6344\n",
      "Epoch 26/30\n",
      "10/10 [==============================] - 0s 690us/step - loss: 0.6469 - accuracy: 0.6359\n",
      "Epoch 27/30\n",
      "10/10 [==============================] - 0s 737us/step - loss: 0.6458 - accuracy: 0.6387\n",
      "Epoch 28/30\n",
      "10/10 [==============================] - 0s 672us/step - loss: 0.6448 - accuracy: 0.6396\n",
      "Epoch 29/30\n",
      "10/10 [==============================] - 0s 744us/step - loss: 0.6450 - accuracy: 0.6392\n",
      "Epoch 30/30\n",
      "10/10 [==============================] - 0s 677us/step - loss: 0.6448 - accuracy: 0.6388\n"
     ]
    },
    {
     "data": {
      "text/plain": [
       "<keras.src.callbacks.History at 0x2c3599ae0>"
      ]
     },
     "execution_count": 49,
     "metadata": {},
     "output_type": "execute_result"
    }
   ],
   "source": [
    "#Criação e treinamento da Rede Neural\n",
    "\n",
    "classificador = Sequential()\n",
    "\n",
    "classificador.add(Dense(units = 26, activation = \"relu\",\n",
    "                        kernel_initializer = 'random_uniform', input_dim = 50))\n",
    "\n",
    "classificador.add(Dense(units = 1, activation = 'sigmoid'))\n",
    "\n",
    "\n",
    "classificador.compile(optimizer = 'adam', loss = 'binary_crossentropy',\n",
    "                      metrics = ['accuracy'])\n",
    "\n",
    "classificador.fit(previsores_treinamento, classe_treinamento,\n",
    "                  batch_size = 1000, epochs = 30)"
   ]
  },
  {
   "cell_type": "code",
   "execution_count": 50,
   "metadata": {
    "id": "sAQqYvnbomu1"
   },
   "outputs": [
    {
     "name": "stdout",
     "output_type": "stream",
     "text": [
      "97/97 [==============================] - 0s 239us/step\n",
      "97/97 [==============================] - 0s 322us/step - loss: 0.6315 - accuracy: 0.6696\n"
     ]
    }
   ],
   "source": [
    "# Teste de performance do modelo\n",
    "\n",
    "previsoes = classificador.predict(previsores_teste)\n",
    "previsoes = (previsoes> 0.5)\n",
    "\n",
    "\n",
    "precisao = accuracy_score(classe_teste, previsoes)\n",
    "matriz = confusion_matrix(classe_teste, previsoes)\n",
    "\n",
    "\n",
    "resultado = classificador.evaluate(previsores_teste, classe_teste)"
   ]
  },
  {
   "cell_type": "code",
   "execution_count": 52,
   "metadata": {
    "tags": []
   },
   "outputs": [
    {
     "data": {
      "text/plain": [
       "array([[ 913,  635],\n",
       "       [ 381, 1146]])"
      ]
     },
     "execution_count": 52,
     "metadata": {},
     "output_type": "execute_result"
    }
   ],
   "source": [
    "matriz"
   ]
  },
  {
   "cell_type": "code",
   "execution_count": 54,
   "metadata": {},
   "outputs": [
    {
     "data": {
      "text/plain": [
       "0.6695934959349593"
      ]
     },
     "execution_count": 54,
     "metadata": {},
     "output_type": "execute_result"
    }
   ],
   "source": [
    "precisao"
   ]
  }
 ],
 "metadata": {
  "colab": {
   "collapsed_sections": [
    "44S5uXPbbbbE",
    "FgDJv2N-yPyx",
    "cacmvj7kMIpZ",
    "NwbhwwR1BEpo",
    "FLimHLeKDoS3",
    "vqbfSexYDdku",
    "6zkUYC9tElZS",
    "3xg3bw7LNZoq",
    "E0416A8mNZos",
    "5oNq2dvuShUZ",
    "r02Y_YugSkWv"
   ],
   "provenance": [],
   "toc_visible": true
  },
  "kernelspec": {
   "display_name": "Python 3 (ipykernel)",
   "language": "python",
   "name": "python3"
  },
  "language_info": {
   "codemirror_mode": {
    "name": "ipython",
    "version": 3
   },
   "file_extension": ".py",
   "mimetype": "text/x-python",
   "name": "python",
   "nbconvert_exporter": "python",
   "pygments_lexer": "ipython3",
   "version": "3.10.9"
  }
 },
 "nbformat": 4,
 "nbformat_minor": 4
}
