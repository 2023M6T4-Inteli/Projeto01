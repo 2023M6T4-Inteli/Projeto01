{
  "cells": [
    {
      "cell_type": "markdown",
      "metadata": {
        "id": "1QcvfDZJbba4"
      },
      "source": [
        "# Processamento de linguagem natural e modelo de análise de sentimento."
      ]
    },
    {
      "cell_type": "markdown",
      "metadata": {
        "id": "F0pr4J2Ibba9"
      },
      "source": [
        "## Importação da base e criação da tabela."
      ]
    },
    {
      "cell_type": "markdown",
      "metadata": {
        "id": "KN9FmiYRbba-"
      },
      "source": [
        "### Importação das bibliotecas"
      ]
    },
    {
      "cell_type": "code",
      "execution_count": 2,
      "metadata": {
        "id": "L_lWGKttbba_"
      },
      "outputs": [],
      "source": [
        "#importação das bibliotecas:\n",
        "import pandas as pd"
      ]
    },
    {
      "cell_type": "markdown",
      "metadata": {
        "id": "xipe5CtcbbbB"
      },
      "source": [
        "Bibliotecas para a remoção de acento"
      ]
    },
    {
      "cell_type": "code",
      "execution_count": 3,
      "metadata": {
        "colab": {
          "base_uri": "https://localhost:8080/"
        },
        "id": "f6K2RGGvbbbC",
        "outputId": "e67b30b0-e5b7-477f-9885-8e6f0a952506"
      },
      "outputs": [
        {
          "output_type": "stream",
          "name": "stdout",
          "text": [
            "Looking in indexes: https://pypi.org/simple, https://us-python.pkg.dev/colab-wheels/public/simple/\n",
            "Collecting unidecode\n",
            "  Downloading Unidecode-1.3.6-py3-none-any.whl (235 kB)\n",
            "\u001b[2K     \u001b[90m━━━━━━━━━━━━━━━━━━━━━━━━━━━━━━━━━━━━━━━\u001b[0m \u001b[32m235.9/235.9 kB\u001b[0m \u001b[31m5.1 MB/s\u001b[0m eta \u001b[36m0:00:00\u001b[0m\n",
            "\u001b[?25hInstalling collected packages: unidecode\n",
            "Successfully installed unidecode-1.3.6\n"
          ]
        }
      ],
      "source": [
        "# instalação das bibliotecas\n",
        "!pip install unidecode"
      ]
    },
    {
      "cell_type": "code",
      "execution_count": 14,
      "metadata": {
        "id": "Ml-kYzmQbbbD"
      },
      "outputs": [],
      "source": [
        "#importação das bibliotecas:\n",
        "from unidecode import unidecode"
      ]
    },
    {
      "cell_type": "markdown",
      "metadata": {
        "id": "44S5uXPbbbbE"
      },
      "source": [
        "### Criação da tabela "
      ]
    },
    {
      "cell_type": "code",
      "source": [
        "#Conexão com o drive\n",
        "from google.colab import drive\n",
        "drive.mount('/content/drive')"
      ],
      "metadata": {
        "colab": {
          "base_uri": "https://localhost:8080/"
        },
        "id": "7i3IiM8WbqL0",
        "outputId": "97c98129-bc07-47dd-b945-e826c1c69ce2"
      },
      "execution_count": 15,
      "outputs": [
        {
          "output_type": "stream",
          "name": "stdout",
          "text": [
            "Drive already mounted at /content/drive; to attempt to forcibly remount, call drive.mount(\"/content/drive\", force_remount=True).\n"
          ]
        }
      ]
    },
    {
      "cell_type": "code",
      "execution_count": 16,
      "metadata": {
        "id": "pyyTpwj9bbbG"
      },
      "outputs": [],
      "source": [
        "#importação da base de dados:\n",
        "df = pd.read_excel('/content/drive/MyDrive/Modulo_6_grupo_1/Base_Inicial.xlsx')\n"
      ]
    },
    {
      "cell_type": "code",
      "execution_count": null,
      "metadata": {
        "colab": {
          "base_uri": "https://localhost:8080/",
          "height": 713
        },
        "id": "4l2_FTA2bbbH",
        "outputId": "c1860903-c112-4953-b068-0aa4b5aef005"
      },
      "outputs": [
        {
          "output_type": "execute_result",
          "data": {
            "text/plain": [
              "      Column1       id           autor  \\\n",
              "0           0        1      btgpactual   \n",
              "1           1        2      btgpactual   \n",
              "2           2        3      btgpactual   \n",
              "3           3        4      btgpactual   \n",
              "4           4        5                   \n",
              "...       ...      ...             ...   \n",
              "4544     4544  3028308   caioaugustofr   \n",
              "4545     4545  3028501      btgpactual   \n",
              "4546     4546  3028580      btgpactual   \n",
              "4547     4547  3029097  je_mascarenhas   \n",
              "4548     4548  3029149       linequer_   \n",
              "\n",
              "                                                  texto    shortCode  \\\n",
              "0     Olá, Ana Paula! Como vai?\\n\\nSentimos muito pe...  CkG9KXjpY2B   \n",
              "1     Olá, Rosana! Tudo bem?\\n\\nPara te orientarmos ...  CkG9KXjpY2B   \n",
              "2                          @luizantoniojovinodossan 🚀 💙  CkG9KXjpY2B   \n",
              "3     @ronialencar Boa tarde! Tudo bem?\\n\\nLamentamo...  CkG9KXjpY2B   \n",
              "4     Oi, Nelson! Tudo bem?\\n\\nPossuímos soluções co...  CkG9KXjpY2B   \n",
              "...                                                 ...          ...   \n",
              "4544  Estão contratando muitos blogueiros, mas eu fi...  Cn4bcg7LM4t   \n",
              "4545                                          @xubs._ 💙  Cn4bcg7LM4t   \n",
              "4546                      Agradecemos o seu feedback! 💙  CnzSr6ltH74   \n",
              "4547                         Arrasa Micaaa 💙✨🙏🏼👏🏼👏🏼👏🏼👏🏼  Cn4bcg7LM4t   \n",
              "4548                                      Excelência! 👏  CnzSr6ltH74   \n",
              "\n",
              "     tipoInteracao tipoMidia        idInteracao              idPai  \\\n",
              "0            reply     REELS  17949834317264462  17988010663613927   \n",
              "1            reply     REELS  17968362370910874  17955765434145877   \n",
              "2            reply     REELS  17968676113804345  17868806699792839   \n",
              "3            reply     REELS  18045922528372377  18327741553009776   \n",
              "4            reply     REELS  17864851241797946  18159475801266342   \n",
              "...            ...       ...                ...                ...   \n",
              "4544       comment     REELS  17965800242039792                  -   \n",
              "4545         reply     REELS  18340331500020596  18014457793513467   \n",
              "4546         reply     REELS  18004216693521888  17957000375356996   \n",
              "4547       comment     REELS  17969884580114389                  -   \n",
              "4548       comment     REELS  17992357330670534                  -   \n",
              "\n",
              "                                                    URL        dataPublicada  \\\n",
              "0     https://www.instagram.com/p/CkG9KXjpY2B/c/1798...  2022-10-25 15:35:24   \n",
              "1     https://www.instagram.com/p/CkG9KXjpY2B/c/1795...  2022-10-25 12:08:06   \n",
              "2     https://www.instagram.com/p/CkG9KXjpY2B/c/1786...  2022-10-25 08:16:15   \n",
              "3     https://www.instagram.com/p/CkG9KXjpY2B/c/1832...  2022-10-25 09:39:32   \n",
              "4     https://www.instagram.com/p/CkG9KXjpY2B/c/1815...  2022-10-25 09:38:38   \n",
              "...                                                 ...                  ...   \n",
              "4544  https://www.instagram.com/p/Cn4bcg7LM4t/c/1796...  2023-01-26 18:41:35   \n",
              "4545  https://www.instagram.com/p/Cn4bcg7LM4t/c/1801...  2023-01-26 18:44:27   \n",
              "4546  https://www.instagram.com/p/CnzSr6ltH74/c/1795...  2023-01-26 18:45:13   \n",
              "4547  https://www.instagram.com/p/Cn4bcg7LM4t/c/1796...  2023-01-26 19:26:41   \n",
              "4548  https://www.instagram.com/p/CnzSr6ltH74/c/1799...  2023-01-26 19:28:33   \n",
              "\n",
              "             dataInsercao  anomalia  probabilidadeAnomalia  processado  \\\n",
              "0     2022-10-25 21:52:54      -1.0                    0.0         0.0   \n",
              "1     2022-10-25 21:52:54      -1.0                    0.0         0.0   \n",
              "2     2022-10-25 21:52:54      -1.0                    0.0         0.0   \n",
              "3     2022-10-25 21:52:55      -1.0                    0.0         0.0   \n",
              "4     2022-10-25 21:52:55      -1.0                    0.0         0.0   \n",
              "...                   ...       ...                    ...         ...   \n",
              "4544  2023-01-26 19:01:29      -1.0                    0.0         0.0   \n",
              "4545  2023-01-26 19:02:16      -1.0                    0.0         0.0   \n",
              "4546  2023-01-26 19:02:35      -1.0                    0.0         0.0   \n",
              "4547  2023-01-26 19:31:45      -1.0                    0.0         0.0   \n",
              "4548  2023-01-26 19:31:58      -1.0                    0.0         0.0   \n",
              "\n",
              "      contemHyperlink  \n",
              "0                -1.0  \n",
              "1                -1.0  \n",
              "2                -1.0  \n",
              "3                -1.0  \n",
              "4                -1.0  \n",
              "...               ...  \n",
              "4544             -1.0  \n",
              "4545             -1.0  \n",
              "4546             -1.0  \n",
              "4547             -1.0  \n",
              "4548             -1.0  \n",
              "\n",
              "[4549 rows x 16 columns]"
            ],
            "text/html": [
              "\n",
              "  <div id=\"df-d3232aaf-3ba0-48fc-a1e3-a48ef030cfdd\">\n",
              "    <div class=\"colab-df-container\">\n",
              "      <div>\n",
              "<style scoped>\n",
              "    .dataframe tbody tr th:only-of-type {\n",
              "        vertical-align: middle;\n",
              "    }\n",
              "\n",
              "    .dataframe tbody tr th {\n",
              "        vertical-align: top;\n",
              "    }\n",
              "\n",
              "    .dataframe thead th {\n",
              "        text-align: right;\n",
              "    }\n",
              "</style>\n",
              "<table border=\"1\" class=\"dataframe\">\n",
              "  <thead>\n",
              "    <tr style=\"text-align: right;\">\n",
              "      <th></th>\n",
              "      <th>Column1</th>\n",
              "      <th>id</th>\n",
              "      <th>autor</th>\n",
              "      <th>texto</th>\n",
              "      <th>shortCode</th>\n",
              "      <th>tipoInteracao</th>\n",
              "      <th>tipoMidia</th>\n",
              "      <th>idInteracao</th>\n",
              "      <th>idPai</th>\n",
              "      <th>URL</th>\n",
              "      <th>dataPublicada</th>\n",
              "      <th>dataInsercao</th>\n",
              "      <th>anomalia</th>\n",
              "      <th>probabilidadeAnomalia</th>\n",
              "      <th>processado</th>\n",
              "      <th>contemHyperlink</th>\n",
              "    </tr>\n",
              "  </thead>\n",
              "  <tbody>\n",
              "    <tr>\n",
              "      <th>0</th>\n",
              "      <td>0</td>\n",
              "      <td>1</td>\n",
              "      <td>btgpactual</td>\n",
              "      <td>Olá, Ana Paula! Como vai?\\n\\nSentimos muito pe...</td>\n",
              "      <td>CkG9KXjpY2B</td>\n",
              "      <td>reply</td>\n",
              "      <td>REELS</td>\n",
              "      <td>17949834317264462</td>\n",
              "      <td>17988010663613927</td>\n",
              "      <td>https://www.instagram.com/p/CkG9KXjpY2B/c/1798...</td>\n",
              "      <td>2022-10-25 15:35:24</td>\n",
              "      <td>2022-10-25 21:52:54</td>\n",
              "      <td>-1.0</td>\n",
              "      <td>0.0</td>\n",
              "      <td>0.0</td>\n",
              "      <td>-1.0</td>\n",
              "    </tr>\n",
              "    <tr>\n",
              "      <th>1</th>\n",
              "      <td>1</td>\n",
              "      <td>2</td>\n",
              "      <td>btgpactual</td>\n",
              "      <td>Olá, Rosana! Tudo bem?\\n\\nPara te orientarmos ...</td>\n",
              "      <td>CkG9KXjpY2B</td>\n",
              "      <td>reply</td>\n",
              "      <td>REELS</td>\n",
              "      <td>17968362370910874</td>\n",
              "      <td>17955765434145877</td>\n",
              "      <td>https://www.instagram.com/p/CkG9KXjpY2B/c/1795...</td>\n",
              "      <td>2022-10-25 12:08:06</td>\n",
              "      <td>2022-10-25 21:52:54</td>\n",
              "      <td>-1.0</td>\n",
              "      <td>0.0</td>\n",
              "      <td>0.0</td>\n",
              "      <td>-1.0</td>\n",
              "    </tr>\n",
              "    <tr>\n",
              "      <th>2</th>\n",
              "      <td>2</td>\n",
              "      <td>3</td>\n",
              "      <td>btgpactual</td>\n",
              "      <td>@luizantoniojovinodossan 🚀 💙</td>\n",
              "      <td>CkG9KXjpY2B</td>\n",
              "      <td>reply</td>\n",
              "      <td>REELS</td>\n",
              "      <td>17968676113804345</td>\n",
              "      <td>17868806699792839</td>\n",
              "      <td>https://www.instagram.com/p/CkG9KXjpY2B/c/1786...</td>\n",
              "      <td>2022-10-25 08:16:15</td>\n",
              "      <td>2022-10-25 21:52:54</td>\n",
              "      <td>-1.0</td>\n",
              "      <td>0.0</td>\n",
              "      <td>0.0</td>\n",
              "      <td>-1.0</td>\n",
              "    </tr>\n",
              "    <tr>\n",
              "      <th>3</th>\n",
              "      <td>3</td>\n",
              "      <td>4</td>\n",
              "      <td>btgpactual</td>\n",
              "      <td>@ronialencar Boa tarde! Tudo bem?\\n\\nLamentamo...</td>\n",
              "      <td>CkG9KXjpY2B</td>\n",
              "      <td>reply</td>\n",
              "      <td>REELS</td>\n",
              "      <td>18045922528372377</td>\n",
              "      <td>18327741553009776</td>\n",
              "      <td>https://www.instagram.com/p/CkG9KXjpY2B/c/1832...</td>\n",
              "      <td>2022-10-25 09:39:32</td>\n",
              "      <td>2022-10-25 21:52:55</td>\n",
              "      <td>-1.0</td>\n",
              "      <td>0.0</td>\n",
              "      <td>0.0</td>\n",
              "      <td>-1.0</td>\n",
              "    </tr>\n",
              "    <tr>\n",
              "      <th>4</th>\n",
              "      <td>4</td>\n",
              "      <td>5</td>\n",
              "      <td></td>\n",
              "      <td>Oi, Nelson! Tudo bem?\\n\\nPossuímos soluções co...</td>\n",
              "      <td>CkG9KXjpY2B</td>\n",
              "      <td>reply</td>\n",
              "      <td>REELS</td>\n",
              "      <td>17864851241797946</td>\n",
              "      <td>18159475801266342</td>\n",
              "      <td>https://www.instagram.com/p/CkG9KXjpY2B/c/1815...</td>\n",
              "      <td>2022-10-25 09:38:38</td>\n",
              "      <td>2022-10-25 21:52:55</td>\n",
              "      <td>-1.0</td>\n",
              "      <td>0.0</td>\n",
              "      <td>0.0</td>\n",
              "      <td>-1.0</td>\n",
              "    </tr>\n",
              "    <tr>\n",
              "      <th>...</th>\n",
              "      <td>...</td>\n",
              "      <td>...</td>\n",
              "      <td>...</td>\n",
              "      <td>...</td>\n",
              "      <td>...</td>\n",
              "      <td>...</td>\n",
              "      <td>...</td>\n",
              "      <td>...</td>\n",
              "      <td>...</td>\n",
              "      <td>...</td>\n",
              "      <td>...</td>\n",
              "      <td>...</td>\n",
              "      <td>...</td>\n",
              "      <td>...</td>\n",
              "      <td>...</td>\n",
              "      <td>...</td>\n",
              "    </tr>\n",
              "    <tr>\n",
              "      <th>4544</th>\n",
              "      <td>4544</td>\n",
              "      <td>3028308</td>\n",
              "      <td>caioaugustofr</td>\n",
              "      <td>Estão contratando muitos blogueiros, mas eu fi...</td>\n",
              "      <td>Cn4bcg7LM4t</td>\n",
              "      <td>comment</td>\n",
              "      <td>REELS</td>\n",
              "      <td>17965800242039792</td>\n",
              "      <td>-</td>\n",
              "      <td>https://www.instagram.com/p/Cn4bcg7LM4t/c/1796...</td>\n",
              "      <td>2023-01-26 18:41:35</td>\n",
              "      <td>2023-01-26 19:01:29</td>\n",
              "      <td>-1.0</td>\n",
              "      <td>0.0</td>\n",
              "      <td>0.0</td>\n",
              "      <td>-1.0</td>\n",
              "    </tr>\n",
              "    <tr>\n",
              "      <th>4545</th>\n",
              "      <td>4545</td>\n",
              "      <td>3028501</td>\n",
              "      <td>btgpactual</td>\n",
              "      <td>@xubs._ 💙</td>\n",
              "      <td>Cn4bcg7LM4t</td>\n",
              "      <td>reply</td>\n",
              "      <td>REELS</td>\n",
              "      <td>18340331500020596</td>\n",
              "      <td>18014457793513467</td>\n",
              "      <td>https://www.instagram.com/p/Cn4bcg7LM4t/c/1801...</td>\n",
              "      <td>2023-01-26 18:44:27</td>\n",
              "      <td>2023-01-26 19:02:16</td>\n",
              "      <td>-1.0</td>\n",
              "      <td>0.0</td>\n",
              "      <td>0.0</td>\n",
              "      <td>-1.0</td>\n",
              "    </tr>\n",
              "    <tr>\n",
              "      <th>4546</th>\n",
              "      <td>4546</td>\n",
              "      <td>3028580</td>\n",
              "      <td>btgpactual</td>\n",
              "      <td>Agradecemos o seu feedback! 💙</td>\n",
              "      <td>CnzSr6ltH74</td>\n",
              "      <td>reply</td>\n",
              "      <td>REELS</td>\n",
              "      <td>18004216693521888</td>\n",
              "      <td>17957000375356996</td>\n",
              "      <td>https://www.instagram.com/p/CnzSr6ltH74/c/1795...</td>\n",
              "      <td>2023-01-26 18:45:13</td>\n",
              "      <td>2023-01-26 19:02:35</td>\n",
              "      <td>-1.0</td>\n",
              "      <td>0.0</td>\n",
              "      <td>0.0</td>\n",
              "      <td>-1.0</td>\n",
              "    </tr>\n",
              "    <tr>\n",
              "      <th>4547</th>\n",
              "      <td>4547</td>\n",
              "      <td>3029097</td>\n",
              "      <td>je_mascarenhas</td>\n",
              "      <td>Arrasa Micaaa 💙✨🙏🏼👏🏼👏🏼👏🏼👏🏼</td>\n",
              "      <td>Cn4bcg7LM4t</td>\n",
              "      <td>comment</td>\n",
              "      <td>REELS</td>\n",
              "      <td>17969884580114389</td>\n",
              "      <td>-</td>\n",
              "      <td>https://www.instagram.com/p/Cn4bcg7LM4t/c/1796...</td>\n",
              "      <td>2023-01-26 19:26:41</td>\n",
              "      <td>2023-01-26 19:31:45</td>\n",
              "      <td>-1.0</td>\n",
              "      <td>0.0</td>\n",
              "      <td>0.0</td>\n",
              "      <td>-1.0</td>\n",
              "    </tr>\n",
              "    <tr>\n",
              "      <th>4548</th>\n",
              "      <td>4548</td>\n",
              "      <td>3029149</td>\n",
              "      <td>linequer_</td>\n",
              "      <td>Excelência! 👏</td>\n",
              "      <td>CnzSr6ltH74</td>\n",
              "      <td>comment</td>\n",
              "      <td>REELS</td>\n",
              "      <td>17992357330670534</td>\n",
              "      <td>-</td>\n",
              "      <td>https://www.instagram.com/p/CnzSr6ltH74/c/1799...</td>\n",
              "      <td>2023-01-26 19:28:33</td>\n",
              "      <td>2023-01-26 19:31:58</td>\n",
              "      <td>-1.0</td>\n",
              "      <td>0.0</td>\n",
              "      <td>0.0</td>\n",
              "      <td>-1.0</td>\n",
              "    </tr>\n",
              "  </tbody>\n",
              "</table>\n",
              "<p>4549 rows × 16 columns</p>\n",
              "</div>\n",
              "      <button class=\"colab-df-convert\" onclick=\"convertToInteractive('df-d3232aaf-3ba0-48fc-a1e3-a48ef030cfdd')\"\n",
              "              title=\"Convert this dataframe to an interactive table.\"\n",
              "              style=\"display:none;\">\n",
              "        \n",
              "  <svg xmlns=\"http://www.w3.org/2000/svg\" height=\"24px\"viewBox=\"0 0 24 24\"\n",
              "       width=\"24px\">\n",
              "    <path d=\"M0 0h24v24H0V0z\" fill=\"none\"/>\n",
              "    <path d=\"M18.56 5.44l.94 2.06.94-2.06 2.06-.94-2.06-.94-.94-2.06-.94 2.06-2.06.94zm-11 1L8.5 8.5l.94-2.06 2.06-.94-2.06-.94L8.5 2.5l-.94 2.06-2.06.94zm10 10l.94 2.06.94-2.06 2.06-.94-2.06-.94-.94-2.06-.94 2.06-2.06.94z\"/><path d=\"M17.41 7.96l-1.37-1.37c-.4-.4-.92-.59-1.43-.59-.52 0-1.04.2-1.43.59L10.3 9.45l-7.72 7.72c-.78.78-.78 2.05 0 2.83L4 21.41c.39.39.9.59 1.41.59.51 0 1.02-.2 1.41-.59l7.78-7.78 2.81-2.81c.8-.78.8-2.07 0-2.86zM5.41 20L4 18.59l7.72-7.72 1.47 1.35L5.41 20z\"/>\n",
              "  </svg>\n",
              "      </button>\n",
              "      \n",
              "  <style>\n",
              "    .colab-df-container {\n",
              "      display:flex;\n",
              "      flex-wrap:wrap;\n",
              "      gap: 12px;\n",
              "    }\n",
              "\n",
              "    .colab-df-convert {\n",
              "      background-color: #E8F0FE;\n",
              "      border: none;\n",
              "      border-radius: 50%;\n",
              "      cursor: pointer;\n",
              "      display: none;\n",
              "      fill: #1967D2;\n",
              "      height: 32px;\n",
              "      padding: 0 0 0 0;\n",
              "      width: 32px;\n",
              "    }\n",
              "\n",
              "    .colab-df-convert:hover {\n",
              "      background-color: #E2EBFA;\n",
              "      box-shadow: 0px 1px 2px rgba(60, 64, 67, 0.3), 0px 1px 3px 1px rgba(60, 64, 67, 0.15);\n",
              "      fill: #174EA6;\n",
              "    }\n",
              "\n",
              "    [theme=dark] .colab-df-convert {\n",
              "      background-color: #3B4455;\n",
              "      fill: #D2E3FC;\n",
              "    }\n",
              "\n",
              "    [theme=dark] .colab-df-convert:hover {\n",
              "      background-color: #434B5C;\n",
              "      box-shadow: 0px 1px 3px 1px rgba(0, 0, 0, 0.15);\n",
              "      filter: drop-shadow(0px 1px 2px rgba(0, 0, 0, 0.3));\n",
              "      fill: #FFFFFF;\n",
              "    }\n",
              "  </style>\n",
              "\n",
              "      <script>\n",
              "        const buttonEl =\n",
              "          document.querySelector('#df-d3232aaf-3ba0-48fc-a1e3-a48ef030cfdd button.colab-df-convert');\n",
              "        buttonEl.style.display =\n",
              "          google.colab.kernel.accessAllowed ? 'block' : 'none';\n",
              "\n",
              "        async function convertToInteractive(key) {\n",
              "          const element = document.querySelector('#df-d3232aaf-3ba0-48fc-a1e3-a48ef030cfdd');\n",
              "          const dataTable =\n",
              "            await google.colab.kernel.invokeFunction('convertToInteractive',\n",
              "                                                     [key], {});\n",
              "          if (!dataTable) return;\n",
              "\n",
              "          const docLinkHtml = 'Like what you see? Visit the ' +\n",
              "            '<a target=\"_blank\" href=https://colab.research.google.com/notebooks/data_table.ipynb>data table notebook</a>'\n",
              "            + ' to learn more about interactive tables.';\n",
              "          element.innerHTML = '';\n",
              "          dataTable['output_type'] = 'display_data';\n",
              "          await google.colab.output.renderOutput(dataTable, element);\n",
              "          const docLink = document.createElement('div');\n",
              "          docLink.innerHTML = docLinkHtml;\n",
              "          element.appendChild(docLink);\n",
              "        }\n",
              "      </script>\n",
              "    </div>\n",
              "  </div>\n",
              "  "
            ]
          },
          "metadata": {},
          "execution_count": 10
        }
      ],
      "source": [
        "#visualização da base de dados:\n",
        "df"
      ]
    },
    {
      "cell_type": "code",
      "execution_count": null,
      "metadata": {
        "id": "ze4iWGOObbbH"
      },
      "outputs": [],
      "source": [
        "#remoção de todas as linhas que não possuem a coluna texto:\n",
        "df = df.dropna(subset=['texto'])"
      ]
    },
    {
      "cell_type": "markdown",
      "metadata": {
        "id": "tH4hTYprbbbI"
      },
      "source": [
        "## Inicio do pré processamento dos dados"
      ]
    },
    {
      "cell_type": "markdown",
      "metadata": {
        "id": "2TaHb7fRbbbJ"
      },
      "source": [
        "### Remoção dos acentos :"
      ]
    },
    {
      "cell_type": "markdown",
      "metadata": {
        "id": "DDviYnCXbbbJ"
      },
      "source": [
        "Para garantir que um texto seja processado de forma consistente, é importante realizar a normalização dos seus componentes. Nesse sentido, a remoção de acentos é uma etapa fundamental, já que isso ajuda o algoritmo a compreender com mais precisão o que o texto está dizendo. Além disso, a ausência de acentos reduz o risco de que o algoritmo interprete de maneira diferente duas palavras idênticas, mas que tenham sido acentuadas de formas distintas ou incorretas. Em resumo, a remoção de acentos é uma prática essencial no pré-processamento de textos para aprimorar a qualidade e a eficácia da análise de dados em linguagem natural."
      ]
    },
    {
      "cell_type": "code",
      "execution_count": null,
      "metadata": {
        "id": "BavRi-SDbbbK"
      },
      "outputs": [],
      "source": [
        "#Código para remoção dos acentos\n",
        "def removeAcento(coluna):\n",
        "    coluna = coluna.apply(lambda x: unidecode(str(x)))\n",
        "    return coluna"
      ]
    },
    {
      "cell_type": "code",
      "execution_count": null,
      "metadata": {
        "colab": {
          "base_uri": "https://localhost:8080/"
        },
        "id": "k6ZodRf6bbbK",
        "outputId": "c30c228d-3bc3-416d-f818-fd5014e26f60"
      },
      "outputs": [
        {
          "output_type": "execute_result",
          "data": {
            "text/plain": [
              "0       Ola, Ana Paula! Como vai?\\n\\nSentimos muito pe...\n",
              "1       Ola, Rosana! Tudo bem?\\n\\nPara te orientarmos ...\n",
              "2                              @luizantoniojovinodossan  \n",
              "3       @ronialencar Boa tarde! Tudo bem?\\n\\nLamentamo...\n",
              "4       Oi, Nelson! Tudo bem?\\n\\nPossuimos solucoes co...\n",
              "                              ...                        \n",
              "4544    Estao contratando muitos blogueiros, mas eu fi...\n",
              "4545                                             @xubs._ \n",
              "4546                         Agradecemos o seu feedback! \n",
              "4547                                       Arrasa Micaaa \n",
              "4548                                         Excelencia! \n",
              "Name: texto, Length: 4449, dtype: object"
            ]
          },
          "metadata": {},
          "execution_count": 13
        }
      ],
      "source": [
        "# Teste isolado da função remoção de acentos\n",
        "removeAcento(df['texto'])"
      ]
    },
    {
      "cell_type": "markdown",
      "metadata": {
        "id": "PFoYSbT8bbbL"
      },
      "source": [
        "### Tratamento dos Emojis :"
      ]
    },
    {
      "cell_type": "markdown",
      "metadata": {
        "id": "whNw64xxbbbL"
      },
      "source": [
        "Explicação do tratamento:"
      ]
    },
    {
      "cell_type": "code",
      "execution_count": null,
      "metadata": {
        "id": "ctjreIGgbbbM"
      },
      "outputs": [],
      "source": []
    },
    {
      "cell_type": "markdown",
      "metadata": {
        "id": "WYJ4p_SbbbbM"
      },
      "source": [
        "### Tratamento letras maiusculas:"
      ]
    },
    {
      "cell_type": "markdown",
      "source": [
        "O pré-processamento das letras maiúsculas em um conjunto de dados representado por um objeto pandas.DataFrame. Para isso, utilizamos a função applymap() juntamente com uma função lambda que verifica se cada elemento do DataFrame é uma string e, em caso afirmativo, converte todas as letras maiúsculas em minúsculas utilizando o método lower(). O resultado é um DataFrame com o texto normalizado em letras minúsculas.explicação:"
      ],
      "metadata": {
        "id": "t1LJjI1mFz94"
      }
    },
    {
      "cell_type": "code",
      "execution_count": 18,
      "metadata": {
        "id": "Mo07IX55bbbN"
      },
      "outputs": [],
      "source": [
        "def tratamentoMaiusculas(dataframe):\n",
        "\n",
        "    # Pré-processamento das letras maiúsculas\n",
        "    dataframe = dataframe.applymap(lambda x: x.lower() if isinstance(x, str) else x)\n",
        "\n",
        "    # Exibição dos dados pré-processados\n",
        "    return dataframe"
      ]
    },
    {
      "cell_type": "code",
      "source": [
        "#teste isolado da função tratamento Maiúsculas\n",
        "tratamentoMaiusculas(df)"
      ],
      "metadata": {
        "colab": {
          "base_uri": "https://localhost:8080/",
          "height": 695
        },
        "id": "SCAHPrdaF6s0",
        "outputId": "bf9c9bfc-70a0-488d-98bf-abbfd6a624c5"
      },
      "execution_count": 19,
      "outputs": [
        {
          "output_type": "execute_result",
          "data": {
            "text/plain": [
              "      Column1       id           autor  \\\n",
              "0           0        1      btgpactual   \n",
              "1           1        2      btgpactual   \n",
              "2           2        3      btgpactual   \n",
              "3           3        4      btgpactual   \n",
              "4           4        5                   \n",
              "...       ...      ...             ...   \n",
              "4544     4544  3028308   caioaugustofr   \n",
              "4545     4545  3028501      btgpactual   \n",
              "4546     4546  3028580      btgpactual   \n",
              "4547     4547  3029097  je_mascarenhas   \n",
              "4548     4548  3029149       linequer_   \n",
              "\n",
              "                                                  texto    shortCode  \\\n",
              "0     olá, ana paula! como vai?\\n\\nsentimos muito pe...  ckg9kxjpy2b   \n",
              "1     olá, rosana! tudo bem?\\n\\npara te orientarmos ...  ckg9kxjpy2b   \n",
              "2                          @luizantoniojovinodossan 🚀 💙  ckg9kxjpy2b   \n",
              "3     @ronialencar boa tarde! tudo bem?\\n\\nlamentamo...  ckg9kxjpy2b   \n",
              "4     oi, nelson! tudo bem?\\n\\npossuímos soluções co...  ckg9kxjpy2b   \n",
              "...                                                 ...          ...   \n",
              "4544  estão contratando muitos blogueiros, mas eu fi...  cn4bcg7lm4t   \n",
              "4545                                          @xubs._ 💙  cn4bcg7lm4t   \n",
              "4546                      agradecemos o seu feedback! 💙  cnzsr6lth74   \n",
              "4547                         arrasa micaaa 💙✨🙏🏼👏🏼👏🏼👏🏼👏🏼  cn4bcg7lm4t   \n",
              "4548                                      excelência! 👏  cnzsr6lth74   \n",
              "\n",
              "     tipoInteracao tipoMidia        idInteracao              idPai  \\\n",
              "0            reply     reels  17949834317264462  17988010663613927   \n",
              "1            reply     reels  17968362370910874  17955765434145877   \n",
              "2            reply     reels  17968676113804345  17868806699792839   \n",
              "3            reply     reels  18045922528372377  18327741553009776   \n",
              "4            reply     reels  17864851241797946  18159475801266342   \n",
              "...            ...       ...                ...                ...   \n",
              "4544       comment     reels  17965800242039792                  -   \n",
              "4545         reply     reels  18340331500020596  18014457793513467   \n",
              "4546         reply     reels  18004216693521888  17957000375356996   \n",
              "4547       comment     reels  17969884580114389                  -   \n",
              "4548       comment     reels  17992357330670534                  -   \n",
              "\n",
              "                                                    URL        dataPublicada  \\\n",
              "0     https://www.instagram.com/p/ckg9kxjpy2b/c/1798...  2022-10-25 15:35:24   \n",
              "1     https://www.instagram.com/p/ckg9kxjpy2b/c/1795...  2022-10-25 12:08:06   \n",
              "2     https://www.instagram.com/p/ckg9kxjpy2b/c/1786...  2022-10-25 08:16:15   \n",
              "3     https://www.instagram.com/p/ckg9kxjpy2b/c/1832...  2022-10-25 09:39:32   \n",
              "4     https://www.instagram.com/p/ckg9kxjpy2b/c/1815...  2022-10-25 09:38:38   \n",
              "...                                                 ...                  ...   \n",
              "4544  https://www.instagram.com/p/cn4bcg7lm4t/c/1796...  2023-01-26 18:41:35   \n",
              "4545  https://www.instagram.com/p/cn4bcg7lm4t/c/1801...  2023-01-26 18:44:27   \n",
              "4546  https://www.instagram.com/p/cnzsr6lth74/c/1795...  2023-01-26 18:45:13   \n",
              "4547  https://www.instagram.com/p/cn4bcg7lm4t/c/1796...  2023-01-26 19:26:41   \n",
              "4548  https://www.instagram.com/p/cnzsr6lth74/c/1799...  2023-01-26 19:28:33   \n",
              "\n",
              "             dataInsercao  anomalia  probabilidadeAnomalia  processado  \\\n",
              "0     2022-10-25 21:52:54      -1.0                    0.0         0.0   \n",
              "1     2022-10-25 21:52:54      -1.0                    0.0         0.0   \n",
              "2     2022-10-25 21:52:54      -1.0                    0.0         0.0   \n",
              "3     2022-10-25 21:52:55      -1.0                    0.0         0.0   \n",
              "4     2022-10-25 21:52:55      -1.0                    0.0         0.0   \n",
              "...                   ...       ...                    ...         ...   \n",
              "4544  2023-01-26 19:01:29      -1.0                    0.0         0.0   \n",
              "4545  2023-01-26 19:02:16      -1.0                    0.0         0.0   \n",
              "4546  2023-01-26 19:02:35      -1.0                    0.0         0.0   \n",
              "4547  2023-01-26 19:31:45      -1.0                    0.0         0.0   \n",
              "4548  2023-01-26 19:31:58      -1.0                    0.0         0.0   \n",
              "\n",
              "      contemHyperlink  \n",
              "0                -1.0  \n",
              "1                -1.0  \n",
              "2                -1.0  \n",
              "3                -1.0  \n",
              "4                -1.0  \n",
              "...               ...  \n",
              "4544             -1.0  \n",
              "4545             -1.0  \n",
              "4546             -1.0  \n",
              "4547             -1.0  \n",
              "4548             -1.0  \n",
              "\n",
              "[4549 rows x 16 columns]"
            ],
            "text/html": [
              "\n",
              "  <div id=\"df-1e20be39-9271-4ea8-b638-f42088e5852f\">\n",
              "    <div class=\"colab-df-container\">\n",
              "      <div>\n",
              "<style scoped>\n",
              "    .dataframe tbody tr th:only-of-type {\n",
              "        vertical-align: middle;\n",
              "    }\n",
              "\n",
              "    .dataframe tbody tr th {\n",
              "        vertical-align: top;\n",
              "    }\n",
              "\n",
              "    .dataframe thead th {\n",
              "        text-align: right;\n",
              "    }\n",
              "</style>\n",
              "<table border=\"1\" class=\"dataframe\">\n",
              "  <thead>\n",
              "    <tr style=\"text-align: right;\">\n",
              "      <th></th>\n",
              "      <th>Column1</th>\n",
              "      <th>id</th>\n",
              "      <th>autor</th>\n",
              "      <th>texto</th>\n",
              "      <th>shortCode</th>\n",
              "      <th>tipoInteracao</th>\n",
              "      <th>tipoMidia</th>\n",
              "      <th>idInteracao</th>\n",
              "      <th>idPai</th>\n",
              "      <th>URL</th>\n",
              "      <th>dataPublicada</th>\n",
              "      <th>dataInsercao</th>\n",
              "      <th>anomalia</th>\n",
              "      <th>probabilidadeAnomalia</th>\n",
              "      <th>processado</th>\n",
              "      <th>contemHyperlink</th>\n",
              "    </tr>\n",
              "  </thead>\n",
              "  <tbody>\n",
              "    <tr>\n",
              "      <th>0</th>\n",
              "      <td>0</td>\n",
              "      <td>1</td>\n",
              "      <td>btgpactual</td>\n",
              "      <td>olá, ana paula! como vai?\\n\\nsentimos muito pe...</td>\n",
              "      <td>ckg9kxjpy2b</td>\n",
              "      <td>reply</td>\n",
              "      <td>reels</td>\n",
              "      <td>17949834317264462</td>\n",
              "      <td>17988010663613927</td>\n",
              "      <td>https://www.instagram.com/p/ckg9kxjpy2b/c/1798...</td>\n",
              "      <td>2022-10-25 15:35:24</td>\n",
              "      <td>2022-10-25 21:52:54</td>\n",
              "      <td>-1.0</td>\n",
              "      <td>0.0</td>\n",
              "      <td>0.0</td>\n",
              "      <td>-1.0</td>\n",
              "    </tr>\n",
              "    <tr>\n",
              "      <th>1</th>\n",
              "      <td>1</td>\n",
              "      <td>2</td>\n",
              "      <td>btgpactual</td>\n",
              "      <td>olá, rosana! tudo bem?\\n\\npara te orientarmos ...</td>\n",
              "      <td>ckg9kxjpy2b</td>\n",
              "      <td>reply</td>\n",
              "      <td>reels</td>\n",
              "      <td>17968362370910874</td>\n",
              "      <td>17955765434145877</td>\n",
              "      <td>https://www.instagram.com/p/ckg9kxjpy2b/c/1795...</td>\n",
              "      <td>2022-10-25 12:08:06</td>\n",
              "      <td>2022-10-25 21:52:54</td>\n",
              "      <td>-1.0</td>\n",
              "      <td>0.0</td>\n",
              "      <td>0.0</td>\n",
              "      <td>-1.0</td>\n",
              "    </tr>\n",
              "    <tr>\n",
              "      <th>2</th>\n",
              "      <td>2</td>\n",
              "      <td>3</td>\n",
              "      <td>btgpactual</td>\n",
              "      <td>@luizantoniojovinodossan 🚀 💙</td>\n",
              "      <td>ckg9kxjpy2b</td>\n",
              "      <td>reply</td>\n",
              "      <td>reels</td>\n",
              "      <td>17968676113804345</td>\n",
              "      <td>17868806699792839</td>\n",
              "      <td>https://www.instagram.com/p/ckg9kxjpy2b/c/1786...</td>\n",
              "      <td>2022-10-25 08:16:15</td>\n",
              "      <td>2022-10-25 21:52:54</td>\n",
              "      <td>-1.0</td>\n",
              "      <td>0.0</td>\n",
              "      <td>0.0</td>\n",
              "      <td>-1.0</td>\n",
              "    </tr>\n",
              "    <tr>\n",
              "      <th>3</th>\n",
              "      <td>3</td>\n",
              "      <td>4</td>\n",
              "      <td>btgpactual</td>\n",
              "      <td>@ronialencar boa tarde! tudo bem?\\n\\nlamentamo...</td>\n",
              "      <td>ckg9kxjpy2b</td>\n",
              "      <td>reply</td>\n",
              "      <td>reels</td>\n",
              "      <td>18045922528372377</td>\n",
              "      <td>18327741553009776</td>\n",
              "      <td>https://www.instagram.com/p/ckg9kxjpy2b/c/1832...</td>\n",
              "      <td>2022-10-25 09:39:32</td>\n",
              "      <td>2022-10-25 21:52:55</td>\n",
              "      <td>-1.0</td>\n",
              "      <td>0.0</td>\n",
              "      <td>0.0</td>\n",
              "      <td>-1.0</td>\n",
              "    </tr>\n",
              "    <tr>\n",
              "      <th>4</th>\n",
              "      <td>4</td>\n",
              "      <td>5</td>\n",
              "      <td></td>\n",
              "      <td>oi, nelson! tudo bem?\\n\\npossuímos soluções co...</td>\n",
              "      <td>ckg9kxjpy2b</td>\n",
              "      <td>reply</td>\n",
              "      <td>reels</td>\n",
              "      <td>17864851241797946</td>\n",
              "      <td>18159475801266342</td>\n",
              "      <td>https://www.instagram.com/p/ckg9kxjpy2b/c/1815...</td>\n",
              "      <td>2022-10-25 09:38:38</td>\n",
              "      <td>2022-10-25 21:52:55</td>\n",
              "      <td>-1.0</td>\n",
              "      <td>0.0</td>\n",
              "      <td>0.0</td>\n",
              "      <td>-1.0</td>\n",
              "    </tr>\n",
              "    <tr>\n",
              "      <th>...</th>\n",
              "      <td>...</td>\n",
              "      <td>...</td>\n",
              "      <td>...</td>\n",
              "      <td>...</td>\n",
              "      <td>...</td>\n",
              "      <td>...</td>\n",
              "      <td>...</td>\n",
              "      <td>...</td>\n",
              "      <td>...</td>\n",
              "      <td>...</td>\n",
              "      <td>...</td>\n",
              "      <td>...</td>\n",
              "      <td>...</td>\n",
              "      <td>...</td>\n",
              "      <td>...</td>\n",
              "      <td>...</td>\n",
              "    </tr>\n",
              "    <tr>\n",
              "      <th>4544</th>\n",
              "      <td>4544</td>\n",
              "      <td>3028308</td>\n",
              "      <td>caioaugustofr</td>\n",
              "      <td>estão contratando muitos blogueiros, mas eu fi...</td>\n",
              "      <td>cn4bcg7lm4t</td>\n",
              "      <td>comment</td>\n",
              "      <td>reels</td>\n",
              "      <td>17965800242039792</td>\n",
              "      <td>-</td>\n",
              "      <td>https://www.instagram.com/p/cn4bcg7lm4t/c/1796...</td>\n",
              "      <td>2023-01-26 18:41:35</td>\n",
              "      <td>2023-01-26 19:01:29</td>\n",
              "      <td>-1.0</td>\n",
              "      <td>0.0</td>\n",
              "      <td>0.0</td>\n",
              "      <td>-1.0</td>\n",
              "    </tr>\n",
              "    <tr>\n",
              "      <th>4545</th>\n",
              "      <td>4545</td>\n",
              "      <td>3028501</td>\n",
              "      <td>btgpactual</td>\n",
              "      <td>@xubs._ 💙</td>\n",
              "      <td>cn4bcg7lm4t</td>\n",
              "      <td>reply</td>\n",
              "      <td>reels</td>\n",
              "      <td>18340331500020596</td>\n",
              "      <td>18014457793513467</td>\n",
              "      <td>https://www.instagram.com/p/cn4bcg7lm4t/c/1801...</td>\n",
              "      <td>2023-01-26 18:44:27</td>\n",
              "      <td>2023-01-26 19:02:16</td>\n",
              "      <td>-1.0</td>\n",
              "      <td>0.0</td>\n",
              "      <td>0.0</td>\n",
              "      <td>-1.0</td>\n",
              "    </tr>\n",
              "    <tr>\n",
              "      <th>4546</th>\n",
              "      <td>4546</td>\n",
              "      <td>3028580</td>\n",
              "      <td>btgpactual</td>\n",
              "      <td>agradecemos o seu feedback! 💙</td>\n",
              "      <td>cnzsr6lth74</td>\n",
              "      <td>reply</td>\n",
              "      <td>reels</td>\n",
              "      <td>18004216693521888</td>\n",
              "      <td>17957000375356996</td>\n",
              "      <td>https://www.instagram.com/p/cnzsr6lth74/c/1795...</td>\n",
              "      <td>2023-01-26 18:45:13</td>\n",
              "      <td>2023-01-26 19:02:35</td>\n",
              "      <td>-1.0</td>\n",
              "      <td>0.0</td>\n",
              "      <td>0.0</td>\n",
              "      <td>-1.0</td>\n",
              "    </tr>\n",
              "    <tr>\n",
              "      <th>4547</th>\n",
              "      <td>4547</td>\n",
              "      <td>3029097</td>\n",
              "      <td>je_mascarenhas</td>\n",
              "      <td>arrasa micaaa 💙✨🙏🏼👏🏼👏🏼👏🏼👏🏼</td>\n",
              "      <td>cn4bcg7lm4t</td>\n",
              "      <td>comment</td>\n",
              "      <td>reels</td>\n",
              "      <td>17969884580114389</td>\n",
              "      <td>-</td>\n",
              "      <td>https://www.instagram.com/p/cn4bcg7lm4t/c/1796...</td>\n",
              "      <td>2023-01-26 19:26:41</td>\n",
              "      <td>2023-01-26 19:31:45</td>\n",
              "      <td>-1.0</td>\n",
              "      <td>0.0</td>\n",
              "      <td>0.0</td>\n",
              "      <td>-1.0</td>\n",
              "    </tr>\n",
              "    <tr>\n",
              "      <th>4548</th>\n",
              "      <td>4548</td>\n",
              "      <td>3029149</td>\n",
              "      <td>linequer_</td>\n",
              "      <td>excelência! 👏</td>\n",
              "      <td>cnzsr6lth74</td>\n",
              "      <td>comment</td>\n",
              "      <td>reels</td>\n",
              "      <td>17992357330670534</td>\n",
              "      <td>-</td>\n",
              "      <td>https://www.instagram.com/p/cnzsr6lth74/c/1799...</td>\n",
              "      <td>2023-01-26 19:28:33</td>\n",
              "      <td>2023-01-26 19:31:58</td>\n",
              "      <td>-1.0</td>\n",
              "      <td>0.0</td>\n",
              "      <td>0.0</td>\n",
              "      <td>-1.0</td>\n",
              "    </tr>\n",
              "  </tbody>\n",
              "</table>\n",
              "<p>4549 rows × 16 columns</p>\n",
              "</div>\n",
              "      <button class=\"colab-df-convert\" onclick=\"convertToInteractive('df-1e20be39-9271-4ea8-b638-f42088e5852f')\"\n",
              "              title=\"Convert this dataframe to an interactive table.\"\n",
              "              style=\"display:none;\">\n",
              "        \n",
              "  <svg xmlns=\"http://www.w3.org/2000/svg\" height=\"24px\"viewBox=\"0 0 24 24\"\n",
              "       width=\"24px\">\n",
              "    <path d=\"M0 0h24v24H0V0z\" fill=\"none\"/>\n",
              "    <path d=\"M18.56 5.44l.94 2.06.94-2.06 2.06-.94-2.06-.94-.94-2.06-.94 2.06-2.06.94zm-11 1L8.5 8.5l.94-2.06 2.06-.94-2.06-.94L8.5 2.5l-.94 2.06-2.06.94zm10 10l.94 2.06.94-2.06 2.06-.94-2.06-.94-.94-2.06-.94 2.06-2.06.94z\"/><path d=\"M17.41 7.96l-1.37-1.37c-.4-.4-.92-.59-1.43-.59-.52 0-1.04.2-1.43.59L10.3 9.45l-7.72 7.72c-.78.78-.78 2.05 0 2.83L4 21.41c.39.39.9.59 1.41.59.51 0 1.02-.2 1.41-.59l7.78-7.78 2.81-2.81c.8-.78.8-2.07 0-2.86zM5.41 20L4 18.59l7.72-7.72 1.47 1.35L5.41 20z\"/>\n",
              "  </svg>\n",
              "      </button>\n",
              "      \n",
              "  <style>\n",
              "    .colab-df-container {\n",
              "      display:flex;\n",
              "      flex-wrap:wrap;\n",
              "      gap: 12px;\n",
              "    }\n",
              "\n",
              "    .colab-df-convert {\n",
              "      background-color: #E8F0FE;\n",
              "      border: none;\n",
              "      border-radius: 50%;\n",
              "      cursor: pointer;\n",
              "      display: none;\n",
              "      fill: #1967D2;\n",
              "      height: 32px;\n",
              "      padding: 0 0 0 0;\n",
              "      width: 32px;\n",
              "    }\n",
              "\n",
              "    .colab-df-convert:hover {\n",
              "      background-color: #E2EBFA;\n",
              "      box-shadow: 0px 1px 2px rgba(60, 64, 67, 0.3), 0px 1px 3px 1px rgba(60, 64, 67, 0.15);\n",
              "      fill: #174EA6;\n",
              "    }\n",
              "\n",
              "    [theme=dark] .colab-df-convert {\n",
              "      background-color: #3B4455;\n",
              "      fill: #D2E3FC;\n",
              "    }\n",
              "\n",
              "    [theme=dark] .colab-df-convert:hover {\n",
              "      background-color: #434B5C;\n",
              "      box-shadow: 0px 1px 3px 1px rgba(0, 0, 0, 0.15);\n",
              "      filter: drop-shadow(0px 1px 2px rgba(0, 0, 0, 0.3));\n",
              "      fill: #FFFFFF;\n",
              "    }\n",
              "  </style>\n",
              "\n",
              "      <script>\n",
              "        const buttonEl =\n",
              "          document.querySelector('#df-1e20be39-9271-4ea8-b638-f42088e5852f button.colab-df-convert');\n",
              "        buttonEl.style.display =\n",
              "          google.colab.kernel.accessAllowed ? 'block' : 'none';\n",
              "\n",
              "        async function convertToInteractive(key) {\n",
              "          const element = document.querySelector('#df-1e20be39-9271-4ea8-b638-f42088e5852f');\n",
              "          const dataTable =\n",
              "            await google.colab.kernel.invokeFunction('convertToInteractive',\n",
              "                                                     [key], {});\n",
              "          if (!dataTable) return;\n",
              "\n",
              "          const docLinkHtml = 'Like what you see? Visit the ' +\n",
              "            '<a target=\"_blank\" href=https://colab.research.google.com/notebooks/data_table.ipynb>data table notebook</a>'\n",
              "            + ' to learn more about interactive tables.';\n",
              "          element.innerHTML = '';\n",
              "          dataTable['output_type'] = 'display_data';\n",
              "          await google.colab.output.renderOutput(dataTable, element);\n",
              "          const docLink = document.createElement('div');\n",
              "          docLink.innerHTML = docLinkHtml;\n",
              "          element.appendChild(docLink);\n",
              "        }\n",
              "      </script>\n",
              "    </div>\n",
              "  </div>\n",
              "  "
            ]
          },
          "metadata": {},
          "execution_count": 19
        }
      ]
    },
    {
      "cell_type": "markdown",
      "metadata": {
        "id": "8TyRlmSTbbbN"
      },
      "source": [
        "### Tokenização:"
      ]
    },
    {
      "cell_type": "markdown",
      "metadata": {
        "id": "NkZyQbF9bbbO"
      },
      "source": [
        "Explicação do tratamento:"
      ]
    },
    {
      "cell_type": "code",
      "execution_count": null,
      "metadata": {
        "id": "C2n1dbENbbbO"
      },
      "outputs": [],
      "source": []
    },
    {
      "cell_type": "markdown",
      "metadata": {
        "id": "BAQJ4x_3bbbO"
      },
      "source": [
        "### Stop words:"
      ]
    },
    {
      "cell_type": "markdown",
      "metadata": {
        "id": "ZQjRQ5HYbbbP"
      },
      "source": [
        "Explicação do tratamento:"
      ]
    },
    {
      "cell_type": "code",
      "execution_count": null,
      "metadata": {
        "id": "mCEQsVnkbbbP"
      },
      "outputs": [],
      "source": []
    },
    {
      "cell_type": "markdown",
      "metadata": {
        "id": "M5xSqfYQbbbP"
      },
      "source": [
        "### Tratamento de abreviações"
      ]
    },
    {
      "cell_type": "markdown",
      "metadata": {
        "id": "W1Bj3-fPbbbP"
      },
      "source": [
        "O tratamento de abreviações é importante porque garante que o algoritmo de processamento de linguagem natural interprete corretamente o significado do texto. Ao substituir abreviações por suas formas completas, o texto se torna mais legível e compreensível para o algoritmo que realizará o processamento."
      ]
    },
    {
      "cell_type": "code",
      "execution_count": null,
      "metadata": {
        "id": "UFq7sTFEbbbQ"
      },
      "outputs": [],
      "source": [
        "# bibliotecas utilizadas para o tratamento de abreviações\n",
        "import re"
      ]
    },
    {
      "cell_type": "code",
      "execution_count": null,
      "metadata": {
        "id": "3pnCai09bbbQ"
      },
      "outputs": [],
      "source": [
        "   \n",
        "def tratamentoAbreviacoes(coluna):    \n",
        "    coluna = coluna.astype(str)\n",
        "    coluna.str.lower()\n",
        "# Dicionário com as abreviações e suas expansões\n",
        "    abreviacoes = {\n",
        "        r'\\bvc\\b': 'você',\n",
        "        r'\\btbm\\b': 'também',\n",
        "        r'\\bpq\\b': 'porque',\n",
        "        r'\\bmt\\b': 'muito',\n",
        "        r'\\bmto\\b':'muito',\n",
        "        r'\\bblz\\b': 'beleza',\n",
        "        r'\\bjah\\b': 'já',\n",
        "        r'\\bbj\\b': 'beijo',\n",
        "        r'\\bflw\\b': 'falou',\n",
        "        r'\\bvlw\\b': 'valeu',\n",
        "        r'\\bkrl\\b': 'caralho',\n",
        "        r'\\bqnd\\b': 'quando',\n",
        "        r'\\bfds\\b': 'fim de semana',\n",
        "        r'\\bqq\\b': 'qualquer',\n",
        "        r'\\bmsg\\b': 'mensagem',\n",
        "        r'\\bp\\b': 'para',\n",
        "        r'\\bpqp\\b': 'puta que pariu',\n",
        "        r'\\bvlh\\b': 'velho',\n",
        "        r'\\bnss\\b': 'nossa',\n",
        "        r'\\bngm\\b': 'ninguém',\n",
        "        r'\\bqm\\b': 'quem',\n",
        "        r'\\bobs\\b': 'observação',\n",
        "        r'\\bqt\\b': 'quanto',\n",
        "        r'\\btbm ñ\\b': 'também não',\n",
        "        r'\\bpf\\b': 'por favor',\n",
        "        r'\\bpdc\\b': 'pode crer',\n",
        "        r'\\btalkei\\b': 'ok',\n",
        "        r'\\bd+\\b': 'demais',\n",
        "        r'\\bdms\\b': 'demais',\n",
        "        r'\\bsqn\\b': 'só que não',\n",
        "        r'\\bmsm\\b': 'mesmo',\n",
        "        r'\\bn/ao\\b': 'não',\n",
        "        r'\\bn/\\b': 'não',\n",
        "        r'\\bblz\\b': 'beleza',\n",
        "        r'\\bq\\b': 'que',\n",
        "        r'\\btd\\b': 'tudo',\n",
        "        r'\\bpfvr\\b': 'por favor',\n",
        "        r'\\bgnt\\b': 'gente',\n",
        "        r'\\bto\\b': 'estou',\n",
        "        r'\\bvcs\\b': 'vocês',\n",
        "        r'\\bn/oa\\b': 'não',\n",
        "        r'\\bsla\\b': 'sei lá',\n",
        "        r'\\bflws\\b': 'falou',\n",
        "        r'\\bbjos\\b': 'beijos',\n",
        "        r'\\bkd\\b': 'cadê',\n",
        "        r'\\blgl\\b': 'legal',\n",
        "        r'\\bnum\\b': 'número',\n",
        "        r'\\bjá q\\b': 'já que',\n",
        "        r'\\bmano\\b': 'irmão',\n",
        "        r'\\bpke\\b': 'porque',\n",
        "        r'\\bpr\\b': 'para',\n",
        "        r'\\btpm\\b': 'tensão pré-menstrual',\n",
        "        r'\\btá\\b': 'está',\n",
        "        r'\\bqmto\\b': 'muito',\n",
        "        r'\\bñ\\b': 'não',\n",
        "        r'\\bvamu\\b': 'vamos',\n",
        "        r'\\b/\\b': '',\n",
        "    }\n",
        "\n",
        "    # Aplica a substituição de cada abreviação no dataframe\n",
        "    for abreviacao, expansao in abreviacoes.items():\n",
        "        coluna= coluna.apply(lambda x: re.sub(abreviacao, expansao, x, flags=re.IGNORECASE))\n",
        "    \n",
        "    return coluna"
      ]
    },
    {
      "cell_type": "markdown",
      "metadata": {
        "id": "5PLBCbxWbbbR"
      },
      "source": [
        "Teste isolado:"
      ]
    },
    {
      "cell_type": "code",
      "execution_count": null,
      "metadata": {
        "id": "5KEsO9NtbbbR",
        "outputId": "56b775d5-c02c-46f8-9253-be5daf1e51e6"
      },
      "outputs": [
        {
          "data": {
            "text/plain": [
              "0       Ola, Ana Paula! Como vai?\\n\\nSentimos muito pe...\n",
              "1       Ola, Rosana! Tudo bem?\\n\\nPara te orientarmos ...\n",
              "2                              @luizantoniojovinodossan  \n",
              "3       @ronialencar Boa tarde! Tudo bem?\\n\\nLamentamo...\n",
              "4       Oi, Nelson! Tudo bem?\\n\\nPossuimos solucoes co...\n",
              "                              ...                        \n",
              "4544    Estao contratando muitos blogueiros, mas eu fi...\n",
              "4545                                             @xubs._ \n",
              "4546                         Agradecemos o seu feedback! \n",
              "4547                                       Arrasa Micaaa \n",
              "4548                                         Excelencia! \n",
              "Name: texto, Length: 4549, dtype: object"
            ]
          },
          "execution_count": 66,
          "metadata": {},
          "output_type": "execute_result"
        }
      ],
      "source": [
        "# teste isolado\n",
        "tratamentoAbreviacoes(removeAcento(df['texto']))"
      ]
    },
    {
      "cell_type": "markdown",
      "metadata": {
        "id": "-ldg79l0bbbS"
      },
      "source": [
        "## Bag of words"
      ]
    },
    {
      "cell_type": "markdown",
      "source": [
        "### Seleção das colunas"
      ],
      "metadata": {
        "id": "_jEcbhaddjxn"
      }
    },
    {
      "cell_type": "markdown",
      "source": [
        "####Remocao de todos comentarios criados pelo btgpactual"
      ],
      "metadata": {
        "id": "Dv9NKCvi69k5"
      }
    },
    {
      "cell_type": "code",
      "execution_count": null,
      "metadata": {
        "id": "GC6nnAfvbbbT"
      },
      "outputs": [],
      "source": [
        "df = df.drop(df[df['autor']] == ['btgpactual'].index)"
      ]
    },
    {
      "cell_type": "markdown",
      "source": [
        "####Remocao de colunas irrelevantes para o modelo\n"
      ],
      "metadata": {
        "id": "GfXaV3ac7IaA"
      }
    },
    {
      "cell_type": "code",
      "execution_count": null,
      "metadata": {
        "id": "MRLzygzwbbbS"
      },
      "outputs": [],
      "source": [
        "df = df.drop(columns=['idInteracao','dataPublicada', 'dataInsercao','anomalia', 'probabilidadeAnomalia', 'processado', 'contemHyperlink', 'Column1', 'id', 'autor'])"
      ]
    }
  ],
  "metadata": {
    "kernelspec": {
      "display_name": "Python 3",
      "language": "python",
      "name": "python3"
    },
    "language_info": {
      "codemirror_mode": {
        "name": "ipython",
        "version": 3
      },
      "file_extension": ".py",
      "mimetype": "text/x-python",
      "name": "python",
      "nbconvert_exporter": "python",
      "pygments_lexer": "ipython3",
      "version": "3.11.3"
    },
    "orig_nbformat": 4,
    "colab": {
      "provenance": []
    }
  },
  "nbformat": 4,
  "nbformat_minor": 0
}