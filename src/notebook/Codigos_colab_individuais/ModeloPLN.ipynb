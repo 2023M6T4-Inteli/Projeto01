{
  "cells": [
    {
      "cell_type": "markdown",
      "metadata": {
        "id": "1QcvfDZJbba4"
      },
      "source": [
        "# Processamento de linguagem natural e modelo de análise de sentimento."
      ]
    },
    {
      "cell_type": "markdown",
      "metadata": {
        "id": "F0pr4J2Ibba9"
      },
      "source": [
        "## Importação da base e criação da tabela."
      ]
    },
    {
      "cell_type": "markdown",
      "metadata": {
        "id": "KN9FmiYRbba-"
      },
      "source": [
        "### Importação das bibliotecas"
      ]
    },
    {
      "cell_type": "code",
      "execution_count": null,
      "metadata": {
        "id": "L_lWGKttbba_",
        "colab": {
          "base_uri": "https://localhost:8080/"
        },
        "outputId": "3c2e3fb9-7d36-4d9f-aa79-0c347b69c1d3"
      },
      "outputs": [
        {
          "output_type": "stream",
          "name": "stderr",
          "text": [
            "[nltk_data] Downloading package punkt to /root/nltk_data...\n",
            "[nltk_data]   Package punkt is already up-to-date!\n"
          ]
        },
        {
          "output_type": "stream",
          "name": "stdout",
          "text": [
            "Looking in indexes: https://pypi.org/simple, https://us-python.pkg.dev/colab-wheels/public/simple/\n",
            "Requirement already satisfied: unidecode in /usr/local/lib/python3.10/dist-packages (1.3.6)\n"
          ]
        }
      ],
      "source": [
        "#importação das bibliotecas:\n",
        "import pandas as pd\n",
        "# bibliotecas utilizadas para tokenização\n",
        "from nltk.tokenize import word_tokenize\n",
        "from nltk.tokenize import sent_tokenize\n",
        "# bibliotecas utilizadas para remoção de stop words\n",
        "import nltk\n",
        "nltk.download('punkt')\n",
        "# bibliotecas para remoção de acentos\n",
        "!pip install unidecode\n",
        "from unidecode import unidecode\n",
        "import numpy as np\n",
        "#biblioteca para tokenização \n",
        "from keras.preprocessing.text import Tokenizer\n",
        "# bibliotecas utilizadas para o tratamento de abreviações\n",
        "import re"
      ]
    },
    {
      "cell_type": "markdown",
      "metadata": {
        "id": "44S5uXPbbbbE"
      },
      "source": [
        "### Criação da tabela "
      ]
    },
    {
      "cell_type": "code",
      "source": [
        "#Conexão com o drive\n",
        "from google.colab import drive\n",
        "drive.mount('/content/drive')"
      ],
      "metadata": {
        "colab": {
          "base_uri": "https://localhost:8080/"
        },
        "id": "7i3IiM8WbqL0",
        "outputId": "60ad1ef0-262b-40ba-9ee0-152df24b2be6"
      },
      "execution_count": null,
      "outputs": [
        {
          "output_type": "stream",
          "name": "stdout",
          "text": [
            "Mounted at /content/drive\n"
          ]
        }
      ]
    },
    {
      "cell_type": "code",
      "execution_count": null,
      "metadata": {
        "id": "pyyTpwj9bbbG"
      },
      "outputs": [],
      "source": [
        "#importação da base de dados:\n",
        "df = pd.read_excel('/content/drive/MyDrive/Modulo_6_grupo_1/Base_Inicial.xlsx')\n"
      ]
    },
    {
      "cell_type": "code",
      "execution_count": null,
      "metadata": {
        "id": "4l2_FTA2bbbH"
      },
      "outputs": [],
      "source": [
        "#visualização da base de dados:\n",
        "df"
      ]
    },
    {
      "cell_type": "code",
      "execution_count": null,
      "metadata": {
        "id": "ze4iWGOObbbH"
      },
      "outputs": [],
      "source": [
        "#remoção de todas as linhas que não possuem a coluna texto:\n",
        "df = df.dropna(subset=['texto'])\n",
        "df"
      ]
    },
    {
      "cell_type": "markdown",
      "source": [
        "## Analize descritiva do corpus\n"
      ],
      "metadata": {
        "id": "FgDJv2N-yPyx"
      }
    },
    {
      "cell_type": "markdown",
      "source": [
        "### colunas"
      ],
      "metadata": {
        "id": "SupkDR7xyUgH"
      }
    },
    {
      "cell_type": "markdown",
      "source": [
        "#### autor:"
      ],
      "metadata": {
        "id": "CdDEvDY9yf5T"
      }
    },
    {
      "cell_type": "markdown",
      "source": [
        "A coluna autor é:"
      ],
      "metadata": {
        "id": "z9tibGXgymsW"
      }
    },
    {
      "cell_type": "code",
      "source": [
        "df[\"autor\"]"
      ],
      "metadata": {
        "colab": {
          "base_uri": "https://localhost:8080/"
        },
        "id": "gdZKz7vZyi3s",
        "outputId": "3129a589-27cb-4a8f-ed24-7e8034db0d33"
      },
      "execution_count": null,
      "outputs": [
        {
          "output_type": "execute_result",
          "data": {
            "text/plain": [
              "0           btgpactual\n",
              "1           btgpactual\n",
              "2           btgpactual\n",
              "3           btgpactual\n",
              "4                     \n",
              "             ...      \n",
              "4544     caioaugustofr\n",
              "4545        btgpactual\n",
              "4546        btgpactual\n",
              "4547    je_mascarenhas\n",
              "4548         linequer_\n",
              "Name: autor, Length: 4449, dtype: object"
            ]
          },
          "metadata": {},
          "execution_count": 69
        }
      ]
    },
    {
      "cell_type": "markdown",
      "source": [
        "Ela contribui com a o modelo porque :"
      ],
      "metadata": {
        "id": "vs6PabKpy1wv"
      }
    },
    {
      "cell_type": "markdown",
      "metadata": {
        "id": "tH4hTYprbbbI"
      },
      "source": [
        "## Inicio do pré processamento dos dados"
      ]
    },
    {
      "cell_type": "markdown",
      "metadata": {
        "id": "2TaHb7fRbbbJ"
      },
      "source": [
        "### Remoção dos acentos :"
      ]
    },
    {
      "cell_type": "markdown",
      "metadata": {
        "id": "DDviYnCXbbbJ"
      },
      "source": [
        "Para garantir que um texto seja processado de forma consistente, é importante realizar a normalização dos seus componentes. Nesse sentido, a remoção de acentos é uma etapa fundamental, já que isso ajuda o algoritmo a compreender com mais precisão o que o texto está dizendo. Além disso, a ausência de acentos reduz o risco de que o algoritmo interprete de maneira diferente duas palavras idênticas, mas que tenham sido acentuadas de formas distintas ou incorretas. Em resumo, a remoção de acentos é uma prática essencial no pré-processamento de textos para aprimorar a qualidade e a eficácia da análise de dados em linguagem natural."
      ]
    },
    {
      "cell_type": "code",
      "execution_count": null,
      "metadata": {
        "id": "BavRi-SDbbbK"
      },
      "outputs": [],
      "source": [
        "#Código para remoção dos acentos\n",
        "def removeAcento(dataframe):\n",
        "    dataframe = dataframe.applymap(lambda x: unidecode(str(x)))\n",
        "    return dataframe"
      ]
    },
    {
      "cell_type": "code",
      "execution_count": null,
      "metadata": {
        "id": "k6ZodRf6bbbK",
        "colab": {
          "base_uri": "https://localhost:8080/",
          "height": 713
        },
        "outputId": "2fc930a1-e6b9-4a7d-85eb-b34eff591857"
      },
      "outputs": [
        {
          "output_type": "execute_result",
          "data": {
            "text/plain": [
              "     Column1       id           autor  \\\n",
              "0          0        1      btgpactual   \n",
              "1          1        2      btgpactual   \n",
              "2          2        3      btgpactual   \n",
              "3          3        4      btgpactual   \n",
              "4          4        5                   \n",
              "...      ...      ...             ...   \n",
              "4544    4544  3028308   caioaugustofr   \n",
              "4545    4545  3028501      btgpactual   \n",
              "4546    4546  3028580      btgpactual   \n",
              "4547    4547  3029097  je_mascarenhas   \n",
              "4548    4548  3029149       linequer_   \n",
              "\n",
              "                                                  texto    shortCode  \\\n",
              "0     Ola, Ana Paula! Como vai?\\n\\nSentimos muito pe...  CkG9KXjpY2B   \n",
              "1     Ola, Rosana! Tudo bem?\\n\\nPara te orientarmos ...  CkG9KXjpY2B   \n",
              "2                            @luizantoniojovinodossan    CkG9KXjpY2B   \n",
              "3     @ronialencar Boa tarde! Tudo bem?\\n\\nLamentamo...  CkG9KXjpY2B   \n",
              "4     Oi, Nelson! Tudo bem?\\n\\nPossuimos solucoes co...  CkG9KXjpY2B   \n",
              "...                                                 ...          ...   \n",
              "4544  Estao contratando muitos blogueiros, mas eu fi...  Cn4bcg7LM4t   \n",
              "4545                                           @xubs._   Cn4bcg7LM4t   \n",
              "4546                       Agradecemos o seu feedback!   CnzSr6ltH74   \n",
              "4547                                     Arrasa Micaaa   Cn4bcg7LM4t   \n",
              "4548                                       Excelencia!   CnzSr6ltH74   \n",
              "\n",
              "     tipoInteracao tipoMidia        idInteracao              idPai  \\\n",
              "0            reply     REELS  17949834317264462  17988010663613927   \n",
              "1            reply     REELS  17968362370910874  17955765434145877   \n",
              "2            reply     REELS  17968676113804345  17868806699792839   \n",
              "3            reply     REELS  18045922528372377  18327741553009776   \n",
              "4            reply     REELS  17864851241797946  18159475801266342   \n",
              "...            ...       ...                ...                ...   \n",
              "4544       comment     REELS  17965800242039792                  -   \n",
              "4545         reply     REELS  18340331500020596  18014457793513467   \n",
              "4546         reply     REELS  18004216693521888  17957000375356996   \n",
              "4547       comment     REELS  17969884580114389                  -   \n",
              "4548       comment     REELS  17992357330670534                  -   \n",
              "\n",
              "                                                    URL        dataPublicada  \\\n",
              "0     https://www.instagram.com/p/CkG9KXjpY2B/c/1798...  2022-10-25 15:35:24   \n",
              "1     https://www.instagram.com/p/CkG9KXjpY2B/c/1795...  2022-10-25 12:08:06   \n",
              "2     https://www.instagram.com/p/CkG9KXjpY2B/c/1786...  2022-10-25 08:16:15   \n",
              "3     https://www.instagram.com/p/CkG9KXjpY2B/c/1832...  2022-10-25 09:39:32   \n",
              "4     https://www.instagram.com/p/CkG9KXjpY2B/c/1815...  2022-10-25 09:38:38   \n",
              "...                                                 ...                  ...   \n",
              "4544  https://www.instagram.com/p/Cn4bcg7LM4t/c/1796...  2023-01-26 18:41:35   \n",
              "4545  https://www.instagram.com/p/Cn4bcg7LM4t/c/1801...  2023-01-26 18:44:27   \n",
              "4546  https://www.instagram.com/p/CnzSr6ltH74/c/1795...  2023-01-26 18:45:13   \n",
              "4547  https://www.instagram.com/p/Cn4bcg7LM4t/c/1796...  2023-01-26 19:26:41   \n",
              "4548  https://www.instagram.com/p/CnzSr6ltH74/c/1799...  2023-01-26 19:28:33   \n",
              "\n",
              "             dataInsercao anomalia probabilidadeAnomalia processado  \\\n",
              "0     2022-10-25 21:52:54     -1.0                   0.0        0.0   \n",
              "1     2022-10-25 21:52:54     -1.0                   0.0        0.0   \n",
              "2     2022-10-25 21:52:54     -1.0                   0.0        0.0   \n",
              "3     2022-10-25 21:52:55     -1.0                   0.0        0.0   \n",
              "4     2022-10-25 21:52:55     -1.0                   0.0        0.0   \n",
              "...                   ...      ...                   ...        ...   \n",
              "4544  2023-01-26 19:01:29     -1.0                   0.0        0.0   \n",
              "4545  2023-01-26 19:02:16     -1.0                   0.0        0.0   \n",
              "4546  2023-01-26 19:02:35     -1.0                   0.0        0.0   \n",
              "4547  2023-01-26 19:31:45     -1.0                   0.0        0.0   \n",
              "4548  2023-01-26 19:31:58     -1.0                   0.0        0.0   \n",
              "\n",
              "     contemHyperlink  \n",
              "0               -1.0  \n",
              "1               -1.0  \n",
              "2               -1.0  \n",
              "3               -1.0  \n",
              "4               -1.0  \n",
              "...              ...  \n",
              "4544            -1.0  \n",
              "4545            -1.0  \n",
              "4546            -1.0  \n",
              "4547            -1.0  \n",
              "4548            -1.0  \n",
              "\n",
              "[4449 rows x 16 columns]"
            ],
            "text/html": [
              "\n",
              "  <div id=\"df-eb1a69dc-c9da-487f-b4ff-3a704a09b5ca\">\n",
              "    <div class=\"colab-df-container\">\n",
              "      <div>\n",
              "<style scoped>\n",
              "    .dataframe tbody tr th:only-of-type {\n",
              "        vertical-align: middle;\n",
              "    }\n",
              "\n",
              "    .dataframe tbody tr th {\n",
              "        vertical-align: top;\n",
              "    }\n",
              "\n",
              "    .dataframe thead th {\n",
              "        text-align: right;\n",
              "    }\n",
              "</style>\n",
              "<table border=\"1\" class=\"dataframe\">\n",
              "  <thead>\n",
              "    <tr style=\"text-align: right;\">\n",
              "      <th></th>\n",
              "      <th>Column1</th>\n",
              "      <th>id</th>\n",
              "      <th>autor</th>\n",
              "      <th>texto</th>\n",
              "      <th>shortCode</th>\n",
              "      <th>tipoInteracao</th>\n",
              "      <th>tipoMidia</th>\n",
              "      <th>idInteracao</th>\n",
              "      <th>idPai</th>\n",
              "      <th>URL</th>\n",
              "      <th>dataPublicada</th>\n",
              "      <th>dataInsercao</th>\n",
              "      <th>anomalia</th>\n",
              "      <th>probabilidadeAnomalia</th>\n",
              "      <th>processado</th>\n",
              "      <th>contemHyperlink</th>\n",
              "    </tr>\n",
              "  </thead>\n",
              "  <tbody>\n",
              "    <tr>\n",
              "      <th>0</th>\n",
              "      <td>0</td>\n",
              "      <td>1</td>\n",
              "      <td>btgpactual</td>\n",
              "      <td>Ola, Ana Paula! Como vai?\\n\\nSentimos muito pe...</td>\n",
              "      <td>CkG9KXjpY2B</td>\n",
              "      <td>reply</td>\n",
              "      <td>REELS</td>\n",
              "      <td>17949834317264462</td>\n",
              "      <td>17988010663613927</td>\n",
              "      <td>https://www.instagram.com/p/CkG9KXjpY2B/c/1798...</td>\n",
              "      <td>2022-10-25 15:35:24</td>\n",
              "      <td>2022-10-25 21:52:54</td>\n",
              "      <td>-1.0</td>\n",
              "      <td>0.0</td>\n",
              "      <td>0.0</td>\n",
              "      <td>-1.0</td>\n",
              "    </tr>\n",
              "    <tr>\n",
              "      <th>1</th>\n",
              "      <td>1</td>\n",
              "      <td>2</td>\n",
              "      <td>btgpactual</td>\n",
              "      <td>Ola, Rosana! Tudo bem?\\n\\nPara te orientarmos ...</td>\n",
              "      <td>CkG9KXjpY2B</td>\n",
              "      <td>reply</td>\n",
              "      <td>REELS</td>\n",
              "      <td>17968362370910874</td>\n",
              "      <td>17955765434145877</td>\n",
              "      <td>https://www.instagram.com/p/CkG9KXjpY2B/c/1795...</td>\n",
              "      <td>2022-10-25 12:08:06</td>\n",
              "      <td>2022-10-25 21:52:54</td>\n",
              "      <td>-1.0</td>\n",
              "      <td>0.0</td>\n",
              "      <td>0.0</td>\n",
              "      <td>-1.0</td>\n",
              "    </tr>\n",
              "    <tr>\n",
              "      <th>2</th>\n",
              "      <td>2</td>\n",
              "      <td>3</td>\n",
              "      <td>btgpactual</td>\n",
              "      <td>@luizantoniojovinodossan</td>\n",
              "      <td>CkG9KXjpY2B</td>\n",
              "      <td>reply</td>\n",
              "      <td>REELS</td>\n",
              "      <td>17968676113804345</td>\n",
              "      <td>17868806699792839</td>\n",
              "      <td>https://www.instagram.com/p/CkG9KXjpY2B/c/1786...</td>\n",
              "      <td>2022-10-25 08:16:15</td>\n",
              "      <td>2022-10-25 21:52:54</td>\n",
              "      <td>-1.0</td>\n",
              "      <td>0.0</td>\n",
              "      <td>0.0</td>\n",
              "      <td>-1.0</td>\n",
              "    </tr>\n",
              "    <tr>\n",
              "      <th>3</th>\n",
              "      <td>3</td>\n",
              "      <td>4</td>\n",
              "      <td>btgpactual</td>\n",
              "      <td>@ronialencar Boa tarde! Tudo bem?\\n\\nLamentamo...</td>\n",
              "      <td>CkG9KXjpY2B</td>\n",
              "      <td>reply</td>\n",
              "      <td>REELS</td>\n",
              "      <td>18045922528372377</td>\n",
              "      <td>18327741553009776</td>\n",
              "      <td>https://www.instagram.com/p/CkG9KXjpY2B/c/1832...</td>\n",
              "      <td>2022-10-25 09:39:32</td>\n",
              "      <td>2022-10-25 21:52:55</td>\n",
              "      <td>-1.0</td>\n",
              "      <td>0.0</td>\n",
              "      <td>0.0</td>\n",
              "      <td>-1.0</td>\n",
              "    </tr>\n",
              "    <tr>\n",
              "      <th>4</th>\n",
              "      <td>4</td>\n",
              "      <td>5</td>\n",
              "      <td></td>\n",
              "      <td>Oi, Nelson! Tudo bem?\\n\\nPossuimos solucoes co...</td>\n",
              "      <td>CkG9KXjpY2B</td>\n",
              "      <td>reply</td>\n",
              "      <td>REELS</td>\n",
              "      <td>17864851241797946</td>\n",
              "      <td>18159475801266342</td>\n",
              "      <td>https://www.instagram.com/p/CkG9KXjpY2B/c/1815...</td>\n",
              "      <td>2022-10-25 09:38:38</td>\n",
              "      <td>2022-10-25 21:52:55</td>\n",
              "      <td>-1.0</td>\n",
              "      <td>0.0</td>\n",
              "      <td>0.0</td>\n",
              "      <td>-1.0</td>\n",
              "    </tr>\n",
              "    <tr>\n",
              "      <th>...</th>\n",
              "      <td>...</td>\n",
              "      <td>...</td>\n",
              "      <td>...</td>\n",
              "      <td>...</td>\n",
              "      <td>...</td>\n",
              "      <td>...</td>\n",
              "      <td>...</td>\n",
              "      <td>...</td>\n",
              "      <td>...</td>\n",
              "      <td>...</td>\n",
              "      <td>...</td>\n",
              "      <td>...</td>\n",
              "      <td>...</td>\n",
              "      <td>...</td>\n",
              "      <td>...</td>\n",
              "      <td>...</td>\n",
              "    </tr>\n",
              "    <tr>\n",
              "      <th>4544</th>\n",
              "      <td>4544</td>\n",
              "      <td>3028308</td>\n",
              "      <td>caioaugustofr</td>\n",
              "      <td>Estao contratando muitos blogueiros, mas eu fi...</td>\n",
              "      <td>Cn4bcg7LM4t</td>\n",
              "      <td>comment</td>\n",
              "      <td>REELS</td>\n",
              "      <td>17965800242039792</td>\n",
              "      <td>-</td>\n",
              "      <td>https://www.instagram.com/p/Cn4bcg7LM4t/c/1796...</td>\n",
              "      <td>2023-01-26 18:41:35</td>\n",
              "      <td>2023-01-26 19:01:29</td>\n",
              "      <td>-1.0</td>\n",
              "      <td>0.0</td>\n",
              "      <td>0.0</td>\n",
              "      <td>-1.0</td>\n",
              "    </tr>\n",
              "    <tr>\n",
              "      <th>4545</th>\n",
              "      <td>4545</td>\n",
              "      <td>3028501</td>\n",
              "      <td>btgpactual</td>\n",
              "      <td>@xubs._</td>\n",
              "      <td>Cn4bcg7LM4t</td>\n",
              "      <td>reply</td>\n",
              "      <td>REELS</td>\n",
              "      <td>18340331500020596</td>\n",
              "      <td>18014457793513467</td>\n",
              "      <td>https://www.instagram.com/p/Cn4bcg7LM4t/c/1801...</td>\n",
              "      <td>2023-01-26 18:44:27</td>\n",
              "      <td>2023-01-26 19:02:16</td>\n",
              "      <td>-1.0</td>\n",
              "      <td>0.0</td>\n",
              "      <td>0.0</td>\n",
              "      <td>-1.0</td>\n",
              "    </tr>\n",
              "    <tr>\n",
              "      <th>4546</th>\n",
              "      <td>4546</td>\n",
              "      <td>3028580</td>\n",
              "      <td>btgpactual</td>\n",
              "      <td>Agradecemos o seu feedback!</td>\n",
              "      <td>CnzSr6ltH74</td>\n",
              "      <td>reply</td>\n",
              "      <td>REELS</td>\n",
              "      <td>18004216693521888</td>\n",
              "      <td>17957000375356996</td>\n",
              "      <td>https://www.instagram.com/p/CnzSr6ltH74/c/1795...</td>\n",
              "      <td>2023-01-26 18:45:13</td>\n",
              "      <td>2023-01-26 19:02:35</td>\n",
              "      <td>-1.0</td>\n",
              "      <td>0.0</td>\n",
              "      <td>0.0</td>\n",
              "      <td>-1.0</td>\n",
              "    </tr>\n",
              "    <tr>\n",
              "      <th>4547</th>\n",
              "      <td>4547</td>\n",
              "      <td>3029097</td>\n",
              "      <td>je_mascarenhas</td>\n",
              "      <td>Arrasa Micaaa</td>\n",
              "      <td>Cn4bcg7LM4t</td>\n",
              "      <td>comment</td>\n",
              "      <td>REELS</td>\n",
              "      <td>17969884580114389</td>\n",
              "      <td>-</td>\n",
              "      <td>https://www.instagram.com/p/Cn4bcg7LM4t/c/1796...</td>\n",
              "      <td>2023-01-26 19:26:41</td>\n",
              "      <td>2023-01-26 19:31:45</td>\n",
              "      <td>-1.0</td>\n",
              "      <td>0.0</td>\n",
              "      <td>0.0</td>\n",
              "      <td>-1.0</td>\n",
              "    </tr>\n",
              "    <tr>\n",
              "      <th>4548</th>\n",
              "      <td>4548</td>\n",
              "      <td>3029149</td>\n",
              "      <td>linequer_</td>\n",
              "      <td>Excelencia!</td>\n",
              "      <td>CnzSr6ltH74</td>\n",
              "      <td>comment</td>\n",
              "      <td>REELS</td>\n",
              "      <td>17992357330670534</td>\n",
              "      <td>-</td>\n",
              "      <td>https://www.instagram.com/p/CnzSr6ltH74/c/1799...</td>\n",
              "      <td>2023-01-26 19:28:33</td>\n",
              "      <td>2023-01-26 19:31:58</td>\n",
              "      <td>-1.0</td>\n",
              "      <td>0.0</td>\n",
              "      <td>0.0</td>\n",
              "      <td>-1.0</td>\n",
              "    </tr>\n",
              "  </tbody>\n",
              "</table>\n",
              "<p>4449 rows × 16 columns</p>\n",
              "</div>\n",
              "      <button class=\"colab-df-convert\" onclick=\"convertToInteractive('df-eb1a69dc-c9da-487f-b4ff-3a704a09b5ca')\"\n",
              "              title=\"Convert this dataframe to an interactive table.\"\n",
              "              style=\"display:none;\">\n",
              "        \n",
              "  <svg xmlns=\"http://www.w3.org/2000/svg\" height=\"24px\"viewBox=\"0 0 24 24\"\n",
              "       width=\"24px\">\n",
              "    <path d=\"M0 0h24v24H0V0z\" fill=\"none\"/>\n",
              "    <path d=\"M18.56 5.44l.94 2.06.94-2.06 2.06-.94-2.06-.94-.94-2.06-.94 2.06-2.06.94zm-11 1L8.5 8.5l.94-2.06 2.06-.94-2.06-.94L8.5 2.5l-.94 2.06-2.06.94zm10 10l.94 2.06.94-2.06 2.06-.94-2.06-.94-.94-2.06-.94 2.06-2.06.94z\"/><path d=\"M17.41 7.96l-1.37-1.37c-.4-.4-.92-.59-1.43-.59-.52 0-1.04.2-1.43.59L10.3 9.45l-7.72 7.72c-.78.78-.78 2.05 0 2.83L4 21.41c.39.39.9.59 1.41.59.51 0 1.02-.2 1.41-.59l7.78-7.78 2.81-2.81c.8-.78.8-2.07 0-2.86zM5.41 20L4 18.59l7.72-7.72 1.47 1.35L5.41 20z\"/>\n",
              "  </svg>\n",
              "      </button>\n",
              "      \n",
              "  <style>\n",
              "    .colab-df-container {\n",
              "      display:flex;\n",
              "      flex-wrap:wrap;\n",
              "      gap: 12px;\n",
              "    }\n",
              "\n",
              "    .colab-df-convert {\n",
              "      background-color: #E8F0FE;\n",
              "      border: none;\n",
              "      border-radius: 50%;\n",
              "      cursor: pointer;\n",
              "      display: none;\n",
              "      fill: #1967D2;\n",
              "      height: 32px;\n",
              "      padding: 0 0 0 0;\n",
              "      width: 32px;\n",
              "    }\n",
              "\n",
              "    .colab-df-convert:hover {\n",
              "      background-color: #E2EBFA;\n",
              "      box-shadow: 0px 1px 2px rgba(60, 64, 67, 0.3), 0px 1px 3px 1px rgba(60, 64, 67, 0.15);\n",
              "      fill: #174EA6;\n",
              "    }\n",
              "\n",
              "    [theme=dark] .colab-df-convert {\n",
              "      background-color: #3B4455;\n",
              "      fill: #D2E3FC;\n",
              "    }\n",
              "\n",
              "    [theme=dark] .colab-df-convert:hover {\n",
              "      background-color: #434B5C;\n",
              "      box-shadow: 0px 1px 3px 1px rgba(0, 0, 0, 0.15);\n",
              "      filter: drop-shadow(0px 1px 2px rgba(0, 0, 0, 0.3));\n",
              "      fill: #FFFFFF;\n",
              "    }\n",
              "  </style>\n",
              "\n",
              "      <script>\n",
              "        const buttonEl =\n",
              "          document.querySelector('#df-eb1a69dc-c9da-487f-b4ff-3a704a09b5ca button.colab-df-convert');\n",
              "        buttonEl.style.display =\n",
              "          google.colab.kernel.accessAllowed ? 'block' : 'none';\n",
              "\n",
              "        async function convertToInteractive(key) {\n",
              "          const element = document.querySelector('#df-eb1a69dc-c9da-487f-b4ff-3a704a09b5ca');\n",
              "          const dataTable =\n",
              "            await google.colab.kernel.invokeFunction('convertToInteractive',\n",
              "                                                     [key], {});\n",
              "          if (!dataTable) return;\n",
              "\n",
              "          const docLinkHtml = 'Like what you see? Visit the ' +\n",
              "            '<a target=\"_blank\" href=https://colab.research.google.com/notebooks/data_table.ipynb>data table notebook</a>'\n",
              "            + ' to learn more about interactive tables.';\n",
              "          element.innerHTML = '';\n",
              "          dataTable['output_type'] = 'display_data';\n",
              "          await google.colab.output.renderOutput(dataTable, element);\n",
              "          const docLink = document.createElement('div');\n",
              "          docLink.innerHTML = docLinkHtml;\n",
              "          element.appendChild(docLink);\n",
              "        }\n",
              "      </script>\n",
              "    </div>\n",
              "  </div>\n",
              "  "
            ]
          },
          "metadata": {},
          "execution_count": 10
        }
      ],
      "source": [
        "# Teste isolado da função remoção de acentos\n",
        "removeAcento(df)"
      ]
    },
    {
      "cell_type": "markdown",
      "metadata": {
        "id": "WYJ4p_SbbbbM"
      },
      "source": [
        "### Tratamento letras maiusculas:"
      ]
    },
    {
      "cell_type": "markdown",
      "source": [
        "O pré-processamento das letras maiúsculas em um conjunto de dados representado por um objeto pandas.DataFrame. Para isso, utilizamos a função applymap() juntamente com uma função lambda que verifica se cada elemento do DataFrame é uma string e, em caso afirmativo, converte todas as letras maiúsculas em minúsculas utilizando o método lower(). O resultado é um DataFrame com o texto normalizado em letras minúsculas.explicação:"
      ],
      "metadata": {
        "id": "t1LJjI1mFz94"
      }
    },
    {
      "cell_type": "code",
      "execution_count": null,
      "metadata": {
        "id": "Mo07IX55bbbN"
      },
      "outputs": [],
      "source": [
        "def tratamentoMaiusculas(dataframe):\n",
        "    # Pré-processamento das letras maiúsculas\n",
        "    dataframe = dataframe.applymap(lambda x: x.lower() if isinstance(x, str) else x)\n",
        "    # Exibição dos dados pré-processados\n",
        "    return dataframe"
      ]
    },
    {
      "cell_type": "code",
      "source": [
        "#teste isolado da função tratamento Maiúsculas\n",
        "tratamentoMaiusculas(df)"
      ],
      "metadata": {
        "id": "SCAHPrdaF6s0",
        "colab": {
          "base_uri": "https://localhost:8080/",
          "height": 696
        },
        "outputId": "f24f8bfc-1236-4a7e-8f12-4a39db36b416"
      },
      "execution_count": null,
      "outputs": [
        {
          "output_type": "execute_result",
          "data": {
            "text/plain": [
              "      Column1       id           autor  \\\n",
              "0           0        1      btgpactual   \n",
              "1           1        2      btgpactual   \n",
              "2           2        3      btgpactual   \n",
              "3           3        4      btgpactual   \n",
              "4           4        5                   \n",
              "...       ...      ...             ...   \n",
              "4544     4544  3028308   caioaugustofr   \n",
              "4545     4545  3028501      btgpactual   \n",
              "4546     4546  3028580      btgpactual   \n",
              "4547     4547  3029097  je_mascarenhas   \n",
              "4548     4548  3029149       linequer_   \n",
              "\n",
              "                                                  texto    shortCode  \\\n",
              "0     olá, ana paula! como vai?\\n\\nsentimos muito pe...  ckg9kxjpy2b   \n",
              "1     olá, rosana! tudo bem?\\n\\npara te orientarmos ...  ckg9kxjpy2b   \n",
              "2                          @luizantoniojovinodossan 🚀 💙  ckg9kxjpy2b   \n",
              "3     @ronialencar boa tarde! tudo bem?\\n\\nlamentamo...  ckg9kxjpy2b   \n",
              "4     oi, nelson! tudo bem?\\n\\npossuímos soluções co...  ckg9kxjpy2b   \n",
              "...                                                 ...          ...   \n",
              "4544  estão contratando muitos blogueiros, mas eu fi...  cn4bcg7lm4t   \n",
              "4545                                          @xubs._ 💙  cn4bcg7lm4t   \n",
              "4546                      agradecemos o seu feedback! 💙  cnzsr6lth74   \n",
              "4547                         arrasa micaaa 💙✨🙏🏼👏🏼👏🏼👏🏼👏🏼  cn4bcg7lm4t   \n",
              "4548                                      excelência! 👏  cnzsr6lth74   \n",
              "\n",
              "     tipoInteracao tipoMidia        idInteracao              idPai  \\\n",
              "0            reply     reels  17949834317264462  17988010663613927   \n",
              "1            reply     reels  17968362370910874  17955765434145877   \n",
              "2            reply     reels  17968676113804345  17868806699792839   \n",
              "3            reply     reels  18045922528372377  18327741553009776   \n",
              "4            reply     reels  17864851241797946  18159475801266342   \n",
              "...            ...       ...                ...                ...   \n",
              "4544       comment     reels  17965800242039792                  -   \n",
              "4545         reply     reels  18340331500020596  18014457793513467   \n",
              "4546         reply     reels  18004216693521888  17957000375356996   \n",
              "4547       comment     reels  17969884580114389                  -   \n",
              "4548       comment     reels  17992357330670534                  -   \n",
              "\n",
              "                                                    URL        dataPublicada  \\\n",
              "0     https://www.instagram.com/p/ckg9kxjpy2b/c/1798...  2022-10-25 15:35:24   \n",
              "1     https://www.instagram.com/p/ckg9kxjpy2b/c/1795...  2022-10-25 12:08:06   \n",
              "2     https://www.instagram.com/p/ckg9kxjpy2b/c/1786...  2022-10-25 08:16:15   \n",
              "3     https://www.instagram.com/p/ckg9kxjpy2b/c/1832...  2022-10-25 09:39:32   \n",
              "4     https://www.instagram.com/p/ckg9kxjpy2b/c/1815...  2022-10-25 09:38:38   \n",
              "...                                                 ...                  ...   \n",
              "4544  https://www.instagram.com/p/cn4bcg7lm4t/c/1796...  2023-01-26 18:41:35   \n",
              "4545  https://www.instagram.com/p/cn4bcg7lm4t/c/1801...  2023-01-26 18:44:27   \n",
              "4546  https://www.instagram.com/p/cnzsr6lth74/c/1795...  2023-01-26 18:45:13   \n",
              "4547  https://www.instagram.com/p/cn4bcg7lm4t/c/1796...  2023-01-26 19:26:41   \n",
              "4548  https://www.instagram.com/p/cnzsr6lth74/c/1799...  2023-01-26 19:28:33   \n",
              "\n",
              "             dataInsercao  anomalia  probabilidadeAnomalia  processado  \\\n",
              "0     2022-10-25 21:52:54      -1.0                    0.0         0.0   \n",
              "1     2022-10-25 21:52:54      -1.0                    0.0         0.0   \n",
              "2     2022-10-25 21:52:54      -1.0                    0.0         0.0   \n",
              "3     2022-10-25 21:52:55      -1.0                    0.0         0.0   \n",
              "4     2022-10-25 21:52:55      -1.0                    0.0         0.0   \n",
              "...                   ...       ...                    ...         ...   \n",
              "4544  2023-01-26 19:01:29      -1.0                    0.0         0.0   \n",
              "4545  2023-01-26 19:02:16      -1.0                    0.0         0.0   \n",
              "4546  2023-01-26 19:02:35      -1.0                    0.0         0.0   \n",
              "4547  2023-01-26 19:31:45      -1.0                    0.0         0.0   \n",
              "4548  2023-01-26 19:31:58      -1.0                    0.0         0.0   \n",
              "\n",
              "      contemHyperlink  \n",
              "0                -1.0  \n",
              "1                -1.0  \n",
              "2                -1.0  \n",
              "3                -1.0  \n",
              "4                -1.0  \n",
              "...               ...  \n",
              "4544             -1.0  \n",
              "4545             -1.0  \n",
              "4546             -1.0  \n",
              "4547             -1.0  \n",
              "4548             -1.0  \n",
              "\n",
              "[4449 rows x 16 columns]"
            ],
            "text/html": [
              "\n",
              "  <div id=\"df-c82c579f-40e1-4e17-ad83-259b80448359\">\n",
              "    <div class=\"colab-df-container\">\n",
              "      <div>\n",
              "<style scoped>\n",
              "    .dataframe tbody tr th:only-of-type {\n",
              "        vertical-align: middle;\n",
              "    }\n",
              "\n",
              "    .dataframe tbody tr th {\n",
              "        vertical-align: top;\n",
              "    }\n",
              "\n",
              "    .dataframe thead th {\n",
              "        text-align: right;\n",
              "    }\n",
              "</style>\n",
              "<table border=\"1\" class=\"dataframe\">\n",
              "  <thead>\n",
              "    <tr style=\"text-align: right;\">\n",
              "      <th></th>\n",
              "      <th>Column1</th>\n",
              "      <th>id</th>\n",
              "      <th>autor</th>\n",
              "      <th>texto</th>\n",
              "      <th>shortCode</th>\n",
              "      <th>tipoInteracao</th>\n",
              "      <th>tipoMidia</th>\n",
              "      <th>idInteracao</th>\n",
              "      <th>idPai</th>\n",
              "      <th>URL</th>\n",
              "      <th>dataPublicada</th>\n",
              "      <th>dataInsercao</th>\n",
              "      <th>anomalia</th>\n",
              "      <th>probabilidadeAnomalia</th>\n",
              "      <th>processado</th>\n",
              "      <th>contemHyperlink</th>\n",
              "    </tr>\n",
              "  </thead>\n",
              "  <tbody>\n",
              "    <tr>\n",
              "      <th>0</th>\n",
              "      <td>0</td>\n",
              "      <td>1</td>\n",
              "      <td>btgpactual</td>\n",
              "      <td>olá, ana paula! como vai?\\n\\nsentimos muito pe...</td>\n",
              "      <td>ckg9kxjpy2b</td>\n",
              "      <td>reply</td>\n",
              "      <td>reels</td>\n",
              "      <td>17949834317264462</td>\n",
              "      <td>17988010663613927</td>\n",
              "      <td>https://www.instagram.com/p/ckg9kxjpy2b/c/1798...</td>\n",
              "      <td>2022-10-25 15:35:24</td>\n",
              "      <td>2022-10-25 21:52:54</td>\n",
              "      <td>-1.0</td>\n",
              "      <td>0.0</td>\n",
              "      <td>0.0</td>\n",
              "      <td>-1.0</td>\n",
              "    </tr>\n",
              "    <tr>\n",
              "      <th>1</th>\n",
              "      <td>1</td>\n",
              "      <td>2</td>\n",
              "      <td>btgpactual</td>\n",
              "      <td>olá, rosana! tudo bem?\\n\\npara te orientarmos ...</td>\n",
              "      <td>ckg9kxjpy2b</td>\n",
              "      <td>reply</td>\n",
              "      <td>reels</td>\n",
              "      <td>17968362370910874</td>\n",
              "      <td>17955765434145877</td>\n",
              "      <td>https://www.instagram.com/p/ckg9kxjpy2b/c/1795...</td>\n",
              "      <td>2022-10-25 12:08:06</td>\n",
              "      <td>2022-10-25 21:52:54</td>\n",
              "      <td>-1.0</td>\n",
              "      <td>0.0</td>\n",
              "      <td>0.0</td>\n",
              "      <td>-1.0</td>\n",
              "    </tr>\n",
              "    <tr>\n",
              "      <th>2</th>\n",
              "      <td>2</td>\n",
              "      <td>3</td>\n",
              "      <td>btgpactual</td>\n",
              "      <td>@luizantoniojovinodossan 🚀 💙</td>\n",
              "      <td>ckg9kxjpy2b</td>\n",
              "      <td>reply</td>\n",
              "      <td>reels</td>\n",
              "      <td>17968676113804345</td>\n",
              "      <td>17868806699792839</td>\n",
              "      <td>https://www.instagram.com/p/ckg9kxjpy2b/c/1786...</td>\n",
              "      <td>2022-10-25 08:16:15</td>\n",
              "      <td>2022-10-25 21:52:54</td>\n",
              "      <td>-1.0</td>\n",
              "      <td>0.0</td>\n",
              "      <td>0.0</td>\n",
              "      <td>-1.0</td>\n",
              "    </tr>\n",
              "    <tr>\n",
              "      <th>3</th>\n",
              "      <td>3</td>\n",
              "      <td>4</td>\n",
              "      <td>btgpactual</td>\n",
              "      <td>@ronialencar boa tarde! tudo bem?\\n\\nlamentamo...</td>\n",
              "      <td>ckg9kxjpy2b</td>\n",
              "      <td>reply</td>\n",
              "      <td>reels</td>\n",
              "      <td>18045922528372377</td>\n",
              "      <td>18327741553009776</td>\n",
              "      <td>https://www.instagram.com/p/ckg9kxjpy2b/c/1832...</td>\n",
              "      <td>2022-10-25 09:39:32</td>\n",
              "      <td>2022-10-25 21:52:55</td>\n",
              "      <td>-1.0</td>\n",
              "      <td>0.0</td>\n",
              "      <td>0.0</td>\n",
              "      <td>-1.0</td>\n",
              "    </tr>\n",
              "    <tr>\n",
              "      <th>4</th>\n",
              "      <td>4</td>\n",
              "      <td>5</td>\n",
              "      <td></td>\n",
              "      <td>oi, nelson! tudo bem?\\n\\npossuímos soluções co...</td>\n",
              "      <td>ckg9kxjpy2b</td>\n",
              "      <td>reply</td>\n",
              "      <td>reels</td>\n",
              "      <td>17864851241797946</td>\n",
              "      <td>18159475801266342</td>\n",
              "      <td>https://www.instagram.com/p/ckg9kxjpy2b/c/1815...</td>\n",
              "      <td>2022-10-25 09:38:38</td>\n",
              "      <td>2022-10-25 21:52:55</td>\n",
              "      <td>-1.0</td>\n",
              "      <td>0.0</td>\n",
              "      <td>0.0</td>\n",
              "      <td>-1.0</td>\n",
              "    </tr>\n",
              "    <tr>\n",
              "      <th>...</th>\n",
              "      <td>...</td>\n",
              "      <td>...</td>\n",
              "      <td>...</td>\n",
              "      <td>...</td>\n",
              "      <td>...</td>\n",
              "      <td>...</td>\n",
              "      <td>...</td>\n",
              "      <td>...</td>\n",
              "      <td>...</td>\n",
              "      <td>...</td>\n",
              "      <td>...</td>\n",
              "      <td>...</td>\n",
              "      <td>...</td>\n",
              "      <td>...</td>\n",
              "      <td>...</td>\n",
              "      <td>...</td>\n",
              "    </tr>\n",
              "    <tr>\n",
              "      <th>4544</th>\n",
              "      <td>4544</td>\n",
              "      <td>3028308</td>\n",
              "      <td>caioaugustofr</td>\n",
              "      <td>estão contratando muitos blogueiros, mas eu fi...</td>\n",
              "      <td>cn4bcg7lm4t</td>\n",
              "      <td>comment</td>\n",
              "      <td>reels</td>\n",
              "      <td>17965800242039792</td>\n",
              "      <td>-</td>\n",
              "      <td>https://www.instagram.com/p/cn4bcg7lm4t/c/1796...</td>\n",
              "      <td>2023-01-26 18:41:35</td>\n",
              "      <td>2023-01-26 19:01:29</td>\n",
              "      <td>-1.0</td>\n",
              "      <td>0.0</td>\n",
              "      <td>0.0</td>\n",
              "      <td>-1.0</td>\n",
              "    </tr>\n",
              "    <tr>\n",
              "      <th>4545</th>\n",
              "      <td>4545</td>\n",
              "      <td>3028501</td>\n",
              "      <td>btgpactual</td>\n",
              "      <td>@xubs._ 💙</td>\n",
              "      <td>cn4bcg7lm4t</td>\n",
              "      <td>reply</td>\n",
              "      <td>reels</td>\n",
              "      <td>18340331500020596</td>\n",
              "      <td>18014457793513467</td>\n",
              "      <td>https://www.instagram.com/p/cn4bcg7lm4t/c/1801...</td>\n",
              "      <td>2023-01-26 18:44:27</td>\n",
              "      <td>2023-01-26 19:02:16</td>\n",
              "      <td>-1.0</td>\n",
              "      <td>0.0</td>\n",
              "      <td>0.0</td>\n",
              "      <td>-1.0</td>\n",
              "    </tr>\n",
              "    <tr>\n",
              "      <th>4546</th>\n",
              "      <td>4546</td>\n",
              "      <td>3028580</td>\n",
              "      <td>btgpactual</td>\n",
              "      <td>agradecemos o seu feedback! 💙</td>\n",
              "      <td>cnzsr6lth74</td>\n",
              "      <td>reply</td>\n",
              "      <td>reels</td>\n",
              "      <td>18004216693521888</td>\n",
              "      <td>17957000375356996</td>\n",
              "      <td>https://www.instagram.com/p/cnzsr6lth74/c/1795...</td>\n",
              "      <td>2023-01-26 18:45:13</td>\n",
              "      <td>2023-01-26 19:02:35</td>\n",
              "      <td>-1.0</td>\n",
              "      <td>0.0</td>\n",
              "      <td>0.0</td>\n",
              "      <td>-1.0</td>\n",
              "    </tr>\n",
              "    <tr>\n",
              "      <th>4547</th>\n",
              "      <td>4547</td>\n",
              "      <td>3029097</td>\n",
              "      <td>je_mascarenhas</td>\n",
              "      <td>arrasa micaaa 💙✨🙏🏼👏🏼👏🏼👏🏼👏🏼</td>\n",
              "      <td>cn4bcg7lm4t</td>\n",
              "      <td>comment</td>\n",
              "      <td>reels</td>\n",
              "      <td>17969884580114389</td>\n",
              "      <td>-</td>\n",
              "      <td>https://www.instagram.com/p/cn4bcg7lm4t/c/1796...</td>\n",
              "      <td>2023-01-26 19:26:41</td>\n",
              "      <td>2023-01-26 19:31:45</td>\n",
              "      <td>-1.0</td>\n",
              "      <td>0.0</td>\n",
              "      <td>0.0</td>\n",
              "      <td>-1.0</td>\n",
              "    </tr>\n",
              "    <tr>\n",
              "      <th>4548</th>\n",
              "      <td>4548</td>\n",
              "      <td>3029149</td>\n",
              "      <td>linequer_</td>\n",
              "      <td>excelência! 👏</td>\n",
              "      <td>cnzsr6lth74</td>\n",
              "      <td>comment</td>\n",
              "      <td>reels</td>\n",
              "      <td>17992357330670534</td>\n",
              "      <td>-</td>\n",
              "      <td>https://www.instagram.com/p/cnzsr6lth74/c/1799...</td>\n",
              "      <td>2023-01-26 19:28:33</td>\n",
              "      <td>2023-01-26 19:31:58</td>\n",
              "      <td>-1.0</td>\n",
              "      <td>0.0</td>\n",
              "      <td>0.0</td>\n",
              "      <td>-1.0</td>\n",
              "    </tr>\n",
              "  </tbody>\n",
              "</table>\n",
              "<p>4449 rows × 16 columns</p>\n",
              "</div>\n",
              "      <button class=\"colab-df-convert\" onclick=\"convertToInteractive('df-c82c579f-40e1-4e17-ad83-259b80448359')\"\n",
              "              title=\"Convert this dataframe to an interactive table.\"\n",
              "              style=\"display:none;\">\n",
              "        \n",
              "  <svg xmlns=\"http://www.w3.org/2000/svg\" height=\"24px\"viewBox=\"0 0 24 24\"\n",
              "       width=\"24px\">\n",
              "    <path d=\"M0 0h24v24H0V0z\" fill=\"none\"/>\n",
              "    <path d=\"M18.56 5.44l.94 2.06.94-2.06 2.06-.94-2.06-.94-.94-2.06-.94 2.06-2.06.94zm-11 1L8.5 8.5l.94-2.06 2.06-.94-2.06-.94L8.5 2.5l-.94 2.06-2.06.94zm10 10l.94 2.06.94-2.06 2.06-.94-2.06-.94-.94-2.06-.94 2.06-2.06.94z\"/><path d=\"M17.41 7.96l-1.37-1.37c-.4-.4-.92-.59-1.43-.59-.52 0-1.04.2-1.43.59L10.3 9.45l-7.72 7.72c-.78.78-.78 2.05 0 2.83L4 21.41c.39.39.9.59 1.41.59.51 0 1.02-.2 1.41-.59l7.78-7.78 2.81-2.81c.8-.78.8-2.07 0-2.86zM5.41 20L4 18.59l7.72-7.72 1.47 1.35L5.41 20z\"/>\n",
              "  </svg>\n",
              "      </button>\n",
              "      \n",
              "  <style>\n",
              "    .colab-df-container {\n",
              "      display:flex;\n",
              "      flex-wrap:wrap;\n",
              "      gap: 12px;\n",
              "    }\n",
              "\n",
              "    .colab-df-convert {\n",
              "      background-color: #E8F0FE;\n",
              "      border: none;\n",
              "      border-radius: 50%;\n",
              "      cursor: pointer;\n",
              "      display: none;\n",
              "      fill: #1967D2;\n",
              "      height: 32px;\n",
              "      padding: 0 0 0 0;\n",
              "      width: 32px;\n",
              "    }\n",
              "\n",
              "    .colab-df-convert:hover {\n",
              "      background-color: #E2EBFA;\n",
              "      box-shadow: 0px 1px 2px rgba(60, 64, 67, 0.3), 0px 1px 3px 1px rgba(60, 64, 67, 0.15);\n",
              "      fill: #174EA6;\n",
              "    }\n",
              "\n",
              "    [theme=dark] .colab-df-convert {\n",
              "      background-color: #3B4455;\n",
              "      fill: #D2E3FC;\n",
              "    }\n",
              "\n",
              "    [theme=dark] .colab-df-convert:hover {\n",
              "      background-color: #434B5C;\n",
              "      box-shadow: 0px 1px 3px 1px rgba(0, 0, 0, 0.15);\n",
              "      filter: drop-shadow(0px 1px 2px rgba(0, 0, 0, 0.3));\n",
              "      fill: #FFFFFF;\n",
              "    }\n",
              "  </style>\n",
              "\n",
              "      <script>\n",
              "        const buttonEl =\n",
              "          document.querySelector('#df-c82c579f-40e1-4e17-ad83-259b80448359 button.colab-df-convert');\n",
              "        buttonEl.style.display =\n",
              "          google.colab.kernel.accessAllowed ? 'block' : 'none';\n",
              "\n",
              "        async function convertToInteractive(key) {\n",
              "          const element = document.querySelector('#df-c82c579f-40e1-4e17-ad83-259b80448359');\n",
              "          const dataTable =\n",
              "            await google.colab.kernel.invokeFunction('convertToInteractive',\n",
              "                                                     [key], {});\n",
              "          if (!dataTable) return;\n",
              "\n",
              "          const docLinkHtml = 'Like what you see? Visit the ' +\n",
              "            '<a target=\"_blank\" href=https://colab.research.google.com/notebooks/data_table.ipynb>data table notebook</a>'\n",
              "            + ' to learn more about interactive tables.';\n",
              "          element.innerHTML = '';\n",
              "          dataTable['output_type'] = 'display_data';\n",
              "          await google.colab.output.renderOutput(dataTable, element);\n",
              "          const docLink = document.createElement('div');\n",
              "          docLink.innerHTML = docLinkHtml;\n",
              "          element.appendChild(docLink);\n",
              "        }\n",
              "      </script>\n",
              "    </div>\n",
              "  </div>\n",
              "  "
            ]
          },
          "metadata": {},
          "execution_count": 12
        }
      ]
    },
    {
      "cell_type": "markdown",
      "metadata": {
        "id": "8TyRlmSTbbbN"
      },
      "source": [
        "### Tokenização:"
      ]
    },
    {
      "cell_type": "markdown",
      "metadata": {
        "id": "NkZyQbF9bbbO"
      },
      "source": [
        "Explicação do tratamento:"
      ]
    },
    {
      "cell_type": "markdown",
      "source": [
        "Tokenização por palavra"
      ],
      "metadata": {
        "id": "UiA9iQBCMFIs"
      }
    },
    {
      "cell_type": "code",
      "execution_count": null,
      "metadata": {
        "id": "C2n1dbENbbbO"
      },
      "outputs": [],
      "source": [
        "def tokenizacao_frase(coluna):\n",
        "  comentarios = coluna.values\n",
        "  token_frase = []\n",
        "  for comentarios in comentarios:\n",
        "    token_frase.append(sent_tokenize(comentarios))\n",
        "  return(token_frase)"
      ]
    },
    {
      "cell_type": "code",
      "source": [
        "#definição de função para tokenização\n",
        "def tokenizar(comentarios):\n",
        "  tokenizer = Tokenizer()\n",
        "  tokenizer.fit_on_texts(comentarios)\n",
        "  print(f'Vocabulario: {list(tokenizer.word_index.keys())}')\n",
        "  return tokenizer"
      ],
      "metadata": {
        "id": "dKCa1seKMHom"
      },
      "execution_count": null,
      "outputs": []
    },
    {
      "cell_type": "code",
      "source": [
        "tokenizacao_frase(df['texto'])"
      ],
      "metadata": {
        "id": "lJIrbuVarPzb"
      },
      "execution_count": null,
      "outputs": []
    },
    {
      "cell_type": "code",
      "source": [
        "tokenizar(df['texto'])"
      ],
      "metadata": {
        "id": "cn5cKVECuLQA",
        "colab": {
          "base_uri": "https://localhost:8080/",
          "height": 287
        },
        "outputId": "9179dba8-2d0c-4135-928a-2c6b16badaf6"
      },
      "execution_count": null,
      "outputs": [
        {
          "output_type": "error",
          "ename": "NameError",
          "evalue": "ignored",
          "traceback": [
            "\u001b[0;31m---------------------------------------------------------------------------\u001b[0m",
            "\u001b[0;31mNameError\u001b[0m                                 Traceback (most recent call last)",
            "\u001b[0;32m<ipython-input-49-f600f66af65f>\u001b[0m in \u001b[0;36m<cell line: 1>\u001b[0;34m()\u001b[0m\n\u001b[0;32m----> 1\u001b[0;31m \u001b[0mtokenizar\u001b[0m\u001b[0;34m(\u001b[0m\u001b[0mdf\u001b[0m\u001b[0;34m[\u001b[0m\u001b[0;34m'texto'\u001b[0m\u001b[0;34m]\u001b[0m\u001b[0;34m)\u001b[0m\u001b[0;34m\u001b[0m\u001b[0;34m\u001b[0m\u001b[0m\n\u001b[0m",
            "\u001b[0;32m<ipython-input-48-ea436575f0bb>\u001b[0m in \u001b[0;36mtokenizar\u001b[0;34m(comentarios)\u001b[0m\n\u001b[1;32m      1\u001b[0m \u001b[0;31m#definição de função para tokenização\u001b[0m\u001b[0;34m\u001b[0m\u001b[0;34m\u001b[0m\u001b[0m\n\u001b[1;32m      2\u001b[0m \u001b[0;32mdef\u001b[0m \u001b[0mtokenizar\u001b[0m\u001b[0;34m(\u001b[0m\u001b[0mcomentarios\u001b[0m\u001b[0;34m)\u001b[0m\u001b[0;34m:\u001b[0m\u001b[0;34m\u001b[0m\u001b[0;34m\u001b[0m\u001b[0m\n\u001b[0;32m----> 3\u001b[0;31m   \u001b[0mtokenizer\u001b[0m \u001b[0;34m=\u001b[0m \u001b[0mTokenizer\u001b[0m\u001b[0;34m(\u001b[0m\u001b[0;34m)\u001b[0m\u001b[0;34m\u001b[0m\u001b[0;34m\u001b[0m\u001b[0m\n\u001b[0m\u001b[1;32m      4\u001b[0m   \u001b[0mtokenizer\u001b[0m\u001b[0;34m.\u001b[0m\u001b[0mfit_on_texts\u001b[0m\u001b[0;34m(\u001b[0m\u001b[0mcomentarios\u001b[0m\u001b[0;34m)\u001b[0m\u001b[0;34m\u001b[0m\u001b[0;34m\u001b[0m\u001b[0m\n\u001b[1;32m      5\u001b[0m   \u001b[0mprint\u001b[0m\u001b[0;34m(\u001b[0m\u001b[0;34mf'Vocabulario: {list(tokenizer.word_index.keys())}'\u001b[0m\u001b[0;34m)\u001b[0m\u001b[0;34m\u001b[0m\u001b[0;34m\u001b[0m\u001b[0m\n",
            "\u001b[0;31mNameError\u001b[0m: name 'Tokenizer' is not defined"
          ]
        }
      ]
    },
    {
      "cell_type": "markdown",
      "metadata": {
        "id": "BAQJ4x_3bbbO"
      },
      "source": [
        "### Stop words:\n"
      ]
    },
    {
      "cell_type": "markdown",
      "metadata": {
        "id": "ZQjRQ5HYbbbP"
      },
      "source": [
        "Explicação do tratamento:\n",
        "\n",
        "A remoção dos Stop Words é um pré-processamento importante pois elimina palavras irrelevantes que podem prejudicar a precisão do modelo final, como artigos, preposições, conjunções, entre outros conectores. Esse tratamento ajuda na eficácia da classificação de texto  e na redução tanto do vocabulário quanto de ruídos (palavras que não têm um valor semântico significativo)."
      ]
    },
    {
      "cell_type": "code",
      "source": [
        "#importação das bibliotecas para remoção de Stop Words\n",
        "!pip install -U spacy\n",
        "import spacy"
      ],
      "metadata": {
        "colab": {
          "base_uri": "https://localhost:8080/"
        },
        "id": "oRnCriREF-j2",
        "outputId": "ab50be9b-6b71-415b-db8a-a6d7838fdd15"
      },
      "execution_count": 48,
      "outputs": [
        {
          "output_type": "stream",
          "name": "stdout",
          "text": [
            "Looking in indexes: https://pypi.org/simple, https://us-python.pkg.dev/colab-wheels/public/simple/\n",
            "Requirement already satisfied: spacy in /usr/local/lib/python3.10/dist-packages (3.5.2)\n",
            "Requirement already satisfied: spacy-legacy<3.1.0,>=3.0.11 in /usr/local/lib/python3.10/dist-packages (from spacy) (3.0.12)\n",
            "Requirement already satisfied: spacy-loggers<2.0.0,>=1.0.0 in /usr/local/lib/python3.10/dist-packages (from spacy) (1.0.4)\n",
            "Requirement already satisfied: murmurhash<1.1.0,>=0.28.0 in /usr/local/lib/python3.10/dist-packages (from spacy) (1.0.9)\n",
            "Requirement already satisfied: cymem<2.1.0,>=2.0.2 in /usr/local/lib/python3.10/dist-packages (from spacy) (2.0.7)\n",
            "Requirement already satisfied: preshed<3.1.0,>=3.0.2 in /usr/local/lib/python3.10/dist-packages (from spacy) (3.0.8)\n",
            "Requirement already satisfied: thinc<8.2.0,>=8.1.8 in /usr/local/lib/python3.10/dist-packages (from spacy) (8.1.9)\n",
            "Requirement already satisfied: wasabi<1.2.0,>=0.9.1 in /usr/local/lib/python3.10/dist-packages (from spacy) (1.1.1)\n",
            "Requirement already satisfied: srsly<3.0.0,>=2.4.3 in /usr/local/lib/python3.10/dist-packages (from spacy) (2.4.6)\n",
            "Requirement already satisfied: catalogue<2.1.0,>=2.0.6 in /usr/local/lib/python3.10/dist-packages (from spacy) (2.0.8)\n",
            "Requirement already satisfied: typer<0.8.0,>=0.3.0 in /usr/local/lib/python3.10/dist-packages (from spacy) (0.7.0)\n",
            "Requirement already satisfied: pathy>=0.10.0 in /usr/local/lib/python3.10/dist-packages (from spacy) (0.10.1)\n",
            "Requirement already satisfied: smart-open<7.0.0,>=5.2.1 in /usr/local/lib/python3.10/dist-packages (from spacy) (6.3.0)\n",
            "Requirement already satisfied: tqdm<5.0.0,>=4.38.0 in /usr/local/lib/python3.10/dist-packages (from spacy) (4.65.0)\n",
            "Requirement already satisfied: numpy>=1.15.0 in /usr/local/lib/python3.10/dist-packages (from spacy) (1.22.4)\n",
            "Requirement already satisfied: requests<3.0.0,>=2.13.0 in /usr/local/lib/python3.10/dist-packages (from spacy) (2.27.1)\n",
            "Requirement already satisfied: pydantic!=1.8,!=1.8.1,<1.11.0,>=1.7.4 in /usr/local/lib/python3.10/dist-packages (from spacy) (1.10.7)\n",
            "Requirement already satisfied: jinja2 in /usr/local/lib/python3.10/dist-packages (from spacy) (3.1.2)\n",
            "Requirement already satisfied: setuptools in /usr/local/lib/python3.10/dist-packages (from spacy) (67.7.2)\n",
            "Requirement already satisfied: packaging>=20.0 in /usr/local/lib/python3.10/dist-packages (from spacy) (23.1)\n",
            "Requirement already satisfied: langcodes<4.0.0,>=3.2.0 in /usr/local/lib/python3.10/dist-packages (from spacy) (3.3.0)\n",
            "Requirement already satisfied: typing-extensions>=4.2.0 in /usr/local/lib/python3.10/dist-packages (from pydantic!=1.8,!=1.8.1,<1.11.0,>=1.7.4->spacy) (4.5.0)\n",
            "Requirement already satisfied: urllib3<1.27,>=1.21.1 in /usr/local/lib/python3.10/dist-packages (from requests<3.0.0,>=2.13.0->spacy) (1.26.15)\n",
            "Requirement already satisfied: certifi>=2017.4.17 in /usr/local/lib/python3.10/dist-packages (from requests<3.0.0,>=2.13.0->spacy) (2022.12.7)\n",
            "Requirement already satisfied: charset-normalizer~=2.0.0 in /usr/local/lib/python3.10/dist-packages (from requests<3.0.0,>=2.13.0->spacy) (2.0.12)\n",
            "Requirement already satisfied: idna<4,>=2.5 in /usr/local/lib/python3.10/dist-packages (from requests<3.0.0,>=2.13.0->spacy) (3.4)\n",
            "Requirement already satisfied: blis<0.8.0,>=0.7.8 in /usr/local/lib/python3.10/dist-packages (from thinc<8.2.0,>=8.1.8->spacy) (0.7.9)\n",
            "Requirement already satisfied: confection<1.0.0,>=0.0.1 in /usr/local/lib/python3.10/dist-packages (from thinc<8.2.0,>=8.1.8->spacy) (0.0.4)\n",
            "Requirement already satisfied: click<9.0.0,>=7.1.1 in /usr/local/lib/python3.10/dist-packages (from typer<0.8.0,>=0.3.0->spacy) (8.1.3)\n",
            "Requirement already satisfied: MarkupSafe>=2.0 in /usr/local/lib/python3.10/dist-packages (from jinja2->spacy) (2.1.2)\n"
          ]
        }
      ]
    },
    {
      "cell_type": "code",
      "source": [
        "nlp = spacy.cli.download('pt_core_news_sm')\n"
      ],
      "metadata": {
        "colab": {
          "base_uri": "https://localhost:8080/"
        },
        "id": "KLLAvMVcHRJq",
        "outputId": "14e44c90-5533-401c-ab3d-464d8a95c391"
      },
      "execution_count": 43,
      "outputs": [
        {
          "output_type": "stream",
          "name": "stdout",
          "text": [
            "\u001b[38;5;2m✔ Download and installation successful\u001b[0m\n",
            "You can now load the package via spacy.load('pt_core_news_sm')\n"
          ]
        }
      ]
    },
    {
      "cell_type": "code",
      "source": [
        "import spacy\n",
        "\n",
        "def removeStopWords(coluna):\n",
        "  # carrega o modelo do Spacy para a língua portuguesa\n",
        "  nlp = spacy.load(\"pt_core_news_sm\")\n",
        "  listaSemStopWords = []\n",
        "  for texto in coluna:\n",
        "    # converte o texto em um documento do Spacy\n",
        "    doc = nlp(texto)\n",
        "    # filtra os tokens que não são stop words\n",
        "    token_sem_stopwords = [token.text for token in doc if not token.is_stop]\n",
        "    # adiciona a lista de frases sem stop words\n",
        "    listaSemStopWords.append(token_sem_stopwords)\n",
        "    df_stop = pd.DataFrame({'listaSemStopWords':listaSemStopWords})\n",
        "  return df_stop"
      ],
      "metadata": {
        "id": "h19Ts1XcJvAR"
      },
      "execution_count": 46,
      "outputs": []
    },
    {
      "cell_type": "code",
      "source": [
        "removeStopWords(df['texto'])"
      ],
      "metadata": {
        "id": "C-25119jPba_",
        "colab": {
          "base_uri": "https://localhost:8080/",
          "height": 423
        },
        "outputId": "bc37c4ff-f91a-48a1-f86c-83e366013fee"
      },
      "execution_count": 47,
      "outputs": [
        {
          "output_type": "execute_result",
          "data": {
            "text/plain": [
              "                                      listaSemStopWords\n",
              "0     [Olá, ,, Ana, Paula, !, ?, \\n\\n, Sentimos, oco...\n",
              "1     [Olá, ,, Rosana, !, ?, \\n\\n, orientarmos, asse...\n",
              "2                      [@luizantoniojovinodossan, 🚀, 💙]\n",
              "3     [@ronialencar, !, ?, \\n\\n, Lamentamos, ocorrid...\n",
              "4     [Oi, ,, Nelson, !, ?, \\n\\n, Possuímos, soluçõe...\n",
              "...                                                 ...\n",
              "4444  [contratando, blogueiros, ,, ficaria, atento, ...\n",
              "4445                                   [@xubs, ., _, 💙]\n",
              "4446                      [Agradecemos, feedback, !, 💙]\n",
              "4447  [Arrasa, Micaaa, 💙, ✨, 🙏, 🏼, 👏, 🏼, 👏, 🏼, 👏, 🏼,...\n",
              "4448                                 [Excelência, !, 👏]\n",
              "\n",
              "[4449 rows x 1 columns]"
            ],
            "text/html": [
              "\n",
              "  <div id=\"df-8c38ddbe-4684-47fa-9533-d2e392480a1e\">\n",
              "    <div class=\"colab-df-container\">\n",
              "      <div>\n",
              "<style scoped>\n",
              "    .dataframe tbody tr th:only-of-type {\n",
              "        vertical-align: middle;\n",
              "    }\n",
              "\n",
              "    .dataframe tbody tr th {\n",
              "        vertical-align: top;\n",
              "    }\n",
              "\n",
              "    .dataframe thead th {\n",
              "        text-align: right;\n",
              "    }\n",
              "</style>\n",
              "<table border=\"1\" class=\"dataframe\">\n",
              "  <thead>\n",
              "    <tr style=\"text-align: right;\">\n",
              "      <th></th>\n",
              "      <th>listaSemStopWords</th>\n",
              "    </tr>\n",
              "  </thead>\n",
              "  <tbody>\n",
              "    <tr>\n",
              "      <th>0</th>\n",
              "      <td>[Olá, ,, Ana, Paula, !, ?, \\n\\n, Sentimos, oco...</td>\n",
              "    </tr>\n",
              "    <tr>\n",
              "      <th>1</th>\n",
              "      <td>[Olá, ,, Rosana, !, ?, \\n\\n, orientarmos, asse...</td>\n",
              "    </tr>\n",
              "    <tr>\n",
              "      <th>2</th>\n",
              "      <td>[@luizantoniojovinodossan, 🚀, 💙]</td>\n",
              "    </tr>\n",
              "    <tr>\n",
              "      <th>3</th>\n",
              "      <td>[@ronialencar, !, ?, \\n\\n, Lamentamos, ocorrid...</td>\n",
              "    </tr>\n",
              "    <tr>\n",
              "      <th>4</th>\n",
              "      <td>[Oi, ,, Nelson, !, ?, \\n\\n, Possuímos, soluçõe...</td>\n",
              "    </tr>\n",
              "    <tr>\n",
              "      <th>...</th>\n",
              "      <td>...</td>\n",
              "    </tr>\n",
              "    <tr>\n",
              "      <th>4444</th>\n",
              "      <td>[contratando, blogueiros, ,, ficaria, atento, ...</td>\n",
              "    </tr>\n",
              "    <tr>\n",
              "      <th>4445</th>\n",
              "      <td>[@xubs, ., _, 💙]</td>\n",
              "    </tr>\n",
              "    <tr>\n",
              "      <th>4446</th>\n",
              "      <td>[Agradecemos, feedback, !, 💙]</td>\n",
              "    </tr>\n",
              "    <tr>\n",
              "      <th>4447</th>\n",
              "      <td>[Arrasa, Micaaa, 💙, ✨, 🙏, 🏼, 👏, 🏼, 👏, 🏼, 👏, 🏼,...</td>\n",
              "    </tr>\n",
              "    <tr>\n",
              "      <th>4448</th>\n",
              "      <td>[Excelência, !, 👏]</td>\n",
              "    </tr>\n",
              "  </tbody>\n",
              "</table>\n",
              "<p>4449 rows × 1 columns</p>\n",
              "</div>\n",
              "      <button class=\"colab-df-convert\" onclick=\"convertToInteractive('df-8c38ddbe-4684-47fa-9533-d2e392480a1e')\"\n",
              "              title=\"Convert this dataframe to an interactive table.\"\n",
              "              style=\"display:none;\">\n",
              "        \n",
              "  <svg xmlns=\"http://www.w3.org/2000/svg\" height=\"24px\"viewBox=\"0 0 24 24\"\n",
              "       width=\"24px\">\n",
              "    <path d=\"M0 0h24v24H0V0z\" fill=\"none\"/>\n",
              "    <path d=\"M18.56 5.44l.94 2.06.94-2.06 2.06-.94-2.06-.94-.94-2.06-.94 2.06-2.06.94zm-11 1L8.5 8.5l.94-2.06 2.06-.94-2.06-.94L8.5 2.5l-.94 2.06-2.06.94zm10 10l.94 2.06.94-2.06 2.06-.94-2.06-.94-.94-2.06-.94 2.06-2.06.94z\"/><path d=\"M17.41 7.96l-1.37-1.37c-.4-.4-.92-.59-1.43-.59-.52 0-1.04.2-1.43.59L10.3 9.45l-7.72 7.72c-.78.78-.78 2.05 0 2.83L4 21.41c.39.39.9.59 1.41.59.51 0 1.02-.2 1.41-.59l7.78-7.78 2.81-2.81c.8-.78.8-2.07 0-2.86zM5.41 20L4 18.59l7.72-7.72 1.47 1.35L5.41 20z\"/>\n",
              "  </svg>\n",
              "      </button>\n",
              "      \n",
              "  <style>\n",
              "    .colab-df-container {\n",
              "      display:flex;\n",
              "      flex-wrap:wrap;\n",
              "      gap: 12px;\n",
              "    }\n",
              "\n",
              "    .colab-df-convert {\n",
              "      background-color: #E8F0FE;\n",
              "      border: none;\n",
              "      border-radius: 50%;\n",
              "      cursor: pointer;\n",
              "      display: none;\n",
              "      fill: #1967D2;\n",
              "      height: 32px;\n",
              "      padding: 0 0 0 0;\n",
              "      width: 32px;\n",
              "    }\n",
              "\n",
              "    .colab-df-convert:hover {\n",
              "      background-color: #E2EBFA;\n",
              "      box-shadow: 0px 1px 2px rgba(60, 64, 67, 0.3), 0px 1px 3px 1px rgba(60, 64, 67, 0.15);\n",
              "      fill: #174EA6;\n",
              "    }\n",
              "\n",
              "    [theme=dark] .colab-df-convert {\n",
              "      background-color: #3B4455;\n",
              "      fill: #D2E3FC;\n",
              "    }\n",
              "\n",
              "    [theme=dark] .colab-df-convert:hover {\n",
              "      background-color: #434B5C;\n",
              "      box-shadow: 0px 1px 3px 1px rgba(0, 0, 0, 0.15);\n",
              "      filter: drop-shadow(0px 1px 2px rgba(0, 0, 0, 0.3));\n",
              "      fill: #FFFFFF;\n",
              "    }\n",
              "  </style>\n",
              "\n",
              "      <script>\n",
              "        const buttonEl =\n",
              "          document.querySelector('#df-8c38ddbe-4684-47fa-9533-d2e392480a1e button.colab-df-convert');\n",
              "        buttonEl.style.display =\n",
              "          google.colab.kernel.accessAllowed ? 'block' : 'none';\n",
              "\n",
              "        async function convertToInteractive(key) {\n",
              "          const element = document.querySelector('#df-8c38ddbe-4684-47fa-9533-d2e392480a1e');\n",
              "          const dataTable =\n",
              "            await google.colab.kernel.invokeFunction('convertToInteractive',\n",
              "                                                     [key], {});\n",
              "          if (!dataTable) return;\n",
              "\n",
              "          const docLinkHtml = 'Like what you see? Visit the ' +\n",
              "            '<a target=\"_blank\" href=https://colab.research.google.com/notebooks/data_table.ipynb>data table notebook</a>'\n",
              "            + ' to learn more about interactive tables.';\n",
              "          element.innerHTML = '';\n",
              "          dataTable['output_type'] = 'display_data';\n",
              "          await google.colab.output.renderOutput(dataTable, element);\n",
              "          const docLink = document.createElement('div');\n",
              "          docLink.innerHTML = docLinkHtml;\n",
              "          element.appendChild(docLink);\n",
              "        }\n",
              "      </script>\n",
              "    </div>\n",
              "  </div>\n",
              "  "
            ]
          },
          "metadata": {},
          "execution_count": 47
        }
      ]
    },
    {
      "cell_type": "markdown",
      "metadata": {
        "id": "M5xSqfYQbbbP"
      },
      "source": [
        "### Tratamento de abreviações"
      ]
    },
    {
      "cell_type": "markdown",
      "metadata": {
        "id": "W1Bj3-fPbbbP"
      },
      "source": [
        "O tratamento de abreviações é importante porque garante que o algoritmo de processamento de linguagem natural interprete corretamente o significado do texto. Ao substituir abreviações por suas formas completas, o texto se torna mais legível e compreensível para o algoritmo que realizará o processamento."
      ]
    },
    {
      "cell_type": "code",
      "execution_count": null,
      "metadata": {
        "id": "3pnCai09bbbQ"
      },
      "outputs": [],
      "source": [
        "   \n",
        "def tratamentoAbreviacoes(coluna):    \n",
        "    coluna = coluna.astype(str)\n",
        "    coluna.str.lower()\n",
        "# Dicionário com as abreviações e suas expansões\n",
        "    abreviacoes = {\n",
        "        r'\\bvc\\b': 'você',\n",
        "        r'\\btbm\\b': 'também',\n",
        "        r'\\bpq\\b': 'porque',\n",
        "        r'\\bmt\\b': 'muito',\n",
        "        r'\\bmto\\b':'muito',\n",
        "        r'\\bblz\\b': 'beleza',\n",
        "        r'\\bjah\\b': 'já',\n",
        "        r'\\bbj\\b': 'beijo',\n",
        "        r'\\bflw\\b': 'falou',\n",
        "        r'\\bvlw\\b': 'valeu',\n",
        "        r'\\bkrl\\b': 'caralho',\n",
        "        r'\\bqnd\\b': 'quando',\n",
        "        r'\\bfds\\b': 'fim de semana',\n",
        "        r'\\bqq\\b': 'qualquer',\n",
        "        r'\\bmsg\\b': 'mensagem',\n",
        "        r'\\bp\\b': 'para',\n",
        "        r'\\bpqp\\b': 'puta que pariu',\n",
        "        r'\\bvlh\\b': 'velho',\n",
        "        r'\\bnss\\b': 'nossa',\n",
        "        r'\\bngm\\b': 'ninguém',\n",
        "        r'\\bqm\\b': 'quem',\n",
        "        r'\\bobs\\b': 'observação',\n",
        "        r'\\bqt\\b': 'quanto',\n",
        "        r'\\btbm ñ\\b': 'também não',\n",
        "        r'\\bpf\\b': 'por favor',\n",
        "        r'\\bpdc\\b': 'pode crer',\n",
        "        r'\\btalkei\\b': 'ok',\n",
        "        r'\\bd+\\b': 'demais',\n",
        "        r'\\bdms\\b': 'demais',\n",
        "        r'\\bsqn\\b': 'só que não',\n",
        "        r'\\bmsm\\b': 'mesmo',\n",
        "        r'\\bn/ao\\b': 'não',\n",
        "        r'\\bn/\\b': 'não',\n",
        "        r'\\bblz\\b': 'beleza',\n",
        "        r'\\bq\\b': 'que',\n",
        "        r'\\btd\\b': 'tudo',\n",
        "        r'\\bpfvr\\b': 'por favor',\n",
        "        r'\\bgnt\\b': 'gente',\n",
        "        r'\\bto\\b': 'estou',\n",
        "        r'\\bvcs\\b': 'vocês',\n",
        "        r'\\bn/oa\\b': 'não',\n",
        "        r'\\bsla\\b': 'sei lá',\n",
        "        r'\\bflws\\b': 'falou',\n",
        "        r'\\bbjos\\b': 'beijos',\n",
        "        r'\\bkd\\b': 'cadê',\n",
        "        r'\\blgl\\b': 'legal',\n",
        "        r'\\bnum\\b': 'número',\n",
        "        r'\\bjá q\\b': 'já que',\n",
        "        r'\\bmano\\b': 'irmão',\n",
        "        r'\\bpke\\b': 'porque',\n",
        "        r'\\bpr\\b': 'para',\n",
        "        r'\\btpm\\b': 'tensão pré-menstrual',\n",
        "        r'\\btá\\b': 'está',\n",
        "        r'\\bqmto\\b': 'muito',\n",
        "        r'\\bñ\\b': 'não',\n",
        "        r'\\bvamu\\b': 'vamos',\n",
        "        r'\\b/\\b': '',\n",
        "    }\n",
        "\n",
        "    # Aplica a substituição de cada abreviação no dataframe\n",
        "    for abreviacao, expansao in abreviacoes.items():\n",
        "        coluna= coluna.apply(lambda x: re.sub(abreviacao, expansao, x, flags=re.IGNORECASE))\n",
        "    \n",
        "    return coluna"
      ]
    },
    {
      "cell_type": "markdown",
      "metadata": {
        "id": "5PLBCbxWbbbR"
      },
      "source": [
        "Teste isolado:"
      ]
    },
    {
      "cell_type": "code",
      "execution_count": null,
      "metadata": {
        "id": "5KEsO9NtbbbR",
        "colab": {
          "base_uri": "https://localhost:8080/"
        },
        "outputId": "9cf156d3-22a2-435b-a0b5-b253b953b8c4"
      },
      "outputs": [
        {
          "output_type": "execute_result",
          "data": {
            "text/plain": [
              "0       Olá, Ana Paula! Como vai?\\n\\nSentimos muito pe...\n",
              "1       Olá, Rosana! Tudo bem?\\n\\nPara te orientarmos ...\n",
              "2                            @luizantoniojovinodossan 🚀 💙\n",
              "3       @ronialencar Boa tarde! Tudo bem?\\n\\nLamentamo...\n",
              "4       Oi, Nelson! Tudo bem?\\n\\nPossuímos soluções co...\n",
              "                              ...                        \n",
              "4544    Estão contratando muitos blogueiros, mas eu fi...\n",
              "4545                                            @xubs._ 💙\n",
              "4546                        Agradecemos o seu feedback! 💙\n",
              "4547                           Arrasa Micaaa 💙✨🙏🏼👏🏼👏🏼👏🏼👏🏼\n",
              "4548                                        Excelência! 👏\n",
              "Name: texto, Length: 4449, dtype: object"
            ]
          },
          "metadata": {},
          "execution_count": 16
        }
      ],
      "source": [
        "#teste isolado\n",
        "tratamentoAbreviacoes(df['texto'])"
      ]
    },
    {
      "cell_type": "markdown",
      "metadata": {
        "id": "-ldg79l0bbbS"
      },
      "source": [
        "## Bag of words"
      ]
    },
    {
      "cell_type": "markdown",
      "source": [
        "### Escolha dos dados a serem utilizados para o modelo"
      ],
      "metadata": {
        "id": "_jEcbhaddjxn"
      }
    },
    {
      "cell_type": "code",
      "source": [
        "df_Bow = df"
      ],
      "metadata": {
        "id": "IEnrpgL-0d4N"
      },
      "execution_count": null,
      "outputs": []
    },
    {
      "cell_type": "markdown",
      "source": [
        "#### Remoção de todos comentarios criados pelo btgpactual\n",
        "\n",
        "\n",
        "\n"
      ],
      "metadata": {
        "id": "Dv9NKCvi69k5"
      }
    },
    {
      "cell_type": "code",
      "execution_count": null,
      "metadata": {
        "id": "GC6nnAfvbbbT",
        "colab": {
          "base_uri": "https://localhost:8080/",
          "height": 328
        },
        "outputId": "c621574b-8627-4d46-98a8-388634bd85c6"
      },
      "outputs": [
        {
          "output_type": "error",
          "ename": "KeyError",
          "evalue": "ignored",
          "traceback": [
            "\u001b[0;31m---------------------------------------------------------------------------\u001b[0m",
            "\u001b[0;31mKeyError\u001b[0m                                  Traceback (most recent call last)",
            "\u001b[0;32m<ipython-input-82-7b6f0b862c70>\u001b[0m in \u001b[0;36m<cell line: 1>\u001b[0;34m()\u001b[0m\n\u001b[0;32m----> 1\u001b[0;31m \u001b[0mdf\u001b[0m \u001b[0;34m=\u001b[0m \u001b[0mdf\u001b[0m\u001b[0;34m.\u001b[0m\u001b[0mdrop\u001b[0m\u001b[0;34m(\u001b[0m\u001b[0mindex\u001b[0m \u001b[0;34m=\u001b[0m \u001b[0mdf\u001b[0m\u001b[0;34m[\u001b[0m\u001b[0mdf\u001b[0m\u001b[0;34m[\u001b[0m\u001b[0;34m'autor'\u001b[0m\u001b[0;34m]\u001b[0m\u001b[0;34m]\u001b[0m \u001b[0;34m==\u001b[0m \u001b[0;34m[\u001b[0m\u001b[0;34m'btgpactual'\u001b[0m\u001b[0;34m]\u001b[0m\u001b[0;34m.\u001b[0m\u001b[0mindex\u001b[0m\u001b[0;34m)\u001b[0m\u001b[0;34m\u001b[0m\u001b[0;34m\u001b[0m\u001b[0m\n\u001b[0m",
            "\u001b[0;32m/usr/local/lib/python3.10/dist-packages/pandas/core/frame.py\u001b[0m in \u001b[0;36m__getitem__\u001b[0;34m(self, key)\u001b[0m\n\u001b[1;32m   3811\u001b[0m             \u001b[0;32mif\u001b[0m \u001b[0mis_iterator\u001b[0m\u001b[0;34m(\u001b[0m\u001b[0mkey\u001b[0m\u001b[0;34m)\u001b[0m\u001b[0;34m:\u001b[0m\u001b[0;34m\u001b[0m\u001b[0;34m\u001b[0m\u001b[0m\n\u001b[1;32m   3812\u001b[0m                 \u001b[0mkey\u001b[0m \u001b[0;34m=\u001b[0m \u001b[0mlist\u001b[0m\u001b[0;34m(\u001b[0m\u001b[0mkey\u001b[0m\u001b[0;34m)\u001b[0m\u001b[0;34m\u001b[0m\u001b[0;34m\u001b[0m\u001b[0m\n\u001b[0;32m-> 3813\u001b[0;31m             \u001b[0mindexer\u001b[0m \u001b[0;34m=\u001b[0m \u001b[0mself\u001b[0m\u001b[0;34m.\u001b[0m\u001b[0mcolumns\u001b[0m\u001b[0;34m.\u001b[0m\u001b[0m_get_indexer_strict\u001b[0m\u001b[0;34m(\u001b[0m\u001b[0mkey\u001b[0m\u001b[0;34m,\u001b[0m \u001b[0;34m\"columns\"\u001b[0m\u001b[0;34m)\u001b[0m\u001b[0;34m[\u001b[0m\u001b[0;36m1\u001b[0m\u001b[0;34m]\u001b[0m\u001b[0;34m\u001b[0m\u001b[0;34m\u001b[0m\u001b[0m\n\u001b[0m\u001b[1;32m   3814\u001b[0m \u001b[0;34m\u001b[0m\u001b[0m\n\u001b[1;32m   3815\u001b[0m         \u001b[0;31m# take() does not accept boolean indexers\u001b[0m\u001b[0;34m\u001b[0m\u001b[0;34m\u001b[0m\u001b[0m\n",
            "\u001b[0;32m/usr/local/lib/python3.10/dist-packages/pandas/core/indexes/base.py\u001b[0m in \u001b[0;36m_get_indexer_strict\u001b[0;34m(self, key, axis_name)\u001b[0m\n\u001b[1;32m   6068\u001b[0m             \u001b[0mkeyarr\u001b[0m\u001b[0;34m,\u001b[0m \u001b[0mindexer\u001b[0m\u001b[0;34m,\u001b[0m \u001b[0mnew_indexer\u001b[0m \u001b[0;34m=\u001b[0m \u001b[0mself\u001b[0m\u001b[0;34m.\u001b[0m\u001b[0m_reindex_non_unique\u001b[0m\u001b[0;34m(\u001b[0m\u001b[0mkeyarr\u001b[0m\u001b[0;34m)\u001b[0m\u001b[0;34m\u001b[0m\u001b[0;34m\u001b[0m\u001b[0m\n\u001b[1;32m   6069\u001b[0m \u001b[0;34m\u001b[0m\u001b[0m\n\u001b[0;32m-> 6070\u001b[0;31m         \u001b[0mself\u001b[0m\u001b[0;34m.\u001b[0m\u001b[0m_raise_if_missing\u001b[0m\u001b[0;34m(\u001b[0m\u001b[0mkeyarr\u001b[0m\u001b[0;34m,\u001b[0m \u001b[0mindexer\u001b[0m\u001b[0;34m,\u001b[0m \u001b[0maxis_name\u001b[0m\u001b[0;34m)\u001b[0m\u001b[0;34m\u001b[0m\u001b[0;34m\u001b[0m\u001b[0m\n\u001b[0m\u001b[1;32m   6071\u001b[0m \u001b[0;34m\u001b[0m\u001b[0m\n\u001b[1;32m   6072\u001b[0m         \u001b[0mkeyarr\u001b[0m \u001b[0;34m=\u001b[0m \u001b[0mself\u001b[0m\u001b[0;34m.\u001b[0m\u001b[0mtake\u001b[0m\u001b[0;34m(\u001b[0m\u001b[0mindexer\u001b[0m\u001b[0;34m)\u001b[0m\u001b[0;34m\u001b[0m\u001b[0;34m\u001b[0m\u001b[0m\n",
            "\u001b[0;32m/usr/local/lib/python3.10/dist-packages/pandas/core/indexes/base.py\u001b[0m in \u001b[0;36m_raise_if_missing\u001b[0;34m(self, key, indexer, axis_name)\u001b[0m\n\u001b[1;32m   6128\u001b[0m                 \u001b[0;32mif\u001b[0m \u001b[0muse_interval_msg\u001b[0m\u001b[0;34m:\u001b[0m\u001b[0;34m\u001b[0m\u001b[0;34m\u001b[0m\u001b[0m\n\u001b[1;32m   6129\u001b[0m                     \u001b[0mkey\u001b[0m \u001b[0;34m=\u001b[0m \u001b[0mlist\u001b[0m\u001b[0;34m(\u001b[0m\u001b[0mkey\u001b[0m\u001b[0;34m)\u001b[0m\u001b[0;34m\u001b[0m\u001b[0;34m\u001b[0m\u001b[0m\n\u001b[0;32m-> 6130\u001b[0;31m                 \u001b[0;32mraise\u001b[0m \u001b[0mKeyError\u001b[0m\u001b[0;34m(\u001b[0m\u001b[0;34mf\"None of [{key}] are in the [{axis_name}]\"\u001b[0m\u001b[0;34m)\u001b[0m\u001b[0;34m\u001b[0m\u001b[0;34m\u001b[0m\u001b[0m\n\u001b[0m\u001b[1;32m   6131\u001b[0m \u001b[0;34m\u001b[0m\u001b[0m\n\u001b[1;32m   6132\u001b[0m             \u001b[0mnot_found\u001b[0m \u001b[0;34m=\u001b[0m \u001b[0mlist\u001b[0m\u001b[0;34m(\u001b[0m\u001b[0mensure_index\u001b[0m\u001b[0;34m(\u001b[0m\u001b[0mkey\u001b[0m\u001b[0;34m)\u001b[0m\u001b[0;34m[\u001b[0m\u001b[0mmissing_mask\u001b[0m\u001b[0;34m.\u001b[0m\u001b[0mnonzero\u001b[0m\u001b[0;34m(\u001b[0m\u001b[0;34m)\u001b[0m\u001b[0;34m[\u001b[0m\u001b[0;36m0\u001b[0m\u001b[0;34m]\u001b[0m\u001b[0;34m]\u001b[0m\u001b[0;34m.\u001b[0m\u001b[0munique\u001b[0m\u001b[0;34m(\u001b[0m\u001b[0;34m)\u001b[0m\u001b[0;34m)\u001b[0m\u001b[0;34m\u001b[0m\u001b[0;34m\u001b[0m\u001b[0m\n",
            "\u001b[0;31mKeyError\u001b[0m: \"None of [Index(['btgpactual', 'btgpactual', 'btgpactual', 'btgpactual', '    ',\\n       'btgpactual', 'btgpactual', 'btgpactual', 'btgpactual', 'btgpactual',\\n       ...\\n       'btgpactual', 'btgpactual', 'btgpactual', 'gui.decicco', 'giballiana',\\n       'caioaugustofr', 'btgpactual', 'btgpactual', 'je_mascarenhas',\\n       'linequer_'],\\n      dtype='object', length=4449)] are in the [columns]\""
          ]
        }
      ],
      "source": [
        "df = df.drop(index = df[df['autor']] == ['btgpactual'].index)"
      ]
    },
    {
      "cell_type": "markdown",
      "source": [
        "#### Remoção de colunas irrelevantes para o modelo\n"
      ],
      "metadata": {
        "id": "GfXaV3ac7IaA"
      }
    },
    {
      "cell_type": "code",
      "execution_count": null,
      "metadata": {
        "id": "MRLzygzwbbbS",
        "colab": {
          "base_uri": "https://localhost:8080/",
          "height": 130
        },
        "outputId": "6b2a7391-08c6-4f47-8cee-d253f88e7656"
      },
      "outputs": [
        {
          "output_type": "error",
          "ename": "IndentationError",
          "evalue": "ignored",
          "traceback": [
            "\u001b[0;36m  File \u001b[0;32m\"<ipython-input-102-6d8d6aa54e06>\"\u001b[0;36m, line \u001b[0;32m2\u001b[0m\n\u001b[0;31m    df_Bow = df['texto']\u001b[0m\n\u001b[0m    ^\u001b[0m\n\u001b[0;31mIndentationError\u001b[0m\u001b[0;31m:\u001b[0m unexpected indent\n"
          ]
        }
      ],
      "source": [
        "#apenas a coluna 'texto' sera utilizada para executar o modelo de bag of words\n",
        "  df_Bow = df['texto']"
      ]
    },
    {
      "cell_type": "code",
      "source": [
        "df_Bow"
      ],
      "metadata": {
        "colab": {
          "base_uri": "https://localhost:8080/"
        },
        "id": "4I7uXLuK0v0C",
        "outputId": "f4c7fb63-b3cc-4a01-efb9-4f4a90ccf110"
      },
      "execution_count": null,
      "outputs": [
        {
          "output_type": "execute_result",
          "data": {
            "text/plain": [
              "0       Olá, Ana Paula! Como vai?\\n\\nSentimos muito pe...\n",
              "1       Olá, Rosana! Tudo bem?\\n\\nPara te orientarmos ...\n",
              "2                            @luizantoniojovinodossan 🚀 💙\n",
              "3       @ronialencar Boa tarde! Tudo bem?\\n\\nLamentamo...\n",
              "4       Oi, Nelson! Tudo bem?\\n\\nPossuímos soluções co...\n",
              "                              ...                        \n",
              "4544    Estão contratando muitos blogueiros, mas eu fi...\n",
              "4545                                            @xubs._ 💙\n",
              "4546                        Agradecemos o seu feedback! 💙\n",
              "4547                           Arrasa Micaaa 💙✨🙏🏼👏🏼👏🏼👏🏼👏🏼\n",
              "4548                                        Excelência! 👏\n",
              "Name: texto, Length: 4449, dtype: object"
            ]
          },
          "metadata": {},
          "execution_count": 103
        }
      ]
    },
    {
      "cell_type": "markdown",
      "source": [
        "### setup do *modelo*"
      ],
      "metadata": {
        "id": "ihwBPKd71mH3"
      }
    },
    {
      "cell_type": "code",
      "source": [
        "#importação de bibliotecas\n",
        "#importação de keras, para execução do modelo e criação do dicionario\n",
        "from keras.preprocessing.text import Tokenizer"
      ],
      "metadata": {
        "id": "rEC3Zc7j1vJd"
      },
      "execution_count": null,
      "outputs": []
    },
    {
      "cell_type": "markdown",
      "source": [
        "### Funções bag of words"
      ],
      "metadata": {
        "id": "8ODh5Rz_3GyM"
      }
    },
    {
      "cell_type": "markdown",
      "source": [
        "#### Execução do modelo\n"
      ],
      "metadata": {
        "id": "ztddFNQf408S"
      }
    },
    {
      "cell_type": "markdown",
      "source": [
        "##### definição\n"
      ],
      "metadata": {
        "id": "is3yvOVb408S"
      }
    },
    {
      "cell_type": "markdown",
      "source": [
        "função para ciração dos vetores \n"
      ],
      "metadata": {
        "id": "z-tfwtrI408T"
      }
    },
    {
      "cell_type": "code",
      "source": [
        "#função para chamar o modelo de bag of words, e salvar um vetor de recorrencia.\n",
        "def bag_of_words(tokens,comentarios):\n",
        "  salvar = tokens.texts_to_matrix(comentarios, mode='count')\n",
        "  return salvar"
      ],
      "metadata": {
        "id": "B4ggs2ya4-HT"
      },
      "execution_count": null,
      "outputs": []
    },
    {
      "cell_type": "markdown",
      "source": [
        "##### teste"
      ],
      "metadata": {
        "id": "IzYrieC-408T"
      }
    },
    {
      "cell_type": "code",
      "source": [
        "bag_of_words(tokenizar(df_Bow),df_Bow)"
      ],
      "metadata": {
        "colab": {
          "base_uri": "https://localhost:8080/"
        },
        "id": "SmOpT0KS8a5M",
        "outputId": "45777686-f135-4fc6-b775-fb3109730a39"
      },
      "execution_count": null,
      "outputs": [
        {
          "output_type": "stream",
          "name": "stdout",
          "text": [
            "Vocabulario: ['de', 'e', 'o', 'a', 'que', 'com', 'do', 'para', 'em', 'é', 'um', 'no', 'não', 'mais', 'uma', 'btg', 'banco', 'da', 'eu', 'na', 'meu', 'por', 'os', 'você', '💙', 'tudo', 'limite', 'te', 'btgpactual', 'como', 'bem', 'me', 'conta', 'muito', 'se', 'minha', 'seu', '🚀', 'cartão', 'as', 'olá', 'investimentos', 'pra', 'sua', 'sem', 'estamos', 'nos', 'ao', 'pelo', 'esse', 'dos', 'nosso', 'tem', '😉', 'isso', 'foi', 'está', 'dia', 'obrigado', 'ajudar', 'melhor', 'mas', 'dinheiro', 'já', 'todos', 'pode', 'estou', 'sempre', 'aqui', 'só', 'sobre', 'dias', 'ser', 'ou', 'são', 'agora', 'crédito', 'eles', 'investimento', 'pactual', 'vocês', 'também', 'vai', 'qualquer', 'pela', '👏👏👏', 'clientes', '1', 'link', 'bom', 'enviamos', 'à', 'das', 'dúvida', '000', 'ano', 'essa', 'nada', 'cliente', 'fazer', '2', 'nossos', 'tenho', 'quem', 'quando', 'hoje', 'mensagem', 'caso', '👏', 'nunca', 'vcs', 'investir', 'até', 'atendimento', 'mesmo', 'vida', 'todo', 'brasil', 'assertividade', 'r', 'ter', 'https', 'disposição', 'informações', 'ela', 'renda', 'agradecemos', 'app', 'meus', 'privada', 'ainda', 'with', 'mercado', 'pessoas', '5', 'estão', 'depois', '3', 'valor', 'nossa', '💙😉🚀', 'contato', 'dm', 'www', 'mim', 'seus', 'sou', 'experiência', 'time', 'porque', 'além', 'demais', 'flávio', 'vou', 'boa', 'quero', 'evento', 'trabalho', 'assim', '10', 'empresa', 'ele', 'sucesso', 'semana', 'dúvidas', 'recebi', 'nem', 'mil', 'fatura', 'maior', 'retorno', '👏👏👏👏', 'parabéns', 'entre', '2023', 'desse', 'taxa', 'anos', 'saber', '2022', 'pois', 'vamos', 'cada', 'reais', 'apenas', 'site', 'parte', 'grande', 'nas', 'aos', 'feedback', 'desde', 'tá', 'realmente', 'vez', 'era', '15', 'natal', 'confiança', 'fx', 'assessor', 'faz', 'chat', 'abrir', 'trade', 'avise', 'equipe', 'através', 'pago', 'btgpactualdigital', 'junto', 'forma', 'esta', 'deus', 'será', 'conosco', 'suas', 'melhores', 'outros', 'ajuda', 'há', 'tão', '00', 'parceria', 'arte', 'financeiro', 'vão', 'geracaodevalor', 'aí', '👏👏', '11', 'gente', 'mundo', 'pagamento', 'este', 'consigo', 'ninguém', 'paulo', 'corretagem', 'menos', 'seja', '500', '4', 'i', 'incrível', 'meses', 'péssimo', 'feira', 'nao', 'feliz', 'mês', 'ver', 'bio', 'ficamos', 'dar', 'fazendo', 'sendo', 'antes', 'então', 'fui', 'onde', 'fiz', 'tempo', 'pior', '12', 'nesse', 'espaço', 'quer', 'posso', 'assessoria', 'lucro', 'vergonha', 'suporte', 'hora', 'dessa', 'motivo', 'coisa', 'tinha', 'vezes', 'obrigada', '🔥', 'plataforma', 'tive', 'carteira', 'fez', 'todas', 'lá', 'empresas', 'nenhum', 'economia', 'luizantoniojovinodossan', 'qual', 'serviço', 'quanto', 'fixa', 'bancos', '9', 'paguei', 'segurança', 'pro', 'mercadofinanceiro', 'dezembro', 'variável', 'q', 'direct', 'pagar', 'simplesmente', '7', 'investment', 'novo', 'começar', 'fica', '💙🚀', 'neste', 'favor', '👏👏👏👏👏', 'nossas', 'parceiros', 'tanto', 'top', 'data', 'processo', 'temos', 'tenha', 'após', 'pontos', 'comigo', 'lo', '😉💙', 'absurdo', 'pq', 'pouco', 'gostaria', 'poder', 'foram', 'mail', 'qualidade', 'responsável', 'às', 'toda', 'black', 'vi', 'corretora', 'oportunidades', 'pe', 'ações', 'área', 'sabe', 'real', 'interesse', 'investi', 'juntos', 'earn', 'ganhei', 'br', 'marcia', 'programa', 'aplicativo', 'minhas', 'família', 'capital', 'sim', 'conte', 'ótimo', 'outro', 'uso', 'algo', 'presença', 'tentando', 'to', 'auxiliar', 'podem', 'nós', 'dizer', 'futuro', 'financeira', 'disso', 'outra', 'casa', 'entrar', 'história', 'b3', 'instituição', 'meio', '6', 'porém', 'limites', 'dá', 'aguardo', 'excelente', 'invest', 'perfil', 'passo', 'vem', 'nesta', 'premiação', 'possamos', 'estar', 'falar', 'bitcoin', 'falta', 'fiquei', 'rio', 'serviços', 'trader', 'feito', '😉🚀', 'entender', 'contas', 'augusto', 'muitas', 'mesma', 'primeira', 'the', 'investidor', 'felizes', 'acesso', 'produtos', 'ficou', 'nessa', 'recomendo', 'análise', 'primeiro', 'diversas', 'opções', 'segue', 'tô', 'aconteceu', 'usar', 'prática', 'saldo', 'vídeo', 'sei', 'horas', 'vc', 'outras', 'seria', 'momento', 'conquistar', 'somos', 'muitos', 'valores', 'ficar', 'pessoa', 'contamos', 'queria', '❤️', 'aviso', 'selic', 'final', 'melhorar', 'receber', '🙌', 'show', 'problemas', 'and', 'online', 'envie', 'logo', 'oportunidade', 'risco', 'for', 'reduziram', 'confira', 'investwithraquel', 'elogio', 'negociação', 'acho', 'simples', 'acordo', 'várias', 'estava', 'ajude', 'stories', 'comecei', 'grupo', 'alegria', 'projetos', 'carteiras', 'cdb', 'consultar', 'muita', 'taxas', 'américa', 'nenhuma', 'pernambuco', 'obras', 'investwithchristy', 'oi', 'compra', 'sorte', 'faturas', 'preciso', 'tentar', 'contra', 'vote', 'trabalhar', 'objetivo', 'finanças', 'canal', 'amigo', 'recomendadas', 'bloquearam', 'governo', 'dão', '😂', '22', 'janeiro', 'contar', 'tirar', 'deste', 'causa', 'finance', '23', 'compartilhar', 'cara', 'alta', 'nome', 'ativo', 'trabalhando', 'fora', 'alguém', 'resposta', 'resolver', 'durante', 'cima', 'deu', '😢', 'importante', 'graças', 'falando', '8', 'patricia', 'negócios', 'lugar', 'latina', 'gv', 'tarde', 'número', 'custos', 'entregar', 'operações', 'faço', 'pix', 'apoio', 'dando', 'juros', 'página', '600', 'legal', 'erro', 'comprar', 'serão', 'alguma', 'mnapontes', 'deram', 'explicação', 'essas', 'pagando', 'segunda', 'decisão', 'sp', 'dois', 'passar', 'crianças', 'amigos', 'bolsadevalores', 'recife', 'art', 'abri', 'banking', 'p', 'alguns', 'consegui', 'bolsa', '🔥🔥🔥', 'precisar', 'of', 'roberto', 'fundo', 'fim', 'especial', 'grandes', 'presidente', 'alto', 'fazem', 'email', 'possível', 'prazo', 'aumento', 'cuidado', 'detalhe', 'dele', '100', 'algum', '14', 'brasileira', 'próximo', 'quase', 'diversos', 'mention', 'shb', 'contemporânea', 'regressiva', 'b', 'ontem', 'acabei', 'difícil', 'completo', 'aprovando', 'diz', 'lily', 'verdade', 'dela', 'lula', 'frente', '😍', '13', 'partir', 'solicitação', 'duas', 'país', 'segundo', 'ação', 'bora', 's', 'algumas', 'novos', 'fácil', 'faça', 'internacional', 'miniindice', 'tênis', 'marianomferraz', 'casz', 'gmgaertner20', 'bvalladao', '16', 'artpe', '🎄', 'operar', 'disponível', 'produto', 'conseguir', '20', 'andrew', 'teve', 'sido', '1000', 'diminuíram', 'jill', 'diaz', 'investidores', 'amor', 'fundos', 'investindo', 'veio', 'lindo', 'volta', 'exemplo', 'redução', 'certeza', 'tendo', 'existe', 'esperando', 'ir', 'projeto', 'oficial', 'inflação', 'dividendos', 'venderam', 'novembro', 'gtcapital', 'operação', 'aniversário', 'teamfuturobom', 'cobramos', 'ordens', 'maravilhoso', '300', '🚀🚀', 'indicação', 'agradecer', 'preço', 'mulher', 'mudou', 'gentileza', 'super', 'objetivos', 'poderia', 'terá', 'sistema', 'coisas', 'zero', 'maiores', 'brasileiro', 'ai', 'linda', 'tentei', 'lado', 'nova', 'n', 'precisa', 'deve', 'última', 'via', 'enquanto', 'telefone', '30', 'quais', 'horrível', 'trading', 'prejuízo', 'propaganda', 'becky', 'social', '✔️', 'programação', 'cais', 'sertão', 'artistas', '🎅', 'acesse', 'direito', 'verificar', 'ativos', 'vale', 'deixar', 'cancelar', 'ganhar', 'stewart', 'xp', 'orgulho', 'sensacional', '0', 'disponíveis', 'bolsonaro', 'totalmente', 'fizeram', 'solução', 'cidade', 'né', 'cartões', 'tradicional', 'paga', 'senhora', 'continuar', 'prévio', 'diminuir', 'direto', 'resultados', 'matheus', 'troca', 'cenário', 'service', 'escritório', 'edição', 'nuvem', 'dê', 'contratos', 'mesmos', 'youtube', 'igual', 'research', 'la', 'chegou', 'abertura', '400', 'pedir', 'dizendo', 'confiabilidade', 'decidi', '🚀🚀🚀', 'it', 'stacy', 'pequeno', 'único', 'dentro', 'chama', 'ta', 'you', 'agro', 'grato', 'sair', 'empréstimo', 'atendente', 'funciona', 'abençoe', 'novamente', 'participar', 'corrente', 'medo', 'gestão', 'presente', '84º', 'sociedade', 'hípica', 'papai', 'alicemartinss', 'galeria', 'av', 'zanetrade', 'investwithchrist', 'opção', 'manutenção', 'achei', 'prazer', 'comente', 'dados', 'responde', 'fato', 'explicar', '👏👏👏👏👏👏', 'visto', 'cobrança', 'justiça', 'esses', 'gabriel', 'central', 'relação', 'realizar', 'local', 'deixa', 'sorriso', 'amanhã', 'horário', 'enviar', 'total', 'passado', 'profit', 'feita', 'digital', 'semanas', 'câmbio', 'caminho', 'company', 'parece', 'fé', 'coração', 'boas', 'estarão', '✅', 'resultado', 'diferente', 'papel', 'referência', 'inclusive', 'justificativa', 'binance', 'compras', 'satisfação', 'trajetória', 'ranking', 'copa', 'desafios', 'liberdadefinanceira', 'noel', 'público', 'instituto', '17', 'trabalhos', 'lembrando', 'gp', '14h', 'entrada', 'árvore', 'artista', 'lima', 'americanas', 'sentimos', 'pelos', '2511', 'depende', 'analisando', 'entregue', 'aba', 'v', 'proporcionar', 'luiz', 'santos', 'foto', 'digio', 'msg', 'cobrir', 'mão', 'período', 'my', 'encontrar', 'campanha', 'filho', 'recebo', '24', 'possui', 'completa', 'itaú', 'conteúdo', 'ótima', 'hj', 'be', 'setor', 'transferir', 'uns', 'tipo', 'fala', 'tantas', 'depositei', 'privado', '800', 'espero', 'abaixo', 'levar', 'indicador', 'profissional', 'dólar', 'metas', 'papeis', 'posição', 'patrimônio', 'centro', 'virtual', 'venha', 'sociais', 'alunos', 'z', 'campeão', 'pavimento', '💙🎄', 'natalbtg', 'tio', 'clique', 'tivemos', 'saiba', 'benefícios', 'cobrada', 'justa', 'funcionalidades', 'auxiliá', 'ja', 'liberou', 'mande', 'c', 'responder', 'vivo', 'tiraram', 'vencimento', '200', 'dívida', 'alvo', '😍😍😍', 'garantir', 'diariamente', 'fosse', 'fico', '💙😉', 'poderá', 'vários', 'pj', 'baixo', 'excelência', 'plataformas', 'certo', 'agradeço', '700', 'rentabilidade', 'atenção', 'conhecimento', 'comentário', 'obter', 'pensando', 'atrasei', 'aprender', 'querem', 'movimentar', 'consegue', 'piada', 'guedes', 'menor', 'analises', 'falha', '…', 'palavra', 'fortes', 'deles', 'jeito', 'bancária', 'kinvo', 'gaboardi', 'investido', 'perder', 'deságil', 'bitso', 'otavio', 'prêmio', 'riodejaneiro', 'tbt', 'conhecer', 'colocar', 'selecionados', '2º', 'prints', 'faria', 'maravilhosa', 'ana', '0800', 'credito', 'avaliamos', 'respeito', 'estará', 'encaminhar', 'críticas', 'rosto', 'chega', 'aprovação', 'facilitada', 'início', 'acredito', 'surpresa', 'marca', 'ruim', 'testemunho', 'gerente', 'us', 'noite', 'post', 'planejamento', 'andre', 'jornada', 'aprecio', 'obtive', '50', 'assessores', 'deveria', 'fiis', 'portifólio', 'whatsapp', 'gratificante', 'amo', 'milhões', 'indico', '😍😍', 'tela', '🔥🔥', 'estratégia', 'santa', 'vidas', 'infelizmente', 'falam', 'maria', '72', '€', 'último', 'day', 'única', '19', 'tiveram', 'instituições', 'conversar', 'próprio', 'encerramento', 'avisar', 'portfólio', 'decisões', '–', '💙💙💙', 'tiver', 'so', 'haddad', 'liberdade', 'gastos', 'três', 'passada', 'm', 'km', 'viver', '•', 'gratuita', 'gratuito', 'morais', 'diminuindo', 'reduzido', 'startups', 'jogos', 'kids', 'vilarinho', 'conversa', 'educação', 'daytrade', 'retornam', 'gratidão', 'cast', 'lisboa', 'ressaltamos', 'exterior', 'responsabilidade', 'comercializadas', 'originais', 'expostos', 'store', 'mica', 'canais', 'cartao', 'analisado', 'j', 'pós', 'd', '👏👏👏👏👏👏👏', 'live', 'começo', 'palavras', 'felicidade', 'mudança', 'atual', 'menu', 'apoiar', 'querendo', 'pessoal', 'relacionamento', 'constantemente', 'foco', 'função', 'povo', '40', 'passando', 'tambem', 'criar', 'orientar', 'pesquisa', 'sinto', 'pagamentos', 'criptomoedas', 'golpe', 'botão', '☰', 'inicial', 'aumentar', 'milhares', 'mudar', 'kkk', 'especialista', 'tbm', 'mínimo', 'inspiração', 'positivo', 'merece', 'reduz', 'usa', 'comentários', 'diminuiu', 'certinho', 'principal', 'custódia', 'tesouro', 'jogo', 'encontro', 'crypto', 'sr', 'lucros', 'exatamente', 'massa', '2021', 'ciclo', 'reduzir', 'ponto', 'sonia', 'instagram', 'sério', 'transparência', 'trabalha', 'gincana', 'rh', 'sábado', 'viagem', 'esporte', 'assunta', 'pet', 'momentos', 'andré', '25', 'atrações', 'tecnologia', 'cultura', 'comercial', '\\xa0', 'sócio', 'geração', 'fotos', 'principais', 'jmen', '21h', 'priscila', 'armazen', 'apresentamos', 'soluções', 'watch', 'elogios', 'normal', 'atrás', 'débito', 'tiram', 'etc', 'devolvam', 'iniciativa', 'credibilidade', 'dolista', 'best', 'atendentes', 'palhaçada', 'esperar', 'acreditar', 'sonhos', 'começando', 'poucos', 'péssima', 'claro', 'salomao2346', 'vender', 'estudo', 'podermos', 'diferença', 'pesquisas', 'confiar', 'perdendo', 'irá', 'ajudou', 'baixaram', 'negociar', 'chegar', 'olha', 'chegando', 'retirar', 'caiu', 'soube', 'precise', 'respondem', 'realizada', 'longo', 'platform', 'passou', 'rs', 'santander', 'bloqueada', 'fii', 'aberta', 'esteves', 'podemos', 'nível', 'detalhes', 'conferir', 'escolha', 'passa', 'negócio', 'vive', 'realidade', '🙌🙌', 'los', 'obra', 'eventos', 'política', 'sexta', 'mensagens', 'oferecer', 'utilizando', 'geral', 'iof', 'disponibilidade', 'btc', 'correntista', 'diniz', 'eduardo', 'summit', 'voltar', 'dicas', 'spread', 'ate', 'big', 'reconhecem', 'jovens', 'rj', 'realização', 'sócios', 'rendimentos', 'perto', 'economista', 'hipismo', '✨', 'management', 'private', 'teatro', 'galerias', 'alfredo', 'assessora', 'novas', 'safado', 'victor', 'eterno', 'regiões', 'metropolitanas', 'localidades', 'ocorrido', 'sugestões', 'construtivas', 'vindos', 'ajudam', 'agradável', '🚀😉', 'pt', '90', 'hein', 'bicalhojulia', 'fluminense', 'conquistas', 'informação', 'trazer', 'fabio', 'alcançada', 'quantia', 'all', 'flavio', 'kliousoff', 'montar', 'descaso', 'passei', 'negociei', 'victoria', 'recomendação', 'construir', 'estrutura', 'ambiente', 'desta', 'apesar', 'continue', 'kkkkk', 'selecionar', 'desses', 'aproveitar', 'l', '👏🏻👏🏻', 'existem', 'necessário', 'começou', 'coordenação', 'honestidade', 'deseja', 'seguro', 'falaram', 'ceo', 'testemunhar', 'encerrou', 'perdi', 'deann', 'murphy', 'subir', 'efeito', 'c6', 'reduziu', 'in', 'diligência', 'virar', 'decepcionada', 'decepção', 'altos', 'lucas', 'num', 'úteis', 'abrindo', 'reconhecimento', 'nubank', 'participantes', 'trouxe', 'sala', '”', 'tempos', 'palestra', 'últimos', 'score', 'centavo', 'estado', 'queremos', 'crescimento', 'interessante', 'buscando', 'funcionários', 'maneira', 'sentido', 'correntistas', 'pegar', 'danos', 'consumo', 'produção', 'telefônico', 'atraso', 'desafio', 'fernando', 'giovanna', 'pré', 'aprendi', 'prova', 'etapa', 'copadomundo', 'vitória', 'tennis', 'exclusivo', 'bank', 'econômico', 'colaboradores', 'percurso', 'papo', 'patrimonial', 'amamos', 'oferecemos', 'gastronômica', 'reduzindo', 'sul', 'palestras', 'wealth', 'diminui', 'respostas', 'envolve', 'escritórios', 'franca', 'irão', 'velhopraisso', '💙🎅', 'brigadeiro', 'especialistas', 'mentor', 'daytrader', 'índice', 'alegalindo', '🙌🙌🙌', 'tribunal', 'katherinefxtrade1', 'garoto', 'seguintes', '4007', 'telefones', 'thlimaoficial', 'contentes', 'pedi', 'zerar', 'mocafilho', 'movimento', 'referente', 'minutos', 'começa', 'flu', 'gerar', '18', 'atender', 'chamar', 'siga', '29', 'dívidas', 'acompanhar', 'celular', 'profissionais', 'envolvidos', 'dedicação', 'has', 'acompanhando', 'usando', 'previdência', 'terça', 'breve', '😂😂😂', 'imóveis', 'apresentado', 'ganhe', 'plano', 'sabia', 'literalmente', 'x', 'liquidez', 'bola', 'água', 'alocação', 'recomendamos', 'mini', '45', '💙💙', 'unidos', 'fantástico', 'dose', 'your', 'like', 'aguardando', 'conforme', 'impossível', 'notícias', 'baixa', '21', 'usam', 'bandido', 'estarei', 'completamente', 'recentemente', 'energia', 'lamentável', 'on', 'imagine', 'abra', 'riscos', 'lindaw', 'forum', 'mandar', 'dificuldades', 'bloqueado', 'acontecer', 'entrou', 'confiável', 'senhor', 'continuarei', 'esperado', 'mandei', 'digitais', 'tomar', 'was', 'master', 'considerável', 'testar', 'reclame', 'disse', 'saiu', 'encaminhamos', 'rápido', 'encerrar', 'significa', 'conteúdos', 'somente', 'investidos', 'desrespeito', 'sac', 'finalizar', 'numa', 'made', 'adoro', 'sabendo', 'brasileiros', 'bilhões', 'entrevista', 'informar', 'sentir', 'assinatura', 'tento', 'aparece', 'bons', 'urgente', 'tarcísio', 'ia', 'sonho', 'gasto', 'importantes', 'agenda', '✅️', 'daqui', 'si', 'divulgação', 'lista', 'owen', 'conflito', 'interesses', 'serve', 'apresentar', 'negativas', 'negativa', 'devido', 'resgate', 'cadastro', 'baixou', 'zerado', 'automática', 'começaram', '31', 'meia', 'grupos', 'vencedora', 'agradecimentos', 'especiais', 'clínica', 'busca', 'domingo', 'minidolar', 'indicadorkm', 'equestre', 'treino', 'belmondcopacabanapalace', 'evolução', 'aquela', 'experience', 'redes', 'impacto', 'patrocinadores', 'parceiro', 'chegada', 'inovação', 'fabricioganem', 'prédio', 'fiscal', 'rendaextra', 'lifestyle', 'milionario', 'voga', 'mesa', 'título', 'importância', 'representar', 'máximo', 'questão', 'zinvest', '🇧🇷', 'hipismobrasil', 'maioria', 'chefe', 'acontece', 'esperança', 'principalmente', 'comunicado', 'alteração', 'global', 'josé', 'técnicas', 'tintasiquine', 'viva', 'disciplina', 'essteves', 'doda', 'liga', 'motivação', 'regras', 'últimas', 'per', 'capita', 'clonado', 'bloqueiam', '😡', 'pátio', 'malzoni', 'networking', 'esg', 'nó', 'jcp', 'julian', 'kennedy', 'marcação', 'shinesmica', 'paula', '001', 'canto', 'broker', 'gustavopaulinno', 'complicado', 'conseguem', 'olho', 'análises', 'inter', 'oferece', 'irei', 'decepcionado', '70', 'analista', 'forte', 'compromisso', 'been', 'this', 'shows', 'thanks', 'clicar', 'buscar', 'sabem', 'manhã', 'benefício', 'comer', 'apoia', 'motiva', 'acabou', 'legítimo', 'crypo', 'eternamente', '👏🏻👏🏻👏🏻👏🏻', 'ligações', '130', 'pelas', 'bando', 'roubado', 'ricardo', '👏👏👏👏👏👏👏👏', 'convite', 'olhar', 'converse', 'alcançar', 'pensei', 'gostando', 'more', 'galera', 'magalu', '27', '900', 'realizado', 'ministro', 'cair', 'poderiam', 'dica', 'animado', 'segura', 'luz', 'vejo', 'desconto', 'fujam', 'aqueles', 'financeiramente', 'transformou', 'levou', 'ficará', 'fraude', '🇧🇷🇧🇷🇧🇷', 'devo', 'insatisfeito', 'sequer', 'tirando', 'quatro', 'carol', 'resolvem', 'resolveram', 'venho', 'ethereum', 'rodrigo', 'reduzem', 'reclameaqui', 'fintech', 'chave', 'ted', 'colocando', 'mensalmente', 'bloqueou', 'pai', 'situação', 'reclamação', 'tiago', 'novidades', 'disponivel', 'resolução', 'deixando', 'ordem', 'experiências', 'conquista', 'pedimos', 'kkkk', 'metade', 'oferta', 'alimentos', 'tb', 'caras', 'emprego', 'preços', 'salário', 'negativo', 'têm', 'conceito', 'belo', 'ouro', 'condições', 'bater', 'entenda', 'aprendizado', 'série', 'incompetência', '75', 'trás', 'útil', 'busco', 'robô', '6mil', 'mantém', 'nacional', 'venda', 'títulos', '32', 'acessoria', 'empurrando', 'costas', 'proposta', '50mil', 'disparando', 'ameaçar', 'gera', 'crise', 'desenvolvimento', 'leva', 'mulheres', 'times', 'diária', 'rico', 'conseguimos', 'gerentes', 'bradesco', 'números', 'will', 'stecelentano', 'classificação', 'dp', 'supervisão', 'empenho', 'advogados', 'support', 'gosta', 'corretoras', 'gosto', 'perca', 'correr', '💰', 'provas', 'futebol', 'música', 'espaços', 'fase', 'sob', '😀', 'torneio', 'temas', 'vontade', 'quarta', 'painel', 'campinas', 'apresentações', 'agradecimento', 'festa', 'olímpico', 'clubepaissandu', 'solarmeninosdeluz', 'industrial', 'avenida', 'propósito', 'cinco', 'economicnewsbrasil', 'mentoria', 'satisfeito', 'educacao', 'retirada', 'carinho', 'habilidades', 'investe', 'outubro', 'estados', 'antecipado', 'dessas', 'cavaleiro', 'presentes', 'ibovespa', 'missionária', 'guiné', 'bissau', 'reserva', 'emergência', 'dennisrenatos', 'gabrielalvesj', 'desisti', '01', 'after', 'life', 'esforços', 'senior', 'stephan', 'filhos', 'shopping', '20h', 'rendafixa', 'thaiscostag', 'salão', 'feiradearte', 'evoluir', 'davidsailor64', 'desejo', 'troféu', 'pernambucano', '⚠️', 'participação', 'artística', 'físico', '—', 'transtornos', 'emprestado', 'roubou', 'ficam', '3477', 'transformação', 'paz', 'recebemos', 'material', 'avaliando', 'janete', 'precisão', 'luzes', 'famílias', 'money', 'investing', 'sede', 'atualmente', 'correta', 'is', 'profissionalismo', 'conexões', 'vargas', 'judith', 'migles', 'btgmais', 'home', 'baixar', 'seguimos', 'diego', 'antunescf', 'acontecendo', 'arrisquei', 'rafaelrubin', 'notificação', 'transferência', 'lucrar', 'jersonzanlorenzi', 'vitor', 'aai', 'deixou', 'msm', 'extremamente', 'bandidos', 'talvez', 'morning', 'call', 'parabens', 'mudaram', 'individual', 'teria', 'got', 'if', 'bacana', '🚀💙', 'cores', 'espera', 'sacar', 'primo', 'afirmou', 'esquerda', 'facial', 'lugares', 'uau', 'inacreditável', '2btc', 'chamado', 'daniel', 'comunicação', 'terem', 'tal', 'assunto', 'marcelo', 'registro', 'deivide', 'deixe', 'seguindo', 'seguida', 'pergunta', 'cobrando', '35', '😂😂😂😂', 'olhada', 'almeida', 'pretendemos', 'migrar', 'gostou', 'motivos', 'much', 'ottogsparenberg', 'previsão', 'acessar', 'agroforum', 'utilizar', 'apresentou', 'inscrição', 'assistir', 'quão', 'corpo', 'esforço', 'indo', 'ajustar', 'sujeita', 'politica', 'atende', 'daí', 'imagina', 'anda', 'divulgar', '🤝', 'reclamações', 'eleições', 'ligação', 'sejam', 'bold', 'possuem', 'abre', 'conforto', 'dizem', 'verdadeiro', 'ganho', 'puder', 'mal', 'culpa', 'precisam', 'homem', 'falou', '750', '120', 'american', 'letiicialara', 'first', 'up', 'ad', 'nele', 'olhando', 'gastar', 'bastante', 'diminuem', 'custo', 'devolver', 'ligar', 'contrário', 'possibilidade', 'formação', 'disponibiliza', 'atualiza', 'recomendada', 'teremos', 'mostra', 'furada', 'possa', '🔥🔥🔥🔥', 'volume', 'aguardar', 'reanálises', 'compartilhando', 'empresarial', 'importa', 'certa', 'legítima', 'diversificação', 'vir', 'santo', 'bairro', 'feitas', 'saque', 'quiser', 'fiel', 'tanta', 'base', 'países', 'brincadeira', 'kkkkkk', 'fonte', 'saudades', 'matéria', 'atualização', 'vendo', 'talento', '😍😍😍😍', 'entendo', 'meta', 'baita', 'convidados', 'líder', '🤡', '33', 'btgpactualempresas', 'integração', 'portal', 'tabela', 'econômica', 'caro', 'joão', 'relato', 'mostrar', 'querida', 'criados', 'solucionar', 'comprometida', 'sinalizado', 'solicitada', 'robotizadas', 'comunicar', 'criando', 'respondeu', 'invista', 'tornar', '2ª', 'preparando', 'acima', 'empregos', 'fatores', 'familiares', 'mãe', 'kate', 'enfim', 'nojo', '🏦', 'digo', 'tirou', 'antecedência', '“', 'cripto', 'seguinte', 'tonelada', 'arrecadada', 'administrativo', '684', 'diretoria', 'faturamento', 'almoxarifado', 'farmácia', 'same', 'enf', 'assistencial', 'ccih', 'cirurgico', '636', 'jugar', '086', 'snd', 'rouparia', 'apolo', 'pontuaram', 'vereador', 'frange', '✔️dep', 'gil', '✔️dagoberto', '✔️intelmax', '✔️andiara', '✔️vinicius', '✔️carlos', 'motoboy', 'eng', '✔️vitorio', 'ozeias', 'empreenteiros', 'marketing', 'pé', 'estudos', 'xpinvestimentos', 'compre', '🤩', 'representando', 'peru', 'façam', 'aquele', 'vê', 'contagem', 'imagens', 'comemorar', 'evitar', 'assessordeinvestimentos', 'venceu', 'carreira', 'nomes', 'bate', 'treinamento', 'bilhão', 'protagonismo', 'traders', 'recursos', 'zeraram', 'modelo', 'pandemia', 'viu', 'perspectivas', 'reconhece', 'honra', 'barra', 'cgd', 'pequenacruzada', 'francisco', 'horários', '19h', 'começamos', 'disseram', 'estabilidade', 'soma', 'inesquecível', 'terceiro', 'seguir', 'empreendedor', 'download', 'justica', '📸', 'jurídica', 'head', '👎🏾', 'organização', 'fundosimobiliarios', 'el', 'mercados', 'aniversarioshb', 'indignada', 'jr', 'categoria', 'fgv', 'histórico', 'adrianisilveira', 'baixando', 'azul', 'grand', 'possam', 'iniciativas', 'força', 'frações', 'cotas', 'farão', 'showjumping', 'internacionais', 'portugal', 'argentina', 'trata', 'nick', 'desejamos', 'esperamos', 'baixe', 'sentimento', 'concurso', 'longe', 'atitude', 'reynoso', 'fernandez', 'equipes', 'lucio', 'osório', 'marinho', 'iquine', 'financas', 'atingir', 'miranda', 'princess', 'jovem', 'leia', 'aberto', 'invés', 'inexplicável', 'concreta', 'design', 'confisca', 'atuais', 'sinceramente', 'próxima', 'pernambucana', 'criação', 'passeio', 'recomendações', 'pintura', 'duro', 'suficiente', 'edifício', 'itaim', 'bibi', 'nasceu', 'brabo', 'saúde', '😎', 'comment', 'esperava', 'feirinha', 'traga', 'porquê', 'avaliação', 'gostado', 'imobiliários', '📍', 'saopaulo', '🙌🏾', 'agronegócio', 'veja', 'mt', 'dei', 'meligeni', 'proventos', 'deumbtg', '🥂', 'jjucostaa', 'amcham', 'conheça', 'acquavero', 'atendimentoinvestimentosrv', 'inferior', 'ar', 'perfeito', '💪', 'carolina', 'rua', 'ler', 'conseguindo', 'vence', 'usava', 'rouba', 'saques', 'figueiredo', 'dificuldade', 'sra', 'restaurar', 'sombrios', 'cuidar', 'concorrente', 'consistência', 'empreendedora', 'enorme', 'linha', 'am', 'because', 'from', 'good', 'consultoria', 'arca', 'previdencia', 'ex', 'presidiário', 'ah', 'thiago', '👀', 'manda', 'aguarda', 'constrangimento', 'desbloquear', 'comentarista', 'prestar', 'falakleber', 'opera', 'direção', 'humano', 'mensalidade', 'fique', 'nota', '80', 'kristinashaw', 'pensar', 'pf', 'construção', 'marcioluisat', 'venham', 'compostos', 'chamada', 'percentual', 'caminhos', 'iria', 'voto', 'direcionado', 'seguem', 'movimentações', 'fã', 'sucedido', 'falsos', 'isto', 'nascimentoaline', 'recessão', 'mentira', 'world', 'love', 'way', 'mto', 'finalmente', 'teu', 'faltou', 'preocupado', 'opinião', 'liberação', 'news', 'freitas', 'jesus', 'solicitar', 'analise', '51', 'dobro', 'shopee', 'recebem', 'impulso', 'quis', 'podia', 'liberar', 'ne', 'cruz', 'now', 'an', '550', 'garanto', 'manter', 'praticamente', 'entra', 'pequena', 'ray', 'newcapitalfx', 'imóvel', 'conhecido', 'eleição', 'americana', 'plus', 'enviei', 'seriamente', 'thank', 'marcposting', 'aonde', 'perdeu', 'experimente', 'contatá', 'abaixou', 'avisa', 'intuito', 'reeleito', 'carro', '07', 'entrei', 'técnica', 'protocolos', 'quantidade', 'parem', 'aprovado', 'cheio', 'deixei', 'pronta', 'orgulhoso', 'quê', 'cobram', 'recomendou', 'individuais', 'boca', 'termo', 'tornaram', 'terceiros', 'autorizada', 'irregularidade', 'tomando', 'medidas', 'entendi', 'transação', 'senha', 'envio', 'traz', 'financiamento', 'tornou', 'eh', 'aplicativos', 'perdido', 'organizar', 'cotação', 'recurso', 'coe', 'realiza', 'insta', 'janet', 'curto', 'pessoais', 'mídia', 'sugestão', 'vítima', 'convencido', 'queira', 'gentilmente', 'colegas', 'sigo', 'vista', 'li', 'entende', 'banqueiros', 'parar', 'canalhas', 'ouvir', 'mente', 'prêmios', 'expectativas', 'recomendar', 'formas', 'águas', 'divulgando', 'estranho', 'aplicações', 'inteligência', 'termos', 'precisando', 'impressão', 'arrependimento', '34', 'demorado', 'lira', 'político', 'gigante', 'perda', 'rever', 'diretamente', 'adorei', 'conteudo', 'recebido', 'inúmeros', 'população', 'rafael', '👏🏼', 'aula', 'arriscar', '“mais', 'seguros', 'one', 'lisa', 'consequência', 'financeiras', 'gostei', 'modo', 'safadeza', 'genial', 'sobe', 'cria', '“o', 'leonardo', 'consideração', 'reply', 'farsa', '62', 'cerca', 'acreditei', 'primeiros', 'confio', 'serei', 'cá', 'c6bank', 'drasticamente', '60', 'cancelando', 'deixaram', 'consiga', '🤔', 'representa', 'expertise', 'partner', 'ingresso', 'participei', 'eua', 'bike', 'tira', 'pequenas', 'fechar', '5km', 'caminhada', 'gostava', 'casas', 'devem', 'popular', 'gastronomia', '12h', 'vencer', 'rioopenoficial', 'receberam', 'profissão', 'just', 'arenaboaviagem', 'empreender', 'má', 'original', 'própria', 'apoiaram', 'pedro', 'prefeitura', 'parada', 'contou', 'reis', 'secretaria', 'sócia', 'pib', 'vantagens', 'grupovoga', 'imobiliário', 'marcus', 'ferreira', 'code', 'go', 'fundador', 'cordierinvestimentos', 'confiem', '🙏', 'fotografia', '1ª', 'b2c', 'gnpoliusp', 'infinanceinsper', 'incríveis', 'familia', 'teto', 'fundosdeinvestimentos', 'y', 'ganancias', 'lounge', 'professor', 'marques', 'companhia', '“a', 'mudando', 'deixem', 'recebendo', 'cindy', 'vandruff', 'endres', 'procedimentos', 'reduções', 'inteiro', 'ceará', 'semestre', 'ga', 'arraste', 'inauguração', 'olivia', 'comentando', 'ganhou', 'aumenta', 'desejam', 'slam', 'vw', 'nivus', 'fixado', 'sazonais', 'confirmar', 'pagos', '7500', 'sie', 'campo', 'ali', 'ganha', 'aporte', 'escolher', 'esfera', 'livelo', '💙👏', 'quadras', 'engjohjoh', 'montagem', 'payment', 'alô', 'marcando', 'gt', 'pista', 'barcha', 'voluntários', 'patrocinador', 'confraternização', 'institutotiagocamilo', 'leblon', '10h', '11h', 'dj', 'porto', 'comece', 'agência', 'pagam', 'campos', 'camila', 'revel', 'apresentando', 'montando', 'vice', '3ª', 'colocação', 'lcruas', 'potencial', 'fiquem', 'brazil', 'assumir', 'oque', 'premiada', 'limpo', 'alfa', 'matriz', 'diretor', 'arcah', 'asset', 'fund', 'ilustração', 'foconoobjetivo', 'tire', 'encerre', 'acham', 'interna', 'veículos', 'casos', 'certamente', 'pop', 'visita', 'relatórios', 'gratuitamente', 'rendavariavel', 'extra', 'maurício', '❤️❤️❤️', 'machado', 'antonio', 'elieldiniz', 'salvou', 'blockchain', 'natalino', 'cor', 'beach', 'gerando', 'youtu', 'cris', 'flora', 'comunidades', 'péssimos', 'visual', 'face', 'criança', 'heitor', 'participou', 'faixa', '💙💙💙💙', 'tenham', 'acreditam', 'sales', 'jacintafabio', 'ajudaram', 'encontrei', 'conhece', 'success', 'atras', 'confiscou', 'entendam', 'quiserem', 'compartilho', 'cargill', 'bbf', 'esteja', 'perkins', 'calendário', 'cristina', 'união', 'bs', 'comerciais', 'recreação', 'salvador', 'ambientes', 'case', 'caio', 'dom', 'mundial', 'trocar', 'lucratividade', 'criada', 'ewzcapital', 'boostlab', 'alealtschul', '💚', 'medida', 'tailaolvr', 'máxima', '🙏🏾', '📊', '🎇', '⭐', 'eduardomalzone', 'experimentar', 'fern', 'tjrj', 'personalizados', 'micarocha', '👏🔥', 'arrasou', 'orientarmos', 'completas', 'bastosroberio', 'acessando', 'gustavo', 'oq', 'chance', '150', 'jessica', 'liberaram', 'faltando', 'costa', 'pedem', 'chato', 'td', 'julho', 'recebe', 'desejar', 'correto', 'retiraram', 'empréstimos', 'valuation', 'liberam', 'marginais', 'aceitar', 'merecem', 'cambada', 'george', 'incluindo', 'sete', 'slogan', 'prefiro', 'tivesse', 'ajudando', 'experimentá', 'razoável', 'become', 'transparency', 'always', 'ligo', 'monstro', 'devolve', 'adriano', 'superior', '2x', 'usei', 'bco', 'quinta', 'mandam', 'aceita', 'sumiu', 'kkkkkkk', 'sao', 'anderson', 'necessidades', 'wdo', 'coloquei', 'jamais', 'postagens', 'continuam', 'eventualmente', 'gratos', 'mantenha', 'terminar', 'procon', 'mandaram', 'oibr3', 'roubaram', 'formado', 'roubar', 'cai', 'documentos', '777', 'atuar', 'questões', 'tornei', 'acionista', 'crescendo', 'radar', 'apoiadores', 'colocam', 'pequenos', 'acabamos', 'neve', 'gostar', 'estiver', 'tera', 'limpa', 'posts', 'souza', 'nestes', 'dani', 'utilização', 'prol', 'indica', 'eleitoral', 'btg…', 'baseada', 'comentarios', 'envergonhado', 'acabar', 'promoção', 'preferir', 'ferrer', 'economizar', 'aconselho', 'beneficiei', 'portabilidade', 'victoriaschwartzmann', 'had', 'better', 'lamento', 'filha', 'jornal', '❤', 'golpistas', 'cnpj', 'caí', 'neilsonprazeres', 'dava', 'configurar', 'digite', 'seta', 'solicitado', 'morro', 'lembro', 'travaram', 'poderoso', 'oferecendo', 'foda', 'iriam', '60k', 'golpes', 'posto', 'ganham', 'precisava', 'cc', 'exceto', 'desfaçatez', 'ciro', 'people', 'are', 'off', 'interessado', 'postagem', 'abaixam', 'torcida', 'rewards', 'that', 'ever', 'procurando', 'semanal', 'wellgwcine', 'ajudarmos', 'mandou', 'acreditem', 'cancelam', 'enganação', 'votei', 'explica', 'pensam', 'fontes', 'embora', '👍', 'focado', '48', 'perdas', 'recuperei', 'negociando', 'troque', 'genuíno', 'pv', 'aguardem', 'already', 'debora', 'book', 'ouvidoria', '£', 'membro', 'adesão', 'prejudicar', 'enviaram', 'very', 'humilde', 'atrasa', 'judicial', 'abusiva', 'média', 'planejar', 'deveriam', 'pau', 'comum', 'absolutamente', '1500', 'jhonath', 'insatisfeita', 'cobra', 'direitinho', 'quebra', 'g', 'eleito', '👍🏻', '💙🚀🚀', 'movimentando', 'seguido', 'cheia', 'conseguiram', 'ajudem', 'peço', 'resolverem', 'cpf', 'funcionar', 'swing', 'respondi', 'saf', 'k', 'dividir', 'rostos', 'roi', 'execução', 'valeu', 'impossibilitado', 'interno', 'inúmeras', 'tentativas', 'judiciais', 'cabíveis', 'tranquilo', 'ideal', 'apps', 'ca', 'preocupar', '🙌👏', 'tarefa', 'florence', 'fernandezf', 'adequar', 'pega', 'usuários', 'quadrilha', 'graça', 'estilo', 'ganhos', 'tomadas', 'globo', 'conselhos', 'fornece', 'alef', 'ipca', 'impostos', 'pais', 'criador', 'políticos', 'cristianismo', 'fale', 'escola', 'votação', 'inspirador', 'impressionante', 'esther', 'delas', 'tradin', 'ma', 'incertezas', 'safados', 'concordo', 'depender', 'endereço', 'provar', 'vivemos', 'pares', 'banqueiro', 'pleno', 'economistas', 'controle', '😂😂😂😂😂', 'norte', '26', 'macro', 'terciagualberto', 'demorou', 'vinda', 'grana', 'negado', 'sinal', 'pensamento', 'comerciante', 'vantagem', 'qdo', 'contratado', 'atrair', 'rapaz', 'marcusbuaiz', 'felipe', 'redor', 'vemos', 'gráfico', 'junior', 'tarcisio', 'saudade', 'linhas', 'apto', 'brasília', 'doc', 'continuo', 'ensinar', 'antônio', 'carlos', 'camisa', 'salas', 'managing', 'divulgado', 'cheque', 'orçamento', 'repensar', 'anúncio', 'apareceu', 'diferentes', 'cannabis', 'versão', 'http', 'meajuda', 'máquina', 'perguntar', 'imposto', 'experimentei', '10000', 'inegáveis', 'cento', 'suíça', 'mínima', 'ideia', 'passarem', 'torna', 'preparada', 'mensal', 'entro', 'when', 'fundamental', 'nobre', 'sumir', 'mãos', 'responda', 'apresenta', 'públicos', 'físicas', 'utilizam', 'zera', '😮😮😮', 'cedo', 'bacen', 'pagas', 'ha', 'provavelmente', 'controlar', 'necessidade', 'crescer', 'inadimplência', 'entendemos', 'capacidade', 'conceder', 'consulte', 'informe', 'abrirá', 'escrever', 'zrq23vfrc9i', 'verificados', 'lca', 'possibilita', 'verso', 'lhes', 'financeiros', 'ocorreu', 'facilidade', 'efetuar', 'depósito', 'continua', 'honestamente', 'olhos', 'corte', 'pude', 'transtorno', 'ódio', 'á', 'protocolo', 'gerenciamento', 'descobri', 'loja', 'consumidor', 'never', 'devendo', 'forex', 'empresários', 'independente', 'finalistas', 'co', 'cx', 'bit', 'ly', 'assuntos', 'btgvirtualchallenge', 'natural', 'corrida', 'challenge', '5k', 'utilizei', 'afinal', 'spreads', '👍🏽vantagem', '👎🏽desvantagem', '💳', 'aniversario', 'informa', 'possuo', 'indevida', 'caráter', 'urgência', 'especialmente', 'friendly', 'diversificado', 'comida', 'humildade', 'chegamos', 'vivência', 'protagonistas', 'atacado', 'desistir', 'invisto', '⚽️', 'diversão', 'perfeita', 'vagas', 'wine', 'rendeu', 'universo', 'proximidade', 'mansueto', 'perfin', 'infraestrutura', 'aproveite', 'associação', 'jogadores', 'chaves', 'relevantes', 'marcou', 'dança', 'receberão', 'wilson', 'atletas', '18h', 'produz', 'destaques', 'parceira', 'haja', 'itau', 'ihp', 'aceleração', 'conservação', 'ago', 'natureza', 'apresentação', 'mentores', 'participaram', 'região', 'trimestre', '💯', 'sucessão', 'aplicação', 'programar', 'arrasaram', '𝙍𝙀𝘼𝙄𝙎', 'investbtg', 'dolar', 'curtiu', 'convidado', 'americano', 'transição', 'seleção', 'destaque', 'captação', 'cordier', 'tamanho', 'by', 'medíocre', 'divulgarem', 'vejam', 'zsummit', 'entendem', 'próximos', 'inversión', 'más', 'agregar', 'al', '👇👇👇👇', 't', 'prestigiar', 'cavalo', 'mestre', 'agroinsper', 'guimarães', 'fundoimobiliario', 'ridículo', 'mathalealves', 'lead', 'solicitei', 'simulador', '2019', 'transformar', 'ilustre', 'inscreva', 'inicialização', 'muda', 'atuam', 'talentos', 'pouca', 'ofertas', 'líderes', 'rede', 'estiveram', 'csn', 'sabemi', '💥', 'sustentabilidade', 'bruna', 'semanalmente', 'martha', 'finançaspessoais', 'perla', 'informou', 'rendapassiva', 'áfrica', 'antecipei', 'mantei', 'mit', 'lhe', 'etf', 'tesourodireto', 'aryy', 'alterar', 'comércio', '▪️', 'colômbia', 'milhas', 'ambiciosas', 'esclarecer', 'mariopassarello', 'treinador', 'modalidade', 'frase', 'diretora', 'ideias', 'ensino', 'w', 'emoção', 'automobilismo', 'tu', 'we', 'dream', 'personalizada', 'retirando', 'noemi', 'guerreiro', 'rayanne', 'sttos', 'compartilhamento', 'inspira', '1200', '84', 'desempate', 'sagrou', 'vencedor', 'etonian', '3º', 'coube', 'define', 'marcello', 'ciavaglia', 'impressionado', 'simboliza', 'judô', 'advisors', 'apresentam', 'shoppingleblon', '15h', 'bruno', '2016', 'escolas', 'globais', 'sinergia', 'gestores', 'horizonte', 'sogro', 'longa', 'etc…', 'livre', 'ama', 'martins', 'isabela', 'silva', 'chevaux', 'reuniu', 'disputa', 'cultural', 'shb84anos', 'indoor', 'dez', 'figueira', 'mello', '4ª', '2k', 'aovivo', 'capaz', '👉', '99', 'fomos', 'fortaleza', 'texto', 'saiam', 'iremos', 'migrando', 'conseguiu', '2000', 'permanent', 'org', 'carioca', 'regionais', 'assessorado', 'investor', 'canon', 'arquitetura', 'compreender', 'basicamente', 'eficiência', 'borges', 'moda', 'pinturas', 'materiais', 'feminino', 'qamais', 'macroeconômico', 'revista', 'atualizado', 'dono', 'convém', 'bloquear', 'hahaha', 'achar', 'dinheito', 'alterado', 'chego', 'bloquearem', 'mutreta', 'causas', 'acha', 'elvira', 'elementos', '🎅🏻', 'brenda', 'daquele', '🎄💙', 'dfmartinelli', 'artes', '👏😍', 'completos', 'milha', 'estratégias', 'beneficiar', 'autodidata', 'retornar', 'clima', 'confessar', '08', 'espírito', 'ligados', 'competente', 'burocracia', 'sobra', 'nuvem12anos', 'nuvemstore', 'caisdosertão', 'vim', 'recebê', 'bahia', 'participe', 'dentre', 'theo', 'histórias', 'encontra', 'diversidade', 'atento', 'átomos', 'topo', 'empreendedorismo', 'explicações', 'gustavocerbasi', 'universidade', 'visão', 'visitar', 'ferramentas', 'ouvi', '🎁', 'desenhos', '2020', 'lojas', 'granado', 'cacau', 'empreendedoras', 'contribuir', 'podendo', 'roubam', 'indicando', 'doação', 'cryptocurrency', 'apartamento', 'transfira', 'bonito', 'melhoria', 'criamos', 'relatório', 'pena', 'ídolo', 'encanta', 'preparados', 'preocupados', 'juliana', 'relevância', 'epilepsia', 'grau', 'inteli', 'produtor', 'elo', 'open', 'cuiabá', 'christmas', 'trilha', 'professores', 'asid', 'equity', 'falaaaaaaa', 'kmer', '🤪', 'alcançamos', 'pts', 'comprando', 'assistindo', 'extraordinário', 'dará', 'rpdonline', 'indkm', 'candidato', 'samsung', 'zona', 'respeita', 'compro', 'vogainvest', 'nela', 'aguardamos', 'bancões', 'personalizadas', 'google', 'tv', 'ewz', 'pirelli', 'adianta', 'pensava', 'privilégio', 'isabelafontouraof', 'mágico', '𝐩𝐥𝐚𝐭𝐟𝐨𝐫𝐦', 'física', 'wendleyvieira', 'repleto', 'buyandhold', 'vamo', 'método', 'lara', 'inscrições', 'triste', '599', 'chame', 'fogo', 'empreendedores', 'network', 'conecte', 'catherine', 'acelerando', 'chamei', 'ɪ', 'qq', '𝗰𝗼𝗺𝗽𝗮𝗻𝘆', 'cabelo', 'repost', 'profittoinvestimentos', 'estratégiaeurobô', 'casaltrader', 'personalfinance', 'cursodaytrader', 'rendaextraemcasa', 'comoganhardinheiro', 'rendaextraonline', 'priceaction', 'gain', 'comoganhardinheiroonline', 'billions', 'estruturação', 'arrasa', 'isabel', 'lavor', 'ivan', '3956', 'stj', 'juízo', 'rosana', 'ligando', 'instabilidade', 'sai', 'prezados', 'impressionada', 'recomenda', 'aplicar', 'escolhe', 'superou', 'lzz', 'tê', 'luciano', 'ri', 'btra11', 'rumo', '🇮🇹🇮🇹🇮🇹🇮🇹🇮🇹', '🇮🇹🇮🇹🇮🇹🇮🇹', 'cancela', '👏👏👏🔥🔥🔥', 'assistência', 'transmitido', 'automático', 'autorização', 'deixo', 'conseguia', 'liguei', 'constante', 'amador', 'natura', 'vagabundos', 'iam', 'desculpas', 'polícia', 'baptista', 'primordial', 'loez', 'escritor', '🚀🚀🚀🚀', '🥰🥰', '1k', 'mahry', 'silvaa', 'fizemos', 'dhowdhowz', 'juliasarquis', 'melhorshopping', 'barros', 'excelentes', 'apoiando', 'notei', 'multidão', 'x10', 'rodrigues', 'easier', 'invested', 'dollars', 'return', 'days', 'her', 'sense', 'have', 'enjoy', 'privilege', 'alone', 'how', 'ungrateful', 'breakthrough', 'posted', 'well', 'recommendations', 'saw', 'too', 'work', 'pereira', 'explicando', 'proteção', 'marisa', 'sugerimos', 'orientá', 'aderir', 'grao', 'access', 'fic', 'obs', 'voces', 'prejudicando', 'mete', 'errado', 'voando', 'terras', 'urbanos', 'roubalheira', 'shalia', 'virada', 'prezamos', 'gui', 'miyasaki', 'cadastrar', 'biometria', 'analisar', '👏🏼👏🏼', 'alcance', 'sharonwilmor', '\\u200b\\u200b', 'utilizo', 'abusivas', 'malditos', 'luciana', 'aline', 'contadordotrader', 'farinattawinestore', 'obtendo', 'clearing', 'atua', 'liquidação', 'acorda', 'patrocina', 'ecb', 'arkad', 'filosofia', 'surgindo', 'bebe', 'fresca', 'tmj', 'café', 'júlio', 'contatos', 'clicando', 'beneficia', 'cancelei', '📚☕️👍🏻', 'intenção', 'gráficos', 'estimação', 'ué', 'martendaljanilo', '3003', '6299', 'capitais', 'diegoivan', 'dc', 'vinicius', 'rocha', 'jean', 'van', 'talita', 'zamparelli', 'luuu', 'grziwotzricardo', 'gigantes', 'rafa', 'cdi', 'investirem', 'perfis', 'amanda', 'oliiver', '👏🏻👏🏻👏🏻👏🏻👏🏻👏🏻', 'pray', 'get', 'recognition', 'efforts', 'dear', 'souls', 'yours', 'would', 'place', 'respect', 'blessings', 'admirado', 'factneto', 'cadastrou', 'eram', 'convidar', 'mst', 'tratar', 'hospital', 'alice', 'trades', 'bosta', '🤮', 'transmissão', 'iniciar', 'plantão', 'resumo', 'garantia', 'disponibilizados', 'souericareis', 'personalidade', '❤️❤️❤️❤️', '👏👏👏🚀🚀🚀👊👊👊', 'sfc', 'marcio', '743', 'perdir', 'ref', 'emprestimo', '😮😮', '😢😢morrir😂', 'tomem', 'movimentei', 'conhecidos', 'amoooor', 'verificaram', 'reembolsaram', 'sujeira', 'lesadas', 'reembolsos', 'cancelada', 'consertar', 'alertar', 'encerrei', 'satisfeita', 'onda', 'rápida', 'dedos', 'iran', 'envolvido', 'corrupção', 'voice', 'iranian', 'who', 'internet', 'analistas', 'atrasada', 'comprem', 'than', 'could', 'woman', 'bancointer', 'arrependa', 'arrependi', 'razões', 'basta', 'estresse', 'corra', 'lidar', 'generoso', 'startup', '\\U0001f979', 'marianagalina', 'humanizado', 'atendeu', 'pedindo', 'insulto', 'prestam', 'tenta', 'jogam', 'ajudarem', 'cmg', 'aumentaram', 'estáveis', 'endividado', 'guardar', 'vende', 'manteu', 'glória', 'notícia', 'varejo', 'lírio', 'comprometido', 'facilmente', '😂😂', '1981', 'gemeos', 'gilbertovitoriaoficial', '👏💙', 'ben', 'relacionado', 'precatórios', 'say', 'but', 'i’m', 'course', 'paid', 'sinceridade', 'danilo', 'kd', 'absurda', 'patrocínio', 'ok', 'digno', 'official', 'carmen', 'benavides', 'tremenda', 'movimentação', 'tentativa', 'dor', 'destino', 'rachel', 'stf', 'querer', 'mabila', 'prates', '😢😢😢😢😢', 'aumentam', 'conquistado', 'usuário', 'unir', 'coletivo', 'abuso', 'aconteça', 'homebroker', 'isento', 'paiffer', 'buaiz', 'renato', 'arrependo', 'operacional', 'win', 'rlp', 'ativado', 'verificando', 'registros', 'entrando', 'contrato', 'acabe', 'bolsonaro2022', 'leandro', '🙂🚀', 'diegomarques8819', 'fechada', 'abaixaram', 'aliás', 'duvido', 'travada', 'reclamei', 'falei', 'avisado', 'valozcrypto', 'integrar', 'preferido', 'gomes', 'glaubergomescampos', 'isenta', '55', 'quantos', 'seguimento', 'sorrisos', 'globalmente', 'leio', 'milionários', 'setembro', 'migrado', 'iqwm0q38ur', 'rcdvv', 'transferi', 'dependendo', 'facil', 'aproveitem', 'indiquem', 'continuaremos', 'separados', 'simulação', 'lauriane', 'consultor', 'melhora', '£89k', 'parei', 'funções', 'crescente', 'vlpd85', 'recompensa', 'bloqueia', 'investimos', 'trabalhamos', 'clara', 'presta', 'particularmente', 'lê', 'ouve', 'sensação', 'mel', '👏🏽👏🏽👏🏽👏🏽', 'yt', 'dito', 'abençoar', 'variação', 'catálogo', '2mil', 'irrelevante', 'pagamos', 'iptu', 'sabedoria', 'votos', 'escolhas', 'votar', 'apoiem', 'espirito', 'amém', 'compartilhe', 'esquecer', 'citados', 'prefeito', 'explicou', 'legado', 'deixará', 'misericórdia', 'assalariado', '🙂', 'eleger', 'desgoverno', 'promessas', 'fiscais', 'avante', 'drao', 'venezuela', 'acreditava', 'cambauvaedson', 'moça', '👏🏻', '🙌👏👏👏', 'desce', 'alves', 'critérios', 'métrica', 'tremendo', 'achievement', 'fome', 'absurdos', 'cujo', 'comentar', '🤦🏻\\u200d♂️', 'disponibilizado', '250k🙏🙏🙏', 'lifetrade', 'mining', 'joan', 'esposa', '220', '📩', 'premium', 'considerado', 'existência', 'roberthaamandaa', 'pró', 'subiu', 'amei', 'estarmos', 'desenvolvida', 'tarcisiogdf', '🇧🇷🇧🇷🇧🇷🇧🇷🇧🇷🇧🇷', 'iniciada', 'mentindo', 'residência', 'noroeste', 'procurei', 'tamo', 'sangue', 'jornalismo', '👏🏼👏🏼👏🏼👏🏼👏🏼', 'formato', 'chocolates', 'prestígio', 'pede', 'rsrs', '9500', 'whrocha89', '530', 'trazendo', 'conversão', 'acessos', 'vip', 'can', '£99k', 'sharon', 'krypto', '🔝', 'direcionamento', 'certos', 'refletem', 'reflete', 'macroday', 'envestir', 'virando', 'cadeia', 'pudesse', 'senhores', 'opa', 'reformas', 'escrevo', 'serem', 'usos', 'magia', 'disponibilizadas', 'vídeos', 'eu9xz9it6kw', 'omissão', 'propôs', 'vieira', 'alan94', 'supera', 'estivesse', 'mora', '05', '🙌🙌🙌🙌', 'coloca', 'intermitência', 'fruto', 'ultima', 'infinito', '📈🚀', 'quebrar', 'surgem', 'desejado', 'efeitos', 'remédio', 'criaram', 'frear', 'elevar', 'tende', 'paciente', 'caro”', 'atrativo', 'estrangeiro', 'dura', 'cobertor', 'douglas', 'jonas', 'personalizado', 'coloco', 'conversarmos', 'inbox', 'consta', 'integridade', 'administração', 'expressar', 'goals', 'his', 'estas', 'godoy', 'institutoprotea', 'julgamento', 'patriciasfx', 'saírem', 'desenvolvido', 'piso', 'entidade', 'enganosa', 'abusivo', 'decepções', 'diminuição', 'puro', 'conheci', 'desestimula', 'tomada', 'estimula', 'desenvolver', 'dizemos', 'ponta', 'demanda', 'utilizado', 'edu', 'investiu', 'porcaria', 'negativos', '👏🏻👏🏻👏🏻👏🏻👏🏻', 'luizinhabarreto', 'lci', 'granfino', 'profitpro', 'golpista', 'eficiente', 'retornos', 'revisão', '9h', 'marido', 'boleto', 'resolvam', 'teste', 'r79', 'mrs', 'grata', 'cade', 'prévia', 'cortaram', 'seis', 'atrasado', 'estabelecimento', 'espécie', 'lamenta', 'baixaria', 'dr', 'passe', 'centavos', 'realizaram', '117', 'instável', 'houve', 'artigo', 'causar', 'rrrp3', 'knew', 'lot', 'aumentando', 'junho', 'pagava', '123', 'natália', 'saldanha946', 'guilherme', 'sida', 'menina', 'rp', 'iniciei', 'vendas', 'empresária', 'quebrei', 'amadurecimento', 'aprofundar', 'surgiu', 'safra', 'business', 'neela', 'gestora', 'seven', 'track', 'curadores', 'curioso', 'ganhadores', 'cxsummit2022', 'jovempannews', 'televison', 'noticias', 'participando', '😅', 'divertido', 'preparar', 'completou', 'anteriormente', 'abram', 'rivkahmusic', 'rivkahpodcast', 'proteger', 'tendência', 'falso', '💸', 'eficientes', 'válido', '📈', 'moeda', 'menores', 'secundário', '💵', 'sobrou', 'encontre', 'dividido', 'comemorado', 'iniciando', '8ª', 'saltos', 'renovação', 'ativa', 'informando', 'ferramenta', 'recebeu', 'nisso', 'aliar', 'fan', 'teen', 'cardápio', 'petiscos', 'paisefilhossm', 'japonesa', 'sushi2youbrasil', 'deliciosa', 'feijoada', 'picolés', 'soleneveoficial', 'transmitir', 'iniciam', 'reúna', 'jf', 'juizdefora', 'assuntaoficial', 'fanfest', 'bia', 'wta', 'biahaddadmaia', 'tenistas', 'lider', 'maravilhosos', 'beatriz', 'rioopen', 'rf', 'tornando', 'simbolismo', 'objeto', '🏆', 'poderíamos', 'enfrentar', 'sermos', '1bilhão', 'documento', 'abrimos', 'bens', 'positivos', 'insegurança', 'reduzidos', '😉🚀🚀', 'loss', 'that’s', 'selfie', 'dannielletorresn', 'futmesa', 'verão', 'arena', 'kinvoapp', '🌟', 'hrs', 'classe', 'bolada', 'relacionados', 'cotidiano', 'sucedida', 'ágil', 'renovainvest', 'antigo', 'cheios', 'ethimosinvestimentos', '👏🏻👏🏻👏🏻', 'organizado', 'discutir', 'segmento', 'ocasião', 'otimizar', 'amplamente', 'wiseaai', 'arrecadação', 'beneficente', 'berço', '09', 'ethimos', 'lançou', 'decoração', 'iluminação', 'ajudarão', 'promover', 'secretária', 'encher', 'turismo', 'treinando', 'parque', 'representam', 'urbanismo', 'paulista', 'consulados', 'término', 'altamente', '💜', 'afirma', 'commodities', 'cnj', 'apertando', 'biodiversidade', '🗣️para', 'pantanal', 'mantendo', 'back', 'nove', 'eletrobras', 'morgan', 'aposentadoria', 'boldsnacks', '𝙉𝙊', '𝟮𝟬', '𝙋𝙊𝙍', 'farialima', 'alemanha', 'bufunfa', 'alternativa', 'eita', 'contribuído', 'trabalhou', 'incansável', 'bankers', 'assessoriadeinvestimentos', 'topp', 'esperei', 'canadá', 'vindo', 'corporativo', 'imaginei', 'rogeriokarp', 'destacando', 'equilíbrio', 'trecho', 'geracaoz', 'anápolis', 'confraternizar', 'problema', 'auxilio', '175', 'divida', 'pública', 'cresceu', 'pobreza', 'ensinofundamental', 'negocios', 'criou', 'melhorarmos', 'acessores', 'su', 'son', 'una', 'estafa', 'únase', 'es', 'confiable', 'ahorrar', 'obtener', 'deje', 'tiempo', 'mantenga', 'dinero', 'en', 'pueden', 'sus', 'ahorros', 'puede', 'unirse', 'enlace', 'comenzar', 'invertir', 'arrepentirás', 'wyikhmrdcwvkyzg0', 'sessão', 'poderão', 'salto', 'exclusiva', 'haverá', 'comodidade', 'portaria', 'clube', 'peça', 'faculdade', 'admiração', 'membros', 'antonia', 'eduarda', 'leal', 'competição', 'distribuir', 'mensais', 'embaixo', 'celebramos', 'imenso', 'transforma', '🔥👏', 'eliezer', 'acionistas', 'atendem', 'torcer', '💚🎾', 'encerrando', 'proprietária', 'leads', 'alíquota', 'sites', 'aliada', 'empreendimento', 'grosso', 'expansão', '2025', 'contando', 'deixado', 'noivo', '360', 'mariba', 'semestral', 'meeting', '👉🏻', 'modelos', 'basilieventos', 'miura', 'creditado', 'rs1000', 'conclusões', 'congresso', 'workshops', 'aproximar', 'futuramente', 'patifaria', 'bota', 'alissonmga', 'academia', 'mensalidades', 'aumentarem', 'altíssimo', 'notificações', 'aparecem', 'tivessem', 'afeta', 'pedra', 'promovido', 'pontuação', '0km', 'memorável', 'grandslam', 'deluca', 'voltado', 'elas', 'capacitação', 'lideranças', 'socioambientais', 'esteve', 'mariano', 'trazem', 'luta', 'inspirados', 'sc', 'warren', 'anualmente', 'usd', 'comemoramos', '💖', 'orgulhosa', 'vá', 'arose', 'sjr', '1307', 'juninho', 'machado7', 'situações', 'solicita', 'praticidade', 'ipo', 'gastando', 'agente', 'logística', 'btlg11', 'leilão', 'blcp11', 'encerrado', 'administrador', 'cotistas', 'jus', 'junção', 'fração', 'blue', 'cavalos', 'und', 'tranquilidade', 'ataque', 'volatilidade', 'velocidade', 'escalação', 'raul', 'adiantar', 'lei', 'iguatemi', 'trará', 'olhei', 'prosperidade', 'seguras', 'recebimentos', 'importação', 'exportação', 'prestação', 'titularidade', 'chile', 'méxico', 'avenue', 'pontuar', 'anuidade', 'automaticamente', 'cashback', 'adoraria', 'bollettieri', 'williams', 'monica', 'campeões', 'aprendizados', 'avin', '🙄', 'poupar', 'criativa', 'memórias', 'responderam', 'diário', 'capítulo', 'escrevi', 'havia', 'falência', 'beleza', 'ajgxcgqxjhe', 'constantes', 'usem', 'fábio', 'sofreram', 'quadro', 'programe', 'fairfax', 'motorsport', 'abraço', 'morars', 'sabemibrasil', 'shbrj', '🚀🚀🚀🚀🚀', '🐆✨', 'onçafari', 'celebração', 'our', 'celebration', 'own', 'apology', 'doubt', 'sincerity', 'professionalism', 'received', 'second', 'became', 'reality', 'several', 'payments', 'derrepente', 'entrega', 'apostando', 'novidade', 'conquistamos', 'irresponsabilidade', 'fi', '925', 'tirado', 'avisos', 'openfinance', 'evidente', 'oscilações', 'cancelo', 'influenciando', 'automáticas', 'conjuntos', 'erica', 'sportiello', 'cornet', 'polana', 'castro', 'martinez', 'dalouna', 'seletiva', '35m', 'disputado', 'etapas', 'fechando', 'masi', 'fechamento', 'pegou', 'jeffersongomesds', 'juntar', 'moura', 'hst', 'cartouche', 'polo', 'uirapuru', 'waza', 'judo', 'acaosocial', 'cidadania', 'caisdosertao', 'artpe2022', 'artfair', 'estacionamento', 'vans', 'saídas', '13h', 'comanda', 'olimpíadas', 'comparecer', 'levaremos', '🎾💚', 'comenta', '•forte', 'unidades', 'alegre', '❤️❤️', 'diminuí', 'artemis', 'nuinvest', 'oramainvestimentos', 'ativainvestimentos', 'guideinvestimentos', 'singularecorretora', 'warreninvestimentos', 'fundoartemis', 'fundodeinvestimento', 'estadão', 'amigas', 'cobro', 'custa', 'vínculo', 'retirados', '😢😢😢😢', 'adiantado', 'poxa', 'veem', 'puxando', 'nathana', 'bedran', 'calil', 'st', 'goncalves', 'franco', 'julia', 'luiza', 'limongi', 'botelho', 'chen', 'sá', 'sousa', 'fernanda', '4º', 'primavera', 'império', 'egípcio', 'bicampeão', 'faltas', 'habilitaram', 'dtc', 'conjunto', 'garantiu', 'zerou', '1º', '•galerias', '•talks', '•livrarias', '•café', 'bistrot', '•wine', 'shop', 'artpe22', 'artebrasileira', 'tomou', 'shp', 'trabalhado', 'andamento', 'canarinho', 'story', 'saberem', 'rodolpho', 'memoriam', 'cruzou', 'cerimônia', 'jornalista', 'destruição', 'peças', 'gerou', 'conversas', 'premiados', 'nacave', 'venezateimosa', 'ong', 'hall', 'borsoicafe', 'livrariadapraca', 'tou', 'hexa', 'sonha', 'realizações', 'concretizar', 'contribua', 'parcerias', 'atentos', 'acontecerá', 'marchands', 'colecionadores', 'office', 'listadas', 'afonsonety', 'isa', 'cordeirodias', 'tivermos', 'definitiva', 'planos', 'continuidade', 'cena', 'existir', 'tristeza', 'riquíssima', 'manterem', 'índole', 'eliane', 'sneves', 'querido', '39', 'verde', 'miséria', 'riqueza', 'worldbank', 'indicator', 'ny', 'gdp', 'pcap', 'locations', '1w', 'marcado', 'amantes', 'desejada', 'circuito', 'pneus', 'michelin', '🎥', 'febraban', 'valorizar', 'architecture', '🔎', 'lightroom', 'identificar', 'pagá', 'ato', 'destes', 'duvidas', 'padrão', 'samantha', 'aulas', 'portas', 'confra', '70k', 'alistair', 'owsleyfx1', 'cabral', 'estudou', 'plástico', 'linguagem', 'tipos', 'expor', 'parecem', 'bobo', 'anual', 'distribuidor', 'df', 'contará', 'oficiais', 'gestao', 'perspectiveinvestimentos', 'diminuído', 'jantar', 'aeas', 'missão', 'preferência', 'pagoderomantico', 'partidoalto', 'retrô', 'humildadesempre', 'encontros', 'ba', 'onixcapital', 'preocupação', 'guinada', 'iniciante', 'tirem', 'soraia', 'fuja', 'irreparáveis', 'saia', 'alheia', 'abaixa', 'pros', 'futuros', 'auto', 'intitula', 'escroto', 'pachorra', 'causando', 'rrpwssarem', 'finalizam', 'alerta', 'confiscam', 'acionei', 'comunicao', 'deparo', 'saco', 'retorna', 'determinados', 'duvidando', 'transferirem', 'elogiada', 'testemunhando', 'continuando', 'repertório', 'orientado', 'honesta', 'íntima', 'inseguranças', 'anseios', '42', 'usou', '🎄🎄🎄', '🎅💙', 'estaremos', 'majusmarques', 'escolhidas', 'tenis', 'crabsebrae', 'artesanato', 'aprendendo', 'doçura', 'sinais', '🎅🎄💙', 'podiam', 'lembrar', '🎉', 'getúlio', 'resgata', 'tradição', 'imaginário', 'carrinho', '🙌👏👏', 'fefa', 'iluminar', 'propagar', 'ilustrativo', 'respeitado', 'robertosallouti', 'samba', 'sérios', 'job', 'receptivo', 'quarto', 'cadastrais', 'anportilho', 'do\\xa0', 'surreal', 'perguntas', 'santoz', 'leeonardo', 'preferem', 'campina', 'filmes', 'campanhas', 'facilitadora', 'graffiti', 'murais', 'jardelmonteiropinheiro', 'troquei', 'processos', 'requisitos', 'estabelecer', 'descanse', 'lenda', 'amam', 'morrer', 'montou', 'influenciador', 'leiam', 'vencedores', 'deverá', 'acessado', 'cooperação', 'sofrimento', 'confere', 'comportamento', 'bancodobrasil', 'libera', 'michiles', 'objetos', 'contam', 'publicidade', 'marcas', 'micro', 'barbosa', 'época', 'turma', 'next', 'jurídicas', 'contestadas', 'talks', 'lins', 'cenários', 'internos', 'sensível', 'expostas', 'apresentadas', 'composições', 'roubada', 'ofaustocarvalho', 'corgilover', 'aéreas', 'possivel', 'acumular', 'emitidos', 'dotz', 'procure', 'ferias', 'adulto', 'obrigatória', 'permanência', 'realizam', 'moore', 'apreciá', 'liberem', 'recifense', 'plásticas', 'coletivas', 'municipais', 'colagens', 'composto', 'pintam', 'tintas', 'alexandre', 'calantone', 'usada', '👏🏼👏🏼👏🏼', 'laryssa', '85', 'alinhada', 'metodologia', 'tantos', 'tenisrj', 'expondo', 'marquinhos', 'atg', 'interventor', 'urbano', 'grafiteiro', 'amante', 'músicas', 'artesvisuaisnordeste', 'arquiteturadeinteriores', 'galeriadearte', 'voltam', 'negativando', 'curvas', 'jhonnynews', 'independência', 'abençoados', 'alcançá', 'demaisss', '📉', 'mae', 'jota', 'depositar', '😍👏', 'filhota', 'virão', 'ótimas', 'excepcional', 'promissores', 'investirdeverdade', 'dêumbtg', 'educacaofinanceira', 'investirmelhor', 'instrumentalmente', 'continuamos', 'carla', 'infância', 'desenho', 'graduação', 'notou', 'meios', '950', 'virá', 'atrasar', 'inclusão', 'phi', 'comidas', 'arquiteto', 'celso', 'cinema', 'restrições', 'pontual', 'matheusvieiragomes', '4k', 'vergonhoso', 'retirado', 'juro', 'assessorar', 'benção', 'bni', 'companheiro', 'reunião', 'natalina', 'ecossistema', 'tiagocamilojudo', 'avisaram', 'farei', 'ckm', 'bo', 'zer0ff', '81', 'significativo', 'levando', 'sozinho', 'daytrading', 'condomínio', 'pronto', 'morar', '😮', 'flavia', 'bwnco', 'consciência', 'relatos', '🎄15', 'passeios', 'junte', 'produtora', 'suspendeu', 'óleo', 'palma', 'biofuels', 'biopalma', 'cumprindo', 'obrigações', 'fornecedora', 'agropalma', 'cargil', 'dendê', 'implementou', 'deusanira41', 'davi', 'idade', 'tampouco', '760', 'acoes', 'variados', 'vidal', 'director', 'm2', 'dado', 'juntamente', 'gastronômicas', 'capturar', 'araujo', '1b1q2h', 'projeções', 'impressa', 'passeioemfamilia', 'andrade', 'ansiedade', 'obstrução', 'bebê', 'avc', '1o', 'desfibrilador', 'grupohagana', 'suporteavida', 'primeirossocorros', 'natal2022', 'mentorados', 'mobiliários', 'bspar', '📞', 'boss', 'aposta', 'mudanças', 'relevante', '🎯', 'interação', 'leve', 'edvanicehjh', 'torres', 'pr', 'arttere', 'indice', 'longoprazo', 'investimentosinteligentes', '2023”', 'free', 'fea', 'parceiras', 'estágio', 'trainee', 'inscritos', 'aprovados', 'sessões', 'comunidade', 'peguei', 'jiu', 'jitsu', 'campeã', 'primeiramente', 'depositam', 'prronto', 'executivo', '02', 'consecutivo', '“troféu', 'arttere”', 'farina', 'concorrentes', 'samsungbrasil', 'itaipu', 'binacional', 'iorque', 'utilizava', 'contudo', 'chateada', 'diminuiram', 'plena', 'line', 'suíço', 'awards', 'btgpqctual', 'provou', 'genuína', '2500', '💥🚀', 'goldenretriever', 'suor', 'lágrimas', 'rosesantos', 'engraçado', 'helena', 'hristopherbastos', 'animados', 'passeandocomcriancas', 'agendaculturalinfantil', 'ludicoreal', '📈confira', 'combustíveis', 'nps', 'resiliência', 'cvm', 'flourishfi', 'batch', '🏢', 'mariana', '😃', 'tradicionais', 'porte', 'rádio', 'impede', 'estratégica', 'deixam', 'arrisco', 'render', 'conselho', 'acredita', 'fórum', 'empresário', 'prometo', 'socorro', 'nosbtg', 'vintage', 'winners', 'amorim', 'bandnewstv', '❤️🙌🔥👏', 'alexfersouz', 'barsi', 'haha', 'resolve', 'colaborador', 'preparado', '✅✅', '👊👊', 'bpac3', 'bpac5', 'bpac11', 'cielo', 'ciel3', 'abençoado', 'deposito', 'praia', '👏🏼👏🏼🚀🚀', 'luizmoraes98', 'erradas', 'terra', 'manaus', 'barata', 'macaujr8887', 'seguidos', 'perderam', 'samanthacarvalh', 'exclusivamente', 'laço', 'postura', 'arrogante', 'símbolo', 'menthor', 'estreita', 'fortalece', 'adrialeo', 'cansado', 'zangado', 'entediante', 'instagrama', 'ibov', 'cortei', 'disparada', 'bloqueio', 'sorrindo', 'indicado', 'fraudulenta', 'movido', '𝒕𝒉𝒂𝒏𝒌𝒔', '𝒕𝒓𝒂𝒅𝒆', '𝒕𝒉𝒆', 'taokei', 'receiving', 'expected', 'putting', 'smile', '𝐧𝐨𝐭', '𝐢', '𝐲𝐨𝐮𝐫', '𝐭𝐫𝐚𝐝𝐢𝐧𝐠', '82btc', 'rejoice', 'enviada', 'apoiou', 'ganhando', '49', 'duvidei', 'possibilidades', 'bloomcapital', 'delícia', 'feriados', 'juroscompostos', 'sacreinvestimentos', 'lu', 'marketingmedico', 'partnership', '1°', '🎆', 'itaupersonnalite', 'mercedesbenz', 'mercedesamg', 'esquece', 'festas', 'bebesfofos', 'glai', 'perim', 'famosa', 'gbhbritto', 'promete', 'imediatamente', 'bancários', 'garante', 'gratuitade', 'competência', 'iniciamos', 'treinos', 'projetosocial', 'regularizar', 'teouv', 'specialized', 'mtb', 'shimano', 'mtblife', 'speed', 'cafenatrilha', 'brou', 'praquempedala', 'bikelife', 'ert', 'saudavel', 'luxo', 'investidorinteligente', 'lembre', 'mam', 'cras', 'visualizar', 'cra', 'mulhernabolsaoficial1', 'carloshara07', 'leticia', 'sobral', 'marcosbail', 'internamente', '1700', 'igualada', 'daytraders', 'ti', 'tibahia', 'o2', 'genialinvestimentos', 'idassessor', '12009', '“btg”', 'insatisfação', '“virtual”', 'relatar', 'acessor', 'indivíduo', 'watzap', 'cruzeiro', 'colega', 'marlon', 'debts', 'retiradas', 'sacando', 'sandraattiedecastro', 'agradece', 'loo', 'ferkze', '📝', '📆', '🙏🏻', 'juliopaiva2', 'pegorari', 'finsiders', 'inovadoras', 'agromatic', 'agtech', 'relembrar', 'cestas', 'privatebanking', 'vzs', 'jhoehl', 'desaparece', 'param', 'maiúsculo', 'demonstrar', 'indignação', 'bovespa', 'educaçãofinanceira', 'carteiradeinvestimentos', 'mendesoliveirarita', 'ctt', 'gerdau', 'gcarvalhoz', '👊🏻', 'levei', '📳', '99979', '4951', '☎', '3728', '6230', 'fixo', '371', 'joaquim', 'ajustes', 'espindola', 'jeanvictor', 'ʏᴏᴜʀ', 'ʏᴏᴜ', 'gbrielimas', 'leigo', '3g', 'majoritários', 'auditoria', 'pwcbrasil', 'obrigados', 'click', 'linhfsa', 'anuidades', 'judiciário', 'america', '𝘁𝗵𝗶𝘀', '𝗜', '𝗴𝗲𝘁', '𝘁𝗵𝗲', 'executar', '👇🏼', '665', 'player', 'algoritmo', 'twap', 'futebolzonasul', 'futebolde5', 'explico', 'waycarbon', 'governança', 'magnífico', '850', 'latin', 'banker', 'rolo', 'pediram', 'alimentar', 'desamparado', 'demora', '・・・', 'elosago', 'reaver', 'dobrar', 'followforfollowback', 'hodl', 'cryptomillionaire', 'ico', 'follow4followback', 'food', 'blockchaintechnology', '👏🏼👏🏼👏🏼👏🏼', 'showww', '😍😍👏👏', 'musa', 'hahahahaha', 'mi', 'irresponsáveis', '24x7', '👏🏽👏🏽👏🏽👏🏽👏🏽', 'padaria', 'garantido', 'ator', '👏🏾👏🏾👏🏾', 'bonitão', '🚀🔥', 'gvssauro', '😍❤️', '😍👏👏👏', '👏❤️', 'flaviao', 'katiatavarespadilha', 'wiser', 'latam', 'fera', 'definição', 'acertaram', 'flavião', 'potencializar', 'artplan', '💰📈🚀', 'bbb', 'caramba', '469anossp', 'behind', 'successful', 'person', 'there', 'she', '\\U0001faf6🏻', '😍😍😍😍😍😍', 'laiscavaf', 'reisrodriguess', 'caarol', 'recomendaram', '💯💴', 'proferida', 'diamantino', 'ocorrrido', 'contatar', 'ronialencar', 'lamentamos', 'generalizada', 'solucionado', 'nelson', 'possuímos', 'drmilior', 'logada', 'computador', 'gravamos', 'cerbasi', '2cmw123rt34', 'atendimentorv', 'galdino', 'runner', 'roni', 'rodei', 'observei', 'quesito', 'travando', 'confuso', 'dificuldando', 'allen', 'fxtrades', 'manual', 'exigente', 'corretagens', 'elisalugao', 'wilsontransporte', 'leibrazuka', 'mayarainvest', 'cavalierimario', 'denilson', 'lucasz', 'ecelente', 'melhor❤️❤️', '👏🏻👏🏻adoro', 'isso❤️❤️', 'preste', 'completar', 'confirmação', 'incorretos', 'vamosssss', 'marianacardoso26', 'betano', '😍😍😍😍😍', '🇮🇹🇮🇹🇮🇹🇮🇹🇮🇹🇮🇹🇮🇹🇮🇹🇮🇹', 'compraofluminense', 'nevesleticia', 'richard', '8h30', 'queroacoes', '👏👏👏👏💵💵🇧🇷👏', 'obrigam', 'ativam', 'autorizado', 'mereceu', 'alterando', 'gnt', 'traduzindo', 'quitando', 'ajustado', 'erraram', 'nega', 'questionamentos', 'colocaram', 'treinada', 'ladrão', 'banco24horas', 'metesse', 'retirasse', 'esfarrapas', 'surra', 'gangue', 'halle', 'toque', 'valorização', 'namastê🙏✍️', 'equacionada', 'ansiosa', '9k', 'hcristelolindmann', 'joaocamargo', 'isapotye', 'maristelahaacker', 'brenobraga', 'sergiosrj', '👏👏🏻', 'localizar', 'guru', 'rss', 'tens', 'admirável', 'construiu', 'breading', 'conheceriam', 'damos', 'jersonz', 'lula🤮', '👏🏼🚀', 'terminou', 'jhone', 'transaction', 'between', 'within', 'responsibility', '🙌🙌🙌👏👏👏🚀🚀🚀', 'vieiracavalcanti', 'sraramos71', 'mvrconsultoria', 'coelho', 'paularodrigues', 'marisawagner7', 'empresta', 'fgc', 'garantidor', 'dinheiros', 'falencia', '😍👏👏👏👏👏', 'direita', 'esquerda…', '😍😍😍😍😍👏👏👏👏👏👏👏👏👏👏👏👏👏👏👏', '👏🏼👏👏👏👏', 'iniciantes', 'thaisa', 'claudia', 'henrique', 'ssantiagoeliz', 'wannunes', 'ottonmoutinho', 'oá', 'encontrá', 'multifundo', 'lupa', 'marcosilva1091', 'abrirei', 'utilizarei', 'elegante', 'instante', 'urgenteeeeee', 'saca', 'suumiiuuuuuu', 'liiix0000', 'extorno', 'rebanho', 'merd', 'tarifa', 'oba', 'garmin', 'apóia', 'coach', 'bestas', 'brunoestrai', 'penadudu', 'mundooooo', '“influencers”', '🙌🙌🙌❤️', 'viidaaaaa', 'direita…', 'invasão', 'aborto', 'pt…', 'recomendarei', 'leandroreis', 'investiment', 'jecarrvalho', 'mariobortolato', 'aparecidomda', 'confinça', 'msgonsa', 'karolaynsanchez', 'mimi', 'andraade', 'nicolicamposss', 'pediu', 'investiria', 'socialismo', '£1000', '£10', 'luanda', '👏🏾😍', 'incomparáveis', 'encerraram', '💙💙👏🏾👏🏾', '🥰', 'falsa', 'alegação', 'adquiri', 'existia', 'sujo', 'falcatrua', 'gabrieleletrik', 'regorlima', 'resolveu', 'importuno', 'incluir', '🙏🏻👏🏻', 'tentado', 'egoísta', 'compartilhasse', 'autora', 'manipuladores', 'valia', 'bi', 'impiricus', 'jornalecos', 'compraram', 'iludir', 'melhor👏👏👏', 'entregam', 'estagiário', 'redigir', 'johnsson', 'lazzari', 'kazjoao', 'mogalter', 'jacquelinepoa', 'marco', 'prandi', 'barbarasavoi', 'fernandade', 'oliveir', 'contraparte', 'efetuadas', 'custodia', 'lucasjosa', '“europeu”', 'prósperidade', 'recente', '😁', '👏🏻👌🏻🚀', '🔥🔥👏👏👏', 'envolvam', 'caírem', 'ruína', 'uhul', 'descartados', 'comunismo', 'estavam', 'reunidos', 'gde', '🔥🔥🔥🚀🚀🚀', '🇧🇷🇧🇷🇧🇷2️⃣2️⃣✅', 'recomendam', '4x', 'picaretagem', 'bugs', 'deparam', 'foto…', 'provedora', 'fluxo', 'contrapartes', 'corretores', 'thalita', 'bispo', 'genesio', 'claudinhocrs', 'combinação', 'diários', 'conferida', 'juliocarlos', 'localizado', 'exibidos', 'paulorodopoulos', 'deborahgemima', 'espinosa', 'umas', 'etfs', '😉🤞', 'rodolfisss', 'obtiveram', 'benéficos', 'turno', 'nessas', 'cuidam', 'jaja', 'falir', 'fundamentalista', 'gustavobonardi', 'luto', 'elegeu', 'apagando', '🤷🏻\\u200d♂️', 'tendenciosas', 'patrocinarem', 'errou', '11pts', '👎🏼', 'pararem', 'encomendar', '“pesquisas”', 'ficaadica', 'nena', 'henckel', 'dri', 'marcel', '3383', '3336', 'nataliaaline', 'tec', '💙😀', 'isagiglio', 'andi', 'lourenco', 'gabriel94andrade', 'tgoncalvesm', 'milon', 'nunes', 'vanessaalves', 'malusfernaandes', 'gigantess', 'fop', 'banco🧡', 'diferenciado', 'pretendo', 'atendida', 'empáticas', 'focadas', 'eficaz', 'solícito', '230', 'xp…', 'top…👌🏻😃', '🏆💙', '👏👏❤️', 'lucassaribeiro', 'sophiaprein', 'sophia', 'feedack', 'matheusfiis', '🚀🤟🏼', '🤟🏼🚀', 'boa👏👏👏', 'baixam', 'fantoches', '📈📈', 'padilha26', 'ruinzinhos', 'nula👏👏👏', 'fluzao', '🌹', '🙌🙌🙌🙌❤️❤️❤️❤️', 'maravbelchior', 'cadastrado', 'representantes', 'potência', 'conectar', '48horas', 'sanchez', 'mano', 'proativaplan', 'construtora', 'janio1722', 'mariaferreira1991', 'joelsas', 'repórter', 'achava', 'vinculada', 'aplica', 'possuirá', 'tomador', 'voltou', 'redetv', 'voltei', 'tb😍👏🙌🔥', 'sensual', 'charmosa', '❤❤❤😍😍😍🔝🔝🔝😘😘😘👌👌👌😗😗😗👑👑👑😙😙😙👏👏👏😚😚😚🌹🌹🌹😇😇😇🙏🙏🙏🌟🌟🌟💎💎💎', 'isabelagimenez22', 'conserta', '🔥🔥👏👏', '😍😍😍😍❤️❤️❤️', '👏👏👏👏👏👏👏👏👏❤️😍', 'inteligente', 'petista', '😁😁', 'jannascimento7', '359', '8h45', 'inscrever', 'favorito', 'fabiofaria', '👏👏👏👏🇧🇷🇧🇷🇧🇷🔥🔥🔥🔥❤️❤️❤️', 'ministrado', 'mamateiro', '🤦🏽\\u200d♀️estou', 'preocupada', '🥱', '😯👏👏👏👏👏', 'dannilo', 'ajuste', 'concearhora92', 'alegando', 'qta', 'ladrao', '👏👏👏👏👏💙', 'velho', 'dicas👏👏', 'esquerdistas', '🇧🇷💸🇧🇷💸🇧🇷✅', 'arqnandagomes', 'rayssa', 'genilson', 'carlos20', 'subsidiárias', 'neo', 'excluíram', 'retrocesso', 'mahsa', 'amini', 'help', '🇾🇪', 'acusou', 'debate', 'cut', 'accessing', 'any', 'channel\\xa0', 'using', 'sos', 'mahsaamini', 'women', 'oplran', 'pfvr', 'cruz😢😢😢', 'erram', 'grosseiramente', 'túnel', '♥️', 'decided', 'act', 'faith', 'instead', 'fear', 'im', 'reaping', 'step', 'making', 'amazing', 'namoral', '⚫⚪🔴', '😩', 'indústria', 'deixá', 'arriscado', 'aceitável', 'atencioso', '⚫️⚪️🔴', 'holder', 'cabofrio', 'compraosantacruz⚫️⚪️🔴', 'santinha', 'compraosantacruz', '⚫⚪🔴🙏🏿', 'shell', 'box', 'abastecendo', '💪👏👏👏', 'enneas', 'evelyn', 'mumu74', 'luizcarlosm', 'naldynhoss', 'parecia', 'transferindo', 'limiteeeee', 'fidelizar', 'agr', '\\u200b\\u200bou', 'tornarem', 'testificando', 'michael', 'helbert', 'thomazdiogo', 'necessariamente', 'daroshenrique', 'tempinho', 'mudo', 'ᴇᴀʀɴ', '€88ᴋ', 'ғʀᴏᴍ', 'determinação', 'positivamente', '3800', 'lucrei', 'segurando', 'molusco', '🍆🍆🍆🍆🍆🍆🍆', 'eduideia', 'gilberto', 'puderem', 'agradeço❤️', 'atualidade', 'consorcio', 'sarateixeira', 'rampimrampim', 'elisalevorin', 'boicotar', 'esquerdista', 'possuindo', 'séria', 'neiiaresende', '💩💩💩💩💩💩🖕🏼🖕🏼🖕🏼🖕🏼🖕🏼', 'vendidos', 'bolsonaro22', 'criminal', 'máfia', 'parcelei', 'gotta', 'hesitant', 'hop', 'into', 'glad', 'hell', 'did', 'week', 'itself', 'definitely', 'see', 'myself', 'being', 'here', 'long', 'tradelikekei', 'pedrorenato7', 'definitivamente', 'escolhi', 'nesses', 'turbulentos', 'pregões', 'negligenciadas', 'kendra', 'leoborges10', 'inscrevi', '📌📌ні😉💋', 'narahgomes', '😉💙🚀', 'lula…', '🤠', 'baixado', 'tenebroso', 'inverno', 'terceira', 'record', 'guiness', 'velha', 'canção', 'journey', 'dont', 'stop', 'believin', '🇮🇹🇮🇹🇮🇹', 'criptografia', 'guardando', 'mobiliar', 'casamento', 'rasteira', 'cortam', 'indicava', 'indicarei', '👍🏾', 'dm🔥', 'levaram', 'procurar', 'configurações', 'resultando', 'rsrs🙌', 'ronaldosmmiranda', 'vanessabrito', 'imoral', 'obrigar', 'individamentos', 'abusivos', 'rotativo', 'permitir', 'thuanycorrea', 'liderabancos', 'nelsonpedrobom', 'brunomarracarvalho', 'ajudava', 'despreparados', 'verificada', 'punida', 'órgão', 'coerente', 'cortado', 'aproximadamente', '3mil', 'endividadas', 'negativação', 'pompa', 'funcionalidade', 'depósitos', '😍🔥👏', 'transferiram', 'acessória', 'ein', 'capaiffer', '👏🚀⭐', 'ruins', 'aquí', '👏👏👏💵💵👏🇧🇷🇧🇷', 'marcuz', 'shark', 'tank', 'brasiloficial', 'adriane', 'viniciusvlc', 'bueno', 'mateusmattosdl', '021', 'antecipar', 'parcelas', 'conhecia', 'financiei', 'alma', 'cobrou', 'batendo', 'porta', 'pergunte', '🇭🇺', '💚🤍❤️', 'fxjos', 'eph', '🇭🇺🇭🇺', 'vem❤💚', 'farra', '🥇🚀', 'gebelmonte', 'natimedeiros12', 'reinaldo', 'fh', 'r4f4peres', 'missjhunnyor', 'wesley', 'efariaseveraldo', 'edivan', 'stt', 'deaddopub', 'dioni', 'droga', 'cabível', 'restituir', 'pesquisem', 'enganem', 'retirem', 'lamentavel', 'operacionais', 'demorada', 'juntando', 'tudo👍', 'jeancbesilva', 'centralizar', 'limitaram', 'pfv', 'correspondente', 'espetacular', 'robôs', 'ahh', 'revolucionar', '💵👏', 'isenção', 'sina', 'jorss', 'clea', 'lencoismaranhenses', 'horseman', 'williamjunio', 'romulo', 'marajah', 'gecarraras', 'glauber', 'professormira', 'criptomoeda', 'brcripto', 'cobta', 'prq', 'manutenções', 'brcr11', 'topp🔥👏', 'irado', 'previdenciária', 'pamelafxt', 'hernane', 'gratuitos', 'abraaoalbuquerque', '🤙🏼', 'abraão', 'bilionários', 'superiores', '15k', 'tiagomouradesousa', 'mencionei', 'semelhantes', 'esclarecimento', 'exigido', 'conseguirmos', 'notificado', 'lucasalvesnto', 'rinesantos', 'contratar', 'adicionei', 'atendimentoinvestimentos', '111', 'adicionarem', 'adicionaram', 'espetaculares', 'hahahhahahaha', 'periodicamente', 'barca', 'viuh', 'brigando', 'precário', 'pensem', 'separado', 'layout', 'confusos', 'demaaais', '😓😓😓', 'top💙', '£34k', 'update', 'descontinuou', 'tickets', 'descrescente', 'kk', 'personalcristian', 'destas', 'amores', 'bassi', 'zermatt', 'lucascostaat', '😉🚀💙', 'mclaro', 'rooleitee', 'fabricio', 'goncalvez', 'leveeeee', 'tvglobo', 'perrengues', 'teriam', 'feed', 'oppen', 'estatutário', 'atoresssss', '🤟🚀📈', 'vamoooo', '🚀🤟🏼📈', 'let’s', 'goo', '📊💭', 'compreensível', 'vimos', 'tranquilizador', 'reuniões', 'consultivas', 'discussão', '”💫⭐🌟⭐', 'explicado', 'complexo', 'comparação', 'rodriguesdossantos2000', 'melhorias', 'fornecem', 'conjunta', 'ignorância', 'destrói', '💞', 'rose', 'fabiano', 'rende', 'matheuscavalli', 'papéis', 'estratosférico', 'corta', '😎🙏🏻👏🏻', 'der', 'tiro', 'encerro', 'ultrapassa', 'coe😂', 'prefiri', '👏👏💸💸💸👏🇧🇷🇧🇷', 'cortou', 'identificamos', '🤢🤢🤢', 'deiazz2304', 'cidadões', 'agua', 'gas', 'combustivel', 'ajudemos', 'entedimento', 'avos', 'tios', 'tias', 'vizinhos', 'humor', 'reflita', 'urnas', 'biblia', 'quisermos', 'abençõe', 'abraços', 'beijos', 'corações', 'acompanho', 'facebook', '👏👏👏lula', 'legalizar', 'decolarrr', '🤮🤮🤮🤮🤮🤮', 'exceção', 'poste', 'hadad', 'citou', 'ciclofaixas', 'ciclista', 'gerir', 'convidando', 'convidam', 'inflando', 'deveríamos', 'aplausos👏👏👏👏👏👏👏', 'xo', 'desvio', 'ciclovias', 'planeta', 'brilhante', 'possibilitar', 'segredo', 'tragédia', 'esclarecedora', 'crescia', 'rapido', 'epoca', 'lavajato', 'mensalao', 'mamavam', 'teta', 'ptralhas', '💰🙀', 'incontáveis', '\\u200b\\u200blucros', 'largar', 'acredite', '💱💵', 'perdoe', 'legitimidade', 'ingrato', '450', 'ouvia', 'encontrando', 'nun', 'continuará', 'abençoá', 'esconder', 'suposta', 'pedroeliasimoveis', 'vivianemrcarvalho', 'renanborgeslopes', 'pg', 'barco', 'conduzido', 'bolsonaroreeleito2022', 'lascar', 'vamoooos', 'ptnaoptnuncamais', 'esclareceu', 'melhorando', 'brasil🇧🇷', '🙏💚', '2️⃣2️⃣', 'lulanuncamais', 'lulanacadeia', 'mencionam', 'bobagem', 'ouvimos', 'argumenta', 'vivendo', 'alianças', 'honestas', 'despreparado', 'paralelo', 'cacildavasti', 'wiverson', 'edualmeidabrasil', 'marcransson', 'pjvasc', 'acumulado', 'desenvolvidos', 'descolados', 'vivem', 'paralela', 'alturas', 'creio', 'deixarem', 'governar', 'mapa', 'aumentos', 'amenizar', 'artificialmente', 'trégua', 'metiam', 'dilma', 'ploretariodo', 'girar', 'falo', 'apostar', '🇺🇸', '🤗😐', 'puta', '“achievement”', 'mêo', 'tijucano', 'indicaram', 'cogna', 'previsões', 'pouquinho', 'níveis', 'salariais', 'sobrevive', 'escolhendo', 'nobel', 'rir😂😂😂😂', 'rir', 'muito🤣🤣🤣🤣🤣🤣🤣🤣🤣', 'gravado', 'ocorrendo', 'regravado', 'integra', '🇧🇷🙏', 'professorlucassilva', 'danygregory', '\\U0001f979🦈', 'disfarçada', 'lembrem', 'majoritário', 'aumentou', 'massivamente', '37', 'postou', 'carretel', 'participam', 'economizamos', 'ocupada', 'confiei', 'superaram', 'aconselharam', 'oportunamente', 'alterações', 'apropriadas', 'atualizações', 'resumidas', 'valorizado', 'investida', 'adianto', 'rato', 'frutífera', 'escolhê', 'testou', 'poucas', '5000', 'tiiii', 'robertha', 'retrasada', 'midia', 'apontando', '9fingers', 'midias', 'estao', 'duvidar', 'mídias', 'esconde', 'feras', 'mentirosa', 'carpir', 'quintal', 'ursupadores', 'publicar', 'rezem', 'estejam', 'certas', '👊💪👏👏👏', 'inventivos', 'milionário', 'fórmula', 'tecnológico', 'escolhida', 'f1', 'incentivada', 'piloto', 'excedi', '👏👏🔥🚀🔥🚀', 'wsp', 'adalberto', '🇧🇷🇧🇷👏👏', '🇧🇷🇧🇷🇧🇷🇧🇷', 'jairmessiasbolsonaro', 'apfcampetti', 'felicioramuth', 'susannapolicialfederal', '🇧🇷🇧🇷🇧🇷🇧🇷🇧🇷🇧🇷🇧🇷🇧🇷🇧🇷🇧🇷🇧🇷🇧🇷🇧🇷🇧🇷🇧🇷🇧🇷', 'rbwnd😈😋😈😈😋😃😃😍😃😋😃😍👄😃😂❤️👄😰😓🤬🤤🌜🌜😕😖😪😖d', 'gbr', 'rrbfdsertedn😴😖🌜🤯🌜🌜🤤❣️👄👄👄👄👄👄👄👄👄😈😈😈😈😈😈👏👏👏👏👩\\u200d❤️\\u200d💋\\u200d👨👨\\u200d❤️\\u200d💋\\u200d👨👨\\u200d❤️\\u200d👨👩\\u200d❤️\\u200d👩👩\\u200d❤️\\u200d👩👩\\u200d❤️\\u200d👩👩\\u200d❤️\\u200d👩🤰🤱🤰🤰🤰🤰🐉🦕🕸️🐝🧁🍭🧃🧃🍫🍿🥤🍭🧈🍭🧈🧁🧈🍭🧈🍥🥧🍰🧂🎑🪔🎑🎍🎑🪅🏅🏡🌆🏫🌆🏦🏫🏫🏫🏫🏫🏫🏫🏫🕑🕝🕢🕣⌚㊗️㊗️🈴🈴㊗️㊙️🉐🅱️🈴🈴㊗️🈴🈷️🚯🚳', 'corruptos', '🤮🤮🤮🤮🤮', 'corru', 'ptos', '“forasteiro', 'freitas”', 'rodando', 'desestatização', 'férreas', 'eleitor', 'forasteiro', 'sjcampos', 'alugado', 'cunhado', 'pisou', 'compensação', '1m', 'escritura', 'dizes', 'adivinha', 'desinstalei', 'instalei', 'mudei', 'è', 'governador', 'zema', 'eleitos', '🤢🤮🤮🤢', 'eleitorais', 'manchada', 'tarcísiogovernadorsp', 'brincando', '🤯🤮', 'paulista07', 'igor', '😢ui61nbhkiki', 'bxbbvvv', 'bb', 'bvn', 'fcvv', '👏😍❤️', 'morram', 'inveja', 'branco', 'brilha', 'diamante', 'negro', 'serenata', 'valsa', 'amizade', 'bis', 'ericareisdecalcadecouroparasempre❤❤❤😍😍😍🔝🔝🔝😘😘😘👌👌👌😇😇😇👑👑👑😙😙😙🙏🙏🙏😚😚😚👏👏👏😗😗😗🌹🌹🌹💎💎🌟🌟🌟👢👢👢', '😊', 'romaylitoralpark', 'mauriciossdias', 'bmorettigomes', 'joyce', 'kely', '👏😂', '🙏🏻👍🏻🌻', '👏👏👏😍', '🙏🙏🙏🌟🌟🌟🌟🌟🌟❤️❤️😻😻🌹🌹🌹👏👏👏✅️💕💕💕💕💕🍀🍀🍀🍀', 'lindeza', 'h', 'perco', '😘😘😘😘😘😘😘😘😘', '👏😍👏😍👏😍', 'italo', 'atendimentobanking', 'android', 'ios', 'bobeira', 'vestem', '👏👏👏👏👏👏👏👏👏👏👏👏👏', 'danada', 'piorcorretora', 'adora', 'defender', '🤣🤣🤣🤣🤣🤣🤣🤣🤣', 'criado', 'sólido', 'oferecem', 'loungkey', 'ilimitado', 'desempenho', 'wish', 'everyone', 'ronnie', 'haven’t', 'lost', 'since', 'account', 'ronniemaraholbrook', '💙🚀💙🚀', '🚀🚀🚀🚀🚀🚀🚀🚀🚀🚀🚀', '🇮🇹', 'recordes', 'tercia', 'admiradores', 'viés', 'partidário', 'estirpe', 'põem', 'secreto', '🤑🤑👏👏', '🤮🤮🤮🤮', 'ofensa', 'colocá', 'facção', 'desanimador', 'jair', 'confrontar', 'passadas', 'econômia', 'chamarem', '🤮🤮🤮', '😂😂😂😂😂😂', '🤦🏽\\u200d♀️', 'botei', 'tentasse', 'mds', 'falava', 'enganaça', 'alguem', 'pasta', 'resumindo', 'edinaldo', 'vasconcelos', 'apartadas', 'porem', 'consultas', 'integrada', 'ambos', 'euoalvarenga', 'separados…', 'reinvestir', 'guias', 'fgts', 'atrasados', 'prioridades', 'separadas', 'haver', 'creditar', '👏👏👏maravilha', '😰', 'chic', '📉💹', 'optar', 'c🚀', 'canabi', 'recomendado', 'bettye', 'irpf', 'reforma', 'administrativa', 'tributária', 'fortunas', 'combustíveis…entre', 'melhorariam', 'anotei', '📅', 'acreditou', 'wasp', 'candreva', 'justificando', 'ineficiência', 'baba', 'lorysouzaaoficial', 'andremaiin', 'izaque', 'valiosa', 'bastasse', 'pague', 'atrativa', 'euforia', 'mergulhar', 'arrumar', 'ressarcimento', 'bps', 'eleva', 'sinalize', 'discussões', 'debates', 'propriamente', 'indiretos', 'indesejados', 'colateral', 'governantes', 'tampar', 'buracos', 'tomarem', 'colaterais', 'previstos', 'analogias', 'freio', 'freia', 'metáfora', 'imaginar', 'condição', 'prejudicial', 'doença', 'país”', 'tendem', 'nominalmente', 'rentáveis', 'regular', 'hra', 'viniciusribramos', 'jonasbasso', 'sacre', 'associada', 'crmadrugajr', 'rodolfocleao', 'vish', 'zerem', 'nft', 'atendido', 'derrubando', 'maliciosamente', 'presos', 'crime', 'dignidade', 'humana', 'rbrp11', 'river', 'alex', 'apelf', 'divulgada', 'cadê', 'recebida', 'dedicados', 'atualizarem', 'rapidez', 'ajudá', 'quaisquer', 'manager', 'ambitious', 'towards', 'clients', 'care', 'other', 'welfare', 'magnificent', 'comes', 'adwa', 'levarmos', 'pudermos…', 'renata', '💪🏻🎀', '👏👏👏👏💗💗💗💗💗', 'feito👏👏', 'pergunto', 'investiram', 'recuperaram', 'harvey', 'beneficiou', 'parceiria', 'respeitos', 'enganosaaaaaaa', 'abaixar', 'lixooooo', 'merdaaaaaaq', 'tornado', 'varejistas', 'copom', 'youtubers', 'assustados', 'teoria', 'colapsar', 'imprimir', 'perguntando', '“existe', 'federais', 'lançado', '2002', 'estrangeiros', 'determinar', 'próprias', 'portanto', 'remunere', 'aprove', 'concorda', 'aplicaria', 'arriscada', '“respeita', 'história”', 'caindo', 'registrar', 'limite…', 'lixoooo', '💙💙💙🚀🚀🚀🚀top', '👏🏾👏🏾👏🏾👏🏾', 'trocador', '💙💙💙💙💙', 'wendellit', 'helder', 'h77', 'aumentasse', 'extrapolar', 'oposto', 'desaquece', 'fria', 'permite', 'abaixe', 'entendeu', 'reflexões', 'desenvolvermos', 'raciocínio', 'barato”', 'baixas', 'aquece', 'insere', 'empregadas', 'consumindo', 'tomam', 'baratos', 'aparenta', 'tampa', 'acaba', 'destampando', 'aquecimento', 'inevitavelmente', 'contraindo', 'precisarão', 'honrar', 'tomado', 'imediato', 'elevada', 'josiene', 'acarol', 'braga', 'erikacoimbra', 'victorferreira', 'laribondezanc', 'luandaassumindoocontrole', 'thataacristina', 'priscilatoller', 'incrivel', 'cancer', 'mama', 'morre', '😌', 'incriveis', 'conselheira', 'rodriguezjardel', 'julgue', 'diga', 'ocultando', 'fluminensefc', 'drleonardorocha', 'créditos', 'deserção', 'cobrado', 'aplicarmos', 'kauai', 'orgulhosos', 'inválida', 'textao', 'zoha', 'ido', 'sofisa', 'vlzws', 'tony', 'derrotas', '“comecei', 'impulsionar', 'fornecer', 'aconselhamento', 'administram', 'hesitaria', 'recomendá', 'los”', '💰💰💰💰', 'negociado', 'cursos', 'sistemas', 'esquemas', 'rápidos', 'prometer', 'teríamos', 'terrível', 'respondam', 'recolher', 'ligou', 'bendito', 'sobrinho', 'ligamos', 'desligaram', 'registrado', 'depositado', 'canalnde', 'anexo', 'dignos', '🇨🇦🇧🇷🇺🇲', 'plausível', 'aceitava', 'contatei', 'deparei', 'desrespeitoso', '20x', 'espeto', 'bostas', 'merdas', 'desgraçados', 'desnecessário', 'dividas', '06964103', 'amália', 'cortados', 'citado', 'contragimento', 'passssei', 'escorre', 'trabalhador', 'honesto', 'pess', 'restantes', 'ngm', 'adeus', 'impecáveis', 'kaka', '\\U0001fae1', 'comunicarem', 'tirarei', 'carai', 'restante', '😳😳😳😳😳', '4500', 'loucura', 'integral', '“desculpa', 'fere', 'cdc', 'constranger', 'omitir', 'cod', 'civil', '186', 'voluntária', 'dano', 'negligência', 'augustovs', 'flls', 'concentrada', 'quedas', 'wege3', 'apaga', 'pedidos', 'trocou', 'mediante', 'publicamente', 'apagar', 'comentario', 'gema', 'letras', 'guatimosim', 'sincerely', 'speaking', 'things', 'doing', 'join', 'commenting', 'medias', 'until', 'gave', 'try', 'grateful', 'inviável', '720', '6500', 'depôs', 'bala', '🌹👏🏻👏🏻👏🏻', '🙌🏼👍🏻👏🏻🌹', 'rommelbastosofficial', 'melofla', 'falassem', 'use', 'depois…', 'thayna', 'nora', 'prosseguir', 'joao', 'gamarra', 'afsflx', 'small', 'caps', 'ative', 'instale', 'códigos', 'abreviação', 'stamfns', 'jorge', 'interior', 'formada', 'rendimento', 'bancorendimento', 'promotora', 'moedas', 'estrangeiras', 'cresci', 'exponencialmente', 'remessas', 'levantei', 'construímos', 'chão', 'enfiei', 'especializar', '‘faria', 'limers’', 'recomeçar', 'bancosafra', 'convidou', 'edreypierre', 'pizaricardo', 'acaciodorta', 'luizapoliti', 'sa', 'especializ', 'seveninvestor', 'perfildeinvestidor', 'headline', 'econômicos', 'headlinenews', 'televisao', 'cenarioeconomico', 'fed', 'btgvirtualchallenge2022', '🚀❤️', 'completado', 'considero', 'combinar', 'desafiou', 'corridas', 'topei', 'sinusite', 'braba', 'atrapalhou', 'habitat', 'obedece', 'ingênuo', 'dorflex', 'caminhadas', 'thalysson', 'toques', 'apaixonar', '🤟', 'arrastei', 'nina', 'fazerem', 'apostas', 'btgchallenge2022', 'corridaderua', 'run', 'running', 'runnergirl', 'cadastrando', 'desanimaram', 'frequência', 'concentrava', 'continuei', 'drástica', 'aparentemente', 'funcionário', 'considerando', 'podcast', 'rivkahlovers', 'inovar', 'tábua', '🙌🏼🙌🏼🙌🏼', 'ilumine', 'vqv', 'nadasuperaarotina', 'revizia', 'conacredi', 'creditonoagro', 'compliance', 'conacredi2022', 'administradores', 'conhecida', 'maneiras', 'colocados', 'alternativas', 'cambial📈', 'distribuído', 'dolarizar', 'exposto', 'convertido', 'u', 'estrangeiro💳', 'facilitar', 'estrangeira', '💵mercado', 'trocados', 'negociável', 'limitada', 'autorizei', 'debitada', 'inoperante', 'formalizei', 'maipriandos', 'naobse', 'leitor', 'barras', 'cobtabestar', 'judiacial', 'eravtwr', 'desbloqueada', 'desbloqueio', 'djthiagoribeiro', 'referindo', 'paixão', 'fest', 'temático', 'descontraído', 'assistirem', 'torcerem', 'ingressos', 'antecipados', 'degustem', 'boatos', 'fake', 'negligencie', 'dispor', 'separar', 'barulho', 'advisor', 'iga', 'swiatek', 'sakkari', 'petra', 'kvitova', 'karolina', 'pliskova', 'belinda', 'bencic', 'pisos', 'n°', '13°', 'duplas', '“princesinhas', 'copa”', 'quadra', 'maia', 'potente', 'demonstra', 'satisfaz', 'envolvida', 'moldaram', 'quebvcs', 'seguran', 'jabdesde', 'fechamos', 'pregão', 'termina', 'posicionados', 'líquidos', '⠀', 'comercializa', 'sujeito', 'compram', 'frutas', 'legumes', 'cereais', 'fazendeiros', 'vendem', 'alocar', 'tiverem', 'usual', 'sorteados', 'efetivar', 'negadas', 'amadorismo', '🤩🚀', '🙌🚀🚀🚀', '💙🚀👏👏👏', 'vitorsilvinoo', 'vamooos', 'marcoscosta', 'danielqcampos', 'eiivava', 'arthurezende', 'caiquerezendec', '🥶🤟', '💼lb', 'marizeteconcli', 'carlospettenon', 'rafadovjj', 'jogaram', 'want', 'its', 'doubts', 'at', 'seeing', 'deemed', 'necessary', 'share', 'general', 'public', 'let', 'them', 'know', 'truly', 'trusted', '👏🏻👏🏻🚀🚀', 'funcionando', 'oliveiragama07', '😱⚽️', 'encomenda', 'futmesameuesporte', 'futmesameuamor', 'futmesadapraiaesportes', 'futmesaemcasa', 'ficaemcasa', 'appleiphone', 'eujogofutmesa', 'futmesabrasil', 'redbull', 'carnaval2022', 'cabodesantoagostinho', 'futtable', 'copadomundo2022', 'cristovaojackson', 'trandreluis', 'falamos', 'henriquefagundesneto', 'cassimiro02', '“felicidade', 'vinho', 'companhia’', 'pouquíssimas', 'vivre', 'cunha', '98461', '💪🚀', 'sucessório', '“hahaha', 'sua”', '“eu', 'naquele', 'fundo”', '“token', 'vez”', '”don’t', 'cry', 'magalu”', 'avanço', 'optei', 'mari', 'desburocratizações', 'particularidades', '🚀🚀💙', 'dessa2', 'faturando', 'devoradores', 'reconstruir', 'palmas', 'besteiras', 'colocava', 'cabeça', 'dispostos', 'mínimas', 'sanadas', '👏🏻❤️', 'isadora', 'disponibilizar', 'partindo', '🙄😕', 'sejabtg', '👊🏼👊🏼', 'infra', 'regulatório', 'saneamento', 'debater', 'rodovias', 'produtivo', 'login', 'ponho', 'identidade', 'lkkk', 'dadas', 'sistemáticos', 'sistêmico', 'refere', 'colapso', 'afetando', '“escapar”', 'portando', 'calculados', 'adequado', 'escreva', 'portifoliodeinvestimentos', 'planejamentofinanceiro', '20ª', 'golfe', 'guariroba', 'golf', 'club', 'beneficiam', 'centenas', 'adolescentes', 'guibernar', 'importações', 'acontecem', 'sincronizar', 'excluir', 'adicionar', 'bagunçar', 'prof', 'crédito😮', 'brunofrade', 'prosseguirmos', 'atração', 'vila', 'musicais', 'festividades', 'saguão', 'paço', 'municipal', 'lançamento', 'saxofonista', 'adner', 'cantora', 'valentim', 'wr', 'produções', 'dário', 'saadi', 'significado', '“após', 'retomada', 'cem', 'rotina', 'secretarias', 'envolvidas', 'nós”', 'declarou', 'adriana', 'flosi', '“teremos', 'surpresas”', 'alexandra', 'caprioli', 'agradeceu', 'acreditaram', '“nos', 'organizeservicos', 'challenger', 'tijuca', 'boscadin', 'leite', 'riotennisclassic', 'cbtoficial', 'pedroboscardin', 'joaolreis', 'wilsonleite91', 'acic', 'contribuição', 'sanasa', 'sicoob', 'hm', 'engenharia', 'dbi', 'realty', 'swiss', 'park', 'thcm', 'eeletromidia', 'lg', 'mota', 'savegnago', 'furlan', 'participações', 'rdz', 'patriani', 'dahruj', 'incorpi', 'cristais', 'prado', 'empreendimentos', 'composta', 'alas', 'carros', 'alegóricos', 'glicério', 'correios', 'largo', 'rosário', 'datas', 'paradas', 'acompanha', 'tack', 'festival', 'marinanews', 'bona', 'andrelvbona', 'palestrante', 'autor', 'livros', 'perfeito”', '“finanças', 'real”', 'educacional', 'tackfestival', 'pluribus', 'unum', 'cede', 'apareço', 'henaramatache', 'rocketathletes', '🏅', 'determinada', 'impedir', 'persevera', 'digerindo', 'reconhecida', 'roland', 'garros', 'paris', '🔥🎾🏆', 'acompanhada', 'anderleiabconsentino', 'retornaria', 'oantagonista', 'uol', 'arminio', 'fraga', 'pobres', '👀🤷\\u200d♂️🤦\\u200d♂️🙆\\u200d♂️', 'ministeriodaeconomia', '🕰⌛🧭🛎🏛🚢⚓', 'precificação', 'china', 'brasileiras', '😎🧐🤓😅🤷\\u200d♂️🤦\\u200d♂️🙆\\u200d♂️🗣👥🌏🌎🌍😂🤡🤡🤡', '🙄🤨🤔🙃🙃🙃🤑😲🙃🤯🤯🤯😱👻🧠👁💣🛢🚢💦💦🏊\\u200d♂️🏊\\u200d♂️🏊\\u200d♂️🏊\\u200d♂️🏊\\u200d♂️🏊\\u200d♂️🏊\\u200d♂️🏊\\u200d♂️🏊\\u200d♂️🏊\\u200d♂️🏊\\u200d♂️🏊\\u200d♂️🏊\\u200d♂️🏊\\u200d♂️🏊\\u200d♂️🏊\\u200d♂️🏊\\u200d♂️🏊\\u200d♂️🏊\\u200d♂️🏊\\u200d♂️🏊\\u200d♂️🏊\\u200d♂️🏊\\u200d♂️🏊\\u200d♂️🏊\\u200d♂️🏊\\u200d♂️🏊\\u200d♂️🏊\\u200d♂️🏊\\u200d♂️🏊\\u200d♂️🏊\\u200d♂️🏊\\u200d♂️🏊\\u200d♂️🏊\\u200d♂️🏊\\u200d♂️🏊\\u200d♂️🏊\\u200d♂️', 'uoloficial', 'cnnbrasil', 'mpf', 'programapanico', '😍👏🏾👏🏾👏🏾', 'andreiasilvaoficial', 'posicionar', 'founders', 'empiricus', '🗣️esse', 'oscs', 'nortear', 'produtores', 'celebrar', 'conclusão', 'organizou', 'give', '🗣️o', 'filantropia', 'klabin', '🗣️foram', 'intensos', 'acompanharam', 'lançcamento', 'itapetininga', 'influência', 'apresentarmos', 'pudemos', 'macroecononomia', 'produtiva', 'exibiu', 'líquido', '88', 'estimativas', 'bba', 'negocio', '😡🤝💴', '👁👁👁', 'complicações', 'beneficiários', '🏖️', 'desenhado', 'complementação', 'aposentar', 'opta', 'declaração', 'inicia', 'firme', 'convidamos', '👏🏼👏🏼👏🏼👏🏼👏🏼👏🏼', '🤓👏🏻', '🧠se', 'oleãorugiu', 'apaixonadafã', 'partiu', '🚀💪✅', '🔥𝘽𝙏𝙂', '𝙋𝘼𝙂𝙊𝙐', '𝙁𝙍𝙀𝙀🤑🤑', '❇️𝘼𝙋𝙋', '𝙋𝘼𝙂𝘼𝙉𝘿𝙊', '𝟯𝟬', '𝘾𝘼𝘿𝘼𝙎𝙏𝙍𝙊❇️', '✅𝙍𝙀𝙉𝘿𝙀', '𝟭', '𝘿𝙄𝘼', '✅𝙂𝘼𝙉𝙃𝘼', '𝙉𝘼', '𝙍𝙊𝙇𝙀𝙏𝘼', '✅𝟮', '𝘾𝘼𝘿𝘼', '𝙄𝙉𝘿𝙄𝘾𝘼𝘿𝙊🤑', '𝙇𝙄𝙉𝙆', '6c6e22', 'segundafeira', 'hotmart', 'e72615026h', 'federalreserve', 'eleicao2022', 'mercadofinaceiro', 'passofundo', 'bolsadevaloes', 'curso', 'liberdadefinaceira', 'reset', 'taxadejuros', 'ricardojorge', 'robertomotta', 'denise', 'drehder3', 'globlequener', 'oandrerocha', 'cuckoldinterracialbrasil', 'isarugna', 'leorcampos01', 'jumouraoc', 'sarahferrz', 'lealthaisa', 'leoabreutdx', 'episódio', 'snacks', 'ramo', 'saudáveis', 'proteína', 'parabénsaograndeempreendimento', 'lisiane', 'jéssica', 'descendo', 'lisianebraz777', 'muntua', '🤪😝✌️', 'deividesiilva', 'futureinvest', 'prêmiozão', '👕🇧🇷', '⚽️💰', 'brigadão', 'levantarmos', 'caneco', '🏆🥇', 'copabtg', 'imorredouro', 'veronika', 'amar', 'namastê', 'makingof', 'oneinvestimentos', 'allpstudio', 'serragaucha', 'filmagem', 'documental', 'filmmaker', 'fotografofarroupilha', 'letting', 'hotham', 'music', 'promoted', 'audio', 'library', 'verdadeiros', 'pattyhernandez', 'corretos', 'indenizatória', 'pagarei', 'influenciadores', 'fraudulento', 'suporte\\xa0', 'ganharei', 'microempreendedores', 'empresa\\xa0', 'att', 'luan', 'aspectos', 'betaalves35', 'urgentemente', 'saborear', 'imersão', 'desejavam', 'saboreando', 'vinhos', 'renomados', 'rótulos', 'belmirovicenzo', 'promovetv', 'emisavivre', 'lavinicolla', 'partinisolucoes', 'emisaincorporadora', 'kazacapital', 'cunhaeventosoficial', 'retiramos', 'crescerá', 'assustar', 'eleicoes2022', 'ensinomedio', 'meditação', 'politicos', 'zap', 'edilson', 'popo', 'falas', 'usufruir', 'arquibancadas', 'pertinho', 'permanecerá', 'bar', 'pulseiras', '👏nada', '36', 'perene', 'notório', 'ezaquiel', 'altas', 'removeram', 'paola', 'vicentim', 'representaram', 'classificado', 'desenvolveram', 'macroeconomia', 'martinho', 'envolveu', 'universidades', 'experiencia', 'oficialmente', 'prestigiaram', 'prever', 'criá', 'lo”', 'punição', 'reclamado', 'cesurada🤦🏻\\u200d♀️', 'dill', 'horrívelllllllll', 'sacaneou', '🥺🥺', '🤢🤮', 'agradando', 'negaram', 'constrangedor', 'desanima', 'boleirar', 'davis', 'emocionantes', 'partidas', 'kalleby', 'fodacmano', 'cortar', '😄', 'penalizar', 'sentindo', 'sinalizei', 'havendo', 'gradativa', 'agrícola', 'fáceis', 'acessíveis', '💲', 'segui', 'motivou', 'cadastrei', 'disponibilizamos', 'ac', 'sincronização', 'esquisito', 'deixoy', 'saio', 'miguel', 'fossem', 'previdência…', 'marciamcruz', 'estuda', 'faro', 'energy', 'contratou', 'bilateral', 'project', 'usinas', 'fotovoltaicas', 'distribuída', '165', 'mato', 'piauí', 'tocantins', 'maranhão', 'paraná', 'terão', 'construções', 'prevendo', 'solar', 'estruturada', 'emissão', 'debênture', 'sustentável', 'obtidos', 'destinados', 'bureau', 'veritas', 'atender…', 'colocado', 'nada…', 'telegram', 'enquete', 'opçoes', 'web', 'fabiossouza15', 'luancarlosmorelli', 'contará', 'presença', 'sallouti', 'será', 'células', 'ocorrerá', 'premiação', 'fgvfinancebtg', '41', 'bruta', 'incidência', '71665041', '340201288', '1668599115', '848757144', '1665667328', 'voltamos', 'lindas', 'recepção', 'ifljovemsp', 'agenciademodelos', 'empresadeventos', 'agenciadeventos', 'empresadesucesso', 'recepcionistas', 'promotoras', 'staffs', 'barman', 'logistica', 'casting', 'sampling', 'blitz', 'entretenimento', 'coquetel', 'gostaríamos', 'xoulee', 'credenciados', 'rs8000', 'excluindo', 'rs2000', 'advogado', 'surpreso', 'rodriguesjardinagem', 'fevereiro', 'painéis', 'estandes', 'gerenciar', 'captar', 'dialogar', 'dominado', 'putz', 'atrasou', 'ezaquiellll', 'meter', 'neles', 'joserenatho', 'reclama', 'desconte', 'mo', 'navios', 'zerando', 'descontam', 'caloteiro', 'telha', 'madrugando', 'garimpar', 'filtros', 'achae', 'conversando', 'tidos', 'faaase', 'alugados', 'resgatados', 'gazeta', 'águia', 'branca', 'unimed', '“economia”', 'vescovi', 'comemorações', 'compõe', 'cecília', 'levará', 'decepcionada🙁', 'roseli', 'vohs', 'disparar', 'auxílio', 'cooperativas', 'adquirir', 'silvestre', 'representado', 'bernadete', 'bezerra', 'narrar', 'fortalecer', 'conhecemos', 'partes', 'saímos', 'reenergizados', 'fortalecerá', 'sigam', 'espacosilvestre', 'chalanaesperanca', 'silvestressc', 'cetas', 'avesdenoronha', 'ieseduca\\xa0', 'conheçam', 'cooprima', 'naturezabeladeitabela', 'institutosalvemar', 'eco', 'nois', 'institutojurua', 'liamarinha', 'pick', 'upau', 'projetoariranhas', 'ayala', 'edivania', 'alves16', 'lrimeiro', 'coopanest', 'cooperados', 'fest🇧🇷', 'hello', 'dfdgsdf', '🙌vdd', 'cronograma', 'ocorrerão', '🤩🤩🤩', 'oficialnunomarques', 'eddyenogueira', '🇧🇷🇺🇸👏📉📈', 'ibo', 'autônomo', '🗽', 'comparada', 'raissa', 'visualização', 'alugando', 'provisioariamente', 'titular', 'agregadas', 'incorporação', 'bluecap', 'aproximado', 'cota', 'corresponde', '151', 'liquidadas', 'reembolso', 'proporcional', 'passará', 'deter', '066', '892', 'inteiras', 'emitidas', 'cotista', 'possuída', 'multiplicada', '050', 'correspondentes', 'aproximados', 'clubefiinews', 'logisticosindustriais', 'mercadoimobiliario', 'realestate', 'imoveis', 'irresponsável', 'dennis', 'fracionárias', 'cobrassem', 'rodrigodocarmorampazzo', 'aparecer', 'vibes', 'ph', 'betorochafotos', 'ninahcavalos', 'horse', 'horsesofinstagram', 'horselovers', 'horseriding', 'horsesplanet', 'cavalosminhapaixao', 'chevals', 'fhmg', 'hipismoerural', 'horses', 'instahorse', 'showjumper', 'horseshoe', 'fouganza', 'decathlon', 'decathonbrasil', 'bydecathlon', 'decathlonbelohorizonte', 'fouganzabydecathlon', 'gewinnen', 'ihren', 'handel', 'einer', 'legitimen', 'plattform', 'ist', 'echt', 'sehr', 'transparent', 'verbinden', 'sich', 'ihr', 'beginnen', 'dem', 'verdienen', 'faltar', 'escalar', 'goleiro', 'zagueiros', 'laterais', 'defensiva', 'reduzida', 'armar', 'gerem', 'atacantes', 'defesa', 'bomdia☕️', 'bomdia🌞', 'bomdia', 'fundomultimercado', 'fatos', 'apensar', 'assinado', '‘’', 'temporária', 'contrato’’', 'respeitam', 'estavaa', 'viajando', 'comunicada', 'cabe', 'brickell', 'crbconstrutora', 'iguatemiesplanada', 'ansiosos', 'sairá', 'ficaremos', 'chamaram', 'processar', 'rápidas', 'proporcionando', 'transações', 'utilize', 'honorários', 'finalidades', 'realize', 'converter', 'reino', 'unido', 'alinemcrezende', 'deb', 'carbon', 'magnífica', 'lucrativa', '💥💥dia', 'john', '€70', 'mário', 'geram', 'devolvidos', 'key', 'aoroportos', 'cinthia', 'manzolla', 'viu🤡', 'wise', 'nomad', 'pontuam', 'inviabiliza', 'oferecida', 'exato…', '“vantagem”', 'compensa', 'aplicado', 'mastercard', 'calculadora', 'maycon', 'kevenn', 'décadas', 'moldar', 'carreiras', 'agassi', 'serena', 'vênus', 'sharapova', 'jim', 'courier', 'boris', 'becker', 'seles', 'anna', 'kournikova', 'tommy', 'haas', 'kei', 'nishikorie', 'disfruta', 'recuperação', 'strong', '❤️🎾', 'bollettiere', '“você', 'forte”', 'faltam', 'aprovarem', '“e', 'sistema”', 'juliano', 'juba', 'ilesa', 'friday', 'conscientes', 'giroto', 'invistacomoumagarota', 'obvious', 'marcelaceribelli', 'educadora', 'mirna', 'economirna', '🧠', 'amizades', 'aprendizagens', 'espm', 'ps', 'perguntei', 'liberarem', '😬', 'avantgardemotors', 'votou', '💣💥', 'enxerga', '🇧🇷🤔', 'fundamentonet', '9000', 'sujei', 'mereço', 'cientista', 'schiller', 'prático', 'proponho', 'visões', 'liceu', 'fechado', 'miolo', 'cracolandia', 'dirigido', 'padres', 'maristas', 'secular', 'realizando', 'ipses', 'literis', 'qye', 'auxilios', 'doações', 'institucionalizadas', '🙏👏👏👏', 'mrosa', 'cavazzani', 'kinhosdad', 'legenda', 'csi', 'fases', 'característica', 'cronômetro', 'atencao', 'horarios', 'board', 'play', 'dupla', 'guigaspinellipiloto', 'gustavogugelmin', 'baja', 'portalegre', '🙌🤩', 'mitsubishimotorsbr', 'dacar', 'mracing', 'rally', '4x4', 'bajaportalegre500', 'rali', 'ralli', 'esposo', 'links', 'conto', 'afim', 'aprovar', 'explicam', 'inspeção', 'veterinária', 'estruturas', 'distribuídos', 'warm', 'rola', 'michelinbrasil', 'grupoabveiculos', 'hipismorj', 'tiagodionisiocosta', 'silasabreurj', 'comemorativo', 'preocupam', 'awesome', 'miss', 'charity', 'event', 'only', 'possible', 'counted', 'conservation', 'caring', 'companies', 'nike', 'united', 'isacteepbr', 'premierpet', 'ellus', 'grandcruvinhos', 'landroverbr', 'royalenfieldbr', 'aptkspirits', 'chivasbrasil', 'pernodricardbrasil', 'ositiosaojose', 'onçafari11anos', 'juntospelaconservação', 'poise', 'denis', 'arco', 'gestión', 'con', 'acceso', 'las', 'mejores', 'nivel', '¡seguimos', 'allá', '¡felicitamos', 'nuestro', 'equipo', '✨🙌🏻', 'destacou', 'reconhecimentos', 'bahiaaaaa', 'limito', 'proucipa', 'esterior', 'chupando', 'dedo', 'respostando', 'frio', 'prontas', 'tinham', 'reduzirão', 'nuncamais', 'fraco', 'tc', 'largada', '50m', 'efetivamente', 'idealizado', 'designer', 'd´or', '52s87', '47s98', 'derrube', 'camps', 'elysees', '48s42', '60m', '141', '114', 'destacar', '40m', 'definem', 'cecilia', 'prestigiada', 'lidera', 'gratidao✨🙏🏽✨', 'reformando', 'fabrica', 'escolares', 'retrair', 'agitado', 'r500', 'r3000', 'thor', 'nava', 'oscilação', 'fatura…', 'alysson', 'buscamos', 'encaminha', 'jefferson', 'rachelrrodrigues', 'w01', 'jose', 'champs', 'elysées', 'fonseca', 'henessy', 'ivo', 'roza', 'orange', 'metodo', 'hipismobr', 'feriado', 'golaço', 'realizou', 'distribuíram', 'brinquedos', 'comemoram', 'divertida', 'cidadãos', 'animada', 'assistiram', 'judocas', 'exercícios', 'tati', 'solo', 'randoris', 'lutas', 'ficaram', 'impressionados', 'juntaram', 'apreciarem', 'churros', 'pastéis', 'refrigerante', 'suco', 'voluntario', 'voluntariado', 'diadascrianças', 'diversao', 'esperanca', 'judobrasil', 'imperdível', 'salavip', 'oferecerá', 'dependências', 'fará', '16h', '17h', 'maravilha', 'animação', 'emmerick', 'longines', 'xtc', 'corredores', 'usain', 'bolt', 'estive', 'financaspessoais', 'sempremelhor', '💭a', '📢', 'empenha', 'conquistá', '❓', '❗', '🏆btg', 'premiadas', '🚨características', '•abordagem', 'proativa', 'sistemática', 'monitoramento', '•um', '•longo', 'dealerem', 'new', 'york', 'miami', 'acordei', '🤦🏻\\u200d♀️😡😡😡🤬🤬🤬🤬', 'diminuire', 'conecta', 'cp', 'distribuidoras', 'infomoney', 'valoreconomico', 'forbesbr', '👍🏻🙏🏻', '👍🏻👏🏻', 'incerramento', 'conquistarmos', 'estadao', 'broadcast', 'classificadora', 'austin', 'rating', 'amiga', 'adicional', 'remunerado', 'receita', '😂👊', 'orodrigocolombo', 'podcastrodrigocolombo', 'remuneração', 'ligado', '🙄🙄👎👎👎👎👎👎👎👎👎👎👎👎👎', '🤬🤬🤬', 'eusouwillbank', 'melhoooor', '😡🤬😡', '😭😭😭', 'inadmissível', 'margem', 'pontualmente', 'possuam', 'reajuste', '😮😢😢😢', 'merecíamos', 'utilizamos', 'pagou', 'concertar', 'prima', 'autônomas', 'corda', 'nunbak', 'alterou', 'fechou', 'aê', 'cliques', '10m', '20m💥', '04', 'arie', 'carneiro', 'brisa', 'ruan', 'ferrao', 'ch3', 'cascharella', 'luminatti', 'cher', 'araucaria', 'carthagos', 'girl', 'chiroccco', 'gabriela', 'berro', 'marins', 'cyrana', 'jca', 'ferruci', 'bredariol', 'nobu', 'pullman', 'barreto', 'bisco', 'shaitaan', 'batista', 'christovao', 'krisbel', 'soares', 'ferluche', 'kergas', 'basbaum', 'gazarin', 'pafflam', 'klynberg', 'noronha', 'tergilene', 'caetano', 'pmr', 'salek', 'thelma', 'pastore', 'resende', 'vilela', 'sil', 'cleo', 'cesnik', 'grama', 'cassanto', 'peter', 'mattos', 'greenlees', 'veneur', 'ste', 'hermelle', 'bernardo', 'kraus', 'guerra', 'hfg', 'numero', 'mandaliti', 'balada', 'umburanas', 'serie', '20m', 'christiani', 'marchezoni', 'alho', 'junqueira', 'vetnil', 'bf', 'dejet', 'abbud', 'sarquis', 'aiex', 'platina', 'olavo', 'ribas', 'hfb', 'diaratha', 'viktor', 'gree', 'tropicana', 'jc', 'isabella', 'tovani', 'cloud', 'jlp', 'mr', 'lou', 'mendes', 'yamim', 'gouveia', 'bollywood', 'boy', '3k', 'queiroz', 'dialoubet', 'torcendo', 'daram', 'porc0s', '55m', 'elite', 'revell', 'montana', 'prata', 'confirmou', 'idealizada', 'penúltimo', 'duplo', '52s74', 'válida', '51s55', 'trazida', '51s78', 'conquistou', 'arremataram', '🥇🇧🇷', 'decisivo', 'dodamiranda', 'worldcupqualifier', 'fei', 'jumping', 'repetindo', 'vencemos', 'cobiçado', 'cavaleiros', 'prestigio', 'saltei', 'égua', 'comemorou', 'visa', 'saltar', 'dinoso', 'competir', 'integrando', 'revelou', 'medalhista', '1996', 'hipocrisia', 'rme', 'procura', 'sacaneada', '🥲🥲\\U0001fae0', '🥲🥲🥲🥲', 'incerto', 'assuma', 'permanente', 'imagino', '😭😭', 'covardia', 'trinta', 'parceladas', '💚💛orgulho', 'vestir', 'receio', 'desafiar', 'verdeeamarelo', 'copadavida', 'reportagens', 'tínhamos', 'usado', 'ag', 'enviou', 'avisando', 'desconfiei', 'retirou', 'numbak', 'chorar', 'mimimi', 'mito', 'postos', 'armação', 'malfatti', 'domenico', '37s02', 'competitivo', 'dionísio', '37s24', 'chiara', 'habitual', 'montaria', 'amazona', 'patrícia', 'vianna', '38s56', 'monte', 'belina', 'amoranda', '39s00', '5ª', 'mesquita', 'kentucky', '39s40', 'placar', '6º', 'paranaense', 'khury', 'casendra', '39s61', 'alejandra', 'feerj', 'federação', 'homenageado', 'irmão', 'premiaram', 'devoção', 'justifica', 'permitido', 'musical', 'carente', 'ambição', 'revista\\xa0crc', 'news\\xa0trazemos', 'representante', 'migração', 'safra\\xa0invest\\xa0para', 'ocorrida', '“as', 'escritório\\xa0private\\xa0do', 'safra\\xa0invest', 'projeção', 'mercado”', 'aragon', 'à\\xa0crc', 'aais', 'agenteautônomosdeinvestimentos', 'assessordeinvestimento', 'migracao', 'safrainvest', 'certificação', 'escritóriosdeinvestimentos', 'gestoras', 'investimentosalternativos', 'regressiva…', 'amparosessenta', 'plural', 'christalgaleria', 'antica', 'ceci', 'garridogaleria', 'nuvempro', 'numerogaleria', 'casabalea', 'maumaugaleria', 'graficalenta', 'atelierdeimpressao', 'espacoartebrasil', 'paratodos', 'convivência', 'propagulo', 'wineconceptbrasil', 'sebobaleia', '19hrs', 'perpétuo', 'sportv', 'tigre', 'peste', 'mentirosos', 'enganadores', 'pense', 'achando', 'nus', 'direitos', '💚💙💛', 'seleçãobrasileira', 'neymar', 'vinijr', 'dizia', 'seixas', '“sonho', 'realidade”', 'possíveis', 'auxiliam', 'expandir', 'vulnerabilidade', 'descubra', 'torne', 'impactar', 'necessitadas', 'saladaorganicaosocial', 'saladaorganica', 'inclusaosocial', 'projetossociais', 'projetosarcah', 'moradoresderua', 'ajudeaspessoas', 'euacreditoempessoasboas', 'jornadadaautonomia', 'agricultoresdobem', 'agricultura', 'permacultura', 'jota2018', 'conduta', 'desrespeitosa', 'prs', 'responsáveis', 'rezudir', 'limitedo', 'proconsp', 'celsorussomanno', 'argumentações', 'rasas', 'release', 'galeristas', 'moderna', 'cards', 'falindo', 'indício', 'decepcionante', 'ritasdc', 'palhaço', '🤬', 'prorrogada', 'securitizadora', 'family', 'encerraremos', '59', 'financiou', 'ptbrasil', 'caioscheik', 'kkkkkkkkk', '🙏🏻🤑🏄\\u200d♀️💯', 'tulioatmarketingtudo', 'tulioatmarketing', 'dólares', 'demitiram', 'leis', 'incentivo', 'cdbs', 'cometeu', 'comissões', 'empura', 'corre', 'constrangimentos', 'lulaoficial', 'delfim', 'distribuindo', 'goal', 'porra', 'cobre', 'mufunfa', 'lombongo', '2030', 'marica', '2010', 'japão', 'presal', 'presalt', 'amazon', 'moldes', 'alaska', 'norges', 'comedor', 'calango', 'respeitavel', 'une', 'movimentosemterra', 'amarelo', 'cristão', 'terrorista', 'lambanças', 'mônaco', '173', 'xô', 'zg', 'cd', 'retiram', 'sobrar', 'gps', 'faltava', 'valendo', 'oferecido', 'ab', 'novinho', 'garagem', 'trofeurobertomarinho', 'mecânica', 'falho', 'presencial', 'sito', 'contratada', 'presencialmente', 'valoriza', 'geográfica', 'conhecerá', '🌎', '6d', 'canonbr', '40mm', 'f2', 'stm', 'canoncollegeoficial', '🖥', 'adobe', 'adobebra', 'canon6d', 'canoneos', 'canoneos6d', 'canonphotography', 'canonprogear', 'canon40mm', 'canon40mmstm', 'canoncamera', 'canonlens', 'urbanphotography', 'housel', 'disposto', 'plantar', 'eterniza', 'gerações', 'facilitadores', 'guiar', 'otimizada', 'tiramos', 'características', 'cuidamos', 'itens', '💵explicamos', '💵alinhamos', 'estudamos', '💵estudamos', 'agilidade', '💵prezamos', 'estruturar', '🎖️', 'demos', 'ginástico', 'desportivo', 'abrirem', 'estacio', '324', 'firma', 'cadastra', 'anunciamos', 'multiartista', 'ufpe', 'fotógrafo', 'revistas', 'editora', 'abril', 'específica', 'mistura', 'realismo', 'diáspora', 'negras', 'seção', 'fotoshooting', 'exibindo', 'vestidos', 'costura', 'remetendo', 'brasilidade', 'místico', 'empoderamento', 'prepara', '9dedos', 'endividamento', 'critério', 'ocorre', 'atacadista', 'sindiatacadistadf', 'sankhyagestao', 'inovadora', 'distribuidora', 'sankhya', 'interestelar', 'brg', 'heverton', 'bacca', 'sanches', 'entregou', 'pessoalmente', 'gwm', 'patrocinadora', 'aproveitou', 'jantaraeas', '70anosaeas', 'gratidao', 'errejota', 'sambanopé', 'obrigadodeus', 'somdequalidade', 'músico', 'barreiras', 'puderam', 'pudentialdobrasil', '🎬', '77', 'maxsuel', 'prudentialdobrasil', 'interativo', 'drinks', 'debaterem', 'noemimata', 'atendam', 'aparecendo', 'spotify', 'estudar', 'bfmarilia', 'obteve', 'aureliobruno', 'ira', 'toa', 'ganelayesp', 'entrosada', 'empenhada', 'dedicacao', 'musicaboa', 'batucadaboa', 'movvime', 'falharam', 'falhar', 'devidamente', '“está', 'adrianapfreitas', 'pilantra', 'pilantragem', 'lesar', 'nascer', 'deixarão', 'encerrem', 'lorhana', 'nascody', 'redpill', 'padrões', 'suado', 'bsnco', 'bugada', 'atualizar', 'cancelem', 'esxcrot0', 'bostanazi', 'coitados', 'qur', 'repito', 'bloqueam', 'recendo', '166', '145', 'comemoração', 'csnshb', 'causado', 'básicas', 'eficácia', 'suportar', 'piedosamente', '🙌🏼🙏🏻🤑🏄\\u200d♀️🌊', 'contatam', 'continha', 'lendo', 'prioridade', 'empatia', 'radicada', 'autoral', 'conjuga', 'estranhos', 'selvagens', 'simbólicos', 'intrínsecos', 'pictórico', 'disputas', 'eminentemente', 'políticas', 'interessa', 'ressoe', 'confessional', 'biográfico', 'criações', 'investigar', 'fissuras', 'profundezas', 'revelando', 'inusitado', 'afeto', 'abismos', 'léxico', 'particular', 'discute', 'urgentes', 'irreverente', 'irônica', 'poética', 'transparente', 'durar', 'qualificado', 'confortável', 'contínuo', 'recomendaria', 'sofisticado', '💚🫂💚', 'yaralimac', '🎄🎅💙', '👏🎅', 'catioro', 'andreafasos', '👏👏👏👏❤️❤️❤️', 'honraaa❤️❤️❤️❤️❤️❤️', '👏👏👏❤️❤️❤️❤️😍😍', 'tupiocas', 'tapiocaria', 'cabine', 'joaobil', 'danteroman', 'brugomesc', 'pam', 's2k', 'sabrina', 'participarem', 'sebrae', 'indígenas', '💚🎾🧠', 'beieditora', 'colecaobei', 'cbmm', 'tatioliveira', '2406', 'flaviaoliveira6624', '🤜🤛firme', 'estara', 'prestigiando😍', 'céticos', 'fraudes', 'perderá', 'conheço', 'evitá', 'encorajar', 'testemunhe', '650', 'briigadoces', 'aproveitando', 'implementar', 'tradingview', 'btgpt…', 'rosilene96', 'chrisvaranda', '💫🤶🤍💙🎄✨️', '📉carteiras', 'carteirarecomendada', 'tomei', 'nascido', 'artesão', 'senac', 'sesc', 'madeira', 'demolição', 'alegres', 'festejos', 'lúdico', 'naif', 'xilogravura', 'religião', 'superstições', 'compor', 'galo', 'vitalino', 'rolimã”', 'indisponível', '🌲', 'lançaram', 'concentrar', 'service\\xa0eu', 'facilitou', 'espalhando', 'retribuir', 'passos', 'liviakcec', 'oliveirasstephan', 'maravilhada', 'haddad👏👏', '😍👏👏👏👏', 'corretamente', 'lida', 'sozinha', 'permiti', 'criandartes', '💙🎄🎅', 'beneficiando', 'expográfico', 'modificado', 'configuração', 'paredes', 'paleta', 'mobiliário', 'gravuras', 'artecontemporanea', 'gestor', 'astral', '🤘🏼🏁', 'kart', 'karting', 'race', 'racing', 'kartrace', 'champion', 'driver', 'daianeinvestimentos', '👏👏👏💙', 'adonamanda', '👏👏👏👏👏👏👏👏👏👏👏👏', 'juliasfont', 'patrocinar', 'taxa🤬', 'camarões', '🇨🇲', 'torcidan1', '4evencasting', 'prometeeee😍❤️', 'rafamiiller', 'roc2021a', 'retornaram', 'contestar', 'print', 'abandonadas', 'eai', 'larga', 'o\\xa0', 'digitalassets', 'em\\xa0', 'tokenizado', 'reitbz', 'nova\\xa0', 'plataforma\\xa0para', 'mynt', 'portilho', 'zgecv9', 'xbqg', 'feature', 'fintrender\\xa0', 'btgpactual\\xa0', 'mynt\\xa0', 'reitbz\\xa0', 'tokenizacao\\xa0', 'únicas', 'conta…', 'preju', '225', 'ouço', 'medos', '“só', 'sugerir', '“não', 'somosseven', 'comoinvestir', '4600', 'jamile', 'postar', 'idiotices', 'paibana', 'parahybana', '1992', 'gerada', 'artesãos', 'grafiteira', 'ilustradora', 'iniciou', 'audiovisual', 'parahybano', 'em2012', 'atuou', 'assistente', 'assina', 'publicitárias', 'encontram', 'fundação', 'suprapartidária', 'presidenciais', 'bolívia', 'independentes', 'periféricas', 'negra', 'ilustrações', 'artesvisuaisnord', 'interessasse', 'ignora', 'desmotivada', 'pessimos', 'intuitivos', '“estabelecer', 'banco”', 'verbo', 'intuitiva', '“relacionamento”', '91', 'faleceu', 'formando', 'guardaremos', 'conforte', 'forças', 'officialnickbollettieri', 'imgacademy', 'pattydiazbt', 'cpky1hftama', 'bomba', 'matar', 'azarões', 'asiáticos', 'geradores', 'eterna', 'ratos', 'falainvestidor', 'coreiadosul', 'habito', 'corridadosratos', 'pedrobreitman', 'necessários', 'regra', 'gratuidade', 'mails', 'cancelarem', 'entraria', 'explicariam', 'cobras', 'lesionar', 'avanil', 'homenageados', 'quiosque', 'realizaremos', 'sorteio', 'michelinbr', 'apareça', 'comemore', 'rankingshb', 'equestrian', 'informo', 'biamaesta', 'relatou', 'viata', 'folhados', 'meninasabores', 'pazer', 'aprova', '100k', 'yasminomoraes', 'afroamérica', 'território', 'recôncavo', 'solidária', 'graves', 'episódios', 'alagamentos', 'deslisamentos', 'decorrentes', 'chuvas', 'solidariedade', 'minimizar', 'serviçosfinanceiros', 'preservaçãodepatrimônio', 'assetmanagement', 'wealthmanegementservices', '⏰', 'impactada', 'usabilidade', 'consórcios', '➡️', 'similarwebinsights', '🔝🎄🎅🏼', 'mínimos', 'mas…', 'novíssimos', 'habitado', 'noutras', 'retrato', 'obsolescência', 'programada', 'intriga', 'transpor', 'acessórios', 'gadgets', 'celulares', 'possantes', 'relógios', 'servem', 'prefere', 'lançar', 'aguçado', 'utilitários', 'máquinas', 'lavar', 'roupa', 'liquidificadores', 'batedeiras', 'ventiladores', 'fornos', 'ondas', 'degrau', 'participa', 'indagam', 'habitam', 'notamos', 'diana', 'vivianebraune', 'barreirosinvest', 'profalejandro', 'schenkelregis', 'prjunioralavarse', 'carlosaugusto', 'gobbi', 'somou', 'anderonprimo', 'crossfit🏋️\\u200d♀️', 'generation', 'lawyers', 'nexters', 'apresentaram', 'troféus', 'formatura', 'escolhido', 'expectativa', 'quibta', 'sabado', 'museu', 'inéditas', 'nasce', 'fomentar', 'livraria', 'praça', 'agenciacoreto', 'coretodigital', 'assessoriadeimprensarecife', 'marketingdeconteúdo', 'devolveram', 'balanço', 'meninos', 'foconofoco', 'gratidão🙏🏾', 'pães', 'abraçar', 'paladar', '❤️✨', 'vemmm', 'talentosa', 'arteterapeuta', 'organicidade', 'traço', 'transborda', 'compreende', 'biodiversa', 'guia', 'facilitação', 'fundem', 'libertação', 'povos', 'sensíveis', 'integrante', 'acorde', 'floresta', 'tocam', 'florestas', 'nutrem', 'expressão', 'sugerem', 'telas', 'transmutam', 'encaixam', 'efetivo', 'entraram', 'verificação', 'id', 'dona', 'plonto', 'chuva', 'sol', '☀️', '⛈️', 'agola', 'pleciso', 'auplende', 'rentabilizá', 'peticos', '😌📉💰💚', 'venceeeeooo', 'joginhooo', '🤩🙏🏻', 'meeeeoooo', 'cias', '✈️', '⚠️fique', 'emissor', 'programas', 'amplo', 'express', 'membership', 'bari', 'iuppi', 'caixa', 'pan', 'roxinho', 'aceitando', '❎', 'perde', '⏳', 'ligue', '📞do', '📱', 'nossasmilhasporai', 'amamosviajar', 'pontosemilhas', 'destinosesonhos', 'cartaodecredito', 'programadepontos', 'americanexpress', 'amex', 'bancobari', 'jacresceu', 'paodemeldafran', 'deivisonpedroza', 'gestãoeliderança', 'marketingdigital', 'marketingdigitalbrasil', 'marketingdigitalparaemprendedores', 'motivacional', 'lá…', 'eternizados', 'unclemarcus', '👍🏻👏🏻👏🏻👏🏻', 'sacanear', 'pontes', 'graduado', 'desenha', 'ócio', 'orgânicas', 'princípio', 'expôs', 'morros”', 'pintou', 'paraíso', 'tejipió', 'amaro', 'misto', 'consome', 'influências', 'iconográficas', 'suportes', 'técnicos', 'componente', 'estético', 'coletiva', 'vacilante', 'oito', 'superfície', 'intervenções', 'quebrando', 'hierarquias', 'camadas', 'exposições', 'havana', 'cuba', 'bassoli', 'apex', 'rumos', 'jgp', 'val', 'occam', 'íntegra', 'apexcapital', 'comprei', 'ouvindo', 'mantida', 'bolso', 'descomplicada', 'sobem', 'financiamentos', 'controla', 'adoreiii', 'diante', 'baixojaguaribe', 'nme', 'thave', '50k', 'com🇱🇷💵💯💯💯', 'izabelita', 'baldotto', 'núcleos', 'atendendo', 'adequados', 'etária', 'improvisadas', 'motora', 'superação', 'tennisnasescolas', 'mudandovidas', '🏆\\U0001faf6🏻', 'sincera', 'saibam', 'sophie', 'juntem', 'indicou', 'contente', 'neonardis', 'extraviado', 'digitalizo', 'voce', 'oriundo', 'urbana', 'vendendo', 'polivalente', 'lourenço', 'mata', 'ilustrador', 'católica', 'personagens', 'femininas', 'carrega', 'mix', 'sentimentos', 'religiosidade', 'traços', 'suaves', 'resignação', 'inspirações', 'frases', 'poesias', 'acerteilotofacil', 'lucasholanda', 'md', 'estabeleça', 'buffet', 'expresso', 'equação', 'alinecacimiro', 'beatrizviegas', 'naz', '💙💙🙌🙌', '6k', '28', '👏🎄🎅', 'doce', 'suelenemarys', 'geraldogomesdematos', 'encontrado', 'recuperando', '📊📊📊', 'quest', 'dfs932', 'thiagocamposbarros', 'diniz2022', '😍😍😍😍😍😍😍', '👏👏👏👏👏👏🎅🏼🎅🏼🎅🏼🎅🏼🎅🏼', 'fe', 'vasconcellos', 'rucaniatrio', 'bicavalcante', '👏👏👏😍😍😍', '👏👏👏👏💙💙🎵🎶', 'natalbtgpactual', 'fefarah', '🙌🏼🎅😮', 'thaixxsa', 'pistola', '🦜😂😂', '👏🏻👏🏻🎄🪅', '🎅🎄🪅🎅', 'ridículos', 'movimentava', 'mundoinvest', 'construimos', 'suave', 'christiana', 'resenhas', 'indiquei', '👏👏🏼👏🏻👏🏻👏', 'lindoooo😍', 'empolgado', 'inesalosgomes', 'partilhar', 'angatuprivate', 'trilhando', 'investirbem', 'look', 'garciacarolina', 'derrota', 'reservado', 'frutos', 'defende', 'lule', 'turma…', '1988', 'amarela', 'brincadeiras', 'cotidianas', 'aprendeu', 'bordar', 'avó', 'costurar', 'observação', 'preferia', 'desenhar', 'sobras', 'maquetes', 'transformaram', 'superfícies', 'figurinos', 'descobrindo', 'experimentando', 'btg👏', '8°', 'recorde', 'guinness', 'ritmo', 'terei', '666', '😱😱😱', 'imaginando', '🥳', 'qundo', 'restabelecer', 'cupom', 'mexer', 'ver😊', '“olimpíadas', 'ongs', 'capoeira', 'vôlei', 'sentado', 'badminton', 'adaptado', 'xadrez', 'ínfis', 'tokio', 'marine', 'sunset', 'noruega', 'bélgica', 'frança', 'embaixada', 'croácia', 'típicas', 'distribuídas', 'france', 'chavalier', 'tokiomarineseguradora', 'infisconsultoria', 'suicanobrasil', 'francanorio', 'alemanhanorio', 'consuladoportugal', 'belgicanorio', 'consuladocroacia', '🎅✌🏻', 'alia', 'colhe', '🎅✌🏻🤑', 'vacalhar', 'charlesmenesiz', 'beat', 'meeeo', 'urbanista', 'conceitos', 'adquiridos', 'envolvimento', 'artísticos', 'literatura', 'cidades', 'arquiteturas', 'imaginárias', 'nanquim', 'posca', 'lápis', 'canetas', 'esferográficas', 'lance', 'aumentem', '8k', 'antecipadas', 'priorizo', 'desconta', 'mes', 'incompetente', 'errada', 'ficasse', 'vermelho', 'mpmg', 'incompetencia', 'hada', 'lembrancas', 'lupaloma16', 'pipeinflu', 'leticiacecato', 'administrar', 'truque', 'make', '🌈💙🇧🇷', 'makepracopa', 'makeup', 'beauty', 'mktdeinfluencia', 'pipepress', 'higienize', 'arrasar', '💄💋', 'ann1xn', 'emoções', 'concebida', 'manto', 'arrasam', 'patroa', 'convidada', 'or', 'sempre🙏🏽', '09dez2022', 'dailyblog', 'daily', 'studies', 'studygram', 'studyblog', 'bookstagram', 'bookblogger', 'ajanda', 'bulletjournal', 'bujo', 'blog', 'blogspot', 'kitapönerisi', 'kitapalıntısı', 'leituradodia', 'livrosemaislivros', 'ebef', 'vivis', 'silva03', 'constrangemento', '4o', 'hagana', 'assista', 'espetáculo', 'bandeirista', 'oferecidos', 'tragam', 'imersiva', 'passear', 'tag', 'identificação', 'surgir', 'concretização', 'corajosas', 'orgulhar', 'diogoviana', 'artlpe', 'acervos', 'rodas', 'capa', 'bebelandradelima', '❤️✨🤟', 'figuras', 'extrema', 'balizar', 'zeina', 'latif', 'renomada', 'malfitani', 'cfo', 'ambrósio', 'anbima', 'rogério', 'karp', 'nelogica', 'alexatala', 'bandida', 'adotaram', 'postam', 'preocupe', 'mando', 'cagando', 'sagrado', 'respondendo', 'qie', 'respknde', 'zelam', 'botar', 'atebdendentes', 'acaso', 'começamdo', 'aventuras', 'desenhista', 'criei', 'nulidade', 'desligamento', 'desativação', 'morte', 'desligado', 'desativado', 'curtir', 'encantar', 'pessima', 'atenciosos', 'cartório', 'irmã', 'prevista', 'devidos', 'recolhidos', 'enrolando', 'parasitas', 'incansavelmente', 'mkt', 'conectado', 'imagem', 'disponibilizando', 'stand', 'entregamos', '9226', '9461', 'nuvempro01', 'gmail', 'desempenha', 'rosto🥰🇧🇷✴️💯🙏', 'pesquisar', 'orientou', '📉💵', 'compartilharei', 'ajudará', 'esperou', '🤬🤬😡', '🎨🖼', 'oferecimento', '🇧🇷💥', 'alavancagem', 'stockmarket', 'forextrader', 'stocks', 'forextrading', 'entrepreneur', 'forexsignals', 'forexlifestyle', 'wallstreet', 'tradingforex', 'tome', '😱', 'diferentona', 'premiere', '📍estrada', 'bandeirantes', '📌', 'suítes', '68', 'm²', 'mobílias', 'apartir', '320', 'olímpica', 'imovelbarato', 'corretoradeimoveis', 'velhinho', 'direta', '😡🤬', 'restarte', 'limits', 'restou', 'rafful', 'suspeita', 'derem', 'ilegais', 'bloqueios', 'bruscamente', 'lemos', 'ignorados', 'sã', 'pontuais', 'guardam', 'cogitando', 'maior…', '644', 'senso', 'turquetti', 'frias', '🎄todos', '📍vão', 'passeioskids', 'aglnagxpz2h0oje4mdy3mjaxmdcymtg2mjg2', 'igshid', 'ymmymta2m2y', '👏👏👏❤️', 'antecipadamente', 'emergencial', 'estourado', 'verá', 'chamo', 'metawitx', 'barreira', 'pular', 'retido', 'nenhumw', 'somando', 'atentamente', 'publicações', 'caleb', 'afirmo', 'prove', 'afirmei', 'desmentir', 'afirmação', 'cala', 'consente', 'ppr', 'tel', 'serio', 'brunolima', '2012', 'subsequentes', 'escalas', 'contempla', 'espalhadas', 'localizada', 'precisavam', 'desencadeamos', 'alimentado', 'intimidade', 'dinâmica', 'longevo', 'metragem', 'produzida', 'entregues', 'desafiador', 'desequilíbrio', 'incerteza', 'lançamos', '\\xa0😉', 'gostoso', 'ester', 'danidias', 'portalcandido', 'receba', 'valem', 'carolgatsz', 'jhoow', 'luis', 'roberta', 'aslan', 'bouqvar', 'redig', 'redigart', 'relatam', 'unique', 'horroroso', 'fajuto', 'revejam', 'arrepender', '“reclame', 'aqui”', 'ilegal', 'buiaz', '🥰neste', '👨\\u200d👩\\u200d👧no', 'havíamos', 'levado', 'luisa', 'anterior', 'oficinas', 'contação', 'pontuações', 'recordação', '🍽e', 'apreciar', 'delícias', 'pratos', '🐶', 'mantido', 'animaizinhos', 'levá', '🤩com', 'fechados', 'tratando', '😉confira', '🏪lojas', '🗓segunda', 'domingos', '🍽feirinha', '🎄shows', '19h30', 'nº', 'eventonatalino', 'bancobtgpactual', 'passeioemsp', 'scdicas', 'diferenciados', 'buscam', 'socorros', 'roldan', 'associate', 'instrutor', 'ronaldo', 'instrução', 'considerados', 'tais', 'manobras', 'desobstrução', 'vias', 'universal', 'engasgamento', 'manobra', 'respiratória', 'compressões', 'torácicas', 'rcp', 'crises', 'convulsivas', 'gatilhos', 'abordagem', 'convulsiva', 'gestante', 'lactante', 'convulsão', 'pressão', 'atuação', 'hemorrágico', 'isquêmico', 'hemorragia', 'torniquete', 'queimaduras', '2o', '3o', 'desmaio', 'dea', 'gestantes', 'adultos', 'mamães', 'balance', 'saudeintegrada', 'comidinhas', 'asas', '🌲❤️🌳🎅', 'fila', 'noahvibes', 'merychristmas', 'swmpre', 'hospitalar', 'aph', 'diferencia', 'dispensado', 'atendimentoprehospitalar', 'reciclagem', 'bombeirocivil', 'facilites', 'paixões', 'mentoraram', 'emocionante', 'samara', 'sandracrismagalhaes', 'consecutiva', 'apimec', 'ibri', 'boga', 'baking', 'salista', 'instalação', 'vidro', 'diferencial', '😀✨', 'raquel', 'administradora', '99115', '9763', 'bsdesign', 'visitei', 'cachorros', '🎁🐕', 'imbatíveis', '💙🥋👊', 'vanessa', 'encaminhando', 'andrebmmchristoph', 'completando', 'premiações', 'concluído', 'grãos', 'insumos', 'agricolas', 'agroindústria', 'participante', 'baseado', 'climáticas', 'naturais', 'escassos', 'agricola', 'absoluto', 'produtividade', 'competitividade', 'servir', 'decisório', 'minuciosa', 'respectivos', '“suitability”', 'delfos', 'assume', '🤡🤡🤡🤡🤡🤡🤡', 'filósofa', 'djamilaribeiro1', 'verdadeira', 'anunciou', 'ambientais', 'implementação', 'djamilaribeiro', 'neide1novais', 'marcar', 'montamos', 'baixíssimo', 'corporativa', '🥇', 'offside', 'veniceinvestimentos', 'finalizado', '⚫️🟣🟠🟡', 'bsrecreação', 'diversãointeligente', 'equipebs', 'recreaçãocorporativa', 'venice', 'mathera', 'embudasartes', '297', 'colocavam', 'avisamos', 'luana', 'pavimentos', 'situada', 'suspensa', 'epicentro', 'edificação', 'interiores', 'desdobrou', 'goiânia', 'sinop', 'ms', 'ce', 'uberlândia', 'mg', 'taubaté', 'ribeirão', 'preto', 'curitiba', 'londrina', 'joinville', 'caxias', 'buenos', 'aires', 'bogotá', 'europa', 'regional', 'mérito', 'arrojada', 'focada', 'capilarizada', 'resume', 'finalista', 'artístico', 'porco', 'trararam', 'mero', 'entramos', 'aguardada', 'celebra', 'empresariais', 'igpm', 'investidoresimobiliarios', 'investidoresdesucesso', 'investimentoimobiliario', 'dinheironobolso', 'economiabrasileira', '“investimentos', 'panorama', 'auditório', 'álvaro', 'frasson', 'katsonis', 'liliana', 'jacomino', 'coo', 'lifetime', 'carettoni', 'aftermovie', 'last', 'went', 'checkout', '‘s', 'tree', 'events', 'happening', 'thursday', 'sunday', 'missed', 'oficina', 'luckily', 'photo', 'shooting', 'available', 'subdues', 'hat', 'criancas', 'sãopaulo', 'passeiokids', 'merrychristams', 'hohoho', 'santaclause', 'beto', 'assad', 'vasta', 'presidir', 'cadeira', 'imperdíveis', 'adequa', 'spoiler', 'ativar', 'lembrete', '03', 'finalizamos', 'impulsiona', 'pensada', 'estimular', 'empenhados', 'mentorias', 'treinamentos', 'mostraram', '250', '43', 'honrados', 'semprefea', 'prasemprefea', 'fundopatrimonial', 'contribuicao', 'retribuicao', 'impulsionasemprefea', 'impulsiona2022', 'matheusdslima', 'alisoncorreia', 'danilozanini', 'celsofukushima', 'netopouza', 'alexmorais', 'carolvianx', 'rick', 'ninjaa', 'gabrielmaksoud', 'wisterpadilha', 'brunaah', 'bg', 'augusttomoura', 'matheusanitelli', 'viana', 'jemersoncostta', 'brunoc', 'cotrim', 'sonhada', 'marrom', 'adaptar', 'pirâmide', 'vitórias', 'meninas', 'senti', 'esmagado', 'desanimei', 'volte', 'arder', 'liderança', 'peso', 'oponentes', 'treinar', 'sapato', 'estaria', 'puxão', 'orelha', 'antigos', '❤️🤗✅🙏🏽', 'joga', 'fogem', 'check', 'alocamos', 'ux', 'analytics', 'performance', 'products', 'b2b', 'obviamente', 'preservamos', 'openspace', 'respectivas', 'áreas', 'quee', 'banca', 'cuja', 'constituída', 'abreu', 'jardim', 'bonet', 'marcella', 'califi', 'propostas', 'aventure', 'priva', 'andreazza', 'angels', 'fundadora', 'geovana', 'conti', 'módulo', 'contratação', 'reparos', 'debtico', '“evento', 'artístico”', 'jacarés', 'receberá', 'dançar', 'dancarmarketing', 'blues', 'rock', 'eaí', 'content', 'eaimkt', 'expo', 'dubai', 'itaipubinacional', 'núcleo', 'cenografia', 'nucleocenografia', 'anamafarina', 'nascida', 'leste', 'reside', 'mestrados', 'columbia', 'estadual', 'respectivamente', 'consecutivos', 'criativos', '“nap', 'time”', 'criadas', 'sono', 'escala', 'explora', 'textura', 'quadrado', 'montados', 'diálogo', 'contraposição', 'têxtil', 'vej', 'quilombo', 'doces', 'informado', 'integrador', '🚀⚡️', 'souenergy', 'energiasolar', 'soucred', 'edimea', 'deixamos', 'ouro…', '🏁', 'enfeitado', 'ideais', 'enfeitada', 'bancobtg', '1100', '6700', '4000', 'diminuídos', '🚀☘️', 'nascimento', 'integraaliança', 'empreitada', 'confiarem', 'envez', 'atencipada', 'atrasos', 'cave', 'liderada', 'diógenes', 'motivado', 'curiosidade', '“procuro', 'ímpeto', 'pilar', '‘experimente', 'arte’', 'passassem', 'lares', 'consequentemente', 'atrela', 'pertencimento', 'casa”', 'paulavillocqphotoarquitetura', 'advisers', 'lagoa', 'patinar', 'gelo', 'praticar', 'slack', 'delicioso', 'chocolate', 'consulado', 'chavellier', 'moai', 'partners', 'bluebridge', 'bridgehub', 'bluemetrixasset', 'vogasecurities', 'solucoesfinanceiras', 'demais🚀', 'team', 'markets', '🔵⚪️', 'agregados', '🤜🤛👏👏👏', 'aprendo', 'marcellegutierrez', 'linda😍', '14500usd', '👍🏻💯', '💪🏻👊🏻', 'wagner', '♥️\\U0001faf6🏼', 'pamsdantas', '👏🏽👏🏽👏🏽👏🏽👏🏽👏🏽', 'dêumbtgnasuavida', 'octocapital', 'mamain', '💙🎄🐶🎄💙', 'ligadosgoldens', 'goldenretrieversp', 'goldenretrieversworld', 'influencersdourados', 'filhodequatropatas', 'goldenretrieverclub', 'goldenretrievers', 'goldenretrieverlove', 'goldenretrieverlovers', 'goldenretrieverpuppies', 'doglovers', 'doglife', 'goldenretrieversarethebest', 'instalike', 'mypet', 'influencerdog', 'influencerdogsofinstagram', 'mygoldenretriever', 'ilovemydog', 'ilovemygoldenretriever', 'quinzena', 'telinha', 'feedbacks', 'capricho', 'abraçada', 'coríntios', '98148', '0039', 'inês', 'girlene', 'monteiro', 'exige', 'coragem', 'propor', 'colher', '😏😏😏😏…', 'fabiosoaresoficial1', 'trabalhei', 'terceirizada', 'livramento', 'challotte', 'atividades', 'natalinos', 'telão', 'pipoca', 'molecada', 'brinde', 'plaquinhas', 'pets', 'musica', 'sincronizada', 'relaxar', 'banderista', '⌚', 'davinorole', 'passeiosemsp', 'programacaosp', 'explorandosp', 'dicasprapassearcomcriancas', 'passeioscomcriancas', 'spcomcrianca', 'programacaoinfantil', 'passeandocomamamae', 'atividadesemfamilia', 'spcriancas', 'saopauloparacriancas', 'maternidadeativa', 'passeiocomcrianca', 'dicasdepasseios', 'passeiosparacriancas', 'passeioscomcriancasp', 'decoraçãodenatal', 'caçaarvoresdenatal', 'natalemsp', 'programaçaonatalsp', 'testei', '✈️✈️✈️', 'retidos', 'jardel', '25000', '🛢️🚘', 'filiais', 'conhecimentos', 'levados', 'eternidade', 'atoa', 'atingimento', 'alcançadas', 'disto', 'construído', 'avançar', 'afscapitaloficial', 'afs', 'invistanoquetefazavançar', 'convenção', 'batalho', 'colocou', 'combustível', 'inteligencia', 'variavel', 'coitado', 'enfatizar', '👇👇', 'batch10', 'engajar', 'alumnus', 'interagir', 'togetherweflourish', 'somosbornlogic', 'deep', 'emcasa', 'finansystech', 'pagaleve', 'stonoex', 'pedrofelipemoura', 'dorme', '🏷🏷💪', 'bufalo', 'suplementos', '🤩👏🏼', 'stock', 'car', 'felipemassa', 'stockcar', 'stockcarbrasil', 'petrobras', 'petrobraspodium', 'lubrax', 'fia', 'pirellimotorsport', 'richardmille', 'motorola', 'interlagoscircuit', 'curiosidadesdoautomobilismo', 'f1drive', '“escondidos”', 'olhe', 'entanto', 'certificar', 'checar', 'asseguram', 'comissão', 'selo', 'cetip', 'certifica', 'citar', 'citadas', 'rankings', 'especializados', 'clear', 'toro', 'modal', 'técnico', 'educativa', 'permitiu', 'gravar', 'enviadas', 'reconhecidos', 'mundialmente', '🤯', 'ogustavopedroso', '“onde', 'elaborado', 'rentável', '💰📊', 'ondeinvestir23', 'notificar', 'min', 'parado', 'calculado', '´os', 'nacional´', 'geraldo', 'alckmin', 'neto', 'tcu', 'dantas', 'abilio', 'tema', 'discutido', 'teme', 'consequências', 'pec', 'pecdatransição', 'orçamento2023', 'cargatributária', 'dívidapública', 'esferabr', '🏆🏆', 'apreço', 'vencedoras', 'incluído', '145700', 'putaria', 'pagadores…', 'amarrando', 'temporárias', 'coleção', 'exalta', 'fauna', 'botânica', 'tropical', 'gostaram', 'container', 'ibirapuera', 'vistaguanabara', 'granadopharmacias', 'granadovintage', 'perfumariagranado', 'natalgranado2022', 'reúne', 'apoiados', 'antecede', 'jogarem', 'transformadora', '2014', 'ñ', 'entendendo', 'porq', 'abaixando', '595', '😒😒😒', 'manoeljunior', 'ipês', 'ipva', 'desligou', 'arrendo', '€8', '€22', 'incomparável', '✨✨✨✨✨✨✨', 'esclarecido', 'declarar', '2200', 'março', 'tomamos', 'encerramos', 'entraremos', 'reflexão', 'atenciosamente', 'futura', 'bandtv', 'economy', 'mubadala', 'pgbl', 'progressiva', 'vgbl', 'tributado', '8x', 'inventar', 'reduzidos😂', 'próspero', 'movidos', 'ensinamento', 'acreditamos', 'garantirmos', 'tornam', 'previdências', 'cambio', 'dedicam', '💙🌟', '3x', 'drásticas', '🎄✨', 'véspera', 'passamos', '❤️🎅🏼', 'padrinhos', 'atendemos', 'aliou', 'mudamos', 'evoluímos', '🤣🤣', 'acabando', '⏳⏳', 'perdidos', '😅😅', '👀👀', 'fleury', 'flry3', 'ourofino', 'ofsa3', 'vale3', 'eternit', 'eter3', 'romi', 'romi3', 'frasle', 'fras3', 'paguemenos', 'pgmn3', 'rededor', 'rdor3', 'subscrição', 'nhobciemr14', 'realocar', 'acabem', '👻👻👻', 'belíssimo', 'botafogo', '501', 'tomara', '❤️🙌', 'dora', 'martinelli', 'fenix', 'ingratos', 'esquecendo', 'origens', 'betegers', 'aprovada', 'desprazer', 'rodriguesbk', 'dígitos', 'taila', 'apreciação', 'acertou', 'tenhamos', '♥️♥️♥️♥️♥️♥️♥️♥️♥️', 'unip6', 'contanto', '😫', 'josué', 'fazueli', 'paletes', '702', 'retail', 'uniban', 'cheiro', 'nexo', 'currículo', 'amazonas', 'unip', 'irb', 'maiconandrew85', 'candidatar', 'jobs', 'some', 'trarei', 'materializa', 'estreitou', 'nuca', 'comgás', 'mostrando', '🚀🚀🚀🚀🚀🫂', 'direciona', 'danielalima', 'constelacao', '9231', 'emails', 'conscientização', 'opero', 'monossílabas', '🤝🏻📈', 'menthorinvestimentos', 'menthorcomvc', 'trip', 'sampa', 'model', '🚲', 'invistam', 'gurizada', 'pm', 'retiro', 'peters', 'furo', 'cancelou', 'programado', 'debitado', 'prejuizo', 'aproveitei', 'saindo', 'inicialmente', 'sofrendo', 'seufeedback', 'enchendo', 'unipar', 'oiii', 'philipehilarino', 'reias', 'desistem', 'perdedores', 'fracasso', 'continuamente', 'felizmente', 'jair…', 'brunoasiqueiraoficial', 'rebalanceamento', 'wesleywluiz', 'irb3', '𝒊𝒕𝒔', '𝒗𝒆𝒓𝒚', '𝒅𝒊𝒇𝒇𝒄𝒖𝒍𝒕', '𝒕𝒐', '𝒇𝒊𝒏𝒅', '𝒔𝒐𝒎e𝒐𝒏𝒆', '𝒍𝒊𝒌𝒆', '𝒚𝒐𝒖', '𝒇𝒐𝒓', '𝒎𝒚', '𝒔𝒖𝒄c𝒆𝒔𝒔𝒇𝒖𝒍', '𝒂𝒇𝒕𝒆𝒓', '𝒊𝒏𝒗𝒆𝒔𝒕𝒊𝒏𝒈', 'r4', '𝒂𝒏𝒅', '𝒊', '𝒆𝒂𝒓𝒏𝒆𝒅', 'r45', '𝒂𝒕', '𝒆𝒏𝒅', '𝒐𝒇', '𝒐𝒏𝒄𝒆', '𝒎𝒐𝒓𝒆', 'honestly', 'something', '𝐬𝐞𝐯𝐞𝐫𝐚𝐥', '𝐢𝐭', '𝐝𝐢𝐝', '𝐰𝐨𝐫𝐤𝐨𝐮𝐭', '𝐰𝐞𝐥𝐥', '𝐛𝐮𝐭', '𝐰𝐡𝐞𝐧', '𝐭𝐚𝐤𝐞', '𝐭𝐡𝐞', '𝐫𝐢𝐬𝐤', '𝐭𝐨', '𝐢𝐧𝐯𝐞𝐬𝐭', '𝐦𝐲', '𝐬𝐭𝐚𝐫𝐭𝐮𝐩', '𝐜𝐚𝐩𝐢𝐭𝐚𝐥', '€2600', '𝐢𝐧', '𝐥𝐞𝐬𝐬', '𝐭𝐡𝐚𝐧', '𝐥', '𝐦𝐚𝐝𝐞', '𝐨𝐯𝐞𝐫', '€14200', '𝐟𝐫𝐨𝐦', '𝐦𝐮𝐬𝐭', '𝐜𝐨𝐧𝐟𝐞𝐬𝐬', '𝐲𝐨𝐮', '𝐚𝐫𝐞', '𝐭𝐫𝐮𝐥𝐲', '𝐰𝐨𝐧𝐝𝐞𝐫𝐟𝐮𝐥', '24hrs', 'accountability', 'ineficiente', 'mostrou', '🇺🇸🇧🇷👇👇👇', 'inegáveis🤝🤝🥳🥳👇👇', 'maxima', 'gutodurigan', 'intraday', 'beirou', 'doido', 'maxima😢', 'serto', 'empreende', 'bolas', '🎾', 'atletasinvestidores', 'metal', 'atleta', 'beachtennis', 'beachtenis', 'sport', 'mentesacorposao', 'winbledon', 'agradecersempre', 'escolho', 'agir', 'colhendo', 'recompensas', 'ousado', 'treinaram', '560', 'nudo', 'knot', 'derivações', 'idiomas', 'náutica', 'medir', 'desate', 'oceano', 'informava', 'frescuras', 'financês', 'acontecia', 'tourinhoooo', 'negociações', 'realizei', 'bônus', 'diretrizes', 'dope', 'otimismo', 'andar', 'stefanoo', '“agro360', 'podcast”', 'áudio', 'canalrural', 'canaldocriador', 'inédito', 'natashacesar', 'english', 'western', 'ingles', 'agro360podcast', 'pod360', 'insper', 'calçar', 'sapatinho', '46', 'bc', 'masculinidade', 'lentamente', 'suba', 'marcelooliveiraxoficial', 'enviado', 'r35', 'r1000', 'mágica', 'r13', 'testado', 'repetirá', 'feio', 'poupança', 'retrospectiva', 'descobertas', 'aprendizagem', 'atravesse', 'habilidade', 'magníficos', 'binary', 'options', 'dola', 'voar', 'expressarão', 'amada', 'resolva', 'reclamar', 'hem', '🤔🤔', 'estourar', 'demorar', 'superar', 've', 'renasci…', 'clientes…', 'propósitos', 'ensinou', 'valiosas', 'lições', 'levarei', 'resto', 'harmonia', 'momentobloom', 'anono', 'elizabeth', 'lido', 'fechava', 'livro', 'psicologia', 'financeira”', 'fortuna', 'buffett', 'implementarem', 'comecem', 'apsicologiafinanceira', 'estímulo', 'envolveram', '👉👉', 'minuto', 'refletir', 'impactante', 'profissionalmente', 'vitorioso', 'ingressar', 'wave', 'captador', 'conquistei', 'valorosos', 'chamá', 'viagens', 'sensacionais', 'deslumbrantes', 'defini', 'desafiadoras', 'bati', 'trimestres', 'confiante', 'bençãos', 'iluminou', 'ansioso', '😊💪🏻👊🏻', 'wavecapitalbtg', 'gowave', 'amiguinho', 'vempralibra', 'alegrias', '❤️🙏🏼🎾', 'futurobom', 'vol', '🌎🌟', '🙏🙏🙏', 'igualmente', '🙏🏻❤️🤜🏻🤛🏻🚀', '🍾🥂', 'edsonsantoskelo', 'luci', '2601', 'segalinjoel', 'nadiaportilho', 'sandrajeune', 'israelescobar81', 'luciane', '😎✌🏻🙏🏻', 'bebês', 'bebes', '🙏🏽🚀', 'yuve', 'btci11', 'prejuízo…', 'derreter', 'salve', 'despencando', '😢😢😢', 'inconsistente', 'descer', 'prediletas', 'mostrados', '🔍', 'jcarlos3410', 'kell', 'crisss', 'bbse3', 'diziam', 'aportar', '800k', 'bata', 'discurso', 'amô', 'proximos', 'fascinante', 'vanessamcalfat', 'casada', 'credenciado', '💰✨', 'mulherfaladedinheiro', 'confianca', 'aplicacoes', 'btgloss', 'grandcapital', 'weclub', 'weclubpremium', 'joaomaia', 'corretor', 'joaomaia07', 'srtacarolina', 'blablablafabio', 'divulgações', 'atualizadas', 'musculação', 'desconfiados', 'receosos', 'repente', 'facinados', '👏👏🙌', 'éhoradeentraremação', '0xandrey', 'ca1que7', 'analisede', 'luidson', 'silvasantos', 'autonomia', 'aportes', '2024', 'cansei', 'funcionou', 'levo', 'insights', 'necessária', '🙌🙌🙌🙌😍', 'acordar', 'desejei', '45k', 'kat', 'certinhos', 'estes', '🤍', 'tennis🎾', 'tennisfeminin', 'receitafederal', 'trabalhaeconfia', 'boraregularizar', 'angproducoes', 'tupy', 'tupy3', 'csu', 'csudigital', 'csud3', 'energiasdobrasil', 'edp', 'edpbrasil', 'enbr3', 'b3sa3', 'ylbtfrrzpfq', 'irregulares', 'favelas', 'condomínios', 'negativamente', '🔴na', 'município', '🔴', 'proprietários', 'possuidores', '🔴dificulta', 'zonas', 'indivíduos', 'domicílios', 'regularidade', 'loteamento', 'regularizado', 'karine', 'investimentosfinanceiros', 'dificil', '👏👏👏😁💵💵👏🇧🇷', '🎊para', 'decepcionar', '🙏🏼', 'designaram', 'desentendidos', 'intuição', 'css', 'apropriado', 'idiotas', 'poupem', 'eugtzsch', 'taí', 'tópico', 'debêntures', 'passaram', 'marcados', 'facilitando', 'vendê', 'altera', 'marcaçãoamercado', 'debentures', 'cri', '🤌🏾', '😊😊', 'vandersonandradeinpnl', 'gporto', 'juliene', 'julio', 'créu', 'marcelorangomes', '825', 'celiovitorrocha', 'diligente', 'digna', 'encaminhado', 'espalhar', 'ouvirem', 'clinica', 'belmond', 'copacabana', 'palace', 'professora', 'considerada', 'ensinamentos', 'leticiasobraltennis', 'versatille', 'comando', 'felipevieirajornalista', 'band', 'televisão', 'breakingnews', 'benéfico', 'esperiencia', 'cadrastro', 'posteriomente', 'recusado', 'jgeovanesantos', 'loop', 'prazos', 'resolvido', '5x', 'suicida', 'ebook', '⏩', 'sun', 'eduzz', '1736181', 'mulheresempoderadas', 'mulheresnabolsa', 'daytraderlife', 'daytraderlifestyle', 'daytraderbrasil', 'daytraderschool', 'welcome', 'estagiários', 'dao', 'daqueles', 'esquecerei', 'celebrou', 'infinitamente', 'duddu', 'valiosos', 'apóstolo', 'rubens', 'vivianej27', 'ricardofhayom', 'drwerneck', 'gilbertonv', 'potencialização', 'do\\xa0btg', 'anuncia', 'selecionadas', 'montante', 'variar', 'milhão', 'abertas', '\\xa0link', 'seguirão', 'info', 'tic', 'empreededores', 'rejeitado', 'medeiros', 'loks', 'hábitos', 'sucedidas', '🍃', 'escolhassaudaveis', 'atingirem', 'cima🚀🚀', 'meados', 'preso', 'mergulhei', 'fecho', 'físicos', 'abmael', 'agem', 'pulem', 'paying', 'hmu', '“hard', 'times”💸', 'mentora', '💰💰💰', '47k', 'generosa', 'financeiramente🥇🥇', 'lfts11', 'ágora', 'rabobank', 'lucianoo', 'renan', '“escolhida', 'escultura', '“nós”', 'materializar', 'aventos', 'aventosadvisors', '085', 'obrigado🙌👏👏👏', '💎', 'ios…', '❗️agora', 'macbooks…', 'eleita', 'brasil…', 'macbook', 'apple', 'swingtraders', 'íbovespa', 'minidólar', 'dolarfuturo', 'ferro', 'forjado', '😉💪🏻✌🏻', 'coordenador', '🙌🏻', 'juntossomosmaisfortes', 'iii', 'zootecnia', 'imensamente', '💚❤️', '14000', 'resgatado', 'finais', 'expediente…', 'líquida', 'mineiro', 'rural', 'sailertimes', 'associados', 'estratégicas', '\\u200b', 'sabemos', 'cumprir', '\\u200bano', 'correndo', 'aprenda', '\\u200bem', 'marthaleonardis', 'edumatsushita', 'garanta', 'clicável', 'marcos', 'emilia', 'contate', 'conversamos', 'conturbado', 'reforçando', 'injetar', 'nascentes', 'mohamed', 'hassan', 'pixabay', '📲', 'executivos', 'leem', 'assine', 'newsletter', 'fintechs', 'corporate', 'lending', 'pme', '1983', 'administrado', 'meritocrática', 'consolidou', 'nacionais', 'espalhados', 'inglaterra', 'abriremos', 'gratuitas', 'sofre', 'houver', 'deságio', 'darley', 'resgates', 'realizados', 'agendado', 'ocorrer', 'atualizados', 'titulos', 'precos', 'htm', 'destacada', 'renatocesarseraphim', 'publicada', 'agtechgarage', 'cpr', 'what', 'undying', 'nordeste', 'pauta', 'lazer', 'leitura', 'colônia', 'férias', 'doou', 'em\\xa0são\\xa0paulo', 'poderem', 'ceias', 'natalinas', 'carentes', 'alimentação', 'alegria\\xa0', 'enxergar', 'highone', 'percam', 'tolos', 'múltiplas', 'cogitado', 'diversificar', 'preencher', 'balanceando', 'perfeitamente', '⚖️', 'hill', '👩🏻\\u200d💼👨🏻\\u200d💼', 'thehillcapital', 'aaibtgpactual', '👍👍😡', 'boletos', 'empolguei', 'decepcionaram', 'talessa', 'correa', 'diminuiriam', 'reduz…', 'vcs…', 'estúdio', 'dfilmesd', 'edynete', 'joanna', 'bph', 'salva', 'boladeneve', 'ciclodemercado', 'yield', 'mentoriamfi', 'paia', 'solicitando', '🥰ter', '💡os', 'fundosderendafixa', 'gestaoderecursos', 'cerimônias', 'colgatebrasil', 'grupotecnoset', 'unisyscorp', 'toribavolkswagen', 'toriba', 'unisys', 'tecnoset', 'colgate', 'residências', 'protegendo', 'saberão', 'limite😞', 'ricardosousa', 'assertivas', 'batalhamos', 'premiado', 'ímpar', 'depositamos', 'masss', 'rompimentos', 'fyp', 'instagood', 'lição', 'ivestimentosimobiliários', 'açoes', 'fundosdeinvestimentosimobiliarios', 'primorico', 'aquelas', 'market', 'cap', 'composição', 'benchmark', 'gasparetto', 'sinônimo', 'incômodo', 'dedicar', 'minimamente', 'básico', 'abordar', 'encaminharam', 'escritas', 'inválidos', 'concierge', 'amadores', 'learning', 'desdo', 'fracamente', 'precisei', 'improváveis', 'desagio', 'diferentemente', 'prefixados', 'atrelados', 'agendar', 'rochaa', 'vinculado', 'facilita', 'marcamos', 'afonso', 'agendamos', 'ᴀᴘᴘʀᴇᴄɪᴀᴛᴇ', 'ᴅᴇᴛᴇʀᴍɪɴᴀᴛɪᴏɴ', 'ɪɴ', 'ᴛᴇʟʟɪɴɢ', 'ᴍᴇ', 'ᴄᴀɴ', 'ᴅᴏ', 'ɪᴛ', 'ᴛʜᴀɴᴋɪɴɢ', 'ꜰᴏʀ', 'ᴘᴇʀꜱᴇᴠᴇʀᴀɴᴄᴇ', 'ꜱᴜᴘᴘᴏʀᴛ', 'ᴀɴᴅ', 'ʟᴏᴠᴇ', 'ᴊᴜꜱᴛ', 'ʀᴇᴄᴇɪᴠᴇᴅ', 'ᴍʏ', 'ᴘᴀʏᴍᴇɴᴛ', 'ᴀʀᴇ', 'ᴀ', 'ɢᴇɴɪᴜꜱ', 'thiagopereira', 'estranhamente', 'alega', 'transferências', 'estanho', 'néh', '🤔🤔🤔', 'calote', 'desembargador', 'praga', 'imediatos', 'é…', 'informativo', 'olhos…', 'pica', 'galáxias', '🌌', 'boquiaberto', 'tal…', 'empresa😎', 'magos', '🧙\\u200d♂️', 'itau…', '🏝️', 'rombo', 'bilhões…', 'fornecedoras', 'viam', 'descontar', 'fidic', 'americanas…', 'bem…mais', 'mandando', 'genios', 'debruçados', 'indicações', '156', 'pf…não', 'viram', 'errado…', 'sabiam', 'brigar', 'minoritários', 'navio', '🚢', 'trabalhadores', 'fornecedores', 'médios', 'quebrarem…', 'suposição…', '😎🤡', 'leigodafarialima', 'bj', 'chatice', 'locais', 'ola', 'enfrentando', 'asap', 'wendellqueiroz2', '🎾🏆', 'lentes', 'gabi', '⭐️', 'friendsolution', 'apostam', 'lupirani', 'descontos', 'palazzo', 'versilia', 'cozinha', 'sanitário', 'gourmet', 'piscina', 'borda', 'infinita', 'academias', 'bares', 'restaurantes', 'clínicas', 'praias', 'carnaval', 'habite', 'alessandro', 'creci', '2195j', '71', '99144', '3340', 'marcada', 'navegar', 'deposita', 'cultivo', 'relações', 'duradouras', 'pactual”', 'carta', 'memorial', 'árduo', 'ifp', 'o2capital', 'precisarem', 'chamem', 'contabilizado', '500k', 'sinceras', 'aplausos', 'interpôs', 'pleiteia', 'suspensivo', 'despacho', 'obtido', 'mantêm', 'instinto', 'guiá', 'recusaram', '😞', 'contracheque', 'serviu', '🥲', 'comprometidas', '“renda', 'fixa”', 'aplicando', 'octo', 'filiada', 'pmes', 'gerenciando', 'privados', '“minha', '𝗬𝗼𝘂', '𝗰𝗮𝗻', '𝗺𝗮𝗸𝗲', '𝗺𝗼𝗿𝗲', '𝘁𝗵𝗲𝗻', '𝘄𝗶𝘁𝗵𝗶𝗻', '7days', '𝗳𝗿𝗼𝗺', '𝗵𝗼𝗺𝗲', '𝘁𝗵𝗿𝗼𝘂𝗴𝗵', '𝗻𝗲𝘃𝗲𝗿', '𝗯𝗲𝗹𝗶𝗲𝘃𝗲', '𝘂𝗻𝘁𝗶𝗹', '𝗽𝗮𝗶𝗱', '𝘀𝘂𝗰𝗰𝗲𝘀𝘀𝗳𝘂𝗹𝗹𝘆', '𝘁𝗮𝗸𝗲', '𝗮', '𝗹𝗼𝗼𝗸', '𝗮𝘁', '𝗯𝘆', '𝗰𝗹𝗶𝗰𝗸𝗶𝗻𝗴', '𝗼𝗻', 'name', '𝗯𝗲𝗹𝗼𝘄', '𝘁𝗼', '𝗷𝗼𝗶𝗻', '𝗮𝗻𝗱', '𝘀𝘁𝗮𝗿𝘁𝗲𝗱', '𝗶𝗺𝗺𝗲𝗱𝗶𝗮𝘁𝗲𝗹', 'dave', 'moschke', '👊🏽👊🏽👊🏽', 'esat', 'toma', 'estai', 'feia', 'betina', 'lucre', 'setup', 'players', 'institucionais', '🤑📈', '“big', 'players”', 'rigoroso', 'executada', '“maquiar”', 'causaria', 'distorções', 'saberia', '“x”', 'definido', '665k', 'despercebida', 'observar', 'fracionadas', 'negociadas', 'curva', 'vbbr3', 'tullett', 'replay', '💡', '👉🏼', 'atuava', 'lotes', 'segundos', 'comprou', 'compradas', 'achou', 'escutado', 'swingtrade', 'ord', 'darley4208', 'animei', '😘', 'apresentá', 'deparar', 'igualadas', 'lucrativo', 'futeboldeamigos', 'futeboldaempresa', 'vapor', 'calor', 'drill’s', '💪🏽', '005', 'enganado', 'so5futebol', 'futebolbrasileiro', 'futebolamador', 'apertam', 'lutei', 'culpado', 'fizer', 'shabs', 'canabis', 'maconha', 'marijuana', 'legalizeweed', 'weed', 'legalize', 'medicinalplants', 'relevant', 'ajudo', 'jacksonitikawa', 'aculturação', 'ise', 'climas', 'consolidar', 'socioambiental', 'maximizando', 'evidência', 'stakeholders', 'incorpore', 'busquem', 'tecnológicas', 'auxiliem', 'aliansce', 'cienciaetecnologia', 'dexco', 'meioambiente', 'mrv', 'neomondo', 'lúdica', 'sobrinhos', 'fabriziopostiglione', 'liminar', 'suspendendo', 'bloqueava', 'compartilhamos', 'lembrança', 'prosperidadeinvestimentos', 'surpresinha', 'vanleone25', '💝🌺', 'ambidestro', 'trio', 'donos', 'emprestaram', '2bi', 'hummmm', 'year', 'podre…', 'valentinanicolaevna', '😂😂😂😂😂😂😂', 'desigualdade', 'hehehehe', 'pontudo', 'aprigiotiago', 'mgtowpolice', 'proporcionarem', 'floor', '😧', 'trouxemos', 'compartilharam', 'arrasta', 'anota', '🗓️', 'lamborghini', 'maio', 'regileme', 'reginaldo', 'investimentos\\xa0', 'franklintempleton', 'proporcionado', 'pela\\xa0', 'lamborghinisaopaulo', 'marcante', 'avinexperience', 'conta🤔', 'completaremos', 'convicção', 'ajudaaaaa', 'rs14230', 'equiparadas', 'unidade', 'tese', 'state', 'bthf11', 'motivation', '😍m', '😮6', 'artificial', 'likesforlike', 'cardano', 'inteligenciaartificial', 'estornos', 'locação', '👎🏻', '👏👏🚀🚀', '“l”', 'incontrolável', 'conhecendo', 'agindo', 'bolo', 'quente', 'razão', '🤩🤩💙💙', '👏🏻👏🏻👏🏻👊🏻🙌🏻🚀💙', '🙌🙌💙💙', '🚀💙💙', '💙💙💙👏👏👏👏', '👏🖤', '🔝⚡️🚀', 'rafaell', 'delima', 'cadias07', '💙👏🏻', '🔝🚀', '👏👏👏💙💙', 'magalhaes', 'ederfagundes77', 'miraggioveiculo', 'onix', 'prii', 'diegocoelhosb', 'ocs', 'evemusic', 'luiztalarico', '👏👏👏👏💙', '💙💙🚀🚀', '😍👏👏', 'uauuuuuuuu', 'belpimenta', '😢💔', 'edsonnicomedes', 'orlandosousa', 'cadastral', 'polijor', 'controlador', 'emergentes', 'davos', '👏🏾', 'rainha', '🙌🔥🙌🔥🙌🔥', '💙💛', 'tatmake', 'arrasaniiiiiii👏👏', 'andrematheusoficial', 'uhuuuuu', 'tuuudo', 'micaaaa', 'glaucopteixeira', 'tratativa', 'excedido', 'percebi', 'uauuuu', 'maravilhosaaaaaa', 'fernandoferreira', 'psicologo', 'thoomate', 'rebecafonsecas', 'flavioaugusto', 'geraçãodevalor', '🤑✌🏻', 'euclevertonbraun', 'fabipradof', 'agradeça', 'nectoninvestimentos', 'investdores', 'apertar', 'mei', 'acabo', 'valor👏👏👏👏', 'princípios', 'testemunhos', 'escalou', 'atacante', 'hehe', 'flavioooo', 'recebaaaaa', '🔥🔥👏', 'flávio…', 'obrigou', '❤️👏🏽', 'mentor🔥🔥🔥', '🔥🚀', 'top👏👏👏', 'validado', 'moral', 'heimm', 'tiozão', '👊🏻🦇', '🔥❤️', 'hein…', 'modelinho…', '❤️👏👏👏', 'flavão', 'flávia', 'aaaaaaaaaaa', 'mica😍😍😍', '👏gv', 'flávião', 'mestre👏', 'tiooooo', 'melhor👏', 'jucimartonon', 'guardada', 'guardado', 'apropriados', 'marechal', 'filipemarcio', 'haha😂', 'eleeee', 'lindão', '👏🏽👏🏽', 'gabeisner', 'tarcisiogregory', 'elianeslow', 'robsonoliveirarbs', 'marciaferreirahartuique', 'marcosantonioalvespontes', 'leolirarosario', '\\U0001faf6🏽', 'geracao', 'pow', 'aprovam', 'abro', 'btg🤔', 'condizente', 'tradução', 'wiser…', 'colou', '“americanas”', 'certíssimo', 'eunegaow', 'virei', 'timee🔥', '👏🏻🔥👏🏻🔥👏🏻🔥👏🏻🔥👏🏻🔥👏🏻🔥👏🏻🔥👏🏻🔥', 'colab', '👏😍😍', '😂🔥', 'quanta', 'provoca', 'construindo', '🔥👊❤️', 'chiqueeee', 'maquiado', 'lealdade', '👏🏻🙏🏻', 'congrats', 'topíssimo', 'feat', 'deprecia', 'decolando', 'gooooo', 'resguardado', 'absurdas', 'indignado', '😍😍😍👏👏', 'ojovemdamotivacao', 'juares', 'jessicaehevel', 'jailsongoveiaa', 'priscilaevangelista1', 'thiagohenriquesouza', 'oficialhman', 'nicolalosacco1', 'gibabeto', 'abrissem', 'suuuuuucesso', '💙💙💙💙👏👏👏👏👏', 'colabora', 'persona', 'amooo', '💙😍', 'cafezinho', '❤️🔥', 'opere', 'adoreiiii', 'caia', 'cadastrada', 'ofício', '👏👏😍', 'apena', 'importada', 'escolheria', 'correialexandre23', 'fugasrj', 'archdaianesilva', 'juliocesardias', '79', 'bancoooo', 'raiam700', '👏👏👏👏transformador', 'elevado', '😎👏🏼', 'brabo🔥', 'sqn😂', 'fabiobernardes', 'terapeuta', 'allinedf', 'nsreis', 'gabrielbarroso0', 'kimtiago', 'suelyroosa', 'propagandinha', 'virou', 'majoritario', '👏👏👏👏👏👏👏🙌', 'brunosergiopdores', 'julioo1867', '🚀👊', '👏👏🔥', '😂👏👏👏', 'agrega', 'nivela', 'joaopedrolomba', 'rodada', 'multimercado', 'onze', 'investidas', '7starsventures', 'takeandgoapp', 'patagonia', 'distribuição', 'legacy', 'tn', 'adv', 'seguiremos', 'captações', 'criativo', 'bilionário', 'empresario', 'mister', 'exigida', '👏🏿👏🏿👏🏿👏🏿', 'verasanchez91', 'mera', 'menteofc', 'albertomrosa', '🔥🥂', 'brabissimo', 'feitos', 'exclusivas', 'avaliados', '“bombril”', '😍😂👏', 'homi', 'confiar🤙', 'olooooooko', 'diria', 'vendedor', 'inglês', '😆👏', 'silvanna897', '👏🏻👏🏻🏆', '👏👏👏👏👏🔥🔥🔥🔥', 'excellent', 'brunaaliano', 'klauss', 'cobrar', 'pyca', 'grossa', 'timeifb', 'monitores', 'ryan', 'lopes', '💪🏼', 'iamfernandoalves', 'vt', 'lops', 'ryanzin', 'rei', 'th', 'arauj0', 'ahahah', '❤️❤️✨', 'paceria', 'revolucionou', 'flavioaugustogv', 'experienia', 'rolling', 'stones', 'embalam', 'filme', '“conectados”', '“trajetórias”', 'reforça', 'você”', 'veiculada', 'ooh', 'ahhhhh', 'cinematográfica', 'irretocável', 'régua', '🔥sou', '👏🏼👏🏽👏🏽', 'btg🚀👏👏', '👏🚀', '🙌❤️', 'affff', 'tudoooo', 'propaganda👏👏', '👏👏👏👏👏que', 'maravilha❤️', 'aiiii', 'lindooo', 'familiar', 'kkkkkkkk', '❤️\\u200d🔥', 'manada', 'banco🙏🏻', 'fraquinho', 'flavinho', '💡💡💡', 'ensina', '🔥🔥🔥🙌🏼🙏🏻🚀🚀🚀', 'haveria', 'bela', '👏🔥🔥🔥', 'tratamento', '😍😍😍😍😍💙', 'fod4', 'viann772', 'celofreitas', 'amadoruben', 'kdjoaocarlos', 'edufigueiredo', 'revolucionamos', '📉📈', 'varejista', 'depositados', '🔗acesse', 'sp💙', 'poluição', '🎂🎉🍾👏🇦🇷', '💰📈🚀🚀', 'saí', 'operava', 'jah', 'ivvb11', 'wizs3', 'imensa', 'imensurável', 'contracapa', 'exame👏👏👏👏', 'craque', 'reginaminini', 'profitto', 'assessoriafinanceira', 'uce', 'acelerador', 'experientes', 'show🔥🔥', '🧐', 'camilo', 'fans', 'doug', 'carvalho', 'blindado', 'eusounayoliveira', 'bielslvugo', 'tjoaoluiz', 'felipeangelim', 'pentiti', 'aponta', 'ganhaa', 'ippon', 'altcoins', 'arenabtg', 'abadesemijoiasoficial', 'maxbatista', 'invistanoseufuturo', 'merecedor', 'bênção', 'rex', 'decorativa', 'lar', 'traindo', '\\U0001faf6🏽☕️', 'aniversáriosãopaulo', 'oportunities', 'outliers', '🔝👏🏼👏🏼👏🏼', 'jogando', 'incomoda', 'brucamel', 'maxwellamarall', 'elysangela', 'leao', 'allannnn87', 'weniclincarlayo', '💙🤩', 'henderson', 'every', 'helper', 'great', 'restoring', 'hope', 'again', '💙\\U0001faf6🏽✨', 'amoooo', 'defeitos', 'amooooooo', 'deusiane', 'muuuito', 'perfeitoooo', 'sensacionaaaal', 'chiqueeeeee', 'sólidas', 'chegam', 'projetadas', '🤍🤍🤍', 'vallentinaferreiraa', 'aaaaaa', 'fabianajustus', 'aguilar', 'agnes', 'cabertuqui', 'jadyverissimo', 'mergner', 'mimica', 'casar', 'estrela', 'greater', 'joy', 'having', 'financial', 'freedom', 'why', 'keep', 'posting', 'about', 'changed', 'little', 'amount', 'arrasando', 'irreverência', 'mulher👏👏👏', 'demaaaais', '⚠️oportunidade', 'primária⚠️', 'rcvm', '160', 'aaa', 'governos', 'inovador', 'práticas', 'euromoney', 'poderosa', 'ogava', 'engajaaaa', 'perfeita❤️', '😍👏🏻👏🏻👏🏻', '👏🏾👏🏿👏🏿', '😍😍😍😍😍😍😍😍', 'aplaudir', 'obrigadaaaa', 'isajaremczuk', 'dudanegri', 'hahahhahahhahaha', 'carolinevaliante', 'cantos', 'marcelaabreu', 'talwanec', 'brunaastl', 'f', 'cassa', 'fernandaresende9', 'neusadpaula', 'recusada', 'monocrática', 'interposto', 'autos', 'mandado', 'impetrado', 'décima', 'câmara', 'cível', 'matérias', 'concedia', 'compensados', 'credores', 'cautelar', 'vara', 'requerendo', 'definisse', 'julgar', 'anulasse', 'provimento', 'parcial', 'decidido', 'renatapardim', 'alessandra', 'honorato', 'aguiar', 'sandrachayo', 'blogueira', 'deusianeeeee💘💘💘💘', 'tacianacouto', '😍😍😍😍musa', 'arrasani', '👏👏❤️❤️', '💓', 'dicaswanderlust', 'keilabaccarin', 'maravilhosaaa', 'mentalidades', 'mentalidade', 'inatas', 'melhoradas', 'torná', '📊📊📈📉', 'ahhh', '“chiqueza”', 'garota', 'ministério', 'assinaram', 'eucatex', 'fabricante', 'encerra', 'publicado', 'folha', 'carocaca', 'fernandamarcatombergamo', '👏👏👏👏👏👏🙌🙌', 'patrocinado', 'thaiszubek', 'cablankenburg', 'claubertinolacerdadossantos', 'conferência', 'limitadas', 'contratando', 'blogueiros', 'ficaria', 'vagos', 'preocupações', 'xubs', 'micaaa', '💙✨🙏🏼👏🏼👏🏼👏🏼👏🏼']\n"
          ]
        },
        {
          "output_type": "execute_result",
          "data": {
            "text/plain": [
              "array([[0., 0., 0., ..., 0., 0., 0.],\n",
              "       [0., 1., 2., ..., 0., 0., 0.],\n",
              "       [0., 0., 0., ..., 0., 0., 0.],\n",
              "       ...,\n",
              "       [0., 0., 0., ..., 0., 0., 0.],\n",
              "       [0., 0., 0., ..., 0., 1., 1.],\n",
              "       [0., 0., 0., ..., 0., 0., 0.]])"
            ]
          },
          "metadata": {},
          "execution_count": 99
        }
      ]
    },
    {
      "cell_type": "markdown",
      "source": [
        "### pipeline para o bag of words"
      ],
      "metadata": {
        "id": "3BHFLPIFAPbj"
      }
    },
    {
      "cell_type": "code",
      "source": [
        "def pipeline_bow(dados):\n",
        "dados_tratamento = dados\n",
        "dados = "
      ],
      "metadata": {
        "id": "74sPwqnuAS7r"
      },
      "execution_count": null,
      "outputs": []
    }
  ],
  "metadata": {
    "kernelspec": {
      "display_name": "Python 3",
      "language": "python",
      "name": "python3"
    },
    "language_info": {
      "codemirror_mode": {
        "name": "ipython",
        "version": 3
      },
      "file_extension": ".py",
      "mimetype": "text/x-python",
      "name": "python",
      "nbconvert_exporter": "python",
      "pygments_lexer": "ipython3",
      "version": "3.11.3"
    },
    "orig_nbformat": 4,
    "colab": {
      "provenance": [],
      "collapsed_sections": [
        "2TaHb7fRbbbJ",
        "WYJ4p_SbbbbM"
      ]
    }
  },
  "nbformat": 4,
  "nbformat_minor": 0
}