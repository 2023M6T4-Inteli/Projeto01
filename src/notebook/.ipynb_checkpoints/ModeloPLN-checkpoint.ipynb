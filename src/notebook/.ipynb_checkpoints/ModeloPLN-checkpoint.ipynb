{
 "cells": [
  {
   "attachments": {},
   "cell_type": "markdown",
   "metadata": {},
   "source": [
    "# Modelo de PLN de análise de sentimento."
   ]
  },
  {
   "attachments": {},
   "cell_type": "markdown",
   "metadata": {},
   "source": [
    "## Importação da base e criação da tabela."
   ]
  },
  {
   "attachments": {},
   "cell_type": "markdown",
   "metadata": {},
   "source": [
    "### Importação das bibliotecas"
   ]
  },
  {
   "cell_type": "code",
   "execution_count": null,
   "metadata": {},
   "outputs": [],
   "source": [
    "#importação das bibliotecas:\n",
    "import pandas as pd\n",
    "from sklearn.feature_extraction.text import TfidfVectorizer"
   ]
  },
  {
   "attachments": {},
   "cell_type": "markdown",
   "metadata": {},
   "source": [
    "### Criação da tabela "
   ]
  },
  {
   "cell_type": "code",
   "execution_count": null,
   "metadata": {},
   "outputs": [
    {
     "ename": "FileNotFoundError",
     "evalue": "[Errno 2] No such file or directory: 'base_inicial_BTG.csv'",
     "output_type": "error",
     "traceback": [
      "\u001b[1;31m---------------------------------------------------------------------------\u001b[0m",
      "\u001b[1;31mFileNotFoundError\u001b[0m                         Traceback (most recent call last)",
      "Input \u001b[1;32mIn [14]\u001b[0m, in \u001b[0;36m<cell line: 2>\u001b[1;34m()\u001b[0m\n\u001b[0;32m      1\u001b[0m \u001b[38;5;66;03m#importação da base de dados:\u001b[39;00m\n\u001b[1;32m----> 2\u001b[0m data \u001b[38;5;241m=\u001b[39m \u001b[43mpd\u001b[49m\u001b[38;5;241;43m.\u001b[39;49m\u001b[43mread_csv\u001b[49m\u001b[43m(\u001b[49m\u001b[38;5;124;43m'\u001b[39;49m\u001b[38;5;124;43mbase_inicial_BTG.csv\u001b[39;49m\u001b[38;5;124;43m'\u001b[39;49m\u001b[43m)\u001b[49m\n\u001b[0;32m      3\u001b[0m data\n",
      "File \u001b[1;32m~\\AppData\\Local\\Programs\\Python\\Python310\\lib\\site-packages\\pandas\\io\\parsers\\readers.py:912\u001b[0m, in \u001b[0;36mread_csv\u001b[1;34m(filepath_or_buffer, sep, delimiter, header, names, index_col, usecols, dtype, engine, converters, true_values, false_values, skipinitialspace, skiprows, skipfooter, nrows, na_values, keep_default_na, na_filter, verbose, skip_blank_lines, parse_dates, infer_datetime_format, keep_date_col, date_parser, date_format, dayfirst, cache_dates, iterator, chunksize, compression, thousands, decimal, lineterminator, quotechar, quoting, doublequote, escapechar, comment, encoding, encoding_errors, dialect, on_bad_lines, delim_whitespace, low_memory, memory_map, float_precision, storage_options, dtype_backend)\u001b[0m\n\u001b[0;32m    899\u001b[0m kwds_defaults \u001b[38;5;241m=\u001b[39m _refine_defaults_read(\n\u001b[0;32m    900\u001b[0m     dialect,\n\u001b[0;32m    901\u001b[0m     delimiter,\n\u001b[1;32m   (...)\u001b[0m\n\u001b[0;32m    908\u001b[0m     dtype_backend\u001b[38;5;241m=\u001b[39mdtype_backend,\n\u001b[0;32m    909\u001b[0m )\n\u001b[0;32m    910\u001b[0m kwds\u001b[38;5;241m.\u001b[39mupdate(kwds_defaults)\n\u001b[1;32m--> 912\u001b[0m \u001b[38;5;28;01mreturn\u001b[39;00m \u001b[43m_read\u001b[49m\u001b[43m(\u001b[49m\u001b[43mfilepath_or_buffer\u001b[49m\u001b[43m,\u001b[49m\u001b[43m \u001b[49m\u001b[43mkwds\u001b[49m\u001b[43m)\u001b[49m\n",
      "File \u001b[1;32m~\\AppData\\Local\\Programs\\Python\\Python310\\lib\\site-packages\\pandas\\io\\parsers\\readers.py:577\u001b[0m, in \u001b[0;36m_read\u001b[1;34m(filepath_or_buffer, kwds)\u001b[0m\n\u001b[0;32m    574\u001b[0m _validate_names(kwds\u001b[38;5;241m.\u001b[39mget(\u001b[38;5;124m\"\u001b[39m\u001b[38;5;124mnames\u001b[39m\u001b[38;5;124m\"\u001b[39m, \u001b[38;5;28;01mNone\u001b[39;00m))\n\u001b[0;32m    576\u001b[0m \u001b[38;5;66;03m# Create the parser.\u001b[39;00m\n\u001b[1;32m--> 577\u001b[0m parser \u001b[38;5;241m=\u001b[39m TextFileReader(filepath_or_buffer, \u001b[38;5;241m*\u001b[39m\u001b[38;5;241m*\u001b[39mkwds)\n\u001b[0;32m    579\u001b[0m \u001b[38;5;28;01mif\u001b[39;00m chunksize \u001b[38;5;129;01mor\u001b[39;00m iterator:\n\u001b[0;32m    580\u001b[0m     \u001b[38;5;28;01mreturn\u001b[39;00m parser\n",
      "File \u001b[1;32m~\\AppData\\Local\\Programs\\Python\\Python310\\lib\\site-packages\\pandas\\io\\parsers\\readers.py:1407\u001b[0m, in \u001b[0;36mTextFileReader.__init__\u001b[1;34m(self, f, engine, **kwds)\u001b[0m\n\u001b[0;32m   1404\u001b[0m     \u001b[38;5;28mself\u001b[39m\u001b[38;5;241m.\u001b[39moptions[\u001b[38;5;124m\"\u001b[39m\u001b[38;5;124mhas_index_names\u001b[39m\u001b[38;5;124m\"\u001b[39m] \u001b[38;5;241m=\u001b[39m kwds[\u001b[38;5;124m\"\u001b[39m\u001b[38;5;124mhas_index_names\u001b[39m\u001b[38;5;124m\"\u001b[39m]\n\u001b[0;32m   1406\u001b[0m \u001b[38;5;28mself\u001b[39m\u001b[38;5;241m.\u001b[39mhandles: IOHandles \u001b[38;5;241m|\u001b[39m \u001b[38;5;28;01mNone\u001b[39;00m \u001b[38;5;241m=\u001b[39m \u001b[38;5;28;01mNone\u001b[39;00m\n\u001b[1;32m-> 1407\u001b[0m \u001b[38;5;28mself\u001b[39m\u001b[38;5;241m.\u001b[39m_engine \u001b[38;5;241m=\u001b[39m \u001b[38;5;28;43mself\u001b[39;49m\u001b[38;5;241;43m.\u001b[39;49m\u001b[43m_make_engine\u001b[49m\u001b[43m(\u001b[49m\u001b[43mf\u001b[49m\u001b[43m,\u001b[49m\u001b[43m \u001b[49m\u001b[38;5;28;43mself\u001b[39;49m\u001b[38;5;241;43m.\u001b[39;49m\u001b[43mengine\u001b[49m\u001b[43m)\u001b[49m\n",
      "File \u001b[1;32m~\\AppData\\Local\\Programs\\Python\\Python310\\lib\\site-packages\\pandas\\io\\parsers\\readers.py:1661\u001b[0m, in \u001b[0;36mTextFileReader._make_engine\u001b[1;34m(self, f, engine)\u001b[0m\n\u001b[0;32m   1659\u001b[0m     \u001b[38;5;28;01mif\u001b[39;00m \u001b[38;5;124m\"\u001b[39m\u001b[38;5;124mb\u001b[39m\u001b[38;5;124m\"\u001b[39m \u001b[38;5;129;01mnot\u001b[39;00m \u001b[38;5;129;01min\u001b[39;00m mode:\n\u001b[0;32m   1660\u001b[0m         mode \u001b[38;5;241m+\u001b[39m\u001b[38;5;241m=\u001b[39m \u001b[38;5;124m\"\u001b[39m\u001b[38;5;124mb\u001b[39m\u001b[38;5;124m\"\u001b[39m\n\u001b[1;32m-> 1661\u001b[0m \u001b[38;5;28mself\u001b[39m\u001b[38;5;241m.\u001b[39mhandles \u001b[38;5;241m=\u001b[39m \u001b[43mget_handle\u001b[49m\u001b[43m(\u001b[49m\n\u001b[0;32m   1662\u001b[0m \u001b[43m    \u001b[49m\u001b[43mf\u001b[49m\u001b[43m,\u001b[49m\n\u001b[0;32m   1663\u001b[0m \u001b[43m    \u001b[49m\u001b[43mmode\u001b[49m\u001b[43m,\u001b[49m\n\u001b[0;32m   1664\u001b[0m \u001b[43m    \u001b[49m\u001b[43mencoding\u001b[49m\u001b[38;5;241;43m=\u001b[39;49m\u001b[38;5;28;43mself\u001b[39;49m\u001b[38;5;241;43m.\u001b[39;49m\u001b[43moptions\u001b[49m\u001b[38;5;241;43m.\u001b[39;49m\u001b[43mget\u001b[49m\u001b[43m(\u001b[49m\u001b[38;5;124;43m\"\u001b[39;49m\u001b[38;5;124;43mencoding\u001b[39;49m\u001b[38;5;124;43m\"\u001b[39;49m\u001b[43m,\u001b[49m\u001b[43m \u001b[49m\u001b[38;5;28;43;01mNone\u001b[39;49;00m\u001b[43m)\u001b[49m\u001b[43m,\u001b[49m\n\u001b[0;32m   1665\u001b[0m \u001b[43m    \u001b[49m\u001b[43mcompression\u001b[49m\u001b[38;5;241;43m=\u001b[39;49m\u001b[38;5;28;43mself\u001b[39;49m\u001b[38;5;241;43m.\u001b[39;49m\u001b[43moptions\u001b[49m\u001b[38;5;241;43m.\u001b[39;49m\u001b[43mget\u001b[49m\u001b[43m(\u001b[49m\u001b[38;5;124;43m\"\u001b[39;49m\u001b[38;5;124;43mcompression\u001b[39;49m\u001b[38;5;124;43m\"\u001b[39;49m\u001b[43m,\u001b[49m\u001b[43m \u001b[49m\u001b[38;5;28;43;01mNone\u001b[39;49;00m\u001b[43m)\u001b[49m\u001b[43m,\u001b[49m\n\u001b[0;32m   1666\u001b[0m \u001b[43m    \u001b[49m\u001b[43mmemory_map\u001b[49m\u001b[38;5;241;43m=\u001b[39;49m\u001b[38;5;28;43mself\u001b[39;49m\u001b[38;5;241;43m.\u001b[39;49m\u001b[43moptions\u001b[49m\u001b[38;5;241;43m.\u001b[39;49m\u001b[43mget\u001b[49m\u001b[43m(\u001b[49m\u001b[38;5;124;43m\"\u001b[39;49m\u001b[38;5;124;43mmemory_map\u001b[39;49m\u001b[38;5;124;43m\"\u001b[39;49m\u001b[43m,\u001b[49m\u001b[43m \u001b[49m\u001b[38;5;28;43;01mFalse\u001b[39;49;00m\u001b[43m)\u001b[49m\u001b[43m,\u001b[49m\n\u001b[0;32m   1667\u001b[0m \u001b[43m    \u001b[49m\u001b[43mis_text\u001b[49m\u001b[38;5;241;43m=\u001b[39;49m\u001b[43mis_text\u001b[49m\u001b[43m,\u001b[49m\n\u001b[0;32m   1668\u001b[0m \u001b[43m    \u001b[49m\u001b[43merrors\u001b[49m\u001b[38;5;241;43m=\u001b[39;49m\u001b[38;5;28;43mself\u001b[39;49m\u001b[38;5;241;43m.\u001b[39;49m\u001b[43moptions\u001b[49m\u001b[38;5;241;43m.\u001b[39;49m\u001b[43mget\u001b[49m\u001b[43m(\u001b[49m\u001b[38;5;124;43m\"\u001b[39;49m\u001b[38;5;124;43mencoding_errors\u001b[39;49m\u001b[38;5;124;43m\"\u001b[39;49m\u001b[43m,\u001b[49m\u001b[43m \u001b[49m\u001b[38;5;124;43m\"\u001b[39;49m\u001b[38;5;124;43mstrict\u001b[39;49m\u001b[38;5;124;43m\"\u001b[39;49m\u001b[43m)\u001b[49m\u001b[43m,\u001b[49m\n\u001b[0;32m   1669\u001b[0m \u001b[43m    \u001b[49m\u001b[43mstorage_options\u001b[49m\u001b[38;5;241;43m=\u001b[39;49m\u001b[38;5;28;43mself\u001b[39;49m\u001b[38;5;241;43m.\u001b[39;49m\u001b[43moptions\u001b[49m\u001b[38;5;241;43m.\u001b[39;49m\u001b[43mget\u001b[49m\u001b[43m(\u001b[49m\u001b[38;5;124;43m\"\u001b[39;49m\u001b[38;5;124;43mstorage_options\u001b[39;49m\u001b[38;5;124;43m\"\u001b[39;49m\u001b[43m,\u001b[49m\u001b[43m \u001b[49m\u001b[38;5;28;43;01mNone\u001b[39;49;00m\u001b[43m)\u001b[49m\u001b[43m,\u001b[49m\n\u001b[0;32m   1670\u001b[0m \u001b[43m\u001b[49m\u001b[43m)\u001b[49m\n\u001b[0;32m   1671\u001b[0m \u001b[38;5;28;01massert\u001b[39;00m \u001b[38;5;28mself\u001b[39m\u001b[38;5;241m.\u001b[39mhandles \u001b[38;5;129;01mis\u001b[39;00m \u001b[38;5;129;01mnot\u001b[39;00m \u001b[38;5;28;01mNone\u001b[39;00m\n\u001b[0;32m   1672\u001b[0m f \u001b[38;5;241m=\u001b[39m \u001b[38;5;28mself\u001b[39m\u001b[38;5;241m.\u001b[39mhandles\u001b[38;5;241m.\u001b[39mhandle\n",
      "File \u001b[1;32m~\\AppData\\Local\\Programs\\Python\\Python310\\lib\\site-packages\\pandas\\io\\common.py:859\u001b[0m, in \u001b[0;36mget_handle\u001b[1;34m(path_or_buf, mode, encoding, compression, memory_map, is_text, errors, storage_options)\u001b[0m\n\u001b[0;32m    854\u001b[0m \u001b[38;5;28;01melif\u001b[39;00m \u001b[38;5;28misinstance\u001b[39m(handle, \u001b[38;5;28mstr\u001b[39m):\n\u001b[0;32m    855\u001b[0m     \u001b[38;5;66;03m# Check whether the filename is to be opened in binary mode.\u001b[39;00m\n\u001b[0;32m    856\u001b[0m     \u001b[38;5;66;03m# Binary mode does not support 'encoding' and 'newline'.\u001b[39;00m\n\u001b[0;32m    857\u001b[0m     \u001b[38;5;28;01mif\u001b[39;00m ioargs\u001b[38;5;241m.\u001b[39mencoding \u001b[38;5;129;01mand\u001b[39;00m \u001b[38;5;124m\"\u001b[39m\u001b[38;5;124mb\u001b[39m\u001b[38;5;124m\"\u001b[39m \u001b[38;5;129;01mnot\u001b[39;00m \u001b[38;5;129;01min\u001b[39;00m ioargs\u001b[38;5;241m.\u001b[39mmode:\n\u001b[0;32m    858\u001b[0m         \u001b[38;5;66;03m# Encoding\u001b[39;00m\n\u001b[1;32m--> 859\u001b[0m         handle \u001b[38;5;241m=\u001b[39m \u001b[38;5;28;43mopen\u001b[39;49m\u001b[43m(\u001b[49m\n\u001b[0;32m    860\u001b[0m \u001b[43m            \u001b[49m\u001b[43mhandle\u001b[49m\u001b[43m,\u001b[49m\n\u001b[0;32m    861\u001b[0m \u001b[43m            \u001b[49m\u001b[43mioargs\u001b[49m\u001b[38;5;241;43m.\u001b[39;49m\u001b[43mmode\u001b[49m\u001b[43m,\u001b[49m\n\u001b[0;32m    862\u001b[0m \u001b[43m            \u001b[49m\u001b[43mencoding\u001b[49m\u001b[38;5;241;43m=\u001b[39;49m\u001b[43mioargs\u001b[49m\u001b[38;5;241;43m.\u001b[39;49m\u001b[43mencoding\u001b[49m\u001b[43m,\u001b[49m\n\u001b[0;32m    863\u001b[0m \u001b[43m            \u001b[49m\u001b[43merrors\u001b[49m\u001b[38;5;241;43m=\u001b[39;49m\u001b[43merrors\u001b[49m\u001b[43m,\u001b[49m\n\u001b[0;32m    864\u001b[0m \u001b[43m            \u001b[49m\u001b[43mnewline\u001b[49m\u001b[38;5;241;43m=\u001b[39;49m\u001b[38;5;124;43m\"\u001b[39;49m\u001b[38;5;124;43m\"\u001b[39;49m\u001b[43m,\u001b[49m\n\u001b[0;32m    865\u001b[0m \u001b[43m        \u001b[49m\u001b[43m)\u001b[49m\n\u001b[0;32m    866\u001b[0m     \u001b[38;5;28;01melse\u001b[39;00m:\n\u001b[0;32m    867\u001b[0m         \u001b[38;5;66;03m# Binary mode\u001b[39;00m\n\u001b[0;32m    868\u001b[0m         handle \u001b[38;5;241m=\u001b[39m \u001b[38;5;28mopen\u001b[39m(handle, ioargs\u001b[38;5;241m.\u001b[39mmode)\n",
      "\u001b[1;31mFileNotFoundError\u001b[0m: [Errno 2] No such file or directory: 'base_inicial_BTG.csv'"
     ]
    }
   ],
   "source": [
    "#importação da base de dados:\n",
    "data = pd.read_csv('base_inicial_BTG.csv')\n",
    "data\n",
    "\n"
   ]
  },
  {
   "cell_type": "code",
   "execution_count": null,
   "metadata": {},
   "outputs": [
    {
     "data": {
      "text/html": [
       "<div>\n",
       "<style scoped>\n",
       "    .dataframe tbody tr th:only-of-type {\n",
       "        vertical-align: middle;\n",
       "    }\n",
       "\n",
       "    .dataframe tbody tr th {\n",
       "        vertical-align: top;\n",
       "    }\n",
       "\n",
       "    .dataframe thead th {\n",
       "        text-align: right;\n",
       "    }\n",
       "</style>\n",
       "<table border=\"1\" class=\"dataframe\">\n",
       "  <thead>\n",
       "    <tr style=\"text-align: right;\">\n",
       "      <th></th>\n",
       "      <th>Column1</th>\n",
       "      <th>id</th>\n",
       "      <th>autor</th>\n",
       "      <th>texto</th>\n",
       "      <th>shortCode</th>\n",
       "      <th>tipoInteracao</th>\n",
       "      <th>tipoMidia</th>\n",
       "      <th>idInteracao</th>\n",
       "      <th>idPai</th>\n",
       "      <th>URL</th>\n",
       "      <th>dataPublicada</th>\n",
       "      <th>dataInsercao</th>\n",
       "      <th>anomalia</th>\n",
       "      <th>probabilidadeAnomalia</th>\n",
       "      <th>processado</th>\n",
       "      <th>contemHyperlink</th>\n",
       "    </tr>\n",
       "  </thead>\n",
       "  <tbody>\n",
       "    <tr>\n",
       "      <th>0</th>\n",
       "      <td>0</td>\n",
       "      <td>1</td>\n",
       "      <td>btgpactual</td>\n",
       "      <td>Olá, Ana Paula! Como vai?\\n\\nSentimos muito pe...</td>\n",
       "      <td>CkG9KXjpY2B</td>\n",
       "      <td>reply</td>\n",
       "      <td>REELS</td>\n",
       "      <td>17949834317264462</td>\n",
       "      <td>17988010663613927</td>\n",
       "      <td>https://www.instagram.com/p/CkG9KXjpY2B/c/1798...</td>\n",
       "      <td>2022-10-25 15:35:24</td>\n",
       "      <td>2022-10-25 21:52:54</td>\n",
       "      <td>-1.0</td>\n",
       "      <td>0.0</td>\n",
       "      <td>0.0</td>\n",
       "      <td>-1.0</td>\n",
       "    </tr>\n",
       "    <tr>\n",
       "      <th>1</th>\n",
       "      <td>1</td>\n",
       "      <td>2</td>\n",
       "      <td>btgpactual</td>\n",
       "      <td>Olá, Rosana! Tudo bem?\\n\\nPara te orientarmos ...</td>\n",
       "      <td>CkG9KXjpY2B</td>\n",
       "      <td>reply</td>\n",
       "      <td>REELS</td>\n",
       "      <td>17968362370910874</td>\n",
       "      <td>17955765434145877</td>\n",
       "      <td>https://www.instagram.com/p/CkG9KXjpY2B/c/1795...</td>\n",
       "      <td>2022-10-25 12:08:06</td>\n",
       "      <td>2022-10-25 21:52:54</td>\n",
       "      <td>-1.0</td>\n",
       "      <td>0.0</td>\n",
       "      <td>0.0</td>\n",
       "      <td>-1.0</td>\n",
       "    </tr>\n",
       "    <tr>\n",
       "      <th>2</th>\n",
       "      <td>2</td>\n",
       "      <td>3</td>\n",
       "      <td>btgpactual</td>\n",
       "      <td>@luizantoniojovinodossan 🚀 💙</td>\n",
       "      <td>CkG9KXjpY2B</td>\n",
       "      <td>reply</td>\n",
       "      <td>REELS</td>\n",
       "      <td>17968676113804345</td>\n",
       "      <td>17868806699792839</td>\n",
       "      <td>https://www.instagram.com/p/CkG9KXjpY2B/c/1786...</td>\n",
       "      <td>2022-10-25 08:16:15</td>\n",
       "      <td>2022-10-25 21:52:54</td>\n",
       "      <td>-1.0</td>\n",
       "      <td>0.0</td>\n",
       "      <td>0.0</td>\n",
       "      <td>-1.0</td>\n",
       "    </tr>\n",
       "    <tr>\n",
       "      <th>3</th>\n",
       "      <td>3</td>\n",
       "      <td>4</td>\n",
       "      <td>btgpactual</td>\n",
       "      <td>@ronialencar Boa tarde! Tudo bem?\\n\\nLamentamo...</td>\n",
       "      <td>CkG9KXjpY2B</td>\n",
       "      <td>reply</td>\n",
       "      <td>REELS</td>\n",
       "      <td>18045922528372377</td>\n",
       "      <td>18327741553009776</td>\n",
       "      <td>https://www.instagram.com/p/CkG9KXjpY2B/c/1832...</td>\n",
       "      <td>2022-10-25 09:39:32</td>\n",
       "      <td>2022-10-25 21:52:55</td>\n",
       "      <td>-1.0</td>\n",
       "      <td>0.0</td>\n",
       "      <td>0.0</td>\n",
       "      <td>-1.0</td>\n",
       "    </tr>\n",
       "    <tr>\n",
       "      <th>4</th>\n",
       "      <td>4</td>\n",
       "      <td>5</td>\n",
       "      <td></td>\n",
       "      <td>Oi, Nelson! Tudo bem?\\n\\nPossuímos soluções co...</td>\n",
       "      <td>CkG9KXjpY2B</td>\n",
       "      <td>reply</td>\n",
       "      <td>REELS</td>\n",
       "      <td>17864851241797946</td>\n",
       "      <td>18159475801266342</td>\n",
       "      <td>https://www.instagram.com/p/CkG9KXjpY2B/c/1815...</td>\n",
       "      <td>2022-10-25 09:38:38</td>\n",
       "      <td>2022-10-25 21:52:55</td>\n",
       "      <td>-1.0</td>\n",
       "      <td>0.0</td>\n",
       "      <td>0.0</td>\n",
       "      <td>-1.0</td>\n",
       "    </tr>\n",
       "    <tr>\n",
       "      <th>...</th>\n",
       "      <td>...</td>\n",
       "      <td>...</td>\n",
       "      <td>...</td>\n",
       "      <td>...</td>\n",
       "      <td>...</td>\n",
       "      <td>...</td>\n",
       "      <td>...</td>\n",
       "      <td>...</td>\n",
       "      <td>...</td>\n",
       "      <td>...</td>\n",
       "      <td>...</td>\n",
       "      <td>...</td>\n",
       "      <td>...</td>\n",
       "      <td>...</td>\n",
       "      <td>...</td>\n",
       "      <td>...</td>\n",
       "    </tr>\n",
       "    <tr>\n",
       "      <th>4544</th>\n",
       "      <td>4544</td>\n",
       "      <td>3028308</td>\n",
       "      <td>caioaugustofr</td>\n",
       "      <td>Estão contratando muitos blogueiros, mas eu fi...</td>\n",
       "      <td>Cn4bcg7LM4t</td>\n",
       "      <td>comment</td>\n",
       "      <td>REELS</td>\n",
       "      <td>17965800242039792</td>\n",
       "      <td>-</td>\n",
       "      <td>https://www.instagram.com/p/Cn4bcg7LM4t/c/1796...</td>\n",
       "      <td>2023-01-26 18:41:35</td>\n",
       "      <td>2023-01-26 19:01:29</td>\n",
       "      <td>-1.0</td>\n",
       "      <td>0.0</td>\n",
       "      <td>0.0</td>\n",
       "      <td>-1.0</td>\n",
       "    </tr>\n",
       "    <tr>\n",
       "      <th>4545</th>\n",
       "      <td>4545</td>\n",
       "      <td>3028501</td>\n",
       "      <td>btgpactual</td>\n",
       "      <td>@xubs._ 💙</td>\n",
       "      <td>Cn4bcg7LM4t</td>\n",
       "      <td>reply</td>\n",
       "      <td>REELS</td>\n",
       "      <td>18340331500020596</td>\n",
       "      <td>18014457793513467</td>\n",
       "      <td>https://www.instagram.com/p/Cn4bcg7LM4t/c/1801...</td>\n",
       "      <td>2023-01-26 18:44:27</td>\n",
       "      <td>2023-01-26 19:02:16</td>\n",
       "      <td>-1.0</td>\n",
       "      <td>0.0</td>\n",
       "      <td>0.0</td>\n",
       "      <td>-1.0</td>\n",
       "    </tr>\n",
       "    <tr>\n",
       "      <th>4546</th>\n",
       "      <td>4546</td>\n",
       "      <td>3028580</td>\n",
       "      <td>btgpactual</td>\n",
       "      <td>Agradecemos o seu feedback! 💙</td>\n",
       "      <td>CnzSr6ltH74</td>\n",
       "      <td>reply</td>\n",
       "      <td>REELS</td>\n",
       "      <td>18004216693521888</td>\n",
       "      <td>17957000375356996</td>\n",
       "      <td>https://www.instagram.com/p/CnzSr6ltH74/c/1795...</td>\n",
       "      <td>2023-01-26 18:45:13</td>\n",
       "      <td>2023-01-26 19:02:35</td>\n",
       "      <td>-1.0</td>\n",
       "      <td>0.0</td>\n",
       "      <td>0.0</td>\n",
       "      <td>-1.0</td>\n",
       "    </tr>\n",
       "    <tr>\n",
       "      <th>4547</th>\n",
       "      <td>4547</td>\n",
       "      <td>3029097</td>\n",
       "      <td>je_mascarenhas</td>\n",
       "      <td>Arrasa Micaaa 💙✨🙏🏼👏🏼👏🏼👏🏼👏🏼</td>\n",
       "      <td>Cn4bcg7LM4t</td>\n",
       "      <td>comment</td>\n",
       "      <td>REELS</td>\n",
       "      <td>17969884580114389</td>\n",
       "      <td>-</td>\n",
       "      <td>https://www.instagram.com/p/Cn4bcg7LM4t/c/1796...</td>\n",
       "      <td>2023-01-26 19:26:41</td>\n",
       "      <td>2023-01-26 19:31:45</td>\n",
       "      <td>-1.0</td>\n",
       "      <td>0.0</td>\n",
       "      <td>0.0</td>\n",
       "      <td>-1.0</td>\n",
       "    </tr>\n",
       "    <tr>\n",
       "      <th>4548</th>\n",
       "      <td>4548</td>\n",
       "      <td>3029149</td>\n",
       "      <td>linequer_</td>\n",
       "      <td>Excelência! 👏</td>\n",
       "      <td>CnzSr6ltH74</td>\n",
       "      <td>comment</td>\n",
       "      <td>REELS</td>\n",
       "      <td>17992357330670534</td>\n",
       "      <td>-</td>\n",
       "      <td>https://www.instagram.com/p/CnzSr6ltH74/c/1799...</td>\n",
       "      <td>2023-01-26 19:28:33</td>\n",
       "      <td>2023-01-26 19:31:58</td>\n",
       "      <td>-1.0</td>\n",
       "      <td>0.0</td>\n",
       "      <td>0.0</td>\n",
       "      <td>-1.0</td>\n",
       "    </tr>\n",
       "  </tbody>\n",
       "</table>\n",
       "<p>4549 rows × 16 columns</p>\n",
       "</div>"
      ],
      "text/plain": [
       "      Column1       id           autor   \n",
       "0           0        1      btgpactual  \\\n",
       "1           1        2      btgpactual   \n",
       "2           2        3      btgpactual   \n",
       "3           3        4      btgpactual   \n",
       "4           4        5                   \n",
       "...       ...      ...             ...   \n",
       "4544     4544  3028308   caioaugustofr   \n",
       "4545     4545  3028501      btgpactual   \n",
       "4546     4546  3028580      btgpactual   \n",
       "4547     4547  3029097  je_mascarenhas   \n",
       "4548     4548  3029149       linequer_   \n",
       "\n",
       "                                                  texto    shortCode   \n",
       "0     Olá, Ana Paula! Como vai?\\n\\nSentimos muito pe...  CkG9KXjpY2B  \\\n",
       "1     Olá, Rosana! Tudo bem?\\n\\nPara te orientarmos ...  CkG9KXjpY2B   \n",
       "2                          @luizantoniojovinodossan 🚀 💙  CkG9KXjpY2B   \n",
       "3     @ronialencar Boa tarde! Tudo bem?\\n\\nLamentamo...  CkG9KXjpY2B   \n",
       "4     Oi, Nelson! Tudo bem?\\n\\nPossuímos soluções co...  CkG9KXjpY2B   \n",
       "...                                                 ...          ...   \n",
       "4544  Estão contratando muitos blogueiros, mas eu fi...  Cn4bcg7LM4t   \n",
       "4545                                          @xubs._ 💙  Cn4bcg7LM4t   \n",
       "4546                      Agradecemos o seu feedback! 💙  CnzSr6ltH74   \n",
       "4547                         Arrasa Micaaa 💙✨🙏🏼👏🏼👏🏼👏🏼👏🏼  Cn4bcg7LM4t   \n",
       "4548                                      Excelência! 👏  CnzSr6ltH74   \n",
       "\n",
       "     tipoInteracao tipoMidia        idInteracao              idPai   \n",
       "0            reply     REELS  17949834317264462  17988010663613927  \\\n",
       "1            reply     REELS  17968362370910874  17955765434145877   \n",
       "2            reply     REELS  17968676113804345  17868806699792839   \n",
       "3            reply     REELS  18045922528372377  18327741553009776   \n",
       "4            reply     REELS  17864851241797946  18159475801266342   \n",
       "...            ...       ...                ...                ...   \n",
       "4544       comment     REELS  17965800242039792                  -   \n",
       "4545         reply     REELS  18340331500020596  18014457793513467   \n",
       "4546         reply     REELS  18004216693521888  17957000375356996   \n",
       "4547       comment     REELS  17969884580114389                  -   \n",
       "4548       comment     REELS  17992357330670534                  -   \n",
       "\n",
       "                                                    URL        dataPublicada   \n",
       "0     https://www.instagram.com/p/CkG9KXjpY2B/c/1798...  2022-10-25 15:35:24  \\\n",
       "1     https://www.instagram.com/p/CkG9KXjpY2B/c/1795...  2022-10-25 12:08:06   \n",
       "2     https://www.instagram.com/p/CkG9KXjpY2B/c/1786...  2022-10-25 08:16:15   \n",
       "3     https://www.instagram.com/p/CkG9KXjpY2B/c/1832...  2022-10-25 09:39:32   \n",
       "4     https://www.instagram.com/p/CkG9KXjpY2B/c/1815...  2022-10-25 09:38:38   \n",
       "...                                                 ...                  ...   \n",
       "4544  https://www.instagram.com/p/Cn4bcg7LM4t/c/1796...  2023-01-26 18:41:35   \n",
       "4545  https://www.instagram.com/p/Cn4bcg7LM4t/c/1801...  2023-01-26 18:44:27   \n",
       "4546  https://www.instagram.com/p/CnzSr6ltH74/c/1795...  2023-01-26 18:45:13   \n",
       "4547  https://www.instagram.com/p/Cn4bcg7LM4t/c/1796...  2023-01-26 19:26:41   \n",
       "4548  https://www.instagram.com/p/CnzSr6ltH74/c/1799...  2023-01-26 19:28:33   \n",
       "\n",
       "             dataInsercao  anomalia  probabilidadeAnomalia  processado   \n",
       "0     2022-10-25 21:52:54      -1.0                    0.0         0.0  \\\n",
       "1     2022-10-25 21:52:54      -1.0                    0.0         0.0   \n",
       "2     2022-10-25 21:52:54      -1.0                    0.0         0.0   \n",
       "3     2022-10-25 21:52:55      -1.0                    0.0         0.0   \n",
       "4     2022-10-25 21:52:55      -1.0                    0.0         0.0   \n",
       "...                   ...       ...                    ...         ...   \n",
       "4544  2023-01-26 19:01:29      -1.0                    0.0         0.0   \n",
       "4545  2023-01-26 19:02:16      -1.0                    0.0         0.0   \n",
       "4546  2023-01-26 19:02:35      -1.0                    0.0         0.0   \n",
       "4547  2023-01-26 19:31:45      -1.0                    0.0         0.0   \n",
       "4548  2023-01-26 19:31:58      -1.0                    0.0         0.0   \n",
       "\n",
       "      contemHyperlink  \n",
       "0                -1.0  \n",
       "1                -1.0  \n",
       "2                -1.0  \n",
       "3                -1.0  \n",
       "4                -1.0  \n",
       "...               ...  \n",
       "4544             -1.0  \n",
       "4545             -1.0  \n",
       "4546             -1.0  \n",
       "4547             -1.0  \n",
       "4548             -1.0  \n",
       "\n",
       "[4549 rows x 16 columns]"
      ]
     },
     "execution_count": 7,
     "metadata": {},
     "output_type": "execute_result"
    }
   ],
   "source": [
    "#visualização da base de dados:\n",
    "df"
   ]
  },
  {
   "cell_type": "code",
   "execution_count": null,
   "metadata": {},
   "outputs": [],
   "source": [
    "#remoção de todas as linhas que não possuem a coluna texto:\n",
    "df = df.dropna(subset=['texto'])"
   ]
  },
  {
   "attachments": {},
   "cell_type": "markdown",
   "metadata": {},
   "source": [
    "## Inicio do pré processamento dos dados"
   ]
  },
  {
   "attachments": {},
   "cell_type": "markdown",
   "metadata": {},
   "source": [
    "### Remoção dos acentos :"
   ]
  },
  {
   "attachments": {},
   "cell_type": "markdown",
   "metadata": {},
   "source": [
    "Explicação do tratamento:"
   ]
  },
  {
   "cell_type": "code",
   "execution_count": null,
   "metadata": {},
   "outputs": [],
   "source": [
    "#codigo"
   ]
  },
  {
   "attachments": {},
   "cell_type": "markdown",
   "metadata": {},
   "source": [
    "### Tratamento dos Emojis :"
   ]
  },
  {
   "attachments": {},
   "cell_type": "markdown",
   "metadata": {},
   "source": [
    "Explicação do tratamento:"
   ]
  },
  {
   "cell_type": "code",
   "execution_count": null,
   "metadata": {},
   "outputs": [],
   "source": []
  },
  {
   "attachments": {},
   "cell_type": "markdown",
   "metadata": {},
   "source": [
    "### Tratamento letras maiusculas:"
   ]
  },
  {
   "attachments": {},
   "cell_type": "markdown",
   "metadata": {},
   "source": [
    "explicação:"
   ]
  },
  {
   "cell_type": "code",
   "execution_count": null,
   "metadata": {},
   "outputs": [],
   "source": []
  },
  {
   "attachments": {},
   "cell_type": "markdown",
   "metadata": {},
   "source": [
    "### Tokenização:"
   ]
  },
  {
   "attachments": {},
   "cell_type": "markdown",
   "metadata": {},
   "source": [
    "Explicação do tratamento:"
   ]
  },
  {
   "cell_type": "code",
   "execution_count": null,
   "metadata": {},
   "outputs": [],
   "source": [
    "def tokenizacaoFrase(coluna):\n",
    "  comentarios = coluna.values\n",
    "  tokenFrase = []\n",
    "  for comentarios in comentarios:\n",
    "    tokenFrase.append(sent_tokenize(comentarios))\n",
    "  return tokenFrase"
   ]
  },
  {
   "cell_type": "code",
   "execution_count": null,
   "metadata": {},
   "outputs": [],
   "source": [
    "def tokenizacaoPalavra(comentarios):\n",
    "  tokenizer = Tokenizer()\n",
    "  tokenizer.fit_on_texts(comentarios)\n",
    "  return comentarios"
   ]
  },
  {
   "attachments": {},
   "cell_type": "markdown",
   "metadata": {},
   "source": [
    "### Stop words:"
   ]
  },
  {
   "attachments": {},
   "cell_type": "markdown",
   "metadata": {},
   "source": [
    "Explicação do tratamento:"
   ]
  },
  {
   "cell_type": "code",
   "execution_count": null,
   "metadata": {},
   "outputs": [],
   "source": []
  },
  {
   "attachments": {},
   "cell_type": "markdown",
   "metadata": {},
   "source": [
    "# Bag of words"
   ]
  },
  {
   "attachments": {},
   "cell_type": "markdown",
   "metadata": {},
   "source": [
    "### Escolha dos dados utilizados para o modelo e remoção de colunas irrelevantes"
   ]
  },
  {
   "cell_type": "code",
   "execution_count": null,
   "metadata": {},
   "outputs": [],
   "source": [
    "\n",
    "\n",
    "dfBow = df\n",
    "\n",
    "#apenas a coluna 'texto' sera utilizada para executar o modelo de bag of words\n",
    "dfBow = df['texto']\n",
    "\n",
    "dfBow\n",
    "\n",
    "\n"
   ]
  },
  {
   "attachments": {},
   "cell_type": "markdown",
   "metadata": {},
   "source": [
    "### Setup do modelo"
   ]
  },
  {
   "cell_type": "code",
   "execution_count": null,
   "metadata": {},
   "outputs": [],
   "source": [
    "\n",
    "#importação de bibliotecas\n",
    "#importação de keras, para execução do modelo e criação do dicionario\n",
    "from keras.preprocessing.text import Tokenizer"
   ]
  },
  {
   "cell_type": "code",
   "execution_count": null,
   "metadata": {},
   "outputs": [],
   "source": [
    "df = df.drop(df[df['autor']] == ['btgpactual'].index)"
   ]
  }
 ],
 "metadata": {
  "kernelspec": {
   "display_name": "Python 3 (ipykernel)",
   "language": "python",
   "name": "python3"
  },
  "language_info": {
   "codemirror_mode": {
    "name": "ipython",
    "version": 3
   },
   "file_extension": ".py",
   "mimetype": "text/x-python",
   "name": "python",
   "nbconvert_exporter": "python",
   "pygments_lexer": "ipython3",
   "version": "3.10.2"
  }
 },
 "nbformat": 4,
 "nbformat_minor": 2
}
