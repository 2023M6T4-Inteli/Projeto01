{
 "cells": [
  {
   "attachments": {},
   "cell_type": "markdown",
   "metadata": {},
   "source": [
    "# Processamento de linguagem natural e modelo de análise de sentimento."
   ]
  },
  {
   "attachments": {},
   "cell_type": "markdown",
   "metadata": {},
   "source": [
    "## Importação da base e criação da tabela."
   ]
  },
  {
   "attachments": {},
   "cell_type": "markdown",
   "metadata": {},
   "source": [
    "### Importação das bibliotecas"
   ]
  },
  {
   "cell_type": "code",
   "execution_count": 1,
   "metadata": {},
   "outputs": [],
   "source": [
    "#importação das bibliotecas:\n",
    "import pandas as pd"
   ]
  },
  {
   "attachments": {},
   "cell_type": "markdown",
   "metadata": {},
   "source": [
    "Bibliotecas para a remoção de acento"
   ]
  },
  {
   "cell_type": "code",
   "execution_count": 2,
   "metadata": {},
   "outputs": [
    {
     "name": "stdout",
     "output_type": "stream",
     "text": [
      "Requirement already satisfied: unidecode in c:\\users\\inteli\\appdata\\local\\packages\\pythonsoftwarefoundation.python.3.11_qbz5n2kfra8p0\\localcache\\local-packages\\python311\\site-packages (1.3.6)\n"
     ]
    },
    {
     "name": "stderr",
     "output_type": "stream",
     "text": [
      "\n",
      "[notice] A new release of pip is available: 23.1.1 -> 23.1.2\n",
      "[notice] To update, run: C:\\Users\\Inteli\\AppData\\Local\\Microsoft\\WindowsApps\\PythonSoftwareFoundation.Python.3.11_qbz5n2kfra8p0\\python.exe -m pip install --upgrade pip\n"
     ]
    }
   ],
   "source": [
    "# instalação das bibliotecas\n",
    "!pip install unidecode"
   ]
  },
  {
   "cell_type": "code",
   "execution_count": 3,
   "metadata": {},
   "outputs": [],
   "source": [
    "#importação das bibliotecas:\n",
    "from unidecode import unidecode"
   ]
  },
  {
   "attachments": {},
   "cell_type": "markdown",
   "metadata": {},
   "source": [
    "### Criação da tabela "
   ]
  },
  {
   "cell_type": "code",
   "execution_count": 45,
   "metadata": {},
   "outputs": [],
   "source": [
    "#importação da base de dados:\n",
    "df = pd.read_csv('C:/Users/Inteli/Downloads/BaseInicialSheet1.csv')"
   ]
  },
  {
   "cell_type": "code",
   "execution_count": 46,
   "metadata": {},
   "outputs": [
    {
     "data": {
      "text/html": [
       "<div>\n",
       "<style scoped>\n",
       "    .dataframe tbody tr th:only-of-type {\n",
       "        vertical-align: middle;\n",
       "    }\n",
       "\n",
       "    .dataframe tbody tr th {\n",
       "        vertical-align: top;\n",
       "    }\n",
       "\n",
       "    .dataframe thead th {\n",
       "        text-align: right;\n",
       "    }\n",
       "</style>\n",
       "<table border=\"1\" class=\"dataframe\">\n",
       "  <thead>\n",
       "    <tr style=\"text-align: right;\">\n",
       "      <th></th>\n",
       "      <th>Column1</th>\n",
       "      <th>id</th>\n",
       "      <th>autor</th>\n",
       "      <th>texto</th>\n",
       "      <th>shortCode</th>\n",
       "      <th>tipoInteracao</th>\n",
       "      <th>tipoMidia</th>\n",
       "      <th>idInteracao</th>\n",
       "      <th>idPai</th>\n",
       "      <th>URL</th>\n",
       "      <th>dataPublicada</th>\n",
       "      <th>dataInsercao</th>\n",
       "      <th>anomalia</th>\n",
       "      <th>probabilidadeAnomalia</th>\n",
       "      <th>processado</th>\n",
       "      <th>contemHyperlink</th>\n",
       "    </tr>\n",
       "  </thead>\n",
       "  <tbody>\n",
       "    <tr>\n",
       "      <th>0</th>\n",
       "      <td>0</td>\n",
       "      <td>1</td>\n",
       "      <td>btgpactual</td>\n",
       "      <td>Olá, Ana Paula! Como vai?\\n\\nSentimos muito pe...</td>\n",
       "      <td>CkG9KXjpY2B</td>\n",
       "      <td>reply</td>\n",
       "      <td>REELS</td>\n",
       "      <td>17949834317264462</td>\n",
       "      <td>17988010663613927</td>\n",
       "      <td>https://www.instagram.com/p/CkG9KXjpY2B/c/1798...</td>\n",
       "      <td>2022-10-25 15:35:24</td>\n",
       "      <td>2022-10-25 21:52:54</td>\n",
       "      <td>-1.0</td>\n",
       "      <td>0.0</td>\n",
       "      <td>0.0</td>\n",
       "      <td>-1.0</td>\n",
       "    </tr>\n",
       "    <tr>\n",
       "      <th>1</th>\n",
       "      <td>1</td>\n",
       "      <td>2</td>\n",
       "      <td>btgpactual</td>\n",
       "      <td>Olá, Rosana! Tudo bem?\\n\\nPara te orientarmos ...</td>\n",
       "      <td>CkG9KXjpY2B</td>\n",
       "      <td>reply</td>\n",
       "      <td>REELS</td>\n",
       "      <td>17968362370910874</td>\n",
       "      <td>17955765434145877</td>\n",
       "      <td>https://www.instagram.com/p/CkG9KXjpY2B/c/1795...</td>\n",
       "      <td>2022-10-25 12:08:06</td>\n",
       "      <td>2022-10-25 21:52:54</td>\n",
       "      <td>-1.0</td>\n",
       "      <td>0.0</td>\n",
       "      <td>0.0</td>\n",
       "      <td>-1.0</td>\n",
       "    </tr>\n",
       "    <tr>\n",
       "      <th>2</th>\n",
       "      <td>2</td>\n",
       "      <td>3</td>\n",
       "      <td>btgpactual</td>\n",
       "      <td>@luizantoniojovinodossan 🚀 💙</td>\n",
       "      <td>CkG9KXjpY2B</td>\n",
       "      <td>reply</td>\n",
       "      <td>REELS</td>\n",
       "      <td>17968676113804345</td>\n",
       "      <td>17868806699792839</td>\n",
       "      <td>https://www.instagram.com/p/CkG9KXjpY2B/c/1786...</td>\n",
       "      <td>2022-10-25 08:16:15</td>\n",
       "      <td>2022-10-25 21:52:54</td>\n",
       "      <td>-1.0</td>\n",
       "      <td>0.0</td>\n",
       "      <td>0.0</td>\n",
       "      <td>-1.0</td>\n",
       "    </tr>\n",
       "    <tr>\n",
       "      <th>3</th>\n",
       "      <td>3</td>\n",
       "      <td>4</td>\n",
       "      <td>btgpactual</td>\n",
       "      <td>@ronialencar Boa tarde! Tudo bem?\\n\\nLamentamo...</td>\n",
       "      <td>CkG9KXjpY2B</td>\n",
       "      <td>reply</td>\n",
       "      <td>REELS</td>\n",
       "      <td>18045922528372377</td>\n",
       "      <td>18327741553009776</td>\n",
       "      <td>https://www.instagram.com/p/CkG9KXjpY2B/c/1832...</td>\n",
       "      <td>2022-10-25 09:39:32</td>\n",
       "      <td>2022-10-25 21:52:55</td>\n",
       "      <td>-1.0</td>\n",
       "      <td>0.0</td>\n",
       "      <td>0.0</td>\n",
       "      <td>-1.0</td>\n",
       "    </tr>\n",
       "    <tr>\n",
       "      <th>4</th>\n",
       "      <td>4</td>\n",
       "      <td>5</td>\n",
       "      <td>btgpactual</td>\n",
       "      <td>Oi, Nelson! Tudo bem?\\n\\nPossuímos soluções co...</td>\n",
       "      <td>CkG9KXjpY2B</td>\n",
       "      <td>reply</td>\n",
       "      <td>REELS</td>\n",
       "      <td>17864851241797946</td>\n",
       "      <td>18159475801266342</td>\n",
       "      <td>https://www.instagram.com/p/CkG9KXjpY2B/c/1815...</td>\n",
       "      <td>2022-10-25 09:38:38</td>\n",
       "      <td>2022-10-25 21:52:55</td>\n",
       "      <td>-1.0</td>\n",
       "      <td>0.0</td>\n",
       "      <td>0.0</td>\n",
       "      <td>-1.0</td>\n",
       "    </tr>\n",
       "    <tr>\n",
       "      <th>...</th>\n",
       "      <td>...</td>\n",
       "      <td>...</td>\n",
       "      <td>...</td>\n",
       "      <td>...</td>\n",
       "      <td>...</td>\n",
       "      <td>...</td>\n",
       "      <td>...</td>\n",
       "      <td>...</td>\n",
       "      <td>...</td>\n",
       "      <td>...</td>\n",
       "      <td>...</td>\n",
       "      <td>...</td>\n",
       "      <td>...</td>\n",
       "      <td>...</td>\n",
       "      <td>...</td>\n",
       "      <td>...</td>\n",
       "    </tr>\n",
       "    <tr>\n",
       "      <th>4544</th>\n",
       "      <td>4544</td>\n",
       "      <td>3028308</td>\n",
       "      <td>caioaugustofr</td>\n",
       "      <td>Estão contratando muitos blogueiros, mas eu fi...</td>\n",
       "      <td>Cn4bcg7LM4t</td>\n",
       "      <td>comment</td>\n",
       "      <td>REELS</td>\n",
       "      <td>17965800242039792</td>\n",
       "      <td>-</td>\n",
       "      <td>https://www.instagram.com/p/Cn4bcg7LM4t/c/1796...</td>\n",
       "      <td>2023-01-26 18:41:35</td>\n",
       "      <td>2023-01-26 19:01:29</td>\n",
       "      <td>-1.0</td>\n",
       "      <td>0.0</td>\n",
       "      <td>0.0</td>\n",
       "      <td>-1.0</td>\n",
       "    </tr>\n",
       "    <tr>\n",
       "      <th>4545</th>\n",
       "      <td>4545</td>\n",
       "      <td>3028501</td>\n",
       "      <td>btgpactual</td>\n",
       "      <td>@xubs._ 💙</td>\n",
       "      <td>Cn4bcg7LM4t</td>\n",
       "      <td>reply</td>\n",
       "      <td>REELS</td>\n",
       "      <td>18340331500020596</td>\n",
       "      <td>18014457793513467</td>\n",
       "      <td>https://www.instagram.com/p/Cn4bcg7LM4t/c/1801...</td>\n",
       "      <td>2023-01-26 18:44:27</td>\n",
       "      <td>2023-01-26 19:02:16</td>\n",
       "      <td>-1.0</td>\n",
       "      <td>0.0</td>\n",
       "      <td>0.0</td>\n",
       "      <td>-1.0</td>\n",
       "    </tr>\n",
       "    <tr>\n",
       "      <th>4546</th>\n",
       "      <td>4546</td>\n",
       "      <td>3028580</td>\n",
       "      <td>btgpactual</td>\n",
       "      <td>Agradecemos o seu feedback! 💙</td>\n",
       "      <td>CnzSr6ltH74</td>\n",
       "      <td>reply</td>\n",
       "      <td>REELS</td>\n",
       "      <td>18004216693521888</td>\n",
       "      <td>17957000375356996</td>\n",
       "      <td>https://www.instagram.com/p/CnzSr6ltH74/c/1795...</td>\n",
       "      <td>2023-01-26 18:45:13</td>\n",
       "      <td>2023-01-26 19:02:35</td>\n",
       "      <td>-1.0</td>\n",
       "      <td>0.0</td>\n",
       "      <td>0.0</td>\n",
       "      <td>-1.0</td>\n",
       "    </tr>\n",
       "    <tr>\n",
       "      <th>4547</th>\n",
       "      <td>4547</td>\n",
       "      <td>3029097</td>\n",
       "      <td>je_mascarenhas</td>\n",
       "      <td>Arrasa Micaaa 💙✨🙏🏼👏🏼👏🏼👏🏼👏🏼</td>\n",
       "      <td>Cn4bcg7LM4t</td>\n",
       "      <td>comment</td>\n",
       "      <td>REELS</td>\n",
       "      <td>17969884580114389</td>\n",
       "      <td>-</td>\n",
       "      <td>https://www.instagram.com/p/Cn4bcg7LM4t/c/1796...</td>\n",
       "      <td>2023-01-26 19:26:41</td>\n",
       "      <td>2023-01-26 19:31:45</td>\n",
       "      <td>-1.0</td>\n",
       "      <td>0.0</td>\n",
       "      <td>0.0</td>\n",
       "      <td>-1.0</td>\n",
       "    </tr>\n",
       "    <tr>\n",
       "      <th>4548</th>\n",
       "      <td>4548</td>\n",
       "      <td>3029149</td>\n",
       "      <td>linequer_</td>\n",
       "      <td>Excelência! 👏</td>\n",
       "      <td>CnzSr6ltH74</td>\n",
       "      <td>comment</td>\n",
       "      <td>REELS</td>\n",
       "      <td>17992357330670534</td>\n",
       "      <td>-</td>\n",
       "      <td>https://www.instagram.com/p/CnzSr6ltH74/c/1799...</td>\n",
       "      <td>2023-01-26 19:28:33</td>\n",
       "      <td>2023-01-26 19:31:58</td>\n",
       "      <td>-1.0</td>\n",
       "      <td>0.0</td>\n",
       "      <td>0.0</td>\n",
       "      <td>-1.0</td>\n",
       "    </tr>\n",
       "  </tbody>\n",
       "</table>\n",
       "<p>4549 rows × 16 columns</p>\n",
       "</div>"
      ],
      "text/plain": [
       "      Column1       id           autor   \n",
       "0           0        1      btgpactual  \\\n",
       "1           1        2      btgpactual   \n",
       "2           2        3      btgpactual   \n",
       "3           3        4      btgpactual   \n",
       "4           4        5      btgpactual   \n",
       "...       ...      ...             ...   \n",
       "4544     4544  3028308   caioaugustofr   \n",
       "4545     4545  3028501      btgpactual   \n",
       "4546     4546  3028580      btgpactual   \n",
       "4547     4547  3029097  je_mascarenhas   \n",
       "4548     4548  3029149       linequer_   \n",
       "\n",
       "                                                  texto    shortCode   \n",
       "0     Olá, Ana Paula! Como vai?\\n\\nSentimos muito pe...  CkG9KXjpY2B  \\\n",
       "1     Olá, Rosana! Tudo bem?\\n\\nPara te orientarmos ...  CkG9KXjpY2B   \n",
       "2                          @luizantoniojovinodossan 🚀 💙  CkG9KXjpY2B   \n",
       "3     @ronialencar Boa tarde! Tudo bem?\\n\\nLamentamo...  CkG9KXjpY2B   \n",
       "4     Oi, Nelson! Tudo bem?\\n\\nPossuímos soluções co...  CkG9KXjpY2B   \n",
       "...                                                 ...          ...   \n",
       "4544  Estão contratando muitos blogueiros, mas eu fi...  Cn4bcg7LM4t   \n",
       "4545                                          @xubs._ 💙  Cn4bcg7LM4t   \n",
       "4546                      Agradecemos o seu feedback! 💙  CnzSr6ltH74   \n",
       "4547                         Arrasa Micaaa 💙✨🙏🏼👏🏼👏🏼👏🏼👏🏼  Cn4bcg7LM4t   \n",
       "4548                                      Excelência! 👏  CnzSr6ltH74   \n",
       "\n",
       "     tipoInteracao tipoMidia        idInteracao              idPai   \n",
       "0            reply     REELS  17949834317264462  17988010663613927  \\\n",
       "1            reply     REELS  17968362370910874  17955765434145877   \n",
       "2            reply     REELS  17968676113804345  17868806699792839   \n",
       "3            reply     REELS  18045922528372377  18327741553009776   \n",
       "4            reply     REELS  17864851241797946  18159475801266342   \n",
       "...            ...       ...                ...                ...   \n",
       "4544       comment     REELS  17965800242039792                  -   \n",
       "4545         reply     REELS  18340331500020596  18014457793513467   \n",
       "4546         reply     REELS  18004216693521888  17957000375356996   \n",
       "4547       comment     REELS  17969884580114389                  -   \n",
       "4548       comment     REELS  17992357330670534                  -   \n",
       "\n",
       "                                                    URL        dataPublicada   \n",
       "0     https://www.instagram.com/p/CkG9KXjpY2B/c/1798...  2022-10-25 15:35:24  \\\n",
       "1     https://www.instagram.com/p/CkG9KXjpY2B/c/1795...  2022-10-25 12:08:06   \n",
       "2     https://www.instagram.com/p/CkG9KXjpY2B/c/1786...  2022-10-25 08:16:15   \n",
       "3     https://www.instagram.com/p/CkG9KXjpY2B/c/1832...  2022-10-25 09:39:32   \n",
       "4     https://www.instagram.com/p/CkG9KXjpY2B/c/1815...  2022-10-25 09:38:38   \n",
       "...                                                 ...                  ...   \n",
       "4544  https://www.instagram.com/p/Cn4bcg7LM4t/c/1796...  2023-01-26 18:41:35   \n",
       "4545  https://www.instagram.com/p/Cn4bcg7LM4t/c/1801...  2023-01-26 18:44:27   \n",
       "4546  https://www.instagram.com/p/CnzSr6ltH74/c/1795...  2023-01-26 18:45:13   \n",
       "4547  https://www.instagram.com/p/Cn4bcg7LM4t/c/1796...  2023-01-26 19:26:41   \n",
       "4548  https://www.instagram.com/p/CnzSr6ltH74/c/1799...  2023-01-26 19:28:33   \n",
       "\n",
       "             dataInsercao  anomalia  probabilidadeAnomalia  processado   \n",
       "0     2022-10-25 21:52:54      -1.0                    0.0         0.0  \\\n",
       "1     2022-10-25 21:52:54      -1.0                    0.0         0.0   \n",
       "2     2022-10-25 21:52:54      -1.0                    0.0         0.0   \n",
       "3     2022-10-25 21:52:55      -1.0                    0.0         0.0   \n",
       "4     2022-10-25 21:52:55      -1.0                    0.0         0.0   \n",
       "...                   ...       ...                    ...         ...   \n",
       "4544  2023-01-26 19:01:29      -1.0                    0.0         0.0   \n",
       "4545  2023-01-26 19:02:16      -1.0                    0.0         0.0   \n",
       "4546  2023-01-26 19:02:35      -1.0                    0.0         0.0   \n",
       "4547  2023-01-26 19:31:45      -1.0                    0.0         0.0   \n",
       "4548  2023-01-26 19:31:58      -1.0                    0.0         0.0   \n",
       "\n",
       "      contemHyperlink  \n",
       "0                -1.0  \n",
       "1                -1.0  \n",
       "2                -1.0  \n",
       "3                -1.0  \n",
       "4                -1.0  \n",
       "...               ...  \n",
       "4544             -1.0  \n",
       "4545             -1.0  \n",
       "4546             -1.0  \n",
       "4547             -1.0  \n",
       "4548             -1.0  \n",
       "\n",
       "[4549 rows x 16 columns]"
      ]
     },
     "execution_count": 46,
     "metadata": {},
     "output_type": "execute_result"
    }
   ],
   "source": [
    "#visualização da base de dados:\n",
    "df"
   ]
  },
  {
   "cell_type": "code",
   "execution_count": 6,
   "metadata": {},
   "outputs": [],
   "source": [
    "#remoção de todas as linhas que não possuem a coluna texto:\n",
    "df = df.dropna(subset=['texto'])"
   ]
  },
  {
   "attachments": {},
   "cell_type": "markdown",
   "metadata": {},
   "source": [
    "## Inicio do pré processamento dos dados"
   ]
  },
  {
   "attachments": {},
   "cell_type": "markdown",
   "metadata": {},
   "source": [
    "### Remoção dos acentos :"
   ]
  },
  {
   "attachments": {},
   "cell_type": "markdown",
   "metadata": {},
   "source": [
    "Para garantir que um texto seja processado de forma consistente, é importante realizar a normalização dos seus componentes. Nesse sentido, a remoção de acentos é uma etapa fundamental, já que isso ajuda o algoritmo a compreender com mais precisão o que o texto está dizendo. Além disso, a ausência de acentos reduz o risco de que o algoritmo interprete de maneira diferente duas palavras idênticas, mas que tenham sido acentuadas de formas distintas ou incorretas. Em resumo, a remoção de acentos é uma prática essencial no pré-processamento de textos para aprimorar a qualidade e a eficácia da análise de dados em linguagem natural."
   ]
  },
  {
   "cell_type": "code",
   "execution_count": 7,
   "metadata": {},
   "outputs": [],
   "source": [
    "#Código para remoção dos acentos\n",
    "def removeAcento(coluna):\n",
    "    coluna = coluna.apply(lambda x: unidecode(str(x)))\n",
    "    return coluna"
   ]
  },
  {
   "cell_type": "code",
   "execution_count": 8,
   "metadata": {},
   "outputs": [
    {
     "data": {
      "text/plain": [
       "0       Ola, Ana Paula! Como vai?\\n\\nSentimos muito pe...\n",
       "1       Ola, Rosana! Tudo bem?\\n\\nPara te orientarmos ...\n",
       "2                              @luizantoniojovinodossan  \n",
       "3       @ronialencar Boa tarde! Tudo bem?\\n\\nLamentamo...\n",
       "4       Oi, Nelson! Tudo bem?\\n\\nPossuimos solucoes co...\n",
       "                              ...                        \n",
       "4544    Estao contratando muitos blogueiros, mas eu fi...\n",
       "4545                                             @xubs._ \n",
       "4546                         Agradecemos o seu feedback! \n",
       "4547                                       Arrasa Micaaa \n",
       "4548                                         Excelencia! \n",
       "Name: texto, Length: 4449, dtype: object"
      ]
     },
     "execution_count": 8,
     "metadata": {},
     "output_type": "execute_result"
    }
   ],
   "source": [
    "# Teste isolado da função remoção de acentos\n",
    "removeAcento(df['texto'])"
   ]
  },
  {
   "attachments": {},
   "cell_type": "markdown",
   "metadata": {},
   "source": [
    "### Tratamento dos Emojis :"
   ]
  },
  {
   "attachments": {},
   "cell_type": "markdown",
   "metadata": {},
   "source": [
    "Explicação do tratamento:"
   ]
  },
  {
   "cell_type": "code",
   "execution_count": null,
   "metadata": {},
   "outputs": [],
   "source": []
  },
  {
   "attachments": {},
   "cell_type": "markdown",
   "metadata": {},
   "source": [
    "### Tratamento letras maiusculas:"
   ]
  },
  {
   "attachments": {},
   "cell_type": "markdown",
   "metadata": {},
   "source": [
    "explicação:"
   ]
  },
  {
   "cell_type": "code",
   "execution_count": null,
   "metadata": {},
   "outputs": [],
   "source": []
  },
  {
   "attachments": {},
   "cell_type": "markdown",
   "metadata": {},
   "source": [
    "### Tokenização:"
   ]
  },
  {
   "attachments": {},
   "cell_type": "markdown",
   "metadata": {},
   "source": [
    "Explicação do tratamento:"
   ]
  },
  {
   "cell_type": "code",
   "execution_count": null,
   "metadata": {},
   "outputs": [],
   "source": []
  },
  {
   "attachments": {},
   "cell_type": "markdown",
   "metadata": {},
   "source": [
    "### Stop words:"
   ]
  },
  {
   "attachments": {},
   "cell_type": "markdown",
   "metadata": {},
   "source": [
    "Explicação do tratamento:"
   ]
  },
  {
   "cell_type": "code",
   "execution_count": null,
   "metadata": {},
   "outputs": [],
   "source": []
  },
  {
   "attachments": {},
   "cell_type": "markdown",
   "metadata": {},
   "source": [
    "### Tratamento de abreviações"
   ]
  },
  {
   "attachments": {},
   "cell_type": "markdown",
   "metadata": {},
   "source": [
    "O tratamento de abreviações é importante porque garante que o algoritmo de processamento de linguagem natural interprete corretamente o significado do texto. Ao substituir abreviações por suas formas completas, o texto se torna mais legível e compreensível para o algoritmo que realizará o processamento."
   ]
  },
  {
   "cell_type": "code",
   "execution_count": 47,
   "metadata": {},
   "outputs": [],
   "source": [
    "# bibliotecas utilizadas para o tratamento de abreviações\n",
    "import re"
   ]
  },
  {
   "cell_type": "code",
   "execution_count": 61,
   "metadata": {},
   "outputs": [],
   "source": [
    "   \n",
    "def tratamentoAbreviacoes(coluna):    \n",
    "    coluna = coluna.astype(str)\n",
    "    coluna.str.lower()\n",
    "# Dicionário com as abreviações e suas expansões\n",
    "    abreviacoes = {\n",
    "        r'\\bvc\\b': 'você',\n",
    "        r'\\btbm\\b': 'também',\n",
    "        r'\\bpq\\b': 'porque',\n",
    "        r'\\bmt\\b': 'muito',\n",
    "        r'\\bmto\\b':'muito',\n",
    "        r'\\bblz\\b': 'beleza',\n",
    "        r'\\bjah\\b': 'já',\n",
    "        r'\\bbj\\b': 'beijo',\n",
    "        r'\\bflw\\b': 'falou',\n",
    "        r'\\bvlw\\b': 'valeu',\n",
    "        r'\\bkrl\\b': 'caralho',\n",
    "        r'\\bqnd\\b': 'quando',\n",
    "        r'\\bfds\\b': 'fim de semana',\n",
    "        r'\\bqq\\b': 'qualquer',\n",
    "        r'\\bmsg\\b': 'mensagem',\n",
    "        r'\\bp\\b': 'para',\n",
    "        r'\\bpqp\\b': 'puta que pariu',\n",
    "        r'\\bvlh\\b': 'velho',\n",
    "        r'\\bnss\\b': 'nossa',\n",
    "        r'\\bngm\\b': 'ninguém',\n",
    "        r'\\bqm\\b': 'quem',\n",
    "        r'\\bobs\\b': 'observação',\n",
    "        r'\\bqt\\b': 'quanto',\n",
    "        r'\\btbm ñ\\b': 'também não',\n",
    "        r'\\bpf\\b': 'por favor',\n",
    "        r'\\bpdc\\b': 'pode crer',\n",
    "        r'\\btalkei\\b': 'ok',\n",
    "        r'\\bd+\\b': 'demais',\n",
    "        r'\\bdms\\b': 'demais',\n",
    "        r'\\bsqn\\b': 'só que não',\n",
    "        r'\\bmsm\\b': 'mesmo',\n",
    "        r'\\bn/ao\\b': 'não',\n",
    "        r'\\bn/\\b': 'não',\n",
    "        r'\\bblz\\b': 'beleza',\n",
    "        r'\\bq\\b': 'que',\n",
    "        r'\\btd\\b': 'tudo',\n",
    "        r'\\bpfvr\\b': 'por favor',\n",
    "        r'\\bgnt\\b': 'gente',\n",
    "        r'\\bto\\b': 'estou',\n",
    "        r'\\bvcs\\b': 'vocês',\n",
    "        r'\\bn/oa\\b': 'não',\n",
    "        r'\\bsla\\b': 'sei lá',\n",
    "        r'\\bflws\\b': 'falou',\n",
    "        r'\\bbjos\\b': 'beijos',\n",
    "        r'\\bkd\\b': 'cadê',\n",
    "        r'\\blgl\\b': 'legal',\n",
    "        r'\\bnum\\b': 'número',\n",
    "        r'\\bjá q\\b': 'já que',\n",
    "        r'\\bmano\\b': 'irmão',\n",
    "        r'\\bpke\\b': 'porque',\n",
    "        r'\\bpr\\b': 'para',\n",
    "        r'\\btpm\\b': 'tensão pré-menstrual',\n",
    "        r'\\btá\\b': 'está',\n",
    "        r'\\bqmto\\b': 'muito',\n",
    "        r'\\bñ\\b': 'não',\n",
    "        r'\\bvamu\\b': 'vamos',\n",
    "        r'\\b/\\b': '',\n",
    "    }\n",
    "\n",
    "    # Aplica a substituição de cada abreviação no dataframe\n",
    "    for abreviacao, expansao in abreviacoes.items():\n",
    "        coluna= coluna.apply(lambda x: re.sub(abreviacao, expansao, x, flags=re.IGNORECASE))\n",
    "    \n",
    "    return coluna"
   ]
  },
  {
   "attachments": {},
   "cell_type": "markdown",
   "metadata": {},
   "source": [
    "Teste isolado:"
   ]
  },
  {
   "cell_type": "code",
   "execution_count": 66,
   "metadata": {},
   "outputs": [
    {
     "data": {
      "text/plain": [
       "0       Ola, Ana Paula! Como vai?\\n\\nSentimos muito pe...\n",
       "1       Ola, Rosana! Tudo bem?\\n\\nPara te orientarmos ...\n",
       "2                              @luizantoniojovinodossan  \n",
       "3       @ronialencar Boa tarde! Tudo bem?\\n\\nLamentamo...\n",
       "4       Oi, Nelson! Tudo bem?\\n\\nPossuimos solucoes co...\n",
       "                              ...                        \n",
       "4544    Estao contratando muitos blogueiros, mas eu fi...\n",
       "4545                                             @xubs._ \n",
       "4546                         Agradecemos o seu feedback! \n",
       "4547                                       Arrasa Micaaa \n",
       "4548                                         Excelencia! \n",
       "Name: texto, Length: 4549, dtype: object"
      ]
     },
     "execution_count": 66,
     "metadata": {},
     "output_type": "execute_result"
    }
   ],
   "source": [
    "# teste isolado\n",
    "tratamentoAbreviacoes(removeAcento(df['texto']))"
   ]
  },
  {
   "attachments": {},
   "cell_type": "markdown",
   "metadata": {},
   "source": [
    "# Bag of words"
   ]
  },
  {
   "cell_type": "code",
   "execution_count": null,
   "metadata": {},
   "outputs": [],
   "source": [
    "df_Bag = df"
   ]
  },
  {
   "cell_type": "code",
   "execution_count": null,
   "metadata": {},
   "outputs": [],
   "source": [
    "df = df.drop(df[df['autor']] == ['btgpactual'].index)"
   ]
  }
 ],
 "metadata": {
  "kernelspec": {
   "display_name": "Python 3",
   "language": "python",
   "name": "python3"
  },
  "language_info": {
   "codemirror_mode": {
    "name": "ipython",
    "version": 3
   },
   "file_extension": ".py",
   "mimetype": "text/x-python",
   "name": "python",
   "nbconvert_exporter": "python",
   "pygments_lexer": "ipython3",
   "version": "3.11.3"
  },
  "orig_nbformat": 4
 },
 "nbformat": 4,
 "nbformat_minor": 2
}
