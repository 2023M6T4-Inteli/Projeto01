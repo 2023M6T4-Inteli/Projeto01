{
  "cells": [
    {
      "cell_type": "markdown",
      "metadata": {
        "id": "1QcvfDZJbba4"
      },
      "source": [
        "# Processamento de linguagem natural e modelo de análise de sentimento."
      ]
    },
    {
      "cell_type": "markdown",
      "metadata": {
        "id": "KNUwxSCZATI5"
      },
      "source": [
        "A fim de que seja possível comparar os tópicos abaixo descritos com os itens explicitados pelo barema, encontra-se, nessa célula, um índice comparativo entre ambas partes. Ele foi feito para facilitar a correção dos professores e permitir a existência de uma autonomia na nomenclatura das células de organização. \n",
        "- Instalação -> tópico 1.0\n",
        "- Testes isolados - >  tópico 3.8 \n",
        "- Definição de funções -> tópico 3.1 a 3.7\n",
        "- Testes das funções -> tópico 4.3\n",
        "- Análise descritiva -> tópico 2.0\n",
        "- Pré processamento -> tópico 3.0\n",
        "- Pipeline -> tópico 4.3\n",
        "- Modelo Bag of words -> tópico 4.0\n"
      ]
    },
    {
      "cell_type": "markdown",
      "metadata": {
        "id": "F0pr4J2Ibba9"
      },
      "source": [
        "## 1.0 Instalação"
      ]
    },
    {
      "cell_type": "markdown",
      "metadata": {
        "id": "3fk1FJ8KGVdz"
      },
      "source": [
        "Nessa parte do notebook realiza-se a instalação das bibliotecas que serão utilizadas no decorrer do código, bem como a importação da base de dados que baseia todas as posteriores análises. "
      ]
    },
    {
      "cell_type": "markdown",
      "metadata": {
        "id": "KN9FmiYRbba-"
      },
      "source": [
        "### 1.1 Importação das bibliotecas"
      ]
    },
    {
      "cell_type": "code",
      "execution_count": null,
      "metadata": {
        "colab": {
          "base_uri": "https://localhost:8080/"
        },
        "id": "y_qupiGsIwlC",
        "outputId": "f317c6ea-f4bf-4ad7-e8d5-8242bea5aa02"
      },
      "outputs": [
        {
          "output_type": "stream",
          "name": "stdout",
          "text": [
            "Looking in indexes: https://pypi.org/simple, https://us-python.pkg.dev/colab-wheels/public/simple/\n",
            "Requirement already satisfied: unidecode in /usr/local/lib/python3.10/dist-packages (1.3.6)\n",
            "Looking in indexes: https://pypi.org/simple, https://us-python.pkg.dev/colab-wheels/public/simple/\n",
            "Requirement already satisfied: emoji in /usr/local/lib/python3.10/dist-packages (2.4.0)\n",
            "Looking in indexes: https://pypi.org/simple, https://us-python.pkg.dev/colab-wheels/public/simple/\n",
            "Requirement already satisfied: spacy in /usr/local/lib/python3.10/dist-packages (3.5.3)\n",
            "Requirement already satisfied: spacy-legacy<3.1.0,>=3.0.11 in /usr/local/lib/python3.10/dist-packages (from spacy) (3.0.12)\n",
            "Requirement already satisfied: spacy-loggers<2.0.0,>=1.0.0 in /usr/local/lib/python3.10/dist-packages (from spacy) (1.0.4)\n",
            "Requirement already satisfied: murmurhash<1.1.0,>=0.28.0 in /usr/local/lib/python3.10/dist-packages (from spacy) (1.0.9)\n",
            "Requirement already satisfied: cymem<2.1.0,>=2.0.2 in /usr/local/lib/python3.10/dist-packages (from spacy) (2.0.7)\n",
            "Requirement already satisfied: preshed<3.1.0,>=3.0.2 in /usr/local/lib/python3.10/dist-packages (from spacy) (3.0.8)\n",
            "Requirement already satisfied: thinc<8.2.0,>=8.1.8 in /usr/local/lib/python3.10/dist-packages (from spacy) (8.1.9)\n",
            "Requirement already satisfied: wasabi<1.2.0,>=0.9.1 in /usr/local/lib/python3.10/dist-packages (from spacy) (1.1.1)\n",
            "Requirement already satisfied: srsly<3.0.0,>=2.4.3 in /usr/local/lib/python3.10/dist-packages (from spacy) (2.4.6)\n",
            "Requirement already satisfied: catalogue<2.1.0,>=2.0.6 in /usr/local/lib/python3.10/dist-packages (from spacy) (2.0.8)\n",
            "Requirement already satisfied: typer<0.8.0,>=0.3.0 in /usr/local/lib/python3.10/dist-packages (from spacy) (0.7.0)\n",
            "Requirement already satisfied: pathy>=0.10.0 in /usr/local/lib/python3.10/dist-packages (from spacy) (0.10.1)\n",
            "Requirement already satisfied: smart-open<7.0.0,>=5.2.1 in /usr/local/lib/python3.10/dist-packages (from spacy) (6.3.0)\n",
            "Requirement already satisfied: tqdm<5.0.0,>=4.38.0 in /usr/local/lib/python3.10/dist-packages (from spacy) (4.65.0)\n",
            "Requirement already satisfied: numpy>=1.15.0 in /usr/local/lib/python3.10/dist-packages (from spacy) (1.22.4)\n",
            "Requirement already satisfied: requests<3.0.0,>=2.13.0 in /usr/local/lib/python3.10/dist-packages (from spacy) (2.27.1)\n",
            "Requirement already satisfied: pydantic!=1.8,!=1.8.1,<1.11.0,>=1.7.4 in /usr/local/lib/python3.10/dist-packages (from spacy) (1.10.7)\n",
            "Requirement already satisfied: jinja2 in /usr/local/lib/python3.10/dist-packages (from spacy) (3.1.2)\n",
            "Requirement already satisfied: setuptools in /usr/local/lib/python3.10/dist-packages (from spacy) (67.7.2)\n",
            "Requirement already satisfied: packaging>=20.0 in /usr/local/lib/python3.10/dist-packages (from spacy) (23.1)\n",
            "Requirement already satisfied: langcodes<4.0.0,>=3.2.0 in /usr/local/lib/python3.10/dist-packages (from spacy) (3.3.0)\n",
            "Requirement already satisfied: typing-extensions>=4.2.0 in /usr/local/lib/python3.10/dist-packages (from pydantic!=1.8,!=1.8.1,<1.11.0,>=1.7.4->spacy) (4.5.0)\n",
            "Requirement already satisfied: urllib3<1.27,>=1.21.1 in /usr/local/lib/python3.10/dist-packages (from requests<3.0.0,>=2.13.0->spacy) (1.26.15)\n",
            "Requirement already satisfied: certifi>=2017.4.17 in /usr/local/lib/python3.10/dist-packages (from requests<3.0.0,>=2.13.0->spacy) (2022.12.7)\n",
            "Requirement already satisfied: charset-normalizer~=2.0.0 in /usr/local/lib/python3.10/dist-packages (from requests<3.0.0,>=2.13.0->spacy) (2.0.12)\n",
            "Requirement already satisfied: idna<4,>=2.5 in /usr/local/lib/python3.10/dist-packages (from requests<3.0.0,>=2.13.0->spacy) (3.4)\n",
            "Requirement already satisfied: blis<0.8.0,>=0.7.8 in /usr/local/lib/python3.10/dist-packages (from thinc<8.2.0,>=8.1.8->spacy) (0.7.9)\n",
            "Requirement already satisfied: confection<1.0.0,>=0.0.1 in /usr/local/lib/python3.10/dist-packages (from thinc<8.2.0,>=8.1.8->spacy) (0.0.4)\n",
            "Requirement already satisfied: click<9.0.0,>=7.1.1 in /usr/local/lib/python3.10/dist-packages (from typer<0.8.0,>=0.3.0->spacy) (8.1.3)\n",
            "Requirement already satisfied: MarkupSafe>=2.0 in /usr/local/lib/python3.10/dist-packages (from jinja2->spacy) (2.1.2)\n"
          ]
        }
      ],
      "source": [
        "# instalação de pacotes para remoção de acentos\n",
        "!pip install unidecode\n",
        "# Instalando biblioteca Python \"emoji\"\n",
        "!pip install emoji\n",
        "# Instalação de biblioteca para remoção de stop words\n",
        "!pip install -U spacy"
      ]
    },
    {
      "cell_type": "code",
      "execution_count": null,
      "metadata": {
        "colab": {
          "base_uri": "https://localhost:8080/"
        },
        "id": "L_lWGKttbba_",
        "outputId": "ee037971-ab5f-4ba3-af59-c032eb6b5652"
      },
      "outputs": [
        {
          "output_type": "stream",
          "name": "stderr",
          "text": [
            "[nltk_data] Downloading package punkt to /root/nltk_data...\n",
            "[nltk_data]   Unzipping tokenizers/punkt.zip.\n"
          ]
        },
        {
          "output_type": "stream",
          "name": "stdout",
          "text": [
            "\u001b[38;5;2m✔ Download and installation successful\u001b[0m\n",
            "You can now load the package via spacy.load('pt_core_news_sm')\n"
          ]
        }
      ],
      "source": [
        "#importação das bibliotecas:\n",
        "import pandas as pd\n",
        "import numpy as np\n",
        "# bibliotecas utilizadas para tokenização\n",
        "from nltk.tokenize import word_tokenize\n",
        "from nltk.tokenize import sent_tokenize\n",
        "#biblioteca para tokenização \n",
        "from keras.preprocessing.text import Tokenizer\n",
        "# bibliotecas utilizadas para remoção de stop words\n",
        "import nltk\n",
        "nltk.download('punkt')\n",
        "#importação das bibliotecas para remoção de Stop Words\n",
        "import spacy\n",
        "nlp = spacy.cli.download('pt_core_news_sm')\n",
        "nlp = spacy.load('pt_core_news_sm')\n",
        "# bibliotecas para remoção de acentos\n",
        "from unidecode import unidecode\n",
        "# bibliotecas utilizadas para o tratamento de abreviações\n",
        "import re\n",
        "# Instalando biblioteca Python \"emoji\"\n",
        "import emoji\n",
        "# importação de biblioteca para exportação do modelo\n",
        "import pickle\n",
        "# importação de biblioteca para separar treino e teste\n",
        "from sklearn.model_selection import train_test_split\n",
        "# importação do naive Bayes\n",
        "from sklearn.naive_bayes import GaussianNB"
      ]
    },
    {
      "cell_type": "markdown",
      "metadata": {
        "id": "44S5uXPbbbbE"
      },
      "source": [
        "### 1.2 Criação da tabela "
      ]
    },
    {
      "cell_type": "code",
      "execution_count": null,
      "metadata": {
        "id": "ys0GfKh-SGck",
        "colab": {
          "base_uri": "https://localhost:8080/"
        },
        "outputId": "0d219a56-28fa-4f95-f5df-bbc1d98d3c2e"
      },
      "outputs": [
        {
          "output_type": "stream",
          "name": "stdout",
          "text": [
            "Mounted at /content/drive\n"
          ]
        }
      ],
      "source": [
        "#Conexão com o drive\n",
        "from google.colab import drive\n",
        "drive.mount('/content/drive')\n",
        "#importação da base de dados:\n",
        "df = pd.read_excel('/content/drive/MyDrive/Modulo_6_grupo_1/2-base_10052023-G1.xlsx')\n",
        "novas_colunas = {\n",
        "    '\"dataPublicada\"': 'dataPublicada',\n",
        "    '\"autor\"': 'autor',\n",
        "    '\"texto\"': 'texto',\n",
        "    '\"sentimento\"': 'targetSentimento',\n",
        "    '\"tipoInteracao\"': 'tipoInteracao',\n",
        "    '\"anomalia\"': 'anomalia',\n",
        "    '\"probabilidadeAnomalia\"': 'probabilidadeAnomalia',\n",
        "    '\"linkPost\"': 'linkPost',\n",
        "    '\"processado\"': 'processado',\n",
        "    '\"contemHyperlink\"': 'contemHyperlink'\n",
        "}\n",
        "\n",
        "# Renomear as colunas\n",
        "df = df.rename(columns=novas_colunas)\n",
        "# Remover linhas sem a coluna \"texto\"\n",
        "df = df.dropna(subset=['texto'])\n",
        "# Filtrar as linhas com base em diferentes condições\n",
        "df = df[(df['anomalia'] != 1) & (df['autor'] != 'btgpactual') & (df['contemHyperlink'] != 1) & (df['probabilidadeAnomalia'] <= 50)]\n",
        "# Redefinir o índice\n",
        "df = df.reset_index(drop=True)"
      ]
    },
    {
      "cell_type": "markdown",
      "metadata": {
        "id": "xas-NjmpBZVq"
      },
      "source": [
        "##### Importação da tabela"
      ]
    },
    {
      "cell_type": "code",
      "execution_count": null,
      "metadata": {
        "colab": {
          "base_uri": "https://localhost:8080/"
        },
        "id": "7i3IiM8WbqL0",
        "outputId": "be006bd1-cf22-47a6-cc5c-d3b19fa2671a"
      },
      "outputs": [
        {
          "name": "stdout",
          "output_type": "stream",
          "text": [
            "Mounted at /content/drive\n"
          ]
        }
      ],
      "source": [
        "#Conexão com o drive\n",
        "from google.colab import drive\n",
        "drive.mount('/content/drive')"
      ]
    },
    {
      "cell_type": "code",
      "execution_count": null,
      "metadata": {
        "id": "pyyTpwj9bbbG"
      },
      "outputs": [],
      "source": [
        "#importação da base de dados:\n",
        "df = pd.read_excel('/content/drive/MyDrive/Modulo_6_grupo_1/2-base_10052023-G1.xlsx')\n",
        "df"
      ]
    },
    {
      "cell_type": "markdown",
      "metadata": {
        "id": "8JnP2qFcBPuH"
      },
      "source": [
        "##### Colunas renomeadas"
      ]
    },
    {
      "cell_type": "code",
      "execution_count": null,
      "metadata": {
        "id": "ze-JD_NzDNyz"
      },
      "outputs": [],
      "source": [
        "novasColunas = {'\"dataPublicada\"': 'dataPublicada', '\"autor\"': 'autor', '\"texto\"': 'texto', '\"sentimento\"':'sentimento', '\"tipoInteracao\"':'tipoInteracao', '\"anomalia\"':'anomalia', '\"probabilidadeAnomalia\"': 'probabilidadeAnomalia', '\"linkPost\"':'linkPost', '\"processado\"': 'processado', '\"contemHyperlink\"': 'contemHyperlink'}\n",
        "df = df.rename(columns=novasColunas)\n",
        "df\n"
      ]
    },
    {
      "cell_type": "markdown",
      "metadata": {
        "id": "rHbPMmMO-2KA"
      },
      "source": [
        "##### Remoção de colunas que não possuem textos"
      ]
    },
    {
      "cell_type": "code",
      "execution_count": null,
      "metadata": {
        "id": "ze4iWGOObbbH"
      },
      "outputs": [],
      "source": [
        "#remoção de todas as linhas que não possuem a coluna texto:\n",
        "df = df.dropna(subset=['texto'])\n",
        "df"
      ]
    },
    {
      "cell_type": "markdown",
      "metadata": {
        "id": "Lqdjt7Sy-7Bf"
      },
      "source": [
        "##### Remoção de linhas que possuem anomalias"
      ]
    },
    {
      "cell_type": "code",
      "execution_count": null,
      "metadata": {
        "id": "mrYs9wNj_Afg"
      },
      "outputs": [],
      "source": [
        "df = df[df['anomalia'] != 1]"
      ]
    },
    {
      "cell_type": "markdown",
      "metadata": {
        "id": "h4Ykd1VX_oNW"
      },
      "source": [
        "##### Remoção de comentários do banco BTG"
      ]
    },
    {
      "cell_type": "code",
      "execution_count": null,
      "metadata": {
        "id": "__mfxIMzAjfp"
      },
      "outputs": [],
      "source": [
        "df = df[df['autor'] != 'btgpactual']\n",
        "df"
      ]
    },
    {
      "cell_type": "markdown",
      "metadata": {
        "id": "ROTgYolWEQuh"
      },
      "source": [
        "##### Remoção de linhas que possuem hyperlink"
      ]
    },
    {
      "cell_type": "code",
      "execution_count": null,
      "metadata": {
        "id": "SAiVGFoHEXZz"
      },
      "outputs": [],
      "source": [
        "df = df[df['contemHyperlink'] != 1]\n",
        "df"
      ]
    },
    {
      "cell_type": "markdown",
      "metadata": {
        "id": "4wmnDZD5FlT_"
      },
      "source": [
        "##### Remoção de linhas que possuem probabilidade de anomalia maior que 50%"
      ]
    },
    {
      "cell_type": "code",
      "execution_count": null,
      "metadata": {
        "id": "-ldSDk9XFpYl"
      },
      "outputs": [],
      "source": [
        "df = df[df['probabilidadeAnomalia'] <= 50]\n",
        "df = df.reset_index(drop=True)\n",
        "df"
      ]
    },
    {
      "cell_type": "markdown",
      "source": [
        "##### Balanceamento dos dados com undersampling"
      ],
      "metadata": {
        "id": "_b6_Ys8tr-e9"
      }
    },
    {
      "cell_type": "code",
      "source": [
        "# # Separa os elementos das classes POSITIVE, NEUTRAL e NEGATIVE em três tabelas\n",
        "# df_classe1 = df.loc[df['sentimento'] == \"POSITIVE\"]\n",
        "# df_classe2 = df.loc[df['sentimento'] == \"NEUTRAL\"]\n",
        "# df_classe3 = df.loc[df['sentimento'] == \"NEGATIVE\"]\n",
        "\n",
        "# # Mantém 988 elementos nas tabelas df_classe1 e df_classe2\n",
        "# df_classe1 = df_classe1.sample(n=988, random_state=42)\n",
        "# df_classe2 = df_classe2.sample(n=988, random_state=42)\n",
        "\n",
        "# # Concatena as três tabelas em uma tabela df1\n",
        "# df1 = pd.concat([df_classe1, df_classe2, df_classe3], ignore_index=True)"
      ],
      "metadata": {
        "id": "EWix4gN_r97l"
      },
      "execution_count": null,
      "outputs": []
    },
    {
      "cell_type": "code",
      "source": [
        "# # Embaralha as linhas da tabela na variável df\n",
        "# df = df1.sample(frac=1).reset_index(drop=True)\n",
        "\n",
        "# # Exibe a tabela resultante\n",
        "# df['sentimento']"
      ],
      "metadata": {
        "colab": {
          "base_uri": "https://localhost:8080/"
        },
        "id": "wgDD_qIksGGN",
        "outputId": "0ed742e7-dcca-465a-aa9d-055db165002f"
      },
      "execution_count": null,
      "outputs": [
        {
          "output_type": "execute_result",
          "data": {
            "text/plain": [
              "0        NEUTRAL\n",
              "1       POSITIVE\n",
              "2        NEUTRAL\n",
              "3        NEUTRAL\n",
              "4       NEGATIVE\n",
              "          ...   \n",
              "3947    NEGATIVE\n",
              "3948    NEGATIVE\n",
              "3949    NEGATIVE\n",
              "3950    NEGATIVE\n",
              "3951     NEUTRAL\n",
              "Name: sentimento, Length: 3952, dtype: object"
            ]
          },
          "metadata": {},
          "execution_count": 13
        }
      ]
    },
    {
      "cell_type": "markdown",
      "metadata": {
        "id": "FgDJv2N-yPyx"
      },
      "source": [
        "## 2.0 Análise descritiva"
      ]
    },
    {
      "cell_type": "markdown",
      "metadata": {
        "id": "DHxZ5iqRVqU_"
      },
      "source": [
        "A Análise Descritiva dos Dados é uma técnica importante para obter insights e compreender as características dos dados sem a utilização de modelos estatísticos complexos."
      ]
    },
    {
      "cell_type": "markdown",
      "metadata": {
        "id": "SupkDR7xyUgH"
      },
      "source": [
        "### 2.1 Colunas"
      ]
    },
    {
      "cell_type": "markdown",
      "metadata": {
        "id": "el6GfLMHFLNN"
      },
      "source": [
        "Célula que permite a visualização de todas as colunas do dataframe:"
      ]
    },
    {
      "cell_type": "code",
      "execution_count": null,
      "metadata": {
        "id": "oNXBE2FPFAxZ"
      },
      "outputs": [],
      "source": [
        "df.columns"
      ]
    },
    {
      "cell_type": "markdown",
      "metadata": {
        "id": "l8aR8v5uT7Q2"
      },
      "source": [
        "\n",
        "1. **Coluna Id:** A coluna id apresenta o index para visualização da planilha e pode ser usada como chave primária do comentário. No que diz respeito à utilização no modelo, essa coluna não confere relevância para a sua construção, visto que sua utilidade está atrelada apenas ao fato de garantir que cada linha possua um identificador único. Portanto, *essa coluna não será utilizada.*\n",
        "\n",
        "2. **Coluna dataPublicada:** A coluna data publicada refere-se a data de publicação do comentário. Para a construção do modelo **bag of words**, essa coluna não apresenta relevância, portanto, *não será utilizada*. Posteriormente, sua utilização pode se fazer necessária para a averiguação dos períodos das campanhas.\n",
        "\n",
        "3. **Coluna autor:** A coluna autor é referente à conta do instagram que realizou o comentário na postagem. Essa coluna não será utilizada diretamente pelo modelo bag of words, mas será importante para o agrupamento de comentários referente à empresa BTG. \n",
        "\n",
        "4. **Coluna texto:** A coluna texto se refere ao texto presente no comentário realizado. Para a construção do modelo, essa é a coluna com maior relevância, visto que são justamente os conteúdos dos comentários que precisam ser analisados pelo modelo. \n",
        "\n",
        "5. **Coluna sentimento:** A coluna sentimento é, justamente, o target da classificação que precisamos fazer dos dados. Essa coluna será utilizada para o treinamento posterior do modelo, visto que apresenta o resultado esperado. Contudo, diante de uma análise manual das classificações, foi possível perceber que alguns comentários foram classificados de maneira errônea, dado que possuem um teor positivo mas foram classificados como negativos ou neutros.\n",
        "\n",
        "6. **Coluna tipoInteracao:** A coluna tipo interação informa o tipo de interação a qual aquele comentário pertence, como, por exemplo, uma resposta ou como marcação. Essa coluna, inicialmente, não será utilizada para a construção do modelo bag of words.\n",
        "\n",
        "7. **Coluna anomalia:**  Não possuímos informações suficientes para definir qual é o significado dessa coluna. Portanto, ainda não pode-se definir se ela será utilizada ou não no decorrer do desenvolvimento do projeto. Por ora, essa coluna não será utilizada.\n",
        "\n",
        "8. **Coluna probabilidadeAnomalia:**  Não possuímos informações suficientes para definir qual é o significado dessa coluna. Portanto, ainda não pode-se definir se ela será utilizada ou não no decorrer do desenvolvimento do projeto. Por ora, essa coluna não será utilizada.\n",
        "\n",
        "9. **Coluna linkPost:** Essa coluna possui o link referente a postagem da qual foram retirados os comentários. Todos os comentários referentes à mesma postagem possuem o link igual. Pensando na análise de sentimento, essa coluna não apresenta relevância, portanto, não será utilizada. \n",
        "\n",
        "10. **Coluna processado:** Não possuímos informações suficientes para definir qual é o significado dessa coluna. Portanto, ainda não pode-se definir se ela será utilizada ou não no decorrer do desenvolvimento do projeto. Por ora, essa coluna não será utilizada.\n",
        "\n",
        "11. **Coluna contemHyperlink:** Não possuímos informações suficientes para definir qual é o significado dessa coluna. Portanto, ainda não pode-se definir se ela será utilizada ou não no decorrer do desenvolvimento do projeto. Por ora, essa coluna não será utilizada.\n",
        "\n"
      ]
    },
    {
      "cell_type": "markdown",
      "metadata": {
        "id": "4WP0dUrKxy59"
      },
      "source": [
        "### 2.2 Funções"
      ]
    },
    {
      "cell_type": "markdown",
      "metadata": {
        "id": "0kpt8UL4Inwb"
      },
      "source": [
        "Abaixo estão listadas todas as funções presentes nesse notebook e o que elas fazem:\n",
        "1. **remocaoAcentos:** função que remove todos os acentos presentes nos comentários da coluna texto.\n",
        "2. **tratamentoMaiusculas:** função que trata todas as letras maiúsculas dos comentários presentes na coluna texto, passando-as para caixa baixa.\n",
        "3. **conversaoEmojis:** função que converte todo emoji presente na coluna texto para seu significado em inglês.\n",
        "4. **tratamentoAbreviacoes:** função que converte todas as abreviações para seu significado real, além de remover todas as pontuações e diferentes tipos de marcações comumente utilizadas em redes sociais.\n",
        "5. **tokenizacaoPalavra:** função que tokeniza em palavras os comentários, separando cada uma delas do todo.\n",
        "6. **tokenizacaoFrase:** função que tokeniza em frases os comentários, separando cada uma das frases, sejam elas do mesmo comentário ou de comentários diferentes.\n",
        "7. **remocaoStopWords:** função que remove todas as stopwords presentes nos comentários da coluna texto.\n",
        "8. **bagOfWords:** função para chamar o modelo de bag of words e salvar um vetor de recorrencia.\n",
        "9. **pipelineBow:** função que define a pipeline que será utilizada no modelo, com todos os pré-processamentos realizados e o modelo BOW aplicado para gerar um dicionário e um vetor.\n",
        "10. **contarPalavras:** função para contar quantas vezes cada palavra se repetiu no modelo bag of words.\n",
        "11. **gerarNuvemPalavras:** função para gerar uma nuvem de palavras utilizando os resultados do modelo bag of words."
      ]
    },
    {
      "cell_type": "markdown",
      "metadata": {
        "id": "iAPutSjZIFgt"
      },
      "source": [
        "###2.3 Visualização gráfica de dados"
      ]
    },
    {
      "cell_type": "markdown",
      "metadata": {
        "id": "EKu17TbgIPPE"
      },
      "source": [
        "#### 2.3.1 Valores nulos"
      ]
    },
    {
      "cell_type": "markdown",
      "metadata": {
        "id": "yLt9161pHHFL"
      },
      "source": [
        "Visualização da proporção entre o número de linhas que possuem algum tipo de valor nulo e as linhas que não os possuem. "
      ]
    },
    {
      "cell_type": "code",
      "execution_count": null,
      "metadata": {
        "id": "H3v_lEORGcqP"
      },
      "outputs": [],
      "source": [
        "import pandas as pd\n",
        "import seaborn as sns\n",
        "import matplotlib.pyplot as plt\n",
        "\n",
        "# visualizando todos os itens nulos\n",
        "print(df.isnull().sum())\n",
        "\n",
        "# criando um gráfico de barras para comparar os itens nulos e não nulos\n",
        "sns.countplot(x=df.isnull().any(axis=1), hue=df.isnull().any(axis=1))\n",
        "plt.title(\"Itens Nulos vs Não Nulos\")\n",
        "plt.xlabel(\"Itens\")\n",
        "plt.ylabel(\"Contagem\")\n",
        "plt.legend(labels=['Itens com valores não nulos', 'Itens com valores nulos'])\n",
        "plt.show()"
      ]
    },
    {
      "cell_type": "markdown",
      "metadata": {
        "id": "GwarFX5gH4cs"
      },
      "source": [
        "Visualização de ítens nulos em cada uma das colunas do dataframe:"
      ]
    },
    {
      "cell_type": "code",
      "execution_count": null,
      "metadata": {
        "id": "4RtjubKaHWEV"
      },
      "outputs": [],
      "source": [
        "# contando os valores nulos em cada coluna\n",
        "null_counts = df.isnull().sum()\n",
        "\n",
        "# criando um gráfico de barras para mostrar a contagem de valores nulos em cada coluna\n",
        "sns.barplot(x=null_counts.index, y=null_counts.values)\n",
        "plt.xticks(rotation=90) # adicionando a rotação de 90 graus nas legendas\n",
        "\n",
        "# adicionando as etiquetas de texto no topo de cada barra\n",
        "for i, v in enumerate(null_counts.values):\n",
        "    plt.text(i, v+10, str(v), ha='center', fontsize=12)\n",
        "\n",
        "# configurando os rótulos dos eixos e o título do gráfico\n",
        "plt.xlabel(\"Colunas\")\n",
        "plt.ylabel(\"Contagem de Valores Nulos\")\n",
        "plt.title(\"Contagem de Valores Nulos por Coluna\")\n",
        "\n",
        "# exibindo o gráfico\n",
        "plt.show()"
      ]
    },
    {
      "cell_type": "markdown",
      "metadata": {
        "id": "fv9gLorsITMn"
      },
      "source": [
        "#### 2.2.2 Agrupamento por autores"
      ]
    },
    {
      "cell_type": "code",
      "execution_count": null,
      "metadata": {
        "id": "TEJdRv-6RMXN"
      },
      "outputs": [],
      "source": [
        "import pandas as pd\n",
        "import matplotlib.pyplot as plt\n",
        "\n",
        "# Agrupamento dos textos por autor, excluindo o \"btg pactual\"\n",
        "textosPorAutor = df.query(\"autor != 'btgpactual'\").groupby('autor')['texto'].count().reset_index()\n",
        "\n",
        "# Ordenação dos autores por quantidade de textos\n",
        "textosPorAutor = textosPorAutor.sort_values('texto', ascending=False).reset_index(drop=True)\n",
        "\n",
        "# Seleção dos 10 autores com mais textos\n",
        "top10Autores = textosPorAutor.head(10)\n",
        "\n",
        "# Gráfico de barras com a quantidade de textos por autor\n",
        "plt.bar(top10Autores['autor'], top10Autores['texto'])\n",
        "plt.xticks(rotation=90)\n",
        "plt.xlabel('Autor')\n",
        "plt.ylabel('Quantidade de Textos')\n",
        "plt.title('Top 10 Autores com Mais Textos (exceto btgpactual)')\n",
        "plt.show()\n"
      ]
    },
    {
      "cell_type": "markdown",
      "metadata": {
        "id": "cacmvj7kMIpZ"
      },
      "source": [
        "### Análise dos sentimentos"
      ]
    },
    {
      "cell_type": "code",
      "execution_count": null,
      "metadata": {
        "id": "_DBBAHEm7AJU"
      },
      "outputs": [],
      "source": [
        "import pandas as pd\n",
        "import matplotlib.pyplot as plt\n",
        "\n",
        "# Contar a quantidade de dados para cada combinação de marcação e tipo de interação\n",
        "contagem = df.groupby(['tipoInteracao', 'sentimento']).size().unstack(fill_value=0)\n",
        "\n",
        "# Criar o gráfico de barras agrupadas\n",
        "contagem.plot(kind='bar', stacked=True)\n",
        "\n",
        "# Configurar os rótulos dos eixos\n",
        "plt.xlabel('Tipo de Interação')\n",
        "plt.ylabel('Quantidade de Dados')\n",
        "\n",
        "# Exibir o gráfico\n",
        "plt.show()\n"
      ]
    },
    {
      "cell_type": "code",
      "execution_count": null,
      "metadata": {
        "id": "R5Yxa9M375Pa"
      },
      "outputs": [],
      "source": [
        "import pandas as pd\n",
        "import matplotlib.pyplot as plt\n",
        "\n",
        "# Contar a quantidade de dados para cada combinação de marcação e tipo de interação\n",
        "contagem = df.groupby(['tipoInteracao', 'sentimento']).size().unstack(fill_value=0)\n",
        "\n",
        "# Cores das colunas\n",
        "cores = [ '#FF0000', '#C0C0C0', '#008000']\n",
        "\n",
        "# Criar o gráfico de barras agrupadas com as cores personalizadas\n",
        "contagem.plot(kind='bar', stacked=True, color=cores)\n",
        "\n",
        "# Configurar os rótulos dos eixos\n",
        "plt.xlabel('Tipo de Interação')\n",
        "plt.ylabel('Quantidade de Dados')\n",
        "\n",
        "# Exibir o gráfico\n",
        "plt.show()\n"
      ]
    },
    {
      "cell_type": "markdown",
      "metadata": {
        "id": "tH4hTYprbbbI"
      },
      "source": [
        "## 3.0 Pré processamento dos dados"
      ]
    },
    {
      "cell_type": "markdown",
      "metadata": {
        "id": "nOFxAfuXIAum"
      },
      "source": [
        "O pré processamento dos dados é uma técnica que consiste em uma série de etapas que buscam preparar os dados para uma análise posterior, eliminando informações desnecessárias, corrigindo erros e padronizando o formato dos dados. \n",
        "Essa é uma etapa muito importante porque, muitas vezes, dados textuais são frequentemente não estruturados, o que significa que não seguem um formato padronizado ou organizado, dificultando a análise e extração de informações relevantes."
      ]
    },
    {
      "cell_type": "markdown",
      "metadata": {
        "id": "2TaHb7fRbbbJ"
      },
      "source": [
        "### 3.1 Remoção de acentos"
      ]
    },
    {
      "cell_type": "markdown",
      "metadata": {
        "id": "DDviYnCXbbbJ"
      },
      "source": [
        "Para garantir que um texto seja processado de forma consistente, é importante realizar a normalização dos seus componentes. Nesse sentido, a remoção de acentos é uma etapa fundamental, já que isso ajuda o algoritmo a compreender com mais precisão o que o texto está dizendo. Além disso, a ausência de acentos reduz o risco de que o algoritmo interprete de maneira diferente duas palavras idênticas, mas que tenham sido acentuadas de formas distintas ou incorretas. Em resumo, a remoção de acentos é uma prática essencial no pré-processamento de textos para aprimorar a qualidade e a eficácia da análise de dados em linguagem natural."
      ]
    },
    {
      "cell_type": "code",
      "execution_count": null,
      "metadata": {
        "id": "BavRi-SDbbbK"
      },
      "outputs": [],
      "source": [
        "#Código para remoção dos acentos\n",
        "def remocaoAcentos(dataframe):\n",
        "    dataframe = dataframe.applymap(lambda x: unidecode(str(x)))\n",
        "    return dataframe"
      ]
    },
    {
      "cell_type": "markdown",
      "metadata": {
        "id": "pTUuNFNKOwKJ"
      },
      "source": [
        "Teste isolado"
      ]
    },
    {
      "cell_type": "code",
      "execution_count": null,
      "metadata": {
        "id": "k6ZodRf6bbbK"
      },
      "outputs": [],
      "source": [
        "# Teste isolado da função remoção de acentos\n",
        "remocaoAcentos(df)"
      ]
    },
    {
      "cell_type": "markdown",
      "metadata": {
        "id": "WYJ4p_SbbbbM"
      },
      "source": [
        "### 3.2 Remoção letras maiusculas"
      ]
    },
    {
      "cell_type": "markdown",
      "metadata": {
        "id": "t1LJjI1mFz94"
      },
      "source": [
        "O tratamento de letras maiúsculas é importante porque, muitas vezes, a diferença entre letras maiúsculas e minúsculas pode impactar negativamente a análise do algoritmo, tendo em vista que ele pode interpretar as palavras como diferentes em determinadas situações. Esse problema pode levar a resultados imprecisos, tendo em vista que, diante do objetivo de contar a frequência de palavras, essas diferenças garantem que as palavras sejam contadas de maneira distinta. "
      ]
    },
    {
      "cell_type": "code",
      "execution_count": null,
      "metadata": {
        "id": "Mo07IX55bbbN"
      },
      "outputs": [],
      "source": [
        "def tratamentoMaiusculas(dataframe):\n",
        "    # Pré-processamento das letras maiúsculas\n",
        "    dataframe = dataframe.applymap(lambda x: x.lower() if isinstance(x, str) else x)\n",
        "    # Exibição dos dados pré-processados\n",
        "    return dataframe"
      ]
    },
    {
      "cell_type": "markdown",
      "metadata": {
        "id": "xg1nxmfUO0ja"
      },
      "source": [
        "Teste isolado"
      ]
    },
    {
      "cell_type": "code",
      "execution_count": null,
      "metadata": {
        "id": "SCAHPrdaF6s0"
      },
      "outputs": [],
      "source": [
        "#teste isolado da função tratamento Maiúsculas\n",
        "tratamentoMaiusculas(df)"
      ]
    },
    {
      "cell_type": "markdown",
      "metadata": {
        "id": "yUhw8Lu9DMIA"
      },
      "source": [
        "### 3.3 Lematização"
      ]
    },
    {
      "cell_type": "markdown",
      "metadata": {
        "id": "6baqKTLhDOOC"
      },
      "source": [
        "A lematização é uma técnica utilizada a fim de reduzir palavras flexionadas para sua forma básica. Ela representa as palavras através do infinitivo dos verbos e singular dos substantivos e adjetivos. Esse processo também leva em consideração o contexto inserido de cada palavra e resolve o problema da ambiguidade lexical, onde uma mesma palavra pode ter múltiplos significados."
      ]
    },
    {
      "cell_type": "code",
      "execution_count": null,
      "metadata": {
        "id": "Ue6FA-seDaBU"
      },
      "outputs": [],
      "source": [
        "# Função de lematização\n",
        "def textoLemmatizado(coluna):\n",
        "    textosLemmatizados = []\n",
        "    for texto in coluna:\n",
        "        # Processa o texto com o modelo do Spacy\n",
        "        doc = nlp(texto)\n",
        "        # Lematiza cada token no documento\n",
        "        lemmas = [token.lemma_ for token in doc]\n",
        "        # Junta os lemmas em um único texto\n",
        "        textoLemmatizado = ' '.join(lemmas)\n",
        "        textosLemmatizados.append(textoLemmatizado)\n",
        "    return textosLemmatizados"
      ]
    },
    {
      "cell_type": "code",
      "execution_count": null,
      "metadata": {
        "id": "drqKIIUHEfns"
      },
      "outputs": [],
      "source": [
        "#Teste isolado:\n",
        "resultado = textoLemmatizado(df['texto'])\n",
        "resultado"
      ]
    },
    {
      "cell_type": "markdown",
      "metadata": {
        "id": "PFoYSbT8bbbL"
      },
      "source": [
        "### 3.4 Tratamento de emojis"
      ]
    },
    {
      "cell_type": "markdown",
      "metadata": {
        "id": "whNw64xxbbbL"
      },
      "source": [
        "Emojis são muito utilizados por usuários de redes sociais, ajudando-os, assim, a expressar emoções e sentimentos. Portanto, para melhor entender o sentido de uma mensagem, o tratamento de emojis podem fornecer uma melhor precisão para a análise e uma classificação mais precisa dos sentimentos de uma mensagem."
      ]
    },
    {
      "cell_type": "code",
      "execution_count": null,
      "metadata": {
        "id": "IZLG0AU0H9TH"
      },
      "outputs": [],
      "source": [
        "# Função para converter emojis em texto.\n",
        "# A função recebe dois argumentos. O dataframe e a coluna a ser tratada, e retorna o dataframe.\n",
        "def conversaoEmojis(coluna):\n",
        "    coluna = coluna.apply(emoji.demojize)\n",
        "    return coluna"
      ]
    },
    {
      "cell_type": "markdown",
      "metadata": {
        "id": "y6UknEdSO3b4"
      },
      "source": [
        "Teste isolado"
      ]
    },
    {
      "cell_type": "code",
      "execution_count": null,
      "metadata": {
        "id": "MTAmi0z_Ii3A"
      },
      "outputs": [],
      "source": [
        "# Teste isolado da função converter emoji em texto\n",
        "conversaoEmojis(df['texto'])"
      ]
    },
    {
      "cell_type": "markdown",
      "metadata": {
        "id": "M5xSqfYQbbbP"
      },
      "source": [
        "### 3.5 Tratamento de abreviações e pontuações"
      ]
    },
    {
      "cell_type": "markdown",
      "metadata": {
        "id": "W1Bj3-fPbbbP"
      },
      "source": [
        "O tratamento de abreviações é importante porque garante que o algoritmo de processamento de linguagem natural interprete corretamente o significado do texto. Ao substituir abreviações por suas formas completas, o texto se torna mais legível e compreensível para o algoritmo que realizará o processamento."
      ]
    },
    {
      "cell_type": "code",
      "execution_count": null,
      "metadata": {
        "id": "3pnCai09bbbQ"
      },
      "outputs": [],
      "source": [
        "   \n",
        "def tratamentoAbreviacoes(coluna):    \n",
        "    coluna = coluna.astype(str)\n",
        "    coluna.str.lower()\n",
        "# Dicionário com as abreviações e suas expansões\n",
        "    abreviacoes = {\n",
        "        r'\\bvc\\b': 'você',\n",
        "        r'\\btbm\\b': 'também',\n",
        "        r'\\bpq\\b': 'porque',\n",
        "        r'\\bmt\\b': 'muito',\n",
        "        r'\\bmto\\b':'muito',\n",
        "        r'\\bblz\\b': 'beleza',\n",
        "        r'\\bjah\\b': 'já',\n",
        "        r'\\bbj\\b': 'beijo',\n",
        "        r'\\bflw\\b': 'falou',\n",
        "        r'\\bvlw\\b': 'valeu',\n",
        "        r'\\bkrl\\b': 'caralho',\n",
        "        r'\\bqnd\\b': 'quando',\n",
        "        r'\\bfds\\b': 'fim de semana',\n",
        "        r'\\bqq\\b': 'qualquer',\n",
        "        r'\\bmsg\\b': 'mensagem',\n",
        "        r'\\bpra\\b': 'para',\n",
        "        r'\\bp\\b': 'para',\n",
        "        r'\\bpqp\\b': 'puta que pariu',\n",
        "        r'\\bvlh\\b': 'velho',\n",
        "        r'\\bnss\\b': 'nossa',\n",
        "        r'\\bngm\\b': 'ninguém',\n",
        "        r'\\bqm\\b': 'quem',\n",
        "        r'\\bobs\\b': 'observação',\n",
        "        r'\\bqt\\b': 'quanto',\n",
        "        r'\\btbm ñ\\b': 'também não',\n",
        "        r'\\bpf\\b': 'por favor',\n",
        "        r'\\bpdc\\b': 'pode crer',\n",
        "        r'\\btalkei\\b': 'ok',\n",
        "        r'\\bd+\\b': 'demais',\n",
        "        r'\\bdms\\b': 'demais',\n",
        "        r'\\bsqn\\b': 'só que não',\n",
        "        r'\\bmsm\\b': 'mesmo',\n",
        "        r'\\bn/ao\\b': 'não',\n",
        "        r'\\bn/\\b': 'não',\n",
        "        r'\\bblz\\b': 'beleza',\n",
        "        r'\\bq\\b': 'que',\n",
        "        r'\\btd\\b': 'tudo',\n",
        "        r'\\bpfvr\\b': 'por favor',\n",
        "        r'\\bgnt\\b': 'gente',\n",
        "        r'\\bto\\b': 'estou',\n",
        "        r'\\bvcs\\b': 'vocês',\n",
        "        r'\\bn/oa\\b': 'não',\n",
        "        r'\\bsla\\b': 'sei lá',\n",
        "        r'\\bflws\\b': 'falou',\n",
        "        r'\\bbjos\\b': 'beijos',\n",
        "        r'\\bkd\\b': 'cadê',\n",
        "        r'\\blgl\\b': 'legal',\n",
        "        r'\\bnum\\b': 'número',\n",
        "        r'\\bjá q\\b': 'já que',\n",
        "        r'\\bmano\\b': 'irmão',\n",
        "        r'\\bpke\\b': 'porque',\n",
        "        r'\\bpr\\b': 'para',\n",
        "        r'\\btpm\\b': 'tensão pré-menstrual',\n",
        "        r'\\btá\\b': 'está',\n",
        "        r'\\bqmto\\b': 'muito',\n",
        "        r'\\bñ\\b': 'não',\n",
        "        r'\\bvamu\\b': 'vamos',\n",
        "        r'\\btmj\\b': 'estamos juntos',\n",
        "        r'[0-9]': '',\n",
        "        r'@\\w+': '',\n",
        "        r'[^\\w\\s]': '',\n",
        "        r'\\bwww\\.[^\\s]*': '',\n",
        "        r'\\bola\\b': '',\n",
        "        r'\\n': '',\n",
        "        r'\\bbtg\\b': '',\n",
        "        r'\\bpactual\\b': ''\n",
        "    }\n",
        "\n",
        "    # Aplica a substituição de cada abreviação no dataframe\n",
        "    for abreviacao, expansao in abreviacoes.items():\n",
        "        coluna= coluna.apply(lambda x: re.sub(abreviacao, expansao, x, flags=re.IGNORECASE))\n",
        "    \n",
        "    return coluna"
      ]
    },
    {
      "cell_type": "markdown",
      "metadata": {
        "id": "5PLBCbxWbbbR"
      },
      "source": [
        "Teste isolado:"
      ]
    },
    {
      "cell_type": "code",
      "execution_count": null,
      "metadata": {
        "id": "5KEsO9NtbbbR"
      },
      "outputs": [],
      "source": [
        "#teste isolado\n",
        "tratamentoAbreviacoes(df['texto'])"
      ]
    },
    {
      "cell_type": "markdown",
      "metadata": {
        "id": "8TyRlmSTbbbN"
      },
      "source": [
        "### 3.6 Tokenização"
      ]
    },
    {
      "cell_type": "markdown",
      "metadata": {
        "id": "NkZyQbF9bbbO"
      },
      "source": [
        "A tokenização é um processo de pré-processamento utilizado para dividir os valores de uma coluna em pedaços menores, como palavras ou frases. Cada pedaço, conhecido como token, recebe um valor específico para identificação. Esse processo torna o texto mais gerenciável e facilita a análise e os processamentos subsequentes dos dados."
      ]
    },
    {
      "cell_type": "markdown",
      "metadata": {
        "id": "UiA9iQBCMFIs"
      },
      "source": [
        "Função para gerar um dicionario, com os tokens"
      ]
    },
    {
      "cell_type": "code",
      "execution_count": null,
      "metadata": {
        "id": "dKCa1seKMHom"
      },
      "outputs": [],
      "source": [
        "#definição de função para tokenização em palavras\n",
        "def tokenizacaoPalavra(comentarios):\n",
        "  tokenizer = Tokenizer()\n",
        "  tokenizer.fit_on_texts(comentarios)\n",
        "  return tokenizer"
      ]
    },
    {
      "cell_type": "markdown",
      "metadata": {
        "id": "MNYDSnvTPFb8"
      },
      "source": [
        "Tokenização por frase"
      ]
    },
    {
      "cell_type": "code",
      "execution_count": null,
      "metadata": {
        "id": "C2n1dbENbbbO"
      },
      "outputs": [],
      "source": [
        "# definição de função para tokenização em frases\n",
        "def tokenizacaoFrase(coluna):\n",
        "  comentarios = coluna.values\n",
        "  tokenFrase = []\n",
        "  for comentarios in comentarios:\n",
        "    tokenFrase.append(sent_tokenize(comentarios))\n",
        "  return tokenFrase"
      ]
    },
    {
      "cell_type": "markdown",
      "metadata": {
        "id": "7098ZEmWXUQK"
      },
      "source": [
        "Função para gerar tokens de palavras, referentes a cada frase"
      ]
    },
    {
      "cell_type": "code",
      "execution_count": null,
      "metadata": {
        "id": "CmQllFlDaCHj"
      },
      "outputs": [],
      "source": [
        "def tokenizar(coluna):\n",
        "    # Tokeniza as frases\n",
        "    tokensPalavras = nltk.word_tokenize(coluna)\n",
        "    return tokensPalavras"
      ]
    },
    {
      "cell_type": "markdown",
      "metadata": {
        "id": "iC9ufRU7PIWA"
      },
      "source": [
        "Testes isolados:"
      ]
    },
    {
      "cell_type": "markdown",
      "metadata": {
        "id": "-cVcC7D_aJdx"
      },
      "source": [
        "Geração de dicionario."
      ]
    },
    {
      "cell_type": "code",
      "execution_count": null,
      "metadata": {
        "id": "cn5cKVECuLQA"
      },
      "outputs": [],
      "source": [
        "tokenizacaoPalavra(df['texto'])"
      ]
    },
    {
      "cell_type": "markdown",
      "metadata": {
        "id": "szBXORpvaOUc"
      },
      "source": [
        "Tokenizando frases."
      ]
    },
    {
      "cell_type": "code",
      "execution_count": null,
      "metadata": {
        "id": "lJIrbuVarPzb"
      },
      "outputs": [],
      "source": [
        "tokenizacaoFrase(df['texto'])"
      ]
    },
    {
      "cell_type": "markdown",
      "metadata": {
        "id": "l6hGt8_9aTdd"
      },
      "source": [
        "Tokenizando as palavras de cada post individualmente"
      ]
    },
    {
      "cell_type": "code",
      "execution_count": null,
      "metadata": {
        "id": "Ep5TKiZYalBz"
      },
      "outputs": [],
      "source": [
        "resultado = df['texto'].apply(tokenizar)\n",
        "resultado"
      ]
    },
    {
      "cell_type": "markdown",
      "metadata": {
        "id": "BAQJ4x_3bbbO"
      },
      "source": [
        "### 3.7 Remoção de stopwords\n"
      ]
    },
    {
      "cell_type": "markdown",
      "metadata": {
        "id": "ZQjRQ5HYbbbP"
      },
      "source": [
        "A remoção dos Stop Words é um pré-processamento importante pois elimina palavras irrelevantes que podem prejudicar a precisão do modelo final, como artigos, preposições, conjunções, entre outros conectores. Esse tratamento ajuda na eficácia da classificação de texto  e na redução tanto do vocabulário quanto de ruídos (palavras que não têm um valor semântico significativo)."
      ]
    },
    {
      "cell_type": "code",
      "execution_count": null,
      "metadata": {
        "id": "12aYfCC9v49C"
      },
      "outputs": [],
      "source": [
        "def remocaoStopWords(coluna):\n",
        "    listaSemStopWords = []\n",
        "    for texto in coluna:\n",
        "        # converte o texto em um documento do Spacy\n",
        "        doc = nlp(texto)\n",
        "        # filtra os tokens que não são stop words\n",
        "        tokenSemStopwords = [token.text for token in doc if not token.is_stop]\n",
        "        # adiciona a lista de frases sem stop words\n",
        "        listaSemStopWords.append(' '.join(tokenSemStopwords))\n",
        "    # substitui a coluna original pelos textos sem stop words\n",
        "    coluna[:] = listaSemStopWords\n",
        "    return coluna"
      ]
    },
    {
      "cell_type": "markdown",
      "metadata": {
        "id": "baEM2yh9QBQm"
      },
      "source": [
        "Teste isolado"
      ]
    },
    {
      "cell_type": "code",
      "execution_count": null,
      "metadata": {
        "id": "C-25119jPba_"
      },
      "outputs": [],
      "source": [
        "remocaoStopWords(df['texto'])"
      ]
    },
    {
      "cell_type": "markdown",
      "metadata": {
        "id": "NwbhwwR1BEpo"
      },
      "source": [
        "### 3.8 Testes isolados"
      ]
    },
    {
      "cell_type": "markdown",
      "metadata": {
        "id": "Iqa12FgQDHUA"
      },
      "source": [
        "Teste isolado para função de remoção de acentos:"
      ]
    },
    {
      "cell_type": "code",
      "execution_count": null,
      "metadata": {
        "id": "ahCFXPI3BKYR"
      },
      "outputs": [],
      "source": [
        "remocaoAcentos(df)"
      ]
    },
    {
      "cell_type": "markdown",
      "metadata": {
        "id": "2lW9kHViDQhY"
      },
      "source": [
        "Teste isolado para função de tratamento de letras maiúsculas:"
      ]
    },
    {
      "cell_type": "code",
      "execution_count": null,
      "metadata": {
        "id": "VCotuM-UBRTE"
      },
      "outputs": [],
      "source": [
        "tratamentoMaiusculas(df)"
      ]
    },
    {
      "cell_type": "markdown",
      "metadata": {
        "id": "wqCS535fDUdq"
      },
      "source": [
        "teste isolado para função de conversão de emojis:"
      ]
    },
    {
      "cell_type": "code",
      "execution_count": null,
      "metadata": {
        "id": "2AFLkD5kCGgr"
      },
      "outputs": [],
      "source": [
        "conversaoEmojis(df['texto'])"
      ]
    },
    {
      "cell_type": "markdown",
      "metadata": {
        "id": "qeWwKT-FDYn9"
      },
      "source": [
        "Teste isolado para função de tratamento de abreviações:"
      ]
    },
    {
      "cell_type": "code",
      "execution_count": null,
      "metadata": {
        "id": "OvBoDJERCR9E"
      },
      "outputs": [],
      "source": [
        "tratamentoAbreviacoes(df['texto'])"
      ]
    },
    {
      "cell_type": "markdown",
      "metadata": {
        "id": "-Io9jJFPDcOE"
      },
      "source": [
        "Teste isolado para função de gerar dicionario dos comentários:"
      ]
    },
    {
      "cell_type": "code",
      "execution_count": null,
      "metadata": {
        "id": "XMScrRBoCrTD"
      },
      "outputs": [],
      "source": [
        "tokenizacaoPalavra(df['texto'])"
      ]
    },
    {
      "cell_type": "markdown",
      "metadata": {
        "id": "OlTqNq82axLL"
      },
      "source": [
        "Teste isolado da função de gerar tokens de cada comentario:"
      ]
    },
    {
      "cell_type": "code",
      "execution_count": null,
      "metadata": {
        "id": "wQgGvCB9a36z"
      },
      "outputs": [],
      "source": [
        "resultado = df['texto'].apply(tokenizar)\n",
        "resultado"
      ]
    },
    {
      "cell_type": "markdown",
      "metadata": {
        "id": "QBr4pJ6UDglw"
      },
      "source": [
        "Teste isolado para função que remove stopwords:"
      ]
    },
    {
      "cell_type": "code",
      "execution_count": null,
      "metadata": {
        "colab": {
          "background_save": true
        },
        "id": "Vr2qR-n7Czcv"
      },
      "outputs": [],
      "source": [
        "remocaoStopWords(df['texto'])"
      ]
    },
    {
      "cell_type": "markdown",
      "metadata": {
        "id": "nIxt9tJAHnCb"
      },
      "source": [
        "### 3.9 Pipeline dos pré processamentos"
      ]
    },
    {
      "cell_type": "markdown",
      "metadata": {
        "id": "KnIfQOVZLLLx"
      },
      "source": [
        "Criação de pipiline para tratamento dos dados."
      ]
    },
    {
      "cell_type": "code",
      "execution_count": null,
      "metadata": {
        "id": "mZjV13HRHzIP"
      },
      "outputs": [],
      "source": [
        "def pipeline(dados):\n",
        "  #cria um novo df a ser tratado\n",
        "  dadosT =  pd.DataFrame({'dadosTratados': dados})\n",
        "  # remove os acentos dos dados\n",
        "  dadosT['dadosTratados'] = remocaoAcentos(dadosT) \n",
        "  # substituição das letras maiusculas dos dados\n",
        "  dadosT['dadosTratados'] = tratamentoMaiusculas(dadosT)\n",
        "  ## tratamento dos emojis\n",
        "  #dadosT = conversaoEmojis(dadosT)\n",
        "  #tratamento de abreviações \n",
        "  dadosT['dadosTratados'] = tratamentoAbreviacoes(dadosT['dadosTratados'])\n",
        "  ##tratamento de stopwords\n",
        "  dadosT['dadosTratados'] = remocaoStopWords(dadosT['dadosTratados'])\n",
        "  ## lemmatização\n",
        "  dadosT['dadosTratados'] = textoLemmatizado(dadosT['dadosTratados'])\n",
        "  return dadosT['dadosTratados']"
      ]
    },
    {
      "cell_type": "markdown",
      "metadata": {
        "id": "DPPAkeOyLKbA"
      },
      "source": [
        "#### 3.9.1 Resultado dos pré processamentos."
      ]
    },
    {
      "cell_type": "markdown",
      "metadata": {
        "id": "WH9T5uiVLaEa"
      },
      "source": [
        "Abaixo e póssivel ver o resultado dessa pipeline."
      ]
    },
    {
      "cell_type": "code",
      "execution_count": null,
      "metadata": {
        "colab": {
          "base_uri": "https://localhost:8080/"
        },
        "id": "cW_Bx1xoLhlS",
        "outputId": "5a6699aa-514b-436a-f010-8a2cc4fb2e1b"
      },
      "outputs": [
        {
          "output_type": "execute_result",
          "data": {
            "text/plain": [
              "0       alvarez    marsal estarar Conosco sportainmetr...\n",
              "1       repost btgpactual With Make_repost    entendar...\n",
              "2                                       minuto touro ouro\n",
              "3                                                        \n",
              "4                querer    banking proprio    administrar\n",
              "                              ...                        \n",
              "9482                           atendar telefone amor Deus\n",
              "9483    voce sao    grande fiis mercado nao     seleci...\n",
              "9484    erro financeiro eliminar    ano    parar osten...\n",
              "9485    guadakan chegar    aula publico formato espeta...\n",
              "9486       morning call nao aparecer spotify atualizar...\n",
              "Name: dadosTratados, Length: 9487, dtype: object"
            ]
          },
          "metadata": {},
          "execution_count": 15
        }
      ],
      "source": [
        "dadosTratados = pipeline(df['texto'])\n",
        "dadosTratados"
      ]
    },
    {
      "cell_type": "markdown",
      "metadata": {
        "id": "RGq9lC2eLvRh"
      },
      "source": [
        "Também foi criada a váriavel \"dadosTratados\", que pode ser utilizada posteriormente para visualizar o resultado de essa pipeline."
      ]
    },
    {
      "cell_type": "markdown",
      "metadata": {
        "id": "4Asa0FIoQk-C"
      },
      "source": [
        "#### 3.9.2 Exportando pré processamento"
      ]
    },
    {
      "cell_type": "code",
      "execution_count": null,
      "metadata": {
        "id": "QuXsZ7NeQtow"
      },
      "outputs": [],
      "source": [
        "dfTratado = pd.DataFrame({'texto': dadosTratados, 'targetSentimento': df['targetSentimento']})"
      ]
    },
    {
      "cell_type": "code",
      "execution_count": null,
      "metadata": {
        "colab": {
          "base_uri": "https://localhost:8080/",
          "height": 423
        },
        "id": "hMbc0RLCRDdl",
        "outputId": "ed41a87c-d008-4562-eaf2-9554b2e24a55"
      },
      "outputs": [
        {
          "output_type": "execute_result",
          "data": {
            "text/plain": [
              "                                                  texto targetSentimento\n",
              "0     alvarez    marsal estarar Conosco sportainmetr...          NEUTRAL\n",
              "1     repost btgpactual With Make_repost    entendar...          NEUTRAL\n",
              "2                                     minuto touro ouro         POSITIVE\n",
              "3                                                                NEUTRAL\n",
              "4              querer    banking proprio    administrar         POSITIVE\n",
              "...                                                 ...              ...\n",
              "9482                         atendar telefone amor Deus         POSITIVE\n",
              "9483  voce sao    grande fiis mercado nao     seleci...         POSITIVE\n",
              "9484  erro financeiro eliminar    ano    parar osten...          NEUTRAL\n",
              "9485  guadakan chegar    aula publico formato espeta...          NEUTRAL\n",
              "9486     morning call nao aparecer spotify atualizar...         NEGATIVE\n",
              "\n",
              "[9487 rows x 2 columns]"
            ],
            "text/html": [
              "\n",
              "  <div id=\"df-0e356b6e-0556-48ca-8737-ae7d48ea7daf\">\n",
              "    <div class=\"colab-df-container\">\n",
              "      <div>\n",
              "<style scoped>\n",
              "    .dataframe tbody tr th:only-of-type {\n",
              "        vertical-align: middle;\n",
              "    }\n",
              "\n",
              "    .dataframe tbody tr th {\n",
              "        vertical-align: top;\n",
              "    }\n",
              "\n",
              "    .dataframe thead th {\n",
              "        text-align: right;\n",
              "    }\n",
              "</style>\n",
              "<table border=\"1\" class=\"dataframe\">\n",
              "  <thead>\n",
              "    <tr style=\"text-align: right;\">\n",
              "      <th></th>\n",
              "      <th>texto</th>\n",
              "      <th>targetSentimento</th>\n",
              "    </tr>\n",
              "  </thead>\n",
              "  <tbody>\n",
              "    <tr>\n",
              "      <th>0</th>\n",
              "      <td>alvarez    marsal estarar Conosco sportainmetr...</td>\n",
              "      <td>NEUTRAL</td>\n",
              "    </tr>\n",
              "    <tr>\n",
              "      <th>1</th>\n",
              "      <td>repost btgpactual With Make_repost    entendar...</td>\n",
              "      <td>NEUTRAL</td>\n",
              "    </tr>\n",
              "    <tr>\n",
              "      <th>2</th>\n",
              "      <td>minuto touro ouro</td>\n",
              "      <td>POSITIVE</td>\n",
              "    </tr>\n",
              "    <tr>\n",
              "      <th>3</th>\n",
              "      <td></td>\n",
              "      <td>NEUTRAL</td>\n",
              "    </tr>\n",
              "    <tr>\n",
              "      <th>4</th>\n",
              "      <td>querer    banking proprio    administrar</td>\n",
              "      <td>POSITIVE</td>\n",
              "    </tr>\n",
              "    <tr>\n",
              "      <th>...</th>\n",
              "      <td>...</td>\n",
              "      <td>...</td>\n",
              "    </tr>\n",
              "    <tr>\n",
              "      <th>9482</th>\n",
              "      <td>atendar telefone amor Deus</td>\n",
              "      <td>POSITIVE</td>\n",
              "    </tr>\n",
              "    <tr>\n",
              "      <th>9483</th>\n",
              "      <td>voce sao    grande fiis mercado nao     seleci...</td>\n",
              "      <td>POSITIVE</td>\n",
              "    </tr>\n",
              "    <tr>\n",
              "      <th>9484</th>\n",
              "      <td>erro financeiro eliminar    ano    parar osten...</td>\n",
              "      <td>NEUTRAL</td>\n",
              "    </tr>\n",
              "    <tr>\n",
              "      <th>9485</th>\n",
              "      <td>guadakan chegar    aula publico formato espeta...</td>\n",
              "      <td>NEUTRAL</td>\n",
              "    </tr>\n",
              "    <tr>\n",
              "      <th>9486</th>\n",
              "      <td>morning call nao aparecer spotify atualizar...</td>\n",
              "      <td>NEGATIVE</td>\n",
              "    </tr>\n",
              "  </tbody>\n",
              "</table>\n",
              "<p>9487 rows × 2 columns</p>\n",
              "</div>\n",
              "      <button class=\"colab-df-convert\" onclick=\"convertToInteractive('df-0e356b6e-0556-48ca-8737-ae7d48ea7daf')\"\n",
              "              title=\"Convert this dataframe to an interactive table.\"\n",
              "              style=\"display:none;\">\n",
              "        \n",
              "  <svg xmlns=\"http://www.w3.org/2000/svg\" height=\"24px\"viewBox=\"0 0 24 24\"\n",
              "       width=\"24px\">\n",
              "    <path d=\"M0 0h24v24H0V0z\" fill=\"none\"/>\n",
              "    <path d=\"M18.56 5.44l.94 2.06.94-2.06 2.06-.94-2.06-.94-.94-2.06-.94 2.06-2.06.94zm-11 1L8.5 8.5l.94-2.06 2.06-.94-2.06-.94L8.5 2.5l-.94 2.06-2.06.94zm10 10l.94 2.06.94-2.06 2.06-.94-2.06-.94-.94-2.06-.94 2.06-2.06.94z\"/><path d=\"M17.41 7.96l-1.37-1.37c-.4-.4-.92-.59-1.43-.59-.52 0-1.04.2-1.43.59L10.3 9.45l-7.72 7.72c-.78.78-.78 2.05 0 2.83L4 21.41c.39.39.9.59 1.41.59.51 0 1.02-.2 1.41-.59l7.78-7.78 2.81-2.81c.8-.78.8-2.07 0-2.86zM5.41 20L4 18.59l7.72-7.72 1.47 1.35L5.41 20z\"/>\n",
              "  </svg>\n",
              "      </button>\n",
              "      \n",
              "  <style>\n",
              "    .colab-df-container {\n",
              "      display:flex;\n",
              "      flex-wrap:wrap;\n",
              "      gap: 12px;\n",
              "    }\n",
              "\n",
              "    .colab-df-convert {\n",
              "      background-color: #E8F0FE;\n",
              "      border: none;\n",
              "      border-radius: 50%;\n",
              "      cursor: pointer;\n",
              "      display: none;\n",
              "      fill: #1967D2;\n",
              "      height: 32px;\n",
              "      padding: 0 0 0 0;\n",
              "      width: 32px;\n",
              "    }\n",
              "\n",
              "    .colab-df-convert:hover {\n",
              "      background-color: #E2EBFA;\n",
              "      box-shadow: 0px 1px 2px rgba(60, 64, 67, 0.3), 0px 1px 3px 1px rgba(60, 64, 67, 0.15);\n",
              "      fill: #174EA6;\n",
              "    }\n",
              "\n",
              "    [theme=dark] .colab-df-convert {\n",
              "      background-color: #3B4455;\n",
              "      fill: #D2E3FC;\n",
              "    }\n",
              "\n",
              "    [theme=dark] .colab-df-convert:hover {\n",
              "      background-color: #434B5C;\n",
              "      box-shadow: 0px 1px 3px 1px rgba(0, 0, 0, 0.15);\n",
              "      filter: drop-shadow(0px 1px 2px rgba(0, 0, 0, 0.3));\n",
              "      fill: #FFFFFF;\n",
              "    }\n",
              "  </style>\n",
              "\n",
              "      <script>\n",
              "        const buttonEl =\n",
              "          document.querySelector('#df-0e356b6e-0556-48ca-8737-ae7d48ea7daf button.colab-df-convert');\n",
              "        buttonEl.style.display =\n",
              "          google.colab.kernel.accessAllowed ? 'block' : 'none';\n",
              "\n",
              "        async function convertToInteractive(key) {\n",
              "          const element = document.querySelector('#df-0e356b6e-0556-48ca-8737-ae7d48ea7daf');\n",
              "          const dataTable =\n",
              "            await google.colab.kernel.invokeFunction('convertToInteractive',\n",
              "                                                     [key], {});\n",
              "          if (!dataTable) return;\n",
              "\n",
              "          const docLinkHtml = 'Like what you see? Visit the ' +\n",
              "            '<a target=\"_blank\" href=https://colab.research.google.com/notebooks/data_table.ipynb>data table notebook</a>'\n",
              "            + ' to learn more about interactive tables.';\n",
              "          element.innerHTML = '';\n",
              "          dataTable['output_type'] = 'display_data';\n",
              "          await google.colab.output.renderOutput(dataTable, element);\n",
              "          const docLink = document.createElement('div');\n",
              "          docLink.innerHTML = docLinkHtml;\n",
              "          element.appendChild(docLink);\n",
              "        }\n",
              "      </script>\n",
              "    </div>\n",
              "  </div>\n",
              "  "
            ]
          },
          "metadata": {},
          "execution_count": 17
        }
      ],
      "source": [
        "dfTratado"
      ]
    },
    {
      "cell_type": "code",
      "execution_count": null,
      "metadata": {
        "id": "m4cB09f3Rzy_"
      },
      "outputs": [],
      "source": [
        "dfTratado.to_csv('resultadoTratamento.csv', index=False)"
      ]
    },
    {
      "cell_type": "markdown",
      "metadata": {
        "id": "-ldg79l0bbbS"
      },
      "source": [
        "##4.0  Bag of words"
      ]
    },
    {
      "cell_type": "markdown",
      "metadata": {
        "id": "9NfxQfqwZPD1"
      },
      "source": [
        "O modelo de bag of words (ou, em tradução literal, saco de palavras) é uma representação que transforma texto em vetores de tamanho fixo para contar quantas vezes as palavras aparecem nas frases em questão. Esse método é comumente chamado de **vetorização**."
      ]
    },
    {
      "cell_type": "markdown",
      "metadata": {
        "id": "ihwBPKd71mH3"
      },
      "source": [
        "### 4.1 Setup do modelo"
      ]
    },
    {
      "cell_type": "code",
      "execution_count": null,
      "metadata": {
        "id": "rEC3Zc7j1vJd"
      },
      "outputs": [],
      "source": [
        "#importação de bibliotecas\n",
        "#importação de keras, para execução do modelo e criação do dicionario\n",
        "from keras.preprocessing.text import Tokenizer"
      ]
    },
    {
      "cell_type": "markdown",
      "metadata": {
        "id": "is3yvOVb408S"
      },
      "source": [
        "#### 4.1.1 Definição de funções\n"
      ]
    },
    {
      "cell_type": "markdown",
      "metadata": {
        "id": "z-tfwtrI408T"
      },
      "source": [
        "função para criação dos vetores:\n"
      ]
    },
    {
      "cell_type": "code",
      "execution_count": null,
      "metadata": {
        "id": "B4ggs2ya4-HT"
      },
      "outputs": [],
      "source": [
        "#função para chamar o modelo de bag of words, e salvar um vetor de recorrencia.\n",
        "def bagOfWords(tokens,comentarios):\n",
        "  salvar = tokens.texts_to_matrix(comentarios, mode='count')\n",
        "  return salvar"
      ]
    },
    {
      "cell_type": "markdown",
      "metadata": {
        "id": "ztddFNQf408S"
      },
      "source": [
        "###4.2 Execução do modelo\n"
      ]
    },
    {
      "cell_type": "markdown",
      "metadata": {
        "id": "IzYrieC-408T"
      },
      "source": [
        "##### 4.2.1 Teste do modelo de bag of words"
      ]
    },
    {
      "cell_type": "markdown",
      "metadata": {
        "id": "2vcKCLX4PABI"
      },
      "source": [
        "Nesse momento é chamada a função bag of words para realização do teste da função."
      ]
    },
    {
      "cell_type": "code",
      "execution_count": null,
      "metadata": {
        "colab": {
          "base_uri": "https://localhost:8080/"
        },
        "id": "SmOpT0KS8a5M",
        "outputId": "ddbb1708-0e9c-40f1-d26c-d59b34bc3032"
      },
      "outputs": [
        {
          "output_type": "execute_result",
          "data": {
            "text/plain": [
              "array([[0., 1., 3., ..., 0., 0., 0.],\n",
              "       [0., 1., 2., ..., 0., 0., 0.],\n",
              "       [0., 1., 0., ..., 0., 0., 0.],\n",
              "       ...,\n",
              "       [0., 6., 2., ..., 0., 0., 0.],\n",
              "       [0., 6., 7., ..., 1., 1., 1.],\n",
              "       [0., 0., 1., ..., 0., 0., 0.]])"
            ]
          },
          "metadata": {},
          "execution_count": 20
        }
      ],
      "source": [
        "bagOfWords(tokenizacaoPalavra(df['texto']),df['texto'])"
      ]
    },
    {
      "cell_type": "markdown",
      "metadata": {
        "id": "HJJM1ZTtOagc"
      },
      "source": [
        "Como é possível visualizar pelo resultado, com o modelo, conseguimos obter como retorno uma matriz com o número de repetições de cada palavra presente no dicionário."
      ]
    },
    {
      "cell_type": "markdown",
      "metadata": {
        "id": "3BHFLPIFAPbj"
      },
      "source": [
        "###4.3 Modelo Bag of Words"
      ]
    },
    {
      "cell_type": "markdown",
      "metadata": {
        "id": "SZBPVlSfvuwu"
      },
      "source": [
        "Abaixo é possível ver a função que define a pipeline que será utilizada no modelo, com todos os pré-processamentos realizados e o modelo BOW aplicado para gerar um dicionário e um vetor."
      ]
    },
    {
      "cell_type": "code",
      "execution_count": null,
      "metadata": {
        "id": "74sPwqnuAS7r"
      },
      "outputs": [],
      "source": [
        "def modeloBow(dados):\n",
        "  #Recebe os dados a ser realizado o BOW\n",
        "  dadosTratados = pipeline(dados)\n",
        "  #cria um novo df a ser tratado\n",
        "  dadosT =  pd.DataFrame({'dadosBow': dadosTratados})\n",
        "  #tokenização/geração de dicionario\n",
        "  dicionario = tokenizacaoPalavra(dadosT['dadosBow'])\n",
        "  # chamando o modelo de bag of words, usando dados_t e o dicionario criado com a tokenização\n",
        "  modelo = (bagOfWords(dicionario,dadosT['dadosBow']))\n",
        "  return modelo,dicionario"
      ]
    },
    {
      "cell_type": "markdown",
      "metadata": {
        "id": "fl5mwE2K0Qtq"
      },
      "source": [
        "Abaixo é possível ver o resultado da execução da função pipeline:"
      ]
    },
    {
      "cell_type": "code",
      "execution_count": null,
      "metadata": {
        "colab": {
          "base_uri": "https://localhost:8080/"
        },
        "id": "WpJUNuhEbCAQ",
        "outputId": "7b1734db-974b-4a8a-eea5-74f8f848b449"
      },
      "outputs": [
        {
          "output_type": "stream",
          "name": "stdout",
          "text": [
            "['btgpactual', 'nao', 'investimento', 'voce', 'banco', 'dia', 'mercado', 'ano', 'bom', 'financeiro', 'evento', 'ja', 'sao', 'brasil', 'fundo', 'so', 'cliente', 'hoje', 'empresa', 'contar', 'ser', 'tambem', 'r', 'time', 'acoes', 'ir', 'economia', 'taxa', 'ate', 'dinheiro', 'investir', 'ficar', 'pessoa', 'paulo', 'falar', 'ativo', 'semana', 'estar', 'bio', 'vida', 'fazer', 'negocio', 'oportunidade', 'investidor', 'ajudar', 'mercadofinanceiro', 'inflacao', 'aler', 'selic', 'de', 'futuro', 'compra', 'linkr', 'equipe', 'trabalho', 'ter', 'link', 'estao', 'parabem', 'fiis', 'politico', 'participar', 'cartao', 'incrivel', 'email', 'copom', 'importante', 'principal', 'la', 'sucesso', 'repost', 'passar', 'junto', 'resultado', 'mulher', 'mundo', 'conseguir', 'dar', 'abrir', 'credito', 'seguir', 'acontecer', 'cenario', 'brasileiro', 'alto', 'completo', 'realizar', 'especial', 'precisar', 'relatorio', 'parceiro', 'parceria', 'muito', 'conta', 'atendimento', 'mes', 'trader', 'pesquisa', 'gente', 'ai', 'oferta', 'deixar', 'latino', 'chegar', 'divulgar', 'conhecer', 'post', 'capital', 'escritorio', 'app', 'objetivo', 'profissional', 'assessor', 'projeto', 'juro', 'receber', 'socio', 'analise', 'milhoes', 'telefone', 'ha', 'flu', 'gostar', 'renda', 'pai', 'areo', 'porto', 'experiencia', 'ceo', 'produto', 'americar', 'cdb', 'comecar', 'ibovespa', 'acompanhar', 'esperar', 'site', 'imobiliario', 'monetario', 'trabalhar', 'oficial', 'b', 'ver', 'informativo', 'alegre', 'poder', 'vendo', 'hora', 'carteira', 'carater', 'constituir', 'apo', 'acreditar', 'h', 'central', 'social', 'agradecer', 'debentur', 'risco', 'aumento', 'disclaimer', 'acordo', 'disponivel', 'possivel', 'contatocombr', 'encontro', 'amgcapital', 'querer', 'wwwamgcapitalcombr', 'credenciados', 'florianopoli', 'trazer', 'entender', 'pensar', 'real', 'edicao', 'limite', 'macro', 'economico', 'nome', 'educacaofinanceirar', 'saber', 'servico', 'amigo', 'programa', 'processo', 'longo', 'canal', 'day', 'setor', 'lci', 'lucro', 'gestao', 'with', 'proximo', 'digital', 'apresentar', 'estrategia', 'ultimo', 'etfs', 'periodo', 'conhecimento', 'tesourodireto', 'acessar', 'compartilhar', 'reuniao', 'lcar', 'desafio', 'presenca', 'retorno', 'decisao', 'prazo', 'entao', 'valor', 'representar', 'patrimonio', 'pro', 'imovel', 'crescer', 'sera', 'vir', 'sonho', 'continuar', 'financo', 'aprender', 'contato', 'acer', 'caso', 'youtube', 'vao', 'tomar', 'feliz', 'bolsadevalor', 'tao', 'grande', 'sacre', 'pagar', 'em', 'recomendar', 'painel', 'comprar', 'manter', 'comunicar', 'valer', 'xpinvestimento', 'trimestre', 'pagamento', 'foco', 'ta', 'entrar', 'nacional', 'crescimento', 'agosto', 'marco', 'pessoal', 'algum', 'direito', 'plataforma', 'gratuito', 'levar', 'historia', 'buscar', 'acesso', 'explicar', 'sacreinvestimento', 'prazer', 'the', 'tornar', 'seguro', 'assessoriar', 'corretora', 'bilhoes', 'destaque', 'outro', 'storie', 'forte', 'perder', 'prova', 'aproveitar', 'carreira', 'comitar', 'confiro', 'criar', 'lider', 'chamar', 'atrave', 'andre', 'oferecer', 'educacao', 'eu', 'frente', 'fii', 'casa', 'tecnologia', 'video', 'conteudo', 'sair', 'total', 'foto', 'construir', 'passado', 'ambiente', 'qualidade', 'achar', 'patrocinador', 'presidente', 'ganhar', 'mostrar', 'y', 'resolver', 'trade', 'apoiar', 'convidar', 'facar', 'perfil', 'informar', 'historio', 'tema', 'voltar', 'excelente', 'preco', 'global', 'encontrar', 'noite', 'ajustar', 'impacto', 'exame', 'existir', 'jornada', 'deus', 'presente', 'top', 'confianca', 'rio', 'confira', 'exclusivo', 'ler', 'participacao', 'excelencia', 'valorsacre', 'informacoes', 'pedir', 'unico', 'tecnico', 'marca', 'serar', 'jovem', 'especialista', 'encerrar', 'publico', 'acquavero', 'orgulho', 'vivo', 'rede', 'mudar', 'gerar', 'certo', 'relevante', 'super', 'erro', 'rendavariavel', 'lideranca', 'ninguem', 'assunto', 'abaixo', 'dolar', 'passo', 'junho', 'esporte', 'fundosimobiliario', 'proposito', 'comigo', 'por', 'recurso', 'olhar', 'of', 'agro', 'inscricao', 'en', 'aluno', 'mesmo', 'i', 'outubro', 'ele', 'm', 'sala', 'fiz', 'ouvir', 'diferente', 'setembro', 'lembrar', 'beneficio', 'marcar', 'basico', 'fixo', 'empreendedorismo', 'atencao', 'durante', 'convite', 'problema', 'comunidade', 'tera', 'episodio', 'realmente', 'preciso', 'gestor', 'cultura', 'instituto', 'show', 'recorde', 'research', 'dizer', 'bolsonaro', 'comercial', 'melhor', 'serao', 'operar', 'elevar', 'esse', 'planejamento', 'operacao', 'prever', 'papel', 'comentario', 'garantir', 'economista', 'aumentar', 'deg', 'preparar', 'atividade', 'tirar', 'agradeco', 'lula', 'conferir', 'confirmar', 'agronegocio', 'colocar', 'subir', 'aplicativo', 'reconhecer', 'evolucao', 'viver', 'ar', 'operacoes', 'desenvolver', 'diretor', 'seguranca', 'faco', 'treinamento', 'arrastir', 'bolsa', 'realidade', 'fechar', 'ranking', 'patrimonial', 'honra', 'comeco', 'ne', 'usar', 'internacional', 'conquistar', 'premio', 'acima', 'el', 'mudanca', 'necessario', 'relacao', 'simples', 'resposta', 'proporcionar', 'cuidar', 'aai', 'entregar', 'pix', 'maio', 'sp', 'funcionar', 'suporte', 'espaco', 'cotar', 'nivel', 'roberto', 'proprio', 'distribuicao', 'trajetoria', 'atual', 'commodities', 'tentar', 'aprendizar', 'escolher', 'administrador', 'meta', 'empreendedor', 'dica', 'vario', 'familiar', 'pessimo', 'anunciar', 'visao', 'vender', 'efeito', 'comite', 'somar', 'maneira', 'escolha', 'segmento', 'quase', 'dever', 'and', 'governo', 'abril', 'possuir', 'responder', 'privado', 'indice', 'acao', 'controlar', 'movimento', 'conosco', 'informacao', 'rendimento', 'contratar', 'baixar', 'reunir', 'transformar', 'trocar', 'papo', 'black', 'ciclo', 'fato', 'igual', 'energia', 'haver', 'gratidao', 'mandar', 'dedicacao', 'cordierinvestimento', 'desejar', 'tr', 'networking', 'modelo', 'base', 'ordem', 'promover', 'permitir', 'otimo', 'diariamente', 'verdade', 'agradecimento', 'area', 'vantagem', 'diferenca', 'cidade', 'numero', 'focar', 'diversos', 'curso', 'ultima', 'utilizar', 'xp', 'pequeno', 'userepost', 'aa', 'marthaleonardis', 'inovacao', 'motivo', 'tendencia', 'registrar', 'rentabilidade', 'mau', 'cotisto', 'claro', 'colaborador', 'selecionar', 'positivo', 'reduzir', 'enviar', 'percentual', 'patrocinio', 'entretenimento', 'plano', 'detalhe', 'headr', 'atuar', 'br', 'expansao', 'instrumento', 'taxaselic', 'sportainment', 'carteiro', 'performance', 'acabar', 'santo', 'instituicao', 'cara', 'coto', 'data', 'macroeconomia', 'parcerio', 'amanho', 'aluguel', 'feira', 'palestra', 'in', 'rapir', 'nota', 'atingir', 'live', 'possibilidade', 'janeiro', 'responsabilidade', 'liquido', 'make', 'integrar', 'desenvolvimento', 'imaginar', 'assessordeinvestimento', 'organizar', 'cair', 'interesse', 'iniciativa', 'balanco', 'tbt', 'conversa', 'bancocentral', 'momento', 'assessoriadeinvestimento', 'visitar', 'conquista', 'mensagem', 'forca', 'gestora', 'bradesco', 'inscricoes', 'considerar', 'estudo', 'octocapitalbr', 'ajustir', 'x', 'referente', 'principalmente', 'direct', 'executivo', 'construcao', 'conte', 'moeda', 'aula', 'entrada', 'alcancar', 'fonte', 'btlg', 'decidir', 'sensacional', 'variavel', 'materia', 'fundamental', 'esg', 'mm', 'sportainmentr', 'afinal', 'transmissao', 'cheio', 'disciplina', 'cota', 'importancia', 'uso', 'viagem', 'ocorrer', 'cambio', 'receitar', 'atender', 'diversidade', 'politica', 'winthegame', 'judicial', 'discutir', 'perguntar', 'consigo', 'responsavel', 'novamente', 'sede', 'dificil', 'relacionar', 'envolver', 'nectoninvestimento', 'emissao', 'etapa', 'receita', 'invest', 'filho', 'cerca', 'rendapassivo', 'facil', 'deumbtg', 'empresario', 'jeito', 'previdencia', 'palavra', 'nenhum', 'coisa', 'conversar', 'assistir', 'titulo', 'organizacoes', 'itau', 'decisoes', 'reducao', 'julho', 'workshop', 'online', 'joao', 'independente', 'onliner', 'agenda', 'alocacao', 'comentar', 'avaliar', 'diverso', 'mansueto', 'aceleracao', 'clube', 'dedicar', 'contrato', 'custo', 'estrutura', 'saude', 'banking', 'recomendacoes', 'mundial', 'comunicacao', 'dividendo', 'reconhecimento', 'inscrever', 'avanco', 'solucoes', 'coracao', 'histor', 'bancario', 'plataformar', 'historico', 'comparacao', 'lima', 'ipca', 'conference', 'busca', 'melhorar', 'afirmar', 'you', 'custodia', 'bater', 'talento', 'visar', 'referencia', 'almeida', 'palestrar', 'proxima', 'cdi', 'consecutivo', 'formar', 'obter', 'hubstage', 'gratuitamente', 'business', 'sociedade', 'sallouti', 'atra', 'iniciar', 'resumo', 'assegurar', 'convergencia', 'inscrevase', 'bicharaemotta', 'indicar', 'tech', 'vaga', 'eua', 'praticar', 'oi', 'direto', 'desempenho', 'novembro', 'vergonha', 'montar', 'emprestimo', 'orgao', 'btgpactualdigital', 'rico', 'ira', 'instituicoe', 'interessante', 'venda', 'amor', 'cotista', 'aplicar', 'experience', 'terminal', 'ouro', 'liberdade', 'tela', 'abordar', 'mercar', 'mar', 'cancelar', 'destacar', 'debate', 'g', 'debater', 'bastar', 'sa', 'estudar', 'opcoe', 'fundador', 'diminuir', 'analista', 'mao', 'produzir', 'presencial', 'portfolio', 'asset', 'del', 'rodrigo', 'alvarosfrasson', 'httpswwwbcbgovbrdetalhenoticianoto', 'aparecer', 'liquidez', 'ottogsparenberg', 'começar', 'marketing', 'tanto', 'ligar', 'solucao', 'corretoro', 'exterior', 'expansaor', 'dificuldade', 'abertura', 'proteger', 'w', 'plataformo', 'imersao', 'cafe', 'sextafeira', 'americo', 'volatilidade', 'mercadoimobiliario', 'fundoimobiliario', 'wiseaai', 'respeito', 'informacoe', 'perspectiva', 'daytrader', 'situacao', 'robertosallouti', 'summit', 'satisfacao', 'agricola', 'relacionamento', 'orgulhar', 'corporativo', 'aniversario', 'parar', 'recebir', 'fatura', 'chat', 'questao', 'olho', 'representante', 'atualmente', 'traders', 'aguardar', 'los', 'fisico', 'wwwclubefiinewscombr', 'atraves', 'pronto', 'lucasmclaro', 'organizacao', 'novidade', 'empreender', 'legal', 'maravilhoso', 'federal', 'sustentavel', 'pouco', 'sentido', 'mesa', 'recuperacao', 'con', 'jornaloglobo', 'management', 'intenso', 'horario', 've', 'bolso', 'juntar', 'expectativo', 'porta', 'curto', 'vincular', 'c', 'fluminense', 'tiago', 'reportagem', 'mensal', 'universo', 'significar', 'medio', 'private', 'grato', 'desafiador', 'guede', 'extremamente', 'opcao', 'lancar', 'semanal', 'v', 'assessoria', 'ulti', 'lir', 'necessidade', 'l', 'trading', 'nelogica', 'ideia', 'bb', 'quartafeira', 'ministro', 'participante', 'capaz', 'virar', 'eles', 'sonhar', 'ultimos', 'simplesmente', 'manutencao', 'negativo', 'sabar', 'atualizar', 'transformacao', 'livre', 'absurdo', 'ela', 'folhadespaulo', 'realestate', 'missao', 'apontar', 'advisor', 'women', 'associar', 'cobrar', 'troca', 'pais', 'fiquei', 'convidado', 'us', 'planejar', 'tenis', 'entrevista', 'patamar', 'horizonte', 'mastermind', 'cvm', 'forum', 'impactar', 'conteur', 'garanta', 'esteves', 'feminino', 'experiencio', 'marcelo', 'privilegio', 'fase', 'opiniao', 'logisticar', 'sentir', 'expectativa', 'material', 'transparencia', 'clicar', 'procurar', 'partner', 'anterior', 'caro', 'diario', 'escutar', 'posicao', 'humano', 'crianco', 'projecoe', 'labs', 'sportainmentlabs', 'bitcoin', 'rever', 'rua', 'volta', 'centro', 'carteirar', 'turma', 'senior', 'liga', 'felipe', 'especializar', 'estrategio', 'equivalente', 'duvir', 'exatamente', 'empresarial', 'queda', 'podcast', 'terra', 'souza', 'amar', 'rogeriokarpr', 'produtor', 'safra', 'devido', 'serio', 'bc', 'companhia', 'potencial', 'by', 'adquirir', 'investor', 'peso', 'incluir', 'dado', 'amo', 'aceitar', 'emergente', 'it', 'woman', 'totalmente', 'primeiro', 'portugal', 'carro', 'infelizmente', 'quintafeira', 'auditorio', 'iof', 'decimo', 'macroeconomico', 'estadao', 'globonews', 'carreiro', 'shb', 'eletrobra', 'fator', 'estrangeiro', 'media', 'evitar', 'rolar', 'inspirador', 'arte', 'geracao', 'bovespa', 'liberdadefinanceira', 'alguir', 'ruim', 'conjunto', 'causar', 'esforco', 'incentivo', 'ofertar', 'justica', 'n', 'rendafixar', 'pt', 'ptbrasil', 'tratar', 'poderao', 'conectar', 'conto', 'call', 'roae', 'mesquitar', 'advogado', 'percar', 'minuto', 'reserva', 'senhor', 'medida', 'carteirarecomendar', 'correr', 'aquisicao', 'cri', 'abri', 'recomer', 'auxiliar', 'atuacao', 'faltar', 'superar', 'membro', 'livro', 'reforcar', 'voto', 'contribuir', 'saldo', 'mestre', 'alta', 'dividir', 'irao', 'seguinte', 'beachtennis', 'independencia', 'movimentar', 'garantia', 'soja', 'produtivo', 'lancamento', 'mdb', 'fevereiro', 'aplicacao', 'jose', 'aportar', 'essencial', 'perfis', 'especialmente', 'surgir', 'diversificar', 'pena', 'atitude', 'leitura', 'obra', 'acerto', 'acumular', 'altar', 'profittoinvestimento', 'analisar', 'confiar', 'conselho', 'carinho', 'comum', 'ana', 'votar', 'professor', 'visaor', 'febraban', 'isso', 'tarcisio', 'agroforum', 'anual', 'familia', 'errar', 'disponibilizar', 'programacao', 'comemorar', 'desejo', 'indicador', 'petroleo', 'admirar', 'pe', 'abaai', 'vencer', 'daytrade', 'expandir', 'agosocial', 'lei', 'revistar', 'modalmal', 'explorar', 'noticio', 'news', 'diversificacao', 'tradicional', 'diretamente', 'serie', 'carlos', 'edu', 'liberar', 'operacional', 'fico', 'documento', 'simulador', 'meto', 'negociar', 'copa', 'enforce', 'macroday', 'russia', 'aviso', 'is', 'certificar', 'via', 'recomendacao', 'crcnews', 'transferencia', 'educacaofinanceira', 'premiacao', 'fantastico', 'homem', 'empenho', 'tennis', 'campanha', 'compromisso', 'definir', 'asinvestimento', 'receb', 'dor', 'financiamento', 'bpac', 'henrique', 'si', 'es', 'andar', 'metro', 'tender', 'rj', 'lulaoficial', 'americano', 'noticia', 'cuidado', 'exercicio', 'topo', 'captacao', 'from', 'empiricus', 'morning', 'antonio', 'randolferodrigue', 'inclusao', 'fgts', 'talks', 'invightme', 'wealth', 'especifico', 'prosperidadeinvestimento', 'on', 'alinhar', 'credibilidade', 'sustentabilidade', 'voz', 'treino', 'valorizar', 'etc', 'estagio', 'inteiro', 'belo', 'fiagro', 'jogo', 'pratico', 'render', 'bank', 'merecer', 'orquestra', 'heliopoli', 'prejuizo', 'depender', 'perda', 'assessora', 'regiao', 'itaur', 'pedro', 'mente', 'funcionario', 'realizacao', 'comeca', 'rs', 'liderar', 'valoreconomico', 'toa', 'acionista', 'gleisihoffmann', 'o', 'lucascostaat', 'locatario', 'selecao', 'gerente', 'recente', 'cade', 'condominio', 'prosperidade', 'saopaulo', 'compartilho', 'head', 'invista', 'ganho', 'funcao', 'personalidade', 'tesouro', 'duvidar', 'apresentacao', 'concerto', 'locacao', 'curtir', 'chance', 'whatsapp', 'localizar', 'industria', 'mentor', 'afetar', 'gastar', 'nascer', 'registro', 'impulsionar', 'seven', 'haddad', 'acelerar', 'oportunidades', 'estados', 'design', 'estagiario', 'batepapo', 'planejamentofinanceiro', 'competente', 'producao', 'orgulhoso', 'gabriel', 'traderbrasil', 'constante', 'domingo', 'causa', 'populacao', 'proposta', 'evoluir', 'maria', 'aprovar', 'riodejaneiro', 'dezembro', 'empreendimento', 'futebol', 'paap', 'significativo', 'assessorio', 'estrategico', 'infraestrutura', 'frear', 'semente', 'candidato', 'esteve', 'ex', 'encerramento', 'competicao', 'transferir', 'pontosbaser', 'enfatiza', 'dependerao', 'pontosbase', 'miniindice', 'oliveira', 'cavalo', 'fabiofariabr', 'conflito', 'preocupar', 'money', 'valorizacao', 'exposicao', 'publicar', 'dividenr', 'interno', 'apesar', 'duvida', 'pagina', 'thi', 'incerteza', 'artigo', 'completar', 'necton', 'enorme', 'medo', 'retirar', 'bor', 'rendafixa', 'rumo', 'duver', 'baixo', 'inspiracao', 'vido', 'mato', 'determinar', 'infomoney', 'grafico', 'minimo', 'diferencial', 'forex', 'octocapital', 'gigante', 'yield', 'unir', 'quadrados', 'investment', 'fe', 'gustavo', 'eleicoe', 'protecao', 'assumir', 'consumidor', 'marcus', 'cobranca', 't', 'ideiar', 'ensinar', 'visita', 'terro', 'revistaistoe', 'santanderbrasil', 'junior', 'llz', 'suficiente', 'personalizar', 'importar', 'talk', 'imagem', 'verificar', 'conduzir', 'qualificar', 'genialinvestimento', 'contexto', 'tempo', 'cabeca', 'jogar', 'kkkkk', 'proximos', 'capacitacao', 'incentivar', 'varejo', 'sinto', 'bi', 'distribuir', 'linha', 'bora', 'horrivel', 'abra', 'unidade', 'crise', 'cadeia', 'cultural', 'dao', 'facilidade', 'insights', 'revista', 'solicitar', 'aspecto', 'fundacao', 'aberturar', 'luco', 'corretagemr', 'deposito', 'sozinho', 'fundosdeinvestimento', 'comportamento', 'fmp', 'aproximar', 'km', 'administrar', 'diferentes', 'parcer', 'player', 'retomar', 'instagr', 'vencedor', 'conexao', 'predio', 'best', 'felicidade', 'inspirar', 'surpreender', 'premiar', 'leia', 'faculdade', 'bloquear', 'bem', 'po', 'corretagem', 'capacidade', 'sociar', 'web', 'aplicacoes', 'ecossistema', 'sul', 'patrocinar', 'competencia', 'master', 'executar', 'desistir', 'reuniaor', 'pratica', 'limitar', 'dividend', 'amiga', 'taoer', 'atrativo', 'carreirar', 'edificio', 'impossivel', 'institucional', 'vontade', 'alternativa', 'esquecer', 'un', 'gtcapital', 'normal', 'sofrer', 'caixa', 'caracteristica', 'habilidade', 'terao', 'grosso', 'musica', 'lucascostaatr', 'cor', 'universidade', 'vidadetrader', 'una', 'portalgr', 'btra', 'rav', 'sany', 'barro', 'paula', 'ucrania', 'economistachefe', 'daniel', 'demaisor', 'gerir', 'definicao', 'fluxo', 'impor', 'almoco', 'ideal', 'proxi', 'are', 'vago', 'team', 'recentemente', 'inesquecivel', 'agente', 'inteligente', 'assista', 'segundafeiro', 'mae', 'tra', 'ok', 'luz', 'guideinvestimento', 'finalizar', 'perspectiveinvestimento', 'terca', 'aqui', 'pantanal', 'ingresso', 'somosvotorantim', 'avaliacao', 'resiliencia', 'caminhar', 'dm', 'facilitar', 'adicional', 'chave', 'hein', 'precos', 'eleitoral', 'las', 'pandemia', 'contrario', 'car', 'duro', 'conforme', 'podcastr', 'reportar', 'esposo', 'formacao', 'destinar', 'ensino', 'fiscal', 'escola', 'rural', 'finance', 'capitalizar', 'padrao', 'mdbsaopaulo', 'adolfo', 'hipismo', 'santa', 'trainee', 'profitchart', 'estrategista', 'decisoe', 'startups', 'parcela', 'observar', 'galerar', 'btg', 'alvo', 'imperdivel', 'lugar', 'gratificante', 'cobertura', 'interpretar', 's', 'chefe', 'travar', 'jornalista', 'ambiental', 'maximo', 'alo', 'tercafeira', 'descobrir', 'pouquinho', 'surpresa', 'vero', 'ancord', 'anuidade', 'divulgacao', 'interessar', 'montante', 'conceito', 'poderar', 'posicionamento', 'respeitar', 'luigicani', 'eficiente', 'fortalecer', 'solicitacao', 'motivacao', 'liquidacao', 'troco', 'fluzao', 'inteli', 'luiz', 'atingimo', 'be', 'milho', 'pwcbrasil', 'minidolar', 'mblivre', 'uolnoticia', 'prolongar', 'uoleconomia', 'correiobraziliense', 'cobrir', 'privatizacao', 'rafamartineli', 'danilogentili', 'amatrar', 'determinacao', 'zona', 'verde', 'aproximadamente', 'categoria', 'fed', 'postar', 'perfeito', 'recebivel', 'elevacao', 'shoppingleblon', 'internet', 'regiaor', 'seletivo', 'leonardo', 'ibov', 'siga', 'like', 'fernando', 'demandar', 'alguer', 'servir', 'europa', 'linda', 'aliar', 'animar', 'dominvestimento', 'inauguracao', 'estrear', 'explicacao', 'lista', 'inumero', 'pegar', 'carrefourbrasil', 'palestro', 'pj', 'kkk', 'listar', 'inteligencia', 'ressaltar', 'nativo', 'my', 'lembrese', 'adorar', 'riqueza', 'palestrante', 'recepcao', 'negociacao', 'bruno', 'fizemos', 'jersonzanlorenzi', 'chame', 'jairmessiasbolsonaro', 'jpmorgan', 'mantera', 'astroponte', 'romeuzemaoficial', 'vigilante', 'suficientemente', 'guerra', 'velho', 'fic', 'conforto', 'conferenciar', 'revelar', 'comprometer', 'prestar', 'condicoe', 'marceloflora', 'auxilio', 'parecer', 'vidadeassessor', 'alimento', 'razao', 'fabio', 'virtual', 'querido', 'fa', 'verdadeiro', 'celebrar', 'mulheresinvestidora', 'ocasiao', 'concorrente', 'mim', 'piloto', 'celular', 'cumprir', 'kkkk', 'aonde', 'investimentos', 'hj', 'divir', 'voluntario', 'arenabtg', 'emocionante', 'teatro', 'logistico', 'fia', 'puder', 'estruturar', 'vendar', 'administracao', 'braco', 'eqiinvestimento', 'eqi', 'terminar', 'consideracao', 'bosta', 'gaboardi', 'consistente', 'fruto', 'administradora', 'debito', 'edpbrasil', 'roubar', 'eleicao', 'praticamente', 'octo', 'voar', 'victorferreira', 'consumo', 'eletrico', 'atleta', 'teste', 'relembrar', 'emitir', 'levantar', 'proxir', 'thiago', 'ricocomvc', 'perspective', 'juridico', 'marcusbuaiz', 'vejanoinsta', 'radar', 'escrever', 'all', 'elogica', 'deflacao', 'btgvirtualchallenge', 'entendar', 'moderar', 'caminho', 'consciente', 'alocar', 'atualizacao', 'machado', 'rendaextrar', 'propriedade', 'costa', 'migrar', 'lucasamader', 'bankers', 'imposto', 'repostr', 'rodrigues', 'busco', 'sentimento', 'quemtemtimetemtudo', 'epocar', 'frase', 'demorar', 'citar', 'branco', 'cadastro', 'abraco', 'your', 'sr', 'turno', 'compor', 'paise', 'maringa', 'xoulee', 'that', 'arthur', 'civil', 'controle', 'toroinvestimento', 'antigo', 'identificar', 'vamo', 'antecipar', 'acontecerar', 'portal', 'k', 'bancobv', 'disparar', 'enfrentar', 'assets', 'jornal', 'refletir', 'google', 'publicacao', 'consultoria', 'eduardo', 'atento', 'contamos', 'semear', 'cordier', 'combustivel', 'idoso', 'negro', 'familio', 'quantidade', 'manho', 'eumebancoeducacao', 'frasson', 'decepcao', 'encerramos', 'vencimento', 'istoe', 'quebrar', 'if', 'sabemi', 'avin', 'estadodemina', 'rallyr', 'mracing', 'fronteira', 'faegr', 'participe', 'work', 'colega', 'experiente', 'direcionar', 'beneficiar', 'elas', 'conexoe', 'pecar', 'milionario', 'enviei', 'palco', 'forevercapitalbr', 'usei', 'alegrio', 'esquerdo', 'crianca', 'aguo', 'enriquecedor', 'f', 'conheca', 'satisfeito', 'separar', 'poupanca', 'observação', 'fera', 'iniciativo', 'termo', 'artisticopedagogico', 'unileverbrasil', 'prata', 'lamentavel', 'expertise', 'demo', 'solucionar', 'varia', 'inter', 'btgpactualempresas', 'segundafeira', 'bahia', 'alternativo', 'pude', 'demonstrar', 'torno', 'integracao', 'entrevistar', 'ladrao', 'ga', 'nuevo', 'brincadeira', 'sorriso', 'vejo', 'tvglobo', 'amazonio', 'orcamento', 'completamente', 'metaverso', 'juntamente', 'vista', 'abencoe', 'preferenciar', 'propaganda', 'contribuicao', 'propor', 'alegria', 'instrucao', 'pilar', 'posicoe', 'fortunar', 'confiante', 'solucoe', 'especiar', 'btgpactualempresa', 'zerar', 'financeiramente', 'racing', 'oedacoisaband', 'mdbnosenar', 'antagonista', 'diariodocentrodomur', 'jovempannews', 'investi', 'gusttavolima', 'emprego', 'tvgazetaoficial', 'crmbonu', 'posted', 'wmm', 'principio', 'diretora', 'ibovespaoficial', 'comat', 'neymarjr', 'cunha', 'estarao', 'optar', 'criacao', 'coragem', 'azul', 'alavancagem', 'araujo', 'iniciei', 'ritmo', 'levantamento', 'aguardo', 'valioso', 'merito', 'brazil', 'honrar', 'aprimorar', 'informacoel', 'calculo', 'natureza', 'meioambiente', 'indico', 'dentre', 'sinfonico', 'prestigiar', 'brasileira', 'dias', 'onixcapital', 'nubankr', 'feio', 'gostariar', 'brunolima', 'clique', 'jamais', 'rafael', 'venho', 'diferenciar', 'semestre', 'assinar', 'boostlab', 'avisar', 'instabilidade', 'termos', 'sigo', 'bemestar', 'modalidade', 'estavel', 'pfizerbrasil', 'noveli', 'ibiunainvestimento', 'furnasenergia', 'alelobrasil', 'parque', 'variar', 'corte', 'ma', 'eleicoes', 'dinamico', 'mudanco', 'recebiveisimobiliario', 'idealizar', 'preto', 'forma', 'avancar', 'congresso', 'ca', 'me', 'literalmente', 'anbimo', 'praia', 'influencia', 'escriturador', 'pib', 'subscricao', 'fechamento', 'crypto', 'multimercar', 'jesus', 'financiar', 'pessoalmente', 'disposicao', 'campeao', 'contir', 'ear', 'vendas', 'trouxer', 'precar', 'vitreo', 'par', 'entanto', 'carolino', 'firula', 'descubrar', 'anuncio', 'util', 'oferto', 'trecho', 'costumar', 'shbrj', 'assembleia', 'acqua', 'tv', 'cironogueirar', 'folhape', 'conexaopoliticabrasil', 'envio', 'diariosp', 'milton', 'folhadobrasil', 'volume', 'flavio', 'redesconto', 'possibilitar', 'agregar', 'cellar', 'guigaspinellipiloto', 'equidade', 'csn', 'myntcrypto', 'assessoriadeinvestimentos', 'modalmaistrader', 'recompensar', 'icmarkets', 'sociofundador', 'hedge', 'tamanho', 'hospital', 'nslu', 'fundar', 'comandar', 'alavancar', 'unidos', 'motivar', 'investments', 'gwminvestments', 'av', 'haverar', 'gerenciar', 'seveninvestor', 'liver', 'depositar', 'saiba', 'tb', 'abundanciar', 'tempoedinheiro', 'mulheresinvestidoro', 'operacoe', 'aulo', 'durar', 'cnnbrasil', 'cartoe', 'sac', 'sugestao', 'solidez', 'lifetime', 'intencao', 'aquele', 'santander', 'bilhao', 'corresponder', 'emprestimos', 'influenciar', 'btgsoma', 'maestro', 'titular', 'novafuturainvestimento', 'decepcionar', 'market', 'este', 'salvador', 'clear', 'linr', 'irmao', 'ferramentar', 'gasto', 'saudade', 'open', 'graca', 'bronze', 'emsfarmaceuticar', 'averydennisonbrasil', 'sofisa', 'estate', 'situacoes', 'fsb', 'isencao', 'rodar', 'acessivel', 'negociacoes', 'mormaii', 'historicamente', 'fornecer', 'ricardo', 'certificacao', 'consequentemente', 'lidar', 'guilherme', 'posts', 'presencialmente', 'imenso', 'atendente', 'devolver', 'condicoes', 'manha', 'quartafeiro', 'estoque', 'permanecer', 'adequado', 'concluir', 'exercito', 'brilhante', 'sorte', 'seguirer', 'imparcial', 'marketeira', 'comercio', 'blockchain', 'inteligenciafinanceira', 'fgv', 'inovadoro', 'sabemibrasil', 'kimkataguiri', 'prejudicar', 'estudante', 'gracas', 'leandro', 'bancointer', 'paguei', 'finshe', 'hipico', 'geducacao', 'movimentacao', 'educador', 'buaiz', 'guiga', 'triton', 'cancer', 'uniaobrasil', 'kimak', 'sequencia', 'natal', 'decente', 'damaresalvesoficial', 'painelisto', 'criptomoer', 'etf', 'mover', 'bandeira', 'proprietario', 'fomentar', 'automobilismo', 'expor', 'china', 'lifetimeinvestimento', 'circulacao', 'investimentosinteligente', 'feriado', 'correto', 'at', 'craque', 'moderno', 'classico', 'justamente', 'enfim', 'externo', 'goiania', 'fundacaoestudar', 'miranda', 'salvar', 'daytrading', 'bola', 'moro', 'pretender', 'quadro', 'salario', 'resultar', 'alexandre', 'amazonia', 'natural', 'more', 'apresentacoe', 'have', 'inicial', 'segredo', 'festa', 'versao', 'acontecimento', 'beto', 'opa', 'cast', 'adiantar', 'vendedor', 'tome', 'espetacular', 'aberto', 'acordar', 'pregao', 'descaso', 'condicao', 'doenca', 'conservador', 'vip', 'bancodaycoval', 'havanoficial', 'complexo', 'mobiliario', 'claudio', 'faca', 'fortaleza', 'inquilino', 'regra', 'apoiador', 'corpo', 'banker', 'prometer', 'campo', 'jornar', 'jorge', 'boat', 'regressivo', 'doacao', 'multiplicar', 'petrobra', 'grupo', 'reclamacao', 'overview', 'corrida', 'cruz', 'preferencio', 'modo', 'agrishow', 'integrante', 'dano', 'boi', 'gordo', 'corroborar', 'somostrader', 'apagar', 'industrial', 'oficialarthurlira', 'psol', 'engenharia', 'sextafeiro', 'blcp', 'segavin', 'vemprarua', 'consolidar', 'fraude', 'martins', 'jmen', 'jornaldarecord', 'cbnoficial', 'su', 'formulario', 'cirogome', 'vitor', 'revistaepocar', 'bandnewstv', 'bate', 'young', 'hotel', 'opahitdigital', 'vianmancel', 'marcelosampaiocf', 'juiz', 'recebi', 'villar', 'implantaragro', 'faegjover', 'basileia', 'macedo', 'ronaldocaiar', 'celebramos', 'nyse', 'cafecomferri', 'ratinho', 'garantidora', 'dono', 'entregamos', 'semano', 'empreendedorismofeminino', 'geopolitico', 'escalar', 'temporada', 'formato', 'impecavel', 'case', 'ipo', 'monteiro', 'forbesbr', 'performer', 'ceoconference', 'home', 'gustavocerbasir', 'clearcorretora', 'parabenizar', 'socia', 'ocupar', 'pertencer', 'revolucionar', 'agenteautonomodeinvestimento', 'orgulhodeserassessor', 'bancodobrasil', 'melhoria', 'loja', 'covid', 'analiser', 'salver', 'finalmente', 'esqueca', 'motor', 'exemplo', 'cpf', 'sobretudo', 'gravacao', 'portabilidade', 'conservacao', 'matar', 'we', 'borges', 'disposto', 'adequar', 'inadimplencia', 'carvalho', 'local', 'oramainvestimento', 'consultor', 'trajetor', 'podio', 'curvar', 'previsao', 'vacancia', 'recorrente', 'dose', 'inaugurar', 'integral', 'piso', 'seguradoraaustral', 'metodo', 'complicado', 'reforma', 'compreender', 'lo', 'reune', 'esquerdar', 'farialima', 'inserir', 'barreira', 'paraquedista', 'nucleo', 'captar', 'ewzcapital', 'moraes', 'bacano', 'ansioso', 'ensinamento', 'prioridade', 'incorporar', 'presenciar', 'shopping', 'puta', 'age', 'vanessa', 'who', 'ribeiro', 'despesa', 'comissao', 'estarer', 'reflexo', 'orientacao', 'divido', 'play', 'adicionalmente', 'analisetecnico', 'credenciar', 'humildade', 'partir', 'aporte', 'perdi', 'futurar', 'graos', 'spread', 'empreendedora', 'financaspessoal', 'york', 'simulacao', 'our', 'atendir', 'guilhermeboulosoficial', 'estaremos', 'reclame', 'fome', 'fazendar', 'conclusao', 'cecilia', 'assessorextraordinario', 'profissaodofuturo', 'diariodonordestir', 'psdboficial', 'marcoantoniovillaoficial', 'accionista', 'sachsir', 'volatil', 'falha', 'radiobandnewsfm', 'usharktoken', 'marque', 'ethereum', 'alertar', 'am', 'plnacional', 'conscientizacao', 'inversion', 'cn', 'seguradora', 'acessorio', 'tokenizacao', 'politizar', 'pop', 'cenci', 'fbs', 'desagil', 'motta', 'mur', 'criptomoeda', 'tracar', 'exigir', 'enxergar', 'compartilhe', 'questoe', 'firme', 'hub', 'casamento', 'ifix', 'diversifiicar', 'players', 'esportivo', 'dicar', 'fernanda', 'provavelmente', 'funcionamento', 'reclamar', 'coloco', 'afscapitaloficial', 'renato', 'apostar', 'toque', 'thank', 'mutuo', 'banqueiro', 'pensamento', 'dificel', 'ingressar', 'coloquei', 'per', 'bancar', 'entendi', 'gomes', 'dna', 'andrelvbonar', 'decar', 'estimular', 'juros', 'mentoria', 'small', 'bdrs', 'saque', 'sol', 'maravilhosa', 'osh', 'an', 'favoravel', 'fixar', 'incansavel', 'cmcapital', 'klabinsa', 'resolucao', 'terreno', 'curitiba', 'disponibilidade', 'estabilidade', 'equity', 'fs', 'popular', 'bps', 'cripto', 'ferramento', 'victor', 'recebimento', 'constancia', 'corporate', 'louco', 'sensacao', 'was', 'institutobaccarelli', 'ong', 'magazineluizar', 'verdeassetmanagement', 'jantar', 'lindo', 'negar', 'sinal', 'educacaofinanceiro', 'instituicoes', 'fund', 'mario', 'usuario', 'exportador', 'correntista', 'sement', 'leilao', 'cheguei', 'financa', 'criptoativo', 'tese', 'indigena', 'midio', 'dico', 'reclamacoes', 'desculpa', 'ah', 'demanda', 'nautico', 'give', 'institutovelhoamigo', 'eficiencia', 'declaracao', 'enriquecedora', 'detentor', 'pimentar', 'quantia', 'farar', 'alvaro', 'embarcar', 'big', 'respectivamente', 'pascoa', 'camilo', 'institutotiagocamilo', 'judo', 'silva', 'pressao', 'jobininvestimento', 'go', 'classe', 'faaala', 'ror', 'carregar', 'nubank', 'depoimento', 'estudio', 'extraordinario', 'eleger', 'beach', 'comoinvestir', 'lutar', 'veiculo', 'ptsaopaulo', 'sf', 'pdt', 'tratamento', 'tecnica', 'prejuizos', 'confio', 'sunoresearch', 'bootcampadvisors', 'sucessao', 'start', 'expert', 'colaboracao', 'economizar', 'hipismobrasil', 'dedo', 'lulanoprimeiroturno', 'jornalnacional', 'psbnacional', 'preparamos', 'instafiesp', 'fiemgoficial', 'cnibr', 'tarcisiogdf', 'alimentacao', 'obtiver', 'comecinho', 'espirito', 'pwc', 'municipio', 'anapaulavolei', 'bplangroup', 'tipo', 'golpe', 'cannabis', 'sportr', 'rally', 'dacar', 'spinelliracing', 'gustavogugelmin', 'bajaportalegre', 'cbank', 'cortar', 'astraoficialbr', 'sinalizar', 'cavalcare', 'sucessaor', 'stories', 'moinho', 'xxxi', 'correiohora', 'oratinho', 'nikolasferreirabr', 'patinhadepano', 'karinakufa', 'kimpaim', 'juiza', 'quanta', 'inovar', 'pergunta', 'arquitetura', 'tristir', 'assistar', 'concordo', 'broker', 'fabricio', 'margem', 'luta', 'imensamente', 'leblon', 'agilidade', 'discussoe', 'rei', 'admiracao', 'prol', 'potenzacapital', 'mentira', 'cnpj', 'enter', 'destino', 'director', 'postagem', 'facial', 'basear', 'execucao', 'continuarer', 'ciro', 'amanha', 'transformacoe', 'governador', 'educar', 'tentativa', 'formula', 'caps', 'group', 'repertorio', 'resgatar', 'regioes', 'intimar', 'inspiro', 'analises', 'fi', 'cp', 'aprendizado', 'revistaexame', 'priceaction', 'gerenciamento', 'sequer', 'colaborar', 'associacao', 'marceloflor', 'torrer', 'advogar', 'norte', 'ti', 'irmão', 'art', 'aprofundar', 'colateral', 'ponta', 'protagonismo', 'tar', 'diniz', 'estruturacao', 'interior', 'fifa', 'cstopbr', 'estrateger', 'carioca', 'mossoro', 'absolutamente', 'tecnologico', 'adotar', 'ae', 'critico', 'industrio', 'one', 'cambial', 'capacitar', 'arrastar', 'alteracao', 'massa', 'nuestro', 'cotacao', 'minima', 'empurrar', 'poupanco', 'sumir', 'provar', 'abaaioficial', 'poderoso', 'job', 'enganar', 'afs', 'reagir', 'tercafeiro', 'desbloqueio', 'torneio', 'imediato', 'academia', 'confianco', 'campeonato', 'otimizar', 'longoprazo', 'vivenciar', 'apaixonar', 'plugar', 'ressalta', 'sacrenamidio', 'restritar', 'parir', 'financer', 'exercer', 'consequencia', 'votacao', 'adolescente', 'asidbrasil', 'previo', 'desconhecer', 'coletivo', 'altamente', 'adocao', 'destinatario', 'efetuar', 'cris', 'jornalismo', 'redor', 'potencia', 'treinar', 'saf', 'projecao', 'reservar', 'viajar', 'network', 'sero', 'trilhao', 'queiroz', 'presidiario', 'clevel', 'infra', 'otimar', 'bbcbrasil', 'elpaisbrasil', 'janainacpaschoal', 'fernandohaddadoficial', 'automatizar', 'caixar', 'trajetorio', 'chao', 'radardasemano', 'bluecap', 'alegar', 'piar', 'retencao', 'gazetadopovo', 'renancalheiro', 'augustosnunesoficial', 'flaviobolsonaro', 'quadra', 'chato', 'segurar', 'matto', 'desisti', 'jornalhoje', 'geraldoalckmin', 'cbnspoficial', 'estadio', 'salimmattarbr', 'lf', 'deverar', 'fgc', 'complementar', 'devedor', 'compr', 'diariodograndeabc', 'pereirar', 'assessoraaline', 'toledoarthur', 'geovanainvest', 'rafa', 'dema', 'cristessamarino', 'tessaro', 'maringaparano', 'prospecto', 'preliminar', 'jump', 'btro', 'managers', 'barato', 'lide', 'texto', 'womanmastermind', 'nandomoura', 'cofundador', 'colchoescastor', 'inovador', 'httpswwwvcapitalcombr', 'filesugdaa', 'cfpr', 'trabalha', 'trabalhista', 'irdm', 'people', 'negociei', 'reels', 'marcelota', 'excecao', 'provida', 'bspar', 'bs', 'viramos', 'cavaleiro', 'teamfuturobom', 'institutosalvequebrar', 'mama', 'joaquinteixeiraoficial', 'acmnetooficial', 'andrejanones', 'rodrigogarciaoficial', 'abduch', 'claudiocastrorj', 'celsoportiolli', 'brasinha', 'repostedr', 'original', 'criptomoedas', 'inve', 'totalidade', 'torcer', 'feed', 'empreendedore', 'visibilidade', 'gosto', 'perceber', 'famoso', 'euro', 'lifestyle', 'look', 'fundamento', 'crescente', 'mirna', 'trxf', 'excepcional', 'move', 'respectivo', 'nike', 'alberto', 'eternamente', 'magico', 'meramente', 'paixao', 'var', 'estabelecer', 'seguiremos', 'cargo', 'exsecretario', 'milha', 'cadastrar', 'telecomunicacoe', 'indireto', 'atlantico', 'cerrar', 'existencia', 'acompanhamento', 'z', 'up', 'much', 'datar', 'regencia', 'transmitir', 'baccarelli', 'profit', 'esclarecer', 'trx', 'smart', 'alterar', 'complicar', 'alegr', 'confiavel', 'conver', 'recomecar', 'gabriela', 'homenagem', 'com', 'irar', 'desconto', 'insatisfeito', 'falhar', 'superacao', 'consistencia', 'consequencer', 'paciente', 'atrair', 'otima', 'parceira', 'plantar', 'profissao', 'profissaor', 'ferreira', 'fernandes', 'alves', 'olhos', 'proximidade', 'profitto', 'emergencia', 'automatico', 'comer', 'paz', 'motociclooficial', 'dufriorefrigeracao', 'grupohagano', 'alguem', 'atividader', 'feedback', 'luizar', 'infantil', 'idade', 'circuito', 'consultar', 'conheco', 'metodologia', 'criterio', 'transparente', 'high', 'questoes', 'eh', 'ajuda', 'independenciafinanceirar', 'testar', 'exclusivamente', 'apple', 'medir', 'betano', 'enriquecer', 'cientista', 'pal', 'competir', 'empoderamento', 'conter', 'life', 'atrasar', 'composicao', 'amador', 'san', 'flora', 'melhora', 'emocional', 'li', 'adulto', 'rioboatshow', 'scre', 'httpsbitlydmslb', 'origem', 'inferior', 'full', 'insper', 'expressivo', 'surprês', 'va', 'santano', 'julia', 'manda', 'ferrari', 'chileno', 'credor', 'filial', 'renovainvest', 'rogerio', 'preparo', 'emocao', 'impressao', 'segurodevir', 'tom', 'apertar', 'inflacionario', 'tocar', 'ajude', 'investing', 'zer', 'corretor', 'oficialmente', 'ativar', 'kazacapital', 'btal', 'john', 'voluntariar', 'estande', 'river', 'autor', 'realizamos', 'danca', 'cmg', 'progressivo', 'lotar', 'descomplicar', 'beachtennislife', 'desbloquear', 'goia', 'nave', 'nasdaq', 'luca', 'humanizar', 'disputar', 'erikakokay', 'estrela', 'vestir', 'micro', 'som', 'poderiar', 'bolsonarosp', 'promocao', 'tranquilidade', 'comprada', 'mito', 'pobre', 'martha', 'proceso', 'marcelofreixo', 'responsabilizar', 'mecanismo', 'iariodonordeste', 'epocanegocio', 'cfoab', 'robert', 'psdb', 'xpinc', 'grupoabveiculo', 'contabilidade', 'reeleger', 'agorainvestimento', 'brpartnersoficial', 'morganstanley', 'womeninfinance', 'folha', 'freita', 'pratique', 'btrar', 'drrafaelfreito', 'bar', 'ameacar', 'roadsec', 'tornei', 'sacar', 'replay', 'pre', 'portalegre', 'webcast', 'galpoes', 'incorporacao', 'incompetencia', 'uniaobrasilsp', 'miriamleitao', 'lira', 'robusto', 'marceloqueiroga', 'diaztrade', 'somostraders', 'independenciasacre', 'grupoccroficial', 'compilar', 'qualificador', 'jornado', 'pretexto', 'fundacaofhc', 'hackathon', 'primo', 'arca', 'bernardopkuster', 'miltonneve', 'rogeriosmarinho', 'generalmourao', 'terraosmar', 'cleitinhoazevedo', 'withrepost', 'spgc', 'trtba', 'carlazambelli', 'gusgayer', 'bruce', 'gp', 'artpe', 'inedito', 'ingles', 'entretanto', 'aguentar', 'justico', 'wise', 'startup', 'adicionar', 'invasao', 'filme', 'dolarfuturo', 'identidade', 'liderado', 'businesswoman', 'cash', 'juliano', 'preferir', 'goncalvez', 'pme', 'assessoradeinvestimento', 'mulheresnomercar', 'moral', 'preconceito', 'contemplar', 'orthopridir', 'proshop', 'mineracao', 'alinhamento', 'cerimonia', 'seleto', 'parte', 'incessante', 'vento', 'lembro', 'concurso', 'desafiar', 'basicamente', 'carga', 'amplo', 'combinar', 'warrenbrasil', 'isento', 'divider', 'viverderenda', 'inc', 'mastercard', 'massafelipe', 'unificar', 'consulta', 'indispensavel', 'tranquilo', 'guardar', 'trilhar', 'preocupacao', 'latina', 'domestico', 'despeito', 'world', 'eleva', 'biodiversidade', 'marcante', 'reforca', 'rentavel', 'today', 'has', 'guiar', 'secretario', 'artistico', 'retornar', 'hebraico', 'trar', 'normalmente', 'lancamos', 'agradavel', 'gain', 'mentorio', 'vila', 'autoridade', 'dir', 'anuario', 'saco', 'prejudicial', 'regular', 'plantao', 'estreia', 'miurainvestimento', 'software', 'amandar', 'interacao', 'almirante', 'geralmente', 'prefixar', 'remuneracao', 'what', 'plateia', 'nigro', 'uni', 'comparar', 'revolucao', 'partido', 'graco', 'club', 'ciencia', 'sinceramente', 'consciencio', 'calcular', 'favorito', 'prefiro', 'resgate', 'remanescente', 'jus', 'quitar', 'intuito', 'eleitor', 'spotifyr', 'impressionar', 'nobre', 'insto', 'maisaai', 'gerdau', 'modal', 'concordar', 'criador', 'compartilha', 'financial', 'robo', 'arrepender', 'luigi', 'biodegradavel', 'quilo', 'povo', 'chairman', 'falencia', 'adaptar', 'amg', 'arriscar', 'promovir', 'essencia', 'dependente', 'ridiculo', 'obg', 'societario', 'possar', 'marina', 'back', 'vivemos', 'salao', 'variacao', 'ambev', 'filantropia', 'repleta', 'referenciar', 'recoder', 'conselheira', 'consenso', 'guia', 'referir', 'reajuste', 'regulamento', 'anportilho', 'projetosocial', 'indicacao', 'soubtg', 'atrelar', 'agir', 'somosseven', 'restricoe', 'marketingdigital', 'id', 'entidade', 'situacaor', 'ressarcir', 'franco', 'ihp', 'celebracao', 'rendar', 'compoem', 'exclusividade', 'experimentar', 'decorrente', 'aliainvestimento', 'rsrs', 'fake', 'humanizacao', 'papai', 'genial', 'grao', 'associado', 'equipamento', 'esquecar', 'loss', 'etico', 'seguidor', 'inspiradoro', 'domicilio', 'solido', 'colomber', 'separe', 'maes', 'campina', 'luis', 'recordnews', 'item', 'equilibrio', 'nu', 'comando', 'beatriz', 'projetar', 'desrespeito', 'guarujar', 'conselheiro', 'concretizar', 'privar', 'uolnoticio', 'sachser', 'trio', 'percepcao', 'anna', 'bedran', 'calil', 'pgbl', 'previdenciaprivado', 'normalizar', 'recuar', 'jc', 'portaldatafolha', 'bandjornalismo', 'assessorar', 'relativo', 'aereo', 'prio', 'posicionar', 'campos', 'lucianohangbr', 'ullmann', 'neto', 'downloadr', 'alugar', 'tc', 'cfasocietybrazil', 'notificacao', 'farao', 'btc', 'cartorio', 'representatividader', 'talentosa', 'httpswwwfinshecoyws', 'le', 'capaiffer', 'lastro', 'contara', 'quao', 'odio', 'sucessorio', 'climatico', 'aposentar', 'cm', 'binance', 'favor', 'recomendamos', 'valores', 'mitsubishi', 'guimaraes', 'pessoo', 'setima', 'mi', 'estadual', 'tsejus', 'mocar', 'stakeholder', 'earning', 'tematico', 'stonoex', 'ultra', 'deficiencia', 'constroi', 'mazarsnobrasil', 'fundamentogrupodecomunicacao', 'felipeneto', 'noomi', 'kineainvestimento', 'lamento', 'incendio', 'mangalarga', 'marchaoriginalporexcelencia', 'marchamangalarga', 'marchagenuina', 'cavalodeselabrasileiro', 'mangalargadobrasil', 'cavalodesela', 'cavalgar', 'abccrm', 'cavalodafamilia', 'anota', 'rideplay', 'rodrigopacheco', 'baixista', 'jpmorganprivatebank', 'content', 'brasilparalelo', 'ottogsparenberrg', 'trt', 'sorayathronicke', 'claudioduarte', 'ricardobarrosoficial', 'generalpazuellooficial', 'alvarez', 'marsal', 'estarar', 'moderacao', 'bce', 'largo', 'lourde', 'paciencia', 'quanto', 'michael', 'edital', 'rotacao', 'btgfaztech', 'bcff', 'fof', 'thiagonigro', 'robertoljustus', 'mercadodecapital', 'ready', 'benefico', 'estimar', 'russo', 'estilo', 'sustentar', 'educacional', 'altissimo', 'tiofly', 'comprometimento', 'reflexao', 'duradouro', 'genero', 'nps', 'tenisrj', 'atp', 'derivar', 'ataque', 'gracio', 'cia', 'bonar', 'batalha', 'vitoria', 'peguei', 'managing', 'remunerar', 'conhec', 'energy', 'about', 'forevercapital', 'cer', 'apps', 'valeu', 'repleto', 'reflete', 'contratacao', 'gravar', 'mais', 'aberta', 'fim', 'lucrativo', 'stock', 'very', 'se', 'uau', 'desenvolvedor', 'admiro', 'definitivo', 'musico', 'luciana', 'ativacao', 'token', 'cooperativa', 'destruicao', 'imagine', 'demos', 'tribunal', 'dara', 'vanquish', 'lisboa', 'relatar', 'coordenador', 'demor', 'price', 'funcionalidade', 'galera', 'encarar', 'laje', 'querir', 'dom', 'turismo', 'beleza', 'remedio', 'colher', 'international', 'potencializar', 'menina', 'preparativo', 'correcao', 'or', 'green', 'not', 'positivamente', 'frequencia', 'volto', 'encantar', 'kineainvestimentos', 'sincero', 'percebo', 'orientar', 'osorio', 'catalisador', 'atualidade', 'letrepost', 'petista', 'existente', 'formal', 'arena', 'aposta', 'liquir', 'dai', 'mês', 'gado', 'preocupado', 'seguranco', 'auto', 'autonomo', 'enchar', 'gratar', 'rosto', 'obrigar', 'cio', 'panel', 'solicitei', 'leve', 'paises', 'instalar', 'recuperar', 'curriculo', 'permitirar', 'nft', 'kkkkkk', 'composto', 'provento', 'compartilhamento', 'posse', 'mende', 'perco', 'priorizar', 'incondicional', 'receitas', 'cut', 'baita', 'ministerio', 'aprimoramento', 'oabsaopaulo', 'vale', 'abandonar', 'gentileza', 'tabela', 'constar', 'habito', 'puro', 'arrasar', 'aprendizagem', 'conheci', 'barbar', 'pablo', 'perpheito', 'gloria', 'vinculo', 'ficara', 'descer', 'accenturebrasil', 'brinde', 'uniao', 'totalizar', 'meeting', 'aprovacao', 'rossi', 'harvard', 'relevancia', 'maua', 'ii', 'elite', 'face', 'priscila', 'pilotar', 'rand', 'sulafricano', 'datasacre', 'derivativo', 'furar', 'hcri', 'fintech', 'vier', 'esperanca', 'acaosocial', 'campeoe', 'pressionar', 'mercadoria', 'pandemico', 'teto', 'continuidade', 'jr', 'democracia', 'guidir', 'pau', 'estara', 'legar', 'kk', 'custeio', 'tarifa', 'civel', 'engajamento', 'charles', 'anteciparmos', 'superansioso', 'stop', 'pesar', 'confirer', 'can', 'bastasse', 'bbicapital', 'boletim', 'focus', 'coordenar', 'milhar', 'resumir', 'rapaz', 'beachtennislifestyle', 'winfut', 'bmfr', 'moneytimesbr', 'endereco', 'pioneiro', 'mentorar', 'universitaria', 'garcia', 'trave', 'motorsport', 'justificativa', 'imprevisto', 'menu', 'bt', 'arenabtcampina', 'faturamento', 'lasiermartim', 'fundamentalista', 'mensalmente', 'somosatom', 'palhacar', 'sistema', 'graduacao', 'funder', 'preservacao', 'ajudo', 'comemoracao', 'decolar', 'ampliar', 'linkedin', 'emb', 'embarque', 'falso', 'mini', 'sarmento', 'oficio', 'fracasso', 'importancer', 'renansantosmbl', 'fernandoholiday', 'asi', 'lixo', 'volatel', 'meia', 'country', 'otimos', 'impulso', 'atletar', 'josua', 'salvatore', 'stand', 'secao', 'jornaldacidadeonline', 'marthaseillier', 'confir', 'gazeto', 'recessao', 'sociosfundador', 'alimentar', 'governanca', 'anbimaoficial', 'getrepost', 'partnership', 'transferi', 'previdenciaprivada', 'cardapio', 'sandrabronzina', 'red', 'atom', 'preferido', 'judepaaula', 'degrau', 'procedimento', 'medico', 'doce', 'contemporaneo', 'mauricio', 'forextrader', 'exibir', 'senhora', 'now', 'mensalidade', 'chama', 'brasilia', 'pernambuco', 'spinelli', 'baja', 'mitsubishimotorsbr', 'bancosafra', 'fluuu', 'fluuuuu', 'mchf', 'panorama', 'camisa', 'comentarista', 'share', 'vgbl', 'fazenda', 'futevolei', 'd', 'sistemafaeg', 'agricultura', 'bolar', 'territorio', 'itausocial', 'escritoriosdeinvestimento', 'marginal', 'somobtg', 'reforcamos', 'friday', 'edilson', 'ventureli', 'caetanoveloso', 'leite', 'monte', 'aloisio', 'marinho', 'italia', 'poco', 'ciclico', 'mclaro', 'aexponacionalmangalargar', 'icmarketsofficial', 'paulomartim', 'henriquemeirellesreal', 'licao', 'stephan', 'trabalhodecente', 'kimpaimr', 'teatualizeioficial', 'neymarpai', 'magnomalta', 'fecastanhari', 'exposicoes', 'llzgarantidor', 'timebtg', 'ethimos', 'touro', 'competitivo', 'caracteristicar', 'cesta', 'researchr', 'presidencia', 'influenciador', 'saudavel', 'visual', 'meyer', 'rentabilizar', 'beira', 'suite', 'varandar', 'garagem', 'dependencia', 'fitness', 'altopadrao', 'seguimo', 'gustavocerbasi', 'muskr', 'tesla', 'conferencia', 'explico', 'acaba', 'atravessar', 'legacy', 'score', 'vitamind', 'rioopen', 'aulasdetenis', 'rayban', 'carne', 'producaor', 'buscamo', 'ucranio', 'far', 'donde', 'democratizar', 'reafirmar', 'jair', 'ao', 'claramente', 'corrigir', 'certificacoe', 'percurso', 'ofelipe', 'tomei', 'labsr', 'coelho', 'terrainvestimentosoficial', 'tiver', 'senhar', 'sugestoes', 'rebalanceamento', 'sale', 'conversamos', 'culpa', 'reencontrar', 'curiosidade', 'masculino', 'evidente', 'memoria', 'convido', 'vs', 'primario', 'confer', 'reunem', 'acompanho', 'convencer', 'legado', 'ago', 'saido', 'microsoft', 'facebook', 'alteracoes', 'respondi', 'resto', 'urgente', 'instavel', 'ramo', 'but', 'other', 'grau', 'extremo', 'fique', 'lover', 'chef', 'pessir', 'cancelei', 'status', 'invester', 'aquilo', 'octocapitalbrr', 'revisao', 'parcial', 'veyron', 'elvar', 'ativainvestimento', 'rbinvestimento', 'awards', 'argentina', 'solar', 'bonito', 'fizer', 'corretamente', 'surreal', 'acho', 'digar', 'sobrar', 'trabalhe', 'bmlc', 'multa', 'legislacao', 'lajescorporativo', 'atrapalhar', 'morar', 'alex', 'analogia', 'freio', 'souericarel', 'resistente', 'pare', 'investidorinteligente', 'vapor', 'vinhedo', 'monetaria', 'logisticosindustrial', 'almi', 'elemento', 'which', 'intuitivo', 'indexar', 'grade', 'repetir', 'planta', 'want', 'astraoficialbrr', 'funcoe', 'cidadaos', 'criativo', 'tse', 'stf', 'nicho', 'cena', 'surgimento', 'pracownik', 'fan', 'questionar', 'crer', 'defender', 'nuestrar', 'justo', 'opinioes', 'special', 'interessado', 'prezar', 'elaborar', 'amadurecimento', 'expresidente', 'music', 'atracao', 'abordagem', 'amurcapital', 'arrojar', 'humanidade', 'autorizar', 'gaucho', 'amizade', 'seder', 'cfo', 'tento', 'publicidade', 'carar', 'aquisicaor', 'turbulento', 'cancelamento', 'inicialmente', 'sentar', 're', 'story', 'amazon', 'reunioe', 'miami', 'saudefinanceiro', 'fintechs', 'machar', 'solo', 'repassar', 'eventoscorporativo', 'recorrer', 'quiser', 'page', 'diego', 'concentrar', 'ale', 'custar', 'sobro', 'rodrigoleone', 'parada', 'reunioes', 'faturar', 'ny', 'profundamente', 'mercadobitcoin', 'resume', 'assertivo', 'ganha', 'escolhe', 'juliana', 'liguei', 'pass', 'inspira', 'entrega', 'iluminacao', 'vcapital', 'infinitamente', 'assustar', 'rodrigommourar', 'kelly', 'imobiliar', 'drive', 'menthor', 'hugootani', 'agroindustrial', 'interlago', 'rbr', 'xpml', 'lendar', 'ein', 'pilotagem', 'pneu', 'growth', 'indescritivel', 'valenobrasil', 'renovacao', 'demanr', 'flexibilidade', 'consequencir', 'mobilidade', 'print', 'colocacao', 'individual', 'cometer', 'vgip', 'barreto', 'latar', 'arcah', 'encerrei', 'action', 'anderson', 'ouve', 'requisito', 'opero', 'codigo', 'falaaaa', 'insumo', 'cpr', 'wertinvestimento', 'democratizacao', 'dra', 'dr', 'escoamento', 'sinfonicar', 'musical', 'asid', 'distribuidor', 'fundodeinvestimento', 'enganoso', 'bbfib', 'bnde', 'magnitude', 'gt', 'gri', 'safira', 'vtal', 'otico', 'entre', 'magazine', 'procon', 'definitivamente', 'idiota', 'stopgain', 'clearcorretorar', 'renata', 'valuation', 'kart', 'mynt', 'morte', 'devolr', 'navegador', 'galeriar', 'itf', 'campinassp', 'monstro', 'tiebeachtennis', 'tiebeachtenniscg', 'contafacio', 'suplemento', 'azodigital', 'jdoriajr', 'datenareal', 'sextar', 'off', 'tijolo', 'pista', 'horse', 'bancobtgpactual', 'gastronomia', 'sigla', 'bolsas', 'economics', 'agencia', 'emissor', 'vvpr', 'cnh', 'basf', 'opeacapital', 'educarcomesporte', 'educacaofisico', 'piracicabar', 'incentivoaoesporte', 'premiumr', 'federacao', 'valir', 'fotografia', 'wilson', 'exato', 'beachtennisplayer', 'ante', 'bloombergbusiness', 'carlosbolsonaro', 'gwm', 'reconhecemo', 'duplo', 'diminuicao', 'manuela', 'todeschini', 'pir', 'mariano', 'sin', 'a', 'absoluto', 'adrigoes', 'canto', 'gestorar', 'atribunasanto', 'jornalismotvcultura', 'corredor', 'remodelacion', 'paso', 'ministeriodaeconomia', 'millone', 'luizaerundina', 'senadofederal', 'lideranco', 'decisorio', 'minucioso', 'suitability', 'cuidadoso', 'brown', 'goncalves', 'mari', 'service', 'equidadedegenero', 'psdbmg', 'ponder', 'zambolin', 'vianna', 'edgard', 'ibest', 'perante', 'olimpico', 'impar', 'buyes', 'magalu', 'finan', 'contrate', 'prefeito', 'hipismocarioca', 'santaceciliastable', 'mxmsistemal', 'oposto', 'powered', 'diversificado', 'bander', 'burro', 'geracaodevalor', 'sigar', 'compulsorio', 'ameir', 'acontecar', 'memoravel', 'incansavelmente', 'previsoes', 'sigilo', 'liminar', 'bgtpactual', 'leonardocpaivo', 'promovido', 'recomendo', 'relacoe', 'will', 'cross', 'desaceleracao', 'sorrir', 'valorinveste', 'theinterceptbrasil', 'otimismo', 'sostenible', 'menino', 'faaaaalr', 'marceloflorar', 'valentina', 'ri', 'ocorrencia', 'botar', 'dupla', 'acustico', 'disruptivo', 'liber', 'im', 'bold', 'augusto', 'jerson', 'bla', 'ltda', 'aposentadoria', 'playlist', 'uber', 'pts', 'htmx', 'terceirosetor', 'midia', 'superintendente', 'embaixador', 'franquia', 'lucio', 'quadrilha', 'instagood', 'mundoinvest', 'morningcall', 'sextafeirar', 'monica', 'diariodepernambuco', 'doacoes', 'ue', 'condenar', 'usp', 'manusear', 'lgbtqiap', 'garanto', 'estreitar', 'institutoculturalvale', 'jumping', 'unicar', 'cantor', 'rock', 'obstinacao', 'studart', 'precificacao', 'totvs', 'chegada', 'inspirados', 'cdbs', 'sesc', 'masp', 'would', 'pablopinuelo', 'brandao', 'magalhaes', 'cnnbrasilbusiness', 'barcha', 'reunido', 'cursosonline', 'repar', 'icms', 'jotape', 'soares', 'abat', 'out', 'micheltemer', 'nikolasferreirainfo', 'gilsonmachadoneto', 'marceloalvaroantonio', 'marcelvanhattar', 'miltonneves', 'andersontorresoficial', 'fairfaxbrasil', 'terezacristinams', 'discriminacao', 'laboral', 'josemedeirosmt', 'ledanagleoficial', 'prevencao', 'paolo', 'tazzari', 'odd', 'secretaria', 'sujo', 'audio', 'especular', 'insurance', 'enjoy', 'sejaonix', 'republicar', 'leste', 'europeu', 'direcionamento', 'posturar', 'layout', 'einstein', 'mba', 'amplar', 'visitante', 'pactual', 'audiovisual', 'correta', 'flutuacoes', 'turmo', 'economirna', 'knsc', 'crismartinsrel', 'legacyinvestimento', 'quesito', 'transicao', 'montebravoinvestimento', 'cbtoficial', 'itftennis', 'teva', 'ascensao', 'produtividade', 'agenciagude', 'region', 'telo', 'marcosmaluf', 'combinacao', 'horror', 'btgbestperformer', 'expressao', 'mediar', 'empolgar', 'certificacoes', 'visito', 'exquecer', 'trara', 'fred', 'coloque', 'bba', 'baixe', 'pagino', 'cnn', 'manaus', 'iluminar', 'reinvester', 'lucrar', 'fidelizar', 'bemvir', 'infancia', 'maravilha', 'sergio', 'expressar', 'ator', 'amanhar', 'declarar', 'imprensa', 'reencontro', 'investidoro', 'fcfl', 'biomo', 'abc', 'telefonico', 'lets', 'brazilian', 'oil', 'aabbrio', 'investirmelhor', 'isaac', 'karabtchevsky', 'compositor', 'bilheteria', 'platear', 'food', 'descontar', 'processar', 'order', 'constantemente', 'rota', 'efetivamente', 'obstaculo', 'individuo', 'mycapinvestimento', 'mexico', 'raizen', 'candlestick', 'ensina', 'reinventar', 'donar', 'ceder', 'construer', 'muitas', 'brascan', 'oneroso', 'contratual', 'prorrogar', 'dio', 'tenso', 'beamunhozr', 'entenda', 'freia', 'traduzir', 'metafora', 'viva', 'dourar', 'entusiasmo', 'anunciamos', 'estragar', 'virtude', 'publi', 'trademapr', 'acestartups', 'protocolo', 'magna', 'ceratti', 'promissor', 'pavimento', 'locavel', 'acrescimo', 'prime', 'new', 'office', 'indexador', 'ajudalo', 'mencionar', 'platinum', 'provir', 'restaurante', 'reposted', 'banda', 'ipanema', 'camera', 'campear', 'coach', 'coletar', 'comunista', 'desculpe', 'desastre', 'probabilidade', 'estatistico', 'hibrer', 'meso', 'payfunpf', 'letsplay', 'milhoe', 'remoto', 'possuo', 'estude', 'matematico', 'hasta', 'excluir', 'encomendar', 'milhao', 'exponencial', 'adm', 'reter', 'iniciante', 'curioso', 'pesquisar', 'viviane', 'igpm', 'migracao', 'sucedido', 'lento', 'habilitar', 'di', 'revistaexamer', 'elencar', 'analisei', 'comparacoes', 'mediano', 'bon', 'invetimento', 'quebra', 'brasa', 'vieira', 'variacoe', 'desvalorizacao', 'helioranieri', 'novidades', 'financir', 'visoe', 'vou', 'lazer', 'mentiroso', 'denunciar', 'superior', 'devir', 'profissionalismo', 'ato', 'prosperar', 'contabil', 'st', 'ideio', 'glicose', 'cruzado', 'nossajb', 'pl', 'pleno', 'encontre', 'alfa', 'sensivel', 'hectare', 'vistar', 'running', 'sabedorio', 'ps', 'dialogo', 'ganhei', 'meumanualdemercar', 'reflexoes', 'u', 'camar', 'profundo', 'poupar', 'propr', 'reit', 'nauticar', 'contagem', 'boatshowevento', 'bebida', 'torcedor', 'quiserem', 'leader', 'center', 'elevator', 'consolidacao', 'diretoria', 'convexainvestimento', 'mgoncalve', 'douglaselitr', 'irim', 'slc', 'morrer', 'fogo', 'convocacao', 'mandato', 'prefeitura', 'leooo', 'alexandrekendy', 'fabiolouzar', 'tenniskraft', 'doar', 'cartoes', 'eventocorporativo', 'maxsuel', 'burocracia', 'disser', 'fortuna', 'apartamento', 'tack', 'trofeu', 'moedar', 'apurar', 'pagos', 'descontraer', 'tatico', 'secundario', 'arcar', 'grandioso', 'danilozanini', 'topgainoficial', 'alexatalo', 'opportunity', 'again', 'lindar', 'acertar', 'btcr', 'insur', 'descasamento', 'disfuncoes', 'frete', 'armazenamento', 'iii', 'ondo', 'inflacionar', 'modificar', 'sinalizacoe', 'significativamente', 'previdenciario', 'valora', 'defesa', 'cachaceiro', 'elogio', 'boa', 'kkkkkkkkk', 'suno', 'invisto', 'distante', 'harvardhbs', 'descrever', 'campino', 'colheita', 'extra', 'abro', 'cobr', 'pontuacao', 'ribeirao', 'superficier', 'nascimento', 'naoer', 'magistrar', 'lealdade', 'bemsucedido', 'tro', 'startupr', 'martinez', 'never', 'cientifico', 'agradar', 'provedor', 'casadosvento', 'bndesgovbr', 'ligacoes', 'maisinvestimento', 'wdofut', 'soutrader', 'dinheiroemcasa', 'contadoradabolso', 'modulo', 'senha', 'bolsonaroreeleito', 'tamo', 'admiravel', 'bolo', 'paulista', 'montagem', 'ligo', 'militar', 'trigo', 'exportacao', 'tamber', 'deixei', 'after', 'some', 'santiago', 'adriano', 'converter', 'bdif', 'vermelho', 'empenhar', 'aderencia', 'detrimento', 'xtage', 'teorio', 'seculo', 'impact', 'development', 'relacoes', 'premium', 'vinho', 'filmagem', 'spotenapp', 'mormaiibeachtennis', 'manueladavila', 'agroinsper', 'permanente', 'epico', 'investidora', 'paguir', 'bastidor', 'cordeiro', 'bia', 'prejuizar', 'computacao', 'lago', 'intermitencia', 'ligacao', 'brilhar', 'profitpro', 'indicacoes', 'monaco', 'elon', 'regente', 'bancobtg', 'amazing', 'gaianinho', 'mincidadania', 'leideincentivoaoesporte', 'ministeriodacidadania', 'lumen', 'weg', 'gratuita', 'edga', 'renovar', 'palavrar', 'correspondente', 'maximizar', 'sulamericano', 'sacanagem', 'tir', 'prender', 'caber', 'imersivo', 'idolo', 'matheu', 'alma', 'recrutador', 'generoso', 'brilho', 'conjuntura', 'bernardo', 'debitar', 'realizamo', 'eumebanco', 'reembolsar', 'ilustre', 'leonardi', 'jornalosaopaulo', 'pablomarcal', 'persona', 'podran', 'accione', 'ted', 'deusnocomar', 'impedir', 'sujeito', 'olimpiar', 'associate', 'sistematico', 'lgbti', 'intervalo', 'estimativa', 'garantidor', 'reference', 'dominar', 'stress', 'sbtnews', 'stephanie', 'juridica', 'estorno', 'guarulho', 'telegr', 'petr', 'secundar', 'apresentador', 'matricula', 'jornaldebrasilia', 'iguatemi', 'responsar', 'stefanie', 'birman', 'estrategistachefe', 'agilidader', 'titularidade', 'comprovante', 'io', 'cgm', 'oibr', 'caio', 'postura', 'chorar', 'porte', 'recordar', 'womeninvestsummit', 'estadaoinvestidor', 'womenonboard', 'wob', 'wcd', 'worldcorporatedirectors', 'auditoria', 'consultorio', 'grand', 'smarttrends', 'kinea', 'consumir', 'mariana', 'percentclubr', 'manager', 'lideglobal', 'escravo', 'aventura', 'fucape', 'pedido', 'perfeitamente', 'marthinabrandt', 'daisykohler', 'how', 'been', 'sinergia', 'tabu', 'uefa', 'manipular', 'criterioso', 'simonetebet', 'abusivo', 'filantropico', 'cvbi', 'reino', 'julgar', 'rol', 'imaginavar', 'reclameaqui', 'googlebrasil', 'mentalidade', 'torinoinvestimento', 'recife', 'planejadorfinanceiro', 'alexandrealvesconsultor', 'spoiler', 'acionar', 'wanessa', 'vdd', 'abencoar', 'sabedoria', 'aconselho', 'united', 'pacote', 'gigantesco', 'favorecer', 'pele', 'aprenda', 'asia', 'step', 'preparado', 'cyber', 'faro', 'safadeza', 'sra', 'filha', 'sinceridade', 'vetor', 'cpi', 'expectativar', 'ausencia', 'consagrado', 'português', 'perfomance', 'rito', 'bradescoasset', 'jwalenkamp', 'eusoulaio', 'reirabeloficial', 'playlistsr', 'almadao', 'acessibilidade', 'its', 'bergamo', 'forro', 'insta', 'nense', 'sucedir', 'metade', 'atrasei', 'place', 'presta', 'nuinvest', 'entendir', 'cnpi', 'traz', 'crime', 'caiobeny', 'naturabroficial', 'oabdf', 'carteiroreaca', 'kennedyalencar', 'ocorrerar', 'ionitau', 'estacio', 'xted', 'leonnardocfurquim', 'zemariogo', 'consideravel', 'anitta', 'marcofeliciano', 'uniaobrasilrj', 'parda', 'ralph', 'avenida', 'fonseca', 'fronteirico', 'agorarn', 'farmacia', 'expectativas', 'francisco', 'get', 'fiel', 'jessicavelar', 'berriel', 'lead', 'tutela', 'tomem', 'mazzer', 'trilha', 'mariofriasoficial', 'totvscuritiba', 'caminhada', 'nelogicar', 'impossibilitar', 'adapteinvest', 'their', 'unicef', 'robertousallouti', 'speech', 'sexperienci', 'escapar', 'emocoes', 'radio', 'posto', 'usda', 'presidentefhcr', 'reynoso', 'mukinhaparatleta', 'marcello', 'basmaum', 'mirim', 'sousa', 'pontuar', 'stopr', 'convencional', 'artista', 'primocast', 'good', 'catalisar', 'direitodotrabalho', 'xmglobal', 'eduardar', 'paulafernande', 'patriotasb', 'adrillesjorger', 'joaoromaneto', 'leouchihavlog', 'marciacaszr', 'gmgaertner', 'constrangimento', 'plantio', 'morais', 'xxxicomat', 'leads', 'formatura', 'presider', 'debatedor', 'geografico', 'sportv', 'mathio', 'italoferreira', 'ladyfontenelle', 'rodrigomaiarj', 'karolelleroficial', 'mantenho', 'institutoprotear', 'outubroroso', 'sandever', 'padariareal', 'altogiro', 'sherwinwilliamsbr', 'decathlonbrasil', 'tbmakeoficial', 'her', 'dickinson', 'ironmaiden', 'casas', 'reportamos', 'perfin', 'noel', 'aum', 'copadomur', 'impactus', 'aruba', 'game', 'sentenca', 'slu', 'compartilhamos', 'especialisto', 'precandidato', 'pitch', 'ace', 'suportar', 'ambientacao', 'vitorio', 'bezerra', 'perkinswill', 'apto', 'carlinhosmaiaof', 'forbe', 'fashion', 'interiordesign', 'invistamelhor', 'rodolfo', 'adorei', 'trabalhador', 'carnaval', 'bilionario', 'astral', 'andrekliousoff', 'preferencia', 'discussaor', 'intermediar', 'perspectivo', 'resistencia', 'progresso', 'vira', 'esconder', 'igualdade', 'mulheresnomercadofinanceiro', 'empoderamentofeminino', 'excellence', 'tennisplayer', 'tenniscoach', 'endorfina', 'acucar', 'refleter', 'embaixo', 'confuso', 'exigencia', 'muy', 'capitao', 'mkt', 'fabianaarano', 'ceoconferencer', 'obvio', 'seriedade', 'mirno', 'deparar', 'derrota', 'shop', 'swingtrade', 'hgru', 'rubem', 'transtorno', 'desafia', 'great', 'engano', 'presidencer', 'forabolsonaro', 'genuino', 'cidadao', 'rendapassiva', 'isentar', 'comente', 'protagonistas', 'agravar', 'oneinvestimento', 'journey', 'maira', 'oque', 'deficit', 'bilhoe', 'norteamericano', 'cashback', 'ferramenta', 'stands', 'cap', 'morgan', 'engie', 'apreciar', 'btgsomameioambiente', 'petroleum', 'lot', 'powell', 'levantei', 'convidamos', 'emblematico', 'vulnerabilidade', 'rubinstein', 'simbolo', 'happy', 'amaral', 'piores', 'injusto', 'modificacao', 'pendente', 'mail', 'urgencia', 'agendar', 'flor', 'fugir', 'estava', 'clubefii', 'nesses', 'desbravar', 'firf', 'miraeassetcorretora', 'latin', 'visualizar', 'wertinvestimentos', 'espalhar', 'particularmente', 'vivir', 'pc', 'virao', 'financialadvisor', 'comprador', 'estrategiar', 'busque', 'isolar', 'creditoprivar', 'cpar', 'wealthmanagement', 'respirar', 'digo', 'concretizacao', 'nocao', 'pedrobreitman', 'inauguramos', 'morador', 'acolhimento', 'ousar', 'preso', 'transporte', 'distribuicaor', 'porcario', 'departamento', 'citi', 'cabeco', 'desemprego', 'abaixar', 'cobertor', 'bemvinda', 'renova', 'meter', 'fexc', 'palma', 'conservation', 'frederico', 'thal', 'pinheiro', 'devolucao', 'dutrar', 'supermarket', 'quitacao', 'jardim', 'extensao', 'paisagismo', 'privilegiar', 'floor', 'recarga', 'cooperativo', 'agressivo', 'debenturar', 'variedade', 'corra', 'espero', 'hall', 'michel', 'podcasts', 'ignorar', 'urbano', 'icone', 'bloqueia', 'dignidade', 'fraco', 'chinês', 'senao', 'seriamente', 'iuri', 'rapoportr', 'alvarezmarsal', 'urna', 'gasolina', 'mitu', 'senso', 'nordeste', 'corrupcao', 'marzo', 'deporte', 'al', 'intercambio', 'marcosmottamavi', 'luizpauloteixeira', 'mismo', 'parecir', 'vota', 'obrigacao', 'criticas', 'lc', 'atualizacoes', 'corrupto', 'oscilacao', 'cool', 'restar', 'eventual', 'linhar', 'sum', 'conducao', 'advice', 'pesquiso', 'rocha', 'tributo', 'miamiopen', 'sprint', 'fujam', 'maiar', 'wall', 'altura', 'oakley', 'fraser', 'incomodar', 'sector', 'nfts', 'implementacao', 'concorrer', 'interagir', 'uc', 'ab', 'alio', 'inspir', 'allocation', 'finalidade', 'reverter', 'concentracao', 'helio', 'ranieri', 'automaticamente', 'amchar', 'insperedu', 'expo', 'aco', 'record', 'diversao', 'nobel', 'romper', 'ouvidoria', 'conhecir', 'compralar', 'proso', 'esgotar', 'augustar', 'matriz', 'audi', 'imensuravel', 'analyst', 'simoes', 'prestacao', 'silvar', 'eleitos', 'competitividade', 'compoe', 'atraso', 'autorizacao', 'clonar', 'timar', 'convir', 'reflorestamento', 'rotina', 'extrajudicial', 'logico', 'artificial', 'comparecer', 'welcome', 'circunstancia', 'evoluxinvestimento', 'zelo', 'especie', 'pes', 'brabo', 'reflitar', 'aposentador', 'escuro', 'vivencia', 'desconforto', 'kinvo', 'compre', 'anote', 'revistanautico', 'outdoor', 'saibam', 'quente', 'construido', 'barco', 'pqdp', 'equivaler', 'stackr', 'juniores', 'pcd', 'apreciacao', 'substituto', 'etanol', 'fabinho', 'advisors', 'dou', 'iridiumr', 'gratis', 'foda', 'privatebanking', 'limo', 'engenheiro', 'orgulhor', 'cryptocurrency', 'week', 'banca', 'preencher', 'revistanauticar', 'desvantagem', 'patrocina', 'projetoaproximar', 'tour', 'cafezinho', 'loungekey', 'estornar', 'mit', 'conceder', 'discussao', 'ms', 'belissimo', 'energiasolar', 'official', 'admirer', 'listado', 'nogueira', 'trabalhamos', 'join', 'lucianohuck', 'gabrielapriolir', 'apxinvest', 'clara', 'fiagronews', 'agencer', 'classificacao', 'confirmacao', 'rating', 'moedo', 'revisional', 'buffet', 'calr', 'rbry', 'fujar', 'ficarao', 'asainvestments', 'fazermos', 'equinor', 'atro', 'aconteciar', 'kit', 'isabela', 'inscrita', 'desejamos', 'training', 'resenho', 'linguagem', 'samsungbrasil', 'geekieeducacao', 'toribavolkswagen', 'solidariedade', 'pulverizar', 'saltar', 'facilmente', 'bitcoinbrasil', 'regime', 'ep', 'agronauta', 'tupy', 'copo', 'stanley', 'ilustr', 'sales', 'executive', 'distribuidora', 'sujeitar', 'tomer', 'gr', 'engracar', 'yt', 'anualmente', 'klein', 'pendurar', 'jogador', 'frisar', 'encontrei', 'karina', 'duracao', 'empreendimentos', 'cadeiar', 'franz', 'williams', 'estaraor', 'orquestrasinfonicaheliopoli', 'investors', 'implementar', 'disseminar', 'potencializacao', 'eolico', 'propriamente', 'indesejado', 'governante', 'tampar', 'buraco', 'influencir', 'warren', 'agroebtgepgg', 'copomr', 'juan', 'nuevar', 'direcao', 'operadora', 'venture', 'jack', 'viabilizar', 'bancodonordeste', 'amoroso', 'diversifique', 'npbt', 'beachtennisworld', 'retail', 'gostoso', 'didatico', 'tecnologiar', 'oticie', 'verar', 'exemplar', 'atendar', 'franca', 'voces', 'sofisticar', 'paralelo', 'event', 'valuatiom', 'accion', 'financiero', 'enevar', 'amarelo', 'durabilidade', 'cgs', 'sono', 'restante', 'anninhadamatacerimonial', 'hachirooftop', 'cymiluminacaoedesign', 'ewertonfilme', 'pedroso', 'mormaiipb', 'pitacobr', 'mix', 'beachtennisbrasileiro', 'dezena', 'homebroker', 'derrotar', 'sofisticacao', 'campeoes', 'figurar', 'humilde', 'classificar', 'reversao', 'databaser', 'manifestar', 'bug', 'signal', 'carrossel', 'kapitalo', 'love', 'saimos', 'separei', 'thehillcapital', 'kkkkkkk', 'saneamento', 'knip', 'espm', 'rankingshb', 'bloomberg', 'long', 'verkinvest', 'futsal', 'modalpremium', 'mina', 'energea', 'tre', 'progressista', 'jbs', 'azevedo', 'regulatorio', 'utel', 'portilho', 'fiduciaria', 'fiduciario', 'solutions', 'alcancamo', 'seriar', 'inspiradora', 'fomc', 'conecta', 'artplan', 'dinheirovivoptr', 'pcdob', 'correiodopovo', 'cirogomes', 'sejagwm', 'rotino', 'proveitoso', 'empoderar', 'performancer', 'arrependimento', 'gabsdgouveia', 'cjinvestimento', 'londrino', 'digito', 'chile', 'brite', 'nathano', 'tributacao', 'semelhante', 'joaopiress', 'alheio', 'repensar', 'misericordio', 'tendenciosa', 'avante', 'vidar', 'acolher', 'catalogo', 'natura', 'marthinha', 'putz', 'jornalsensacionalista', 'opopular', 'espectador', 'cuentar', 'igualmente', 'estan', 'theeconomist', 'velocidade', 'caricatura', 'preocupacoes', 'boleto', 'inbox', 'samantha', 'estatal', 'percebi', 'oferecir', 'prepare', 'funds', 'custodio', 'together', 'ponde', 'danielamercury', 'alocacoes', 'mande', 'altista', 'agradecerlhe', 'continuarar', 'consertar', 'gestoras', 'cnbbnacional', 'presidio', 'meio', 'macieira', 'berro', 'marins', 'nathana', 'aeroporto', 'correo', 'website', 'mediacao', 'fechei', 'sistemacna', 'salimmattarbrr', 'apexpartner', 'bloco', 'confiabilidade', 'exchangir', 'passivo', 'replico', 'previdencer', 'institutoalokr', 'diabete', 'invasivo', 'bossainvest', 'sunonoticio', 'feiro', 'poste', 'kkkkkkkk', 'parei', 'ajudalar', 'lua', 'salto', 'vq', 'jewellery', 'percentclub', 'abbcbrr', 'ibefsp', 'ativer', 'rhopen', 'mcs', 'inacreditavel', 'questionamento', 'index', 'navegar', 'revisar', 'grcapital', 'aceitacao', 'capixaba', 'independentemente', 'showjumping', 'sollissmartbeach', 'pet', 'esquerdista', 'internacionalizacao', 'oiticico', 'emissoes', 'ej', 'abbcbr', 'tecnicamente', 'mel', 'dialogar', 'liderinc', 'coo', 'benjamin', 'licoe', 'descubra', 'prepar', 'talentoso', 'recar', 'mageronymo', 'carol', 'paiffer', 'shark', 'accioly', 'cresce', 'opahitr', 'derrubar', 'desgoverno', 'debb', 'cerbasiresponder', 'mblsaopaulo', 'sexual', 'vitimo', 'constituicao', 'sugerir', 'aquisicoes', 'acquar', 'equipes', 'pergunto', 'felizmente', 'administrativo', 'daiane', 'beachtennisbrasil', 'unibanco', 'reconocimiento', 'distinto', 'dura', 'criei', 'paginar', 'juco', 'fabiano', 'maisonducavalier', 'trainees', 'grave', 'min', 'ficha', 'luiza', 'quebrei', 'peru', 'desarrollo', 'constranger', 'tamanha', 'dream', 'conhece', 'segrer', 'iglesia', 'precioso', 'podcastbrasil', 'eumecast', 'pauta', 'horo', 'institutional', 'protagonista', 'sinistro', 'montanha', 'pec', 'esto', 'autonomos', 'calmo', 'nestle', 'emprestar', 'honesto', 'tiro', 'parnaiba', 'mimo', 'bonificacao', 'assertividade', 'blog', 'procede', 'identificacao', 'att', 'delfim', 'choque', 'diligencia', 'exchanges', 'soltar', 'rapidez', 'liquidar', 'beachtennislover', 'alzr', 'motors', 'ff', 'gugelmin', 'dakar', 'utv', 'manuel', 'disputara', 'navarro', 'euromoney', 'folego', 'procur', 'vinculado', 'fluu', 'fluuuu', 'diferenco', 'painelista', 'habitante', 'golpes', 'bloqueio', 'conglomerar', 'mchy', 'combater', 'trafico', 'conversivel', 'series', 'learning', 'eventoalltogether', 'criatividade', 'percebir', 'professora', 'itc', 'dielvili', 'helena', 'ineditar', 'pris', 'unique', 'unike', 'bemfeitinho', 'ibff', 'vieiro', 'fundadora', 'desconhecimento', 'postarei', 'investimentofacil', 'investirparaofuturo', 'skills', 'regional', 'frequentemente', 'voice', 'discussoes', 'lucagallacci', 'hrcastiglione', 'especificamente', 'escolinhadetriathlon', 'escolinha', 'volvocaminhoes', 'giro', 'kids', 'globominas', 'psolsaopaulo', 'venezuela', 'dignidader', 'terceiro', 'pôr', 'amplie', 'macae', 'dirceuborgesgo', 'significado', 'sucessofinanceiro', 'wm', 'quantumfinance', 'celio', 'compliance', 'prateleira', 'bandtv', 'ministrar', 'filiar', 'rlp', 'mateus', 'toro', 'camila', 'assalto', 'responsabilidadesocial', 'briga', 'cercar', 'contrariar', 'recaf', 'organizador', 'rolonmarcia', 'mencionei', 'alia', 'investigar', 'esperidiaoamin', 'senadorkajuru', 'metrojornal', 'conversao', 'arrefecer', 'farmaceutico', 'criminoso', 'estranho', 'arrendatario', 'institutoponte', 'copasabemi', 'filosofia', 'criptomoner', 'criptoactivo', 'musa', 'agil', 'marcia', 'rolon', 'ajuste', 'antecipacao', 'boletimcoppolla', 'selecionamos', 'maratonar', 'thedevconf', 'beijo', 'microsoftbr', 'drancer', 'alencar', 'ximene', 'vote', 'criatura', 'lote', 'movel', 'corrido', 'bancosafro', 'madrugacast', 'meiaentrada', 'tunel', 'bombeiro', 'theo', 'seebacher', 'jordao', 'amazona', 'first', 'pas', 'reembolso', 'ferir', 'casimiro', 'arrasse', 'perfinr', 'beneficiem', 'lucasalmeidaeduca', 'ocamargo', 'tensao', 'bicalho', 'abbud', 'sarquerer', 'aiex', 'clac', 'ciavaglia', 'nina', 'batista', 'christovao', 'aguarder', 'just', 'slar', 'vw', 'nivus', 'equestre', 'proxim', 'marcacao', 'conscientizar', 'nocoes', 'isq', 'potenciaperiferica', 'periferiapotente', 'periferiapretar', 'jdmiriam', 'focojardimirer', 'financialeducation', 'bona', 'godoy', 'torcida', 'experienceclub', 'situationsr', 'oprimoricothiagonigroprimocastreelspodcast', 'company', 'idealizador', 'detalhir', 'openfinancer', 'shopee', 'governamental', 'vestuario', 'better', 'bco', 'artist', 'galvaor', 'golpista', 'contraparte', 'oscs', 'cetip', 'abatr', 'judiciario', 'surf', 'impressaod', 'roso', 'tassojereissati', 'joseserra', 'zezedicamargo', 'fernandez', 'correiobraziliensar', 'halloween', 'rg', 'cbnbrasiliaoficial', 'painelistar', 'quebrada', 'centrodombosco', 'pekelmon', 'recordtvoficial', 'ampliacao', 'tst', 'sindico', 'inquietacao', 'juntarao', 'sitealoalobahio', 'aloalobahia', 'bvalladao', 'raul', 'lightcomvoce', 'quintoandar', 'embelleze', 'bancobs', 'norteshoppingrj', 'riotennisacademy', 'adintennisacademy', 'midwaydigital', 'eudora', 'ambipargroup', 'heinekenbr', 'fortevironoficial', 'ethimosinvestimento', 'popofreitas', 'opropriolavodecarvalho', 'filipebarrosoficial', 'claudemirgigliotti', 'neni', 'genheleno', 'depheliolopes', 'jorgeemateu', 'ineficiente', 'fracoes', 'fracoe', 'arnaldodanembergcollection', 'oricaperrone', 'aniversarioshb', 'fredericodavilaoficial', 'jorgeseifjunior', 'gloriafperez', 'robotizar', 'marcelvanhattem', 'protea', 'enhub', 'errer', 'uno', 'alimentossantoni', 'equipo', 'larafranco', 'asandreastuto', 'angelamarsolar', 'pripar', 'knew', 'brucedickinsonofficial', 'challengir', 'btgchallenge', 'atacar', 'gaste', 'institutofar', 'hinode', 'visa', 'brinksbrasil', 'oficialrodobem', 'jmacedo', 'sescms', 'fecomercioms', 'hinoveoficial', 'criancaesperanca', 'governoms', 'available', 'blackfriday', 'missionario', 'oncafari', 'batalla', 'cuanto', 'iquine', 'availablir', 'win', 'descentralizar', 'dominante', 'christine', 'lagarde', 'criptomoedo', 'escala', 'hashdex', 'hashdexcripto', 'hash', 'cumprimento', 'moveday', 'curadoria', 'grow', 'estimulo', 'did', 'say', 'catupiry', 'sinalizacao', 'space', 'harmonio', 'minimos', 'renatonavarrofotografia', 'bmg', 'perkinsandwill', 'informe', 'letra', 'letras', 'reinvestimento', 'otimistaoficial', 'vitral', 'closet', 'nascente', 'intimo', 'elevador', 'vilar', 'fonteles', 'versace', 'versaillesbrasil', 'geraldo', 'mentorebank', 'juliette', 'businessman', 'bussines', 'fitnessmotivation', 'cashondelivery', 'vistamar', 'imoveisdeluxo', 'imoveisaltopadrao', 'cfp', 'mds', 'nasci', 'capa', 'socorro', 'elogiar', 'iminente', 'dispoe', 'arreper', 'aconteca', 'mercadoemfoco', 'meneobregon', 'suspeitar', 'norma', 'cego', 'mulheresempoderar', 'alcool', 'meritocracia', 'comunicacoes', 'joia', 'fer', 'fenomenal', 'destroi', 'potenza', 'ponto', 'arenar', 'algu', 'trabalhei', 'posteriormente', 'experiencie', 'itub', 'mglu', 'apostolo', 'bugs', 'esclarecimento', 'parede', 'basto', 'formei', 'danar', 'bancaria', 'pareca', 'simplificar', 'ultrapassar', 'entramos', 'elegeu', 'conferencer', 'ambito', 'meritocratico', 'luto', 'potenzar', 'pedacinho', 'education', 'provocacao', 'confirar', 'garra', 'inegociavel', 'referencio', 'modular', 'diretar', 'soma', 'conexoes', 'zinvest', 'brasilagro', 'zsummit', 'geracaoz', 'aceleracaor', 'mata', 'maxima', 'senna', 'avgcapital', 'last', 'rise', 'than', 'dovishr', 'fechamos', 'pianista', 'bratke', 'van', 'beethoven', 'abrilhantar', 'ticket', 'restrito', 'american', 'faith', 'photo', 'animacao', 'centena', 'wert', 'aracaju', 'ressarcimento', 'tramite', 'setimo', 'trxinvestimento', 'circular', 'envolvir', 'edicoes', 'nominal', 'moldar', 'rosario', 'oficina', 'visualizacao', 'perior', 'qualidadedevidurar', 'mercadofinanciero', 'persistencia', 'abrimos', 'conquir', 'abs', 'blackrocks', 'habilidades', 'heim', 'tempinho', 'imaginamos', 'direta', 'seidel', 'arrasto', 'timaco', 'encerramo', 'bm', 'rescisao', 'twitter', 'btgpctual', 'nacoes', 'cenu', 'cessaor', 'cristo', 'biblia', 'aprende', 'antecedencia', 'sell', 'lab', 'artlabgalleryoscarfreirer', 'carlosjordaky', 'negociosdeluxo', 'mulheresdesucesso', 'demitir', 'preqin', 'presentear', 'nominalmente', 'tampa', 'erico', 'arminhar', 'imponente', 'iguacu', 'alcance', 'notificacoes', 'arvore', 'persistente', 'democratico', 'pompeu', 'luciano', 'testagem', 'itambe', 'destravar', 'autonom', 'pedra', 'find', 'among', 'atend', 'tornousar', 'bioma', 'sos', 'previamente', 'posfixar', 'div', 'precisei', 'renegociar', 'sebastian', 'curtissimo', 'ilimitar', 'they', 'know', 'arrudar', 'mendelssohn', 'fnz', 'bairro', 'lanca', 'aparente', 'berco', 'praca', 'general', 'orgaos', 'proveniente', 'valentim', 'academio', 'lateral', 'cra', 'liberal', 'amostra', 'indignado', 'envergonhar', 'pauto', 'condizr', 'esport', 'gamificacao', 'esportiva', 'garmin', 'pay', 'comunidad', 'logro', 'sus', 'exito', 'concreto', 'extrai', 'viês', 'mst', 'incompetente', 'distressed', 'proporcional', 'bolsonarista', 'dotore', 'adiar', 'decretar', 'saca', 'desvalorizar', 'arrisco', 'empresta', 'navegacao', 'idinheiro', 'sonhei', 'bluemacaw', 'blmc', 'contado', 'voluntaria', 'especializados', 'marcel', 'construtivo', 'fortemente', 'iptu', 'despencar', 'street', 'bull', 'distrito', 'turistico', 'instalacao', 'oceano', 'alemdopapo', 'alemdotrade', 'sjcity', 'habitos', 'bemsucedir', 'signo', 'inversione', 'descolar', 'finalista', 'tennistimeeventosexclusivo', 'clsolar', 'ecoflamegarden', 'sottilemobile', 'sportslabclinic', 'talihandcraft', 'toldovelo', 'uselinus', 'family', 'entendimento', 'humor', 'poxa', 'compreensao', 'equilibrar', 'correlacao', 'diluir', 'thoma', 'edison', 'inventor', 'lampar', 'fraqueza', 'frasedodia', 'estabelecimento', 'minerio', 'aluminio', 'controles', 'frustracao', 'galar', 'homenagear', 'trouxerar', 'estrategica', 'desmistificar', 'conciliar', 'desmatamento', 'ilegal', 'providencia', 'irresponsavel', 'ouvidorio', 'improvavel', 'din', 'observatorio', 'insolvencia', 'kpmgbrasil', 'abj', 'jurimetr', 'incomodado', 'school', 'lopes', 'acumulo', 'vo', 'flexivel', 'retardar', 'staff', 'recrutamento', 'hosp', 'brqdigital', 'veneno', 'termino', 'passarao', 'vbi', 'lvbi', 'aratulog', 'orama', 'dtvm', 'desmatar', 'sistemico', 'requerer', 'frequentar', 'repeticao', 'efetivo', 'esqueci', 'economicnewsbrasil', 'project', 'humanos', 'finals', 'israel', 'raiz', 'afiar', 'cea', 'sonhe', 'lemann', 'carrego', 'llsm', 'aal', 'encher', 'qualidadedevida', 'piado', 'buyandhold', 'rendapassivar', 'diar', 'boatshow', 'kodja', 'movimenta', 'celebra', 'escritar', 'lagrima', 'exfuncionario', 'indiretamente', 'aplauso', 'fornecir', 'personagem', 'tricolor', 'reclamei', 'nautica', 'tinhamos', 'unitario', 'coordenadorlider', 'prima', 'represente', 'cur', 'garoto', 'fod', 'fasano', 'man', 'excesso', 'largar', 'dedico', 'chocolate', 'walterforte', 'cielo', 'saer', 'escrevo', 'limer', 'gastronomiar', 'encantamento', 'compensa', 'solicitante', 'ibge', 'melo', 'santos', 'juanlucaspescarolo', 'periferia', 'nobregar', 'mcci', 'utei', 'moda', 'capitania', 'cpts', 'bordo', 'dragon', 'mecanico', 'confiarer', 'roi', 'residencial', 'recebemos', 'marcusantonioamorim', 'camillaportugal', 'dedeaolicastro', 'grata', 'necessitar', 'corretordeimovel', 'stone', 'exameinvest', 'inscrevar', 'autodromo', 'brigar', 'gerencial', 'movimentacoes', 'integralizacao', 'transacoe', 'ni', 'hglg', 'visc', 'btgasset', 'afhi', 'distribuer', 'percorrer', 'distancia', 'onix', 'shell', 'gas', 'trp', 'alfredomenez', 'rossettiraony', 'antonioformigar', 'marcopradokim', 'betonuzzi', 'gabrielmaksoud', 'lombardir', 'enciclopedio', 'thcalestine', 'prox', 'sobrevivencia', 'reder', 'hey', 'ovo', 'clima', 'coral', 'grateful', 'part', 'institutojurua', 'liamarinhabio', 'cooprimo', 'institutosalvemar', 'pickupau', 'aturezabeladeitabele', 'silvestre', 'abordo', 'aluna', 'colgatebrasil', 'tiagocamilo', 'saberar', 'certos', 'insistir', 'desespero', 'segurosaude', 'possuem', 'diaria', 'bitcoim', 'apresento', 'investsmartxp', 'cesar', 'moreira', 'agroemdiapodcast', 'sintonizar', 'clinica', 'wg', 'aperfeicoar', 'girls', 'concorrencia', 'eterno', 'dalhe', 'bandido', 'culpar', 'curti', 'firma', 'guilhermebenchimol', 'brincar', 'esperancar', 'assinatura', 'manipulacao', 'inventar', 'donos', 'incentiver', 'felipemassar', 'amanda', 'cansativo', 'exceder', 'bancooriginal', 'fundosdeacoes', 'pudesser', 'abar', 'captacoes', 'agricolar', 'queridinho', 'agio', 'exploracao', 'logistica', 'estaremo', 'virtualmente', 'gioachino', 'rossini', 'von', 'suppe', 'heitor', 'villalobo', 'maurice', 'ravel', 'crm', 'idom', 'girar', 'envolvimento', 'rotinar', 'maquina', 'usalar', 'abr', 'recepcionar', 'suzano', 'charle', 'balletparaisopoli', 'comar', 'ajudandoosr', 'cooperacao', 'encaminhe', 'consagre', 'proverbio', 'poa', 'marcio', 'acquaveroequipe', 'rn', 'racar', 'impacta', 'ambicao', 'levamo', 'lco', 'qualidadedever', 'minds', 'galloway', 'kallayil', 'junta', 'holding', 'inferno', 'listagem', 'visivel', 'bancodeinvestimento', 'beachtennisnordeste', 'precificar', 'interativo', 'max', 'maxr', 'suico', 'anexo', 'report', 'ifoodbrasil', 'cortex', 'pior', 'porcar', 'testemunhar', 'hahahaha', 'jaja', 'vasto', 'diretorexecutivo', 'realizacoes', 'park', 'lacerda', 'org', 'pierrer', 'james', 'apexbrasil', 'kartracing', 'karting', 'gokart', 'kartingmoments', 'kartinglife', 'kartingtime', 'kartbrasiloficial', 'tenax', 'posicoes', 'wwwtenaxcapital', 'exchanger', 'sozinha', 'prematuro', 'mogno', 'mgim', 'spe', 'pertencente', 'livrario', 'gato', 'ce', 'parcelar', 'e', 'fale', 'kareninefernande', 'saulosantiagofotografo', 'ctmpilate', 'conhecela', 'desenhar', 'clearcorretor', 'benchmark', 'merecido', 'relogio', 'merecedor', 'acolhedor', 'meado', 'integralmente', 'distrato', 'mapa', 'nchb', 'making', 'multiplo', 'colegiar', 'mxrf', 'aceito', 'honorario', 'corretorar', 'desligar', 'aprendar', 'possuimos', 'psicologico', 'caia', 'festival', 'vergonhoso', 'paulosp', 'negociado', 'separ', 'piramide', 'mestrar', 'genuina', 'ferrar', 'sermos', 'agradecido', 'frio', 'transacional', 'renatomoritz', 'such', 'temporini', 'inspirese', 'docinvestimento', 'convocar', 'btgpactualadvisor', 'gaia', 'basquete', 'cotidiano', 'caxia', 'geral', 'fiesc', 'aguiar', 'entenderr', 'localizacao', 'ibmec', 'alcancamos', 'obcecar', 'estivermos', 'contas', 'coincidencio', 'gremio', 'vitorioso', 'cadeio', 'asociacion', 'asofiduciaria', 'reajustar', 'ata', 'sparar', 'comportamental', 'diariocatarinense', 'eesp', 'grifa', 'comprova', 'bodylaser', 'orientacoes', 'poxar', 'cultivo', 'rapidamente', 'buscador', 'certinho', 'founders', 'eventualmente', 'consiga', 'limpo', 'facel', 'paapeumebanco', 'raio', 'sugiro', 'arquivo', 'adverso', 'abranger', 'desdobramento', 'suspeito', 'molusco', 'desanimar', 'socialista', 'assustador', 'ladro', 'geovane', 'ml', 'daniela', 'granadeiro', 'mussi', 'kitri', 'sportiello', 'jeola', 'jeolasbernardo', 'grupoabveiculos', 'santaceciliastables', 'horses', 'tributaria', 'regrar', 'comecota', 'magarciajunior', 'extrato', 'pisar', 'hrs', 'leao', 'madrugabancario', 'descanso', 'deixeir', 'socialismo', 'capitalismo', 'lamborghini', 'avinexperience', 'mander', 'ig', 'desocupacao', 'empiricu', 'hazte', 'cumplar', 'sueno', 'junio', 'loscruzado', 'lascruzadas', 'contactar', 'ingresar', 'orden', 'permitan', 'cruzar', 'concretar', 'anhelo', 'universidad', 'catolico', 'cuyo', 'plazo', 'construccion', 'extenderar', 'incrementar', 'cantidad', 'apoquir', 'dotar', 'recinto', 'multiproposito', 'capacidad', 'tambiener', 'puede', 'realizarse', 'incorporacion', 'sumarse', 'subasta', 'atraer', 'wwwbtgpactualclcruzar', 'precio', 'colocacion', 'actuales', 'vantajoso', 'camp', 'tira', 'humanitario', 'combate', 'nino', 'sier', 'servicio', 'mile', 'medicar', 'aprendido', 'patrio', 'atalho', 'verificacao', 'pessimista', 'acolhido', 'tel', 'delegacao', 'siila', 'sure', 'incorreto', 'camaradeputar', 'moacir', 'bancopan', 'elet', 'comparativo', 'levemente', 'revisoes', 'majoritario', 'pico', 'precisara', 'chameir', 'partidonovo', 'federacaorj', 'ewz', 'neo', 'cup', 'reabertura', 'otica', 'chamei', 'ptbnacional', 'dinheirovivopt', 'folhaper', 'colunaesplanar', 'jornaldagazeta', 'datenarealr', 'thiagootuki', 'gouvea', 'rinaldi', 'furio', 'girl', 'ra', 'atuante', 'lgbt', 'voo', 'premioibest', 'muitooooo', 'ouco', 'patriciagenelhu', 'httpswwwbtgpactualcominvestmentbank', 'tributario', 'precisario', 'faremos', 'rir', 'ieo', 'representacao', 'thogarcia', 'banquinho', 'partners', 'pernambucano', 'replicar', 'cenografia', 'recebe', 'criamos', 'segurancar', 'sitar', 'bancodigital', 'influencer', 'socioemocional', 'cashmebrasil', 'adyenbrasil', 'recodeproorgbr', 'android', 'leitor', 'eurofarma', 'neoliberal', 'challenge', 'muniz', 'imaginem', 'farei', 'safirainvestimento', 'grupotecnoset', 'nutrienbr', 'unisyscorp', 'pirelli', 'institutonovadimensao', 'cadear', 'fotografo', 'constatar', 'deixo', 'mamata', 'odeio', 'ingenuo', 'listada', 'arrecadacao', 'colecao', 'literatura', 'misterio', 'usufruir', 'horsts', 'markup', 'pingar', 'coma', 'followforfollowback', 'altcoim', 'visitir', 'cry', 'smartbrain', 'blue', 'indiretar', 'escriturar', 'retracao', 'recr', 'conquistamos', 'apex', 'custoder', 'locatar', 'cachorro', 'dog', 'corgi', 'corgilove', 'corgibrasil', 'barolo', 'corgicuteness', 'corgipuppie', 'corgicommunityr', 'absorver', 'agenteautonomo', 'protecaopatrimonial', 'investimentosnoexterior', 'lineinvest', 'lounge', 'particular', 'segundei', 'laura', 'inverso', 'trago', 'aproveito', 'ssouza', 'cocobambubsboficial', 'lidebr', 'boutique', 'corporativa', 'mental', 'anbima', 'zordan', 'air', 'france', 'credit', 'soffatti', 'superficiar', 'grahar', 'curtar', 'lembrete', 'ademirfotografo', 'oeste', 'encorajar', 'travelplustur', 'glauvidal', 'guaranifc', 'brunoviottobcv', 'julianobelletti', 'suspensao', 'provocar', 'year', 'feel', 'nothing', 'could', 'danielucmr', 'gostamo', 'rodrigoconstantino', 'romariofar', 'karnal', 'prejudico', 'prestigio', 'jo', 'baterr', 'pan', 'tebet', 'cumpr', 'consumismo', 'abuso', 'rent', 'centers', 'gesser', 'ganhamos', 'bgt', 'pratodosver', 'ambientales', 'brasileno', 'nigri', 'tecnisa', 'ans', 'doenco', 'btgpactualcom', 'seguimento', 'consignar', 'exigente', 'escrevi', 'petro', 'hh', 'irma', 'atletico', 'senador', 'vence', 'godinho', 'couto', 'leque', 'aderir', 'empregar', 'inscreva', 'soon', 'secreto', 'plantacao', 'afscapital', 'ouvidor', 'enrolar', 'cerimonial', 'promotora', 'prepago', 'crescir', 'exponencialmente', 'remesso', 'natalio', 'enfiei', 'seguer', 'engajado', 'juntese', 'intuicao', 'participo', 'mandei', 'endividamento', 'devera', 'apolice', 'ivest', 'sequeira', 'juntossomosmaisforte', 'notar', 'entr', 'gerandofalcoes', 'agr', 'btgtalks', 'canalzinvest', 'mid', 'osso', 'inadimplente', 'calculador', 'run', 'reativar', 'ingrato', 'cansar', 'arduo', 'charmoso', 'ever', 'drink', 'puravir', 'transacao', 'santana', 'aracatuba', 'paolajardimcarvalho', 'oferecimento', 'cybersecurity', 'oii', 'computador', 'encaminhar', 'porra', 'merda', 'associater', 'preenchi', 'vertical', 'psicologo', 'progredir', 'transacoes', 'gohan', 'btgl', 'forcar', 'uniforme', 'prognostico', 'motorsporter', 'fairfaxseguro', 'recuperei', 'leticia', 'cedula', 'bill', 'marinahelenabr', 'fornecedor', 'estetica', 'logotipo', 'balcao', 'rankings', 'ubs', 'sectorfiduciario', 'linea', 'escritor', 'going', 'plantaofiis', 'denominar', 'absorcao', 'esfera', 'enforcecommunity', 'proporciona', 'preparatorio', 'nenseeee', 'globo', 'vizinho', 'oq', 'credencial', 'cordao', 'fabricante', 'ibirapuer', 'febrabantechcom', 'legitima', 'bolha', 'cilar', 'fiislogistico', 'joana', 'doe', 'teducacao', 'setupcititrader', 'daytraderbrasil', 'radarinvestimento', 'dissenha', 'contemplado', 'cursar', 'martinho', 'eliminar', 'difundir', 'oliva', 'bischoff', 'companhio', 'tutor', 'barboza', 'cidadanio', 'desenvolvimentar', 'convence', 'sangue', 'hollywood', 'estetico', 'because', 'savio', 'categorio', 'rombo', 'onda', 'rendaextra', 'ads', 'brei', 'arthurvmoraes', 'bruna', 'grano', 'igor', 'daver', 'heller', 'gesner', 'autorregulacao', 'cohead', 'fazendo', 'cella', 'estresse', 'anda', 'pronunciar', 'dinamica', 'bolsonarotemrazao', 'pv', 'medical', 'categor', 'farialimer', 'habitat', 'futevoleibrasil', 'lesar', 'logomarca', 'itubers', 'wwwmacrodaylive', 'clinico', 'convicto', 'pepperpaulo', 'mdbmulheroficial', 'psbsp', 'vimos', 'gracar', 'transforme', 'profissoes', 'necessaria', 'armadilho', 'taiwan', 'estariar', 'rogedankien', 'agua', 'comercializacao', 'irisp', 'ansiosamente', 'salgar', 'automatica', 'calendario', 'amplamente', 'alcancala', 'compliancer', 'efetivacao', 'divide', 'creditar', 'senargoia', 'pmr', 'ual', 'pequenosnegocio', 'adianto', 'dont', 'do', 'marcosrogeriooficial', 'carloslupipdt', 'cironogueira', 'da', 'economicopolitico', 'encontrotecnico', 'corriger', 'bruto', 'eth', 'argumentar', 'credo', 'libertar', 'condar', 'cilaschulman', 'vie', 'offsite', 'besteira', 'medalhista', 'vivencio', 'acaso', 'fronteiro', 'triplice', 'energio', 'faeg', 'samba', 'caderneta', 'jato', 'oscilacoes', 'mudei', 'centrooestir', 'deputado', 'protejase', 'sequestro', 'impactado', 'importacao', 'impressionante', 'importantissimo', 'alianza', 'william', 'dudley', 'ronaldo', 'selfie', 'tbem', 'aperto', 'anunciamo', 'mistura', 'estrada', 'educativo', 'juvenil', 'porelo', 'summitleads', 'motorsportr', 'cancoes', 'colunadiretodafonte', 'remuner', 'jmiranda', 'wwwbtgpactualdigitalcomanalisesmacroeconomiaeestrategia', 'delicioso', 'capitulo', 'acolhedora', 'ocaradomercado', 'tdc', 'bacen', 'menthorinvestimento', 'mascarenha', 'lourenco', 'tito', 'autonomia', 'bsdesign', 'aldeota', 'wdo', 'custos', 'eurodollar', 'sorteio', 'oratorio', 'trusted', 'obrigatorio', 'passara', 'indisponivel', 'microcredito', 'comemoramos', 'cga', 'comp', 'msc', 'paapr', 'performar', 'fernandohmag', 'alerta', 'irregularidade', 'cabivel', 'teriamos', 'topp', 'perspectiver', 'refereser', 'gemeo', 'non', 'jonathanfiis', 'transferenciar', 'edward', 'amadeo', 'mura', 'audiencia', 'jonas', 'perigoso', 'parents', 'hadnt', 'help', 'everyone', 'je', 'ausente', 'catar', 'coordenacao', 'razoavel', 'goldman', 'sachs', 'permanecerar', 'rosenberg', 'vibrar', 'lubrificante', 'ramos', 'digno', 'engineer', 'security', 'arthuralmota', 'ci', 'safrainvest', 'paodemeldafranr', 'potente', 'abusiva', 'girobusines', 'monitor', 'ryanzin', 'iamfernandoalve', 'imediatista', 'rasteira', 'matheusfiis', 'ditar', 'ucraniano', 'cortes', 'sentimentar', 'chuva', 'ullman', 'lcrua', 'vasconcello', 'patricia', 'cambraia', 'let', 'carmelo', 'mg', 'pipar', 'maternidade', 'utilizacao', 'trabalhem', 'eurusd', 'usdjpy', 'torodourar', 'adquira', 'imgacademy', 'rioopenoficial', 'quo', 'unisuar', 'analuisagodoy', 'wine', 'segurancadainformacao', 'musculacao', 'mulheresempreendedora', 'got', 'saw', 'dissipacao', 'observa', 'arrefecimento', 'pressoes', 'difusao', 'observamo', 'insight', 'suar', 'had', 'way', 'agribusines', 'recovery', 'belapasqualini', 'falir', 'optamos', 'janela', 'incluiu', 'passeio', 'encantador', 'simoninhar', 'owenplatformr', 'confessar', 'campainha', 'onu', 'wish', 'symplo', 'servidor', 'magistratura', 'cejur', 'cury', 'mpf', 'otto', 'trilhoes', 'planeje', 'ballet', 'meninasabor', 'deltaflow', 'natassiavm', 'rafaelgiovani', 'leandrobovo', 'tupiocas', 'tapiocar', 'vasconcellos', 'nathalia', 'correio', 'euclyde', 'joaquinteixeiraoficiau', 'carlosjordy', 'maragabrilli', 'victoria', 'conhecar', 'controlador', 'speaking', 'nandorel', 'felipemourabrasil', 'thigagliasso', 'ricardosallesmmar', 'ligacoe', 'barong', 'drummond', 'cat', 'hcp', 'apoiadora', 'meirelles', 'ejud', 'conforti', 'procuradora', 'amatro', 'castro', 'pepauloricardo', 'paol', 'oabba', 'slogan', 'llzebtg', 'eleicaodesindico', 'assembleiadecondominio', 'polo', 'vogo', 'jornaldacultura', 'ferrito', 'trtrj', 'cristor', 'comercializar', 'pixbet', 'timbrasil', 'grupoheinekenbr', 'coluna', 'plenonews', 'programapanico', 'nikolasferreiradm', 'arx', 'donadabolsar', 'dicasdevalorcombtg', 'aliancapelobrasil', 'radiobandeirante', 'uniaobrasilbahia', 'loucuro', 'marinhaoficial', 'fab', 'cbnrecife', 'csiw', 'almocar', 'onyxlorenzoni', 'mauriciovolei', 'majorvitorhugo', 'livcapital', 'ginecologista', 'when', 'lca', 'lama', 'rochar', 'fantasma', 'atrapalham', 'verso', 'paris', 'mis', 'iron', 'maiden', 'centavo', 'cbdc', 'fraudulento', 'marianomferraz', 'erroneo', 'encobtra', 'negrito', 'clike', 'carbono', 'prefeituradecorumba', 'palabro', 'generalgirao', 'prosabersp', 'inteligenciar', 'blackfridaybrasil', 'guinebissau', 'acarretar', 'temido', 'igualandose', 'papelmoedo', 'faturir', 'partida', 'custodiar', 'tintasiquine', 'cal', 'sertao', 'galeria', 'shp', 'capitar', 'permanent', 'ladarioprefeituramunicipal', 'ifmscb', 'acaiapantanal', 'documentapantanal', 'canon', 'sportainmetr', 'bichar', 'anatole', 'kaletsky', 'gavekal', 'scandiuzzi', 'intrinseca', 'pararr', 'essenci', 'hillary', 'clinton', 'driblar', 'sancoe', 'future', 'futofmoney', 'verer', 'estomagar', 'ticker', 'saving', 'racionalidade', 'motir', 'trouxemos', 'angelo', 'alberoni', 'betcris', 'betziliancom', 'meltzer', 'empreendedoro', 'souber', 'negociosdeimpacto', 'apetite', 'trimestral', 'dy', 'apreco', 'heroi', 'mostrarei', 'trabalharar', 'stockmarket', 'chefleticia', 'virtualcookingclass', 'desenvolvemos', 'encaixar', 'dea', 'ricardobassetti', 'romulofialdini', 'perkinsandwillsaopaulo', 'designwithpurpose', 'inspiredbypeople', 'designdeinterior', 'compet', 'btgbtgpactual', 'techwomen', 'diainternacionaldasmulher', 'hipotecario', 'lh', 'lucaspit', 'comunidadedootimista', 'primorico', 'juroscomposto', 'caiocastro', 'vandersonmbaquino', 'gustavosousacorretor', 'artigosdeluxor', 'celebrarmos', 'bestperformer', 'privatebank', 'medina', 'assisti', 'eletronico', 'rothschild', 'validar', 'ucraniar', 'interferencia', 'criticar', 'seguida', 'revir', 'solicitacoes', 'fredpompeu', 'proveito', 'maestria', 'vaza', 'sevenr', 'conviver', 'acrescentar', 'apelo', 'autonor', 'net', 'jardimpernambuco', 'auladetenis', 'lacostir', 'cmdb', 'extracao', 'futureinvest', 'semelhanca', 'putin', 'encerrado', 'tim', 'looks', 'saia', 'atemporal', 'elegante', 'agradecir', 'libro', 'espacio', 'proyecto', 'gracia', 'edicion', 'portugar', 'permanencia', 'loco', 'mognocapital', 'stelleo', 'tolda', 'ceoconferencebtg', 'conectividade', 'morr', 'bizarro', 'publicacoes', 'definido', 'caminhe', 'divisor', 'batalhar', 'cicatriz', 'motivation', 'inclusivo', 'veicular', 'bbdc', 'putinr', 'obs', 'brco', 'vilg', 'seneh', 'descobri', 'axioma', 'zurique', 'reencontr', 'person', 'storytelling', 'responsivo', 'presenco', 'dorio', 'ego', 'gestaofinanceira', 'resiliencer', 'katsonis', 'intensidade', 'bestperformance', 'raro', 'predominantemente', 'notamos', 'oportunizar', 'glorio', 'caixer', 'obviamente', 'paixaor', 'edtechs', 'celso', 'habimorad', 'key', 'observado', 'sazonalidade', 'procuro', 'perfazer', 'dreyfus', 'socioscom', 'desenvolr', 'participarao', 'wwwrevistaidealcombr', 'revistaideal', 'brds', 'fil', 'getnet', 'saida', 'cpfl', 'seguridade', 'copel', 'prometo', 'baitar', 'ayrton', 'oxyp', 'days', 'went', 'already', 'profitable', 'many', 'rjfisioterapia', 'jerome', 'indignacao', 'desagradavel', 'btgwomen', 'admira', 'ludwig', 'felix', 'remete', 'requisitar', 'refazer', 'biometrio', 'cerrado', 'socioambientais', 'contribuem', 'regenerativo', 'distributivo', 'intimacao', 'exatidao', 'embasar', 'paralisar', 'pandemias', 'compila', 'atrelado', 'compilacao', 'bresco', 'comentei', 'wellington', 'mafe', 'violatti', 'mafeviolatti', 'ligadefiis', 'ousadia', 'continuo', 'vemcomigo', 'deumbtgnoseusinvestimento', 'simpaulinvestimento', 'porcentagem', 'kussarev', 'cdp', 'braskem', 'eletrobrasoficial', 'imaginario', 'naturalista', 'visualmente', 'six', 'faixa', 'materio', 'keepgoing', 'vela', 'padroe', 'mercadodeacoes', 'ganharar', 'recomeco', 'americalatinar', 'ancordr', 'cr', 'wavebtg', 'quilombo', 'blackrocksstartups', 'programadeaceleracao', 'pormaisnegrasenegro', 'blackintech', 'blackstartups', 'growstartups', 'licoes', 'reconstruir', 'contruir', 'bipbrasil', 'primeiramente', 'bip', 'marinichelenichele', 'reconstrucao', 'argucia', 'juntoscontraocoronavirus', 'btgaai', 'trnt', 'transwolff', 'carencia', 'canar', 'boanoitar', 'aovivo', 'btcpactual', 'invalido', 'te', 'versaor', 'vivi', 'side', 'jobsher', 'bugar', 'ativamente', 'galery', 'posicionamentodemarco', 'mercadodeluxo', 'ninguém', 'programar', 'prosperidadeinvestimentoscg', 'desaquecer', 'podese', 'mindset', 'pausar', 'sensibilidade', 'flowork', 'nono', 'sigma', 'droga', 'desocupar', 'frustrar', 'agradeca', 'diadelive', 'invistaconsciente', 'analfabeto', 'trademap', 'wow', 'devs', 'resende', 'viano', 'estacao', 'sanitario', 'precor', 'reciclagem', 'escopo', 'vigencia', 'locacoe', 'barroso', 'realestat', 'simplifique', 'vidro', 'estacoes', 'madeira', 'garden', 'there', 'bring', 'offer', 'view', 'buildings', 'something', 'into', 'firstr', 'centrooeste', 'profittogrowth', 'tinhar', 'planeta', 'ongs', 'livelo', 'movimentando', 'agender', 'cuiabar', 'rungir', 'variante', 'truly', 'become', 'steve', 'jobs', 'orquestrasinfonicaheliopolis', 'summitalliance', 'turmar', 'wurman', 'babaca', 'sarainvestoficial', 'geocapital', 'vamosjunto', 'iccc', 'publicoprivar', 'chafariz', 'tombar', 'iphan', 'revitalizacao', 'parcao', 'implantacao', 'errejotar', 'alliancejjteam', 'jiu', 'jitsu', 'fabiogurgel', 'patrick', 'btgpactualevents', 'bozo', 'rejeicao', 'previsibilidade', 'protegeu', 'divergente', 'saquear', 'descaradamente', 'destruir', 'expresidiario', 'imediatamente', 'concebido', 'redonr', 'debaterao', 'convidalar', 'remota', 'compartilham', 'tarcisiogovernadorsp', 'fingers', 'ufa', 'multidao', 'desempregado', 'monetizacao', 'engagement', 'integridade', 'ownership', 'paradigma', 'franqueza', 'aplaudido', 'tipico', 'esquema', 'ecosistema', 'cual', 'presentamos', 'son', 'ods', 'asociar', 'angulo', 'ciudad', 'entorno', 'idea', 'tambien', 'bicharaabidaoneto', 'primer', 'tiempo', 'alienar', 'conglomerado', 'cauteloso', 'populacional', 'fracao', 'levarr', 'serviro', 'afirmacao', 'pobreza', 'escolaridade', 'portar', 'pgtalk', 'detalhar', 'estressar', 'pglaw', 'governancacorporativo', 'mensageiro', 'fsbcomunicacao', 'sensato', 'perdir', 'vazio', 'porr', 'governar', 'nacao', 'estrategicamente', 'protecaonar', 'assimetr', 'monitoro', 'chatice', 'lockdown', 'sobrevalorizar', 'dispar', 'dolaresfunr', 'observer', 'cotizar', 'bruta', 'obrigacoes', 'consorcio', 'fecha', 'crucial', 'presidencial', 'ineditismo', 'escrituracao', 'indicer', 'trilhoe', 'line', 'navalhas', 'occar', 'avalhas', 'httpsopenspotifycomepisodedpftfvzjtwupxoepynsigfezeatzsjhlmuvsudqqutm', 'sourcecopylinknd', 'occambrasil', 'pierr', 'ministros', 'escrito', 'piorar', 'sport', 'realizeir', 'recuo', 'resistir', 'investido', 'escultura', 'iorque', 'simboliza', 'pujante', 'audibr', 'arrematar', 'reinventousar', 'casaitaim', 'encerro', 'metal', 'siempre', 'btgpactualcolomber', 'filieseabaai', 'reformulamos', 'hacks', 'tennistime', 'antoniobernardo', 'austral', 'atilatte', 'ararason', 'bennusport', 'brizzaarezzo', 'cachacabrasilchik', 'coronar', 'dermagebrasil', 'doog', 'gatoradebrasil', 'guto', 'divieirafotografia', 'possible', 'troquei', 'caatinga', 'minimizar', 'ocorr', 'coluno', 'bussolo', 'miurar', 'repetitivo', 'blindar', 'portoalegre', 'quick', 'tapereading', 'areiar', 'bolinha', 'refugio', 'oficialparqueglobal', 'reacaobeachtennisteam', 'suspense', 'extinto', 'maneiro', 'vasconcelos', 'insolvenciar', 'filosofo', 'aliner', 'vozfemininar', 'short', 'vemserbtg', 'unirparafortalecer', 'btgbankers', 'celula', 'gordura', 'irrelevante', 'partnershipmarketing', 'vempradipmaisvocetamber', 'porschecupbrasil', 'allianzparque', 'friend', 'seria', 'taxar', 'gargalo', 'jurimetria', 'arnaldo', 'silvio', 'reeleicao', 'breno', 'trajeto', 'patrocinadoro', 'arvor', 'incentivador', 'gallery', 'luxo', 'importanciar', 'substituicao', 'wiseinvestimento', 'degradado', 'mudario', 'acionario', 'bês', 'subsidiaria', 'acoe', 'fajuta', 'greenwashing', 'liberacao', 'intuitiva', 'equitie', 'regulamentacao', 'venha', 'ocasionar', 'brickell', 'maltratar', 'compreendar', 'mesquita', 'trip', 'smallcap', 'dimensao', 'seguidora', 'cumprimentar', 'celinabuhlerbranding', 'consumidormoderno', 'caraco', 'tomeir', 'adapteaai', 'gestaodepatrimonio', 'sonhogrander', 'cronica', 'ama', 'maceio', 'mantenha', 'brother', 'domingao', 'quilometro', 'maluco', 'metor', 'holder', 'skininthegame', 'madness', 'capkodja', 'filipepenko', 'marfrigmrfg', 'tio', 'presentinho', 'brigadeiro', 'velhoamigo', 'despediar', 'empregaticio', 'confraternizacoes', 'historer', 'mentorei', 'fisicamental', 'eternamen', 'eventosemcondominio', 'granstadvolvo', 'loucosporbarcos', 'madeiro', 'revistanautica', 'shoppingcenters', 'institutoalok', 'biodiesel', 'canadeacucar', 'restringir', 'algodao', 'poliester', 'desincentir', 'mexem', 'operador', 'alisoncorreia', 'galeraaaa', 'ifljovemspr', 'rateiar', 'sulamerico', 'log', 'taesa', 'bdr', 'confesso', 'inevitavelmente', 'foguete', 'campus', 'vargas', 'geografia', 'mentore', 'andersonr', 'th', 'bancocentraldobrasil', 'bauru', 'sisteleng', 'agrosolo', 'portalray', 'paschoalottooficial', 'movimentobemmaior', 'carolambm', 'gfstore', 'apresentacaor', 'alve', 'somosacquaveroinvestimento', 'elegancia', 'alianscesonae', 'traged', 'lotus', 'lotuscapital', 'tropar', 'ilha', 'xie', 'lar', 'convidados', 'prestes', 'stanford', 'incrivelmente', 'planeja', 'soffiatti', 'venco', 'yamaha', 'shurar', 'sbsomeluz', 'azimut', 'house', 'risar', 'tradicionalmente', 'mourar', 'marcusschulzepeixinho', 'almeer', 'lanzarinleo', 'valoriza', 'atendelo', 'factivel', 'horar', 'paixoes', 'jeff', 'maracano', 'loyo', 'tackfestival', 'sindibaresgynr', 'sodexobrasil', 'ponderar', 'moodys', 'estrutural', 'consistentemente', 'juizo', 'tramitar', 'manifestacao', 'devedora', 'clubin', 'rosman', 'bancoes', 'luc', 'movimentacoe', 'core', 'hgre', 'brcr', 'xplg', 'shoppings', 'darumbtg', 'companhiar', 'pedrohrvital', 'lmmaximo', 'mia', 'products', 'renewable', 'bp', 'association', 'nigerio', 'automobilistico', 'aproveita', 'conservacaoambiental', 'adocar', 'invadir', 'musicalizacao', 'espacosilvestre', 'barrancoalto', 'houstonzoo', 'zoomiami', 'baronghouse', 'iucn', 'otterspecialistgroup', 'adesivo', 'continuarmos', 'versignassi', 'jabuti', 'divertido', 'atentar', 'compativel', 'certeiro', 'preferencialmente', 'rendamensal', 'loucurar', 'jobin', 'houver', 'tarefa', 'bira', 'biraferreiro', 'paulopedroso', 'narciso', 'vidaboiadeira', 'agroemdir', 'noticiasdoagro', 'galdermaaestheticsbr', 'femclinico', 'orgulhodepertencer', 'restylane', 'dysportr', 'preenchimentofacial', 'bancos', 'tradingfloor', 'redesocial', 'explora', 'spxcapital', 'repetidamente', 'soocomeco', 'somoswg', 'transformalo', 'julgamento', 'faccao', 'especulacao', 'acostumar', 'bobo', 'mapear', 'comanr', 'mereco', 'pnc', 'benchimol', 'rer', 'descompressao', 'informal', 'willis', 'tower', 'watson', 'probelma', 'predilecao', 'bando', 'sequestrar', 'grana', 'leadership', 'progr', 'aposto', 'tmb', 'onboarding', 'iv', 'desativar', 'oramar', 'torar', 'singularecorretor', 'simpaul', 'taxadejuro', 'dormir', 'ficaadico', 'bravo', 'julianoacustodio', 'unimos', 'inenarravel', 'socialmente', 'vinr', 'tchau', 'oferec', 'revenda', 'financiamos', 'assessoriafinanceira', 'pace', 'cant', 'upgrade', 'baixei', 'cprfinanceiro', 'rel', 'objeto', 'roto', 'cs', 'vinicius', 'amgcapitalinvest', 'abracos', 'entrego', 'icatu', 'zurich', 'evandro', 'vejar', 'desisto', 'visitamos', 'value', 'confortavel', 'charlesrivercapital', 'paradigmacapital', 'sebrae', 'madrinha', 'nathaliaarcuri', 'proferir', 'somposeguro', 'toyotatsushooficial', 'vester', 'autonomir', 'onecomela', 'finaceiro', 'traderevolution', 'muit', 'ibajud', 'iniciamos', 'gutierrez', 'walter', 'racional', 'fernandalarissainvest', 'motivacaorazao', 'justa', 'renovatorio', 'comarca', 'pergunte', 'almar', 'diligenciar', 'alexandra', 'aquecimento', 'innovation', 'barbosa', 'remediar', 'parapara', 'cautela', 'consigam', 'diver', 'genocidio', 'falarmos', 'pgg', 'pggchem', 'proddutorrural', 'distributor', 'cooperativar', 'aproveitam', 'tammysj', 'escuchar', 'nhhotelgroup', 'cbre', 'agrega', 'cabo', 'octubre', 'bogota', 'informacion', 'griclub', 'josypguede', 'grandhyattspr', 'anything', 'sitting', 'down', 'neutro', 'alienacao', 'globenet', 'techday', 'scott', 'divesh', 'makan', 'iconiqr', 'mark', 'zuckerberg', 'sheryl', 'sandberg', 'dorsey', 'galperin', 'dan', 'morehead', 'panterar', 'gopi', 'chief', 'evangelist', 'atestar', 'assessoriaeminvestimento', 'ambientalmente', 'greenbonds', 'invight', 'engajar', 'aproveitamo', 'final', 'agitar', 'tremer', 'ets', 'pedrohavasco', 'luminiinvest', 'aletavar', 'investpartnerinvestimento', 'elthon', 'paulorbarreter', 'premiacoes', 'focer', 'aprer', 'moneyreportoficial', 'teorico', 'extensaor', 'gerador', 'cvc', 'painei', 'americana', 'simplicidade', 'aprecio', 'cearense', 'sima', 'anjor', 'apropriar', 'bancobmg', 'higher', 'industr', 'textao', 'barbeiro', 'viddacapital', 'falarr', 'onuoficial', 'netzero', 'deslizir', 'most', 'members', 'main', 'trends', 'foreign', 'technology', 'capitalmarkets', 'werir', 'jamestownlp', 'mira', 'newmark', 'credicorp', 'finished', 'cocktail', 'ritch', 'mueller', 'marriottintl', 'insidir', 'popularizar', 'campana', 'exit', 'dejen', 'extraccion', 'mientra', 'colapso', 'procure', 'vivianemrcarvalhoinvest', 'liso', 'suave', 'laranja', 'esquentar', 'fundomultimercar', 'porumbrasilmelhor', 'batizar', 'turbulencia', 'darwin', 'adaptacao', 'adversa', 'goulart', 'rabo', 'casting', 'acisa', 'voltarei', 'camarada', 'merecir', 'possuor', 'agilizar', 'escossia', 'cerim', 'chefejufernande', 'barrico', 'pettro', 'dj', 'rafasaxman', 'sax', 'xismac', 'arenaaveiro', 'showww', 'empolgante', 'programaplaybt', 'evandrorufino', 'janaarouca', 'familiamormaii', 'eduardonedeff', 'muri', 'rafalosamigo', 'garopabar', 'albuquerquefernar', 'fizemo', 'qualy', 'tiebreak', 'teresinapi', 'playbeachtennis', 'redecompra', 'mormaiioficial', 'circuitomormaiidebeachtennis', 'beachtennisbeachtennisworld', 'envolvido', 'saio', 'profur', 'materializar', 'encantadora', 'jandira', 'feghali', 'tabataamaralsp', 'sc', 'ucascostaat', 'empregabilidade', 'iiii', 'vocês', 'mensurar', 'tissot', 'antecedenciar', 'httpsagroinspercombreventospaineldeoportunidade', 'clareza', 'decor', 'construtora', 'rapha', 'vqv', 'sejamal', 'legendinvestimento', 'integro', 'sintar', 'amortizacao', 'polemico', 'suspensivo', 'regulador', 'logica', 'moedadigital', 'sobra', 'desgastante', 'sofia', 'temer', 'optei', 'caos', 'batch', 'kick', 'contatar', 'mollico', 'mota', 'equacao', 'acredito', 'chupa', 'inadmissivel', 'valorizamos', 'change', 'feria', 'diaadia', 'abalar', 'httpsfnetbmfbovespacombrfnetpublicoexibirdocumentoid', 'simultaneamente', 'desfazer', 'arg', 'hike', 'fundsr', 'vrto', 'evelinsaretto', 'gescabin', 'reconheco', 'prudential', 'ajudinha', 'equitacao', 'goste', 'peca', 'bootcamp', 'chicago', 'cbot', 'comportar', 'rcrb', 'sejabtg', 'hapvida', 'zambello', 'atribuir', 'quorum', 'golaco', 'mal', 'oficino', 'competicoes', 'etica', 'singular', 'alexandreabreu', 'estruturalinvestimento', 'caiocdecastro', 'rjinvestimento', 'fotovoltaico', 'comerc', 'namidia', 'nazari', 'whirlpool', 'riba', 'fidcs', 'recusar', 'desatualizar', 'inbrands', 'formalizar', 'fomento', 'aperfeicoamento', 'lugarcomum', 'cliche', 'board', 'manterer', 'premissa', 'cptr', 'ee', 'finanza', 'maranhao', 'produzido', 'peter', 'simbor', 'number', 'dow', 'jones', 'pn', 'assimilar', 'simulacoe', 'giselesouzabarro', 'serrano', 'folhadesaopaulo', 'pco', 'ivanvalentepsol', 'lasiermartins', 'renansantosmblr', 'eleita', 'diretorio', 'intensas', 'contatos', 'insatisfacao', 'sextasfeira', 'raiva', 'coincidir', 'maconha', 'viciar', 'fuja', 'timegwm', 'cearasc', 'livrar', 'cadeira', 'apreender', 'redundante', 'qualificacao', 'ferve', 'pb', 'crisatallar', 'fattocapital', 'jhccordeiro', 'mcporto', 'nucleopar', 'vinculada', 'cometa', 'transformador', 'anemusr', 'wind', 'limpa', 'renancarinir', 'assetallocation', 'veia', 'fulviopennacchi', 'elevacoe', 'ruo', 'rasputin', 'waks', 'luminatti', 'olyntho', 'loir', 'balar', 'viktor', 'gree', 'kentucky', 'padilha', 'polinesio', 'tok', 'dieulefit', 'aphotographs', 'capturar', 'aliquotar', 'desmascarar', 'lucr', 'aplico', 'tendencioso', 'emilioederson', 'taokey', 'retrocesso', 'esquerda', 'patria', 'marido', 'falei', 'empregadoro', 'metodologio', 'policiar', 'companheiro', 'irpf', 'regileme', 'erar', 'pitico', 'booons', 'reconectamos', 'divertidae', 'expliquei', 'nomo', 'mothers', 'maee', 'amigasamigo', 'aviaozinho', 'trataser', 'jornalextrar', 'odiaonline', 'alexatala', 'perar', 'miercoles', 'valoramaresearch', 'devastador', 'ino', 'continuan', 'desesperar', 'salvo', 'mayo', 'habian', 'internamente', 'gran', 'tener', 'hogar', 'for', 'enfoque', 'putnh', 'vencera', 'preter', 'mulheresnabolsadevalor', 'referencer', 'trupe', 'duzer', 'sessao', 'percepcoes', 'globalizar', 'igc', 'fortezza', 'navi', 'despreparar', 'canalha', 'unemr', 'tinhamo', 'olympiad', 'brazilians', 'while', 'able', 'propertie', 'also', 'crestano', 'razer', 'fiisummit', 'diariodopoder', 'blogdonoblat', 'clave', 'privatizar', 'pandemica', 'tt', 'adicao', 'prisaor', 'domiciliar', 'participamos', 'preocupacaor', 'checar', 'marcal', 'football', 'atala', 'imprimir', 'michelin', 'canalrural', 'ruralbusinessbr', 'belarmino', 'seminario', 'obecon', 'receba', 'sdr', 'vagar', 'vagasparamulher', 'jovenstalento', 'avo', 'beneficente', 'stpaulsinternationalday', 'stpauls', 'pta', 'maoamiga', 'vis', 'tuccaoficial', 'acerbrasiloficial', 'fundacaobritanico', 'ligasolidaria', 'corp', 'riscoretorno', 'previdenciar', 'vemprawise', 'deputadofederalpaulinho', 'luizaerundinar', 'manipulador', 'lembremse', 'gonzaga', 'cartouche', 'catarina', 'eric', 'souto', 'jesse', 'maison', 'du', 'cavalier', 'kan', 'ffc', 'ambelline', 'west', 'elisabelle', 'nolot', 'carthago', 'vetnil', 'bianca', 'mello', 'mostre', 'aliado', 'empresaria', 'desviar', 'cidadaner', 'ricocomvcr', 'ordinaria', 'primaria', 'otuki', 'bandes', 'planilho', 'questionamentos', 'permear', 'obeconomia', 'conab', 'movimentosemterra', 'cx', 'eumecastoficial', 'acolhir', 'vivareal', 'figueiredo', 'printar', 'preocupe', 'ericarel', 'gema', 'cordial', 'mchecon', 'hebraicasp', 'lojacastor', 'yws', 'mulheresdenegocio', 'vagasdeemprego', 'assinante', 'reclameir', 'instrucoe', 'sparab', 'bear', 'doutor', 'agradece', 'adilsonffonseca', 'coquetel', 'happybirthday', 'matogrosso', 'processamento', 'assinaturar', 'push', 'swifts', 'beth', 'portador', 'sensor', 'glucopatchr', 'automonitor', 'revolucionario', 'glicemia', 'glicemiacontrolar', 'saudeebemestar', 'diabetessbd', 'minsaude', 'bayerbrasil', 'roche', 'sanofi', 'fleury', 'novonordiskbr', 'cimedremedio', 'emsfarmaceutica', 'anvisaoficial', 'mcti', 'finepinovar', 'captablebr', 'dasaoficial', 'dasaempreso', 'camilafaranir', 'carloswizardmartim', 'tiagobrunet', 'joaoappolinario', 'sharktankbrasiloficial', 'mbrasil', 'siemem', 'cuidadosphilipsbr', 'jnjbrasil', 'gcapital', 'foque', 'neuchatel', 'suizar', 'seleccion', 'ssl', 'gold', 'barhein', 'cinza', 'humberto', 'centrao', 'confia', 'marcacoe', 'confirmacoes', 'traderlife', 'tradersbrasil', 'bolsadevaloresbrasileira', 'minidorlar', 'realbrasileiro', 'acoesdabolsa', 'rendaextraemcasa', 'grupoaguiabranca', 'brr', 'institutonovaera', 'bandid', 'dindin', 'popularidade', 'ordeste', 'miseria', 'pendencia', 'sucumbencio', 'frequente', 'boicotar', 'guerreiro', 'confiamos', 'falacia', 'represento', 'inimigo', 'sn', 'inocente', 'agricultor', 'problematico', 'intermediario', 'co', 'grosseiramente', 'bsidir', 'alcar', 'voos', 'atracoe', 'byravsany', 'independetemente', 'latini', 'irlor', 'background', 'catir', 'musial', 'dividendyield', 'placo', 'startseoficial', 'bitcoins', 'hodl', 'cardano', 'ico', 'followfollowback', 'blockchaintechnology', 'poe', 'choro', 'otario', 'puxar', 'coe', 'conduta', 'exemplificar', 'grandcapital', 'chip', 'investida', 'encarecer', 'lucratividade', 'century', 'itaim', 'kncr', 'vgia', 'tomador', 'unit', 'mision', 'spreads', 'withregrar', 'destacamos', 'devidamente', 'farolsantander', 'rededor', 'qualicorp', 'cem', 'alesupercinema', 'siqueiradudu', 'regula', 'controla', 'resumidamente', 'expansionisto', 'aplicasse', 'irmaos', 'paravpa', 'host', 'desvio', 'quantar', 'acquaverar', 'ornela', 'farra', 'copacabana', 'energetico', 'paratodosver', 'observei', 'photography', 'photooftheday', 'mulherar', 'anotar', 'trouxemo', 'quiz', 'voltadas', 'capixabar', 'hardenberg', 'mobius', 'lauramw', 'descrita', 'matriculo', 'ajuizar', 'existenciar', 'inadimplir', 'decorrencia', 'xx', 'hrser', 'investimeto', 'latir', 'pizzacommarketing', 'titulospublico', 'quant', 'coracoe', 'empreeendedorismofeminino', 'mulherempreendedora', 'womanpower', 'poderfeminino', 'unindoforca', 'businesswomen', 'dispositivo', 'recolher', 'quantitativo', 'buffetr', 'creditos', 'atipico', 'lease', 'backr', 'tubaroe', 'tank', 'debor', 'interlocucao', 'menescal', 'pospandemia', 'forumempresarial', 'deferimento', 'suspenso', 'recuperanda', 'stay', 'sincer', 'during', 'forward', 'doing', 'sindical', 'rampinilidir', 'kazuo', 'kajiharalide', 'vixi', 'caetano', 'aff', 'selo', 'gptw', 'thmblanco', 'monde', 'alinemonaretto', 'dificultar', 'sororidade', 'acreditarer', 'menter', 'irineu', 'perpetuo', 'ganhara', 'assetmanagement', 'organizacaor', 'isto', 'palocci', 'caramba', 'desonesto', 'barra', 'haller', 'indeciso', 'simone', 'fraudar', 'inovacoe', 'essencialismo', 'financas', 'omarazizsenador', 'pvoficial', 'realsardenberg', 'ferrament', 'acontecera', 'vinci', 'ocupacao', 'spolier', 'vamooo', 'clientês', 'categoriar', 'caser', 'respondar', 'provisorio', 'pleitear', 'discurso', 'empatir', 'especulativo', 'paraisopoli', 'gs', 'praticidade', 'guinada', 'btgdigital', 'perfeita', 'ctmoska', 'beachtennisrj', 'ademicon', 'centrar', 'avaliacoe', 'sicredi', 'profundidade', 'planto', 'multipla', 'triste', 'kliousoff', 'tig', 'restaurar', 'environmental', 'detectar', 'sociale', 'instancia', 'projetossocial', 'cresci', 'stj', 'condicionado', 'aepremerj', 'bridge', 'laudo', 'emocionar', 'torcir', 'gol', 'trajano', 'franklin', 'vendi', 'necessariamente', 'parabens', 'anonimar', 'tratativo', 'molde', 'senadordorio', 'senadorportinho', 'carlosportinho', 'woelz', 'deb', 'guilhon', 'vetnilequinosoficial', 'teixeira', 'oliveirar', 'alho', 'boy', 'pinho', 'biaser', 'ibrahim', 'stewart', 'colheito', 'escassez', 'alemanha', 'mec', 'bueno', 'londr', 'mz', 'amarela', 'community', 'traineeenforce', 'beneficiario', 'invalidez', 'elaboracao', 'alert', 'little', 'bit', 'happened', 'recording', 'coming', 'usina', 'tia', 'roseli', 'substituir', 'precosmuito', 'protegir', 'merecio', 'assistente', 'convitar', 'clrodrigues', 'alegibinlibman', 'construimo', 'gtfgabriel', 'rafbianhr', 'poi', 'capitanear', 'martaalinecair', 'finacap', 'agremiar', 'ofensa', 'repito', 'excessivo', 'instante', 'chatear', 'modesto', 'relato', 'lembre', 'extrapolar', 'tecpar', 'bananeira', 'securitario', 'desejei', 'imaginei', 'goes', 'martin', 'casals', 'mariany', 'sucesser', 'coletaneo', 'publicamente', 'capitual', 'adoro', 'auteminvestimento', 'judsoninvest', 'veem', 'amplificar', 'escolamobile', 'fisesp', 'marcosknobel', 'federacaosp', 'lftm', 'privacidade', 'confidencialidade', 'barulho', 'delicia', 'wwwbtgpactualcomouvidoria', 'offshorer', 'bullmarket', 'studio', 'prs', 'eai', 'ordir', 'retroceder', 'horizontal', 'converso', 'resgatavel', 'indenizacao', 'preestabelecir', 'temporario', 'babar', 'desanimador', 'iti', 'pateta', 'brilha', 'backoffice', 'legitimo', 'sea', 'hecho', 'estoy', 'explicativo', 'encontralar', 'simular', 'anistiar', 'conhecerio', 'enchia', 'pegario', 'avesso', 'diria', 'apressado', 'clichar', 'doida', 'marinha', 'fascinante', 'furacao', 'espanha', 'machuca', 'comemorativo', 'navio', 'centeno', 'decided', 'act', 'instead', 'fear', 'reaping', 'rewards', 'foodtech', 'tauil', 'chequer', 'mayer', 'demarest', 'organico', 'pic', 'compramos', 'distanciar', 'contraditorio', 'aconselhar', 'securitizador', 'prepagamento', 'brf', 'incontavel', 'consegurer', 'inesperar', 'tiposdeinvestimento', 'investimentoalongoprazo', 'osentidofeminino', 'getty', 'images', 'imprescindivel', 'charmain', 'amei', 'obrigasa', 'identifiquei', 'enzopionacomr', 'colheu', 'diretriz', 'dados', 'agendamento', 'contente', 'ofereceramemprestimo', 'estranhei', 'camille', 'dificilr', 'somir', 'labirinto', 'aparecar', 'zanlorenzi', 'rechear', 'spotifypodcast', 'youtubepodcast', 'solidario', 'cenografio', 'inflexaor', 'economirno', 'contigo', 'ivide', 'inscrevi', 'necessidades', 'mind', 'aguento', 'faturo', 'organizacoe', 'convida', 'negligenciado', 'itauunibanco', 'vice', 'auditivo', 'inscrito', 'folga', 'sentime', 'galeraaaaal', 'corretorta', 'desenvolvermos', 'otavio', 'intencoes', 'somosgrupofsb', 'estimase', 'cotame', 'similar', 'situacoe', 'tornarao', 'redondar', 'macbook', 'brasilstore', 'macbookaracaju', 'sergipe', 'baixistas', 'lusitana', 'fairfax', 'afinar', 'inverter', 'verdadeiramente', 'veridico', 'wpp', 'negativar', 'hahahar', 'recuperaempresagaldino', 'controlefinanceiro', 'participacoe', 'machiaveli', 'espiritual', 'engrandecer', 'figura', 'foro', 'fran', 'parente', 'ducci', 'flutuante', 'especialidade', 'esper', 'endossar', 'mentirosa', 'marquei', 'debochar', 'varejista', 'afundar', 'asiar', 'btgpactuals', 'looking', 'notificar', 'bbpo', 'implicar', 'materialidade', 'nuvem', 'facilita', 'desperdicio', 'metalico', 'ei', 'recemformar', 'bittencourt', 'contabel', 'invadar', 'nenseeeeeee', 'fluuuuuuu', 'vamosssss', 'nenseeeee', 'fluuuuuu', 'dedir', 'nenseee', 'dalar', 'emergent', 'cold', 'refrigerar', 'escolar', 'cristino', 'edicoe', 'inves', 'neymar', 'canabis', 'adivinhar', 'escritoriodeinvestimento', 'possuitextoalternativo', 'impactosocial', 'transformacaosocial', 'revoltar', 'nois', 'blackrock', 'economistasincero', 'moneytime', 'prir', 'lascar', 'aditivo', 'crachar', 'convencao', 'bienal', 'renunciar', 'forexlifestyle', 'forextrading', 'orcatea', 'orcateacontabilidade', 'quirografaria', 'quirografario', 'mortari', 'porumbrasilmaisdoador', 'culturadedoacao', 'querodoar', 'uxp', 'educacaocontinuar', 'alltogether', 'sisimovel', 'intensivo', 'multidisciplinar', 'sinimplantsystir', 'mazainvest', 'julio', 'formalmente', 'conozca', 'aquecer', 'bovino', 'busquei', 'sexualidade', 'reset', 'plastico', 'chegamo', 'izabellaesper', 'jjsportoficial', 'villard', 'duran', 'kinitrocapital', 'mano', 'guru', 'bocar', 'abqmoficial', 'element', 'hk', 'as', 'eventogude', 'promessa', 'emrsonlima', 'sauter', 'mercadoinfoco', 'moderador', 'querida', 'importancio', 'receito', 'evidenciar', 'convexo', 'cloud', 'identifico', 'xrp', 'procura', 'arbitragem', 'tahan', 'baratella', 'desrespeitoso', 'yes', 'raleduc', 'goraleduc', 'tribo', 'wbtg', 'nojento', 'euromoneys', 'guedes', 'integralgroup', 'bidetti', 'absurdar', 'dis', 'plenamente', 'governance', 'receberer', 'serra', 'milagre', 'cartinha', 'ferraz', 'sustainable', 'cila', 'schulman', 'suspender', 'dal', 'viral', 'urso', 'representativo', 'bearish', 'lulista', 'tratase', 'swing', 'farinha', 'calls', 'segware', 'maiscode', 'ibm', 'despontar', 'posgraduacao', 'doc', 'his', 'silencio', 'cagar', 'eujogofutevolei', 'corban', 'leandrokarnal', 'formandocampeoes', 'navir', 'noesporte', 'joaopaulodinizoficial', 'anaolivo', 'ricardocon', 'anaelseoliveiro', 'ricardozonto', 'giselanassi', 'electroluxbr', 'japibr', 'grupouninter', 'ablbrasil', 'dhlbrasil', 'ciandt', 'stoller', 'materaoficial', 'grupoedsonqueiroz', 'institutoacocearense', 'vesta', 'incentivme', 'biagurgelconsultorio', 'anjotinta', 'martinelliadvogar', 'fetriecer', 'fetrisc', 'apanisemeitu', 'triathlonparana', 'triathlonbrasil', 'luiziranguimaraes', 'escot', 'brasalrefrigerante', 'brasalveiculo', 'grupodass', 'meninaolimpica', 'redecondor', 'belcarvolkswagen', 'belcarcaminhoe', 'belcarfiat', 'onboardsport', 'fsaretta', 'adhemar', 'marcelle', 'divertir', 'gesto', 'oabmgoficial', 'rogeriochequer', 'pcorj', 'psolcariocar', 'oe', 'bolivariano', 'psolmg', 'negociosglobo', 'pracegover', 'ilustracao', 'manterse', 'coes', 'deem', 'precatorio', 'assistencialista', 'pisicanalise', 'opus', 'remedior', 'infinito', 'calar', 'falante', 'leio', 'reaberto', 'brinquedo', 'louvavel', 'justificar', 'estimacao', 'babo', 'dilmar', 'mergulhar', 'autonoma', 'arrendar', 'alegacao', 'desembargadora', 'descumprimentar', 'mercadolivre', 'vendasonline', 'bhfyp', 'hotmart', 'empreendedorismodigital', 'digitalmarketing', 'fashionr', 'httpsamginvestimentosmacrodaylive', 'sonhado', 'diretorao', 'renuncia', 'prospeccao', 'locar', 'nulidade', 'flaviohenriqueagro', 'alcanca', 'atrasado', 'herdeiro', 'sarahthome', 'agroetudo', 'argenton', 'braunainvestimento', 'carolinamfazevedo', 'desnecessario', 'issoo', 'tocantim', 'giovannasanchetta', 'noticiasfiis', 'rztr', 'vinlandcapital', 'fakes', 'coitar', 'salar', 'destaco', 'pmradvocacia', 'rosa', 'advocacia', 'editora', 'parlamentar', 'tentasse', 'incerto', 'commodity', 'oh', 'ces', 'atingiss', 'marcosdoval', 'mdbgoias', 'faegjovemmineiro', 'sucessaofamiliar', 'elizeuagro', 'gabyagro', 'leem', 'assine', 'newsletter', 'finsider', 'determinante', 'plantare', 'intensa', 'respiracao', 'ofegante', 'atuir', 'receberao', 'mundialmente', 'chiler', 'honestidade', 'cadê', 'danielbonaldi', 'contratado', 'queridar', 'respor', 'lamber', 'representatividade', 'carair', 'ciclofaixa', 'encheu', 'giant', 'une', 'ciencio', 'aprendizr', 'mico', 'emprês', 'sidneyferreirado', 'sap', 'pharo', 'palk', 'deletar', 'escutado', 'emocionei', 'acrechegar', 'caminhamos', 'imc', 'dprintacademy', 'corda', 'pagoder', 'foconoobjetivo', 'preferer', 'dividas', 'cuba', 'lava', 'nadar', 'lulinha', 'manchar', 'bpolibio', 'espontaneo', 'negligenciar', 'fisioterapia', 'eae', 'vagabundo', 'pharma', 'proporcao', 'boletimfocus', 'blocknews', 'fundei', 'lul', 'germanodasilvaesilvar', 'qdo', 'comerciante', 'abl', 'tavar', 'liderenca', 'tradicao', 'propria', 'convidir', 'argumento', 'relativamente', 'repostandroid', 'repostw', 'defensor', 'belisamaggi', 'bussine', 'sincera', 'instrucoes', 'discrimina', 'globalmente', 'inclusaosocial', 'eis', 'acontecerao', 'imprensar', 'salarial', 'achievement', 'anteceder', 'redetv', 'otimista', 'financiera', 'dueno', 'lanzar', 'compania', 'financier', 'adema', 'sudamericano', 'disponible', 'ella', 'intercambiar', 'lograr', 'neoyorquino', 'opina', 'dejano', 'mundocriptomoner', 'newyork', 'economiamundial', 'antgroup', 'listanegro', 'vocacao', 'reiterar', 'cela', 'reserver', 'senar', 'marthaleonardisr', 'tremenda', 'daniellar', 'montezano', 'snff', 'assis', 'acre', 'institucion', 'monicabamacedo', 'xo', 'deveriamos', 'bajaportoalegre', 'rali', 'paulalima', 'suingue', 'pratar', 'bronzebradesco', 'emsfarmaceuticaibiunainvestimento', 'apoiobancodaycoval', 'petrobro', 'revogacao', 'ruar', 'cartaodecredito', 'folhauniversal', 'bpmoney', 'gilbertokassab', 'gilbertogil', 'distorcidar', 'fast', 'agi', 'cpfcnpj', 'httpswwwfgcorgbrgarantiafgcperguntaseresposto', 'galler', 'vivera', 'descontracao', 'magno', 'globalizacao', 'ufrj', 'regulacoes', 'citibank', 'atributo', 'vempraocto', 'ageis', 'twilio', 'lojasrenner', 'dell', 'iteris', 'zenvia', 'vp', 'webdevelopment', 'gonzago', 'organizacional', 'almendra', 'perdurar', 'leveza', 'goncalve', 'secretr', 'ag', 'simple', 'mirar', 'pablospyer', 'deltaflowinvest', 'deltaflowsport', 'ogustavopedroso', 'marcioviano', 'mercadotecnologico', 'mercadodascoes', 'vencir', 'fibonacci', 'serrilhar', 'wallstreet', 'tokiomarinesegurador', 'escritural', 'cadastral', 'escrituradora', 'segundasfeira', 'enriquecedoras', 'caiomcamargo', 'conhecidissimo', 'copaap', 'craques', 'quartasfeira', 'gutoczordan', 'tercasfeira', 'copai', 'dermendjian', 'wanessadermendjian', 'anacarolinaduartesilvar', 'bygabicosta', 'quintasfeira', 'cocape', 'ibradimec', 'protagonistasdobrasil', 'eng', 'xin', 'ji', 'resiliente', 'geo', 'aranhar', 'confusao', 'guga', 'csaleblon', 'impactante', 'box', 'costinha', 'dt', 'possamo', 'cativar', 'perfinasset', 'ayoofuture', 'ivan', 'cinema', 'bilheterio', 'sescguarulho', 'trilhasdecinema', 'starwars', 'voltaremos', 'orquestro', 'inventario', 'dancar', 'wouldnt', 'covarde', 'agendamos', 'pfv', 'auge', 'performers', 'pu', 'partiro', 'che', 'vivro', 'namoral', 'silo', 'davi', 'guabioficial', 'noticiasdfii', 'derrepente', 'brasatalks', 'provo', 'lemos', 'orituaali', 'lossio', 'indigeno', 'hipocrisia', 'piora', 'enevabrasil', 'rendafixo', 'boanoite', 'chargir', 'things', 'mavaient', 'sil', 'nervoso', 'heuristico', 'vianmacel', 'consulte', 'cujo', 'centralizar', 'sonhador', 'daytraderbr', 'easyinvest', 'mediocre', 'induzir', 'ciente', 'menthorcomvc', 'judobrasil', 'mpb', 'danbordalo', 'segundar', 'iconic', 'finpec', 'sintaser', 'ramalho', 'antune', 'samuel', 'intensificar', 'protecionisto', 'drivers', 'nearshoring', 'reshoring', 'refer', 'aproximacao', 'internalizacao', 'ocidente', 'propomos', 'cauda', 'oportuno', 'recompensador', 'ufpe', 'study', 'deborah', 'tigre', 'fecap', 'holderaai', 'diane', 'zhu', 'pardo', 'mannis', 'conquistala', 'experienciar', 'eteia', 'brucuropo', 'tothcapitalaai', 'janainatrajanoaai', 'apolloinvestimento', 'convidada', 'retificacao', 'macroeconomica', 'vbbr', 'wege', 'beef', 'sinonimo', 'coleciono', 'canalterraviva', 'agromaistv', 'mag', 'wta', 'petroreconcavo', 'mobiliar', 'publica', 'httpslnkdindai', 'csum', 'baixam', 'vitima', 'firfr', 'governing', 'council', 'unanime', 'noticiario', 'misto', 'impasses', 'bresserpereira', 'check', 'sicoob', 'umberto', 'adv', 'brilhantismo', 'chloe', 'tanzilli', 'teillere', 'marim', 'absoluteinvestimento', 'gestaoderecurso', 'arxinvestimento', 'edulyragf', 'museu', 'sacola', 'chefdiserio', 'meligeni', 'aware', 'god', 'mukinho', 'atletismo', 'framerunning', 'bomdia', 'legendar', 'facilitador', 'eventoparamulher', 'experiencias', 'exceo', 'schultz', 'cabrer', 'lombo', 'basbaum', 'analice', 'julyano', 'criminal', 'educa', 'megamodeldiversity', 'megatalents', 'lucacastanho', 'those', 'mall', 'paraiso', 'coês', 'bravamente', 'plantei', 'dediquei', 'soberba', 'jp', 'luque', 'rouba', 'institutoab', 'cuidadosar', 'segundo', 'veloe', 'inovacoes', 'estabilidadefinanceira', 'clubepaissandu', 'superquarto', 'dxy', 'sampaio', 'beefbar', 'rate', 'restritivo', 'mantem', 'usd', 'mudo', 'rompimento', 'operations', 'cami', 'santinha', 'estevesandresanto', 'havaiano', 'triplicar', 'razoavelmente', 'specialsituatiom', 'riograndedonorte', 'iranian', 'any', 'iran', 'espacoancord', 'acusar', 'ninja', 'privilege', 'alone', 'ungrateful', 'breakthrough', 'well', 'recommendatiom', 'too', 'sujeira', 'lesado', 'mitsubishimotors', 'nulo', 'brnewstvbrasil', 'ricardonatale', 'olhei', 'empatico', 'amigosdober', 'desenvolvir', 'eficaz', 'tripe', 'desejos', 'resenhabb', 'jjona', 'crisb', 'saocaetanodosul', 'futevoleisp', 'bloquearam', 'icatuvanguardar', 'quantum', 'wwwagroforumlive', 'altisto', 'kaiqueeditor', 'lucaszafraa', 'alcancada', 'lirio', 'trocador', 'aggroinvest', 'severas', 'regulagem', 'dirigibilidade', 'spineliracing', 'riquissimar', 'dahliacapital', 'corajoso', 'pray', 'recognition', 'effort', 'dear', 'souls', 'yours', 'respect', 'blessings', 'jalles', 'agrogalaxy', 'marino', 'colpo', 'boasafrasemente', 'faria', 'gilberto', 'tomazoni', 'beny', 'fiterman', 'agropalma', 'guillaumonr', 'ivo', 'insulto', 'prestam', 'enganacao', 'ponte', 'reviziaapp', 'sabrinar', 'utr', 'egbertocaldastennis', 'egbertocalr', 'falho', 'funciona', 'led', 'simultanea', 'paineldeled', 'timecode', 'mapping', 'netoevento', 'futurista', 'remeter', 'boasafro', 'participacoes', 'deter', 'novorecife', 'desperdicar', 'stefan', 'baro', 'peco', 'nichola', 'sacchi', 'reimaginar', 'ciso', 'description', 'cleber', 'ianno', 'aec', 'godoi', 'riachuelo', 'httpslnkdinggtqeznq', 'securityleaders', 'sl', 'eventoempresarial', 'eventogratuito', 'tvdecision', 'segurancaprivar', 'segurancacibernetica', 'owenplatforr', 'vamooooo', 'mudou', 'projetoariranho', 'econois', 'btir', 'realiza', 'salvadorba', 'magistrado', 'mpt', 'bahio', 'httpswwwsymplacombrxxxicomat', 'direitostrabalhistas', 'justicadotrabalho', 'gv', 'mostramos', 'maldito', 'adversolab', 'favelaradical', 'radical', 'flavia', 'amatr', 'experimentacao', 'spiralem', 'cassio', 'portellar', 'gerenteexecutivo', 'cubo', 'triacao', 'academicar', 'access', 'advisoryr', 'boleirar', 'dlabprint', 'dgeekshow', 'printandplay', 'ruina', 'unimed', 'paraisopolis', 'alok', 'institutobacuri', 'fx', 'ro', 'radarinvestimentossjrp', 'stjamesbarbershop', 'ricardopradodecarvalho', 'otaviocanr', 'chefdanipimentar', 'rosanamaria', 'tranco', 'belamordidabuffet', 'vagaodogefrita', 'docinhosdapreta', 'riosdemim', 'sorprizaoficial', 'amorabrechoo', 'daraiz', 'briigadoce', 'agenciatribo', 'mood', 'elielson', 'kevin', 'cox', 'meira', 'bolsonaropaulo', 'press', 'caioccoppollar', 'uneoficial', 'ubesoficial', 'abducher', 'paulopaimsenador', 'gianio', 'beiler', 'damiani', 'pires', 'saira', 'grama', 'carbon', 'infinite', 'magica', 'mblivremg', 'atribunasantos', 'sigagazetabrasil', 'regeneration', 'initiative', 'paolacarosellar', 'radicular', 'pericio', 'dominvestimentoscombrkenzotrader', 'crescerr', 'tk', 'soft', 'verao', 'bancada', 'amargamente', 'sedep', 'adriell', 'pentear', 'vito', 'reprodutivo', 'sexualidadeo', 'abvcap', 'piovesan', 'santoro', 'tacar', 'greenpeople', 'idosas', 'voluntariadocorporativo', 'erradicacao', 'trabalhose', 'edilton', 'debatedora', 'monique', 'matos', 'convencionalidade', 'trtpe', 'enfrentamento', 'mptdfestar', 'procurador', 'tenorio', 'mptsp', 'fecomercio', 'vicoso', 'spotify', 'jomir', 'houses', 'jomi', 'chxoficial', 'geruzia', 'amorim', 'dês', 'tesoureiro', 'bastos', 'balazeirer', 'mutacao', 'oabpara', 'garantidorar', 'moradora', 'viamidiapublicidade', 'voga', 'beze', 'feiradesantano', 'marketshare', 'tenista', 'andrejanone', 'redeglobotv', 'cabrini', 'negonadobolsonaro', 'danielamercuryr', 'primordial', 'george', 'loez', 'eliminacao', 'hermes', 'limar', 'vicepresidente', 'dorea', 'adequacao', 'deficienciar', 'pluralidade', 'religiao', 'justicatrabalhista', 'afim', 'enoque', 'regulacao', 'lawrence', 'estivalet', 'loreno', 'condominial', 'setorial', 'horas', 'medleyfarmaceutica', 'eduardopaes', 'raullsantiago', 'pit', 'ethi', 'estacoesnasfesta', 'tradingline', 'chainlink', 'polygon', 'matic', 'stablecoin', 'circle', 'usdc', 'anacampagnolo', 'apoioabolsonaro', 'adrillesjorgir', 'fecomercioba', 'eixo', 'precisamo', 'carolvitalemkt', 'pracima', 'alexandregarciabr', 'uniaobrasilpe', 'standsr', 'ordenar', 'ginastico', 'desportivo', 'preparacao', 'banquete', 'memor', 'vidadeantiquario', 'vidadeantiquarioad', 'caminhoporumaruo', 'legrandtourdearnaldodanemberg', 'banquetedamemoriaad', 'munir', 'economy', 'oabrio', 'globobrasilia', 'silvionavarrojornalista', 'roxmo', 'monarkoficial', 'vempralibrar', 'brunch', 'deliciosa', 'francês', 'bouef', 'bourguignon', 'gratin', 'pene', 'au', 'formage', 'bala', 'folhar', 'goiabar', 'calda', 'alcoolico', 'incluido', 'cervej', 'forever', 'busqueconhecimento', 'investirliberta', 'bolsomoto', 'eumalvinosalvador', 'quebrandootabu', 'guilhermeebenuto', 'zoebmartinez', 'claudia', 'cidadania', 'jornallnacional', 'receoso', 'estruturalmente', 'kiki', 'diariororaimense', 'prote', 'sabrinaparlaoficial', 'macchione', 'clients', 'valiose', 'cultivalar', 'transparecer', 'rodear', 'cultiver', 'escute', 'construa', 'produtoservico', 'richarlison', 'journal', 'institutoprotea', 'farsa', 'arautossemsegrer', 'guilhermepiai', 'ahickmann', 'igorpavantr', 'interferir', 'decoracao', 'exijr', 'aficcionar', 'readaptacao', 'nitidamente', 'prologo', 'umer', 'seco', 'molhar', 'travessia', 'demaisagua', 'abreviacao', 'sediar', 'fusao', 'gopu', 'renatamacchione', 'hello', 'mkd', 'celebrate', 'seminar', 'own', 'changed', 'november', 'waste', 'name', 'below', 'rafaeli', 'fertilidade', 'try', 'instragramavel', 'villa', 'vidasemfiltro', 'fabiowajngarten', 'leosakamoto', 'bajattacp', 'experimenta', 'nordwealth', 'fiber', 'sincronizar', 'choice', 'lendario', 'vocalisto', 'esgrimista', 'aviador', 'omitir', 'omissaor', 'negligencia', 'gzleite', 'realdigital', 'polvolab', 'ictssecurity', 'escolademarketingindustrial', 'vocalistar', 'jacarandainvestimento', 'particularidade', 'cruel', 'danoso', 'sustente', 'inesperada', 'teria', 'masi', 'aventurar', 'drasticamente', 'btgvirtualchallengar', 'zerado', 'dejesusoficial', 'wilsonlimaam', 'rivkahmusic', 'rivkahpodcast', 'tri', 'conacredi', 'biahaddadmaia', 'belmondcopacabanapalace', 'hem', 'simbolismo', 'quebvcs', 'dorf', 'flavinhacviano', 'httpsclaudiaabrilcombrcolunaflaviavianadancahadezanosoballetdoparaisopolistransformavida', 'still', 'article', 'tratativa', 'aprisionar', 'capitalace', 'confraternizacao', 'poseleicao', 'ricardosallesmma', 'cbnbhoficial', 'imortal', 'criptoativos', 'wibx', 'biografia', 'zenetoecristiano', 'leal', 'metropoles', 'jucaveiro', 'vendever', 'walaslopes', 'nb', 'albertovendasoficial', 'embaixadaeua', 'alemanhanobrasil', 'zedecrypto', 'repercussao', 'ftx', 'monitoramento', 'supermercadoscomper', 'socioambiental', 'ipt', 'futuramente', 'mazettojuliano', 'traderforex', 'gnpoliusp', 'infinanceinsper', 'ais', 'colaboradoro', 'xi', 'jinping', 'exploradores', 'globalista', 'potus', 'eduardogiraooficial', 'comodidade', 'prainha', 'blasonotico', 'avvistare', 'squashtenniscenter', 'ceara', 'noivo', 'semestral', 'basilievento', 'venu', 'olavo', 'pattydiazbt', 'tax', 'several', 'decision', 'account', 'homeoffice', 'ended', 'acceleration', 'take', 'armar', 'bomdio', 'hs', 'isacteepbr', 'premierpet', 'ellusr', 'grandcruvinho', 'chivasbrasil', 'pernodricardbrasil', 'ositiosaojose', 'royalenfieldbr', 'landroverbr', 'oncafariano', 'aderente', 'quedo', 'describir', 'emocione', 'torneo', 'competi', 'primera', 'despue', 'alguno', 'sigue', 'especiales', 'soy', 'carino', 'imposible', 'sentirme', 'esa', 'respeto', 'uestre', 'rivale', 'dudar', 'exigen', 'nicolenobilebt', 'soficimattibt', 'ninny', 'valentini', 'giulia', 'gasparri', 'companerar', 'rafamiiller', 'bendicier', 'arriviamo', 'jansenstudio', 'custodiado', 'payment', 'equatorial', 'respostar', 'irresponsabilidade', 'cancelo', 'desempate', 'cornet', 'etonian', 'dalounar', 'elysees', 'waza', 'limongi', 'chen', 'talkr', 'bistrot', 'feiradearte', 'artebrasileirar', 'indoor', 'doda', 'otempo', 'luzinha', 'acês', 'seixa', 'ufmsoficial', 'lightroom', 'housel', 'negativamente', 'tomaro', 'empreer', 'gabarito', 'esses', 'abordamos', 'table', 'cofundar', 'desafix', 'ciser', 'greensampa', 'kaleydoscombr', 'impactoambiental', 'empreendedorismoperiferico', 'afroempreendedorismo', 'kaleydosoficial', 'componente', 'tensoes', 'imaginamo', 'buscarao', 'flight', 'quality', 'desenrolar', 'sancoes', 'otan', 'relevanciar', 'ilustra', 'sisnar', 'colacar', 'reorganizar', 'macroeconomicasagronegocio', 'jccapital', 'agropecuariabrasil', 'agropecuario', 'eitar', 'visto', 'grossas', 'oficinadotrader', 'dolarsemsetup', 'oficinadofraja', 'somebody', 'dessert', 'blueberrytart', 'blueberryrecipes', 'catupiryblueberrytart', 'creamcheesetart', 'onlinecookingclass', 'latincookingclass', 'brand', 'investigamo', 'maos', 'desenharmos', 'albert', 'marcelodonatelli', 'comunicacaovisual', 'considerarr', 'rma', 'fiisdepapel', 'fundosdefunr', 'milhaoemfiis', 'financaspessoa', 'pitmoneyr', 'instagrambrasil', 'agradecermo', 'mercadodeinvestimento', 'rendadixa', 'saojosedoriopreto', 'riopretosp', 'dreamers', 'vivifinanco', 'bovego', 'avezum', 'intelectual', 'lobao', 'boasvinr', 'sarar', 'ressaca', 'expertsma', 'portaler', 'errrrar', 'hahahahahhaha', 'apartir', 'retifiquir', 'mfs', 'concluo', 'gerencia', 'ellon', 'civis', 'isolamento', 'ofensivo', 'tsla', 'barba', 'boto', 'saques', 'paineis', 'inestimavel', 'costumeiro', 'premer', 'ceconference', 'ladmircarvalho', 'rogeriostallone', 'apoiepietrofittipaldi', 'gordinho', 'cpel', 'mxrfr', 'cmig', 'rendafii', 'jcp', 'fiasco', 'gentejpeg', 'boavista', 'roraim', 'boicote', 'cenarioeconomico', 'cenariomacro', 'fabianaarana', 'fundadoro', 'movase', 'amgcapitalinvestr', 'todossaoimportante', 'somosafscapital', 'melindafrenchgate', 'despirmos', 'disfarce', 'enxergalo', 'posicionarao', 'girlpower', 'mulheresnopoder', 'certificate', 'promoter', 'satisfacaodocliente', 'defesaataque', 'guiazever', 'comport', 'celulose', 'metalurgia', 'fazespecialista', 'discursaor', 'duvido', 'vladimir', 'alemaes', 'polonia', 'mediada', 'mazzola', 'nokia', 'ailton', 'ciberseguranca', 'huawei', 'griselli', 'telecomunicacoes', 'royal', 'paete', 'excelentissimo', 'lethiciabronstein', 'delicar', 'adrianahelaldesign', 'israelescobar', 'mincomunicacoe', 'perfeccionismo', 'dito', 'felice', 'hermoso', 'incluyer', 'residencia', 'museo', 'independiente', 'fundacione', 'fticoulat', 'jotapox', 'juliademeter', 'artconsultingtool', 'gabrielpiresdecamargocurti', 'enviarno', 'inmensa', 'impecable', 'trilinguar', 'castellano', 'cloroquina', 'rachadinhar', 'multidisciplinaridade', 'aute', 'investinrealestate', 'danielcaldeira', 'juuuurrrraaaaa', 'mentecapto', 'cvarde', 'sobreviver', 'bozonaro', 'destilar', 'improperio', 'falo', 'cerbasir', 'rasgacao', 'ceda', 'mauro', 'portoalegrense', 'complico', 'adolescencia', 'passei', 'corri', 'kayofragar', 'esquecemos', 'frasesmotivacional', 'phrase', 'escolhabtg', 'surpreendi', 'petrr', 'biden', 'viverdetrader', 'kiev', 'economatico', 'oramaai', 'httpswwwcnnbrasilcombrbusinessvejafundosimobiliariosrecomendadosporespecialistasparainvestiremmarco', 'statusinvest', 'fiisanalises', 'buyandholdbrasil', 'dispensar', 'urgencio', 'redefinir', 'biometriareconhecimento', 'aloooooo', 'pietro', 'boraaaaaaa', 'cc', 'repercutira', 'rafinhar', 'estagior', 'participei', 'construimos', 'transforma', 'trabalheira', 'pleasure', 'finally', 'interact', 'craigwortmann', 'definitely', 'showed', 'passion', 'craig', 'deliberar', 'implementer', 'aeeeee', 'estacior', 'debatar', 'impactarao', 'republico', 'demaisss', 'forabolsonarogenocir', 'enaltecer', 'criavamos', 'sintetizar', 'piadistar', 'estacionar', 'pesrpective', 'mediei', 'presidenciavel', 'ficouu', 'foddaa', 'prosperer', 'ido', 'perseguir', 'reiteramos', 'btgsummit', 'melhorescritoriobtg', 'conferencio', 'andrelvbona', 'httpslbtgpactualcomkdqxvp', 'nomede', 'distorcoes', 'microcosmo', 'ascender', 'hierarquia', 'pandemier', 'chegarr', 'cear', 'guardado', 'kiperman', 'granjeiro', 'takeaway', 'edtech', 'toppp', 'balanca', 'caldeirao', 'puras', 'retalhado', 'aulavendar', 'governodobrasil', 'zelker', 'percy', 'wilman', 'preparase', 'orteie', 'aceita', 'dividilo', 'apoiamos', 'agrosocial', 'alteracoer', 'clearsaler', 'sinqia', 'kinder', 'tinto', 'freeportmcmoran', 'wells', 'fargo', 'priceline', 'taês', 'performancecomproposito', 'preservacaoambiental', 'felicitamos', 'playr', 'petroleumr', 'indicate', 'then', 'fallen', 'started', 'unstable', 'companie', 'countrie', 'drfelipemagno', 'riograu', 'escolinhagugaaabbleblon', 'cirurgiaplastico', 'transitorio', 'encanto', 'asmulheresvaodominaromur', 'mulheresforte', 'diadasmulher', 'luizahelenatrajano', 'lazard', 'luizpeccioli', 'inteligencio', 'clarezar', 'didaticar', 'desbloqueia', 'mendelssohnbartholdy', 'colorir', 'pianistico', 'solista', 'personalbankerr', 'priveligiar', 'hope', 'mother', 'infinitar', 'powerr', 'womem', 'incredible', 'picturethisct', 'happywomensday', 'womenempowerment', 'bugado', 'oprah', 'winfrey', 'lastimavel', 'neologico', 'pendencer', 'estivesse', 'agendei', 'executei', 'tokenir', 'invesimento', 'autenticacao', 'permaneca', 'natalrnr', 'ipatinga', 'riobranco', 'enquadra', 'redirecionamo', 'redirecionamos', 'perceberar', 'verifico', 'reduzira', 'oqueteimpulsionar', 'oqueteinspiro', 'oquetefazseguir', 'oquetefazser', 'andersonvarejao', 'giovannoni', 'partilhar', 'despertar', 'lesoes', 'draolindaavila', 'nefro', 'oquetemove', 'periodico', 'visionario', 'httpslnkdinduscjmn', 'httpslnkdindpngjuu', 'httpslnkdindjnjwpp', 'httpslnkdindapvv', 'azimutbrasi', 'vizualizacar', 'argumentogestaodeinvestimento', 'gases', 'muni', 'munibuenosair', 'metropolitano', 'guadalajara', 'amaggibrir', 'cemigenergiar', 'mirodanto', 'pintura', 'iptiorg', 'genissoncardooso', 'euflormartiim', 'particularmentecurtir', 'alcantara', 'muitomorgulhosonder', 'horroroso', 'mexer', 'guerreira', 'pegadinhar', 'rainbow', 'extraction', 'presentao', 'codiguin', 'marceloclaudino', 'vinibicalho', 'existirao', 'mahatma', 'gandhi', 'movingforward', 'lado', 'padroes', 'dojir', 'dojistar', 'dougtrader', 'formandotraders', 'analisegrafico', 'haramidealtabullishharami', 'teamurso', 'tristezo', 'intensamente', 'absurdamente', 'christiansen', 'bside', 'gowave', 'proffitar', 'ctz', 'obrigadoooooooo', 'hiii', 'rondar', 'reviravolta', 'perai', 'esforca', 'reinvestir', 'encaixarar', 'paulabonamigo', 'salazargean', 'cristianomendessanto', 'mfmeneghetti', 'franciscocsanchez', 'cesarpio', 'rotunnoguilherme', 'andreiaforte', 'clarissavcs', 'hugotk', 'robertoqueirozfotografia', 'joanita', 'weefor', 'altmaincorporadora', 'racengenhario', 'hiexempreendimento', 'ideeinc', 'nommoarquiteto', 'blocobase', 'urbideia', 'alicerceedu', 'junia', 'vilajoanitar', 'altmaincorporador', 'rafaelmvbrago', 'sergiosrj', 'brookfield', 'sportainmentrlabsr', 'bicharar', 'httpsbitlywdhvda', 'faaalar', 'httpsdominvestimentoscombrkenzotrader', 'autografo', 'aquario', 'petesant', 'williamwelsch', 'avener', 'locada', 'temporaria', 'consular', 'cessionario', 'marciotomer', 'biblico', 'daniiel', 'moraees', 'geisse', 'unhas', 'ciel', 'santoos', 'andrade', 'cubasemporcelanato', 'lecoestetico', 'bibler', 'joveminvestidor', 'assembleiadedeu', 'dinheiroonline', 'bibliasagrar', 'jovemempreendedor', 'candeia', 'minasgeral', 'salmo', 'gospel', 'jesuscristoeosenhor', 'sdvsempre', 'rtblikesr', 'rtbcomentario', 'bach', 'digitalinnovationone', 'iglageneroso', 'representamos', 'tarsooliveira', 'sejatroca', 'esforcar', 'algoritimo', 'meleca', 'funcionasse', 'estag', 'precisarar', 'travamento', 'indiquei', 'bancoger', 'bourgeois', 'oli', 'assessoriafinanceiracg', 'desacelerar', 'indesejar', 'abrupto', 'maleficios', 'destampa', 'inevitavel', 'intensidad', 'explicacoes', 'aumentodaselic', 'ricardoacmolino', 'propositodever', 'netowork', 'sadio', 'batel', 'construtoralaguno', 'teichconstrutora', 'copomanunciar', 'permaneco', 'acione', 'sigmainvestimento', 'fudcom', 'almej', 'respire', 'regada', 'chegara', 'rrrkinvestcomvoce', 'emporiodeliciasesabor', 'investidoraolongodotempo', 'fexcr', 'estudavel', 'fundosinvestimento', 'rendapassivaeresidual', 'investiment', 'investimentosfinanceiro', 'abbai', 'diegar', 'ramiro', 'diramiro', 'promissora', 'modestia', 'prudencia', 'contei', 'organize', 'edgar', 'livemoder', 'apresentarar', 'vibrante', 'waengertner', 'compani', 'michelle', 'coutinho', 'motomura', 'christian', 'flemming', 'petrenko', 'brun', 'lahtermaher', 'mundao', 'makethechange', 'borntobeglobal', 'gogogo', 'maya', 'mulherao', 'acrescer', 'indenizacoes', 'securitizacao', 'otimizacao', 'embaraco', 'clientesma', 'acessei', 'debugger', 'programador', 'circundar', 'ampliaser', 'biofilia', 'terreo', 'jardins', 'floreira', 'headquarters', 'surrounds', 'entire', 'length', 'plot', 'highlight', 'concern', 'whether', 'landscaping', 'finishing', 'glass', 'openings', 'privileged', 'common', 'example', 'bringing', 'elements', 'naturar', 'feeling', 'wellbeing', 'employees', 'amplified', 'effect', 'biophilia', 'ground', 'therir', 'greater', 'proximity', 'solution', 'fluido', 'mrd', 'fixada', 'facilito', 'concedem', 'bancomas', 'restabilizar', 'reflita', 'propicier', 'numerar', 'loungkey', 'enderecer', 'frutar', 'bomdiagracar', 'otimotente', 'courage', 'follow', 'heart', 'intuition', 'somehow', 'ultimamente', 'eternidade', 'thairo', 'temporadadeconcerto', 'clubehebraico', 'orquestrasinfonica', 'mazars', 'fundamentomarketing', 'steinwaybrasil', 'capota', 'falasse', 'voltario', 'acreditaria', 'allan', 'haddid', 'rui', 'avillez', 'chiar', 'joseavillez', 'ressentimento', 'babaquice', 'vide', 'cotovelo', 'iuricordeiro', 'marcosaravalle', 'vejario', 'catacumba', 'portao', 'guinle', 'praco', 'hippie', 'restauro', 'saracura', 'apropriem', 'preservalo', 'pizar', 'cofundadora', 'intervencao', 'gradilr', 'feirahippiedeipanema', 'pracageneralosorio', 'afiliado', 'multiplas', 'masterjacare', 'gigipaivabjj', 'alliancesp', 'bernardinho', 'mouratoglar', 'btgwealthmanagement', 'noval', 'hostilizar', 'rro', 'opaaa', 'chorao', 'epoco', 'kara', 'kar', 'pesquisanaor', 'malditar', 'impressar', 'bancoma', 'estampar', 'pequia', 'militante', 'participadoqual', 'circulo', 'condizente', 'bolsonaropresidenteate', 'estaro', 'irreal', 'comecer', 'queimar', 'eapoiador', 'cey', 'assaltar', 'explique', 'estuper', 'parler', 'gasolinar', 'bicho', 'concedido', 'estudarar', 'publique', 'gadominion', 'terraplanista', 'consider', 'orquestrar', 'minimamente', 'dimensoes', 'invencivel', 'lleno', 'innovador', 'interesante', 'siguiente', 'smu', 'comenzamos', 'espano', 'contribucion', 'compartir', 'fundacio', 'barcelona', 'olimpica', 'httpswwwsportmanagersunitedcomeventoselvalordeldeporteenelsigloxxidesarrollosostenibleydeporte', 'futforumbrasil', 'profesionales', 'futbol', 'analizar', 'reflexionar', 'httpswwwsportmanagersunitedcomeventosfutforum', 'dond', 'debatirar', 'gestion', 'entretenimiento', 'derecho', 'audiovisuale', 'httpswwwsportmanagersunitedcomeventossportainmentlabs', 'olvide', 'registrater', 'maner', 'mentissem', 'cocacola', 'inferirmos', 'obvia', 'tampouco', 'removir', 'sexo', 'pm', 'chancer', 'adversario', 'thomazlsantano', 'admontuori', 'situation', 'estressado', 'recuperacoes', 'distressedasset', 'densidade', 'aspa', 'pesquisas', 'ovacionar', 'monglonar', 'odiar', 'discordancio', 'lastrear', 'minions', 'fly', 'psicopata', 'bolsonarogenocer', 'anoes', 'morojuizladrao', 'cirogomesporralouca', 'eduardoleitementiroso', 'joaodorianuncamal', 'lulapresidente', 'repuder', 'tostoe', 'surja', 'dobrar', 'imobilizar', 'percebe', 'lulinhar', 'paulorobertojr', 'vasta', 'gama', 'aaa', 'superacaor', 'lcilcar', 'melhorescorretora', 'corretorasdevalor', 'investimentosdesucesso', 'investimentoparainiciante', 'pequenosinvestidor', 'consorcios', 'mapfrebrr', 'oracoes', 'omelhor', 'agarralar', 'esclarecedor', 'tokarski', 'sociodiretor', 'murillo', 'aragao', 'arkor', 'apos', 'fsbbtg', 'polarizacao', 'hahahahahahahahahaha', 'bluemacawgestora', 'generalistas', 'autono', 'fatir', 'dispor', 'solida', 'altarendar', 'bozobosta', 'procastinar', 'amagocapital', 'recuerda', 'manano', 'jueve', 'latamfocu', 'transmision', 'wwwbtgpactualcl', 'participacion', 'ministeriodehaciendo', 'experto', 'ignacio', 'brione', 'larrain', 'valde', 'reestruturacao', 'interface', 'reestruturar', 'beeeem', 'header', 'ops', 'ipva', 'problemashj', 'pedidecepcionar', 'decisivo', 'corrar', 'pressoe', 'externa', 'decorrer', 'divisa', 'barril', 'brent', 'charging', 'traducao', 'situar', 'bowling', 'manhattan', 'pês', 'tonelada', 'comprimento', 'arturo', 'modico', 'guerrilha', 'tornouse', 'dinheiroemfoco', 'filmado', 'videozinho', 'fodaaaaa', 'agenciabhub', 'betafalci', 'cozinha', 'aplicalo', 'httpslnkdindqesyrg', 'grupocsn', 'usiminasoficial', 'confusa', 'conoce', 'presentaran', 'buen', 'comportamiento', 'cuar', 'recuperacion', 'crecimiento', 'experienciaglobal', 'conocimientolocal', 'investo', 'crc', 'realizouse', 'desporto', 'duarte', 'nandalob', 'richardlane', 'arthurlb', 'relevo', 'sportalliance', 'gameon', 'californio', 'internship', 'hack', 'brasahacks', 'hurb', 'poatekofficial', 'berkeley', 'httpsgobrasaiohackathon', 'httphacksgobrasaorg', 'capricho', 'acaiformosavilaema', 'aguaspratar', 'grandstadvolvo', 'gatorade', 'labasqueoficial', 'luciannekornarquitetar', 'uindistore', 'vefloratelie', 'jubiojone', 'marques', 'vinialves', 'alineaboulafia', 'jeeziel', 'mining', 'bolsominions', 'charme', 'carisma', 'timeline', 'semiarido', 'producaaaaaun', 'vive', 'superamos', 'dificulto', 'inversamente', 'minimizacao', 'abestadr', 'tags', 'cyrela', 'amigosdobem', 'julianarosaoficial', 'bandeirante', 'eugenio', 'mattar', 'amchamcombr', 'amchamliga', 'amchamcombrliga', 'carlar', 'moeko', 'ferrir', 'rupturar', 'paradigm', 'sttefany', 'ingrid', 'acompanhamos', 'tradicoes', 'tips', 'tennistip', 'tennisclinic', 'sprintcomercial', 'aceleracaoperformance', 'timedecapacitacao', 'investoetf', 'oscar', 'freire', 'linguistica', 'territorial', 'andreapavlo', 'brendalezie', 'cabley', 'colabore', 'guardaroupasocial', 'treading', 'tape', 'reading', 'raquete', 'blogueiro', 'punhar', 'sementes', 'aviao', 'floresta', 'restabelecer', 'nutriente', 'garimpo', 'clandestino', 'tiririco', 'jequitiba', 'entendessem', 'desservico', 'gglobotv', 'ecossistemas', 'florestal', 'entregam', 'homologar', 'assessoriaprivate', 'atendimentoruim', 'pessimonegocio', 'semsolucao', 'edificante', 'petrorio', 'astercapital', 'oficialmarciogarcia', 'wanesso', 'brunomartini', 'httpsprosascombredital', 'estanaproso', 'cohn', 'abjer', 'lancaro', 'laspro', 'megaleiloes', 'siegenconsultoriafinanceirar', 'hecker', 'terranovajurimetr', 'comecara', 'httpsbitlyobsinsolvenciafasefalencio', 'allain', 'botton', 'laraangeli', 'ivybittar', 'cahstelzer', 'julianamds', 'million', 'seeds', 'vemserprofittoinvestimento', 'muscular', 'lactato', 'acidose', 'metabolica', 'cetose', 'queima', 'metabolicamente', 'gorduro', 'ajudara', 'acir', 'anaerobico', 'primalendurance', 'beefperformance', 'dradrianoantune', 'territoriodacarnir', 'nutrileticiamoreira', 'httpspubmedncbinlmnihgov', 'drricardoschneider', 'jadesoller', 'colostropontocom', 'maodeobraqualificaparaevento', 'jim', 'collim', 'oficialpiracanjuba', 'naturaloneoficial', 'sucosmaguary', 'fuginialimento', 'saboresceperar', 'marilanalimento', 'catupiryoficial', 'tirolezqueijo', 'tf', 'rockinrio', 'weachgroup', 'preventsenior', 'haraldchocolates', 'benassisp', 'searabrasil', 'crefiso', 'vemprafam', 'elginiluminacao', 'expocenternorte', 'saopauloexpo', 'rxglobal', 'frasedoder', 'salvadorano', 'participavamos', 'desacelera', 'cosanbrasil', 'eusouodouglasleal', 'boiado', 'ruralista', 'inimiga', 'biomasbrasileiro', 'armazenagemr', 'preferencial', 'vbirealestate', 'galpao', 'nepi', 'pucsp', 'jurisdicional', 'appgluepcomeventobservatoriodainsolvenciafasefalencio', 'comissaojurimetriaoab', 'terranovajurimetrio', 'engenheirojuridico', 'datascientist', 'parabeniza', 'planner', 'guerino', 'furlanettim', 'novinvest', 'casiuch', 'chamma', 'lutfallar', 'tvm', 'emerson', 'lambrecht', 'azer', 'maluf', 'agentesautonor', 'filieseaabaai', 'larguei', 'engolir', 'correrio', 'ouvida', 'agnt', 'esteva', 'sirva', 'preparei', 'httpslnkdindbssumdq', 'paraquedisto', 'compartilhando', 'pecir', 'autenticidade', 'faitoamao', 'pequenosnegociosdeluxo', 'solicito', 'indevir', 'lgpd', 'reclama', 'ajudarme', 'regularizar', 'estaca', 'informer', 'migro', 'uhulllllll', 'legenda', 'parabennnns', 'linegome', 'catitar', 'beachtennisgranjaviano', 'catitanareia', 'heya', 'agregador', 'tanks', 'restauracao', 'farsante', 'prisao', 'brusco', 'transformadora', 'vicio', 'saboto', 'desanimo', 'apegar', 'geraria', 'buzz', 'suguranco', 'mineiro', 'hahahahaha', 'abertamente', 'tropico', 'acessalo', 'comercialcom', 'preparamo', 'buena', 'oakleybr', 'gopro', 'goprobr', 'crakeiro', 'deslike', 'confiavele', 'exelente', 'consigar', 'oramos', 'glorificar', 'organizarr', 'cuidemse', 'pacutal', 'algarrobo', 'sailing', 'terr', 'formamos', 'maquinas', 'educacoes', 'sudeste', 'santoandre', 'sjrp', 'pessoascuidandodepessoa', 'obsessed', 'vibrant', 'colors', 'these', 'arrangements', 'delivered', 'yesterday', 'miamifloraldesigner', 'corporateflowers', 'floraldesign', 'miamievents', 'privatechef', 'tropicalflowers', 'miamibeach', 'tennistournament', 'highlandsnc', 'cashiersnc', 'ncflower', 'ncevents', 'northcarolinaliving', 'ncwedding', 'logistic', 'cbweddingmovie', 'instruir', 'anoteai', 'aura', 'aprecialo', 'kamenetz', 'telaviv', 'cibernetico', 'fodo', 'percorrir', 'historiadever', 'otavioln', 'negao', 'corretoratomeir', 'duplicar', 'apredizar', 'chamome', 'reser', 'preparandome', 'livraria', 'ousado', 'evolutivo', 'simaomborges', 'geizonbatistadia', 'antesdoaporte', 'boss', 'entrevisto', 'batemos', 'lucianarar', 'pautar', 'domusinvesting', 'oloco', 'germinativo', 'pouser', 'precisamente', 'semeadura', 'precisao', 'lembrarr', 'entendermos', 'vemprofluminense', 'fluzaaao', 'criem', 'educacaoinfantil', 'contadeinvestimento', 'tonalidade', 'entra', 'foca', 'rumoaomilhao', 'viverderendar', 'dividendosme', 'repitar', 'preparese', 'postarer', 'rioboatshowcombrr', 'marinadagloria', 'esperancoso', 'viveremo', 'mentoriabtg', 'aceleracaobtg', 'btgeducacao', 'construindoumnovocaminho', 'fazendoober', 'transfirmadosparatransformar', 'umpelooutro', 'wisemadness', 'eufacoparte', 'httpslnkdindnqkjhby', 'nossajbs', 'verba', 'integrarar', 'httpswebcventcomeventedebecfcaaeddfcesummary', 'btgactual', 'givebackday', 'mandir', 'veeem', 'gestamo', 'aliviar', 'retrospectivar', 'eventosdiferenciar', 'extornar', 'monomotor', 'pessoapb', 'ubatubasp', 'loucosporbarco', 'aproveitalar', 'pagarar', 'cheque', 'httpswwwamgcapitalcombrblogeducacaofinanceiracreditopessoalquandoeumasolucao', 'vomitativo', 'formado', 'lgbtqiar', 'habib', 'nascif', 'gijs', 'delft', 'pedropaulo', 'cto', 'exaluno', 'alan', 'biz', 'edik', 'institutolocalizar', 'oficializamos', 'reinauguracao', 'revisto', 'revistafever', 'rcabralfoto', 'muitasssss', 'postarno', 'wpsomluz', 'prorrogacao', 'httpstinyurlcommfrer', 'httpsconteudoamgcapitalcombrebookir', 'impostoderendar', 'subscrita', 'divulgara', 'psicologakarlamartim', 'enoronhaa', 'dalecarnegieparaiba', 'encorpar', 'inteiramente', 'fll', 'httpslnkdindemaissenqn', 'tantao', 'cascar', 'manja', 'idealizei', 'existo', 'opinar', 'suger', 'debatem', 'constroir', 'privatebanker', 'michele', 'equivocar', 'vlog', 'cavalcantir', 'montando', 'enxergam', 'forco', 'polvora', 'explosao', 'maravilhosas', 'magnifico', 'ióf', 'excluido', 'qrcode', 'drafinpass', 'orgulhodeserforever', 'elisa', 'cashgestora', 'extraordinariar', 'submeter', 'getulio', 'substituer', 'estatisticar', 'fixacao', 'imo', 'adiquirir', 'damari', 'possamos', 'acsjover', 'santoscidade', 'netopouzar', 'morro', 'penha', 'mudamos', 'acsantosbs', 'baito', 'universitys', 'annual', 'featur', 'april', 'whos', 'ftota', 'msampaiom', 'cmancini', 'blocknewsinsta', 'httpswwwbrazilconferenceorgbragendo', 'ht', 'portaldobitcoin', 'asicsbrasil', 'idis', 'wisemadnesssocial', 'lidere', 'argumentacao', 'pertinente', 'questionador', 'chancela', 'miziar', 'satisfator', 'greenwash', 'baurusp', 'idislamasson', 'pipa', 'trilhalo', 'voarmos', 'thata', 'lacoste', 'somara', 'viniciusthomazrochar', 'luribeiromoreno', 'stecelentano', 'joaopessoaandrade', 'ansiedader', 'lucida', 'progressistar', 'apelar', 'lacracao', 'perdemos', 'securitie', 'elr', 'confrar', 'figueroa', 'magio', 'directs', 'interacoes', 'mercadodigital', 'onossoprojeto', 'draannjone', 'boatshoweventos', 'httpswwwamgcapitalcombrblogeducacaofinanceirafundocambialoqueeecomoinvestir', 'luli', 'ativacoes', 'visitacao', 'estaleiro', 'embarcacoes', 'justar', 'schaeferyachts', 'yachts', 'ecosinvestimento', 'priority', 'validacao', 'tragam', 'sairaor', 'ribas', 'daniloalcantara', 'nozomuniwa', 'expocon', 'marcandopresenca', 'btgbusiness', 'investmentadvisor', 'grandhyatt', 'culturadealtodesempenho', 'grandhyattsp', 'sonorizacao', 'proaudio', 'jblaudio', 'crown', 'dpa', 'microphone', 'malightinglatinamerica', 'dtslighting', 'hplcompany', 'hotmachine', 'valeuuuu', 'sbcorporativo', 'someluz', 'somoslivemkt', 'somoslivemarketing', 'livemarketing', 'livemkt', 'httpslnkdineqfpqj', 'httpslnkdinekze', 'httpslnkdineqkkghfc', 'httpslnkdineafwjzv', 'erisneyribeiro', 'terradopedro', 'vaidade', 'presenciaria', 'santanaba', 'martim', 'danilolandeiro', 'souzawillir', 'tiagomachadoba', 'seres', 'almejo', 'interlagossportmarketing', 'feriar', 'paixoe', 'bezo', 'cefetr', 'boston', 'mitbeaver', 'david', 'neeleman', 'augustoelim', 'kond', 'antoniotabet', 'desafiotack', 'brazilconference', 'perspec', 'apx', 'artesanato', 'fazergrander', 'three', 'abraselgo', 'negociosdealimentacao', 'tramontinaoficial', 'abrasel', 'happyhour', 'agenciademarketing', 'httpswwwamgcapitalcombrblogeducacaofinanceiraseraqueocenarioeconomicoeimportantenahoradeinvestir', 'soberano', 'ba', 'apoiaraor', 'mitiga', 'superavit', 'protocolar', 'perito', 'piracicaba', 'interlagossportmarket', 'automotive', 'driveexperience', 'clavecapital', 'vingar', 'espiazrr', 'explorarr', 'vemproclube', 'rodrigobruno', 'rbrasset', 'lindenberg', 'jfl', 'tarjab', 'originar', 'estruturado', 'reservo', 'distribuida', 'piiiingar', 'fundosdetijolo', 'fundosdepapel', 'fundoshibrido', 'fundoshighgrade', 'hgcr', 'fundoshighyield', 'vino', 'galpoeslogistico', 'hgbs', 'xpasset', 'vincipartners', 'creditsuissehedginggriffo', 'tiradente', 'stallone', 'canalnauticar', 'asa', 'assessoriainvestimento', 'af', 'cobralar', 'ativosalvo', 'certificado', 'friendship', 'alpha', 'markets', 'shellnigerialtd', 'chevron', 'plc', 'famfaoillimited', 'amazonenergylimited', 'gulftreasureslimited', 'mastersenergy', 'thehoneywellgroup', 'prosperon', 'petrocamng', 'asconoil', 'iamsaharagroup', 'nigerian', 'hoglenergy', 'techno', 'fmprng', 'officialnnpcgroup', 'igerialng', 'nestoilltd', 'eternaplc', 'maerskdrilling', 'conocophillip', 'totalenergie', 'ardovaplc', 'heirsholdings', 'glencoreplc', 'exxonmobil', 'petronas', 'petrono', 'miaalpha', 'miaalphabrand', 'miaalphabusinessservice', 'miaalphainvestment', 'oilandga', 'oilandgasuk', 'oilandgasniger', 'oilandgasindustry', 'uk', 'krone', 'bormio', 'sanche', 'raphael', 'zimmermann', 'narrador', 'alinhado', 'camiseta', 'headshottradingacademy', 'curiosoar', 'bossi', 'malunune', 'boticario', 'atar', 'mataatlantico', 'bacarelli', 'felizpascoa', 'precoral', 'ovosdepascoa', 'institutiom', 'selected', 'honored', 'jaguaridproject', 'conservationwildr', 'desenho', 'artebela', 'ajudem', 'crash', 'redacao', 'superinteressante', 'inumera', 'httpswwwamgcapitalcombrblogeducacaofinanceiraresenhadolivrocrashumabrevehistoriadaeconomio', 'thaismack', 'mundomelhor', 'vertente', 'publicoalvo', 'personar', 'mando', 'magsegurosoficial', 'metlifebrasil', 'constituer', 'expostos', 'surfar', 'highgrade', 'highyeld', 'qii', 'btcusd', 'traderaltaperformance', 'traderesportivo', 'traderlifestyle', 'miniindecer', 'bolsadenewyork', 'opcoesbinaria', 'iqoptionbrasil', 'iqoption', 'inflacar', 'adicionais', 'httpswwwamgcapitalcombrblogcomoinvestircomoinvestirseudinheirocorretamentedicasessenciaisnessajornar', 'tet', 'tiktok', 'toxinabotulinica', 'preenchimentolabial', 'preenchimentoolheira', 'preenchimento', 'drataiseliberman', 'drajudermato', 'toxinabotulinico', 'sculptro', 'vibees', 'rusticusufrrjr', 'multiconsultoria', 'ufrrj', 'p', 'acess', 'alexa', 'invite', 'primeirolugar', 'copostanley', 'alexo', 'fazendarentavel', 'prosperidadefinanceira', 'aristotele', 'marcadofinanceiro', 'marianatdavila', 'weareappreach', 'akemi', 'dataai', 'andriolli', 'bd', 'linkmeads', 'ativistar', 'justiceir', 'womeningrowth', 'glow', 'womenleadership', 'growthforwomen', 'comoo', 'propoese', 'excondenar', 'manipulacoes', 'fernandinho', 'beiramar', 'marcolar', 'facoes', 'consistir', 'httpswwwamgcapitalcombrbloginvestimentoscomoescolheruminvestimentoderendafixa', 'custara', 'appmelhor', 'euamomeubtg', 'unificacao', 'tader', 'estresso', 'desalocar', 'conseguia', 'crtza', 'remover', 'digitacao', 'anterio', 'vdade', 'coerencer', 'idoneidade', 'meuncelular', 'graphico', 'pizza', 'agressor', 'permanecar', 'cacar', 'viverdevendo', 'viverdetrade', 'tourodeouro', 'spiti', 'oprimorico', 'bolsabrasilbalcao', 'brasileirosemorlar', 'brasileirosnacalifornia', 'brasileirosnaalemanha', 'brasileirosemmadrid', 'brasileirosnaitalio', 'sapucai', 'massas', 'seleciona', 'reuniaozir', 'fracionar', 'dinheir', 'esperemos', 'ludico', 'disruptivos', 'sacudir', 'setorizacao', 'biofiliar', 'aproveitamento', 'tadaofuzihar', 'renatonavarrofoto', 'respoder', 'soqueromeu', 'pesquia', 'escura', 'tudotenho', 'desinstalar', 'entrase', 'desistlar', 'madruga', 'user', 'fishing', 'fecho', 'corrup', 'acalmer', 'encomenda', 'intensoe', 'enxergo', 'sms', 'emboraer', 'repercutir', 'btgfsb', 'executiver', 'completa', 'floratemos', 'onboardfbr', 'fnaband', 'fnobandsports', 'formulaum', 'formulaone', 'mercedesamgf', 'mercedesbenz', 'mercede', 'redbull', 'redbullracing', 'willimasracing', 'charlesleclerc', 'leclerc', 'maxverstappen', 'lubraxpodiumteam', 'tombamento', 'hahahahahah', 'engrandecedora', 'compartilhamo', 'uniongroupbrasil', 'sinda', 'pesado', 'entrevistarar', 'glorioso', 'duvulgar', 'suplico', 'cadastramento', 'biometrico', 'escaneia', 'renomado', 'singulare', 'rioverdeinvestimento', 'portosegurobank', 'smallcaps', 'fundossmallcaps', 'acoesem', 'freguesia', 'bullets', 'quedamar', 'puntos', 'euqueroinvestir', 'moneyweekoficial', 'velomoneyr', 'gdi', 'compost', 'preocupam', 'interpessoal', 'proporcionara', 'alcancarmos', 'gdiinvest', 'gdinvest', 'ridiculir', 'camarotearpoadoroficial', 'camarotearpoador', 'granderio', 'marquesdesapucair', 'bolsadevaloresdecaraco', 'renatomimico', 'dennesmatia', 'bandeirinha', 'inseguro', 'caronar', 'glaciane', 'feiraagrishowoficial', 'emplacar', 'rato', 'amoooo', 'ufsoficial', 'ufs', 'notifico', 'dividedo', 'wait', 'indeterminar', 'regir', 'isposicoes', 'regulamentar', 'aplicaveis', 'primordialmente', 'armazenagem', 'auferir', 'arrendamento', 'incorporacoes', 'infraestruturaarmazenagem', 'rodoviario', 'ferroviaria', 'hidroviario', 'motoci', 'clubehebraica', 'klab', 'karl', 'absorvemos', 'organizacaosocial', 'abaaifgv', 'propagar', 'agrishowwww', 'sacolinha', 'lptailorbr', 'seguradoro', 'httpsmaquinasequipamentoscombrinstituicaoespecializadaeminvestimentosapresentaseaosempreendedor', 'acabeir', 'orionindustr', 'jtononjr', 'equipecentrooeste', 'liskaukas', 'objetivamos', 'pickingr', 'intrinseco', 'atrativas', 'risadinho', 'marotar', 'terninho', 'cretino', 'bolsodo', 'pah', 'laber', 'danieldsop', 'carolinainvest', 'adulta', 'cvmeducacional', 'unesco', 'jeangeorges', 'noverrer', 'bale', 'bailarino', 'marika', 'gidali', 'bailarina', 'decio', 'otero', 'balletstagium', 'celebro', 'rehaubrasil', 'sanko', 'macron', 'sankonfortoficial', 'engemet', 'redesimpatio', 'topsupply', 'vinil', 'sodanca', 'naturalquimic', 'uninoveoficial', 'vitaorgbr', 'culturainglesasp', 'diamundialdadanca', 'pagamo', 'viavel', 'guarder', 'colchao', 'tag', 'migrei', 'consegui', 'sequencinhar', 'fiscalizar', 'enganosas', 'fomenta', 'vanguardo', 'continuarr', 'coretagem', 'prosperidadeinvest', 'rochalr', 'tomo', 'nabar', 'brgpactual', 'gastos', 'jive', 'reestruturacoes', 'insolvencyr', 'reunira', 'jiveinvestiments', 'nikk', 'trocarmos', 'aperfeicoarmos', 'desenvolvimentoprofissional', 'mentoriadecomunicacao', 'mktbrasil', 'niver', 'acrescentario', 'fidelidade', 'dda', 'defeito', 'agenciasbancaria', 'impulsionarmos', 'comprarmeu', 'alexandrabcarter', 'amplificacao', 'carter', 'corporacoe', 'south', 'southsummit', 'reciprocidade', 'avinseg', 'ruscitto', 'rpcarvalho', 'ehhehehehehehe', 'sigaadilsonramos', 'ribeiraopreto', 'imoveisemribeiraopreto', 'imoveisrp', 'bonfimpaulista', 'desancoragem', 'diaadio', 'investiremque', 'ondeinvir', 'pacecapitalinvestimento', 'barrar', 'thoughtworksbr', 'southsummitbrasil', 'lccdn', 'scuder', 'scuderio', 'lulalau', 'joanna', 'ayala', 'quintana', 'nh', 'hoteles', 'timothy', 'gifford', 'munoz', 'encinale', 'visum', 'sas', 'plaza', 'titularizadora', 'colombiano', 'hinestroso', 'gallego', 'tus', 'unete', 'llevara', 'mercadoinmobiliario', 'colombiagri', 'griclublatar', 'lifeexperience', 'standing', 'lying', 'equival', 'bprivateoficial', 'acessora', 'cebaci', 'fibra', 'anatelgovbr', 'anatel', 'redeneutrar', 'fibraoptica', 'vasquezr', 'andreessen', 'horowitz', 'feche', 'deducao', 'cinegrafistar', 'eventosexclusivo', 'eventotop', 'acaiformoso', 'renomar', 'premiobtg', 'globalfinance', 'abastecir', 'impenhorabilidader', 'offshorir', 'prinevesso', 'protecaofinanceiro', 'presa', 'fingir', 'nascido', 'judshow', 'pedrao', 'garotar', 'carinhoso', 'josenavikas', 'ze', 'desafiocumprir', 'simplista', 'tesouroinflacao', 'tesouroselic', 'batalhadoro', 'protetor', 'compreensivo', 'educadoro', 'vied', 'mamaes', 'diadasmaes', 'abrirar', 'internacionaisseria', 'prospero', 'httpsbraziljournalcombtgbateexpectativasemtrimestrerecorde', 'tesour', 'grandepb', 'boradarumbtg', 'melhorprivatebank', 'beachtennisbr', 'beachtenniscg', 'beavhtennisplayer', 'investtgpactual', 'httpslnkdingwkbwuur', 'httpslnkdingufwhbik', 'httpslnkdingvqksu', 'httpslnkdingdbwzc', 'bankofamerico', 'viexamerico', 'sindienergia', 'carboncredit', 'consultorias', 'sabespciar', 'farsul', 'epe', 'solvioficial', 'termoverdess', 'battresso', 'peao', 'locataria', 'eufacopartedestahistoria', 'vemcreacercomagente', 'vemcrescercomagente', 'movimentamos', 'studioarq', 'gunther', 'heinrich', 'alavancarao', 'httpswwwamgcapitalcombrblogdicasresenhadolivroosaxiomasdezuriquemaxgunther', 'universitar', 'vivenciarao', 'colaborativo', 'skill', 'ontemcolocar', 'colaestar', 'denuncia', 'protocolei', 'esh', 'moneymoneyinvest', 'resalebr', 'enventar', 'vencedora', 'frugal', 'prepostar', 'vitorhugogovernador', 'deusabencoegoia', 'mariapassanafrente', 'assisto', 'iolanda', 'edson', 'futuredojo', 'patriciar', 'genelhu', 'faber', 'aniele', 'capitalismoconscientebrasil', 'primoroso', 'magistral', 'aabb', 'odalicardoso', 'pratasdacasa', 'aliancesonae', 'postao', 'pensa', 'fogueta', 'uhulll', 'foise', 'pausa', 'uner', 'perkinsandwillsaopauloano', 'perkinsandwillaward', 'designforlife', 'edificiosdesaopaulo', 'brazilianarchitecture', 'grbank', 'machadomeyer', 'alberteinstein', 'trenchrossiwatanaber', 'willistowerwatson', 'interiorescorporativo', 'corporateinteriors', 'escritoriosdofuturo', 'officesnapshots', 'glimpse', 'brutal', 'acceptancer', 'reality', 'decrescente', 'alfabeticar', 'caderno', 'tragedio', 'humanitaria', 'vacuo', 'fabricar', 'australia', 'httpslnkdindrzggr', 'guerro', 'weber', 'comodismo', 'especialistas', 'saboar', 'naono', 'val', 'occam', 'raoni', 'ipcapitalpart', 'leofrisoni', 'efetivar', 'mundojbz', 'jbz', 'tornarse', 'passe', 'medino', 'bakeoffbrasil', 'comecarmos', 'construida', 'began', 'ernesto', 'revillar', 'opened', 'economical', 'projections', 'tiagolhes', 'iwgplc', 'regusglobal', 'moderated', 'discussed', 'closeddoor', 'rooms', 'workspaces', 'living', 'masterplans', 'hospitality', 'early', 'leaded', 'ruben', 'velarde', 'pulir', 'mx', 'giovanni', 'demaisagostino', 'jll', 'moise', 'ramirez', 'beck', 'federico', 'gagliardo', 'vitriumcapital', 'ifc', 'gastao', 'valente', 'gicsgr', 'vicente', 'arthacapital', 'gonzalo', 'sarmiento', 'centenario', 'hurtar', 'misael', 'shimizu', 'realplazo', 'guillermo', 'montano', 'mobiliare', 'jean', 'fontanot', 'urbanova', 'ilan', 'senerman', 'inmobiliaria', 'sencorp', 'loveday', 'moreno', 'sponsored', 'bancosabadellmx', 'greystarapartments', 'deloitter', 'skyhausmx', 'setech', 'fitch', 'ratings', 'gbincmx', 'latinamericagri', 'gricl', 'baguncado', 'desbancarizado', 'negacao', 'rinciple', 'breaking', 'bnpparibas', 'darle', 'fin', 'financiamiento', 'nueva', 'perforacione', 'petrolero', 'presion', 'bnppariba', 'adoptar', 'exclusion', 'solidaridad', 'llamar', 'presionar', 'ecologico', 'vital', 'instituciones', 'combustible', 'osile', 'selva', 'tropical', 'gustar', 'ejemplo', 'dejar', 'standearth', 'amazonwatch', 'coica', 'confeniae', 'protectheamazon', 'exitamazonoilandga', 'bankingonamazondestruction', 'bankingonclimatechaos', 'qg', 'sartori', 'lembranca', 'bolfoni', 'bdiv', 'endd', 'investimentoimobiliario', 'fiifacil', 'melhoren', 'propoem', 'pisto', 'molda', 'curva', 'grip', 'kartinglovers', 'kartingemotionanpassion', 'retornorisco', 'rabechini', 'teleconferencia', 'teremos', 'coletiva', 'lancameto', 'ambient', 'especies', 'sobrevivencio', 'ixx', 'pretensao', 'academica', 'longevidade', 'predestinar', 'reformar', 'oswaldo', 'iconico', 'gurgel', 'buarque', 'rebatizar', 'minhocao', 'abrigar', 'cora', 'sobrevido', 'maisfamilyasp', 'pxoliver', 'jessynascimento', 'apresentei', 'defasar', 'melhorarcomo', 'chego', 'diaaa', 'jaque', 'invertir', 'terradesenvolvimento', 'lucascoelhoalves', 'cloveselia', 'diegohorst', 'odiloncosta', 'uhuuuul', 'fotoempresarial', 'publicidadeepropagandar', 'netopedrosabt', 'clubedobeachtennis', 'ladra', 'mandatario', 'alexandretalebr', 'brunovanenck', 'cidacoelhofono', 'transbordar', 'seguirar', 'biel', 'raftantir', 'devaneio', 'checkin', 'quarto', 'ev', 'chicoalencar', 'catarinense', 'apresentarao', 'vislumbr', 'httpsfiesccombrsemanadaindustrio', 'reinventasc', 'semanadaindustrio', 'cuida', 'mundodotrabalho', 'odiloncosto', 'betaneo', 'tranquilade', 'momentoseja', 'sentio', 'torco', 'tissotwatch', 'dreamer', 'vitoriar', 'concepcao', 'escolhir', 'habitual', 'empreendimentoscomercial', 'jardimeuropa', 'empreendimentosmeta', 'bancoinvestimnir', 'formalizacao', 'itambeir', 'faser', 'finalizacao', 'sobremorar', 'fas', 'corretoradeimovel', 'vidadecorretor', 'corretoraguarapari', 'mulhernomercadoimobiliario', 'vistaparaomar', 'corretoradeimoveisdeluxo', 'explorer', 'nch', 'inclusa', 'contabiliza', 'fresquinho', 'makingof', 'bucharel', 'mercadofinanceirar', 'manau', 'beler', 'sjcampo', 'empresaagradeco', 'pedrosallle', 'legend', 'recepcaoaindar', 'dietrich', 'bonhoeffer', 'pastor', 'luterano', 'hetty', 'financista', 'vaca', 'sensacionalista', 'bruxa', 'streetr', 'vestimenta', 'peculiar', 'rendas', 'disponibilizamos', 'jornadavidadetrader', 'traderdesucesso', 'atoa', 'tudooo', 'possibilito', 'clico', 'crie', 'unanimidade', 'maxi', 'regularidade', 'rubrico', 'reduzar', 'ocorrerio', 'deferir', 'decisar', 'planetir', 'autorizacoes', 'especiaisdo', 'criptomoedar', 'itaipar', 'werneckmarcus', 'snci', 'revertir', 'exercar', 'obt', 'lindao', 'desdo', 'acionei', 'adoidar', 'preservar', 'inaceitavel', 'clientescilar', 'scale', 'ups', 'cliquir', 'retratar', 'jgp', 'surpreendio', 'estocasticar', 'covariancia', 'doutorandar', 'oxford', 'neurociencio', 'pesquisadora', 'muie', 'milhooooooooo', 'xuxu', 'bikeladypellegatti', 'suceder', 'versatil', 'focamos', 'ferio', 'estagiar', 'jar', 'css', 'html', 'python', 'vba', 'ac', 'rivalidade', 'alain', 'prost', 'genio', 'protagonizar', 'duelo', 'mclaren', 'alainprost', 'sennaforever', 'sennnasempre', 'nostalgiar', 'botao', 'negativa', 'aloquei', 'filmagemr', 'linho', 'inexistente', 'mansuetoalmeida', 'vejam', 'precer', 'sambar', 'zeroooo', 'bvalaw', 'vibr', 'cassianagarciar', 'aquariano', 'mglg', 'janeirorj', 'vinhedosp', 'noticiado', 'repactuacoe', 'supermaket', 'correcoes', 'derepente', 'stoploss', 'beneficil', 'deixao', 'atomsaopaulo', 'ihfa', 'flutuacao', 'lcalci', 'periodicidade', 'pagadora', 'itsa', 'itausar', 'taee', 'sapr', 'sanepar', 'ensinarei', 'httpswwwamgcapitalcombrblogeducacaofinanceiramedodeperderdinheirooquefazerparacombatelo', 'inteira', 'assustadora', 'prudentialdobrasil', 'facilne', 'nationcken', 'belliness', 'mariottothayna', 'biblioteca', 'megar', 'expressoe', 'macaco', 'naoverbal', 'primitivo', 'mediatraining', 'fonoaudiologia', 'linguagemnaoverbal', 'selecionados', 'dudu', 'equestrian', 'competcefet', 'cefetmg', 'campusng', 'ifspsaopaulo', 'hospedagem', 'btgoffair', 'gata', 'interpretacoes', 'guarani', 'sevilha', 'cavalario', 'ligeiro', 'temporadadeconcerrer', 'orquestrasinfonicar', 'antoniocarlosgome', 'franzvonsuppe', 'heitorvillalobo', 'mauriceravel', 'isaackarabtchevsky', 'danstulbach', 'tecomedino', 'fridman', 'apaixonado', 'risadas', 'domrestaurante', 'batemo', 'ingle', 'cme', 'tonelar', 'spar', 'platt', 'negocialar', 'mercadofuturo', 'perr', 'variacoes', 'composicoes', 'vacancio', 'receeebar', 'fiisdeescritorio', 'fiisdelaje', 'topfiis', 'hgpo', 'jsre', 'riobravo', 'cshg', 'insider', 'perceptivel', 'avaliadora', 'creazdr', 'only', 'selecaar', 'fotodetrilhoes', 'padraobtg', 'desperceber', 'ganhe', 'winfutcombr', 'kristian', 'huber', 'sigaif', 'ofertapublicadeaquisicao', 'incorpore', 'properties', 'deliberacao', 'vire', 'documental', 'conectemono', 'gaiaininho', 'mega', 'comercenergia', 'energeaglobal', 'usino', 'proprietaria', 'salina', 'pedrinopoli', 'canalsolar', 'cuide', 'patual', 'leblonequitie', 'financialtime', 'grillo', 'rizzo', 'brega', 'corporation', 'fiescr', 'fiate', 'httpsfiesccombrsemanadaindustria', 'diadaindustria', 'rubin', 'michelrubin', 'investem', 'mpartner', 'camilabarros', 'edgo', 'magallane', 'rescindir', 'ocupa', 'viex', 'obtencao', 'leiloes', 'viabilidade', 'economicofinanceiro', 'httpswwwviexamericascomeventosfinanciamentodeprojetosnosetoreletrico', 'acreditei', 'resilienciar', 'entusiasmar', 'trabalharer', 'segurosdever', 'sumicity', 'universidadedevassour', 'sebraerj', 'vinylol', 'viniciusverlyb', 'wilbert', 'faculdadeunivertixtr', 'tragar', 'souzr', 'strategies', 'arcado', 'worldeconomicforum', 'timefamilia', 'vittorio', 'peronar', 'ibd', 'partnerhead', 'huw', 'jenkins', 'vicechairman', 'tiene', 'mejorar', 'conocimiento', 'httpbitlynykyna', 'ncontrara', 'actividad', 'ejerce', 'sociedad', 'educacionfinancierar', 'sistemafiema', 'expositor', 'competividade', 'contare', 'maranha', 'beber', 'engole', 'ducker', 'velhaes', 'costo', 'itfinternacionalvilavelha', 'cristianograbner', 'fisioliviaventura', 'antonioviniciusof', 'chrislandim', 'verk', 'distribuido', 'abatimento', 'baixa', 'bidi', 'completeir', 'hibrido', 'eletron', 'road', 'tornandose', 'autoprodutor', 'vidaextraordinario', 'tailor', 'regionalizar', 'tailormedia', 'digitalpremium', 'adnetwork', 'nuday', 'agorasaopaulo', 'correiopopular', 'oestadodesaopaulo', 'anoticia', 'horadesantacatarina', 'jornaldesantacatarina', 'diariogaucho', 'zerohor', 'oglobo', 'tribunadoparano', 'agazeto', 'opovo', 'lançar', 'luxemburgueso', 'lcmbexperience', 'conforrer', 'calculoestrurual', 'engenhariacivil', 'estrururar', 'deumbtgnasuavir', 'cuidador', 'cesarnunesmoral', 'rolandgarro', 'ybotiramainvestimento', 'mutaaaaaa', 'pular', 'prosseguir', 'amoro', 'sexta', 'issovice', 'mexendo', 'procurarr', 'honestamente', 'covardia', 'sextasfeiro', 'taa', 'inesperado', 'escar', 'expertiser', 'httpswwwperspectivecombrabrasuaconto', 'bancobaixo', 'sejaforevercapital', 'aproimoramento', 'perspecs', 'liv', 'malu', 'nune', 'anacarolbastido', 'deboni', 'garutti', 'faunar', 'bacio', 'hidrografico', 'detir', 'naufragio', 'pretensoes', 'motivadorar', 'sento', 'bunda', 'dependia', 'proeza', 'pelomeno', 'escolherio', 'espiritualizar', 'madura', 'martelar', 'bottari', 'karine', 'aprofundamento', 'falarei', 'natacha', 'piacentini', 'claudinar', 'renan', 'darao', 'alocation', 'finalizaremo', 'louzar', 'devagar', 'kahneman', 'tversky', 'violar', 'descritos', 'experimento', 'psicologia', 'peculiaridade', 'falecer', 'httpswwwamgcapitalcombrblogdicasresenhadolivrorapidoedevagardanielkahneman', 'guri', 'glamouroso', 'extremante', 'aquecir', 'darei', 'bucolico', 'curral', 'novosrn', 'subestacao', 'perair', 'domine', 'inundar', 'monalisa', 'marcosjmpennacchir', 'giovannapennacchi', 'patrono', 'ronaldocerqueirar', 'bth', 'apio', 'acorder', 'recompor', 'sondagem', 'demaise', 'koifilmss', 'cgu', 'uruguai', 'mem', 'suster', 'ibraim', 'mustang', 'uassu', 'catarata', 'diamantinar', 'kaminitz', 'cassiro', 'ec', 'flying', 'fox', 'confit', 'dakota', 'insbruck', 'isabelle', 'singobatr', 'joter', 'fanny', 'incroyabler', 'muze', 'bengaly', 'return', 'substancialmente', 'assimetrico', 'memento', 'diferimento', 'cont', 'lacra', 'aprox', 'pretendir', 'minoria', 'cancele', 'militancia', 'nve', 'deslavrar', 'jegar', 'fanatico', 'micto', 'trair', 'kkmkkk', 'turne', 'palavras', 'vemprarualula', 'midiar', 'acreditarei', 'reciprocoma', 'naoma', 'mesma', 'oper', 'fissurar', 'tombo', 'muletas', 'muleto', 'altaperformance', 'cpa', 'bancodobarril', 'admiracaor', 'fernandabottari', 'contribuinte', 'tributavel', 'reginaldo', 'franklintempleton', 'lamborghinisaopaulo', 'condizer', 'evacionar', 'ovar', 'expulso', 'palmo', 'nariz', 'deumbtgnasuaver', 'entreguei', 'estuda', 'convider', 'coitado', 'jornaldabandoficial', 'esnoticiasdigital', 'correiodamanhaoficial', 'chegadessesdois', 'chegadese', 'pablomarcalpresidentebr', 'ddesde', 'miercole', 'existirio', 'fibrar', 'ajudala', 'cesarcielof', 'titanium', 'precisem', 'comvoce', 'tenier', 'necesidade', 'multiplican', 'siguen', 'asesinar', 'herir', 'traumatizar', 'violencia', 'rodea', 'aterrorizar', 'shock', 'refugiado', 'huer', 'mientro', 'desplazar', 'tale', 'desplazamiento', 'podrian', 'consecuencia', 'duradero', 'generacione', 'venidera', 'huyenr', 'corren', 'mayorr', 'riesgo', 'explotacion', 'persono', 'arma', 'explosivo', 'poblar', 'victima', 'civile', 'considerables', 'infraestructura', 'esenciale', 'escuela', 'hospitale', 'centrales', 'electrico', 'civiles', 'buscan', 'han', 'obligacione', 'quatcapitalcom', 'caridad', 'kyiv', 'tenemos', 'vienen', 'reciben', 'asistenciar', 'instalacione', 'asearse', 'lavanderia', 'beyonce', 'comandarr', 'edmund', 'burke', 'servo', 'encurtar', 'estomago', 'padeiro', 'june', 'mymonth', 'cabimento', 'sab', 'eletrobr', 'lock', 'darer', 'oferer', 'intermedio', 'ftgsr', 'eletricidade', 'fb', 'whatsappdepois', 'academy', 'kayofraga', 'oguilhermeconder', 'privateacademy', 'pane', 'interrupcoe', 'passivel', 'checagem', 'cessante', 'lucrativa', 'custeioagricola', 'agriculturar', 'atendimentopersonalizar', 'boteco', 'ladroe', 'cervejinha', 'cabeludo', 'fedorento', 'siderurgico', 'teem', 'comprovar', 'wef', 'siglar', 'davo', 'solavanco', 'decorrenciar', 'porvir', 'poli', 'milanez', 'denis', 'morante', 'aster', 'rgs', 'bocom', 'bbm', 'lts', 'spx', 'vitar', 'politecnico', 'homer', 'bronker', 'oj', 'jatinho', 'ihub', 'wednesday', 'invited', 'opening', 'session', 'hosted', 'put', 'discussion', 'stage', 'siilabr', 'analytics', 'commercial', 'along', 'cre', 'counted', 'moderator', 'invitation', 'putting', 'contribution', 'investimentoemimovel', 'queixa', 'redirecionar', 'convidalo', 'amazonr', 'castbox', 'radiopublic', 'anfitria', 'arco', 'irisbandeira', 'transgenero', 'hei', 'daquilo', 'setorchave', 'rentabilidadeo', 'ordinario', 'card', 'dududocavacooficial', 'leogonta', 'institutomanodown', 'investira', 'sazonal', 'pmc', 'pms', 'terrestr', 'nordresearch', 'pilantro', 'httpsepocaogloboglobocomtemponoticiaporqueprisaodobanqueiroandreestevesassustaogovernoeopthtml', 'amur', 'instainnova', 'almocopalestra', 'renovavel', 'concessionaria', 'celpe', 'nossotimeehpaudedaremdoer', 'denisesantos', 'keilaregina', 'odersonacioliadv', 'conservao', 'faltara', 'deseja', 'napoleon', 'hill', 'neverquit', 'strength', 'pilular', 'pimco', 'montanharussa', 'carrinho', 'wwwtesourodiretocombr', 'vicecolocacao', 'viniciusmartinsjj', 'tiaguinhonascimentoo', 'leogoncalvesjudo', 'thamyr', 'thamybjj', 'gamba', 'rafagamba', 'saboia', 'thiagosaboia', 'interfaz', 'pag', 'trabar', 'dato', 'nesaa', 'tendenciado', 'importance', 'leagues', 'europe', 'direitodesportivo', 'sabor', 'prato', 'suck', 'avelino', 'guilhermeavelino', 'bjj', 'arkoadvice', 'parace', 'rodrigobcampo', 'squaloinvestimento', 'helioaai', 'iurischiavon', 'ine', 'emails', 'support', 'confidencial', 'hunter', 'innovar', 'vagasdetrabalho', 'patricio', 'pauls', 'cred', 'sparto', 'prev', 'vigarista', 'ligario', 'feedbackcliente', 'concordancia', 'rubinhonunesmblr', 'bloombergtv', 'fpabramo', 'folhauberabar', 'joeldateno', 'btrabtal', 'utilizer', 'vmbrandao', 'caramelo', 'odin', 'herme', 'staiti', 'jesses', 'amorosar', 'bloond', 'piccolar', 'catirar', 'vii', 'quebec', 'rituaali', 'oro', 'ravell', 'crackerjack', 'barcenal', 'othello', 'ad', 'daugther', 'gms', 'abrar', 'florence', 'heeloise', 'indio', 'fleur', 'lys', 'intercar', 'quidarcer', 'caron', 'solene', 'veruska', 'natividade', 'loisse', 'loritta', 'chap', 'haegler', 'nani', 'elektra', 'figueira', 'luna', 'cerberus', 'thiagar', 'empreitar', 'atuacoe', 'feiradiversa', 'superlike', 'sofisticado', 'falarer', 'familytime', 'dataengineer', 'corretorasdigital', 'pesquisem', 'kinvestimento', 'semcorretagem', 'perenidade', 'maianaalmeir', 'candidatese', 'wacj', 'auxiliarao', 'aun', 'magisterio', 'pucrsonline', 'medalha', 'obinvestbrasil', 'partilho', 'magnificar', 'colegiostjohn', 'usuaria', 'thom', 'srougi', 'drconsulta', 'exameesg', 'refaber', 'btral', 'zambolim', 'revendir', 'inviabilizar', 'contrapartido', 'aviaor', 'maquinario', 'choi', 'servira', 'farol', 'orgulhocapixaba', 'governodoe', 'casagrande', 'abudmunir', 'casagrandejoseamarildo', 'crissamorini', 'renanchieppe', 'findesoficial', 'banestes', 'apexnewse', 'olympiadr', 'belisco', 'olimpiada', 'shanghai', 'inseguranca', 'frustracoe', 'inglid', 'btgpa', 'pbenettonr', 'rafcs', 'federacaorjr', 'mtstbrasil', 'mtstsp', 'nytimes', 'officiale', 'globorural', 'karp', 'sonha', 'maravilhar', 'quemomvao', 'proximoeu', 'religioso', 'pessoaler', 'okta', 'pontofrio', 'brian', 'requarth', 'napa', 'valley', 'marketplace', 'quartinho', 'olx', 'brianrequarth', 'tereza', 'softbank', 'lombardo', 'omieoficial', 'ogrady', 'vectis', 'boletimeconomia', 'habilitacao', 'simpatico', 'perspicacia', 'folhabusiness', 'encontramse', 'entregamo', 'autonomar', 'modernidade', 'rsor', 'makersecosyster', 'somostodosmchecon', 'mcheconceno', 'grupomchecon', 'mchecongroup', 'processocriativo', 'emocoe', 'sensacoes', 'feiraenase', 'enaserj', 'mcheconrio', 'andrelajst', 'israeloriente', 'questionario', 'sucessoprofissional', 'mulheresnasfinanco', 'wcdbrazil', 'insatisfatorio', 'jogada', 'levo', 'voooooa', 'arielapz', 'genteo', 'retrovisor', 'porcaria', 'traded', 'replica', 'proporcoe', 'etfsr', 'esgb', 'genb', 'ingenius', 'spxb', 'bolsadevaloresbr', 'radardasemanar', 'andamentar', 'btf', 'voltamo', 'guer', 'aprendemos', 'youngwomensummit', 'mulheresnasfinanca', 'mulhereslider', 'coquetelpalestrar', 'palestrainvestimnir', 'entree', 'nivercuiabar', 'aniversariocuiabar', 'jantardeaniversario', 'chapadamt', 'eventoscuiabar', 'eventosmt', 'eventosucesso', 'eventospersonalizado', 'homensnacozinha', 'instafood', 'waluntar', 'tirofotodecomir', 'untar', 'waldemaruntar', 'planning', 'aptar', 'segurodever', 'wealthplanning', 'remessainternacional', 'comercioexterior', 'desgraca', 'descalabro', 'desgovernante', 'inominavel', 'trevas', 'prenome', 'despudoravel', 'imerso', 'maiorbancodeinvestimento', 'jampanabolsa', 'upi', 'fibro', 'compone', 'hoy', 'clasificacion', 'realizara', 'noviembre', 'ygor', 'luftgla', 'comemoracoe', 'apuracao', 'envergonhado', 'beija', 'cobrara', 'monitordomercar', 'oclubedomilhao', 'beminformar', 'superlativos', 'safirar', 'uberlander', 'triangulo', 'ub', 'caioestevesf', 'patti', 'mariaclarapatti', 'zocratto', 'zocrattoflavio', 'desmarcar', 'promor', 'copergo', 'efbrasil', 'qulturerock', 'gruponkn', 'smworkbr', 'agunicabr', 'ambevvoar', 'certissimo', 'laia', 'pesquisinhar', 'arrancar', 'btglixo', 'ptralhar', 'viuur', 'bancosdigital', 'espernear', 'ridiculamente', 'tenni', 'padle', 'santopadel', 'gasparnobrega', 'worldcupstpauls', 'russomano', 'sudester', 'infimo', 'remar', 'migr', 'microdar', 'vindo', 'contingencio', 'preve', 'quantir', 'boafe', 'inequivocar', 'pac', 'pagegroupbr', 'reforce', 'fundamo', 'fajuto', 'minion', 'detonar', 'publicador', 'abomino', 'reduto', 'teer', 'alar', 'nexo', 'demonizar', 'suicidar', 'caminhoes', 'besto', 'mediocr', 'comuna', 'miserio', 'invasor', 'abortista', 'sanfonar', 'desesperado', 'picareta', 'profissionalizar', 'frigorifico', 'companhias', 'usinas', 'bancabilidade', 'identifique', 'indicacoe', 'incondicionalmente', 'seguiremo', 'focado', 'garanti', 'pernar', 'vera', 'imundo', 'azeitonar', 'curiosoa', 'marceloserrar', 'sambadevinil', 'showaovivo', 'sabonete', 'tornala', 'autoconfiante', 'victoriapizz', 'racecar', 'kartingemotionandpassion', 'kartbr', 'ocumentooooooo', 'quemtemtimetemtudogus', 'interrompi', 'kkkkkkkkkk', 'kkkkkkkkkkkkkk', 'inacio', 'opositor', 'newmag', 'olami', 'cabalo', 'luftglo', 'respondemos', 'finshecoyws', 'carreirafeminar', 'oportunidadeprofissional', 'ficcao', 'incipiente', 'videogame', 'mostrare', 'ajeita', 'btgtalkslive', 'colecionar', 'estado', 'eficiencer', 'rodovio', 'ferrovio', 'portuario', 'conhecaoes', 'nacionalmente', 'bachi', 'diversfiicar', 'plenosenior', 'timenow', 'ish', 'medsenior', 'bh', 'kalil', 'direcionarmo', 'arriverdeci', 'hgouver', 'vigor', 'cogitar', 'kkkkkkkkkkkkk', 'perguntassem', 'metodologer', 'pedrovenglert', 'startse', 'insustentavel', 'corr', 'exagero', 'estacione', 'wifi', 'cryptomillionairar', 'blockchainbrasil', 'naoso', 'gadoburro', 'babaco', 'volts', 'arminda', 'recebemo', 'frankel', 'vitacon', 'housi', 'alelafer', 'housioficial', 'vitaconoficial', 'exibicao', 'desabonar', 'recomendei', 'alertandoos', 'perderao', 'grandcorporater', 'vinhar', 'comoditi', 'bova', 'viar', 'rrr', 'montanteoficial', 'estruturo', 'joaquim', 'floriano', 'bibir', 'itbi', 'validade', 'estaticar', 'pulverizado', 'recebido', 'devaci', 'mxff', 'trimestralmente', 'aapl', 'politicar', 'grahl', 'licenca', 'coneccao', 'gestaodepessoa', 'recursoshumano', 'cumplir', 'compuesta', 'clasificar', 'sslteamperu', 'qir', 'devedorar', 'credora', 'arquivamento', 'meoooo', 'caotrocina', 'liberalzinho', 'irresponsavvel', 'politicagir', 'furtar', 'impaciente', 'planing', 'hahaho', 'utilizarmos', 'investmal', 'httpslnkdindwcbnin', 'httpslnkdind', 'wasamq', 'tolerancia', 'aacdoficial', 'athiewohnrath', 'barrycallebautgroup', 'brmallstalento', 'mathilde', 'loft', 'engekoengenhario', 'escolalourencocastanho', 'fagronbrasil', 'fecomerciosp', 'chevroletbrr', 'djm', 'hospitalpresidenteoficial', 'veracruzcampina', 'icbusp', 'incorbase', 'innovo', 'butantanoficial', 'racionalengenhar', 'redelucymontoro', 'rgci', 'ribeirocar', 'sobrosaconstrutora', 'teixeiraduarte', 'tintasmc', 'unimedbotucatu', 'anhembimorumbi', 'votorantimcimento', 'instant', 'gndi', 'gelatina', 'russelot', 'gerburr', 'ccar', 'cienciaesauderetrofitrevitalizacao', 'instalacoeseletricasinstalacoes', 'instalacoeseletromecanico', 'engenhariaengenhariaeletrico', 'lgelgeinstalacoe', 'utilidadesindustrial', 'clientesprojetosgerandovalor', 'tatafernandesv', 'toorantonio', 'falakleber', 'penkovideomaker', 'letyciascaquetti', 'sophiaprein', 'diegoalgarte', 'nataliasnascimento', 'mantovani', 'mimica', 'seabra', 'womenonboar', 'securities', 'knhy', 'obrigatoriedade', 'mercadofinan', 'sarainvest', 'acontencer', 'tatianacastanho', 'sonhorealizar', 'confeccionar', 'graficasantaluiza', 'empreededorismofeminino', 'luizplinio', 'arthurliim', 'dinner', 'lay', 'santiagopaty', 'roquekhouripinheiro', 'angelarpinheiro', 'danielybritooficial', 'trattorio', 'globalmanagersconference', 'fairmont', 'modernizacao', 'profissionalizacao', 'revistalidir', 'mosaico', 'interligar', 'evolua', 'coligar', 'desafie', 'empenhe', 'alicercer', 'instadaily', 'palestr', 'entrevistado', 'daud', 'bachir', 'motomuro', 'catio', 'ibef', 'third', 'party', 'distribution', 'ccifbsp', 'bistronomie', 'bife', 'alstom', 'chenut', 'cma', 'groupe', 'agricole', 'carrefour', 'lvmh', 'maringo', 'movir', 'alegadamente', 'eficacer', 'httpswwwamgcapitalcombrblogdicasensinamentosdoinvestidorbenjamingrahamquevaleapenaconhecer', 'rugby', 'powerwoman', 'womaninred', 'entepreneur', 'womamenterpreneur', 'comandite', 'descontrolar', 'sombra', 'aumentaria', 'atrasa', 'lidesantacatarino', 'calainho', 'empresariar', 'lidemtr', 'quemelideparticipa', 'backdrop', 'lonar', 'ivanmfranco', 'hcunit', 'beletti', 'corretore', 'execucoes', 'period', 'acentuar', 'joined', 'express', 'spent', 'past', 'surrounded', 'brilliant', 'starting', 'pandemic', 'challenging', 'hard', 'desire', 'succeed', 'grown', 'personally', 'professionally', 'paths', 'womenonbo', 'boost', 'pmi', 'levantamono', 'fazemolo', 'dilmarousseff', 'molonrj', 'localizei', 'topico', 'randomico', 'engaja', 'sandro', 'crescendooo', 'amig', 'ameaca', 'canditado', 'pario', 'exceto', 'pifia', 'canditar', 'constavo', 'alinar', 'odar', 'abbc', 'deslanchar', 'martineli', 'gptwr', 'blanco', 'krahl', 'tiagokrahl', 'maringapar', 'wwwsacreinvestimentoscombrtrabalheconosco', 'unido', 'renatorique', 'espelher', 'tonycelestino', 'amaryllisgullatissei', 'ester', 'louvar', 'cryptomillionaire', 'lucer', 'riquezas', 'metais', 'proft', 'slce', 'slcagricola', 'champiom', 'league', 'mastercardbrasil', 'premiamo', 'belletti', 'acalentar', 'geracoe', 'meditar', 'pesadelos', 'irineufperpetuo', 'wwwinstitutobaccarelliorgbragenda', 'tradutor', 'plateio', 'boldonaro', 'talves', 'conhecerel', 'btgcreli', 'introducao', 'excel', 'paschoalotto', 'marcosneuhau', 'preocupacoe', 'pwm', 'semanabtgpactual', 'delacao', 'dammmmmmmmmmmmmm', 'exclusive', 'partyr', 'mentirosas', 'marcadinho', 'forcada', 'todoss', 'ouvimo', 'aaaahhh', 'rhabooo', 'vak', 'canalh', 'hospicio', 'vergonhame', 'kakakakakakaka', 'boaaa', 'msmo', 'consumista', 'minimalista', 'minimalismo', 'votarei', 'somatorio', 'baldotto', 'reuter', 'wcasagrandejr', 'discursar', 'trauma', 'agressoe', 'estupro', 'incapaz', 'socialitar', 'assum', 'empreendedorismoeproposito', 'acionistacombr', 'lallaugnol', 'marmelada', 'kkkkkkkkkkkk', 'condensacoe', 'jumento', 'pretendiar', 'drastica', 'concordei', 'flamboyat', 'hsinvest', 'ivanhoecambridge', 'jhsfinstitucional', 'multiplanoficial', 'previ', 'previa', 'fusoe', 'ecommercer', 'rawpixelcom', 'freepik', 'elo', 'lugarcado', 'cumulo', 'kkkkkkkkkkkkkkkkkkkkkkkkkkkkkkkkkkkk', 'womenonb', 'incorreta', 'adegar', 'lacar', 'adega', 'adegalacar', 'adegaclimatizar', 'adegapersonalizar', 'adegaspersonalizar', 'adegacomercial', 'lacavaadega', 'filantropos', 'institutomol', 'regininhamoraesr', 'fundacaoliamariaaguiar', 'capture', 'establishment', 'aparelhamento', 'continuamente', 'carj', 'reves', 'contrapartida', 'considerasse', 'estipular', 'colorido', 'posar', 'diretorpresidente', 'valcemiro', 'letreiro', 'assessorbanker', 'sm', 'knowhow', 'diferencia', 'incorrer', 'apittiglianir', 'ceuparaisopoli', 'unilever', 'pernambucana', 'bicbrasiloficial', 'motorolabr', 'chevroletbr', 'synergiasocioambiental', 'sakuraalimento', 'fujifilmbrr', 'portaldosorriso', 'atencioso', 'produtosfinanceiro', 'planejamentosucessorio', 'planejamentopatrimonial', 'planejamentopatrimonialesucessorio', 'empresafamiliar', 'segurodevida', 'direitoempresarial', 'voleio', 'punho', 'luizavaldetaro', 'ctmoskabeachtennis', 'praiadoleblon', 'ademiconrio', 'riodesignleblon', 'mormaibeachtennis', 'itfbeachtennis', 'sauder', 'trackandfield', 'bodytech', 'araujods', 'confeitaria', 'cabeleireiro', 'wemind', 'historiasconectar', 'bemestarfinanceiro', 'planejamentodevir', 'autocuidar', 'sejawemind', 'chamo', 'construi', 'almejei', 'abstir', 'preconceituoso', 'recreativo', 'alienado', 'estuder', 'negacionista', 'vivemo', 'educado', 'retrograr', 'erroneamente', 'esclerose', 'fibromialgiar', 'canceraliviar', 'autoimunes', 'aflor', 'julgando', 'jdos', 'timberland', 'organizacion', 'ambientalista', 'ganaron', 'colaboracion', 'bosque', 'naturale', 'publicacion', 'maderer', 'inversionista', 'institucionales', 'division', 'arlington', 'virginia', 'trabaja', 'asegurar', 'naturaleza', 'biodiversidad', 'vehiculo', 'generar', 'rendimiento', 'desplegar', 'asesor', 'monitoreo', 'conservacion', 'restauracion', 'disminucioncarteravencer', 'solucionesempresariales', 'cobranza', 'cobranzaefectivo', 'cobranzaju', 'medicina', 'zootecnia', 'medicino', 'preocupante', 'luenysm', 'julioalbieri', 'ipedroaraujo', 'flaviannyguimaraes', 'seguirmos', 'puderr', 'cura', 'milagroso', 'taxatividade', 'resp', 'taxativo', 'operadorasseguradora', 'segurado', 'destaques', 'xv', 'institutosdeprevidencia', 'pensionista', 'servidorpublico', 'previdenciasocial', 'informacaor', 'terceiraidade', 'congressoprevidenciario', 'buziosrj', 'congressoaepremerj', 'fecormercio', 'rejeitar', 'cogitado', 'desaconselhar', 'fundosimob', 'imediatisto', 'demaisonder', 'invisivel', 'realizo', 'socorr', 'embarquei', 'gpini', 'danielesebastiani', 'marconesouza', 'cbavr', 'igti', 'raquetinha', 'comido', 'junina', 'tenisclubedesanto', 'luisar', 'patriotaenxerga', 'umbigo', 'financeiroma', 'sobedescer', 'urizzi', 'solteira', 'rapadura', 'convocacoe', 'pucrsonliner', 'chilibeans', 'mcdonalds', 'pandemiar', 'facebookbr', 'pepsibr', 'materno', 'regianemagalhaesr', 'viajie', 'importei', 'viajeieimporteioficial', 'saraurizzi', 'terapeuta', 'geanterapeutar', 'regianemagalhaes', 'delonga', 'relator', 'associativo', 'itatiaiaoficial', 'ey', 'prestarao', 'atleticomg', 'caligula', 'alckmin', 'sobrinho', 'derreter', 'distorcir', 'gravo', 'ruer', 'calibre', 'jun', 'documentacoes', 'cashr', 'fbceffffcapdf', 'bcceebcacababdpdf', 'betar', 'abfecceaecapdf', 'bfdadddffceapdf', 'challenger', 'ccdcbabeafcpdf', 'anf', 'luxbridge', 'ie', 'efcbbdaebbpdf', 'manoella', 'carvalhal', 'zeitune', 'venancio', 'nucci', 'walther', 'kaick', 'carius', 'chapman', 'lord', 'caretino', 'ruy', 'logan', 'abintercar', 'acrediter', 'plante', 'recarregar', 'manchete', 'austr', 'employeru', 'converge', 'ensinoepesquisaeinstein', 'wegelectric', 'faculdadexpeducacao', 'embraer', 'universidades', 'blaidi', 'santanna', 'linknabio', 'educacaoprofissional', 'educacaocorporativo', 'bbpac', 'distribuicaoo', 'continente', 'medellin', 'barranquila', 'atlanta', 'stamford', 'httpribtgpactualcom', 'mzgroup', 'capitalmarket', 'stockexchange', 'empoweringir', 'role', 'embasamento', 'desafiadoro', 'somoseco', 'prevenir', 'prejudique', 'falecimento', 'else', 'excited', 'lins', 'nossocompromisso', 'usinalim', 'ossocompromisso', 'creditoverde', 'programasemear', 'teamtrader', 'alagoa', 'bolsolao', 'trator', 'mentiro', 'refinario', 'zapzap', 'habilitacoe', 'divergencia', 'vainawebr', 'vainaweb', 'amortecer', 'preparadas', 'dontstophacking', 'recrutamentotech', 'techrecruitment', 'employerbranding', 'guilhotinar', 'carta', 'ditamento', 'gravissimo', 'editar', 'cartr', 'macho', 'requinte', 'vivencialar', 'georgiannifreitasinvest', 'karol', 'tamararochar', 'djpettrus', 'assessoriaecerimonialdeevento', 'brq', 'ferasbrq', 'somosfera', 'analistadeteste', 'qa', 'qualityassurance', 'tester', 'programadora', 'testesautomatizado', 'sunofiar', 'fabiofmd', 'dudosanjo', 'aproveitarr', 'considerase', 'duradoura', 'upabro', 'jacob', 'indie', 'fabietti', 'finacapcombr', 'fundodeacoes', 'gigoia', 'isc', 'nucleoilhadagigoia', 'projetoincentivar', 'ministeriodoesporte', 'skate', 'skatecuida', 'articulador', 'promotor', 'ahorro', 'generamos', 'confianza', 'devo', 'troxa', 'varzea', 'organizado', 'mutiraor', 'fila', 'quilometrico', 'integralizar', 'lindaaaa', 'desnaturar', 'aventuras', 'radiante', 'irretocavel', 'gravei', 'pssar', 'milharel', 'oracoe', 'capixababjo', 'sabia', 'muitoooooo', 'tudoo', 'suafoi', 'verdadeder', 'naos', 'gordar', 'devolvar', 'autoinvest', 'abusa', 'atormentar', 'plaforma', 'decada', 'motoboy', 'retiro', 'gostaria', 'ligam', 'consultora', 'iniciario', 'decepcionante', 'retir', 'andeer', 'dei', 'generico', 'considerome', 'discernimento', 'liability', 'grosseiro', 'fiskare', 'irei', 'enquadro', 'isencoes', 'teston', 'rodadadeinvestimento', 'operacoessocietaria', 'erros', 'prateleiro', 'aplicavel', 'cimaaa', 'inspiracomo', 'admiroseu', 'estorio', 'lindaparabem', 'graduouse', 'purdue', 'proclamo', 'annanikolg', 'lov', 'amordemae', 'familiaprojetodedeus', 'arrebentenoinsta', 'revolucionainstagr', 'financascomportamental', 'lifeinsurance', 'pvianna', 'rizaasset', 'gamhamos', 'httpswwwamgcapitalcombrblogdicasresenhadolivroinvestimentosumlivrodesegredoseconselho', 'invistasemmedo', 'educadorfinanceiro', 'mudabrasil', 'assira', 'desentendimento', 'prover', 'kucoin', 'huobir', 'gateway', 'pp', 'livecoim', 'parado', 'esclareci', 'tracei', 'famira', 'aguentir', 'professormirar', 'mepoupenaweb', 'minhacarteiranumero', 'muuuito', 'utilizalar', 'amario', 'concetrar', 'decidi', 'silenciado', 'contablack', 'vambor', 'recebo', 'knobel', 'israelita', 'juventude', 'novissimo', 'crmnoo', 'vese', 'ergonomia', 'fluer', 'istracoes', 'climatizacao', 'vazer', 'externamente', 'simbolizar', 'consonancia', 'tecnologicamente', 'laptop', 'affff', 'denovo', 'pfr', 'miamifl', 'andbankbrasil', 'azulinhasaereo', 'neoinvestimento', 'schrodersglobal', 'avenuesecurities', 'portogallofamilyoffice', 'talergestaodepatrimonio', 'apexinvestimento', 'betamindrh', 'majorisinvestimento', 'modabagoficial', 'pratapolo', 'penedoborges', 'panambycapital', 'womeninvest', 'contramao', 'paraliso', 'curtiurs', 'punir', 'motorista', 'impunidade', 'possuia', 'configuracao', 'insistente', 'destruirar', 'minh', 'cagada', 'ferr', 'beijor', 'cessar', 'desmotivar', 'agarrar', 'almejam', 'faixar', 'etario', 'former', 'consultorfinanceiro', 'apanhalar', 'perfume', 'cheiro', 'frescor', 'delicadezar', 'petala', 'macia', 'rds', 'naoa', 'indique', 'dispensavel', 'marcilio', 'bandidagem', 'eleitoreiro', 'xy', 'kskskskskd', 'jumentinho', 'bolsominion', 'xxxyproximo', 'disponibilizarao', 'vistatermo', 'hr', 'rh', 'pra', 'agilizer', 'tchar', 'tchebrasilltda', 'guarda', 'lasquir', 'sidney', 'hago', 'ninguna', 'razon', 'verdad', 'dichar', 'merecen', 'negare', 'celoso', 'trabajo', 'habilidad', 'orgulloso', 'necesitamos', 'padariasno', 'bibi', 'jesuino', 'pensavamos', 'quadrado', 'belissima', 'explorada', 'gastronomico', 'quadrasbeachtennis', 'itaimbibir', 'gastronomio', 'riscar', 'porsches', 'maritimo', 'rasgar', 'transportar', 'emirado', 'baleio', 'pirata', 'golfo', 'persico', 'descarregar', 'mantimento', 'confinado', 'desembarquei', 'odisseio', 'influenciei', 'tooooope', 'late', 'may', 'conglomerate', 'announced', 'acquisition', 'sells', 'organic', 'suplements', 'cosmetics', 'assisted', 'transaction', 'advised', 'ptbr', 'puravido', 'cosmetico', 'btgmodel', 'smile', 'pose', 'model', 'beauty', 'blogueira', 'blogger', 'followme', 'liketime', 'malandragem', 'exist', 'progride', 'vlm', 'spam', 'respondir', 'jajannematto', 'janemato', 'mulheresempoderado', 'mulhernomercadofinanceiro', 'recomendario', 'jabour', 'chapeu', 'liquidacoe', 'liquidacoes', 'vert', 'caix', 'claudiaonlinar', 'pulo', 'paridade', 'trechinho', 'daianedossanto', 'vidafinanceiro', 'oratoria', 'prazeiroso', 'wesley', 'sila', 'ligarr', 'retornara', 'gricel', 'bobsantoscom', 'sibely', 'reanalises', 'novinha', 'flavioaugusto', 'paineiso', 'veracidade', 'miguel', 'helder', 'winkler', 'ronaldocerqueira', 'fontedafortuna', 'leigo', 'pagamentosabar', 'cairio', 'bondoso', 'rezar', 'dayoneproducoes', 'bhcenografia', 'ceno', 'cenografiadeevento', 'cenografiacorporativo', 'marcenaria', 'httpsamginvestimentosbtgtalkslive', 'btgtlaks', 'abordarar', 'mimico', 'perca', 'fasso', 'reequilibrar', 'sofrimento', 'fundodegarantir', 'equilibriofinanceiro', 'replayr', 'sugar', 'daddy', 'parceriaprestacao', 'conversarr', 'conhecermos', 'sociafundadora', 'saro', 'afiliar', 'noba', 'nap', 'vpu', 'custom', 'aloooo', 'vejp', 'yengo', 'explicacoe', 'intrressar', 'ondustroa', 'info', 'ppr', 'desconfiar', 'latinoamericano', 'caribenha', 'realizaremos', 'ciranda', 'sociocultural', 'mobilizar', 'igualitar', 'antirracista', 'massar', 'ciclica', 'paralelamente', 'trocarir', 'tecnologiablockchain', 'mercadopago', 'pagbank', 'narnio', 'reparcelar', 'botafogo', 'intimos', 'severa', 'vaquinha', 'oiii', 'rastrear', 'lisonjear', 'proter', 'apliquar', 'nonbank', 'marciaischneidercom', 'embrionar', 'unb', 'pioneira', 'nanotecnologio', 'fitoterapico', 'candidatar', 'nanomolecular', 'tania', 'fumo', 'placebrasil', 'indiferenco', 'oracao', 'vei', 'scatalo', 'integrador', 'fone', 'financiamentohabitacional', 'luminariasdecorativo', 'casapropria', 'caixaeconomicafederal', 'energiafotovoltaico', 'projetoinovador', 'engenhariaeletrico', 'financiamentoenergiasolar', 'aneel', 'aumentodeenergiar', 'poluir', 'rodada', 'download', 'ray', 'dalio', 'proverar', 'coletanear', 'descrer', 'diagnostique', 'audaciosa', 'falharmos', 'repetirr', 'modus', 'operandi', 'resumido', 'fracassar', 'diagnosticar', 'redesenhar', 'httpswwwamgcapitalcombrblogdicasresenhadolivroprincipiosraydalio', 'spoten', 'soujorgeoliveirar', 'turbinar', 'revendedor', 'aracajusalvador', 'aparelho', 'novoslacrado', 'macbookair', 'macbookairm', 'ipadaracaju', 'applearacaju', 'ipad', 'diadospal', 'diadospaischegar', 'itabaiano', 'cumplice', 'larapio', 'fluir', 'capellato', 'remuneracoes', 'amortizacoes', 'securitizadoro', 'requerimento', 'autir', 'atinja', 'destoar', 'habitacao', 'qualitativo', 'mwndar', 'envestimento', 'indicativo', 'cartar', 'sorry', 'transferirviar', 'rosar', 'benfatti', 'entrear', 'detalh', 'motorsp', 'puc', 'docente', 'napucmino', 'iecpucmina', 'vianaassi', 'apolocferreiro', 'ricmedicidrubscky', 'leolimo', 'biondifernar', 'adrianasole', 'alexandrelpinheiro', 'bancobdmg', 'bancosemear', 'vermontinvestimento', 'tiv', 'canabisr', 'temerario', 'inexperiente', 'banana', 'moco', 'imprimi', 'assinei', 'preaprovar', 'queria', 'rmil', 'ooi', 'desejarer', 'avalistar', 'bezzos', 'renangaldino', 'brasilempresario', 'emergencial', 'descapitalizar', 'letrar', 'garantido', 'lig', 'promissorio', 'creditorio', 'fip', 'weccast', 'gate', 'perderar', 'prisioneiro', 'nerudar', 'genesi', 'genesis', 'arbitrio', 'comcertezs', 'compartilhem', 'vigilar', 'sfcsupervisor', 'prestanr', 'eso', 'dependier', 'conozcalo', 'adri', 'tamarozzi', 'despedir', 'funcionaria', 'apaixoneir', 'desanima', 'dri', 'corporacao', 'arquitetonico', 'oferecar', 'inspireser', 'bassetti', 'romulo', 'fialdini', 'trench', 'watanabe', 'perkinsandwilr', 'emergencer', 'httpswwwamgcapitalcombrblogdicassaibaoqueereservadeemergenciaflutuanteecomoutilizala', 'passageiro', 'airbnb', 'temporar', 'demonstracao', 'seguirmo', 'ari', 'canaloff', 'pvbi', 'mudir', 'ecm', 'articulan', 'principale', 'cifr', 'encostar', 'temor', 'sparo', 'mf', 'entrara', 'fita', 'beachtennissorocaba', 'abusar', 'roda', 'forbes', 'assi', 'comprinha', 'desconexao', 'nutrir', 'deterior', 'dogma', 'semiescrar', 'precarizacao', 'mentalid', 'eventao', 'experimentei', 'insuportavel', 'entrepreneurship', 'queeroo', 'volateisno', 'ottogspareeberg', 'plus', 'englishr', 'avg', 'andressa', 'meninaaa', 'complexidade', 'entreforro', 'hidraulico', 'arcondicionar', 'compatibilizar', 'amplitude', 'multifuncional', 'luminotecnico', 'exploramos', 'amadeirar', 'drywall', 'dougla', 'tolaine', 'quadricular', 'ripar', 'mineral', 'placar', 'vidal', 'pompeo', 'desafiadora', 'impecar', 'tiagoasilvaoficial', 'pontape', 'agronomiar', 'engenhario', 'desenvolvar', 'xpin', 'jeh', 'recebelar', 'precoalvo', 'hummel', 'cxbrinvestimento', 'vitalemarco', 'portopar', 'analopesinveste', 'fluzaooo', 'modelagem', 'reforco', 'consequente', 'concretizarar', 'encaminhamento', 'restricao', 'confidencialidader', 'subimos', 'vislumbrar', 'abrirmos', 'neeeense', 'baguncaaaar', 'titio', 'fecher', 'vemmmmmmm', 'qr', 'fluzaun', 'existiro', 'fluminese', 'nensee', 'eeeennseeee', 'flusao', 'veemmmmmmmmr', 'fluzaaaaaaaao', 'seleflu', 'nenseeeeee', 'fluuuuuuminense', 'fluuufluuu', 'vascaino', 'maiiiis', 'carajo', 'fluuuuuuuuu', 'pixxxxx', 'dale', 'nenssseeee', 'cntg', 'estareeeeeiiiiii', 'galpo', 'aval', 'pmts', 'prestacoes', 'lineage', 'logistics', 'rsuper', 'cubico', 'pallet', 'hosken', 'incorporadora', 'fu', 'obtenhar', 'nanico', 'akakakkakakaka', 'obsem', 'conseguirer', 'salvem', 'focarer', 'conduzido', 'endividar', 'fpu', 'diferencas', 'comunicacaodecausa', 'assessoriadeimprensar', 'clientesdeproposito', 'colabapp', 'inboxo', 'populacaor', 'gaiamal', 'acelerir', 'focada', 'flowpage', 'httpsconteudoasidbrasilorgbrbtgsomadiversidade', 'baratellar', 'portadora', 'dc', 'turbilhao', 'cotado', 'respeir', 'ommomento', 'atravessanso', 'destespeitoso', 'caralho', 'fluuuuuuuu', 'fluminensr', 'fc', 'porraaaaa', 'citigroup', 'bofa', 'trump', 'muitoooo', 'nuncanuncanunca', 'avisoooooor', 'formaaaa', 'inexplicavel', 'caiupra', 'seriooooo', 'vergonhaa', 'diassss', 'viola', 'sancao', 'conduto', 'alargar', 'creditoverifiquem', 'diaaaaaaaaaa', 'indignar', 'bancoagor', 'nda', 'disponibilizei', 'diretr', 'parcelei', 'catao', 'resultarao', 'inbrad', 'metlife', 'multipatrocinado', 'equi', 'ther', 'rather', 'cambuir', 'cofrinho', 'limitacao', 'wwwbcbgovbrcedulasemoedasmoeda', 'farialimo', 'primesetoficial', 'cordoes', 'feiraseevento', 'cordaopersonalizar', 'primesetcordao', 'cordaoparacracha', 'cordaoparacrachapersonalizar', 'enfiar', 'mudam', 'amorosino', 'maluhy', 'mauacapital', 'armadura', 'forexmoney', 'aaicnpitraderbrasil', 'tradingforex', 'tradinglifestyle', 'cititrader', 'cidadaopromur', 'tranferir', 'novossc', 'herdeiros', 'separacao', 'hospitalar', 'internar', 'afastar', 'marer', 'gestaoderisco', 'btgadvisors', 'mesago', 'perpetuar', 'vulneravel', 'indispensavil', 'coperga', 'wwwinstitutotiagocamiloorgbr', 'polos', 'almeriaresto', 'reducoe', 'achavar', 'compro', 'economiaenegocio', 'ucleorenangaldino', 'tactical', 'bondsr', 'verifique', 'wit', 'revistawit', 'jornaloceleiro', 'wwwbtgpactualcominvestmentbank', 'umavez', 'fluuuzaao', 'associacaoacorde', 'cocriador', 'orlar', 'avila', 'tevaindice', 'experts', 'traderiniciante', 'expoagrogoiatuba', 'avilar', 'mercadoindependente', 'prevalecer', 'barganha', 'iludar', 'julgam', 'brincam', 'interessadas', 'fabrico', 'ecessitamo', 'odontologico', 'formidavel', 'investimentospessoajuridicar', 'investimentospessoafisicar', 'sinimplantsysyem', 'promovemos', 'manifestamos', 'apoyo', 'adhesion', 'declaracion', 'responsable', 'desarrollosostenible', 'inversionresponsable', 'objetivosdedesarrollosostenible', 'copiar', 'apicoloto', 'saadtemer', 'primeservlog', 'negociosemexpansao', 'tudinho', 'elancobrasil', 'agrario', 'topa', 'caraiii', 'isaquedesouzza', 'anapoli', 'qro', 'reunirer', 'donacoelho', 'paraazer', 'regua', 'orgasmos', 'coelha', 'mozao', 'renandepaula', 'irio', 'inconscientemente', 'funcoes', 'officeboy', 'pvc', 'contrucao', 'irrigacao', 'guinar', 'ledwave', 'recomecei', 'irmar', 'socer', 'tropeco', 'supremo', 'irmo', 'profiss', 'pelada', 'guidofr', 'facao', 'rsilvar', 'globalizacaor', 'whelan', 'vilain', 'revigora', 'conhecelo', 'erichdecat', 'moderando', 'dcunha', 'saviobarboso', 'cenarioglobal', 'prosper', 'rincoes', 'demonstrativo', 'cacnogueira', 'ek', 'designer', 'grife', 'adriane', 'jesusmeudeus', 'elenca', 'nocaminhodobem', 'estavamos', 'redfoxtech', 'imparavel', 'pla', 'augola', 'toki', 'barolander', 'plemio', 'caopeao', 'juscelino', 'kubitschek', 'gudeagenciagude', 'pactualbtgpactual', 'sbsomluz', 'seguite', 'sub', 'utilizamos', 'console', 'cl', 'microfone', 'urd', 'sorporation', 'brandexperience', 'ippon', 'dentzoficial', 'escolhido', 'odontologia', 'dentz', 'franquear', 'dentista', 'felipeprandinite', 'carloseduardoallegrettir', 'categorir', 'divisaor', 'aparecemo', 'rankear', 'sustentacao', 'alinhamos', 'feliznapri', 'missed', 'dressed', 'overall', 'trouxeinha', 'memorie', 'egociosdamod', 'teriamo', 'barboso', 'plural', 'erich', 'decat', 'arano', 'tonar', 'sermós', 'muitissimo', 'wwwwomeninvestsummitcombr', 'andershartington', 'frictionless', 'coar', 'sauterdigital', 'clientenobrepress', 'entiar', 'silvaferreira', 'ginasta', 'valorizo', 'winedoc', 'lisadossi', 'menuharmonizar', 'vinhoecomida', 'winebusiness', 'sommelierdevinho', 'vinhobrasileiro', 'vinhotinto', 'vinhobranco', 'maiscafe', 'garemarques', 'alanparise', 'hilstonguerim', 'intermediadora', 'carteir', 'usala', 'dogecoin', 'doge', 'solano', 'solucoel', 'supervisionar', 'fogem', 'dinheiroextra', 'desumano', 'violam', 'patologia', 'oxiiiii', 'pedal', 'abqm', 'beautiful', 'cowgirl', 'picoftheday', 'cute', 'xpeedschool', 'casal', 'gravidez', 'quantificacao', 'mauabank', 'contabilidadeat', 'imoveisflutuante', 'literaciafinanceira', 'vidacentrodefertilidade', 'fiv', 'negociosemsaude', 'infertilidade', 'bandir', 'rodrigozmelo', 'senacpb', 'matheusmullersp', 'lucassacavalcantir', 'bbtg', 'lullaproceder', 'fraudulenta', 'solto', 'euromonitorintl', 'excelencer', 'afffffffr', 'seifoi', 'oncoguiaoncofriendsamigosdaquimiodefesadireitodosidoso', 'desrespeitar', 'cronico', 'wiseaad', 'perverso', 'tapete', 'bo', 'treidar', 'fixacurva', 'precifica', 'antever', 'mercadfinanceiro', 'alphaville', 'assessoriafinanceiro', 'unentelbr', 'adl', 'fy', 'bomba', 'incauto', 'otificacoes', 'sininho', 'mentirer', 'rocco', 'apexpartners', 'cindy', 'bandana', 'sibara', 'balneario', 'camborir', 'piero', 'adair', 'naspolini', 'chedir', 'congelar', 'fazelo', 'vendido', 'mecanismos', 'subramanian', 'kuppuswami', 'tatar', 'consultancy', 'eugenia', 'buosi', 'resultante', 'desnecessaria', 'camara', 'fazendeiror', 'ineficaciar', 'repr', 'evangelista', 'criadora', 'plr', 'leila', 'neme', 'yacoub', 'salviato', 'livepodcast', 'falabancario', 'kellyevangelista', 'compactua', 'dizemer', 'careful', 'conivente', 'covardio', 'tretar', 'mascara', 'compactuar', 'cantar', 'haaaai', 'sacramento', 'marianasacramento', 'magro', 'proa', 'alinidalmagro', 'institutoproa', 'manifestemse', 'desabafo', 'memesbrasil', 'impune', 'agrolinkr', 'entenderio', 'softexpert', 'alusaor', 'temir', 'antagonistar', 'tourinho', 'notoriedade', 'dinamismo', 'domar', 'indominavel', 'consistencio', 'bullish', 'desmontar', 'fundacaolemann', 'balde', 'httpswwwamgcapitalcombrbloginvestimentoscomoorganizarseuorcamentocomateoriadosbalde', 'bacana', 'mailson', 'aplicativoaguardo', 'tardar', 'mesmooooo', 'dievili', 'intencoe', 'ginastica', 'jefferson', 'tauansmato', 'diogobzzr', 'perifer', 'reprogramar', 'habitar', 'azulviagem', 'thisisbillgate', 'sortudo', 'cnae', 'medicalsanbr', 'cenaefcee', 'valoresdor', 'estrelar', 'tantan', 'masterclass', 'presidi', 'implor', 'carissir', 'assentado', 'hipocrito', 'pouquissima', 'precisavamo', 'bot', 'edraposooficial', 'edraposo', 'andreesteve', 'indevidamente', 'supostamente', 'taken', 'avaaraujo', 'depicts', 'lasquem', 'sandracanella', 'proaltooficial', 'flsport', 'adelbrasfitasadesivo', 'demarchioficial', 'ciepbrasil', 'alfalog', 'sportlifevin', 'cameraftv', 'ftv', 'futevoleivinhedo', 'pensaor', 'cro', 'demoday', 'mola', 'molacorban', 'confirmo', 'certissimar', 'dividendosrendimento', 'misturados', 'historiador', 'juracimoreira', 'netopixel', 'extenista', 'saretta', 'arcahorginvestimento', 'silenciar', 'endeavor', 'reconhecido', 'unicoidtech', 'meukovi', 'classificada', 'enche', 'scaleups', 'reconhecir', 'learningvillagebr', 'roteiro', 'mei', 'diaaaaa', 'olher', 'mtaaaa', 'risadaaaaa', 'boraaaaaa', 'jahcuida', 'thekingiscoming', 'buka', 'esperto', 'cano', 'idpgo', 'sentirar', 'damiaosalves', 'jhonnfischer', 'jadersateles', 'escandalo', 'tradersclub', 'assessoriadeinvestimentoscgr', 'exatleta', 'relaxar', 'noutra', 'bichiii', 'aumiguinhar', 'panqueco', 'myntegration', 'gustavoborges', 'reconecton', 'rosangelawmoro', 'joseneumannepinto', 'oancelmogois', 'agazetaesr', 'grupoatarde', 'mdbgoio', 'marceloqueirogar', 'risado', 'vitalidade', 'atraar', 'uce', 'lho', 'saaaaa', 'haiti', 'mdbgoia', 'mdbmulhersaopaulo', 'psolrj', 'oabsantacatarina', 'bloombergbrasil', 'foyer', 'somosinsper', 'feiradecarreira', 'feiradestagio', 'esverdear', 'lese', 'piramidir', 'logo', 'opcional', 'superir', 'carteirarecomendadabtg', 'vish', 'familiarizar', 'medicinal', 'limita', 'sechat', 'mercadoglobal', 'futurodacannabis', 'greccomarcelo', 'thegreenhub', 'aproveitamos', 'vertua', 'rbrpr', 'somarr', 'assetstrategy', 'academico', 'fabriciomaniglia', 'nobres', 'maniglia', 'kendy', 'toyofuku', 'olhadinhar', 'maliciosamente', 'bancosdeinvestimento', 'spiritsp', 'permissao', 'encerr', 'faixapreto', 'wwwwiseaaicombr', 'carteirarecome', 'assistencial', 'associacaoacorder', 'mcd', 'assistencialismo', 'reelsviral', 'posteie', 'jurosselic', 'preciser', 'cirurgia', 'teriar', 'humanamente', 'palestracurso', 'mo', 'corpoma', 'analisesucesso', 'empreendedoresde', 'cobert', 'hra', 'religamento', 'saracur', 'escultor', 'cidadecriativo', 'gradil', 'academiar', 'totem', 'flags', 'ppp', 'fecomerciorj', 'sescrio', 'senac', 'zonasulsupermercar', 'minim', 'arrumar', 'ineficiencia', 'safar', 'velo', 'tenhar', 'chegare', 'newsun', 'briefings', 'branding', 'landing', 'pages', 'sotwar', 'pixlr', 'adobecreativecloud', 'wordpressdotcom', 'elementor', 'canva', 'wondershare', 'teslamotor', 'insectashoes', 'togetherbandofficial', 'shimadaagro', 'euforia', 'afirmativo', 'precise', 'proatividade', 'impressa', 'revistapoder', 'poderonline', 'glamurama', 'joycepascowitch', 'miriansalomao', 'copia', 'tevisar', 'pch', 'povoacao', 'tropicalia', 'transmissor', 'ademaisri', 'revogar', 'relatora', 'indeferido', 'superficiario', 'envolvio', 'coktail', 'privativo', 'consultoriapascalvalero', 'erickdomenico', 'romulogiponi', 'rucoutinho', 'combustiveisentre', 'melhorarer', 'omissao', 'propo', 'patrimoni', 'stelleotolda', 'mercadofinaceiro', 'chimamanda', 'adichie', 'awcapital', 'editoraleader', 'coautora', 'alecavalcante', 'alea', 'fiszpan', 'abelim', 'rafaela', 'danzi', 'manzi', 'mariso', 'coragemr', 'liderancafeminino', 'diversidadeeinclusao', 'mulheresquetransformar', 'madrugar', 'videar', 'canabi', 'consequencio', 'chic', 'estabeleca', 'estreito', 'expresso', 'abencoado', 'comprometar', 'explicito', 'avaliem', 'gonzalez', 'instru', 'peugeot', 'desinvestimento', 'evitandose', 'separada', 'bvaz', 'dorna', 'jorgemeirele', 'sindicatoruraldeluziania', 'sarahthumir', 'armandorollemberg', 'manoeldecastrojunior', 'j', 'claudiacastrooliveira', 'oclneto', 'carolhaf', 'fda', 'dolorir', 'alteracoe', 'graficasantaluziabsb', 'mesaposta', 'andreahomedecor', 'filipe', 'absr', 'english', 'stopar', 'motocicleta', 'godistribuicao', 'senarbrasil', 'engnylloherculy', 'sindicatoruraldecabeceira', 'ifaggo', 'sebraer', 'sebraegoia', 'agrobayerbrasil', 'nissanbrasil', 'gruposagaoficial', 'sistemafaegr', 'senargo', 'atedimento', 'divirto', 'dizrepresentar', 'comunhao', 'revertidar', 'investimentoemfundolmobiliario', 'fundolmobiliario', 'seumelhorativo', 'incetivo', 'apresente', 'noturno', 'atualizamo', 'olucasmagalhaes', 'salva', 'resumodfii', 'meudinheiroativo', 'rect', 'intencionar', 'ignorante', 'prorrogadas', 'persistir', 'atratividade', 'azquest', 'opportunitygestor', 'fundosdejulho', 'huahuahuahua', 'vagabunr', 'fechadocombolsonaro', 'abrangente', 'carder', 'passarelli', 'mccardell', 'parreirar', 'delgar', 'fresneda', 'bistro', 'pascal', 'valero', 'inguedeswetrust', 'xd', 'ironer', 'afff', 'chamariz', 'faloue', 'bolsonaaaaro', 'seloko', 'palanque', 'celebridadeciro', 'paulinho', 'tirador', 'america', 'maca', 'founding', 'debevoiseandplimptonucl', 'carlosportugalgouvea', 'due', 'diligencer', 'petri', 'conjugar', 'complianceantidiscriminatorio', 'publiquei', 'revistadostribunal', 'fusoeseaquisicoes', 'duediligence', 'advocaciaempresarial', 'desculper', 'asco', 'conveniencia', 'conchavo', 'desprovir', 'aiiii', 'agum', 'cogno', 'pasta', 'assalariar', 'enganaca', 'reaceleracao', 'valeminerio', 'ferro', 'corretoradevalor', 'atrativa', 'consideracoes', 'conhecida', 'pesquise', 'confrontar', 'economicapoliticar', 'httpsseveninvestormacrodaylive', 'voaprosperidade', 'aquisitivo', 'prioridades', 'envestir', 'anita', 'normally', 'comment', 'felt', 'compelled', 'add', 'thousands', 'benefited', 'generosity', 'precious', 'few', 'genuinely', 'industry', 'blessing', 'folhadelondrina', 'marcosmontescordeiror', 'cnnoticia', 'uniaobrasildf', 'uniaobrasilpr', 'uniaobrasilmulheroficial', 'uniaobrasilmt', 'pdtdiretorioestadualsp', 'tvgazetaes', 'colocalo', 'httpwwwmacrodaylive', 'salesman', 'achismo', 'confrade', 'inigualavel', 'onibu', 'acatar', 'peticao', 'mostrasse', 'clausula', 'prer', 'fundoimob', 'odeia', 'criptonizandocom', 'ibiuna', 'vardan', 'papikyanunsplashr', 'encontr', 'arranjo', 'casaperlage', 'mentirio', 'vempraplantare', 'sensacoe', 'drop', 'colete', 'fl', 'jetson', 'facamo', 'fabriciostagliano', 'pedroalxmoreirar', 'relacional', 'afirmo', 'serena', 'respiracaor', 'inovaacao', 'inovacdl', 'abordarao', 'especialist', 'elegivil', 'comprovavel', 'estatuto', 'minoritario', 'lgbtq', 'paleta', 'roubalheiro', 'piorcorretora', 'assistio', 'bomja', 'maisbora', 'lindeza', 'hrsrsnao', 'bigio', 'porciuncular', 'grexplodeoriginal', 'feiradamusicagr', 'valoeconomico', 'leandrocastan', 'castan', 'instantaneo', 'asfaltar', 'comuno', 'simpatia', 'admiralo', 'elcjr', 'akiraedu', 'pauletobarreto', 'avnafl', 'aer', 'appiar', 'ceiminoso', 'lucur', 'arterio', 'aparencia', 'realizacoe', 'lifetimeanos', 'birthday', 'nunessilvat', 'andressabergamoavg', 'abergamo', 'ilbaristacafe', 'rose', 'fazendacapoeiracoffee', 'inspiradorar', 'marisasousacontrera', 'iaminstitutoamoremmecha', 'cafecomproposito', 'cancerdemamar', 'debatir', 'calibrado', 'arton', 'desculpar', 'bcs', 'bixo', 'mangoloide', 'resultad', 'adele', 'restinho', 'meireles', 'cannabisironico', 'doria', 'repeti', 'politicalia', 'infeliz', 'cidadaoo', 'cartilha', 'inapropriadaestar', 'inveja', 'diamante', 'serenata', 'valsa', 'bis', 'ericareisdecalcadecouroparasemprar', 'computacional', 'necessito', 'geminiano', 'peixe', 'ascendente', 'diferentao', 'acillondrinar', 'acillondrina', 'vamosdesenvolverlondrino', 'lembranco', 'cria', 'doriano', 'carambar', 'ptg', 'organismo', 'usurpam', 'nojo', 'libre', 'patriota', 'admir', 'zombar', 'empreendorismo', 'chuta', 'macu', 'maiorconhecido', 'compactuer', 'cy', 'byndar', 'fantocher', 'hagana', 'rodo', 'guiaderor', 'presencio', 'aproximarse', 'familiarizarse', 'grupohagana', 'amchambrasil', 'brpropertie', 'brookfieldpropertie', 'cbrer', 'cushman', 'eztec', 'greenbuildingcouncil', 'gtispartner', 'hilton', 'inovabrar', 'leroymerlin', 'linkschoolofbusiness', 'netflix', 'opussoftware', 'palaciotangara', 'pepsico', 'saocarlo', 'sky', 'sxnegocio', 'trendmicro', 'vbirealstate', 'wework', 'gaucha', 'pharoscorp', 'exaltar', 'httppalkccblog', 'contatocc', 'palkhubdenegocio', 'curadoriacomercial', 'gestaopatrimonial', 'mercadofinanceirobrasil', 'caxiasdosulrs', 'concorde', 'snowflake', 'raddard', 'ix', 'sidneyferreirar', 'amolar', 'postado', 'inquestionavel', 'fechadissimocombolsonaro', 'certificadora', 'investday', 'certificadoro', 'labio', 'digitados', 'cupar', 'buggs', 'ficalizar', 'enforcar', 'qamal', 'churrasco', 'retro', 'batucadaboa', 'englobar', 'sanar', 'comodite', 'custa', 'dicir', 'presidenre', 'estatizacao', 'responsabilizacao', 'roubo', 'morto', 'esquecido', 'ntnb', 'ntnbs', 'titulosprivar', 'tesouroipca', 'gamar', 'concretizalo', 'rezir', 'estadaorj', 'jornaldoborisverdade', 'jornalnacionalfc', 'temse', 'desistencia', 'janones', 'anularer', 'desaprovo', 'segmentacoes', 'httpslbtgpactualcom', 'desinstalei', 'instalei', 'efetiva', 'criptoativar', 'xtageco', 'estrondoso', 'seudinheiro', 'ondeinvestir', 'btgzbn', 'diz', 'prrcisar', 'tentano', 'pa', 'estano', 'rafaeljacobfisio', 'circuitoflagaveadetenis', 'endorfino', 'orthopride', 'roubalo', 'drogariasbigbenoficial', 'pharmar', 'lacuna', 'distrital', 'guararapes', 'farmal', 'carina', 'ben', 'drogaria', 'muuuu', 'retencoe', 'despacho', 'planilha', 'roque', 'omyntouchegar', 'vempramynt', 'nicetomyntyou', 'myntar', 'amer', 'pao', 'padario', 'acougar', 'drogar', 'kanchanaraunsplash', 'finsiders', 'financialservice', 'digitar', 'itaubba', 'bsebarcelona', 'vakinho', 'doutorar', 'terraco', 'terracoeconomico', 'mandamos', 'yale', 'ylainetwork', 'renovabr', 'defenderar', 'httpswwwquero', 'pedaco', 'wwwboletimbitcoincom', 'franciscu', 'coceo', 'bomesp', 'empolgado', 'tokenizadas', 'contribuira', 'inovarmos', 'tokem', 'tokenizar', 'tokenizada', 'retrasar', 'mentir', 'ogiganteacordar', 'frutiferar', 'escolhelar', 'srs', 'sindicato', 'perpetuacao', 'invistadeverdade', 'invistaemconhecimento', 'disfarcar', 'dispenso', 'falarafffff', 'delss', 'mesgostar', 'habitese', 'leasing', 'abcdm', 'casedesucesso', 'paulobiorealestate', 'parceriasesucesso', 'inside', 'extinguir', 'inexistencia', 'procedencia', 'peticoes', 'averbacoes', 'onus', 'higido', 'matricul', 'comprometeuse', 'formular', 'surpreendente', 'review', 'httpswwwamgcapitalcombrbloginvestimentoscomoseprotegerdainflacaodescubraondeinvestir', 'deben', 'delfosinvestimento', 'credpago', 'fiador', 'gruposabemi', 'zitelmann', 'rzitelmann', 'financeito', 'representate', 'estusiasmar', 'adaptabilidade', 'operacaoportuario', 'operadorlogistico', 'portodesalvador', 'portodeilheu', 'portodearatur', 'agenciamaritima', 'agenciamentomaritimo', 'terminalalfandegar', 'centrodedistribuicao', 'transportadora', 'transporterodoviario', 'shipping', 'maritimeagency', 'bondedwharehouse', 'husbandry', 'portoperatiom', 'terminalhandling', 'ahahahaha', 'tiiii', 'amamilha', 'convencaor', 'onwership', 'migration', 'hehehe', 'refacar', 'furo', 'boco', 'discutida', 'macroeconomics', 'monopolismo', 'liderancaquetransforma', 'transformacaobancario', 'btgsp', 'palomatocci', 'transmissoes', 'capta', 'aplaudir', 'distruir', 'brasileirovai', 'mortal', 'favelado', 'venceni', 'leman', 'deveser', 'contrar', 'miagui', 'moises', 'researchsr', 'levanto', 'mahfrien', 'masterchefbr', 'investirecocar', 'sobrevive', 'licencio', 'amplio', 'desarrollar', 'actividade', 'tercero', 'multiple', 'ancho', 'metrica', 'bobagem', 'argumenta', 'alianca', 'honesta', 'cogna', 'meo', 'tijucano', 'bicalhojulio', 'styleoftheday', 'stylishr', 'lookdodio', 'fashionstyle', 'duelodelooks', 'tvhost', 'redetvnews', 'looksfeminino', 'luladrao', 'lulanacadeiar', 'liberalismoeconomico', 'politicoscolabor', 'macrodaylive', 'amablack', 'gmontezano', 'lulanuncamal', 'abracar', 'vidaverde', 'abracearvor', 'planteamor', 'economicapolitico', 'abrangir', 'reintegrar', 'imovil', 'concluido', 'abencoalo', 'suposto', 'perdoemer', 'legitimidade', 'ouvia', 'nun', 'rainhar', 'obtive', 'ouvimos', 'gigantescomnumo', 'lenda', 'ls', 'petrolinar', 'faegsenas', 'schreiner', 'caiar', 'verpresenciar', 'tamar', 'marinasauter', 'agriculturaurbano', 'jovenslider', 'produtorrural', 'umcartao', 'ploretariodo', 'usem', 'movimente', 'rafaelfavetti', 'rovertraining', 'eeee', 'diazinho', 'regravar', 'alooo', 'ptnaoptnuncamal', 'ruinr', 'aeeee', 'totoalbanoalbano', 'absurr', 'amenizar', 'artificialmente', 'tregua', 'met', 'trend', 'escroto', 'dilma', 'distribuia', 'sociosdiretor', 'akira', 'siqueira', 'politicoeconomico', 'hoffmann', 'exfed', 'auxilarmos', 'ffgbank', 'abriremo', 'divulgaremo', 'esclarecedora', 'fala', 'cefr', 'macroeconomei', 'middle', 'risk', 'gostinho', 'dowhatyoulover', 'companheirismo', 'bolivia', 'criancasadolescente', 'iri', 'celia', 'cabanello', 'zannini', 'bolpebrar', 'bolpebrabolivio', 'deslocar', 'kairala', 'karaila', 'brasileio', 'inapari', 'inhapariperu', 'psicologar', 'carstem', 'politicaspublico', 'darvoz', 'ciclovia', 'planeto', 'midias', 'arquiteturar', 'pcp', 'debatido', 'marlene', 'selmo', 'inflar', 'moderado', 'vamoooos', 'anjudar', 'enxugar', 'geloenquanto', 'safado', 'ciclista', 'pg', 'hadad', 'embaixadora', 'tvcrcnews', 'quentinha', 'institutofsbpesquisa', 'vanessafederal', 'institutobaccare', 'capitalizacao', 'destacamse', 'empresasbrasileira', 'marketcap', 'comunicado', 'suspendir', 'anulacao', 'agravo', 'suspensaor', 'anular', 'catttorr', 'baldarena', 'callbear', 'lx', 'viaje', 'renancalheiros', 'piracicabahoje', 'psoldf', 'psolrnr', 'globolixo', 'bruninhamontibeller', 'traderevolutionbr', 'wwwcititradercombrmembro', 'reorganizacao', 'macronacional', 'ericavianaa', 'karlaaguiar', 'lilianholanda', 'hyagonery', 'danielcosta', 'maiakarine', 'juareznapoleao', 'prefiri', 'stefaniebirman', 'santucci', 'maureenmelo', 'estrategistar', 'btb', 'reitor', 'villain', 'desenha', 'regulator', 'legislativo', 'carolinebcouto', 'imagemr', 'boletimfocu', 'boletimfocussemanal', 'relatoriofocus', 'xavier', 'menezes', 'tgmc', 'educacaofincaneiro', 'faculr', 'httpsbitlybtgfaztechufrj', 'posturo', 'incertezar', 'panico', 'investidoriniciante', 'investidorveterano', 'volatilidadedomercar', 'promagno', 'protagonistaagil', 'andersonribeirooficial', 'businessagility', 'protagonistasagel', 'yara', 'yaratdc', 'zaparolli', 'marianazaparolli', 'thyago', 'bobsin', 'eduardobobsin', 'cleiton', 'mafra', 'cacoxp', 'consolmagno', 'laurafernando', 'guaycara', 'guaycarag', 'erika', 'viviani', 'schneider', 'erikaferrarivivianischneider', 'katsuren', 'katsurenmachar', 'urushibato', 'urushibata', 'alessandro', 'agility', 'brilhantemente', 'bartosiaki', 'zup', 'zupinnovation', 'encantech', 'nuvenshop', 'nuvemshop', 'dock', 'docktech', 'intelr', 'intel', 'hat', 'redhatinc', 'turing', 'turingcombra', 'recruiter', 'desenvolvedoro', 'vemsemmedodeserfeliz', 'pessoasdesenvolvedor', 'dotenet', 'flutter', 'aws', 'equivalencia', 'cdir', 'susto', 'regemr', 'paravp', 'paral', 'evebit', 'mebit', 'roe', 'mire', 'quota', 'rubiinvestimento', 'geracaobtg', 'recrutar', 'desenvolverar', 'ed', 'milena', 'veiga', 'microfrontendsr', 'httpssacredigitalliveig', 'santossp', 'relationship', 'goo', 'vamoooo', 'artemi', 'sfiinvestimento', 'fundoartemi', 'atoresssss', 'cidadoe', 'ajudemos', 'entedimento', 'avos', 'deuso', 'cristianismoo', 'biblio', 'deuscriador', 'quisermos', 'amem', 'estruturada', 'dasilva', 'leveeeee', 'globotvr', 'bolsonaroarrastamultidoes', 'vaiserbolsonaronoprimeitoturnosim', 'deixe', 'mentalidadedesucesso', 'mentemilionar', 'pessoasrico', 'atitudepositivo', 'bsdesigncorporate', 'saleteemsociedade', 'empresariaisbranding', 'sutil', 'amarelaoazulao', 'humanoa', 'estatico', 'loguei', 'sutilmente', 'frieza', 'mero', 'fachar', 'mege', 'reconhece', 'sintese', 'testers', 'gamer', 'makers', 'gsanto', 'iago', 'awsdevopsengineer', 'googledevs', 'playersbank', 'ideapublicidade', 'thedeveloperconference', 'developer', 'coding', 'frontenddeveloper', 'rpa', 'roboticprocessautomation', 'robots', 'bots', 'oppen', 'estatutario', 'oneagendar', 'institutoalliancebjj', 'grever', 'iniciador', 'itp', 'personal', 'lasting', 'relationships', 'confidence', 'debrucar', 'rapidinho', 'arterisbr', 'depeduardobolsonaro', 'ccraeroporto', 'gang', 'malar', 'variavei', 'desburocratizar', 'hojalato', 'estanar', 'alambre', 'creo', 'utensilio', 'cocino', 'icono', 'chilena', 'crear', 'anonimamente', 'artesana', 'alrededor', 'llego', 'masifico', 'diseno', 'ingenioso', 'hace', 'funcion', 'invitamo', 'leer', 'resena', 'wwwrevistamateriacom', 'karlar', 'riquelme', 'karliriquelme', 'disenochileno', 'tostadorchileno', 'disenoindustrial', 'disenoindustrialchileno', 'antonieljsilver', 'innovacion', 'sustentable', 'invitamos', 'btgpodcast', 'catalinaed', 'escuchalo', 'auxilie', 'iorio', 'miraglia', 'bingemer', 'fundosdeinvestiment', 'pricilamp', 'estratosferico', 'winwdo', 'yasmim', 'fial', 'accenturar', 'lelelucati', 'cawarick', 'rod', 'executiva', 'especialissima', 'multireceita', 'uinbhkiki', 'bxbbvvv', 'bvn', 'fcvv', 'interna', 'motivacoe', 'inspiracoe', 'sente', 'comments', 'mapeados', 'notir', 'apontado', 'candle', 'ignicao', 'elefante', 'filypele', 'semmarktrader', 'vilhena', 'klausniggl', 'impeacavel', 'manuseto', 'atue', 'alocador', 'bizarrice', 'valueinvestingbrasil', 'financialmarket', 'peninsulamineira', 'warrenbuffett', 'mansuetoalmeido', 'pitstopr', 'lubrax', 'autoservice', 'richardmille', 'indianapolis', 'corridaderua', 'flavao', 'motriz', 'abram', 'delfo', 'afof', 'brl', 'trust', 'migracaor', 'indisponibilidade', 'gravames', 'permanecerao', 'custodiada', 'escrituracaofundoscom', 'deposi', 'joaovcarvalhoaai', 'multiplico', 'simplificacao', 'nine', 'naveguei', 'tiagocarreirar', 'tiagocarreiro', 'comanche', 'rubi', 'centroequestreplenitude', 'strutz', 'andrea', 'tulio', 'presenciamos', 'controlaler', 'identificacoes', 'update', 'descontinuar', 'descrescente', 'subida', 'descir', 'made', 'psk', 'intersolar', 'entusiasta', 'kaltenbach', 'tadeulockermannoficial', 'pierre', 'deleu', 'marciogiacobelli', 'walterhenriqueh', 'joeldeandradejr', 'drmarcelobragar', 'livialockermann', 'caratoficial', 'xand', 'camilasantosv', 'natyferrazzo', 'clubemastermindprotagonistasdobrasil', 'entrevistadora', 'jie', 'zhe', 'chi', 'qian', 'rqian', 'fang', 'kao', 'xxin', 'jjuchi', 'zhua', 'loturco', 'aguilar', 'adicionei', 'criser', 'oliver', 'mizne', 'carramaschi', 'elegivel', 'rinesanto', 'demaaal', 'analisa', 'libano', 'experimental', 'escolagugar', 'escolagugamontelibano', 'montelibano', 'beachtennisrio', 'escolapopeye', 'precario', 'deduzir', 'vgbltambem', 'tributado', 'semestralmente', 'minuciosamente', 'tentativo', 'iriamos', 'descontrair', 'bilionaria', 'calor', 'petroleiro', 'saturar', 'piscar', 'tamaraklink', 'kadimaasset', 'visoes', 'abalizar', 'ambiguidade', 'kawa', 'meetings', 'noixx', 'marinasteixeira', 'laismacedo', 'lidefuturo', 'esteelauderbrasil', 'bmwdobrasil', 'theledoficial', 'danonebrasil', 'amilsaude', 'ciadetalento', 'rihappy', 'spacesbrasil', 'nespresso', 'highlights', 'queridissimo', 'luizcandreva', 'futuristo', 'enxergarr', 'multiplicidade', 'desobediencia', 'perceptivo', 'disperse', 'distracao', 'johnwilliams', 'indianajone', 'et', 'francishime', 'chicobuarque', 'trxl', 'integrativo', 'prq', 'manutencoe', 'aplicacoe', 'transacionar', 'postei', 'trancar', 'partnerhsip', 'impensavel', 'podiar', 'timer', 'independenciafinanceiraindependenciafinanceiraliberdadefinanceirarendapassivarendimentosdividendosfundosimobiliariosfundosimobiliariosfiifiisviverderendafinancasfinancasfinancaspessoaisfinancaspessoaisrendavariavelrendavariavelinvestidormercadofinanceiroetfinvestimentoinvestimentosinvestidoresbolsadevaloresbondseducacaofinanceiraeducacaofinanceirafiagrofiagro', 'luryslimo', 'promocoes', 'luryslima', 'bbcedaafapdf', 'cfbdcacdcapdf', 'ecaacdccccpdf', 'cbdddcffeafdcpdf', 'miraeassetbrasil', 'tulipar', 'ruiz', 'interpretarar', 'album', 'tuliparuiz', 'musicapopular', 'musicaerudito', 'vilamariana', 'grupoultrar', 'vivenda', 'slide', 'httpslbtgpactualcomreclameaqui', 'caracteristico', 'pgblr', 'peculio', 'silmara', 'drezza', 'reginato', 'erudito', 'programao', 'httpsmaspbyinticomeventtemporadainstitutobaccarelli', 'coralheliopoli', 'coralinfantojuvenil', 'coraljuvenil', 'infantojuvenil', 'said', 'tennislovar', 'sportlife', 'healthy', 'perrengues', 'creditoahh', 'formainvestir', 'empurr', 'somemignoram', 'infracoes', 'acreditemser', 'rchristis', 'bsideinvestimento', 'wowbusque', 'aprendi', 'exorbitante', 'bli', 'comemoracoes', 'paesi', 'ho', 'mai', 'veduto', 'vissuto', 'adesso', 'esistono', 'piu', 'karinasouzo', 'piano', 'valozcrypto', 'ptnuncamal', 'mutum', 'acero', 'vegetacao', 'desbastar', 'propagacao', 'supressao', 'tornaramse', 'descrito', 'neh', 'centrohipicodetatuir', 'marchagenuino', 'mangalargamarchador', 'ggrc', 'urpr', 'avenuar', 'filosofiar', 'coaching', 'paulovieiro', 'bestmoments', 'clovisdebarrosfilho', 'debocham', 'colo', 'tendencar', 'adotem', 'lendo', 'vinicolo', 'argiano', 'bestperformerbtg', 'cobta', 'pesquisador', 'ipea', 'coprodutor', 'jardineiro', 'rafaellar', 'ofernar', 'kaua', 'cardoso', 'zanini', 'yves', 'nicole', 'saturda', 'florestar', 'fazendose', 'fossel', 'resistencir', 'utg', 'silve', 'cansadas', 'consulto', 'potencialmente', 'autoconvocar', 'financiador', 'financia', 'fossil', 'cacique', 'protestar', 'cop', 'escocia', 'ironio', 'definese', 'liveauthentic', 'bomder', 'boatardee', 'nftcollectibles', 'unicornsociety', 'mercadopagobr', 'contagioso', 'concluimos', 'soubesse', 'navigator', 'told', 'built', 'fortress', 'books', 'protect', 'watched', 'ship', 'imagined', 'myself', 'dreams', 'dangerous', 'desir', 'contagious', 'fears', 'despite', 'difficultie', 'brought', 'every', 'write', 'lecturar', 'someone', 'hold', 'mission', 'daughter', 'suerer', 'sur', 'seral', 'navigateur', 'raconte', 'leur', 'histoir', 'mer', 'aidir', 'construire', 'forterer', 'qui', 'mon', 'naval', 'regarde', 'fem', 'perceba', 'mare', 'boletar', 'gritar', 'stops', 'dowhatyoulove', 'workhardplayhard', 'aexponacionalmangalarga', 'meusamor', 'ninineneenono', 'trioparadaduro', 'maedetr', 'cerebro', 'lentamente', 'httpswwwamgcapitalcombrblogeducacaofinanceiraheuristicadadisponibilidadecomoelaafetaoinvestidor', 'brianorte', 'cedir', 'correspondiar', 'palotinar', 'equivoco', 'esteiro', 'reitera', 'procuradas', 'vocetrader', 'esporadico', 'vendir', 'distinguem', 'incidencia', 'notavel', 'filabr', 'propaganr', 'fatiar', 'melodia', 'mdemal', 'claudinho', 'gabicvj', 'avenueu', 'adoravel', 'piada', 'sacaneia', 'roer', 'diabo', 'subsolo', 'vazia', 'zumbis', 'escolho', 'pergunteme', 'carlor', 'impoe', 'evitalas', 'mostro', 'httpswwwamgcapitalcombrblogdicaserrosdoinvestidorinicianteecomoevitalo', 'adora', 'cei', 'incentir', 'adiante', 'coresponsavel', 'institutonovaerar', 'patrocinadorar', 'arigato', 'ind', 'lojar', 'casadinho', 'regina', 'resgatei', 'equipefamiliar', 'recomecamo', 'queriamos', 'rbi', 'goesmarcelr', 'viuh', 'participa', 'toscana', 'expedicao', 'syngentar', 'rabobankr', 'aprofundado', 'esalq', 'possibilitandono', 'visitadas', 'ipirang', 'texacolubrificante', 'syngentabrasil', 'greenhouseestufa', 'eiwa', 'aruaposcolheito', 'agroallimportadoro', 'agrolink', 'substrato', 'coleagro', 'stonex', 'btgpactualdogital', 'vivela', 'alcancalar', 'fragel', 'regidar', 'marianaaydar', 'aydar', 'elba', 'dominguinho', 'toni', 'garrir', 'mercury', 'donato', 'leci', 'lim', 'emilio', 'intir', 'she', 'votorantim', 'electronic', 'netc', 'yellow', 'nodejsr', 'vagasjobsforher', 'ten', 'placer', 'acompanar', 'viajes', 'mucha', 'nosotro', 'vuelo', 'viajescorporativo', 'bussinesstrip', 'keeper', 'viajesporelmur', 'satellogic', 'softline', 'burgerking', 'starbuck', 'mapfre', 'viajeseguro', 'peoplecare', 'aerolineo', 'depressa', 'inimaginavel', 'goesmarcel', 'parana', 'respondeperdi', 'bobeira', 'financiei', 'salaaovivobtgtrader', 'btgtrader', 'bicentenario', 'concursospublico', 'unasp', 'studymotivation', 'studygrambr', 'rainhaelizabeth', 'sunset', 'concurseiro', 'estrategiaconcurso', 'chamaoler', 'vieita', 'implementado', 'higiene', 'migrante', 'accor', 'brk', 'ambipar', 'ero', 'takeda', 'amazono', 'municipios', 'vieta', 'paola', 'interino', 'necon', 'ajudante', 'pedreiro', 'wwwprimeservcombr', 'parabenizo', 'donajoofficial', 'ouvila', 'cozinhar', 'marcuz', 'brasiloficial', 'educacaofinanceiraassessoriadeinvest', 'mento', 'diversificaracoes', 'hesito', 'kristina', 'shaw', 'picar', 'sucessoamei', 'caraaaaalho', 'mlk', 'booooooom', 'rbwndd', 'gbr', 'rrbfdsertednzhu', 'bzhu', 'visitei', 'lecionei', 'descompasso', 'diferentemente', 'funcional', 'custear', 'moradia', 'notebook', 'guilhermemannis', 'motivacoes', 'lavizoocear', 'coco', 'diretaco', 'inspirarmos', 'especialistadeinvestimento', 'hahahahha', 'firmamos', 'fisicamente', 'denise', 'pavarino', 'monico', 'monicajesusoficial', 'amescmulher', 'suprimento', 'deixarer', 'adesao', 'abater', 'parcialmente', 'amortizar', 'iniciara', 'retificar', 'recolhimento', 'cotistar', 'escl', 'morfologia', 'marcha', 'maiore', 'wwwexamecom', 'mastercardblack', 'pompa', 'travado', 'restituir', 'pesquiser', 'enganem', 'cfa', 'osni', 'carfir', 'bbas', 'sabespr', 'sbsp', 'renner', 'lren', 'tots', 'minerva', 'conarec', 'httpswwwamgcapitalcombrblogcomoinvestircomocalcularjuroscompostosdescubraadicadeouroparautilizalosaoseufavor', 'substancial', 'aplicabilidade', 'latinha', 'presenteado', 'barca', 'humilhar', 'propiciar', 'campanho', 'campanhamag', 'magseguro', 'kkkko', 'podcastdepaiprafilhar', 'galleriabarsp', 'ryan', 'quadras', 'retribuicao', 'vt', 'lops', 'arauj', 'ilovetennis', 'quartel', 'deixado', 'terno', 'gravatar', 'macacao', 'rachar', 'caatingar', 'potiguar', 'instalacoes', 'recv', 'petroliferar', 'barri', 'oleo', 'boe', 'eficienciar', 'extrair', 'jazir', 'troy', 'finner', 'sonda', 'stenio', 'cruvinel', 'petroreconcaver', 'wwwbtgpactualcom', 'sadia', 'embreve', 'btgrepost', 'lucasalmeidaeduco', 'respeitir', 'cursoonline', 'eurodolar', 'hahahhahahaha', 'periodicamente', 'msjunioradalberto', 'corter', 'semdo', 'indicarar', 'pow', 'mobilir', 'traga', 'raca', 'tatuir', 'blockchaim', 'wra', 'compensacao', 'oficialcausar', 'papoderesponsa', 'apixonar', 'rosewood', 'bloomberglineasummit', 'venturecapital', 'httpsbitlyqgbzwq', 'vemmm', 'amoooor', 'torcido', 'zaga', 'pombo', 'gerenciador', 'desesperador', 'seima', 'guedeso', 'cannabisna', 'duvidavai', 'tambemnem', 'faziamos', 'lavizoo', 'odiloncostar', 'httpswwwagroforumlive', 'httpslnkdindqdpujdd', 'httpslnkdindrqxjpq', 'httpslnkdindixkbwe', 'httpslnkdindtfxqpgr', 'miraeasset', 'mycapinvestimentos', 'beautyfulrealestate', 'industrialrealestate', 'industrialdevelopment', 'ciudadjuarez', 'estadaoalagoa', 'datafolhaoficial', 'cnnoticias', 'sbtneoficial', 'abiofariabr', 'nanirampa', 'rubinhonunesmbl', 'ineed', 'depe', 'bov', 'isabelasimoes', 'nanh', 'priscillawhitaker', 'shoes', 'tatiana', 'kimura', 'aprendendoainvestir', 'meribehrem', 'caioaveline', 'ligiamariante', 'jorgekralik', 'professorlucassilvar', 'rafaeltoro', 'itaupersonnalite', 'unicred', 'advogados', 'bara', 'bresolin', 'performing', 'loans', 'npls', 'wwwbicalhoadvbr', 'diadocliente', 'inovadora', 'culturo', 'imobiliaria', 'bicalhoadvogado', 'bicalhoadv', 'direitocontencioso', 'contenciosoimobiliario', 'oab', 'lawyer', 'advogadosassociar', 'advogadossp', 'toscano', 'assessoriaespecializar', 'vozesdasperiferia', 'akmperformmar', 'hcampospr', 'tamojuntoag', 'legendo', 'leobagarolo', 'leo', 'bancobradesco', 'bancosantander', 'bancoitau', 'instituicoesfinanceiro', 'canalwomeninvest', 'penetracao', 'levels', 'sensibilidader', 'wo', 'mulheresnalideranca', 'baixissimo', 'ofusco', 'mourao', 'figueiro', 'severo', 'lenadro', 'abrahaor', 'eljaick', 'competition', 'firstday', 'avantgardeam', 'westernassetmanagement', 'alaskainvestimento', 'realinvestor', 'truxtinvestimento', 'constellationassetmanagement', 'equitasinvestimento', 'fundosdeacoe', 'recebelo', 'educadora', 'falcoe', 'periferio', 'vozesdasperiferio', 'lyra', 'gouveia', 'gouveiia', 'prudente', 'foundation', 'brazilfound', 'serjall', 'leoafe', 'iannunjaro', 'wmlanders', 'tarsooliveiro', 'niii', 'vicecampeoes', 'delicial', 'lascasdepolvilho', 'tenisweek', 'ipegolg', 'agem', 'naoyfli', 'confiancar', 'magnitudeincrivel', 'pregoes', 'beaware', 'awaremfo', 'fluminensefc', 'mbittenfluoficial', 'ocorrir', 'acirrar', 'goodvibes', 'paratletar', 'voa', 'bicicleta', 'petra', 'boanoitee', 'sprinter', 'race', 'triciclo', 'apaixonadosporaviacao', 'afsport', 'ipegolf', 'carrasco', 'financapessoal', 'passamani', 'dilema', 'henriquemeirelle', 'lagoa', 'csi', 'acervo', 'selas', 'cbhoficial', 'jccescoladeequitacao', 'joinvillecountryclub', 'hipicaparanaense', 'cavalobrasileirodehipismo', 'sabemisegurador', 'atletas', 'ferme', 'morrison', 'luiso', 'jcar', 'indart', 'venturar', 'granato', 'piro', 'bento', 'pupo', 'enrico', 'crepaldi', 'henriques', 'quentinho', 'resumao', 'programaconexaobahio', 'feijaodanegasu', 'cocobambubahiaoficial', 'iasmine', 'carlinhosreii', 'sebraebahia', 'metropole', 'samara', 'cachecrespas', 'concertezar', 'retribuir', 'escuta', 'realizarmos', 'mafia', 'ociosidade', 'alivio', 'todavia', 'convergencer', 'trabalhoso', 'econom', 'finanzas', 'energialimpa', 'supermercar', 'dobro', 'melhordobrasil', 'omaiorpremiodobrasil', 'topibest', 'bbhomebroker', 'preliver', 'honor', 'witness', 'nd', 'edition', 'faceestouface', 'extremely', 'valuable', 'undertake', 'universir', 'slip', 'away', 'congratulation', 'creating', 'ahammm', 'vesti', 'renovete', 'atuamo', 'blindagem', 'soltando', 'hahahah', 'jurema', 'hospedado', 'fotografar', 'riograndedosul', 'cruzalta', 'ursulalimo', 'capacitarr', 'anosgt', 'indiquir', 'nubankitau', 'escrevame', 'grandslamequestrian', 'habilidader', 'planejarmo', 'eventoagronegocio', 'pecuar', 'campograndem', 'incidir', 'normalmemte', 'abdicacao', 'requer', 'doi', 'chorei', 'diegoselva', 'sinergico', 'nutri', 'reformular', 'maite', 'morena', 'gontijo', 'patrimoniar', 'estrategiasfinanceira', 'tenniscourt', 'luismiranda', 'somosdacarne', 'grandselectionbyzilli', 'carnesbyzilli', 'zedaplatin', 'canhoes', 'trompete', 'repror', 'gabriellaacruz', 'robertaglatt', 'logicamente', 'nonaplicativo', 'arrodear', 'encobrir', 'peneira', 'trarer', 'ferver', 'pedrobreitmanr', 'opcoes', 'gabrielvaladao', 'clarice', 'klossoski', 'puderem', 'engrenagem', 'rentabiliza', 'lunch', 'preludio', 'ixiiiisangue', 'sanguekkk', 'ffr', 'sep', 'convergirio', 'possenna', 'meunosso', 'discordancer', 'hesitar', 'desinflacao', 'transcorra', 'wisepoa', 'hor', 'sigaadilsonramo', 'jeitinho', 'concessao', 'mpce', 'desesperota', 'valmir', 'feitoso', 'pespective', 'perpectiver', 'somosperspectiver', 'projecoes', 'selicmeta', 'selicover', 'consultoriagratis', 'assustei', 'bgtpactualdigital', 'limiteeeee', 'unistudio', 'deuno', 'imgtennis', 'statu', 'erant', 'bellu', 'desafiamo', 'conformismo', 'quebramos', 'sindrome', 'barreiro', 'manar', 'definimo', 'statusquo', 'ellebrasil', 'disponibilizacao', 'pelliccione', 'transformarvir', 'carreirabancar', 'polen', 'cognitiva', 'degustar', 'dudatrindadeofc', 'frota', 'winegobrasil', 'conprovante', 'sextouuuu', 'pulseiro', 'juju', 'eventosdebeachtennis', 'lovebt', 'camisday', 'jousbyjujuacessoriosquesaoamuleto', 'abastecer', 'lifelonglearning', 'vooolto', 'comenter', 'proceder', 'compraosantacruz', 'apbogus', 'alpargato', 'diegocbarreto', 'ricardonataler', 'talita', 'colucci', 'sofiteljequitimar', 'forumceobrasil', 'ciberseguridad', 'protecaodedar', 'metodologiar', 'profissaotrader', 'metabater', 'fluxodeordem', 'dolfut', 'axiainvesting', 'godvibe', 'personaltrainer', 'paratleto', 'nordestebrasileiro', 'castrr', 'heheeheh', 'err', 'hugo', 'tietar', 'mentora', 'brigadeirofarialima', 'avbrigadeirofarialima', 'cidadespr', 'gunsnroses', 'excelentissimar', 'dramonalisanavo', 'camarote', 'brazagastronomia', 'funk', 'jazz', 'blues', 'accessing', 'channel', 'using', 'mahsaamini', 'oplran', 'gilson', 'finkelsztain', 'sunoassetr', 'bloxsinvestimento', 'titaniumasset', 'entrevistaexclusiva', 'herdar', 'escurra', 'nandex', 'jbcostatenis', 'fortalecemos', 'uberabar', 'acreditamo', 'negociosvoce', 'mandem', 'ganharbrazilian', 'storm', 'laaa', 'dublin', 'apetitar', 'descansar', 'cadinho', 'openfinance', 'mahsa', 'aminihelp', 'tidata', 'science', 'hereataws', 'imprestimo', 'meg', 'megs', 'squad', 'opensolutions', 'carteirinhar', 'arrogante', 'sertoes', 'fairfaxbrasildacar', 'motorsportsmracing', 'mantiver', 'cenarioeleitoral', 'votoavoto', 'jornalismodefato', 'qta', 'subi', 'agradeci', 'cenografico', 'curadorio', 'paulomagnusmvr', 'mvsaudedigital', 'italolnogueira', 'arrecadamo', 'alcionealbanesi', 'triple', 'comprometir', 'atrai', 'conspira', 'obstaculosdecisoe', 'detecter', 'proponham', 'privite', 'mantenedor', 'desfacatez', 'optimaprodutora', 'futevoleiscs', 'futevoleiabc', 'futevoleifeminino', 'arenagoia', 'ftvoleibrasil', 'scs', 'mormaiifutevolei', 'futevoleipaulista', 'futevoleinaveia', 'minhamelhormarca', 'sintasemormaii', 'futevoleidepressao', 'beacharenassp', 'futevoleiraiz', 'futevoleishow', 'futevoleipelomur', 'futevoleiparatodo', 'futevoleiparaela', 'levei', 'expiracao', 'schroder', 'mapamento', 'plataformasdigital', 'crenco', 'limitante', 'indiqueo', 'engrandecar', 'repita', 'fdemal', 'levante', 'exalte', 'sejamos', 'camilas', 'ferosseto', 'carla', 'cely', 'romero', 'raphafakri', 'explore', 'mamateiro', 'empreendendorismo', 'bilhetar', 'boasafra', 'ajudarmos', 'baixis', 'favamos', 'macroeconomicar', 'kaique', 'lucao', 'bandnews', 'girobusinessagro', 'serasa', 'experian', 'movidaalugueldecarro', 'tokiomarinehall', 'hahahaahaha', 'cnlha', 'bemsucedida', 'aaaah', 'sfc', 'haahhahar', 'agroforumbtg', 'molusgo', 'btgagroforum', 'conserto', 'eventoagro', 'desister', 'chatisse', 'ignor', 'sucroenergetico', 'wharton', 'cuidamos', 'agrir', 'dennis', 'lobo', 'protegemo', 'hamer', 'netuno', 'rigoroso', 'inflacaoalta', 'investimentoseguro', 'sensual', 'newsagora', 'rumologisticar', 'agrobusiness', 'agrolife', 'agroepop', 'agroetop', 'aquavero', 'sarah', 'cogestora', 'pennar', 'puliti', 'mussar', 'abrer', 'infraestruturo', 'granja', 'brum', 'land', 'grabbing', 'financeirizacao', 'fantoche', 'oseconomistaspodcastoprimoricothiagonigroprimocastreelspodcastlucaspitcharleswiczinvestimento', 'brasileconomistasincero', 'sara', 'especulacaofinanceira', 'especulacaodomercar', 'rangelweb', 'thks', 'muro', 'metaverse', 'webbr', 'pma', 'forumr', 'esferabr', 'eliteeee', 'endosso', 'estabilizar', 'berquo', 'gabrielandrade', 'aline', 'votarar', 'decair', 'abandonei', 'beneficiei', 'pego', 'deparo', 'adrenalinar', 'solicger', 'btgmal', 'yc', 'usufrui', 'igualar', 'atendidar', 'ruinzinho', 'patrryr', 'procedo', 'atendimentoaocliente', 'premioreclameaqui', 'eleitoralfico', 'cubro', 'permita', 'florian', 'bartunek', 'florianbartunekr', 'constellation', 'empresariogestor', 'kerry', 'gomez', 'juliocarlo', 'janelacombr', 'janelapublicitar', 'destaquei', 'tipicar', 'safro', 'kherlakian', 'jotapeart', 'myart', 'contemporaryart', 'instaart', 'porsche', 'penna', 'welles', 'pascoal', 'mussa', 'vicchiato', 'abud', 'fsbio', 'miron', 'frigol', 'agrotech', 'experimentamos', 'sescitaquerar', 'eruditar', 'interprete', 'simonal', 'premiado', 'apresentacoes', 'orquestrasinfonicaheliop', 'estelita', 'lance', 'certame', 'incidente', 'queirozgalvaovendaspe', 'glempreendimento', 'responsavil', 'desbloqueie', 'vereador', 'comemorase', 'humanas', 'recreacao', 'arvorir', 'reaproveitar', 'exagerar', 'diadanatureza', 'projetoplantar', 'megamodelminasgeral', 'leniomartim', 'gianfontoura', 'rezinhamori', 'priargamin', 'anuidademensalidade', 'lucianekariocacom', 'obgdar', 'sermoud', 'httpslnkdingcfvifqz', 'testemunho', 'noomisoficial', 'vamuuuuuu', 'atptour', 'btlixo', 'helborincorporadora', 'cvmgovbr', 'alexio', 'cabelo', 'castanho', 'toto', 'provedorar', 'clearing', 'depar', 'organizacoessociaiscivi', 'picaretagem', 'cotacoe', 'falainvestidor', 'influenciadordigital', 'bisobcustodio', 'bondade', 'mayfolha', 'poderdaunidade', 'biano', 'vamosvencer', 'mktdigital', 'gde', 'ruber', 'duek', 'gleiser', 'bogus', 'mfd', 'desigualdade', 'descartar', 'comunismo', 'kaku', 'sacrificio', 'advance', 'teme', 'btgp', 'fabuloso', 'fortune', 'primavera', 'testei', 'redigir', 'prancha', 'valio', 'impiricu', 'jornaleco', 'iludir', 'pension', 'btglifeexperince', 'uhul', 'construirr', 'grito', 'ecoa', 'vamosdekombi', 'faveladekombi', 'redegerandofalcoe', 'machupicchoenergy', 'vamoker', 'egoista', 'autora', 'gtradergenial', 'defensoriarj', 'policiafederalbrasil', 'foonseca', 'matogrossense', 'beneficia', 'canecar', 'doleiro', 'deltar', 'coffeebreak', 'ilhagastronomico', 'tictac', 'casaesportivo', 'petfarmsalvador', 'elegancecolchoes', 'supremehomecare', 'lupapromo', 'soudobro', 'proteinutri', 'caffeinearmy', 'vempromano', 'bulosphotoart', 'natacao', 'sparenberg', 'distintas', 'motivadora', 'luizaapaparounis', 'esforce', 'enormes', 'condicionante', 'mitigar', 'perecer', 'descubrao', 'ondar', 'cocriar', 'feminista', 'tesouraria', 'alocacoe', 'sugerido', 'vidda', 'ahhhhh', 'incrivelprofissional', 'giovanna', 'luando', 'reporter', 'fedex', 'nitto', 'despeder', 'roger', 'federer', 'diverti', 'boleiro', 'desafiante', 'atpfinals', 'dprinter', 'vasosbob', 'dimpressao', 'dprinting', 'empreendeorismo', 'empreendedorismolocal', 'polvo', 'octopus', 'doctopus', 'topgun', 'topgunmaverick', 'desafiocumprer', 'matinal', 'segueofelipe', 'planejando', 'half', 'recrutamentar', 'consumar', 'varejoecommercer', 'cerejo', 'hugorodriguess', 'maodeobraqualificadaparaevento', 'mercadodetrabalho', 'crescimentoprofissional', 'pesquisademercar', 'oportunidadedetrabalho', 'meioemensagem', 'promoview', 'biometria', 'conseguimos', 'envolr', 'agrobusinessr', 'sequencer', 'avincorp', 'saraivafilhodaniel', 'possibilitarar', 'andrehzavarizar', 'isabelaa', 'sousaaa', 'alivia', 'reability', 'fixtpersonal', 'reabilityrpr', 'drajuliamfv', 'dragabrielabertacchini', 'innarabessanutri', 'camilanutrichef', 'benessererobertalacerdo', 'teamnogueirarp', 'dresscoder', 'pietra', 'karino', 'emoji', 'clienteinvestidor', 'elaboradora', 'incomoda', 'irmos', 'descobrira', 'guialar', 'desconhecia', 'edsonsantosinvestimentos', 'artgrossi', 'luispereiraaai', 'elieloliveiro', 'trocamos', 'salinha', 'prosseguimos', 'poderemos', 'elieloliveira', 'conferer', 'docesdememoriaafetivo', 'licoresartesanal', 'sdrsr', 'virado', 'recomendarei', 'martinsdafonseca', 'psiquiatra', 'aborto', 'roubalheirar', 'gedankien', 'docinho', 'artesanal', 'adeliarodriguezs', 'chefalessandraguilherme', 'lugardemulhereondeelaquiser', 'juntassomosmaisforte', 'mulherespreto', 'resenhar', 'cristian', 'salgadinho', 'aposentado', 'ins', 'salariominimo', 'produzo', 'perdem', 'bancoe', 'noe', 'aloo', 'bechi', 'puxa', 'galerinha', 'foramario', 'palhaco', 'idir', 'blackbridgefinancial', 'elaespinoso', 'amorabrechar', 'virgula', 'mulherespoderoso', 'treinamentoedesenvolvimento', 'brecho', 'vaquir', 'santanderuniversidadesbrasil', 'librar', 'iscillalingerie', 'jennifertranciista', 'idealizarecriarart', 'camilaabreul', 'apoieumaempreendedor', 'promotiom', 'icmarket', 'competidor', 'barbaro', 'calmon', 'souzar', 'marianna', 'thorstensen', 'barcellos', 'macieiro', 'kruger', 'cabano', 'liptonmorganassociadoscom', 'katrielmarquesb', 'estouro', 'sustento', 'farrar', 'mundooooo', 'anapaulavoleir', 'lpbragancabr', 'cutsaopaulo', 'carlosviano', 'senadorhum', 'imbcis', 'instancio', 'lupar', 'stait', 'rothier', 'quintellar', 'sofie', 'sarto', 'magluto', 'pachecho', 'spino', 'correa', 'autoestimar', 'empreendedoras', 'lolodelicia', 'biancagestaodetrafego', 'iscillalingeries', 'giovannacaminhar', 'ledajanuario', 'vborelli', 'bancoeconomico', 'andreesteves', 'fara', 'situations', 'anotabahiar', 'wwwanotabahiacom', 'banho', 'deitar', 'penso', 'eventocordier', 'eventoinsititucional', 'brpartners', 'individualidade', 'excelenciir', 'espalhada', 'besta', 'bts', 'serer', 'psbpernambuco', 'psbcidadesp', 'poderdata', 'fitchratings', 'obar', 'renature', 'guus', 'haar', 'giin', 'amsterdar', 'reinventing', 'options', 'climate', 'copanelists', 'romie', 'goedicke', 'natiom', 'environment', 'programme', 'unepr', 'charlotte', 'kaiser', 'matthew', 'mcluckie', 'posaidonr', 'regenerate', 'regenerativeagriculture', 'impactinvesting', 'anjodpa', 'dgeek', 'tecnocubod', 'dlabsr', 'printacademie', 'halloweend', 'halloweendprints', 'dprint', 'impressaodbrasil', 'documentacao', 'viidaaaaa', 'urgenteeeeee', 'suumiiuuuuuu', 'liiix', 'extorno', 'rebanho', 'merd', 'arrestar', 'orcamentario', 'medodeinvestir', 'medodeinvestirerrar', 'novoinvestidor', 'colegioecursosei', 'aulao', 'colegioecursosar', 'academicamente', 'divisao', 'state', 'radioglobo', 'senadorhumberto', 'blogdojosio', 'jairmessiasbolsonarer', 'bandfm', 'cbncampina', 'emicir', 'revistapiaui', 'imoreirasalle', 'mailsondanobregaoficial', 'estadaoeconomia', 'proffelipe', 'aquino', 'sikerajr', 'compasso', 'velocimetro', 'umidade', 'patogeno', 'gaeumannomyces', 'graminis', 'tritici', 'sintom', 'reboleiro', 'infeccao', 'ocorridar', 'coloracao', 'aderido', 'criteriosamente', 'oestepericio', 'brasilseg', 'swissre', 'agrobrasil', 'sombrero', 'manejo', 'fitossanitario', 'goautonomous', 'ideiasdenegocio', 'gestaodenegocio', 'desenvolvimentodenegocio', 'startupnegocio', 'negocioscomproposito', 'reproducaovideo', 'testir', 'sabemfazer', 'importuno', 'gigantess', 'avalia', 'corrobora', 'reservir', 'longer', 'discricionario', 'traco', 'crop', 'lavouro', 'estadunidense', 'tracao', 'contrari', 'assumo', 'recorte', 'anfiteatro', 'poliusp', 'ists', 'lingua', 'lgbtqiapn', 'candidata', 'candidaturo', 'lbti', 'patr', 'ventur', 'carrullo', 'pieror', 'minardi', 'philippe', 'laffont', 'coatue', 'interamericano', 'oea', 'justicatrabalhisto', 'instigante', 'aborda', 'extincao', 'costumo', 'chefao', 'rsrsrs', 'dinheirinho', 'mesobrigar', 'parabensss', 'hexa', 'pepe', 'golf', 'mantovanini', 'vicecampeao', 'sandoval', 'ipgc', 'fo', 'schimidt', 'janeli', 'sergineiro', 'vanderlinde', 'rggc', 'kiko', 'salomao', 'orgulha', 'torneiro', 'roland', 'garro', 'classic', 'openspgc', 'reencontralar', 'reviver', 'voluntariosbtg', 'ensolarar', 'alongamento', 'carregarer', 'coracoes', 'batalho', 'vidaaaaa', 'ismar', 'brunoismar', 'rvaraschin', 'vbello', 'elder', 'tesourar', 'quimico', 'tesourario', 'sampaulo', 'coordeno', 'hispanicoslatino', 'fei', 'ifood', 'atua', 'todxs', 'gerson', 'missoe', 'trabalhisto', 'ufmg', 'naor', 'futur', 'acender', 'iflcast', 'lgpriolli', 'maiskkkkk', 'financiamentoimobiliario', 'diariodonordeste', 'tribunadonorte', 'tribunadopovoilhabelo', 'nikolasferreiramd', 'tvcancaonovar', 'cancaonova', 'adbelempaoficial', 'adbrasiloficial', 'rss', 'breading', 'jersonz', 'eduard', 'qualidadedevido', 'httpswwwinstagramcomsitealoalobahia', 'httpswhatsfacilcomdc', 'itajair', 'transferencio', 'altacupulo', 'benevite', 'httpsexamecominvestme', 'recompenso', 'ganhand', 'henriquedossantosazeve', 'amooooooooor', 'paissandu', 'treinamos', 'homenageia', 'thomaz', 'koch', 'podermos', 'manoel', 'lily', 'mulherr', 'minhaobrigar', 'sujeitinho', 'lulacagao', 'bgancia', 'pdtsaopaulo', 'estadodeminas', 'skafoficial', 'uolpolitico', 'josefucs', 'silvionavarrojornalisto', 'jornalextra', 'joaoamoedonovo', 'nacamara', 'josedeabrer', 'felipemelo', 'amaste', 'bancohora', 'qualuer', 'acompanhalo', 'escutalo', 'reverberar', 'halle', 'baptista', 'cambar', 'eramo', 'orgulher', 'xequematecastoficial', 'discriminacaolaboral', 'tremendar', 'atrapalho', 'responde', 'enormemente', 'caixinha', 'encomenr', 'sitealoalobahia', 'somoseven', 'fertil', 'cobro', 'hehe', 'fortalecimento', 'moura', 'landulfo', 'prerrogativa', 'reformatacao', 'desembargador', 'ufba', 'mptspr', 'milesimo', 'debati', 'agrar', 'analauraassi', 'lucioqdelfino', 'entusiamo', 'condomino', 'httpsexamecominvestmercadosbtgpactualadquirefatiadallzgarantidoradecondominio', 'fonteinteliedubr', 'pitaarqr', 'projetosincrivel', 'arquiteturadeinterior', 'arquiteturadofuturo', 'arquiteturacorporativo', 'arquiteturacontemporaneo', 'arquiteturaescolar', 'neuroarquiteturar', 'arquiteturasensorial', 'metodosensory', 'negociofechar', 'paulobio', 'realestater', 'datacenter', 'yoshinago', 'ricardoschweitzer', 'demostre', 'alunodpa', 'futurecom', 'birmindauto', 'weggroup', 'telecom', 'iot', 'benyfard', 'profissoe', 'cascavel', 'pertencimento', 'lema', 'transparenciar', 'pessoascomperformance', 'somosacquavero', 'compraofluminense', 'stefanbaro', 'booker', 'conviccao', 'solir', 'colaborativar', 'norteasset', 'comissoe', 'capimr', 'minhar', 'recruiting', 'atentamente', 'inglaterra', 'demore', 'recue', 'dissuadir', 'niet', 'recibo', 'repasse', 'sports', 'cafes', 'aventuramauro', 'marreirosleandro', 'gruposouzalima', 'grandemeier', 'zonanorte', 'pratiquetenisempilar', 'frassonr', 'buy', 'sidir', 'consumer', 'udesc', 'ufrgs', 'ibmecrj', 'fgvrj', 'apimec', 'ambima', 'hosts', 'wicz', 'usebebrasil', 'suzukimotogp', 'beomm', 'artefactooficialbrasil', 'fiideagro', 'uniaor', 'llzebtgpactual', 'topei', 'enxerguei', 'defendido', 'chegariar', 'terminoua', 'camiseto', 'viemos', 'esume', 'tioricco', 'empolgados', 'robusta', 'construaseulegar', 'preste', 'eiiii', 'desista', 'regar', 'florecer', 'mimlevar', 'coffe', 'break', 'staropenfood', 'atende', 'pointdasestacoesgourmet', 'eucreionodeusdoimpossivel', 'deusaindarealizasonho', 'borapracimo', 'utilizo', 'health', 'syster', 'consultingagency', 'consultingservices', 'consulting', 'businessconsulting', 'consultant', 'consultingfirm', 'consultingbusiness', 'humanresource', 'consultinglife', 'careergrowth', 'humanresourcesmanagement', 'humanresourcesconsulting', 'strategicmanagement', 'consultingproject', 'strategicmanagementconsultant', 'strategyguide', 'businessreputation', 'competitiveadvantage', 'corporatestrategy', 'personali', 'manajemenstrategir', 'konsultanmanajemenstrategi', 'konsultanmanajemen', 'samahitawirotama', 'konsultan', 'manajemenstrategi', 'fiborules', 'cursogratuito', 'cursodaytrader', 'fiboart', 'vanderleiendr', 'discipular', 'robertocostadeoliveira', 'exaloficial', 'btgpt', 'ladraolular', 'ladraolula', 'vrta', 'acefals', 'doente', 'mesmos', 'voluntariado', 'guarujasp', 'apresentolhes', 'nivalda', 'enfermo', 'avc', 'perno', 'mergulhoe', 'poucosrsainda', 'ciciliato', 'politicaemfocodf', 'agustinofficial', 'simonetebetr', 'globomina', 'sachsida', 'michellebolsonaro', 'carolinedetoni', 'gabigol', 'hojenomundomilitar', 'trtbahia', 'anamatrar', 'anamatraoficial', 'mptba', 'mptnabahiar', 'pgt', 'mptrabalho', 'escolajudicial', 'oabbahia', 'jurista', 'advocaciar', 'balazeiro', 'fomente', 'formalidade', 'enali', 'rf', 'espelho', 'felipebeckel', 'pierrejadoul', 'foguetenaotemre', 'semmimimi', 'bomdiamur', 'boatardinha', 'petrar', 'atletismor', 'ifcenografia', 'workshopintegrativo', 'gasta', 'desenvolve', 'expande', 'ande', 'despior', 'nikolasferreirainfor', 'leodia', 'luislacombe', 'alvarogarnero', 'mblivrer', 'planteumaarvorir', 'empresaamigadanatureza', 'arborizacao', 'zeneide', 'cesarpereiraalve', 'daniellemalve', 'loucura', 'delirio', 'empurrao', 'ombro', 'planejamo', 'arbitro', 'arbmarcosbragar', 'marceloyangfotografia', 'camilaa', 'santini', 'prontificar', 'precisasse', 'deixarr', 'ecelente', 'pos', 'clientela', 'almejar', 'liberarar', 'manual', 'eventosbrasil', 'facaseuorcamento', 'instawork', 'angevento', 'cometir', 'dificuldar', 'inteler', 'presenciei', 'microeconomia', 'desmembra', 'desorder', 'reitero', 'forpus', 'squadra', 'hix', 'dacarmotorport', 'mracingportugal', 'ofertada', 'deverao', 'custodiante', 'mor', 'belmond', 'palace', 'paysandu', 'tenia', 'passaporte', 'passeios', 'ofereceremos', 'autista', 'cadeirante', 'dificilmente', 'eden', 'pulso', 'supere', 'podir', 'resguardo', 'moneda', 'libra', 'tan', 'fortalecir', 'jalil', 'jefe', 'andino', 'hay', 'otras', 'moner', 'fuerte', 'puedan', 'hacer', 'ese', 'quite', 'oabamapa', 'comissaooab', 'cbnribeirao', 'jornalsensacionalistar', 'agora', 'jornalistar', 'sbtjornalismooficial', 'gloriafperir', 'conecto', 'londrina', 'parabenizamos', 'impactplusbr', 'growplusventur', 'giffoni', 'pitche', 'querodobrar', 'guimassena', 'hour', 'vakinha', 'acreditevoce', 'btgpor', 'desestimula', 'fria', 'abaixe', 'raciocinio', 'aparentar', 'destampar', 'contrair', 'precisarao', 'youtubers', 'colapsar', 'instituicaoemprês', 'remunerir', 'anacampagnolar', 'claudioduarter', 'esquivafalcao', 'danielzukerma', 'clauder', 'dani', 'bjs', 'bjbj', 'merdaaaaaaq', 'shake', 'deteriorar', 'ansiedade', 'luano', 'macchion', 'luana', 'marieto', 'riso', 'acompanhalar', 'cogestor', 'weickert', 'alumni', 'participara', 'techs', 'tourportugal', 'fisioliviaventurar', 'jessicacostanutri', 'elmosobralferreira', 'estrema', 'aumentazer', 'parceirio', 'perdar', 'patriciasfx', 'harvey', 'fiespsaopaulo', 'aguinaldofsilvar', 'estadodemino', 'fabioporchat', 'waldirlferraz', 'emersonsheik', 'juniordurski', 'mauriciovoleir', 'retrato', 'reerguer', 'lucky', 'eike', 'brevemente', 'guardeo', 'sintaos', 'curte', 'itapetiningar', 'felipemoraes', 'rafaelplem', 'cerimonio', 'lecomkre', 'kikilecomkre', 'rtcervejarir', 'plem', 'dedicacaoer', 'wesleyrfilm', 'portowill', 'falcaooficial', 'joseloreto', 'francescaschiav', 'rafaelxqueiroz', 'maxfercondini', 'andreolifelipe', 'seal', 'lixoooo', 'arranje', 'bombar', 'direitaminas', 'mtcbasquete', 'redeminastv', 'recordtvmina', 'folhavitorio', 'folhanordeste', 'diariodecaratingaoficial', 'uoloficial', 'nossa', 'uol', 'uolmeunegocio', 'popofreita', 'tomcavalcante', 'pudermos', 'renatar', 'diagnostico', 'precoce', 'sintase', 'ambitious', 'goals', 'towards', 'care', 'welfare', 'magnificent', 'comes', 'inovation', 'consultoriafinanceira', 'outsidertours', 'renesilvar', 'loterjoficial', 'stambrasil', 'guaranaantarctico', 'avanutriequipamentos', 'frescatto', 'zinzaneoficial', 'leroymerlinriodejaneiro', 'leroymerlinbrasil', 'assaiatacadistaoficial', 'giucittadino', 'recebelos', 'cedido', 'andrewhrs', 'vestirao', 'sevensilksign', 'beachtennisschool', 'experimentalo', 'aca', 'miembro', 'construyer', 'felicitacione', 'alfonso', 'ovalle', 'er', 'adelantar', 'tendran', 'democratizacion', 'capitale', 'nasdaqr', 'boneco', 'centralnikolasf', 'cocielo', 'clarabolicar', 'desimpedido', 'jojotodynho', 'dpf', 'alexandreramagem', 'carteiroreaco', 'eduardocosta', 'eduprimitivo', 'hugogloss', 'brunogagliasso', 'joicehasselmannoficial', 'hugomottapb', 'sensoincomum', 'joaoromanet', 'httpswwwbtgpactualdigitalcomcomoinvestirartigoscolunaandrebonarazaoouemocaocomotemsidoasuatomadadedecisaoaoinvestir', 'paollaoliveirareal', 'casado', 'edicoescnbb', 'uniaobrasilmo', 'braiscompany', 'ocultar', 'porrs', 'conluio', 'desercao', 'cerejar', 'receptividade', 'portugue', 'sebastiao', 'paulinhar', 'vinhamos', 'valeuuu', 'educo', 'hahag', 'aplicarr', 'fecharemos', 'fernandacbaguiar', 'mamasdoamor', 'antenar', 'transborda', 'intolerancia', 'protegela', 'unirmos', 'planejamentofinanceirocompleto', 'brazen', 'savings', 'meror', 'inshotr', 'bgmi', 'maxinvest', 'escritura', 'ibis', 'congonha', 'escrituro', 'hoteleiro', 'quitara', 'finalizarar', 'adquirer', 'totalidader', 'hoteis', 'zoha', 'vlzws', 'canalnder', 'perse', 'terrivel', 'silvano', 'chedid', 'reproducao', 'congelamento', 'ovulo', 'announcement', 'years', 'created', 'gift', 'totally', 'free', 'copy', 'paste', 'signals', 'profession', 'over', 'term', 'why', 'organizing', 'places', 'quickly', 'interested', 'send', 'telephone', 'address', 'contact', 'counting', 'aguilheiro', 'raphaellihairtherapy', 'ograorealfood', 'intimista', 'propostar', 'acidente', 'vlk', 'preservacaodefertilidade', 'secuencia', 'sporttrait', 'sincerely', 'mrs', 'commenting', 'until', 'gave', 'projecta', 'natlanussy', 'agrojovir', 'decoracaodeevento', 'eventossp', 'redessocial', 'cheios', 'sanadas', 'hdferreira', 'ffseguro', 'mitsubishimotorsofficial', 'superhomer', 'spiderman', 'carregaaa', 'drarenatamacchione', 'clinicadrasilvanachedid', 'fatimo', 'mediante', 'batalhadasstartups', 'aperitivo', 'republiqueta', 'ericsuritar', 'biakicis', 'ivesgandramartim', 'wandfc', 'spinellirallyteamr', 'carregaaar', 'listo', 'geopolitics', 'geoeconomics', 'create', 'massive', 'impactonhumanity', 'founder', 'geoconomics', 'desentendido', 'estela', 'galvao', 'flls', 'papelmesmo', 'bolsabrasil', 'paulao', 'troux', 'contea', 'maisar', 'devantasset', 'murad', 'foreverconectar', 'farteira', 'cafir', 'exministro', 'pizzol', 'fabril', 'materiasprimas', 'textil', 'calcadista', 'moveleiro', 'ortopedico', 'bobeiro', 'solutiom', 'dedicamos', 'solutionswmbtgbestperformer', 'sicronizacao', 'he', 'talking', 'victoryr', 'fight', 'against', 'star', 'deadr', 'hd', 'protegemos', 'permeer', 'intercorrencia', 'sucessor', 'juridicas', 'chamamos', 'paulogalvaoconductor', 'adquirido', 'hebrir', 'gruta', 'fingal', 'sinfonia', 'escocês', 'fantasia', 'orquest', 'atravez', 'divergencio', 'sincronizacao', 'fdpvar', 'verms', 'transporteexecutivo', 'transfer', 'pontualidade', 'escalandocomkaisser', 'oskaissers', 'braip', 'klabs', 'arkad', 'spirittransfer', 'bencao', 'enganamse', 'lamentavelmente', 'castigo', 'ut', 'operaretur', 'trabalhasse', 'pontual', 'curiosoo', 'incisso', 'desacatar', 'cdc', 'cod', 'catastrofe', 'trinca', 'seca', 'greem', 'matutino', 'apostador', 'insano', 'jiujitsu', 'zrteamsintrar', 'edilourencopersonal', 'apostasdescomplicar', 'petruslucchesi', 'ruisantosoficial', 'ruipedrobraz', 'ropinto', 'catarincardoso', 'camillojoga', 'fontes', 'elainetrevisan', 'renatasilveirar', 'nivaldoprieto', 'mendoncaromulo', 'taynahespinoza', 'pedrotti', 'betfair', 'sportingbet', 'bet', 'sportsleague', 'apostasedico', 'equipehjjtr', 'hjjt', 'zn', 'zrteamsintro', 'premierar', 'espnbrasil', 'tntsport', 'sportvbr', 'usetitanium', 'tanaarea', 'brasileirao', 'futebolfeminino', 'canalfuteboltotal', 'arthuralmotar', 'incrivela', 'executivas', 'convivencia', 'quande', 'conectada', 'missaosp', 'missaoempresarial', 'mulheresempreendedoro', 'mge', 'politicadascoiso', 'timidez', 'clinicadrasilvanachedi', 'laironmaiden', 'brucedickinson', 'gracinha', 'btgpactuar', 'privatebankr', 'providenciar', 'unifiquem', 'supervalorizacao', 'antecipacaor', 'precisariar', 'cofr', 'gerandomer', 'herdarsbrasil', 'eusouloopbrazil', 'apta', 'bonifacia', 'veniceinvest', 'atividadefisico', 'parquemaebonifacia', 'miraggioveiculo', 'urbanoide', 'sup', 'inviavel', 'kaka', 'quiero', 'vece', 'aunque', 'termine', 'muerta', 'jejeje', 'btgvirtualchallengir', 'desafiobtgvirtual', 'deal', 'topar', 'sinusitar', 'obedecer', 'dorflex', 'thalysson', 'evolucoes', 'currencyr', 'contracts', 'programavel', 'corridaderuo', 'runnergirl', 'considero', 'bike', 'quemdancaemaisfeliz', 'claudiaeisabellasetaciadedanco', 'seg', 'heloalver', 'casadepedra', 'escalada', 'climb', 'desgracar', 'mochila', 'bolsonarismo', 'zamvelli', 'desmonte', 'saqueamento', 'investirei', 'elegibilidade', 'rp', 'bancorendimento', 'edreypierrer', 'pizaricardo', 'acaciodorta', 'luizapoliti', 'eela', 'neelasa', 'desapontar', 'falardesculpa', 'plausivel', 'lamentar', 'musar', 'animadoestar', 'cadastrandomal', 'veramagalhaesjornalista', 'oficialmagnomaltar', 'francischini', 'heinzeoficial', 'sostenescavalcante', 'seminarioic', 'rat', 'palavrachave', 'strategy', 'sugerer', 'finalizamos', 'racheldare', 'lucaahondo', 'rivkahlover', 'realinvestitau', 'microcreditoitau', 'tabua', 'iluminir', 'nadasuperaarotina', 'realizador', 'bottom', 'braziljournal', 'creditonoagro', 'expander', 'anualizar', 'trimestr', 'dolarizar', 'udemal', 'creditodebito', 'negociavel', 'autorizei', 'inoperante', 'formalizei', 'indevida', 'isentoes', 'maiprianr', 'naobse', 'cobtabestar', 'judiacial', 'eravtwr', 'wtamaster', 'iga', 'swiatek', 'sakkari', 'kvitova', 'karolino', 'pliskovo', 'belinda', 'bencic', 'ndeg', 'duplas', 'princesinha', 'maia', 'vilarinho', 'wwwdiariocomercialcombr', 'satisfazr', 'seguran', 'jabdesde', 'urgenciar', 'posicionado', 'fruta', 'legume', 'cereal', 'fazendeiro', 'camelo', 'banquer', 'calcar', 'egociamo', 'bloqueaano', 'fazemperder', 'aprisionado', 'vamooosr', 'uniformizar', 'encrachazar', 'utilitie', 'quartafeirar', 'extraordinaria', 'engiebrasil', 'adie', 'aprenderparaempreender', 'empreendertransforma', 'aprendaaempreender', 'transparency', 'doubts', 'seeing', 'paid', 'deemed', 'necessary', 'public', 'them', 'canr', 'suffering', 'platform', 'took', 'financially', 'responsible', 'thats', 'afor', 'batalhador', 'hahaha', 'vezdontr', 'universar', 'desburocratizacoes', 'focando', 'celebrating', 'anniversary', 'trajectory', 'plans', 'being', 'students', 'above', 'marcosalonsophoto', 'fernandakirmayr', 'ensaio', 'viandregueti', 'devorador', 'paiso', 'liquida', 'vivest', 'actum', 'bv', 'semarcr', 'ouvidora', 'senacon', 'amauryr', 'sergiogiannello', 'lauratirelli', 'claudiasilvano', 'luciafariasombudsman', 'mprandini', 'semarc', 'rodovia', 'login', 'ponho', 'lkkk', 'escreva', 'portifoliodeinvestimento', 'janiro', 'guibernar', 'frequento', 'cerquesar', 'cirochave', 'importacoes', 'baguncar', 'darfs', 'decepcoes', 'prosseguirr', 'eventoscampina', 'urbanismo', 'acic', 'sanasa', 'hm', 'dbi', 'realty', 'swiss', 'thcm', 'eeletromidio', 'lg', 'motar', 'savegnago', 'furlan', 'rdz', 'patriani', 'dahruj', 'incorpir', 'cristal', 'prar', 'ala', 'alegorico', 'consulado', 'glicerio', 'correios', 'elh', 'festividade', 'saguao', 'paco', 'municipal', 'saxofonista', 'adner', 'cantora', 'wr', 'producoe', 'dario', 'saadi', 'atracoes', 'ajudarao', 'flosi', 'caprioli', 'duplar', 'fundacoe', 'hdf', 'atmos', 'dynamo', 'maioresgestora', 'aprenderar', 'httpswwwbtgpactualdigitalcomcomoinvestirartigosinvestimentosmarcacaoamercadooqueecomofuncionaevantagem', 'pluribu', 'unum', 'apareco', 'henaramatache', 'rocketathlete', 'cheia', 'almejamos', 'ricamorim', 'chitaozinhooficial', 'diariocatarinensar', 'marceloqueirogo', 'waiver', 'lavar', 'gabrielaprioli', 'onyxlorenzonir', 'realpfigueiredo', 'epheliolopes', 'davialcolumbre', 'concessoes', 'rodoviaria', 'panelista', 'cintir', 'rafaella', 'pecanhar', 'guzela', 'radames', 'casseb', 'marcato', 'sattamini', 'cassanigar', 'ganut', 'ura', 'perfininfraday', 'rdsummit', 'rdstation', 'dilmo', 'derrubada', 'refaz', 'marcellomacedoadvogar', 'sofri', 'golpee', 'concelho', 'gurus', 'opcaotraders', 'retornario', 'cairao', 'itauparaguay', 'aguarde', 'incomparavel', 'ufv', 'contarer', 'banr', 'bemhumorar', 'brucedickinsonr', 'uptheirons', 'somandar', 'esperarora', 'bloquearar', 'monicaiozzi', 'gessinger', 'sandradesa', 'filgmartin', 'maraluquet', 'mdbrs', 'arthurvirgilionetoam', 'bandnewssaopaulo', 'embaixadachina', 'franceaubresil', 'australianobr', 'boldsnack', 'imitar', 'elenalandau', 'incorpor', 'rusrus', 'reduzer', 'nortear', 'klabin', 'lute', 'lanccamento', 'itapetiningasp', 'apresentarmos', 'macroecononomia', 'jpara', 'liderenco', 'curriculos', 'workshopdetecnologiar', 'estudantedetech', 'vagasemtech', 'carreiraemtecnologia', 'vagasnomercadofinanceiro', 'vagasdeestagio', 'universitario', 'bancorandonr', 'bancomasteroficial', 'financasempresarial', 'investidoresdesucesso', 'coordenadora', 'assistencia', 'sedhast', 'anovaresearch', 'precisavar', 'tallisgome', 'desabamento', 'fundamentar', 'alicercar', 'imperio', 'desmoronar', 'gigantesca', 'bolsista', 'equipar', 'based', 'mentoro', 'bre', 'constroem', 'convoca', 'maravilhosamente', 'danilolandeiror', 'romulopessoalopes', 'souzawiller', 'tiagomachadobar', 'lucascampo', 'caiocesarceo', 'enialago', 'oleaorugir', 'apaixonadafa', 'nachoguedez', 'carlosvigonbt', 'diegoaguzman', 'andrecolavitar', 'gabanzola', 'fisio', 'carvajal', 'conmigo', 'itfbeachtennisworldcup', 'apoiarar', 'vivendadacrianca', 'acelerada', 'intituophi', 'anajulia', 'lied', 'banks', 'helped', 'elect', 'chaotic', 'scenario', 'mazettobertelli', 'garotinho', 'incomum', 'apeler', 'parabensaograndeempreendimento', 'corretar', 'estreio', 'newmal', 'bayescapital', 'novuscapital', 'fundosmultimercar', 'alternativar', 'miss', 'aprendermos', 'genuinamente', 'missmind', 'confiem', 'safados', 'namastir', 'hojemesmo', 'clientebreve', 'mude', 'pattyhernandez', 'dividar', 'indenizatorio', 'pagarei', 'microempreendedor', 'luan', 'admiradora', 'transformadore', 'manduzisses', 'sejaseven', 'aislivr', 'arrecadar', 'permissaor', 'rur', 'aprovacoes', 'regulatoria', 'farroupilha', 'urgentemente', 'chines', 'reconducao', 'cupula', 'ccp', 'escalao', 'desfavoravel', 'elevamo', 'estimativo', 'enchimento', 'incessantemente', 'epoca', 'inundado', 'explicarer', 'httpswwwbtgpactualdigitalcomcomoinvestirartigoscolunagustavocerbasicomprasdefimdeanocomoseplanejar', 'aprofundamo', 'urquizar', 'arquibancadas', 'pertinho', 'pulseir', 'portaria', 'perene', 'notorio', 'torres', 'odontologiaporamor', 'qualidadeemsaude', 'checkupdigitalodontologicopreventivo', 'rhodontologiar', 'antoniar', 'vicentim', 'wecreatespark', 'drycatgin', 'beedoo', 'ailarning', 'azosseguro', 'geiko', 'cypreste', 'crialo', 'horrivelllllllll', 'constrangedor', 'fodacmano', 'liderancas', 'narrar', 'espacosi', 'estivesser', 'reenergizado', 'sigam', 'chalanaesperanca', 'silvestressc', 'ceto', 'avesdenoronha', 'ieseduco', 'apoiem', 'infographic', 'infografico', 'molho', 'marrons', 'fiagrar', 'rodape', 'wwwclubefiicombr', 'direction', 'deside', 'perdido', 'bemsuceder', 'cadastrei', 'deixem', 'aliquota', 'veraodaspoderosa', 'ftalmozonasul', 'previsaor', 'medeixoy', 'bilateral', 'piaui', 'cearar', 'parano', 'construcoes', 'debenturir', 'bureau', 'verita', 'investidorqualquer', 'bolsasdevalor', 'httpsbitlyfgvfinancebtg', 'neee', 'veniceinvestimento', 'agenciademodelo', 'empresadevento', 'agenciadevento', 'empresadesucesso', 'recepcionista', 'promotoro', 'barman', 'supervisao', 'sampling', 'blitz', 'httpswwwbtgpactualdigitalcomcomoinvestirartigosfinancasentendaoquesaoecomoorganizaroscustosfixosevariaveisnasfinancaspessoal', 'contatoinvestcombr', 'semifinal', 'parabenizamo', 'pedrinsampaio', 'gabrielrosr', 'cout', 'vini', 'joemcopeli', 'jpcalmeida', 'gustavobagio', 'cesarmayon', 'caloteiro', 'telha', 'bota', 'island', 'tnthassianave', 'income', 'extends', 'including', 'however', 'alternative', 'include', 'fee', 'exempt', 'incomer', 'profitability', 'weight', 'taxe', 'usually', 'factor', 'considered', 'depends', 'profile', 'count', 'answer', 'questions', 'clarify', 'important', 'information', 'challenges', 'professionals', 'capable', 'providing', 'decisionsr', 'ofinanceiro', 'financialplanning', 'faaaser', 'primordio', 'diadoempreendedorismofeminino', 'alugado', 'aguia', 'vescovi', 'minhamelhorescolha', 'suicar', 'maiorbancodeinvestimentodaamericalar', 'tino', 'americalatino', 'nomadedigital', 'fitnessgirl', 'believe', 'believeinyourself', 'vemserbtgpactualdigital', 'vemtrabalharfeliz', 'gerentebanco', 'vistaacamisar', 'luxurytmr', 'infinity', 'antecipadamente', 'enthusiasm', 'participation', 'course', 'carried', 'therar', 'months', 'mentoring', 'followup', 'sustainability', 'expansion', 'coursar', 'institutions', 'participating', 'were', 'presentatiom', 'sideway', 'lookr', 'records', 'iffarcampuspanambi', 'georgeleandro', 'caroleucht', 'alxbossir', 'mentalmente', 'irritar', 'encar', 'gentis', 'vindas', 'culinario', 'riquezo', 'lrimeiro', 'blogjoaoalberto', 'walmorsouza', 'veraodaspoderoso', 'mfmarinaclube', 'thalytakarlar', 'dpretosambaclub', 'dronepac', 'oftalmozonasul', 'draadelinaodonto', 'kakatorga', 'angelicapontual', 'adricavalcantir', 'coopanestal', 'cooperar', 'treinaram', 'fest', 'teen', 'friendly', 'petisco', 'paisefilhossm', 'japonês', 'sushiyoubrasil', 'feijoar', 'picoles', 'soleneveoficial', 'reuna', 'jf', 'juizdefora', 'assuntaoficial', 'fanfest', 'dfdgsdf', 'cronogramar', 'ocorrerao', 'desconfortavel', 'juncao', 'possuida', 'aproximado', 'guine', 'bissau', 'class', 'estrategias', 'encaixe', 'mariba', 'fracionaria', 'cobrassir', 'policia', 'desonestar', 'desoner', 'continuarao', 'brutalmente', 'brito', 'bramex', 'aumentarao', 'fundosimo', 'falcatrua', 'escarnio', 'eur', 'gte', 'goleiro', 'tranquilidader', 'zagueiro', 'defensivo', 'meiocampo', 'ger', 'atacante', 'contraataque', 'escalacao', 'doarr', 'permitirmos', 'rosewoodsaopaulo', 'aptkspirits', 'trousseauoficial', 'ara', 'vartanian', 'aigaispa', 'calliechocolats', 'mulapretar', 'nbsteak', 'avecgastronomie', 'donalboyd', 'brothersbarsp', 'titinaleao', 'mattardeniser', 'caimanpantanal', 'pousadatrijuncao', 'anavilhanaslodger', 'inimigosdahpoficial', 'alankinx', 'klebbertoledo', 'henrizylber', 'rayssalealsk', 'wsl', 'rubarrichello', 'fhit', 'coordinareevento', 'ffreixosa', 'thabatacordeirofotografar', 'oluiz', 'abo', 'apensar', 'ficaremos', 'il', 'nostro', 'lavoro', 'lungo', 'avenue', 'nomad', 'calculadorar', 'arnold', 'schwarzenegger', 'nostra', 'strado', 'lunga', 'avantgardemotors', 'fundamentonet', 'colaboracoes', 'guardioe', 'araber', 'cravar', 'herois', 'cifra', 'transmissoe', 'ciclismo', 'terco', 'coper', 'televisao', 'seguidar', 'schiller', 'proponho', 'liceu', 'miolo', 'cracolandia', 'dirigir', 'padre', 'marista', 'secular', 'ipse', 'literis', 'qye', 'institucionalizar', 'cronometro', 'programese', 'mete', 'escolhermos', 'clearcorretoro', 'interbr', 'personalite', 'avelme', 'garcaequities', 'teso', 'inspecao', 'veterinaria', 'warm', 'michelinbrasil', 'hipismorj', 'aptkspirit', 'juntospelaconservacao', 'btgpacutal', 'apology', 'doubt', 'sincerity', 'professionalism', 'received', 'second', 'became', 'realityr', 'payments', 'bahiaaaaa', 'hapvidasaude', 'valar', 'localiza', 'produzimos', 'stto', 'nuncamal', 'coursedesigner', 'ericar', 'sagrouse', 'polano', 'derrube', 'camps', 'gsttrader', 'evoluimos', 'mariadaltoe', 'caiocasabonar', 'jubasa', 'matheusdmgomes', 'cesarpriolo', 'sicchir', 'metros', 'nesse', 'helenapipa', 'jamillecunhadesa', 'carlamfmirando', 'rekastrup', 'fredmafort', 'giovannahgn', 'alaislimar', 'artesanatos', 'joneve', 'gracebijueacessorio', 'rosamssrj', 'germanacombr', 'criativarte', 'neiadecoracoes', 'iraciartesa', 'criacoesbyana', 'mamaditeiu', 'renataabranchsbranding', 'criavel', 'seimrio', 'parceriacariocar', 'colaborario', 'joselealze', 'atelie', 'murilomelo', 'elenamartinis', 'afabular', 'artrio', 'widecomunicacaoexpandida', 'institutorme', 'bezzoura', 'champs', 'mouro', 'henessy', 'hst', 'roza', 'orangir', 'hipismobr', 'uirapuru', 'diverter', 'judoco', 'tati', 'randoris', 'churro', 'pasteis', 'refrigerante', 'suco', 'diadascrianca', 'caisdosertao', 'artfair', 'vernhaliar', 'caique', 'dantas', 'lose', 'happem', 'failure', 'cause', 'trying', 'cotinuously', 'fortunately', 'smiling', 'getting', 'involved', 'him', 'combr', 'aniversariosolidario', 'argentino', 'usain', 'bolt', 'memorias', 'operamo', 'empenha', 'proativo', 'dealer', 'horus', 'financie', 'horusdistribuidora', 'financiamentosolar', 'broadcast', 'classificador', 'austin', 'enviamos', 'heldt', 'tristeee', 'mantenhar', 'bloomcapitalbtg', 'episodior', 'httpswwwbtgpactualdigitalcomcomoinvestirartigosbibliotecabtgresenhadolivroinvestimentossegredoseconselho', 'usualmente', 'observamos', 'branda', 'passagem', 'subjacente', 'difusaor', 'bcb', 'inflacionaria', 'deterioracao', 'desoneracoes', 'depreciacao', 'ressaltamos', 'pontualmente', 'possuar', 'concertar', 'sogro', 'utiliza', 'mereciar', 'nunbak', 'cliques', 'arie', 'carneiro', 'brisa', 'demaiso', 'ruan', 'ferrao', 'chaves', 'ch', 'cascharella', 'cher', 'araucar', 'chiroccco', 'cyrana', 'jca', 'ferruci', 'bredariol', 'nobu', 'pullman', 'bisco', 'shaitaan', 'krisbel', 'ferluche', 'kergas', 'gazarin', 'pafflar', 'klynberg', 'noronha', 'tergilene', 'salek', 'thelma', 'olivia', 'pastore', 'vilela', 'cleo', 'cesnik', 'cassanto', 'botelho', 'greenlees', 'veneur', 'ste', 'hermelle', 'kraus', 'hfg', 'mandaliti', 'umburana', 'christiani', 'marchezoni', 'junqueira', 'bf', 'jessicar', 'dejet', 'platino', 'hfb', 'diaratha', 'ctropicano', 'isabella', 'tovani', 'chevaux', 'jlp', 'mr', 'lou', 'paraa', 'yamim', 'gouvear', 'bollywood', 'dialoubet', 'ando', 'porcs', 'princess', 'revel', 'hipica', 'vencemo', 'cobicar', 'egua', 'dinoso', 'hipicapaulista', 'worldcupqualifier', 'seniortopr', 'rme', 'sacanear', 'semvergonha', 'assumar', 'receio', 'canarinho', 'verdeeamarelo', 'copadaver', 'desconfiei', 'numbak', 'mimimi', 'trabalhario', 'admissao', 'geopolitica', 'precifcar', 'carente', 'pauloguede', 'matrizcapital', 'aragon', 'agenteautonomosdeinvestimento', 'investimentosalternativo', 'afaster', 'incomodo', 'vassalo', 'ahh', 'selecaobrasileira', 'hexo', 'vinijr', 'seixas', 'tornese', 'saladaorganicaosocial', 'saladaorganico', 'projetosarcah', 'moradoresderua', 'ajudeaspessoa', 'euacreditoempessoasboa', 'jornadadaautonomia', 'agricultoresdober', 'permaculturo', 'vergnh', 'rezudir', 'limitedo', 'officer', 'encerraremos', 'tristeza', 'ottinho', 'paranaense', 'sotaque', 'ingressei', 'conquiste', 'octoeducacional', 'samanthaborges', 'octorbtg', 'ucasamadeu', 'precariedade', 'totamente', 'indole', 'guys', 'ask', 'platforr', 'use', 'highly', 'recommend', 'here', 'addition', 'having', 'realtime', 'simulator', 'allow', 'keep', 'operate', 'request', 'behavior', 'thus', 'develop', 'faster', 'reda', 'marico', 'uspara', 'japao', 'presal', 'presalt', 'alaska', 'norges', 'comedor', 'calango', 'respeitavel', 'cristao', 'terrorista', 'lambanco', 'httpsdataworldbankorgindicatornygdppcapcadêzglocationsbrnow', 'httpsdataworldbankorgindicatornygdppcapcdlocationsbrnow', 'entro', 'pronta', 'efeitomanar', 'perfildeinvestidor', 'conquistas', 'amante', 'bicampeao', 'gps', 'novinho', 'trofeurobertomarinho', 'grandslar', 'cum', 'malabarismo', 'guedesoficial', 'luizaerundino', 'uoleconomio', 'cbnsalvadoroficial', 'jornalbsm', 'jornalextro', 'nikolasferreiraadm', 'armadilhar', 'ilusoe', 'kkkkkkr', 'fragil', 'vagas', 'foguetinho', 'sito', 'conhecerar', 'quebre', 'republicano', 'bolsonarotv', 'terrabrasilnoticio', 'vlogdolisboo', 'andrefernandesbr', 'meciasdejesus', 'adrillesjorge', 'jonathannemer', 'caioccoppolla', 'robertomottaoficial', 'marceloque', 'jornalfolhanoroeste', 'folhailustrar', 'terezacristinamsr', 'embaixadajapao', 'ukinbrazil', 'embaixadachino', 'brasiliauae', 'suicanobrasil', 'italyinbrazil', 'embaixadacorear', 'embamexbrar', 'embaixadadoira', 'australianobrasil', 'embaargenbrasil', 'austriaembaixar', 'juventudepsdb', 'psdbrs', 'architecturar', 'canonbr', 'stm', 'canoncollegeoficial', 'adobe', 'adobebra', 'canond', 'canoneo', 'canoneosd', 'canonphotography', 'canonprogear', 'canonmm', 'canonmmstm', 'canoncamera', 'canonlem', 'urbanphotography', 'architecture', 'pagalo', 'controleemocional', 'apsicologiafinanceira', 'estudamos', 'prezamos', 'adoraria', 'coube', 'csna', 'bpan', 'embr', 'forexsignals', 'entrepreneur', 'forexlife', 'technicalanalysi', 'swingtrading', 'financialfreedom', 'forexmarket', 'confra', 'araceli', 'chacon', 'inv', 'sequencio', 'parceiria', 'acompanharlos', 'perseveranca', 'superacoe', 'pessoar', 'fofa', 'avinday', 'multiartista', 'cabral', 'pinturo', 'especificar', 'realismo', 'diaspor', 'fotoshooting', 'altacostura', 'brasilidade', 'mistico', 'prints', 'nuvir', 'store', 'armazen', 'alfredo', 'atacadista', 'df', 'sindiatacadistadf', 'sankhyagestao', 'sankhy', 'interestelar', 'cordeirodia', 'caer', 'ohh', 'coelhinho', 'selecionei', 'ifx', 'ostentar', 'guadakan', 'espetaculo', 'concert', 'anotem', 'convencoes', 'sessoes', 'lembramo', 'coreografo', 'chico', 'neller', 'prefeituradecorumbar', 'cpanufmsoficial', 'sebraems']\n",
            "[[0. 1. 0. ... 0. 0. 0.]\n",
            " [0. 1. 1. ... 0. 0. 0.]\n",
            " [0. 0. 0. ... 0. 0. 0.]\n",
            " ...\n",
            " [0. 2. 5. ... 0. 0. 0.]\n",
            " [0. 1. 1. ... 1. 1. 1.]\n",
            " [0. 0. 1. ... 0. 0. 0.]]\n"
          ]
        }
      ],
      "source": [
        "#execução do modelo, e salvamento de variaveis\n",
        "vetor,dicionario = (modeloBow(df['texto']))\n",
        "dicionario = list(dicionario.word_index.keys())\n",
        "print(dicionario)\n",
        "print(vetor)"
      ]
    },
    {
      "cell_type": "markdown",
      "metadata": {
        "id": "lcrXY9o89bNg"
      },
      "source": [
        "#### 4.3.1 Criação de dataframe com resultado final"
      ]
    },
    {
      "cell_type": "markdown",
      "metadata": {
        "id": "SayKYNkDyRoM"
      },
      "source": [
        "Nesse dataframe encontra-se o resultado obtido após a execução da função pipeline."
      ]
    },
    {
      "cell_type": "code",
      "execution_count": null,
      "metadata": {
        "colab": {
          "base_uri": "https://localhost:8080/",
          "height": 1000
        },
        "id": "BRPOsLKK9gSr",
        "outputId": "22c808f2-9eb6-4bf5-d24f-1cfd03efacdc"
      },
      "outputs": [
        {
          "output_type": "execute_result",
          "data": {
            "text/plain": [
              "                                                    btgpactual  nao  \\\n",
              "dadosTratados                                                         \n",
              "alvarez    marsal estarar Conosco sportainmetr ...         1.0  0.0   \n",
              "repost btgpactual With Make_repost    entendar ...         1.0  1.0   \n",
              "minuto touro ouro                                          0.0  0.0   \n",
              "                                                           0.0  0.0   \n",
              "querer    banking proprio    administrar                   0.0  0.0   \n",
              "...                                                        ...  ...   \n",
              "atendar telefone amor Deus                                 0.0  0.0   \n",
              "voce sao    grande fiis mercado nao     selecio...         1.0  2.0   \n",
              "erro financeiro eliminar    ano    parar ostent...         2.0  5.0   \n",
              "guadakan chegar    aula publico formato espetac...         1.0  1.0   \n",
              "   morning call nao aparecer spotify atualizar ...         0.0  1.0   \n",
              "\n",
              "                                                    investimento  voce  banco  \\\n",
              "dadosTratados                                                                   \n",
              "alvarez    marsal estarar Conosco sportainmetr ...           0.0   0.0    0.0   \n",
              "repost btgpactual With Make_repost    entendar ...           0.0   0.0    0.0   \n",
              "minuto touro ouro                                            0.0   0.0    0.0   \n",
              "                                                             0.0   0.0    0.0   \n",
              "querer    banking proprio    administrar                     0.0   0.0    0.0   \n",
              "...                                                          ...   ...    ...   \n",
              "atendar telefone amor Deus                                   0.0   0.0    0.0   \n",
              "voce sao    grande fiis mercado nao     selecio...           0.0   1.0    0.0   \n",
              "erro financeiro eliminar    ano    parar ostent...           1.0   0.0    0.0   \n",
              "guadakan chegar    aula publico formato espetac...           0.0   1.0    0.0   \n",
              "   morning call nao aparecer spotify atualizar ...           0.0   0.0    0.0   \n",
              "\n",
              "                                                    dia  mercado  ano  bom  \\\n",
              "dadosTratados                                                                \n",
              "alvarez    marsal estarar Conosco sportainmetr ...  0.0      0.0  0.0  0.0   \n",
              "repost btgpactual With Make_repost    entendar ...  0.0      0.0  0.0  0.0   \n",
              "minuto touro ouro                                   0.0      0.0  0.0  0.0   \n",
              "                                                    0.0      0.0  0.0  0.0   \n",
              "querer    banking proprio    administrar            0.0      0.0  0.0  0.0   \n",
              "...                                                 ...      ...  ...  ...   \n",
              "atendar telefone amor Deus                          0.0      0.0  0.0  0.0   \n",
              "voce sao    grande fiis mercado nao     selecio...  0.0      1.0  0.0  0.0   \n",
              "erro financeiro eliminar    ano    parar ostent...  0.0      0.0  2.0  0.0   \n",
              "guadakan chegar    aula publico formato espetac...  1.0      0.0  1.0  0.0   \n",
              "   morning call nao aparecer spotify atualizar ...  3.0      0.0  0.0  0.0   \n",
              "\n",
              "                                                    financeiro  ...  anotem  \\\n",
              "dadosTratados                                                   ...           \n",
              "alvarez    marsal estarar Conosco sportainmetr ...         0.0  ...     0.0   \n",
              "repost btgpactual With Make_repost    entendar ...         0.0  ...     0.0   \n",
              "minuto touro ouro                                          0.0  ...     0.0   \n",
              "                                                           0.0  ...     0.0   \n",
              "querer    banking proprio    administrar                   0.0  ...     0.0   \n",
              "...                                                        ...  ...     ...   \n",
              "atendar telefone amor Deus                                 0.0  ...     0.0   \n",
              "voce sao    grande fiis mercado nao     selecio...         0.0  ...     0.0   \n",
              "erro financeiro eliminar    ano    parar ostent...         2.0  ...     0.0   \n",
              "guadakan chegar    aula publico formato espetac...         0.0  ...     1.0   \n",
              "   morning call nao aparecer spotify atualizar ...         0.0  ...     0.0   \n",
              "\n",
              "                                                    convencoes  sessoes  \\\n",
              "dadosTratados                                                             \n",
              "alvarez    marsal estarar Conosco sportainmetr ...         0.0      0.0   \n",
              "repost btgpactual With Make_repost    entendar ...         0.0      0.0   \n",
              "minuto touro ouro                                          0.0      0.0   \n",
              "                                                           0.0      0.0   \n",
              "querer    banking proprio    administrar                   0.0      0.0   \n",
              "...                                                        ...      ...   \n",
              "atendar telefone amor Deus                                 0.0      0.0   \n",
              "voce sao    grande fiis mercado nao     selecio...         0.0      0.0   \n",
              "erro financeiro eliminar    ano    parar ostent...         0.0      0.0   \n",
              "guadakan chegar    aula publico formato espetac...         1.0      1.0   \n",
              "   morning call nao aparecer spotify atualizar ...         0.0      0.0   \n",
              "\n",
              "                                                    lembramo  coreografo  \\\n",
              "dadosTratados                                                              \n",
              "alvarez    marsal estarar Conosco sportainmetr ...       0.0         0.0   \n",
              "repost btgpactual With Make_repost    entendar ...       0.0         0.0   \n",
              "minuto touro ouro                                        0.0         0.0   \n",
              "                                                         0.0         0.0   \n",
              "querer    banking proprio    administrar                 0.0         0.0   \n",
              "...                                                      ...         ...   \n",
              "atendar telefone amor Deus                               0.0         0.0   \n",
              "voce sao    grande fiis mercado nao     selecio...       0.0         0.0   \n",
              "erro financeiro eliminar    ano    parar ostent...       0.0         0.0   \n",
              "guadakan chegar    aula publico formato espetac...       1.0         1.0   \n",
              "   morning call nao aparecer spotify atualizar ...       0.0         0.0   \n",
              "\n",
              "                                                    chico  neller  \\\n",
              "dadosTratados                                                       \n",
              "alvarez    marsal estarar Conosco sportainmetr ...    0.0     0.0   \n",
              "repost btgpactual With Make_repost    entendar ...    0.0     0.0   \n",
              "minuto touro ouro                                     0.0     0.0   \n",
              "                                                      0.0     0.0   \n",
              "querer    banking proprio    administrar              0.0     0.0   \n",
              "...                                                   ...     ...   \n",
              "atendar telefone amor Deus                            0.0     0.0   \n",
              "voce sao    grande fiis mercado nao     selecio...    0.0     0.0   \n",
              "erro financeiro eliminar    ano    parar ostent...    0.0     0.0   \n",
              "guadakan chegar    aula publico formato espetac...    1.0     1.0   \n",
              "   morning call nao aparecer spotify atualizar ...    0.0     0.0   \n",
              "\n",
              "                                                    prefeituradecorumbar  \\\n",
              "dadosTratados                                                              \n",
              "alvarez    marsal estarar Conosco sportainmetr ...                   0.0   \n",
              "repost btgpactual With Make_repost    entendar ...                   0.0   \n",
              "minuto touro ouro                                                    0.0   \n",
              "                                                                     0.0   \n",
              "querer    banking proprio    administrar                             0.0   \n",
              "...                                                                  ...   \n",
              "atendar telefone amor Deus                                           0.0   \n",
              "voce sao    grande fiis mercado nao     selecio...                   0.0   \n",
              "erro financeiro eliminar    ano    parar ostent...                   0.0   \n",
              "guadakan chegar    aula publico formato espetac...                   1.0   \n",
              "   morning call nao aparecer spotify atualizar ...                   0.0   \n",
              "\n",
              "                                                    cpanufmsoficial  sebraems  \n",
              "dadosTratados                                                                  \n",
              "alvarez    marsal estarar Conosco sportainmetr ...              0.0       0.0  \n",
              "repost btgpactual With Make_repost    entendar ...              0.0       0.0  \n",
              "minuto touro ouro                                               0.0       0.0  \n",
              "                                                                0.0       0.0  \n",
              "querer    banking proprio    administrar                        0.0       0.0  \n",
              "...                                                             ...       ...  \n",
              "atendar telefone amor Deus                                      0.0       0.0  \n",
              "voce sao    grande fiis mercado nao     selecio...              0.0       0.0  \n",
              "erro financeiro eliminar    ano    parar ostent...              0.0       0.0  \n",
              "guadakan chegar    aula publico formato espetac...              1.0       1.0  \n",
              "   morning call nao aparecer spotify atualizar ...              0.0       0.0  \n",
              "\n",
              "[9487 rows x 21297 columns]"
            ],
            "text/html": [
              "\n",
              "  <div id=\"df-3890112c-5202-468d-939c-c4d657906b00\">\n",
              "    <div class=\"colab-df-container\">\n",
              "      <div>\n",
              "<style scoped>\n",
              "    .dataframe tbody tr th:only-of-type {\n",
              "        vertical-align: middle;\n",
              "    }\n",
              "\n",
              "    .dataframe tbody tr th {\n",
              "        vertical-align: top;\n",
              "    }\n",
              "\n",
              "    .dataframe thead th {\n",
              "        text-align: right;\n",
              "    }\n",
              "</style>\n",
              "<table border=\"1\" class=\"dataframe\">\n",
              "  <thead>\n",
              "    <tr style=\"text-align: right;\">\n",
              "      <th></th>\n",
              "      <th>btgpactual</th>\n",
              "      <th>nao</th>\n",
              "      <th>investimento</th>\n",
              "      <th>voce</th>\n",
              "      <th>banco</th>\n",
              "      <th>dia</th>\n",
              "      <th>mercado</th>\n",
              "      <th>ano</th>\n",
              "      <th>bom</th>\n",
              "      <th>financeiro</th>\n",
              "      <th>...</th>\n",
              "      <th>anotem</th>\n",
              "      <th>convencoes</th>\n",
              "      <th>sessoes</th>\n",
              "      <th>lembramo</th>\n",
              "      <th>coreografo</th>\n",
              "      <th>chico</th>\n",
              "      <th>neller</th>\n",
              "      <th>prefeituradecorumbar</th>\n",
              "      <th>cpanufmsoficial</th>\n",
              "      <th>sebraems</th>\n",
              "    </tr>\n",
              "    <tr>\n",
              "      <th>dadosTratados</th>\n",
              "      <th></th>\n",
              "      <th></th>\n",
              "      <th></th>\n",
              "      <th></th>\n",
              "      <th></th>\n",
              "      <th></th>\n",
              "      <th></th>\n",
              "      <th></th>\n",
              "      <th></th>\n",
              "      <th></th>\n",
              "      <th></th>\n",
              "      <th></th>\n",
              "      <th></th>\n",
              "      <th></th>\n",
              "      <th></th>\n",
              "      <th></th>\n",
              "      <th></th>\n",
              "      <th></th>\n",
              "      <th></th>\n",
              "      <th></th>\n",
              "      <th></th>\n",
              "    </tr>\n",
              "  </thead>\n",
              "  <tbody>\n",
              "    <tr>\n",
              "      <th>alvarez    marsal estarar Conosco sportainmetr labs evento sportainmentr americo latino parcerio     Hubstage bichar motta advogado win the Game     participe evento online gratuito     Marco inscrevase linkr bio        hubstage sportainmentlabs bicharaemotta btgpactual Winthegame sportainment esporte entretenimento digital futuro</th>\n",
              "      <td>1.0</td>\n",
              "      <td>0.0</td>\n",
              "      <td>0.0</td>\n",
              "      <td>0.0</td>\n",
              "      <td>0.0</td>\n",
              "      <td>0.0</td>\n",
              "      <td>0.0</td>\n",
              "      <td>0.0</td>\n",
              "      <td>0.0</td>\n",
              "      <td>0.0</td>\n",
              "      <td>...</td>\n",
              "      <td>0.0</td>\n",
              "      <td>0.0</td>\n",
              "      <td>0.0</td>\n",
              "      <td>0.0</td>\n",
              "      <td>0.0</td>\n",
              "      <td>0.0</td>\n",
              "      <td>0.0</td>\n",
              "      <td>0.0</td>\n",
              "      <td>0.0</td>\n",
              "      <td>0.0</td>\n",
              "    </tr>\n",
              "    <tr>\n",
              "      <th>repost btgpactual With Make_repost    entendar impacto conflito Russia x ucrania cenario global live inedito amanho h anatole Kaletsky sociofundador Economistachefe Gavekal research joao scandiuzzi estrategista global     Wealth Management moderacao daniel Cunha     estarao vivo canal youtube nao percar    informacao importante audio original ingles</th>\n",
              "      <td>1.0</td>\n",
              "      <td>1.0</td>\n",
              "      <td>0.0</td>\n",
              "      <td>0.0</td>\n",
              "      <td>0.0</td>\n",
              "      <td>0.0</td>\n",
              "      <td>0.0</td>\n",
              "      <td>0.0</td>\n",
              "      <td>0.0</td>\n",
              "      <td>0.0</td>\n",
              "      <td>...</td>\n",
              "      <td>0.0</td>\n",
              "      <td>0.0</td>\n",
              "      <td>0.0</td>\n",
              "      <td>0.0</td>\n",
              "      <td>0.0</td>\n",
              "      <td>0.0</td>\n",
              "      <td>0.0</td>\n",
              "      <td>0.0</td>\n",
              "      <td>0.0</td>\n",
              "      <td>0.0</td>\n",
              "    </tr>\n",
              "    <tr>\n",
              "      <th>minuto touro ouro</th>\n",
              "      <td>0.0</td>\n",
              "      <td>0.0</td>\n",
              "      <td>0.0</td>\n",
              "      <td>0.0</td>\n",
              "      <td>0.0</td>\n",
              "      <td>0.0</td>\n",
              "      <td>0.0</td>\n",
              "      <td>0.0</td>\n",
              "      <td>0.0</td>\n",
              "      <td>0.0</td>\n",
              "      <td>...</td>\n",
              "      <td>0.0</td>\n",
              "      <td>0.0</td>\n",
              "      <td>0.0</td>\n",
              "      <td>0.0</td>\n",
              "      <td>0.0</td>\n",
              "      <td>0.0</td>\n",
              "      <td>0.0</td>\n",
              "      <td>0.0</td>\n",
              "      <td>0.0</td>\n",
              "      <td>0.0</td>\n",
              "    </tr>\n",
              "    <tr>\n",
              "      <th></th>\n",
              "      <td>0.0</td>\n",
              "      <td>0.0</td>\n",
              "      <td>0.0</td>\n",
              "      <td>0.0</td>\n",
              "      <td>0.0</td>\n",
              "      <td>0.0</td>\n",
              "      <td>0.0</td>\n",
              "      <td>0.0</td>\n",
              "      <td>0.0</td>\n",
              "      <td>0.0</td>\n",
              "      <td>...</td>\n",
              "      <td>0.0</td>\n",
              "      <td>0.0</td>\n",
              "      <td>0.0</td>\n",
              "      <td>0.0</td>\n",
              "      <td>0.0</td>\n",
              "      <td>0.0</td>\n",
              "      <td>0.0</td>\n",
              "      <td>0.0</td>\n",
              "      <td>0.0</td>\n",
              "      <td>0.0</td>\n",
              "    </tr>\n",
              "    <tr>\n",
              "      <th>querer    banking proprio    administrar</th>\n",
              "      <td>0.0</td>\n",
              "      <td>0.0</td>\n",
              "      <td>0.0</td>\n",
              "      <td>0.0</td>\n",
              "      <td>0.0</td>\n",
              "      <td>0.0</td>\n",
              "      <td>0.0</td>\n",
              "      <td>0.0</td>\n",
              "      <td>0.0</td>\n",
              "      <td>0.0</td>\n",
              "      <td>...</td>\n",
              "      <td>0.0</td>\n",
              "      <td>0.0</td>\n",
              "      <td>0.0</td>\n",
              "      <td>0.0</td>\n",
              "      <td>0.0</td>\n",
              "      <td>0.0</td>\n",
              "      <td>0.0</td>\n",
              "      <td>0.0</td>\n",
              "      <td>0.0</td>\n",
              "      <td>0.0</td>\n",
              "    </tr>\n",
              "    <tr>\n",
              "      <th>...</th>\n",
              "      <td>...</td>\n",
              "      <td>...</td>\n",
              "      <td>...</td>\n",
              "      <td>...</td>\n",
              "      <td>...</td>\n",
              "      <td>...</td>\n",
              "      <td>...</td>\n",
              "      <td>...</td>\n",
              "      <td>...</td>\n",
              "      <td>...</td>\n",
              "      <td>...</td>\n",
              "      <td>...</td>\n",
              "      <td>...</td>\n",
              "      <td>...</td>\n",
              "      <td>...</td>\n",
              "      <td>...</td>\n",
              "      <td>...</td>\n",
              "      <td>...</td>\n",
              "      <td>...</td>\n",
              "      <td>...</td>\n",
              "      <td>...</td>\n",
              "    </tr>\n",
              "    <tr>\n",
              "      <th>atendar telefone amor Deus</th>\n",
              "      <td>0.0</td>\n",
              "      <td>0.0</td>\n",
              "      <td>0.0</td>\n",
              "      <td>0.0</td>\n",
              "      <td>0.0</td>\n",
              "      <td>0.0</td>\n",
              "      <td>0.0</td>\n",
              "      <td>0.0</td>\n",
              "      <td>0.0</td>\n",
              "      <td>0.0</td>\n",
              "      <td>...</td>\n",
              "      <td>0.0</td>\n",
              "      <td>0.0</td>\n",
              "      <td>0.0</td>\n",
              "      <td>0.0</td>\n",
              "      <td>0.0</td>\n",
              "      <td>0.0</td>\n",
              "      <td>0.0</td>\n",
              "      <td>0.0</td>\n",
              "      <td>0.0</td>\n",
              "      <td>0.0</td>\n",
              "    </tr>\n",
              "    <tr>\n",
              "      <th>voce sao    grande fiis mercado nao     selecionei principal destaque mes novembro termos numero cotisto participacao ifx mercar paravpa dividendo    lembrese nao significar recomendacao compra ativo matheusfiis recomendar estao disponivel site btgpactual</th>\n",
              "      <td>1.0</td>\n",
              "      <td>2.0</td>\n",
              "      <td>0.0</td>\n",
              "      <td>1.0</td>\n",
              "      <td>0.0</td>\n",
              "      <td>0.0</td>\n",
              "      <td>1.0</td>\n",
              "      <td>0.0</td>\n",
              "      <td>0.0</td>\n",
              "      <td>0.0</td>\n",
              "      <td>...</td>\n",
              "      <td>0.0</td>\n",
              "      <td>0.0</td>\n",
              "      <td>0.0</td>\n",
              "      <td>0.0</td>\n",
              "      <td>0.0</td>\n",
              "      <td>0.0</td>\n",
              "      <td>0.0</td>\n",
              "      <td>0.0</td>\n",
              "      <td>0.0</td>\n",
              "      <td>0.0</td>\n",
              "    </tr>\n",
              "    <tr>\n",
              "      <th>erro financeiro eliminar    ano    parar ostentar    nao controlar orcamento    nao planejar futuro    nao formar reserva emergencia    nao falar dinheiro    esperar comecar investir     Wwwamgcapitalcombr    email contatocombr    credenciados btgpactual     telefone sao Paulo      Porto alegre      florianopoli        disclaimer post carater informativo nao constituir oferta compra vendo ativo financeiro    amgcapital btgpactual investimento acoes ano economia ibovespa educacaofinanceirar</th>\n",
              "      <td>2.0</td>\n",
              "      <td>5.0</td>\n",
              "      <td>1.0</td>\n",
              "      <td>0.0</td>\n",
              "      <td>0.0</td>\n",
              "      <td>0.0</td>\n",
              "      <td>0.0</td>\n",
              "      <td>2.0</td>\n",
              "      <td>0.0</td>\n",
              "      <td>2.0</td>\n",
              "      <td>...</td>\n",
              "      <td>0.0</td>\n",
              "      <td>0.0</td>\n",
              "      <td>0.0</td>\n",
              "      <td>0.0</td>\n",
              "      <td>0.0</td>\n",
              "      <td>0.0</td>\n",
              "      <td>0.0</td>\n",
              "      <td>0.0</td>\n",
              "      <td>0.0</td>\n",
              "      <td>0.0</td>\n",
              "    </tr>\n",
              "    <tr>\n",
              "      <th>guadakan chegar    aula publico formato espetaculo moinho in concert ser preparar emocao entusiasmo levar voce pouquinho pantanal ciclo    ja anotem    agenda      dezembro encontro marcar centro convencoes pantanal    estarer divulgar entrada estarao disponivel Secretaria    ano serao    Sessoes    dezembro    hora    hora    dia    dezembro    hora    hora    nao desculpa perder     lembramo entrada sao limitar razao importante garantir antecedencia    confirar acima depoimento coreografo chico neller preparacao acao cheio musica muito danca    institutoculturalvale institutofar_hinode    rolonmarcia itausocial visa_br Brinksbrasil btgpactual hinoveoficial oficialrodobem criancaesperanca supermercadoscomper sescms fecomercioms jmacedo_oficial governoms ihp_pantanal _ prefeituradecorumbar ladarioprefeituramunicipal acaiapantanal documentapantanal ifmscb cpanufmsoficial sebraems</th>\n",
              "      <td>1.0</td>\n",
              "      <td>1.0</td>\n",
              "      <td>0.0</td>\n",
              "      <td>1.0</td>\n",
              "      <td>0.0</td>\n",
              "      <td>1.0</td>\n",
              "      <td>0.0</td>\n",
              "      <td>1.0</td>\n",
              "      <td>0.0</td>\n",
              "      <td>0.0</td>\n",
              "      <td>...</td>\n",
              "      <td>1.0</td>\n",
              "      <td>1.0</td>\n",
              "      <td>1.0</td>\n",
              "      <td>1.0</td>\n",
              "      <td>1.0</td>\n",
              "      <td>1.0</td>\n",
              "      <td>1.0</td>\n",
              "      <td>1.0</td>\n",
              "      <td>1.0</td>\n",
              "      <td>1.0</td>\n",
              "    </tr>\n",
              "    <tr>\n",
              "      <th>morning call nao aparecer spotify atualizar dia aparecer errar dia atual so entrar dia seguinte</th>\n",
              "      <td>0.0</td>\n",
              "      <td>1.0</td>\n",
              "      <td>0.0</td>\n",
              "      <td>0.0</td>\n",
              "      <td>0.0</td>\n",
              "      <td>3.0</td>\n",
              "      <td>0.0</td>\n",
              "      <td>0.0</td>\n",
              "      <td>0.0</td>\n",
              "      <td>0.0</td>\n",
              "      <td>...</td>\n",
              "      <td>0.0</td>\n",
              "      <td>0.0</td>\n",
              "      <td>0.0</td>\n",
              "      <td>0.0</td>\n",
              "      <td>0.0</td>\n",
              "      <td>0.0</td>\n",
              "      <td>0.0</td>\n",
              "      <td>0.0</td>\n",
              "      <td>0.0</td>\n",
              "      <td>0.0</td>\n",
              "    </tr>\n",
              "  </tbody>\n",
              "</table>\n",
              "<p>9487 rows × 21297 columns</p>\n",
              "</div>\n",
              "      <button class=\"colab-df-convert\" onclick=\"convertToInteractive('df-3890112c-5202-468d-939c-c4d657906b00')\"\n",
              "              title=\"Convert this dataframe to an interactive table.\"\n",
              "              style=\"display:none;\">\n",
              "        \n",
              "  <svg xmlns=\"http://www.w3.org/2000/svg\" height=\"24px\"viewBox=\"0 0 24 24\"\n",
              "       width=\"24px\">\n",
              "    <path d=\"M0 0h24v24H0V0z\" fill=\"none\"/>\n",
              "    <path d=\"M18.56 5.44l.94 2.06.94-2.06 2.06-.94-2.06-.94-.94-2.06-.94 2.06-2.06.94zm-11 1L8.5 8.5l.94-2.06 2.06-.94-2.06-.94L8.5 2.5l-.94 2.06-2.06.94zm10 10l.94 2.06.94-2.06 2.06-.94-2.06-.94-.94-2.06-.94 2.06-2.06.94z\"/><path d=\"M17.41 7.96l-1.37-1.37c-.4-.4-.92-.59-1.43-.59-.52 0-1.04.2-1.43.59L10.3 9.45l-7.72 7.72c-.78.78-.78 2.05 0 2.83L4 21.41c.39.39.9.59 1.41.59.51 0 1.02-.2 1.41-.59l7.78-7.78 2.81-2.81c.8-.78.8-2.07 0-2.86zM5.41 20L4 18.59l7.72-7.72 1.47 1.35L5.41 20z\"/>\n",
              "  </svg>\n",
              "      </button>\n",
              "      \n",
              "  <style>\n",
              "    .colab-df-container {\n",
              "      display:flex;\n",
              "      flex-wrap:wrap;\n",
              "      gap: 12px;\n",
              "    }\n",
              "\n",
              "    .colab-df-convert {\n",
              "      background-color: #E8F0FE;\n",
              "      border: none;\n",
              "      border-radius: 50%;\n",
              "      cursor: pointer;\n",
              "      display: none;\n",
              "      fill: #1967D2;\n",
              "      height: 32px;\n",
              "      padding: 0 0 0 0;\n",
              "      width: 32px;\n",
              "    }\n",
              "\n",
              "    .colab-df-convert:hover {\n",
              "      background-color: #E2EBFA;\n",
              "      box-shadow: 0px 1px 2px rgba(60, 64, 67, 0.3), 0px 1px 3px 1px rgba(60, 64, 67, 0.15);\n",
              "      fill: #174EA6;\n",
              "    }\n",
              "\n",
              "    [theme=dark] .colab-df-convert {\n",
              "      background-color: #3B4455;\n",
              "      fill: #D2E3FC;\n",
              "    }\n",
              "\n",
              "    [theme=dark] .colab-df-convert:hover {\n",
              "      background-color: #434B5C;\n",
              "      box-shadow: 0px 1px 3px 1px rgba(0, 0, 0, 0.15);\n",
              "      filter: drop-shadow(0px 1px 2px rgba(0, 0, 0, 0.3));\n",
              "      fill: #FFFFFF;\n",
              "    }\n",
              "  </style>\n",
              "\n",
              "      <script>\n",
              "        const buttonEl =\n",
              "          document.querySelector('#df-3890112c-5202-468d-939c-c4d657906b00 button.colab-df-convert');\n",
              "        buttonEl.style.display =\n",
              "          google.colab.kernel.accessAllowed ? 'block' : 'none';\n",
              "\n",
              "        async function convertToInteractive(key) {\n",
              "          const element = document.querySelector('#df-3890112c-5202-468d-939c-c4d657906b00');\n",
              "          const dataTable =\n",
              "            await google.colab.kernel.invokeFunction('convertToInteractive',\n",
              "                                                     [key], {});\n",
              "          if (!dataTable) return;\n",
              "\n",
              "          const docLinkHtml = 'Like what you see? Visit the ' +\n",
              "            '<a target=\"_blank\" href=https://colab.research.google.com/notebooks/data_table.ipynb>data table notebook</a>'\n",
              "            + ' to learn more about interactive tables.';\n",
              "          element.innerHTML = '';\n",
              "          dataTable['output_type'] = 'display_data';\n",
              "          await google.colab.output.renderOutput(dataTable, element);\n",
              "          const docLink = document.createElement('div');\n",
              "          docLink.innerHTML = docLinkHtml;\n",
              "          element.appendChild(docLink);\n",
              "        }\n",
              "      </script>\n",
              "    </div>\n",
              "  </div>\n",
              "  "
            ]
          },
          "metadata": {},
          "execution_count": 23
        }
      ],
      "source": [
        "#adequação do vetor                                                                                                               #adequando o tamanho do vetor\n",
        "vetorTabela = vetor[:, 1:]\n",
        "#criando data frame\n",
        "dfBagOfWords = pd.DataFrame(vetorTabela, columns=dicionario, index=dadosTratados)\n",
        "dfBagOfWords"
      ]
    },
    {
      "cell_type": "markdown",
      "metadata": {
        "id": "5tAPjt6tqQgv"
      },
      "source": [
        "#### 4.3.2 Exportação do resultado"
      ]
    },
    {
      "cell_type": "markdown",
      "metadata": {
        "id": "LHfPmzqZqdR8"
      },
      "source": [
        "Abaixo, é possível ver a geração de um arquivo csv, com o resultado do modelo:"
      ]
    },
    {
      "cell_type": "code",
      "execution_count": null,
      "metadata": {
        "id": "x2xonxwrqa1a",
        "colab": {
          "base_uri": "https://localhost:8080/",
          "height": 328
        },
        "outputId": "044a4072-0472-4bd9-fc6d-f1b89d02ac0b"
      },
      "outputs": [
        {
          "output_type": "error",
          "ename": "KeyboardInterrupt",
          "evalue": "ignored",
          "traceback": [
            "\u001b[0;31m---------------------------------------------------------------------------\u001b[0m",
            "\u001b[0;31mKeyboardInterrupt\u001b[0m                         Traceback (most recent call last)",
            "\u001b[0;32m<ipython-input-52-3062000312e8>\u001b[0m in \u001b[0;36m<cell line: 2>\u001b[0;34m()\u001b[0m\n\u001b[1;32m      1\u001b[0m \u001b[0;31m#Criação de csv com resultado do modelo\u001b[0m\u001b[0;34m\u001b[0m\u001b[0;34m\u001b[0m\u001b[0m\n\u001b[0;32m----> 2\u001b[0;31m \u001b[0mdfBagOfWords\u001b[0m\u001b[0;34m.\u001b[0m\u001b[0mto_csv\u001b[0m\u001b[0;34m(\u001b[0m\u001b[0;34m'resultadoBOW.csv'\u001b[0m\u001b[0;34m,\u001b[0m \u001b[0mindex\u001b[0m\u001b[0;34m=\u001b[0m\u001b[0;32mFalse\u001b[0m\u001b[0;34m)\u001b[0m\u001b[0;34m\u001b[0m\u001b[0;34m\u001b[0m\u001b[0m\n\u001b[0m",
            "\u001b[0;32m/usr/local/lib/python3.10/dist-packages/pandas/util/_decorators.py\u001b[0m in \u001b[0;36mwrapper\u001b[0;34m(*args, **kwargs)\u001b[0m\n\u001b[1;32m    209\u001b[0m                 \u001b[0;32melse\u001b[0m\u001b[0;34m:\u001b[0m\u001b[0;34m\u001b[0m\u001b[0;34m\u001b[0m\u001b[0m\n\u001b[1;32m    210\u001b[0m                     \u001b[0mkwargs\u001b[0m\u001b[0;34m[\u001b[0m\u001b[0mnew_arg_name\u001b[0m\u001b[0;34m]\u001b[0m \u001b[0;34m=\u001b[0m \u001b[0mnew_arg_value\u001b[0m\u001b[0;34m\u001b[0m\u001b[0;34m\u001b[0m\u001b[0m\n\u001b[0;32m--> 211\u001b[0;31m             \u001b[0;32mreturn\u001b[0m \u001b[0mfunc\u001b[0m\u001b[0;34m(\u001b[0m\u001b[0;34m*\u001b[0m\u001b[0margs\u001b[0m\u001b[0;34m,\u001b[0m \u001b[0;34m**\u001b[0m\u001b[0mkwargs\u001b[0m\u001b[0;34m)\u001b[0m\u001b[0;34m\u001b[0m\u001b[0;34m\u001b[0m\u001b[0m\n\u001b[0m\u001b[1;32m    212\u001b[0m \u001b[0;34m\u001b[0m\u001b[0m\n\u001b[1;32m    213\u001b[0m         \u001b[0;32mreturn\u001b[0m \u001b[0mcast\u001b[0m\u001b[0;34m(\u001b[0m\u001b[0mF\u001b[0m\u001b[0;34m,\u001b[0m \u001b[0mwrapper\u001b[0m\u001b[0;34m)\u001b[0m\u001b[0;34m\u001b[0m\u001b[0;34m\u001b[0m\u001b[0m\n",
            "\u001b[0;32m/usr/local/lib/python3.10/dist-packages/pandas/core/generic.py\u001b[0m in \u001b[0;36mto_csv\u001b[0;34m(self, path_or_buf, sep, na_rep, float_format, columns, header, index, index_label, mode, encoding, compression, quoting, quotechar, lineterminator, chunksize, date_format, doublequote, escapechar, decimal, errors, storage_options)\u001b[0m\n\u001b[1;32m   3718\u001b[0m         )\n\u001b[1;32m   3719\u001b[0m \u001b[0;34m\u001b[0m\u001b[0m\n\u001b[0;32m-> 3720\u001b[0;31m         return DataFrameRenderer(formatter).to_csv(\n\u001b[0m\u001b[1;32m   3721\u001b[0m             \u001b[0mpath_or_buf\u001b[0m\u001b[0;34m,\u001b[0m\u001b[0;34m\u001b[0m\u001b[0;34m\u001b[0m\u001b[0m\n\u001b[1;32m   3722\u001b[0m             \u001b[0mlineterminator\u001b[0m\u001b[0;34m=\u001b[0m\u001b[0mlineterminator\u001b[0m\u001b[0;34m,\u001b[0m\u001b[0;34m\u001b[0m\u001b[0;34m\u001b[0m\u001b[0m\n",
            "\u001b[0;32m/usr/local/lib/python3.10/dist-packages/pandas/util/_decorators.py\u001b[0m in \u001b[0;36mwrapper\u001b[0;34m(*args, **kwargs)\u001b[0m\n\u001b[1;32m    209\u001b[0m                 \u001b[0;32melse\u001b[0m\u001b[0;34m:\u001b[0m\u001b[0;34m\u001b[0m\u001b[0;34m\u001b[0m\u001b[0m\n\u001b[1;32m    210\u001b[0m                     \u001b[0mkwargs\u001b[0m\u001b[0;34m[\u001b[0m\u001b[0mnew_arg_name\u001b[0m\u001b[0;34m]\u001b[0m \u001b[0;34m=\u001b[0m \u001b[0mnew_arg_value\u001b[0m\u001b[0;34m\u001b[0m\u001b[0;34m\u001b[0m\u001b[0m\n\u001b[0;32m--> 211\u001b[0;31m             \u001b[0;32mreturn\u001b[0m \u001b[0mfunc\u001b[0m\u001b[0;34m(\u001b[0m\u001b[0;34m*\u001b[0m\u001b[0margs\u001b[0m\u001b[0;34m,\u001b[0m \u001b[0;34m**\u001b[0m\u001b[0mkwargs\u001b[0m\u001b[0;34m)\u001b[0m\u001b[0;34m\u001b[0m\u001b[0;34m\u001b[0m\u001b[0m\n\u001b[0m\u001b[1;32m    212\u001b[0m \u001b[0;34m\u001b[0m\u001b[0m\n\u001b[1;32m    213\u001b[0m         \u001b[0;32mreturn\u001b[0m \u001b[0mcast\u001b[0m\u001b[0;34m(\u001b[0m\u001b[0mF\u001b[0m\u001b[0;34m,\u001b[0m \u001b[0mwrapper\u001b[0m\u001b[0;34m)\u001b[0m\u001b[0;34m\u001b[0m\u001b[0;34m\u001b[0m\u001b[0m\n",
            "\u001b[0;32m/usr/local/lib/python3.10/dist-packages/pandas/io/formats/format.py\u001b[0m in \u001b[0;36mto_csv\u001b[0;34m(self, path_or_buf, encoding, sep, columns, index_label, mode, compression, quoting, quotechar, lineterminator, chunksize, date_format, doublequote, escapechar, errors, storage_options)\u001b[0m\n\u001b[1;32m   1187\u001b[0m             \u001b[0mformatter\u001b[0m\u001b[0;34m=\u001b[0m\u001b[0mself\u001b[0m\u001b[0;34m.\u001b[0m\u001b[0mfmt\u001b[0m\u001b[0;34m,\u001b[0m\u001b[0;34m\u001b[0m\u001b[0;34m\u001b[0m\u001b[0m\n\u001b[1;32m   1188\u001b[0m         )\n\u001b[0;32m-> 1189\u001b[0;31m         \u001b[0mcsv_formatter\u001b[0m\u001b[0;34m.\u001b[0m\u001b[0msave\u001b[0m\u001b[0;34m(\u001b[0m\u001b[0;34m)\u001b[0m\u001b[0;34m\u001b[0m\u001b[0;34m\u001b[0m\u001b[0m\n\u001b[0m\u001b[1;32m   1190\u001b[0m \u001b[0;34m\u001b[0m\u001b[0m\n\u001b[1;32m   1191\u001b[0m         \u001b[0;32mif\u001b[0m \u001b[0mcreated_buffer\u001b[0m\u001b[0;34m:\u001b[0m\u001b[0;34m\u001b[0m\u001b[0;34m\u001b[0m\u001b[0m\n",
            "\u001b[0;32m/usr/local/lib/python3.10/dist-packages/pandas/io/formats/csvs.py\u001b[0m in \u001b[0;36msave\u001b[0;34m(self)\u001b[0m\n\u001b[1;32m    259\u001b[0m             )\n\u001b[1;32m    260\u001b[0m \u001b[0;34m\u001b[0m\u001b[0m\n\u001b[0;32m--> 261\u001b[0;31m             \u001b[0mself\u001b[0m\u001b[0;34m.\u001b[0m\u001b[0m_save\u001b[0m\u001b[0;34m(\u001b[0m\u001b[0;34m)\u001b[0m\u001b[0;34m\u001b[0m\u001b[0;34m\u001b[0m\u001b[0m\n\u001b[0m\u001b[1;32m    262\u001b[0m \u001b[0;34m\u001b[0m\u001b[0m\n\u001b[1;32m    263\u001b[0m     \u001b[0;32mdef\u001b[0m \u001b[0m_save\u001b[0m\u001b[0;34m(\u001b[0m\u001b[0mself\u001b[0m\u001b[0;34m)\u001b[0m \u001b[0;34m->\u001b[0m \u001b[0;32mNone\u001b[0m\u001b[0;34m:\u001b[0m\u001b[0;34m\u001b[0m\u001b[0;34m\u001b[0m\u001b[0m\n",
            "\u001b[0;32m/usr/local/lib/python3.10/dist-packages/pandas/io/formats/csvs.py\u001b[0m in \u001b[0;36m_save\u001b[0;34m(self)\u001b[0m\n\u001b[1;32m    264\u001b[0m         \u001b[0;32mif\u001b[0m \u001b[0mself\u001b[0m\u001b[0;34m.\u001b[0m\u001b[0m_need_to_save_header\u001b[0m\u001b[0;34m:\u001b[0m\u001b[0;34m\u001b[0m\u001b[0;34m\u001b[0m\u001b[0m\n\u001b[1;32m    265\u001b[0m             \u001b[0mself\u001b[0m\u001b[0;34m.\u001b[0m\u001b[0m_save_header\u001b[0m\u001b[0;34m(\u001b[0m\u001b[0;34m)\u001b[0m\u001b[0;34m\u001b[0m\u001b[0;34m\u001b[0m\u001b[0m\n\u001b[0;32m--> 266\u001b[0;31m         \u001b[0mself\u001b[0m\u001b[0;34m.\u001b[0m\u001b[0m_save_body\u001b[0m\u001b[0;34m(\u001b[0m\u001b[0;34m)\u001b[0m\u001b[0;34m\u001b[0m\u001b[0;34m\u001b[0m\u001b[0m\n\u001b[0m\u001b[1;32m    267\u001b[0m \u001b[0;34m\u001b[0m\u001b[0m\n\u001b[1;32m    268\u001b[0m     \u001b[0;32mdef\u001b[0m \u001b[0m_save_header\u001b[0m\u001b[0;34m(\u001b[0m\u001b[0mself\u001b[0m\u001b[0;34m)\u001b[0m \u001b[0;34m->\u001b[0m \u001b[0;32mNone\u001b[0m\u001b[0;34m:\u001b[0m\u001b[0;34m\u001b[0m\u001b[0;34m\u001b[0m\u001b[0m\n",
            "\u001b[0;32m/usr/local/lib/python3.10/dist-packages/pandas/io/formats/csvs.py\u001b[0m in \u001b[0;36m_save_body\u001b[0;34m(self)\u001b[0m\n\u001b[1;32m    302\u001b[0m             \u001b[0;32mif\u001b[0m \u001b[0mstart_i\u001b[0m \u001b[0;34m>=\u001b[0m \u001b[0mend_i\u001b[0m\u001b[0;34m:\u001b[0m\u001b[0;34m\u001b[0m\u001b[0;34m\u001b[0m\u001b[0m\n\u001b[1;32m    303\u001b[0m                 \u001b[0;32mbreak\u001b[0m\u001b[0;34m\u001b[0m\u001b[0;34m\u001b[0m\u001b[0m\n\u001b[0;32m--> 304\u001b[0;31m             \u001b[0mself\u001b[0m\u001b[0;34m.\u001b[0m\u001b[0m_save_chunk\u001b[0m\u001b[0;34m(\u001b[0m\u001b[0mstart_i\u001b[0m\u001b[0;34m,\u001b[0m \u001b[0mend_i\u001b[0m\u001b[0;34m)\u001b[0m\u001b[0;34m\u001b[0m\u001b[0;34m\u001b[0m\u001b[0m\n\u001b[0m\u001b[1;32m    305\u001b[0m \u001b[0;34m\u001b[0m\u001b[0m\n\u001b[1;32m    306\u001b[0m     \u001b[0;32mdef\u001b[0m \u001b[0m_save_chunk\u001b[0m\u001b[0;34m(\u001b[0m\u001b[0mself\u001b[0m\u001b[0;34m,\u001b[0m \u001b[0mstart_i\u001b[0m\u001b[0;34m:\u001b[0m \u001b[0mint\u001b[0m\u001b[0;34m,\u001b[0m \u001b[0mend_i\u001b[0m\u001b[0;34m:\u001b[0m \u001b[0mint\u001b[0m\u001b[0;34m)\u001b[0m \u001b[0;34m->\u001b[0m \u001b[0;32mNone\u001b[0m\u001b[0;34m:\u001b[0m\u001b[0;34m\u001b[0m\u001b[0;34m\u001b[0m\u001b[0m\n",
            "\u001b[0;32m/usr/local/lib/python3.10/dist-packages/pandas/io/formats/csvs.py\u001b[0m in \u001b[0;36m_save_chunk\u001b[0;34m(self, start_i, end_i)\u001b[0m\n\u001b[1;32m    310\u001b[0m \u001b[0;34m\u001b[0m\u001b[0m\n\u001b[1;32m    311\u001b[0m         \u001b[0mres\u001b[0m \u001b[0;34m=\u001b[0m \u001b[0mdf\u001b[0m\u001b[0;34m.\u001b[0m\u001b[0m_mgr\u001b[0m\u001b[0;34m.\u001b[0m\u001b[0mto_native_types\u001b[0m\u001b[0;34m(\u001b[0m\u001b[0;34m**\u001b[0m\u001b[0mself\u001b[0m\u001b[0;34m.\u001b[0m\u001b[0m_number_format\u001b[0m\u001b[0;34m)\u001b[0m\u001b[0;34m\u001b[0m\u001b[0;34m\u001b[0m\u001b[0m\n\u001b[0;32m--> 312\u001b[0;31m         \u001b[0mdata\u001b[0m \u001b[0;34m=\u001b[0m \u001b[0;34m[\u001b[0m\u001b[0mres\u001b[0m\u001b[0;34m.\u001b[0m\u001b[0miget_values\u001b[0m\u001b[0;34m(\u001b[0m\u001b[0mi\u001b[0m\u001b[0;34m)\u001b[0m \u001b[0;32mfor\u001b[0m \u001b[0mi\u001b[0m \u001b[0;32min\u001b[0m \u001b[0mrange\u001b[0m\u001b[0;34m(\u001b[0m\u001b[0mlen\u001b[0m\u001b[0;34m(\u001b[0m\u001b[0mres\u001b[0m\u001b[0;34m.\u001b[0m\u001b[0mitems\u001b[0m\u001b[0;34m)\u001b[0m\u001b[0;34m)\u001b[0m\u001b[0;34m]\u001b[0m\u001b[0;34m\u001b[0m\u001b[0;34m\u001b[0m\u001b[0m\n\u001b[0m\u001b[1;32m    313\u001b[0m \u001b[0;34m\u001b[0m\u001b[0m\n\u001b[1;32m    314\u001b[0m         \u001b[0mix\u001b[0m \u001b[0;34m=\u001b[0m \u001b[0mself\u001b[0m\u001b[0;34m.\u001b[0m\u001b[0mdata_index\u001b[0m\u001b[0;34m[\u001b[0m\u001b[0mslicer\u001b[0m\u001b[0;34m]\u001b[0m\u001b[0;34m.\u001b[0m\u001b[0m_format_native_types\u001b[0m\u001b[0;34m(\u001b[0m\u001b[0;34m**\u001b[0m\u001b[0mself\u001b[0m\u001b[0;34m.\u001b[0m\u001b[0m_number_format\u001b[0m\u001b[0;34m)\u001b[0m\u001b[0;34m\u001b[0m\u001b[0;34m\u001b[0m\u001b[0m\n",
            "\u001b[0;32m/usr/local/lib/python3.10/dist-packages/pandas/io/formats/csvs.py\u001b[0m in \u001b[0;36m<listcomp>\u001b[0;34m(.0)\u001b[0m\n\u001b[1;32m    310\u001b[0m \u001b[0;34m\u001b[0m\u001b[0m\n\u001b[1;32m    311\u001b[0m         \u001b[0mres\u001b[0m \u001b[0;34m=\u001b[0m \u001b[0mdf\u001b[0m\u001b[0;34m.\u001b[0m\u001b[0m_mgr\u001b[0m\u001b[0;34m.\u001b[0m\u001b[0mto_native_types\u001b[0m\u001b[0;34m(\u001b[0m\u001b[0;34m**\u001b[0m\u001b[0mself\u001b[0m\u001b[0;34m.\u001b[0m\u001b[0m_number_format\u001b[0m\u001b[0;34m)\u001b[0m\u001b[0;34m\u001b[0m\u001b[0;34m\u001b[0m\u001b[0m\n\u001b[0;32m--> 312\u001b[0;31m         \u001b[0mdata\u001b[0m \u001b[0;34m=\u001b[0m \u001b[0;34m[\u001b[0m\u001b[0mres\u001b[0m\u001b[0;34m.\u001b[0m\u001b[0miget_values\u001b[0m\u001b[0;34m(\u001b[0m\u001b[0mi\u001b[0m\u001b[0;34m)\u001b[0m \u001b[0;32mfor\u001b[0m \u001b[0mi\u001b[0m \u001b[0;32min\u001b[0m \u001b[0mrange\u001b[0m\u001b[0;34m(\u001b[0m\u001b[0mlen\u001b[0m\u001b[0;34m(\u001b[0m\u001b[0mres\u001b[0m\u001b[0;34m.\u001b[0m\u001b[0mitems\u001b[0m\u001b[0;34m)\u001b[0m\u001b[0;34m)\u001b[0m\u001b[0;34m]\u001b[0m\u001b[0;34m\u001b[0m\u001b[0;34m\u001b[0m\u001b[0m\n\u001b[0m\u001b[1;32m    313\u001b[0m \u001b[0;34m\u001b[0m\u001b[0m\n\u001b[1;32m    314\u001b[0m         \u001b[0mix\u001b[0m \u001b[0;34m=\u001b[0m \u001b[0mself\u001b[0m\u001b[0;34m.\u001b[0m\u001b[0mdata_index\u001b[0m\u001b[0;34m[\u001b[0m\u001b[0mslicer\u001b[0m\u001b[0;34m]\u001b[0m\u001b[0;34m.\u001b[0m\u001b[0m_format_native_types\u001b[0m\u001b[0;34m(\u001b[0m\u001b[0;34m**\u001b[0m\u001b[0mself\u001b[0m\u001b[0;34m.\u001b[0m\u001b[0m_number_format\u001b[0m\u001b[0;34m)\u001b[0m\u001b[0;34m\u001b[0m\u001b[0;34m\u001b[0m\u001b[0m\n",
            "\u001b[0;32m/usr/local/lib/python3.10/dist-packages/pandas/core/internals/managers.py\u001b[0m in \u001b[0;36miget_values\u001b[0;34m(self, i)\u001b[0m\n\u001b[1;32m   1141\u001b[0m         \u001b[0;32mreturn\u001b[0m \u001b[0mSingleBlockManager\u001b[0m\u001b[0;34m(\u001b[0m\u001b[0mnb\u001b[0m\u001b[0;34m,\u001b[0m \u001b[0mself\u001b[0m\u001b[0;34m.\u001b[0m\u001b[0maxes\u001b[0m\u001b[0;34m[\u001b[0m\u001b[0;36m1\u001b[0m\u001b[0;34m]\u001b[0m\u001b[0;34m,\u001b[0m \u001b[0;34m[\u001b[0m\u001b[0mref\u001b[0m\u001b[0;34m]\u001b[0m\u001b[0;34m,\u001b[0m \u001b[0mparent\u001b[0m\u001b[0;34m)\u001b[0m\u001b[0;34m\u001b[0m\u001b[0;34m\u001b[0m\u001b[0m\n\u001b[1;32m   1142\u001b[0m \u001b[0;34m\u001b[0m\u001b[0m\n\u001b[0;32m-> 1143\u001b[0;31m     \u001b[0;32mdef\u001b[0m \u001b[0miget_values\u001b[0m\u001b[0;34m(\u001b[0m\u001b[0mself\u001b[0m\u001b[0;34m,\u001b[0m \u001b[0mi\u001b[0m\u001b[0;34m:\u001b[0m \u001b[0mint\u001b[0m\u001b[0;34m)\u001b[0m \u001b[0;34m->\u001b[0m \u001b[0mArrayLike\u001b[0m\u001b[0;34m:\u001b[0m\u001b[0;34m\u001b[0m\u001b[0;34m\u001b[0m\u001b[0m\n\u001b[0m\u001b[1;32m   1144\u001b[0m         \"\"\"\n\u001b[1;32m   1145\u001b[0m         \u001b[0mReturn\u001b[0m \u001b[0mthe\u001b[0m \u001b[0mdata\u001b[0m \u001b[0;32mfor\u001b[0m \u001b[0mcolumn\u001b[0m \u001b[0mi\u001b[0m \u001b[0;32mas\u001b[0m \u001b[0mthe\u001b[0m \u001b[0mvalues\u001b[0m \u001b[0;34m(\u001b[0m\u001b[0mndarray\u001b[0m \u001b[0;32mor\u001b[0m \u001b[0mExtensionArray\u001b[0m\u001b[0;34m)\u001b[0m\u001b[0;34m.\u001b[0m\u001b[0;34m\u001b[0m\u001b[0;34m\u001b[0m\u001b[0m\n",
            "\u001b[0;31mKeyboardInterrupt\u001b[0m: "
          ]
        }
      ],
      "source": [
        "#Criação de csv com resultado do modelo\n",
        "dfBagOfWords.to_csv('resultadoBOW.csv', index=False)"
      ]
    },
    {
      "cell_type": "markdown",
      "metadata": {
        "id": "6eiF27pNmMSB"
      },
      "source": [
        "### 4.4 Representação visual"
      ]
    },
    {
      "cell_type": "markdown",
      "metadata": {
        "id": "R_1_Kgrgo3b1"
      },
      "source": [
        "##### 4.4.1 Tabela de frequência"
      ]
    },
    {
      "cell_type": "markdown",
      "metadata": {
        "id": "jizhSpNU4LxC"
      },
      "source": [
        "Definição de função para contar quantas vezes cada palavra se repetiu."
      ]
    },
    {
      "cell_type": "code",
      "execution_count": null,
      "metadata": {
        "id": "Y_uRXGHi-E3m"
      },
      "outputs": [],
      "source": [
        "#código para gerar a matriz de repetição das palavras\n",
        "def contarPalavras(dicionario, matriz):\n",
        "    dicionario = [''] + dicionario\n",
        "    contagemPalavras = [0] * len(dicionario)\n",
        "    for i, palavra in enumerate(dicionario):\n",
        "        for j in range(len(matriz)):\n",
        "            contagemPalavras[i] += matriz[j][i]\n",
        "    contagemDf = pd.DataFrame({'palavra': dicionario, 'repetição': contagemPalavras})\n",
        "    return contagemDf.iloc[1:]\n"
      ]
    },
    {
      "cell_type": "markdown",
      "metadata": {
        "id": "qPiwacrA4e-o"
      },
      "source": [
        "Chamando a função para \"contarPalavras\", para gerar uma tabela"
      ]
    },
    {
      "cell_type": "code",
      "execution_count": null,
      "metadata": {
        "id": "GSAAY367EgAW"
      },
      "outputs": [],
      "source": [
        "tabela = contarPalavras(dicionario, vetor)"
      ]
    },
    {
      "cell_type": "markdown",
      "metadata": {
        "id": "OMaSVvIs4qyK"
      },
      "source": [
        "Abaixo é possível visualizar quantas vezes cada palavra estava presente nos comentários fornecidos."
      ]
    },
    {
      "cell_type": "code",
      "execution_count": null,
      "metadata": {
        "id": "Bi7bCszhF3B9"
      },
      "outputs": [],
      "source": [
        "tabela.head(10)"
      ]
    },
    {
      "cell_type": "markdown",
      "metadata": {
        "id": "XNd7hriGo95i"
      },
      "source": [
        "##### 4.4.2 Núvem de palavras"
      ]
    },
    {
      "cell_type": "markdown",
      "metadata": {
        "id": "X57SFEXTw7Yz"
      },
      "source": [
        "A nuvem de palavras foi utilizada como representação visual das palavras mais relevantes dos comentários analisados, nela o tamanho de cada palavra é proporcional à frequência em que ele aparece. Ela contribui com modelo de bow ao destacar os termos-chave e a resumir rapidamente o conteúdo mais expressivo dos comentários."
      ]
    },
    {
      "cell_type": "markdown",
      "metadata": {
        "id": "-oSvYGqmxIuY"
      },
      "source": [
        "##### 4.4.2.1 setup"
      ]
    },
    {
      "cell_type": "code",
      "execution_count": null,
      "metadata": {
        "id": "sttKWefhxQYc"
      },
      "outputs": [],
      "source": [
        "#bibliotecas utilizadas\n",
        "from wordcloud import WordCloud\n",
        "import matplotlib.pyplot as plt"
      ]
    },
    {
      "cell_type": "markdown",
      "metadata": {
        "id": "GCt_yFL2xXa1"
      },
      "source": [
        "##### 4.4.2.2 Definição da função"
      ]
    },
    {
      "cell_type": "markdown",
      "metadata": {
        "id": "It6VqV9qxtFM"
      },
      "source": [
        "Definindo função que ira gerar a nuvem de palavras"
      ]
    },
    {
      "cell_type": "code",
      "execution_count": null,
      "metadata": {
        "id": "sgbRXgeRmMSE"
      },
      "outputs": [],
      "source": [
        "#definição da função\n",
        "def gerarNuvemPalavras(matrizRec, vocabulario):\n",
        "    # Cria um dicionário com as palavras do vocabulário e suas frequências na matriz de recorrência\n",
        "    freqPalavras = dict(zip(vocabulario, matrizRec.sum(axis=0)))\n",
        "    \n",
        "    # Cria uma instância da classe WordCloud com as configurações desejadas\n",
        "    nuvemPalavras = WordCloud(width=8000, height=4000, background_color='white', colormap='viridis')\n",
        "    \n",
        "    # Gera a nuvem de palavras a partir do dicionário de frequências\n",
        "    nuvemPalavras.generate_from_frequencies(freqPalavras)\n",
        "    \n",
        "    # Exibe a nuvem de palavras\n",
        "    plt.figure(figsize=(12,6))\n",
        "    plt.imshow(nuvemPalavras, interpolation='bilinear')\n",
        "    plt.axis('off')\n",
        "    plt.show()"
      ]
    },
    {
      "cell_type": "markdown",
      "metadata": {
        "id": "Y_aiBJhAxd_Y"
      },
      "source": [
        "##### 4.4.2.4 Visualização"
      ]
    },
    {
      "cell_type": "markdown",
      "metadata": {
        "id": "Qn36m-cNxpjL"
      },
      "source": [
        "Abaixo e possivel visualizar a nuvem de palavras:"
      ]
    },
    {
      "cell_type": "code",
      "execution_count": null,
      "metadata": {
        "id": "dR1KF075mMSF"
      },
      "outputs": [],
      "source": [
        "gerarNuvemPalavras(vetor, dicionario)"
      ]
    },
    {
      "cell_type": "markdown",
      "metadata": {
        "id": "9KhmkjUxYV_0"
      },
      "source": []
    },
    {
      "cell_type": "markdown",
      "metadata": {
        "id": "4nhw22t9-_t2"
      },
      "source": [
        "## 5.0 Word2vec pré - treinado"
      ]
    },
    {
      "cell_type": "markdown",
      "metadata": {
        "id": "FLimHLeKDoS3"
      },
      "source": [
        "### 5.1 Setup do modelo"
      ]
    },
    {
      "cell_type": "code",
      "execution_count": null,
      "metadata": {
        "id": "CvtZsHr1AQAW"
      },
      "outputs": [],
      "source": [
        "#setup\n",
        "import gensim\n",
        "from scipy.spatial.distance import cosine\n",
        "from gensim.models import KeyedVectors"
      ]
    },
    {
      "cell_type": "code",
      "execution_count": null,
      "metadata": {
        "id": "RDxTkm0A_T9g"
      },
      "outputs": [],
      "source": [
        "#Carregando o modelo\n",
        "modelo_cbow = KeyedVectors.load_word2vec_format(\"/content/drive/MyDrive/Modulo_6_grupo_1/cbow_s50.txt\")"
      ]
    },
    {
      "cell_type": "markdown",
      "metadata": {
        "id": "vqbfSexYDdku"
      },
      "source": [
        "### 5.2 definição de funções"
      ]
    },
    {
      "cell_type": "code",
      "execution_count": null,
      "metadata": {
        "id": "KWplLW_gA_JJ"
      },
      "outputs": [],
      "source": [
        "def word2Vec(coluna):\n",
        "# lista que armazena os vetores resultantes de todas as frases\n",
        "  x = []\n",
        "  for i in range(0,len(coluna)):\n",
        "# lista que armazena os vetores das palavras de cada frase\n",
        "    vetor = []\n",
        "    for h in range(0,len(coluna[i])):\n",
        "      vetor.append(modelo_cbow[h])\n",
        "# soma dos vetores de todas as palavras \n",
        "    x.append(list(map(sum, zip(*vetor))))\n",
        "    vetor=[]\n",
        "  print(x)\n",
        "  return x"
      ]
    },
    {
      "cell_type": "markdown",
      "metadata": {
        "id": "6zkUYC9tElZS"
      },
      "source": [
        "### 5.3 teste da funções"
      ]
    },
    {
      "cell_type": "code",
      "execution_count": null,
      "metadata": {
        "id": "qLdvFwVQJOYr",
        "colab": {
          "base_uri": "https://localhost:8080/",
          "height": 661
        },
        "outputId": "32cf4461-8c21-4ef8-ca8e-f819ce598630"
      },
      "outputs": [
        {
          "output_type": "stream",
          "name": "stderr",
          "text": [
            "IOPub data rate exceeded.\n",
            "The notebook server will temporarily stop sending output\n",
            "to the client in order to avoid crashing it.\n",
            "To change this limit, set the config variable\n",
            "`--NotebookApp.iopub_data_rate_limit`.\n",
            "\n",
            "Current values:\n",
            "NotebookApp.iopub_data_rate_limit=1000000.0 (bytes/sec)\n",
            "NotebookApp.rate_limit_window=3.0 (secs)\n",
            "\n"
          ]
        },
        {
          "output_type": "execute_result",
          "data": {
            "text/plain": [
              "            0          1         2         3         4         5         6   \\\n",
              "0    -0.514310  -7.478573 -1.852811 -7.445124 -0.900545 -0.450863 -0.844640   \n",
              "1    -0.371537  -8.584228 -2.384340 -7.285557 -0.582353 -0.765648 -1.334225   \n",
              "2     0.106028   0.121924  0.139373 -0.918912  0.004461 -0.216214 -0.204989   \n",
              "3     0.047435  -0.007625  0.173723 -0.445078 -0.058977 -0.182599 -0.079506   \n",
              "4     1.075528  -0.879334  0.146983 -2.114522  0.822631 -0.225273 -0.192567   \n",
              "...        ...        ...       ...       ...       ...       ...       ...   \n",
              "9482  0.572639  -0.125299 -0.170976 -1.169875  0.079236  0.001395 -0.204402   \n",
              "9483 -0.175089  -7.093212 -1.770549 -7.163111 -1.447110 -0.746501 -0.146332   \n",
              "9484 -1.227343  -8.025073 -5.392955 -6.965629  4.477837 -1.817244 -3.185648   \n",
              "9485  1.730446 -10.583965 -5.965667 -7.616147  6.894613 -2.380157 -3.365684   \n",
              "9486  1.650954  -2.281441 -0.887941 -3.605431  0.846856 -0.112471 -1.261535   \n",
              "\n",
              "            7         8         9   ...        40        41        42  \\\n",
              "0     0.129873 -6.139715 -6.840437  ... -0.747759 -7.420995  1.201510   \n",
              "1     0.468803 -5.871632 -7.197826  ... -0.219864 -7.189882  0.198363   \n",
              "2    -0.420545 -0.648111 -0.363125  ... -0.179132 -0.510152  0.635353   \n",
              "3    -0.220796 -0.265243 -0.346969  ... -0.012755 -0.238091  0.309302   \n",
              "4    -1.433440 -2.440478 -1.470971  ...  0.587403 -2.146278  0.094727   \n",
              "...        ...       ...       ...  ...       ...       ...       ...   \n",
              "9482 -0.515468 -1.489781 -0.363050  ...  0.099337 -1.236094  0.378341   \n",
              "9483  0.185476 -5.884923 -6.602993  ... -0.692300 -7.748579  1.333975   \n",
              "9484  2.470718 -5.347249 -9.338262  ... -0.635413 -5.189282 -2.728264   \n",
              "9485  3.469364 -1.747959 -7.804751  ... -0.918631 -0.695320 -7.331540   \n",
              "9486 -0.753928 -4.107752 -3.310983  ...  0.856523 -3.308242 -1.157657   \n",
              "\n",
              "            43         44        45        46        47         48        49  \n",
              "0    -0.225418   2.372435  6.523726  1.322155  0.077827  -5.811534  6.145944  \n",
              "1    -0.475961   3.055253  6.169072  0.200981  0.169087  -7.673683  6.896269  \n",
              "2    -0.319989  -0.392927  0.184347 -0.225403  0.008890   0.201078  0.354131  \n",
              "3    -0.140818  -0.078406 -0.180135  0.013944 -0.043409   0.288535  0.232324  \n",
              "4    -0.327286   0.427182  0.367773 -0.884387  0.805210   0.683840  1.651200  \n",
              "...        ...        ...       ...       ...       ...        ...       ...  \n",
              "9482 -0.582291  -0.087733  0.685860 -0.503743  0.184030   0.816723  0.928673  \n",
              "9483  0.273490   2.190751  6.459354  0.951604  0.148626  -5.948199  6.262340  \n",
              "9484  0.192428   6.617338  8.040454 -2.140488 -1.201420 -11.837457  2.845104  \n",
              "9485  0.490277  11.974003  9.637973 -0.909810 -4.649925 -17.022641  0.733577  \n",
              "9486 -1.466912   0.360162  2.208855 -0.780562 -0.657792   0.071132  2.960655  \n",
              "\n",
              "[9487 rows x 50 columns]"
            ],
            "text/html": [
              "\n",
              "  <div id=\"df-f54dab7d-92d3-45bd-81b5-cab3bd7df7ca\">\n",
              "    <div class=\"colab-df-container\">\n",
              "      <div>\n",
              "<style scoped>\n",
              "    .dataframe tbody tr th:only-of-type {\n",
              "        vertical-align: middle;\n",
              "    }\n",
              "\n",
              "    .dataframe tbody tr th {\n",
              "        vertical-align: top;\n",
              "    }\n",
              "\n",
              "    .dataframe thead th {\n",
              "        text-align: right;\n",
              "    }\n",
              "</style>\n",
              "<table border=\"1\" class=\"dataframe\">\n",
              "  <thead>\n",
              "    <tr style=\"text-align: right;\">\n",
              "      <th></th>\n",
              "      <th>0</th>\n",
              "      <th>1</th>\n",
              "      <th>2</th>\n",
              "      <th>3</th>\n",
              "      <th>4</th>\n",
              "      <th>5</th>\n",
              "      <th>6</th>\n",
              "      <th>7</th>\n",
              "      <th>8</th>\n",
              "      <th>9</th>\n",
              "      <th>...</th>\n",
              "      <th>40</th>\n",
              "      <th>41</th>\n",
              "      <th>42</th>\n",
              "      <th>43</th>\n",
              "      <th>44</th>\n",
              "      <th>45</th>\n",
              "      <th>46</th>\n",
              "      <th>47</th>\n",
              "      <th>48</th>\n",
              "      <th>49</th>\n",
              "    </tr>\n",
              "  </thead>\n",
              "  <tbody>\n",
              "    <tr>\n",
              "      <th>0</th>\n",
              "      <td>-0.514310</td>\n",
              "      <td>-7.478573</td>\n",
              "      <td>-1.852811</td>\n",
              "      <td>-7.445124</td>\n",
              "      <td>-0.900545</td>\n",
              "      <td>-0.450863</td>\n",
              "      <td>-0.844640</td>\n",
              "      <td>0.129873</td>\n",
              "      <td>-6.139715</td>\n",
              "      <td>-6.840437</td>\n",
              "      <td>...</td>\n",
              "      <td>-0.747759</td>\n",
              "      <td>-7.420995</td>\n",
              "      <td>1.201510</td>\n",
              "      <td>-0.225418</td>\n",
              "      <td>2.372435</td>\n",
              "      <td>6.523726</td>\n",
              "      <td>1.322155</td>\n",
              "      <td>0.077827</td>\n",
              "      <td>-5.811534</td>\n",
              "      <td>6.145944</td>\n",
              "    </tr>\n",
              "    <tr>\n",
              "      <th>1</th>\n",
              "      <td>-0.371537</td>\n",
              "      <td>-8.584228</td>\n",
              "      <td>-2.384340</td>\n",
              "      <td>-7.285557</td>\n",
              "      <td>-0.582353</td>\n",
              "      <td>-0.765648</td>\n",
              "      <td>-1.334225</td>\n",
              "      <td>0.468803</td>\n",
              "      <td>-5.871632</td>\n",
              "      <td>-7.197826</td>\n",
              "      <td>...</td>\n",
              "      <td>-0.219864</td>\n",
              "      <td>-7.189882</td>\n",
              "      <td>0.198363</td>\n",
              "      <td>-0.475961</td>\n",
              "      <td>3.055253</td>\n",
              "      <td>6.169072</td>\n",
              "      <td>0.200981</td>\n",
              "      <td>0.169087</td>\n",
              "      <td>-7.673683</td>\n",
              "      <td>6.896269</td>\n",
              "    </tr>\n",
              "    <tr>\n",
              "      <th>2</th>\n",
              "      <td>0.106028</td>\n",
              "      <td>0.121924</td>\n",
              "      <td>0.139373</td>\n",
              "      <td>-0.918912</td>\n",
              "      <td>0.004461</td>\n",
              "      <td>-0.216214</td>\n",
              "      <td>-0.204989</td>\n",
              "      <td>-0.420545</td>\n",
              "      <td>-0.648111</td>\n",
              "      <td>-0.363125</td>\n",
              "      <td>...</td>\n",
              "      <td>-0.179132</td>\n",
              "      <td>-0.510152</td>\n",
              "      <td>0.635353</td>\n",
              "      <td>-0.319989</td>\n",
              "      <td>-0.392927</td>\n",
              "      <td>0.184347</td>\n",
              "      <td>-0.225403</td>\n",
              "      <td>0.008890</td>\n",
              "      <td>0.201078</td>\n",
              "      <td>0.354131</td>\n",
              "    </tr>\n",
              "    <tr>\n",
              "      <th>3</th>\n",
              "      <td>0.047435</td>\n",
              "      <td>-0.007625</td>\n",
              "      <td>0.173723</td>\n",
              "      <td>-0.445078</td>\n",
              "      <td>-0.058977</td>\n",
              "      <td>-0.182599</td>\n",
              "      <td>-0.079506</td>\n",
              "      <td>-0.220796</td>\n",
              "      <td>-0.265243</td>\n",
              "      <td>-0.346969</td>\n",
              "      <td>...</td>\n",
              "      <td>-0.012755</td>\n",
              "      <td>-0.238091</td>\n",
              "      <td>0.309302</td>\n",
              "      <td>-0.140818</td>\n",
              "      <td>-0.078406</td>\n",
              "      <td>-0.180135</td>\n",
              "      <td>0.013944</td>\n",
              "      <td>-0.043409</td>\n",
              "      <td>0.288535</td>\n",
              "      <td>0.232324</td>\n",
              "    </tr>\n",
              "    <tr>\n",
              "      <th>4</th>\n",
              "      <td>1.075528</td>\n",
              "      <td>-0.879334</td>\n",
              "      <td>0.146983</td>\n",
              "      <td>-2.114522</td>\n",
              "      <td>0.822631</td>\n",
              "      <td>-0.225273</td>\n",
              "      <td>-0.192567</td>\n",
              "      <td>-1.433440</td>\n",
              "      <td>-2.440478</td>\n",
              "      <td>-1.470971</td>\n",
              "      <td>...</td>\n",
              "      <td>0.587403</td>\n",
              "      <td>-2.146278</td>\n",
              "      <td>0.094727</td>\n",
              "      <td>-0.327286</td>\n",
              "      <td>0.427182</td>\n",
              "      <td>0.367773</td>\n",
              "      <td>-0.884387</td>\n",
              "      <td>0.805210</td>\n",
              "      <td>0.683840</td>\n",
              "      <td>1.651200</td>\n",
              "    </tr>\n",
              "    <tr>\n",
              "      <th>...</th>\n",
              "      <td>...</td>\n",
              "      <td>...</td>\n",
              "      <td>...</td>\n",
              "      <td>...</td>\n",
              "      <td>...</td>\n",
              "      <td>...</td>\n",
              "      <td>...</td>\n",
              "      <td>...</td>\n",
              "      <td>...</td>\n",
              "      <td>...</td>\n",
              "      <td>...</td>\n",
              "      <td>...</td>\n",
              "      <td>...</td>\n",
              "      <td>...</td>\n",
              "      <td>...</td>\n",
              "      <td>...</td>\n",
              "      <td>...</td>\n",
              "      <td>...</td>\n",
              "      <td>...</td>\n",
              "      <td>...</td>\n",
              "      <td>...</td>\n",
              "    </tr>\n",
              "    <tr>\n",
              "      <th>9482</th>\n",
              "      <td>0.572639</td>\n",
              "      <td>-0.125299</td>\n",
              "      <td>-0.170976</td>\n",
              "      <td>-1.169875</td>\n",
              "      <td>0.079236</td>\n",
              "      <td>0.001395</td>\n",
              "      <td>-0.204402</td>\n",
              "      <td>-0.515468</td>\n",
              "      <td>-1.489781</td>\n",
              "      <td>-0.363050</td>\n",
              "      <td>...</td>\n",
              "      <td>0.099337</td>\n",
              "      <td>-1.236094</td>\n",
              "      <td>0.378341</td>\n",
              "      <td>-0.582291</td>\n",
              "      <td>-0.087733</td>\n",
              "      <td>0.685860</td>\n",
              "      <td>-0.503743</td>\n",
              "      <td>0.184030</td>\n",
              "      <td>0.816723</td>\n",
              "      <td>0.928673</td>\n",
              "    </tr>\n",
              "    <tr>\n",
              "      <th>9483</th>\n",
              "      <td>-0.175089</td>\n",
              "      <td>-7.093212</td>\n",
              "      <td>-1.770549</td>\n",
              "      <td>-7.163111</td>\n",
              "      <td>-1.447110</td>\n",
              "      <td>-0.746501</td>\n",
              "      <td>-0.146332</td>\n",
              "      <td>0.185476</td>\n",
              "      <td>-5.884923</td>\n",
              "      <td>-6.602993</td>\n",
              "      <td>...</td>\n",
              "      <td>-0.692300</td>\n",
              "      <td>-7.748579</td>\n",
              "      <td>1.333975</td>\n",
              "      <td>0.273490</td>\n",
              "      <td>2.190751</td>\n",
              "      <td>6.459354</td>\n",
              "      <td>0.951604</td>\n",
              "      <td>0.148626</td>\n",
              "      <td>-5.948199</td>\n",
              "      <td>6.262340</td>\n",
              "    </tr>\n",
              "    <tr>\n",
              "      <th>9484</th>\n",
              "      <td>-1.227343</td>\n",
              "      <td>-8.025073</td>\n",
              "      <td>-5.392955</td>\n",
              "      <td>-6.965629</td>\n",
              "      <td>4.477837</td>\n",
              "      <td>-1.817244</td>\n",
              "      <td>-3.185648</td>\n",
              "      <td>2.470718</td>\n",
              "      <td>-5.347249</td>\n",
              "      <td>-9.338262</td>\n",
              "      <td>...</td>\n",
              "      <td>-0.635413</td>\n",
              "      <td>-5.189282</td>\n",
              "      <td>-2.728264</td>\n",
              "      <td>0.192428</td>\n",
              "      <td>6.617338</td>\n",
              "      <td>8.040454</td>\n",
              "      <td>-2.140488</td>\n",
              "      <td>-1.201420</td>\n",
              "      <td>-11.837457</td>\n",
              "      <td>2.845104</td>\n",
              "    </tr>\n",
              "    <tr>\n",
              "      <th>9485</th>\n",
              "      <td>1.730446</td>\n",
              "      <td>-10.583965</td>\n",
              "      <td>-5.965667</td>\n",
              "      <td>-7.616147</td>\n",
              "      <td>6.894613</td>\n",
              "      <td>-2.380157</td>\n",
              "      <td>-3.365684</td>\n",
              "      <td>3.469364</td>\n",
              "      <td>-1.747959</td>\n",
              "      <td>-7.804751</td>\n",
              "      <td>...</td>\n",
              "      <td>-0.918631</td>\n",
              "      <td>-0.695320</td>\n",
              "      <td>-7.331540</td>\n",
              "      <td>0.490277</td>\n",
              "      <td>11.974003</td>\n",
              "      <td>9.637973</td>\n",
              "      <td>-0.909810</td>\n",
              "      <td>-4.649925</td>\n",
              "      <td>-17.022641</td>\n",
              "      <td>0.733577</td>\n",
              "    </tr>\n",
              "    <tr>\n",
              "      <th>9486</th>\n",
              "      <td>1.650954</td>\n",
              "      <td>-2.281441</td>\n",
              "      <td>-0.887941</td>\n",
              "      <td>-3.605431</td>\n",
              "      <td>0.846856</td>\n",
              "      <td>-0.112471</td>\n",
              "      <td>-1.261535</td>\n",
              "      <td>-0.753928</td>\n",
              "      <td>-4.107752</td>\n",
              "      <td>-3.310983</td>\n",
              "      <td>...</td>\n",
              "      <td>0.856523</td>\n",
              "      <td>-3.308242</td>\n",
              "      <td>-1.157657</td>\n",
              "      <td>-1.466912</td>\n",
              "      <td>0.360162</td>\n",
              "      <td>2.208855</td>\n",
              "      <td>-0.780562</td>\n",
              "      <td>-0.657792</td>\n",
              "      <td>0.071132</td>\n",
              "      <td>2.960655</td>\n",
              "    </tr>\n",
              "  </tbody>\n",
              "</table>\n",
              "<p>9487 rows × 50 columns</p>\n",
              "</div>\n",
              "      <button class=\"colab-df-convert\" onclick=\"convertToInteractive('df-f54dab7d-92d3-45bd-81b5-cab3bd7df7ca')\"\n",
              "              title=\"Convert this dataframe to an interactive table.\"\n",
              "              style=\"display:none;\">\n",
              "        \n",
              "  <svg xmlns=\"http://www.w3.org/2000/svg\" height=\"24px\"viewBox=\"0 0 24 24\"\n",
              "       width=\"24px\">\n",
              "    <path d=\"M0 0h24v24H0V0z\" fill=\"none\"/>\n",
              "    <path d=\"M18.56 5.44l.94 2.06.94-2.06 2.06-.94-2.06-.94-.94-2.06-.94 2.06-2.06.94zm-11 1L8.5 8.5l.94-2.06 2.06-.94-2.06-.94L8.5 2.5l-.94 2.06-2.06.94zm10 10l.94 2.06.94-2.06 2.06-.94-2.06-.94-.94-2.06-.94 2.06-2.06.94z\"/><path d=\"M17.41 7.96l-1.37-1.37c-.4-.4-.92-.59-1.43-.59-.52 0-1.04.2-1.43.59L10.3 9.45l-7.72 7.72c-.78.78-.78 2.05 0 2.83L4 21.41c.39.39.9.59 1.41.59.51 0 1.02-.2 1.41-.59l7.78-7.78 2.81-2.81c.8-.78.8-2.07 0-2.86zM5.41 20L4 18.59l7.72-7.72 1.47 1.35L5.41 20z\"/>\n",
              "  </svg>\n",
              "      </button>\n",
              "      \n",
              "  <style>\n",
              "    .colab-df-container {\n",
              "      display:flex;\n",
              "      flex-wrap:wrap;\n",
              "      gap: 12px;\n",
              "    }\n",
              "\n",
              "    .colab-df-convert {\n",
              "      background-color: #E8F0FE;\n",
              "      border: none;\n",
              "      border-radius: 50%;\n",
              "      cursor: pointer;\n",
              "      display: none;\n",
              "      fill: #1967D2;\n",
              "      height: 32px;\n",
              "      padding: 0 0 0 0;\n",
              "      width: 32px;\n",
              "    }\n",
              "\n",
              "    .colab-df-convert:hover {\n",
              "      background-color: #E2EBFA;\n",
              "      box-shadow: 0px 1px 2px rgba(60, 64, 67, 0.3), 0px 1px 3px 1px rgba(60, 64, 67, 0.15);\n",
              "      fill: #174EA6;\n",
              "    }\n",
              "\n",
              "    [theme=dark] .colab-df-convert {\n",
              "      background-color: #3B4455;\n",
              "      fill: #D2E3FC;\n",
              "    }\n",
              "\n",
              "    [theme=dark] .colab-df-convert:hover {\n",
              "      background-color: #434B5C;\n",
              "      box-shadow: 0px 1px 3px 1px rgba(0, 0, 0, 0.15);\n",
              "      filter: drop-shadow(0px 1px 2px rgba(0, 0, 0, 0.3));\n",
              "      fill: #FFFFFF;\n",
              "    }\n",
              "  </style>\n",
              "\n",
              "      <script>\n",
              "        const buttonEl =\n",
              "          document.querySelector('#df-f54dab7d-92d3-45bd-81b5-cab3bd7df7ca button.colab-df-convert');\n",
              "        buttonEl.style.display =\n",
              "          google.colab.kernel.accessAllowed ? 'block' : 'none';\n",
              "\n",
              "        async function convertToInteractive(key) {\n",
              "          const element = document.querySelector('#df-f54dab7d-92d3-45bd-81b5-cab3bd7df7ca');\n",
              "          const dataTable =\n",
              "            await google.colab.kernel.invokeFunction('convertToInteractive',\n",
              "                                                     [key], {});\n",
              "          if (!dataTable) return;\n",
              "\n",
              "          const docLinkHtml = 'Like what you see? Visit the ' +\n",
              "            '<a target=\"_blank\" href=https://colab.research.google.com/notebooks/data_table.ipynb>data table notebook</a>'\n",
              "            + ' to learn more about interactive tables.';\n",
              "          element.innerHTML = '';\n",
              "          dataTable['output_type'] = 'display_data';\n",
              "          await google.colab.output.renderOutput(dataTable, element);\n",
              "          const docLink = document.createElement('div');\n",
              "          docLink.innerHTML = docLinkHtml;\n",
              "          element.appendChild(docLink);\n",
              "        }\n",
              "      </script>\n",
              "    </div>\n",
              "  </div>\n",
              "  "
            ]
          },
          "metadata": {},
          "execution_count": 28
        }
      ],
      "source": [
        "# chama a função Word2Vec para testá-la\n",
        "testeword2Vec = word2Vec(df['texto'].apply(tokenizar))\n",
        "#criação de um Dataframe para visualizar o resultado\n",
        "dfTesteword2Vec = pd.DataFrame(testeword2Vec)\n",
        "dfTesteword2Vec"
      ]
    },
    {
      "cell_type": "markdown",
      "metadata": {
        "id": "3xg3bw7LNZoq"
      },
      "source": [
        "### 5.4 Teste isolado"
      ]
    },
    {
      "cell_type": "markdown",
      "metadata": {
        "id": "9LJXHKx5NZoq"
      },
      "source": [
        "Esses teste tem como objetivo comprovar que os vetores estão sendo corretamente somados"
      ]
    },
    {
      "cell_type": "markdown",
      "metadata": {
        "id": "Hperzg5hNZor"
      },
      "source": [
        "O codigo abaixo ainda não soma os vetores de cada palvra da frase"
      ]
    },
    {
      "cell_type": "code",
      "execution_count": null,
      "metadata": {
        "id": "0PAEXyPJNZor"
      },
      "outputs": [],
      "source": [
        "#teste que converte palavras em vetores e retorna uma lista de vetores resultantes\n",
        "def word2Vecteste(coluna):\n",
        "#armazena os vetores resultantes\n",
        "  x = []\n",
        "  for i in range(0,len(coluna)):\n",
        "    vetor = []\n",
        "#armazena todos os vetores de todas as palavras\n",
        "    for h in range(0,len(coluna[i])):\n",
        "      vetor.append(modelo_cbow[h])\n",
        "    x.append(vetor)\n",
        "    vetor=[]\n",
        "  print(x)\n",
        "  return x"
      ]
    },
    {
      "cell_type": "markdown",
      "metadata": {
        "id": "QeM6An48NZor"
      },
      "source": [
        "Abaixo esta sendo executado o teste da função"
      ]
    },
    {
      "cell_type": "code",
      "execution_count": null,
      "metadata": {
        "id": "JohOWluUNZor"
      },
      "outputs": [],
      "source": [
        "# gera os vetores das 10 primeiras frases\n",
        "testeSoma = word2Vecteste(df['texto'].apply(tokenizar).head(10))\n",
        "#criação de um dataframe para retornar o valor do 'testeSoma' que contém a lista de vetores resultantes\n",
        "dftesteSoma = pd.DataFrame(testeSoma)\n",
        "testeSoma"
      ]
    },
    {
      "cell_type": "markdown",
      "metadata": {
        "id": "E0416A8mNZos"
      },
      "source": [
        "#### Comprovação"
      ]
    },
    {
      "cell_type": "markdown",
      "metadata": {
        "id": "ff-y2nw1NZos"
      },
      "source": [
        "Abaixo e possivel ver a 3 coluna do df['texto'], que sera utilizada como exemplo para esse teste."
      ]
    },
    {
      "cell_type": "code",
      "execution_count": null,
      "metadata": {
        "id": "9U2ALly5NZos",
        "colab": {
          "base_uri": "https://localhost:8080/",
          "height": 36
        },
        "outputId": "36f1c902-52ff-4a9d-c69e-281929c78476"
      },
      "outputs": [
        {
          "output_type": "execute_result",
          "data": {
            "text/plain": [
              "'@ricktolledo Sim'"
            ],
            "application/vnd.google.colaboratory.intrinsic+json": {
              "type": "string"
            }
          },
          "metadata": {},
          "execution_count": 31
        }
      ],
      "source": [
        "df['texto'][3]"
      ]
    },
    {
      "cell_type": "markdown",
      "metadata": {
        "id": "l8j8tKtvNZos"
      },
      "source": [
        "Abaixo e possivel ver o vetor de cada palavra da coluna 3 do df['texto'], que sera utilizada como exemplo para esse teste."
      ]
    },
    {
      "cell_type": "code",
      "execution_count": null,
      "metadata": {
        "id": "qjFHNZkfNZot",
        "colab": {
          "base_uri": "https://localhost:8080/"
        },
        "outputId": "8e860733-8d97-4e94-f961-1316ebc15f32"
      },
      "outputs": [
        {
          "output_type": "execute_result",
          "data": {
            "text/plain": [
              "[array([-0.01    , -0.000949, -0.000157,  0.007802, -0.004775,  0.00916 ,\n",
              "         0.000275,  0.003503,  0.002693, -0.000599,  0.002116,  0.007509,\n",
              "         0.006414,  0.003036,  0.003444,  0.005029, -0.005577, -0.007318,\n",
              "         0.001901,  0.007887, -0.00672 ,  0.008236, -0.000243, -0.009482,\n",
              "         0.002523, -0.004002, -0.009337, -0.004473,  0.009624,  0.006939,\n",
              "        -0.00016 ,  0.002124,  0.00215 , -0.003164, -0.003439, -0.009075,\n",
              "        -0.009343, -0.00982 ,  0.009702, -0.009068, -0.006134, -0.008558,\n",
              "         0.006518, -0.006201,  0.003556,  0.004342,  0.003762, -0.002697,\n",
              "        -0.006839,  0.001996], dtype=float32),\n",
              " array([ 0.094044,  0.195893, -0.155718, -0.449506, -0.160736,  0.000748,\n",
              "        -0.138087, -0.004585, -0.121695, -0.087401,  0.018703,  0.081959,\n",
              "         0.106759, -0.016001, -0.009896, -0.162624,  0.014549,  0.010382,\n",
              "         0.208517, -0.02957 ,  0.180953,  0.132365,  0.019936, -0.040737,\n",
              "         0.019822,  0.131696, -0.08243 , -0.09606 ,  0.158126, -0.151579,\n",
              "         0.035982,  0.015035,  0.064882,  0.080235,  0.07656 ,  0.160227,\n",
              "         0.067308,  0.141098,  0.022217, -0.103135, -0.029701,  0.006067,\n",
              "         0.287858, -0.100301, -0.087588,  0.054029,  0.039782,  0.035716,\n",
              "         0.056925,  0.183519], dtype=float32),\n",
              " array([-0.036609, -0.202569,  0.329598, -0.003374,  0.106534, -0.192507,\n",
              "         0.058306, -0.219714, -0.146241, -0.258969,  0.167497,  0.232043,\n",
              "         0.045744, -0.09044 , -0.305267, -0.429604,  0.227699,  0.157796,\n",
              "         0.259962, -0.143025,  0.124564, -0.183434, -0.007291, -0.403225,\n",
              "        -0.195288, -0.044731,  0.082876,  0.002303, -0.024657, -0.179588,\n",
              "        -0.1539  , -0.044361, -0.010335,  0.353205,  0.266641,  0.245935,\n",
              "         0.182581,  0.272554, -0.093561, -0.266258,  0.02308 , -0.2356  ,\n",
              "         0.014926, -0.034316,  0.005626, -0.238506, -0.0296  , -0.076428,\n",
              "         0.238449,  0.046809], dtype=float32)]"
            ]
          },
          "metadata": {},
          "execution_count": 32
        }
      ],
      "source": [
        "testeSoma[3]"
      ]
    },
    {
      "cell_type": "markdown",
      "metadata": {
        "id": "k8eKNfH2NZot"
      },
      "source": [
        "Como e possivel observar a primeira linha de cada correspondem ao valores -0.01, 0.094044, -0.036609"
      ]
    },
    {
      "cell_type": "markdown",
      "metadata": {
        "id": "8ltxh6lWNZou"
      },
      "source": [
        "Abaixo e possivel visualizar o resultado da soma vetorial, no caso 0.047435"
      ]
    },
    {
      "cell_type": "code",
      "execution_count": null,
      "metadata": {
        "id": "mLmbztGANZou",
        "colab": {
          "base_uri": "https://localhost:8080/"
        },
        "outputId": "77ca4341-ce4b-45fe-86bb-f7da60f26304"
      },
      "outputs": [
        {
          "output_type": "execute_result",
          "data": {
            "text/plain": [
              "0.04743499867618084"
            ]
          },
          "metadata": {},
          "execution_count": 33
        }
      ],
      "source": [
        "dfTesteword2Vec[0][3]"
      ]
    },
    {
      "cell_type": "code",
      "execution_count": null,
      "metadata": {
        "id": "uHogBCgJNZou",
        "colab": {
          "base_uri": "https://localhost:8080/"
        },
        "outputId": "2c22db64-7aed-4dc4-d983-0fb9ea1e5acf"
      },
      "outputs": [
        {
          "output_type": "execute_result",
          "data": {
            "text/plain": [
              "0.047435000000000005"
            ]
          },
          "metadata": {},
          "execution_count": 34
        }
      ],
      "source": [
        "testeSomaExemplo = - 0.01 + 0.094044 - 0.036609\n",
        "testeSomaExemplo"
      ]
    },
    {
      "cell_type": "markdown",
      "metadata": {
        "id": "7nIa3y_gNZo0"
      },
      "source": [
        "Como é possível observar, utilizando esse exemplo da coluna 3, a soma dos vetores das 3 palavras e 0.047435, assim como é possível observar no resultado da função original. Comprovando assim que a soma vetorial foi executada de forma correta."
      ]
    },
    {
      "cell_type": "markdown",
      "metadata": {
        "id": "VLVFJWXTMfZD"
      },
      "source": [
        "### 5.5 Modelo Word2vec pré - treinado"
      ]
    },
    {
      "cell_type": "markdown",
      "metadata": {
        "id": "5oNq2dvuShUZ"
      },
      "source": [
        "#### 5.5.1 definição"
      ]
    },
    {
      "cell_type": "markdown",
      "metadata": {
        "id": "hRIOL8qkRh1A"
      },
      "source": [
        "Abaixo e definido modelo word2vec, funcionando em conjunto com a pipeline."
      ]
    },
    {
      "cell_type": "code",
      "execution_count": null,
      "metadata": {
        "id": "BGt86wHTOE2d"
      },
      "outputs": [],
      "source": [
        "def modeloWord2Vec(coluna):\n",
        "  #Recebe os dados a ser realizado o BOW\n",
        "  frases = pipeline(coluna)\n",
        "  #Cria os tokens a serem utilizados pelo modelo\n",
        "  frases = frases.apply(tokenizar)\n",
        "  #aplica a função de word2vec\n",
        "  vetores = word2Vec(frases)\n",
        "  #retorna o reusltado\n",
        "  return vetores"
      ]
    },
    {
      "cell_type": "markdown",
      "metadata": {
        "id": "r02Y_YugSkWv"
      },
      "source": [
        "#### 5.5.2 teste"
      ]
    },
    {
      "cell_type": "markdown",
      "metadata": {
        "id": "GEXci2I0OG_o"
      },
      "source": [
        "Abaixo e possivel vizualisar o modelo word2vec, funcionando em conjunto com a pipeline"
      ]
    },
    {
      "cell_type": "code",
      "execution_count": null,
      "metadata": {
        "id": "pTH40sERPRhv",
        "colab": {
          "base_uri": "https://localhost:8080/"
        },
        "outputId": "c1b33778-a97f-4fea-ea3d-7ff91c6c26b5"
      },
      "outputs": [
        {
          "output_type": "stream",
          "name": "stderr",
          "text": [
            "IOPub data rate exceeded.\n",
            "The notebook server will temporarily stop sending output\n",
            "to the client in order to avoid crashing it.\n",
            "To change this limit, set the config variable\n",
            "`--NotebookApp.iopub_data_rate_limit`.\n",
            "\n",
            "Current values:\n",
            "NotebookApp.iopub_data_rate_limit=1000000.0 (bytes/sec)\n",
            "NotebookApp.rate_limit_window=3.0 (secs)\n",
            "\n"
          ]
        }
      ],
      "source": [
        "resultadoModeloWord2Vec= modeloWord2Vec(df['texto'])"
      ]
    },
    {
      "cell_type": "markdown",
      "metadata": {
        "id": "QVrikqtMSXIP"
      },
      "source": [
        "####  5.5.3 Criando dataframe "
      ]
    },
    {
      "cell_type": "code",
      "execution_count": null,
      "metadata": {
        "id": "o-we9jwTTCAX",
        "colab": {
          "base_uri": "https://localhost:8080/",
          "height": 1000
        },
        "outputId": "36e2d6ee-a6f1-4326-8e7f-11f1f0cb19fe"
      },
      "outputs": [
        {
          "output_type": "execute_result",
          "data": {
            "text/plain": [
              "                                                          0         1   \\\n",
              "dadosTratados                                                            \n",
              "alvarez    marsal estarar Conosco sportainmetr ...  1.383377 -2.654717   \n",
              "repost btgpactual With Make_repost    entendar ...  1.283763 -3.410798   \n",
              "minuto touro ouro                                   0.047435 -0.007625   \n",
              "                                                         NaN       NaN   \n",
              "querer    banking proprio    administrar            0.106028  0.121924   \n",
              "...                                                      ...       ...   \n",
              "atendar telefone amor Deus                          0.106028  0.121924   \n",
              "voce sao    grande fiis mercado nao     selecio...  1.815789 -2.876974   \n",
              "erro financeiro eliminar    ano    parar ostent...  0.836931 -4.082651   \n",
              "guadakan chegar    aula publico formato espetac...  0.068602 -8.919511   \n",
              "   morning call nao aparecer spotify atualizar ...  0.948231 -0.942366   \n",
              "\n",
              "                                                          2         3   \\\n",
              "dadosTratados                                                            \n",
              "alvarez    marsal estarar Conosco sportainmetr ... -1.405555 -3.668075   \n",
              "repost btgpactual With Make_repost    entendar ... -2.465253 -3.282195   \n",
              "minuto touro ouro                                   0.173723 -0.445078   \n",
              "                                                         NaN       NaN   \n",
              "querer    banking proprio    administrar            0.139373 -0.918912   \n",
              "...                                                      ...       ...   \n",
              "atendar telefone amor Deus                          0.139373 -0.918912   \n",
              "voce sao    grande fiis mercado nao     selecio... -1.558797 -3.573577   \n",
              "erro financeiro eliminar    ano    parar ostent... -2.630611 -4.756009   \n",
              "guadakan chegar    aula publico formato espetac... -2.793904 -7.389237   \n",
              "   morning call nao aparecer spotify atualizar ... -0.010881 -2.126990   \n",
              "\n",
              "                                                          4         5   \\\n",
              "dadosTratados                                                            \n",
              "alvarez    marsal estarar Conosco sportainmetr ...  0.229193  0.304061   \n",
              "repost btgpactual With Make_repost    entendar ...  0.012297 -0.849639   \n",
              "minuto touro ouro                                  -0.058977 -0.182599   \n",
              "                                                         NaN       NaN   \n",
              "querer    banking proprio    administrar            0.004461 -0.216214   \n",
              "...                                                      ...       ...   \n",
              "atendar telefone amor Deus                          0.004461 -0.216214   \n",
              "voce sao    grande fiis mercado nao     selecio...  1.132767 -0.111063   \n",
              "erro financeiro eliminar    ano    parar ostent... -0.629420 -0.144831   \n",
              "guadakan chegar    aula publico formato espetac... -0.428109 -0.655916   \n",
              "   morning call nao aparecer spotify atualizar ...  0.949057 -0.365847   \n",
              "\n",
              "                                                          6         7   \\\n",
              "dadosTratados                                                            \n",
              "alvarez    marsal estarar Conosco sportainmetr ... -1.807550 -0.759527   \n",
              "repost btgpactual With Make_repost    entendar ... -1.143002 -0.586896   \n",
              "minuto touro ouro                                  -0.079506 -0.220796   \n",
              "                                                         NaN       NaN   \n",
              "querer    banking proprio    administrar           -0.204989 -0.420545   \n",
              "...                                                      ...       ...   \n",
              "atendar telefone amor Deus                         -0.204989 -0.420545   \n",
              "voce sao    grande fiis mercado nao     selecio... -1.510444 -0.775099   \n",
              "erro financeiro eliminar    ano    parar ostent... -1.697202 -0.302105   \n",
              "guadakan chegar    aula publico formato espetac... -1.413017  0.700860   \n",
              "   morning call nao aparecer spotify atualizar ... -0.170032 -1.474218   \n",
              "\n",
              "                                                          8         9   ...  \\\n",
              "dadosTratados                                                           ...   \n",
              "alvarez    marsal estarar Conosco sportainmetr ... -4.674443 -4.022112  ...   \n",
              "repost btgpactual With Make_repost    entendar ... -4.501272 -3.937777  ...   \n",
              "minuto touro ouro                                  -0.265243 -0.346969  ...   \n",
              "                                                         NaN       NaN  ...   \n",
              "querer    banking proprio    administrar           -0.648111 -0.363125  ...   \n",
              "...                                                      ...       ...  ...   \n",
              "atendar telefone amor Deus                         -0.648111 -0.363125  ...   \n",
              "voce sao    grande fiis mercado nao     selecio... -4.272242 -3.677279  ...   \n",
              "erro financeiro eliminar    ano    parar ostent... -5.067372 -5.055635  ...   \n",
              "guadakan chegar    aula publico formato espetac... -5.643440 -7.405999  ...   \n",
              "   morning call nao aparecer spotify atualizar ... -2.592782 -1.941407  ...   \n",
              "\n",
              "                                                          40        41  \\\n",
              "dadosTratados                                                            \n",
              "alvarez    marsal estarar Conosco sportainmetr ...  0.220864 -3.715628   \n",
              "repost btgpactual With Make_repost    entendar ...  0.604381 -5.294922   \n",
              "minuto touro ouro                                  -0.012755 -0.238091   \n",
              "                                                         NaN       NaN   \n",
              "querer    banking proprio    administrar           -0.179132 -0.510152   \n",
              "...                                                      ...       ...   \n",
              "atendar telefone amor Deus                         -0.179132 -0.510152   \n",
              "voce sao    grande fiis mercado nao     selecio...  0.356593 -4.013429   \n",
              "erro financeiro eliminar    ano    parar ostent... -0.118279 -6.384274   \n",
              "guadakan chegar    aula publico formato espetac... -0.731742 -7.833986   \n",
              "   morning call nao aparecer spotify atualizar ...  0.838269 -2.599074   \n",
              "\n",
              "                                                          42        43  \\\n",
              "dadosTratados                                                            \n",
              "alvarez    marsal estarar Conosco sportainmetr ... -0.508049 -1.681060   \n",
              "repost btgpactual With Make_repost    entendar ... -0.893327 -0.872390   \n",
              "minuto touro ouro                                   0.309302 -0.140818   \n",
              "                                                         NaN       NaN   \n",
              "querer    banking proprio    administrar            0.635353 -0.319989   \n",
              "...                                                      ...       ...   \n",
              "atendar telefone amor Deus                          0.635353 -0.319989   \n",
              "voce sao    grande fiis mercado nao     selecio... -0.626634 -1.653492   \n",
              "erro financeiro eliminar    ano    parar ostent... -0.833756  0.019192   \n",
              "guadakan chegar    aula publico formato espetac... -0.155092 -0.787291   \n",
              "   morning call nao aparecer spotify atualizar ...  0.021309 -0.552362   \n",
              "\n",
              "                                                          44        45  \\\n",
              "dadosTratados                                                            \n",
              "alvarez    marsal estarar Conosco sportainmetr ...  0.322339  3.070996   \n",
              "repost btgpactual With Make_repost    entendar ...  1.264841  2.869610   \n",
              "minuto touro ouro                                  -0.078406 -0.180135   \n",
              "                                                         NaN       NaN   \n",
              "querer    banking proprio    administrar           -0.392927  0.184347   \n",
              "...                                                      ...       ...   \n",
              "atendar telefone amor Deus                         -0.392927  0.184347   \n",
              "voce sao    grande fiis mercado nao     selecio...  0.486769  2.573709   \n",
              "erro financeiro eliminar    ano    parar ostent...  1.295962  3.993481   \n",
              "guadakan chegar    aula publico formato espetac...  3.670361  7.178771   \n",
              "   morning call nao aparecer spotify atualizar ...  0.259679  0.921726   \n",
              "\n",
              "                                                          46        47  \\\n",
              "dadosTratados                                                            \n",
              "alvarez    marsal estarar Conosco sportainmetr ... -1.145615 -0.220174   \n",
              "repost btgpactual With Make_repost    entendar ... -0.396956 -0.465566   \n",
              "minuto touro ouro                                   0.013944 -0.043409   \n",
              "                                                         NaN       NaN   \n",
              "querer    banking proprio    administrar           -0.225403  0.008890   \n",
              "...                                                      ...       ...   \n",
              "atendar telefone amor Deus                         -0.225403  0.008890   \n",
              "voce sao    grande fiis mercado nao     selecio...  0.071672 -0.287472   \n",
              "erro financeiro eliminar    ano    parar ostent...  0.281847  0.516516   \n",
              "guadakan chegar    aula publico formato espetac... -0.241885 -0.687680   \n",
              "   morning call nao aparecer spotify atualizar ... -0.890135  1.305274   \n",
              "\n",
              "                                                          48        49  \n",
              "dadosTratados                                                           \n",
              "alvarez    marsal estarar Conosco sportainmetr ... -1.008628  4.302267  \n",
              "repost btgpactual With Make_repost    entendar ... -2.063515  4.795250  \n",
              "minuto touro ouro                                   0.288535  0.232324  \n",
              "                                                         NaN       NaN  \n",
              "querer    banking proprio    administrar            0.201078  0.354131  \n",
              "...                                                      ...       ...  \n",
              "atendar telefone amor Deus                          0.201078  0.354131  \n",
              "voce sao    grande fiis mercado nao     selecio... -0.189655  3.710586  \n",
              "erro financeiro eliminar    ano    parar ostent... -3.820503  6.278456  \n",
              "guadakan chegar    aula publico formato espetac... -7.578391  5.693573  \n",
              "   morning call nao aparecer spotify atualizar ...  0.611135  1.765292  \n",
              "\n",
              "[9487 rows x 50 columns]"
            ],
            "text/html": [
              "\n",
              "  <div id=\"df-5771a217-b1dd-4cea-adb3-4e90ac87ce95\">\n",
              "    <div class=\"colab-df-container\">\n",
              "      <div>\n",
              "<style scoped>\n",
              "    .dataframe tbody tr th:only-of-type {\n",
              "        vertical-align: middle;\n",
              "    }\n",
              "\n",
              "    .dataframe tbody tr th {\n",
              "        vertical-align: top;\n",
              "    }\n",
              "\n",
              "    .dataframe thead th {\n",
              "        text-align: right;\n",
              "    }\n",
              "</style>\n",
              "<table border=\"1\" class=\"dataframe\">\n",
              "  <thead>\n",
              "    <tr style=\"text-align: right;\">\n",
              "      <th></th>\n",
              "      <th>0</th>\n",
              "      <th>1</th>\n",
              "      <th>2</th>\n",
              "      <th>3</th>\n",
              "      <th>4</th>\n",
              "      <th>5</th>\n",
              "      <th>6</th>\n",
              "      <th>7</th>\n",
              "      <th>8</th>\n",
              "      <th>9</th>\n",
              "      <th>...</th>\n",
              "      <th>40</th>\n",
              "      <th>41</th>\n",
              "      <th>42</th>\n",
              "      <th>43</th>\n",
              "      <th>44</th>\n",
              "      <th>45</th>\n",
              "      <th>46</th>\n",
              "      <th>47</th>\n",
              "      <th>48</th>\n",
              "      <th>49</th>\n",
              "    </tr>\n",
              "    <tr>\n",
              "      <th>dadosTratados</th>\n",
              "      <th></th>\n",
              "      <th></th>\n",
              "      <th></th>\n",
              "      <th></th>\n",
              "      <th></th>\n",
              "      <th></th>\n",
              "      <th></th>\n",
              "      <th></th>\n",
              "      <th></th>\n",
              "      <th></th>\n",
              "      <th></th>\n",
              "      <th></th>\n",
              "      <th></th>\n",
              "      <th></th>\n",
              "      <th></th>\n",
              "      <th></th>\n",
              "      <th></th>\n",
              "      <th></th>\n",
              "      <th></th>\n",
              "      <th></th>\n",
              "      <th></th>\n",
              "    </tr>\n",
              "  </thead>\n",
              "  <tbody>\n",
              "    <tr>\n",
              "      <th>alvarez    marsal estarar Conosco sportainmetr labs evento sportainmentr americo latino parcerio     Hubstage bichar motta advogado win the Game     participe evento online gratuito     Marco inscrevase linkr bio        hubstage sportainmentlabs bicharaemotta btgpactual Winthegame sportainment esporte entretenimento digital futuro</th>\n",
              "      <td>1.383377</td>\n",
              "      <td>-2.654717</td>\n",
              "      <td>-1.405555</td>\n",
              "      <td>-3.668075</td>\n",
              "      <td>0.229193</td>\n",
              "      <td>0.304061</td>\n",
              "      <td>-1.807550</td>\n",
              "      <td>-0.759527</td>\n",
              "      <td>-4.674443</td>\n",
              "      <td>-4.022112</td>\n",
              "      <td>...</td>\n",
              "      <td>0.220864</td>\n",
              "      <td>-3.715628</td>\n",
              "      <td>-0.508049</td>\n",
              "      <td>-1.681060</td>\n",
              "      <td>0.322339</td>\n",
              "      <td>3.070996</td>\n",
              "      <td>-1.145615</td>\n",
              "      <td>-0.220174</td>\n",
              "      <td>-1.008628</td>\n",
              "      <td>4.302267</td>\n",
              "    </tr>\n",
              "    <tr>\n",
              "      <th>repost btgpactual With Make_repost    entendar impacto conflito Russia x ucrania cenario global live inedito amanho h anatole Kaletsky sociofundador Economistachefe Gavekal research joao scandiuzzi estrategista global     Wealth Management moderacao daniel Cunha     estarao vivo canal youtube nao percar    informacao importante audio original ingles</th>\n",
              "      <td>1.283763</td>\n",
              "      <td>-3.410798</td>\n",
              "      <td>-2.465253</td>\n",
              "      <td>-3.282195</td>\n",
              "      <td>0.012297</td>\n",
              "      <td>-0.849639</td>\n",
              "      <td>-1.143002</td>\n",
              "      <td>-0.586896</td>\n",
              "      <td>-4.501272</td>\n",
              "      <td>-3.937777</td>\n",
              "      <td>...</td>\n",
              "      <td>0.604381</td>\n",
              "      <td>-5.294922</td>\n",
              "      <td>-0.893327</td>\n",
              "      <td>-0.872390</td>\n",
              "      <td>1.264841</td>\n",
              "      <td>2.869610</td>\n",
              "      <td>-0.396956</td>\n",
              "      <td>-0.465566</td>\n",
              "      <td>-2.063515</td>\n",
              "      <td>4.795250</td>\n",
              "    </tr>\n",
              "    <tr>\n",
              "      <th>minuto touro ouro</th>\n",
              "      <td>0.047435</td>\n",
              "      <td>-0.007625</td>\n",
              "      <td>0.173723</td>\n",
              "      <td>-0.445078</td>\n",
              "      <td>-0.058977</td>\n",
              "      <td>-0.182599</td>\n",
              "      <td>-0.079506</td>\n",
              "      <td>-0.220796</td>\n",
              "      <td>-0.265243</td>\n",
              "      <td>-0.346969</td>\n",
              "      <td>...</td>\n",
              "      <td>-0.012755</td>\n",
              "      <td>-0.238091</td>\n",
              "      <td>0.309302</td>\n",
              "      <td>-0.140818</td>\n",
              "      <td>-0.078406</td>\n",
              "      <td>-0.180135</td>\n",
              "      <td>0.013944</td>\n",
              "      <td>-0.043409</td>\n",
              "      <td>0.288535</td>\n",
              "      <td>0.232324</td>\n",
              "    </tr>\n",
              "    <tr>\n",
              "      <th></th>\n",
              "      <td>NaN</td>\n",
              "      <td>NaN</td>\n",
              "      <td>NaN</td>\n",
              "      <td>NaN</td>\n",
              "      <td>NaN</td>\n",
              "      <td>NaN</td>\n",
              "      <td>NaN</td>\n",
              "      <td>NaN</td>\n",
              "      <td>NaN</td>\n",
              "      <td>NaN</td>\n",
              "      <td>...</td>\n",
              "      <td>NaN</td>\n",
              "      <td>NaN</td>\n",
              "      <td>NaN</td>\n",
              "      <td>NaN</td>\n",
              "      <td>NaN</td>\n",
              "      <td>NaN</td>\n",
              "      <td>NaN</td>\n",
              "      <td>NaN</td>\n",
              "      <td>NaN</td>\n",
              "      <td>NaN</td>\n",
              "    </tr>\n",
              "    <tr>\n",
              "      <th>querer    banking proprio    administrar</th>\n",
              "      <td>0.106028</td>\n",
              "      <td>0.121924</td>\n",
              "      <td>0.139373</td>\n",
              "      <td>-0.918912</td>\n",
              "      <td>0.004461</td>\n",
              "      <td>-0.216214</td>\n",
              "      <td>-0.204989</td>\n",
              "      <td>-0.420545</td>\n",
              "      <td>-0.648111</td>\n",
              "      <td>-0.363125</td>\n",
              "      <td>...</td>\n",
              "      <td>-0.179132</td>\n",
              "      <td>-0.510152</td>\n",
              "      <td>0.635353</td>\n",
              "      <td>-0.319989</td>\n",
              "      <td>-0.392927</td>\n",
              "      <td>0.184347</td>\n",
              "      <td>-0.225403</td>\n",
              "      <td>0.008890</td>\n",
              "      <td>0.201078</td>\n",
              "      <td>0.354131</td>\n",
              "    </tr>\n",
              "    <tr>\n",
              "      <th>...</th>\n",
              "      <td>...</td>\n",
              "      <td>...</td>\n",
              "      <td>...</td>\n",
              "      <td>...</td>\n",
              "      <td>...</td>\n",
              "      <td>...</td>\n",
              "      <td>...</td>\n",
              "      <td>...</td>\n",
              "      <td>...</td>\n",
              "      <td>...</td>\n",
              "      <td>...</td>\n",
              "      <td>...</td>\n",
              "      <td>...</td>\n",
              "      <td>...</td>\n",
              "      <td>...</td>\n",
              "      <td>...</td>\n",
              "      <td>...</td>\n",
              "      <td>...</td>\n",
              "      <td>...</td>\n",
              "      <td>...</td>\n",
              "      <td>...</td>\n",
              "    </tr>\n",
              "    <tr>\n",
              "      <th>atendar telefone amor Deus</th>\n",
              "      <td>0.106028</td>\n",
              "      <td>0.121924</td>\n",
              "      <td>0.139373</td>\n",
              "      <td>-0.918912</td>\n",
              "      <td>0.004461</td>\n",
              "      <td>-0.216214</td>\n",
              "      <td>-0.204989</td>\n",
              "      <td>-0.420545</td>\n",
              "      <td>-0.648111</td>\n",
              "      <td>-0.363125</td>\n",
              "      <td>...</td>\n",
              "      <td>-0.179132</td>\n",
              "      <td>-0.510152</td>\n",
              "      <td>0.635353</td>\n",
              "      <td>-0.319989</td>\n",
              "      <td>-0.392927</td>\n",
              "      <td>0.184347</td>\n",
              "      <td>-0.225403</td>\n",
              "      <td>0.008890</td>\n",
              "      <td>0.201078</td>\n",
              "      <td>0.354131</td>\n",
              "    </tr>\n",
              "    <tr>\n",
              "      <th>voce sao    grande fiis mercado nao     selecionei principal destaque mes novembro termos numero cotisto participacao ifx mercar paravpa dividendo    lembrese nao significar recomendacao compra ativo matheusfiis recomendar estao disponivel site btgpactual</th>\n",
              "      <td>1.815789</td>\n",
              "      <td>-2.876974</td>\n",
              "      <td>-1.558797</td>\n",
              "      <td>-3.573577</td>\n",
              "      <td>1.132767</td>\n",
              "      <td>-0.111063</td>\n",
              "      <td>-1.510444</td>\n",
              "      <td>-0.775099</td>\n",
              "      <td>-4.272242</td>\n",
              "      <td>-3.677279</td>\n",
              "      <td>...</td>\n",
              "      <td>0.356593</td>\n",
              "      <td>-4.013429</td>\n",
              "      <td>-0.626634</td>\n",
              "      <td>-1.653492</td>\n",
              "      <td>0.486769</td>\n",
              "      <td>2.573709</td>\n",
              "      <td>0.071672</td>\n",
              "      <td>-0.287472</td>\n",
              "      <td>-0.189655</td>\n",
              "      <td>3.710586</td>\n",
              "    </tr>\n",
              "    <tr>\n",
              "      <th>erro financeiro eliminar    ano    parar ostentar    nao controlar orcamento    nao planejar futuro    nao formar reserva emergencia    nao falar dinheiro    esperar comecar investir     Wwwamgcapitalcombr    email contatocombr    credenciados btgpactual     telefone sao Paulo      Porto alegre      florianopoli        disclaimer post carater informativo nao constituir oferta compra vendo ativo financeiro    amgcapital btgpactual investimento acoes ano economia ibovespa educacaofinanceirar</th>\n",
              "      <td>0.836931</td>\n",
              "      <td>-4.082651</td>\n",
              "      <td>-2.630611</td>\n",
              "      <td>-4.756009</td>\n",
              "      <td>-0.629420</td>\n",
              "      <td>-0.144831</td>\n",
              "      <td>-1.697202</td>\n",
              "      <td>-0.302105</td>\n",
              "      <td>-5.067372</td>\n",
              "      <td>-5.055635</td>\n",
              "      <td>...</td>\n",
              "      <td>-0.118279</td>\n",
              "      <td>-6.384274</td>\n",
              "      <td>-0.833756</td>\n",
              "      <td>0.019192</td>\n",
              "      <td>1.295962</td>\n",
              "      <td>3.993481</td>\n",
              "      <td>0.281847</td>\n",
              "      <td>0.516516</td>\n",
              "      <td>-3.820503</td>\n",
              "      <td>6.278456</td>\n",
              "    </tr>\n",
              "    <tr>\n",
              "      <th>guadakan chegar    aula publico formato espetaculo moinho in concert ser preparar emocao entusiasmo levar voce pouquinho pantanal ciclo    ja anotem    agenda      dezembro encontro marcar centro convencoes pantanal    estarer divulgar entrada estarao disponivel Secretaria    ano serao    Sessoes    dezembro    hora    hora    dia    dezembro    hora    hora    nao desculpa perder     lembramo entrada sao limitar razao importante garantir antecedencia    confirar acima depoimento coreografo chico neller preparacao acao cheio musica muito danca    institutoculturalvale institutofar_hinode    rolonmarcia itausocial visa_br Brinksbrasil btgpactual hinoveoficial oficialrodobem criancaesperanca supermercadoscomper sescms fecomercioms jmacedo_oficial governoms ihp_pantanal _ prefeituradecorumbar ladarioprefeituramunicipal acaiapantanal documentapantanal ifmscb cpanufmsoficial sebraems</th>\n",
              "      <td>0.068602</td>\n",
              "      <td>-8.919511</td>\n",
              "      <td>-2.793904</td>\n",
              "      <td>-7.389237</td>\n",
              "      <td>-0.428109</td>\n",
              "      <td>-0.655916</td>\n",
              "      <td>-1.413017</td>\n",
              "      <td>0.700860</td>\n",
              "      <td>-5.643440</td>\n",
              "      <td>-7.405999</td>\n",
              "      <td>...</td>\n",
              "      <td>-0.731742</td>\n",
              "      <td>-7.833986</td>\n",
              "      <td>-0.155092</td>\n",
              "      <td>-0.787291</td>\n",
              "      <td>3.670361</td>\n",
              "      <td>7.178771</td>\n",
              "      <td>-0.241885</td>\n",
              "      <td>-0.687680</td>\n",
              "      <td>-7.578391</td>\n",
              "      <td>5.693573</td>\n",
              "    </tr>\n",
              "    <tr>\n",
              "      <th>morning call nao aparecer spotify atualizar dia aparecer errar dia atual so entrar dia seguinte</th>\n",
              "      <td>0.948231</td>\n",
              "      <td>-0.942366</td>\n",
              "      <td>-0.010881</td>\n",
              "      <td>-2.126990</td>\n",
              "      <td>0.949057</td>\n",
              "      <td>-0.365847</td>\n",
              "      <td>-0.170032</td>\n",
              "      <td>-1.474218</td>\n",
              "      <td>-2.592782</td>\n",
              "      <td>-1.941407</td>\n",
              "      <td>...</td>\n",
              "      <td>0.838269</td>\n",
              "      <td>-2.599074</td>\n",
              "      <td>0.021309</td>\n",
              "      <td>-0.552362</td>\n",
              "      <td>0.259679</td>\n",
              "      <td>0.921726</td>\n",
              "      <td>-0.890135</td>\n",
              "      <td>1.305274</td>\n",
              "      <td>0.611135</td>\n",
              "      <td>1.765292</td>\n",
              "    </tr>\n",
              "  </tbody>\n",
              "</table>\n",
              "<p>9487 rows × 50 columns</p>\n",
              "</div>\n",
              "      <button class=\"colab-df-convert\" onclick=\"convertToInteractive('df-5771a217-b1dd-4cea-adb3-4e90ac87ce95')\"\n",
              "              title=\"Convert this dataframe to an interactive table.\"\n",
              "              style=\"display:none;\">\n",
              "        \n",
              "  <svg xmlns=\"http://www.w3.org/2000/svg\" height=\"24px\"viewBox=\"0 0 24 24\"\n",
              "       width=\"24px\">\n",
              "    <path d=\"M0 0h24v24H0V0z\" fill=\"none\"/>\n",
              "    <path d=\"M18.56 5.44l.94 2.06.94-2.06 2.06-.94-2.06-.94-.94-2.06-.94 2.06-2.06.94zm-11 1L8.5 8.5l.94-2.06 2.06-.94-2.06-.94L8.5 2.5l-.94 2.06-2.06.94zm10 10l.94 2.06.94-2.06 2.06-.94-2.06-.94-.94-2.06-.94 2.06-2.06.94z\"/><path d=\"M17.41 7.96l-1.37-1.37c-.4-.4-.92-.59-1.43-.59-.52 0-1.04.2-1.43.59L10.3 9.45l-7.72 7.72c-.78.78-.78 2.05 0 2.83L4 21.41c.39.39.9.59 1.41.59.51 0 1.02-.2 1.41-.59l7.78-7.78 2.81-2.81c.8-.78.8-2.07 0-2.86zM5.41 20L4 18.59l7.72-7.72 1.47 1.35L5.41 20z\"/>\n",
              "  </svg>\n",
              "      </button>\n",
              "      \n",
              "  <style>\n",
              "    .colab-df-container {\n",
              "      display:flex;\n",
              "      flex-wrap:wrap;\n",
              "      gap: 12px;\n",
              "    }\n",
              "\n",
              "    .colab-df-convert {\n",
              "      background-color: #E8F0FE;\n",
              "      border: none;\n",
              "      border-radius: 50%;\n",
              "      cursor: pointer;\n",
              "      display: none;\n",
              "      fill: #1967D2;\n",
              "      height: 32px;\n",
              "      padding: 0 0 0 0;\n",
              "      width: 32px;\n",
              "    }\n",
              "\n",
              "    .colab-df-convert:hover {\n",
              "      background-color: #E2EBFA;\n",
              "      box-shadow: 0px 1px 2px rgba(60, 64, 67, 0.3), 0px 1px 3px 1px rgba(60, 64, 67, 0.15);\n",
              "      fill: #174EA6;\n",
              "    }\n",
              "\n",
              "    [theme=dark] .colab-df-convert {\n",
              "      background-color: #3B4455;\n",
              "      fill: #D2E3FC;\n",
              "    }\n",
              "\n",
              "    [theme=dark] .colab-df-convert:hover {\n",
              "      background-color: #434B5C;\n",
              "      box-shadow: 0px 1px 3px 1px rgba(0, 0, 0, 0.15);\n",
              "      filter: drop-shadow(0px 1px 2px rgba(0, 0, 0, 0.3));\n",
              "      fill: #FFFFFF;\n",
              "    }\n",
              "  </style>\n",
              "\n",
              "      <script>\n",
              "        const buttonEl =\n",
              "          document.querySelector('#df-5771a217-b1dd-4cea-adb3-4e90ac87ce95 button.colab-df-convert');\n",
              "        buttonEl.style.display =\n",
              "          google.colab.kernel.accessAllowed ? 'block' : 'none';\n",
              "\n",
              "        async function convertToInteractive(key) {\n",
              "          const element = document.querySelector('#df-5771a217-b1dd-4cea-adb3-4e90ac87ce95');\n",
              "          const dataTable =\n",
              "            await google.colab.kernel.invokeFunction('convertToInteractive',\n",
              "                                                     [key], {});\n",
              "          if (!dataTable) return;\n",
              "\n",
              "          const docLinkHtml = 'Like what you see? Visit the ' +\n",
              "            '<a target=\"_blank\" href=https://colab.research.google.com/notebooks/data_table.ipynb>data table notebook</a>'\n",
              "            + ' to learn more about interactive tables.';\n",
              "          element.innerHTML = '';\n",
              "          dataTable['output_type'] = 'display_data';\n",
              "          await google.colab.output.renderOutput(dataTable, element);\n",
              "          const docLink = document.createElement('div');\n",
              "          docLink.innerHTML = docLinkHtml;\n",
              "          element.appendChild(docLink);\n",
              "        }\n",
              "      </script>\n",
              "    </div>\n",
              "  </div>\n",
              "  "
            ]
          },
          "metadata": {},
          "execution_count": 47
        }
      ],
      "source": [
        "dfWord2Vec = pd.DataFrame(resultadoModeloWord2Vec, index=dadosTratados)\n",
        "dfWord2Vec"
      ]
    },
    {
      "cell_type": "markdown",
      "metadata": {
        "id": "LueBMrl2TOX-"
      },
      "source": [
        "#### 5.5.4 exportando resultado"
      ]
    },
    {
      "cell_type": "code",
      "execution_count": null,
      "metadata": {
        "id": "-FZQ8rkZTQ4q"
      },
      "outputs": [],
      "source": [
        "dfWord2Vec.to_csv('resultadoWord2vec.csv', index=False)"
      ]
    },
    {
      "cell_type": "markdown",
      "metadata": {
        "id": "aVY71weAfoP4"
      },
      "source": [
        "## 6.0 Modelos"
      ]
    },
    {
      "cell_type": "markdown",
      "metadata": {
        "id": "iqyd_LA4mWuc"
      },
      "source": [
        "### 6.1 Naive Bayes com BagOfWords"
      ]
    },
    {
      "cell_type": "markdown",
      "source": [
        "#### Guto"
      ],
      "metadata": {
        "id": "-vy_ijnGZ8fa"
      }
    },
    {
      "cell_type": "code",
      "source": [],
      "metadata": {
        "id": "ITjmv-UeZ8Bv"
      },
      "execution_count": null,
      "outputs": []
    },
    {
      "cell_type": "markdown",
      "source": [
        "#### 6.1.1 Naive bayes sem balanceamento"
      ],
      "metadata": {
        "id": "4JPvF29XVJn3"
      }
    },
    {
      "cell_type": "markdown",
      "source": [
        "##### 6.1.1.1 Setup"
      ],
      "metadata": {
        "id": "HzgRM-L0VNmO"
      }
    },
    {
      "cell_type": "code",
      "source": [
        "import pandas as pd\n",
        "from sklearn.model_selection import train_test_split\n",
        "from sklearn.naive_bayes import MultinomialNB\n",
        "from sklearn.metrics import accuracy_score\n",
        "from imblearn.over_sampling import RandomOverSampler\n",
        "from sklearn.utils import resample\n",
        "from imblearn.over_sampling import SMOTE"
      ],
      "metadata": {
        "id": "RzWCr1a7UqTU"
      },
      "execution_count": null,
      "outputs": []
    },
    {
      "cell_type": "markdown",
      "source": [
        "##### 6.1.1.2 Definição de bases"
      ],
      "metadata": {
        "id": "CUQhbl9SVSTI"
      }
    },
    {
      "cell_type": "code",
      "source": [
        "# Exemplo de uso da função\n",
        "df_rotulos = df['targetSentimento'].copy()\n",
        "df_bag_of_words = dfBagOfWords"
      ],
      "metadata": {
        "id": "0DfUE_oHUt9T"
      },
      "execution_count": null,
      "outputs": []
    },
    {
      "cell_type": "code",
      "source": [
        "# Redefinir os índices dos DataFrames\n",
        "df_rotulos = df_rotulos.reset_index(drop=True)\n",
        "df_bag_of_words = df_bag_of_words.reset_index(drop=True)\n",
        "\n",
        "# Juntar os DataFrames ao longo do eixo das colunas\n",
        "df_unido = pd.concat([df_rotulos, df_bag_of_words], axis=1)\n",
        "df_unido"
      ],
      "metadata": {
        "colab": {
          "base_uri": "https://localhost:8080/",
          "height": 487
        },
        "id": "zrieaS-vUvpJ",
        "outputId": "da9fa45f-eb8f-421d-933e-3b9720bc5ab5"
      },
      "execution_count": null,
      "outputs": [
        {
          "output_type": "execute_result",
          "data": {
            "text/plain": [
              "     targetSentimento  btgpactual  nao  investimento  voce  banco  dia  \\\n",
              "0             NEUTRAL         1.0  0.0           0.0   0.0    0.0  0.0   \n",
              "1             NEUTRAL         1.0  1.0           0.0   0.0    0.0  0.0   \n",
              "2            POSITIVE         0.0  0.0           0.0   0.0    0.0  0.0   \n",
              "3             NEUTRAL         0.0  0.0           0.0   0.0    0.0  0.0   \n",
              "4            POSITIVE         0.0  0.0           0.0   0.0    0.0  0.0   \n",
              "...               ...         ...  ...           ...   ...    ...  ...   \n",
              "9482         POSITIVE         0.0  0.0           0.0   0.0    0.0  0.0   \n",
              "9483         POSITIVE         1.0  2.0           0.0   1.0    0.0  0.0   \n",
              "9484          NEUTRAL         2.0  5.0           1.0   0.0    0.0  0.0   \n",
              "9485          NEUTRAL         1.0  1.0           0.0   1.0    0.0  1.0   \n",
              "9486         NEGATIVE         0.0  1.0           0.0   0.0    0.0  3.0   \n",
              "\n",
              "      mercado  ano  bom  ...  anotem  convencoes  sessoes  lembramo  \\\n",
              "0         0.0  0.0  0.0  ...     0.0         0.0      0.0       0.0   \n",
              "1         0.0  0.0  0.0  ...     0.0         0.0      0.0       0.0   \n",
              "2         0.0  0.0  0.0  ...     0.0         0.0      0.0       0.0   \n",
              "3         0.0  0.0  0.0  ...     0.0         0.0      0.0       0.0   \n",
              "4         0.0  0.0  0.0  ...     0.0         0.0      0.0       0.0   \n",
              "...       ...  ...  ...  ...     ...         ...      ...       ...   \n",
              "9482      0.0  0.0  0.0  ...     0.0         0.0      0.0       0.0   \n",
              "9483      1.0  0.0  0.0  ...     0.0         0.0      0.0       0.0   \n",
              "9484      0.0  2.0  0.0  ...     0.0         0.0      0.0       0.0   \n",
              "9485      0.0  1.0  0.0  ...     1.0         1.0      1.0       1.0   \n",
              "9486      0.0  0.0  0.0  ...     0.0         0.0      0.0       0.0   \n",
              "\n",
              "      coreografo  chico  neller  prefeituradecorumbar  cpanufmsoficial  \\\n",
              "0            0.0    0.0     0.0                   0.0              0.0   \n",
              "1            0.0    0.0     0.0                   0.0              0.0   \n",
              "2            0.0    0.0     0.0                   0.0              0.0   \n",
              "3            0.0    0.0     0.0                   0.0              0.0   \n",
              "4            0.0    0.0     0.0                   0.0              0.0   \n",
              "...          ...    ...     ...                   ...              ...   \n",
              "9482         0.0    0.0     0.0                   0.0              0.0   \n",
              "9483         0.0    0.0     0.0                   0.0              0.0   \n",
              "9484         0.0    0.0     0.0                   0.0              0.0   \n",
              "9485         1.0    1.0     1.0                   1.0              1.0   \n",
              "9486         0.0    0.0     0.0                   0.0              0.0   \n",
              "\n",
              "      sebraems  \n",
              "0          0.0  \n",
              "1          0.0  \n",
              "2          0.0  \n",
              "3          0.0  \n",
              "4          0.0  \n",
              "...        ...  \n",
              "9482       0.0  \n",
              "9483       0.0  \n",
              "9484       0.0  \n",
              "9485       1.0  \n",
              "9486       0.0  \n",
              "\n",
              "[9487 rows x 21298 columns]"
            ],
            "text/html": [
              "\n",
              "  <div id=\"df-c6d80e84-9a29-4088-97bf-40cafcd77f3e\">\n",
              "    <div class=\"colab-df-container\">\n",
              "      <div>\n",
              "<style scoped>\n",
              "    .dataframe tbody tr th:only-of-type {\n",
              "        vertical-align: middle;\n",
              "    }\n",
              "\n",
              "    .dataframe tbody tr th {\n",
              "        vertical-align: top;\n",
              "    }\n",
              "\n",
              "    .dataframe thead th {\n",
              "        text-align: right;\n",
              "    }\n",
              "</style>\n",
              "<table border=\"1\" class=\"dataframe\">\n",
              "  <thead>\n",
              "    <tr style=\"text-align: right;\">\n",
              "      <th></th>\n",
              "      <th>targetSentimento</th>\n",
              "      <th>btgpactual</th>\n",
              "      <th>nao</th>\n",
              "      <th>investimento</th>\n",
              "      <th>voce</th>\n",
              "      <th>banco</th>\n",
              "      <th>dia</th>\n",
              "      <th>mercado</th>\n",
              "      <th>ano</th>\n",
              "      <th>bom</th>\n",
              "      <th>...</th>\n",
              "      <th>anotem</th>\n",
              "      <th>convencoes</th>\n",
              "      <th>sessoes</th>\n",
              "      <th>lembramo</th>\n",
              "      <th>coreografo</th>\n",
              "      <th>chico</th>\n",
              "      <th>neller</th>\n",
              "      <th>prefeituradecorumbar</th>\n",
              "      <th>cpanufmsoficial</th>\n",
              "      <th>sebraems</th>\n",
              "    </tr>\n",
              "  </thead>\n",
              "  <tbody>\n",
              "    <tr>\n",
              "      <th>0</th>\n",
              "      <td>NEUTRAL</td>\n",
              "      <td>1.0</td>\n",
              "      <td>0.0</td>\n",
              "      <td>0.0</td>\n",
              "      <td>0.0</td>\n",
              "      <td>0.0</td>\n",
              "      <td>0.0</td>\n",
              "      <td>0.0</td>\n",
              "      <td>0.0</td>\n",
              "      <td>0.0</td>\n",
              "      <td>...</td>\n",
              "      <td>0.0</td>\n",
              "      <td>0.0</td>\n",
              "      <td>0.0</td>\n",
              "      <td>0.0</td>\n",
              "      <td>0.0</td>\n",
              "      <td>0.0</td>\n",
              "      <td>0.0</td>\n",
              "      <td>0.0</td>\n",
              "      <td>0.0</td>\n",
              "      <td>0.0</td>\n",
              "    </tr>\n",
              "    <tr>\n",
              "      <th>1</th>\n",
              "      <td>NEUTRAL</td>\n",
              "      <td>1.0</td>\n",
              "      <td>1.0</td>\n",
              "      <td>0.0</td>\n",
              "      <td>0.0</td>\n",
              "      <td>0.0</td>\n",
              "      <td>0.0</td>\n",
              "      <td>0.0</td>\n",
              "      <td>0.0</td>\n",
              "      <td>0.0</td>\n",
              "      <td>...</td>\n",
              "      <td>0.0</td>\n",
              "      <td>0.0</td>\n",
              "      <td>0.0</td>\n",
              "      <td>0.0</td>\n",
              "      <td>0.0</td>\n",
              "      <td>0.0</td>\n",
              "      <td>0.0</td>\n",
              "      <td>0.0</td>\n",
              "      <td>0.0</td>\n",
              "      <td>0.0</td>\n",
              "    </tr>\n",
              "    <tr>\n",
              "      <th>2</th>\n",
              "      <td>POSITIVE</td>\n",
              "      <td>0.0</td>\n",
              "      <td>0.0</td>\n",
              "      <td>0.0</td>\n",
              "      <td>0.0</td>\n",
              "      <td>0.0</td>\n",
              "      <td>0.0</td>\n",
              "      <td>0.0</td>\n",
              "      <td>0.0</td>\n",
              "      <td>0.0</td>\n",
              "      <td>...</td>\n",
              "      <td>0.0</td>\n",
              "      <td>0.0</td>\n",
              "      <td>0.0</td>\n",
              "      <td>0.0</td>\n",
              "      <td>0.0</td>\n",
              "      <td>0.0</td>\n",
              "      <td>0.0</td>\n",
              "      <td>0.0</td>\n",
              "      <td>0.0</td>\n",
              "      <td>0.0</td>\n",
              "    </tr>\n",
              "    <tr>\n",
              "      <th>3</th>\n",
              "      <td>NEUTRAL</td>\n",
              "      <td>0.0</td>\n",
              "      <td>0.0</td>\n",
              "      <td>0.0</td>\n",
              "      <td>0.0</td>\n",
              "      <td>0.0</td>\n",
              "      <td>0.0</td>\n",
              "      <td>0.0</td>\n",
              "      <td>0.0</td>\n",
              "      <td>0.0</td>\n",
              "      <td>...</td>\n",
              "      <td>0.0</td>\n",
              "      <td>0.0</td>\n",
              "      <td>0.0</td>\n",
              "      <td>0.0</td>\n",
              "      <td>0.0</td>\n",
              "      <td>0.0</td>\n",
              "      <td>0.0</td>\n",
              "      <td>0.0</td>\n",
              "      <td>0.0</td>\n",
              "      <td>0.0</td>\n",
              "    </tr>\n",
              "    <tr>\n",
              "      <th>4</th>\n",
              "      <td>POSITIVE</td>\n",
              "      <td>0.0</td>\n",
              "      <td>0.0</td>\n",
              "      <td>0.0</td>\n",
              "      <td>0.0</td>\n",
              "      <td>0.0</td>\n",
              "      <td>0.0</td>\n",
              "      <td>0.0</td>\n",
              "      <td>0.0</td>\n",
              "      <td>0.0</td>\n",
              "      <td>...</td>\n",
              "      <td>0.0</td>\n",
              "      <td>0.0</td>\n",
              "      <td>0.0</td>\n",
              "      <td>0.0</td>\n",
              "      <td>0.0</td>\n",
              "      <td>0.0</td>\n",
              "      <td>0.0</td>\n",
              "      <td>0.0</td>\n",
              "      <td>0.0</td>\n",
              "      <td>0.0</td>\n",
              "    </tr>\n",
              "    <tr>\n",
              "      <th>...</th>\n",
              "      <td>...</td>\n",
              "      <td>...</td>\n",
              "      <td>...</td>\n",
              "      <td>...</td>\n",
              "      <td>...</td>\n",
              "      <td>...</td>\n",
              "      <td>...</td>\n",
              "      <td>...</td>\n",
              "      <td>...</td>\n",
              "      <td>...</td>\n",
              "      <td>...</td>\n",
              "      <td>...</td>\n",
              "      <td>...</td>\n",
              "      <td>...</td>\n",
              "      <td>...</td>\n",
              "      <td>...</td>\n",
              "      <td>...</td>\n",
              "      <td>...</td>\n",
              "      <td>...</td>\n",
              "      <td>...</td>\n",
              "      <td>...</td>\n",
              "    </tr>\n",
              "    <tr>\n",
              "      <th>9482</th>\n",
              "      <td>POSITIVE</td>\n",
              "      <td>0.0</td>\n",
              "      <td>0.0</td>\n",
              "      <td>0.0</td>\n",
              "      <td>0.0</td>\n",
              "      <td>0.0</td>\n",
              "      <td>0.0</td>\n",
              "      <td>0.0</td>\n",
              "      <td>0.0</td>\n",
              "      <td>0.0</td>\n",
              "      <td>...</td>\n",
              "      <td>0.0</td>\n",
              "      <td>0.0</td>\n",
              "      <td>0.0</td>\n",
              "      <td>0.0</td>\n",
              "      <td>0.0</td>\n",
              "      <td>0.0</td>\n",
              "      <td>0.0</td>\n",
              "      <td>0.0</td>\n",
              "      <td>0.0</td>\n",
              "      <td>0.0</td>\n",
              "    </tr>\n",
              "    <tr>\n",
              "      <th>9483</th>\n",
              "      <td>POSITIVE</td>\n",
              "      <td>1.0</td>\n",
              "      <td>2.0</td>\n",
              "      <td>0.0</td>\n",
              "      <td>1.0</td>\n",
              "      <td>0.0</td>\n",
              "      <td>0.0</td>\n",
              "      <td>1.0</td>\n",
              "      <td>0.0</td>\n",
              "      <td>0.0</td>\n",
              "      <td>...</td>\n",
              "      <td>0.0</td>\n",
              "      <td>0.0</td>\n",
              "      <td>0.0</td>\n",
              "      <td>0.0</td>\n",
              "      <td>0.0</td>\n",
              "      <td>0.0</td>\n",
              "      <td>0.0</td>\n",
              "      <td>0.0</td>\n",
              "      <td>0.0</td>\n",
              "      <td>0.0</td>\n",
              "    </tr>\n",
              "    <tr>\n",
              "      <th>9484</th>\n",
              "      <td>NEUTRAL</td>\n",
              "      <td>2.0</td>\n",
              "      <td>5.0</td>\n",
              "      <td>1.0</td>\n",
              "      <td>0.0</td>\n",
              "      <td>0.0</td>\n",
              "      <td>0.0</td>\n",
              "      <td>0.0</td>\n",
              "      <td>2.0</td>\n",
              "      <td>0.0</td>\n",
              "      <td>...</td>\n",
              "      <td>0.0</td>\n",
              "      <td>0.0</td>\n",
              "      <td>0.0</td>\n",
              "      <td>0.0</td>\n",
              "      <td>0.0</td>\n",
              "      <td>0.0</td>\n",
              "      <td>0.0</td>\n",
              "      <td>0.0</td>\n",
              "      <td>0.0</td>\n",
              "      <td>0.0</td>\n",
              "    </tr>\n",
              "    <tr>\n",
              "      <th>9485</th>\n",
              "      <td>NEUTRAL</td>\n",
              "      <td>1.0</td>\n",
              "      <td>1.0</td>\n",
              "      <td>0.0</td>\n",
              "      <td>1.0</td>\n",
              "      <td>0.0</td>\n",
              "      <td>1.0</td>\n",
              "      <td>0.0</td>\n",
              "      <td>1.0</td>\n",
              "      <td>0.0</td>\n",
              "      <td>...</td>\n",
              "      <td>1.0</td>\n",
              "      <td>1.0</td>\n",
              "      <td>1.0</td>\n",
              "      <td>1.0</td>\n",
              "      <td>1.0</td>\n",
              "      <td>1.0</td>\n",
              "      <td>1.0</td>\n",
              "      <td>1.0</td>\n",
              "      <td>1.0</td>\n",
              "      <td>1.0</td>\n",
              "    </tr>\n",
              "    <tr>\n",
              "      <th>9486</th>\n",
              "      <td>NEGATIVE</td>\n",
              "      <td>0.0</td>\n",
              "      <td>1.0</td>\n",
              "      <td>0.0</td>\n",
              "      <td>0.0</td>\n",
              "      <td>0.0</td>\n",
              "      <td>3.0</td>\n",
              "      <td>0.0</td>\n",
              "      <td>0.0</td>\n",
              "      <td>0.0</td>\n",
              "      <td>...</td>\n",
              "      <td>0.0</td>\n",
              "      <td>0.0</td>\n",
              "      <td>0.0</td>\n",
              "      <td>0.0</td>\n",
              "      <td>0.0</td>\n",
              "      <td>0.0</td>\n",
              "      <td>0.0</td>\n",
              "      <td>0.0</td>\n",
              "      <td>0.0</td>\n",
              "      <td>0.0</td>\n",
              "    </tr>\n",
              "  </tbody>\n",
              "</table>\n",
              "<p>9487 rows × 21298 columns</p>\n",
              "</div>\n",
              "      <button class=\"colab-df-convert\" onclick=\"convertToInteractive('df-c6d80e84-9a29-4088-97bf-40cafcd77f3e')\"\n",
              "              title=\"Convert this dataframe to an interactive table.\"\n",
              "              style=\"display:none;\">\n",
              "        \n",
              "  <svg xmlns=\"http://www.w3.org/2000/svg\" height=\"24px\"viewBox=\"0 0 24 24\"\n",
              "       width=\"24px\">\n",
              "    <path d=\"M0 0h24v24H0V0z\" fill=\"none\"/>\n",
              "    <path d=\"M18.56 5.44l.94 2.06.94-2.06 2.06-.94-2.06-.94-.94-2.06-.94 2.06-2.06.94zm-11 1L8.5 8.5l.94-2.06 2.06-.94-2.06-.94L8.5 2.5l-.94 2.06-2.06.94zm10 10l.94 2.06.94-2.06 2.06-.94-2.06-.94-.94-2.06-.94 2.06-2.06.94z\"/><path d=\"M17.41 7.96l-1.37-1.37c-.4-.4-.92-.59-1.43-.59-.52 0-1.04.2-1.43.59L10.3 9.45l-7.72 7.72c-.78.78-.78 2.05 0 2.83L4 21.41c.39.39.9.59 1.41.59.51 0 1.02-.2 1.41-.59l7.78-7.78 2.81-2.81c.8-.78.8-2.07 0-2.86zM5.41 20L4 18.59l7.72-7.72 1.47 1.35L5.41 20z\"/>\n",
              "  </svg>\n",
              "      </button>\n",
              "      \n",
              "  <style>\n",
              "    .colab-df-container {\n",
              "      display:flex;\n",
              "      flex-wrap:wrap;\n",
              "      gap: 12px;\n",
              "    }\n",
              "\n",
              "    .colab-df-convert {\n",
              "      background-color: #E8F0FE;\n",
              "      border: none;\n",
              "      border-radius: 50%;\n",
              "      cursor: pointer;\n",
              "      display: none;\n",
              "      fill: #1967D2;\n",
              "      height: 32px;\n",
              "      padding: 0 0 0 0;\n",
              "      width: 32px;\n",
              "    }\n",
              "\n",
              "    .colab-df-convert:hover {\n",
              "      background-color: #E2EBFA;\n",
              "      box-shadow: 0px 1px 2px rgba(60, 64, 67, 0.3), 0px 1px 3px 1px rgba(60, 64, 67, 0.15);\n",
              "      fill: #174EA6;\n",
              "    }\n",
              "\n",
              "    [theme=dark] .colab-df-convert {\n",
              "      background-color: #3B4455;\n",
              "      fill: #D2E3FC;\n",
              "    }\n",
              "\n",
              "    [theme=dark] .colab-df-convert:hover {\n",
              "      background-color: #434B5C;\n",
              "      box-shadow: 0px 1px 3px 1px rgba(0, 0, 0, 0.15);\n",
              "      filter: drop-shadow(0px 1px 2px rgba(0, 0, 0, 0.3));\n",
              "      fill: #FFFFFF;\n",
              "    }\n",
              "  </style>\n",
              "\n",
              "      <script>\n",
              "        const buttonEl =\n",
              "          document.querySelector('#df-c6d80e84-9a29-4088-97bf-40cafcd77f3e button.colab-df-convert');\n",
              "        buttonEl.style.display =\n",
              "          google.colab.kernel.accessAllowed ? 'block' : 'none';\n",
              "\n",
              "        async function convertToInteractive(key) {\n",
              "          const element = document.querySelector('#df-c6d80e84-9a29-4088-97bf-40cafcd77f3e');\n",
              "          const dataTable =\n",
              "            await google.colab.kernel.invokeFunction('convertToInteractive',\n",
              "                                                     [key], {});\n",
              "          if (!dataTable) return;\n",
              "\n",
              "          const docLinkHtml = 'Like what you see? Visit the ' +\n",
              "            '<a target=\"_blank\" href=https://colab.research.google.com/notebooks/data_table.ipynb>data table notebook</a>'\n",
              "            + ' to learn more about interactive tables.';\n",
              "          element.innerHTML = '';\n",
              "          dataTable['output_type'] = 'display_data';\n",
              "          await google.colab.output.renderOutput(dataTable, element);\n",
              "          const docLink = document.createElement('div');\n",
              "          docLink.innerHTML = docLinkHtml;\n",
              "          element.appendChild(docLink);\n",
              "        }\n",
              "      </script>\n",
              "    </div>\n",
              "  </div>\n",
              "  "
            ]
          },
          "metadata": {},
          "execution_count": 43
        }
      ]
    },
    {
      "cell_type": "markdown",
      "source": [
        "##### 6.1.1.3 Criação da função "
      ],
      "metadata": {
        "id": "dZ-PrQQNVWdK"
      }
    },
    {
      "cell_type": "code",
      "source": [
        "def train_naive_bayes_model(dataframe):\n",
        "    # Passo 3: Divisão dos dados em features (X) e rótulos (y)\n",
        "    X = dataframe.drop('targetSentimento', axis=1)  # Considerando que 'rótulos' é a coluna com os rótulos de classificação\n",
        "    y = dataframe['targetSentimento']\n",
        "\n",
        "    # Passo 4: Divisão dos dados em conjuntos de treinamento e teste\n",
        "    X_train, X_test, y_train, y_test = train_test_split(X, y, test_size=0.2, random_state=42)\n",
        "\n",
        "    # Passo 5: Criação e treinamento do modelo Naive Bayes\n",
        "    model = MultinomialNB()\n",
        "    model.fit(X_train, y_train)\n",
        "\n",
        "    # Passo 6: Fazer previsões nos dados de teste\n",
        "    y_pred = model.predict(X_test)\n",
        "\n",
        "    # Passo 7: Avaliar o modelo\n",
        "    accuracy = accuracy_score(y_test, y_pred)\n",
        "    print(f\"Acurácia do modelo: {accuracy}\")"
      ],
      "metadata": {
        "id": "SYwRWo_2UylF"
      },
      "execution_count": null,
      "outputs": []
    },
    {
      "cell_type": "markdown",
      "source": [
        "##### 6.1.1.4 Teste da função\n"
      ],
      "metadata": {
        "id": "NsVcTi1jVaTj"
      }
    },
    {
      "cell_type": "code",
      "source": [
        "train_naive_bayes_model(df_unido)"
      ],
      "metadata": {
        "colab": {
          "base_uri": "https://localhost:8080/"
        },
        "id": "0QGOKJiZU0YJ",
        "outputId": "a1857fa8-f197-4357-9a22-1bbc49b9f87b"
      },
      "execution_count": null,
      "outputs": [
        {
          "output_type": "stream",
          "name": "stdout",
          "text": [
            "Acurácia do modelo: 0.7118018967334035\n"
          ]
        }
      ]
    },
    {
      "cell_type": "markdown",
      "metadata": {
        "id": "BMFbcHrCk7f8"
      },
      "source": [
        "### 6.2 Naive Bayes com Word2Vec"
      ]
    },
    {
      "cell_type": "markdown",
      "source": [
        "##### Izabella"
      ],
      "metadata": {
        "id": "8tTLDTZ2Yshh"
      }
    },
    {
      "cell_type": "code",
      "source": [
        "import pandas as pd\n",
        "from sklearn.model_selection import train_test_split\n",
        "from sklearn.naive_bayes import MultinomialNB\n",
        "from sklearn.metrics import accuracy_score\n",
        "from imblearn.over_sampling import SMOTE"
      ],
      "metadata": {
        "id": "dAzXW9MNV-Fb"
      },
      "execution_count": null,
      "outputs": []
    },
    {
      "cell_type": "code",
      "source": [
        "# Exemplo de uso da função\n",
        "df_rotulos = df['targetSentimento'].copy()\n",
        "df_word_2_vec = dfWord2Vec"
      ],
      "metadata": {
        "id": "lgxrPYT4WCrD"
      },
      "execution_count": null,
      "outputs": []
    },
    {
      "cell_type": "code",
      "source": [
        "# Redefinir os índices dos DataFrames\n",
        "df_rotulos = df_rotulos.reset_index(drop=True)\n",
        "df_word_2_vec = df_word_2_vec.reset_index(drop=True)\n",
        "# Juntar os DataFrames ao longo do eixo das colunas\n",
        "df_unido_word = pd.concat([df_rotulos, df_word_2_vec], axis=1)\n",
        "df_unido_word"
      ],
      "metadata": {
        "colab": {
          "base_uri": "https://localhost:8080/",
          "height": 487
        },
        "id": "wrhFGVTKWDQa",
        "outputId": "861f474b-1d7f-4fa7-e35f-9a31d2e201c6"
      },
      "execution_count": null,
      "outputs": [
        {
          "output_type": "execute_result",
          "data": {
            "text/plain": [
              "     targetSentimento         0         1         2         3         4  \\\n",
              "0             NEUTRAL  1.383377 -2.654717 -1.405555 -3.668075  0.229193   \n",
              "1             NEUTRAL  1.283763 -3.410798 -2.465253 -3.282195  0.012297   \n",
              "2            POSITIVE  0.047435 -0.007625  0.173723 -0.445078 -0.058977   \n",
              "3             NEUTRAL       NaN       NaN       NaN       NaN       NaN   \n",
              "4            POSITIVE  0.106028  0.121924  0.139373 -0.918912  0.004461   \n",
              "...               ...       ...       ...       ...       ...       ...   \n",
              "9482         POSITIVE  0.106028  0.121924  0.139373 -0.918912  0.004461   \n",
              "9483         POSITIVE  1.815789 -2.876974 -1.558797 -3.573577  1.132767   \n",
              "9484          NEUTRAL  0.836931 -4.082651 -2.630611 -4.756009 -0.629420   \n",
              "9485          NEUTRAL  0.068602 -8.919511 -2.793904 -7.389237 -0.428109   \n",
              "9486         NEGATIVE  0.948231 -0.942366 -0.010881 -2.126990  0.949057   \n",
              "\n",
              "             5         6         7         8  ...        40        41  \\\n",
              "0     0.304061 -1.807550 -0.759527 -4.674443  ...  0.220864 -3.715628   \n",
              "1    -0.849639 -1.143002 -0.586896 -4.501272  ...  0.604381 -5.294922   \n",
              "2    -0.182599 -0.079506 -0.220796 -0.265243  ... -0.012755 -0.238091   \n",
              "3          NaN       NaN       NaN       NaN  ...       NaN       NaN   \n",
              "4    -0.216214 -0.204989 -0.420545 -0.648111  ... -0.179132 -0.510152   \n",
              "...        ...       ...       ...       ...  ...       ...       ...   \n",
              "9482 -0.216214 -0.204989 -0.420545 -0.648111  ... -0.179132 -0.510152   \n",
              "9483 -0.111063 -1.510444 -0.775099 -4.272242  ...  0.356593 -4.013429   \n",
              "9484 -0.144831 -1.697202 -0.302105 -5.067372  ... -0.118279 -6.384274   \n",
              "9485 -0.655916 -1.413017  0.700860 -5.643440  ... -0.731742 -7.833986   \n",
              "9486 -0.365847 -0.170032 -1.474218 -2.592782  ...  0.838269 -2.599074   \n",
              "\n",
              "            42        43        44        45        46        47        48  \\\n",
              "0    -0.508049 -1.681060  0.322339  3.070996 -1.145615 -0.220174 -1.008628   \n",
              "1    -0.893327 -0.872390  1.264841  2.869610 -0.396956 -0.465566 -2.063515   \n",
              "2     0.309302 -0.140818 -0.078406 -0.180135  0.013944 -0.043409  0.288535   \n",
              "3          NaN       NaN       NaN       NaN       NaN       NaN       NaN   \n",
              "4     0.635353 -0.319989 -0.392927  0.184347 -0.225403  0.008890  0.201078   \n",
              "...        ...       ...       ...       ...       ...       ...       ...   \n",
              "9482  0.635353 -0.319989 -0.392927  0.184347 -0.225403  0.008890  0.201078   \n",
              "9483 -0.626634 -1.653492  0.486769  2.573709  0.071672 -0.287472 -0.189655   \n",
              "9484 -0.833756  0.019192  1.295962  3.993481  0.281847  0.516516 -3.820503   \n",
              "9485 -0.155092 -0.787291  3.670361  7.178771 -0.241885 -0.687680 -7.578391   \n",
              "9486  0.021309 -0.552362  0.259679  0.921726 -0.890135  1.305274  0.611135   \n",
              "\n",
              "            49  \n",
              "0     4.302267  \n",
              "1     4.795250  \n",
              "2     0.232324  \n",
              "3          NaN  \n",
              "4     0.354131  \n",
              "...        ...  \n",
              "9482  0.354131  \n",
              "9483  3.710586  \n",
              "9484  6.278456  \n",
              "9485  5.693573  \n",
              "9486  1.765292  \n",
              "\n",
              "[9487 rows x 51 columns]"
            ],
            "text/html": [
              "\n",
              "  <div id=\"df-6e2e7944-de2a-423a-9e49-05477664b0c9\">\n",
              "    <div class=\"colab-df-container\">\n",
              "      <div>\n",
              "<style scoped>\n",
              "    .dataframe tbody tr th:only-of-type {\n",
              "        vertical-align: middle;\n",
              "    }\n",
              "\n",
              "    .dataframe tbody tr th {\n",
              "        vertical-align: top;\n",
              "    }\n",
              "\n",
              "    .dataframe thead th {\n",
              "        text-align: right;\n",
              "    }\n",
              "</style>\n",
              "<table border=\"1\" class=\"dataframe\">\n",
              "  <thead>\n",
              "    <tr style=\"text-align: right;\">\n",
              "      <th></th>\n",
              "      <th>targetSentimento</th>\n",
              "      <th>0</th>\n",
              "      <th>1</th>\n",
              "      <th>2</th>\n",
              "      <th>3</th>\n",
              "      <th>4</th>\n",
              "      <th>5</th>\n",
              "      <th>6</th>\n",
              "      <th>7</th>\n",
              "      <th>8</th>\n",
              "      <th>...</th>\n",
              "      <th>40</th>\n",
              "      <th>41</th>\n",
              "      <th>42</th>\n",
              "      <th>43</th>\n",
              "      <th>44</th>\n",
              "      <th>45</th>\n",
              "      <th>46</th>\n",
              "      <th>47</th>\n",
              "      <th>48</th>\n",
              "      <th>49</th>\n",
              "    </tr>\n",
              "  </thead>\n",
              "  <tbody>\n",
              "    <tr>\n",
              "      <th>0</th>\n",
              "      <td>NEUTRAL</td>\n",
              "      <td>1.383377</td>\n",
              "      <td>-2.654717</td>\n",
              "      <td>-1.405555</td>\n",
              "      <td>-3.668075</td>\n",
              "      <td>0.229193</td>\n",
              "      <td>0.304061</td>\n",
              "      <td>-1.807550</td>\n",
              "      <td>-0.759527</td>\n",
              "      <td>-4.674443</td>\n",
              "      <td>...</td>\n",
              "      <td>0.220864</td>\n",
              "      <td>-3.715628</td>\n",
              "      <td>-0.508049</td>\n",
              "      <td>-1.681060</td>\n",
              "      <td>0.322339</td>\n",
              "      <td>3.070996</td>\n",
              "      <td>-1.145615</td>\n",
              "      <td>-0.220174</td>\n",
              "      <td>-1.008628</td>\n",
              "      <td>4.302267</td>\n",
              "    </tr>\n",
              "    <tr>\n",
              "      <th>1</th>\n",
              "      <td>NEUTRAL</td>\n",
              "      <td>1.283763</td>\n",
              "      <td>-3.410798</td>\n",
              "      <td>-2.465253</td>\n",
              "      <td>-3.282195</td>\n",
              "      <td>0.012297</td>\n",
              "      <td>-0.849639</td>\n",
              "      <td>-1.143002</td>\n",
              "      <td>-0.586896</td>\n",
              "      <td>-4.501272</td>\n",
              "      <td>...</td>\n",
              "      <td>0.604381</td>\n",
              "      <td>-5.294922</td>\n",
              "      <td>-0.893327</td>\n",
              "      <td>-0.872390</td>\n",
              "      <td>1.264841</td>\n",
              "      <td>2.869610</td>\n",
              "      <td>-0.396956</td>\n",
              "      <td>-0.465566</td>\n",
              "      <td>-2.063515</td>\n",
              "      <td>4.795250</td>\n",
              "    </tr>\n",
              "    <tr>\n",
              "      <th>2</th>\n",
              "      <td>POSITIVE</td>\n",
              "      <td>0.047435</td>\n",
              "      <td>-0.007625</td>\n",
              "      <td>0.173723</td>\n",
              "      <td>-0.445078</td>\n",
              "      <td>-0.058977</td>\n",
              "      <td>-0.182599</td>\n",
              "      <td>-0.079506</td>\n",
              "      <td>-0.220796</td>\n",
              "      <td>-0.265243</td>\n",
              "      <td>...</td>\n",
              "      <td>-0.012755</td>\n",
              "      <td>-0.238091</td>\n",
              "      <td>0.309302</td>\n",
              "      <td>-0.140818</td>\n",
              "      <td>-0.078406</td>\n",
              "      <td>-0.180135</td>\n",
              "      <td>0.013944</td>\n",
              "      <td>-0.043409</td>\n",
              "      <td>0.288535</td>\n",
              "      <td>0.232324</td>\n",
              "    </tr>\n",
              "    <tr>\n",
              "      <th>3</th>\n",
              "      <td>NEUTRAL</td>\n",
              "      <td>NaN</td>\n",
              "      <td>NaN</td>\n",
              "      <td>NaN</td>\n",
              "      <td>NaN</td>\n",
              "      <td>NaN</td>\n",
              "      <td>NaN</td>\n",
              "      <td>NaN</td>\n",
              "      <td>NaN</td>\n",
              "      <td>NaN</td>\n",
              "      <td>...</td>\n",
              "      <td>NaN</td>\n",
              "      <td>NaN</td>\n",
              "      <td>NaN</td>\n",
              "      <td>NaN</td>\n",
              "      <td>NaN</td>\n",
              "      <td>NaN</td>\n",
              "      <td>NaN</td>\n",
              "      <td>NaN</td>\n",
              "      <td>NaN</td>\n",
              "      <td>NaN</td>\n",
              "    </tr>\n",
              "    <tr>\n",
              "      <th>4</th>\n",
              "      <td>POSITIVE</td>\n",
              "      <td>0.106028</td>\n",
              "      <td>0.121924</td>\n",
              "      <td>0.139373</td>\n",
              "      <td>-0.918912</td>\n",
              "      <td>0.004461</td>\n",
              "      <td>-0.216214</td>\n",
              "      <td>-0.204989</td>\n",
              "      <td>-0.420545</td>\n",
              "      <td>-0.648111</td>\n",
              "      <td>...</td>\n",
              "      <td>-0.179132</td>\n",
              "      <td>-0.510152</td>\n",
              "      <td>0.635353</td>\n",
              "      <td>-0.319989</td>\n",
              "      <td>-0.392927</td>\n",
              "      <td>0.184347</td>\n",
              "      <td>-0.225403</td>\n",
              "      <td>0.008890</td>\n",
              "      <td>0.201078</td>\n",
              "      <td>0.354131</td>\n",
              "    </tr>\n",
              "    <tr>\n",
              "      <th>...</th>\n",
              "      <td>...</td>\n",
              "      <td>...</td>\n",
              "      <td>...</td>\n",
              "      <td>...</td>\n",
              "      <td>...</td>\n",
              "      <td>...</td>\n",
              "      <td>...</td>\n",
              "      <td>...</td>\n",
              "      <td>...</td>\n",
              "      <td>...</td>\n",
              "      <td>...</td>\n",
              "      <td>...</td>\n",
              "      <td>...</td>\n",
              "      <td>...</td>\n",
              "      <td>...</td>\n",
              "      <td>...</td>\n",
              "      <td>...</td>\n",
              "      <td>...</td>\n",
              "      <td>...</td>\n",
              "      <td>...</td>\n",
              "      <td>...</td>\n",
              "    </tr>\n",
              "    <tr>\n",
              "      <th>9482</th>\n",
              "      <td>POSITIVE</td>\n",
              "      <td>0.106028</td>\n",
              "      <td>0.121924</td>\n",
              "      <td>0.139373</td>\n",
              "      <td>-0.918912</td>\n",
              "      <td>0.004461</td>\n",
              "      <td>-0.216214</td>\n",
              "      <td>-0.204989</td>\n",
              "      <td>-0.420545</td>\n",
              "      <td>-0.648111</td>\n",
              "      <td>...</td>\n",
              "      <td>-0.179132</td>\n",
              "      <td>-0.510152</td>\n",
              "      <td>0.635353</td>\n",
              "      <td>-0.319989</td>\n",
              "      <td>-0.392927</td>\n",
              "      <td>0.184347</td>\n",
              "      <td>-0.225403</td>\n",
              "      <td>0.008890</td>\n",
              "      <td>0.201078</td>\n",
              "      <td>0.354131</td>\n",
              "    </tr>\n",
              "    <tr>\n",
              "      <th>9483</th>\n",
              "      <td>POSITIVE</td>\n",
              "      <td>1.815789</td>\n",
              "      <td>-2.876974</td>\n",
              "      <td>-1.558797</td>\n",
              "      <td>-3.573577</td>\n",
              "      <td>1.132767</td>\n",
              "      <td>-0.111063</td>\n",
              "      <td>-1.510444</td>\n",
              "      <td>-0.775099</td>\n",
              "      <td>-4.272242</td>\n",
              "      <td>...</td>\n",
              "      <td>0.356593</td>\n",
              "      <td>-4.013429</td>\n",
              "      <td>-0.626634</td>\n",
              "      <td>-1.653492</td>\n",
              "      <td>0.486769</td>\n",
              "      <td>2.573709</td>\n",
              "      <td>0.071672</td>\n",
              "      <td>-0.287472</td>\n",
              "      <td>-0.189655</td>\n",
              "      <td>3.710586</td>\n",
              "    </tr>\n",
              "    <tr>\n",
              "      <th>9484</th>\n",
              "      <td>NEUTRAL</td>\n",
              "      <td>0.836931</td>\n",
              "      <td>-4.082651</td>\n",
              "      <td>-2.630611</td>\n",
              "      <td>-4.756009</td>\n",
              "      <td>-0.629420</td>\n",
              "      <td>-0.144831</td>\n",
              "      <td>-1.697202</td>\n",
              "      <td>-0.302105</td>\n",
              "      <td>-5.067372</td>\n",
              "      <td>...</td>\n",
              "      <td>-0.118279</td>\n",
              "      <td>-6.384274</td>\n",
              "      <td>-0.833756</td>\n",
              "      <td>0.019192</td>\n",
              "      <td>1.295962</td>\n",
              "      <td>3.993481</td>\n",
              "      <td>0.281847</td>\n",
              "      <td>0.516516</td>\n",
              "      <td>-3.820503</td>\n",
              "      <td>6.278456</td>\n",
              "    </tr>\n",
              "    <tr>\n",
              "      <th>9485</th>\n",
              "      <td>NEUTRAL</td>\n",
              "      <td>0.068602</td>\n",
              "      <td>-8.919511</td>\n",
              "      <td>-2.793904</td>\n",
              "      <td>-7.389237</td>\n",
              "      <td>-0.428109</td>\n",
              "      <td>-0.655916</td>\n",
              "      <td>-1.413017</td>\n",
              "      <td>0.700860</td>\n",
              "      <td>-5.643440</td>\n",
              "      <td>...</td>\n",
              "      <td>-0.731742</td>\n",
              "      <td>-7.833986</td>\n",
              "      <td>-0.155092</td>\n",
              "      <td>-0.787291</td>\n",
              "      <td>3.670361</td>\n",
              "      <td>7.178771</td>\n",
              "      <td>-0.241885</td>\n",
              "      <td>-0.687680</td>\n",
              "      <td>-7.578391</td>\n",
              "      <td>5.693573</td>\n",
              "    </tr>\n",
              "    <tr>\n",
              "      <th>9486</th>\n",
              "      <td>NEGATIVE</td>\n",
              "      <td>0.948231</td>\n",
              "      <td>-0.942366</td>\n",
              "      <td>-0.010881</td>\n",
              "      <td>-2.126990</td>\n",
              "      <td>0.949057</td>\n",
              "      <td>-0.365847</td>\n",
              "      <td>-0.170032</td>\n",
              "      <td>-1.474218</td>\n",
              "      <td>-2.592782</td>\n",
              "      <td>...</td>\n",
              "      <td>0.838269</td>\n",
              "      <td>-2.599074</td>\n",
              "      <td>0.021309</td>\n",
              "      <td>-0.552362</td>\n",
              "      <td>0.259679</td>\n",
              "      <td>0.921726</td>\n",
              "      <td>-0.890135</td>\n",
              "      <td>1.305274</td>\n",
              "      <td>0.611135</td>\n",
              "      <td>1.765292</td>\n",
              "    </tr>\n",
              "  </tbody>\n",
              "</table>\n",
              "<p>9487 rows × 51 columns</p>\n",
              "</div>\n",
              "      <button class=\"colab-df-convert\" onclick=\"convertToInteractive('df-6e2e7944-de2a-423a-9e49-05477664b0c9')\"\n",
              "              title=\"Convert this dataframe to an interactive table.\"\n",
              "              style=\"display:none;\">\n",
              "        \n",
              "  <svg xmlns=\"http://www.w3.org/2000/svg\" height=\"24px\"viewBox=\"0 0 24 24\"\n",
              "       width=\"24px\">\n",
              "    <path d=\"M0 0h24v24H0V0z\" fill=\"none\"/>\n",
              "    <path d=\"M18.56 5.44l.94 2.06.94-2.06 2.06-.94-2.06-.94-.94-2.06-.94 2.06-2.06.94zm-11 1L8.5 8.5l.94-2.06 2.06-.94-2.06-.94L8.5 2.5l-.94 2.06-2.06.94zm10 10l.94 2.06.94-2.06 2.06-.94-2.06-.94-.94-2.06-.94 2.06-2.06.94z\"/><path d=\"M17.41 7.96l-1.37-1.37c-.4-.4-.92-.59-1.43-.59-.52 0-1.04.2-1.43.59L10.3 9.45l-7.72 7.72c-.78.78-.78 2.05 0 2.83L4 21.41c.39.39.9.59 1.41.59.51 0 1.02-.2 1.41-.59l7.78-7.78 2.81-2.81c.8-.78.8-2.07 0-2.86zM5.41 20L4 18.59l7.72-7.72 1.47 1.35L5.41 20z\"/>\n",
              "  </svg>\n",
              "      </button>\n",
              "      \n",
              "  <style>\n",
              "    .colab-df-container {\n",
              "      display:flex;\n",
              "      flex-wrap:wrap;\n",
              "      gap: 12px;\n",
              "    }\n",
              "\n",
              "    .colab-df-convert {\n",
              "      background-color: #E8F0FE;\n",
              "      border: none;\n",
              "      border-radius: 50%;\n",
              "      cursor: pointer;\n",
              "      display: none;\n",
              "      fill: #1967D2;\n",
              "      height: 32px;\n",
              "      padding: 0 0 0 0;\n",
              "      width: 32px;\n",
              "    }\n",
              "\n",
              "    .colab-df-convert:hover {\n",
              "      background-color: #E2EBFA;\n",
              "      box-shadow: 0px 1px 2px rgba(60, 64, 67, 0.3), 0px 1px 3px 1px rgba(60, 64, 67, 0.15);\n",
              "      fill: #174EA6;\n",
              "    }\n",
              "\n",
              "    [theme=dark] .colab-df-convert {\n",
              "      background-color: #3B4455;\n",
              "      fill: #D2E3FC;\n",
              "    }\n",
              "\n",
              "    [theme=dark] .colab-df-convert:hover {\n",
              "      background-color: #434B5C;\n",
              "      box-shadow: 0px 1px 3px 1px rgba(0, 0, 0, 0.15);\n",
              "      filter: drop-shadow(0px 1px 2px rgba(0, 0, 0, 0.3));\n",
              "      fill: #FFFFFF;\n",
              "    }\n",
              "  </style>\n",
              "\n",
              "      <script>\n",
              "        const buttonEl =\n",
              "          document.querySelector('#df-6e2e7944-de2a-423a-9e49-05477664b0c9 button.colab-df-convert');\n",
              "        buttonEl.style.display =\n",
              "          google.colab.kernel.accessAllowed ? 'block' : 'none';\n",
              "\n",
              "        async function convertToInteractive(key) {\n",
              "          const element = document.querySelector('#df-6e2e7944-de2a-423a-9e49-05477664b0c9');\n",
              "          const dataTable =\n",
              "            await google.colab.kernel.invokeFunction('convertToInteractive',\n",
              "                                                     [key], {});\n",
              "          if (!dataTable) return;\n",
              "\n",
              "          const docLinkHtml = 'Like what you see? Visit the ' +\n",
              "            '<a target=\"_blank\" href=https://colab.research.google.com/notebooks/data_table.ipynb>data table notebook</a>'\n",
              "            + ' to learn more about interactive tables.';\n",
              "          element.innerHTML = '';\n",
              "          dataTable['output_type'] = 'display_data';\n",
              "          await google.colab.output.renderOutput(dataTable, element);\n",
              "          const docLink = document.createElement('div');\n",
              "          docLink.innerHTML = docLinkHtml;\n",
              "          element.appendChild(docLink);\n",
              "        }\n",
              "      </script>\n",
              "    </div>\n",
              "  </div>\n",
              "  "
            ]
          },
          "metadata": {},
          "execution_count": 51
        }
      ]
    },
    {
      "cell_type": "code",
      "source": [
        "def train_naive_bayes_model_word(dataframe):\n",
        "    # Passo 3: Divisão dos dados em features (X) e rótulos (y)\n",
        "    X = dataframe.drop('targetSentimento', axis=1)  # Considerando que 'rótulos' é a coluna com os rótulos de classificação\n",
        "    y = dataframe['targetSentimento']\n",
        "\n",
        "    # Passo 4: Divisão dos dados em conjuntos de treinamento e teste\n",
        "    X_train, X_test, y_train, y_test = train_test_split(X, y, test_size=0.2, random_state=42)\n",
        "\n",
        "    # Passo 5: Criação e treinamento do modelo Naive Bayes\n",
        "    model = GaussianNB()\n",
        "    model.fit(X_train, y_train)\n",
        "\n",
        "    # Passo 6: Fazer previsões nos dados de teste\n",
        "    y_pred = model.predict(X_test)\n",
        "\n",
        "    # Passo 7: Avaliar o modelo\n",
        "    accuracy = accuracy_score(y_test, y_pred)\n",
        "    print(f\"Acurácia do modelo: {accuracy}\")"
      ],
      "metadata": {
        "id": "COkXNWVRXHZ2"
      },
      "execution_count": null,
      "outputs": []
    },
    {
      "cell_type": "code",
      "source": [
        "# Remover amostras com valores ausentes\n",
        "df_unido_word.dropna(inplace=True)\n",
        "df_unido_word"
      ],
      "metadata": {
        "colab": {
          "base_uri": "https://localhost:8080/",
          "height": 487
        },
        "id": "hS1XcJm5Xj-g",
        "outputId": "4a4934b6-fbe8-45a8-8fc7-439670af2cd7"
      },
      "execution_count": null,
      "outputs": [
        {
          "output_type": "execute_result",
          "data": {
            "text/plain": [
              "     targetSentimento         0         1         2         3         4  \\\n",
              "0             NEUTRAL  1.383377 -2.654717 -1.405555 -3.668075  0.229193   \n",
              "1             NEUTRAL  1.283763 -3.410798 -2.465253 -3.282195  0.012297   \n",
              "2            POSITIVE  0.047435 -0.007625  0.173723 -0.445078 -0.058977   \n",
              "4            POSITIVE  0.106028  0.121924  0.139373 -0.918912  0.004461   \n",
              "5            NEGATIVE -1.353890 -7.638894 -4.504153 -7.281510  3.319707   \n",
              "...               ...       ...       ...       ...       ...       ...   \n",
              "9482         POSITIVE  0.106028  0.121924  0.139373 -0.918912  0.004461   \n",
              "9483         POSITIVE  1.815789 -2.876974 -1.558797 -3.573577  1.132767   \n",
              "9484          NEUTRAL  0.836931 -4.082651 -2.630611 -4.756009 -0.629420   \n",
              "9485          NEUTRAL  0.068602 -8.919511 -2.793904 -7.389237 -0.428109   \n",
              "9486         NEGATIVE  0.948231 -0.942366 -0.010881 -2.126990  0.949057   \n",
              "\n",
              "             5         6         7         8  ...        40        41  \\\n",
              "0     0.304061 -1.807550 -0.759527 -4.674443  ...  0.220864 -3.715628   \n",
              "1    -0.849639 -1.143002 -0.586896 -4.501272  ...  0.604381 -5.294922   \n",
              "2    -0.182599 -0.079506 -0.220796 -0.265243  ... -0.012755 -0.238091   \n",
              "4    -0.216214 -0.204989 -0.420545 -0.648111  ... -0.179132 -0.510152   \n",
              "5    -1.879490 -2.697392  2.624242 -5.669894  ... -0.758122 -5.385909   \n",
              "...        ...       ...       ...       ...  ...       ...       ...   \n",
              "9482 -0.216214 -0.204989 -0.420545 -0.648111  ... -0.179132 -0.510152   \n",
              "9483 -0.111063 -1.510444 -0.775099 -4.272242  ...  0.356593 -4.013429   \n",
              "9484 -0.144831 -1.697202 -0.302105 -5.067372  ... -0.118279 -6.384274   \n",
              "9485 -0.655916 -1.413017  0.700860 -5.643440  ... -0.731742 -7.833986   \n",
              "9486 -0.365847 -0.170032 -1.474218 -2.592782  ...  0.838269 -2.599074   \n",
              "\n",
              "            42        43        44        45        46        47         48  \\\n",
              "0    -0.508049 -1.681060  0.322339  3.070996 -1.145615 -0.220174  -1.008628   \n",
              "1    -0.893327 -0.872390  1.264841  2.869610 -0.396956 -0.465566  -2.063515   \n",
              "2     0.309302 -0.140818 -0.078406 -0.180135  0.013944 -0.043409   0.288535   \n",
              "4     0.635353 -0.319989 -0.392927  0.184347 -0.225403  0.008890   0.201078   \n",
              "5    -2.474345  0.160686  5.968213  7.675878 -1.774800 -1.326604 -10.794442   \n",
              "...        ...       ...       ...       ...       ...       ...        ...   \n",
              "9482  0.635353 -0.319989 -0.392927  0.184347 -0.225403  0.008890   0.201078   \n",
              "9483 -0.626634 -1.653492  0.486769  2.573709  0.071672 -0.287472  -0.189655   \n",
              "9484 -0.833756  0.019192  1.295962  3.993481  0.281847  0.516516  -3.820503   \n",
              "9485 -0.155092 -0.787291  3.670361  7.178771 -0.241885 -0.687680  -7.578391   \n",
              "9486  0.021309 -0.552362  0.259679  0.921726 -0.890135  1.305274   0.611135   \n",
              "\n",
              "            49  \n",
              "0     4.302267  \n",
              "1     4.795250  \n",
              "2     0.232324  \n",
              "4     0.354131  \n",
              "5     3.093618  \n",
              "...        ...  \n",
              "9482  0.354131  \n",
              "9483  3.710586  \n",
              "9484  6.278456  \n",
              "9485  5.693573  \n",
              "9486  1.765292  \n",
              "\n",
              "[8124 rows x 51 columns]"
            ],
            "text/html": [
              "\n",
              "  <div id=\"df-0c85c00e-b655-471e-879c-a4c68751ffd3\">\n",
              "    <div class=\"colab-df-container\">\n",
              "      <div>\n",
              "<style scoped>\n",
              "    .dataframe tbody tr th:only-of-type {\n",
              "        vertical-align: middle;\n",
              "    }\n",
              "\n",
              "    .dataframe tbody tr th {\n",
              "        vertical-align: top;\n",
              "    }\n",
              "\n",
              "    .dataframe thead th {\n",
              "        text-align: right;\n",
              "    }\n",
              "</style>\n",
              "<table border=\"1\" class=\"dataframe\">\n",
              "  <thead>\n",
              "    <tr style=\"text-align: right;\">\n",
              "      <th></th>\n",
              "      <th>targetSentimento</th>\n",
              "      <th>0</th>\n",
              "      <th>1</th>\n",
              "      <th>2</th>\n",
              "      <th>3</th>\n",
              "      <th>4</th>\n",
              "      <th>5</th>\n",
              "      <th>6</th>\n",
              "      <th>7</th>\n",
              "      <th>8</th>\n",
              "      <th>...</th>\n",
              "      <th>40</th>\n",
              "      <th>41</th>\n",
              "      <th>42</th>\n",
              "      <th>43</th>\n",
              "      <th>44</th>\n",
              "      <th>45</th>\n",
              "      <th>46</th>\n",
              "      <th>47</th>\n",
              "      <th>48</th>\n",
              "      <th>49</th>\n",
              "    </tr>\n",
              "  </thead>\n",
              "  <tbody>\n",
              "    <tr>\n",
              "      <th>0</th>\n",
              "      <td>NEUTRAL</td>\n",
              "      <td>1.383377</td>\n",
              "      <td>-2.654717</td>\n",
              "      <td>-1.405555</td>\n",
              "      <td>-3.668075</td>\n",
              "      <td>0.229193</td>\n",
              "      <td>0.304061</td>\n",
              "      <td>-1.807550</td>\n",
              "      <td>-0.759527</td>\n",
              "      <td>-4.674443</td>\n",
              "      <td>...</td>\n",
              "      <td>0.220864</td>\n",
              "      <td>-3.715628</td>\n",
              "      <td>-0.508049</td>\n",
              "      <td>-1.681060</td>\n",
              "      <td>0.322339</td>\n",
              "      <td>3.070996</td>\n",
              "      <td>-1.145615</td>\n",
              "      <td>-0.220174</td>\n",
              "      <td>-1.008628</td>\n",
              "      <td>4.302267</td>\n",
              "    </tr>\n",
              "    <tr>\n",
              "      <th>1</th>\n",
              "      <td>NEUTRAL</td>\n",
              "      <td>1.283763</td>\n",
              "      <td>-3.410798</td>\n",
              "      <td>-2.465253</td>\n",
              "      <td>-3.282195</td>\n",
              "      <td>0.012297</td>\n",
              "      <td>-0.849639</td>\n",
              "      <td>-1.143002</td>\n",
              "      <td>-0.586896</td>\n",
              "      <td>-4.501272</td>\n",
              "      <td>...</td>\n",
              "      <td>0.604381</td>\n",
              "      <td>-5.294922</td>\n",
              "      <td>-0.893327</td>\n",
              "      <td>-0.872390</td>\n",
              "      <td>1.264841</td>\n",
              "      <td>2.869610</td>\n",
              "      <td>-0.396956</td>\n",
              "      <td>-0.465566</td>\n",
              "      <td>-2.063515</td>\n",
              "      <td>4.795250</td>\n",
              "    </tr>\n",
              "    <tr>\n",
              "      <th>2</th>\n",
              "      <td>POSITIVE</td>\n",
              "      <td>0.047435</td>\n",
              "      <td>-0.007625</td>\n",
              "      <td>0.173723</td>\n",
              "      <td>-0.445078</td>\n",
              "      <td>-0.058977</td>\n",
              "      <td>-0.182599</td>\n",
              "      <td>-0.079506</td>\n",
              "      <td>-0.220796</td>\n",
              "      <td>-0.265243</td>\n",
              "      <td>...</td>\n",
              "      <td>-0.012755</td>\n",
              "      <td>-0.238091</td>\n",
              "      <td>0.309302</td>\n",
              "      <td>-0.140818</td>\n",
              "      <td>-0.078406</td>\n",
              "      <td>-0.180135</td>\n",
              "      <td>0.013944</td>\n",
              "      <td>-0.043409</td>\n",
              "      <td>0.288535</td>\n",
              "      <td>0.232324</td>\n",
              "    </tr>\n",
              "    <tr>\n",
              "      <th>4</th>\n",
              "      <td>POSITIVE</td>\n",
              "      <td>0.106028</td>\n",
              "      <td>0.121924</td>\n",
              "      <td>0.139373</td>\n",
              "      <td>-0.918912</td>\n",
              "      <td>0.004461</td>\n",
              "      <td>-0.216214</td>\n",
              "      <td>-0.204989</td>\n",
              "      <td>-0.420545</td>\n",
              "      <td>-0.648111</td>\n",
              "      <td>...</td>\n",
              "      <td>-0.179132</td>\n",
              "      <td>-0.510152</td>\n",
              "      <td>0.635353</td>\n",
              "      <td>-0.319989</td>\n",
              "      <td>-0.392927</td>\n",
              "      <td>0.184347</td>\n",
              "      <td>-0.225403</td>\n",
              "      <td>0.008890</td>\n",
              "      <td>0.201078</td>\n",
              "      <td>0.354131</td>\n",
              "    </tr>\n",
              "    <tr>\n",
              "      <th>5</th>\n",
              "      <td>NEGATIVE</td>\n",
              "      <td>-1.353890</td>\n",
              "      <td>-7.638894</td>\n",
              "      <td>-4.504153</td>\n",
              "      <td>-7.281510</td>\n",
              "      <td>3.319707</td>\n",
              "      <td>-1.879490</td>\n",
              "      <td>-2.697392</td>\n",
              "      <td>2.624242</td>\n",
              "      <td>-5.669894</td>\n",
              "      <td>...</td>\n",
              "      <td>-0.758122</td>\n",
              "      <td>-5.385909</td>\n",
              "      <td>-2.474345</td>\n",
              "      <td>0.160686</td>\n",
              "      <td>5.968213</td>\n",
              "      <td>7.675878</td>\n",
              "      <td>-1.774800</td>\n",
              "      <td>-1.326604</td>\n",
              "      <td>-10.794442</td>\n",
              "      <td>3.093618</td>\n",
              "    </tr>\n",
              "    <tr>\n",
              "      <th>...</th>\n",
              "      <td>...</td>\n",
              "      <td>...</td>\n",
              "      <td>...</td>\n",
              "      <td>...</td>\n",
              "      <td>...</td>\n",
              "      <td>...</td>\n",
              "      <td>...</td>\n",
              "      <td>...</td>\n",
              "      <td>...</td>\n",
              "      <td>...</td>\n",
              "      <td>...</td>\n",
              "      <td>...</td>\n",
              "      <td>...</td>\n",
              "      <td>...</td>\n",
              "      <td>...</td>\n",
              "      <td>...</td>\n",
              "      <td>...</td>\n",
              "      <td>...</td>\n",
              "      <td>...</td>\n",
              "      <td>...</td>\n",
              "      <td>...</td>\n",
              "    </tr>\n",
              "    <tr>\n",
              "      <th>9482</th>\n",
              "      <td>POSITIVE</td>\n",
              "      <td>0.106028</td>\n",
              "      <td>0.121924</td>\n",
              "      <td>0.139373</td>\n",
              "      <td>-0.918912</td>\n",
              "      <td>0.004461</td>\n",
              "      <td>-0.216214</td>\n",
              "      <td>-0.204989</td>\n",
              "      <td>-0.420545</td>\n",
              "      <td>-0.648111</td>\n",
              "      <td>...</td>\n",
              "      <td>-0.179132</td>\n",
              "      <td>-0.510152</td>\n",
              "      <td>0.635353</td>\n",
              "      <td>-0.319989</td>\n",
              "      <td>-0.392927</td>\n",
              "      <td>0.184347</td>\n",
              "      <td>-0.225403</td>\n",
              "      <td>0.008890</td>\n",
              "      <td>0.201078</td>\n",
              "      <td>0.354131</td>\n",
              "    </tr>\n",
              "    <tr>\n",
              "      <th>9483</th>\n",
              "      <td>POSITIVE</td>\n",
              "      <td>1.815789</td>\n",
              "      <td>-2.876974</td>\n",
              "      <td>-1.558797</td>\n",
              "      <td>-3.573577</td>\n",
              "      <td>1.132767</td>\n",
              "      <td>-0.111063</td>\n",
              "      <td>-1.510444</td>\n",
              "      <td>-0.775099</td>\n",
              "      <td>-4.272242</td>\n",
              "      <td>...</td>\n",
              "      <td>0.356593</td>\n",
              "      <td>-4.013429</td>\n",
              "      <td>-0.626634</td>\n",
              "      <td>-1.653492</td>\n",
              "      <td>0.486769</td>\n",
              "      <td>2.573709</td>\n",
              "      <td>0.071672</td>\n",
              "      <td>-0.287472</td>\n",
              "      <td>-0.189655</td>\n",
              "      <td>3.710586</td>\n",
              "    </tr>\n",
              "    <tr>\n",
              "      <th>9484</th>\n",
              "      <td>NEUTRAL</td>\n",
              "      <td>0.836931</td>\n",
              "      <td>-4.082651</td>\n",
              "      <td>-2.630611</td>\n",
              "      <td>-4.756009</td>\n",
              "      <td>-0.629420</td>\n",
              "      <td>-0.144831</td>\n",
              "      <td>-1.697202</td>\n",
              "      <td>-0.302105</td>\n",
              "      <td>-5.067372</td>\n",
              "      <td>...</td>\n",
              "      <td>-0.118279</td>\n",
              "      <td>-6.384274</td>\n",
              "      <td>-0.833756</td>\n",
              "      <td>0.019192</td>\n",
              "      <td>1.295962</td>\n",
              "      <td>3.993481</td>\n",
              "      <td>0.281847</td>\n",
              "      <td>0.516516</td>\n",
              "      <td>-3.820503</td>\n",
              "      <td>6.278456</td>\n",
              "    </tr>\n",
              "    <tr>\n",
              "      <th>9485</th>\n",
              "      <td>NEUTRAL</td>\n",
              "      <td>0.068602</td>\n",
              "      <td>-8.919511</td>\n",
              "      <td>-2.793904</td>\n",
              "      <td>-7.389237</td>\n",
              "      <td>-0.428109</td>\n",
              "      <td>-0.655916</td>\n",
              "      <td>-1.413017</td>\n",
              "      <td>0.700860</td>\n",
              "      <td>-5.643440</td>\n",
              "      <td>...</td>\n",
              "      <td>-0.731742</td>\n",
              "      <td>-7.833986</td>\n",
              "      <td>-0.155092</td>\n",
              "      <td>-0.787291</td>\n",
              "      <td>3.670361</td>\n",
              "      <td>7.178771</td>\n",
              "      <td>-0.241885</td>\n",
              "      <td>-0.687680</td>\n",
              "      <td>-7.578391</td>\n",
              "      <td>5.693573</td>\n",
              "    </tr>\n",
              "    <tr>\n",
              "      <th>9486</th>\n",
              "      <td>NEGATIVE</td>\n",
              "      <td>0.948231</td>\n",
              "      <td>-0.942366</td>\n",
              "      <td>-0.010881</td>\n",
              "      <td>-2.126990</td>\n",
              "      <td>0.949057</td>\n",
              "      <td>-0.365847</td>\n",
              "      <td>-0.170032</td>\n",
              "      <td>-1.474218</td>\n",
              "      <td>-2.592782</td>\n",
              "      <td>...</td>\n",
              "      <td>0.838269</td>\n",
              "      <td>-2.599074</td>\n",
              "      <td>0.021309</td>\n",
              "      <td>-0.552362</td>\n",
              "      <td>0.259679</td>\n",
              "      <td>0.921726</td>\n",
              "      <td>-0.890135</td>\n",
              "      <td>1.305274</td>\n",
              "      <td>0.611135</td>\n",
              "      <td>1.765292</td>\n",
              "    </tr>\n",
              "  </tbody>\n",
              "</table>\n",
              "<p>8124 rows × 51 columns</p>\n",
              "</div>\n",
              "      <button class=\"colab-df-convert\" onclick=\"convertToInteractive('df-0c85c00e-b655-471e-879c-a4c68751ffd3')\"\n",
              "              title=\"Convert this dataframe to an interactive table.\"\n",
              "              style=\"display:none;\">\n",
              "        \n",
              "  <svg xmlns=\"http://www.w3.org/2000/svg\" height=\"24px\"viewBox=\"0 0 24 24\"\n",
              "       width=\"24px\">\n",
              "    <path d=\"M0 0h24v24H0V0z\" fill=\"none\"/>\n",
              "    <path d=\"M18.56 5.44l.94 2.06.94-2.06 2.06-.94-2.06-.94-.94-2.06-.94 2.06-2.06.94zm-11 1L8.5 8.5l.94-2.06 2.06-.94-2.06-.94L8.5 2.5l-.94 2.06-2.06.94zm10 10l.94 2.06.94-2.06 2.06-.94-2.06-.94-.94-2.06-.94 2.06-2.06.94z\"/><path d=\"M17.41 7.96l-1.37-1.37c-.4-.4-.92-.59-1.43-.59-.52 0-1.04.2-1.43.59L10.3 9.45l-7.72 7.72c-.78.78-.78 2.05 0 2.83L4 21.41c.39.39.9.59 1.41.59.51 0 1.02-.2 1.41-.59l7.78-7.78 2.81-2.81c.8-.78.8-2.07 0-2.86zM5.41 20L4 18.59l7.72-7.72 1.47 1.35L5.41 20z\"/>\n",
              "  </svg>\n",
              "      </button>\n",
              "      \n",
              "  <style>\n",
              "    .colab-df-container {\n",
              "      display:flex;\n",
              "      flex-wrap:wrap;\n",
              "      gap: 12px;\n",
              "    }\n",
              "\n",
              "    .colab-df-convert {\n",
              "      background-color: #E8F0FE;\n",
              "      border: none;\n",
              "      border-radius: 50%;\n",
              "      cursor: pointer;\n",
              "      display: none;\n",
              "      fill: #1967D2;\n",
              "      height: 32px;\n",
              "      padding: 0 0 0 0;\n",
              "      width: 32px;\n",
              "    }\n",
              "\n",
              "    .colab-df-convert:hover {\n",
              "      background-color: #E2EBFA;\n",
              "      box-shadow: 0px 1px 2px rgba(60, 64, 67, 0.3), 0px 1px 3px 1px rgba(60, 64, 67, 0.15);\n",
              "      fill: #174EA6;\n",
              "    }\n",
              "\n",
              "    [theme=dark] .colab-df-convert {\n",
              "      background-color: #3B4455;\n",
              "      fill: #D2E3FC;\n",
              "    }\n",
              "\n",
              "    [theme=dark] .colab-df-convert:hover {\n",
              "      background-color: #434B5C;\n",
              "      box-shadow: 0px 1px 3px 1px rgba(0, 0, 0, 0.15);\n",
              "      filter: drop-shadow(0px 1px 2px rgba(0, 0, 0, 0.3));\n",
              "      fill: #FFFFFF;\n",
              "    }\n",
              "  </style>\n",
              "\n",
              "      <script>\n",
              "        const buttonEl =\n",
              "          document.querySelector('#df-0c85c00e-b655-471e-879c-a4c68751ffd3 button.colab-df-convert');\n",
              "        buttonEl.style.display =\n",
              "          google.colab.kernel.accessAllowed ? 'block' : 'none';\n",
              "\n",
              "        async function convertToInteractive(key) {\n",
              "          const element = document.querySelector('#df-0c85c00e-b655-471e-879c-a4c68751ffd3');\n",
              "          const dataTable =\n",
              "            await google.colab.kernel.invokeFunction('convertToInteractive',\n",
              "                                                     [key], {});\n",
              "          if (!dataTable) return;\n",
              "\n",
              "          const docLinkHtml = 'Like what you see? Visit the ' +\n",
              "            '<a target=\"_blank\" href=https://colab.research.google.com/notebooks/data_table.ipynb>data table notebook</a>'\n",
              "            + ' to learn more about interactive tables.';\n",
              "          element.innerHTML = '';\n",
              "          dataTable['output_type'] = 'display_data';\n",
              "          await google.colab.output.renderOutput(dataTable, element);\n",
              "          const docLink = document.createElement('div');\n",
              "          docLink.innerHTML = docLinkHtml;\n",
              "          element.appendChild(docLink);\n",
              "        }\n",
              "      </script>\n",
              "    </div>\n",
              "  </div>\n",
              "  "
            ]
          },
          "metadata": {},
          "execution_count": 82
        }
      ]
    },
    {
      "cell_type": "code",
      "source": [
        "train_naive_bayes_model_word(df_unido_word)"
      ],
      "metadata": {
        "colab": {
          "base_uri": "https://localhost:8080/"
        },
        "id": "RkZ_c1m7WiSM",
        "outputId": "38e194cd-e656-4b92-bf1e-35a6db3a83f1"
      },
      "execution_count": null,
      "outputs": [
        {
          "output_type": "stream",
          "name": "stdout",
          "text": [
            "Acurácia do modelo: 0.36\n"
          ]
        }
      ]
    },
    {
      "cell_type": "markdown",
      "source": [
        "##### guto"
      ],
      "metadata": {
        "id": "U8jE70wJYvp3"
      }
    },
    {
      "cell_type": "code",
      "execution_count": null,
      "metadata": {
        "id": "918QrKLYnVao",
        "colab": {
          "base_uri": "https://localhost:8080/",
          "height": 727
        },
        "outputId": "4ab8e37f-cc69-43d5-f19b-394b78410550"
      },
      "outputs": [
        {
          "output_type": "error",
          "ename": "KeyError",
          "evalue": "ignored",
          "traceback": [
            "\u001b[0;31m---------------------------------------------------------------------------\u001b[0m",
            "\u001b[0;31mKeyError\u001b[0m                                  Traceback (most recent call last)",
            "\u001b[0;32m<ipython-input-78-514fd7ff891f>\u001b[0m in \u001b[0;36m<cell line: 5>\u001b[0;34m()\u001b[0m\n\u001b[1;32m      3\u001b[0m \u001b[0;34m\u001b[0m\u001b[0m\n\u001b[1;32m      4\u001b[0m \u001b[0mdfresultadoModeloWord2Vec\u001b[0m \u001b[0;34m=\u001b[0m \u001b[0mdfWord2Vec\u001b[0m\u001b[0;34m.\u001b[0m\u001b[0mdrop\u001b[0m\u001b[0;34m(\u001b[0m\u001b[0mindices_nan\u001b[0m\u001b[0;34m)\u001b[0m\u001b[0;34m\u001b[0m\u001b[0;34m\u001b[0m\u001b[0m\n\u001b[0;32m----> 5\u001b[0;31m \u001b[0mdf\u001b[0m \u001b[0;34m=\u001b[0m \u001b[0mdf\u001b[0m\u001b[0;34m.\u001b[0m\u001b[0mdrop\u001b[0m\u001b[0;34m(\u001b[0m\u001b[0mindices_nan\u001b[0m\u001b[0;34m)\u001b[0m\u001b[0;34m\u001b[0m\u001b[0;34m\u001b[0m\u001b[0m\n\u001b[0m\u001b[1;32m      6\u001b[0m \u001b[0;34m\u001b[0m\u001b[0m\n\u001b[1;32m      7\u001b[0m \u001b[0;31m#Traduzir as tuplas que contem negativo para 0 e as que contem neutro e positivo para 1\u001b[0m\u001b[0;34m\u001b[0m\u001b[0;34m\u001b[0m\u001b[0m\n",
            "\u001b[0;32m/usr/local/lib/python3.10/dist-packages/pandas/util/_decorators.py\u001b[0m in \u001b[0;36mwrapper\u001b[0;34m(*args, **kwargs)\u001b[0m\n\u001b[1;32m    329\u001b[0m                     \u001b[0mstacklevel\u001b[0m\u001b[0;34m=\u001b[0m\u001b[0mfind_stack_level\u001b[0m\u001b[0;34m(\u001b[0m\u001b[0;34m)\u001b[0m\u001b[0;34m,\u001b[0m\u001b[0;34m\u001b[0m\u001b[0;34m\u001b[0m\u001b[0m\n\u001b[1;32m    330\u001b[0m                 )\n\u001b[0;32m--> 331\u001b[0;31m             \u001b[0;32mreturn\u001b[0m \u001b[0mfunc\u001b[0m\u001b[0;34m(\u001b[0m\u001b[0;34m*\u001b[0m\u001b[0margs\u001b[0m\u001b[0;34m,\u001b[0m \u001b[0;34m**\u001b[0m\u001b[0mkwargs\u001b[0m\u001b[0;34m)\u001b[0m\u001b[0;34m\u001b[0m\u001b[0;34m\u001b[0m\u001b[0m\n\u001b[0m\u001b[1;32m    332\u001b[0m \u001b[0;34m\u001b[0m\u001b[0m\n\u001b[1;32m    333\u001b[0m         \u001b[0;31m# error: \"Callable[[VarArg(Any), KwArg(Any)], Any]\" has no\u001b[0m\u001b[0;34m\u001b[0m\u001b[0;34m\u001b[0m\u001b[0m\n",
            "\u001b[0;32m/usr/local/lib/python3.10/dist-packages/pandas/core/frame.py\u001b[0m in \u001b[0;36mdrop\u001b[0;34m(self, labels, axis, index, columns, level, inplace, errors)\u001b[0m\n\u001b[1;32m   5397\u001b[0m                 \u001b[0mweight\u001b[0m  \u001b[0;36m1.0\u001b[0m     \u001b[0;36m0.8\u001b[0m\u001b[0;34m\u001b[0m\u001b[0;34m\u001b[0m\u001b[0m\n\u001b[1;32m   5398\u001b[0m         \"\"\"\n\u001b[0;32m-> 5399\u001b[0;31m         return super().drop(\n\u001b[0m\u001b[1;32m   5400\u001b[0m             \u001b[0mlabels\u001b[0m\u001b[0;34m=\u001b[0m\u001b[0mlabels\u001b[0m\u001b[0;34m,\u001b[0m\u001b[0;34m\u001b[0m\u001b[0;34m\u001b[0m\u001b[0m\n\u001b[1;32m   5401\u001b[0m             \u001b[0maxis\u001b[0m\u001b[0;34m=\u001b[0m\u001b[0maxis\u001b[0m\u001b[0;34m,\u001b[0m\u001b[0;34m\u001b[0m\u001b[0;34m\u001b[0m\u001b[0m\n",
            "\u001b[0;32m/usr/local/lib/python3.10/dist-packages/pandas/util/_decorators.py\u001b[0m in \u001b[0;36mwrapper\u001b[0;34m(*args, **kwargs)\u001b[0m\n\u001b[1;32m    329\u001b[0m                     \u001b[0mstacklevel\u001b[0m\u001b[0;34m=\u001b[0m\u001b[0mfind_stack_level\u001b[0m\u001b[0;34m(\u001b[0m\u001b[0;34m)\u001b[0m\u001b[0;34m,\u001b[0m\u001b[0;34m\u001b[0m\u001b[0;34m\u001b[0m\u001b[0m\n\u001b[1;32m    330\u001b[0m                 )\n\u001b[0;32m--> 331\u001b[0;31m             \u001b[0;32mreturn\u001b[0m \u001b[0mfunc\u001b[0m\u001b[0;34m(\u001b[0m\u001b[0;34m*\u001b[0m\u001b[0margs\u001b[0m\u001b[0;34m,\u001b[0m \u001b[0;34m**\u001b[0m\u001b[0mkwargs\u001b[0m\u001b[0;34m)\u001b[0m\u001b[0;34m\u001b[0m\u001b[0;34m\u001b[0m\u001b[0m\n\u001b[0m\u001b[1;32m    332\u001b[0m \u001b[0;34m\u001b[0m\u001b[0m\n\u001b[1;32m    333\u001b[0m         \u001b[0;31m# error: \"Callable[[VarArg(Any), KwArg(Any)], Any]\" has no\u001b[0m\u001b[0;34m\u001b[0m\u001b[0;34m\u001b[0m\u001b[0m\n",
            "\u001b[0;32m/usr/local/lib/python3.10/dist-packages/pandas/core/generic.py\u001b[0m in \u001b[0;36mdrop\u001b[0;34m(self, labels, axis, index, columns, level, inplace, errors)\u001b[0m\n\u001b[1;32m   4503\u001b[0m         \u001b[0;32mfor\u001b[0m \u001b[0maxis\u001b[0m\u001b[0;34m,\u001b[0m \u001b[0mlabels\u001b[0m \u001b[0;32min\u001b[0m \u001b[0maxes\u001b[0m\u001b[0;34m.\u001b[0m\u001b[0mitems\u001b[0m\u001b[0;34m(\u001b[0m\u001b[0;34m)\u001b[0m\u001b[0;34m:\u001b[0m\u001b[0;34m\u001b[0m\u001b[0;34m\u001b[0m\u001b[0m\n\u001b[1;32m   4504\u001b[0m             \u001b[0;32mif\u001b[0m \u001b[0mlabels\u001b[0m \u001b[0;32mis\u001b[0m \u001b[0;32mnot\u001b[0m \u001b[0;32mNone\u001b[0m\u001b[0;34m:\u001b[0m\u001b[0;34m\u001b[0m\u001b[0;34m\u001b[0m\u001b[0m\n\u001b[0;32m-> 4505\u001b[0;31m                 \u001b[0mobj\u001b[0m \u001b[0;34m=\u001b[0m \u001b[0mobj\u001b[0m\u001b[0;34m.\u001b[0m\u001b[0m_drop_axis\u001b[0m\u001b[0;34m(\u001b[0m\u001b[0mlabels\u001b[0m\u001b[0;34m,\u001b[0m \u001b[0maxis\u001b[0m\u001b[0;34m,\u001b[0m \u001b[0mlevel\u001b[0m\u001b[0;34m=\u001b[0m\u001b[0mlevel\u001b[0m\u001b[0;34m,\u001b[0m \u001b[0merrors\u001b[0m\u001b[0;34m=\u001b[0m\u001b[0merrors\u001b[0m\u001b[0;34m)\u001b[0m\u001b[0;34m\u001b[0m\u001b[0;34m\u001b[0m\u001b[0m\n\u001b[0m\u001b[1;32m   4506\u001b[0m \u001b[0;34m\u001b[0m\u001b[0m\n\u001b[1;32m   4507\u001b[0m         \u001b[0;32mif\u001b[0m \u001b[0minplace\u001b[0m\u001b[0;34m:\u001b[0m\u001b[0;34m\u001b[0m\u001b[0;34m\u001b[0m\u001b[0m\n",
            "\u001b[0;32m/usr/local/lib/python3.10/dist-packages/pandas/core/generic.py\u001b[0m in \u001b[0;36m_drop_axis\u001b[0;34m(self, labels, axis, level, errors, only_slice)\u001b[0m\n\u001b[1;32m   4544\u001b[0m                 \u001b[0mnew_axis\u001b[0m \u001b[0;34m=\u001b[0m \u001b[0maxis\u001b[0m\u001b[0;34m.\u001b[0m\u001b[0mdrop\u001b[0m\u001b[0;34m(\u001b[0m\u001b[0mlabels\u001b[0m\u001b[0;34m,\u001b[0m \u001b[0mlevel\u001b[0m\u001b[0;34m=\u001b[0m\u001b[0mlevel\u001b[0m\u001b[0;34m,\u001b[0m \u001b[0merrors\u001b[0m\u001b[0;34m=\u001b[0m\u001b[0merrors\u001b[0m\u001b[0;34m)\u001b[0m\u001b[0;34m\u001b[0m\u001b[0;34m\u001b[0m\u001b[0m\n\u001b[1;32m   4545\u001b[0m             \u001b[0;32melse\u001b[0m\u001b[0;34m:\u001b[0m\u001b[0;34m\u001b[0m\u001b[0;34m\u001b[0m\u001b[0m\n\u001b[0;32m-> 4546\u001b[0;31m                 \u001b[0mnew_axis\u001b[0m \u001b[0;34m=\u001b[0m \u001b[0maxis\u001b[0m\u001b[0;34m.\u001b[0m\u001b[0mdrop\u001b[0m\u001b[0;34m(\u001b[0m\u001b[0mlabels\u001b[0m\u001b[0;34m,\u001b[0m \u001b[0merrors\u001b[0m\u001b[0;34m=\u001b[0m\u001b[0merrors\u001b[0m\u001b[0;34m)\u001b[0m\u001b[0;34m\u001b[0m\u001b[0;34m\u001b[0m\u001b[0m\n\u001b[0m\u001b[1;32m   4547\u001b[0m             \u001b[0mindexer\u001b[0m \u001b[0;34m=\u001b[0m \u001b[0maxis\u001b[0m\u001b[0;34m.\u001b[0m\u001b[0mget_indexer\u001b[0m\u001b[0;34m(\u001b[0m\u001b[0mnew_axis\u001b[0m\u001b[0;34m)\u001b[0m\u001b[0;34m\u001b[0m\u001b[0;34m\u001b[0m\u001b[0m\n\u001b[1;32m   4548\u001b[0m \u001b[0;34m\u001b[0m\u001b[0m\n",
            "\u001b[0;32m/usr/local/lib/python3.10/dist-packages/pandas/core/indexes/base.py\u001b[0m in \u001b[0;36mdrop\u001b[0;34m(self, labels, errors)\u001b[0m\n\u001b[1;32m   6932\u001b[0m         \u001b[0;32mif\u001b[0m \u001b[0mmask\u001b[0m\u001b[0;34m.\u001b[0m\u001b[0many\u001b[0m\u001b[0;34m(\u001b[0m\u001b[0;34m)\u001b[0m\u001b[0;34m:\u001b[0m\u001b[0;34m\u001b[0m\u001b[0;34m\u001b[0m\u001b[0m\n\u001b[1;32m   6933\u001b[0m             \u001b[0;32mif\u001b[0m \u001b[0merrors\u001b[0m \u001b[0;34m!=\u001b[0m \u001b[0;34m\"ignore\"\u001b[0m\u001b[0;34m:\u001b[0m\u001b[0;34m\u001b[0m\u001b[0;34m\u001b[0m\u001b[0m\n\u001b[0;32m-> 6934\u001b[0;31m                 \u001b[0;32mraise\u001b[0m \u001b[0mKeyError\u001b[0m\u001b[0;34m(\u001b[0m\u001b[0;34mf\"{list(labels[mask])} not found in axis\"\u001b[0m\u001b[0;34m)\u001b[0m\u001b[0;34m\u001b[0m\u001b[0;34m\u001b[0m\u001b[0m\n\u001b[0m\u001b[1;32m   6935\u001b[0m             \u001b[0mindexer\u001b[0m \u001b[0;34m=\u001b[0m \u001b[0mindexer\u001b[0m\u001b[0;34m[\u001b[0m\u001b[0;34m~\u001b[0m\u001b[0mmask\u001b[0m\u001b[0;34m]\u001b[0m\u001b[0;34m\u001b[0m\u001b[0;34m\u001b[0m\u001b[0m\n\u001b[1;32m   6936\u001b[0m         \u001b[0;32mreturn\u001b[0m \u001b[0mself\u001b[0m\u001b[0;34m.\u001b[0m\u001b[0mdelete\u001b[0m\u001b[0;34m(\u001b[0m\u001b[0mindexer\u001b[0m\u001b[0;34m)\u001b[0m\u001b[0;34m\u001b[0m\u001b[0;34m\u001b[0m\u001b[0m\n",
            "\u001b[0;31mKeyError\u001b[0m: \"[' ', '', '', '', ' ', '', ' ', '', '', '', '', ' ', '', '', '', '', '', '         ', '', '', '', '', '', '', '', '', ' ', '', '', '', '', '', '', '', '', '', '', '', '', '', '', '   ', '', '', '', '', '', '', '', '', '', '', '', '', '', '', ' ', '', '', '', '', '', '', '', '', '', '', '', '', '', '', '', '', '', '', '', '', '', '', '', '', '', '', '', '', '', '', '', '', '', '     ', '', '', '', '', '    ', ' ', '', ' ', '', ' ', '', '', '   ', '  ', ' ', '', '  ', ' ', '', '     ', ' ', '', '', '', ' ', '', ' ', '', '', '', '', '', '', '', ' ', '', '', '', '', '', '', '', '', '', '', '  ', '', '', '', '', '', ' ', '', '', '', '', '', '', '', '', ' ', ' ', ' ', '', '', '', '', ' ', '', '', '', '', ' ', ' ', ' ', '', '', '', '', ' ', '', ' ', '', '', ' ', '', '', '', '', '', '', '', '', '', ' ', '', ' ', '', '', '', '', '', '', '', ' ', '', ' ', '', '', '', '', '', '', '', '', '', ' ', '', '', '', '', '', '', '', ' ', '', ' ', '', '', '', '', ' ', '', '', '', '', '', ' ', '   ', '', '', '', '', '', '', '', '', '', ' ', '', '', '', ' ', ' ', '', '', '', '', '', '', '', '', '', '', '', '', '', '', '', ' ', '', '', '', '', '', '', '', '', '', '', '', ' ', ' ', '', '', '', '', ' ', ' ', '', '', '', '', '', '', '', '', '', '', '', '', ' ', '', '   ', ' ', '       ', '  ', ' ', ' ', ' ', ' ', ' ', '      ', '       ', '', '', ' ', ' ', '', '', ' ', '', '', '', '', '', '', ' ', '', '', '', '', '', '', ' ', '', '', '', '', '', '', '', ' ', '', '', '', '', '',..."
          ]
        }
      ],
      "source": [
        "#verificar quais indices tem um valor nulo\n",
        "indices_nan = dfWord2Vec[dfWord2Vec[1].isna()].index\n",
        "\n",
        "dfresultadoModeloWord2Vec = dfWord2Vec.drop(indices_nan)\n",
        "df = df.drop(indices_nan)\n",
        "\n",
        "#Traduzir as tuplas que contem negativo para 0 e as que contem neutro e positivo para 1\n",
        "df['targetSentimento'] = df['targetSentimento'].replace({'POSITIVE': 0, 'NEUTRAL': 0, 'NEGATIVE': 1})"
      ]
    },
    {
      "cell_type": "code",
      "execution_count": null,
      "metadata": {
        "id": "FEuUwKYNlBbm",
        "colab": {
          "base_uri": "https://localhost:8080/",
          "height": 415
        },
        "outputId": "d07a5022-b56e-4cfc-a5c7-8c15a768adbd"
      },
      "outputs": [
        {
          "output_type": "error",
          "ename": "ValueError",
          "evalue": "ignored",
          "traceback": [
            "\u001b[0;31m---------------------------------------------------------------------------\u001b[0m",
            "\u001b[0;31mValueError\u001b[0m                                Traceback (most recent call last)",
            "\u001b[0;32m<ipython-input-65-3a0c9adaa146>\u001b[0m in \u001b[0;36m<cell line: 6>\u001b[0;34m()\u001b[0m\n\u001b[1;32m      4\u001b[0m \u001b[0mclasse\u001b[0m \u001b[0;34m=\u001b[0m \u001b[0mclasse\u001b[0m\u001b[0;34m.\u001b[0m\u001b[0mravel\u001b[0m\u001b[0;34m(\u001b[0m\u001b[0;34m)\u001b[0m\u001b[0;34m\u001b[0m\u001b[0;34m\u001b[0m\u001b[0m\n\u001b[1;32m      5\u001b[0m \u001b[0;34m\u001b[0m\u001b[0m\n\u001b[0;32m----> 6\u001b[0;31m \u001b[0mX_train\u001b[0m\u001b[0;34m,\u001b[0m \u001b[0mX_test\u001b[0m\u001b[0;34m,\u001b[0m \u001b[0my_train\u001b[0m\u001b[0;34m,\u001b[0m \u001b[0mY_test\u001b[0m \u001b[0;34m=\u001b[0m \u001b[0mtrain_test_split\u001b[0m \u001b[0;34m(\u001b[0m\u001b[0mprevisores\u001b[0m\u001b[0;34m,\u001b[0m \u001b[0mclasse\u001b[0m\u001b[0;34m,\u001b[0m \u001b[0mtest_size\u001b[0m\u001b[0;34m=\u001b[0m\u001b[0;36m0.5\u001b[0m\u001b[0;34m)\u001b[0m\u001b[0;34m\u001b[0m\u001b[0;34m\u001b[0m\u001b[0m\n\u001b[0m",
            "\u001b[0;32m/usr/local/lib/python3.10/dist-packages/sklearn/model_selection/_split.py\u001b[0m in \u001b[0;36mtrain_test_split\u001b[0;34m(test_size, train_size, random_state, shuffle, stratify, *arrays)\u001b[0m\n\u001b[1;32m   2557\u001b[0m         \u001b[0;32mraise\u001b[0m \u001b[0mValueError\u001b[0m\u001b[0;34m(\u001b[0m\u001b[0;34m\"At least one array required as input\"\u001b[0m\u001b[0;34m)\u001b[0m\u001b[0;34m\u001b[0m\u001b[0;34m\u001b[0m\u001b[0m\n\u001b[1;32m   2558\u001b[0m \u001b[0;34m\u001b[0m\u001b[0m\n\u001b[0;32m-> 2559\u001b[0;31m     \u001b[0marrays\u001b[0m \u001b[0;34m=\u001b[0m \u001b[0mindexable\u001b[0m\u001b[0;34m(\u001b[0m\u001b[0;34m*\u001b[0m\u001b[0marrays\u001b[0m\u001b[0;34m)\u001b[0m\u001b[0;34m\u001b[0m\u001b[0;34m\u001b[0m\u001b[0m\n\u001b[0m\u001b[1;32m   2560\u001b[0m \u001b[0;34m\u001b[0m\u001b[0m\n\u001b[1;32m   2561\u001b[0m     \u001b[0mn_samples\u001b[0m \u001b[0;34m=\u001b[0m \u001b[0m_num_samples\u001b[0m\u001b[0;34m(\u001b[0m\u001b[0marrays\u001b[0m\u001b[0;34m[\u001b[0m\u001b[0;36m0\u001b[0m\u001b[0;34m]\u001b[0m\u001b[0;34m)\u001b[0m\u001b[0;34m\u001b[0m\u001b[0;34m\u001b[0m\u001b[0m\n",
            "\u001b[0;32m/usr/local/lib/python3.10/dist-packages/sklearn/utils/validation.py\u001b[0m in \u001b[0;36mindexable\u001b[0;34m(*iterables)\u001b[0m\n\u001b[1;32m    441\u001b[0m \u001b[0;34m\u001b[0m\u001b[0m\n\u001b[1;32m    442\u001b[0m     \u001b[0mresult\u001b[0m \u001b[0;34m=\u001b[0m \u001b[0;34m[\u001b[0m\u001b[0m_make_indexable\u001b[0m\u001b[0;34m(\u001b[0m\u001b[0mX\u001b[0m\u001b[0;34m)\u001b[0m \u001b[0;32mfor\u001b[0m \u001b[0mX\u001b[0m \u001b[0;32min\u001b[0m \u001b[0miterables\u001b[0m\u001b[0;34m]\u001b[0m\u001b[0;34m\u001b[0m\u001b[0;34m\u001b[0m\u001b[0m\n\u001b[0;32m--> 443\u001b[0;31m     \u001b[0mcheck_consistent_length\u001b[0m\u001b[0;34m(\u001b[0m\u001b[0;34m*\u001b[0m\u001b[0mresult\u001b[0m\u001b[0;34m)\u001b[0m\u001b[0;34m\u001b[0m\u001b[0;34m\u001b[0m\u001b[0m\n\u001b[0m\u001b[1;32m    444\u001b[0m     \u001b[0;32mreturn\u001b[0m \u001b[0mresult\u001b[0m\u001b[0;34m\u001b[0m\u001b[0;34m\u001b[0m\u001b[0m\n\u001b[1;32m    445\u001b[0m \u001b[0;34m\u001b[0m\u001b[0m\n",
            "\u001b[0;32m/usr/local/lib/python3.10/dist-packages/sklearn/utils/validation.py\u001b[0m in \u001b[0;36mcheck_consistent_length\u001b[0;34m(*arrays)\u001b[0m\n\u001b[1;32m    395\u001b[0m     \u001b[0muniques\u001b[0m \u001b[0;34m=\u001b[0m \u001b[0mnp\u001b[0m\u001b[0;34m.\u001b[0m\u001b[0munique\u001b[0m\u001b[0;34m(\u001b[0m\u001b[0mlengths\u001b[0m\u001b[0;34m)\u001b[0m\u001b[0;34m\u001b[0m\u001b[0;34m\u001b[0m\u001b[0m\n\u001b[1;32m    396\u001b[0m     \u001b[0;32mif\u001b[0m \u001b[0mlen\u001b[0m\u001b[0;34m(\u001b[0m\u001b[0muniques\u001b[0m\u001b[0;34m)\u001b[0m \u001b[0;34m>\u001b[0m \u001b[0;36m1\u001b[0m\u001b[0;34m:\u001b[0m\u001b[0;34m\u001b[0m\u001b[0;34m\u001b[0m\u001b[0m\n\u001b[0;32m--> 397\u001b[0;31m         raise ValueError(\n\u001b[0m\u001b[1;32m    398\u001b[0m             \u001b[0;34m\"Found input variables with inconsistent numbers of samples: %r\"\u001b[0m\u001b[0;34m\u001b[0m\u001b[0;34m\u001b[0m\u001b[0m\n\u001b[1;32m    399\u001b[0m             \u001b[0;34m%\u001b[0m \u001b[0;34m[\u001b[0m\u001b[0mint\u001b[0m\u001b[0;34m(\u001b[0m\u001b[0ml\u001b[0m\u001b[0;34m)\u001b[0m \u001b[0;32mfor\u001b[0m \u001b[0ml\u001b[0m \u001b[0;32min\u001b[0m \u001b[0mlengths\u001b[0m\u001b[0;34m]\u001b[0m\u001b[0;34m\u001b[0m\u001b[0;34m\u001b[0m\u001b[0m\n",
            "\u001b[0;31mValueError\u001b[0m: Found input variables with inconsistent numbers of samples: [8124, 9487]"
          ]
        }
      ],
      "source": [
        "previsores = dfresultadoModeloWord2Vec\n",
        "classe = df['targetSentimento']\n",
        "\n",
        "classe = classe.ravel()\n",
        "\n",
        "X_train, X_test, y_train, Y_test = train_test_split (previsores, classe, test_size=0.5)"
      ]
    },
    {
      "cell_type": "code",
      "execution_count": null,
      "metadata": {
        "id": "mBJ2a4-LmLOi"
      },
      "outputs": [],
      "source": [
        "model = GaussianNB()"
      ]
    },
    {
      "cell_type": "code",
      "execution_count": null,
      "metadata": {
        "id": "CzlIIpJLmOmI"
      },
      "outputs": [],
      "source": [
        "model.fit(X_train, y_train)"
      ]
    },
    {
      "cell_type": "code",
      "execution_count": null,
      "metadata": {
        "id": "SL5OClUqmQ1W"
      },
      "outputs": [],
      "source": [
        "model.score(X_test,Y_test)"
      ]
    },
    {
      "cell_type": "markdown",
      "metadata": {
        "id": "rk0Y0b61m-pZ"
      },
      "source": [
        "### Rede Neural com Word2Vec"
      ]
    },
    {
      "cell_type": "code",
      "execution_count": null,
      "metadata": {
        "id": "T7mPm9kRnQml"
      },
      "outputs": [],
      "source": [
        "#Importacao Necessárias\n",
        "\n",
        "import keras\n",
        "from keras.models import Sequential\n",
        "from keras.layers import Dense\n",
        "from sklearn.metrics import confusion_matrix, accuracy_score\n",
        "from imblearn.over_sampling import SMOTE\n",
        "from keras.utils import to_categorical"
      ]
    },
    {
      "cell_type": "code",
      "execution_count": null,
      "metadata": {
        "id": "unFAKvXHoHMG"
      },
      "outputs": [],
      "source": [
        "# Organizar os previsores e classes\n",
        "previsores = dfresultadoModeloWord2Vec\n",
        "classe = df['targetSentimento']\n",
        "classe = classe.drop(indices_nan)\n"
      ]
    },
    {
      "cell_type": "code",
      "execution_count": null,
      "metadata": {
        "id": "MzJhtNvJneTT",
        "colab": {
          "base_uri": "https://localhost:8080/",
          "height": 380
        },
        "outputId": "85a88283-2865-4e82-9d50-f3f5e1117c27"
      },
      "outputs": [
        {
          "output_type": "error",
          "ename": "ValueError",
          "evalue": "ignored",
          "traceback": [
            "\u001b[0;31m---------------------------------------------------------------------------\u001b[0m",
            "\u001b[0;31mValueError\u001b[0m                                Traceback (most recent call last)",
            "\u001b[0;32m<ipython-input-77-7f46be38dfe0>\u001b[0m in \u001b[0;36m<cell line: 3>\u001b[0;34m()\u001b[0m\n\u001b[1;32m      1\u001b[0m \u001b[0;31m#Balanciamento das classes ultilizando a biblioteca smote\u001b[0m\u001b[0;34m\u001b[0m\u001b[0;34m\u001b[0m\u001b[0m\n\u001b[1;32m      2\u001b[0m \u001b[0msmote\u001b[0m \u001b[0;34m=\u001b[0m \u001b[0mSMOTE\u001b[0m\u001b[0;34m(\u001b[0m\u001b[0;34m)\u001b[0m\u001b[0;34m\u001b[0m\u001b[0;34m\u001b[0m\u001b[0m\n\u001b[0;32m----> 3\u001b[0;31m \u001b[0mX_resampled\u001b[0m\u001b[0;34m,\u001b[0m \u001b[0my_resampled\u001b[0m \u001b[0;34m=\u001b[0m \u001b[0msmote\u001b[0m\u001b[0;34m.\u001b[0m\u001b[0mfit_resample\u001b[0m\u001b[0;34m(\u001b[0m\u001b[0mprevisores\u001b[0m\u001b[0;34m,\u001b[0m \u001b[0mclasse\u001b[0m\u001b[0;34m)\u001b[0m\u001b[0;34m\u001b[0m\u001b[0;34m\u001b[0m\u001b[0m\n\u001b[0m\u001b[1;32m      4\u001b[0m \u001b[0;34m\u001b[0m\u001b[0m\n\u001b[1;32m      5\u001b[0m \u001b[0mprevisores\u001b[0m \u001b[0;34m=\u001b[0m \u001b[0mpd\u001b[0m\u001b[0;34m.\u001b[0m\u001b[0mDataFrame\u001b[0m\u001b[0;34m(\u001b[0m\u001b[0mX_resampled\u001b[0m\u001b[0;34m)\u001b[0m\u001b[0;34m\u001b[0m\u001b[0;34m\u001b[0m\u001b[0m\n",
            "\u001b[0;32m/usr/local/lib/python3.10/dist-packages/imblearn/base.py\u001b[0m in \u001b[0;36mfit_resample\u001b[0;34m(self, X, y)\u001b[0m\n\u001b[1;32m    201\u001b[0m         \"\"\"\n\u001b[1;32m    202\u001b[0m         \u001b[0mself\u001b[0m\u001b[0;34m.\u001b[0m\u001b[0m_validate_params\u001b[0m\u001b[0;34m(\u001b[0m\u001b[0;34m)\u001b[0m\u001b[0;34m\u001b[0m\u001b[0;34m\u001b[0m\u001b[0m\n\u001b[0;32m--> 203\u001b[0;31m         \u001b[0;32mreturn\u001b[0m \u001b[0msuper\u001b[0m\u001b[0;34m(\u001b[0m\u001b[0;34m)\u001b[0m\u001b[0;34m.\u001b[0m\u001b[0mfit_resample\u001b[0m\u001b[0;34m(\u001b[0m\u001b[0mX\u001b[0m\u001b[0;34m,\u001b[0m \u001b[0my\u001b[0m\u001b[0;34m)\u001b[0m\u001b[0;34m\u001b[0m\u001b[0;34m\u001b[0m\u001b[0m\n\u001b[0m\u001b[1;32m    204\u001b[0m \u001b[0;34m\u001b[0m\u001b[0m\n\u001b[1;32m    205\u001b[0m     \u001b[0;32mdef\u001b[0m \u001b[0m_more_tags\u001b[0m\u001b[0;34m(\u001b[0m\u001b[0mself\u001b[0m\u001b[0;34m)\u001b[0m\u001b[0;34m:\u001b[0m\u001b[0;34m\u001b[0m\u001b[0;34m\u001b[0m\u001b[0m\n",
            "\u001b[0;32m/usr/local/lib/python3.10/dist-packages/imblearn/base.py\u001b[0m in \u001b[0;36mfit_resample\u001b[0;34m(self, X, y)\u001b[0m\n\u001b[1;32m     80\u001b[0m         \u001b[0mcheck_classification_targets\u001b[0m\u001b[0;34m(\u001b[0m\u001b[0my\u001b[0m\u001b[0;34m)\u001b[0m\u001b[0;34m\u001b[0m\u001b[0;34m\u001b[0m\u001b[0m\n\u001b[1;32m     81\u001b[0m         \u001b[0marrays_transformer\u001b[0m \u001b[0;34m=\u001b[0m \u001b[0mArraysTransformer\u001b[0m\u001b[0;34m(\u001b[0m\u001b[0mX\u001b[0m\u001b[0;34m,\u001b[0m \u001b[0my\u001b[0m\u001b[0;34m)\u001b[0m\u001b[0;34m\u001b[0m\u001b[0;34m\u001b[0m\u001b[0m\n\u001b[0;32m---> 82\u001b[0;31m         \u001b[0mX\u001b[0m\u001b[0;34m,\u001b[0m \u001b[0my\u001b[0m\u001b[0;34m,\u001b[0m \u001b[0mbinarize_y\u001b[0m \u001b[0;34m=\u001b[0m \u001b[0mself\u001b[0m\u001b[0;34m.\u001b[0m\u001b[0m_check_X_y\u001b[0m\u001b[0;34m(\u001b[0m\u001b[0mX\u001b[0m\u001b[0;34m,\u001b[0m \u001b[0my\u001b[0m\u001b[0;34m)\u001b[0m\u001b[0;34m\u001b[0m\u001b[0;34m\u001b[0m\u001b[0m\n\u001b[0m\u001b[1;32m     83\u001b[0m \u001b[0;34m\u001b[0m\u001b[0m\n\u001b[1;32m     84\u001b[0m         self.sampling_strategy_ = check_sampling_strategy(\n",
            "\u001b[0;32m/usr/local/lib/python3.10/dist-packages/imblearn/base.py\u001b[0m in \u001b[0;36m_check_X_y\u001b[0;34m(self, X, y, accept_sparse)\u001b[0m\n\u001b[1;32m    154\u001b[0m             \u001b[0maccept_sparse\u001b[0m \u001b[0;34m=\u001b[0m \u001b[0;34m[\u001b[0m\u001b[0;34m\"csr\"\u001b[0m\u001b[0;34m,\u001b[0m \u001b[0;34m\"csc\"\u001b[0m\u001b[0;34m]\u001b[0m\u001b[0;34m\u001b[0m\u001b[0;34m\u001b[0m\u001b[0m\n\u001b[1;32m    155\u001b[0m         \u001b[0my\u001b[0m\u001b[0;34m,\u001b[0m \u001b[0mbinarize_y\u001b[0m \u001b[0;34m=\u001b[0m \u001b[0mcheck_target_type\u001b[0m\u001b[0;34m(\u001b[0m\u001b[0my\u001b[0m\u001b[0;34m,\u001b[0m \u001b[0mindicate_one_vs_all\u001b[0m\u001b[0;34m=\u001b[0m\u001b[0;32mTrue\u001b[0m\u001b[0;34m)\u001b[0m\u001b[0;34m\u001b[0m\u001b[0;34m\u001b[0m\u001b[0m\n\u001b[0;32m--> 156\u001b[0;31m         \u001b[0mX\u001b[0m\u001b[0;34m,\u001b[0m \u001b[0my\u001b[0m \u001b[0;34m=\u001b[0m \u001b[0mself\u001b[0m\u001b[0;34m.\u001b[0m\u001b[0m_validate_data\u001b[0m\u001b[0;34m(\u001b[0m\u001b[0mX\u001b[0m\u001b[0;34m,\u001b[0m \u001b[0my\u001b[0m\u001b[0;34m,\u001b[0m \u001b[0mreset\u001b[0m\u001b[0;34m=\u001b[0m\u001b[0;32mTrue\u001b[0m\u001b[0;34m,\u001b[0m \u001b[0maccept_sparse\u001b[0m\u001b[0;34m=\u001b[0m\u001b[0maccept_sparse\u001b[0m\u001b[0;34m)\u001b[0m\u001b[0;34m\u001b[0m\u001b[0;34m\u001b[0m\u001b[0m\n\u001b[0m\u001b[1;32m    157\u001b[0m         \u001b[0;32mreturn\u001b[0m \u001b[0mX\u001b[0m\u001b[0;34m,\u001b[0m \u001b[0my\u001b[0m\u001b[0;34m,\u001b[0m \u001b[0mbinarize_y\u001b[0m\u001b[0;34m\u001b[0m\u001b[0;34m\u001b[0m\u001b[0m\n\u001b[1;32m    158\u001b[0m \u001b[0;34m\u001b[0m\u001b[0m\n",
            "\u001b[0;32m/usr/local/lib/python3.10/dist-packages/sklearn/base.py\u001b[0m in \u001b[0;36m_validate_data\u001b[0;34m(self, X, y, reset, validate_separately, **check_params)\u001b[0m\n\u001b[1;32m    582\u001b[0m                 \u001b[0my\u001b[0m \u001b[0;34m=\u001b[0m \u001b[0mcheck_array\u001b[0m\u001b[0;34m(\u001b[0m\u001b[0my\u001b[0m\u001b[0;34m,\u001b[0m \u001b[0minput_name\u001b[0m\u001b[0;34m=\u001b[0m\u001b[0;34m\"y\"\u001b[0m\u001b[0;34m,\u001b[0m \u001b[0;34m**\u001b[0m\u001b[0mcheck_y_params\u001b[0m\u001b[0;34m)\u001b[0m\u001b[0;34m\u001b[0m\u001b[0;34m\u001b[0m\u001b[0m\n\u001b[1;32m    583\u001b[0m             \u001b[0;32melse\u001b[0m\u001b[0;34m:\u001b[0m\u001b[0;34m\u001b[0m\u001b[0;34m\u001b[0m\u001b[0m\n\u001b[0;32m--> 584\u001b[0;31m                 \u001b[0mX\u001b[0m\u001b[0;34m,\u001b[0m \u001b[0my\u001b[0m \u001b[0;34m=\u001b[0m \u001b[0mcheck_X_y\u001b[0m\u001b[0;34m(\u001b[0m\u001b[0mX\u001b[0m\u001b[0;34m,\u001b[0m \u001b[0my\u001b[0m\u001b[0;34m,\u001b[0m \u001b[0;34m**\u001b[0m\u001b[0mcheck_params\u001b[0m\u001b[0;34m)\u001b[0m\u001b[0;34m\u001b[0m\u001b[0;34m\u001b[0m\u001b[0m\n\u001b[0m\u001b[1;32m    585\u001b[0m             \u001b[0mout\u001b[0m \u001b[0;34m=\u001b[0m \u001b[0mX\u001b[0m\u001b[0;34m,\u001b[0m \u001b[0my\u001b[0m\u001b[0;34m\u001b[0m\u001b[0;34m\u001b[0m\u001b[0m\n\u001b[1;32m    586\u001b[0m \u001b[0;34m\u001b[0m\u001b[0m\n",
            "\u001b[0;32m/usr/local/lib/python3.10/dist-packages/sklearn/utils/validation.py\u001b[0m in \u001b[0;36mcheck_X_y\u001b[0;34m(X, y, accept_sparse, accept_large_sparse, dtype, order, copy, force_all_finite, ensure_2d, allow_nd, multi_output, ensure_min_samples, ensure_min_features, y_numeric, estimator)\u001b[0m\n\u001b[1;32m   1122\u001b[0m     \u001b[0my\u001b[0m \u001b[0;34m=\u001b[0m \u001b[0m_check_y\u001b[0m\u001b[0;34m(\u001b[0m\u001b[0my\u001b[0m\u001b[0;34m,\u001b[0m \u001b[0mmulti_output\u001b[0m\u001b[0;34m=\u001b[0m\u001b[0mmulti_output\u001b[0m\u001b[0;34m,\u001b[0m \u001b[0my_numeric\u001b[0m\u001b[0;34m=\u001b[0m\u001b[0my_numeric\u001b[0m\u001b[0;34m,\u001b[0m \u001b[0mestimator\u001b[0m\u001b[0;34m=\u001b[0m\u001b[0mestimator\u001b[0m\u001b[0;34m)\u001b[0m\u001b[0;34m\u001b[0m\u001b[0;34m\u001b[0m\u001b[0m\n\u001b[1;32m   1123\u001b[0m \u001b[0;34m\u001b[0m\u001b[0m\n\u001b[0;32m-> 1124\u001b[0;31m     \u001b[0mcheck_consistent_length\u001b[0m\u001b[0;34m(\u001b[0m\u001b[0mX\u001b[0m\u001b[0;34m,\u001b[0m \u001b[0my\u001b[0m\u001b[0;34m)\u001b[0m\u001b[0;34m\u001b[0m\u001b[0;34m\u001b[0m\u001b[0m\n\u001b[0m\u001b[1;32m   1125\u001b[0m \u001b[0;34m\u001b[0m\u001b[0m\n\u001b[1;32m   1126\u001b[0m     \u001b[0;32mreturn\u001b[0m \u001b[0mX\u001b[0m\u001b[0;34m,\u001b[0m \u001b[0my\u001b[0m\u001b[0;34m\u001b[0m\u001b[0;34m\u001b[0m\u001b[0m\n",
            "\u001b[0;32m/usr/local/lib/python3.10/dist-packages/sklearn/utils/validation.py\u001b[0m in \u001b[0;36mcheck_consistent_length\u001b[0;34m(*arrays)\u001b[0m\n\u001b[1;32m    395\u001b[0m     \u001b[0muniques\u001b[0m \u001b[0;34m=\u001b[0m \u001b[0mnp\u001b[0m\u001b[0;34m.\u001b[0m\u001b[0munique\u001b[0m\u001b[0;34m(\u001b[0m\u001b[0mlengths\u001b[0m\u001b[0;34m)\u001b[0m\u001b[0;34m\u001b[0m\u001b[0;34m\u001b[0m\u001b[0m\n\u001b[1;32m    396\u001b[0m     \u001b[0;32mif\u001b[0m \u001b[0mlen\u001b[0m\u001b[0;34m(\u001b[0m\u001b[0muniques\u001b[0m\u001b[0;34m)\u001b[0m \u001b[0;34m>\u001b[0m \u001b[0;36m1\u001b[0m\u001b[0;34m:\u001b[0m\u001b[0;34m\u001b[0m\u001b[0;34m\u001b[0m\u001b[0m\n\u001b[0;32m--> 397\u001b[0;31m         raise ValueError(\n\u001b[0m\u001b[1;32m    398\u001b[0m             \u001b[0;34m\"Found input variables with inconsistent numbers of samples: %r\"\u001b[0m\u001b[0;34m\u001b[0m\u001b[0;34m\u001b[0m\u001b[0m\n\u001b[1;32m    399\u001b[0m             \u001b[0;34m%\u001b[0m \u001b[0;34m[\u001b[0m\u001b[0mint\u001b[0m\u001b[0;34m(\u001b[0m\u001b[0ml\u001b[0m\u001b[0;34m)\u001b[0m \u001b[0;32mfor\u001b[0m \u001b[0ml\u001b[0m \u001b[0;32min\u001b[0m \u001b[0mlengths\u001b[0m\u001b[0;34m]\u001b[0m\u001b[0;34m\u001b[0m\u001b[0;34m\u001b[0m\u001b[0m\n",
            "\u001b[0;31mValueError\u001b[0m: Found input variables with inconsistent numbers of samples: [8124, 9487]"
          ]
        }
      ],
      "source": [
        "#Balanciamento das classes ultilizando a biblioteca smote\n",
        "smote = SMOTE()\n",
        "X_resampled, y_resampled = smote.fit_resample(previsores, classe)\n",
        "\n",
        "previsores = pd.DataFrame(X_resampled)\n",
        "classe = pd.DataFrame(y_resampled)"
      ]
    },
    {
      "cell_type": "code",
      "execution_count": null,
      "metadata": {
        "id": "U3UQu7ZfoAQW"
      },
      "outputs": [],
      "source": [
        "#Divisão treinamento e teste\n",
        "previsores_treinamento, previsores_teste, classe_treinamento, classe_teste = train_test_split(previsores,classe, test_size = 0.25)"
      ]
    },
    {
      "cell_type": "code",
      "execution_count": null,
      "metadata": {
        "id": "Ydm24A5Zob4D"
      },
      "outputs": [],
      "source": [
        "#Criação e treinamento da Rede Neural\n",
        "\n",
        "classificador = Sequential()\n",
        "\n",
        "classificador.add(Dense(units = 26, activation = \"relu\",\n",
        "                        kernel_initializer = 'random_uniform', input_dim = 50))\n",
        "\n",
        "classificador.add(Dense(units = 1, activation = 'sigmoid'))\n",
        "\n",
        "\n",
        "classificador.compile(optimizer = 'adam', loss = 'binary_crossentropy',\n",
        "                      metrics = ['accuracy'])\n",
        "\n",
        "classificador.fit(previsores_treinamento, classe_treinamento,\n",
        "                  batch_size = 1000, epochs = 30)"
      ]
    },
    {
      "cell_type": "code",
      "execution_count": null,
      "metadata": {
        "id": "sAQqYvnbomu1"
      },
      "outputs": [],
      "source": [
        "# Teste de performance do modelo\n",
        "\n",
        "previsoes = classificador.predict(previsores_teste)\n",
        "previsoes = (previsoes> 0.5)\n",
        "\n",
        "\n",
        "precisao = accuracy_score(classe_teste, previsoes)\n",
        "matriz = confusion_matrix(classe_teste, previsoes)\n",
        "\n",
        "\n",
        "resultado = classificador.evaluate(previsores_teste, classe_teste)"
      ]
    }
  ],
  "metadata": {
    "colab": {
      "collapsed_sections": [
        "xas-NjmpBZVq",
        "8JnP2qFcBPuH",
        "rHbPMmMO-2KA",
        "Lqdjt7Sy-7Bf",
        "h4Ykd1VX_oNW",
        "ROTgYolWEQuh",
        "4wmnDZD5FlT_",
        "FgDJv2N-yPyx",
        "cacmvj7kMIpZ",
        "NwbhwwR1BEpo",
        "5tAPjt6tqQgv",
        "6eiF27pNmMSB",
        "U8jE70wJYvp3"
      ],
      "provenance": []
    },
    "kernelspec": {
      "display_name": "Python 3",
      "language": "python",
      "name": "python3"
    },
    "language_info": {
      "codemirror_mode": {
        "name": "ipython",
        "version": 3
      },
      "file_extension": ".py",
      "mimetype": "text/x-python",
      "name": "python",
      "nbconvert_exporter": "python",
      "pygments_lexer": "ipython3",
      "version": "3.11.3"
    }
  },
  "nbformat": 4,
  "nbformat_minor": 0
}