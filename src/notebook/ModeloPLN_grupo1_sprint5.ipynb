{
  "cells": [
    {
      "attachments": {},
      "cell_type": "markdown",
      "metadata": {
        "id": "1QcvfDZJbba4"
      },
      "source": [
        "# Processamento de linguagem natural e modelo de análise de sentimento."
      ]
    },
    {
      "attachments": {},
      "cell_type": "markdown",
      "metadata": {
        "id": "KNUwxSCZATI5"
      },
      "source": [
        "A fim de que seja possível comparar os tópicos abaixo descritos com os itens explicitados pelo barema, encontra-se, nessa célula, um índice comparativo entre ambas partes. Ele foi feito para facilitar a correção dos professores e permitir a existência de uma autonomia na nomenclatura das células de organização.\n",
        "- Instalação -> tópico 1.0\n",
        "- Testes isolados - >  tópico 3.8\n",
        "- Definição de funções -> tópico 3.1 a 3.7\n",
        "- Testes das funções -> tópico 4.3\n",
        "- Análise descritiva -> tópico 2.0\n",
        "- Pré processamento -> tópico 3.0\n",
        "- Pipeline -> tópico 4.3\n",
        "- Modelo Bag of words -> tópico 4.0\n"
      ]
    },
    {
      "attachments": {},
      "cell_type": "markdown",
      "metadata": {
        "id": "F0pr4J2Ibba9"
      },
      "source": [
        "## 1.0 Instalação"
      ]
    },
    {
      "attachments": {},
      "cell_type": "markdown",
      "metadata": {
        "id": "3fk1FJ8KGVdz"
      },
      "source": [
        "Nessa parte do notebook realiza-se a instalação das bibliotecas que serão utilizadas no decorrer do código, bem como a importação da base de dados que baseia todas as posteriores análises."
      ]
    },
    {
      "attachments": {},
      "cell_type": "markdown",
      "metadata": {
        "id": "KN9FmiYRbba-"
      },
      "source": [
        "### 1.1 Importação das bibliotecas"
      ]
    },
    {
      "cell_type": "code",
      "execution_count": null,
      "metadata": {
        "colab": {
          "base_uri": "https://localhost:8080/"
        },
        "id": "y_qupiGsIwlC",
        "outputId": "7f806164-aede-4e76-945f-b48d7b67b7fd"
      },
      "outputs": [
        {
          "name": "stdout",
          "output_type": "stream",
          "text": [
            "Looking in indexes: https://pypi.org/simple, https://us-python.pkg.dev/colab-wheels/public/simple/\n",
            "Collecting unidecode\n",
            "  Downloading Unidecode-1.3.6-py3-none-any.whl (235 kB)\n",
            "\u001b[2K     \u001b[90m━━━━━━━━━━━━━━━━━━━━━━━━━━━━━━━━━━━━━━━\u001b[0m \u001b[32m235.9/235.9 kB\u001b[0m \u001b[31m5.2 MB/s\u001b[0m eta \u001b[36m0:00:00\u001b[0m\n",
            "\u001b[?25hInstalling collected packages: unidecode\n",
            "Successfully installed unidecode-1.3.6\n",
            "Looking in indexes: https://pypi.org/simple, https://us-python.pkg.dev/colab-wheels/public/simple/\n",
            "Collecting emoji\n",
            "  Downloading emoji-2.5.0.tar.gz (355 kB)\n",
            "\u001b[2K     \u001b[90m━━━━━━━━━━━━━━━━━━━━━━━━━━━━━━━━━━━━━━━\u001b[0m \u001b[32m355.8/355.8 kB\u001b[0m \u001b[31m5.7 MB/s\u001b[0m eta \u001b[36m0:00:00\u001b[0m\n",
            "\u001b[?25h  Preparing metadata (setup.py) ... \u001b[?25l\u001b[?25hdone\n",
            "Building wheels for collected packages: emoji\n",
            "  Building wheel for emoji (setup.py) ... \u001b[?25l\u001b[?25hdone\n",
            "  Created wheel for emoji: filename=emoji-2.5.0-py2.py3-none-any.whl size=351211 sha256=f79911fb05bb4e68801ff3d7c6eaffc846f36bd011a2246a6e9ff2a45eb3a4fa\n",
            "  Stored in directory: /root/.cache/pip/wheels/2a/0c/2c/07b5af72b120503fe24590691d24c462a25e5e530db8700a96\n",
            "Successfully built emoji\n",
            "Installing collected packages: emoji\n",
            "Successfully installed emoji-2.5.0\n",
            "Looking in indexes: https://pypi.org/simple, https://us-python.pkg.dev/colab-wheels/public/simple/\n",
            "Requirement already satisfied: spacy in /usr/local/lib/python3.10/dist-packages (3.5.2)\n",
            "Collecting spacy\n",
            "  Downloading spacy-3.5.3-cp310-cp310-manylinux_2_17_x86_64.manylinux2014_x86_64.whl (6.6 MB)\n",
            "\u001b[2K     \u001b[90m━━━━━━━━━━━━━━━━━━━━━━━━━━━━━━━━━━━━━━━━\u001b[0m \u001b[32m6.6/6.6 MB\u001b[0m \u001b[31m23.3 MB/s\u001b[0m eta \u001b[36m0:00:00\u001b[0m\n",
            "\u001b[?25hRequirement already satisfied: spacy-legacy<3.1.0,>=3.0.11 in /usr/local/lib/python3.10/dist-packages (from spacy) (3.0.12)\n",
            "Requirement already satisfied: spacy-loggers<2.0.0,>=1.0.0 in /usr/local/lib/python3.10/dist-packages (from spacy) (1.0.4)\n",
            "Requirement already satisfied: murmurhash<1.1.0,>=0.28.0 in /usr/local/lib/python3.10/dist-packages (from spacy) (1.0.9)\n",
            "Requirement already satisfied: cymem<2.1.0,>=2.0.2 in /usr/local/lib/python3.10/dist-packages (from spacy) (2.0.7)\n",
            "Requirement already satisfied: preshed<3.1.0,>=3.0.2 in /usr/local/lib/python3.10/dist-packages (from spacy) (3.0.8)\n",
            "Requirement already satisfied: thinc<8.2.0,>=8.1.8 in /usr/local/lib/python3.10/dist-packages (from spacy) (8.1.9)\n",
            "Requirement already satisfied: wasabi<1.2.0,>=0.9.1 in /usr/local/lib/python3.10/dist-packages (from spacy) (1.1.1)\n",
            "Requirement already satisfied: srsly<3.0.0,>=2.4.3 in /usr/local/lib/python3.10/dist-packages (from spacy) (2.4.6)\n",
            "Requirement already satisfied: catalogue<2.1.0,>=2.0.6 in /usr/local/lib/python3.10/dist-packages (from spacy) (2.0.8)\n",
            "Requirement already satisfied: typer<0.8.0,>=0.3.0 in /usr/local/lib/python3.10/dist-packages (from spacy) (0.7.0)\n",
            "Requirement already satisfied: pathy>=0.10.0 in /usr/local/lib/python3.10/dist-packages (from spacy) (0.10.1)\n",
            "Requirement already satisfied: smart-open<7.0.0,>=5.2.1 in /usr/local/lib/python3.10/dist-packages (from spacy) (6.3.0)\n",
            "Requirement already satisfied: tqdm<5.0.0,>=4.38.0 in /usr/local/lib/python3.10/dist-packages (from spacy) (4.65.0)\n",
            "Requirement already satisfied: numpy>=1.15.0 in /usr/local/lib/python3.10/dist-packages (from spacy) (1.22.4)\n",
            "Requirement already satisfied: requests<3.0.0,>=2.13.0 in /usr/local/lib/python3.10/dist-packages (from spacy) (2.27.1)\n",
            "Requirement already satisfied: pydantic!=1.8,!=1.8.1,<1.11.0,>=1.7.4 in /usr/local/lib/python3.10/dist-packages (from spacy) (1.10.7)\n",
            "Requirement already satisfied: jinja2 in /usr/local/lib/python3.10/dist-packages (from spacy) (3.1.2)\n",
            "Requirement already satisfied: setuptools in /usr/local/lib/python3.10/dist-packages (from spacy) (67.7.2)\n",
            "Requirement already satisfied: packaging>=20.0 in /usr/local/lib/python3.10/dist-packages (from spacy) (23.1)\n",
            "Requirement already satisfied: langcodes<4.0.0,>=3.2.0 in /usr/local/lib/python3.10/dist-packages (from spacy) (3.3.0)\n",
            "Requirement already satisfied: typing-extensions>=4.2.0 in /usr/local/lib/python3.10/dist-packages (from pydantic!=1.8,!=1.8.1,<1.11.0,>=1.7.4->spacy) (4.5.0)\n",
            "Requirement already satisfied: urllib3<1.27,>=1.21.1 in /usr/local/lib/python3.10/dist-packages (from requests<3.0.0,>=2.13.0->spacy) (1.26.15)\n",
            "Requirement already satisfied: certifi>=2017.4.17 in /usr/local/lib/python3.10/dist-packages (from requests<3.0.0,>=2.13.0->spacy) (2022.12.7)\n",
            "Requirement already satisfied: charset-normalizer~=2.0.0 in /usr/local/lib/python3.10/dist-packages (from requests<3.0.0,>=2.13.0->spacy) (2.0.12)\n",
            "Requirement already satisfied: idna<4,>=2.5 in /usr/local/lib/python3.10/dist-packages (from requests<3.0.0,>=2.13.0->spacy) (3.4)\n",
            "Requirement already satisfied: blis<0.8.0,>=0.7.8 in /usr/local/lib/python3.10/dist-packages (from thinc<8.2.0,>=8.1.8->spacy) (0.7.9)\n",
            "Requirement already satisfied: confection<1.0.0,>=0.0.1 in /usr/local/lib/python3.10/dist-packages (from thinc<8.2.0,>=8.1.8->spacy) (0.0.4)\n",
            "Requirement already satisfied: click<9.0.0,>=7.1.1 in /usr/local/lib/python3.10/dist-packages (from typer<0.8.0,>=0.3.0->spacy) (8.1.3)\n",
            "Requirement already satisfied: MarkupSafe>=2.0 in /usr/local/lib/python3.10/dist-packages (from jinja2->spacy) (2.1.2)\n",
            "Installing collected packages: spacy\n",
            "  Attempting uninstall: spacy\n",
            "    Found existing installation: spacy 3.5.2\n",
            "    Uninstalling spacy-3.5.2:\n",
            "      Successfully uninstalled spacy-3.5.2\n",
            "Successfully installed spacy-3.5.3\n"
          ]
        }
      ],
      "source": [
        "# instalação de pacotes para remoção de acentos\n",
        "!pip install unidecode\n",
        "# Instalando biblioteca Python \"emoji\"\n",
        "!pip install emoji\n",
        "# Instalação de biblioteca para remoção de stop words\n",
        "!pip install -U spacy"
      ]
    },
    {
      "cell_type": "code",
      "execution_count": null,
      "metadata": {
        "colab": {
          "base_uri": "https://localhost:8080/"
        },
        "id": "L_lWGKttbba_",
        "outputId": "217edfd2-d92a-427d-9182-877499d1b49d"
      },
      "outputs": [
        {
          "name": "stderr",
          "output_type": "stream",
          "text": [
            "[nltk_data] Downloading package punkt to /root/nltk_data...\n",
            "[nltk_data]   Unzipping tokenizers/punkt.zip.\n"
          ]
        },
        {
          "name": "stdout",
          "output_type": "stream",
          "text": [
            "\u001b[38;5;2m✔ Download and installation successful\u001b[0m\n",
            "You can now load the package via spacy.load('pt_core_news_sm')\n"
          ]
        }
      ],
      "source": [
        "#importação das bibliotecas:\n",
        "import pandas as pd\n",
        "import numpy as np\n",
        "# bibliotecas utilizadas para tokenização\n",
        "from nltk.tokenize import word_tokenize\n",
        "from nltk.tokenize import sent_tokenize\n",
        "#biblioteca para tokenização\n",
        "from keras.preprocessing.text import Tokenizer\n",
        "# bibliotecas utilizadas para remoção de stop words\n",
        "import nltk\n",
        "nltk.download('punkt')\n",
        "#importação das bibliotecas para remoção de Stop Words\n",
        "import spacy\n",
        "nlp = spacy.cli.download('pt_core_news_sm')\n",
        "nlp = spacy.load('pt_core_news_sm')\n",
        "# bibliotecas para remoção de acentos\n",
        "from unidecode import unidecode\n",
        "# bibliotecas utilizadas para o tratamento de abreviações\n",
        "import re\n",
        "# Instalando biblioteca Python \"emoji\"\n",
        "import emoji\n",
        "# importação de biblioteca para exportação do modelo\n",
        "import pickle\n",
        "# importação de biblioteca para separar treino e teste\n",
        "from sklearn.model_selection import train_test_split\n",
        "# importação do naive Bayes\n",
        "from sklearn.naive_bayes import GaussianNB\n",
        "# Importação de bibliotecas para revocação\n",
        "from sklearn.metrics import recall_score\n",
        "# importação de bilbioteca para matriz de confusão\n",
        "from sklearn.metrics import confusion_matrix\n",
        "from sklearn.metrics import classification_report\n",
        "# importação de biblioteca para Word2Vec Skipgram\n",
        "import gensim\n",
        "from scipy.spatial.distance import cosine\n",
        "from gensim.models import KeyedVectors"
      ]
    },
    {
      "attachments": {},
      "cell_type": "markdown",
      "metadata": {
        "id": "44S5uXPbbbbE"
      },
      "source": [
        "### 1.2 Criação da tabela"
      ]
    },
    {
      "cell_type": "code",
      "execution_count": null,
      "metadata": {
        "colab": {
          "base_uri": "https://localhost:8080/"
        },
        "id": "ys0GfKh-SGck",
        "outputId": "17fb0ab9-13e7-4607-d153-92234732b98a"
      },
      "outputs": [
        {
          "name": "stdout",
          "output_type": "stream",
          "text": [
            "Mounted at /content/drive\n"
          ]
        }
      ],
      "source": [
        "#Conexão com o drive\n",
        "from google.colab import drive\n",
        "drive.mount('/content/drive')\n",
        "#importação da base de dados:\n",
        "df = pd.read_excel('/content/drive/MyDrive/Modulo_6_grupo_1/2-base_10052023-G1.xlsx')\n",
        "novas_colunas = {\n",
        "    '\"dataPublicada\"': 'dataPublicada',\n",
        "    '\"autor\"': 'autor',\n",
        "    '\"texto\"': 'texto',\n",
        "    '\"sentimento\"': 'targetSentimento',\n",
        "    '\"tipoInteracao\"': 'tipoInteracao',\n",
        "    '\"anomalia\"': 'anomalia',\n",
        "    '\"probabilidadeAnomalia\"': 'probabilidadeAnomalia',\n",
        "    '\"linkPost\"': 'linkPost',\n",
        "    '\"processado\"': 'processado',\n",
        "    '\"contemHyperlink\"': 'contemHyperlink'\n",
        "}\n",
        "\n",
        "# Renomear as colunas\n",
        "df = df.rename(columns=novas_colunas)\n",
        "# Remover linhas sem a coluna \"texto\"\n",
        "df = df.dropna(subset=['texto'])\n",
        "# Filtrar as linhas com base em diferentes condições\n",
        "df = df[(df['anomalia'] != 1) & (df['autor'] != 'btgpactual') & (df['contemHyperlink'] != 1) & (df['probabilidadeAnomalia'] <= 50)]\n",
        "# Redefinir o índice\n",
        "df = df.reset_index(drop=True)"
      ]
    },
    {
      "attachments": {},
      "cell_type": "markdown",
      "metadata": {
        "id": "_b6_Ys8tr-e9"
      },
      "source": [
        "##### Balanceamento dos dados com undersampling"
      ]
    },
    {
      "cell_type": "code",
      "execution_count": null,
      "metadata": {
        "id": "EWix4gN_r97l"
      },
      "outputs": [],
      "source": [
        "# # Separa os elementos das classes POSITIVE, NEUTRAL e NEGATIVE em três tabelas\n",
        "# df_classe1 = df.loc[df['sentimento'] == \"POSITIVE\"]\n",
        "# df_classe2 = df.loc[df['sentimento'] == \"NEUTRAL\"]\n",
        "# df_classe3 = df.loc[df['sentimento'] == \"NEGATIVE\"]\n",
        "\n",
        "# # Mantém 988 elementos nas tabelas df_classe1 e df_classe2\n",
        "# df_classe1 = df_classe1.sample(n=988, random_state=42)\n",
        "# df_classe2 = df_classe2.sample(n=988, random_state=42)\n",
        "\n",
        "# # Concatena as três tabelas em uma tabela df1\n",
        "# df1 = pd.concat([df_classe1, df_classe2, df_classe3], ignore_index=True)"
      ]
    },
    {
      "cell_type": "code",
      "execution_count": null,
      "metadata": {
        "id": "wgDD_qIksGGN"
      },
      "outputs": [],
      "source": [
        "# # Embaralha as linhas da tabela na variável df\n",
        "# df = df1.sample(frac=1).reset_index(drop=True)\n",
        "\n",
        "# # Exibe a tabela resultante\n",
        "# df['sentimento']"
      ]
    },
    {
      "attachments": {},
      "cell_type": "markdown",
      "metadata": {
        "id": "FgDJv2N-yPyx"
      },
      "source": [
        "## 2.0 Análise descritiva dos dados"
      ]
    },
    {
      "attachments": {},
      "cell_type": "markdown",
      "metadata": {
        "id": "DHxZ5iqRVqU_"
      },
      "source": [
        "A Análise Descritiva dos Dados é uma técnica importante para obter insights e compreender as características dos dados sem a utilização de modelos estatísticos complexos."
      ]
    },
    {
      "attachments": {},
      "cell_type": "markdown",
      "metadata": {
        "id": "cH7iMudF-wSx"
      },
      "source": [
        "Todas as células componentes dessa parte do notebook se encontram comentadas devido à economia de espaço de processamento e aceleração do tempo de espera da computação de todas as células."
      ]
    },
    {
      "attachments": {},
      "cell_type": "markdown",
      "metadata": {
        "id": "SupkDR7xyUgH"
      },
      "source": [
        "### 2.1 Colunas"
      ]
    },
    {
      "attachments": {},
      "cell_type": "markdown",
      "metadata": {
        "id": "el6GfLMHFLNN"
      },
      "source": [
        "Célula que permite a visualização de todas as colunas do dataframe:"
      ]
    },
    {
      "cell_type": "code",
      "execution_count": null,
      "metadata": {
        "id": "oNXBE2FPFAxZ"
      },
      "outputs": [],
      "source": [
        "# df.columns"
      ]
    },
    {
      "attachments": {},
      "cell_type": "markdown",
      "metadata": {
        "id": "l8aR8v5uT7Q2"
      },
      "source": [
        "\n",
        "1. **Coluna Id:** A coluna id apresenta o index para visualização da planilha e pode ser usada como chave primária do comentário. No que diz respeito à utilização no modelo, essa coluna não confere relevância para a sua construção, visto que sua utilidade está atrelada apenas ao fato de garantir que cada linha possua um identificador único. Portanto, *essa coluna não será utilizada.*\n",
        "\n",
        "2. **Coluna dataPublicada:** A coluna data publicada refere-se a data de publicação do comentário. Para a construção do modelo **bag of words**, essa coluna não apresenta relevância, portanto, *não será utilizada*. Posteriormente, sua utilização pode se fazer necessária para a averiguação dos períodos das campanhas.\n",
        "\n",
        "3. **Coluna autor:** A coluna autor é referente à conta do instagram que realizou o comentário na postagem. Essa coluna não será utilizada diretamente pelo modelo bag of words, mas será importante para o agrupamento de comentários referente à empresa BTG.\n",
        "\n",
        "4. **Coluna texto:** A coluna texto se refere ao texto presente no comentário realizado. Para a construção do modelo, essa é a coluna com maior relevância, visto que são justamente os conteúdos dos comentários que precisam ser analisados pelo modelo.\n",
        "\n",
        "5. **Coluna sentimento:** A coluna sentimento é, justamente, o target da classificação que precisamos fazer dos dados. Essa coluna será utilizada para o treinamento posterior do modelo, visto que apresenta o resultado esperado. Contudo, diante de uma análise manual das classificações, foi possível perceber que alguns comentários foram classificados de maneira errônea, dado que possuem um teor positivo mas foram classificados como negativos ou neutros.\n",
        "\n",
        "6. **Coluna tipoInteracao:** A coluna tipo interação informa o tipo de interação a qual aquele comentário pertence, como, por exemplo, uma resposta ou como marcação. Essa coluna, inicialmente, não será utilizada para a construção do modelo bag of words.\n",
        "\n",
        "7. **Coluna anomalia:**  Não possuímos informações suficientes para definir qual é o significado dessa coluna. Portanto, ainda não pode-se definir se ela será utilizada ou não no decorrer do desenvolvimento do projeto. Por ora, essa coluna não será utilizada.\n",
        "\n",
        "8. **Coluna probabilidadeAnomalia:**  Não possuímos informações suficientes para definir qual é o significado dessa coluna. Portanto, ainda não pode-se definir se ela será utilizada ou não no decorrer do desenvolvimento do projeto. Por ora, essa coluna não será utilizada.\n",
        "\n",
        "9. **Coluna linkPost:** Essa coluna possui o link referente a postagem da qual foram retirados os comentários. Todos os comentários referentes à mesma postagem possuem o link igual. Pensando na análise de sentimento, essa coluna não apresenta relevância, portanto, não será utilizada.\n",
        "\n",
        "10. **Coluna processado:** Não possuímos informações suficientes para definir qual é o significado dessa coluna. Portanto, ainda não pode-se definir se ela será utilizada ou não no decorrer do desenvolvimento do projeto. Por ora, essa coluna não será utilizada.\n",
        "\n",
        "11. **Coluna contemHyperlink:** Não possuímos informações suficientes para definir qual é o significado dessa coluna. Portanto, ainda não pode-se definir se ela será utilizada ou não no decorrer do desenvolvimento do projeto. Por ora, essa coluna não será utilizada.\n",
        "\n"
      ]
    },
    {
      "attachments": {},
      "cell_type": "markdown",
      "metadata": {
        "id": "4WP0dUrKxy59"
      },
      "source": [
        "### 2.2 Funções"
      ]
    },
    {
      "attachments": {},
      "cell_type": "markdown",
      "metadata": {
        "id": "0kpt8UL4Inwb"
      },
      "source": [
        "Abaixo estão listadas todas as funções presentes nesse notebook e o que elas fazem:\n",
        "1. **remocaoAcentos:** função que remove todos os acentos presentes nos comentários da coluna texto.\n",
        "2. **tratamentoMaiusculas:** função que trata todas as letras maiúsculas dos comentários presentes na coluna texto, passando-as para caixa baixa.\n",
        "3. **conversaoEmojis:** função que converte todo emoji presente na coluna texto para seu significado em inglês.\n",
        "4. **tratamentoAbreviacoes:** função que converte todas as abreviações para seu significado real, além de remover todas as pontuações e diferentes tipos de marcações comumente utilizadas em redes sociais.\n",
        "5. **tokenizacaoPalavra:** função que tokeniza em palavras os comentários, separando cada uma delas do todo.\n",
        "6. **tokenizacaoFrase:** função que tokeniza em frases os comentários, separando cada uma das frases, sejam elas do mesmo comentário ou de comentários diferentes.\n",
        "7. **remocaoStopWords:** função que remove todas as stopwords presentes nos comentários da coluna texto.\n",
        "8. **bagOfWords:** função para chamar o modelo de bag of words e salvar um vetor de recorrencia.\n",
        "9. **pipelineBow:** função que define a pipeline que será utilizada no modelo, com todos os pré-processamentos realizados e o modelo BOW aplicado para gerar um dicionário e um vetor.\n",
        "10. **contarPalavras:** função para contar quantas vezes cada palavra se repetiu no modelo bag of words.\n",
        "11. **gerarNuvemPalavras:** função para gerar uma nuvem de palavras utilizando os resultados do modelo bag of words."
      ]
    },
    {
      "attachments": {},
      "cell_type": "markdown",
      "metadata": {
        "id": "iAPutSjZIFgt"
      },
      "source": [
        "###2.3 Visualização gráfica de dados"
      ]
    },
    {
      "attachments": {},
      "cell_type": "markdown",
      "metadata": {
        "id": "EKu17TbgIPPE"
      },
      "source": [
        "#### 2.3.1 Valores nulos"
      ]
    },
    {
      "attachments": {},
      "cell_type": "markdown",
      "metadata": {
        "id": "yLt9161pHHFL"
      },
      "source": [
        "Visualização da proporção entre o número de linhas que possuem algum tipo de valor nulo e as linhas que não os possuem."
      ]
    },
    {
      "cell_type": "code",
      "execution_count": null,
      "metadata": {
        "id": "H3v_lEORGcqP"
      },
      "outputs": [],
      "source": [
        "# import pandas as pd\n",
        "# import seaborn as sns\n",
        "# import matplotlib.pyplot as plt\n",
        "\n",
        "# # visualizando todos os itens nulos\n",
        "# print(df.isnull().sum())\n",
        "\n",
        "# # criando um gráfico de barras para comparar os itens nulos e não nulos\n",
        "# sns.countplot(x=df.isnull().any(axis=1), hue=df.isnull().any(axis=1))\n",
        "# plt.title(\"Itens Nulos vs Não Nulos\")\n",
        "# plt.xlabel(\"Itens\")\n",
        "# plt.ylabel(\"Contagem\")\n",
        "# plt.legend(labels=['Itens com valores não nulos', 'Itens com valores nulos'])\n",
        "# plt.show()"
      ]
    },
    {
      "attachments": {},
      "cell_type": "markdown",
      "metadata": {
        "id": "GwarFX5gH4cs"
      },
      "source": [
        "Visualização de ítens nulos em cada uma das colunas do dataframe:"
      ]
    },
    {
      "cell_type": "code",
      "execution_count": null,
      "metadata": {
        "id": "4RtjubKaHWEV"
      },
      "outputs": [],
      "source": [
        "# # contando os valores nulos em cada coluna\n",
        "# null_counts = df.isnull().sum()\n",
        "\n",
        "# # criando um gráfico de barras para mostrar a contagem de valores nulos em cada coluna\n",
        "# sns.barplot(x=null_counts.index, y=null_counts.values)\n",
        "# plt.xticks(rotation=90) # adicionando a rotação de 90 graus nas legendas\n",
        "\n",
        "# # adicionando as etiquetas de texto no topo de cada barra\n",
        "# for i, v in enumerate(null_counts.values):\n",
        "#     plt.text(i, v+10, str(v), ha='center', fontsize=12)\n",
        "\n",
        "# # configurando os rótulos dos eixos e o título do gráfico\n",
        "# plt.xlabel(\"Colunas\")\n",
        "# plt.ylabel(\"Contagem de Valores Nulos\")\n",
        "# plt.title(\"Contagem de Valores Nulos por Coluna\")\n",
        "\n",
        "# # exibindo o gráfico\n",
        "# plt.show()"
      ]
    },
    {
      "attachments": {},
      "cell_type": "markdown",
      "metadata": {
        "id": "fv9gLorsITMn"
      },
      "source": [
        "#### 2.2.2 Agrupamento por autores"
      ]
    },
    {
      "cell_type": "code",
      "execution_count": null,
      "metadata": {
        "colab": {
          "base_uri": "https://localhost:8080/"
        },
        "id": "TEJdRv-6RMXN",
        "outputId": "a4a53b87-5042-4cb6-ecf3-61b7f59d9f73"
      },
      "outputs": [
        {
          "data": {
            "image/png": "[encoded data removed]",
            "text/plain": [
              "<Figure size 640x480 with 1 Axes>"
            ]
          },
          "metadata": {},
          "output_type": "display_data"
        }
      ],
      "source": [
        "import pandas as pd\n",
        "import matplotlib.pyplot as plt\n",
        "\n",
        "# Agrupamento dos textos por autor, excluindo o \"btg pactual\"\n",
        "textosPorAutor = df.query(\"autor != 'btgpactual'\").groupby('autor')['texto'].count().reset_index()\n",
        "\n",
        "# Ordenação dos autores por quantidade de textos\n",
        "textosPorAutor = textosPorAutor.sort_values('texto', ascending=False).reset_index(drop=True)\n",
        "\n",
        "# Seleção dos 10 autores com mais textos\n",
        "top10Autores = textosPorAutor.head(20)\n",
        "\n",
        "# Gráfico de barras com a quantidade de textos por autor\n",
        "plt.bar(top10Autores['autor'], top10Autores['texto'])\n",
        "plt.xticks(rotation=90)\n",
        "plt.xlabel('Autor')\n",
        "plt.ylabel('Quantidade de Textos')\n",
        "plt.title('Top 10 Autores com Mais Textos (exceto btgpactual)')\n",
        "plt.show()\n"
      ]
    },
    {
      "cell_type": "code",
      "execution_count": null,
      "metadata": {
        "colab": {
          "base_uri": "https://localhost:8080/"
        },
        "id": "-FllB6clJNss",
        "outputId": "d57efca6-2a12-4b6c-f010-796d583f31d0"
      },
      "outputs": [
        {
          "data": {
            "text/html": [
              "\n",
              "  <div id=\"df-04b35f02-3e82-4e62-b0a6-0b6f3ed32961\">\n",
              "    <div class=\"colab-df-container\">\n",
              "      <div>\n",
              "<style scoped>\n",
              "    .dataframe tbody tr th:only-of-type {\n",
              "        vertical-align: middle;\n",
              "    }\n",
              "\n",
              "    .dataframe tbody tr th {\n",
              "        vertical-align: top;\n",
              "    }\n",
              "\n",
              "    .dataframe thead th {\n",
              "        text-align: right;\n",
              "    }\n",
              "</style>\n",
              "<table border=\"1\" class=\"dataframe\">\n",
              "  <thead>\n",
              "    <tr style=\"text-align: right;\">\n",
              "      <th></th>\n",
              "      <th>id</th>\n",
              "      <th>dataPublicada</th>\n",
              "      <th>autor</th>\n",
              "      <th>texto</th>\n",
              "      <th>targetSentimento</th>\n",
              "      <th>tipoInteracao</th>\n",
              "      <th>anomalia</th>\n",
              "      <th>probabilidadeAnomalia</th>\n",
              "      <th>linkPost</th>\n",
              "      <th>processado</th>\n",
              "      <th>contemHyperlink</th>\n",
              "    </tr>\n",
              "  </thead>\n",
              "  <tbody>\n",
              "    <tr>\n",
              "      <th>875</th>\n",
              "      <td>382158</td>\n",
              "      <td>\"2022-03-24 11:43:00\"</td>\n",
              "      <td>amgcapitalinvest</td>\n",
              "      <td>(link na bio) Enriquecer é uma questão de esco...</td>\n",
              "      <td>POSITIVE</td>\n",
              "      <td>marcação</td>\n",
              "      <td>0</td>\n",
              "      <td>49</td>\n",
              "      <td>https://www.instagram.com/p/CbfYbbmsaOS/</td>\n",
              "      <td>0</td>\n",
              "      <td>0</td>\n",
              "    </tr>\n",
              "    <tr>\n",
              "      <th>918</th>\n",
              "      <td>418930</td>\n",
              "      <td>\"2022-03-26 10:07:00\"</td>\n",
              "      <td>amgcapitalinvest</td>\n",
              "      <td>Hoje, a capital dos gaúchos completa 250 anos!...</td>\n",
              "      <td>POSITIVE</td>\n",
              "      <td>marcação</td>\n",
              "      <td>0</td>\n",
              "      <td>48</td>\n",
              "      <td>https://www.instagram.com/p/CbkXDKvA0Jj/</td>\n",
              "      <td>0</td>\n",
              "      <td>0</td>\n",
              "    </tr>\n",
              "    <tr>\n",
              "      <th>921</th>\n",
              "      <td>419736</td>\n",
              "      <td>\"2022-03-26 09:38:00\"</td>\n",
              "      <td>amgcapitalinvest</td>\n",
              "      <td>Evento Voz Feminina no btgpactual ❣️</td>\n",
              "      <td>NEUTRAL</td>\n",
              "      <td>marcação</td>\n",
              "      <td>0</td>\n",
              "      <td>30</td>\n",
              "      <td>https://www.instagram.com/p/CbkTu61ujFC/</td>\n",
              "      <td>0</td>\n",
              "      <td>0</td>\n",
              "    </tr>\n",
              "    <tr>\n",
              "      <th>925</th>\n",
              "      <td>438730</td>\n",
              "      <td>\"2022-03-27 11:00:00\"</td>\n",
              "      <td>amgcapitalinvest</td>\n",
              "      <td>🖥 www.amgcapital.com.br 📧 E-mail: contato@amgc...</td>\n",
              "      <td>NEUTRAL</td>\n",
              "      <td>marcação</td>\n",
              "      <td>0</td>\n",
              "      <td>44</td>\n",
              "      <td>https://www.instagram.com/p/CbnB5pRqrl6/</td>\n",
              "      <td>0</td>\n",
              "      <td>0</td>\n",
              "    </tr>\n",
              "    <tr>\n",
              "      <th>935</th>\n",
              "      <td>457530</td>\n",
              "      <td>\"2022-03-28 10:22:00\"</td>\n",
              "      <td>amgcapitalinvest</td>\n",
              "      <td>🖥 www.amgcapital.com.br 📧 E-mail: contato@amgc...</td>\n",
              "      <td>NEUTRAL</td>\n",
              "      <td>marcação</td>\n",
              "      <td>0</td>\n",
              "      <td>44</td>\n",
              "      <td>https://www.instagram.com/p/CbpiV-zhBbD/</td>\n",
              "      <td>0</td>\n",
              "      <td>0</td>\n",
              "    </tr>\n",
              "    <tr>\n",
              "      <th>995</th>\n",
              "      <td>478755</td>\n",
              "      <td>\"2022-03-29 12:58:00\"</td>\n",
              "      <td>amgcapitalinvest</td>\n",
              "      <td>A AMG Capital e o BTG Pactual se juntaram a um...</td>\n",
              "      <td>POSITIVE</td>\n",
              "      <td>marcação</td>\n",
              "      <td>0</td>\n",
              "      <td>27</td>\n",
              "      <td>https://www.instagram.com/tv/CbsY8bhKHAD/</td>\n",
              "      <td>0</td>\n",
              "      <td>0</td>\n",
              "    </tr>\n",
              "    <tr>\n",
              "      <th>1020</th>\n",
              "      <td>497404</td>\n",
              "      <td>\"2022-03-30 12:22:00\"</td>\n",
              "      <td>amgcapitalinvest</td>\n",
              "      <td>(link na bio) Ao fazer investimentos, você não...</td>\n",
              "      <td>POSITIVE</td>\n",
              "      <td>marcação</td>\n",
              "      <td>0</td>\n",
              "      <td>43</td>\n",
              "      <td>https://www.instagram.com/p/Cbu5pMEKxj6/</td>\n",
              "      <td>0</td>\n",
              "      <td>0</td>\n",
              "    </tr>\n",
              "    <tr>\n",
              "      <th>1081</th>\n",
              "      <td>516231</td>\n",
              "      <td>\"2022-03-31 12:24:00\"</td>\n",
              "      <td>amgcapitalinvest</td>\n",
              "      <td>Já atualizou o seu app BTG Trader? A nova vers...</td>\n",
              "      <td>POSITIVE</td>\n",
              "      <td>marcação</td>\n",
              "      <td>0</td>\n",
              "      <td>40</td>\n",
              "      <td>https://www.instagram.com/tv/CbxeqlbMSYz/</td>\n",
              "      <td>0</td>\n",
              "      <td>0</td>\n",
              "    </tr>\n",
              "    <tr>\n",
              "      <th>1131</th>\n",
              "      <td>548030</td>\n",
              "      <td>\"2022-04-02 12:12:00\"</td>\n",
              "      <td>amgcapitalinvest</td>\n",
              "      <td>Carteiras recomendadas de Abril no ar 📈  Arras...</td>\n",
              "      <td>NEUTRAL</td>\n",
              "      <td>marcação</td>\n",
              "      <td>0</td>\n",
              "      <td>33</td>\n",
              "      <td>https://www.instagram.com/p/Cb2m4YYJzUq/</td>\n",
              "      <td>0</td>\n",
              "      <td>0</td>\n",
              "    </tr>\n",
              "    <tr>\n",
              "      <th>1184</th>\n",
              "      <td>586434</td>\n",
              "      <td>\"2022-04-04 12:45:00\"</td>\n",
              "      <td>amgcapitalinvest</td>\n",
              "      <td>(link na bio) Ao fazer investimentos, você não...</td>\n",
              "      <td>POSITIVE</td>\n",
              "      <td>marcação</td>\n",
              "      <td>0</td>\n",
              "      <td>34</td>\n",
              "      <td>https://www.instagram.com/p/Cb70WBuv4We/</td>\n",
              "      <td>0</td>\n",
              "      <td>0</td>\n",
              "    </tr>\n",
              "  </tbody>\n",
              "</table>\n",
              "</div>\n",
              "      <button class=\"colab-df-convert\" onclick=\"convertToInteractive('df-04b35f02-3e82-4e62-b0a6-0b6f3ed32961')\"\n",
              "              title=\"Convert this dataframe to an interactive table.\"\n",
              "              style=\"display:none;\">\n",
              "        \n",
              "  <svg xmlns=\"http://www.w3.org/2000/svg\" height=\"24px\"viewBox=\"0 0 24 24\"\n",
              "       width=\"24px\">\n",
              "    <path d=\"M0 0h24v24H0V0z\" fill=\"none\"/>\n",
              "    <path d=\"M18.56 5.44l.94 2.06.94-2.06 2.06-.94-2.06-.94-.94-2.06-.94 2.06-2.06.94zm-11 1L8.5 8.5l.94-2.06 2.06-.94-2.06-.94L8.5 2.5l-.94 2.06-2.06.94zm10 10l.94 2.06.94-2.06 2.06-.94-2.06-.94-.94-2.06-.94 2.06-2.06.94z\"/><path d=\"M17.41 7.96l-1.37-1.37c-.4-.4-.92-.59-1.43-.59-.52 0-1.04.2-1.43.59L10.3 9.45l-7.72 7.72c-.78.78-.78 2.05 0 2.83L4 21.41c.39.39.9.59 1.41.59.51 0 1.02-.2 1.41-.59l7.78-7.78 2.81-2.81c.8-.78.8-2.07 0-2.86zM5.41 20L4 18.59l7.72-7.72 1.47 1.35L5.41 20z\"/>\n",
              "  </svg>\n",
              "      </button>\n",
              "      \n",
              "  <style>\n",
              "    .colab-df-container {\n",
              "      display:flex;\n",
              "      flex-wrap:wrap;\n",
              "      gap: 12px;\n",
              "    }\n",
              "\n",
              "    .colab-df-convert {\n",
              "      background-color: #E8F0FE;\n",
              "      border: none;\n",
              "      border-radius: 50%;\n",
              "      cursor: pointer;\n",
              "      display: none;\n",
              "      fill: #1967D2;\n",
              "      height: 32px;\n",
              "      padding: 0 0 0 0;\n",
              "      width: 32px;\n",
              "    }\n",
              "\n",
              "    .colab-df-convert:hover {\n",
              "      background-color: #E2EBFA;\n",
              "      box-shadow: 0px 1px 2px rgba(60, 64, 67, 0.3), 0px 1px 3px 1px rgba(60, 64, 67, 0.15);\n",
              "      fill: #174EA6;\n",
              "    }\n",
              "\n",
              "    [theme=dark] .colab-df-convert {\n",
              "      background-color: #3B4455;\n",
              "      fill: #D2E3FC;\n",
              "    }\n",
              "\n",
              "    [theme=dark] .colab-df-convert:hover {\n",
              "      background-color: #434B5C;\n",
              "      box-shadow: 0px 1px 3px 1px rgba(0, 0, 0, 0.15);\n",
              "      filter: drop-shadow(0px 1px 2px rgba(0, 0, 0, 0.3));\n",
              "      fill: #FFFFFF;\n",
              "    }\n",
              "  </style>\n",
              "\n",
              "      <script>\n",
              "        const buttonEl =\n",
              "          document.querySelector('#df-04b35f02-3e82-4e62-b0a6-0b6f3ed32961 button.colab-df-convert');\n",
              "        buttonEl.style.display =\n",
              "          google.colab.kernel.accessAllowed ? 'block' : 'none';\n",
              "\n",
              "        async function convertToInteractive(key) {\n",
              "          const element = document.querySelector('#df-04b35f02-3e82-4e62-b0a6-0b6f3ed32961');\n",
              "          const dataTable =\n",
              "            await google.colab.kernel.invokeFunction('convertToInteractive',\n",
              "                                                     [key], {});\n",
              "          if (!dataTable) return;\n",
              "\n",
              "          const docLinkHtml = 'Like what you see? Visit the ' +\n",
              "            '<a target=\"_blank\" href=https://colab.research.google.com/notebooks/data_table.ipynb>data table notebook</a>'\n",
              "            + ' to learn more about interactive tables.';\n",
              "          element.innerHTML = '';\n",
              "          dataTable['output_type'] = 'display_data';\n",
              "          await google.colab.output.renderOutput(dataTable, element);\n",
              "          const docLink = document.createElement('div');\n",
              "          docLink.innerHTML = docLinkHtml;\n",
              "          element.appendChild(docLink);\n",
              "        }\n",
              "      </script>\n",
              "    </div>\n",
              "  </div>\n",
              "  "
            ],
            "text/plain": [
              "          id          dataPublicada             autor  \\\n",
              "875   382158  \"2022-03-24 11:43:00\"  amgcapitalinvest   \n",
              "918   418930  \"2022-03-26 10:07:00\"  amgcapitalinvest   \n",
              "921   419736  \"2022-03-26 09:38:00\"  amgcapitalinvest   \n",
              "925   438730  \"2022-03-27 11:00:00\"  amgcapitalinvest   \n",
              "935   457530  \"2022-03-28 10:22:00\"  amgcapitalinvest   \n",
              "995   478755  \"2022-03-29 12:58:00\"  amgcapitalinvest   \n",
              "1020  497404  \"2022-03-30 12:22:00\"  amgcapitalinvest   \n",
              "1081  516231  \"2022-03-31 12:24:00\"  amgcapitalinvest   \n",
              "1131  548030  \"2022-04-02 12:12:00\"  amgcapitalinvest   \n",
              "1184  586434  \"2022-04-04 12:45:00\"  amgcapitalinvest   \n",
              "\n",
              "                                                  texto targetSentimento  \\\n",
              "875   (link na bio) Enriquecer é uma questão de esco...         POSITIVE   \n",
              "918   Hoje, a capital dos gaúchos completa 250 anos!...         POSITIVE   \n",
              "921                Evento Voz Feminina no btgpactual ❣️          NEUTRAL   \n",
              "925   🖥 www.amgcapital.com.br 📧 E-mail: contato@amgc...          NEUTRAL   \n",
              "935   🖥 www.amgcapital.com.br 📧 E-mail: contato@amgc...          NEUTRAL   \n",
              "995   A AMG Capital e o BTG Pactual se juntaram a um...         POSITIVE   \n",
              "1020  (link na bio) Ao fazer investimentos, você não...         POSITIVE   \n",
              "1081  Já atualizou o seu app BTG Trader? A nova vers...         POSITIVE   \n",
              "1131  Carteiras recomendadas de Abril no ar 📈  Arras...          NEUTRAL   \n",
              "1184  (link na bio) Ao fazer investimentos, você não...         POSITIVE   \n",
              "\n",
              "     tipoInteracao  anomalia  probabilidadeAnomalia  \\\n",
              "875       marcação         0                     49   \n",
              "918       marcação         0                     48   \n",
              "921       marcação         0                     30   \n",
              "925       marcação         0                     44   \n",
              "935       marcação         0                     44   \n",
              "995       marcação         0                     27   \n",
              "1020      marcação         0                     43   \n",
              "1081      marcação         0                     40   \n",
              "1131      marcação         0                     33   \n",
              "1184      marcação         0                     34   \n",
              "\n",
              "                                       linkPost  processado  contemHyperlink  \n",
              "875    https://www.instagram.com/p/CbfYbbmsaOS/           0                0  \n",
              "918    https://www.instagram.com/p/CbkXDKvA0Jj/           0                0  \n",
              "921    https://www.instagram.com/p/CbkTu61ujFC/           0                0  \n",
              "925    https://www.instagram.com/p/CbnB5pRqrl6/           0                0  \n",
              "935    https://www.instagram.com/p/CbpiV-zhBbD/           0                0  \n",
              "995   https://www.instagram.com/tv/CbsY8bhKHAD/           0                0  \n",
              "1020   https://www.instagram.com/p/Cbu5pMEKxj6/           0                0  \n",
              "1081  https://www.instagram.com/tv/CbxeqlbMSYz/           0                0  \n",
              "1131   https://www.instagram.com/p/Cb2m4YYJzUq/           0                0  \n",
              "1184   https://www.instagram.com/p/Cb70WBuv4We/           0                0  "
            ]
          },
          "execution_count": 10,
          "metadata": {},
          "output_type": "execute_result"
        }
      ],
      "source": [
        "df_filtered = df.query(\"autor == 'amgcapitalinvest'\")\n",
        "df_filtered = df.query(\"autor == 'clubefiinews'\")\n",
        "df_filtered = df.query(\"autor == 'perspectiveinvestimentos'\")\n",
        "df_filtered = df.query(\"autor == 'shbrj'\")\n",
        "df_filtered = df.query(\"autor == 'alvarosfrasson'\")\n",
        "df_filtered = df.query(\"autor == 'glaciane_assessoriainvest'\")\n",
        "\n"
      ]
    },
    {
      "cell_type": "code",
      "execution_count": null,
      "metadata": {
        "colab": {
          "base_uri": "https://localhost:8080/"
        },
        "id": "-NnnlkNAIE5C",
        "outputId": "b50d7755-d25c-40a5-a6b3-4c0fcec108b2"
      },
      "outputs": [
        {
          "data": {
            "text/html": [
              "\n",
              "  <div id=\"df-f366dacd-0bf4-41d7-89fa-ee28fe253cbd\">\n",
              "    <div class=\"colab-df-container\">\n",
              "      <div>\n",
              "<style scoped>\n",
              "    .dataframe tbody tr th:only-of-type {\n",
              "        vertical-align: middle;\n",
              "    }\n",
              "\n",
              "    .dataframe tbody tr th {\n",
              "        vertical-align: top;\n",
              "    }\n",
              "\n",
              "    .dataframe thead th {\n",
              "        text-align: right;\n",
              "    }\n",
              "</style>\n",
              "<table border=\"1\" class=\"dataframe\">\n",
              "  <thead>\n",
              "    <tr style=\"text-align: right;\">\n",
              "      <th></th>\n",
              "      <th>id</th>\n",
              "      <th>dataPublicada</th>\n",
              "      <th>autor</th>\n",
              "      <th>texto</th>\n",
              "      <th>targetSentimento</th>\n",
              "      <th>tipoInteracao</th>\n",
              "      <th>anomalia</th>\n",
              "      <th>probabilidadeAnomalia</th>\n",
              "      <th>linkPost</th>\n",
              "      <th>processado</th>\n",
              "      <th>contemHyperlink</th>\n",
              "    </tr>\n",
              "  </thead>\n",
              "  <tbody>\n",
              "    <tr>\n",
              "      <th>0</th>\n",
              "      <td>2</td>\n",
              "      <td>\"2022-03-04 09:29:00\"</td>\n",
              "      <td>winthegame_of</td>\n",
              "      <td>A Alvarez &amp; Marsal estará conosco no Sportainm...</td>\n",
              "      <td>NEUTRAL</td>\n",
              "      <td>marcação</td>\n",
              "      <td>0</td>\n",
              "      <td>43</td>\n",
              "      <td>https://www.instagram.com/p/CarpQUluh7z/</td>\n",
              "      <td>0</td>\n",
              "      <td>0</td>\n",
              "    </tr>\n",
              "    <tr>\n",
              "      <th>1</th>\n",
              "      <td>3</td>\n",
              "      <td>\"2022-03-04 09:20:00\"</td>\n",
              "      <td>marta_bego</td>\n",
              "      <td>#Repost btgpactual with make_repost ・・・ Entend...</td>\n",
              "      <td>NEUTRAL</td>\n",
              "      <td>marcação</td>\n",
              "      <td>0</td>\n",
              "      <td>45</td>\n",
              "      <td>https://www.instagram.com/p/CaroK9Nu8tC/</td>\n",
              "      <td>0</td>\n",
              "      <td>0</td>\n",
              "    </tr>\n",
              "    <tr>\n",
              "      <th>2</th>\n",
              "      <td>4</td>\n",
              "      <td>\"2022-03-04 08:36:00\"</td>\n",
              "      <td>lmviapiana</td>\n",
              "      <td>Minuto touro de ouro</td>\n",
              "      <td>POSITIVE</td>\n",
              "      <td>comentário</td>\n",
              "      <td>0</td>\n",
              "      <td>38</td>\n",
              "      <td>https://www.instagram.com/p/CapXhB5Lvas/#17977...</td>\n",
              "      <td>0</td>\n",
              "      <td>0</td>\n",
              "    </tr>\n",
              "    <tr>\n",
              "      <th>3</th>\n",
              "      <td>5</td>\n",
              "      <td>\"2022-03-03 21:10:00\"</td>\n",
              "      <td>vanilson_dos</td>\n",
              "      <td>@ricktolledo Sim</td>\n",
              "      <td>NEUTRAL</td>\n",
              "      <td>resposta</td>\n",
              "      <td>0</td>\n",
              "      <td>17</td>\n",
              "      <td>https://www.instagram.com/p/CapXhB5Lvas/#17842...</td>\n",
              "      <td>0</td>\n",
              "      <td>0</td>\n",
              "    </tr>\n",
              "    <tr>\n",
              "      <th>4</th>\n",
              "      <td>6</td>\n",
              "      <td>\"2022-03-03 20:54:00\"</td>\n",
              "      <td>ricktolledo</td>\n",
              "      <td>Queria saber se a Btg banking é a própria btg ...</td>\n",
              "      <td>POSITIVE</td>\n",
              "      <td>comentário</td>\n",
              "      <td>0</td>\n",
              "      <td>20</td>\n",
              "      <td>https://www.instagram.com/p/CapXhB5Lvas/#17935...</td>\n",
              "      <td>0</td>\n",
              "      <td>0</td>\n",
              "    </tr>\n",
              "    <tr>\n",
              "      <th>...</th>\n",
              "      <td>...</td>\n",
              "      <td>...</td>\n",
              "      <td>...</td>\n",
              "      <td>...</td>\n",
              "      <td>...</td>\n",
              "      <td>...</td>\n",
              "      <td>...</td>\n",
              "      <td>...</td>\n",
              "      <td>...</td>\n",
              "      <td>...</td>\n",
              "      <td>...</td>\n",
              "    </tr>\n",
              "    <tr>\n",
              "      <th>9480</th>\n",
              "      <td>3042412</td>\n",
              "      <td>\"2022-11-30 07:57:00\"</td>\n",
              "      <td>marcinho_sousa</td>\n",
              "      <td>@btgpactual  sério isso ? Só menos informados ...</td>\n",
              "      <td>NEGATIVE</td>\n",
              "      <td>comentário</td>\n",
              "      <td>0</td>\n",
              "      <td>28</td>\n",
              "      <td>https://www.instagram.com/p/CljbgSRuc33/#18031...</td>\n",
              "      <td>0</td>\n",
              "      <td>0</td>\n",
              "    </tr>\n",
              "    <tr>\n",
              "      <th>9482</th>\n",
              "      <td>3043812</td>\n",
              "      <td>\"2022-11-30 11:27:00\"</td>\n",
              "      <td>eduardocolares</td>\n",
              "      <td>Atendam o telefone pelo amor de Deus</td>\n",
              "      <td>POSITIVE</td>\n",
              "      <td>comentário</td>\n",
              "      <td>0</td>\n",
              "      <td>28</td>\n",
              "      <td>https://www.instagram.com/p/CllkSBOuKlJ/#17960...</td>\n",
              "      <td>0</td>\n",
              "      <td>0</td>\n",
              "    </tr>\n",
              "    <tr>\n",
              "      <th>9483</th>\n",
              "      <td>3044012</td>\n",
              "      <td>\"2022-11-30 12:00:00\"</td>\n",
              "      <td>danielucm</td>\n",
              "      <td>Você sabe quais são os 10 maiores FIIs do merc...</td>\n",
              "      <td>POSITIVE</td>\n",
              "      <td>marcação</td>\n",
              "      <td>0</td>\n",
              "      <td>44</td>\n",
              "      <td>https://www.instagram.com/p/Cllt7_nOTBc/</td>\n",
              "      <td>0</td>\n",
              "      <td>0</td>\n",
              "    </tr>\n",
              "    <tr>\n",
              "      <th>9485</th>\n",
              "      <td>3044412</td>\n",
              "      <td>\"2022-11-30 12:50:00\"</td>\n",
              "      <td>moinho_cultural</td>\n",
              "      <td>\"👉GUADAKAN está chegando!!!!  A aula pública e...</td>\n",
              "      <td>NEUTRAL</td>\n",
              "      <td>marcação</td>\n",
              "      <td>0</td>\n",
              "      <td>43</td>\n",
              "      <td>https://www.instagram.com/reel/ClluX-cAoaf/</td>\n",
              "      <td>0</td>\n",
              "      <td>0</td>\n",
              "    </tr>\n",
              "    <tr>\n",
              "      <th>9486</th>\n",
              "      <td>3045012</td>\n",
              "      <td>\"2022-11-30 14:27:00\"</td>\n",
              "      <td>bfmarilia</td>\n",
              "      <td>@btgpactual pq o morning call não está mais ap...</td>\n",
              "      <td>NEGATIVE</td>\n",
              "      <td>comentário</td>\n",
              "      <td>0</td>\n",
              "      <td>28</td>\n",
              "      <td>https://www.instagram.com/p/CllkSBOuKlJ/#17975...</td>\n",
              "      <td>0</td>\n",
              "      <td>0</td>\n",
              "    </tr>\n",
              "  </tbody>\n",
              "</table>\n",
              "<p>9138 rows × 11 columns</p>\n",
              "</div>\n",
              "      <button class=\"colab-df-convert\" onclick=\"convertToInteractive('df-f366dacd-0bf4-41d7-89fa-ee28fe253cbd')\"\n",
              "              title=\"Convert this dataframe to an interactive table.\"\n",
              "              style=\"display:none;\">\n",
              "        \n",
              "  <svg xmlns=\"http://www.w3.org/2000/svg\" height=\"24px\"viewBox=\"0 0 24 24\"\n",
              "       width=\"24px\">\n",
              "    <path d=\"M0 0h24v24H0V0z\" fill=\"none\"/>\n",
              "    <path d=\"M18.56 5.44l.94 2.06.94-2.06 2.06-.94-2.06-.94-.94-2.06-.94 2.06-2.06.94zm-11 1L8.5 8.5l.94-2.06 2.06-.94-2.06-.94L8.5 2.5l-.94 2.06-2.06.94zm10 10l.94 2.06.94-2.06 2.06-.94-2.06-.94-.94-2.06-.94 2.06-2.06.94z\"/><path d=\"M17.41 7.96l-1.37-1.37c-.4-.4-.92-.59-1.43-.59-.52 0-1.04.2-1.43.59L10.3 9.45l-7.72 7.72c-.78.78-.78 2.05 0 2.83L4 21.41c.39.39.9.59 1.41.59.51 0 1.02-.2 1.41-.59l7.78-7.78 2.81-2.81c.8-.78.8-2.07 0-2.86zM5.41 20L4 18.59l7.72-7.72 1.47 1.35L5.41 20z\"/>\n",
              "  </svg>\n",
              "      </button>\n",
              "      \n",
              "  <style>\n",
              "    .colab-df-container {\n",
              "      display:flex;\n",
              "      flex-wrap:wrap;\n",
              "      gap: 12px;\n",
              "    }\n",
              "\n",
              "    .colab-df-convert {\n",
              "      background-color: #E8F0FE;\n",
              "      border: none;\n",
              "      border-radius: 50%;\n",
              "      cursor: pointer;\n",
              "      display: none;\n",
              "      fill: #1967D2;\n",
              "      height: 32px;\n",
              "      padding: 0 0 0 0;\n",
              "      width: 32px;\n",
              "    }\n",
              "\n",
              "    .colab-df-convert:hover {\n",
              "      background-color: #E2EBFA;\n",
              "      box-shadow: 0px 1px 2px rgba(60, 64, 67, 0.3), 0px 1px 3px 1px rgba(60, 64, 67, 0.15);\n",
              "      fill: #174EA6;\n",
              "    }\n",
              "\n",
              "    [theme=dark] .colab-df-convert {\n",
              "      background-color: #3B4455;\n",
              "      fill: #D2E3FC;\n",
              "    }\n",
              "\n",
              "    [theme=dark] .colab-df-convert:hover {\n",
              "      background-color: #434B5C;\n",
              "      box-shadow: 0px 1px 3px 1px rgba(0, 0, 0, 0.15);\n",
              "      filter: drop-shadow(0px 1px 2px rgba(0, 0, 0, 0.3));\n",
              "      fill: #FFFFFF;\n",
              "    }\n",
              "  </style>\n",
              "\n",
              "      <script>\n",
              "        const buttonEl =\n",
              "          document.querySelector('#df-f366dacd-0bf4-41d7-89fa-ee28fe253cbd button.colab-df-convert');\n",
              "        buttonEl.style.display =\n",
              "          google.colab.kernel.accessAllowed ? 'block' : 'none';\n",
              "\n",
              "        async function convertToInteractive(key) {\n",
              "          const element = document.querySelector('#df-f366dacd-0bf4-41d7-89fa-ee28fe253cbd');\n",
              "          const dataTable =\n",
              "            await google.colab.kernel.invokeFunction('convertToInteractive',\n",
              "                                                     [key], {});\n",
              "          if (!dataTable) return;\n",
              "\n",
              "          const docLinkHtml = 'Like what you see? Visit the ' +\n",
              "            '<a target=\"_blank\" href=https://colab.research.google.com/notebooks/data_table.ipynb>data table notebook</a>'\n",
              "            + ' to learn more about interactive tables.';\n",
              "          element.innerHTML = '';\n",
              "          dataTable['output_type'] = 'display_data';\n",
              "          await google.colab.output.renderOutput(dataTable, element);\n",
              "          const docLink = document.createElement('div');\n",
              "          docLink.innerHTML = docLinkHtml;\n",
              "          element.appendChild(docLink);\n",
              "        }\n",
              "      </script>\n",
              "    </div>\n",
              "  </div>\n",
              "  "
            ],
            "text/plain": [
              "           id          dataPublicada            autor  \\\n",
              "0           2  \"2022-03-04 09:29:00\"    winthegame_of   \n",
              "1           3  \"2022-03-04 09:20:00\"       marta_bego   \n",
              "2           4  \"2022-03-04 08:36:00\"       lmviapiana   \n",
              "3           5  \"2022-03-03 21:10:00\"     vanilson_dos   \n",
              "4           6  \"2022-03-03 20:54:00\"      ricktolledo   \n",
              "...       ...                    ...              ...   \n",
              "9480  3042412  \"2022-11-30 07:57:00\"   marcinho_sousa   \n",
              "9482  3043812  \"2022-11-30 11:27:00\"   eduardocolares   \n",
              "9483  3044012  \"2022-11-30 12:00:00\"        danielucm   \n",
              "9485  3044412  \"2022-11-30 12:50:00\"  moinho_cultural   \n",
              "9486  3045012  \"2022-11-30 14:27:00\"        bfmarilia   \n",
              "\n",
              "                                                  texto targetSentimento  \\\n",
              "0     A Alvarez & Marsal estará conosco no Sportainm...          NEUTRAL   \n",
              "1     #Repost btgpactual with make_repost ・・・ Entend...          NEUTRAL   \n",
              "2                                  Minuto touro de ouro         POSITIVE   \n",
              "3                                      @ricktolledo Sim          NEUTRAL   \n",
              "4     Queria saber se a Btg banking é a própria btg ...         POSITIVE   \n",
              "...                                                 ...              ...   \n",
              "9480  @btgpactual  sério isso ? Só menos informados ...         NEGATIVE   \n",
              "9482               Atendam o telefone pelo amor de Deus         POSITIVE   \n",
              "9483  Você sabe quais são os 10 maiores FIIs do merc...         POSITIVE   \n",
              "9485  \"👉GUADAKAN está chegando!!!!  A aula pública e...          NEUTRAL   \n",
              "9486  @btgpactual pq o morning call não está mais ap...         NEGATIVE   \n",
              "\n",
              "     tipoInteracao  anomalia  probabilidadeAnomalia  \\\n",
              "0         marcação         0                     43   \n",
              "1         marcação         0                     45   \n",
              "2       comentário         0                     38   \n",
              "3         resposta         0                     17   \n",
              "4       comentário         0                     20   \n",
              "...            ...       ...                    ...   \n",
              "9480    comentário         0                     28   \n",
              "9482    comentário         0                     28   \n",
              "9483      marcação         0                     44   \n",
              "9485      marcação         0                     43   \n",
              "9486    comentário         0                     28   \n",
              "\n",
              "                                               linkPost  processado  \\\n",
              "0              https://www.instagram.com/p/CarpQUluh7z/           0   \n",
              "1              https://www.instagram.com/p/CaroK9Nu8tC/           0   \n",
              "2     https://www.instagram.com/p/CapXhB5Lvas/#17977...           0   \n",
              "3     https://www.instagram.com/p/CapXhB5Lvas/#17842...           0   \n",
              "4     https://www.instagram.com/p/CapXhB5Lvas/#17935...           0   \n",
              "...                                                 ...         ...   \n",
              "9480  https://www.instagram.com/p/CljbgSRuc33/#18031...           0   \n",
              "9482  https://www.instagram.com/p/CllkSBOuKlJ/#17960...           0   \n",
              "9483           https://www.instagram.com/p/Cllt7_nOTBc/           0   \n",
              "9485        https://www.instagram.com/reel/ClluX-cAoaf/           0   \n",
              "9486  https://www.instagram.com/p/CllkSBOuKlJ/#17975...           0   \n",
              "\n",
              "      contemHyperlink  \n",
              "0                   0  \n",
              "1                   0  \n",
              "2                   0  \n",
              "3                   0  \n",
              "4                   0  \n",
              "...               ...  \n",
              "9480                0  \n",
              "9482                0  \n",
              "9483                0  \n",
              "9485                0  \n",
              "9486                0  \n",
              "\n",
              "[9138 rows x 11 columns]"
            ]
          },
          "execution_count": 16,
          "metadata": {},
          "output_type": "execute_result"
        }
      ],
      "source": [
        "# Lista de autores a serem removidos\n",
        "autores_remover = ['amgcapitalinvest', 'clubefiinews', 'perspectiveinvestimentos', 'shbrj', 'alvarosfrasson', 'glaciane_assessoriainvest']\n",
        "# Filtrar e remover as linhas com os autores especificados\n",
        "df = df[~df['autor'].isin(autores_remover)]\n",
        "df"
      ]
    },
    {
      "cell_type": "code",
      "execution_count": null,
      "metadata": {
        "colab": {
          "base_uri": "https://localhost:8080/"
        },
        "id": "ub1cBBvkIZnJ",
        "outputId": "0453d7fe-6f14-41fb-ad38-47c5aa14f834"
      },
      "outputs": [
        {
          "data": {
            "text/html": [
              "\n",
              "  <div id=\"df-5952f9c2-6d26-413a-bcc8-25b2cf0f54e2\">\n",
              "    <div class=\"colab-df-container\">\n",
              "      <div>\n",
              "<style scoped>\n",
              "    .dataframe tbody tr th:only-of-type {\n",
              "        vertical-align: middle;\n",
              "    }\n",
              "\n",
              "    .dataframe tbody tr th {\n",
              "        vertical-align: top;\n",
              "    }\n",
              "\n",
              "    .dataframe thead th {\n",
              "        text-align: right;\n",
              "    }\n",
              "</style>\n",
              "<table border=\"1\" class=\"dataframe\">\n",
              "  <thead>\n",
              "    <tr style=\"text-align: right;\">\n",
              "      <th></th>\n",
              "      <th>id</th>\n",
              "      <th>dataPublicada</th>\n",
              "      <th>autor</th>\n",
              "      <th>texto</th>\n",
              "      <th>targetSentimento</th>\n",
              "      <th>tipoInteracao</th>\n",
              "      <th>anomalia</th>\n",
              "      <th>probabilidadeAnomalia</th>\n",
              "      <th>linkPost</th>\n",
              "      <th>processado</th>\n",
              "      <th>contemHyperlink</th>\n",
              "    </tr>\n",
              "  </thead>\n",
              "  <tbody>\n",
              "    <tr>\n",
              "      <th>0</th>\n",
              "      <td>2</td>\n",
              "      <td>\"2022-03-04 09:29:00\"</td>\n",
              "      <td>winthegame_of</td>\n",
              "      <td>A Alvarez &amp; Marsal estará conosco no Sportainm...</td>\n",
              "      <td>NEUTRAL</td>\n",
              "      <td>marcação</td>\n",
              "      <td>0</td>\n",
              "      <td>43</td>\n",
              "      <td>https://www.instagram.com/p/CarpQUluh7z/</td>\n",
              "      <td>0</td>\n",
              "      <td>0</td>\n",
              "    </tr>\n",
              "    <tr>\n",
              "      <th>2</th>\n",
              "      <td>4</td>\n",
              "      <td>\"2022-03-04 08:36:00\"</td>\n",
              "      <td>lmviapiana</td>\n",
              "      <td>Minuto touro de ouro</td>\n",
              "      <td>POSITIVE</td>\n",
              "      <td>comentário</td>\n",
              "      <td>0</td>\n",
              "      <td>38</td>\n",
              "      <td>https://www.instagram.com/p/CapXhB5Lvas/#17977...</td>\n",
              "      <td>0</td>\n",
              "      <td>0</td>\n",
              "    </tr>\n",
              "    <tr>\n",
              "      <th>3</th>\n",
              "      <td>5</td>\n",
              "      <td>\"2022-03-03 21:10:00\"</td>\n",
              "      <td>vanilson_dos</td>\n",
              "      <td>@ricktolledo Sim</td>\n",
              "      <td>NEUTRAL</td>\n",
              "      <td>resposta</td>\n",
              "      <td>0</td>\n",
              "      <td>17</td>\n",
              "      <td>https://www.instagram.com/p/CapXhB5Lvas/#17842...</td>\n",
              "      <td>0</td>\n",
              "      <td>0</td>\n",
              "    </tr>\n",
              "    <tr>\n",
              "      <th>4</th>\n",
              "      <td>6</td>\n",
              "      <td>\"2022-03-03 20:54:00\"</td>\n",
              "      <td>ricktolledo</td>\n",
              "      <td>Queria saber se a Btg banking é a própria btg ...</td>\n",
              "      <td>POSITIVE</td>\n",
              "      <td>comentário</td>\n",
              "      <td>0</td>\n",
              "      <td>20</td>\n",
              "      <td>https://www.instagram.com/p/CapXhB5Lvas/#17935...</td>\n",
              "      <td>0</td>\n",
              "      <td>0</td>\n",
              "    </tr>\n",
              "    <tr>\n",
              "      <th>5</th>\n",
              "      <td>7</td>\n",
              "      <td>\"2022-03-03 20:21:00\"</td>\n",
              "      <td>donadabolsaoficial</td>\n",
              "      <td>Com o início da guerra entre Rússia e Ucrânia,...</td>\n",
              "      <td>NEGATIVE</td>\n",
              "      <td>marcação</td>\n",
              "      <td>0</td>\n",
              "      <td>46</td>\n",
              "      <td>https://www.instagram.com/p/CaqPAzlObCu/</td>\n",
              "      <td>0</td>\n",
              "      <td>0</td>\n",
              "    </tr>\n",
              "    <tr>\n",
              "      <th>...</th>\n",
              "      <td>...</td>\n",
              "      <td>...</td>\n",
              "      <td>...</td>\n",
              "      <td>...</td>\n",
              "      <td>...</td>\n",
              "      <td>...</td>\n",
              "      <td>...</td>\n",
              "      <td>...</td>\n",
              "      <td>...</td>\n",
              "      <td>...</td>\n",
              "      <td>...</td>\n",
              "    </tr>\n",
              "    <tr>\n",
              "      <th>9480</th>\n",
              "      <td>3042412</td>\n",
              "      <td>\"2022-11-30 07:57:00\"</td>\n",
              "      <td>marcinho_sousa</td>\n",
              "      <td>@btgpactual  sério isso ? Só menos informados ...</td>\n",
              "      <td>NEGATIVE</td>\n",
              "      <td>comentário</td>\n",
              "      <td>0</td>\n",
              "      <td>28</td>\n",
              "      <td>https://www.instagram.com/p/CljbgSRuc33/#18031...</td>\n",
              "      <td>0</td>\n",
              "      <td>0</td>\n",
              "    </tr>\n",
              "    <tr>\n",
              "      <th>9482</th>\n",
              "      <td>3043812</td>\n",
              "      <td>\"2022-11-30 11:27:00\"</td>\n",
              "      <td>eduardocolares</td>\n",
              "      <td>Atendam o telefone pelo amor de Deus</td>\n",
              "      <td>POSITIVE</td>\n",
              "      <td>comentário</td>\n",
              "      <td>0</td>\n",
              "      <td>28</td>\n",
              "      <td>https://www.instagram.com/p/CllkSBOuKlJ/#17960...</td>\n",
              "      <td>0</td>\n",
              "      <td>0</td>\n",
              "    </tr>\n",
              "    <tr>\n",
              "      <th>9483</th>\n",
              "      <td>3044012</td>\n",
              "      <td>\"2022-11-30 12:00:00\"</td>\n",
              "      <td>danielucm</td>\n",
              "      <td>Você sabe quais são os 10 maiores FIIs do merc...</td>\n",
              "      <td>POSITIVE</td>\n",
              "      <td>marcação</td>\n",
              "      <td>0</td>\n",
              "      <td>44</td>\n",
              "      <td>https://www.instagram.com/p/Cllt7_nOTBc/</td>\n",
              "      <td>0</td>\n",
              "      <td>0</td>\n",
              "    </tr>\n",
              "    <tr>\n",
              "      <th>9485</th>\n",
              "      <td>3044412</td>\n",
              "      <td>\"2022-11-30 12:50:00\"</td>\n",
              "      <td>moinho_cultural</td>\n",
              "      <td>\"👉GUADAKAN está chegando!!!!  A aula pública e...</td>\n",
              "      <td>NEUTRAL</td>\n",
              "      <td>marcação</td>\n",
              "      <td>0</td>\n",
              "      <td>43</td>\n",
              "      <td>https://www.instagram.com/reel/ClluX-cAoaf/</td>\n",
              "      <td>0</td>\n",
              "      <td>0</td>\n",
              "    </tr>\n",
              "    <tr>\n",
              "      <th>9486</th>\n",
              "      <td>3045012</td>\n",
              "      <td>\"2022-11-30 14:27:00\"</td>\n",
              "      <td>bfmarilia</td>\n",
              "      <td>@btgpactual pq o morning call não está mais ap...</td>\n",
              "      <td>NEGATIVE</td>\n",
              "      <td>comentário</td>\n",
              "      <td>0</td>\n",
              "      <td>28</td>\n",
              "      <td>https://www.instagram.com/p/CllkSBOuKlJ/#17975...</td>\n",
              "      <td>0</td>\n",
              "      <td>0</td>\n",
              "    </tr>\n",
              "  </tbody>\n",
              "</table>\n",
              "<p>8877 rows × 11 columns</p>\n",
              "</div>\n",
              "      <button class=\"colab-df-convert\" onclick=\"convertToInteractive('df-5952f9c2-6d26-413a-bcc8-25b2cf0f54e2')\"\n",
              "              title=\"Convert this dataframe to an interactive table.\"\n",
              "              style=\"display:none;\">\n",
              "        \n",
              "  <svg xmlns=\"http://www.w3.org/2000/svg\" height=\"24px\"viewBox=\"0 0 24 24\"\n",
              "       width=\"24px\">\n",
              "    <path d=\"M0 0h24v24H0V0z\" fill=\"none\"/>\n",
              "    <path d=\"M18.56 5.44l.94 2.06.94-2.06 2.06-.94-2.06-.94-.94-2.06-.94 2.06-2.06.94zm-11 1L8.5 8.5l.94-2.06 2.06-.94-2.06-.94L8.5 2.5l-.94 2.06-2.06.94zm10 10l.94 2.06.94-2.06 2.06-.94-2.06-.94-.94-2.06-.94 2.06-2.06.94z\"/><path d=\"M17.41 7.96l-1.37-1.37c-.4-.4-.92-.59-1.43-.59-.52 0-1.04.2-1.43.59L10.3 9.45l-7.72 7.72c-.78.78-.78 2.05 0 2.83L4 21.41c.39.39.9.59 1.41.59.51 0 1.02-.2 1.41-.59l7.78-7.78 2.81-2.81c.8-.78.8-2.07 0-2.86zM5.41 20L4 18.59l7.72-7.72 1.47 1.35L5.41 20z\"/>\n",
              "  </svg>\n",
              "      </button>\n",
              "      \n",
              "  <style>\n",
              "    .colab-df-container {\n",
              "      display:flex;\n",
              "      flex-wrap:wrap;\n",
              "      gap: 12px;\n",
              "    }\n",
              "\n",
              "    .colab-df-convert {\n",
              "      background-color: #E8F0FE;\n",
              "      border: none;\n",
              "      border-radius: 50%;\n",
              "      cursor: pointer;\n",
              "      display: none;\n",
              "      fill: #1967D2;\n",
              "      height: 32px;\n",
              "      padding: 0 0 0 0;\n",
              "      width: 32px;\n",
              "    }\n",
              "\n",
              "    .colab-df-convert:hover {\n",
              "      background-color: #E2EBFA;\n",
              "      box-shadow: 0px 1px 2px rgba(60, 64, 67, 0.3), 0px 1px 3px 1px rgba(60, 64, 67, 0.15);\n",
              "      fill: #174EA6;\n",
              "    }\n",
              "\n",
              "    [theme=dark] .colab-df-convert {\n",
              "      background-color: #3B4455;\n",
              "      fill: #D2E3FC;\n",
              "    }\n",
              "\n",
              "    [theme=dark] .colab-df-convert:hover {\n",
              "      background-color: #434B5C;\n",
              "      box-shadow: 0px 1px 3px 1px rgba(0, 0, 0, 0.15);\n",
              "      filter: drop-shadow(0px 1px 2px rgba(0, 0, 0, 0.3));\n",
              "      fill: #FFFFFF;\n",
              "    }\n",
              "  </style>\n",
              "\n",
              "      <script>\n",
              "        const buttonEl =\n",
              "          document.querySelector('#df-5952f9c2-6d26-413a-bcc8-25b2cf0f54e2 button.colab-df-convert');\n",
              "        buttonEl.style.display =\n",
              "          google.colab.kernel.accessAllowed ? 'block' : 'none';\n",
              "\n",
              "        async function convertToInteractive(key) {\n",
              "          const element = document.querySelector('#df-5952f9c2-6d26-413a-bcc8-25b2cf0f54e2');\n",
              "          const dataTable =\n",
              "            await google.colab.kernel.invokeFunction('convertToInteractive',\n",
              "                                                     [key], {});\n",
              "          if (!dataTable) return;\n",
              "\n",
              "          const docLinkHtml = 'Like what you see? Visit the ' +\n",
              "            '<a target=\"_blank\" href=https://colab.research.google.com/notebooks/data_table.ipynb>data table notebook</a>'\n",
              "            + ' to learn more about interactive tables.';\n",
              "          element.innerHTML = '';\n",
              "          dataTable['output_type'] = 'display_data';\n",
              "          await google.colab.output.renderOutput(dataTable, element);\n",
              "          const docLink = document.createElement('div');\n",
              "          docLink.innerHTML = docLinkHtml;\n",
              "          element.appendChild(docLink);\n",
              "        }\n",
              "      </script>\n",
              "    </div>\n",
              "  </div>\n",
              "  "
            ],
            "text/plain": [
              "           id          dataPublicada               autor  \\\n",
              "0           2  \"2022-03-04 09:29:00\"       winthegame_of   \n",
              "2           4  \"2022-03-04 08:36:00\"          lmviapiana   \n",
              "3           5  \"2022-03-03 21:10:00\"        vanilson_dos   \n",
              "4           6  \"2022-03-03 20:54:00\"         ricktolledo   \n",
              "5           7  \"2022-03-03 20:21:00\"  donadabolsaoficial   \n",
              "...       ...                    ...                 ...   \n",
              "9480  3042412  \"2022-11-30 07:57:00\"      marcinho_sousa   \n",
              "9482  3043812  \"2022-11-30 11:27:00\"      eduardocolares   \n",
              "9483  3044012  \"2022-11-30 12:00:00\"           danielucm   \n",
              "9485  3044412  \"2022-11-30 12:50:00\"     moinho_cultural   \n",
              "9486  3045012  \"2022-11-30 14:27:00\"           bfmarilia   \n",
              "\n",
              "                                                  texto targetSentimento  \\\n",
              "0     A Alvarez & Marsal estará conosco no Sportainm...          NEUTRAL   \n",
              "2                                  Minuto touro de ouro         POSITIVE   \n",
              "3                                      @ricktolledo Sim          NEUTRAL   \n",
              "4     Queria saber se a Btg banking é a própria btg ...         POSITIVE   \n",
              "5     Com o início da guerra entre Rússia e Ucrânia,...         NEGATIVE   \n",
              "...                                                 ...              ...   \n",
              "9480  @btgpactual  sério isso ? Só menos informados ...         NEGATIVE   \n",
              "9482               Atendam o telefone pelo amor de Deus         POSITIVE   \n",
              "9483  Você sabe quais são os 10 maiores FIIs do merc...         POSITIVE   \n",
              "9485  \"👉GUADAKAN está chegando!!!!  A aula pública e...          NEUTRAL   \n",
              "9486  @btgpactual pq o morning call não está mais ap...         NEGATIVE   \n",
              "\n",
              "     tipoInteracao  anomalia  probabilidadeAnomalia  \\\n",
              "0         marcação         0                     43   \n",
              "2       comentário         0                     38   \n",
              "3         resposta         0                     17   \n",
              "4       comentário         0                     20   \n",
              "5         marcação         0                     46   \n",
              "...            ...       ...                    ...   \n",
              "9480    comentário         0                     28   \n",
              "9482    comentário         0                     28   \n",
              "9483      marcação         0                     44   \n",
              "9485      marcação         0                     43   \n",
              "9486    comentário         0                     28   \n",
              "\n",
              "                                               linkPost  processado  \\\n",
              "0              https://www.instagram.com/p/CarpQUluh7z/           0   \n",
              "2     https://www.instagram.com/p/CapXhB5Lvas/#17977...           0   \n",
              "3     https://www.instagram.com/p/CapXhB5Lvas/#17842...           0   \n",
              "4     https://www.instagram.com/p/CapXhB5Lvas/#17935...           0   \n",
              "5              https://www.instagram.com/p/CaqPAzlObCu/           0   \n",
              "...                                                 ...         ...   \n",
              "9480  https://www.instagram.com/p/CljbgSRuc33/#18031...           0   \n",
              "9482  https://www.instagram.com/p/CllkSBOuKlJ/#17960...           0   \n",
              "9483           https://www.instagram.com/p/Cllt7_nOTBc/           0   \n",
              "9485        https://www.instagram.com/reel/ClluX-cAoaf/           0   \n",
              "9486  https://www.instagram.com/p/CllkSBOuKlJ/#17975...           0   \n",
              "\n",
              "      contemHyperlink  \n",
              "0                   0  \n",
              "2                   0  \n",
              "3                   0  \n",
              "4                   0  \n",
              "5                   0  \n",
              "...               ...  \n",
              "9480                0  \n",
              "9482                0  \n",
              "9483                0  \n",
              "9485                0  \n",
              "9486                0  \n",
              "\n",
              "[8877 rows x 11 columns]"
            ]
          },
          "execution_count": 17,
          "metadata": {},
          "output_type": "execute_result"
        }
      ],
      "source": [
        "def remover_linhas_com_texto(df, texto):\n",
        "    df = df[~df['texto'].str.contains(texto)]\n",
        "    return df\n",
        "\n",
        "# Remover linhas com a palavra \"repost\" no texto\n",
        "df = remover_linhas_com_texto(df, '#repost')\n",
        "df = remover_linhas_com_texto(df, '#Repost')\n",
        "df = remover_linhas_com_texto(df, 'flamengo')\n",
        "df = remover_linhas_com_texto(df, 'fluzao')\n",
        "df = remover_linhas_com_texto(df, 'flu')\n",
        "df = remover_linhas_com_texto(df, 'palmeiras')\n",
        "df"
      ]
    },
    {
      "attachments": {},
      "cell_type": "markdown",
      "metadata": {
        "id": "cacmvj7kMIpZ"
      },
      "source": [
        "### 2.4 Análise dos sentimentos"
      ]
    },
    {
      "cell_type": "code",
      "execution_count": null,
      "metadata": {
        "id": "_DBBAHEm7AJU"
      },
      "outputs": [],
      "source": [
        "# import pandas as pd\n",
        "# import matplotlib.pyplot as plt\n",
        "\n",
        "# # Contar a quantidade de dados para cada combinação de marcação e tipo de interação\n",
        "# contagem = df.groupby(['tipoInteracao', 'targetSentimento']).size().unstack(fill_value=0)\n",
        "\n",
        "# # Criar o gráfico de barras agrupadas\n",
        "# contagem.plot(kind='bar', stacked=True)\n",
        "\n",
        "# # Configurar os rótulos dos eixos\n",
        "# plt.xlabel('Tipo de Interação')\n",
        "# plt.ylabel('Quantidade de Dados')\n",
        "\n",
        "# # Exibir o gráfico\n",
        "# plt.show()\n"
      ]
    },
    {
      "cell_type": "code",
      "execution_count": null,
      "metadata": {
        "id": "R5Yxa9M375Pa"
      },
      "outputs": [],
      "source": [
        "# import pandas as pd\n",
        "# import matplotlib.pyplot as plt\n",
        "\n",
        "# # Contar a quantidade de dados para cada combinação de marcação e tipo de interação\n",
        "# contagem = df.groupby(['tipoInteracao', 'targetSentimento']).size().unstack(fill_value=0)\n",
        "\n",
        "# # Cores das colunas\n",
        "# cores = [ '#FF0000', '#C0C0C0', '#008000']\n",
        "\n",
        "# # Criar o gráfico de barras agrupadas com as cores personalizadas\n",
        "# contagem.plot(kind='bar', stacked=True, color=cores)\n",
        "\n",
        "# # Configurar os rótulos dos eixos\n",
        "# plt.xlabel('Tipo de Interação')\n",
        "# plt.ylabel('Quantidade de Dados')\n",
        "\n",
        "# # Exibir o gráfico\n",
        "# plt.show()\n"
      ]
    },
    {
      "attachments": {},
      "cell_type": "markdown",
      "metadata": {
        "id": "tH4hTYprbbbI"
      },
      "source": [
        "## 3.0 Pré processamento dos dados"
      ]
    },
    {
      "attachments": {},
      "cell_type": "markdown",
      "metadata": {
        "id": "nOFxAfuXIAum"
      },
      "source": [
        "O pré processamento dos dados é uma técnica que consiste em uma série de etapas que buscam preparar os dados para uma análise posterior, eliminando informações desnecessárias, corrigindo erros e padronizando o formato dos dados.\n",
        "Essa é uma etapa muito importante porque, muitas vezes, dados textuais são frequentemente não estruturados, o que significa que não seguem um formato padronizado ou organizado, dificultando a análise e extração de informações relevantes."
      ]
    },
    {
      "attachments": {},
      "cell_type": "markdown",
      "metadata": {
        "id": "2TaHb7fRbbbJ"
      },
      "source": [
        "### 3.1 Remoção de acentos"
      ]
    },
    {
      "attachments": {},
      "cell_type": "markdown",
      "metadata": {
        "id": "DDviYnCXbbbJ"
      },
      "source": [
        "Para garantir que um texto seja processado de forma consistente, é importante realizar a normalização dos seus componentes. Nesse sentido, a remoção de acentos é uma etapa fundamental, já que isso ajuda o algoritmo a compreender com mais precisão o que o texto está dizendo. Além disso, a ausência de acentos reduz o risco de que o algoritmo interprete de maneira diferente duas palavras idênticas, mas que tenham sido acentuadas de formas distintas ou incorretas. Em resumo, a remoção de acentos é uma prática essencial no pré-processamento de textos para aprimorar a qualidade e a eficácia da análise de dados em linguagem natural."
      ]
    },
    {
      "cell_type": "code",
      "execution_count": null,
      "metadata": {
        "id": "BavRi-SDbbbK"
      },
      "outputs": [],
      "source": [
        "#Código para remoção dos acentos\n",
        "def remocaoAcentos(dataframe):\n",
        "    dataframe = dataframe.applymap(lambda x: unidecode(str(x)))\n",
        "    return dataframe"
      ]
    },
    {
      "attachments": {},
      "cell_type": "markdown",
      "metadata": {
        "id": "pTUuNFNKOwKJ"
      },
      "source": [
        "Teste isolado"
      ]
    },
    {
      "cell_type": "code",
      "execution_count": null,
      "metadata": {
        "id": "k6ZodRf6bbbK"
      },
      "outputs": [],
      "source": [
        "# # Teste isolado da função remoção de acentos\n",
        "# remocaoAcentos(df)"
      ]
    },
    {
      "attachments": {},
      "cell_type": "markdown",
      "metadata": {
        "id": "WYJ4p_SbbbbM"
      },
      "source": [
        "### 3.2 Remoção letras maiusculas"
      ]
    },
    {
      "attachments": {},
      "cell_type": "markdown",
      "metadata": {
        "id": "t1LJjI1mFz94"
      },
      "source": [
        "O tratamento de letras maiúsculas é importante porque, muitas vezes, a diferença entre letras maiúsculas e minúsculas pode impactar negativamente a análise do algoritmo, tendo em vista que ele pode interpretar as palavras como diferentes em determinadas situações. Esse problema pode levar a resultados imprecisos, tendo em vista que, diante do objetivo de contar a frequência de palavras, essas diferenças garantem que as palavras sejam contadas de maneira distinta."
      ]
    },
    {
      "cell_type": "code",
      "execution_count": null,
      "metadata": {
        "id": "Mo07IX55bbbN"
      },
      "outputs": [],
      "source": [
        "def tratamentoMaiusculas(dataframe):\n",
        "    # Pré-processamento das letras maiúsculas\n",
        "    dataframe = dataframe.applymap(lambda x: x.lower() if isinstance(x, str) else x)\n",
        "    # Exibição dos dados pré-processados\n",
        "    return dataframe"
      ]
    },
    {
      "attachments": {},
      "cell_type": "markdown",
      "metadata": {
        "id": "xg1nxmfUO0ja"
      },
      "source": [
        "Teste isolado"
      ]
    },
    {
      "cell_type": "code",
      "execution_count": null,
      "metadata": {
        "id": "SCAHPrdaF6s0"
      },
      "outputs": [],
      "source": [
        "# #teste isolado da função tratamento Maiúsculas\n",
        "# tratamentoMaiusculas(df)"
      ]
    },
    {
      "attachments": {},
      "cell_type": "markdown",
      "metadata": {
        "id": "yUhw8Lu9DMIA"
      },
      "source": [
        "### 3.3 Lematização"
      ]
    },
    {
      "attachments": {},
      "cell_type": "markdown",
      "metadata": {
        "id": "6baqKTLhDOOC"
      },
      "source": [
        "A lematização é uma técnica utilizada a fim de reduzir palavras flexionadas para sua forma básica. Ela representa as palavras através do infinitivo dos verbos e singular dos substantivos e adjetivos. Esse processo também leva em consideração o contexto inserido de cada palavra e resolve o problema da ambiguidade lexical, onde uma mesma palavra pode ter múltiplos significados."
      ]
    },
    {
      "cell_type": "code",
      "execution_count": null,
      "metadata": {
        "id": "Ue6FA-seDaBU"
      },
      "outputs": [],
      "source": [
        "# Função de lematização\n",
        "def textoLemmatizado(coluna):\n",
        "    textosLemmatizados = []\n",
        "    for texto in coluna:\n",
        "        # Processa o texto com o modelo do Spacy\n",
        "        doc = nlp(texto)\n",
        "        # Lematiza cada token no documento\n",
        "        lemmas = [token.lemma_ for token in doc]\n",
        "        # Junta os lemmas em um único texto\n",
        "        textoLemmatizado = ' '.join(lemmas)\n",
        "        textosLemmatizados.append(textoLemmatizado)\n",
        "    return textosLemmatizados"
      ]
    },
    {
      "cell_type": "code",
      "execution_count": null,
      "metadata": {
        "id": "drqKIIUHEfns"
      },
      "outputs": [],
      "source": [
        "# #Teste isolado:\n",
        "# resultado = textoLemmatizado(df['texto'])\n",
        "# resultado"
      ]
    },
    {
      "attachments": {},
      "cell_type": "markdown",
      "metadata": {
        "id": "PFoYSbT8bbbL"
      },
      "source": [
        "### 3.4 Tratamento de emojis"
      ]
    },
    {
      "attachments": {},
      "cell_type": "markdown",
      "metadata": {
        "id": "whNw64xxbbbL"
      },
      "source": [
        "Emojis são muito utilizados por usuários de redes sociais, ajudando-os, assim, a expressar emoções e sentimentos. Portanto, para melhor entender o sentido de uma mensagem, o tratamento de emojis podem fornecer uma melhor precisão para a análise e uma classificação mais precisa dos sentimentos de uma mensagem."
      ]
    },
    {
      "cell_type": "code",
      "execution_count": null,
      "metadata": {
        "id": "IZLG0AU0H9TH"
      },
      "outputs": [],
      "source": [
        "# Função para converter emojis em texto.\n",
        "# A função recebe dois argumentos. O dataframe e a coluna a ser tratada, e retorna o dataframe.\n",
        "def conversaoEmojis(coluna):\n",
        "    coluna = coluna.apply(emoji.demojize)\n",
        "    return coluna"
      ]
    },
    {
      "attachments": {},
      "cell_type": "markdown",
      "metadata": {
        "id": "y6UknEdSO3b4"
      },
      "source": [
        "Teste isolado"
      ]
    },
    {
      "cell_type": "code",
      "execution_count": null,
      "metadata": {
        "id": "MTAmi0z_Ii3A"
      },
      "outputs": [],
      "source": [
        "# # Teste isolado da função converter emoji em texto\n",
        "# conversaoEmojis(df['texto'])"
      ]
    },
    {
      "attachments": {},
      "cell_type": "markdown",
      "metadata": {
        "id": "M5xSqfYQbbbP"
      },
      "source": [
        "### 3.5 Tratamento de abreviações e pontuações"
      ]
    },
    {
      "attachments": {},
      "cell_type": "markdown",
      "metadata": {
        "id": "W1Bj3-fPbbbP"
      },
      "source": [
        "O tratamento de abreviações é importante porque garante que o algoritmo de processamento de linguagem natural interprete corretamente o significado do texto. Ao substituir abreviações por suas formas completas, o texto se torna mais legível e compreensível para o algoritmo que realizará o processamento."
      ]
    },
    {
      "cell_type": "code",
      "execution_count": null,
      "metadata": {
        "id": "3pnCai09bbbQ"
      },
      "outputs": [],
      "source": [
        "def tratamentoAbreviacoes(coluna):\n",
        "    coluna = coluna.astype(str)\n",
        "    coluna = coluna.str.lower()\n",
        "\n",
        "    # Dicionário com as abreviações e suas expansões, incluindo as palavras a serem substituídas\n",
        "    abreviacoes = {\n",
        "        r'\\bvc\\b': 'você',\n",
        "        r'\\btbm\\b': 'também',\n",
        "        r'\\bpq\\b': 'porque',\n",
        "        r'\\bmt\\b': 'muito',\n",
        "        r'\\bmto\\b': 'muito',\n",
        "        r'\\bblz\\b': 'beleza',\n",
        "        r'\\bjah\\b': 'já',\n",
        "        r'\\bbj\\b': 'beijo',\n",
        "        r'\\bflw\\b': 'falou',\n",
        "        r'\\bvlw\\b': 'valeu',\n",
        "        r'\\bkrl\\b': 'caralho',\n",
        "        r'\\bqnd\\b': 'quando',\n",
        "        r'\\bfds\\b': 'fim de semana',\n",
        "        r'\\bqq\\b': 'qualquer',\n",
        "        r'\\bmsg\\b': 'mensagem',\n",
        "        r'\\bpra\\b': 'para',\n",
        "        r'\\bp\\b': 'para',\n",
        "        r'\\bpqp\\b': 'puta que pariu',\n",
        "        r'\\bvlh\\b': 'velho',\n",
        "        r'\\bnss\\b': 'nossa',\n",
        "        r'\\bngm\\b': 'ninguém',\n",
        "        r'\\bqm\\b': 'quem',\n",
        "        r'\\bobs\\b': 'observação',\n",
        "        r'\\bqt\\b': 'quanto',\n",
        "        r'\\btbm ñ\\b': 'também não',\n",
        "        r'\\bpf\\b': 'por favor',\n",
        "        r'\\bpdc\\b': 'pode crer',\n",
        "        r'\\btalkei\\b': 'ok',\n",
        "        r'\\bd+\\b': 'demais',\n",
        "        r'\\bdms\\b': 'demais',\n",
        "        r'\\bsqn\\b': 'só que não',\n",
        "        r'\\bmsm\\b': 'mesmo',\n",
        "        r'\\bn/ao\\b': 'não',\n",
        "        r'\\bn/\\b': 'não',\n",
        "        r'\\bblz\\b': 'beleza',\n",
        "        r'\\bq\\b': 'que',\n",
        "        r'\\btd\\b': 'tudo',\n",
        "        r'\\bpfvr\\b': 'por favor',\n",
        "        r'\\bgnt\\b': 'gente',\n",
        "        r'\\bto\\b': 'estou',\n",
        "        r'\\bvcs\\b': 'vocês',\n",
        "        r'\\bn/oa\\b': 'não',\n",
        "        r'\\bsla\\b': 'sei lá',\n",
        "        r'\\bflws\\b': 'falou',\n",
        "        r'\\bbjos\\b': 'beijos',\n",
        "        r'\\bkd\\b': 'cadê',\n",
        "        r'\\blgl\\b': 'legal',\n",
        "        r'\\bnum\\b': 'número',\n",
        "        r'\\bjá q\\b': 'já que',\n",
        "        r'\\bmano\\b': 'irmão',\n",
        "        r'\\bpke\\b': 'porque',\n",
        "        r'\\bpr\\b': 'para',\n",
        "        r'\\btpm\\b': 'tensão pré-menstrual',\n",
        "        r'\\btá\\b': 'está',\n",
        "        r'\\bqmto\\b': 'muito',\n",
        "        r'\\bñ\\b': 'não',\n",
        "        r'\\bvamu\\b': 'vamos',\n",
        "        r'\\btmj\\b': 'estamos juntos',\n",
        "        r'[0-9]': '',\n",
        "        r'@\\w+': '',\n",
        "        r'[^\\w\\s]': '',\n",
        "        r'\\bwww\\.[^\\s]*': '',\n",
        "        r'\\bola\\b': '',\n",
        "        r'\\n': '',\n",
        "        r'\\bbtg\\b': '',\n",
        "        r'\\bpactual\\b': '',\n",
        "        r'\\bvocê\\b': '',\n",
        "        r'\\bdia\\b': '',\n",
        "        r'\\bjá\\b': '',\n",
        "        r'\\bsão\\b': '',\n",
        "        r'\\bsó\\b': '',\n",
        "        r'\\blink\\b': '',\n",
        "        r'\\br\\b': '',\n",
        "        r'\\brepost\\b': '',\n",
        "        r'\\baté\\b': '',\n",
        "        r'\\bpaulo\\b': '',\n",
        "        r'\\bbio\\b': '',\n",
        "        r'\\bdia\\b': '',\n",
        "        r'\\bdias\\b': '',\n",
        "        r'\\bsera\\b': '',\n",
        "        r'\\blá\\b': '',\n",
        "        r'\\bmês\\b': '',\n",
        "        r'\\bestão\\b': '',\n",
        "        r'\\balém\\b': '',\n",
        "        r'\\bano\\b': '',\n",
        "        r'\\banos\\b': '',\n",
        "    }\n",
        "\n",
        "    # Aplica a substituição de cada abreviação no dataframe\n",
        "    for abreviacao, expansao in abreviacoes.items():\n",
        "        coluna = coluna.apply(lambda x: re.sub(abreviacao, expansao, x, flags=re.IGNORECASE))\n",
        "\n",
        "    return coluna"
      ]
    },
    {
      "attachments": {},
      "cell_type": "markdown",
      "metadata": {
        "id": "5PLBCbxWbbbR"
      },
      "source": [
        "Teste isolado:"
      ]
    },
    {
      "cell_type": "code",
      "execution_count": null,
      "metadata": {
        "id": "5KEsO9NtbbbR"
      },
      "outputs": [],
      "source": [
        "# #teste isolado\n",
        "# tratamentoAbreviacoes(df['texto'])"
      ]
    },
    {
      "attachments": {},
      "cell_type": "markdown",
      "metadata": {
        "id": "8TyRlmSTbbbN"
      },
      "source": [
        "### 3.6 Tokenização"
      ]
    },
    {
      "attachments": {},
      "cell_type": "markdown",
      "metadata": {
        "id": "NkZyQbF9bbbO"
      },
      "source": [
        "A tokenização é um processo de pré-processamento utilizado para dividir os valores de uma coluna em pedaços menores, como palavras ou frases. Cada pedaço, conhecido como token, recebe um valor específico para identificação. Esse processo torna o texto mais gerenciável e facilita a análise e os processamentos subsequentes dos dados."
      ]
    },
    {
      "attachments": {},
      "cell_type": "markdown",
      "metadata": {
        "id": "UiA9iQBCMFIs"
      },
      "source": [
        "Função para gerar um dicionario, com os tokens"
      ]
    },
    {
      "cell_type": "code",
      "execution_count": null,
      "metadata": {
        "id": "dKCa1seKMHom"
      },
      "outputs": [],
      "source": [
        "#definição de função para tokenização em palavras\n",
        "def tokenizacaoPalavra(comentarios):\n",
        "  tokenizer = Tokenizer()\n",
        "  tokenizer.fit_on_texts(comentarios)\n",
        "  return tokenizer"
      ]
    },
    {
      "attachments": {},
      "cell_type": "markdown",
      "metadata": {
        "id": "MNYDSnvTPFb8"
      },
      "source": [
        "Tokenização por frase"
      ]
    },
    {
      "cell_type": "code",
      "execution_count": null,
      "metadata": {
        "id": "C2n1dbENbbbO"
      },
      "outputs": [],
      "source": [
        "# definição de função para tokenização em frases\n",
        "def tokenizacaoFrase(coluna):\n",
        "  comentarios = coluna.values\n",
        "  tokenFrase = []\n",
        "  for comentarios in comentarios:\n",
        "    tokenFrase.append(sent_tokenize(comentarios))\n",
        "  return tokenFrase"
      ]
    },
    {
      "attachments": {},
      "cell_type": "markdown",
      "metadata": {
        "id": "7098ZEmWXUQK"
      },
      "source": [
        "Função para gerar tokens de palavras, referentes a cada frase"
      ]
    },
    {
      "cell_type": "code",
      "execution_count": null,
      "metadata": {
        "id": "CmQllFlDaCHj"
      },
      "outputs": [],
      "source": [
        "def tokenizar(coluna):\n",
        "    # Tokeniza as frases\n",
        "    tokensPalavras = nltk.word_tokenize(coluna)\n",
        "    return tokensPalavras"
      ]
    },
    {
      "attachments": {},
      "cell_type": "markdown",
      "metadata": {
        "id": "iC9ufRU7PIWA"
      },
      "source": [
        "Testes isolados:"
      ]
    },
    {
      "attachments": {},
      "cell_type": "markdown",
      "metadata": {
        "id": "-cVcC7D_aJdx"
      },
      "source": [
        "Geração de dicionario."
      ]
    },
    {
      "cell_type": "code",
      "execution_count": null,
      "metadata": {
        "id": "cn5cKVECuLQA"
      },
      "outputs": [],
      "source": [
        "# tokenizacaoPalavra(df['texto'])"
      ]
    },
    {
      "attachments": {},
      "cell_type": "markdown",
      "metadata": {
        "id": "szBXORpvaOUc"
      },
      "source": [
        "Tokenizando frases."
      ]
    },
    {
      "cell_type": "code",
      "execution_count": null,
      "metadata": {
        "id": "lJIrbuVarPzb"
      },
      "outputs": [],
      "source": [
        "# tokenizacaoFrase(df['texto'])"
      ]
    },
    {
      "attachments": {},
      "cell_type": "markdown",
      "metadata": {
        "id": "l6hGt8_9aTdd"
      },
      "source": [
        "Tokenizando as palavras de cada post individualmente"
      ]
    },
    {
      "cell_type": "code",
      "execution_count": null,
      "metadata": {
        "id": "Ep5TKiZYalBz"
      },
      "outputs": [],
      "source": [
        "# resultado = df['texto'].apply(tokenizar)\n",
        "# resultado"
      ]
    },
    {
      "attachments": {},
      "cell_type": "markdown",
      "metadata": {
        "id": "BAQJ4x_3bbbO"
      },
      "source": [
        "### 3.7 Remoção de stopwords\n"
      ]
    },
    {
      "attachments": {},
      "cell_type": "markdown",
      "metadata": {
        "id": "ZQjRQ5HYbbbP"
      },
      "source": [
        "A remoção dos Stop Words é um pré-processamento importante pois elimina palavras irrelevantes que podem prejudicar a precisão do modelo final, como artigos, preposições, conjunções, entre outros conectores. Esse tratamento ajuda na eficácia da classificação de texto  e na redução tanto do vocabulário quanto de ruídos (palavras que não têm um valor semântico significativo)."
      ]
    },
    {
      "cell_type": "code",
      "execution_count": null,
      "metadata": {
        "id": "12aYfCC9v49C"
      },
      "outputs": [],
      "source": [
        "def remocaoStopWords(coluna):\n",
        "    listaSemStopWords = []\n",
        "    for texto in coluna:\n",
        "        # converte o texto em um documento do Spacy\n",
        "        doc = nlp(texto)\n",
        "        # filtra os tokens que não são stop words\n",
        "        tokenSemStopwords = [token.text for token in doc if not token.is_stop]\n",
        "        # adiciona a lista de frases sem stop words\n",
        "        listaSemStopWords.append(' '.join(tokenSemStopwords))\n",
        "    # substitui a coluna original pelos textos sem stop words\n",
        "    coluna[:] = listaSemStopWords\n",
        "    return coluna"
      ]
    },
    {
      "attachments": {},
      "cell_type": "markdown",
      "metadata": {
        "id": "baEM2yh9QBQm"
      },
      "source": [
        "Teste isolado"
      ]
    },
    {
      "cell_type": "code",
      "execution_count": null,
      "metadata": {
        "id": "C-25119jPba_"
      },
      "outputs": [],
      "source": [
        "# remocaoStopWords(df['texto'])"
      ]
    },
    {
      "attachments": {},
      "cell_type": "markdown",
      "metadata": {
        "id": "pTv-ak_DKv35"
      },
      "source": [
        "### 3.8 Extração de hashtags\n",
        "\n",
        "A extração de hashtags é o processo de identificar e extrair hashtags de um texto. As hashtags são palavras ou frases precedidas pelo símbolo \"#\" (hash) e são comumente usadas em plataformas de mídia social para categorizar e agrupar conteúdo relacionado."
      ]
    },
    {
      "cell_type": "code",
      "execution_count": null,
      "metadata": {
        "colab": {
          "base_uri": "https://localhost:8080/"
        },
        "id": "KvcsyA3MKqfs",
        "outputId": "c7d6a2ab-174c-4530-cbaa-b8311c90bb0f"
      },
      "outputs": [
        {
          "name": "stdout",
          "output_type": "stream",
          "text": [
            "   id          dataPublicada               autor  \\\n",
            "0   2  \"2022-03-04 09:29:00\"       winthegame_of   \n",
            "2   4  \"2022-03-04 08:36:00\"          lmviapiana   \n",
            "3   5  \"2022-03-03 21:10:00\"        vanilson_dos   \n",
            "4   6  \"2022-03-03 20:54:00\"         ricktolledo   \n",
            "5   7  \"2022-03-03 20:21:00\"  donadabolsaoficial   \n",
            "\n",
            "                                               texto targetSentimento  \\\n",
            "0  A Alvarez & Marsal estará conosco no Sportainm...          NEUTRAL   \n",
            "2                               Minuto touro de ouro         POSITIVE   \n",
            "3                                   @ricktolledo Sim          NEUTRAL   \n",
            "4  Queria saber se a Btg banking é a própria btg ...         POSITIVE   \n",
            "5  Com o início da guerra entre Rússia e Ucrânia,...         NEGATIVE   \n",
            "\n",
            "  tipoInteracao  anomalia  probabilidadeAnomalia  \\\n",
            "0      marcação         0                     43   \n",
            "2    comentário         0                     38   \n",
            "3      resposta         0                     17   \n",
            "4    comentário         0                     20   \n",
            "5      marcação         0                     46   \n",
            "\n",
            "                                            linkPost  processado  \\\n",
            "0           https://www.instagram.com/p/CarpQUluh7z/           0   \n",
            "2  https://www.instagram.com/p/CapXhB5Lvas/#17977...           0   \n",
            "3  https://www.instagram.com/p/CapXhB5Lvas/#17842...           0   \n",
            "4  https://www.instagram.com/p/CapXhB5Lvas/#17935...           0   \n",
            "5           https://www.instagram.com/p/CaqPAzlObCu/           0   \n",
            "\n",
            "   contemHyperlink                                           hashtags  \n",
            "0                0  [#Hubstage, #SportainmentLabs, #BicharaeMotta,...  \n",
            "2                0                                                 []  \n",
            "3                0                                                 []  \n",
            "4                0                                                 []  \n",
            "5                0  [#Ouro, #hedge, #bitcoin, #criptomoedas, #vola...  \n",
            "['#Hubstage', '#SportainmentLabs', '#BicharaeMotta', '#BTGPactual', '#WinTheGame', '#Sportainment', '#Esporte', '#Entretenimento', '#Digital', '#futuro', '#Ouro', '#hedge', '#bitcoin', '#criptomoedas', '#volatilidade', '#moveday', '#wiseaai', '#btgpactual', '#SejaOnix', '#DêUmBTG', '#Hubstage', '#SportainmentLabs', '#BicharaeMotta', '#BTGPactual', '#WinTheGame', '#Sportainment', '#Esporte', '#Entretenimento', '#Digital', '#futuro', '#Hubstage', '#SportainmentLabs', '#BicharaeMotta', '#BTGPactual', '#WinTheGame', '#Sportainment', '#Esporte', '#Entretenimento', '#Digital', '#futuro', '#negóciosdeimpacto', '#impactoambiental', '#empreendedorismofeminino', '#empreendedorismoperiferico', '#afroempreendedorismo', '#KaleydosOficial', '#hub', '#conexão', '#empresarios', '#economia', '#agro', '#agropecuáriabrasil', '#agronegocio', '#brasil', '#agropecuaria', '#daytrader', '#mercadofinanceiro', '#stockmarket', '#btg', '#oficinadotrader', '#dolarfuturo', '#dolarsemsetup', '#oficinadofraja', '#catupiry', '#blueberrytart', '#blueberryrecipes', '#catupiryblueberrytart', '#creamcheesetart', '#chefleticia', '#virtualcookingclass', '#onlinecookingclass', '#latincookingclass', '#Hubstage', '#SportainmentLabs', '#BicharaeMotta', '#BTGPactual', '#WinTheGame', '#Sportainment', '#Esporte', '#Entretenimento', '#Digital', '#futuro', '#btgfaztech', '#btgbtgpactual', '#techwomen', '#tecnologia', '#DiaInternacionaldasMulheres', '#btgfaztech', '#btgbtgpactual', '#techwomen', '#tecnologia', '#DiaInternacionaldasMulheres', '#diversifiicando', '#bcff', '#bcff11', '#btg', '#btgpactual', '#fiisdepapel', '#fof', '#fundosdefundos', '#fiis', '#fundosimobiliarios', '#1milhãoemfiis', '#investir', '#finançaspessoas', '#otimistaoficial', '#comunidadedootimista', '#rendaextra', '#investir', '#bolsadevalores', '#primorico', '#lucaspit', '#pitmoney', '#dividendos', '#rendimentos', '#juroscompostos', '#business', '#businesswoman', '#businessman', '#bussiness', '#negocios', '#negocio', '#forbes', '#forbesbr', '#fitness', '#fashion', '#fitnessmotivation', '#família', '#famosos', '#cash', '#casamento', '#cashondelivery', '#dolar', '#euro', '#bancocentral', '#lifestyle', '#instagram', '#interiordesign', '#predio', '#vistamar', '#altopadrao', '#altopadrão', '#artigosdeluxo', '#imoveis', '#imoveisdeluxo', '#imoveisaltopadrao', '#business', '#businesswoman', '#businessman', '#bussiness', '#negocios', '#negocio', '#forbes', '#forbesbr', '#fitness', '#fashion', '#fitnessmotivation', '#família', '#bc', '#brasil', '#casamento', '#cashondelivery', '#dolar', '#euro', '#bancocentral', '#lifestyle', '#instagrambrasil', '#interiordesign', '#predio', '#vistamar', '#altopadrao', '#altopadrão', '#sp', '#imoveis', '#imoveisdeluxo', '#imoveisaltopadrao', '#Hubstage', '#SportainmentLabs', '#BicharaeMotta', '#BtgPactual', '#WinTheGame', '#Sportainment', '#Esporte', '#Entretenimento', '#ceoconference2022', '#vivifinancas', '#Hubstage', '#SportainmentLabs', '#BicharaeMotta', '#BtgPactual', '#WinTheGame', '#Sportainment', '#Esporte', '#Entretenimento', '#Hubstage', '#SportainmentLabs', '#BicharaeMotta', '#BTGPactual', '#WinTheGame', '#Sportainment', '#Esporte', '#Entretenimento', '#Digital', '#btgpactual', '#ceconference2022', '#ceoconference', '#ApoiePietroFittipaldi', '#trxf11', '#cpel6', '#knsc11', '#mxrf11', '#cmig3', '#acoes', '#fundosimobiliarios', '#dividendos', '#clearcorretora', '#proveitos', '#rendimentos', '#rendafii', '#jcp', '#b3', '#bolsadevalores', '#investir', '#boavista', '#roraima', '#btg', '#btgpactual', '#ceoconference', '#btgpactual', '#deumBTG', '#investimentos', '#finanças', '#economia', '#assessoradeinvestimentos', '#vidadeassessor', '#aai', '#mulheresnomercado', '#educacaofinanceira', '#investimentos', '#economia', '#financas', '#cenarioeconomico', '#cenariomacro', '#mercadoemfoco', '#mercadofinanceiro', '#planejamentofinanceiro', '#investimentos', '#previdencia', '#futuro', '#tempo', '#familia', '#btg', '#todossaoimportantes', '#somosafscapital', '#girlpower', '#mulheresempoderadas', '#mulheresnopoder', '#mulheresnomercadofinanceiro', '#ceoconference2022', '#btgpactual', '#empoderamentofeminino', '#investimentos', '#nps', '#satisfacaodocliente', '#legacyinvestimentos', '#assessoriadeinvestimentos', '#tennis', '#tennisplayer', '#tenniscoach', '#treino', '#endorfina', '#vitamind', '#fitness', '#orthopride', '#xpinvestimentos', '#btgpactual', '#genialinvestimentos', '#shoppingleblon', '#proshop', '#montebravoinvestimentos', '#leblon', '#jardimpernambuco', '#tenisrj', '#rioopen', '#cbtoficial', '#itftennis', '#atp', '#aulasdetenis', '#auladetenis', '#lacoste', '#nike', '#rayban', '#investimento', '#futureinvest', '#btg', '#liderança', '#geopolitica', '#CEO', '#telecomunicações', '#economia', '#inovação', '#debate', '#bolsonaro2022', '#mkt', '#CEOConference', '#ceoconference', '#ceoconferencebtg', '#investinrealestate', '#fiis', '#danielcaldeira', '#cordierinvestimentos', '#ceoconference', '#btgpactual', '#investimentos', '#a3sinvestimentos', '#a3sinvestimentos', '#lucro', '#mercadofinanceiro', '#bovespa', '#traderbrasil', '#btg', '#investimentos', '#dinheiro', '#financ', '#bolsa', '#investidor', '#sucesso', '#in', '#bolsadevalores', '#rico', '#dinheiro', '#abundancia', '#prosperidade', '#tempoedinheiro', '#mulheresinvestidora3s', '#mulheresinvestidoras', '#btgpactualdigital', '#abaai', '#agenteautonomodeinvestimentos', '#assessordeinvestimentos', '#orgulhodeserassessor', '#aai', '#abaai', '#quemtemtimetemtudo', '#Hubstage', '#SportainmentLabs', '#BicharaeMotta', '#BtgPactual', '#WinTheGame', '#Sportainment', '#Esporte', '#Entretenimento', '#moveday', '#wiseaai', '#btgpactual', '#frases', '#frasesmotivacionais', '#phrases', '#motivation', '#Hubstage', '#SportainmentLabs', '#BicharaeMotta', '#BtgPactual', '#WinTheGame', '#Sportainment', '#Esporte', '#Entretenimento', '#futuro', '#Hubstage', '#SportainmentLabs', '#BicharaeMotta', '#BtgPactual', '#WinTheGame', '#Sportainment', '#Esporte', '#Entretenimento', '#futuro', '#acoes', '#ibov', '#ibovespa', '#bovespa', '#b3', '#mercadofinanceiro', '#bolsadevalores', '#swingtrade', '#daytrade', '#investimento', '#covid', '#petr4', '#trader', '#itub4', '#daytrader', '#daytrading', '#volatilidade', '#bbas3', '#dolar', '#bbdc4', '#biden', '#bitcoin', '#putin', '#viverdetrader', '#mglu3', '#kiev', '#vale3', '#russia', '#ucrania', '#investir', '#ações', '#dividendos', '#fundoimobiliario', '#fundosimobiliarios', '#fundosimobiliários', '#b3', '#bolsadevalores', '#rendavariável', '#buyandholdbrasil', '#investimentos', '#fiis', '#fii', '#hgru11', '#trxf11', '#brco11', '#vilg11', '#btlg11', '#investimento', '#03', '#fundosimobiliarios', '#liberdadefinanceira', '#rendapassiva', '#fiis', '#viverderenda', '#rendaextra', '#rendavariavel', '#bolsadevalores', '#mercadofinanceiro', '#03', '#fundosimobiliarios', '#liberdadefinanceira', '#rendapassiva', '#fiis', '#viverderenda', '#rendaextra', '#rendavariavel', '#bolsadevalores', '#mercadofinanceiro', '#Hubstage', '#SportainmentLabs', '#BicharaeMotta', '#BTGPactual', '#WinTheGame', '#Sportainment', '#Esporte', '#Entretenimento', '#Digital', '#futuro', '#Hubstage', '#SportainmentLabs', '#BicharaeMotta', '#BTGPactual', '#WinTheGame', '#Sportainment', '#Esporte', '#Entretenimento', '#Digital', '#futuro', '#Hubstage', '#SportainmentLabs', '#BicharaeMotta', '#BtgPactual', '#WinTheGame', '#Sportainment', '#Esporte', '#Entretenimento', '#futuro', '#Hubstage', '#SportainmentLabs', '#BicharaeMotta', '#BtgPactual', '#WinTheGame', '#Sportainment', '#Esporte', '#Entretenimento', '#futuro', '#Forevercapital', '#BTGpactual', '#forabolsonarogenocida', '#forabolsonaro', '#investimentos', '#assessoria', '#perspectiveinvestimentos', '#pesrpective', '#rendavariavel', '#rendapassiva', '#dêumbtg', '#rendafixa', '#patrimonio', '#dinheiro', '#liberdade', '#gestaofinanceira', '#crescimento', '#btgpactual', '#btgsummit2022', '#bestperformance', '#assessoriadeinvestimentos', '#melhorescritóriobtg', '#mulheresnomercadofinanceiro', '#BTGPactual', '#CEOConference', '#Ceará', '#ceoconference', '#educação', '#empresas', '#ceo', '#btgpactual', '#btg', '#ceoconference22', '#edtech', '#edtechs', '#startups', '#FCFL11', '#FCFL', '#business', '#businesswoman', '#businessman', '#bussiness', '#negocios', '#negocio', '#forbes', '#forbesbr', '#fitness', '#fashion', '#fitnessmotivation', '#família', '#famosos', '#cash', '#casamento', '#cashondelivery', '#dolar', '#euro', '#bancocentral', '#lifestyle', '#instagram', '#interiordesign', '#predio', '#vistamar', '#altopadrao', '#altopadrão', '#artigosdeluxo', '#imoveis', '#imoveisdeluxo', '#imoveisaltopadrao', '#escolhas', '#ceoconference2022', '#btgpactual', '#investimentos', '#economia', '#política', '#CEOConferenceBTG2022', '#Hubstage', '#SportainmentLabs', '#BicharaeMotta', '#BTGPactual', '#WinTheGame', '#Sportainment', '#Esporte', '#Entretenimento', '#Digital', '#futuro', '#Hubstage', '#SportainmentLabs', '#BicharaeMotta', '#BtgPactual', '#WinTheGame', '#Sportainment', '#Esporte', '#Entretenimento', '#RevistaIdeal', '#BTGPactual', '#banco', '#agrosocial', '#programa', '#aceleracao', '#s', '#zinvest', '#jovens', '#mercadofinanceiro', '#investimentos', '#investimento', '#Investimentos', '#BTGPactual', '#CordierInvestimentos', '#dividendos', '#zsummit', '#geracaoz', '#investimentos', '#agosocial', '#btgsoma', '#btgsomameioambiente', '#performancecomproposito', '#sustentabilidade', '#meioambiente', '#preservaçãoambiental', '#biodiversidade', '#Hubstage', '#SportainmentLabs', '#BicharaeMotta', '#BtgPactual', '#WinTheGame', '#Sportainment', '#Esporte', '#Entretenimento', '#futuro', '#tennis', '#tenis', '#sol', '#rio40graus', '#vitamind', '#endorfina', '#treino', '#rioopen', '#tenisrj', '#cbtoficial', '#atp', '#itftennis', '#orthopride', '#rjfisioterapia', '#xpinvestimentos', '#btgpactual', '#arenabtg', '#montebravoinvestimentos', '#genialinvestimentos', '#proshop', '#proshop', '#nike', '#rayban', '#aabbrio', '#escolinhagugaaabbleblon', '#leblon', '#riodejaneiro', '#cirurgiaplastica', '#aulasdetenis', '#auladetenis', '#mulheresempoderadas', '#asmulheresvaodominaromundo', '#mulheresfortes', '#diadasmulheres', '#investirmelhor', '#investimentos', '#Hubstage', '#SportainmentLabs', '#BicharaeMotta', '#BTGPactual', '#WinTheGame', '#Sportainment', '#Esporte', '#Entretenimento', '#Digital', '#futuro', '#assessordeinvestimentos', '#personalbanker', '#happywomensday', '#chefleticia', '#womenempowerment', '#virtualcookingclass', '#BTGSoma', '#BTGSomaMeioAmbiente', '#btgpactual', '#investimentos', '#aracaju', '#natalrn', '#ipatinga', '#riobranco', '#bolsadevalores', '#rendafixa', '#rendavariavel', '#oqueteimpulsiona', '#oqueteinspira', '#oquetefazseguir', '#oquetefazser', '#oquetemove', '#TRXF11', '#BTLG11', '#FIIs', '#fundosimobiliarios', '#ligadefiis', '#VemComigo', '#SejaOnix', '#deumBTGnoseusInvestimentos', '#meioambiente', '#investimentos', '#empreendedor', '#empreendedorismo', '#saopaulo', '#Brasil', '#Hubstage', '#SportainmentLabs', '#BicharaeMotta', '#BtgPactual', '#WinTheGame', '#Sportainment', '#Esporte', '#Entretenimento', '#futuro', '#a3sinvestimentos', '#a3sinvestimentos', '#lucro', '#mercadofinanceiro', '#bovespa', '#traderbrasil', '#btg', '#investimentos', '#dinheiro', '#financ', '#bolsa', '#investidor', '#sucesso', '#in', '#bolsadevalores', '#rico', '#dinheiro', '#abundancia', '#prosperidade', '#tempoedinheiro', '#mulheresinvestidora3s', '#mulheresinvestidoras', '#btgpactualdigital', '#abaai', '#agenteautonomodeinvestimentos', '#assessordeinvestimentos', '#orgulhodeserassessor', '#aai', '#abaai', '#tbt', '#btgpactualdigital', '#btgpactual', '#prosperidadeinvestimentos', '#revistaexame', '#mercadofinanceiro', '#investimentos', '#invistamelhor', '#saopaulo', '#ação', '#movingforward', '#keepgoing', '#foco', '#mercadofinanceiro', '#qualidadedevida', '#lifestyle', '#energy', '#assessordeinvestimentos', '#advisor', '#financialadvisor', '#liberdadefinanceira', '#rendapassiva', '#fundosimobiliarios', '#candlestick', '#doji', '#dojistar', '#candlesticks', '#mercadodeacoes', '#mercadofinanciero', '#forex', '#b3', '#gain', '#money', '#market', '#price', '#dougtrader', '#formandotraders', '#priceaction', '#daytrader', '#analisegrafica', '#bovespa', '#haramidealta', '#bullishharami', '#trade', '#daytrade', '#teamurso', '#mercadofinanceiro', '#daytrader', '#suporte', '#resistencia', '#b3', '#advisor', '#assessora', '#senior', '#investimentos', '#rendafixa', '#creditoprivado', '#cambio', '#rendavariavel', '#banco', '#bancocentral', '#americalatina', '#cpa10', '#ancord', '#private', '#wealthmanagement', '#operação', '#cri', '#cra', '#debentures', '#btg', '#octocapital', '#gowave', '#blackrocks', '#blackrocksstartups', '#inovação', '#startups', '#programadeaceleração', '#pormaisnegrasenegros', '#aceleração', '#tecnologia', '#blackintech', '#blackstartups', '#empreendedorismo', '#growstartups', '#btgpactual', '#advisor', '#assessora', '#senior', '#investimentos', '#rendafixa', '#creditoprivado', '#cambio', '#rendavariavel', '#Hubstage', '#SportainmentLabs', '#BicharaeMotta', '#BtgPactual', '#WinTheGame', '#Sportainment', '#Esporte', '#Entretenimento', '#futuro', '#vilajoanita', '#altmaincorporadora', '#sustentabilidade', '#comunidade', '#SportainmentLabs', '#BicharaeMotta', '#Hubstage', '#BTGPactual', '#WinTheGame', '#Sportainment', '#Esporte', '#Entretenimento', '#juntoscontraocoronavírus', '#a3sinvestimentos', '#lucro', '#mercadofinanceiro', '#bovespa', '#traderbrasil', '#btg', '#investimentos', '#dinheiro', '#financ', '#bolsa', '#investidor', '#sucesso', '#in', '#bolsadevalores', '#rico', '#dinheiro', '#abundancia', '#prosperidade', '#tempoedinheiro', '#mulheresinvestidora3s', '#mulheresinvestidoras', '#btg', '#btgpctual', '#btgaai', '#quemtemtimetemtudo', '#a3sinvestimentos', '#a3sinvestimentos', '#lucro', '#mercadofinanceiro', '#bovespa', '#traderbrasil', '#btg', '#investimentos', '#dinheiro', '#financ', '#bolsa', '#investidor', '#sucesso', '#in', '#bolsadevalores', '#rico', '#dinheiro', '#abundancia', '#prosperidade', '#tempoedinheiro', '#mulheresinvestidora3s', '#mulheresinvestidoras', '#btgpactualdigital', '#abaai', '#agenteautonomodeinvestimentos', '#assessordeinvestimentos', '#orgulhodeserassessor', '#aai', '#abaai', '#moveday', '#marciotome', '#investimento', '#biblia', '#conselhos', '#joveminvestidor', '#instagram', '#boanoite', '#dinheiro', '#empreendedorismo', '#bahia', '#assembleiadedeus', '#dinheiroonline', '#bibliasagrada', '#jovemempreendedor', '#investment', '#candeias', '#minasgerais', '#salmo91', '#salvador', '#gospel', '#aovivo', '#prosperidade', '#fe', '#jesuscristoeosenhor', '#sdvsempre', '#rtblikes', '#rtbcomentarios', '#bach9', '#2', '#blackrocks', '#blackrocksstartups', '#inovação', '#startups', '#programadeaceleração', '#pormaisnegrasenegros', '#aceleração', '#tecnologia', '#blackintech', '#blackstartups', '#empreendedorismo', '#growstartups', '#jobs4her', '#posicionamentodemarca', '#mercadodeluxo', '#negociosdeluxo', '#empreendedorismofeminino', '#mulheresdesucesso', '#posicionamentodemarca', '#mercadodeluxo', '#negociosdeluxo', '#empreendedorismofeminino', '#mulheresdesucesso', '#Hubstage', '#SportainmentLabs', '#BicharaeMotta', '#BtgPactual', '#WinTheGame', '#Sportainment', '#Esporte', '#Entretenimento', '#futuro', '#investimentos', '#carreira', '#oportunidade', '#mindset', '#protagonismo', '#propositodevida', '#resiliencia', '#rrrkinvestcomvoce', '#emporiodeliciasesabores', '#investidoraolongodotempo', '#fexc', '#fii', '#fundosinvestimentos', '#fiis', '#rendavariavel', '#rendapassivaeresidual', '#investiment', '#investimentosfinanceiros', '#fundosimobiliários', '#live', '#diadelive', '#assessoradeinvestimentos', '#assessordeinvestimentos', '#vidadeassessor', '#aai', '#ancord', '#carreira', '#miurainvestimentos', '#btgpactual', '#btgpactualdigital', '#invistaconsciente', '#mulheresnomercado', '#mercadoemfoco', '#investidor', '#investidorinteligente', '#economia', '#btgpactual', '#planejamentofinanceiro', '#educacaofinanceira', '#Hubstage', '#SportainmentLabs', '#BicharaeMotta', '#BtgPactual', '#WinTheGame', '#Sportainment', '#Esporte', '#Entretenimento', '#futuro', '#Hubstage', '#SportainmentLabs', '#BicharaeMotta', '#BtgPactual', '#WinTheGame', '#Sportainment', '#Esporte', '#Entretenimento', '#trademap', '#btgpactual', '#DIO', '#MakeTheChange', '#BornToBeGlobal', '#GoGoGo', '#Hubstage', '#SportainmentLabs', '#BicharaeMotta', '#BtgPactual', '#WinTheGame', '#Sportainment', '#Esporte', '#Entretenimento', '#futuro', '#live', '#diadelive', '#assessoradeinvestimentos', '#assessordeinvestimentos', '#vidadeassessor', '#aai', '#ancord', '#carreira', '#miurainvestimentos', '#btgpactual', '#btgpactualdigital', '#invistaconsciente', '#mulheresnomercado', '#mercadoemfoco', '#investidor', '#investidorinteligente', '#economia', '#advisor', '#assessoria', '#private', '#bank', '#bancocentral', '#rendafixa', '#rendavariavel', '#cambio', '#octocapital', '#btg', '#corporate', '#credito', '#investimentos', '#Investidores', '#MercadoFinanceiro', '#Investimentos', '#AssessoriaDeInvestimentos', '#ProfittoGrowth', '#Hubstage', '#SportainmentLabs', '#BicharaeMotta', '#BtgPactual', '#WinTheGame', '#Sportainment', '#Esporte', '#Entretenimento', '#futuro', '#cuiaba', '#ambientacao', '#Hubstage', '#SportainmentLabs', '#BicharaeMotta', '#BtgPactual', '#WinTheGame', '#Sportainment', '#Esporte', '#Entretenimento', '#futuro', '#Hubstage', '#SportainmentLabs', '#BicharaeMotta', '#BtgPactual', '#WinTheGame', '#Sportainment', '#Esporte', '#Entretenimento', '#futuro', '#fifa22', '#fifa', '#Hubstage', '#SportainmentLabs', '#BicharaeMotta', '#BtgPactual', '#WinTheGame', '#Sportainment', '#Esporte', '#Entretenimento', '#futuro', '#concerto', '#Temporadadeconcertos', '#clubehebraica', '#beethoven', '#mendelssohn', '#osh', '#orquestrasinfônicaheliopolis', '#orquestrasinfônica', '#ong', '#Heliópolis', '#arte', '#cultura', '#educação', '#summitalliance2022', '#salvador', '#vamosjuntos', '#marcosaravalle', '#investimentos', '#ações', '#oportunidade', '#feirahippiedeipanema', '#ipanema', '#praçageneralosório', '#ipanema', '#rj', '#riodejaneiro', '#errejota', '#riodejaneiro', '#summitalliance2022', '#fundosimobiliarios', '#fiis', '#ALMI11', '#lajescorporativas', '#mercadoimobiliario', '#fundoimobiliario', '#realestat', '#btgpactual', '#btgwealthmanagement', '#btgpactualevents', '#BTGPactual', '#PlanejamentoFinanceiro', '#Rendimentos', '#Investimentos', '#OctoCapital', '#educacaofinanceira', '#mossoró', '#RendaFixa', '#Inflação', '#Alvarez', '#LETSPLAY', '#BolsonaroPresidenteAte2026', '#TarcisioGovernadorSP', '#Alvarez', '#LETSPLAY', '#Hubstage', '#SportainmentLabs', '#BicharaeMotta', '#BtgPactual', '#WinTheGame', '#Sportainment', '#Esporte', '#Entretenimento', '#futuro', '#Alvarez', '#LETSPLAY', '#PGLaw', '#PGTalks', '#DistressedAssets', '#BTGPactual', '#GovernancaCorporativa', '#Alvarez', '#LETSPLAY', '#Hubstage', '#SportainmentLabs', '#BicharaeMotta', '#BtgPactual', '#WinTheGame', '#Sportainment', '#Esporte', '#Entretenimento', '#futuro', '#bolsonarogenocida', '#morojuizladrão', '#cirogomesporralouca', '#eduardoleitementiroso', '#joaodorianuncamais', '#brasil', '#eleicoes2022', '#lulapresidente', '#oneinvestimentos', '#inflacao', '#mercadofinanceiro', '#investimentos', '#investidor', '#2022', '#assessoriadeinvestimentos', '#independenciafinanceira', '#liberdadefinanceira', '#assessordeinvestimentos', '#iDinheiro', '#corretoras', '#melhorescorretoras', '#corretorasdevalores', '#investimentosdesucesso', '#investir', '#investimentoparainiciantes', '#pequenosinvestidores', '#investimentosinteligentes', '#rendafixa', '#educaçãofinanceira', '#investment', '#btgpactual', '#farialima', '#OMelhor', '#Bolsonaro2022', '#assessoria', '#advisor', '#rendafixa', '#ipca', '#consumidor', '#indice', '#btg', '#octocapital', '#sportainment', '#sportainmentlabs', '#advisor', '#assessor', '#assessoria', '#private', '#altarenda', '#banco', '#a3sinvestimentos', '#a3sinvestimentos', '#lucro', '#mercadofinanceiro', '#bovespa', '#traderbrasil', '#btg', '#investimentos', '#dinheiro', '#financ', '#bolsa', '#investidor', '#sucesso', '#in', '#bolsadevalores', '#rico', '#dinheiro', '#abundancia', '#prosperidade', '#tempoedinheiro', '#mulheresinvestidora3s', '#mulheresinvestidoras', '#btgpactualdigital', '#abaai', '#agenteautonomodeinvestimentos', '#assessordeinvestimentos', '#orgulhodeserassessor', '#aai', '#abaai', '#occambrasil', '#LatamFocus2022', '#tenis', '#sport', '#miamiopen', '#Seguimos', '#occambrasil', '#investimentos', '#dinheiroemfoco', '#dolar', '#economia', '#inflação', '#poupança', '#fiis', '#team', '#alemdopapo', '#alemdotrade', '#premiação', '#revistaexame', '#gestores', '#negocios', '#mercados', '#MaisAAI', '#sjcity', '#alemdopapo', '#alemdotrade', '#premiação', '#revistaexame', '#gestores', '#negocios', '#mercados', '#MaisAAI', '#sjcity', '#BTGPactual', '#BTGPactualColombia', '#ExperienciaGlobal', '#ConocimientoLocal', '#Inversiones2022', '#nfts11', '#nft', '#filieseabaai', '#abaai', '#agenteautonomodeinvestimento', '#sportalliance', '#data', '#sportainment', '#letsplay', '#gameon', '#tennistimeeventosexclusivos', '#tbt', '#rendavariavel', '#acoes', '#btg', '#a3sinvestimentos', '#a3sinvestimentos', '#lucro', '#mercadofinanceiro', '#bovespa', '#traderbrasil', '#btg', '#investimentos', '#dinheiro', '#financ', '#bolsa', '#investidor', '#sucesso', '#in', '#bolsadevalores', '#rico', '#dinheiro', '#abundancia', '#prosperidade', '#tempoedinheiro', '#mulheresinvestidora3s', '#mulheresinvestidoras', '#btgpactualdigital', '#abaai', '#agenteautonomodeinvestimentos', '#assessordeinvestimentos', '#orgulhodeserassessor', '#aai', '#abaai', '#quemtemtimetemtudo', '#mercadofinanceiro', '#mercadodecapitais', '#bolsadevalores', '#investimentos', '#btgpactualdigital', '#Hubstage', '#SportainmentLabs', '#BicharaeMotta', '#BtgPactual', '#WinTheGame', '#Sportainment', '#Esporte', '#Entretenimento', '#esporte', '#Hubstage', '#SportainmentLabs', '#BicharaeMotta', '#BtgPactual', '#WinTheGame', '#Sportainment', '#Esporte', '#Entretenimento', '#valorsacre', '#sacreinvestimentos', '#btgpactual', '#maringa', '#valorsacre', '#sacreinvestimentos', '#btgpactual', '#maringa', '#AmchamLiga', '#mercadofinanceiro', '#mercadodecapitais', '#bolsadevalores', '#investimentos', '#btgpactualdigital', '#mulheresNoMercadoFinanceiro', '#BTGPactual', '#dêumbtg', '#sejaonix', '#tenis', '#tennis', '#saopaulo', '#tennistips', '#tennisclinic', '#sprintcomercial', '#aceleracao', '#timedecapacitacao', '#cordierinvestimentos', '#metaverso', '#educacaofinanceira', '#mercadofinanceiro', '#aai', '#trader', '#tapereading', '#daytrader', '#job', '#financial', '#banker', '#advisor', '#assessoriaprivate', '#atendimentoruim', '#pessimonegocio', '#irresponsavel', '#semsolução', '#valorsacre', '#sacreinvestimentos', '#btgpactual', '#maringa', '#a3sinvestimentos', '#a3sinvestimentos', '#lucro', '#mercadofinanceiro', '#bovespa', '#traderbrasil', '#btg', '#investimentos', '#dinheiro', '#financ', '#bolsa', '#investidor', '#sucesso', '#in', '#bolsadevalores', '#rico', '#dinheiro', '#abundancia', '#prosperidade', '#tempoedinheiro', '#mulheresinvestidora3s', '#mulheresinvestidoras', '#btgpactualdigital', '#abaai', '#agenteautonomodeinvestimentos', '#assessordeinvestimentos', '#orgulhodeserassessor', '#aai', '#abaai', '#prosas', '#edital', '#estanaprosas', '#btg', '#recorde', '#receitas', '#lucros', '#chairman', '#CFO', '#CEO', '#jurimetria', '#falencias', '#observatorio', '#insolvencia', '#direito', '#abj', '#CordierInvestimentos', '#BTGPactual', '#Evento', '#VozFeminina', '#Mulheres', '#MercadoFinanceiro', '#btgpactual', '#luigicani', '#vemserbtg', '#vemserprofittoinvestimentos', '#unirparafortalecer', '#gwminvestments', '#btgpactual', '#assessoriadeinvestimentos', '#assessordeinvestimentos', '#btgbankers', '#vidadeassessor', '#PartnerShipMarketing', '#STAFF', '#VEMPRADIPMAISVOCETAMBEM', '#MAODEOBRAQUALIFICAPARAEVENTOS', '#biodiversidade', '#biomasbrasileiros', '#meioambiente', '#jurimetria', '#engenheirojuridico', '#datascientist', '#abaai', '#orgulhodeserassessor', '#assessordeinvestimentos', '#assessor', '#investimentos', '#agentesautonomos', '#filieseaabaai', '#negociosdeluxo', '#empreendedorismofeminino', '#arte', '#faitoamao', '#pequenosnegociosdeluxo', '#a3sinvestimentos', '#a3sinvestimentos', '#lucro', '#mercadofinanceiro', '#bovespa', '#traderbrasil', '#btg', '#investimentos', '#dinheiro', '#financ', '#bolsa', '#investidor', '#sucesso', '#in', '#bolsadevalores', '#rico', '#dinheiro', '#abundancia', '#prosperidade', '#tempoedinheiro', '#mulheresinvestidora3s', '#mulheresinvestidoras', '#btgpactualdigital', '#abaai', '#agenteautonomodeinvestimentos', '#assessordeinvestimentos', '#orgulhodeserassessor', '#aai', '#abaai', '#BTGPactual', '#WiseInvestimentos', '#ESG', '#sustentabilidade', '#Amazonia', '#Brasil', '#economicnewsbrasil', '#negocios', '#a3sinvestimentos', '#a3sinvestimentos', '#lucro', '#mercadofinanceiro', '#bovespa', '#traderbrasil', '#btg', '#investimentos', '#dinheiro', '#financ', '#bolsa', '#investidor', '#sucesso', '#in', '#bolsadevalores', '#rico', '#dinheiro', '#abundancia', '#prosperidade', '#tempoedinheiro', '#mulheresinvestidora3s', '#mulheresinvestidoras', '#btgpactualdigital', '#abaai', '#agenteautonomodeinvestimentos', '#assessordeinvestimentos', '#orgulhodeserassessor', '#aai', '#abaai', '#ProsperidadeInvestimentos', '#BTGPactual', '#Sudeste', '#SaoPaulo', '#SantoAndre', '#Santos', '#SJRP', '#1BI', '#Sucesso', '#Foco', '#determinação', '#PessoasCuidandoDePessoas', '#miami', '#miamifloraldesigner', '#corporateflowers', '#floraldesign', '#miamievents', '#privatechef', '#tropicalflowers', '#brickell', '#miamibeach', '#tennistournament', '#miamiopen', '#highlandsnc', '#cashiersnc', '#ncflowers', '#ncevents', '#northcarolinaliving', '#ncwedding', '#saudefinanceira', '#mercadofinanceiro', '#rendavariavel', '#carteirarecomendada', '#oportunidade', '#ações', '#dividendos', '#bdrs', '#smallcaps', '#fundoimobiliario', '#fiis', '#sucesso', '#empoderamentofeminino', '#historiadevida', '#btg', '#btgpactualdigital', '#quemtemtimetemtudo', '#assessoradeinvestimentos', '#mercadofinanceiro', '#mercadodecapitais', '#rendafixa', '#rendavariável', '#educaçãofinanceira', '#gestãodepatrimônio', '#sonhogrande', '#cronicas', '#reflexão', '#gratidão', '#boss', '#business', '#btgpactual', '#farialima', '#btgpactual', '#domusinvesting', '#Fluzão', '#FLUMINENSE', '#VEMproFLUMINENSE', '#farialima', '#mercadofinanceiro', '#trademap', '#clearcorretora', '#buyandhold', '#fiis', '#fundosimobiliarios', '#ifix', '#holder', '#rendimentos', '#investimento', '#rendapassiva', '#investir', '#poupar', '#bolsadevalores', '#ações', '#etf', '#rumoaomilhao', '#dividendos', '#proventos', '#viverderenda', '#longoprazo', '#invistamelhor', '#skininthegame', '#kinvo', '#dividendosme', '#reits', '#rioboatshow', '#boatshow', '#marinadagloria', '#revistanautica', '#nautica', '#rioboatshow2022', '#mentoriabtg', '#aceleracaobtg', '#btgsoma', '#btgeducacao', '#construindoumnovocaminho', '#fazendoobem', '#transfirmadosparatransformar', '#umpelooutro', '#wisemadness', '#eufacoparte', '#a3sinvestimentos', '#a3sinvestimentos', '#lucro', '#mercadofinanceiro', '#bovespa', '#traderbrasil', '#btg', '#investimentos', '#dinheiro', '#financ', '#bolsa', '#investidor', '#sucesso', '#in', '#bolsadevalores', '#rico', '#dinheiro', '#abundancia', '#prosperidade', '#tempoedinheiro', '#mulheresinvestidora3s', '#mulheresinvestidoras', '#btgpactualdigital', '#abaai', '#agenteautonomodeinvestimentos', '#assessordeinvestimentos', '#orgulhodeserassessor', '#aai', '#abaai', '#quemtemtimetemtudo', '#BTG', '#BTGACTUAL', '#VELHOAMIGO', '#institutovelhoamigo', '#Idosos', '#GiveBackDay', '#btgsoma', '#valorsacre', '#sacreinvestimentos', '#investimentos', '#financ', '#sacrenamidia', '#revistaexame', '#valorsacre', '#sacreinvestimentos', '#investimentos', '#financ', '#sacrenamidia', '#revistaexame', '#valorsacre', '#sacreinvestimentos', '#investimentos', '#financ', '#sacrenamidia', '#revistaexame', '#valorsacre', '#sacreinvestimentos', '#investimentos', '#financ', '#sacrenamidia', '#revistaexame', '#valorsacre', '#sacreinvestimentos', '#investimentos', '#financ', '#sacrenamidia', '#revistaexame', '#valorsacre', '#sacreinvestimentos', '#investimentos', '#financ', '#sacrenamidia', '#revistaexame', '#valorsacre', '#sacreinvestimentos', '#investimentos', '#financ', '#sacrenamidia', '#revistaexame', '#valorsacre', '#sacreinvestimentos', '#investimentos', '#financ', '#sacrenamidia', '#revistaexame', '#tennistimeeventosexclusivos', '#100', '#retrospectiva', '#eventosemcondominios', '#eventoscorporativos', '#beachtennis', '#eventosdiferenciados', '#valorsacre', '#sacreinvestimentos', '#investimentos', '#financ', '#sacrenamidia', '#revistaexame', '#loucosporbarcos', '#nautica', '#revistanautica', '#rioboatshow', '#investimentos', '#planejamentofinanceiro', '#revista', '#btg', '#longoprazo', '#btg', '#btgpactual', '#investimento', '#banco', '#bank', '#finance', '#farialima', '#CordierInvestimentos', '#Carteira', '#MercadoFinanceiro', '#Renda', '#BolsaDeValores', '#Ações', '#SmallCaps', '#Fiis', '#dividendos', '#bdrs', '#mercadofinanceiro', '#financialadvisor', '#privatebanker', '#privatebanking', '#qualidadedevida', '#lifestyle', '#orgulhodeserforever', '#gratidão', '#gratidão', '#encerramento', '#aceleração', '#btg', '#apoio', '#projetosocial', '#somosacquaveroinvestimentos', '#tennis', '#tenis', '#tenniskraft', '#orthopride', '#shoppingleblon', '#xpinvestimentos', '#btgpactual', '#montebravoinvestimentos', '#genialinvestimentos', '#alianscesonae', '#treino', '#elegancia', '#moda', '#vitamind', '#endorfina', '#aulasdetenis', '#leblon', '#riodejaneiro', '#tenniscoach', '#tennisplayer', '#proshop', '#tenisrj', '#nike', '#lacoste', '#btgpactual', '#BTG', '#VelhoAmigo', '#InstitutoVelhoAmigo', '#BTG', '#Exame', '#investimentos', '#mercadodigital', '#mercadofinanceiro', '#finanças', '#btg', '#acquavero', '#empreendedorismo', '#acquavero', '#btgpactual', '#onossoprojeto', '#VIP', '#rioboatshow', '#soubtg', '#soubtg', '#btgpactual', '#boatshow', '#rioboatshow', '#rioboatshow2022', '#revistanautica', '#btgpactual', '#rioboatshow', '#nautica', '#revistanautica', '#yachts', '#btgpactual', '#deumbtg', '#rio', '#𝚊𝚜𝚜𝚎𝚜𝚜𝚘𝚛𝚒𝚊', '#tecnologia', '#liderança', '#educação', '#btgpactual', '#marcandopresenca', '#btg', '#networking', '#business', '#construção', '#energiasolar', '#parceiros', '#sucesso', '#btgpactual', '#soubtg', '#mercadofinanceiro', '#investimentos', '#investmentadvisor', '#mulheresnomercadofinanceiro', '#grandhyatt', '#culturadealtodesempenho', '#SOUBTG', '#sb7someluz', '#sb7corporativo', '#someluz', '#somoslivemkt', '#somoslivemarketing', '#livemarketing', '#livemkt', '#eventocorporativo', '#corporativo', '#btgpactual', '#btg', '#v8capital', '#investir', '#investimentos', '#mercadofinanceiro', '#ibovespa', '#cdi', '#rendafixa', '#multimercado', '#ações', '#seveninvestor', '#btgpactual', '#investimentos', '#somosseven', '#investimento', '#dinheiro', '#empreendedorismo', '#investimentos', '#imoveis', '#bolsadevalores', '#sucesso', '#brasil', '#mercadofinanceiro', '#investir', '#liberdadefinanceira', '#economia', '#apartamento', '#investidor', '#rendaextra', '#trader', '#imobiliaria', '#corretordeimoveis', '#marketingdigital', '#mercadoimobiliario', '#imovel', '#btgpactual', '#Id_Cultural', '#DesafioTack', '#TackFestival', '#BrazilConference', '#aceleração', '#projetosocial', '#artesanato', '#alavancar', '#fazergrande', '#Abrasel', '#HappyHour', '#AgenciaDeMarketing', '#fiagronews', '#fiagro', '#dividendos', '#investimentos', '#mercadofinanceiro', '#btgpactual', '#buffet', '#eventocorporativo', '#automotive', '#driveexperience', '#interlagos', '#4', '#vemproclube', '#Rendimentos', '#FundosImobiliários', '#FIIs', '#FundosDeTijolos', '#FundosDePapéis', '#FundosHíbridos', '#FundosHighGrade', '#HGCR11', '#FundosHighYield', '#LajesCorporativas', '#HGRE11', '#BRCR11', '#VINO11', '#GalpõesLogísticos', '#HGLG11', '#XPLG11', '#BTLG11', '#Shoppings', '#HGBS11', '#XPML11', '#VISC11', '#BTGasset', '#XPasset', '#VinciPartners', '#CreditSuisseHedgingGriffo', '#btgpactual', '#revistanautica', '#nautica', '#canalnautica', '#boatshow', '#rioboatshow', '#rioboatshow2022', '#somosseven', '#darumbtg', '#assessoriainvestimentos', '#financialadvisor', '#assessoria', '#mercadofinanceiro', '#btg', '#onix', '#friendship', '#miaalpha', '#miaalphabrand', '#miaalphabusinessservices', '#miaalphainvestment', '#oilandgas', '#oilandgasuk', '#oilandgasnigeria', '#oilandgasindustry', '#UK', '#Nigeria', '#renewables', '#tbt', '#mataatlantica', '#pantanal', '#cerrado', '#amazonia', '#conservaçãoambiental', '#doação', '#amurcapital', '#btgpactual', '#felizpascoa', '#fundador', '#tbt', '#InstitutoBaccarelli', '#BTGPactual', '#ovosdepáscoa', '#doação', '#páscoa', '#musicalização', '#coral', '#música', '#arte', '#cultura', '#ong', '#Heliópolis', '#parceria', '#institutotiagocamilo', '#tiagocamilo', '#pascoa', '#renovacao', '#celebracao', '#mundomelhor', '#acaosocial', '#educacao', '#judo', '#disciplina', '#cuidado', '#campeoes', '#futuro', '#valores', '#projetosocial', '#solidariedade', '#segurodevida', '#segurosaude', '#investimentos', '#profittogrowth', '#btgpactualdigital', '#fundosimobiliários', '#btcr11', '#cri', '#recebíveisimobiliários', '#highgrade', '#highyeld', '#fiis', '#investimentos', '#rendamensal', '#viver', '#traderaltaperformance', '#traderbrasil', '#traderesportivo', '#traderlifestyle', '#miniindece', '#trading', '#bolsadevalores', '#bolsadenewyork', '#analisetecnica', '#priceaction', '#opcoesbinarias', '#candlestick', '#criptomoedas', '#bitcoinbrasil', '#bitcoins', '#iqoptionbrasil', '#iqoption', '#liberdadefinanceira', '#bitcoin', '#agroemdia', '#podcast', '#live', '#agroemdiapodcast', '#sintonize', '#agronautas', '#novidade', '#agro', '#notíciasdoagro', '#agronegócio', '#business', '#orgulhodepertencer', '#restylane', '#dysport', '#toxinabotulinica', '#preenchimentolabial', '#preenchimentoolheiras', '#preenchimentofacial', '#preenchimento', '#TUPY3', '#orgulhodepertencer', '#restylane', '#dysport', '#toxinabotulinica', '#sculptra', '#preenchimentofacial', '#P29', '#investimentos', '#jobininvestimentos', '#btgpactual', '#estagiario', '#mercadofinanceiro', '#tradingfloor', '#desafio', '#primeirolugar', '#redesocial', '#copostanley', '#alexa', '#btgpactual', '#investimentos', '#agroemdia', '#podcast', '#live', '#agroemdiapodcast', '#sintonize', '#agronautas', '#novidade', '#agro', '#notíciasdoagro', '#agronegócio', '#business', '#previdencia', '#previdenciario', '#investir', '#investimento', '#investidor', '#a3sinvestimentos', '#a3sinvestimentos', '#lucro', '#mercadofinanceiro', '#bovespa', '#traderbrasil', '#btg', '#investimentos', '#dinheiro', '#financ', '#bolsa', '#investidor', '#sucesso', '#in', '#bolsadevalores', '#rico', '#dinheiro', '#abundancia', '#prosperidade', '#tempoedinheiro', '#mulheresinvestidora3s', '#mulheresinvestidoras', '#btgpactualdigital', '#abaai', '#agenteautonomodeinvestimentos', '#assessordeinvestimentos', '#orgulhodeserassessor', '#aai', '#abaai', '#investimentos', '#investirmelhor', '#prosperidadefinanceira', '#fundosimobiliarios', '#fiis', '#VGIP11', '#recebiveisimobiliarios', '#mercadoimobiliario', '#fundoimobiliario', '#realestate', '#imoveis', '#mercadofinanceiro', '#investimentos', '#rendapassiva', '#gtcapital', '#btg', '#investimentos', '#protagonismo', '#humildade', '#determinação', '#investing', '#brasil', '#sóocomeço', '#marcadofinanceiro', '#bovespa', '#womeningrowth', '#glow', '#womenleadership', '#growthforwomen', '#inovacao', '#somoswg', '#wg', '#prosperidadeinvestimentos', '#btgpactualdigital', '#btgpactual', '#investimentos', '#investimentosinteligentes', '#EUAMOMEUBTG', '#xp', '#btg', '#benchimol', '#investimento', '#bolsadevalores', '#b3', '#dividendos', '#viverdevendas', '#viverdetrade', '#traderbrasil', '#tourodeouro', '#guilhermebenchimol', '#spiti', '#guide', '#genialinvestimentos', '#empiricus', '#suno', '#oprimorico', '#bolsabrasilbalcão', '#farialima', '#brasileirosemorlando', '#brasileirosnacalifornia', '#brasileirosnaalemanha', '#brasileirosemmadrid', '#brasileirosnaitalia', '#carnaval', '#soqueromeu', '#onboardf1br', '#f1naband', '#f1nobandsports', '#F1', '#formula1', '#formulaum', '#formulaone', '#fia', '#f12022', '#mercedesamgf1', '#mercedesbenz', '#mercedes', '#redbull', '#redbullracing', '#Ferrari', '#willimasracing', '#charlesleclerc', '#leclerc16', '#maxverstappen', '#felipemassa', '#massa', '#lubraxpodiumteam', '#somosacquaveroinvestimentos', '#segurodevida', '#segurosaude', '#investimentos', '#rioverdeinvestimentos', '#oramainvestimentos', '#genialinvestimentos', '#btgpactual', '#guideinvestimentos', '#toroinvestimentos', '#singularecorretora', '#novafuturainvestimentos', '#simpaul', '#portosegurobank', '#bancooriginal', '#smallcaps', '#bolsadevalores', '#mercadofinanceiro', '#investimentos', '#rendavariavel', '#ações', '#B3', '#fundosdeações', '#fundossmallcaps', '#bovespa', '#investimentos', '#taxadejuros', '#acoesem2022', '#FICAADICA', '#eqiinvestimentos', '#btgpactual', '#velomoney', '#gdinvest', '#btgpactual', '#nectoninvestimentos', '#camarotearpoador', '#btgpactual', '#granderio', '#carnaval2022', '#marquesdesapucai', '#agrishow', '#crédito', '#agricola', '#custeio', '#grãos', '#soja', '#milho', '#administracao', '#federal', '#ufs', '#investimentos', '#carreira', '#propósito', '#conhecimento', '#btgpactual', '#agrishow', '#agronegócio', '#agro', '#cprfinanceira', '#cpr', '#btgpactual', '#agrishow', '#agronegócio', '#agro', '#cprfinanceira', '#cpr', '#crm', '#soubtg', '#tbt', '#InstitutoBaccarelli', '#Concerto', '#Temporada2022', '#OSH', '#OrquestraSinfônicaHeliópolis', '#clubehebraica', '#saopaulo', '#ong', '#Heliópolis', '#musica', '#oportunidade', '#idom', '#voluntariado', '#BtgSoma', '#BtgPactual', '#asid', '#ong', '#palestra', '#organizacaosocial', '#curso', '#abaai', '#amgcapital', '#btgpactual', '#assessoriadeinvestimentos', '#anuario2022', '#filieseabaai', '#industria', '#maquinas', '#equipamentos', '#agrishow', '#financiamentos', '#Agrishow2022', '#btgpactual', '#agro', '#equipecentrooeste', '#advisors', '#CharlesRiverCapital', '#fundodeinvestimento', '#fundos', '#ações', '#investimento', '#valoreconômico', '#quemtemtimetemtudo', '#quemtemtimetemtudo', '#Sanko', '#Engemet', '#Dia', '#balletparaisopolis', '#diamundialdadança', '#03', '#fundosimobiliarios', '#liberdadefinanceira', '#rendapassiva', '#fiis', '#viverderenda', '#rendaextra', '#rendavariavel', '#bolsadevalores', '#mercadofinanceiro', '#executivo', '#mercadofinanceiro', '#rendavariavel', '#carteirarecomendada', '#oportunidade', '#fiagronews', '#fiagro', '#dividendos', '#investimentos', '#mercadofinanceiro', '#brgpactual', '#JiveInvestiments', '#Ibajud', '#mentoria', '#comunicação', '#desenvolvimentoprofissional', '#mentoriadecomunicação', '#mktbrasil', '#investimentos', '#investimento', '#assessoria', '#mercadofinanceiro', '#economia', '#financas', '#financaspessoais', '#bolsa', '#bolsadevalores', '#startup', '#innovation', '#southsummit', '#work', '#trabalho', '#mercadofinanceiro', '#economia', '#bovespa', '#raça', '#valorsacre', '#sacreinvestimentos', '#copom', '#selic', '#taxaselic', '#bancocentral', '#investimentos', '#valorsacre', '#sacreinvestimentos', '#copom', '#selic', '#taxaselic', '#bancocentral', '#investimentos', '#valorsacre', '#sacreinvestimentos', '#copom', '#selic', '#taxaselic', '#bancocentral', '#investimentos', '#valorsacre', '#sacreinvestimentos', '#copom', '#selic', '#taxaselic', '#bancocentral', '#investimentos', '#valorsacre', '#sacreinvestimentos', '#copom', '#selic', '#taxaselic', '#bancocentral', '#investimentos', '#REPOST', '#sigaadilsonramos', '#ribeiraopreto', '#imoveisemribeiraopreto', '#imoveisrp', '#bonfimpaulista', '#taxaselic', '#copom', '#selic', '#investimentos', '#assessoriadeinvestimentos', '#assessordeinvestimentos', '#mercadofinanceiro', '#btgpactual', '#valorsacre', '#sacreinvestimentos', '#copom', '#selic', '#taxaselic', '#bancocentral', '#investimentos', '#safra', '#agrícola', '#brasil', '#proddutorrural', '#distributor', '#cooperativa', '#safra2022', '#safra2022', '#safra22', '#agroébtgepgg', '#agroebtgepgg', '#GRIClub', '#mercadoinmobiliario', '#realestate', '#ColombiaGRI', '#GRIClubLatAm', '#btgpactualdigital', '#somosseven', '#investimentos', '#protecao', '#seguro', '#lifeexperience', '#fundosimobiliarios', '#mercadofinanceiro', '#rendapassiva', '#liberdadefinanceira', '#qualidadedevida', '#longoprazo', '#resiliencia', '#tbt', '#deumbtg', '#economia', '#investimentos', '#wealthmanagement', '#vtal', '#anatel', '#btgpactual', '#globenet', '#redeneutra', '#fibraoptica', '#internet', '#tbt', '#depoimentos', '#tennistimeeventosexclusivos', '#eventosexclusivos', '#eventosemcondominios', '#eventos', '#eventotop', '#100', '#beachtennis', '#btgpactual', '#cordierinvestimentos', '#assessoriaeminvestimentos', '#investimentos', '#mercadofinanceiro', '#assessoriadeinvestimentos', '#economia', '#sacreinvestimentos', '#btgpactual', '#proteçãofinanceira', '#sãopaulo', '#CasadosVentos', '#GreenBonds', '#assessoriadeinvestimentos', '#investimentos', '#ações', '#carteirarecomendada', '#btgpactual', '#rendavariavel', '#cordier', '#cordierinvestimentos', '#tradingfloor', '#mercadofinanceiro', '#investimentos', '#redesocial', '#desafiocumprido', '#invight', '#btgpactual', '#nectoninvestimentos', '#necton', '#prosperidade', '#investimentos', '#investirmelhor', '#diadasmaes', '#btg', '#investment', '#mercadofinanceiro', '#bolsadevalores', '#rendafixa', '#rendavariavel', '#fundosimobiliários', '#fundosdeinvestimentos', '#opções', '#xpinvestimentos', '#btgpactual', '#modalmais', '#aai', '#ancord', '#b3', '#investimentos', '#rendafixa', '#rendavariavel', '#assessordeinvestimentos', '#BoraDarUmBTg', '#BTGPACTUAL', '#bancodeinvestimento', '#melhorprivatebank', '#octocapital', '#NPBT', '#beachtennis', '#beachtennisworld', '#beachtennisbr', '#beachtennisnordeste', '#beachtenniscg', '#beachtennislifestyle', '#beachtennislife', '#beavhtennisplayer', '#v8capital', '#investir', '#investimentos', '#mercadofinanceiro', '#ibovespa', '#cdi', '#rendafixa', '#multimercado', '#ações', '#miniindice', '#minidólar', '#dólar', '#stopgain', '#mercado', '#mercadofinanceiro', '#ibov', '#winfut', '#wdofut', '#soutrader', '#daytrader', '#somostrader', '#liberdadefinanceira', '#b3', '#comoinvestir', '#finanças', '#minidolar', '#mercadofinanceiro', '#dolar', '#dinheiroemcasa', '#dolarfuturo', '#bmf', '#ibovespa', '#bolsadevalores', '#somostraders', '#mercadofinanceiro', '#bolsadevalores', '#vidadetrader', '#trader', '#traders', '#daytrade', '#daytrader', '#bolsadevalores', '#mercadofinanceiro', '#carboncredit', '#deumBTG', '#deumBTG', '#btgpactual', '#investimentos', '#mercadofinanceiro', '#banking', '#deumBTG', '#eufacopartedestahistoria', '#vemcreacercomagente', '#vemcrescercomagente', '#OneInvestimentos', '#mercadofinanceiro', '#assessoriadeinvestimentos', '#investimentos', '#a3sinvestimentos', '#a3sinvestimentos', '#lucro', '#mercadofinanceiro', '#bovespa', '#traderbrasil', '#btg', '#investimentos', '#dinheiro', '#financ', '#bolsa', '#investidor', '#sucesso', '#in', '#bolsadevalores', '#rico', '#dinheiro', '#abundancia', '#prosperidade', '#tempoedinheiro', '#mulheresinvestidora3s', '#mulheresinvestidoras', '#btgpactualdigital', '#abaai', '#agenteautonomodeinvestimentos', '#assessordeinvestimentos', '#orgulhodeserassessor', '#aai', '#abaai', '#inovação', '#tecnologia', '#startups', '#cvc', '#skininthegame', '#btgpactual', '#btgpactualdigital', '#empreendedorismo', '#dinheiro', '#motivacão', '#empresas', '#VitorHugoGovernador', '#DeusabençoeGoiás', '#Bolsonaroreeleito', '#Goiás', '#BRASIL', '#Mariapassanafrente', '#KazaCapital', '#btg', '#esg', '#xpinvestimentos', '#btgpactual', '#modalmais', '#aai', '#ancord', '#b3', '#investimentos', '#rendafixa', '#rendavariavel', '#assessordeinvestimentos', '#aabbrio', '#leblon', '#pratasdacasa', '#treino', '#tenniskraft', '#tennis', '#tenniscoach', '#orthopride', '#proshop', '#xpinvestimentos', '#btgpactual', '#montebravoinvestimentos', '#genialinvestimentos', '#shoppingleblon', '#aliancesonae', '#tenisrj', '#cbtoficial', '#itftennis', '#atp', '#rioopen', '#recordnews', '#endorfina', '#vitamind', '#aulasdetenis', '#nike', '#rayban', '#PerkinsAndWill', '#PerkinsAndWillSãoPaulo', '#PerkinsAndWillSãoPaulo10Anos', '#PerkinsAndWillAwards', '#DesignForLife', '#DesignWithPurpose', '#InspiredByPeople', '#arquitetura_sp', '#EdifíciosDeSãoPaulo', '#SãoPaulo', '#BrazilianArchitecture', '#design', '#designdeinteriores', '#GRBank', '#BTGPactual', '#BancoBmg', '#MachadoMeyer', '#AlbertEinstein', '#TrenchRossiWatanabe', '#WillisTowerWatson', '#InterioresCorporativos', '#CorporateInteriors', '#InteriorDesign', '#MercadoFinanceiro', '#EscritóriosDoFuturo', '#OfficeSnapshots', '#MundoJBZ', '#bakeoffbrasil', '#BTGPactual', '#Octocapital', '#investimentos', '#rendafixa', '#rendavariavel', '#educacaofinanceira', '#ESG', '#Investments', '#Offices', '#Workspaces', '#Retail', '#Hospitality', '#CapitalMarkets', '#LatinAmericaGRI', '#GRICl', '#ProtecTheAmazon', '#ExitAmazonOilandGas', '#BankingOnAmazonDestruction', '#BankingOnClimateChaos', '#quemtemtimetemtudo', '#bdif11', '#btgasset', '#bdif11', '#bdiv11', '#endd11', '#investimento', '#fiis', '#fundosimobiliarios', '#fundosimobilia', '#rendamensal', '#diversificar', '#selic', '#ipca', '#fii_facil', '#fii', '#investimentoimobiliario', '#investimento', '#investidores', '#b3', '#bolsadevalores', '#valuation', '#comoinvestir', '#clubefii', '#fiifacil', '#dêumbtg', '#kart', '#cgs07', '#carros', '#KartRacing', '#Karting', '#Kartinglovers', '#gokart', '#kartingmoments', '#racing', '#kartingemotionanpassion', '#motorsport', '#kartinglife', '#kartingtime', '#kartbrasiloficial', '#fundomultimercado', '#CDI', '#exterior', '#derivativos', '#rendavariável', '#DêumBTG', '#educacao', '#porumbrasilmelhor', '#casting', '#octocapital', '#btgpactual', '#inauguracao', '#familiamormaii', '#mormaiioficial', '#mormaiibeachtennis', '#circuitomormaiidebeachtennis', '#beachtennis', '#beachtennisworld', '#beachtennisbrasileiro', '#beachtennislifestyle', '#beachtennislife', '#empresas', '#fotoempresarial', '#publicidadeepropaganda', '#inauguração', '#familiamormaii', '#mormaiioficial', '#mormaiibeachtennis', '#circuitomormaiidebeachtennis', '#beachtennis', '#beachtennisworld', '#beachtennisbrasileiro', '#beachtennislifestyle', '#beachtennislife', '#clubedobeachtennis', '#miniindice', '#minidólar', '#dólar', '#stopgain', '#mercado', '#mercadofinanceiro', '#ibov', '#winfut', '#wdofut', '#soutrader', '#daytrader', '#somostrader', '#liberdadefinanceira', '#b3', '#comoinvestir', '#finanças', '#minidolar', '#mercadofinanceiro', '#dolar', '#dinheiroemcasa', '#dolarfuturo', '#bmf', '#ibovespa', '#bolsadevalores', '#somostraders', '#mercadofinanceiro', '#bolsadevalores', '#vidadetrader', '#trader', '#traders', '#daytrade', '#daytrader', '#bolsadevalores', '#mercadofinanceiro', '#miniindice', '#minidólar', '#dólar', '#stopgain', '#mercado', '#mercadofinanceiro', '#ibov', '#winfut', '#wdofut', '#soutrader', '#daytrader', '#somostrader', '#liberdadefinanceira', '#b3', '#comoinvestir', '#finanças', '#minidolar', '#mercadofinanceiro', '#dolar', '#dinheiroemcasa', '#dolarfuturo', '#bmf', '#ibovespa', '#bolsadevalores', '#somostraders', '#mercadofinanceiro', '#bolsadevalores', '#vidadetrader', '#trader', '#traders', '#daytrade', '#daytrader', '#bolsadevalores', '#mercadofinanceiro', '#ReinventaSC', '#SemanaDaIndústria', '#educação5', '#mundodotrabalho', '#empregabilidade', '#indústria', '#octocapital', '#btgpactual', '#inauguracao', '#investimentos', '#RendaFixa', '#rendavariável', '#educacaofinanceira', '#CharlesRiverCapital', '#fundodeinvestimento', '#fundos', '#ações', '#investimento', '#vocesa', '#tissot', '#tissotwatch', '#dreamer', '#souBTG', '#DêumBTG', '#carreira', '#historia', '#inspiraçao', '#BTG', '#Europa105', '#BTGPactual', '#EmpreendimentosComerciais', '#JardimEuropa', '#EmpreendimentosMeta', '#BancoInvestimentos', '#Escritórios', '#Empreendimentos', '#casa', '#corretoradeimoveis', '#vidadecorretora', '#corretoraguarapari', '#mulhernomercadoimobiliario', '#woman', '#business', '#network', '#escritorio', '#imoveis', '#casa', '#apartamento', '#vistaparaomar', '#praia', '#lazer', '#decor', '#engenharia', '#construtora', '#corretoradeimoveisdeluxo', '#broker', '#vanessa', '#sextou', '#explorer', '#perfil', '#explorar', '#makingof', '#audiovisual', '#alemdopapo', '#alemdotrade', '#MaisAAI', '#maisinvestimentos', '#sejamais', '#btg', '#mercadofinanceiro', '#investimentos', '#empresas', '#negocios', '#manaus', '#belem', '#saopaulo', '#sjcampos', '#sjcity', '#jornadavidadetrader', '#somostrader', '#traderdesucesso', '#finanças', '#somosatom', '#investimentos', '#btg', '#CordierInvestimentos', '#Bitcoin', '#MoedaDigital', '#Criptomoeda', '#Investimento', '#Educacao', '#gratidão', '#TBT', '#batch9', '#10', '#tbt', '#dêumbtg', '#BTGPactual', '#macroeconomia', '#reencontro', '#estagio', '#Mclaren', '#senna', '#alainprost', '#kart', '#cgs07', '#carros', '#KartRacing', '#Karting', '#sennaforever', '#gokart', '#kartingmoments', '#racing', '#sennnasempre', '#motorsport', '#kartinglife', '#kartingtime', '#kartbrasiloficial', '#tbt', '#nostalgia', '#mansuetoalmeida', '#BTLG11', '#MGLG11', '#FIIs', '#dividendos', '#rendapassiva', '#investimento', '#monaco', '#monaco', '#seguros', '#Comunicação', '#Media', '#MediaTraining', '#Fonoaudiologia', '#LinguagemNaoVerbal', '#btgoffair', '#bootcampAdvisors2022', '#bootcampAdvisors2022', '#InstitutoBaccarelli', '#Temporadadeconcerto', '#concerto', '#orquestra', '#orquestrasinfonica', '#OSH', '#antoniocarlosgomes', '#franzvonsuppé', '#heitorvillalobos', '#mauriceravel', '#isaackarabtchevsky', '#ong', '#Heliópolis', '#cultura', '#arte', '#música', '#bootcampadvisors2022', '#saopaulo', '#guaruja', '#bancobtg', '#bancobtgpactual', '#bootcampadvisors2022', '#bancobtgpactual', '#advisor', '#saopaulo', '#guaruja', '#bancobtgpactual', '#bootcampadvisors2022', '#saopaulo', '#guarujá', '#bootcampadvisors2022', '#btgpactual', '#advisor', '#saopaulo', '#guaruja', '#bootcampAdvisors2022', '#bootcampadvisors2022', '#B3', '#produto', '#kazacapital', '#btgpactual', '#bolsadevalores', '#mercadofuturo', '#news', '#agro', '#soja', '#agrishow', '#crédito', '#agricola', '#custeio', '#grãos', '#soja', '#milho', '#bootcampAdvisors2022', '#diversifiicando', '#comunidadedootimista', '#fiis', '#fundosimobiliários', '#lajescorporativas', '#fiisdeescritórios', '#fiisdelajes', '#topfiis', '#fii', '#clubefii', '#hgre11', '#hgpo11', '#jsre11', '#riobravo', '#cshg', '#rcrb11', '#investimentos', '#bolsadevalores', '#bootcampAdvisors2022', '#sejabtg', '#RadarDaSemana', '#fundosdeinvestimento', '#ações', '#fundamentalista', '#Ibovespa', '#rendavariável', '#fotodetrilhões', '#padrãobtg', '#forbes', '#btgpactual', '#verkinvest', '#miniindice', '#minidólar', '#dólar', '#stopgain', '#mercado', '#mercadofinanceiro', '#ibov', '#winfut', '#wdofut', '#soutrader', '#daytrader', '#somostrader', '#liberdadefinanceira', '#b3', '#comoinvestir', '#finanças', '#minidolar', '#mercadofinanceiro', '#dolar', '#dinheiroemcasa', '#dolarfuturo', '#bmf', '#ibovespa', '#bolsadevalores', '#somostraders', '#mercadofinanceiro', '#bolsadevalores', '#vidadetrader', '#trader', '#traders', '#daytrade', '#daytrader', '#bolsadevalores', '#mercadofinanceiro', '#docinvestimentos', '#deumbtg', '#investimentos', '#btg', '#IPO', '#sigaIF', '#RendaVariável', '#OfertaPúblicadeAquisição', '#economia', '#ações', '#OPA', '#InteligênciaFinanceira', '#IF', '#B3', '#BolsaDeValores', '#BTLG11', '#FIIs', '#VVPR11', '#BLCP11', '#dividendos', '#rendapassiva', '#investimentos', '#bootcampadvisors2022', '#saopaulo', '#guaruja', '#bancobtg', '#bancobtgpactual', '#btgpactualadvisors', '#leideincentivoaoesporte', '#ministeriodacidadania', '#esporte', '#educarcomesporte', '#educaçãofísica', '#piracicaba', '#incentivoaoesporte', '#tbt', '#leideincentivoaoesporte', '#ministeriodacidadania', '#esporte', '#educarcomesporte', '#educaçãofísica', '#piracicaba', '#incentivoaoesporte', '#leideincentivoaoesporte', '#ministeriodacidadania', '#esporte', '#educarcomesporte', '#educaçãofísica', '#piracicaba', '#incentivoaoesporte', '#xpinvestimentos', '#assessordeinvestimentos', '#assessorextraordinario', '#vidadeassessor', '#profissaodofuturo', '#Comerc', '#Investimentos', '#BTGPactual', '#namídia', '#leblonequities', '#financialtimes', '#DiaDaIndústria', '#Indústria', '#Investimentos', '#Inovação', '#BTG', '#FIESC', '#WEG', '#TUPY', '#WHIRLPOOL', '#JBS', '#btgpactual', '#investimentos', '#mercadofinanceiro', '#fundosdeinvestimentos', '#assessordeinvestimentos', '#assessorextraordinario', '#vidadeassessor', '#profissaodofuturo', '#investimentos', '#b3', '#rendavariavel', '#rendafixa', '#investimentos', '#acquavero', '#mercadofinanceiro', '#financial', '#wealth', '#investment', '#1', '#segurosdevida', '#segurosaude', '#investimentos', '#gremio', '#gtcapital', '#btg', '#FIC', '#Asofiduciarias', '#EducaciónFinanciera', '#Finanzas', '#mormaiibeachtennis', '#itf', '#beachtennis', '#beachtennisbrasileiro', '#beachtennisworld', '#beachtennisnordeste', '#beachtennisplayer', '#beachtennislife', '#beachtennislifestyle', '#investimentos', '#number1', '#BBAS3', '#BBDC4', '#ITUB4', '#BIDI11', '#btg', '#somosseven', '#darumbtg', '#investimentos', '#planejamentofinanceiro', '#vidaextraordinaria', '#TailorMedia', '#Jornal', '#Digitalpremium', '#Adnetwork', '#Nubank', '#NuDay', '#AgoraSaoPaulo', '#FolhaDeSaoPaulo', '#CorreioPopular', '#OEstadoDeSaoPaulo', '#ANoticia', '#DiarioCatarinense', '#HoraDeSantaCatarina', '#JornalDeSantaCatarina', '#DiarioGaucho', '#Pioneiro', '#ZeroHora', '#Extra', '#OGlobo', '#TribunaDoParana', '#GazetaDoPovo', '#AGazeta', '#OPovo', '#Lance', '#Grifa', '#Engenharia', '#Projetos', '#Qualidade', '#Conforto', '#Sofisticacao', '#calculoestrurual', '#btg', '#arquitetura', '#bancobtgpactual', '#engenhariacivil', '#estrurura', '#deumBTGnasuavida', '#tennis', '#aabbrio', '#tenniskraft', '#leblon', '#treino', '#aulasdetenis', '#orthopride', '#bodylaser', '#orthopride', '#shoppingleblon', '#xpinvestimentos', '#btgpactual', '#montebravoinvestimentos', '#tenisrj', '#proshop', '#nike', '#lacoste', '#riodejaneiro', '#rayban', '#rioopen', '#proshop', '#atp', '#itftennis', '#rolandgarros', '#safra', '#agrícola', '#brasil', '#proddutorrural', '#distributor', '#cooperativa', '#safra2022', '#safra2022', '#safra22', '#agroébtgepgg', '#agroebtgepgg', '#cordierinvestimentos', '#btgpactual', '#SejaGWM', '#unirparafortalecer', '#btgpactualdigital', '#investimentos', '#aceleração', '#assessoria', '#propósito', '#btgpactual', '#SejaGWM', '#deumBTG', '#gwminvestments', '#timegwm', '#SejaGWM', '#deumBTG', '#gwminvestments', '#timegwm', '#SejaForeverCapital', '#gratidao', '#btgsomameioambiente', '#negociosdeimpacto', '#daytrader', '#assessordeinvestimentos', '#assessorextraordinario', '#vidadeassessor', '#profissaodofuturo', '#investimentos', '#b3', '#rendavariavel', '#rendafixa', '#assetallocation', '#monalisa', '#fulviopennacchi', '#arte', '#historia', '#sp', '#lula2022', '#o', '#fundosdeinvestimento', '#inflação', '#rendavariável', '#ações', '#derivativos', '#assimétrico', '#bolsa', '#multimercado', '#assessordeinvestimentos', '#assessorextraordinario', '#vidadeassessor', '#profissaodofuturo', '#investimentos', '#b3', '#rendavariavel', '#rendafixa', '#assessordeinvestimentos', '#assessorextraordinario', '#vidadeassessor', '#profissaodofuturo', '#investimentos', '#b3', '#rendavariavel', '#rendafixa', '#bolsonaro2022', '#fgts', '#investimentos', '#dêumbtg', '#assessoriadeinvestimentos', '#bolsonaro2022', '#mito', '#BolsonaroReeleito2022', '#lulanoprimeiroturno', '#lulanoprimeiroturno', '#lulanoprimeiroturno', '#lulanoprimeiroturno', '#lulanoprimeiroturno', '#lulanoprimeiroturno', '#lulanoprimeiroturno', '#lula2022', '#lulanoprimeiroturno', '#lulanoprimeiroturno', '#BolsonaroReeleito2022', '#BolsonaroReeleito2022', '#FORABOLSONARO', '#LegendInvestimentos', '#btg', '#btgpactual', '#investimentos', '#financeiro', '#historia', '#FORABOLSONARO', '#vemprarualula', '#performance', '#altaperformance', '#bancos', '#bancarios', '#itau', '#santander', '#bradesco', '#btgpactual', '#esporte', '#cpa10', '#cpa20', '#cea', '#anbima', '#eumebanco', '#bancodobarril', '#madrugabancario', '#assessordeinvestimentos', '#assessorextraordinario', '#vidadeassessor', '#profissaodofuturo', '#investimentos', '#b3', '#rendavariavel', '#rendafixa', '#AvinExperience', '#dêumbtgnasuavida', '#sejagwm', '#chegadessesdois', '#chegaDeses2', '#pablomarcal2023', '#pablomarcalpresidentebr', '#LosCruzados', '#LasCruzadas', '#LosCruzados', '#LasCruzadas', '#finanças', '#b3', '#mercadofinanceiro', '#BBIcapital', '#BTG', '#btgpactual', '#investimentos', '#gustavocerbasi', '#caricatura', '#ibov', '#indice', '#volatilidade', '#assessordeinvestimentos', '#assessorextraordinario', '#vidadeassessor', '#profissaodofuturo', '#investimentos', '#b3', '#rendavariavel', '#rendafixa', '#Invest', '#investment', '#morning', '#june', '#junho', '#foco', '#mercadofinanceiro', '#businesswoman', '#mymonth', '#fortuna', '#investimentos', '#octocapital', '#btgpactual', '#segurança', '#riqueza', '#cuidado', '#ações', '#sucesso', '#mulheresnabolsadevalores', '#deusnocomando', '#mercadofinanceiro', '#rendavariavel', '#mercadofinanceiro', '#rendavariavel', '#carteirarecomendada', '#oportunidade', '#rendapassiva', '#quemtemtimetemtudo', '#investimentos', '#gratidão', '#privateacademy', '#btg', '#custeioagrícola', '#agricultura', '#financiamento', '#agro', '#atendimentopersonalizado', '#fiagronews', '#fiagro', '#dividendos', '#investimentos', '#mercadofinanceiro', '#btgpactual', '#FIISummit', '#EQI', '#SiiLA', '#escritorios', '#fiis', '#fundosdeinvestimentos', '#investimentoemimoveis', '#dados', '#analises', '#assessoriafinanceira', '#deumbtg', '#mulheresnomercado', '#TBT', '#fgts', '#mercadofinanceiro', '#btgpactual', '#assessoriadeinvestimentos', '#tbt', '#BTGSoma', '#balletparaisópolis', '#pib', '#economia', '#inflacao', '#crescimento', '#btg', '#amurcapital', '#investir', '#investimentos', '#nossotimeehpaudedaremdoido', '#mercadofinanceiro', '#longoprazo', '#resiliencia', '#keepgoing', '#neverquit', '#qualidadedevida', '#energy', '#strength', '#bicharaemotta', '#direitodesportivo', '#sportainment', '#football', '#bolsonaro2022', '#LosCruzados', '#LasCruzadas', '#nine', '#jobs4her', '#vagasdetrabalho', '#jovenstalentos', '#equidadedegenero', '#vemprawise', '#feedbackcliente', '#FII', '#Entrevista', '#B3', '#BTRA11', '#BTAL11', '#fundosimobiliários', '#fundosimobiliarios', '#shopping', '#rendapassiva', '#educacaofinanceira', '#rendavariavel', '#rendimento', '#investimentos', '#mercadofinanceiro', '#FeiraDiversa', '#LGBT', '#Diversidade', '#Carreira', '#Inclusao', '#SuperLike', '#Networking', '#estrategia', '#familytime', '#btg', '#btgpactual', '#work', '#dataengineer', '#live', '#valorsacre', '#sacreinvestimentos', '#sacre', '#treinamento', '#investimentos', '#mercadofinanceiro', '#maringaparana', '#btgpactual', '#valorsacre', '#sacreinvestimentos', '#sacre', '#treinamento', '#investimentos', '#mercadofinanceiro', '#maringaparana', '#btgpactual', '#valorsacre', '#sacreinvestimentos', '#sacre', '#treinamento', '#investimentos', '#mercadofinanceiro', '#maringaparana', '#btgpactual', '#valorsacre', '#sacreinvestimentos', '#sacre', '#treinamento', '#investimentos', '#mercadofinanceiro', '#maringaparana', '#btgpactual', '#valorsacre', '#sacreinvestimentos', '#sacre', '#treinamento', '#investimentos', '#mercadofinanceiro', '#maringaparana', '#btgpactual', '#valorsacre', '#sacreinvestimentos', '#sacre', '#treinamento', '#investimentos', '#mercadofinanceiro', '#maringaparana', '#btgpactual', '#valorsacre', '#sacreinvestimentos', '#sacre', '#treinamento', '#investimentos', '#mercadofinanceiro', '#maringaparana', '#btgpactual', '#valorsacre', '#sacreinvestimentos', '#sacre', '#treinamento', '#investimentos', '#mercadofinanceiro', '#maringaparana', '#btgpactual', '#valorsacre', '#sacreinvestimentos', '#sacre', '#treinamento', '#investimentos', '#mercadofinanceiro', '#maringaparana', '#btgpactual', '#premioibest', '#ibest20', '#ibest', '#corretorasdigitais', '#valorsacre', '#sacreinvestimentos', '#sacre', '#treinamento', '#investimentos', '#mercadofinanceiro', '#maringaparana', '#btgpactual', '#Lula2022', '#valor', '#investidor', '#semcorretagem', '#capital', '#cliente', '#ibov', '#PETR4', '#carteira', '#perenidade', '#poupança', '#vemprawise', '#CordierInvestimentos', '#BTGPactual', '#Evento', '#Palestra', '#Networking', '#Relacionamento', '#Negocios', '#MercadoFinanceiro', '#orgulhocapixaba', '#economia', '#investimentos', '#governodoes', '#btgpactual', '#BuyES', '#assessoria', '#docinvestimentos', '#investimentos', '#mercadofinanceiro', '#money', '#atendimento', '#btgpactual', '#dêumbtg', '#tbt', '#mercadofinanceiro', '#rendafixa', '#assessoria', '#dolar', '#cambio', '#bancocentral', '#btg', '#octocapital', '#private', '#buyES', '#buyES', '#BuyES', '#investimentosinteligentes', '#ações', '#somostodosmchecon', '#mchecon', '#mcheconceno', '#grupomchecon', '#mchecongroup', '#Cenografia', '#ProcessoCriativo', '#emocoes', '#sensacoes', '#btgpactual', '#feiraenase', '#enaserj', '#mcheconrio', '#carreira', '#finanças', '#mulheresdenegocio', '#vagasdeemprego', '#sucessoprofissional', '#equidadedegenero', '#mulheresnasfinanças', '#conselheira101', '#wcdbrazil', '#ETFs', '#ESGB11', '#GENB11', '#SPXB11', '#investimentos', '#dinheiro', '#bolsadevalores', '#investimento', '#mercadofinanceiro', '#o', '#finan', '#empreendedorismo', '#a', '#investir', '#liberdadefinanceira', '#brasil', '#foco', '#planejamentofinanceiro', '#RadarDaSemana', '#70', '#publicidade', '#gtcapital', '#btgpactual', '#youngwomensummit', '#mulheresnasfinanças', '#finanças', '#jovenstalentos', '#oportunidade', '#carreira', '#equidadedegenero', '#mulhereslideres', '#palestra', '#coquetel', '#palestrainvestimentos', '#investidor', '#eventocorporativo', '#eventoscorporativos', '#corporativo', '#jantar', '#entradas', '#entree', '#nivercuiaba', '#happybirthday', '#aniversariocuiaba', '#jantardeaniversario', '#matogrosso', '#chapadamt', '#eventoscuiaba', '#matogrosso', '#mt', '#eventosmt', '#eventosucesso', '#eventospersonalizados', '#evento', '#eventos', '#gastronomia', '#homensnacozinha', '#instafood', '#waluntar', '#tirofotodecomida', '#untar', '#waldemaruntar', '#diabetes', '#cgm', '#glicose', '#glicemia', '#glicemiacontrolada', '#saude', '#saudeebemestar', '#diabetes', '#cgm', '#glicose', '#glicemia', '#glicemiacontrolada', '#saude', '#saudeebemestar', '#maiorbancodeinvestimentos', '#investimentos', '#assessoriadeinvestimentos', '#quemtemtimetemtudo', '#jampanabolsa', '#negócios', '#oi', '#oibr3', '#oibr4', '#vtal', '#btg', '#anuncio', '#breve', '#upi', '#fibra', '#internet', '#fiis', '#fundosimobiliarios', '#fundosimobiliários', '#investir', '#bcff11', '#investimentos', '#btgpactual', '#safirainvestimentos', '#traderlife', '#tradersbrasil', '#mercadofinanciero', '#mercadofinanceiro', '#bolsadevaloresbrasileira', '#miniindice', '#minidorlar', '#dólar', '#realbrasileiro', '#ações', '#açõesdabolsa', '#liberdadefinanceira', '#liberdade', '#liberdadefinanceira', '#dinheiro', '#money', '#rendaextraemcasa', '#rendaextra', '#institutotiagocamilo', '#tiagocamilo', '#acaosocial', '#parceiros', '#patrocinadores', '#educacao', '#judo', '#disciplina', '#cuidado', '#campeoes', '#doacao', '#futuro', '#valores', '#projetosocial', '#solidariedade', '#transformacao', '#lula13', '#bolsonaro2022', '#btglixo', '#premioibest', '#ibest20', '#ibest', '#bancosdigitais', '#forabolsonaro', '#shb', '#hipismocarioca', '#hipismo', '#riodejaneiro', '#6barras', '#shb', '#hipismocarioca', '#hipismo', '#riodejaneiro', '#6barras', '#bolsonaro2022', '#lula2022', '#safirainvestimentos', '#Planejamento', '#PlanejamentoFinanceiro', '#Disciplina', '#InteligenciaFinanceira', '#GustavoCerbasi', '#investimento', '#o', '#dinheiro', '#empreendedorismo', '#investimentos', '#a', '#imoveis', '#bolsadevalores', '#sucesso', '#finan', '#brasil', '#mercadofinanceiro', '#investir', '#casa', '#liberdadefinanceira', '#economia', '#apartamento', '#investidor', '#rendaextra', '#as', '#trader', '#imobiliaria', '#corretordeimoveis', '#es', '#marketingdigital', '#empreender', '#vendas', '#mercadoimobiliario', '#imovel', '#educacaofinanceira', '#Bolsonaro2022', '#meioambiente', '#conservaçãoambiental', '#btgsoma', '#deumbtg', '#womeninvestsummit', '#shb', '#hipismocarioca', '#hipismo', '#riodejaneiro', '#6barras', '#kart', '#cgs07', '#carros', '#KartRacing', '#Karting', '#gokart', '#racecar', '#kartingmoments', '#racing', '#kartingemotionandpassion', '#motorsport', '#kartinglife', '#kartingtime', '#kartbr', '#kartbrasiloficial', '#automobilismo', '#juntoscontraocoronavírus', '#a3sinvestimentos', '#lucro', '#mercadofinanceiro', '#bovespa', '#traderbrasil', '#btg', '#investimentos', '#dinheiro', '#financ', '#bolsa', '#investidor', '#sucesso', '#in', '#bolsadevalores', '#rico', '#dinheiro', '#abundancia', '#prosperidade', '#tempoedinheiro', '#mulheresinvestidora3s', '#mulheresinvestidoras', '#btg', '#btgpctual', '#btgaai', '#quemtemtimetemtudogus', '#newmag', '#noticias', '#cabala', '#educacaofinanceira', '#investimentos', '#empreendedorismo', '#conhecimento', '#investir', '#bolsadevalores', '#empreender', '#shb', '#hipismocarioca', '#hipismo', '#riodejaneiro', '#6barras', '#traderlife', '#tradersbrasil', '#mercadofinanciero', '#mercadofinanceiro', '#bolsadevaloresbrasileira', '#miniindice', '#minidorlar', '#dólar', '#realbrasileiro', '#ações', '#açõesdabolsa', '#liberdadefinanceira', '#liberdade', '#liberdadefinanceira', '#dinheiro', '#money', '#rendaextraemcasa', '#rendaextra', '#conselheira101', '#wcd', '#worldcorporatedirectors', '#carreira', '#carreirafemina', '#oportunidadeprofissional', '#equidadedegenero', '#networking', '#finanças', '#tbt', '#BuyES', '#ApexPartners', '#ES', '#conheçaoES', '#diversfiicando', '#dividendyield', '#dividendos', '#proventos', '#database', '#fiis', '#fundosimobiliários', '#fii', '#b3', '#longoprazo', '#juroscompostos', '#bolsadevalores', '#carreira', '#assessordeinvestimentos', '#oportunidade', '#btg', '#valorsacre', '#sacreinvestimentos', '#copom', '#selic', '#taxaselic', '#bancocentral', '#investimentos', '#valorsacre', '#sacreinvestimentos', '#copom', '#selic', '#taxaselic', '#bancocentral', '#investimentos', '#valorsacre', '#sacreinvestimentos', '#copom', '#selic', '#taxaselic', '#bancocentral', '#investimentos', '#valorsacre', '#sacreinvestimentos', '#copom', '#selic', '#taxaselic', '#bancocentral', '#investimentos', '#valorsacre', '#sacreinvestimentos', '#copom', '#selic', '#taxaselic', '#bancocentral', '#investimentos', '#valorsacre', '#sacreinvestimentos', '#copom', '#selic', '#taxaselic', '#bancocentral', '#investimentos', '#valorsacre', '#sacreinvestimentos', '#copom', '#selic', '#taxaselic', '#bancocentral', '#investimentos', '#valorsacre', '#sacreinvestimentos', '#copom', '#selic', '#taxaselic', '#bancocentral', '#investimentos', '#valorsacre', '#sacreinvestimentos', '#copom', '#selic', '#taxaselic', '#bancocentral', '#investimentos', '#es', '#buyes', '#valorsacre', '#sacreinvestimentos', '#copom', '#selic', '#taxaselic', '#bancocentral', '#investimentos', '#valorsacre', '#sacreinvestimentos', '#copom', '#selic', '#taxaselic', '#bancocentral', '#investimentos', '#valorsacre', '#sacreinvestimentos', '#copom', '#selic', '#taxaselic', '#bancocentral', '#investimentos', '#valorsacre', '#sacreinvestimentos', '#copom', '#selic', '#taxaselic', '#bancocentral', '#investimentos', '#valorsacre', '#sacreinvestimentos', '#copom', '#selic', '#taxaselic', '#bancocentral', '#investimentos', '#valorsacre', '#sacreinvestimentos', '#copom', '#selic', '#taxaselic', '#bancocentral', '#investimentos', '#valorsacre', '#sacreinvestimentos', '#copom', '#selic', '#taxaselic', '#bancocentral', '#investimentos', '#valorsacre', '#sacreinvestimentos', '#copom', '#selic', '#taxaselic', '#bancocentral', '#investimentos', '#valorsacre', '#sacreinvestimentos', '#copom', '#selic', '#taxaselic', '#bancocentral', '#investimentos', '#valorsacre', '#sacreinvestimentos', '#copom', '#selic', '#taxaselic', '#bancocentral', '#investimentos', '#followforfollowback', '#bitcoin', '#blockchain', '#brasil', '#cryptocurrency', '#criptomoedas', '#trader', '#ethereum', '#crypto', '#btc', '#trading', '#bitcoins', '#investimento', '#empreendedorismo', '#money', '#altcoins', '#hodl', '#cryptomillionaire', '#cardano', '#ada', '#dinheiro', '#investimentos', '#ico', '#follow4followback', '#food', '#saopaulo', '#blockchainbrasil', '#riodejaneiro', '#blockchaintechnology', '#ethereum', '#seveninvestor', '#btgpactual', '#investimentos', '#somosseven', '#rendafixa', '#rendavariavel', '#fundosdeinvestimentos', '#coe', '#previdencia', '#segurodevida', '#cambio', '#curiosidades', '#tbt', '#bear', '#bull', '#shb', '#hipismocarioca', '#hipismo', '#riodejaneiro', '#6barras', '#btg', '#btgpactual', '#grandcapital', '#grandcorporate', '#investimentos', '#smarttrends', '#investimentos', '#economia', '#dinheiro', '#investimentos', '#economia', '#dinheiro', '#investimentos', '#smarttrends', '#investimentos', '#shb', '#hipismocarioca', '#hipismo', '#riodejaneiro', '#6barras', '#Unit', '#Apex', '#MCS', '#Evento', '#experience', '#empresas', '#negócios', '#gestão', '#contabilidade', '#Liderança', '#Palestra', '#Debate', '#Conecção', '#Conecta', '#gestãodepessoas', '#recursoshumanos', '#desenvolvimento', '#vendas', '#sucesso', '#business', '#marketing', '#tecnologia', '#b2b', '#pwc', '#shb', '#hipismo', '#hipismobrasil', '#showjumping', '#pet', '#cachorro', '#dog', '#corgi', '#corgilove', '#corgibrasil', '#barolo', '#corgicuteness', '#corgipuppies', '#corgicommunity', '#AdriGóes', '#assessordeinvestimentos', '#assessoriadeinvestimentos', '#agenteautônomo', '#investimentos', '#patrimônio', '#proteçãopatrimonial', '#planejamentofinanceiro', '#diversificação', '#investimentosinteligentes', '#investimentosnoexterior', '#fundosdeinvestimento', '#previdênciaprivada', '#rendafixa', '#octocapital', '#btgpactual', '#taxaselic', '#copom', '#selic', '#dêumbtg', '#lineinvest', '#dinheiro', '#investimentos', '#economia', '#dinheiro', '#investimentos', '#economia', '#cienciaesaude', '#retrofit', '#revitalização', '#instalacoeseletricas', '#instalacoes', '#instalacoeseletromecanicas', '#engenharia', '#engenhariaelétrica', '#lge', '#lgeinstalações', '#utilidadesindustriais', '#agradecer', '#clientes', '#projetosgerandovalor', '#btgpactual', '#amurcapital', '#economia', '#dinheiro', '#banco', '#bancocentral', '#inflação', '#economia', '#dinheiro', '#banco', '#bancocentral', '#inflação', '#KNSC11', '#KNIP11', '#KNHY11', '#fiis', '#educacaofinanceira', '#rendaextra', '#investimentos', '#fundosimobiliario', '#mercadofinan', '#carreiras', '#ancord', '#sonhorealizado', '#conselheira101', '#wcd', '#worldcorporatedirectors', '#dêumbtg', '#empreendedorismo', '#empreededorismofeminino', '#networking', '#sp', '#TMJ', '#inovação', '#btgpactual', '#globalmanagersconference', '#lide', '#lideglobal', '#lidebr', '#revistalide', '#ParaTodosVerem', '#invest', '#investimento', '#paradigmacapital', '#photography', '#photooftheday', '#instagram', '#instadaily', '#palestra', '#networking', '#carreira', '#dicas', '#conselheira101', '#wcd', '#worldcorporatedirectors', '#116', '#pizzacommarketing', '#marketing', '#bgtpactual', '#bancobtg', '#investimentos', '#tecnologia', '#varejo', '#podcast', '#116', '#pizzacommarketing', '#marketing', '#bgtpactual', '#bancobtg', '#investimentos', '#tecnologia', '#varejo', '#podcast', '#btgpactual', '#investimentos', '#rendafixa', '#rendavariavel', '#fundosimobiliarios', '#fundosdeinvestimentos', '#titulospublicos', '#debentures', '#previdencia', '#ações', '#btgpactualadvisors', '#leideincentivoaoesporte', '#ministeriodacidadania', '#esporte', '#educarcomesporte', '#educaçãofísica', '#piracicaba', '#incentivoaoesporte', '#conselheira101', '#wcd', '#worldcorporatedirectors', '#wmm', '#womanmastermind', '#empreeendedorismofeminino', '#empreendedora', '#mulherempreendedora', '#mulher', '#womanpower', '#poderfeminino', '#unindoforças', '#networking', '#businesswoman', '#businesswomen', '#btgpactual', '#saopaulo', '#btgpactualevents', '#red', '#powerwoman', '#womaninred', '#entepreneur', '#womamenterpreneur', '#btgpactual', '#tbt', '#economia', '#dinheiro', '#investimentos', '#inflação', '#tbt', '#fundosimobiliarios', '#rendapassiva', '#mercadofinanceiro', '#liberdade', '#qualidadedevida', '#longoprazo', '#foco', '#resiliencia', '#tbt', '#lide', '#lideglobal', '#lidebr', '#fórumempresarial', '#lidemt', '#quemelideparticipa', '#womanmastermind', '#wmm', '#btgpactual', '#acquavero', '#g4', '#opahit', '#drrafaelfreitas', '#empreendedorismofeminino', '#proposito', '#mercado', '#business', '#conselheira101', '#wcd', '#worldcorporatedirectors', '#RadarDaSemana', '#72', '#wmm', '#womanmastermind', '#empreeendedorismofeminino', '#empreendedora', '#mulherempreendedora', '#mulher', '#womanpower', '#poderfeminino', '#unindoforças', '#networking', '#businesswoman', '#businesswomen', '#deumBTG', '#valorsacre', '#sacreinvestimentos', '#sacre', '#btgpactual', '#btg', '#investimentos', '#inauguracao', '#womanmastermind', '#marthaleonardis', '#btgpactual', '#acquavero', '#g4educacao', '#opahitdigital', '#drrafaelfreitas', '#networking', '#business', '#businesswoman', '#btgpactual', '#ewzcapital', '#investimentos', '#followforfollowback', '#bitcoin', '#blockchain', '#brasil', '#cryptocurrency', '#criptomoedas', '#ethereum', '#crypto', '#btc', '#trading', '#money', '#altcoins', '#hodl', '#cryptomillionaire', '#cardano', '#dinheiro', '#investimentos', '#ico', '#follow4followback', '#food', '#blockchaintechnology', '#ethereum', '#mercadofinanceiro', '#assessoriadeinvestimentos', '#btgpactual', '#foco', '#longoprazo', '#liberdadefinanceira', '#lulanoprimeiroturno', '#womanmastermind', '#wmm', '#btgpactual', '#acquavero', '#g4', '#opahit', '#drrafaelfreitas', '#empreendedorismofeminino', '#proposito', '#mercado', '#business', '#treinamento', '#assetmanagement', '#liderança', '#certificação', '#team', '#acquavero', '#btgpactual', '#avinexperience', '#womanmastermind', '#Eleicoes2022', '#Eleicoes2022', '#presidencia', '#Eleições2022', '#bolsonaro2022', '#Lula2022', '#mercadofinanceiro', '#investimentos', '#etfs', '#creditoprivado', '#debentures', '#DEBB11', '#CerbasiResponde', '#Essencialismo', '#Minimalismo', '#Consumismo', '#Finanças', '#InteligenciaFinanceira', '#EducacaoFinanceira', '#GustavoCerbasi', '#22', '#Lulanoprimeiroturno', '#investimentosinteligentes', '#educaçãofinanceira', '#ações', '#rent3', '#localiza', '#GRIClub', '#Varejo', '#Shopping', '#Brasil', '#btg', '#empreendedorismo', '#investimentos', '#AdriGóes', '#assessordeinvestimentos', '#assessoriadeinvestimentos', '#agenteautônomo', '#investimentos', '#patrimônio', '#proteçãopatrimonial', '#planejamentofinanceiro', '#diversificação', '#investimentosinteligentes', '#investimentosnoexterior', '#fundosdeinvestimento', '#previdênciaprivada', '#rendafixa', '#octocapital', '#btgpactual', '#btgpactual', '#profitto', '#lacava', '#adega', '#adegalacava', '#adegaclimatizada', '#adegapersonalizada', '#adegaspersonalizadas', '#adegacomercial', '#lacavaadegas', '#fucape', '#investimentos', '#economia', '#PraTodosVerem', '#investimento', '#empreendimento', '#educac', '#bovespa', '#fiis', '#bolsadevalores', '#acoes', '#fundosimobiliarios', '#educacaofinanceira', '#mercadofinanceiro', '#investimentos', '#CVBI11', '#fiis', '#educacaofinanceira', '#rendaextra', '#investimentos', '#fundosimobiliario', '#mercadofinanceiro', '#bolsadevalores', '#investimentos', '#rendapassiva', '#planejamentofinanceiro', '#buyandhold', '#investidores', '#btgpactual', '#btgdigital', '#produtosfinanceiros', '#planejamentosucessorio', '#planejamentopatrimonial', '#planejamentopatrimonialesucessorio', '#empresafamiliar', '#segurodevida', '#previdenciaprivada', '#fundodeinvestimento', '#mercadofinanceiro', '#direitoempresarial', '#beachtennis', '#ctmoska', '#ctmoskabeachtennis', '#beachtennisbrasil', '#beachtennisrj', '#tenniskraft', '#leblon', '#praiadoleblon', '#ademicon', '#ademiconrio', '#bodylaser', '#orthopride', '#shoppingleblon', '#riodesignleblon', '#mormaibeachtennis', '#itfbeachtennis', '#tenisrj', '#cbtoficial', '#btgpactual', '#xpinvestimentos', '#praia', '#saude', '#bemestar', '#vitamind', '#nike', '#rayban', '#trackandfield', '#rioopen', '#bodytech', '#aabbrio', '#historiasconectam', '#bemestarfinanceiro', '#educacaofinanceira', '#planejamentodevida', '#autocuidado', '#business', '#womanmastermind', '#btg', '#disminucioncarteravencida', '#solucionesempresariales', '#cobranza', '#cobranzaefectiva', '#cobranzaju', '#saude', '#zootecnia', '#medicina', '#meioambiente', '#projetossociais', '#mercadofinanceiro', '#esporte', '#investimentos', '#dinheiro', '#bolsadevalores', '#investimento', '#mercadofinanceiro', '#o', '#finan', '#empreendedorismo', '#a', '#investir', '#liberdadefinanceira', '#sucesso', '#es', '#as', '#rendaextra', '#economia', '#educacaofinanceira', '#investidor', '#rendavariavel', '#aepremerj', '#riodejaneiro', '#institutosdeprevidencia', '#aposentado', '#pensionista', '#servidorpublico', '#previdenciasocial', '#informacao', '#terceiraidade', '#noticias', '#congressoprevidenciario', '#buziosrj', '#congressoaepremerj', '#mercadofinanceiro', '#rendavariavel', '#carteirarecomendada', '#oportunidade', '#BTGPactualAdvisors', '#leideincentivoaoesporte', '#ministeriodacidadania', '#esporte', '#educarcomesporte', '#educaçãofísica', '#piracicaba', '#incentivoaoesporte', '#sextafeira', '#investimentos', '#mercadofinanceiro', '#senador', '#senadofederal', '#saf', '#futebol', '#senadordoRio', '#senadorportinho', '#carlosportinho', '#atleticomg', '#v8capital', '#investir', '#investimentos', '#mercadofinanceiro', '#ibovespa', '#cdi', '#rendafixa', '#multimercado', '#ações', '#grcapital', '#btgpactual', '#investimentos', '#tecnologia', '#EmployerU', '#linknabio', '#educacao', '#educaçãoprofissional', '#empresas', '#carreira', '#educacaocorporativa', '#mz', '#mzgroup', '#capitalmarket', '#investors', '#stockexchange', '#benchmark', '#investments', '#ri', '#ir', '#empoweringIR', '#CordierInvestimentos', '#BTGPactual', '#2W', '#Treinamento', '#Capacitacao', '#MercadoFinanceiro', '#TraineeEnforce', '#Trainee', '#Trainee2022', '#btg', '#carteirarecomendada', '#investimentos', '#necton', '#somosecos', '#planejadorfinanceiro', '#alexandrealvesconsultor', '#segurodevida', '#seguros', '#Planejamento', '#PlanejamentoFinanceiro', '#Disciplina', '#InteligenciaFinanceira', '#GustavoCerbasi', '#nossocompromisso', '#usinalins', '#nossocompromisso', '#créditoverde', '#agro', '#reflorestamento', '#programasemear', '#sustentabilidade', '#valor', '#daytrade', '#rendavariavel', '#b3', '#mercadofinanceiro', '#teamtrader', '#dinheiro', '#maceio', '#alagoas', '#forex', '#forextrader', '#vainaweb', '#btg', '#parceria', '#parceiros', '#networking', '#rendafixa', '#bolsadevalores', '#mercadofinanceiro', '#btgpactual', '#afscapital', '#familia', '#ÉPICO', '#roadsec', '#dontstophacking', '#patrocinio', '#recrutamentotech', '#techrecruitment', '#employerbranding', '#assessoriadeinvestimentos', '#investimentos', '#ações', '#carteirarecomendada', '#btgpactual', '#rendavariavel', '#cordier', '#cordierinvestimentos', '#eventoscorporativos', '#assessoriaecerimonialdeeventos', '#btg', '#btgpactual', '#brq', '#ferasbrq', '#somosferas', '#ti', '#tecnologia', '#analistadetestes', '#tech', '#qa', '#qualityassurance', '#tester', '#programadora', '#testesautomatizados', '#SUNOFIA', '#v8capital', '#safirainvestimentos', '#privatebanking', '#investimentos', '#AAI', '#assessoriadeinvestimentos', '#GTCapital', '#btgpactual', '#finacap', '#comoinvestir', '#mercadofinanceiro', '#fundosdeinvestimento', '#fundodeações', '#independenciafinanceira', '#bolsadevalores', '#ações', '#investimentos', '#btgpactual', '#financas', '#gestaodepatrimonio', '#ISC', '#NúcleoIlhadaGigóia', '#projetoincentivado', '#ministeriodoesporte', '#skate', '#inspirar', '#educar', '#transformar', '#skatecuida', '#bancobv', '#btg', '#DêUmBTG', '#rodadadeinvestimento', '#investimentos', '#operacoessocietarias', '#societario', '#negocios', '#amordemae', '#juntossomosmaisfortes', '#gratidão', '#familiaprojetodedeus', '#alegria', '#arrebentenoinsta', '#revolucionainstagram360', '#financascomportamentais', '#planejamentofinanceiro', '#lifeinsurance', '#invistasemmedo', '#dinheiro', '#brasil', '#brasileiro', '#brasileiros', '#investimentos', '#educaçãofinanceira', '#educacaofinanceira', '#educação', '#educacao', '#finançaspessoais', '#educadorfinanceiro', '#mudabrasil', '#anbima', '#finanças', '#financas', '#finançaspessoais', '#finançaspessoais', '#investidor', '#investidores', '#investimento', '#investimentos', '#conhecimento', '#pesquisa', '#famira', '#investimentos', '#rendavariavel', '#minhacarteiranumero1', '#podcast', '#podcastbrasil', '#eumecast', '#eumebanco', '#bancobtgpactual', '#btgpactual', '#lide', '#lideglobal', '#lidebr', '#tbt', '#fórumempresarial', '#LFTM3', '#maisinvestimentos', '#MaisAAI', '#btgpactual', '#BTGTalks', '#SejaMAIS', '#investimentos', '#btgpctual', '#offshore', '#usa', '#bank', '#miami', '#bullmarket', '#womeninvestsummit', '#mulheresinvestidoras', '#womeninvest', '#planejadorfinanceiro', '#alexandrealvesconsultor', '#segurodevida', '#seguros', '#planejamentofinanceiro', '#consultorfinanceiro', '#financas', '#dicas', '#beachtennis', '#btgpactual', '#arenabtg', '#quadras', '#quadrasbeachtennis', '#itaimbibi', '#esporte', '#saude', '#gastronomia', '#acquisition', '#aquisição', '#btgmodel', '#smile', '#look', '#pose', '#bank', '#office', '#job', '#model', '#beauty', '#brasil', '#blogueira', '#blogger', '#blue', '#invest', '#happy', '#me', '#girl', '#play', '#photo', '#pic', '#followforfollowback', '#followme', '#liketime', '#like', '#eu', '#fotografia', '#camera', '#on', '#studio', '#love', '#cdb', '#bancos', '#investimentos', '#btg', '#btgpactual', '#farialima', '#investimento', '#finanças', '#ja', '#jannemattos', '#janematos', '#mulheresempoderadas', '#mulher', '#mulhernomercadofinanceiro', '#brasil', '#btgpactual', '#gwminvestments', '#investimentos', '#planejamentofinanceiro', '#investimentosinteligentes', '#investidor', '#finanças', '#investimentos', '#comoinvestir', '#tiposdeinvestimento', '#investimentoalongoprazo', '#osentidofeminino', '#fiagronews', '#fiagro', '#dividendos', '#investimentos', '#mercadofinanceiro', '#btg', '#dêumbtg', '#disciplina', '#investimentos', '#btgpactual', '#btgpactualdigital', '#daianedossantos', '#vidafinanceira', '#otimismo', '#flavioaugusto', '#geracaodevalor', '#btgpactual', '#empreendedorismo', '#empreender', '#motivação', '#deumbtg', '#btgpactual', '#podcastbrasil', '#podcast', '#spotifypodcast', '#youtubepodcast', '#eumecast', '#eumebanco', '#fabiolouzada', '#ronaldocerqueira', '#paap', '#btgpactual', '#fontedafortuna', '#cenografia', '#ceno', '#cenografiadeeventos', '#cenografiacorporativa', '#tecnologia', '#roadsec', '#sp', '#marcenaria', '#projetos', '#stand', '#eventos', '#eventoscorporativos', '#FundodeGarantia', '#FGTS', '#Fundos', '#EquilibrioFinanceiro', '#InteligenciaFinanceira', '#GustavoCerbasi', '#ethereum', '#exchanges', '#criptoativos', '#criptomoedas', '#bitcoinbrasil', '#tecnologiablockchain', '#investimento', '#btc', '#dinheiro', '#cripto', '#bolsadevalores', '#mercadofinanceiro', '#empreendedorismo', '#moedadigital', '#brasil', '#99Pay', '#BancodoBrasil', '#BancoInter', '#BTGPactual', '#ItaúUnibanco', '#MercadoPago', '#Nubank', '#PagBank', '#XP', '#somostraders', '#mercadofinanceiro', '#corretorta', '#bolsadevalores', '#dominvestimentos', '#iluminação', '#energiasolar', '#financiamentohabitacional', '#luminariasdecorativas', '#casapropria', '#caixaeconomicafederal', '#energiasolar', '#energíafotovoltaica', '#projetoinovador', '#engenhariaelétrica', '#financiamentoenergiasolar', '#aneel', '#aumentodeenergia', '#eletrobras', '#SomosGrupoFSB', '#Pesquisa', '#Eleições', '#Dados', '#Comportamento', '#BTGL11', '#dividendos', '#rendapassiva', '#FIIs', '#investimentos', '#BTGL11', '#dividendos', '#rendapassiva', '#FIIs', '#investimentos', '#beachtennis', '#beachtennisworld', '#beachtennisbrasil', '#beachtennisnordeste', '#beachtennislife', '#beachtennislifestyle', '#beachtennislovers', '#beachtennisplayer', '#macbook', '#macbookair', '#macbookairm1', '#apple', '#macbookaracaju', '#ipadaracaju', '#applearacaju', '#salvador', '#aracaju', '#sergipe', '#ipad9', '#brasilstore', '#macbookaracaju', '#diadospais', '#diadospaischegando', '#itabaiana', '#rendafixa', '#investimentos', '#planejamentofinanceiro', '#BTGTALKS', '#fairfax', '#renangaldino', '#recuperaempresagaldino', '#brasilempresario', '#planejadorfinanceiro', '#alexandrealvesconsultor', '#segurodevida', '#seguros', '#controlefinanceiro', '#financas', '#dicas', '#consultoria', '#aposentadoria', '#web3cast', '#web3', '#almadao', '#tokenização', '#TBT', '#ROADSEC2022', '#ROADSEC', '#PerkinsAndWill', '#PerkinsAndWil', '#smarttrends', '#investimentos', '#planejadorfinanceiro', '#alexandrealvesconsultor', '#segurodevida', '#seguros', '#financas', '#planejamentofinanceiro', '#SectorFiduciario', '#beachtennissorocaba', '#beachtennis', '#beachtennisbrasil', '#beachtennislovers', '#beachtennisplayer', '#beachtennislife', '#btg', '#entrepreneurship', '#investments', '#avgcapital', '#btgpactual', '#b3', '#mercadofinanceiro', '#bolsadevalores', '#DiversiFIIcando', '#plantãofiis', '#fiis', '#fii', '#fundosimobiliários', '#ifix', '#bbpo11', '#hgru11', '#irdm11', '#btgl11', '#htmx11', '#brco11', '#bolsadevalores', '#buyandhold', '#investimentos', '#carreira', '#investimentos', '#finanças', '#TraineeEnforce', '#DiversiFIIcando', '#dividendyield', '#dividendos', '#fiis', '#fundosimobiliários', '#database', '#alzr11', '#xpml11', '#xpin11', '#xpinvestimentos', '#btgpactual', '#assessordeinvestimentos', '#assessorextraordinario', '#vidadeassessor', '#profissaodofuturo', '#investimentos', '#b3', '#rendavariavel', '#rendafixa', '#comunicaçãodecausas', '#assessoriadeimprensa', '#clientesdeproposito', '#esporte', '#educarcomesporte', '#educaçãofísica', '#piracicaba', '#incentivoaoesporte', '#gaiamais', '#vaga', '#oportunidade', '#assessor', '#assessordeinvestimentos', '#escritoriodeinvestimentos', '#mercadofinanceiro', '#possuitextoalternativo', '#btgsoma', '#asidbrasil', '#terceirosetor', '#impactosocial', '#transformaçãosocial', '#AdriGóes', '#assessordeinvestimentos', '#assessoriadeinvestimentos', '#agenteautônomo', '#investimentos', '#patrimônio', '#proteçãopatrimonial', '#planejamentofinanceiro', '#diversificação', '#investimentosinteligentes', '#investimentosnoexterior', '#fundosdeinvestimento', '#previdênciaprivada', '#rendafixa', '#octocapital', '#btgpactual', '#farialima', '#btgpactual', '#convenção', '#vendas', '#feiraseeventos', '#eventos', '#cordao', '#cordaopersonalizado', '#credencial', '#fabricante', '#primesetcordao', '#cordaoparacracha', '#cordaoparacrachapersonalizado', '#btgpactual', '#forexlifestyle', '#forextrader', '#forextrading', '#forex', '#forexmoney', '#btg', '#AAI', '#CNPI', '#traderbrasil', '#trade', '#tradingforex', '#mercadofinanceiro', '#money', '#priceaction', '#grafico', '#tradinglifestyle', '#citi', '#a3sinvestimentos', '#a3sinvestimentos', '#lucro', '#mercadofinanceiro', '#bovespa', '#traderbrasil', '#btg', '#investimentos', '#dinheiro', '#financ', '#bolsa', '#investidor', '#sucesso', '#in', '#bolsadevalores', '#rico', '#dinheiro', '#abundancia', '#prosperidade', '#tempoedinheiro', '#mulheresinvestidora3s', '#mulheresinvestidoras', '#btgpactualdigital', '#planejadorfinanceiro', '#alexandrealvesconsultor', '#segurodevida', '#seguros', '#saude', '#protecao', '#gestaoderiscos', '#btgadvisors', '#btgpactual', '#mesaGO', '#institutotiagocamilo', '#tiagocamilo', '#cidadania', '#polos', '#patrocinadores', '#acaosocial', '#educacao', '#judo', '#disciplina', '#cuidado', '#campeoes', '#doacao', '#futuro', '#valores', '#projetosocial', '#solidariedade', '#transformação', '#recuperaempresagaldino', '#economiaenegocios', '#nucleorenangaldino', '#valorsacre', '#sacreinvestimentos', '#investimentos', '#financ', '#sacrenamidia', '#wit', '#revistawit', '#previdenciaprivada', '#BLCP11', '#VVPR11', '#DiversiFIIcando', '#btgpactual', '#btlg11', '#btg', '#fundosimobiliários', '#fiis', '#fii', '#bolsadevalores', '#ifix', '#b3', '#fiislogisticos', '#porumbrasilmaisdoador', '#culturadedoação', '#doe', '#doação', '#filantropia', '#querodoar', '#educação', '#educacaofinanceira', '#educacaocontinuada', '#alltogether', '#eventoalltogether', '#sis3imoveis', '#mercadofinanceiro', '#etf', '#debenture', '#creditoprivado', '#bolsadevalores', '#investimentos', '#setupcititrader', '#btgpactualdigital', '#traderiniciante', '#daytraderbrasil', '#mercadofinanceiro', '#educação', '#educaçãofinanceira', '#educaçãocontinuada', '#mercadoindependente', '#finanças', '#investimentos', '#tbt', '#investimentos', '#investimentospessoajuridica', '#investimentospessoafisica', '#mazainvest', '#assetmanagement', '#btg', '#sinimplantsysyem', '#desarrollosostenible', '#desarrollo', '#sostenible', '#inversiónresponsable', '#SectorFiduciario', '#ods', '#objetivosdedesarrollosostenible', '#negociosemexpansão', '#tbt', '#VVPR11', '#BLCP11', '#DiversiFIIcando', '#btgpactual', '#btlg11', '#btg', '#fundosimobiliários', '#fiis', '#fii', '#bolsadevalores', '#ifix', '#b3', '#fiislogisticos', '#economia', '#inflação', '#cenarioglobal', '#mercadofinanceiro', '#mercadofinanceiro', '#investimentos', '#assessoriadeinvestimentos', '#educacao', '#educacaofinanceira', '#cidadania', '#conhecimento', '#aprendizado', '#gratuito', '#financas', '#institutotiagocamilo', '#acaosocial', '#workshop', '#btgpactual', '#parceria', '#judo', '#desenvolvimento', '#evolucao', '#nocaminhodobem', '#pet', '#cachorro', '#dog', '#corgi', '#corgilove', '#corgibrasil', '#barolo', '#corgicuteness', '#corgipuppies', '#corgicommunity', '#exame', '#agenciagude', '#eventogude', '#business', '#negocios', '#btgpactual', '#eventocorporativo', '#sorporation', '#sb7someluz', '#eventos', '#BrandExperience', '#EventoGude', '#gratidão', '#FeliznaPris', '#negocios', '#negociosdamoda', '#mastermind', '#sp', '#brasil', '#kinitrocapital', '#alltogether', '#economia', '#womeninvestsummit', '#mulheresinvestidoras', '#btgpactual', '#festa', '#btg', '#aai', '#comemoração', '#clientenobrepress', '#negócios', '#expansão', '#pwc', '#exame', '#cloud', '#empreendedorismo', '#vinho', '#lifetimeinvestimentos', '#menuharmonizado', '#vinhoecomida', '#business', '#winebusiness', '#sommelierdevinho', '#vinhobrasileiro', '#vinhotinto', '#vinhobranco', '#parceria', '#team', '#btgpactual', '#btgdigital', '#btg', '#sucesso', '#assessoria', '#investimentos', '#lifestyle', '#riodejaneiro', '#btg', '#wertinvestimentos', '#investimento', '#b3', '#rendaextra', '#dinheiroextra', '#liberdadefinanceira', '#independenciafinanceira', '#educacaofinanceira', '#poupar', '#dinheiro', '#goraleduc', '#goraleduc', '#abqm', '#abqmoficial', '#job', '#btg', '#beautiful', '#cowgirl', '#domingo', '#love', '#picoftheday', '#cute', '#educacaofinanceira', '#financaspessoais', '#literaciafinanceira', '#finanças', '#investimento', '#investing', '#bolsadevalores', '#ações', '#corretoras', '#fiv', '#negociosemsaude', '#saude', '#infertilidade', '#thmblanco', '#bgtpactual', '#sacreinvestimentos', '#assessoriadeinvestimentos', '#time', '#2Wbtg', '#oncoguia', '#oncofriends', '#amigosdaquimio', '#defesadireitodosidosos', '#investimentos', '#dinheiro', '#mercadfinanceiro', '#bolsadevalores', '#btgpactual', '#gwminvestments', '#saopaulo', '#alphaville', '#assessoriafinanceira', '#ESG', '#environmental', '#social', '#governance', '#fy', '#mercado', '#tbt', '#previdenciaprivada', '#investimentofácil', '#btgpactual', '#investirparaofuturo', '#previdenciaprivada', '#investimentofácil', '#btgpactual', '#investirparaofuturo', '#previdenciaprivada', '#investimentofácil', '#btgpactual', '#investirparaofuturo', '#previdenciaprivada', '#investimentofácil', '#btgpactual', '#investirparaofuturo', '#podcast', '#podcastbrasil', '#spotifypodcast', '#youtubepodcast', '#livepodcast', '#eumecast', '#eumebanco', '#falabancario', '#kellyevangelista', '#itauunibanco', '#itau', '#investimentos', '#advisor', '#btgpactual', '#investimentos', '#planejamentofinanceiro', '#banker', '#btgpactual', '#mito', '#bolsonaro2022', '#bolsonarotemrazão', '#instagram', '#instagood', '#reels', '#viral', '#memesbrasil', '#daytrader', '#btgpactual', '#educacaofinanceira', '#investimentos', '#BTGSoma', '#mito', '#bolsonaro2022', '#bolsonarotemrazao', '#bolsonaro2022', '#bolsonarotemrazao', '#SomosGrupoFSB', '#Pesquisa', '#Eleições', '#Dados', '#Comportamento', '#valoresdors', '#estrelars', '#ranking', '#empresas', '#economia', '#noticias', '#andréesteves', '#03', '#fundosimobiliarios', '#liberdadefinanceira', '#rendapassiva', '#fiis', '#viverderenda', '#rendaextra', '#rendavariavel', '#bolsadevalores', '#mercadofinanceiro', '#tbt', '#futevôlei', '#ftv', '#futevoleibrasil', '#futevoleivinhedo', '#eujogofutevolei', '#MolaCorban', '#BGTPactual', '#Tech', '#Startup', '#lideranca', '#negocios', '#btgpactual', '#leandrokarnal', '#pessoas', '#gestao', '#empreendedorismo', '#empreender', '#empresas', '#escolinhadetriathlon', '#formandocampeoes', '#navida', '#noesporte', '#jahcuida', '#thekingiscoming', '#idpgo', '#btgpactual', '#investimentos', '#negócios', '#business', '#sãopaulo', '#farialimers', '#farialima', '#future', '#RadarDaSemana', '#77', '#investimento', '#dinheiro', '#empreendedorismo', '#investimentos', '#imoveis', '#bolsadevalores', '#sucesso', '#brasil', '#mercadofinanceiro', '#investir', '#liberdadefinanceira', '#economia', '#apartamento', '#investidor', '#rendaextra', '#trader', '#imobiliaria', '#corretordeimoveis', '#marketingdigital', '#mercadoimobiliario', '#imovel', '#avinexperience', '#acquavero', '#arenabtg', '#pet', '#cachorro', '#dog', '#corgi', '#corgilove', '#corgibrasil', '#barolo', '#corgicuteness', '#corgipuppies', '#corgicommunity', '#Crypto', '#Marketing', '#Myntegration', '#TRXF11', '#BTLG11', '#FIIs', '#fundosimobiliarios', '#ligadefiis', '#SomosInsper', '#feiradecarreiras', '#feiradestagios', '#estágios', '#pracegover', '#pratodosverem', '#investimentos', '#investimento', '#assessoria', '#mercadofinanceiro', '#economia', '#financas', '#financaspessoais', '#bolsa', '#bolsadevalores', '#sechat', '#negocios', '#mercadoglobal', '#industria', '#brasil', '#futurodacannabis', '#brasil', '#mercadofinanceiro', '#rendavariavel', '#carteirarecomendada', '#oportunidade', '#BancosdeInvestimento', '#Poupança', '#InteligenciaFinanceira', '#GustavoCerbasi', '#spiritsp', '#finanças', '#liberdadefinanceira', '#qualidadedevida', '#lifestyle', '#mercadofinanceiro', '#rendapassiva', '#fundosimobiliarios', '#assessordeinvestimentos', '#btgpactual', '#faixapreta', '#longoprazo', '#resiliencia', '#mercadofinanceiro', '#rendavariavel', '#carteirarecome', '#oportunidade', '#porumbrasilmaisdoador', '#culturadedoação', '#doe', '#doação', '#filantropia', '#querodoar', '#assistencialismo', '#assistencialista', '#reels', '#reelsviral', '#premio', '#campeão', '#construção', '#inteligente', '#crescimento', '#premio', '#campeão', '#construção', '#inteligente', '#crescimento', '#taxaselic', '#copom', '#selic', '#dêumbtg', '#taxaselic', '#copom', '#selic', '#dêumbtg', '#lineinvest', '#negócios', '#liderança', '#revistapoder', '#poderonline', '#glamurama', '#joycepascowitch', '#tbt', '#btgpactual', '#dêumbtg', '#independenciafinanceira', '#investimentos', '#dinheiro', '#rendapassiva', '#somostraders', '#mercadofinanceiro', '#corretorta', '#bolsadevalores', '#dominvestimentos', '#empreendedorismo', '#o', '#marketingdigital', '#empreender', '#sucesso', '#marketing', '#empreendedor', '#a', '#brasil', '#negocios', '#foco', '#dinheiro', '#motiva', '#rendaextra', '#empreendedorismofeminino', '#instagram', '#vendas', '#love', '#business', '#motivacao', '#vendasonline', '#bhfyp', '#hotmart', '#empreendedorismodigital', '#digitalmarketing', '#amor', '#like', '#investimento', '#fashion', '#empresas', '#liderancafeminina', '#sororidade', '#diversidadeeinclusão', '#empoderamentofeminino', '#esg', '#leader', '#mulheresquetransformam', '#btg', '#macroeconomia', '#dêumbtg', '#agricultura', '#agro', '#faegjovem', '#agroétudo', '#agroetudo', '#sistemafaeg', '#senargo', '#xpinvestimentos', '#btgpactual', '#assessordeinvestimentos', '#assessorextraordinario', '#vidadeassessor', '#profissaodofuturo', '#investimentos', '#b3', '#rendavariavel', '#rendafixa', '#OCTOCapital', '#BTGPactual', '#assessoriadeinvestimentos', '#investimento', '#investimentoemFundolmobiliário', '#comoinvestir', '#independenciafinanceira', '#Fundolmobiliário', '#BolsaDeValores', '#seumelhorativo', '#sucessofinanceiro', '#segunda', '#investimentos', '#mercadofinanceiro', '#economia', '#assessoradeinvestimentos', '#aai', '#vidadeassessor', '#mulheresnomercado', '#DiversiFIIcando', '#plantãofiis', '#resumodfii', '#fii', '#fiis', '#fundosimobiliários', '#ifix', '#investir', '#investimentos', '#noticiasfiis', '#b3', '#btg', '#meudinheiroativo', '#otimistaoficial', '#RZTR11', '#BTRA11', '#BRCR11', '#RECT11', '#RBRY11', '#MXRF11', '#lula2022', '#quantumfinance', '#investidorinteligente', '#fundosdejulho', '#FechadoComBolsonaro', '#Lifetime', '#LifetimeInvestimentos', '#BTGPactual', '#investimentos', '#privatebanking', '#InGuedesWeTrust', '#ESG', '#fusoeseaquisicoes', '#esg', '#duediligence', '#ipo', '#mercado', '#advocaciaempresarial', '#pmradvocacia', '#compliance', '#xpinvestimentos', '#btgpactual', '#assessordeinvestimentos', '#assessorextraordinario', '#vidadeassessor', '#profissaodofuturo', '#investimentos', '#b3', '#rendavariavel', '#rendafixa', '#CorretoraDeValores', '#CerbasiResponde', '#Empreendedorismo', '#Emprestimo', '#PequenosNegocios', '#InteligenciaFinanceira', '#EducacaoFinanceira', '#GustavoCerbasi', '#SevenInvestor', '#somosseven', '#macroday', '#btgpactual', '#VoaProsperidade', '#Gratidao', '#300MM', '#prosperidadeinvestimentos', '#BtgPactual', '#dica', '#sucesso', '#networking', '#carreira', '#reflexao', '#CerbasiResponde', '#Empreendedorismo', '#Emprestimo', '#PequenosNegocios', '#InteligenciaFinanceira', '#EducacaoFinanceira', '#GustavoCerbasi', '#faegjovemmineiros', '#encontrotécnico', '#sucessãofamiliar', '#empreendedorismo', '#liderança', '#elizeuagro', '#gabyagro', '#somosatom', '#mercadofinanceiro', '#vidadetrader', '#btgpactual', '#somosatom', '#vidadetrader', '#mercadofinanceiro', '#btgpactual', '#somosatom', '#mercadofinanceiro', '#vidadetrader', '#btgpactual', '#daytrading', '#daytrader', '#traderbrasil', '#trader', '#bolsadevalores', '#mercadofinanceiro', '#sucesso', '#bitcoinbrasil', '#criptomoedas', '#blockchain', '#mineração', '#notícias', '#investimentos', '#economia', '#brasil', '#altcoins', '#ethereum', '#eth', '#economia', '#finanças', '#investimentos', '#investimentos', '#ibiunainvestimentos', '#podcast', '#Finsiders', '#bancos', '#fintechs', '#inovação', '#innovation', '#startups', '#technology', '#tecnologia', '#B1', '#B2', '#vempraplantare', '#mercadofinanceiro', '#investimentos', '#financaspessoais', '#previdencia', '#daytrade', '#assessordeinvestimentos', '#acquavero', '#tbt', '#RevistaIdeal', '#BTGPactual', '#BTG', '#diversidade', '#programa', '#social', '#aceleracao', '#foco', '#inclusao', '#lgbtq', '#lgbt', '#PiorCorretora', '#brasil', '#moneytime', '#valoeconômico', '#folhadesaopaulo', '#btgpactual', '#economistasincero', '#trademap', '#btgpactual', '#investimentos', '#investimento', '#assessoria', '#mercadofinanceiro', '#economia', '#financas', '#financaspessoais', '#bolsa', '#bolsadevalores', '#AVnaFL', '#avin3', '#BTGPactual', '#Resultados', '#Earning', '#2T2022', '#lifetime11anos', '#lifetime', '#lftm', '#investimentos', '#lifetimeinvestimentos', '#birthday', '#happybirthday', '#cafecomproposito', '#cancerdemama', '#responsabilidadesocial', '#esg', '#macroday', '#macroday2022', '#conhecimento', '#investimentos', '#escolhas', '#gustavocerbasi', '#btgpactual', '#grandcapital', '#vozfeminina', '#ericareisdecalcadecouroparasempre', '#acillondrina', '#vamosdesenvolverlondrina', '#londrina', '#empresarios', '#crescimento', '#foco', '#empreendorismo', '#brasil', '#bolsonaro2022', '#grupohagana', '#amchambrasil', '#brproperties', '#brookfieldproperties', '#btgpactual', '#cbre', '#cushman', '#eztec', '#greenbuildingcouncil', '#gtispartners', '#hilton', '#iguatemi', '#inovabra', '#leroymerlin', '#linkschoolofbusiness', '#mercadolivre', '#microsoft', '#netflix', '#opussoftware', '#palaciotangara', '#pepsico', '#santander', '#saocarlos', '#sap', '#sky', '#sxnegocios', '#trendmicro', '#vbirealstate', '#vivo', '#wework', '#palkhubdenegócios', '#curadoriacomercial', '#gestãopatrimonial', '#mercadofinanceirobrasil', '#caxiasdosulrs', '#FaegJovem', '#Jovens', '#Agro', '#Liderança', '#Sucessão', '#Empreendedorismo', '#fechadíssimocombolsonaro', '#assessordeinvestimento', '#assessoriadeinvestimentos', '#carreira', '#corretoras', '#escritóriosdeinvestimentos', '#investday', '#mercadofinanceiro', '#plataformas', '#certificadoras', '#certificações', '#cfp', '#ancord', '#investimentos', '#planejar', '#educaçãofinanceira', '#EncontroTécnico', '#faegjovemmineiros', '#encontrotécnico', '#sucessãofamiliar', '#empreendedorismo', '#liderança', '#elizeuagro', '#gabyagro', '#batucadaboa', '#fé', '#força', '#foconoobjetivo', '#gratidão', '#TarcísiogovernadorSP', '#investimentos', '#rendafixa', '#Tesourodireto', '#titulospublicos', '#titulosprivados', '#tesouroipca', '#inflação', '#IPCA', '#comoinvestir', '#financaspessoais', '#investimento', '#seudinheiro', '#rendafixa', '#poupanca', '#ondeinvestir', '#tenis', '#fisioterapia', '#rjfisioterapia', '#aulasdetenis', '#tenniscoach', '#tennisplayer', '#treino', '#circuitoflagaveadetenis', '#leblon', '#jardimpernambuco', '#tenisrj', '#cbtoficial', '#itftennis', '#vitamind', '#endorfina', '#saude', '#bemestar', '#ademicon', '#orthopride', '#xpinvestimentos', '#btgpactual', '#nike', '#rayban', '#shoppingleblon', '#OMYNTOUCHEGOU', '#VEMPRAMYNT', '#NICETOMYNTYOU', '#MYNTOU', '#boletimfocus', '#bancocentral', '#mercadofinanceiro', '#taxaselic', '#inflação', '#prosperidadeinvestimentos', '#btgpactual', '#Finsiders', '#Blocknews', '#cripto', '#Bitcoin', '#Ethereum', '#fintechs', '#financialservices', '#blockchain', '#É', '#bitcoinbrasil', '#economia', '#investimentos', '#finanças', '#bolsonaro', '#ogiganteacordou', '#invistadeverdade', '#invistaemconhecimento', '#bolsonaro2022', '#casedesucesso', '#btgpactual', '#paulobiorealestate', '#parceriasesucesso', '#liderenca', '#tradicao', '#42anos', '#Inside', '#carreira', '#oportunidade', '#mentoria', '#lideranças', '#liderar', '#mulheres', '#conhecimento', '#investimento', '#delfosinvestimentos', '#btgpactual', '#dêumbtg', '#deumbtgnoseusinvestimentos', '#octocapital', '#btgpactual', '#investimento', '#beachtennis', '#beachtennislife', '#beachtennislover', '#beachtennisplayer', '#operacaoportuaria', '#operadorlogistico', '#portodesalvador', '#portodeilheus', '#portodearatu', '#agenciamaritima', '#agenciamentomaritimo', '#terminalalfandegado', '#centrodedistribuicao', '#transportadora', '#transporterodoviario', '#shipping', '#maritimeagency', '#bondedwharehouse', '#husbandry', '#portoperations', '#terminalhandling', '#exportacao', '#importacao', '#investimentos', '#bolsadevalores', '#ações', '#macroeconomia', '#macroeconomics', '#economia', '#btg', '#btgpactual', '#legacy', '#legacyinvestimentos', '#investimentos', '#protagonismo', '#euromoney', '#inovação', '#bndes', '#liderançaquetransforma', '#digital', '#esg', '#inclusaosocial', '#economia', '#transformacaobancaria', '#liderança', '#investir', '#investimento', '#empreendedorismo', '#dinheiro', '#investimentos', '#sucesso', '#empreender', '#foco', '#marketingdigital', '#coach', '#negocios', '#marketing', '#finanças', '#motivação', '#brasil', '#frases', '#bitcoin', '#economia', '#investidor', '#liderança', '#criptomoedas', '#administração', '#liberdadefinanceira', '#viagem', '#masterchefbr', '#fitness', '#mercadofinanceiro', '#investirecocar', '#fotografia', '#bolsadevalores', '#SectorFiduciario', '#daytrade', '#daytrader', '#bolsadevalores', '#mercadofinanceiro', '#trader', '#trading', '#vidadetrader', '#miniindice', '#btg', '#somobtg', '#investimentos', '#trade', '#daytrading', '#dinheiro', '#money', '#perspectiveinvestimentos', '#investimento', '#bovespa', '#priceaction', '#traders', '#analisetecnica', '#ibovespa', '#somostraders', '#daytrade', '#daytrader', '#bolsadevalores', '#mercadofinanceiro', '#trader', '#trading', '#vidadetrader', '#miniindice', '#btg', '#somobtg', '#investimentos', '#trade', '#daytrading', '#dinheiro', '#money', '#perspectiveinvestimentos', '#investimento', '#bovespa', '#priceaction', '#traders', '#analisetecnica', '#ibovespa', '#somostraders', '#ericareis', '#styleoftheday', '#stylish', '#lookdodia', '#jornalismo', '#apresentadora', '#fashionstyle', '#duelodelooks', '#redetv', '#tvhost', '#redetvnews', '#looksfemininos', '#lulanaCadeia', '#Brasil', '#plataforma', '#criptomonedas', '#XTAGE', '#BTC', '#ETH', '#mundocriptomonedas', '#btc', '#newyork', '#acciones', '#economiamundial', '#criptomonedas', '#antgroup', '#listanegra', '#criptoactivos', '#liberalismoeconomico', '#politicoscolaborem', '#CAIXA', '#lulanuncamais', '#vidaverde', '#abracearvores', '#planteamor', '#mercadofinanceiro', '#liderança', '#BTG', '#GigantesComNumo', '#BTG', '#SãoPaulo', '#Macroeconomia', '#MacroDay', '#agro', '#agricultura', '#agriculturaurbana', '#agronegócio', '#sistemafaeg', '#senargoiás', '#faegjovem', '#empreendedorismo', '#liderança', '#sucessão', '#jovenslideres', '#produtorrural', '#goiás', '#PTNAOPTNUNCAMAIS', '#trend', '#web3cast', '#web3', '#almadao', '#tokenização', '#macroday2022', '#btgpactual', '#nectoninvestimentos', '#credito', '#dinheiro', '#investimentos', '#daytrade', '#daytrader', '#bolsadevalores', '#mercadofinanceiro', '#trader', '#trading', '#vidadetrader', '#miniindice', '#btg', '#somobtg', '#investimentos', '#trade', '#daytrading', '#dinheiro', '#money', '#perspectiveinvestimentos', '#investimento', '#bovespa', '#priceaction', '#traders', '#analisetecnica', '#ibovespa', '#somostraders', '#daytrade', '#daytrader', '#bolsadevalores', '#mercadofinanceiro', '#trader', '#trading', '#vidadetrader', '#miniindice', '#btg', '#somobtg', '#investimentos', '#trade', '#daytrading', '#dinheiro', '#money', '#perspectiveinvestimentos', '#investimento', '#bovespa', '#priceaction', '#traders', '#analisetecnica', '#ibovespa', '#somostraders', '#investimentos', '#btg', '#btgpactual', '#economia', '#macroeconomia', '#dinheiro', '#sexta', '#friday', '#dowhatyoulove', '#investimentos', '#mercadofinanceiro', '#economia', '#assessoradeinvestimentos', '#aai', '#vidadeassessor', '#mulheresnomercado', '#Fronteira', '#politicaspublicas', '#darvoz', '#crianças', '#somosatom', '#mercadofinanceiro', '#vidadetrader', '#btgpactual', '#btg', '#porumbrasilmelhor', '#finanças', '#enriquecer', '#bolsonaroreeleito2022', '#assessordeinvestimento', '#assessoriadeinvestimentos', '#carreira', '#corretoras', '#escritóriosdeinvestimentos', '#porelas', '#mercadofinanceiro', '#plataformas', '#summitleads', '#ancord', '#investimentos', '#tvcrcnews', '#educaçãofinanceira', '#quemtemtimetemtudo', '#esperançar', '#lula13', '#vanessafederal6513', '#rally', '#bajaportoalegre', '#automobilismo', '#rali', '#4x4', '#fairfaxseguros', '#InstitutoBaccare', '#empresasbrasileiras', '#bolsadevalores', '#marketcap', '#investidores', '#mercadofinanceiro', '#btgpactual', '#petrobras', '#ambev', '#valenobrasil', '#weg', '#InstitutoBaccarelli', '#callbear', '#cartaodecredito', '#viagem', '#beneficios', '#investimentos', '#dinheiro', '#GloboLixo', '#setupcititrader', '#SejaOnix', '#dêumbtg', '#acquavero', '#btgpactual', '#ocaradomercado', '#boletimfocus', '#investimentos', '#BolsaDeValores', '#PIB', '#SELIC', '#IPCA', '#TaxaSelic', '#CDI', '#RendaVariavel', '#Fii', '#FundosImobiliarios', '#FundoImobiliario', '#RendaFixa', '#boletimfocussemanal', '#relatoriofocus', '#menthor', '#menthorinvestimentos', '#btgpactual', '#mercadofinanceiro', '#investimentos', '#educaçãofincaneira', '#VemPraOCTO', '#OCTOCapital', '#BTGPactual', '#investidor', '#investimentos', '#investirmelhor', '#investimentosinteligentes', '#investidoriniciante', '#investidorveterano', '#volatilidadedomercado', '#mercadofinanceiro', '#ações', '#rendavariável', '#riqueza', '#TDC', '#Business', '#ProtagonistaAgil', '#BusinessAgility', '#ProtagonistasAgeis', '#VemSemMedoDeSerFeliz', '#Btg', '#PessoasDesenvolvedoras', '#DoteNet', '#Flutter', '#Android', '#AWS', '#btgpactual', '#rubiinvestimentos', '#GeraçãoBTG', '#DêUmBTG', '#independenciasacre', '#valorsacre', '#sacreinvestimentos', '#btgpactual', '#investimentos', '#mercadofinanceiro', '#bolsadevalores', '#independenciasacre', '#valorsacre', '#sacreinvestimentos', '#btgpactual', '#investimentos', '#mercadofinanceiro', '#bolsadevalores', '#independenciasacre', '#valorsacre', '#sacreinvestimentos', '#btgpactual', '#investimentos', '#mercadofinanceiro', '#bolsadevalores', '#independenciasacre', '#valorsacre', '#sacreinvestimentos', '#btgpactual', '#investimentos', '#mercadofinanceiro', '#bolsadevalores', '#independenciasacre', '#valorsacre', '#sacreinvestimentos', '#btgpactual', '#investimentos', '#mercadofinanceiro', '#bolsadevalores', '#independenciasacre', '#valorsacre', '#sacreinvestimentos', '#btgpactual', '#investimentos', '#mercadofinanceiro', '#bolsadevalores', '#independenciasacre', '#valorsacre', '#sacreinvestimentos', '#btgpactual', '#investimentos', '#mercadofinanceiro', '#bolsadevalores', '#independenciasacre', '#valorsacre', '#sacreinvestimentos', '#btgpactual', '#investimentos', '#mercadofinanceiro', '#bolsadevalores', '#microfrontends', '#webdevelopment', '#independenciasacre', '#valorsacre', '#sacreinvestimentos', '#btgpactual', '#investimentos', '#mercadofinanceiro', '#bolsadevalores', '#SevenInvestor', '#somosseven', '#BTGPactual', '#mercadofinanceiro', '#nuinvest', '#oramainvestimentos', '#btgpactual', '#ativainvestimentos', '#guideinvestimentos', '#sfiinvestimentos', '#fundoartemis', '#selic', '#mercadofinanceiro', '#lucro', '#fundodeinvestimento', '#mercadofinanceiro', '#investimentos', '#rendafixa', '#BSDesign', '#Aldeota', '#BSPAR', '#Negócios', '#Escritórios', '#BSDesign', '#Aldeota', '#BSPAR', '#Negócios', '#Escritórios', '#setupcititrader', '#fortuna', '#investimentos', '#octocapital', '#btgpactual', '#segurança', '#riqueza', '#cuidado', '#ações', '#sucesso', '#mulheresnabolsadevalores', '#deusnocomando', '#mercadofinanceiro', '#rendavariavel', '#bolsonaroarrastamultidoes', '#vaiserbolsonaronoprimeitoturnosim', '#f1', '#mentalidadedesucesso', '#mentemilionaria', '#mercadofinanceiro', '#pessoasricas', '#sabedoria', '#conhecimento', '#estrategia', '#vencer', '#vencedor', '#atitudepositiva', '#BSDesign', '#Aldeota', '#BSPAR', '#Negócios', '#Escritórios', '#empreendedorismo', '#saleteemsociedade_', '#idea', '#ideapublicidade', '#thedeveloperconference', '#tdc2022', '#conference', '#developer', '#coding', '#webdevelopment', '#frontenddeveloper', '#thedevconf', '#rpa', '#roboticprocessautomation', '#robots', '#bots', '#gtcapital', '#btgpactual', '#presidente', '#socio', '#encontro', '#negocios', '#empresas', '#economicnewsbrasil', '#mercadofinanceiro', '#assessordeinvestimentos', '#longoprazo', '#resiliencia', '#rendapassiva', '#liberdadefinanceira', '#qualidadedevida', '#fintechs', '#noticias', '#negocios', '#somosatom', '#mercadofinanceiro', '#vidadetrader', '#btgpactual', '#diseñochileno', '#tostadorchileno', '#diseñoindustrial', '#diseñoindustrialchileno', '#BTGPodcast', '#IntegralGroup', '#MercadoFinanceiro', '#Economia', '#FundosdeInvestiment', '#jobininvestimentos', '#btgpactual', '#marcioviana', '#TOTVSCURITIBA', '#TOTVS', '#tecnologia', '#mercadotecnológico', '#mercadodascoes', '#marcioviana', '#TOTVSCURITIBA', '#TOTVS', '#tecnologia', '#mercadotecnológico', '#mercadodascoes', '#aai', '#investimentos', '#valueinvestingbrasil', '#value', '#financialmarkets', '#condado', '#peninsulamineira', '#warrenbuffett', '#credit', '#wallstreet', '#capitalmarkets', '#leitura', '#mansuetoalmeida', '#felipemassa', '#corrida', '#formula1', '#interlagos', '#ferrari', '#pitstop', '#indianapolis', '#corridaderua', '#fórmula1', '#womeninvestsummit', '#ibradimec', '#bolsadevalores', '#mercadofinanceiro', '#mercadodecapitais', '#bovespa', '#ibov', '#b3', '#investir', '#investimentos', '#ações', '#Eleicoes2022', '#Eleicoes2022', '#Eleições2022', '#eleiçoes2022', '#mastermind', '#protagonistasdobrasil', '#empresas', '#empresários', '#experiências', '#liderança', '#educacao', '#economia', '#metodologia', '#membro', '#clubemastermindprotagonistasdobrasil', '#btgpactual', '#ocaradomercado', '#deumbtg', '#gratidão', '#quemtemtimetemtudo', '#beachtennis', '#escolaguga', '#escolagugamontelibano', '#montelibano', '#guga', '#beachtennisrj', '#beachtennisrio', '#beachtennisbrasil', '#leblon', '#shoppingleblon', '#bodylaser', '#orthopride', '#escolapopeye', '#csaleblon', '#csaleblon_rj', '#xpinvestimentos', '#btgpactual', '#proshop', '#PrevidênciaPrivada', '#investidor', '#PGBL', '#VGBL', '#investimento', '#Economia', '#FundosdeInvestimento', '#investidores', '#investimentos', '#mercadofinanceiro', '#economia', '#mercadodeacoes', '#web3cast', '#web3', '#almadao', '#tokenização', '#investimento', '#investidor', '#bolsadevalores', '#traderbrasil', '#farialima', '#btgbestperformer', '#btg', '#btgpactual', '#quemtemtimetemtudo', '#assessordeinvestimentos', '#InstitutoBaccarelli', '#OrquestraSinfônicaHeliópolis', '#OSH', '#Guarulhos', '#SescGuarulhos', '#TrilhasDeCinema', '#JohnWilliams', '#StarWars', '#IndianaJones', '#ET', '#FrancisHime', '#ChicoBuarque', '#Diversifiicando', '#fii', '#fundosimobiliários', '#fiis', '#btg', '#btlg', '#btlg11', '#fiislogisticos', '#logistica', '#b3', '#bolsadevalores', '#investidor', '#investimentos', '#independenciafinanceira', '#independênciafinanceira', '#liberdadefinanceira', '#rendapassiva', '#rendimentos', '#dividendos', '#fundosimobiliarios', '#fundosimobiliários', '#FII', '#FIIs', '#viverderenda', '#financas', '#finanças', '#financaspessoais', '#finançaspessoais', '#rendavariavel', '#rendavariável', '#investidor', '#mercadofinanceiro', '#ETF', '#investimento', '#investimentos', '#investidores', '#bolsadevalores', '#bonds', '#educacaofinanceira', '#educaçãofinanceira', '#fiagro', '#fiagros', '#BDIF11', '#29', '#madrugacast', '#madrugabancario', '#bancario', '#bancarios', '#podcast', '#mercadofinanceiro', '#bancaria', '#bancarias', '#bancos', '#btgpactual', '#v8capital', '#investir', '#investimentos', '#mercadofinanceiro', '#ibovespa', '#cdi', '#rendafixa', '#multimercado', '#ações', '#InstitutoBaccarelli', '#TulipaRuiz', '#OSH', '#Concerto', '#OrquestrasinfônicaHeliópolis', '#orquestra', '#músicapopular', '#músicaerudita', '#sesc', '#vilamariana', '#saopaulo', '#investimentos', '#btgpactual', '#previdenciaprivada', '#segurodevida', '#InstitutoBaccarelli', '#CoralHeliópolis', '#Masp', '#Concerto', '#Canto', '#Música', '#Dança', '#Educação', '#CoralInfantoJuvenil', '#CoralJuvenil', '#InfantoJuvenil', '#Juvenil', '#tennis', '#tennislove', '#rj', '#sportlife', '#healthy', '#instagood', '#btgbestperformer', '#ptnuncamais', '#marchagenuina', '#rural', '#mangalargamarchador', '#Diversifiicando', '#fii', '#fiis', '#fundosimobiliários', '#plantãofiis', '#noticiasdfii', '#noticiasfiis', '#b3', '#investimentos', '#bolsadevalores', '#ifix', '#TRXF11', '#ALZR11', '#HGRU11', '#GGRC11', '#IRDM11', '#HTMX11', '#URPR11', '#viver', '#voar', '#viagem', '#sorrir', '#motivação', '#motivacao', '#filosofia', '#business', '#felicidade', '#coaching', '#vendas', '#leitura', '#paulovieira', '#bestmoments', '#filosofo', '#work', '#natureza', '#clovisdebarrosfilho', '#leandrokarnal', '#musica', '#sucesso', '#brasil', '#noticias', '#selfie', '#bemestar', '#literatura', '#livros', '#textos', '#frases', '#quemtemtimetemtudo', '#bestperformerbtg', '#BRASATalks', '#BRASATalks', '#mercadofinanceiro', '#valorsacre', '#sacreinvestimentos', '#btgpactual', '#assessoria', '#aai', '#assessoriadeinvestimentos', '#investimentos', '#mercadofinanceiro', '#cliente', '#valorsacre', '#sacreinvestimentos', '#btgpactual', '#assessoria', '#aai', '#assessoriadeinvestimentos', '#investimentos', '#mercadofinanceiro', '#cliente', '#valorsacre', '#sacreinvestimentos', '#btgpactual', '#assessoria', '#aai', '#assessoriadeinvestimentos', '#investimentos', '#mercadofinanceiro', '#cliente', '#valorsacre', '#sacreinvestimentos', '#btgpactual', '#assessoria', '#aai', '#assessoriadeinvestimentos', '#investimentos', '#mercadofinanceiro', '#cliente', '#valorsacre', '#sacreinvestimentos', '#btgpactual', '#assessoria', '#aai', '#assessoriadeinvestimentos', '#investimentos', '#mercadofinanceiro', '#cliente', '#valorsacre', '#sacreinvestimentos', '#btgpactual', '#assessoria', '#aai', '#assessoriadeinvestimentos', '#investimentos', '#mercadofinanceiro', '#cliente', '#valorsacre', '#sacreinvestimentos', '#btgpactual', '#assessoria', '#aai', '#assessoriadeinvestimentos', '#investimentos', '#mercadofinanceiro', '#cliente', '#valorsacre', '#sacreinvestimentos', '#btgpactual', '#assessoria', '#aai', '#assessoriadeinvestimentos', '#investimentos', '#mercadofinanceiro', '#cliente', '#assessoriadeinvestimentos', '#investimento', '#investimentos', '#educaçãofinanceira', '#rendafixa', '#fundosdeinvestimentos', '#fundosimobiliarios', '#fundodeinvestimento', '#educacaofinanceira', '#economia', '#economizar', '#rendavariavel', '#rendavariável', '#investir', '#adapteinvest', '#necton', '#nectoninvestimentos', '#assessordeinvestimentos', '#assessoriadeinvestimentos', '#vidadetrader', '#trader', '#daytrader', '#daytrading', '#somostraders', '#traderbrasil', '#adapteinvest', '#explorar', '#corruptos', '#Brasil', '#plataforma', '#criptomonedas', '#XTAGE', '#BTC', '#ETH', '#mundocriptomonedas', '#btc', '#newyork', '#acciones', '#economiamundial', '#criptomonedas', '#antgroup', '#listanegra', '#criptoactivos', '#002', '#liveauthentic', '#instagood', '#boanoite', '#bomdia', '#boatardee', '#nftcollectibles', '#unicornsociety', '#ethereum', '#dowhatyoulove', '#workhardplayhard', '#mulheresnomercado', '#mercadofinanceiro', '#assessoradeinvestimentos', '#aai', '#valorsacre', '#sacreinvestimentos', '#btgpactual', '#assessoria', '#aai', '#assessoriadeinvestimentos', '#investimentos', '#mercadofinanceiro', '#cliente', '#MarchaOriginalPorExcelência', '#MarchaMangalarga', '#MarchaGenuína', '#CavaloDeSelaBrasileiro', '#MangalargaDoBrasil', '#Cavalo', '#CavaloDeSela', '#Cavalgada', '#ABCCRM', '#CavaloDaFamília', '#44aExpoNacionalMangalarga', '#BTGPactual', '#bolsonaro2022', '#meusamores', '#nininenéenonô', '#trioparadadura', '#mãedetrês', '#btgpactual', '#VocêTrader', '#TraderEvolution', '#daytrader', '#traderbrasil', '#PrevidênciaPrivada', '#previdência', '#PGBL', '#VGBL', '#daytraderbr', '#daytraderbrasil', '#homebroker', '#easyinvest', '#nelogica', '#genialinvestimentos', '#clearcorretora', '#xpinvestimentos', '#modalmais', '#toroinvestimentos', '#btgpactual', '#somosatom', '#mercadofinanceiro', '#vidadetrader', '#btgpactual', '#menthor', '#menthorinvestimentos', '#menthorcomvc', '#btgpactual', '#mercadofinanceiro', '#investimentos', '#investir', '#btg', '#judo', '#esporte', '#educação', '#projetosocial', '#institutotiagocamilo', '#arigato', '#obrigado', '#gratidão', '#patrocinador', '#judobrasil', '#InstitutoBaccarelli', '#OrquestraSinfônicaHeliópolis', '#OSH', '#TrilhasDeCinema', '#StarWars', '#Ind', '#Perfin', '#Infraestrutura', '#FundosdeInvestimentos', '#MercadoFinanceiro', '#Economia', '#RenovaInvest', '#btg', '#assessoriadeinvestimentos', '#premio', '#BestPerformance', '#gwminvestments', '#btgpactualdogital', '#btgpactual', '#daytraderbr', '#daytraderbrasil', '#homebroker', '#easyinvest', '#nelogica', '#genialinvestimentos', '#clearcorretora', '#xpinvestimentos', '#modalmais', '#toroinvestimentos', '#btgpactual', '#ricocomvc', '#jobsforher', '#vagasdeemprego', '#mercadofinanceiro', '#vagasparamulheres', '#equidadedegenero', '#clientes', '#vuelos', '#viajescorporativos', '#bussinesstrip', '#gracias', '#keepers', '#viajesporelmundo', '#google', '#satellogic', '#softline', '#burgerking', '#starbucks', '#mapfre', '#viajeseguro', '#peoplecare', '#latam', '#aerolineas', '#quemtemtimetemtudo', '#cordier', '#cordierinvestimentos', '#assessoriadeinvestimentos', '#assessordeinvestimentos', '#btgpactual', '#salaaovivobtgtrader', '#btgtrader', '#UNICEF', '#tbt', '#OCTOCapital', '#BTGPactual', '#mercadofinanceiro', '#educaçãofinanceira', '#assessoriadeinvest', '#independenciafinanceira', '#investimentos', '#saúdefinanceira', '#sucessofinanceiro', '#diversificarações', '#risco', '#liquidez', '#rentabilidade', '#VempraOCTO', '#Lamentavel', '#ReclameAqui', '#InstitutoBaccarelli', '#OrquestraSinfônicaHeliópolis', '#OSH', '#GuilhermeMannis', '#Arte', '#M', '#MarchaOriginalPorExcelência', '#MarchaMangalarga', '#MarchaGenuína', '#CavaloDeSelaBrasileiro', '#MangalargaDoBrasil', '#Cavalo', '#CavaloDeSela', '#Cavalgada', '#ABCCRM', '#CavaloDaFamília', '#44aExpoNacionalMangalarga', '#Ride2play', '#rendafixa', '#investimento', '#bolsadevalores', '#rendavariavel', '#investimentos', '#tesourodireto', '#investidores', '#mercadofinanceiro', '#xpinvestimentos', '#btgpactual', '#guideinvestimentos', '#safrainvest', '#assessordeinvestimentos', '#assessorextraordinario', '#vidadeassessor', '#profissaodofuturo', '#investimentos', '#b3', '#rendavariavel', '#rendafixa', '#podcast', '#podcastbrasil', '#eumecast', '#btg', '#btgpactual', '#paap', '#eumebanco', '#investimentos', '#especialistadeinvestimentos', '#economia', '#womeninvestsummit', '#mulheresinvestidoras', '#MarchaOriginalPorExcelência', '#MarchaMangalarga', '#MarchaGenuína', '#CavaloDeSelaBrasileiro', '#MangalargaDoBrasil', '#Cavalo', '#CavaloDeSela', '#Cavalgada', '#ABCCRM', '#CavaloDaFamília', '#44aExpoNacionalMangalarga', '#Ride2play', '#btgpactualdigital', '#prosperidadeinvestimentos', '#mastercardblack', '#rendafixa', '#investimento', '#bolsadevalores', '#rendavariavel', '#investimentos', '#tesourodireto', '#investidores', '#cdb', '#ações', '#mercadofinanceiro', '#marketing', '#vendas', '#btg', '#mercadofinanceiro', '#CordierInvestimentos', '#BTGPactual', '#CampanhaMAG', '#PrevidenciaPrivada', '#MAGSeguros', '#Evento', '#Conquista', '#tennis', '#tennisplayer', '#atp', '#wta', '#ilovetennis', '#btgfaztech', '#xpinvestimentos', '#btgpactual', '#guideinvestimentos', '#safrainvest', '#assessordeinvestimentos', '#assessorextraordinario', '#vidadeassessor', '#profissaodofuturo', '#investimentos', '#b3', '#rendavariavel', '#rendafixa', '#perspective', '#investimentos', '#mercadofinanceiro', '#investir', '#investimento', '#fortuna', '#forc', '#dinheiro', '#crescimento', '#bolsadevalores', '#ac', '#btg', '#perspective', '#investimentos', '#mercadofinanceiro', '#investir', '#investimento', '#fortuna', '#forc', '#dinheiro', '#crescimento', '#bolsadevalores', '#ac', '#btg', '#atitude', '#coragem', '#daytrader', '#mercadofinanceiro', '#forex', '#cursoonline', '#minidolar', '#miniindice', '#eurodolar', '#daytrade', '#daytrader', '#bolsadevalores', '#mercadofinanceiro', '#trader', '#trading', '#vidadetrader', '#miniindice', '#btg', '#somobtg', '#investimentos', '#trade', '#daytrading', '#dinheiro', '#money', '#perspectiveinvestimentos', '#investimento', '#bovespa', '#priceaction', '#traders', '#analisetecnica', '#ibovespa', '#somostraders', '#daytrade', '#daytrader', '#bolsadevalores', '#mercadofinanceiro', '#trader', '#trading', '#vidadetrader', '#miniindice', '#btg', '#somobtg', '#investimentos', '#trade', '#daytrading', '#dinheiro', '#money', '#perspectiveinvestimentos', '#investimento', '#bovespa', '#priceaction', '#traders', '#analisetecnica', '#ibovespa', '#somostraders', '#daytrade', '#daytrader', '#bolsadevalores', '#mercadofinanceiro', '#trader', '#trading', '#vidadetrader', '#miniindice', '#btg', '#somobtg', '#investimentos', '#trade', '#daytrading', '#dinheiro', '#money', '#perspectiveinvestimentos', '#investimento', '#bovespa', '#priceaction', '#traders', '#analisetecnica', '#ibovespa', '#somostraders', '#MarchaOriginalPorExcelência', '#MarchaMangalarga', '#MarchaGenuína', '#CavaloDeSelaBrasileiro', '#MangalargaDoBrasil', '#Cavalo', '#CavaloDeSela', '#Cavalgada', '#ABCCRM', '#CavaloDaFamília', '#44aExpoNacionalMangalarga', '#Ride2play', '#MarchaOriginalPorExcelência', '#MarchaMangalarga', '#MarchaGenuína', '#CavaloDeSelaBrasileiro', '#MangalargaDoBrasil', '#Cavalo', '#CavaloDeSela', '#Cavalgada', '#ABCCRM', '#CavaloDaFamília', '#44aExpoNacionalMangalarga', '#Ride2play', '#blockchains', '#nft', '#metaverso', '#11', '#PapoDeResponsa', '#negócios', '#AméricaLatina', '#Brasil', '#mercado', '#BloombergLíneaSummit2022', '#evento', '#startups', '#esg', '#venturecapital', '#MarchaOriginalPorExcelência', '#MarchaMangalarga', '#MarchaGenuína', '#CavaloDeSelaBrasileiro', '#MangalargaDoBrasil', '#Cavalo', '#CavaloDeSela', '#Cavalgada', '#ABCCRM', '#CavaloDaFamília', '#44aExpoNacionalMangalarga', '#Ride2play', '#morningcall', '#tbt', '#mercadofinanceiro', '#morningcall', '#MarchaOriginalPorExcelência', '#MarchaMangalarga', '#MarchaGenuína', '#CavaloDeSelaBrasileiro', '#MangalargaDoBrasil', '#Cavalo', '#CavaloDeSela', '#Cavalgada', '#ABCCRM', '#CavaloDaFamília', '#44aExpoNacionalMangalarga', '#Ride2play', '#v8capital', '#investir', '#investimentos', '#mercadofinanceiro', '#ibovespa', '#cdi', '#rendafixa', '#multimercado', '#ações', '#beautyfulrealestate', '#industrialrealestate', '#industrialdevelopment', '#ciudadjuarez', '#investimentos', '#mercadofinanceiro', '#aprendendoainvestir', '#rendafixa', '#rendavariavel', '#diadocliente', '#bicalho', '#bicalhoadvogados', '#bicalhoadv', '#enforce', '#enforcecommunity', '#btgpactual', '#direitocontencioso', '#contenciosoimobiliario', '#oab', '#lawyer', '#advogados', '#advogadosassociados', '#advogadossp', '#tbt', '#lotuscapital', '#assessoriaespecializada', '#btg', '#bestperformer', '#bancobradesco', '#bancodobrasil', '#bancosantander', '#bancoitau', '#bancointer', '#nubank', '#instituiçõesfinanceiras', '#finanças', '#crédito', '#cambio', '#mercadofinanceiro', '#investimentos', '#invest', '#bolsa', '#financeiro', '#wo', '#women', '#mulheresnaliderança', '#diversidade', '#diversidade', '#mercado', '#evento', '#congresso', '#presente', '#brasil', '#gratidao', '#work', '#farialimers', '#MarchaOriginalPorExcelência', '#MarchaMangalarga', '#MarchaGenuína', '#CavaloDeSelaBrasileiro', '#MangalargaDoBrasil', '#Cavalo', '#CavaloDeSela', '#Cavalgada', '#ABCCRM', '#CavaloDaFamília', '#44aExpoNacionalMangalarga', '#Ride2play', '#investimentos', '#dinheiro', '#bolsadevalores', '#investimento', '#mercadofinanceiro', '#financas', '#empreendedorismo', '#investir', '#liberdadefinanceira', '#sucesso', '#rendaextra', '#economia', '#educacaofinanceira', '#investidor', '#smarttrends', '#investimentos', '#fundosdeações', '#fundosdeinvestimentos', '#RadarDaSemana', '#lascasdepolvilho', '#chefdiserio', '#tenisweek', '#ipegolg', '#linkedin', '#aware', '#beaware', '#awaremfo', '#btgpactual', '#btg', '#banco', '#empreendedorismo', '#o', '#marketingdigital', '#empreender', '#sucesso', '#marketing', '#empreendedor', '#a', '#brasil', '#negocios', '#foco', '#dinheiro', '#motiva', '#rendaextra', '#empreendedorismofeminino', '#instagram', '#vendas', '#love', '#business', '#motivacao', '#vendasonline', '#bhfyp', '#hotmart', '#empreendedorismodigital', '#digitalmarketing', '#amor', '#like', '#investimento', '#fashion', '#empresas', '#deusnocomando', '#motivação', '#god', '#goodvibes', '#mukinha', '#pcd', '#reflexão', '#dia', '#paz', '#vida', '#brasil', '#paratleta', '#corrida', '#foco', '#voa', '#atletismo', '#bicicleta', '#meeting', '#petra', '#boanoitee', '#sprinter', '#rn', '#framerunning', '#running', '#racing', '#race', '#corrida', '#triciclo', '#bomdia', '#boanoite', '#OCTOCapital', '#BTGPactual', '#finanças', '#finançapessoal', '#assessoriadeinvestimentos', '#independenciafinanceira', '#educacaofinanceira', '#investimentos', '#CartãoDeCrédito', '#saúdefinanceira', '#sucessofinanceiro', '#btgpactual', '#ocaradomercado', '#assessordeinvestimentos', '#assessoriadeinvestimentos', '#carreira', '#corretoras', '#escritóriosdeinvestimentos', '#porelas', '#mercadofinanceiro', '#plataformas', '#eventoparamulheres', '#investimentos', '#corretoras', '#plataforma', '#gestora', '#fundos', '#fundosdeinvestimentos', '#criptomoedas', '#cripto', '#bancocentral', '#henriquemeirelles', '#hipismo', '#equitação', '#cavalobrasileirodehipismo', '#btg', '#maisonducavalier', '#riodejaneiro', '#sabemiseguradora', '#Aproximar', '#voluntariado', '#idosos', '#sabedoria', '#economia', '#o', '#a', '#brasil', '#econom', '#investimento', '#sustentabilidade', '#n', '#dinheiro', '#politica', '#energiasolar', '#empreendedorismo', '#finan', '#investimentos', '#as', '#covid', '#ofertas', '#bolsadevalores', '#qualidade', '#negocios', '#energia', '#es', '#tecnologia', '#finanzas', '#business', '#mercadofinanceiro', '#mercado', '#educa', '#energialimpa', '#supermercado', '#premioibest', '#ibest', '#melhordobrasil', '#omaiorpremiodobrasil', '#top3ibest', '#bbhomebroker', '#bancodobrasil', '#inter', '#bancointer', '#nuinvest', '#nubank', '#btgpactual', '#xpinvestimentos', '#Bolsonaro22', '#renovainvest', '#btgpactual', '#smarttrends', '#investimentos', '#fundosimobiliarios', '#fiis', '#ibradimec', '#bolsadevalores', '#mercadodecapitais', '#ibov', '#b3', '#bovespa', '#menthor', '#menthorinvestimentos', '#menthorcomvc', '#btgpactual', '#mercadofinanceiro', '#afs', '#btg', '#btgpactual', '#riograndedosul', '#cruzalta', '#afs', '#btg', '#btgpactual', '#eventoscorporativos', '#5anosgt', '#gtcapital', '#btgpactual', '#BTGSoma', '#diversidade', '#BTGSoma', '#diversidade', '#forex', '#daytrader', '#miniindice', '#minidolar', '#eurusd', '#usdjpy', '#cursosonline', '#torodourado', '#forex', '#daytrader', '#miniindice', '#minidolar', '#eurusd', '#usdjpy', '#cursosonline', '#torodourado', '#forex', '#daytrader', '#miniindice', '#minidolar', '#eurusd', '#usdjpy', '#cursosonline', '#torodourado', '#BTGSoma', '#diversidade', '#OCTOCapital', '#sucessofinanceiro', '#BTGPactual', '#planejamento', '#investimentos', '#estratégiasfinanceiras', '#tempo', '#independênciafinanceira', '#estabilidadefinanceira', '#inteligênciafinanceira', '#saudefinanceira', '#tennis', '#tenniscourt', '#riodejaneiro', '#projetosocial', '#teamfuturobom', '#somosdacarne', '#grandselectionbyzilli', '#dêumbtg', '#btgpactual', '#renovainvest', '#btgasset', '#felipemassa', '#btgpactual', '#beefbar', '#saopaulo', '#valorsacre', '#sacreinvestimentos', '#copom', '#selic', '#taxaselic', '#bancocentral', '#investimentos', '#valorsacre', '#sacreinvestimentos', '#copom', '#selic', '#taxaselic', '#bancocentral', '#investimentos', '#valorsacre', '#sacreinvestimentos', '#copom', '#selic', '#taxaselic', '#bancocentral', '#investimentos', '#valorsacre', '#sacreinvestimentos', '#copom', '#selic', '#taxaselic', '#bancocentral', '#investimentos', '#valorsacre', '#sacreinvestimentos', '#copom', '#selic', '#taxaselic', '#bancocentral', '#investimentos', '#valorsacre', '#sacreinvestimentos', '#copom', '#selic', '#taxaselic', '#bancocentral', '#investimentos', '#valorsacre', '#sacreinvestimentos', '#copom', '#selic', '#taxaselic', '#bancocentral', '#investimentos', '#valorsacre', '#sacreinvestimentos', '#copom', '#selic', '#taxaselic', '#bancocentral', '#investimentos', '#valorsacre', '#sacreinvestimentos', '#copom', '#selic', '#taxaselic', '#bancocentral', '#investimentos', '#valorsacre', '#sacreinvestimentos', '#copom', '#selic', '#taxaselic', '#bancocentral', '#investimentos', '#valorsacre', '#sacreinvestimentos', '#copom', '#selic', '#taxaselic', '#bancocentral', '#investimentos', '#btgpactualdigital', '#mercadofinanceiro', '#wiseaai', '#wisepoa', '#forex', '#forextrader', '#miniindice', '#minidolar', '#b3', '#daytrader', '#cursosonline', '#forex', '#forextrader', '#miniindice', '#minidolar', '#b3', '#daytrader', '#cursosonline', '#forex', '#forextrader', '#miniindice', '#minidolar', '#b3', '#daytrader', '#cursosonline', '#REPOST', '#sigaadilsonramos', '#taxaselic', '#copom', '#selic', '#btg', '#OIBR3', '#LUA', '#terceirosetor', '#institutosalvequebrada', '#institutosalvequebrada', '#isq', '#potênciaperiférica', '#periferiapotente', '#periferiapreta', '#jdmiriam', '#focojardimiriam', '#educaçãofinanceira', '#financialeducation', '#BTGPactual', '#rendafixa', '#copom', '#selic', '#selicmeta', '#selicover', '#planejamentofinanceiro', '#consultoriagratis', '#wiseaai', '#btg', '#btgpactual', '#btgpactualdigital', '#gtcapital', '#conquistas', '#top20', '#bgtpactualdigital', '#bgtpactual', '#TBT', '#tennis', '#imgacademy', '#imgtennis', '#eua', '#teamfuturobom', '#investimentos', '#assessoriadeinvestimentos', '#statusquo', '#sacreinvestimentos', '#btgpactual', '#educacaofinanceira', '#btgpactual', '#investimentos', '#bancodigital', '#publi', '#transformarvidas', '#desenvolvimento', '#carreiras', '#contabilidade', '#administração', '#carreirabancaria', '#btgpactual', '#conexão', '#conectar', '#universidade', '#operations', '#unisuam', '#Pólen', '#negócios', '#networking', '#mulheres', '#investimentos', '#eventosdebeachtennis', '#lovebt', '#camisday', '#jousbyjujuacessoriosquesãoamuletos', '#lifelonglearning', '#btg', '#mercadofinanceiro', '#compraosantacruz', '#forumceobrasil', '#forum', '#ceo', '#palestra', '#setembro', '#ciberseguridad', '#protecaodedados', '#segurancadainformacao', '#deusnocomando', '#godvibes', '#mukinha', '#musculacao', '#musculação', '#personaltrainer', '#academia', '#paratleta', '#atletismo', '#corrida', '#foconoobjetivo', '#running', '#racing', '#brasil', '#riograndedonorte', '#nordestebrasileiro', '#2WBTG', '#btgpactual', '#equidadedegenero', '#mulheresempreendedoras', '#sp', '#avenida', '#brigadeirofarialima', '#avbrigadeirofarialima', '#btg', '#btgpactual', '#googlebrasil', '#cidadesp', '#btgfaztech', '#hackathon', '#btgpactual', '#sos', '#iran', '#mahsaamini', '#oplran', '#assessordeinvestimentos', '#assessoriadeinvestimentos', '#carreira', '#corretoras', '#escritóriosdeinvestimentos', '#porelas', '#mercadofinanceiro', '#plataformas', '#eventoparamulheres', '#investimentos', '#corretoras', '#plataforma', '#gestora', '#fundos', '#fundosdeinvestimentos', '#b3', '#bolsadevalores', '#entrevistaexclusiva', '#educacaofinanceira', '#certificacao', '#ancord', '#espacoancord', '#cea', '#aai', '#anbima', '#Oprimorico', '#thiagonigro', '#primocast', '#reels', '#podcast', '#Oprimorico', '#thiagonigro', '#primocast', '#reels', '#podcast', '#btgfaztech', '#btgpactual', '#btg', '#openfinance', '#tech', '#mahsa', '#help', '#ForeverCapital', '#BTG', '#empreendedorismo', '#mercadofinanceiro', '#btgfaztech', '#btgfaztech', '#hackathon', '#openfinance', '#empreendedorismo', '#03', '#fundosimobiliarios', '#liberdadefinanceira', '#rendapassiva', '#fiis', '#viverderenda', '#rendaextra', '#rendavariavel', '#bolsadevalores', '#mercadofinanceiro', '#spinelliracing', '#rally', '#triton', '#BajaPortalegre', '#btgpactual', '#pesquisa', '#cenarioeleitoral', '#eleicoes', '#votoavoto', '#noticias', '#jornalismodeFato', '#brnewstvbrasil', '#investimentos', '#assessoriadeinvestimentos', '#planejamentofinanceiro', '#futuro', '#valorsacre', '#btgpactual', '#assessoriadeinvestimentos', '#privite', '#octocapital', '#btgpactual', '#futevolei', '#preconceito', '#FutevoleiSCS', '#FutevoleiABC', '#Futevolei', '#Futevoleifeminino', '#ArenaGoias', '#ftvoleiBrasil', '#SCS', '#SaoCaetanodoSul', '#EuJogofutevolei', '#MormaiiFutevolei', '#FutevoleiBrasil', '#FutevôleiPaulista', '#FutevoleinaVeia', '#SãoCaetanodoSul', '#Minhamelhormarca', '#Sintasemormaii', '#FutevôleidePressao', '#FutevôleiBrasil', '#FutevôleiSP', '#FutevoleiSP', '#ABC', '#BeachArenasSP', '#Futevôlei', '#Futevoleiraiz', '#FutevoleiShow', '#Futevoleipelomundo', '#FutevoleiparaTodos', '#futevôleiparaelas', '#quantumfinance', '#plataformasdigitais', '#investidorinteligente', '#renovainvest', '#btgpactual', '#reels', '#viral', '#explorar', '#explore', '#educação', '#educacaofinanceira', '#bancointer', '#btg', '#boasafra', '#agroforum', '#mercadodecapitais', '#agro', '#soja3', '#Oprimorico', '#thiagonigro', '#primocast', '#reels', '#podcast', '#212', '#btg', '#btgpactual', '#dividendos', '#invest', '#agroforumbtg', '#agronegocio', '#btgpactual', '#agronegócio', '#5G', '#AgroForum', '#btg', '#AgroForum', '#BTGAGROFORUM', '#btg', '#evento', '#eventoagro', '#btgpactual', '#agro', '#agronegocio', '#sucroenergético', '#juridico', '#SpineliRacing', '#rally', '#bajaportalegre500', '#4x4', '#brasil', '#petrobras', '#bancodobrasil', '#brazil', '#wharton', '#petroleum', '#bank', '#maisinvestimentos', '#MaisAAI', '#btgpactual', '#AgroForum', '#BTGBankers', '#inflaçãoalta', '#investimentoseguro', '#investimentosinteligentes', '#cdi', '#economia', '#escritóriodeinvestimentos', '#crcnews', '#btgpactualdigital', '#agronegocio', '#agrobusiness', '#mercadofinanceiro', '#negocios', '#agrolife', '#agroépop', '#agroétop', '#logistica', '#infraestrutura', '#5g', '#etanol', '#tenis', '#recovery', '#Oprimorico', '#thiagonigro', '#primocast', '#reels', '#podcast', '#oseconomistaspodcast', '#Oprimorico', '#thiagonigro', '#primocast', '#reels', '#podcast', '#lucaspit', '#charleswicz', '#investimentos', '#dinheiro', '#brasil', '#economistasincero', '#valorsacre', '#sacreinvestimentos', '#btgpactual', '#assessoria', '#aai', '#assessoriadeinvestimentos', '#investimentos', '#OCTOCapital', '#investir', '#especulaçãofinanceira', '#investimento', '#saúdefinanceira', '#estabilidadefinanceira', '#especulaçãodomercado', '#controlefinanceiro', '#investimentosinteligentes', '#inteligênciafinanceira', '#saudefinanceira', '#metaverso', '#metaverse', '#nft', '#nfts', '#web3', '#web3br', '#bolsonaro22', '#agroforum', '#reels', '#motivação', '#motivation', '#up', '#investimentos', '#condado', '#farialima', '#btg', '#necton', '#vidadetrader', '#trader', '#investidora', '#bolsadevalores', '#negocios', '#operações', '#saopaulo', '#daytrader', '#ficaadica', '#paineldeled', '#luz', '#som', '#timecode', '#mapping', '#planejamento', '#liderança', '#netoeventos', '#paineldeled', '#luz', '#som', '#timecode', '#mapping', '#planejamento', '#liderança', '#netoeventos', '#janelapublicitaria', '#agroforum', '#btgpactual', '#soja3', '#boasafra', '#agronegocio', '#agro', '#RadarDaSemana', '#jotape', '#jotapeart', '#jotape2022', '#art', '#myart', '#gallery', '#contemporaryart', '#instaart', '#valorsacre', '#sacreinvestimentos', '#btgpactual', '#assessoria', '#aai', '#assessoriadeinvestimentos', '#investimentos', '#maisinvestimentos', '#MaisAAI', '#btgpactual', '#btgpactualdigital', '#AgroForum', '#agro', '#agrotech', '#agronegocio', '#valorsacre', '#sacreinvestimentos', '#btgpactual', '#assessoria', '#aai', '#assessoriadeinvestimentos', '#investimentos', '#valorsacre', '#sacreinvestimentos', '#btgpactual', '#assessoria', '#aai', '#assessoriadeinvestimentos', '#investimentos', '#valorsacre', '#sacreinvestimentos', '#btgpactual', '#assessoria', '#aai', '#assessoriadeinvestimentos', '#investimentos', '#valorsacre', '#sacreinvestimentos', '#btgpactual', '#assessoria', '#aai', '#assessoriadeinvestimentos', '#investimentos', '#valorsacre', '#sacreinvestimentos', '#btgpactual', '#assessoria', '#aai', '#assessoriadeinvestimentos', '#investimentos', '#valorsacre', '#sacreinvestimentos', '#btgpactual', '#assessoria', '#aai', '#assessoriadeinvestimentos', '#investimentos', '#valorsacre', '#sacreinvestimentos', '#btgpactual', '#assessoria', '#aai', '#assessoriadeinvestimentos', '#investimentos', '#valorsacre', '#sacreinvestimentos', '#btgpactual', '#assessoria', '#aai', '#assessoriadeinvestimentos', '#investimentos', '#valorsacre', '#sacreinvestimentos', '#btgpactual', '#assessoria', '#aai', '#assessoriadeinvestimentos', '#investimentos', '#valorsacre', '#sacreinvestimentos', '#btgpactual', '#assessoria', '#aai', '#assessoriadeinvestimentos', '#investimentos', '#btgbestperformer', '#btgpactual', '#RenovaInvest', '#OrquestraSinfônicaHelióp', '#novorecife', '#Artplan', '#Criptomoedas', '#Mynt', '#BTGPactual', '#diadanatureza', '#projetoplantar', '#sustentabilidade', '#securityleaders', '#nacional', '#sl2022', '#eventos', '#eventoempresarial', '#eventogratuito', '#live', '#tvdecision', '#líderes', '#segurança', '#seguranca', '#security', '#segurançadainformação', '#segurançaprivada', '#segurançacibernética', '#cybersecurity', '#Investimentos', '#Pessoas', '#Finanças', '#Mercadofinanceiro', '#Dinheiro', '#Independenciafinanceira', '#play', '#tennis', '#atptour', '#riodejaneiro', '#teamfuturobom', '#projetosocial', '#PraTodosVerem', '#PraCegoVer', '#economia', '#gestaofinanceira', '#social', '#organizaçõessociaiscivis', '#btgpactual', '#agosocial', '#afscapital', '#assessoriaeminvestimentos', '#assessoriadeinvestimentos', '#1bilhao', '#1bisobcustodia', '#AgroForum', '#btg', '#networking', '#agro', '#economia', '#brasil', '#afscapital', '#btgpactual', '#investimentos', '#assessoriadeinvestimentos', '#empreendedorismo', '#poderdaunidade', '#chegamos', '#1bi1ano', '#soocomeco', '#sonhogrande', '#deus', '#fé', '#vamosvencer', '#mktdigital', '#direitostrabalhistas', '#direitodotrabalho', '#magistratura', '#justiçadotrabalho', '#amatra', '#abat', '#comat', '#trabalhodecente', '#fiis', '#fundosimobiliarios', '#rendapassiva', '#assessoriadeinvestimentos', '#assessordeinvestimentos', '#mercadofinanceiro', '#BTGLifeExperince', '#vamosdekombi', '#faveladekombi', '#favelaradical', '#redegerandofalcões', '#machupicchoenergy', '#juntossomosmaisfortes', '#vamokida', '#transformacao', '#instagood', '#btgpactual', '#btg', '#sp', '#miurainvestimentos', '#investimentos', '#mulheresnomercado', '#direitostrabalhistas', '#direitodotrabalho', '#magistratura', '#justiçadotrabalho', '#amatra', '#abat', '#comat', '#trabalhodecente', '#BTGPactual', '#DêumBTG', '#coffeebreak', '#ilhagastronomica', '#eventocorporativo', '#triacao', '#corrida', '#natação', '#possuitextoalternativo', '#btgsoma', '#asidbrasil', '#terceirosetor', '#impactosocial', '#transformaçãosocial', '#tbt', '#mercadofinanceiro', '#ibov', '#ibovespa', '#acoes', '#b3', '#trader', '#trading', '#análisetécnica', '#dolar', '#tbt', '#teamfuturobom', '#tennis', '#atpfinals', '#3dprinter', '#impressao3d', '#vasosbob', '#impressão3d', '#3dimpressao', '#3d', '#3dprinting', '#3dlabprint', '#3dlabprint', '#3dgeekshow', '#3dprintacademy', '#empreendeorismo', '#empreendedorismolocal', '#autonomo', '#printandplay', '#polvo', '#octopus', '#3doctopus', '#printandplay', '#topgun', '#topgunmaverick', '#desafiocumprido', '#profissões', '#tecnologia', '#ESG', '#marketing', '#comunicação', '#PartnerShipMarketing', '#STAFF', '#VEMPRADIPMAISVOCETAMBEM', '#MAODEOBRAQUALIFICADAPARAEVENTOS', '#mercadodetrabalho', '#crescimentoprofissional', '#pesquisademercado', '#oportunidadedetrabalho', '#MeioEmensagem', '#Promoview', '#tecnologia', '#mercadofinanceiro', '#Juridico', '#Engenharia', '#Empregos', '#assessoriadeinvestimentos', '#investimento', '#investimentos', '#educaçãofinanceira', '#rendafixa', '#fundosdeinvestimentos', '#fundosimobiliarios', '#fundodeinvestimento', '#educacaofinanceira', '#economia', '#economizar', '#rendavariavel', '#rendavariável', '#investir', '#adapteinvest', '#necton', '#nectoninvestimentos', '#assessordeinvestimentos', '#assessoriadeinvestimentos', '#vidadetrader', '#trader', '#daytrader', '#daytrading', '#somostraders', '#traderbrasil', '#adapteinvest', '#explorar', '#RadarDaSemana', '#quemtemtimetemtudo', '#meninasabores', '#docesdememoriaafetiva', '#licoresartesanais', '#mulheresdesucesso', '#mulheresempoderadas', '#mulheresempreendedoras', '#lugardemulheréondeelaquiser', '#juntassomosmaisfortes', '#mulherespretas', '#b1b2', '#resenhab1b2', '#futevolei', '#resenha', '#samba', '#pagode', '#campeonato', '#jonas', '#cristian', '#salgadinho', '#deltaflow', '#MacroDay', '#foraMario', '#mulheresempreendedoras', '#mulherespoderosas', '#bgtpactual', '#treinamentoedesenvolvimento', '#liderança', '#empreendedorismo', '#brechó', '#apoieumaempreendedora', '#MacroDay', '#BTGPactual', '#BancoEconômico', '#Besa', '#AndréEsteves', '#AnotaBahia', '#business', '#governançacorporativa', '#family', '#CordierInvestimentos', '#Visao2022', '#EventoCordier', '#BTGPactual', '#EventoInsititucional', '#QuemTemTimeTemTudo', '#BRPartners', '#CEOconference', '#mercadofinanceiro', '#planejamentofinanceiro', '#finanças', '#acquavero', '#btgpactual', '#bts', '#regeneration', '#regenerativeagriculture', '#panel', '#forum', '#impactinvesting', '#investments', '#MacroDay', '#3dpa', '#3dgeekshow', '#3dgeek', '#tecnocubo3d', '#3dlabs', '#printacademie', '#halloween3d', '#halloween3dprints', '#3dprint', '#3d', '#impressao3dbrasil', '#impressao3d', '#halloween', '#impressao3d', '#medodeinvestir', '#medodeinvestirerrado', '#investirmelhor', '#novoinvestidor', '#tbt', '#tbt', '#teamfuturobom', '#TBT', '#rally', '#bajaportoalegre', '#automobilismo', '#rali', '#4x4', '#fairfaxseguros', '#produtividade', '#sinistro', '#agricultura', '#pericias', '#oestepericias', '#seguros', '#brasilseg', '#somposeguros', '#swissre', '#agrobrasil', '#btgpactual', '#fairfax', '#sombrero', '#tecnologia', '#agronegócios', '#trigo', '#tecnologia', '#manejo', '#fitossanitario', '#tbt', '#mercadofinanceiro', '#ibov', '#ibovespa', '#acoes', '#b3', '#trader', '#trading', '#análisetécnica', '#dolar', '#goautonomous', '#ideiasdenegocios', '#gestaodenegocios', '#desenvolvimentodenegocios', '#startupnegocios', '#marketingdigital', '#negocioscomproposito', '#crédito', '#investimentos', '#btgpactual', '#btg', '#investimentos', '#mercadofinanceiro', '#VamosJuntos', '#CEOConference', '#mercadofinanceiro', '#amatra', '#amatra5', '#direito', '#direitodotrabalho', '#trabalhodecente', '#comat', '#xxxicomat', '#trt5', '#justiça', '#justiçatrabalhista', '#assessordeinvestimentos', '#assessoriadeinvestimentos', '#carreira', '#corretoras', '#escritóriosdeinvestimentos', '#mercadofinanceiro', '#plataformas', '#investimentos', '#corretoras', '#gestoras', '#aai', '#ais', '#SummitLeads', '#marketing', '#players', '#assessoria', '#comunicacao', '#jornalismo', '#leads', '#negocios', '#agro', '#agronegocio', '#tennis', '#esportes', '#saúde', '#77openspgc', '#VoluntáriosBTG', '#BTGPactual', '#voluntariadocorporativo', '#voluntariado', '#voluntário', '#InstitutoVelhoAmigo', '#comat', '#xxxicomat', '#trabalhodecente', '#trt5', '#amatra', '#amatra5', '#abat', '#fecomercio', '#btgpactual', '#39', '#terceirosetor', '#institutosalvequebrada', '#institutosalvequebrada', '#isq', '#potênciaperiférica', '#periferiapotente', '#periferiapreta', '#jdmiriam', '#focojardimiriam', '#educaçãofinanceira', '#financialeducation', '#BTGPactual', '#SevenInvestor', '#Investimentos', '#Investir', '#segurança', '#BTGPactual', '#Finanças', '#alugar', '#carro', '#financiamentoimobiliario', '#comat', '#xxxicomat', '#trabalhodecente', '#trt5', '#amatra', '#amatra5', '#abat', '#fecomercio', '#btgpactual', '#investimento', '#imoveis', '#dinheiro', '#viverderenda', '#bolsa', '#sucesso', '#renda', '#rendapassiva', '#fundosimobiliarios', '#empreender', '#aposentadoria', '#investir', '#bitcoin', '#oportunidade', '#qualidadedevida', '#imobiliaria', '#fiis', '#coach', '#investimentos', '#foco', '#negocios', '#bolsadevalores', '#imovel', '#casa', '#empreendedor', '#vendas', '#llzgarantidora', '#llzebtg', '#btgpactual', '#eleicaodesindico', '#assembleiadecondominio', '#seveninvestor', '#aloalobahia', '#deumbtg', '#btgpactual', '#SevenInvestor', '#BTGPactual', '#Salvador', '#FeiradeSantana', '#Seven', '#marketshare', '#Bahia', '#AloAloBahia', '#web3cast', '#web3', '#almadao', '#tokenização', '#web3cast', '#web3', '#almadao', '#tokenização', '#LulaCagao', '#TimeBTG', '#InstitutoVelhoAmigo', '#Voluntariado', '#timebtg', '#responsabilidadesocial', '#VoluntariadoCorporativo', '#xxxicomat', '#amatra5', '#trt5', '#abat', '#trabalhodecente', '#direitodotrabalho', '#justiçatrabalhista', '#emprego', '#discriminaçãolaboral', '#llzgarantidora', '#llzebtg', '#btgpactual', '#eleicaodesindico', '#assembleiadecondominio', '#xxxicomat', '#amatra5', '#trt5', '#trabalhodecente', '#abat', '#direitodotrabalho', '#trabalho', '#justiçatrabalhista', '#MorningCall', '#agroforum', '#btgpactual', '#soja3', '#boasafra', '#agronegocio', '#agro', '#investimentos', '#llzgarantidora', '#llzebtg', '#btgpactual', '#eleicaodesindico', '#assembleiadecondominio', '#condomínios', '#moradores', '#arquitetura', '#ensino', '#projetosincriveis', '#arquiteturadeinteriores', '#interiores', '#arquiteturadofuturo', '#arquiteturacorporativa', '#arquiteturacontemporanea', '#arquiteturaescolar', '#escola', '#faculdade', '#liderança', '#neuroarquitetura', '#arquiteturasensorial', '#saopaulo', '#alunos', '#inovação', '#educação', '#metodosensory', '#negociofechado', '#btg', '#paulobio', '#realestate', '#datacenter', '#btgpactual', '#btg', '#sp', '#miurainvestimentos', '#investimentos', '#mercadofinanceiro', '#aluno3dpa', '#startups', '#inovação', '#telecom', '#iot', '#5g', '#benyfard', '#pessoascomperformance', '#somosacquavero', '#acquavero', '#soubtg', '#planejamentofinanceiro', '#vemserbtg', '#NorteAsset', '#mercadofinanceiro', '#fundosdeinvestimentos', '#gestaoderecursos', '#gtcapital', '#btg', '#team', '#investimentos', '#deltaflowsports', '#investimento', '#btgpactual', '#assessoriadeinvestimento', '#bdr', '#mercadofinanceiro', '#GrandeMeier', '#Pilares', '#ZonaNorte', '#PratiqueTenisEmPilares', '#Riodejaneiro', '#Diversifiicando', '#JonathanFIIs', '#fundosimobiliários', '#Fiis', '#fii', '#ifix', '#fiagro', '#agronegocio', '#fiideagro', '#btal11', '#btra11', '#rztr11', '#agro', '#ações', '#rentabilidade', '#rendimentos', '#dividendos', '#bolsadevalores', '#b3', '#llzgarantidora', '#condomínios', '#moradores', '#llzebtgpactual', '#btg', '#btgpactual', '#jobininvestimentos', '#ethimosinvestimentos', '#btgpactual', '#construaseulegado', '#eucreionodeusdoimpossível', '#deusaindarealizasonhos', '#borapracima', '#estacoesnasfestas', '#Health_management_IT_Software_system', '#consultingagency', '#consultingservices', '#consulting', '#businessconsulting', '#consultant', '#consultingfirm', '#consultingbusiness', '#management', '#humanresources', '#business', '#consultinglife', '#careergrowth', '#company', '#humanresourcesmanagement', '#humanresourcesconsulting', '#strategicmanagement', '#consultingproject', '#strategicmanagementconsultant', '#strategyguide', '#businessreputation', '#competitiveadvantages', '#corporatestrategy', '#personali', '#manajemenstrategi', '#konsultanmanajemenstrategi', '#konsultanmanajemen', '#samahitawirotama', '#konsultan', '#manajemenstrategi', '#daytrader', '#daytrading', '#ibovespa', '#miniindice', '#minidolar', '#fiborules', '#MercadoFinanceiro', '#b3', '#BolsaDeValores', '#DayTrade', '#SwingTrade', '#Trader', '#TradingLines', '#Forex', '#Investimentos', '#cursogratuito', '#cursodaytrade', '#dominvestimentos', '#btgpactual', '#tradinglines', '#fiboart', '#criptomoedas', '#chainlink', '#polygon', '#Diversifiicando', '#JonathanFIIs', '#FIIs', '#fundosimobiliários', '#noticias', '#noticiasdfii', '#ifix', '#fii', '#mall11', '#bbpo11', '#vrta11', '#btlg11', '#suno', '#sunoresearch', '#otimistaoficial', '#assessordeinvestimentos', '#assessoriadeinvestimentos', '#carreira', '#corretoras', '#escritóriosdeinvestimentos', '#mercadofinanceiro', '#plataformas', '#investimentos', '#corretoras', '#gestoras', '#aai', '#ais', '#SummitLeads', '#marketing', '#players', '#assessoria', '#comunicacao', '#jornalismo', '#leads', '#debentures', '#xp', '#btg', '#disputa', '#eventos', '#ancord', '#espaçoancord', '#cliente', '#plataforma', '#daytrade', '#timebtg', '#InstitutoVelhoAmigo', '#Voluntariado', '#timebtg', '#responsabilidadesocial', '#1000', '#investimentos', '#fundosdeinvestimentos', '#rendafixa', '#donadabolsa', '#deusnocomando', '#determinação', '#motivação', '#superação', '#disciplina', '#foguetenaotemre', '#brasil', '#pracima', '#força', '#corrida', '#musculação', '#consultoria', '#vemcomigo', '#semmimimi', '#bom', '#bomdiamundo', '#boatardinha', '#riograndedonorte', '#petra', '#framerunning', '#atletismo', '#modalidades', '#ifcenografia', '#workshopintegrativo', '#DicasdeValorcomBTG', '#sustentabilidade', '#meioambiente', '#planteumaarvore', '#empresaamigadanatureza', '#plantar', '#arborização', '#miniindice', '#b3', '#mercadofinanceiro', '#btg', '#minidolar', '#eventosbrasil', '#stands', '#btgpactual', '#facaseuorcamento', '#produção', '#work', '#mood', '#instagood', '#instawork', '#angeventos', '#treino', '#investimentos', '#lifestyle', '#disciplina', '#hábitos', '#rotina', '#perfomance', '#rally', '#4x4', '#bajaportalegre500', '#vidadeantiquario', '#vidadeantiquarioad', '#caminhoporumarua', '#legrandtourdearnaldodanemberg', '#banquetedamemoriaad', '#arnaldodanembergcollection', '#vidadeantiquario', '#vidadeantiquarioad', '#caminhoporumarua', '#legrandtourdearnaldodanemberg', '#banquetedamemoriaad', '#arnaldodanembergcollection', '#securityleaders', '#nacional', '#sl2022', '#eventos', '#eventoempresarial', '#eventogratuito', '#live', '#tvdecision', '#líderes', '#segurança', '#seguranca', '#security', '#segurançadainformação', '#segurançaprivada', '#segurançacibernética', '#cybersecurity', '#dolar', '#News', '#Noticias', '#economy', '#colombia', '#economia', '#investimentos', '#btg', '#btgpactual', '#forevercapital', '#BancoBTG', '#BTGPactual', '#BancoDeInvestimentos', '#Cordier', '#CordierInvestimentos', '#Conquistas', '#valorsacre', '#sacreinvestimentos', '#copom', '#selic', '#taxaselic', '#bancocentral', '#investimentos', '#valorsacre', '#sacreinvestimentos', '#copom', '#selic', '#taxaselic', '#bancocentral', '#investimentos', '#valorsacre', '#sacreinvestimentos', '#copom', '#selic', '#taxaselic', '#bancocentral', '#investimentos', '#valorsacre', '#sacreinvestimentos', '#copom', '#selic', '#taxaselic', '#bancocentral', '#investimentos', '#valorsacre', '#sacreinvestimentos', '#copom', '#selic', '#taxaselic', '#bancocentral', '#investimentos', '#valorsacre', '#sacreinvestimentos', '#copom', '#selic', '#taxaselic', '#bancocentral', '#investimentos', '#valorsacre', '#sacreinvestimentos', '#copom', '#selic', '#taxaselic', '#bancocentral', '#investimentos', '#busqueconhecimento', '#investirliberta', '#finanças', '#investimento', '#btgpactual', '#busqueconhecimento', '#investirliberta', '#finanças', '#investimento', '#btgpactual', '#taxaselic', '#copom', '#selic', '#dêumbtg', '#lineinvest', '#timeBTG', '#InstitutoVelhoAmigo', '#Voluntariado', '#timebtg', '#responsabilidadesocial', '#TBT', '#mormaiibeachtennis', '#beachtennis', '#beachtennislife', '#beachtennisplayer', '#beachtennisworld', '#beachtennisbrasileiro', '#beachtennislifestyle', '#beachtennislovers', '#tbt', '#teamfuturobom', '#Times', '#Trades', '#OIBR3', '#Shark', '#empreendedorismo', '#enhub', '#inovation', '#assessoriadeinvestimentos', '#consultoriafinanceira', '#btgpactual', '#mercadofinanceiro', '#saopaulo', '#portoalegre', '#InstitutoProtea', '#OutubroRosa', '#mormaiibeachtennis', '#NPBT', '#beachtennis', '#beachtennislife', '#beachtennisplayer', '#beachtennisschool', '#beachtennislifestyle', '#empreendedorismo', '#inovação', '#enhub', '#nft', '#NFT', '#crypto', '#nasdaq', '#mercadofinanceiro', '#bolsadevalores', '#investimentos', '#trader', '#dinheiro', '#investimento', '#a', '#finan', '#es', '#b', '#daytrader', '#liberdadefinanceira', '#empreendedorismo', '#daytrade', '#rendavariavel', '#investir', '#dolar', '#vidadetrader', '#educacaofinanceira', '#sucesso', '#ibovespa', '#investidor', '#economia', '#trading', '#rendaextra', '#educa', '#outubrorosa', '#brasil', '#familia', '#planejamentofinanceiro', '#planejamentofinanceirocompleto', '#wiseaai', '#btg', '#btgpactual', '#brazen', '#diversificação', '#work', '#insurance', '#savings', '#enjoy', '#inshot', '#instagood', '#btg', '#bgmi', '#gopu', '#instagram', '#photooftheday', '#photography', '#halloween', '#outubrorosa', '#parceria', '#btgwomen', '#preservacaodefertilidade', '#outubrorosa', '#faegjovem', '#faeg', '#senar', '#agro', '#agrojovem', '#evento', '#decoracaodeeventos', '#eventosSp', '#cenografia', '#criatividade', '#instragramavel', '#vidasemfiltro', '#bajaportalegre500', '#superhomem', '#spiderman', '#carregaaa', '#outubrorosa', '#institutoprotea', '#btgpactual', '#necton', '#empoderamentofeminino', '#donadabolsa', '#vidasemfiltro', '#baja', '#portalegre', '#brazil', '#carregaaa', '#ImpactOnHumanity', '#FII6', '#tbt', '#oportunidade', '#aula', '#dólar', '#dolarfuturo', '#bolsabrasil', '#b3', '#ibov', '#íbovespa', '#jornalismo', '#empreendedorismo', '#btgbestperformer', '#btgpactual', '#NordWealth', '#ForeverCapital', '#btgpactual', '#foreverconecta', '#inovação', '#design', '#esg', '#tecnologia', '#growth', '#solutionswm', '#btgbestperformer', '#btgpactual', '#btgtalks2022', '#btgpactual', '#InstitutoBaccarelli', '#OSH', '#Orquest', '#transporteexecutivo', '#transfer', '#familia', '#aeroporto', '#confianca', '#pontualidade', '#evento', '#brasil', '#saopaulo', '#mundo', '#escalando', '#escalandocomkaisser', '#oskaissers', '#aprendizado', '#familia', '#Deus', '#god', '#tratamento', '#amor', '#braip', '#Klabs', '#arkad', '#spirittransfer', '#sacre', '#mercadofinanceiro', '#assessoriadeinvestimentos', '#qualidadedevida', '#btgpactual', '#premiere', '#espnbrasil', '#tntsports', '#sportvbr', '#usetitanium', '#tanaarea', '#brasileirao', '#futebol', '#futebolfeminino', '#canal11futeboltotal', '#missaosp', '#missaoempresarial', '#mulheresdenegocios', '#mulheresempreendedoras', '#mge', '#politicadascoisas', '#ironmaiden', '#brucedickinson', '#jacarandainvestimentos', '#mercadofinanceiro', '#investimentos', '#privatebank', '#btg', '#btgpactua', '#jacarandainvestimentos', '#mercadofinanceiro', '#investimentos', '#privatebank', '#btg', '#btgpactual', '#BTGVirtualChallenge', '#BTGVirtualChallenge', '#btgvirtualchallenge', '#btgchallenge', '#Veniceinvest', '#BTGPactual', '#atividadefisica', '#amo', '#parquemaebonifacia', '#btgvirtualchallenge2022', '#btgvirtualchallenge', '#DicasdeValorcomBTG', '#btgvirtualchallenge', '#btgvirtualchallenge', '#btgvirtualchallenge', '#btgvirtualchallenge', '#desafiobtgvirtual', '#btgvirtualchallenge', '#domingo', '#5km', '#btg', '#btgpactual', '#btgchallenge2022', '#corridaderua', '#run', '#running', '#5k', '#corrida', '#runnergirl', '#BTGVirtualChallenge', '#btgvirtualchallenge', '#btgvirtualchallenge2022', '#quemdançaémaisfeliz', '#btgvirtualchallenge', '#pracima', '#escalada', '#climb', '#btgpactual', '#BTGVirtualChallenge', '#btg', '#investimentos', '#ibirapuera', '#btgvirtualchallenge', '#btgvirtualchallenge', '#btgvirtualchallenge', '#5km', '#wealthmanagement', '#btgvirtualchallenge', '#investimentos', '#assetallocation', '#btgpactual', '#necton', '#donadabolsa', '#rivkahlovers', '#rivkahmusic', '#rivkahpodcast', '#RealInvest', '#MicrocreditoItau', '#DicasdeValorcomBTG', '#nadasuperaarotina', '#segurança', '#creditonoagro', '#compliance', '#conacredi2022', '#a3sinvestimentos', '#a3sinvestimentos', '#mercadofinanceiro', '#btg', '#investimentos', '#prosperidade', '#mulheresinvestidoras', '#btgpactualdigital', '#abaai', '#teamfuturobom', '#wta', '#riodejaneiro', '#brasil', '#tennis', '#biahaddadmaia', '#rioopen', '#economia', '#finanças', '#bancos', '#empresas', '#indústria', '#btgpactual', '#mercado', '#mercadofinanceiro', '#protagonismo', '#gtcapital', '#btg', '#1bilhão', '#infra', '#energy', '#utilities', '#engie', '#mercadofinanceiro', '#investimentos', '#rendafixa', '#rendavariavel', '#assessoria', '#trade', '#daytrade', '#patrimonio', '#rendapassiva', '#empreendertransforma', '#aprendaaempreender', '#empreendendo', '#empreendedorismo', '#negocios', '#aprendizagem', '#aprendizado', '#brasil', '#renovainvest', '#btgpactual', '#btg', '#ethimosinvestimentos', '#sejabtg', '#semarc', '#consumidor', '#atendimento', '#qualidade', '#riscos', '#diversificação', '#portifoliodeinvestimentos', '#planejamentofinanceiro', '#wiseaai', '#btg', '#btgpactual', '#btgchallenge', '#btg', '#investimentos', '#mercadofinanceiro', '#eventoscampinas', '#maioresgestoras', '#fundosdeações', '#AUM', '#patrimônio', '#investimentos', '#rocketathletes', '#tbt', '#gratidao', '#Perfin', '#PerfinInfraDay', '#FundosdeInvestimento', '#MercadoFinanceiro', '#Economia', '#tbt', '#brucedickinson', '#ironmaiden', '#uptheirons', '#btgpactual', '#negocio', '#investimentos', '#mercado', '#energia', '#economicnewsbrasil', '#RadarDaSemana', '#90', '#btg', '#tecnologia', '#tech', '#estudante', '#eventoscorporativos', '#workshopdetecnologia', '#estudantedetech', '#vagasemtech', '#carreiraemtecnologia', '#mercadofinanceiro', '#vagasnomercadofinanceiro', '#farialima', '#vagasdeestagio', '#workshop', '#universidade', '#universitario', '#CDBs', '#rendafixa', '#ipca', '#investimentos', '#finanças', '#finançasempresariais', '#investidoresdesucesso', '#sp', '#networking', '#conexão', '#empreendedorismofeminino', '#btgsomameioambiente', '#OLeãoRugiu', '#apaixonadaFã', '#ParabénsAoGrandeEmpreendimento', '#bolsa', '#bolsadevalores', '#mercadofinanceiro', '#trader', '#at', '#analisetecnica', '#grafico', '#daytrade', '#swingtrade', '#ibovespa', '#miniindice', '#acoes', '#ativos', '#gain', '#financeiro', '#b3', '#daytrade', '#acoes', '#investing', '#invest', '#trade', '#fundosdeações', '#fias', '#fundos', '#multimercado', '#fundosmultimercado', '#quantumfinance', '#investidorinteligente', '#fundosdeinvestimento', '#empreendedorismo', '#missmind', '#líderes', '#trader', '#traderbrasil', '#traderforex', '#forextrader', '#zinvest', '#zsummit', '#educacao', '#geracaoz', '#OneInvestimentos', '#trader', '#traderbrasil', '#traderforex', '#TUPY3', '#odontologiaporamor', '#qualidadeemsaude', '#empreendedorismo', '#checkupdigitalodontológicopreventivo', '#rhodontologia', '#fii', '#fundoimobiliario', '#assessordeinvestimentos', '#btg', '#btgpactual', '#wiseaai', '#btgvirtualchallenge2022', '#btgpactualdigital', '#investimentos', '#rendafixa', '#teamfuturobom', '#fiis', '#fiAgros', '#investir', '#fundosimobiliarios', '#infographic', '#infograficos', '#dividendos', '#investimento', '#educacaofinanceira', '#paratodosverem', '#investimentos', '#investir', '#rendafixa', '#rendavariavel', '#juros', '#dinheiro', '#patrimonio', '#Energia', '#Ceará', '#Investimento', '#forevercapital', '#1investidorqualquer', '#investimentos', '#aai', '#bolsasdevalores', '#money', '#educacaofinanceira', '#finanças', '#parceria', '#parcerias', '#juntos', '#juntossomosmaisfortes', '#modelos', '#recepção', '#basilieventos', '#agenciademodelos', '#empresadeventos', '#agenciadeventos', '#empresadesucesso', '#recepcionistas', '#modelos', '#promotoras', '#staffs', '#barman', '#produção', '#coordenação', '#supervisão', '#logistica', '#casting', '#organização', '#eventos', '#sampling', '#blitz', '#forum', '#palestra', '#palestras', '#entretenimento', '#investir', '#investimentos', '#copadomundo', '#zinvest', '#zsummit', '#educacao', '#geracaoz', '#investimentos', '#dinheiro', '#bolsadevalores', '#investimento', '#mercadofinanceiro', '#o', '#finan', '#empreendedorismo', '#a', '#investir', '#liberdadefinanceira', '#sucesso', '#es', '#as', '#rendaextra', '#economia', '#educacaofinanceira', '#investidor', '#rendavariavel', '#trader', '#educa', '#ofinanceira', '#b', '#empreender', '#marketingdigital', '#bitcoin', '#rendafixa', '#brasil', '#foco', '#financialplanning', '#minhamelhorescolha', '#btgchallenge2022', '#bancodigital', '#mia', '#chile', '#portugal', '#brazil', '#invest', '#eua', '#suiça', '#zurich', '#maiorbancodeinvestimentodaamericala', '#tina', '#americalatina', '#nomadedigital', '#digital', '#remoto', '#homeoffice', '#fitnessgirl', '#believe', '#believeinyourself', '#vemserbtgpactualdigital', '#vemtrabalharfeliz', '#assessor', '#gerentebanco', '#banker', '#financialadvisor', '#vistaacamisa', '#TimeBTG', '#btg', '#jf', '#juizdefora', '#assunta', '#assuntaoficial', '#copadomundo', '#fanfest', '#tbt', '#mercadofinanceiro', '#ibov', '#ibovespa', '#acoes', '#b3', '#trader', '#trading', '#análisetécnica', '#dolar', '#mercadofinanceiro', '#b3', '#daytrader', '#bomdia', '#bomdia', '#bomdia', '#futebol', '#investimentos', '#copadomundo', '#seleção', '#escalação', '#formação', '#ações', '#etf', '#dolar', '#fii', '#tesourodireto', '#fundomultimercado', '#onçafari11anos', '#madrugabancario', '#bancario', '#bancarios', '#bancos', '#bancaria', '#bancarias', '#bancos', '#podcast', '#VERDADE', '#FundamentoNET', '#CopadoMundo', '#futebol', '#itau', '#btg', '#btgpactual', '#xp', '#xpinvestimentos', '#clear', '#rico', '#bancointer', '#ações', '#fundosimobiliarios', '#stocks', '#reits', '#investimentos', '#equities', '#equity', '#b3', '#teso', '#Onçafari11Anos', '#JuntosPelaConservação', '#btgpacutal', '#privatebanking', '#wealthmanagement', '#DêUmBTG', '#fundos555', '#ações', '#carteiras', '#fundosdeinvestimentos', '#financas', '#quantumfinance', '#investidorinteligente', '#btgpactual', '#btgpactual', '#nuncamais', '#gtcapital', '#btg', '#tc', '#investimentos', '#investment', '#entrevista', '#gt', '#protagonismo', '#btgpactual', '#operacoes', '#rendavariavel', '#investimentos', '#assessoriadeinvestimentos', '#aai', '#amurcapital', '#copa', '#TBT', '#voluntario', '#voluntariado', '#BTG', '#BTGpactual', '#diadascrianças', '#judo', '#judô', '#acaosocial', '#diversao', '#cidadania', '#esperanca', '#InstitutoTiagoCamilo', '#judobrasil', '#Brasil', '#btgpactual', '#iquine', '#artpe2022', '#artfair', '#tbt', '#AniversarioSolidario', '#MarthaLeonardis', '#tbt', '#teamfuturobom', '#BTG', '#btgpactual', '#HorusDistribuidora', '#btg', '#financiamentosolar', '#DêUmBTG', '#blackfriday', '#RadarDaSemana', '#artpe22', '#feiradearte', '#artebrasileira', '#artpe22', '#feiradearte', '#artebrasileira', '#shp', '#hipicapaulista', '#hipismo', '#showjumping', '#worldcupqualifier', '#seniortop', '#gtcapital', '#btg', '#canarinho', '#verdeeamarelo', '#brasil', '#brazil', '#copadomundo', '#copadavida', '#mercadofinanceiro', '#protagonismo', '#pauloguedes', '#educação', '#mamata', '#AAIs', '#agenteautônomosdeinvestimentos', '#assessordeinvestimento', '#migracao', '#xp', '#safrainvest', '#certificação', '#corretoras', '#escritóriosdeinvestimentos', '#gestoras', '#investidor', '#investimentos', '#mercadofinanceiro', '#plataformas', '#fundos', '#investimentosalternativos', '#private', '#seleçãobrasileira', '#brasil', '#neymar', '#hexa', '#vinijr', '#ARCAH', '#saladaorganicaosocial', '#saladaorganica', '#sustentabilidade', '#inclusaosocial', '#projetossociais', '#projetosARCAH', '#contribua', '#parcerias', '#moradoresderua', '#ajudeaspessoas', '#euacreditoempessoasboas', '#jornadadaautonomia', '#agricultoresdobem', '#agricultura', '#permacultura', '#MacroDay', '#criptomoedas', '#chainlink', '#polygon', '#investimentos', '#bussines', '#private', '#octorbtg', '#boanoite', '#brasil', '#assessoria', '#investimentos', '#brasil', '#rendafixa', '#rendavariavel', '#efeitomanada', '#perfildeinvestidor', '#investimentos', '#BTG', '#investment', '#assessoria', '#finanças', '#investor', '#canon', '#canon6d', '#canoneos', '#canoneos6d', '#canonphotography', '#canonprogear', '#canon40mm', '#canon40mmstm', '#canoncamera', '#canonlens', '#urbanphotography', '#arquitetura', '#architecture', '#investimentos', '#ações', '#rendavariável', '#controleemocional', '#apsicologiafinanceira', '#educaçãofinanceira', '#teamfuturobom', '#daytrader', '#forex', '#trading', '#trader', '#forextrader', '#daytrading', '#bitcoin', '#stockmarket', '#money', '#forextrading', '#stocks', '#investing', '#forexsignals', '#cryptocurrency', '#entrepreneur', '#invest', '#investor', '#forexlifestyle', '#wallstreet', '#business', '#investment', '#forexlife', '#finance', '#crypto', '#technicalanalysis', '#mercadofinanceiro', '#swingtrading', '#bolsadevalores', '#financialfreedom', '#forexmarket', '#Ouro', '#hedge', '#bitcoin', '#criptomoedas', '#volatilidade', '#gestao', '#brasília', '#atacado', '#distribuidora', '#sankhya', '#btgpactual']\n"
          ]
        }
      ],
      "source": [
        "# Função para extrair as hashtags de um texto\n",
        "def extrair_hashtags(text):\n",
        "    hashtags = re.findall(r'\\#\\w+', text)\n",
        "    return hashtags\n",
        "\n",
        "# Aplicação da função para extrair as hashtags em uma nova coluna\n",
        "df['hashtags'] = df['texto'].apply(extrair_hashtags)\n",
        "\n",
        "# Visualização do resultado\n",
        "print(df.head())\n",
        "\n",
        "hashtags_lista = []  # Lista para armazenar as hashtags\n",
        "\n",
        "# Percorrer os valores da coluna 'texto' e extrair as hashtags\n",
        "for texto in df['texto']:\n",
        "    hashtags = extrair_hashtags(texto)  # Chamar a função extrair_hashtags\n",
        "    hashtags_lista.extend(hashtags)  # Adicionar as hashtags à lista\n",
        "\n",
        "# Exibir as hashtags encontradas\n",
        "print(hashtags_lista)"
      ]
    },
    {
      "attachments": {},
      "cell_type": "markdown",
      "metadata": {
        "id": "NwbhwwR1BEpo"
      },
      "source": [
        "### 3.9 Testes isolados"
      ]
    },
    {
      "attachments": {},
      "cell_type": "markdown",
      "metadata": {
        "id": "l5-M3Pbm_pdz"
      },
      "source": [
        "As células de código abaixo foram comentadas com o objetivo de acelerar o processamento de outras partes do código e evitar que a memória ram seja comprometida antes do esperado."
      ]
    },
    {
      "attachments": {},
      "cell_type": "markdown",
      "metadata": {
        "id": "Iqa12FgQDHUA"
      },
      "source": [
        "Teste isolado para função de remoção de acentos:"
      ]
    },
    {
      "cell_type": "code",
      "execution_count": null,
      "metadata": {
        "id": "ahCFXPI3BKYR"
      },
      "outputs": [],
      "source": [
        "# remocaoAcentos(df)"
      ]
    },
    {
      "attachments": {},
      "cell_type": "markdown",
      "metadata": {
        "id": "2lW9kHViDQhY"
      },
      "source": [
        "Teste isolado para função de tratamento de letras maiúsculas:"
      ]
    },
    {
      "cell_type": "code",
      "execution_count": null,
      "metadata": {
        "id": "VCotuM-UBRTE"
      },
      "outputs": [],
      "source": [
        "# tratamentoMaiusculas(df)"
      ]
    },
    {
      "attachments": {},
      "cell_type": "markdown",
      "metadata": {
        "id": "wqCS535fDUdq"
      },
      "source": [
        "teste isolado para função de conversão de emojis:"
      ]
    },
    {
      "cell_type": "code",
      "execution_count": null,
      "metadata": {
        "id": "2AFLkD5kCGgr"
      },
      "outputs": [],
      "source": [
        "# conversaoEmojis(df['texto'])"
      ]
    },
    {
      "attachments": {},
      "cell_type": "markdown",
      "metadata": {
        "id": "qeWwKT-FDYn9"
      },
      "source": [
        "Teste isolado para função de tratamento de abreviações:"
      ]
    },
    {
      "cell_type": "code",
      "execution_count": null,
      "metadata": {
        "id": "OvBoDJERCR9E"
      },
      "outputs": [],
      "source": [
        "# tratamentoAbreviacoes(df['texto'])"
      ]
    },
    {
      "attachments": {},
      "cell_type": "markdown",
      "metadata": {
        "id": "-Io9jJFPDcOE"
      },
      "source": [
        "Teste isolado para função de gerar dicionario dos comentários:"
      ]
    },
    {
      "cell_type": "code",
      "execution_count": null,
      "metadata": {
        "id": "XMScrRBoCrTD"
      },
      "outputs": [],
      "source": [
        "# tokenizacaoPalavra(df['texto'])"
      ]
    },
    {
      "attachments": {},
      "cell_type": "markdown",
      "metadata": {
        "id": "OlTqNq82axLL"
      },
      "source": [
        "Teste isolado da função de gerar tokens de cada comentario:"
      ]
    },
    {
      "cell_type": "code",
      "execution_count": null,
      "metadata": {
        "id": "wQgGvCB9a36z"
      },
      "outputs": [],
      "source": [
        "# resultado = df['texto'].apply(tokenizar)\n",
        "# resultado"
      ]
    },
    {
      "attachments": {},
      "cell_type": "markdown",
      "metadata": {
        "id": "QBr4pJ6UDglw"
      },
      "source": [
        "Teste isolado para função que remove stopwords:"
      ]
    },
    {
      "cell_type": "code",
      "execution_count": null,
      "metadata": {
        "id": "Vr2qR-n7Czcv"
      },
      "outputs": [],
      "source": [
        "# remocaoStopWords(df['texto'])"
      ]
    },
    {
      "attachments": {},
      "cell_type": "markdown",
      "metadata": {
        "id": "nIxt9tJAHnCb"
      },
      "source": [
        "### 3.10 Pipeline de pré processamento"
      ]
    },
    {
      "attachments": {},
      "cell_type": "markdown",
      "metadata": {
        "id": "KnIfQOVZLLLx"
      },
      "source": [
        "Criação de pipiline para tratamento dos dados."
      ]
    },
    {
      "cell_type": "code",
      "execution_count": null,
      "metadata": {
        "id": "mZjV13HRHzIP"
      },
      "outputs": [],
      "source": [
        "def pipeline(dados):\n",
        "  #cria um novo df a ser tratado\n",
        "  dadosT =  pd.DataFrame({'dadosTratados': dados})\n",
        "  # substituição das letras maiusculas dos dados\n",
        "  dadosT['dadosTratados'] = tratamentoMaiusculas(dadosT)\n",
        "  #tratamento de stopwords\n",
        "  dadosT['dadosTratados'] = remocaoStopWords(dadosT['dadosTratados'])\n",
        "  #tratamento de abreviações\n",
        "  dadosT['dadosTratados'] = tratamentoAbreviacoes(dadosT['dadosTratados'])\n",
        "  # remove os acentos dos dados\n",
        "  dadosT['dadosTratados'] = remocaoAcentos(dadosT)\n",
        "  ## tratamento dos emojis\n",
        "  #dadosT = conversaoEmojis(dadosT)\n",
        "  ## lemmatização\n",
        "  #dadosT['dadosTratados'] = textoLemmatizado(dadosT['dadosTratados'])\n",
        "  return dadosT['dadosTratados']"
      ]
    },
    {
      "attachments": {},
      "cell_type": "markdown",
      "metadata": {
        "id": "DPPAkeOyLKbA"
      },
      "source": [
        "#### 3.10.1 Resultado dos pré processamentos."
      ]
    },
    {
      "attachments": {},
      "cell_type": "markdown",
      "metadata": {
        "id": "WH9T5uiVLaEa"
      },
      "source": [
        "Abaixo e póssivel ver o resultado dessa pipeline."
      ]
    },
    {
      "cell_type": "code",
      "execution_count": null,
      "metadata": {
        "colab": {
          "base_uri": "https://localhost:8080/",
          "height": 328
        },
        "id": "cW_Bx1xoLhlS",
        "outputId": "7c1be2a6-b861-4683-cbc4-622bfeefd32d"
      },
      "outputs": [
        {
          "ename": "KeyboardInterrupt",
          "evalue": "ignored",
          "output_type": "error",
          "traceback": [
            "\u001b[0;31m---------------------------------------------------------------------------\u001b[0m",
            "\u001b[0;31mKeyboardInterrupt\u001b[0m                         Traceback (most recent call last)",
            "\u001b[0;32m<ipython-input-47-d91bb8feb0c0>\u001b[0m in \u001b[0;36m<cell line: 1>\u001b[0;34m()\u001b[0m\n\u001b[0;32m----> 1\u001b[0;31m \u001b[0mdadosTratados\u001b[0m \u001b[0;34m=\u001b[0m \u001b[0mpipeline\u001b[0m\u001b[0;34m(\u001b[0m\u001b[0mdf\u001b[0m\u001b[0;34m[\u001b[0m\u001b[0;34m'texto'\u001b[0m\u001b[0;34m]\u001b[0m\u001b[0;34m)\u001b[0m\u001b[0;34m\u001b[0m\u001b[0;34m\u001b[0m\u001b[0m\n\u001b[0m\u001b[1;32m      2\u001b[0m \u001b[0mdadosTratados\u001b[0m\u001b[0;34m\u001b[0m\u001b[0;34m\u001b[0m\u001b[0m\n",
            "\u001b[0;32m<ipython-input-46-34425ccbbfd3>\u001b[0m in \u001b[0;36mpipeline\u001b[0;34m(dados)\u001b[0m\n\u001b[1;32m      5\u001b[0m   \u001b[0mdadosT\u001b[0m\u001b[0;34m[\u001b[0m\u001b[0;34m'dadosTratados'\u001b[0m\u001b[0;34m]\u001b[0m \u001b[0;34m=\u001b[0m \u001b[0mtratamentoMaiusculas\u001b[0m\u001b[0;34m(\u001b[0m\u001b[0mdadosT\u001b[0m\u001b[0;34m)\u001b[0m\u001b[0;34m\u001b[0m\u001b[0;34m\u001b[0m\u001b[0m\n\u001b[1;32m      6\u001b[0m   \u001b[0;31m#tratamento de stopwords\u001b[0m\u001b[0;34m\u001b[0m\u001b[0;34m\u001b[0m\u001b[0m\n\u001b[0;32m----> 7\u001b[0;31m   \u001b[0mdadosT\u001b[0m\u001b[0;34m[\u001b[0m\u001b[0;34m'dadosTratados'\u001b[0m\u001b[0;34m]\u001b[0m \u001b[0;34m=\u001b[0m \u001b[0mremocaoStopWords\u001b[0m\u001b[0;34m(\u001b[0m\u001b[0mdadosT\u001b[0m\u001b[0;34m[\u001b[0m\u001b[0;34m'dadosTratados'\u001b[0m\u001b[0;34m]\u001b[0m\u001b[0;34m)\u001b[0m\u001b[0;34m\u001b[0m\u001b[0;34m\u001b[0m\u001b[0m\n\u001b[0m\u001b[1;32m      8\u001b[0m   \u001b[0;31m#tratamento de abreviações\u001b[0m\u001b[0;34m\u001b[0m\u001b[0;34m\u001b[0m\u001b[0m\n\u001b[1;32m      9\u001b[0m   \u001b[0mdadosT\u001b[0m\u001b[0;34m[\u001b[0m\u001b[0;34m'dadosTratados'\u001b[0m\u001b[0;34m]\u001b[0m \u001b[0;34m=\u001b[0m \u001b[0mtratamentoAbreviacoes\u001b[0m\u001b[0;34m(\u001b[0m\u001b[0mdadosT\u001b[0m\u001b[0;34m[\u001b[0m\u001b[0;34m'dadosTratados'\u001b[0m\u001b[0;34m]\u001b[0m\u001b[0;34m)\u001b[0m\u001b[0;34m\u001b[0m\u001b[0;34m\u001b[0m\u001b[0m\n",
            "\u001b[0;32m<ipython-input-36-359fdcdc347d>\u001b[0m in \u001b[0;36mremocaoStopWords\u001b[0;34m(coluna)\u001b[0m\n\u001b[1;32m      3\u001b[0m     \u001b[0;32mfor\u001b[0m \u001b[0mtexto\u001b[0m \u001b[0;32min\u001b[0m \u001b[0mcoluna\u001b[0m\u001b[0;34m:\u001b[0m\u001b[0;34m\u001b[0m\u001b[0;34m\u001b[0m\u001b[0m\n\u001b[1;32m      4\u001b[0m         \u001b[0;31m# converte o texto em um documento do Spacy\u001b[0m\u001b[0;34m\u001b[0m\u001b[0;34m\u001b[0m\u001b[0m\n\u001b[0;32m----> 5\u001b[0;31m         \u001b[0mdoc\u001b[0m \u001b[0;34m=\u001b[0m \u001b[0mnlp\u001b[0m\u001b[0;34m(\u001b[0m\u001b[0mtexto\u001b[0m\u001b[0;34m)\u001b[0m\u001b[0;34m\u001b[0m\u001b[0;34m\u001b[0m\u001b[0m\n\u001b[0m\u001b[1;32m      6\u001b[0m         \u001b[0;31m# filtra os tokens que não são stop words\u001b[0m\u001b[0;34m\u001b[0m\u001b[0;34m\u001b[0m\u001b[0m\n\u001b[1;32m      7\u001b[0m         \u001b[0mtokenSemStopwords\u001b[0m \u001b[0;34m=\u001b[0m \u001b[0;34m[\u001b[0m\u001b[0mtoken\u001b[0m\u001b[0;34m.\u001b[0m\u001b[0mtext\u001b[0m \u001b[0;32mfor\u001b[0m \u001b[0mtoken\u001b[0m \u001b[0;32min\u001b[0m \u001b[0mdoc\u001b[0m \u001b[0;32mif\u001b[0m \u001b[0;32mnot\u001b[0m \u001b[0mtoken\u001b[0m\u001b[0;34m.\u001b[0m\u001b[0mis_stop\u001b[0m\u001b[0;34m]\u001b[0m\u001b[0;34m\u001b[0m\u001b[0;34m\u001b[0m\u001b[0m\n",
            "\u001b[0;32m/usr/local/lib/python3.10/dist-packages/spacy/language.py\u001b[0m in \u001b[0;36m__call__\u001b[0;34m(self, text, disable, component_cfg)\u001b[0m\n\u001b[1;32m   1009\u001b[0m                 \u001b[0merror_handler\u001b[0m \u001b[0;34m=\u001b[0m \u001b[0mproc\u001b[0m\u001b[0;34m.\u001b[0m\u001b[0mget_error_handler\u001b[0m\u001b[0;34m(\u001b[0m\u001b[0;34m)\u001b[0m\u001b[0;34m\u001b[0m\u001b[0;34m\u001b[0m\u001b[0m\n\u001b[1;32m   1010\u001b[0m             \u001b[0;32mtry\u001b[0m\u001b[0;34m:\u001b[0m\u001b[0;34m\u001b[0m\u001b[0;34m\u001b[0m\u001b[0m\n\u001b[0;32m-> 1011\u001b[0;31m                 \u001b[0mdoc\u001b[0m \u001b[0;34m=\u001b[0m \u001b[0mproc\u001b[0m\u001b[0;34m(\u001b[0m\u001b[0mdoc\u001b[0m\u001b[0;34m,\u001b[0m \u001b[0;34m**\u001b[0m\u001b[0mcomponent_cfg\u001b[0m\u001b[0;34m.\u001b[0m\u001b[0mget\u001b[0m\u001b[0;34m(\u001b[0m\u001b[0mname\u001b[0m\u001b[0;34m,\u001b[0m \u001b[0;34m{\u001b[0m\u001b[0;34m}\u001b[0m\u001b[0;34m)\u001b[0m\u001b[0;34m)\u001b[0m  \u001b[0;31m# type: ignore[call-arg]\u001b[0m\u001b[0;34m\u001b[0m\u001b[0;34m\u001b[0m\u001b[0m\n\u001b[0m\u001b[1;32m   1012\u001b[0m             \u001b[0;32mexcept\u001b[0m \u001b[0mKeyError\u001b[0m \u001b[0;32mas\u001b[0m \u001b[0me\u001b[0m\u001b[0;34m:\u001b[0m\u001b[0;34m\u001b[0m\u001b[0;34m\u001b[0m\u001b[0m\n\u001b[1;32m   1013\u001b[0m                 \u001b[0;31m# This typically happens if a component is not initialized\u001b[0m\u001b[0;34m\u001b[0m\u001b[0;34m\u001b[0m\u001b[0m\n",
            "\u001b[0;32m/usr/local/lib/python3.10/dist-packages/spacy/pipeline/trainable_pipe.pyx\u001b[0m in \u001b[0;36mspacy.pipeline.trainable_pipe.TrainablePipe.__call__\u001b[0;34m()\u001b[0m\n",
            "\u001b[0;32m/usr/local/lib/python3.10/dist-packages/spacy/pipeline/tok2vec.py\u001b[0m in \u001b[0;36mpredict\u001b[0;34m(self, docs)\u001b[0m\n\u001b[1;32m    123\u001b[0m             \u001b[0mwidth\u001b[0m \u001b[0;34m=\u001b[0m \u001b[0mself\u001b[0m\u001b[0;34m.\u001b[0m\u001b[0mmodel\u001b[0m\u001b[0;34m.\u001b[0m\u001b[0mget_dim\u001b[0m\u001b[0;34m(\u001b[0m\u001b[0;34m\"nO\"\u001b[0m\u001b[0;34m)\u001b[0m\u001b[0;34m\u001b[0m\u001b[0;34m\u001b[0m\u001b[0m\n\u001b[1;32m    124\u001b[0m             \u001b[0;32mreturn\u001b[0m \u001b[0;34m[\u001b[0m\u001b[0mself\u001b[0m\u001b[0;34m.\u001b[0m\u001b[0mmodel\u001b[0m\u001b[0;34m.\u001b[0m\u001b[0mops\u001b[0m\u001b[0;34m.\u001b[0m\u001b[0malloc\u001b[0m\u001b[0;34m(\u001b[0m\u001b[0;34m(\u001b[0m\u001b[0;36m0\u001b[0m\u001b[0;34m,\u001b[0m \u001b[0mwidth\u001b[0m\u001b[0;34m)\u001b[0m\u001b[0;34m)\u001b[0m \u001b[0;32mfor\u001b[0m \u001b[0mdoc\u001b[0m \u001b[0;32min\u001b[0m \u001b[0mdocs\u001b[0m\u001b[0;34m]\u001b[0m\u001b[0;34m\u001b[0m\u001b[0;34m\u001b[0m\u001b[0m\n\u001b[0;32m--> 125\u001b[0;31m         \u001b[0mtokvecs\u001b[0m \u001b[0;34m=\u001b[0m \u001b[0mself\u001b[0m\u001b[0;34m.\u001b[0m\u001b[0mmodel\u001b[0m\u001b[0;34m.\u001b[0m\u001b[0mpredict\u001b[0m\u001b[0;34m(\u001b[0m\u001b[0mdocs\u001b[0m\u001b[0;34m)\u001b[0m\u001b[0;34m\u001b[0m\u001b[0;34m\u001b[0m\u001b[0m\n\u001b[0m\u001b[1;32m    126\u001b[0m         \u001b[0;32mreturn\u001b[0m \u001b[0mtokvecs\u001b[0m\u001b[0;34m\u001b[0m\u001b[0;34m\u001b[0m\u001b[0m\n\u001b[1;32m    127\u001b[0m \u001b[0;34m\u001b[0m\u001b[0m\n",
            "\u001b[0;32m/usr/local/lib/python3.10/dist-packages/thinc/model.py\u001b[0m in \u001b[0;36mpredict\u001b[0;34m(self, X)\u001b[0m\n\u001b[1;32m    313\u001b[0m         \u001b[0monly\u001b[0m \u001b[0mthe\u001b[0m \u001b[0moutput\u001b[0m\u001b[0;34m,\u001b[0m \u001b[0minstead\u001b[0m \u001b[0mof\u001b[0m \u001b[0mthe\u001b[0m\u001b[0;31m \u001b[0m\u001b[0;31m`\u001b[0m\u001b[0;34m(\u001b[0m\u001b[0moutput\u001b[0m\u001b[0;34m,\u001b[0m \u001b[0mcallback\u001b[0m\u001b[0;34m)\u001b[0m\u001b[0;31m`\u001b[0m \u001b[0mtuple\u001b[0m\u001b[0;34m.\u001b[0m\u001b[0;34m\u001b[0m\u001b[0;34m\u001b[0m\u001b[0m\n\u001b[1;32m    314\u001b[0m         \"\"\"\n\u001b[0;32m--> 315\u001b[0;31m         \u001b[0;32mreturn\u001b[0m \u001b[0mself\u001b[0m\u001b[0;34m.\u001b[0m\u001b[0m_func\u001b[0m\u001b[0;34m(\u001b[0m\u001b[0mself\u001b[0m\u001b[0;34m,\u001b[0m \u001b[0mX\u001b[0m\u001b[0;34m,\u001b[0m \u001b[0mis_train\u001b[0m\u001b[0;34m=\u001b[0m\u001b[0;32mFalse\u001b[0m\u001b[0;34m)\u001b[0m\u001b[0;34m[\u001b[0m\u001b[0;36m0\u001b[0m\u001b[0;34m]\u001b[0m\u001b[0;34m\u001b[0m\u001b[0;34m\u001b[0m\u001b[0m\n\u001b[0m\u001b[1;32m    316\u001b[0m \u001b[0;34m\u001b[0m\u001b[0m\n\u001b[1;32m    317\u001b[0m     \u001b[0;32mdef\u001b[0m \u001b[0mfinish_update\u001b[0m\u001b[0;34m(\u001b[0m\u001b[0mself\u001b[0m\u001b[0;34m,\u001b[0m \u001b[0moptimizer\u001b[0m\u001b[0;34m:\u001b[0m \u001b[0mOptimizer\u001b[0m\u001b[0;34m)\u001b[0m \u001b[0;34m->\u001b[0m \u001b[0;32mNone\u001b[0m\u001b[0;34m:\u001b[0m\u001b[0;34m\u001b[0m\u001b[0;34m\u001b[0m\u001b[0m\n",
            "\u001b[0;32m/usr/local/lib/python3.10/dist-packages/thinc/layers/chain.py\u001b[0m in \u001b[0;36mforward\u001b[0;34m(model, X, is_train)\u001b[0m\n\u001b[1;32m     53\u001b[0m     \u001b[0mcallbacks\u001b[0m \u001b[0;34m=\u001b[0m \u001b[0;34m[\u001b[0m\u001b[0;34m]\u001b[0m\u001b[0;34m\u001b[0m\u001b[0;34m\u001b[0m\u001b[0m\n\u001b[1;32m     54\u001b[0m     \u001b[0;32mfor\u001b[0m \u001b[0mlayer\u001b[0m \u001b[0;32min\u001b[0m \u001b[0mmodel\u001b[0m\u001b[0;34m.\u001b[0m\u001b[0mlayers\u001b[0m\u001b[0;34m:\u001b[0m\u001b[0;34m\u001b[0m\u001b[0;34m\u001b[0m\u001b[0m\n\u001b[0;32m---> 55\u001b[0;31m         \u001b[0mY\u001b[0m\u001b[0;34m,\u001b[0m \u001b[0minc_layer_grad\u001b[0m \u001b[0;34m=\u001b[0m \u001b[0mlayer\u001b[0m\u001b[0;34m(\u001b[0m\u001b[0mX\u001b[0m\u001b[0;34m,\u001b[0m \u001b[0mis_train\u001b[0m\u001b[0;34m=\u001b[0m\u001b[0mis_train\u001b[0m\u001b[0;34m)\u001b[0m\u001b[0;34m\u001b[0m\u001b[0;34m\u001b[0m\u001b[0m\n\u001b[0m\u001b[1;32m     56\u001b[0m         \u001b[0mcallbacks\u001b[0m\u001b[0;34m.\u001b[0m\u001b[0mappend\u001b[0m\u001b[0;34m(\u001b[0m\u001b[0minc_layer_grad\u001b[0m\u001b[0;34m)\u001b[0m\u001b[0;34m\u001b[0m\u001b[0;34m\u001b[0m\u001b[0m\n\u001b[1;32m     57\u001b[0m         \u001b[0mX\u001b[0m \u001b[0;34m=\u001b[0m \u001b[0mY\u001b[0m\u001b[0;34m\u001b[0m\u001b[0;34m\u001b[0m\u001b[0m\n",
            "\u001b[0;32m/usr/local/lib/python3.10/dist-packages/thinc/model.py\u001b[0m in \u001b[0;36m__call__\u001b[0;34m(self, X, is_train)\u001b[0m\n\u001b[1;32m    289\u001b[0m         \"\"\"Call the model's `forward` function, returning the output and a\n\u001b[1;32m    290\u001b[0m         callback to compute the gradients via backpropagation.\"\"\"\n\u001b[0;32m--> 291\u001b[0;31m         \u001b[0;32mreturn\u001b[0m \u001b[0mself\u001b[0m\u001b[0;34m.\u001b[0m\u001b[0m_func\u001b[0m\u001b[0;34m(\u001b[0m\u001b[0mself\u001b[0m\u001b[0;34m,\u001b[0m \u001b[0mX\u001b[0m\u001b[0;34m,\u001b[0m \u001b[0mis_train\u001b[0m\u001b[0;34m=\u001b[0m\u001b[0mis_train\u001b[0m\u001b[0;34m)\u001b[0m\u001b[0;34m\u001b[0m\u001b[0;34m\u001b[0m\u001b[0m\n\u001b[0m\u001b[1;32m    292\u001b[0m \u001b[0;34m\u001b[0m\u001b[0m\n\u001b[1;32m    293\u001b[0m     \u001b[0;32mdef\u001b[0m \u001b[0minitialize\u001b[0m\u001b[0;34m(\u001b[0m\u001b[0mself\u001b[0m\u001b[0;34m,\u001b[0m \u001b[0mX\u001b[0m\u001b[0;34m:\u001b[0m \u001b[0mOptional\u001b[0m\u001b[0;34m[\u001b[0m\u001b[0mInT\u001b[0m\u001b[0;34m]\u001b[0m \u001b[0;34m=\u001b[0m \u001b[0;32mNone\u001b[0m\u001b[0;34m,\u001b[0m \u001b[0mY\u001b[0m\u001b[0;34m:\u001b[0m \u001b[0mOptional\u001b[0m\u001b[0;34m[\u001b[0m\u001b[0mOutT\u001b[0m\u001b[0;34m]\u001b[0m \u001b[0;34m=\u001b[0m \u001b[0;32mNone\u001b[0m\u001b[0;34m)\u001b[0m \u001b[0;34m->\u001b[0m \u001b[0;34m\"Model\"\u001b[0m\u001b[0;34m:\u001b[0m\u001b[0;34m\u001b[0m\u001b[0;34m\u001b[0m\u001b[0m\n",
            "\u001b[0;32m/usr/local/lib/python3.10/dist-packages/thinc/layers/with_array.py\u001b[0m in \u001b[0;36mforward\u001b[0;34m(model, Xseq, is_train)\u001b[0m\n\u001b[1;32m     36\u001b[0m         \u001b[0;32mreturn\u001b[0m \u001b[0mmodel\u001b[0m\u001b[0;34m.\u001b[0m\u001b[0mlayers\u001b[0m\u001b[0;34m[\u001b[0m\u001b[0;36m0\u001b[0m\u001b[0;34m]\u001b[0m\u001b[0;34m(\u001b[0m\u001b[0mXseq\u001b[0m\u001b[0;34m,\u001b[0m \u001b[0mis_train\u001b[0m\u001b[0;34m)\u001b[0m\u001b[0;34m\u001b[0m\u001b[0;34m\u001b[0m\u001b[0m\n\u001b[1;32m     37\u001b[0m     \u001b[0;32melse\u001b[0m\u001b[0;34m:\u001b[0m\u001b[0;34m\u001b[0m\u001b[0;34m\u001b[0m\u001b[0m\n\u001b[0;32m---> 38\u001b[0;31m         \u001b[0;32mreturn\u001b[0m \u001b[0mcast\u001b[0m\u001b[0;34m(\u001b[0m\u001b[0mTuple\u001b[0m\u001b[0;34m[\u001b[0m\u001b[0mSeqT\u001b[0m\u001b[0;34m,\u001b[0m \u001b[0mCallable\u001b[0m\u001b[0;34m]\u001b[0m\u001b[0;34m,\u001b[0m \u001b[0m_list_forward\u001b[0m\u001b[0;34m(\u001b[0m\u001b[0mmodel\u001b[0m\u001b[0;34m,\u001b[0m \u001b[0mXseq\u001b[0m\u001b[0;34m,\u001b[0m \u001b[0mis_train\u001b[0m\u001b[0;34m)\u001b[0m\u001b[0;34m)\u001b[0m\u001b[0;34m\u001b[0m\u001b[0;34m\u001b[0m\u001b[0m\n\u001b[0m\u001b[1;32m     39\u001b[0m \u001b[0;34m\u001b[0m\u001b[0m\n\u001b[1;32m     40\u001b[0m \u001b[0;34m\u001b[0m\u001b[0m\n",
            "\u001b[0;32m/usr/local/lib/python3.10/dist-packages/thinc/layers/with_array.py\u001b[0m in \u001b[0;36m_list_forward\u001b[0;34m(model, Xs, is_train)\u001b[0m\n\u001b[1;32m     71\u001b[0m     \u001b[0mlengths\u001b[0m \u001b[0;34m=\u001b[0m \u001b[0mlayer\u001b[0m\u001b[0;34m.\u001b[0m\u001b[0mops\u001b[0m\u001b[0;34m.\u001b[0m\u001b[0masarray1i\u001b[0m\u001b[0;34m(\u001b[0m\u001b[0;34m[\u001b[0m\u001b[0mlen\u001b[0m\u001b[0;34m(\u001b[0m\u001b[0mseq\u001b[0m\u001b[0;34m)\u001b[0m \u001b[0;32mfor\u001b[0m \u001b[0mseq\u001b[0m \u001b[0;32min\u001b[0m \u001b[0mXs\u001b[0m\u001b[0;34m]\u001b[0m\u001b[0;34m)\u001b[0m\u001b[0;34m\u001b[0m\u001b[0;34m\u001b[0m\u001b[0m\n\u001b[1;32m     72\u001b[0m     \u001b[0mXf\u001b[0m \u001b[0;34m=\u001b[0m \u001b[0mlayer\u001b[0m\u001b[0;34m.\u001b[0m\u001b[0mops\u001b[0m\u001b[0;34m.\u001b[0m\u001b[0mflatten\u001b[0m\u001b[0;34m(\u001b[0m\u001b[0mXs\u001b[0m\u001b[0;34m,\u001b[0m \u001b[0mpad\u001b[0m\u001b[0;34m=\u001b[0m\u001b[0mpad\u001b[0m\u001b[0;34m)\u001b[0m\u001b[0;34m\u001b[0m\u001b[0;34m\u001b[0m\u001b[0m\n\u001b[0;32m---> 73\u001b[0;31m     \u001b[0mYf\u001b[0m\u001b[0;34m,\u001b[0m \u001b[0mget_dXf\u001b[0m \u001b[0;34m=\u001b[0m \u001b[0mlayer\u001b[0m\u001b[0;34m(\u001b[0m\u001b[0mXf\u001b[0m\u001b[0;34m,\u001b[0m \u001b[0mis_train\u001b[0m\u001b[0;34m)\u001b[0m\u001b[0;34m\u001b[0m\u001b[0;34m\u001b[0m\u001b[0m\n\u001b[0m\u001b[1;32m     74\u001b[0m \u001b[0;34m\u001b[0m\u001b[0m\n\u001b[1;32m     75\u001b[0m     \u001b[0;32mdef\u001b[0m \u001b[0mbackprop\u001b[0m\u001b[0;34m(\u001b[0m\u001b[0mdYs\u001b[0m\u001b[0;34m:\u001b[0m \u001b[0mListXd\u001b[0m\u001b[0;34m)\u001b[0m \u001b[0;34m->\u001b[0m \u001b[0mListXd\u001b[0m\u001b[0;34m:\u001b[0m\u001b[0;34m\u001b[0m\u001b[0;34m\u001b[0m\u001b[0m\n",
            "\u001b[0;32m/usr/local/lib/python3.10/dist-packages/thinc/model.py\u001b[0m in \u001b[0;36m__call__\u001b[0;34m(self, X, is_train)\u001b[0m\n\u001b[1;32m    289\u001b[0m         \"\"\"Call the model's `forward` function, returning the output and a\n\u001b[1;32m    290\u001b[0m         callback to compute the gradients via backpropagation.\"\"\"\n\u001b[0;32m--> 291\u001b[0;31m         \u001b[0;32mreturn\u001b[0m \u001b[0mself\u001b[0m\u001b[0;34m.\u001b[0m\u001b[0m_func\u001b[0m\u001b[0;34m(\u001b[0m\u001b[0mself\u001b[0m\u001b[0;34m,\u001b[0m \u001b[0mX\u001b[0m\u001b[0;34m,\u001b[0m \u001b[0mis_train\u001b[0m\u001b[0;34m=\u001b[0m\u001b[0mis_train\u001b[0m\u001b[0;34m)\u001b[0m\u001b[0;34m\u001b[0m\u001b[0;34m\u001b[0m\u001b[0m\n\u001b[0m\u001b[1;32m    292\u001b[0m \u001b[0;34m\u001b[0m\u001b[0m\n\u001b[1;32m    293\u001b[0m     \u001b[0;32mdef\u001b[0m \u001b[0minitialize\u001b[0m\u001b[0;34m(\u001b[0m\u001b[0mself\u001b[0m\u001b[0;34m,\u001b[0m \u001b[0mX\u001b[0m\u001b[0;34m:\u001b[0m \u001b[0mOptional\u001b[0m\u001b[0;34m[\u001b[0m\u001b[0mInT\u001b[0m\u001b[0;34m]\u001b[0m \u001b[0;34m=\u001b[0m \u001b[0;32mNone\u001b[0m\u001b[0;34m,\u001b[0m \u001b[0mY\u001b[0m\u001b[0;34m:\u001b[0m \u001b[0mOptional\u001b[0m\u001b[0;34m[\u001b[0m\u001b[0mOutT\u001b[0m\u001b[0;34m]\u001b[0m \u001b[0;34m=\u001b[0m \u001b[0;32mNone\u001b[0m\u001b[0;34m)\u001b[0m \u001b[0;34m->\u001b[0m \u001b[0;34m\"Model\"\u001b[0m\u001b[0;34m:\u001b[0m\u001b[0;34m\u001b[0m\u001b[0;34m\u001b[0m\u001b[0m\n",
            "\u001b[0;32m/usr/local/lib/python3.10/dist-packages/thinc/layers/chain.py\u001b[0m in \u001b[0;36mforward\u001b[0;34m(model, X, is_train)\u001b[0m\n\u001b[1;32m     53\u001b[0m     \u001b[0mcallbacks\u001b[0m \u001b[0;34m=\u001b[0m \u001b[0;34m[\u001b[0m\u001b[0;34m]\u001b[0m\u001b[0;34m\u001b[0m\u001b[0;34m\u001b[0m\u001b[0m\n\u001b[1;32m     54\u001b[0m     \u001b[0;32mfor\u001b[0m \u001b[0mlayer\u001b[0m \u001b[0;32min\u001b[0m \u001b[0mmodel\u001b[0m\u001b[0;34m.\u001b[0m\u001b[0mlayers\u001b[0m\u001b[0;34m:\u001b[0m\u001b[0;34m\u001b[0m\u001b[0;34m\u001b[0m\u001b[0m\n\u001b[0;32m---> 55\u001b[0;31m         \u001b[0mY\u001b[0m\u001b[0;34m,\u001b[0m \u001b[0minc_layer_grad\u001b[0m \u001b[0;34m=\u001b[0m \u001b[0mlayer\u001b[0m\u001b[0;34m(\u001b[0m\u001b[0mX\u001b[0m\u001b[0;34m,\u001b[0m \u001b[0mis_train\u001b[0m\u001b[0;34m=\u001b[0m\u001b[0mis_train\u001b[0m\u001b[0;34m)\u001b[0m\u001b[0;34m\u001b[0m\u001b[0;34m\u001b[0m\u001b[0m\n\u001b[0m\u001b[1;32m     56\u001b[0m         \u001b[0mcallbacks\u001b[0m\u001b[0;34m.\u001b[0m\u001b[0mappend\u001b[0m\u001b[0;34m(\u001b[0m\u001b[0minc_layer_grad\u001b[0m\u001b[0;34m)\u001b[0m\u001b[0;34m\u001b[0m\u001b[0;34m\u001b[0m\u001b[0m\n\u001b[1;32m     57\u001b[0m         \u001b[0mX\u001b[0m \u001b[0;34m=\u001b[0m \u001b[0mY\u001b[0m\u001b[0;34m\u001b[0m\u001b[0;34m\u001b[0m\u001b[0m\n",
            "\u001b[0;32m/usr/local/lib/python3.10/dist-packages/thinc/model.py\u001b[0m in \u001b[0;36m__call__\u001b[0;34m(self, X, is_train)\u001b[0m\n\u001b[1;32m    289\u001b[0m         \"\"\"Call the model's `forward` function, returning the output and a\n\u001b[1;32m    290\u001b[0m         callback to compute the gradients via backpropagation.\"\"\"\n\u001b[0;32m--> 291\u001b[0;31m         \u001b[0;32mreturn\u001b[0m \u001b[0mself\u001b[0m\u001b[0;34m.\u001b[0m\u001b[0m_func\u001b[0m\u001b[0;34m(\u001b[0m\u001b[0mself\u001b[0m\u001b[0;34m,\u001b[0m \u001b[0mX\u001b[0m\u001b[0;34m,\u001b[0m \u001b[0mis_train\u001b[0m\u001b[0;34m=\u001b[0m\u001b[0mis_train\u001b[0m\u001b[0;34m)\u001b[0m\u001b[0;34m\u001b[0m\u001b[0;34m\u001b[0m\u001b[0m\n\u001b[0m\u001b[1;32m    292\u001b[0m \u001b[0;34m\u001b[0m\u001b[0m\n\u001b[1;32m    293\u001b[0m     \u001b[0;32mdef\u001b[0m \u001b[0minitialize\u001b[0m\u001b[0;34m(\u001b[0m\u001b[0mself\u001b[0m\u001b[0;34m,\u001b[0m \u001b[0mX\u001b[0m\u001b[0;34m:\u001b[0m \u001b[0mOptional\u001b[0m\u001b[0;34m[\u001b[0m\u001b[0mInT\u001b[0m\u001b[0;34m]\u001b[0m \u001b[0;34m=\u001b[0m \u001b[0;32mNone\u001b[0m\u001b[0;34m,\u001b[0m \u001b[0mY\u001b[0m\u001b[0;34m:\u001b[0m \u001b[0mOptional\u001b[0m\u001b[0;34m[\u001b[0m\u001b[0mOutT\u001b[0m\u001b[0;34m]\u001b[0m \u001b[0;34m=\u001b[0m \u001b[0;32mNone\u001b[0m\u001b[0;34m)\u001b[0m \u001b[0;34m->\u001b[0m \u001b[0;34m\"Model\"\u001b[0m\u001b[0;34m:\u001b[0m\u001b[0;34m\u001b[0m\u001b[0;34m\u001b[0m\u001b[0m\n",
            "\u001b[0;32m/usr/local/lib/python3.10/dist-packages/thinc/layers/residual.py\u001b[0m in \u001b[0;36mforward\u001b[0;34m(model, X, is_train)\u001b[0m\n\u001b[1;32m     39\u001b[0m             \u001b[0;32mreturn\u001b[0m \u001b[0md_output\u001b[0m \u001b[0;34m+\u001b[0m \u001b[0mdX\u001b[0m\u001b[0;34m\u001b[0m\u001b[0;34m\u001b[0m\u001b[0m\n\u001b[1;32m     40\u001b[0m \u001b[0;34m\u001b[0m\u001b[0m\n\u001b[0;32m---> 41\u001b[0;31m     \u001b[0mY\u001b[0m\u001b[0;34m,\u001b[0m \u001b[0mbackprop_layer\u001b[0m \u001b[0;34m=\u001b[0m \u001b[0mmodel\u001b[0m\u001b[0;34m.\u001b[0m\u001b[0mlayers\u001b[0m\u001b[0;34m[\u001b[0m\u001b[0;36m0\u001b[0m\u001b[0;34m]\u001b[0m\u001b[0;34m(\u001b[0m\u001b[0mX\u001b[0m\u001b[0;34m,\u001b[0m \u001b[0mis_train\u001b[0m\u001b[0;34m)\u001b[0m\u001b[0;34m\u001b[0m\u001b[0;34m\u001b[0m\u001b[0m\n\u001b[0m\u001b[1;32m     42\u001b[0m     \u001b[0;32mif\u001b[0m \u001b[0misinstance\u001b[0m\u001b[0;34m(\u001b[0m\u001b[0mX\u001b[0m\u001b[0;34m,\u001b[0m \u001b[0mlist\u001b[0m\u001b[0;34m)\u001b[0m\u001b[0;34m:\u001b[0m\u001b[0;34m\u001b[0m\u001b[0;34m\u001b[0m\u001b[0m\n\u001b[1;32m     43\u001b[0m         \u001b[0;32mreturn\u001b[0m \u001b[0;34m[\u001b[0m\u001b[0mX\u001b[0m\u001b[0;34m[\u001b[0m\u001b[0mi\u001b[0m\u001b[0;34m]\u001b[0m \u001b[0;34m+\u001b[0m \u001b[0mY\u001b[0m\u001b[0;34m[\u001b[0m\u001b[0mi\u001b[0m\u001b[0;34m]\u001b[0m \u001b[0;32mfor\u001b[0m \u001b[0mi\u001b[0m \u001b[0;32min\u001b[0m \u001b[0mrange\u001b[0m\u001b[0;34m(\u001b[0m\u001b[0mlen\u001b[0m\u001b[0;34m(\u001b[0m\u001b[0mX\u001b[0m\u001b[0;34m)\u001b[0m\u001b[0;34m)\u001b[0m\u001b[0;34m]\u001b[0m\u001b[0;34m,\u001b[0m \u001b[0mbackprop\u001b[0m\u001b[0;34m\u001b[0m\u001b[0;34m\u001b[0m\u001b[0m\n",
            "\u001b[0;32m/usr/local/lib/python3.10/dist-packages/thinc/model.py\u001b[0m in \u001b[0;36m__call__\u001b[0;34m(self, X, is_train)\u001b[0m\n\u001b[1;32m    289\u001b[0m         \"\"\"Call the model's `forward` function, returning the output and a\n\u001b[1;32m    290\u001b[0m         callback to compute the gradients via backpropagation.\"\"\"\n\u001b[0;32m--> 291\u001b[0;31m         \u001b[0;32mreturn\u001b[0m \u001b[0mself\u001b[0m\u001b[0;34m.\u001b[0m\u001b[0m_func\u001b[0m\u001b[0;34m(\u001b[0m\u001b[0mself\u001b[0m\u001b[0;34m,\u001b[0m \u001b[0mX\u001b[0m\u001b[0;34m,\u001b[0m \u001b[0mis_train\u001b[0m\u001b[0;34m=\u001b[0m\u001b[0mis_train\u001b[0m\u001b[0;34m)\u001b[0m\u001b[0;34m\u001b[0m\u001b[0;34m\u001b[0m\u001b[0m\n\u001b[0m\u001b[1;32m    292\u001b[0m \u001b[0;34m\u001b[0m\u001b[0m\n\u001b[1;32m    293\u001b[0m     \u001b[0;32mdef\u001b[0m \u001b[0minitialize\u001b[0m\u001b[0;34m(\u001b[0m\u001b[0mself\u001b[0m\u001b[0;34m,\u001b[0m \u001b[0mX\u001b[0m\u001b[0;34m:\u001b[0m \u001b[0mOptional\u001b[0m\u001b[0;34m[\u001b[0m\u001b[0mInT\u001b[0m\u001b[0;34m]\u001b[0m \u001b[0;34m=\u001b[0m \u001b[0;32mNone\u001b[0m\u001b[0;34m,\u001b[0m \u001b[0mY\u001b[0m\u001b[0;34m:\u001b[0m \u001b[0mOptional\u001b[0m\u001b[0;34m[\u001b[0m\u001b[0mOutT\u001b[0m\u001b[0;34m]\u001b[0m \u001b[0;34m=\u001b[0m \u001b[0;32mNone\u001b[0m\u001b[0;34m)\u001b[0m \u001b[0;34m->\u001b[0m \u001b[0;34m\"Model\"\u001b[0m\u001b[0;34m:\u001b[0m\u001b[0;34m\u001b[0m\u001b[0;34m\u001b[0m\u001b[0m\n",
            "\u001b[0;32m/usr/local/lib/python3.10/dist-packages/thinc/layers/chain.py\u001b[0m in \u001b[0;36mforward\u001b[0;34m(model, X, is_train)\u001b[0m\n\u001b[1;32m     53\u001b[0m     \u001b[0mcallbacks\u001b[0m \u001b[0;34m=\u001b[0m \u001b[0;34m[\u001b[0m\u001b[0;34m]\u001b[0m\u001b[0;34m\u001b[0m\u001b[0;34m\u001b[0m\u001b[0m\n\u001b[1;32m     54\u001b[0m     \u001b[0;32mfor\u001b[0m \u001b[0mlayer\u001b[0m \u001b[0;32min\u001b[0m \u001b[0mmodel\u001b[0m\u001b[0;34m.\u001b[0m\u001b[0mlayers\u001b[0m\u001b[0;34m:\u001b[0m\u001b[0;34m\u001b[0m\u001b[0;34m\u001b[0m\u001b[0m\n\u001b[0;32m---> 55\u001b[0;31m         \u001b[0mY\u001b[0m\u001b[0;34m,\u001b[0m \u001b[0minc_layer_grad\u001b[0m \u001b[0;34m=\u001b[0m \u001b[0mlayer\u001b[0m\u001b[0;34m(\u001b[0m\u001b[0mX\u001b[0m\u001b[0;34m,\u001b[0m \u001b[0mis_train\u001b[0m\u001b[0;34m=\u001b[0m\u001b[0mis_train\u001b[0m\u001b[0;34m)\u001b[0m\u001b[0;34m\u001b[0m\u001b[0;34m\u001b[0m\u001b[0m\n\u001b[0m\u001b[1;32m     56\u001b[0m         \u001b[0mcallbacks\u001b[0m\u001b[0;34m.\u001b[0m\u001b[0mappend\u001b[0m\u001b[0;34m(\u001b[0m\u001b[0minc_layer_grad\u001b[0m\u001b[0;34m)\u001b[0m\u001b[0;34m\u001b[0m\u001b[0;34m\u001b[0m\u001b[0m\n\u001b[1;32m     57\u001b[0m         \u001b[0mX\u001b[0m \u001b[0;34m=\u001b[0m \u001b[0mY\u001b[0m\u001b[0;34m\u001b[0m\u001b[0;34m\u001b[0m\u001b[0m\n",
            "\u001b[0;32m/usr/local/lib/python3.10/dist-packages/thinc/model.py\u001b[0m in \u001b[0;36m__call__\u001b[0;34m(self, X, is_train)\u001b[0m\n\u001b[1;32m    289\u001b[0m         \"\"\"Call the model's `forward` function, returning the output and a\n\u001b[1;32m    290\u001b[0m         callback to compute the gradients via backpropagation.\"\"\"\n\u001b[0;32m--> 291\u001b[0;31m         \u001b[0;32mreturn\u001b[0m \u001b[0mself\u001b[0m\u001b[0;34m.\u001b[0m\u001b[0m_func\u001b[0m\u001b[0;34m(\u001b[0m\u001b[0mself\u001b[0m\u001b[0;34m,\u001b[0m \u001b[0mX\u001b[0m\u001b[0;34m,\u001b[0m \u001b[0mis_train\u001b[0m\u001b[0;34m=\u001b[0m\u001b[0mis_train\u001b[0m\u001b[0;34m)\u001b[0m\u001b[0;34m\u001b[0m\u001b[0;34m\u001b[0m\u001b[0m\n\u001b[0m\u001b[1;32m    292\u001b[0m \u001b[0;34m\u001b[0m\u001b[0m\n\u001b[1;32m    293\u001b[0m     \u001b[0;32mdef\u001b[0m \u001b[0minitialize\u001b[0m\u001b[0;34m(\u001b[0m\u001b[0mself\u001b[0m\u001b[0;34m,\u001b[0m \u001b[0mX\u001b[0m\u001b[0;34m:\u001b[0m \u001b[0mOptional\u001b[0m\u001b[0;34m[\u001b[0m\u001b[0mInT\u001b[0m\u001b[0;34m]\u001b[0m \u001b[0;34m=\u001b[0m \u001b[0;32mNone\u001b[0m\u001b[0;34m,\u001b[0m \u001b[0mY\u001b[0m\u001b[0;34m:\u001b[0m \u001b[0mOptional\u001b[0m\u001b[0;34m[\u001b[0m\u001b[0mOutT\u001b[0m\u001b[0;34m]\u001b[0m \u001b[0;34m=\u001b[0m \u001b[0;32mNone\u001b[0m\u001b[0;34m)\u001b[0m \u001b[0;34m->\u001b[0m \u001b[0;34m\"Model\"\u001b[0m\u001b[0;34m:\u001b[0m\u001b[0;34m\u001b[0m\u001b[0;34m\u001b[0m\u001b[0m\n",
            "\u001b[0;32m/usr/local/lib/python3.10/dist-packages/thinc/layers/chain.py\u001b[0m in \u001b[0;36mforward\u001b[0;34m(model, X, is_train)\u001b[0m\n\u001b[1;32m     53\u001b[0m     \u001b[0mcallbacks\u001b[0m \u001b[0;34m=\u001b[0m \u001b[0;34m[\u001b[0m\u001b[0;34m]\u001b[0m\u001b[0;34m\u001b[0m\u001b[0;34m\u001b[0m\u001b[0m\n\u001b[1;32m     54\u001b[0m     \u001b[0;32mfor\u001b[0m \u001b[0mlayer\u001b[0m \u001b[0;32min\u001b[0m \u001b[0mmodel\u001b[0m\u001b[0;34m.\u001b[0m\u001b[0mlayers\u001b[0m\u001b[0;34m:\u001b[0m\u001b[0;34m\u001b[0m\u001b[0;34m\u001b[0m\u001b[0m\n\u001b[0;32m---> 55\u001b[0;31m         \u001b[0mY\u001b[0m\u001b[0;34m,\u001b[0m \u001b[0minc_layer_grad\u001b[0m \u001b[0;34m=\u001b[0m \u001b[0mlayer\u001b[0m\u001b[0;34m(\u001b[0m\u001b[0mX\u001b[0m\u001b[0;34m,\u001b[0m \u001b[0mis_train\u001b[0m\u001b[0;34m=\u001b[0m\u001b[0mis_train\u001b[0m\u001b[0;34m)\u001b[0m\u001b[0;34m\u001b[0m\u001b[0;34m\u001b[0m\u001b[0m\n\u001b[0m\u001b[1;32m     56\u001b[0m         \u001b[0mcallbacks\u001b[0m\u001b[0;34m.\u001b[0m\u001b[0mappend\u001b[0m\u001b[0;34m(\u001b[0m\u001b[0minc_layer_grad\u001b[0m\u001b[0;34m)\u001b[0m\u001b[0;34m\u001b[0m\u001b[0;34m\u001b[0m\u001b[0m\n\u001b[1;32m     57\u001b[0m         \u001b[0mX\u001b[0m \u001b[0;34m=\u001b[0m \u001b[0mY\u001b[0m\u001b[0;34m\u001b[0m\u001b[0;34m\u001b[0m\u001b[0m\n",
            "\u001b[0;32m/usr/local/lib/python3.10/dist-packages/thinc/model.py\u001b[0m in \u001b[0;36m__call__\u001b[0;34m(self, X, is_train)\u001b[0m\n\u001b[1;32m    289\u001b[0m         \"\"\"Call the model's `forward` function, returning the output and a\n\u001b[1;32m    290\u001b[0m         callback to compute the gradients via backpropagation.\"\"\"\n\u001b[0;32m--> 291\u001b[0;31m         \u001b[0;32mreturn\u001b[0m \u001b[0mself\u001b[0m\u001b[0;34m.\u001b[0m\u001b[0m_func\u001b[0m\u001b[0;34m(\u001b[0m\u001b[0mself\u001b[0m\u001b[0;34m,\u001b[0m \u001b[0mX\u001b[0m\u001b[0;34m,\u001b[0m \u001b[0mis_train\u001b[0m\u001b[0;34m=\u001b[0m\u001b[0mis_train\u001b[0m\u001b[0;34m)\u001b[0m\u001b[0;34m\u001b[0m\u001b[0;34m\u001b[0m\u001b[0m\n\u001b[0m\u001b[1;32m    292\u001b[0m \u001b[0;34m\u001b[0m\u001b[0m\n\u001b[1;32m    293\u001b[0m     \u001b[0;32mdef\u001b[0m \u001b[0minitialize\u001b[0m\u001b[0;34m(\u001b[0m\u001b[0mself\u001b[0m\u001b[0;34m,\u001b[0m \u001b[0mX\u001b[0m\u001b[0;34m:\u001b[0m \u001b[0mOptional\u001b[0m\u001b[0;34m[\u001b[0m\u001b[0mInT\u001b[0m\u001b[0;34m]\u001b[0m \u001b[0;34m=\u001b[0m \u001b[0;32mNone\u001b[0m\u001b[0;34m,\u001b[0m \u001b[0mY\u001b[0m\u001b[0;34m:\u001b[0m \u001b[0mOptional\u001b[0m\u001b[0;34m[\u001b[0m\u001b[0mOutT\u001b[0m\u001b[0;34m]\u001b[0m \u001b[0;34m=\u001b[0m \u001b[0;32mNone\u001b[0m\u001b[0;34m)\u001b[0m \u001b[0;34m->\u001b[0m \u001b[0;34m\"Model\"\u001b[0m\u001b[0;34m:\u001b[0m\u001b[0;34m\u001b[0m\u001b[0;34m\u001b[0m\u001b[0m\n",
            "\u001b[0;32m/usr/local/lib/python3.10/dist-packages/thinc/layers/chain.py\u001b[0m in \u001b[0;36mforward\u001b[0;34m(model, X, is_train)\u001b[0m\n\u001b[1;32m     53\u001b[0m     \u001b[0mcallbacks\u001b[0m \u001b[0;34m=\u001b[0m \u001b[0;34m[\u001b[0m\u001b[0;34m]\u001b[0m\u001b[0;34m\u001b[0m\u001b[0;34m\u001b[0m\u001b[0m\n\u001b[1;32m     54\u001b[0m     \u001b[0;32mfor\u001b[0m \u001b[0mlayer\u001b[0m \u001b[0;32min\u001b[0m \u001b[0mmodel\u001b[0m\u001b[0;34m.\u001b[0m\u001b[0mlayers\u001b[0m\u001b[0;34m:\u001b[0m\u001b[0;34m\u001b[0m\u001b[0;34m\u001b[0m\u001b[0m\n\u001b[0;32m---> 55\u001b[0;31m         \u001b[0mY\u001b[0m\u001b[0;34m,\u001b[0m \u001b[0minc_layer_grad\u001b[0m \u001b[0;34m=\u001b[0m \u001b[0mlayer\u001b[0m\u001b[0;34m(\u001b[0m\u001b[0mX\u001b[0m\u001b[0;34m,\u001b[0m \u001b[0mis_train\u001b[0m\u001b[0;34m=\u001b[0m\u001b[0mis_train\u001b[0m\u001b[0;34m)\u001b[0m\u001b[0;34m\u001b[0m\u001b[0;34m\u001b[0m\u001b[0m\n\u001b[0m\u001b[1;32m     56\u001b[0m         \u001b[0mcallbacks\u001b[0m\u001b[0;34m.\u001b[0m\u001b[0mappend\u001b[0m\u001b[0;34m(\u001b[0m\u001b[0minc_layer_grad\u001b[0m\u001b[0;34m)\u001b[0m\u001b[0;34m\u001b[0m\u001b[0;34m\u001b[0m\u001b[0m\n\u001b[1;32m     57\u001b[0m         \u001b[0mX\u001b[0m \u001b[0;34m=\u001b[0m \u001b[0mY\u001b[0m\u001b[0;34m\u001b[0m\u001b[0;34m\u001b[0m\u001b[0m\n",
            "\u001b[0;32m/usr/local/lib/python3.10/dist-packages/thinc/model.py\u001b[0m in \u001b[0;36m__call__\u001b[0;34m(self, X, is_train)\u001b[0m\n\u001b[1;32m    289\u001b[0m         \"\"\"Call the model's `forward` function, returning the output and a\n\u001b[1;32m    290\u001b[0m         callback to compute the gradients via backpropagation.\"\"\"\n\u001b[0;32m--> 291\u001b[0;31m         \u001b[0;32mreturn\u001b[0m \u001b[0mself\u001b[0m\u001b[0;34m.\u001b[0m\u001b[0m_func\u001b[0m\u001b[0;34m(\u001b[0m\u001b[0mself\u001b[0m\u001b[0;34m,\u001b[0m \u001b[0mX\u001b[0m\u001b[0;34m,\u001b[0m \u001b[0mis_train\u001b[0m\u001b[0;34m=\u001b[0m\u001b[0mis_train\u001b[0m\u001b[0;34m)\u001b[0m\u001b[0;34m\u001b[0m\u001b[0;34m\u001b[0m\u001b[0m\n\u001b[0m\u001b[1;32m    292\u001b[0m \u001b[0;34m\u001b[0m\u001b[0m\n\u001b[1;32m    293\u001b[0m     \u001b[0;32mdef\u001b[0m \u001b[0minitialize\u001b[0m\u001b[0;34m(\u001b[0m\u001b[0mself\u001b[0m\u001b[0;34m,\u001b[0m \u001b[0mX\u001b[0m\u001b[0;34m:\u001b[0m \u001b[0mOptional\u001b[0m\u001b[0;34m[\u001b[0m\u001b[0mInT\u001b[0m\u001b[0;34m]\u001b[0m \u001b[0;34m=\u001b[0m \u001b[0;32mNone\u001b[0m\u001b[0;34m,\u001b[0m \u001b[0mY\u001b[0m\u001b[0;34m:\u001b[0m \u001b[0mOptional\u001b[0m\u001b[0;34m[\u001b[0m\u001b[0mOutT\u001b[0m\u001b[0;34m]\u001b[0m \u001b[0;34m=\u001b[0m \u001b[0;32mNone\u001b[0m\u001b[0;34m)\u001b[0m \u001b[0;34m->\u001b[0m \u001b[0;34m\"Model\"\u001b[0m\u001b[0;34m:\u001b[0m\u001b[0;34m\u001b[0m\u001b[0;34m\u001b[0m\u001b[0m\n",
            "\u001b[0;32m/usr/local/lib/python3.10/dist-packages/thinc/layers/maxout.py\u001b[0m in \u001b[0;36mforward\u001b[0;34m(model, X, is_train)\u001b[0m\n\u001b[1;32m     54\u001b[0m     \u001b[0mY\u001b[0m \u001b[0;34m+=\u001b[0m \u001b[0mmodel\u001b[0m\u001b[0;34m.\u001b[0m\u001b[0mops\u001b[0m\u001b[0;34m.\u001b[0m\u001b[0mreshape1f\u001b[0m\u001b[0;34m(\u001b[0m\u001b[0mb\u001b[0m\u001b[0;34m,\u001b[0m \u001b[0mnO\u001b[0m \u001b[0;34m*\u001b[0m \u001b[0mnP\u001b[0m\u001b[0;34m)\u001b[0m\u001b[0;34m\u001b[0m\u001b[0;34m\u001b[0m\u001b[0m\n\u001b[1;32m     55\u001b[0m     \u001b[0mZ\u001b[0m \u001b[0;34m=\u001b[0m \u001b[0mmodel\u001b[0m\u001b[0;34m.\u001b[0m\u001b[0mops\u001b[0m\u001b[0;34m.\u001b[0m\u001b[0mreshape3f\u001b[0m\u001b[0;34m(\u001b[0m\u001b[0mY\u001b[0m\u001b[0;34m,\u001b[0m \u001b[0mY\u001b[0m\u001b[0;34m.\u001b[0m\u001b[0mshape\u001b[0m\u001b[0;34m[\u001b[0m\u001b[0;36m0\u001b[0m\u001b[0;34m]\u001b[0m\u001b[0;34m,\u001b[0m \u001b[0mnO\u001b[0m\u001b[0;34m,\u001b[0m \u001b[0mnP\u001b[0m\u001b[0;34m)\u001b[0m\u001b[0;34m\u001b[0m\u001b[0;34m\u001b[0m\u001b[0m\n\u001b[0;32m---> 56\u001b[0;31m     \u001b[0mbest\u001b[0m\u001b[0;34m,\u001b[0m \u001b[0mwhich\u001b[0m \u001b[0;34m=\u001b[0m \u001b[0mmodel\u001b[0m\u001b[0;34m.\u001b[0m\u001b[0mops\u001b[0m\u001b[0;34m.\u001b[0m\u001b[0mmaxout\u001b[0m\u001b[0;34m(\u001b[0m\u001b[0mZ\u001b[0m\u001b[0;34m)\u001b[0m\u001b[0;34m\u001b[0m\u001b[0;34m\u001b[0m\u001b[0m\n\u001b[0m\u001b[1;32m     57\u001b[0m \u001b[0;34m\u001b[0m\u001b[0m\n\u001b[1;32m     58\u001b[0m     \u001b[0;32mdef\u001b[0m \u001b[0mbackprop\u001b[0m\u001b[0;34m(\u001b[0m\u001b[0md_best\u001b[0m\u001b[0;34m:\u001b[0m \u001b[0mOutT\u001b[0m\u001b[0;34m)\u001b[0m \u001b[0;34m->\u001b[0m \u001b[0mInT\u001b[0m\u001b[0;34m:\u001b[0m\u001b[0;34m\u001b[0m\u001b[0;34m\u001b[0m\u001b[0m\n",
            "\u001b[0;31mKeyboardInterrupt\u001b[0m: "
          ]
        }
      ],
      "source": [
        "dadosTratados = pipeline(df['texto'])\n",
        "dadosTratados"
      ]
    },
    {
      "attachments": {},
      "cell_type": "markdown",
      "metadata": {
        "id": "RGq9lC2eLvRh"
      },
      "source": [
        "Também foi criada a váriavel \"dadosTratados\", que pode ser utilizada posteriormente para visualizar o resultado de essa pipeline."
      ]
    },
    {
      "cell_type": "code",
      "execution_count": null,
      "metadata": {
        "id": "JVh_ARGnajHn"
      },
      "outputs": [],
      "source": [
        "df['texto'] = dadosTratados\n",
        "df.dropna(subset=['texto'], inplace=True)\n",
        "df.reset_index(drop=True, inplace=True)\n",
        "df"
      ]
    },
    {
      "attachments": {},
      "cell_type": "markdown",
      "metadata": {
        "id": "4Asa0FIoQk-C"
      },
      "source": [
        "#### 3.10.2 Exportando pré processamento"
      ]
    },
    {
      "attachments": {},
      "cell_type": "markdown",
      "metadata": {
        "id": "19we9ytg_5RS"
      },
      "source": [
        "OS códigos abaixo estão sendo comentados com o objetivo de acelerar o processamento total do código."
      ]
    },
    {
      "cell_type": "code",
      "execution_count": null,
      "metadata": {
        "id": "QuXsZ7NeQtow"
      },
      "outputs": [],
      "source": [
        "# dfTratado = pd.DataFrame({'texto': dadosTratados, 'targetSentimento': df['targetSentimento']})\n",
        "# dfTratado"
      ]
    },
    {
      "cell_type": "code",
      "execution_count": null,
      "metadata": {
        "id": "m4cB09f3Rzy_"
      },
      "outputs": [],
      "source": [
        "# dfTratado.to_csv('resultadoTratamento.csv', index=False)"
      ]
    },
    {
      "attachments": {},
      "cell_type": "markdown",
      "metadata": {
        "id": "-ldg79l0bbbS"
      },
      "source": [
        "##4.0 Vetorização com Bag of words"
      ]
    },
    {
      "attachments": {},
      "cell_type": "markdown",
      "metadata": {
        "id": "9NfxQfqwZPD1"
      },
      "source": [
        "A vetorização com Bag of Words (BOW) é um método que transforma texto em formato numérico. Sua ideia principal é converter um conjunto de documentos em uma representação vetorial, onde cada vetor é uma palavra e sua frequência no texto."
      ]
    },
    {
      "attachments": {},
      "cell_type": "markdown",
      "metadata": {
        "id": "ihwBPKd71mH3"
      },
      "source": [
        "### 4.1 Setup do modelo"
      ]
    },
    {
      "cell_type": "code",
      "execution_count": null,
      "metadata": {
        "id": "rEC3Zc7j1vJd"
      },
      "outputs": [],
      "source": [
        "#importação de bibliotecas\n",
        "#importação de keras, para execução do modelo e criação do dicionario\n",
        "from keras.preprocessing.text import Tokenizer"
      ]
    },
    {
      "attachments": {},
      "cell_type": "markdown",
      "metadata": {
        "id": "is3yvOVb408S"
      },
      "source": [
        "#### 4.1.1 Definição de funções\n"
      ]
    },
    {
      "attachments": {},
      "cell_type": "markdown",
      "metadata": {
        "id": "z-tfwtrI408T"
      },
      "source": [
        "função para criação dos vetores:\n"
      ]
    },
    {
      "cell_type": "code",
      "execution_count": null,
      "metadata": {
        "id": "B4ggs2ya4-HT"
      },
      "outputs": [],
      "source": [
        "#função para chamar o modelo de bag of words, e salvar um vetor de recorrencia.\n",
        "def bagOfWords(tokens,comentarios):\n",
        "  salvar = tokens.texts_to_matrix(comentarios, mode='count')\n",
        "  return salvar"
      ]
    },
    {
      "attachments": {},
      "cell_type": "markdown",
      "metadata": {
        "id": "ztddFNQf408S"
      },
      "source": [
        "###4.2 Execução do modelo\n"
      ]
    },
    {
      "attachments": {},
      "cell_type": "markdown",
      "metadata": {
        "id": "IzYrieC-408T"
      },
      "source": [
        "##### 4.2.1 Teste do modelo de bag of words"
      ]
    },
    {
      "attachments": {},
      "cell_type": "markdown",
      "metadata": {
        "id": "2vcKCLX4PABI"
      },
      "source": [
        "Nesse momento é chamada a função bag of words para realização do teste da função."
      ]
    },
    {
      "cell_type": "code",
      "execution_count": null,
      "metadata": {
        "id": "SmOpT0KS8a5M"
      },
      "outputs": [],
      "source": [
        "# bagOfWords(tokenizacaoPalavra(df['texto']),df['texto'])"
      ]
    },
    {
      "attachments": {},
      "cell_type": "markdown",
      "metadata": {
        "id": "HJJM1ZTtOagc"
      },
      "source": [
        "Como é possível visualizar pelo resultado, com o modelo, conseguimos obter como retorno uma matriz com o número de repetições de cada palavra presente no dicionário."
      ]
    },
    {
      "attachments": {},
      "cell_type": "markdown",
      "metadata": {
        "id": "3BHFLPIFAPbj"
      },
      "source": [
        "###4.3 Modelo Bag of Words"
      ]
    },
    {
      "attachments": {},
      "cell_type": "markdown",
      "metadata": {
        "id": "38goe6hZThRF"
      },
      "source": [
        "A técnica de \"bag of words\" identifica e classifica a frequência e ocorrência de \"words\" (palavras ou elementos) em cada \"bag\" ou \"bolsa\", que representa o conjunto do banco de dados utilizado."
      ]
    },
    {
      "attachments": {},
      "cell_type": "markdown",
      "metadata": {
        "id": "SZBPVlSfvuwu"
      },
      "source": [
        "Abaixo é possível ver a função que define a pipeline que será utilizada no modelo, com todos os pré-processamentos realizados e o modelo BOW aplicado para gerar um dicionário e um vetor."
      ]
    },
    {
      "cell_type": "code",
      "execution_count": null,
      "metadata": {
        "id": "74sPwqnuAS7r"
      },
      "outputs": [],
      "source": [
        "def modeloBow(dados):\n",
        "  #Recebe os dados a ser realizado o BOW\n",
        "  dadosTratados = pipeline(dados)\n",
        "  #cria um novo df a ser tratado\n",
        "  dadosT =  pd.DataFrame({'dadosBow': dadosTratados})\n",
        "  #tokenização/geração de dicionario\n",
        "  dicionario = tokenizacaoPalavra(dadosT['dadosBow'])\n",
        "  # chamando o modelo de bag of words, usando dados_t e o dicionario criado com a tokenização\n",
        "  modelo = (bagOfWords(dicionario,dadosT['dadosBow']))\n",
        "  return modelo,dicionario"
      ]
    },
    {
      "attachments": {},
      "cell_type": "markdown",
      "metadata": {
        "id": "fl5mwE2K0Qtq"
      },
      "source": [
        "Abaixo é possível ver o resultado da execução da função pipeline:"
      ]
    },
    {
      "cell_type": "code",
      "execution_count": null,
      "metadata": {
        "id": "WpJUNuhEbCAQ"
      },
      "outputs": [],
      "source": [
        "#execução do modelo, e salvamento de variaveis\n",
        "vetor,dicionario = (modeloBow(pipeline(df['texto'])))\n",
        "dicionario = list(dicionario.word_index.keys())\n",
        "print(dicionario)\n",
        "print(vetor)"
      ]
    },
    {
      "attachments": {},
      "cell_type": "markdown",
      "metadata": {
        "id": "lcrXY9o89bNg"
      },
      "source": [
        "#### 4.3.1 Criação de dataframe com resultado final"
      ]
    },
    {
      "attachments": {},
      "cell_type": "markdown",
      "metadata": {
        "id": "SayKYNkDyRoM"
      },
      "source": [
        "Nesse dataframe encontra-se o resultado obtido após a execução da função pipeline."
      ]
    },
    {
      "cell_type": "code",
      "execution_count": null,
      "metadata": {
        "id": "BRPOsLKK9gSr"
      },
      "outputs": [],
      "source": [
        "#adequação do vetor                                                                                                               #adequando o tamanho do vetor\n",
        "vetorTabela = vetor[:, 1:]\n",
        "#criando data frame\n",
        "dfBagOfWords = pd.DataFrame(vetorTabela, columns=dicionario, index=dadosTratados)\n",
        "dfBagOfWords"
      ]
    },
    {
      "attachments": {},
      "cell_type": "markdown",
      "metadata": {
        "id": "5tAPjt6tqQgv"
      },
      "source": [
        "#### 4.3.2 Exportação do resultado"
      ]
    },
    {
      "attachments": {},
      "cell_type": "markdown",
      "metadata": {
        "id": "LHfPmzqZqdR8"
      },
      "source": [
        "Abaixo, é possível ver a geração de um arquivo csv, com o resultado do modelo:"
      ]
    },
    {
      "cell_type": "code",
      "execution_count": null,
      "metadata": {
        "id": "x2xonxwrqa1a"
      },
      "outputs": [],
      "source": [
        "#Criação de csv com resultado do modelo\n",
        "dfBagOfWords.to_csv('resultadoBOW.csv', index=False)"
      ]
    },
    {
      "attachments": {},
      "cell_type": "markdown",
      "metadata": {
        "id": "6eiF27pNmMSB"
      },
      "source": [
        "### 4.4 Representação visual"
      ]
    },
    {
      "attachments": {},
      "cell_type": "markdown",
      "metadata": {
        "id": "R_1_Kgrgo3b1"
      },
      "source": [
        "##### 4.4.1 Tabela de frequência"
      ]
    },
    {
      "attachments": {},
      "cell_type": "markdown",
      "metadata": {
        "id": "jizhSpNU4LxC"
      },
      "source": [
        "Definição de função para contar quantas vezes cada palavra se repetiu."
      ]
    },
    {
      "cell_type": "code",
      "execution_count": null,
      "metadata": {
        "id": "Y_uRXGHi-E3m"
      },
      "outputs": [],
      "source": [
        "#código para gerar a matriz de repetição das palavras\n",
        "def contarPalavras(dicionario, matriz):\n",
        "    dicionario = [''] + dicionario\n",
        "    contagemPalavras = [0] * len(dicionario)\n",
        "    for i, palavra in enumerate(dicionario):\n",
        "        for j in range(len(matriz)):\n",
        "            contagemPalavras[i] += matriz[j][i]\n",
        "    contagemDf = pd.DataFrame({'palavra': dicionario, 'repetição': contagemPalavras})\n",
        "    return contagemDf.iloc[1:]"
      ]
    },
    {
      "attachments": {},
      "cell_type": "markdown",
      "metadata": {
        "id": "qPiwacrA4e-o"
      },
      "source": [
        "Chamando a função para \"contarPalavras\", para gerar uma tabela"
      ]
    },
    {
      "cell_type": "code",
      "execution_count": null,
      "metadata": {
        "id": "GSAAY367EgAW"
      },
      "outputs": [],
      "source": [
        "tabela = contarPalavras(dicionario, vetor)"
      ]
    },
    {
      "attachments": {},
      "cell_type": "markdown",
      "metadata": {
        "id": "OMaSVvIs4qyK"
      },
      "source": [
        "Abaixo é possível visualizar quantas vezes cada palavra estava presente nos comentários fornecidos."
      ]
    },
    {
      "cell_type": "code",
      "execution_count": null,
      "metadata": {
        "id": "Bi7bCszhF3B9"
      },
      "outputs": [],
      "source": [
        "tabela.head(10)"
      ]
    },
    {
      "attachments": {},
      "cell_type": "markdown",
      "metadata": {
        "id": "XNd7hriGo95i"
      },
      "source": [
        "##### 4.4.2 Núvem de palavras"
      ]
    },
    {
      "attachments": {},
      "cell_type": "markdown",
      "metadata": {
        "id": "X57SFEXTw7Yz"
      },
      "source": [
        "A nuvem de palavras foi utilizada como representação visual das palavras mais relevantes dos comentários analisados, nela o tamanho de cada palavra é proporcional à frequência em que ele aparece. Ela contribui com modelo de bow ao destacar os termos-chave e a resumir rapidamente o conteúdo mais expressivo dos comentários."
      ]
    },
    {
      "attachments": {},
      "cell_type": "markdown",
      "metadata": {
        "id": "-oSvYGqmxIuY"
      },
      "source": [
        "##### 4.4.2.1 setup"
      ]
    },
    {
      "cell_type": "code",
      "execution_count": null,
      "metadata": {
        "id": "sttKWefhxQYc"
      },
      "outputs": [],
      "source": [
        "#bibliotecas utilizadas\n",
        "from wordcloud import WordCloud\n",
        "import matplotlib.pyplot as plt"
      ]
    },
    {
      "attachments": {},
      "cell_type": "markdown",
      "metadata": {
        "id": "GCt_yFL2xXa1"
      },
      "source": [
        "##### 4.4.2.2 Definição da função"
      ]
    },
    {
      "attachments": {},
      "cell_type": "markdown",
      "metadata": {
        "id": "It6VqV9qxtFM"
      },
      "source": [
        "Definindo função que ira gerar a nuvem de palavras"
      ]
    },
    {
      "cell_type": "code",
      "execution_count": null,
      "metadata": {
        "id": "sgbRXgeRmMSE"
      },
      "outputs": [],
      "source": [
        "#definição da função\n",
        "def gerarNuvemPalavras(matrizRec, vocabulario):\n",
        "    # Cria um dicionário com as palavras do vocabulário e suas frequências na matriz de recorrência\n",
        "    freqPalavras = dict(zip(vocabulario, matrizRec.sum(axis=0)))\n",
        "\n",
        "    # Cria uma instância da classe WordCloud com as configurações desejadas\n",
        "    nuvemPalavras = WordCloud(width=8000, height=4000, background_color='white', colormap='viridis')\n",
        "\n",
        "    # Gera a nuvem de palavras a partir do dicionário de frequências\n",
        "    nuvemPalavras.generate_from_frequencies(freqPalavras)\n",
        "\n",
        "    # Exibe a nuvem de palavras\n",
        "    plt.figure(figsize=(12,6))\n",
        "    plt.imshow(nuvemPalavras, interpolation='bilinear')\n",
        "    plt.axis('off')\n",
        "    plt.show()"
      ]
    },
    {
      "attachments": {},
      "cell_type": "markdown",
      "metadata": {
        "id": "Y_aiBJhAxd_Y"
      },
      "source": [
        "##### 4.4.2.4 Visualização"
      ]
    },
    {
      "attachments": {},
      "cell_type": "markdown",
      "metadata": {
        "id": "Qn36m-cNxpjL"
      },
      "source": [
        "Abaixo e possivel visualizar a nuvem de palavras:"
      ]
    },
    {
      "cell_type": "code",
      "execution_count": null,
      "metadata": {
        "id": "dR1KF075mMSF"
      },
      "outputs": [],
      "source": [
        "gerarNuvemPalavras(vetor, dicionario)"
      ]
    },
    {
      "attachments": {},
      "cell_type": "markdown",
      "metadata": {
        "id": "4nhw22t9-_t2"
      },
      "source": [
        "## 5.0 Vetorização com Word2vec pré-treinado"
      ]
    },
    {
      "attachments": {},
      "cell_type": "markdown",
      "metadata": {
        "id": "2P8NeHOEGCeA"
      },
      "source": [
        "O Word2Vec é um modelo utilizado para aprender representações distribuídas de palavras. Ele mapeia palavras em vetores contínuos de valores reais em um espaço vetorial de alta dimensão, onde palavras semanticamente similares são mapeadas para regiões próximas.\n",
        "\n",
        "\n",
        "Esse modelo é pré-treinado em um grande corpus de textos com o objetivo de capturar a semântica distribucional das palavras. O treinamento permite que palavras com significados semelhantes possam ser representadas de modo próximo no espaço vetorial.\n",
        "\n",
        "A utilização de vetores de palavras pré-treinados com o Word2Vec traz benefícios, pois aproveita o conhecimento prévio adquirido durante o treinamento em um corpus amplo. Isso é especialmente útil quando temos um conjunto de dados limitado para treinar um modelo do zero.\n",
        "\n",
        "Referências:\n",
        "[Estudo Comparativo dos Métodos de Word Embedding na\n",
        "Análise de Sentimentos](https://www.cin.ufpe.br/~tg/2018-2/TG_CC/tg_mhc.pdf)"
      ]
    },
    {
      "attachments": {},
      "cell_type": "markdown",
      "metadata": {
        "id": "FLimHLeKDoS3"
      },
      "source": [
        "### 5.1 Setup do modelo"
      ]
    },
    {
      "cell_type": "code",
      "execution_count": null,
      "metadata": {
        "id": "CvtZsHr1AQAW"
      },
      "outputs": [],
      "source": [
        "#setup\n",
        "import gensim\n",
        "from scipy.spatial.distance import cosine\n",
        "from gensim.models import KeyedVectors"
      ]
    },
    {
      "cell_type": "code",
      "execution_count": null,
      "metadata": {
        "id": "RDxTkm0A_T9g"
      },
      "outputs": [],
      "source": [
        "#Carregando o modelo\n",
        "modelo_cbow = KeyedVectors.load_word2vec_format(\"/content/drive/MyDrive/Modulo_6_grupo_1/cbow_s50.txt\")"
      ]
    },
    {
      "attachments": {},
      "cell_type": "markdown",
      "metadata": {
        "id": "vqbfSexYDdku"
      },
      "source": [
        "### 5.2 Definição de funções"
      ]
    },
    {
      "cell_type": "code",
      "execution_count": null,
      "metadata": {
        "id": "KWplLW_gA_JJ"
      },
      "outputs": [],
      "source": [
        "def word2Vec(coluna):\n",
        "# lista que armazena os vetores resultantes de todas as frases\n",
        "  x = []\n",
        "  for i in range(0,len(coluna)):\n",
        "# lista que armazena os vetores das palavras de cada frase\n",
        "    vetor = []\n",
        "    for h in range(0,len(coluna[i])):\n",
        "      vetor.append(modelo_cbow[h])\n",
        "# soma dos vetores de todas as palavras\n",
        "    x.append(list(map(sum, zip(*vetor))))\n",
        "    vetor=[]\n",
        "  print(x)\n",
        "  return x"
      ]
    },
    {
      "attachments": {},
      "cell_type": "markdown",
      "metadata": {
        "id": "6zkUYC9tElZS"
      },
      "source": [
        "### 5.3 Testes das funções"
      ]
    },
    {
      "cell_type": "code",
      "execution_count": null,
      "metadata": {
        "id": "qLdvFwVQJOYr"
      },
      "outputs": [],
      "source": [
        "# chama a função Word2Vec para testá-la\n",
        "testeword2Vec = word2Vec(df['texto'].apply(tokenizar))\n",
        "#criação de um Dataframe para visualizar o resultado\n",
        "dfTesteword2Vec = pd.DataFrame(testeword2Vec)\n",
        "dfTesteword2Vec"
      ]
    },
    {
      "attachments": {},
      "cell_type": "markdown",
      "metadata": {
        "id": "3xg3bw7LNZoq"
      },
      "source": [
        "### 5.4 Teste isolado"
      ]
    },
    {
      "attachments": {},
      "cell_type": "markdown",
      "metadata": {
        "id": "9LJXHKx5NZoq"
      },
      "source": [
        "Esses teste tem como objetivo comprovar que os vetores estão sendo corretamente somados"
      ]
    },
    {
      "attachments": {},
      "cell_type": "markdown",
      "metadata": {
        "id": "Hperzg5hNZor"
      },
      "source": [
        "O codigo abaixo ainda não soma os vetores de cada palvra da frase"
      ]
    },
    {
      "cell_type": "code",
      "execution_count": null,
      "metadata": {
        "id": "0PAEXyPJNZor"
      },
      "outputs": [],
      "source": [
        "#teste que converte palavras em vetores e retorna uma lista de vetores resultantes\n",
        "def word2Vecteste(coluna):\n",
        "#armazena os vetores resultantes\n",
        "  x = []\n",
        "  for i in range(0,len(coluna)):\n",
        "    vetor = []\n",
        "#armazena todos os vetores de todas as palavras\n",
        "    for h in range(0,len(coluna[i])):\n",
        "      vetor.append(modelo_cbow[h])\n",
        "    x.append(vetor)\n",
        "    vetor=[]\n",
        "  print(x)\n",
        "  return x"
      ]
    },
    {
      "attachments": {},
      "cell_type": "markdown",
      "metadata": {
        "id": "QeM6An48NZor"
      },
      "source": [
        "Abaixo esta sendo executado o teste da função"
      ]
    },
    {
      "cell_type": "code",
      "execution_count": null,
      "metadata": {
        "id": "JohOWluUNZor"
      },
      "outputs": [],
      "source": [
        "# gera os vetores das 10 primeiras frases\n",
        "testeSoma = word2Vecteste(df['texto'].apply(tokenizar).head(10))\n",
        "#criação de um dataframe para retornar o valor do 'testeSoma' que contém a lista de vetores resultantes\n",
        "dftesteSoma = pd.DataFrame(testeSoma)\n",
        "testeSoma"
      ]
    },
    {
      "attachments": {},
      "cell_type": "markdown",
      "metadata": {
        "id": "E0416A8mNZos"
      },
      "source": [
        "#### Comprovação"
      ]
    },
    {
      "attachments": {},
      "cell_type": "markdown",
      "metadata": {
        "id": "ff-y2nw1NZos"
      },
      "source": [
        "Abaixo e possivel ver a 3 coluna do df['texto'], que sera utilizada como exemplo para esse teste."
      ]
    },
    {
      "cell_type": "code",
      "execution_count": null,
      "metadata": {
        "id": "9U2ALly5NZos"
      },
      "outputs": [],
      "source": [
        "df['texto'][3]"
      ]
    },
    {
      "attachments": {},
      "cell_type": "markdown",
      "metadata": {
        "id": "l8j8tKtvNZos"
      },
      "source": [
        "Abaixo e possivel ver o vetor de cada palavra da coluna 3 do df['texto'], que sera utilizada como exemplo para esse teste."
      ]
    },
    {
      "cell_type": "code",
      "execution_count": null,
      "metadata": {
        "id": "qjFHNZkfNZot"
      },
      "outputs": [],
      "source": [
        "testeSoma[3]"
      ]
    },
    {
      "attachments": {},
      "cell_type": "markdown",
      "metadata": {
        "id": "k8eKNfH2NZot"
      },
      "source": [
        "Como e possivel observar a primeira linha de cada correspondem ao valores -0.01, 0.094044, -0.036609"
      ]
    },
    {
      "attachments": {},
      "cell_type": "markdown",
      "metadata": {
        "id": "8ltxh6lWNZou"
      },
      "source": [
        "Abaixo e possivel visualizar o resultado da soma vetorial, no caso 0.047435"
      ]
    },
    {
      "cell_type": "code",
      "execution_count": null,
      "metadata": {
        "id": "mLmbztGANZou"
      },
      "outputs": [],
      "source": [
        "dfTesteword2Vec[0][3]"
      ]
    },
    {
      "cell_type": "code",
      "execution_count": null,
      "metadata": {
        "id": "uHogBCgJNZou"
      },
      "outputs": [],
      "source": [
        "testeSomaExemplo = - 0.01 + 0.094044 - 0.036609\n",
        "testeSomaExemplo"
      ]
    },
    {
      "attachments": {},
      "cell_type": "markdown",
      "metadata": {
        "id": "7nIa3y_gNZo0"
      },
      "source": [
        "Como é possível observar, utilizando esse exemplo da coluna 3, a soma dos vetores das 3 palavras e 0.047435, assim como é possível observar no resultado da função original. Comprovando assim que a soma vetorial foi executada de forma correta."
      ]
    },
    {
      "attachments": {},
      "cell_type": "markdown",
      "metadata": {
        "id": "VLVFJWXTMfZD"
      },
      "source": [
        "### 5.5 Modelo Word2vec pré-treinado"
      ]
    },
    {
      "attachments": {},
      "cell_type": "markdown",
      "metadata": {
        "id": "0Th_9cBKHEQL"
      },
      "source": [
        "Para o desenvolvimento do modelo Word2Vec pré treinado, foi escolhida a abordagem **Continuous Bag-of-Words**, muito popular para a construção desse tipo de modelo. Ele visa aprender representações vetoriais densas para palavras com base no contexto em que elas aparecem.\n",
        "\n",
        "Essa abordagem foi escolhida pelo grupo por apresentar vantagens com relação à utilização do método skip-gram. De modo geral, o método CBOW é mais eficiente computacionalmente, visto que o modelo treina mais rapidamente e é menos sensível ao tamanho do contexto. Além disso, ele é capaz de capturar, de modo eficiente, a semântica distribucional das palavras, uma vez que ele considera as palavras do contexto próximas pra prever a palavra alvo, permitindo, assim, que haja a captura de relações semânticas e sintáticas entre as palavras.\n",
        "\n",
        "Como nosso problema visa lidar com palavras com frequência alta ou média, o CBOW foi escolhido, também, por lidar melhor com esses casos.\n",
        "\n",
        "Referências:\n",
        "[Efficient estimation of word representations in vector space](https://arxiv.org/abs/1301.3781)"
      ]
    },
    {
      "attachments": {},
      "cell_type": "markdown",
      "metadata": {
        "id": "5oNq2dvuShUZ"
      },
      "source": [
        "#### 5.5.1 definição"
      ]
    },
    {
      "attachments": {},
      "cell_type": "markdown",
      "metadata": {
        "id": "hRIOL8qkRh1A"
      },
      "source": [
        "Abaixo e definido modelo word2vec, funcionando em conjunto com a pipeline."
      ]
    },
    {
      "cell_type": "code",
      "execution_count": null,
      "metadata": {
        "id": "BGt86wHTOE2d"
      },
      "outputs": [],
      "source": [
        "def modeloWord2Vec(coluna):\n",
        "  #Recebe os dados a ser realizado o BOW\n",
        "  frases = pipeline(coluna)\n",
        "  #Cria os tokens a serem utilizados pelo modelo\n",
        "  frases = frases.apply(tokenizar)\n",
        "  #aplica a função de word2vec\n",
        "  vetores = word2Vec(frases)\n",
        "  #retorna o reusltado\n",
        "  return vetores"
      ]
    },
    {
      "attachments": {},
      "cell_type": "markdown",
      "metadata": {
        "id": "r02Y_YugSkWv"
      },
      "source": [
        "#### 5.5.2 teste"
      ]
    },
    {
      "attachments": {},
      "cell_type": "markdown",
      "metadata": {
        "id": "GEXci2I0OG_o"
      },
      "source": [
        "Abaixo e possivel vizualisar o modelo word2vec, funcionando em conjunto com a pipeline"
      ]
    },
    {
      "cell_type": "code",
      "execution_count": null,
      "metadata": {
        "id": "pTH40sERPRhv"
      },
      "outputs": [],
      "source": [
        "resultadoModeloWord2Vec= modeloWord2Vec(df['texto'])"
      ]
    },
    {
      "attachments": {},
      "cell_type": "markdown",
      "metadata": {
        "id": "QVrikqtMSXIP"
      },
      "source": [
        "####  5.5.3 Criando dataframe"
      ]
    },
    {
      "cell_type": "code",
      "execution_count": null,
      "metadata": {
        "id": "o-we9jwTTCAX"
      },
      "outputs": [],
      "source": [
        "dfWord2Vec = pd.DataFrame(resultadoModeloWord2Vec, index=dadosTratados)\n",
        "dfWord2Vec"
      ]
    },
    {
      "attachments": {},
      "cell_type": "markdown",
      "metadata": {
        "id": "LueBMrl2TOX-"
      },
      "source": [
        "#### 5.5.4 exportando resultado"
      ]
    },
    {
      "cell_type": "code",
      "execution_count": null,
      "metadata": {
        "id": "-FZQ8rkZTQ4q"
      },
      "outputs": [],
      "source": [
        "#dfWord2Vec.to_csv('resultadoWord2vec.csv', index=False)"
      ]
    },
    {
      "attachments": {},
      "cell_type": "markdown",
      "metadata": {
        "id": "_F4d_PEKKbFb"
      },
      "source": [
        "### 5.6 Word2Vec com Skipgram\n",
        "\n",
        "O modelo Skip-gram é um dos algoritmos usados pelo Word2vec para treinar vetores e tem como objetivo prever as palavras de contexto dada uma palavra de entrada. Ele assume que as palavras em um contexto próximo têm maior probabilidade de ocorrer juntas e, portanto, compartilham propriedades semânticas e sintáticas."
      ]
    },
    {
      "cell_type": "code",
      "execution_count": null,
      "metadata": {
        "id": "iOcVW7tvKtYq"
      },
      "outputs": [],
      "source": [
        "# Carregando o modelo\n",
        "modelo_skipgram = KeyedVectors.load_word2vec_format(\"/content/drive/MyDrive/Modulo_6_grupo_1/skip_s50.txt\")"
      ]
    },
    {
      "cell_type": "code",
      "execution_count": null,
      "metadata": {
        "id": "p66vIUUIKvg2"
      },
      "outputs": [],
      "source": [
        "def word2Vec(coluna):\n",
        "    # Lista que armazena os vetores resultantes de todas as frases\n",
        "    x = []\n",
        "    for i in range(len(coluna)):\n",
        "        # Lista que armazena os vetores das palavras de cada frase\n",
        "        vetor = []\n",
        "        for palavra in coluna[i]:\n",
        "            if palavra in modelo_skipgram:\n",
        "                vetor.append(modelo_skipgram[palavra])\n",
        "        if vetor:\n",
        "             # Soma dos vetores de todas as palavras\n",
        "            x.append(list(map(sum, zip(*vetor))))\n",
        "    return x"
      ]
    },
    {
      "cell_type": "code",
      "execution_count": null,
      "metadata": {
        "id": "OJBGjsYqKyM7"
      },
      "outputs": [],
      "source": [
        "# Chama a função word2Vec para testá-la\n",
        "testeword2Vec = word2Vec(df['texto'].apply(tokenizar))"
      ]
    },
    {
      "cell_type": "code",
      "execution_count": null,
      "metadata": {
        "id": "X-bm_RyiK4rl"
      },
      "outputs": [],
      "source": [
        "# Criação de um DataFrame para visualizar o resultado\n",
        "dfTesteword2Vec = pd.DataFrame(testeword2Vec)\n",
        "dfTesteword2Vec"
      ]
    },
    {
      "cell_type": "code",
      "execution_count": null,
      "metadata": {
        "id": "sAegb1TDK_JM"
      },
      "outputs": [],
      "source": [
        "# Teste que converte palavras em vetores e retorna uma lista de vetores resultantes\n",
        "def word2Vecteste(coluna):\n",
        "    # Armazena os vetores resultantes\n",
        "    x = []\n",
        "    for i in range(len(coluna)):\n",
        "        vetor = []\n",
        "        # Armazena todos os vetores de todas as palavras\n",
        "        for palavra in coluna[i]:\n",
        "            vetor.append(modelo_skipgram[palavra])\n",
        "        x.append(vetor)\n",
        "    return x"
      ]
    },
    {
      "cell_type": "code",
      "execution_count": null,
      "metadata": {
        "id": "Uxw3p99pK-93"
      },
      "outputs": [],
      "source": [
        "def modeloWord2Vec(coluna):\n",
        "    # Recebe os dados a serem realizados o BOW\n",
        "    frases = pipeline(coluna)\n",
        "    # Cria os tokens a serem utilizados pelo modelo\n",
        "    frases = frases.apply(tokenizar)\n",
        "    # Aplica a função word2Vec\n",
        "    vetores = word2Vec(frases)\n",
        "    # Retorna o resultado\n",
        "    return vetores"
      ]
    },
    {
      "cell_type": "code",
      "execution_count": null,
      "metadata": {
        "id": "lIZ94-NQLKy9"
      },
      "outputs": [],
      "source": [
        "resultadoModeloWord2Vec = modeloWord2Vec(df['texto'])"
      ]
    },
    {
      "attachments": {},
      "cell_type": "markdown",
      "metadata": {
        "id": "E7VoyXSU4-nH"
      },
      "source": [
        "## 6.0 Modelos"
      ]
    },
    {
      "attachments": {},
      "cell_type": "markdown",
      "metadata": {
        "id": "nb-GnkkI4-nM"
      },
      "source": [
        "### 6.1 Naive Bayes com BagOfWords"
      ]
    },
    {
      "attachments": {},
      "cell_type": "markdown",
      "metadata": {
        "id": "2_iXzaTLV5-U"
      },
      "source": [
        "O Naive Bayes com Bag of Words é uma abordagem que combina o classificador probabilístico Naive Bayes com a técnica de vetorização de texto (BoW). Ele é usado para transformar documentos de texto em vetores numéricos, representando a frequência/presença das palavras nos documentos."
      ]
    },
    {
      "attachments": {},
      "cell_type": "markdown",
      "metadata": {
        "id": "ebwa3L5x4-nN"
      },
      "source": [
        "#### 6.1.1 Naive bayes sem balanceamento"
      ]
    },
    {
      "attachments": {},
      "cell_type": "markdown",
      "metadata": {
        "id": "3TRg_Yrf4-nN"
      },
      "source": [
        "##### 6.1.1.1 Setup"
      ]
    },
    {
      "cell_type": "code",
      "execution_count": null,
      "metadata": {
        "id": "MvA6Yj1K4-nN"
      },
      "outputs": [],
      "source": [
        "import pandas as pd\n",
        "from sklearn.model_selection import train_test_split\n",
        "from sklearn.naive_bayes import MultinomialNB\n",
        "from sklearn.metrics import accuracy_score\n",
        "from imblearn.over_sampling import RandomOverSampler\n",
        "from sklearn.utils import resample\n",
        "from imblearn.over_sampling import SMOTE"
      ]
    },
    {
      "attachments": {},
      "cell_type": "markdown",
      "metadata": {
        "id": "OJlAHxTv4-nN"
      },
      "source": [
        "##### 6.1.1.2 Definição de bases"
      ]
    },
    {
      "cell_type": "code",
      "execution_count": null,
      "metadata": {
        "id": "hzmtHxHu4-nN"
      },
      "outputs": [],
      "source": [
        "# Exemplo de uso da função\n",
        "df_rotulos = df['targetSentimento'].copy()\n",
        "df_bag_of_words = dfBagOfWords"
      ]
    },
    {
      "cell_type": "code",
      "execution_count": null,
      "metadata": {
        "id": "nQLSyRm_4-nN"
      },
      "outputs": [],
      "source": [
        "# Redefinir os índices dos DataFrames\n",
        "df_rotulos = df_rotulos.reset_index(drop=True)\n",
        "df_bag_of_words = df_bag_of_words.reset_index(drop=True)\n",
        "\n",
        "# Juntar os DataFrames ao longo do eixo das colunas\n",
        "df_unido = pd.concat([df_rotulos, df_bag_of_words], axis=1)\n",
        "df_unido"
      ]
    },
    {
      "attachments": {},
      "cell_type": "markdown",
      "metadata": {
        "id": "Jxr4uO694-nO"
      },
      "source": [
        "##### 6.1.1.3 Criação da função"
      ]
    },
    {
      "cell_type": "code",
      "execution_count": null,
      "metadata": {
        "id": "cJZU4DvG4-nO"
      },
      "outputs": [],
      "source": [
        "def train_naive_bayes_model(dataframe):\n",
        "    # Passo 3: Divisão dos dados em features (X) e rótulos (y)\n",
        "    X = dataframe.drop('targetSentimento', axis=1)  # Considerando que 'rótulos' é a coluna com os rótulos de classificação\n",
        "    y = dataframe['targetSentimento']\n",
        "\n",
        "    # Passo 4: Divisão dos dados em conjuntos de treinamento e teste\n",
        "    X_train, X_test, y_train, y_test = train_test_split(X, y, test_size=0.2, random_state=42)\n",
        "\n",
        "    # Passo 5: Criação e treinamento do modelo Naive Bayes\n",
        "    model = MultinomialNB()\n",
        "    model.fit(X_train, y_train)\n",
        "\n",
        "    # Passo 6: Fazer previsões nos dados de teste\n",
        "    y_pred = model.predict(X_test)\n",
        "\n",
        "    # Passo 7: Avaliar o modelo\n",
        "    report = classification_report(y_test, y_pred, output_dict=True)\n",
        "    acuracia = report['weighted avg']['precision']\n",
        "    revocacao = report['weighted avg']['recall']\n",
        "    matrizConfusao = confusion_matrix(y_test, y_pred)\n",
        "    print(f\"Acurácia do modelo: {acuracia}\")\n",
        "    return model,acuracia,revocacao,matrizConfusao\n"
      ]
    },
    {
      "attachments": {},
      "cell_type": "markdown",
      "metadata": {
        "id": "_WTfxrZD4-nO"
      },
      "source": [
        "##### 6.1.1.4 Teste da função\n"
      ]
    },
    {
      "cell_type": "code",
      "execution_count": null,
      "metadata": {
        "id": "kPBh_IlZ4-nO"
      },
      "outputs": [],
      "source": [
        "modeloNaiveBow,acuraciaNaiveBow,revocacaoNaiveBow,matrizNaiveBow = train_naive_bayes_model(df_unido)"
      ]
    },
    {
      "cell_type": "code",
      "execution_count": null,
      "metadata": {
        "id": "x5I1Ijfo4-nO"
      },
      "outputs": [],
      "source": [
        "# Salve o modelo Naive Bayes em um arquivo PKL\n",
        "with open('modelo_naive_bayes.pkl', 'wb') as arquivo:\n",
        "    pickle.dump(modeloNaiveBow, arquivo)"
      ]
    },
    {
      "cell_type": "code",
      "execution_count": null,
      "metadata": {
        "id": "dgOsYWDn4-nO"
      },
      "outputs": [],
      "source": [
        "# Carregar o modelo a partir do arquivo PKL\n",
        "with open('modelo_naive_bayes.pkl', 'rb') as arquivo:\n",
        "    modelo_carregado = pickle.load(arquivo)\n",
        "\n",
        "# Verificar se o modelo foi carregado corretamente\n",
        "if isinstance(modelo_carregado, MultinomialNB):\n",
        "    print(\"O modelo Naive Bayes com Bag of Words foi carregado corretamente.\")\n",
        "else:\n",
        "    print(\"Ocorreu um erro ao carregar o modelo Naive Bayes com Bag of Words.\")\n",
        "\n"
      ]
    },
    {
      "cell_type": "code",
      "execution_count": null,
      "metadata": {
        "id": "HywlleAileVC"
      },
      "outputs": [],
      "source": [
        "import matplotlib.pyplot as plt\n",
        "\n",
        "# Supondo que você já tenha treinado seu modelo Naive Bayes e tenha as previsões e rótulos verdadeiros\n",
        "# predictions são as previsões do seu modelo\n",
        "# labels são os rótulos verdadeiros\n",
        "\n",
        "# Criar um gráfico de pontos esparsos\n",
        "plt.figure(figsize=(8, 6))\n",
        "plt.scatter(range(len(df['sentimento'])), labels, c='blue', marker='o', label='Rótulo Verdadeiro')\n",
        "plt.scatter(range(len(predictions)), predictions, c='red', marker='x', label='Previsão')\n",
        "plt.title('Resultados do Modelo Naive Bayes')\n",
        "plt.xlabel('Exemplo')\n",
        "plt.ylabel('Classe')\n",
        "plt.legend()\n",
        "plt.show()"
      ]
    },
    {
      "attachments": {},
      "cell_type": "markdown",
      "metadata": {
        "id": "l4HzMg_54-nO"
      },
      "source": [
        "### 6.2 Naive Bayes com Word2Vec"
      ]
    },
    {
      "attachments": {},
      "cell_type": "markdown",
      "metadata": {
        "id": "pOvk1vHiV23e"
      },
      "source": [
        "O Naive Bayes com Word2Vec é uma abordagem que combina o classificador Naive Bayes com a técnica de vetorização de palavras Word2Vec. Nesse caso, o Word2Vec é treinado em um corpus de texto para aprender vetores de palavras significativos."
      ]
    },
    {
      "cell_type": "code",
      "execution_count": null,
      "metadata": {
        "id": "KO9VLI7j4-nP"
      },
      "outputs": [],
      "source": [
        "import pandas as pd\n",
        "from sklearn.model_selection import train_test_split\n",
        "from sklearn.naive_bayes import MultinomialNB\n",
        "from sklearn.metrics import accuracy_score\n",
        "from imblearn.over_sampling import SMOTE"
      ]
    },
    {
      "cell_type": "code",
      "execution_count": null,
      "metadata": {
        "id": "cKZLJLo14-nP"
      },
      "outputs": [],
      "source": [
        "# Exemplo de uso da função\n",
        "df_rotulos = df['targetSentimento'].copy()\n",
        "df_word_2_vec = dfWord2Vec"
      ]
    },
    {
      "cell_type": "code",
      "execution_count": null,
      "metadata": {
        "id": "E5V8mBuV4-nP"
      },
      "outputs": [],
      "source": [
        "# Redefinir os índices dos DataFrames\n",
        "df_rotulos = df_rotulos.reset_index(drop=True)\n",
        "df_word_2_vec = df_word_2_vec.reset_index(drop=True)\n",
        "# Juntar os DataFrames ao longo do eixo das colunas\n",
        "df_unido_word = pd.concat([df_rotulos, df_word_2_vec], axis=1)\n",
        "df_unido_word"
      ]
    },
    {
      "cell_type": "code",
      "execution_count": null,
      "metadata": {
        "id": "fKPuP7IY4-nP"
      },
      "outputs": [],
      "source": [
        "def train_naive_bayes_model_word(dataframe):\n",
        "    # Passo 3: Divisão dos dados em features (X) e rótulos (y)\n",
        "    X = dataframe.drop('targetSentimento', axis=1)  # Considerando que 'rótulos' é a coluna com os rótulos de classificação\n",
        "    y = dataframe['targetSentimento']\n",
        "\n",
        "    # Passo 4: Divisão dos dados em conjuntos de treinamento e teste\n",
        "    X_train, X_test, y_train, y_test = train_test_split(X, y, test_size=0.2, random_state=42)\n",
        "\n",
        "    # Passo 5: Criação e treinamento do modelo Naive Bayes\n",
        "    model = GaussianNB()\n",
        "    model.fit(X_train, y_train)\n",
        "\n",
        "    # Passo 6: Fazer previsões nos dados de teste\n",
        "    y_pred = model.predict(X_test)\n",
        "\n",
        "    # Passo 7: Avaliar o modelo\n",
        "    report = classification_report(y_test, y_pred, output_dict=True)\n",
        "    acuracia = report['weighted avg']['precision']\n",
        "    revocacao = report['weighted avg']['recall']\n",
        "    matrizConfusao = confusion_matrix(y_test, y_pred)\n",
        "\n",
        "    return model,acuracia,revocacao,matrizConfusao\n",
        "    return (f\"Acurácia do modelo: {accuracy}\")"
      ]
    },
    {
      "cell_type": "code",
      "execution_count": null,
      "metadata": {
        "id": "AGPOYTkx4-nP"
      },
      "outputs": [],
      "source": [
        "# Remover amostras com valores ausentes\n",
        "df_unido_word.dropna(inplace=True)\n",
        "df_unido_word"
      ]
    },
    {
      "cell_type": "code",
      "execution_count": null,
      "metadata": {
        "id": "clpzWkwM4-nP"
      },
      "outputs": [],
      "source": [
        "modeloNaiveW2V,acuraciaNaiveW2V,revocacaoNaiveW2V,matrizNaiveW2V = train_naive_bayes_model_word(df_unido_word)"
      ]
    },
    {
      "cell_type": "code",
      "execution_count": null,
      "metadata": {
        "id": "PwVAmUGW4-nP"
      },
      "outputs": [],
      "source": [
        "# Salve o modelo Naive Bayes com Word2Vec em um arquivo PKL\n",
        "with open('modelo_naive_bayes_word2vec.pkl', 'wb') as arquivo:\n",
        "    pickle.dump(modeloNaiveW2V, arquivo)"
      ]
    },
    {
      "cell_type": "code",
      "execution_count": null,
      "metadata": {
        "id": "bFdWDnrN4-nQ"
      },
      "outputs": [],
      "source": [
        "# Carregar o modelo Naive Bayes com Word2Vec a partir do arquivo PKL\n",
        "with open('modelo_naive_bayes_word2vec.pkl', 'rb') as arquivo:\n",
        "    modelo_carregado = pickle.load(arquivo)\n",
        "\n",
        "# Verificar se o objeto carregado é uma instância do modelo Naive Bayes\n",
        "if isinstance(modelo_carregado, GaussianNB):\n",
        "    print(\"O modelo Naive Bayes com Word2Vec foi carregado corretamente!\")\n",
        "else:\n",
        "    print(\"Ocorreu um erro ao carregar o modelo Naive Bayes com Word2Vec.\")"
      ]
    },
    {
      "attachments": {},
      "cell_type": "markdown",
      "metadata": {
        "id": "QW8bsKZF4-nQ"
      },
      "source": [
        "### 6.3 Rede Neural com Word2Vec"
      ]
    },
    {
      "attachments": {},
      "cell_type": "markdown",
      "metadata": {
        "id": "_pUDY5WIVpoQ"
      },
      "source": [
        "Rede Neural com Word2Vec é um modelo que combina redes neurais artificiais e a técnica Word2Vec para representar palavras em um espaço vetorial de alta dimensionalidade, onde cada palavra é mapeada para um vetor e suas dimensões capturam diferentes aspectos semânticos."
      ]
    },
    {
      "attachments": {},
      "cell_type": "markdown",
      "metadata": {
        "id": "1d18Ld7N4-nQ"
      },
      "source": [
        "#### 6.3.1 Setup"
      ]
    },
    {
      "cell_type": "code",
      "execution_count": null,
      "metadata": {
        "id": "0x9ACAUN4-nQ"
      },
      "outputs": [],
      "source": [
        "#Importa biblioteca\n",
        "from sklearn.model_selection import train_test_split\n",
        "import keras\n",
        "from keras.models import Sequential\n",
        "from keras.layers import Dense\n",
        "from sklearn.metrics import confusion_matrix, accuracy_score\n",
        "from imblearn.over_sampling import SMOTE"
      ]
    },
    {
      "attachments": {},
      "cell_type": "markdown",
      "metadata": {
        "id": "ziM4fdvq4-nR"
      },
      "source": [
        "#### 6.3.2 Estruturação dos dataframes"
      ]
    },
    {
      "cell_type": "code",
      "execution_count": null,
      "metadata": {
        "id": "llmoNxjE4-nR"
      },
      "outputs": [],
      "source": [
        "dfWord2Vec['dadosTratados'] = dfWord2Vec.index\n",
        "dfWord2Vec.reset_index(drop=True, inplace=True)\n",
        "dfWord2Vec"
      ]
    },
    {
      "cell_type": "code",
      "execution_count": null,
      "metadata": {
        "id": "4Wo3I-Vh4-nR"
      },
      "outputs": [],
      "source": [
        "indices_a_remover = dfWord2Vec[dfWord2Vec[1].isnull()].index  # Obtém os índices das linhas a serem removidas em dfWord2Vec\n",
        "dfresultadoModeloWord2Vec = dfWord2Vec.drop(indices_a_remover)\n",
        "df2 = df.loc[~df.index.isin(indices_a_remover)]\n"
      ]
    },
    {
      "cell_type": "code",
      "execution_count": null,
      "metadata": {
        "id": "9O4WyfbR4-nR"
      },
      "outputs": [],
      "source": [
        "dfresultadoModeloWord2Vec"
      ]
    },
    {
      "cell_type": "code",
      "execution_count": null,
      "metadata": {
        "id": "scrKGWZU4-nR"
      },
      "outputs": [],
      "source": [
        "#Redefine as classes, juntando positivo e neutro como 0 e negativo como 1\n",
        "df2['targetSentimento'] = df2['targetSentimento'].replace({'POSITIVE': 0,'NEUTRAL': 0, 'NEGATIVE': 1})"
      ]
    },
    {
      "cell_type": "code",
      "execution_count": null,
      "metadata": {
        "id": "sGmYCCaZ4-nR"
      },
      "outputs": [],
      "source": [
        "df2['targetSentimento'].value_counts()"
      ]
    },
    {
      "cell_type": "code",
      "execution_count": null,
      "metadata": {
        "id": "ZrufT6Bj4-nS"
      },
      "outputs": [],
      "source": [
        "previsores = dfresultadoModeloWord2Vec.drop(['dadosTratados'], axis=1) # Previsores são obtidos a partir de dfresultadoModeloWord2Vec\n",
        "classe = df2['targetSentimento']\n",
        "\n",
        "smote = SMOTE()  # Inicialização do objeto SMOTE para o balanceamento das classes\n",
        "X_resampled, y_resampled = smote.fit_resample(previsores, classe)\n",
        "\n",
        "previsores = pd.DataFrame(X_resampled)\n",
        "classe = pd.DataFrame(y_resampled)\n",
        "\n",
        "previsores_treinamento, previsores_teste, classe_treinamento, classe_teste = train_test_split(previsores, classe, test_size=0.25)  # Divisão dos dados em conjuntos de treinamento e teste"
      ]
    },
    {
      "cell_type": "code",
      "execution_count": null,
      "metadata": {
        "id": "anB21BsD4-nS"
      },
      "outputs": [],
      "source": [
        "y_resampled.value_counts()"
      ]
    },
    {
      "attachments": {},
      "cell_type": "markdown",
      "metadata": {
        "id": "cg2pIIg74-nS"
      },
      "source": [
        "#### 6.3.3 Definição e treinamento do modelo"
      ]
    },
    {
      "attachments": {},
      "cell_type": "markdown",
      "metadata": {
        "id": "gdIbj1Nw4-nS"
      },
      "source": [
        "Inicializamos o modelo sequencial chamado classificador com uma camada densa de 26 unidades de neurônios, usando a função de ativação ReLU e inicialização uniforme dos pesos. A camada de saída possui uma única unidade com ativação sigmoid.\n",
        "\n",
        "Compilamos o modelo com o otimizador Adam, a função de perda binary_crossentropy e a métrica accuracy.\n",
        "\n",
        "Realizamos o treinamento do modelo usando os dados de treinamento previsores_treinamento e classe_treinamento, com um tamanho de lote de 35 e 30 épocas.\n",
        "\n",
        "Dessa forma, o modelo aprende a fazer previsões com base nos dados de treinamento fornecidos."
      ]
    },
    {
      "cell_type": "code",
      "execution_count": null,
      "metadata": {
        "id": "OXYQ8zia4-nS"
      },
      "outputs": [],
      "source": [
        "classificador = Sequential() # Inicialização de um modelo sequencial\n",
        "\n",
        "\n",
        "classificador.add(Dense(units = 26, activation = \"relu\", # Adição de uma camada densa com 26 unidades, ativação ReLU e inicialização uniforme dos pesos, recebendo dados de entrada de dimensão 50\n",
        "                        kernel_initializer = 'random_uniform', input_dim = 50))\n",
        "\n",
        "classificador.add(Dense(units = 1, activation = 'sigmoid')) # Adição de uma camada densa com 1 unidade de saída, ativação sigmoid\n",
        "\n",
        "\n",
        "classificador.compile(optimizer = 'adam', loss = 'binary_crossentropy',\n",
        "                      metrics = ['accuracy']) # Compilação do modelo com otimizador Adam\n",
        "\n",
        "classificador.fit(previsores_treinamento, classe_treinamento,\n",
        "                  batch_size = 35, epochs = 30) # Treinamento do modelo com os dados de treinamento"
      ]
    },
    {
      "attachments": {},
      "cell_type": "markdown",
      "metadata": {
        "id": "WcYWpspI4-nS"
      },
      "source": [
        "#### 6.3.4 Avaliação do modelo"
      ]
    },
    {
      "cell_type": "code",
      "execution_count": null,
      "metadata": {
        "id": "4f6F9U894-nS"
      },
      "outputs": [],
      "source": [
        "previsoes = classificador.predict(previsores_teste) # Realiza previsões nos dados de teste\n",
        "previsoes = (previsoes> 0.5)\n",
        "\n",
        "\n",
        "acuraciaRNW2V = accuracy_score(classe_teste, previsoes) # Calcula a acuracia comparando as classes verdadeiras com as previsões binárias\n",
        "matrizRNW2V = confusion_matrix(classe_teste, previsoes) # Calcula a matriz de confusão com as classes verdadeiras e as previsões binárias\n",
        "revocacaoRNW2V = recall_score(classe_teste, previsoes)\n",
        "\n",
        "resultado = classificador.evaluate(previsores_teste, classe_teste)"
      ]
    },
    {
      "attachments": {},
      "cell_type": "markdown",
      "metadata": {
        "id": "l-bfc4zz4-nT"
      },
      "source": [
        "#### 6.3.5 Resultados"
      ]
    },
    {
      "cell_type": "code",
      "execution_count": null,
      "metadata": {
        "id": "rheyhe2l4-nT"
      },
      "outputs": [],
      "source": [
        "matrizRNW2V #Criação matriz"
      ]
    },
    {
      "cell_type": "code",
      "execution_count": null,
      "metadata": {
        "id": "DVJSz0et4-nT"
      },
      "outputs": [],
      "source": [
        "acuraciaRNW2V #eficacia"
      ]
    },
    {
      "cell_type": "code",
      "execution_count": null,
      "metadata": {
        "id": "ewdNj1D-yylX"
      },
      "outputs": [],
      "source": [
        "revocacaoRNW2V"
      ]
    },
    {
      "attachments": {},
      "cell_type": "markdown",
      "metadata": {
        "id": "RZJY6hjGgM81"
      },
      "source": [
        "#### 6.3.6 Exportação do modelo"
      ]
    },
    {
      "cell_type": "code",
      "execution_count": null,
      "metadata": {
        "id": "EGuD5Nd1gbY1"
      },
      "outputs": [],
      "source": [
        "# Salve o modelo de Rede neural com Word2Vec em um arquivo PKL\n",
        "with open('modelo_rede_neural_word2vec.pkl', 'wb') as arquivo:\n",
        "    pickle.dump(classificador, arquivo)"
      ]
    },
    {
      "attachments": {},
      "cell_type": "markdown",
      "metadata": {
        "id": "sd4R5Pczlk-T"
      },
      "source": [
        "### 6.4 Rede Neural com Transformers Sentence Embedding"
      ]
    },
    {
      "attachments": {},
      "cell_type": "markdown",
      "metadata": {
        "id": "l_roq2FKYGsV"
      },
      "source": [
        "O modelo de Rede Neural com Transformers para a incorporação de sentenças utiliza a arquitetura dos Transformers para capturar representações semânticas de sentenças em um espaço vetorial contínuo.\n",
        "Esse modelo segue uma abordagem de codificação em dois passos principais: codificação de palavras e agregação de contexto."
      ]
    },
    {
      "cell_type": "code",
      "execution_count": null,
      "metadata": {
        "colab": {
          "base_uri": "https://localhost:8080/"
        },
        "id": "qKbWpGtyRDC2",
        "outputId": "7a8a25e4-a3fa-48cc-b644-a088d7992409"
      },
      "outputs": [
        {
          "name": "stdout",
          "output_type": "stream",
          "text": [
            "Looking in indexes: https://pypi.org/simple, https://us-python.pkg.dev/colab-wheels/public/simple/\n",
            "Collecting sentence-transformers\n",
            "  Downloading sentence-transformers-2.2.2.tar.gz (85 kB)\n",
            "\u001b[2K     \u001b[90m━━━━━━━━━━━━━━━━━━━━━━━━━━━━━━━━━━━━━━━━\u001b[0m \u001b[32m86.0/86.0 kB\u001b[0m \u001b[31m3.0 MB/s\u001b[0m eta \u001b[36m0:00:00\u001b[0m\n",
            "\u001b[?25h  Preparing metadata (setup.py) ... \u001b[?25l\u001b[?25hdone\n",
            "Collecting transformers<5.0.0,>=4.6.0 (from sentence-transformers)\n",
            "  Downloading transformers-4.30.1-py3-none-any.whl (7.2 MB)\n",
            "\u001b[2K     \u001b[90m━━━━━━━━━━━━━━━━━━━━━━━━━━━━━━━━━━━━━━━━\u001b[0m \u001b[32m7.2/7.2 MB\u001b[0m \u001b[31m34.8 MB/s\u001b[0m eta \u001b[36m0:00:00\u001b[0m\n",
            "\u001b[?25hRequirement already satisfied: tqdm in /usr/local/lib/python3.10/dist-packages (from sentence-transformers) (4.65.0)\n",
            "Requirement already satisfied: torch>=1.6.0 in /usr/local/lib/python3.10/dist-packages (from sentence-transformers) (2.0.1+cu118)\n",
            "Requirement already satisfied: torchvision in /usr/local/lib/python3.10/dist-packages (from sentence-transformers) (0.15.2+cu118)\n",
            "Requirement already satisfied: numpy in /usr/local/lib/python3.10/dist-packages (from sentence-transformers) (1.22.4)\n",
            "Requirement already satisfied: scikit-learn in /usr/local/lib/python3.10/dist-packages (from sentence-transformers) (1.2.2)\n",
            "Requirement already satisfied: scipy in /usr/local/lib/python3.10/dist-packages (from sentence-transformers) (1.10.1)\n",
            "Requirement already satisfied: nltk in /usr/local/lib/python3.10/dist-packages (from sentence-transformers) (3.8.1)\n",
            "Collecting sentencepiece (from sentence-transformers)\n",
            "  Downloading sentencepiece-0.1.99-cp310-cp310-manylinux_2_17_x86_64.manylinux2014_x86_64.whl (1.3 MB)\n",
            "\u001b[2K     \u001b[90m━━━━━━━━━━━━━━━━━━━━━━━━━━━━━━━━━━━━━━━━\u001b[0m \u001b[32m1.3/1.3 MB\u001b[0m \u001b[31m28.8 MB/s\u001b[0m eta \u001b[36m0:00:00\u001b[0m\n",
            "\u001b[?25hCollecting huggingface-hub>=0.4.0 (from sentence-transformers)\n",
            "  Downloading huggingface_hub-0.15.1-py3-none-any.whl (236 kB)\n",
            "\u001b[2K     \u001b[90m━━━━━━━━━━━━━━━━━━━━━━━━━━━━━━━━━━━━━━\u001b[0m \u001b[32m236.8/236.8 kB\u001b[0m \u001b[31m15.5 MB/s\u001b[0m eta \u001b[36m0:00:00\u001b[0m\n",
            "\u001b[?25hRequirement already satisfied: filelock in /usr/local/lib/python3.10/dist-packages (from huggingface-hub>=0.4.0->sentence-transformers) (3.12.0)\n",
            "Requirement already satisfied: fsspec in /usr/local/lib/python3.10/dist-packages (from huggingface-hub>=0.4.0->sentence-transformers) (2023.4.0)\n",
            "Requirement already satisfied: requests in /usr/local/lib/python3.10/dist-packages (from huggingface-hub>=0.4.0->sentence-transformers) (2.27.1)\n",
            "Requirement already satisfied: pyyaml>=5.1 in /usr/local/lib/python3.10/dist-packages (from huggingface-hub>=0.4.0->sentence-transformers) (6.0)\n",
            "Requirement already satisfied: typing-extensions>=3.7.4.3 in /usr/local/lib/python3.10/dist-packages (from huggingface-hub>=0.4.0->sentence-transformers) (4.5.0)\n",
            "Requirement already satisfied: packaging>=20.9 in /usr/local/lib/python3.10/dist-packages (from huggingface-hub>=0.4.0->sentence-transformers) (23.1)\n",
            "Requirement already satisfied: sympy in /usr/local/lib/python3.10/dist-packages (from torch>=1.6.0->sentence-transformers) (1.11.1)\n",
            "Requirement already satisfied: networkx in /usr/local/lib/python3.10/dist-packages (from torch>=1.6.0->sentence-transformers) (3.1)\n",
            "Requirement already satisfied: jinja2 in /usr/local/lib/python3.10/dist-packages (from torch>=1.6.0->sentence-transformers) (3.1.2)\n",
            "Requirement already satisfied: triton==2.0.0 in /usr/local/lib/python3.10/dist-packages (from torch>=1.6.0->sentence-transformers) (2.0.0)\n",
            "Requirement already satisfied: cmake in /usr/local/lib/python3.10/dist-packages (from triton==2.0.0->torch>=1.6.0->sentence-transformers) (3.25.2)\n",
            "Requirement already satisfied: lit in /usr/local/lib/python3.10/dist-packages (from triton==2.0.0->torch>=1.6.0->sentence-transformers) (16.0.5)\n",
            "Requirement already satisfied: regex!=2019.12.17 in /usr/local/lib/python3.10/dist-packages (from transformers<5.0.0,>=4.6.0->sentence-transformers) (2022.10.31)\n",
            "Collecting tokenizers!=0.11.3,<0.14,>=0.11.1 (from transformers<5.0.0,>=4.6.0->sentence-transformers)\n",
            "  Downloading tokenizers-0.13.3-cp310-cp310-manylinux_2_17_x86_64.manylinux2014_x86_64.whl (7.8 MB)\n",
            "\u001b[2K     \u001b[90m━━━━━━━━━━━━━━━━━━━━━━━━━━━━━━━━━━━━━━━━\u001b[0m \u001b[32m7.8/7.8 MB\u001b[0m \u001b[31m54.2 MB/s\u001b[0m eta \u001b[36m0:00:00\u001b[0m\n",
            "\u001b[?25hCollecting safetensors>=0.3.1 (from transformers<5.0.0,>=4.6.0->sentence-transformers)\n",
            "  Downloading safetensors-0.3.1-cp310-cp310-manylinux_2_17_x86_64.manylinux2014_x86_64.whl (1.3 MB)\n",
            "\u001b[2K     \u001b[90m━━━━━━━━━━━━━━━━━━━━━━━━━━━━━━━━━━━━━━━━\u001b[0m \u001b[32m1.3/1.3 MB\u001b[0m \u001b[31m40.5 MB/s\u001b[0m eta \u001b[36m0:00:00\u001b[0m\n",
            "\u001b[?25hRequirement already satisfied: click in /usr/local/lib/python3.10/dist-packages (from nltk->sentence-transformers) (8.1.3)\n",
            "Requirement already satisfied: joblib in /usr/local/lib/python3.10/dist-packages (from nltk->sentence-transformers) (1.2.0)\n",
            "Requirement already satisfied: threadpoolctl>=2.0.0 in /usr/local/lib/python3.10/dist-packages (from scikit-learn->sentence-transformers) (3.1.0)\n",
            "Requirement already satisfied: pillow!=8.3.*,>=5.3.0 in /usr/local/lib/python3.10/dist-packages (from torchvision->sentence-transformers) (8.4.0)\n",
            "Requirement already satisfied: MarkupSafe>=2.0 in /usr/local/lib/python3.10/dist-packages (from jinja2->torch>=1.6.0->sentence-transformers) (2.1.2)\n",
            "Requirement already satisfied: urllib3<1.27,>=1.21.1 in /usr/local/lib/python3.10/dist-packages (from requests->huggingface-hub>=0.4.0->sentence-transformers) (1.26.15)\n",
            "Requirement already satisfied: certifi>=2017.4.17 in /usr/local/lib/python3.10/dist-packages (from requests->huggingface-hub>=0.4.0->sentence-transformers) (2022.12.7)\n",
            "Requirement already satisfied: charset-normalizer~=2.0.0 in /usr/local/lib/python3.10/dist-packages (from requests->huggingface-hub>=0.4.0->sentence-transformers) (2.0.12)\n",
            "Requirement already satisfied: idna<4,>=2.5 in /usr/local/lib/python3.10/dist-packages (from requests->huggingface-hub>=0.4.0->sentence-transformers) (3.4)\n",
            "Requirement already satisfied: mpmath>=0.19 in /usr/local/lib/python3.10/dist-packages (from sympy->torch>=1.6.0->sentence-transformers) (1.3.0)\n",
            "Building wheels for collected packages: sentence-transformers\n",
            "  Building wheel for sentence-transformers (setup.py) ... \u001b[?25l\u001b[?25hdone\n",
            "  Created wheel for sentence-transformers: filename=sentence_transformers-2.2.2-py3-none-any.whl size=125926 sha256=99bde2b768f6ceb71e27fc5f5359b3073b19ae1fd749f355db96d5c46241ce25\n",
            "  Stored in directory: /root/.cache/pip/wheels/62/f2/10/1e606fd5f02395388f74e7462910fe851042f97238cbbd902f\n",
            "Successfully built sentence-transformers\n",
            "Installing collected packages: tokenizers, sentencepiece, safetensors, huggingface-hub, transformers, sentence-transformers\n",
            "Successfully installed huggingface-hub-0.15.1 safetensors-0.3.1 sentence-transformers-2.2.2 sentencepiece-0.1.99 tokenizers-0.13.3 transformers-4.30.1\n"
          ]
        }
      ],
      "source": [
        "import locale\n",
        "locale.getpreferredencoding = lambda: 'UTF-8'\n",
        "!pip install sentence-transformers"
      ]
    },
    {
      "cell_type": "code",
      "execution_count": null,
      "metadata": {
        "id": "nYsmUQIgl0UW"
      },
      "outputs": [],
      "source": [
        "import numpy as np\n",
        "import pandas as pd\n",
        "import matplotlib.pyplot as plt\n",
        "\n",
        "from sklearn.model_selection import train_test_split\n",
        "from tensorflow.keras.utils import to_categorical\n",
        "from sentence_transformers import SentenceTransformer"
      ]
    },
    {
      "cell_type": "code",
      "execution_count": null,
      "metadata": {
        "id": "Mz5NYQA23SSs"
      },
      "outputs": [],
      "source": [
        "#Importa biblioteca keras\n",
        "import keras\n",
        "from keras.models import Sequential\n",
        "from keras.layers import Dense\n",
        "from keras.callbacks import EarlyStopping\n",
        "\n",
        "from sklearn.metrics import confusion_matrix, accuracy_score"
      ]
    },
    {
      "cell_type": "code",
      "execution_count": null,
      "metadata": {
        "id": "Rj3KcQDq3UNT"
      },
      "outputs": [],
      "source": [
        "import seaborn as sns"
      ]
    },
    {
      "cell_type": "code",
      "execution_count": null,
      "metadata": {
        "colab": {
          "base_uri": "https://localhost:8080/",
          "height": 497,
          "referenced_widgets": [
            "e436a4f9568a431b98ab6375cae204fa",
            "bf18e1592b67486dac07794582f27449",
            "afa525aebde54df9a4cf29e3cd8e8f45",
            "60032fecab874585822abece89703cee",
            "01a7dcd177444c3e8d351aae5f242061",
            "a48946c2bcb44f61ae0a08ac9231354b",
            "cb03cedfa35044d9a11e8d937e5e9b4b",
            "4d2f9c2a7638447fac71dd71d111f063",
            "70c7d42d698248ac9b29f2e13d67bb84",
            "e8e42c91f3fc424f86f780d562039d93",
            "510f4f01de9c4ea0ac9319de2e7bacde",
            "eb6091b5ef704fe1b28e1aef33771f03",
            "2fa9c2991cd44d32a6df6b35f9e0f1d3",
            "3b3e7dbbc8e74b8395e5ed9ce5b6bfd1",
            "7f42f3c3e6284583983ae463ab1d0ece",
            "69ca3cfe3cc444219ab32ff1c88668cf",
            "d541038b3fdc469e851a7000fd039ef8",
            "d72f7e80e8ab41c39d3b68c71d43f8c1",
            "4d5bd1914d054d70b12c69ab42e8b2c2",
            "bc0a829805354b30afb25b84f5294f1a",
            "e687b58a4fbe4a62b310afa8c3f3dd00",
            "4295b74f92fa42699e159c861246d5ff",
            "243843a2a83548adba8629c008bf0601",
            "935b5058487b46c0af2cb3b6830a800b",
            "73bb7e54bdd5495b92eaacb14f08c0e1",
            "a02d9dc0a9fb4e2dac6413d0a8fdb390",
            "abc25c4f036a4fdcaabc26bde7859335",
            "a3b6bb5702184b5d9addbbb3ca4a2f55",
            "b5198d3bd6ad4a978eca79fc8c25d334",
            "737a7b3a4df84038bbf3ab59068935fc",
            "c4afd04e22734ae0bfd13e832c0f9444",
            "4f7bccb185564fc0b081ea2cc86cfea8",
            "ac6c9215f5b844868cbceb6ceb4ac385",
            "0145b7a5e6774c5aa3d22139178c0888",
            "559fc8d583ed4a7f8073fcd92abc86ce",
            "19aa5ad2ab964d74a5103783fdec1286",
            "d23fe58ce61c4e97b345bd97ae42e319",
            "fd0addb01f4c4adba75870c8be8c5da4",
            "41a8f276200c44b2b618d22e63eafac6",
            "5b3df2f295ba4fb9867d5e47edd6b31a",
            "42b7c753fb084bd2b384eb88f0b52bfb",
            "076995030a2841b6883194389cc06245",
            "4cf35868027e48c2a2fe4966d7ad6bbb",
            "87c3e2d91fd44509b7b7b82da52010f7",
            "6585eca7c658487aa345e6cc3fa6c36f",
            "f09b3e49f5a643dc8bf473dab180f3d1",
            "3489957a8de341abb5978efe0137a33c",
            "39e729e36a824694bc409165f3dad9dd",
            "91b6a7a0c00f43c2b7c70debdd8d2983",
            "7dd34519fc9c496eaff75d4700f24b85",
            "ff4dcf16d5134312913da2baab26a528",
            "c8e9a1e52b794d3d8ee89bfa3d27c707",
            "f936fb676f5a47efbe035764e349efbf",
            "710cf4cb3bc94a178fad21880d4bebc8",
            "35f99383916d4cfdaba8d1d5330b0a4f",
            "6964ed0a859c43f7868041ded4564926",
            "010a5952007545b4b619c82b50462614",
            "0a6a94fbf36d4331afbdb0676591293b",
            "9b83df5cfa5846f19e7a9ce844be8288",
            "51f579f1430e43689251f5834fe02e15",
            "21f7edc46ceb4e4193a2383ae870b6d9",
            "6a2b2bc2992a4f1ea17a129802f5684c",
            "be05d5389971449a8af911f1957a56ea",
            "47d9d7c3b79d486096d19ae9935396e2",
            "2b7002b8933c4f0e95963b4ef4377295",
            "7896796e7e3a41fa9f9f685d1f9fd6ab",
            "0331bd933887464fba75585800797b41",
            "8b63caf5a6074ebd9fa45873467a5dd9",
            "e3ce2884a6af498285ab8af760e18b53",
            "74c286ab1acf4409977108334e55e9e7",
            "37d60e4f16c1405484f090fb65a848f9",
            "1049575848374536af556877841ca9b3",
            "4ed9679d0af94aab8837e876a31a4a7a",
            "4a5c438ed95a49f4b7d686818aa289e1",
            "41b70932a70f4c7c913404f2a863328f",
            "69570a26773b4f07b8791f0b8542cca9",
            "0c46f9ba2eda4bd2ab9398fa994fe1f7",
            "4a4b73a871b7427ab879439f3529ebe1",
            "f5d49000b4404a759cc98b886d27b591",
            "c7ccc741f9e54317bc17d309e713062d",
            "06eef7dc385948269cfc101b509f780e",
            "3a876bef40a44509b2557a15e3a88870",
            "d887375efc604920bca80de694b1fcad",
            "8ad4e0684cfe48a38eb969b2284cfd34",
            "2f1c8c0e988b4e59805d9fe80c85e6cb",
            "c8cfeb5dd9a04ee6b2fc3a7a896a697a",
            "8d434112b11948f5ae6439c7dd52579f",
            "e9531b3b014241b1a714a1b447815a46",
            "98c8ed4b62af4e8fb20bb03c1379a90c",
            "bffb58dad2dc46d28951dcb65ea036ca",
            "9de90833032c4eb1bcb1a77969ce2d6a",
            "ffa33f4bb78047bebb6ca7faa7361bf6",
            "c5d3a3c488b24370a2edd5bf29c8ad37",
            "ca3e5f22a9f34ae9ad27406b1b2abbc3",
            "11af57f86982478aa3ef2270ea69f6c4",
            "a59842832ccd49669a940f4bf8ed8463",
            "eeef93fdf6a74b31861b30443b3c4321",
            "29a2c90b78724620a9c4ca0c51c65968",
            "29642f8d253046428654801f3ddf254f",
            "fce3a96cad404520bf1b65a377d6dedb",
            "6f088638d4104adcaa4239160c00278d",
            "234f039248ea4e50ab585ef32a9535cc",
            "b2df03944f7c4ab9939d0f3d0d2d11d5",
            "42798d53d48c40c99b01b06c9be955b2",
            "0a63a11786bb4400b50eddaf72b57620",
            "2abbaf25c78c4286b61b5c9c409e6524",
            "c6773fd28d624eff8c3c29ee24f83337",
            "d1e5fedb3933403a867c97a5af7a4b3e",
            "987564a926e4498d865f60a8246f0d66",
            "52bb313b496c4118a412472853f370fc",
            "bf6cf9433cf24b618a4cfb8375d93027",
            "1fff62d495d74c9395d544678aa5c7b5",
            "77e63daef8b24ee4a86edbeaaca50fa0",
            "099cee52dbb6417bb5d352ebed64a0a1",
            "254632e3ed5d49c599caefaf66e311dd",
            "f2cf3ca37fc94ec0adbe5d076af9abee",
            "aa95d66d98964526b694114bf34aeb54",
            "f35e207ca47e473cb480294ae86c10ff",
            "9d0d3fa90fe242599534f4956a39197f",
            "7f52e72690f845139b2592f84ae67279",
            "997f8a1dcd5944079222a3b0e86a9576",
            "5aa9115c850349f1801ecc979b4d036f",
            "a9bc8beced3a4b059a1f47de425ac95c",
            "5212ce6bf52c4297a53ae1c7620b33f6",
            "a89b2febb00446c4ac55b7fe015bab3c",
            "5707fcf61f134a718d1acdd4423ebc61",
            "9b20b8af8fae4a79a347ad975fdf4de6",
            "1e13448777624f38ad8b8aac7004211e",
            "0a6185e15e454dbc8f7fbdb92df6c61a",
            "c051f24312e8475aac5b84a698483a13",
            "985a39666cb3443a8724039c92124ba5",
            "d637a5c9adfb4177ae30260133a13ca6",
            "eb03a4f5b1fc4d8ba337093a99291cda",
            "2b561ca8af494f56894ecaebe01f0e63",
            "4e9554e3604e4e88b5b05ba05fcf89c2",
            "a791b6dce5df47e0812d3bf565f52b4c",
            "56c365d998474c4591f0f661c01ce08e",
            "b1a0bd9ffd20432c946a62532a602bbb",
            "29dd9796c80b4d54936755cc9fd7a063",
            "792a6085e20f4742b88ba8d14e2d8b82",
            "d54634a07dc24a9ba1ff0a4364424f7e",
            "968b07f502054c4c9cea46b05d9d515b",
            "c1a68f9031924ced9ea741cc167d6ccc",
            "90a32e86d52644abb0753da07c13ea8d",
            "f0b7f7257b264fb1a9325ff90cd8a083",
            "ba3a69cb51134955bd1a5e80ee4bf29c",
            "40f05d702af944cea45707d6f5fc2302",
            "122875198bee4a00b078f9af375e7352",
            "885d6e6fc54c45179b25d7383aeb90d0",
            "fcce2fca7c284b5c87f63c9df66f4b6c",
            "54ea9f6070a040ecbcd2c5234b608bde",
            "c8550f8f6d8144dd8f655905e59f2013",
            "ebcd02e74b904675be13f4735a52d20b",
            "29d5468b7f724a078d2e064588f47d36",
            "24bc51a87f774159b15931fa1d32fcab",
            "a5c1e645cc0142f0ad5b8b0c20105cc4",
            "0156624719f54a07bde25e899c230d6f",
            "cb13c1a0d73140ccabfdfd73996c68ce",
            "79a1367a4e834a37b517438fca0baa68",
            "30ea115b1c7a4810b53383df9018fe25",
            "630a4bdb41ff47b08554b4182353f91c",
            "e7b0119aeff04031b5b88fccf6641b02",
            "e8ed50889ab0468ca6d86a388cca88ed",
            "5a67330c90dd453d94a8382295844b33",
            "266befab35584b2b85e887efe555625b"
          ]
        },
        "id": "zFMLWaWj3lXf",
        "outputId": "1684a169-7f85-42e8-c2d3-042d705dbaf7"
      },
      "outputs": [
        {
          "data": {
            "application/vnd.jupyter.widget-view+json": {
              "model_id": "e436a4f9568a431b98ab6375cae204fa",
              "version_major": 2,
              "version_minor": 0
            },
            "text/plain": [
              "Downloading (…)8d96a/.gitattributes:   0%|          | 0.00/690 [00:00<?, ?B/s]"
            ]
          },
          "metadata": {},
          "output_type": "display_data"
        },
        {
          "data": {
            "application/vnd.jupyter.widget-view+json": {
              "model_id": "eb6091b5ef704fe1b28e1aef33771f03",
              "version_major": 2,
              "version_minor": 0
            },
            "text/plain": [
              "Downloading (…)_Pooling/config.json:   0%|          | 0.00/190 [00:00<?, ?B/s]"
            ]
          },
          "metadata": {},
          "output_type": "display_data"
        },
        {
          "data": {
            "application/vnd.jupyter.widget-view+json": {
              "model_id": "243843a2a83548adba8629c008bf0601",
              "version_major": 2,
              "version_minor": 0
            },
            "text/plain": [
              "Downloading (…)/2_Dense/config.json:   0%|          | 0.00/114 [00:00<?, ?B/s]"
            ]
          },
          "metadata": {},
          "output_type": "display_data"
        },
        {
          "data": {
            "application/vnd.jupyter.widget-view+json": {
              "model_id": "0145b7a5e6774c5aa3d22139178c0888",
              "version_major": 2,
              "version_minor": 0
            },
            "text/plain": [
              "Downloading pytorch_model.bin:   0%|          | 0.00/1.58M [00:00<?, ?B/s]"
            ]
          },
          "metadata": {},
          "output_type": "display_data"
        },
        {
          "data": {
            "application/vnd.jupyter.widget-view+json": {
              "model_id": "6585eca7c658487aa345e6cc3fa6c36f",
              "version_major": 2,
              "version_minor": 0
            },
            "text/plain": [
              "Downloading rust_model.ot:   0%|          | 0.00/1.58M [00:00<?, ?B/s]"
            ]
          },
          "metadata": {},
          "output_type": "display_data"
        },
        {
          "data": {
            "application/vnd.jupyter.widget-view+json": {
              "model_id": "6964ed0a859c43f7868041ded4564926",
              "version_major": 2,
              "version_minor": 0
            },
            "text/plain": [
              "Downloading (…)3a5428d96a/README.md:   0%|          | 0.00/2.37k [00:00<?, ?B/s]"
            ]
          },
          "metadata": {},
          "output_type": "display_data"
        },
        {
          "data": {
            "application/vnd.jupyter.widget-view+json": {
              "model_id": "0331bd933887464fba75585800797b41",
              "version_major": 2,
              "version_minor": 0
            },
            "text/plain": [
              "Downloading (…)5428d96a/config.json:   0%|          | 0.00/607 [00:00<?, ?B/s]"
            ]
          },
          "metadata": {},
          "output_type": "display_data"
        },
        {
          "data": {
            "application/vnd.jupyter.widget-view+json": {
              "model_id": "4a4b73a871b7427ab879439f3529ebe1",
              "version_major": 2,
              "version_minor": 0
            },
            "text/plain": [
              "Downloading (…)ce_transformers.json:   0%|          | 0.00/122 [00:00<?, ?B/s]"
            ]
          },
          "metadata": {},
          "output_type": "display_data"
        },
        {
          "data": {
            "application/vnd.jupyter.widget-view+json": {
              "model_id": "98c8ed4b62af4e8fb20bb03c1379a90c",
              "version_major": 2,
              "version_minor": 0
            },
            "text/plain": [
              "Downloading pytorch_model.bin:   0%|          | 0.00/539M [00:00<?, ?B/s]"
            ]
          },
          "metadata": {},
          "output_type": "display_data"
        },
        {
          "data": {
            "application/vnd.jupyter.widget-view+json": {
              "model_id": "fce3a96cad404520bf1b65a377d6dedb",
              "version_major": 2,
              "version_minor": 0
            },
            "text/plain": [
              "Downloading (…)nce_bert_config.json:   0%|          | 0.00/53.0 [00:00<?, ?B/s]"
            ]
          },
          "metadata": {},
          "output_type": "display_data"
        },
        {
          "data": {
            "application/vnd.jupyter.widget-view+json": {
              "model_id": "bf6cf9433cf24b618a4cfb8375d93027",
              "version_major": 2,
              "version_minor": 0
            },
            "text/plain": [
              "Downloading (…)cial_tokens_map.json:   0%|          | 0.00/112 [00:00<?, ?B/s]"
            ]
          },
          "metadata": {},
          "output_type": "display_data"
        },
        {
          "data": {
            "application/vnd.jupyter.widget-view+json": {
              "model_id": "5aa9115c850349f1801ecc979b4d036f",
              "version_major": 2,
              "version_minor": 0
            },
            "text/plain": [
              "Downloading (…)8d96a/tokenizer.json:   0%|          | 0.00/1.96M [00:00<?, ?B/s]"
            ]
          },
          "metadata": {},
          "output_type": "display_data"
        },
        {
          "data": {
            "application/vnd.jupyter.widget-view+json": {
              "model_id": "eb03a4f5b1fc4d8ba337093a99291cda",
              "version_major": 2,
              "version_minor": 0
            },
            "text/plain": [
              "Downloading (…)okenizer_config.json:   0%|          | 0.00/528 [00:00<?, ?B/s]"
            ]
          },
          "metadata": {},
          "output_type": "display_data"
        },
        {
          "data": {
            "application/vnd.jupyter.widget-view+json": {
              "model_id": "90a32e86d52644abb0753da07c13ea8d",
              "version_major": 2,
              "version_minor": 0
            },
            "text/plain": [
              "Downloading (…)3a5428d96a/vocab.txt:   0%|          | 0.00/996k [00:00<?, ?B/s]"
            ]
          },
          "metadata": {},
          "output_type": "display_data"
        },
        {
          "data": {
            "application/vnd.jupyter.widget-view+json": {
              "model_id": "24bc51a87f774159b15931fa1d32fcab",
              "version_major": 2,
              "version_minor": 0
            },
            "text/plain": [
              "Downloading (…)428d96a/modules.json:   0%|          | 0.00/341 [00:00<?, ?B/s]"
            ]
          },
          "metadata": {},
          "output_type": "display_data"
        }
      ],
      "source": [
        "model = SentenceTransformer('distiluse-base-multilingual-cased')"
      ]
    },
    {
      "cell_type": "code",
      "execution_count": null,
      "metadata": {
        "id": "CLd4B3C53WzN"
      },
      "outputs": [],
      "source": [
        "sentimento_trasformers = pd.DataFrame(df['targetSentimento'])"
      ]
    },
    {
      "cell_type": "code",
      "execution_count": null,
      "metadata": {
        "id": "Hn3_RYLy3inN"
      },
      "outputs": [],
      "source": [
        "# Calcula os embeddings para a coluna de sentenças\n",
        "embeddings_liz = model.encode(df['texto'].tolist())\n",
        "\n",
        "# Cria um novo DataFrame com os embeddings\n",
        "embeddings_df = pd.DataFrame(embeddings_liz)"
      ]
    },
    {
      "cell_type": "code",
      "execution_count": null,
      "metadata": {
        "id": "TKeEo0zmIbuw"
      },
      "outputs": [],
      "source": [
        "from imblearn.over_sampling import RandomOverSampler\n",
        "\n",
        "#inicializa o oversampler\n",
        "oversampler = RandomOverSampler(random_state=42)\n",
        "\n",
        "#aplica o oversampling nos dado\n",
        "embeddings_df, sentimento_trasformers = oversampler.fit_resample(embeddings_df, sentimento_trasformers)"
      ]
    },
    {
      "cell_type": "code",
      "execution_count": null,
      "metadata": {
        "id": "HVZG-2oZ3xeg"
      },
      "outputs": [],
      "source": [
        "#setando valores para positivo, neutro e negativo\n",
        "sentimento_trasformers = sentimento_trasformers.replace({'POSITIVE': 0,'NEUTRAL': 1, 'NEGATIVE': 2})"
      ]
    },
    {
      "cell_type": "code",
      "execution_count": null,
      "metadata": {
        "id": "rNsKhD3Q31-A"
      },
      "outputs": [],
      "source": [
        "#Divisão entre treinamento e teste\n",
        "previsores_treinamento_trasformers, previsores_teste_trasformers, classe_treinamento_trasformers, classe_teste_trasformers = train_test_split(embeddings_df, sentimento_trasformers, test_size=0.25)"
      ]
    },
    {
      "cell_type": "code",
      "execution_count": null,
      "metadata": {
        "colab": {
          "base_uri": "https://localhost:8080/"
        },
        "id": "mMa_uO0g3-Hx",
        "outputId": "8c116cad-fa52-46d8-a8d7-b40e5dd19bb8"
      },
      "outputs": [
        {
          "data": {
            "text/plain": [
              "targetSentimento\n",
              "1                   2999\n",
              "0                   2990\n",
              "2                   2950\n",
              "dtype: int64"
            ]
          },
          "execution_count": 58,
          "metadata": {},
          "output_type": "execute_result"
        }
      ],
      "source": [
        "classe_treinamento_trasformers.value_counts()"
      ]
    },
    {
      "cell_type": "code",
      "execution_count": null,
      "metadata": {
        "id": "N73KIWH_4DdH"
      },
      "outputs": [],
      "source": [
        "classe_treinamento_trasformers = to_categorical(classe_treinamento_trasformers, num_classes=3)\n",
        "classe_teste_trasformers = to_categorical(classe_teste_trasformers, num_classes=3)"
      ]
    },
    {
      "cell_type": "code",
      "execution_count": null,
      "metadata": {
        "id": "SIUZbMCz4H6P"
      },
      "outputs": [],
      "source": [
        "#Definição do modelo sequencial\n",
        "classificador_trasformers = Sequential()\n",
        "\n",
        "#adição da camada densa com 256 unidades, ativação relu e inicialização normal dos pesos\n",
        "classificador_trasformers.add(Dense(units = 256, activation = \"relu\",\n",
        "                        kernel_initializer = 'normal', input_dim = 512))\n",
        "\n",
        "#Adição da camada densa com 3 unidades de saída\n",
        "classificador_trasformers.add(Dense(units = 3, activation = 'softmax'))\n",
        "\n",
        "##compilação do modelo com o otimizador Adam, a função de perda categorical e métrica de avaliação acurácia\n",
        "classificador_trasformers.compile(optimizer = 'adam', loss = 'categorical_crossentropy',\n",
        "                      metrics = ['accuracy'])"
      ]
    },
    {
      "cell_type": "code",
      "execution_count": null,
      "metadata": {
        "colab": {
          "base_uri": "https://localhost:8080/"
        },
        "id": "fAwbqZVP_ryj",
        "outputId": "6606c3e7-5289-44c8-9b05-b994348cc685"
      },
      "outputs": [
        {
          "data": {
            "text/html": [
              "\n",
              "  <div id=\"df-da95783b-595c-452d-9071-c59bd35caf24\">\n",
              "    <div class=\"colab-df-container\">\n",
              "      <div>\n",
              "<style scoped>\n",
              "    .dataframe tbody tr th:only-of-type {\n",
              "        vertical-align: middle;\n",
              "    }\n",
              "\n",
              "    .dataframe tbody tr th {\n",
              "        vertical-align: top;\n",
              "    }\n",
              "\n",
              "    .dataframe thead th {\n",
              "        text-align: right;\n",
              "    }\n",
              "</style>\n",
              "<table border=\"1\" class=\"dataframe\">\n",
              "  <thead>\n",
              "    <tr style=\"text-align: right;\">\n",
              "      <th></th>\n",
              "      <th>0</th>\n",
              "      <th>1</th>\n",
              "      <th>2</th>\n",
              "      <th>3</th>\n",
              "      <th>4</th>\n",
              "      <th>5</th>\n",
              "      <th>6</th>\n",
              "      <th>7</th>\n",
              "      <th>8</th>\n",
              "      <th>9</th>\n",
              "      <th>...</th>\n",
              "      <th>502</th>\n",
              "      <th>503</th>\n",
              "      <th>504</th>\n",
              "      <th>505</th>\n",
              "      <th>506</th>\n",
              "      <th>507</th>\n",
              "      <th>508</th>\n",
              "      <th>509</th>\n",
              "      <th>510</th>\n",
              "      <th>511</th>\n",
              "    </tr>\n",
              "  </thead>\n",
              "  <tbody>\n",
              "    <tr>\n",
              "      <th>544</th>\n",
              "      <td>0.005354</td>\n",
              "      <td>-0.031477</td>\n",
              "      <td>-0.008890</td>\n",
              "      <td>0.006742</td>\n",
              "      <td>0.022923</td>\n",
              "      <td>0.010124</td>\n",
              "      <td>-0.053773</td>\n",
              "      <td>0.024076</td>\n",
              "      <td>0.044914</td>\n",
              "      <td>0.010982</td>\n",
              "      <td>...</td>\n",
              "      <td>0.052389</td>\n",
              "      <td>-0.001733</td>\n",
              "      <td>0.025735</td>\n",
              "      <td>-0.000652</td>\n",
              "      <td>0.021794</td>\n",
              "      <td>-0.036596</td>\n",
              "      <td>0.011369</td>\n",
              "      <td>-0.001784</td>\n",
              "      <td>-0.021829</td>\n",
              "      <td>0.018666</td>\n",
              "    </tr>\n",
              "    <tr>\n",
              "      <th>6440</th>\n",
              "      <td>-0.055871</td>\n",
              "      <td>-0.053985</td>\n",
              "      <td>-0.016454</td>\n",
              "      <td>0.001796</td>\n",
              "      <td>-0.084698</td>\n",
              "      <td>-0.003006</td>\n",
              "      <td>-0.041632</td>\n",
              "      <td>-0.062083</td>\n",
              "      <td>-0.011328</td>\n",
              "      <td>-0.009063</td>\n",
              "      <td>...</td>\n",
              "      <td>-0.012507</td>\n",
              "      <td>0.009771</td>\n",
              "      <td>-0.038611</td>\n",
              "      <td>-0.003641</td>\n",
              "      <td>-0.028944</td>\n",
              "      <td>0.004448</td>\n",
              "      <td>-0.037904</td>\n",
              "      <td>0.043346</td>\n",
              "      <td>0.055228</td>\n",
              "      <td>-0.050232</td>\n",
              "    </tr>\n",
              "    <tr>\n",
              "      <th>4609</th>\n",
              "      <td>-0.003202</td>\n",
              "      <td>0.010980</td>\n",
              "      <td>-0.012309</td>\n",
              "      <td>-0.016720</td>\n",
              "      <td>0.067523</td>\n",
              "      <td>-0.009831</td>\n",
              "      <td>-0.021234</td>\n",
              "      <td>-0.034368</td>\n",
              "      <td>0.031119</td>\n",
              "      <td>-0.009703</td>\n",
              "      <td>...</td>\n",
              "      <td>0.027230</td>\n",
              "      <td>-0.047468</td>\n",
              "      <td>-0.042186</td>\n",
              "      <td>0.035801</td>\n",
              "      <td>-0.052838</td>\n",
              "      <td>-0.014248</td>\n",
              "      <td>-0.038783</td>\n",
              "      <td>-0.017678</td>\n",
              "      <td>0.040703</td>\n",
              "      <td>0.052805</td>\n",
              "    </tr>\n",
              "    <tr>\n",
              "      <th>10412</th>\n",
              "      <td>-0.007252</td>\n",
              "      <td>-0.026733</td>\n",
              "      <td>0.027772</td>\n",
              "      <td>-0.025907</td>\n",
              "      <td>-0.025840</td>\n",
              "      <td>-0.005584</td>\n",
              "      <td>0.002792</td>\n",
              "      <td>0.008972</td>\n",
              "      <td>-0.006030</td>\n",
              "      <td>0.040485</td>\n",
              "      <td>...</td>\n",
              "      <td>-0.028076</td>\n",
              "      <td>-0.015604</td>\n",
              "      <td>-0.016088</td>\n",
              "      <td>-0.000971</td>\n",
              "      <td>-0.039896</td>\n",
              "      <td>-0.001244</td>\n",
              "      <td>-0.013223</td>\n",
              "      <td>-0.037727</td>\n",
              "      <td>-0.022289</td>\n",
              "      <td>-0.022538</td>\n",
              "    </tr>\n",
              "    <tr>\n",
              "      <th>5699</th>\n",
              "      <td>0.013599</td>\n",
              "      <td>-0.003466</td>\n",
              "      <td>-0.027660</td>\n",
              "      <td>-0.032529</td>\n",
              "      <td>-0.017321</td>\n",
              "      <td>0.020442</td>\n",
              "      <td>-0.001929</td>\n",
              "      <td>-0.032666</td>\n",
              "      <td>-0.016459</td>\n",
              "      <td>0.000230</td>\n",
              "      <td>...</td>\n",
              "      <td>0.007016</td>\n",
              "      <td>0.001134</td>\n",
              "      <td>0.012586</td>\n",
              "      <td>0.013148</td>\n",
              "      <td>-0.004575</td>\n",
              "      <td>-0.022408</td>\n",
              "      <td>0.000967</td>\n",
              "      <td>-0.004490</td>\n",
              "      <td>0.004567</td>\n",
              "      <td>-0.018769</td>\n",
              "    </tr>\n",
              "    <tr>\n",
              "      <th>...</th>\n",
              "      <td>...</td>\n",
              "      <td>...</td>\n",
              "      <td>...</td>\n",
              "      <td>...</td>\n",
              "      <td>...</td>\n",
              "      <td>...</td>\n",
              "      <td>...</td>\n",
              "      <td>...</td>\n",
              "      <td>...</td>\n",
              "      <td>...</td>\n",
              "      <td>...</td>\n",
              "      <td>...</td>\n",
              "      <td>...</td>\n",
              "      <td>...</td>\n",
              "      <td>...</td>\n",
              "      <td>...</td>\n",
              "      <td>...</td>\n",
              "      <td>...</td>\n",
              "      <td>...</td>\n",
              "      <td>...</td>\n",
              "      <td>...</td>\n",
              "    </tr>\n",
              "    <tr>\n",
              "      <th>7106</th>\n",
              "      <td>0.069865</td>\n",
              "      <td>-0.047921</td>\n",
              "      <td>0.051939</td>\n",
              "      <td>-0.011943</td>\n",
              "      <td>-0.000179</td>\n",
              "      <td>-0.064030</td>\n",
              "      <td>-0.011313</td>\n",
              "      <td>-0.042242</td>\n",
              "      <td>-0.005731</td>\n",
              "      <td>0.005478</td>\n",
              "      <td>...</td>\n",
              "      <td>-0.006830</td>\n",
              "      <td>0.041607</td>\n",
              "      <td>0.018197</td>\n",
              "      <td>0.006597</td>\n",
              "      <td>-0.007821</td>\n",
              "      <td>0.001963</td>\n",
              "      <td>-0.032509</td>\n",
              "      <td>0.039030</td>\n",
              "      <td>0.011500</td>\n",
              "      <td>-0.005730</td>\n",
              "    </tr>\n",
              "    <tr>\n",
              "      <th>1977</th>\n",
              "      <td>0.043749</td>\n",
              "      <td>-0.090823</td>\n",
              "      <td>-0.023054</td>\n",
              "      <td>-0.019497</td>\n",
              "      <td>0.013660</td>\n",
              "      <td>-0.047095</td>\n",
              "      <td>0.014451</td>\n",
              "      <td>0.008629</td>\n",
              "      <td>0.034532</td>\n",
              "      <td>0.079315</td>\n",
              "      <td>...</td>\n",
              "      <td>-0.054495</td>\n",
              "      <td>0.020782</td>\n",
              "      <td>0.027855</td>\n",
              "      <td>0.014907</td>\n",
              "      <td>-0.091213</td>\n",
              "      <td>-0.007052</td>\n",
              "      <td>-0.006261</td>\n",
              "      <td>0.025502</td>\n",
              "      <td>-0.051462</td>\n",
              "      <td>-0.003145</td>\n",
              "    </tr>\n",
              "    <tr>\n",
              "      <th>1307</th>\n",
              "      <td>0.057849</td>\n",
              "      <td>0.038356</td>\n",
              "      <td>-0.082262</td>\n",
              "      <td>0.010550</td>\n",
              "      <td>0.078265</td>\n",
              "      <td>0.062761</td>\n",
              "      <td>0.044804</td>\n",
              "      <td>-0.071547</td>\n",
              "      <td>-0.019882</td>\n",
              "      <td>0.068832</td>\n",
              "      <td>...</td>\n",
              "      <td>-0.001249</td>\n",
              "      <td>0.010309</td>\n",
              "      <td>0.033880</td>\n",
              "      <td>-0.065169</td>\n",
              "      <td>-0.035101</td>\n",
              "      <td>-0.006983</td>\n",
              "      <td>-0.095694</td>\n",
              "      <td>-0.010369</td>\n",
              "      <td>-0.083981</td>\n",
              "      <td>0.109566</td>\n",
              "    </tr>\n",
              "    <tr>\n",
              "      <th>7081</th>\n",
              "      <td>0.012142</td>\n",
              "      <td>-0.026453</td>\n",
              "      <td>-0.027578</td>\n",
              "      <td>-0.074779</td>\n",
              "      <td>0.049194</td>\n",
              "      <td>0.044122</td>\n",
              "      <td>0.024784</td>\n",
              "      <td>-0.058084</td>\n",
              "      <td>0.000015</td>\n",
              "      <td>0.010980</td>\n",
              "      <td>...</td>\n",
              "      <td>0.017059</td>\n",
              "      <td>0.017402</td>\n",
              "      <td>0.014446</td>\n",
              "      <td>0.035923</td>\n",
              "      <td>0.016901</td>\n",
              "      <td>-0.053163</td>\n",
              "      <td>-0.000696</td>\n",
              "      <td>0.011642</td>\n",
              "      <td>0.007187</td>\n",
              "      <td>-0.049251</td>\n",
              "    </tr>\n",
              "    <tr>\n",
              "      <th>11020</th>\n",
              "      <td>0.007467</td>\n",
              "      <td>-0.072570</td>\n",
              "      <td>0.036882</td>\n",
              "      <td>-0.003532</td>\n",
              "      <td>0.086486</td>\n",
              "      <td>0.015452</td>\n",
              "      <td>0.044906</td>\n",
              "      <td>0.068087</td>\n",
              "      <td>0.035311</td>\n",
              "      <td>0.045124</td>\n",
              "      <td>...</td>\n",
              "      <td>-0.032622</td>\n",
              "      <td>0.009514</td>\n",
              "      <td>0.015703</td>\n",
              "      <td>0.025850</td>\n",
              "      <td>-0.059834</td>\n",
              "      <td>-0.022762</td>\n",
              "      <td>0.031248</td>\n",
              "      <td>0.016919</td>\n",
              "      <td>-0.046227</td>\n",
              "      <td>0.044744</td>\n",
              "    </tr>\n",
              "  </tbody>\n",
              "</table>\n",
              "<p>8939 rows × 512 columns</p>\n",
              "</div>\n",
              "      <button class=\"colab-df-convert\" onclick=\"convertToInteractive('df-da95783b-595c-452d-9071-c59bd35caf24')\"\n",
              "              title=\"Convert this dataframe to an interactive table.\"\n",
              "              style=\"display:none;\">\n",
              "        \n",
              "  <svg xmlns=\"http://www.w3.org/2000/svg\" height=\"24px\"viewBox=\"0 0 24 24\"\n",
              "       width=\"24px\">\n",
              "    <path d=\"M0 0h24v24H0V0z\" fill=\"none\"/>\n",
              "    <path d=\"M18.56 5.44l.94 2.06.94-2.06 2.06-.94-2.06-.94-.94-2.06-.94 2.06-2.06.94zm-11 1L8.5 8.5l.94-2.06 2.06-.94-2.06-.94L8.5 2.5l-.94 2.06-2.06.94zm10 10l.94 2.06.94-2.06 2.06-.94-2.06-.94-.94-2.06-.94 2.06-2.06.94z\"/><path d=\"M17.41 7.96l-1.37-1.37c-.4-.4-.92-.59-1.43-.59-.52 0-1.04.2-1.43.59L10.3 9.45l-7.72 7.72c-.78.78-.78 2.05 0 2.83L4 21.41c.39.39.9.59 1.41.59.51 0 1.02-.2 1.41-.59l7.78-7.78 2.81-2.81c.8-.78.8-2.07 0-2.86zM5.41 20L4 18.59l7.72-7.72 1.47 1.35L5.41 20z\"/>\n",
              "  </svg>\n",
              "      </button>\n",
              "      \n",
              "  <style>\n",
              "    .colab-df-container {\n",
              "      display:flex;\n",
              "      flex-wrap:wrap;\n",
              "      gap: 12px;\n",
              "    }\n",
              "\n",
              "    .colab-df-convert {\n",
              "      background-color: #E8F0FE;\n",
              "      border: none;\n",
              "      border-radius: 50%;\n",
              "      cursor: pointer;\n",
              "      display: none;\n",
              "      fill: #1967D2;\n",
              "      height: 32px;\n",
              "      padding: 0 0 0 0;\n",
              "      width: 32px;\n",
              "    }\n",
              "\n",
              "    .colab-df-convert:hover {\n",
              "      background-color: #E2EBFA;\n",
              "      box-shadow: 0px 1px 2px rgba(60, 64, 67, 0.3), 0px 1px 3px 1px rgba(60, 64, 67, 0.15);\n",
              "      fill: #174EA6;\n",
              "    }\n",
              "\n",
              "    [theme=dark] .colab-df-convert {\n",
              "      background-color: #3B4455;\n",
              "      fill: #D2E3FC;\n",
              "    }\n",
              "\n",
              "    [theme=dark] .colab-df-convert:hover {\n",
              "      background-color: #434B5C;\n",
              "      box-shadow: 0px 1px 3px 1px rgba(0, 0, 0, 0.15);\n",
              "      filter: drop-shadow(0px 1px 2px rgba(0, 0, 0, 0.3));\n",
              "      fill: #FFFFFF;\n",
              "    }\n",
              "  </style>\n",
              "\n",
              "      <script>\n",
              "        const buttonEl =\n",
              "          document.querySelector('#df-da95783b-595c-452d-9071-c59bd35caf24 button.colab-df-convert');\n",
              "        buttonEl.style.display =\n",
              "          google.colab.kernel.accessAllowed ? 'block' : 'none';\n",
              "\n",
              "        async function convertToInteractive(key) {\n",
              "          const element = document.querySelector('#df-da95783b-595c-452d-9071-c59bd35caf24');\n",
              "          const dataTable =\n",
              "            await google.colab.kernel.invokeFunction('convertToInteractive',\n",
              "                                                     [key], {});\n",
              "          if (!dataTable) return;\n",
              "\n",
              "          const docLinkHtml = 'Like what you see? Visit the ' +\n",
              "            '<a target=\"_blank\" href=https://colab.research.google.com/notebooks/data_table.ipynb>data table notebook</a>'\n",
              "            + ' to learn more about interactive tables.';\n",
              "          element.innerHTML = '';\n",
              "          dataTable['output_type'] = 'display_data';\n",
              "          await google.colab.output.renderOutput(dataTable, element);\n",
              "          const docLink = document.createElement('div');\n",
              "          docLink.innerHTML = docLinkHtml;\n",
              "          element.appendChild(docLink);\n",
              "        }\n",
              "      </script>\n",
              "    </div>\n",
              "  </div>\n",
              "  "
            ],
            "text/plain": [
              "            0         1         2         3         4         5         6    \\\n",
              "544    0.005354 -0.031477 -0.008890  0.006742  0.022923  0.010124 -0.053773   \n",
              "6440  -0.055871 -0.053985 -0.016454  0.001796 -0.084698 -0.003006 -0.041632   \n",
              "4609  -0.003202  0.010980 -0.012309 -0.016720  0.067523 -0.009831 -0.021234   \n",
              "10412 -0.007252 -0.026733  0.027772 -0.025907 -0.025840 -0.005584  0.002792   \n",
              "5699   0.013599 -0.003466 -0.027660 -0.032529 -0.017321  0.020442 -0.001929   \n",
              "...         ...       ...       ...       ...       ...       ...       ...   \n",
              "7106   0.069865 -0.047921  0.051939 -0.011943 -0.000179 -0.064030 -0.011313   \n",
              "1977   0.043749 -0.090823 -0.023054 -0.019497  0.013660 -0.047095  0.014451   \n",
              "1307   0.057849  0.038356 -0.082262  0.010550  0.078265  0.062761  0.044804   \n",
              "7081   0.012142 -0.026453 -0.027578 -0.074779  0.049194  0.044122  0.024784   \n",
              "11020  0.007467 -0.072570  0.036882 -0.003532  0.086486  0.015452  0.044906   \n",
              "\n",
              "            7         8         9    ...       502       503       504  \\\n",
              "544    0.024076  0.044914  0.010982  ...  0.052389 -0.001733  0.025735   \n",
              "6440  -0.062083 -0.011328 -0.009063  ... -0.012507  0.009771 -0.038611   \n",
              "4609  -0.034368  0.031119 -0.009703  ...  0.027230 -0.047468 -0.042186   \n",
              "10412  0.008972 -0.006030  0.040485  ... -0.028076 -0.015604 -0.016088   \n",
              "5699  -0.032666 -0.016459  0.000230  ...  0.007016  0.001134  0.012586   \n",
              "...         ...       ...       ...  ...       ...       ...       ...   \n",
              "7106  -0.042242 -0.005731  0.005478  ... -0.006830  0.041607  0.018197   \n",
              "1977   0.008629  0.034532  0.079315  ... -0.054495  0.020782  0.027855   \n",
              "1307  -0.071547 -0.019882  0.068832  ... -0.001249  0.010309  0.033880   \n",
              "7081  -0.058084  0.000015  0.010980  ...  0.017059  0.017402  0.014446   \n",
              "11020  0.068087  0.035311  0.045124  ... -0.032622  0.009514  0.015703   \n",
              "\n",
              "            505       506       507       508       509       510       511  \n",
              "544   -0.000652  0.021794 -0.036596  0.011369 -0.001784 -0.021829  0.018666  \n",
              "6440  -0.003641 -0.028944  0.004448 -0.037904  0.043346  0.055228 -0.050232  \n",
              "4609   0.035801 -0.052838 -0.014248 -0.038783 -0.017678  0.040703  0.052805  \n",
              "10412 -0.000971 -0.039896 -0.001244 -0.013223 -0.037727 -0.022289 -0.022538  \n",
              "5699   0.013148 -0.004575 -0.022408  0.000967 -0.004490  0.004567 -0.018769  \n",
              "...         ...       ...       ...       ...       ...       ...       ...  \n",
              "7106   0.006597 -0.007821  0.001963 -0.032509  0.039030  0.011500 -0.005730  \n",
              "1977   0.014907 -0.091213 -0.007052 -0.006261  0.025502 -0.051462 -0.003145  \n",
              "1307  -0.065169 -0.035101 -0.006983 -0.095694 -0.010369 -0.083981  0.109566  \n",
              "7081   0.035923  0.016901 -0.053163 -0.000696  0.011642  0.007187 -0.049251  \n",
              "11020  0.025850 -0.059834 -0.022762  0.031248  0.016919 -0.046227  0.044744  \n",
              "\n",
              "[8939 rows x 512 columns]"
            ]
          },
          "execution_count": 61,
          "metadata": {},
          "output_type": "execute_result"
        }
      ],
      "source": [
        "previsores_treinamento_trasformers"
      ]
    },
    {
      "cell_type": "code",
      "execution_count": null,
      "metadata": {
        "colab": {
          "base_uri": "https://localhost:8080/"
        },
        "id": "OHdrXjWb4Kdi",
        "outputId": "4149c3ec-8b7b-4d10-958a-71fcddc3dbb5"
      },
      "outputs": [
        {
          "name": "stdout",
          "output_type": "stream",
          "text": [
            "Epoch 1/100\n",
            "280/280 [==============================] - 4s 9ms/step - loss: 0.6626 - accuracy: 0.7368 - val_loss: 0.5140 - val_accuracy: 0.7990\n",
            "Epoch 2/100\n",
            "280/280 [==============================] - 1s 5ms/step - loss: 0.5092 - accuracy: 0.7968 - val_loss: 0.4893 - val_accuracy: 0.8107\n",
            "Epoch 3/100\n",
            "280/280 [==============================] - 2s 6ms/step - loss: 0.4754 - accuracy: 0.8133 - val_loss: 0.4716 - val_accuracy: 0.8238\n",
            "Epoch 4/100\n",
            "280/280 [==============================] - 2s 6ms/step - loss: 0.4468 - accuracy: 0.8256 - val_loss: 0.4575 - val_accuracy: 0.8242\n",
            "Epoch 5/100\n",
            "280/280 [==============================] - 2s 6ms/step - loss: 0.4183 - accuracy: 0.8366 - val_loss: 0.4528 - val_accuracy: 0.8248\n",
            "Epoch 6/100\n",
            "280/280 [==============================] - 1s 5ms/step - loss: 0.3924 - accuracy: 0.8496 - val_loss: 0.4437 - val_accuracy: 0.8315\n",
            "Epoch 7/100\n",
            "280/280 [==============================] - 2s 7ms/step - loss: 0.3640 - accuracy: 0.8650 - val_loss: 0.4312 - val_accuracy: 0.8379\n",
            "Epoch 8/100\n",
            "280/280 [==============================] - 2s 9ms/step - loss: 0.3351 - accuracy: 0.8780 - val_loss: 0.4369 - val_accuracy: 0.8299\n",
            "Epoch 9/100\n",
            "280/280 [==============================] - 2s 9ms/step - loss: 0.3087 - accuracy: 0.8886 - val_loss: 0.4142 - val_accuracy: 0.8497\n",
            "Epoch 10/100\n",
            "280/280 [==============================] - 2s 9ms/step - loss: 0.2813 - accuracy: 0.9042 - val_loss: 0.4065 - val_accuracy: 0.8570\n",
            "Epoch 11/100\n",
            "280/280 [==============================] - 2s 6ms/step - loss: 0.2537 - accuracy: 0.9151 - val_loss: 0.4012 - val_accuracy: 0.8564\n",
            "Epoch 12/100\n",
            "280/280 [==============================] - 1s 5ms/step - loss: 0.2284 - accuracy: 0.9310 - val_loss: 0.3986 - val_accuracy: 0.8584\n",
            "Epoch 13/100\n",
            "280/280 [==============================] - 2s 6ms/step - loss: 0.2057 - accuracy: 0.9389 - val_loss: 0.3905 - val_accuracy: 0.8668\n",
            "Epoch 14/100\n",
            "280/280 [==============================] - 1s 5ms/step - loss: 0.1864 - accuracy: 0.9463 - val_loss: 0.3966 - val_accuracy: 0.8644\n",
            "Epoch 15/100\n",
            "280/280 [==============================] - 2s 6ms/step - loss: 0.1648 - accuracy: 0.9566 - val_loss: 0.3857 - val_accuracy: 0.8678\n",
            "Epoch 16/100\n",
            "280/280 [==============================] - 2s 6ms/step - loss: 0.1470 - accuracy: 0.9593 - val_loss: 0.3903 - val_accuracy: 0.8711\n",
            "Epoch 17/100\n",
            "280/280 [==============================] - 2s 8ms/step - loss: 0.1315 - accuracy: 0.9667 - val_loss: 0.3923 - val_accuracy: 0.8725\n"
          ]
        },
        {
          "data": {
            "text/plain": [
              "<keras.callbacks.History at 0x7f9c944fab00>"
            ]
          },
          "execution_count": 62,
          "metadata": {},
          "output_type": "execute_result"
        }
      ],
      "source": [
        "#cria um objeto para monitorar a perda de validação(valloss) durante o treinamento\n",
        "early_stopping = EarlyStopping(monitor='val_loss', patience=2)\n",
        "\n",
        "#treina o modelo de rede neural com os dados de treinamento e validação utilizando EarlyStopping\n",
        "classificador_trasformers.fit(previsores_treinamento_trasformers, classe_treinamento_trasformers,\n",
        "                  validation_data=(previsores_teste_trasformers, classe_teste_trasformers),\n",
        "                  epochs=100, callbacks=[early_stopping])"
      ]
    },
    {
      "attachments": {},
      "cell_type": "markdown",
      "metadata": {
        "id": "Kko5qOTsR9Tp"
      },
      "source": [
        "#### Resultados"
      ]
    },
    {
      "cell_type": "code",
      "execution_count": null,
      "metadata": {
        "id": "kkacMAHON7hB"
      },
      "outputs": [],
      "source": [
        "def compararTreinoTeste(classificador_trasformers):\n",
        "    train_acc = classificador_trasformers.history['accuracy']\n",
        "    val_acc = classificador_trasformers.history['val_accuracy']\n",
        "\n",
        "    # Plotar gráfico de acurácia\n",
        "    epochs = range(1, len(train_acc) + 1)\n",
        "    plt.plot(epochs, train_acc, 'b', label='Acurácia - Treinamento')\n",
        "    plt.plot(epochs, val_acc, 'r', label='Acurácia - Teste')\n",
        "    plt.title('Curva de Acurácia - Treinamento e Teste')\n",
        "    plt.xlabel('Épocas')\n",
        "    plt.ylabel('Acurácia')\n",
        "    plt.legend()\n",
        "    plt.show()"
      ]
    },
    {
      "cell_type": "code",
      "execution_count": null,
      "metadata": {
        "colab": {
          "base_uri": "https://localhost:8080/"
        },
        "id": "xl1FO90e4New",
        "outputId": "77b8a58f-16dc-4d88-d3c1-d371907aa8de"
      },
      "outputs": [
        {
          "name": "stdout",
          "output_type": "stream",
          "text": [
            "94/94 [==============================] - 0s 2ms/step\n"
          ]
        }
      ],
      "source": [
        "previsoes_trasformers = classificador_trasformers.predict(previsores_teste_trasformers)\n",
        "previsoes_trasformers = np.argmax(previsoes_trasformers, axis=1)\n",
        "\n",
        "# Converter os alvos verdadeiros para inteiros\n",
        "classe_teste_int = np.argmax(classe_teste_trasformers, axis=1)\n",
        "\n",
        "# Criar a matriz de confusão\n",
        "matrizTransformers = confusion_matrix(classe_teste_int, previsoes_trasformers)\n",
        "report = classification_report(classe_teste_int, previsoes_trasformers, output_dict=True)\n",
        "\n",
        "acuraciaTranformers = report['weighted avg']['precision']\n",
        "revocacaoTranformers = report['weighted avg']['recall']\n"
      ]
    },
    {
      "attachments": {},
      "cell_type": "markdown",
      "metadata": {
        "id": "P_I6kSInR7Om"
      },
      "source": [
        "#### Exportação do modelo"
      ]
    },
    {
      "cell_type": "code",
      "execution_count": null,
      "metadata": {
        "id": "NZhE0a_-f6Uv"
      },
      "outputs": [],
      "source": [
        "# Salve o modelo de Rede neural com Transformers em um arquivo PKL\n",
        "with open('modelo_rede_neural_Transformers.pkl', 'wb') as arquivo:\n",
        "    pickle.dump(classificador_trasformers, arquivo)"
      ]
    },
    {
      "attachments": {},
      "cell_type": "markdown",
      "metadata": {
        "id": "dv0Sc3DnFFaC"
      },
      "source": [
        "### 6.5 Support Vector Machine (SVM)"
      ]
    },
    {
      "attachments": {},
      "cell_type": "markdown",
      "metadata": {
        "id": "wenEFZlRPq5t"
      },
      "source": [
        "O SVM (Support Vector Machine) é um algoritmo de aprendizado de máquina supervisionado que pode ser usado tanto para desafios de classificação quanto para de regressão. Ele busca uma linha de separação entre duas classes distintas analisando os dois pontos, um de cada grupo, mais próximos da outra classe.\n",
        "\n",
        "A partir de seu foco no treinamento e classificação de um dataset, seu objetivo principal é encontrar um hiperplano que melhor separe os pontos de dados em diferentes classes ou aproxime os pontos de dados com menor erro possível.\n",
        "\n",
        "*Referências:*\n",
        "\n",
        "https://www.inf.ufpr.br/dagoncalves/IA07.pdf\n",
        "\n",
        "[https://medium.com/turing-talks/turing-talks-12-classificação-por-svm-f4598094a3f1](https://medium.com/turing-talks/turing-talks-12-classifica%C3%A7%C3%A3o-por-svm-f4598094a3f1)"
      ]
    },
    {
      "attachments": {},
      "cell_type": "markdown",
      "metadata": {
        "id": "qDYE9TY2G5NB"
      },
      "source": [
        "##### 6.5.1 Setup"
      ]
    },
    {
      "cell_type": "code",
      "execution_count": null,
      "metadata": {
        "id": "ff6zMywLG5NB"
      },
      "outputs": [],
      "source": [
        "from sklearn import svm\n",
        "from sklearn import datasets\n",
        "from sklearn.model_selection import train_test_split, GridSearchCV\n",
        "from sklearn.metrics import accuracy_score"
      ]
    },
    {
      "attachments": {},
      "cell_type": "markdown",
      "metadata": {
        "id": "tRXETr_yG5NB"
      },
      "source": [
        "##### 6.5.2 Definição de bases"
      ]
    },
    {
      "cell_type": "code",
      "execution_count": null,
      "metadata": {
        "id": "_wh6wIzQG5NB"
      },
      "outputs": [],
      "source": [
        "# Carregar o conjunto de dados\n",
        "X = df_unido_word.drop('targetSentimento', axis=1)\n",
        "y = df_unido_word['targetSentimento']\n",
        "\n",
        "# Dividir o conjunto de dados em treinamento e teste\n",
        "X_train, X_test, y_train, y_test = train_test_split(X, y, test_size=0.2, random_state=42)"
      ]
    },
    {
      "attachments": {},
      "cell_type": "markdown",
      "metadata": {
        "id": "HHPaHkyVHcTI"
      },
      "source": [
        "##### 6.5.3 Modelagem com hiperparâmetros"
      ]
    },
    {
      "cell_type": "code",
      "execution_count": null,
      "metadata": {
        "id": "amtBBqfGG5NB"
      },
      "outputs": [],
      "source": [
        "# Definir os hiperparâmetros a serem testados\n",
        "param_grid = {\n",
        "    'kernel': ['linear', 'rbf'],\n",
        "    'C': [0.1, 2],\n",
        "    'gamma': [0.1, 2]\n",
        "}\n",
        "\n",
        "# Criar um classificador SVM\n",
        "svm_model = svm.SVC()\n",
        "\n",
        "# Criar o objeto Grid Search\n",
        "grid_search = GridSearchCV(estimator=svm_model, param_grid=param_grid, cv=3)\n",
        "\n",
        "# Realizar o Grid Search\n",
        "grid_search.fit(X_train, y_train)\n",
        "\n",
        "# Obter o melhor modelo encontrado\n",
        "best_model = grid_search.best_estimator_"
      ]
    },
    {
      "attachments": {},
      "cell_type": "markdown",
      "metadata": {
        "id": "TfiECHdaG5NC"
      },
      "source": [
        "##### 6.5.4 Métricas de avaliação do modelo"
      ]
    },
    {
      "cell_type": "code",
      "execution_count": null,
      "metadata": {
        "id": "RjTksW2yG5NC"
      },
      "outputs": [],
      "source": [
        "# Fazer previsões usando o melhor modelo\n",
        "y_pred = best_model.predict(X_test)\n",
        "\n",
        "# Calcular a acurácia das previsões\n",
        "report = classification_report(y_test, y_pred, output_dict=True)\n",
        "accuracySVM = report['weighted avg']['precision']\n",
        "revocacaoSVM = report['weighted avg']['recall']\n",
        "matrizSVM = confusion_matrix(y_test, y_pred)\n",
        "print(\"Acurácia:\", accuracySVM)\n",
        "\n",
        "# Exibir a matriz de confusão\n",
        "print(\"Matriz de Confusão:\")\n",
        "print(confusion_matrix(y_test, y_pred))\n",
        "\n",
        "# Exibir o relatório de classificação (incluindo recall)\n",
        "print(\"Relatório de Classificação:\")\n",
        "print(classification_report(y_test, y_pred))"
      ]
    },
    {
      "attachments": {},
      "cell_type": "markdown",
      "metadata": {
        "id": "bQyO7xgJkEwY"
      },
      "source": [
        "#### 6.5.5 Exportação do modelo"
      ]
    },
    {
      "cell_type": "code",
      "execution_count": null,
      "metadata": {
        "id": "8g5t3wxykIpb"
      },
      "outputs": [],
      "source": [
        "# Salve o modelo de Rede neural com Transformers em um arquivo PKL\n",
        "with open('modelo_SVM.pkl', 'wb') as arquivo:\n",
        "    pickle.dump(best_model, arquivo)"
      ]
    },
    {
      "attachments": {},
      "cell_type": "markdown",
      "metadata": {
        "id": "XWsMTdYk4-nT"
      },
      "source": [
        "## 7.0 Comparação de resultados."
      ]
    },
    {
      "attachments": {},
      "cell_type": "markdown",
      "metadata": {
        "id": "wPKSsBJF4-nT"
      },
      "source": [
        "### 7.1 Métricas utilizadas para avaliação dos modelos"
      ]
    },
    {
      "attachments": {},
      "cell_type": "markdown",
      "metadata": {
        "id": "tGwCTiMC4-nT"
      },
      "source": [
        "Para avaliar os modelos e comparar sua performance e desempenho, foram utilizadas duas métricas a partir dos resultados obtidos: acurácia e revocação. Além dessas, foi utilizada uma matriz de confusão para a representação visual dos erros e acertos que os modelos tiveram."
      ]
    },
    {
      "attachments": {},
      "cell_type": "markdown",
      "metadata": {
        "id": "cnoOE5yc4-nT"
      },
      "source": [
        "Um exemplo de matriz de confusão pode ser visto a seguir:"
      ]
    },
    {
      "attachments": {},
      "cell_type": "markdown",
      "metadata": {
        "id": "Uh3N34eF4-nU"
      },
      "source": [
        "\n",
        "![image.png](data:image/png;base64,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)"
      ]
    },
    {
      "attachments": {},
      "cell_type": "markdown",
      "metadata": {
        "id": "OKGk3EP94-nU"
      },
      "source": [
        "Após a classificação dos elementos a partir dos modelos classificatórios, os resultados são colocados em quatro diferentes quadrantes. Na diagonal principal (em azul escuro) estão os valores corretamente classificados, com Verdadeiros Positivos (VP) e Verdadeiros Negativos (VN). Fora dessa diagonal se encontram os erros cometidos, os Falsos Positivos (FN) e Falsos Negativos(FN) (Franceschi, 2019).\n",
        "\n",
        "A partir dos valores obtidos nos quadrantes, outras métricas podem ser extraídas, como a acurácia, com a seguinte fórmula:\n"
      ]
    },
    {
      "attachments": {},
      "cell_type": "markdown",
      "metadata": {
        "id": "gqfkqUQr4-nV"
      },
      "source": [
        "![image.png](data:image/png;base64,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)"
      ]
    },
    {
      "attachments": {},
      "cell_type": "markdown",
      "metadata": {
        "id": "qzcKCULL4-nV"
      },
      "source": [
        "A acurácia é uma métrica simples que utiliza a razão entre todos os acertos do modelo (Verdadeiros Positivos e Verdadeiros Negativos) sobre a quantidade total de elementos usados na predição, ou seja, VP somado com VN, FP e FN.\n",
        "E como a fórmula não utiliza um peso aplicado, é importante ressaltar que apenas utilizando a acurácia não é possível avaliar o desempenho dos modelos (Chen, et al, 2020)."
      ]
    },
    {
      "attachments": {},
      "cell_type": "markdown",
      "metadata": {
        "id": "XlO3PxGG4-nV"
      },
      "source": [
        "### 7.2 Resultados"
      ]
    },
    {
      "cell_type": "code",
      "execution_count": null,
      "metadata": {
        "id": "vNhjpevGP2do"
      },
      "outputs": [],
      "source": [
        "#Criando dataframe para os resultados gerados pelos modelos\n",
        "dadosResultado = {\n",
        "    'Acuracia': [acuraciaNaiveBow, acuraciaNaiveW2V, acuraciaRNW2V, acuraciaTranformers, accuracySVM],\n",
        "    'Revocação': [revocacaoNaiveBow, revocacaoNaiveW2V, revocacaoRNW2V, revocacaoTranformers, revocacaoSVM],\n",
        "}\n",
        "nomesLinhas = ['Naive Bayes bag of words', 'Naive Bayes Word2Vec', 'Rede Neural Word2Vec', 'Tranformers', 'SVM']\n",
        "\n",
        "tabelaResultados = pd.DataFrame(dadosResultado, index=nomesLinhas)"
      ]
    },
    {
      "cell_type": "code",
      "execution_count": null,
      "metadata": {
        "id": "vVSLaF-fKGDi"
      },
      "outputs": [],
      "source": [
        "print(acuraciaTranformers)\n",
        "print(revocacaoTranformers)"
      ]
    },
    {
      "cell_type": "code",
      "execution_count": null,
      "metadata": {
        "id": "YwaM3TcQQVL8"
      },
      "outputs": [],
      "source": [
        "#Visualização dos resultados\n",
        "tabelaResultados"
      ]
    },
    {
      "attachments": {},
      "cell_type": "markdown",
      "metadata": {
        "id": "MRnPeC0d4-nW"
      },
      "source": [
        "Como foi possivel observar acima, foram feitos 3 modelos para utilização dos resultados de BOW e do Word2Vec. Sendo eles:\n",
        "\n",
        "1.   6.1 - Naive Bayes bag of words, com 0.72 de acurácia.\n",
        "2.   6.2 - Naive Bayes Word2Vec, com 0.5 de acurácia.\n",
        "1.   6.3 - Rede Neural Word2Vec, com 0.649 de acurácia.\n"
      ]
    },
    {
      "attachments": {},
      "cell_type": "markdown",
      "metadata": {
        "id": "d2Gbpegk4-nW"
      },
      "source": [
        "Vale mencionar que a principal metrica utilizada para medir o desenpenho dos modelo foi a acurácia."
      ]
    },
    {
      "attachments": {},
      "cell_type": "markdown",
      "metadata": {
        "id": "Sy1nswee4-nW"
      },
      "source": [
        "### 7.3 Matrizes de confusão"
      ]
    },
    {
      "attachments": {},
      "cell_type": "markdown",
      "metadata": {
        "id": "F-CIeiICzwaj"
      },
      "source": [
        "Abaixo esta a função utilizada para plotar as matrizes:"
      ]
    },
    {
      "cell_type": "code",
      "execution_count": null,
      "metadata": {
        "id": "IQWTI3hKz2Zf"
      },
      "outputs": [],
      "source": [
        "def plotarMatriz(matriz,cor):\n",
        "    plt.figure(figsize=(8, 6))\n",
        "    sns.heatmap(matriz, annot=True, fmt=\"d\", cmap=cor)\n",
        "    plt.title(\"Matriz de Confusão\")\n",
        "    plt.xlabel(\" valor previsto\")\n",
        "    plt.ylabel(\"Valor verdadeiro\")\n",
        "    plt.show()"
      ]
    },
    {
      "attachments": {},
      "cell_type": "markdown",
      "metadata": {
        "id": "E3pRlyggy4wd"
      },
      "source": [
        "Matriz de confusão do NaiveBayes com BOW:"
      ]
    },
    {
      "cell_type": "code",
      "execution_count": null,
      "metadata": {
        "id": "-uGL-sh1zAbg"
      },
      "outputs": [],
      "source": [
        "plotarMatriz(matrizNaiveBow,\"Blues\")"
      ]
    },
    {
      "attachments": {},
      "cell_type": "markdown",
      "metadata": {
        "id": "FlKA-adxzFxI"
      },
      "source": [
        "Matriz de confusão do Naive Bayes com Word2Vec"
      ]
    },
    {
      "cell_type": "code",
      "execution_count": null,
      "metadata": {
        "id": "J8xSSmgpzMBZ"
      },
      "outputs": [],
      "source": [
        "plotarMatriz(matrizNaiveW2V,\"Reds\")"
      ]
    },
    {
      "attachments": {},
      "cell_type": "markdown",
      "metadata": {
        "id": "zjUSF2fmzQJ_"
      },
      "source": [
        "Matriz de confusão da Rede Neural com Word2Vec"
      ]
    },
    {
      "cell_type": "code",
      "execution_count": null,
      "metadata": {
        "id": "5EXK9qWhzeiz"
      },
      "outputs": [],
      "source": [
        "plotarMatriz(matrizRNW2V,\"Greens\")"
      ]
    },
    {
      "attachments": {},
      "cell_type": "markdown",
      "metadata": {
        "id": "HIh_Fnh_29rl"
      },
      "source": [
        "Matriz de confusão transformers"
      ]
    },
    {
      "cell_type": "code",
      "execution_count": null,
      "metadata": {
        "id": "8vWo3g0v3CIG"
      },
      "outputs": [],
      "source": [
        "plotarMatriz(matrizTransformers,\"Purples\")"
      ]
    },
    {
      "attachments": {},
      "cell_type": "markdown",
      "metadata": {
        "id": "lpZH7Nwd3E-i"
      },
      "source": [
        "Matriz de confusão SVM"
      ]
    },
    {
      "cell_type": "code",
      "execution_count": null,
      "metadata": {
        "id": "V-YtpOCp3Jgk"
      },
      "outputs": [],
      "source": [
        "plotarMatriz(matrizSVM,\"Oranges\")"
      ]
    },
    {
      "attachments": {},
      "cell_type": "markdown",
      "metadata": {
        "id": "QNL1Z5KW4-nX"
      },
      "source": [
        "Também vale mencionar, que a rede Neural Word2VEC a matriz de confusão do modelo foi analisada, contendo 883 verdadeiros positivos, 628 falso positivos, 451 falso negativos e 1113 verdadeiros negativos. Indicando uma tendência do modelo a ter acertos mais precisos sobre comentários negativos. Sendo esse um bom indício, uma vez que essa é a classe mais importante de ser corretamente classificada."
      ]
    },
    {
      "attachments": {},
      "cell_type": "markdown",
      "metadata": {
        "id": "C_h0N9m-4-nX"
      },
      "source": [
        "### 7.4 Conclusão"
      ]
    },
    {
      "attachments": {},
      "cell_type": "markdown",
      "metadata": {
        "id": "p5kt2Igs4-nX"
      },
      "source": [
        "Os resultados que tiveram os melhores resultados foram o do Naive Bayes com Bag of words e a rede neural com Word2Vec. Sendo o menor deles o Naive Bayes com Word2Vec, uma vez que ele não e um input adequado para o modelo.\n",
        "Ja entre os dois modelos com maiores resultados, o que se destacou foi o Naive Bayes com bag of words, se destacando com 7% a mais de acurácia que a rede neural.\n",
        "Também sendo importante destacar a importância da aplicação de outras métricas de avaliação, como revocação, que identifica a relação entre Verdadeiros Positivos com Falsos Negativos."
      ]
    },
    {
      "attachments": {},
      "cell_type": "markdown",
      "metadata": {
        "id": "KYWfi9-E4-nY"
      },
      "source": [
        "## 8.0 Referências"
      ]
    },
    {
      "attachments": {},
      "cell_type": "markdown",
      "metadata": {
        "id": "3CbC5lI74-nY"
      },
      "source": [
        "CHEN, D., NIGRI, E., OLIVEIRA, G.,SEPULVENE, L., ALVES, T.: Métricas de Avaliação em Machine Learning: Classificação - Kunumi Blog, medium, 2020.\n",
        "\n",
        "FRANCESCHI, P, R.: Modelagens Preditivas de Churn: O Caso do Banco do Brasil, Universidade do Vale do Rio dos Sinos, 2019."
      ]
    }
  ],
  "metadata": {
    "colab": {
      "collapsed_sections": [
        "_b6_Ys8tr-e9",
        "FgDJv2N-yPyx",
        "2TaHb7fRbbbJ",
        "WYJ4p_SbbbbM",
        "yUhw8Lu9DMIA",
        "PFoYSbT8bbbL",
        "M5xSqfYQbbbP",
        "8TyRlmSTbbbN",
        "BAQJ4x_3bbbO",
        "NwbhwwR1BEpo",
        "4Asa0FIoQk-C",
        "ihwBPKd71mH3",
        "ztddFNQf408S",
        "5tAPjt6tqQgv",
        "6eiF27pNmMSB",
        "FLimHLeKDoS3",
        "vqbfSexYDdku",
        "3xg3bw7LNZoq",
        "E0416A8mNZos",
        "ebwa3L5x4-nN",
        "3TRg_Yrf4-nN",
        "OJlAHxTv4-nN",
        "Jxr4uO694-nO",
        "_WTfxrZD4-nO",
        "1d18Ld7N4-nQ",
        "ziM4fdvq4-nR",
        "cg2pIIg74-nS",
        "WcYWpspI4-nS",
        "l-bfc4zz4-nT",
        "qDYE9TY2G5NB",
        "tRXETr_yG5NB",
        "HHPaHkyVHcTI",
        "TfiECHdaG5NC",
        "XWsMTdYk4-nT",
        "wPKSsBJF4-nT",
        "XlO3PxGG4-nV",
        "Sy1nswee4-nW",
        "C_h0N9m-4-nX"
      ],
      "provenance": [],
      "toc_visible": true
    },
    "kernelspec": {
      "display_name": "Python 3",
      "language": "python",
      "name": "python3"
    },
    "language_info": {
      "codemirror_mode": {
        "name": "ipython",
        "version": 3
      },
      "file_extension": ".py",
      "mimetype": "text/x-python",
      "name": "python",
      "nbconvert_exporter": "python",
      "pygments_lexer": "ipython3",
      "version": "3.11.3"
    },
    "widgets": {
      "application/vnd.jupyter.widget-state+json": {
        "010a5952007545b4b619c82b50462614": {
          "model_module": "@jupyter-widgets/controls",
          "model_module_version": "1.5.0",
          "model_name": "HTMLModel",
          "state": {
            "_dom_classes": [],
            "_model_module": "@jupyter-widgets/controls",
            "_model_module_version": "1.5.0",
            "_model_name": "HTMLModel",
            "_view_count": null,
            "_view_module": "@jupyter-widgets/controls",
            "_view_module_version": "1.5.0",
            "_view_name": "HTMLView",
            "description": "",
            "description_tooltip": null,
            "layout": "IPY_MODEL_21f7edc46ceb4e4193a2383ae870b6d9",
            "placeholder": "​",
            "style": "IPY_MODEL_6a2b2bc2992a4f1ea17a129802f5684c",
            "value": "Downloading (…)3a5428d96a/README.md: 100%"
          }
        },
        "0145b7a5e6774c5aa3d22139178c0888": {
          "model_module": "@jupyter-widgets/controls",
          "model_module_version": "1.5.0",
          "model_name": "HBoxModel",
          "state": {
            "_dom_classes": [],
            "_model_module": "@jupyter-widgets/controls",
            "_model_module_version": "1.5.0",
            "_model_name": "HBoxModel",
            "_view_count": null,
            "_view_module": "@jupyter-widgets/controls",
            "_view_module_version": "1.5.0",
            "_view_name": "HBoxView",
            "box_style": "",
            "children": [
              "IPY_MODEL_559fc8d583ed4a7f8073fcd92abc86ce",
              "IPY_MODEL_19aa5ad2ab964d74a5103783fdec1286",
              "IPY_MODEL_d23fe58ce61c4e97b345bd97ae42e319"
            ],
            "layout": "IPY_MODEL_fd0addb01f4c4adba75870c8be8c5da4"
          }
        },
        "0156624719f54a07bde25e899c230d6f": {
          "model_module": "@jupyter-widgets/controls",
          "model_module_version": "1.5.0",
          "model_name": "FloatProgressModel",
          "state": {
            "_dom_classes": [],
            "_model_module": "@jupyter-widgets/controls",
            "_model_module_version": "1.5.0",
            "_model_name": "FloatProgressModel",
            "_view_count": null,
            "_view_module": "@jupyter-widgets/controls",
            "_view_module_version": "1.5.0",
            "_view_name": "ProgressView",
            "bar_style": "success",
            "description": "",
            "description_tooltip": null,
            "layout": "IPY_MODEL_e7b0119aeff04031b5b88fccf6641b02",
            "max": 341,
            "min": 0,
            "orientation": "horizontal",
            "style": "IPY_MODEL_e8ed50889ab0468ca6d86a388cca88ed",
            "value": 341
          }
        },
        "01a7dcd177444c3e8d351aae5f242061": {
          "model_module": "@jupyter-widgets/base",
          "model_module_version": "1.2.0",
          "model_name": "LayoutModel",
          "state": {
            "_model_module": "@jupyter-widgets/base",
            "_model_module_version": "1.2.0",
            "_model_name": "LayoutModel",
            "_view_count": null,
            "_view_module": "@jupyter-widgets/base",
            "_view_module_version": "1.2.0",
            "_view_name": "LayoutView",
            "align_content": null,
            "align_items": null,
            "align_self": null,
            "border": null,
            "bottom": null,
            "display": null,
            "flex": null,
            "flex_flow": null,
            "grid_area": null,
            "grid_auto_columns": null,
            "grid_auto_flow": null,
            "grid_auto_rows": null,
            "grid_column": null,
            "grid_gap": null,
            "grid_row": null,
            "grid_template_areas": null,
            "grid_template_columns": null,
            "grid_template_rows": null,
            "height": null,
            "justify_content": null,
            "justify_items": null,
            "left": null,
            "margin": null,
            "max_height": null,
            "max_width": null,
            "min_height": null,
            "min_width": null,
            "object_fit": null,
            "object_position": null,
            "order": null,
            "overflow": null,
            "overflow_x": null,
            "overflow_y": null,
            "padding": null,
            "right": null,
            "top": null,
            "visibility": null,
            "width": null
          }
        },
        "0331bd933887464fba75585800797b41": {
          "model_module": "@jupyter-widgets/controls",
          "model_module_version": "1.5.0",
          "model_name": "HBoxModel",
          "state": {
            "_dom_classes": [],
            "_model_module": "@jupyter-widgets/controls",
            "_model_module_version": "1.5.0",
            "_model_name": "HBoxModel",
            "_view_count": null,
            "_view_module": "@jupyter-widgets/controls",
            "_view_module_version": "1.5.0",
            "_view_name": "HBoxView",
            "box_style": "",
            "children": [
              "IPY_MODEL_8b63caf5a6074ebd9fa45873467a5dd9",
              "IPY_MODEL_e3ce2884a6af498285ab8af760e18b53",
              "IPY_MODEL_74c286ab1acf4409977108334e55e9e7"
            ],
            "layout": "IPY_MODEL_37d60e4f16c1405484f090fb65a848f9"
          }
        },
        "06eef7dc385948269cfc101b509f780e": {
          "model_module": "@jupyter-widgets/controls",
          "model_module_version": "1.5.0",
          "model_name": "HTMLModel",
          "state": {
            "_dom_classes": [],
            "_model_module": "@jupyter-widgets/controls",
            "_model_module_version": "1.5.0",
            "_model_name": "HTMLModel",
            "_view_count": null,
            "_view_module": "@jupyter-widgets/controls",
            "_view_module_version": "1.5.0",
            "_view_name": "HTMLView",
            "description": "",
            "description_tooltip": null,
            "layout": "IPY_MODEL_8d434112b11948f5ae6439c7dd52579f",
            "placeholder": "​",
            "style": "IPY_MODEL_e9531b3b014241b1a714a1b447815a46",
            "value": " 122/122 [00:00&lt;00:00, 2.52kB/s]"
          }
        },
        "076995030a2841b6883194389cc06245": {
          "model_module": "@jupyter-widgets/controls",
          "model_module_version": "1.5.0",
          "model_name": "ProgressStyleModel",
          "state": {
            "_model_module": "@jupyter-widgets/controls",
            "_model_module_version": "1.5.0",
            "_model_name": "ProgressStyleModel",
            "_view_count": null,
            "_view_module": "@jupyter-widgets/base",
            "_view_module_version": "1.2.0",
            "_view_name": "StyleView",
            "bar_color": null,
            "description_width": ""
          }
        },
        "099cee52dbb6417bb5d352ebed64a0a1": {
          "model_module": "@jupyter-widgets/controls",
          "model_module_version": "1.5.0",
          "model_name": "HTMLModel",
          "state": {
            "_dom_classes": [],
            "_model_module": "@jupyter-widgets/controls",
            "_model_module_version": "1.5.0",
            "_model_name": "HTMLModel",
            "_view_count": null,
            "_view_module": "@jupyter-widgets/controls",
            "_view_module_version": "1.5.0",
            "_view_name": "HTMLView",
            "description": "",
            "description_tooltip": null,
            "layout": "IPY_MODEL_7f52e72690f845139b2592f84ae67279",
            "placeholder": "​",
            "style": "IPY_MODEL_997f8a1dcd5944079222a3b0e86a9576",
            "value": " 112/112 [00:00&lt;00:00, 2.06kB/s]"
          }
        },
        "0a6185e15e454dbc8f7fbdb92df6c61a": {
          "model_module": "@jupyter-widgets/base",
          "model_module_version": "1.2.0",
          "model_name": "LayoutModel",
          "state": {
            "_model_module": "@jupyter-widgets/base",
            "_model_module_version": "1.2.0",
            "_model_name": "LayoutModel",
            "_view_count": null,
            "_view_module": "@jupyter-widgets/base",
            "_view_module_version": "1.2.0",
            "_view_name": "LayoutView",
            "align_content": null,
            "align_items": null,
            "align_self": null,
            "border": null,
            "bottom": null,
            "display": null,
            "flex": null,
            "flex_flow": null,
            "grid_area": null,
            "grid_auto_columns": null,
            "grid_auto_flow": null,
            "grid_auto_rows": null,
            "grid_column": null,
            "grid_gap": null,
            "grid_row": null,
            "grid_template_areas": null,
            "grid_template_columns": null,
            "grid_template_rows": null,
            "height": null,
            "justify_content": null,
            "justify_items": null,
            "left": null,
            "margin": null,
            "max_height": null,
            "max_width": null,
            "min_height": null,
            "min_width": null,
            "object_fit": null,
            "object_position": null,
            "order": null,
            "overflow": null,
            "overflow_x": null,
            "overflow_y": null,
            "padding": null,
            "right": null,
            "top": null,
            "visibility": null,
            "width": null
          }
        },
        "0a63a11786bb4400b50eddaf72b57620": {
          "model_module": "@jupyter-widgets/base",
          "model_module_version": "1.2.0",
          "model_name": "LayoutModel",
          "state": {
            "_model_module": "@jupyter-widgets/base",
            "_model_module_version": "1.2.0",
            "_model_name": "LayoutModel",
            "_view_count": null,
            "_view_module": "@jupyter-widgets/base",
            "_view_module_version": "1.2.0",
            "_view_name": "LayoutView",
            "align_content": null,
            "align_items": null,
            "align_self": null,
            "border": null,
            "bottom": null,
            "display": null,
            "flex": null,
            "flex_flow": null,
            "grid_area": null,
            "grid_auto_columns": null,
            "grid_auto_flow": null,
            "grid_auto_rows": null,
            "grid_column": null,
            "grid_gap": null,
            "grid_row": null,
            "grid_template_areas": null,
            "grid_template_columns": null,
            "grid_template_rows": null,
            "height": null,
            "justify_content": null,
            "justify_items": null,
            "left": null,
            "margin": null,
            "max_height": null,
            "max_width": null,
            "min_height": null,
            "min_width": null,
            "object_fit": null,
            "object_position": null,
            "order": null,
            "overflow": null,
            "overflow_x": null,
            "overflow_y": null,
            "padding": null,
            "right": null,
            "top": null,
            "visibility": null,
            "width": null
          }
        },
        "0a6a94fbf36d4331afbdb0676591293b": {
          "model_module": "@jupyter-widgets/controls",
          "model_module_version": "1.5.0",
          "model_name": "FloatProgressModel",
          "state": {
            "_dom_classes": [],
            "_model_module": "@jupyter-widgets/controls",
            "_model_module_version": "1.5.0",
            "_model_name": "FloatProgressModel",
            "_view_count": null,
            "_view_module": "@jupyter-widgets/controls",
            "_view_module_version": "1.5.0",
            "_view_name": "ProgressView",
            "bar_style": "success",
            "description": "",
            "description_tooltip": null,
            "layout": "IPY_MODEL_be05d5389971449a8af911f1957a56ea",
            "max": 2369,
            "min": 0,
            "orientation": "horizontal",
            "style": "IPY_MODEL_47d9d7c3b79d486096d19ae9935396e2",
            "value": 2369
          }
        },
        "0c46f9ba2eda4bd2ab9398fa994fe1f7": {
          "model_module": "@jupyter-widgets/controls",
          "model_module_version": "1.5.0",
          "model_name": "DescriptionStyleModel",
          "state": {
            "_model_module": "@jupyter-widgets/controls",
            "_model_module_version": "1.5.0",
            "_model_name": "DescriptionStyleModel",
            "_view_count": null,
            "_view_module": "@jupyter-widgets/base",
            "_view_module_version": "1.2.0",
            "_view_name": "StyleView",
            "description_width": ""
          }
        },
        "1049575848374536af556877841ca9b3": {
          "model_module": "@jupyter-widgets/base",
          "model_module_version": "1.2.0",
          "model_name": "LayoutModel",
          "state": {
            "_model_module": "@jupyter-widgets/base",
            "_model_module_version": "1.2.0",
            "_model_name": "LayoutModel",
            "_view_count": null,
            "_view_module": "@jupyter-widgets/base",
            "_view_module_version": "1.2.0",
            "_view_name": "LayoutView",
            "align_content": null,
            "align_items": null,
            "align_self": null,
            "border": null,
            "bottom": null,
            "display": null,
            "flex": null,
            "flex_flow": null,
            "grid_area": null,
            "grid_auto_columns": null,
            "grid_auto_flow": null,
            "grid_auto_rows": null,
            "grid_column": null,
            "grid_gap": null,
            "grid_row": null,
            "grid_template_areas": null,
            "grid_template_columns": null,
            "grid_template_rows": null,
            "height": null,
            "justify_content": null,
            "justify_items": null,
            "left": null,
            "margin": null,
            "max_height": null,
            "max_width": null,
            "min_height": null,
            "min_width": null,
            "object_fit": null,
            "object_position": null,
            "order": null,
            "overflow": null,
            "overflow_x": null,
            "overflow_y": null,
            "padding": null,
            "right": null,
            "top": null,
            "visibility": null,
            "width": null
          }
        },
        "11af57f86982478aa3ef2270ea69f6c4": {
          "model_module": "@jupyter-widgets/controls",
          "model_module_version": "1.5.0",
          "model_name": "DescriptionStyleModel",
          "state": {
            "_model_module": "@jupyter-widgets/controls",
            "_model_module_version": "1.5.0",
            "_model_name": "DescriptionStyleModel",
            "_view_count": null,
            "_view_module": "@jupyter-widgets/base",
            "_view_module_version": "1.2.0",
            "_view_name": "StyleView",
            "description_width": ""
          }
        },
        "122875198bee4a00b078f9af375e7352": {
          "model_module": "@jupyter-widgets/base",
          "model_module_version": "1.2.0",
          "model_name": "LayoutModel",
          "state": {
            "_model_module": "@jupyter-widgets/base",
            "_model_module_version": "1.2.0",
            "_model_name": "LayoutModel",
            "_view_count": null,
            "_view_module": "@jupyter-widgets/base",
            "_view_module_version": "1.2.0",
            "_view_name": "LayoutView",
            "align_content": null,
            "align_items": null,
            "align_self": null,
            "border": null,
            "bottom": null,
            "display": null,
            "flex": null,
            "flex_flow": null,
            "grid_area": null,
            "grid_auto_columns": null,
            "grid_auto_flow": null,
            "grid_auto_rows": null,
            "grid_column": null,
            "grid_gap": null,
            "grid_row": null,
            "grid_template_areas": null,
            "grid_template_columns": null,
            "grid_template_rows": null,
            "height": null,
            "justify_content": null,
            "justify_items": null,
            "left": null,
            "margin": null,
            "max_height": null,
            "max_width": null,
            "min_height": null,
            "min_width": null,
            "object_fit": null,
            "object_position": null,
            "order": null,
            "overflow": null,
            "overflow_x": null,
            "overflow_y": null,
            "padding": null,
            "right": null,
            "top": null,
            "visibility": null,
            "width": null
          }
        },
        "19aa5ad2ab964d74a5103783fdec1286": {
          "model_module": "@jupyter-widgets/controls",
          "model_module_version": "1.5.0",
          "model_name": "FloatProgressModel",
          "state": {
            "_dom_classes": [],
            "_model_module": "@jupyter-widgets/controls",
            "_model_module_version": "1.5.0",
            "_model_name": "FloatProgressModel",
            "_view_count": null,
            "_view_module": "@jupyter-widgets/controls",
            "_view_module_version": "1.5.0",
            "_view_name": "ProgressView",
            "bar_style": "success",
            "description": "",
            "description_tooltip": null,
            "layout": "IPY_MODEL_42b7c753fb084bd2b384eb88f0b52bfb",
            "max": 1575975,
            "min": 0,
            "orientation": "horizontal",
            "style": "IPY_MODEL_076995030a2841b6883194389cc06245",
            "value": 1575975
          }
        },
        "1e13448777624f38ad8b8aac7004211e": {
          "model_module": "@jupyter-widgets/controls",
          "model_module_version": "1.5.0",
          "model_name": "DescriptionStyleModel",
          "state": {
            "_model_module": "@jupyter-widgets/controls",
            "_model_module_version": "1.5.0",
            "_model_name": "DescriptionStyleModel",
            "_view_count": null,
            "_view_module": "@jupyter-widgets/base",
            "_view_module_version": "1.2.0",
            "_view_name": "StyleView",
            "description_width": ""
          }
        },
        "1fff62d495d74c9395d544678aa5c7b5": {
          "model_module": "@jupyter-widgets/controls",
          "model_module_version": "1.5.0",
          "model_name": "HTMLModel",
          "state": {
            "_dom_classes": [],
            "_model_module": "@jupyter-widgets/controls",
            "_model_module_version": "1.5.0",
            "_model_name": "HTMLModel",
            "_view_count": null,
            "_view_module": "@jupyter-widgets/controls",
            "_view_module_version": "1.5.0",
            "_view_name": "HTMLView",
            "description": "",
            "description_tooltip": null,
            "layout": "IPY_MODEL_f2cf3ca37fc94ec0adbe5d076af9abee",
            "placeholder": "​",
            "style": "IPY_MODEL_aa95d66d98964526b694114bf34aeb54",
            "value": "Downloading (…)cial_tokens_map.json: 100%"
          }
        },
        "21f7edc46ceb4e4193a2383ae870b6d9": {
          "model_module": "@jupyter-widgets/base",
          "model_module_version": "1.2.0",
          "model_name": "LayoutModel",
          "state": {
            "_model_module": "@jupyter-widgets/base",
            "_model_module_version": "1.2.0",
            "_model_name": "LayoutModel",
            "_view_count": null,
            "_view_module": "@jupyter-widgets/base",
            "_view_module_version": "1.2.0",
            "_view_name": "LayoutView",
            "align_content": null,
            "align_items": null,
            "align_self": null,
            "border": null,
            "bottom": null,
            "display": null,
            "flex": null,
            "flex_flow": null,
            "grid_area": null,
            "grid_auto_columns": null,
            "grid_auto_flow": null,
            "grid_auto_rows": null,
            "grid_column": null,
            "grid_gap": null,
            "grid_row": null,
            "grid_template_areas": null,
            "grid_template_columns": null,
            "grid_template_rows": null,
            "height": null,
            "justify_content": null,
            "justify_items": null,
            "left": null,
            "margin": null,
            "max_height": null,
            "max_width": null,
            "min_height": null,
            "min_width": null,
            "object_fit": null,
            "object_position": null,
            "order": null,
            "overflow": null,
            "overflow_x": null,
            "overflow_y": null,
            "padding": null,
            "right": null,
            "top": null,
            "visibility": null,
            "width": null
          }
        },
        "234f039248ea4e50ab585ef32a9535cc": {
          "model_module": "@jupyter-widgets/controls",
          "model_module_version": "1.5.0",
          "model_name": "FloatProgressModel",
          "state": {
            "_dom_classes": [],
            "_model_module": "@jupyter-widgets/controls",
            "_model_module_version": "1.5.0",
            "_model_name": "FloatProgressModel",
            "_view_count": null,
            "_view_module": "@jupyter-widgets/controls",
            "_view_module_version": "1.5.0",
            "_view_name": "ProgressView",
            "bar_style": "success",
            "description": "",
            "description_tooltip": null,
            "layout": "IPY_MODEL_c6773fd28d624eff8c3c29ee24f83337",
            "max": 53,
            "min": 0,
            "orientation": "horizontal",
            "style": "IPY_MODEL_d1e5fedb3933403a867c97a5af7a4b3e",
            "value": 53
          }
        },
        "243843a2a83548adba8629c008bf0601": {
          "model_module": "@jupyter-widgets/controls",
          "model_module_version": "1.5.0",
          "model_name": "HBoxModel",
          "state": {
            "_dom_classes": [],
            "_model_module": "@jupyter-widgets/controls",
            "_model_module_version": "1.5.0",
            "_model_name": "HBoxModel",
            "_view_count": null,
            "_view_module": "@jupyter-widgets/controls",
            "_view_module_version": "1.5.0",
            "_view_name": "HBoxView",
            "box_style": "",
            "children": [
              "IPY_MODEL_935b5058487b46c0af2cb3b6830a800b",
              "IPY_MODEL_73bb7e54bdd5495b92eaacb14f08c0e1",
              "IPY_MODEL_a02d9dc0a9fb4e2dac6413d0a8fdb390"
            ],
            "layout": "IPY_MODEL_abc25c4f036a4fdcaabc26bde7859335"
          }
        },
        "24bc51a87f774159b15931fa1d32fcab": {
          "model_module": "@jupyter-widgets/controls",
          "model_module_version": "1.5.0",
          "model_name": "HBoxModel",
          "state": {
            "_dom_classes": [],
            "_model_module": "@jupyter-widgets/controls",
            "_model_module_version": "1.5.0",
            "_model_name": "HBoxModel",
            "_view_count": null,
            "_view_module": "@jupyter-widgets/controls",
            "_view_module_version": "1.5.0",
            "_view_name": "HBoxView",
            "box_style": "",
            "children": [
              "IPY_MODEL_a5c1e645cc0142f0ad5b8b0c20105cc4",
              "IPY_MODEL_0156624719f54a07bde25e899c230d6f",
              "IPY_MODEL_cb13c1a0d73140ccabfdfd73996c68ce"
            ],
            "layout": "IPY_MODEL_79a1367a4e834a37b517438fca0baa68"
          }
        },
        "254632e3ed5d49c599caefaf66e311dd": {
          "model_module": "@jupyter-widgets/base",
          "model_module_version": "1.2.0",
          "model_name": "LayoutModel",
          "state": {
            "_model_module": "@jupyter-widgets/base",
            "_model_module_version": "1.2.0",
            "_model_name": "LayoutModel",
            "_view_count": null,
            "_view_module": "@jupyter-widgets/base",
            "_view_module_version": "1.2.0",
            "_view_name": "LayoutView",
            "align_content": null,
            "align_items": null,
            "align_self": null,
            "border": null,
            "bottom": null,
            "display": null,
            "flex": null,
            "flex_flow": null,
            "grid_area": null,
            "grid_auto_columns": null,
            "grid_auto_flow": null,
            "grid_auto_rows": null,
            "grid_column": null,
            "grid_gap": null,
            "grid_row": null,
            "grid_template_areas": null,
            "grid_template_columns": null,
            "grid_template_rows": null,
            "height": null,
            "justify_content": null,
            "justify_items": null,
            "left": null,
            "margin": null,
            "max_height": null,
            "max_width": null,
            "min_height": null,
            "min_width": null,
            "object_fit": null,
            "object_position": null,
            "order": null,
            "overflow": null,
            "overflow_x": null,
            "overflow_y": null,
            "padding": null,
            "right": null,
            "top": null,
            "visibility": null,
            "width": null
          }
        },
        "266befab35584b2b85e887efe555625b": {
          "model_module": "@jupyter-widgets/controls",
          "model_module_version": "1.5.0",
          "model_name": "DescriptionStyleModel",
          "state": {
            "_model_module": "@jupyter-widgets/controls",
            "_model_module_version": "1.5.0",
            "_model_name": "DescriptionStyleModel",
            "_view_count": null,
            "_view_module": "@jupyter-widgets/base",
            "_view_module_version": "1.2.0",
            "_view_name": "StyleView",
            "description_width": ""
          }
        },
        "29642f8d253046428654801f3ddf254f": {
          "model_module": "@jupyter-widgets/controls",
          "model_module_version": "1.5.0",
          "model_name": "DescriptionStyleModel",
          "state": {
            "_model_module": "@jupyter-widgets/controls",
            "_model_module_version": "1.5.0",
            "_model_name": "DescriptionStyleModel",
            "_view_count": null,
            "_view_module": "@jupyter-widgets/base",
            "_view_module_version": "1.2.0",
            "_view_name": "StyleView",
            "description_width": ""
          }
        },
        "29a2c90b78724620a9c4ca0c51c65968": {
          "model_module": "@jupyter-widgets/base",
          "model_module_version": "1.2.0",
          "model_name": "LayoutModel",
          "state": {
            "_model_module": "@jupyter-widgets/base",
            "_model_module_version": "1.2.0",
            "_model_name": "LayoutModel",
            "_view_count": null,
            "_view_module": "@jupyter-widgets/base",
            "_view_module_version": "1.2.0",
            "_view_name": "LayoutView",
            "align_content": null,
            "align_items": null,
            "align_self": null,
            "border": null,
            "bottom": null,
            "display": null,
            "flex": null,
            "flex_flow": null,
            "grid_area": null,
            "grid_auto_columns": null,
            "grid_auto_flow": null,
            "grid_auto_rows": null,
            "grid_column": null,
            "grid_gap": null,
            "grid_row": null,
            "grid_template_areas": null,
            "grid_template_columns": null,
            "grid_template_rows": null,
            "height": null,
            "justify_content": null,
            "justify_items": null,
            "left": null,
            "margin": null,
            "max_height": null,
            "max_width": null,
            "min_height": null,
            "min_width": null,
            "object_fit": null,
            "object_position": null,
            "order": null,
            "overflow": null,
            "overflow_x": null,
            "overflow_y": null,
            "padding": null,
            "right": null,
            "top": null,
            "visibility": null,
            "width": null
          }
        },
        "29d5468b7f724a078d2e064588f47d36": {
          "model_module": "@jupyter-widgets/controls",
          "model_module_version": "1.5.0",
          "model_name": "DescriptionStyleModel",
          "state": {
            "_model_module": "@jupyter-widgets/controls",
            "_model_module_version": "1.5.0",
            "_model_name": "DescriptionStyleModel",
            "_view_count": null,
            "_view_module": "@jupyter-widgets/base",
            "_view_module_version": "1.2.0",
            "_view_name": "StyleView",
            "description_width": ""
          }
        },
        "29dd9796c80b4d54936755cc9fd7a063": {
          "model_module": "@jupyter-widgets/controls",
          "model_module_version": "1.5.0",
          "model_name": "DescriptionStyleModel",
          "state": {
            "_model_module": "@jupyter-widgets/controls",
            "_model_module_version": "1.5.0",
            "_model_name": "DescriptionStyleModel",
            "_view_count": null,
            "_view_module": "@jupyter-widgets/base",
            "_view_module_version": "1.2.0",
            "_view_name": "StyleView",
            "description_width": ""
          }
        },
        "2abbaf25c78c4286b61b5c9c409e6524": {
          "model_module": "@jupyter-widgets/controls",
          "model_module_version": "1.5.0",
          "model_name": "DescriptionStyleModel",
          "state": {
            "_model_module": "@jupyter-widgets/controls",
            "_model_module_version": "1.5.0",
            "_model_name": "DescriptionStyleModel",
            "_view_count": null,
            "_view_module": "@jupyter-widgets/base",
            "_view_module_version": "1.2.0",
            "_view_name": "StyleView",
            "description_width": ""
          }
        },
        "2b561ca8af494f56894ecaebe01f0e63": {
          "model_module": "@jupyter-widgets/controls",
          "model_module_version": "1.5.0",
          "model_name": "HTMLModel",
          "state": {
            "_dom_classes": [],
            "_model_module": "@jupyter-widgets/controls",
            "_model_module_version": "1.5.0",
            "_model_name": "HTMLModel",
            "_view_count": null,
            "_view_module": "@jupyter-widgets/controls",
            "_view_module_version": "1.5.0",
            "_view_name": "HTMLView",
            "description": "",
            "description_tooltip": null,
            "layout": "IPY_MODEL_b1a0bd9ffd20432c946a62532a602bbb",
            "placeholder": "​",
            "style": "IPY_MODEL_29dd9796c80b4d54936755cc9fd7a063",
            "value": "Downloading (…)okenizer_config.json: 100%"
          }
        },
        "2b7002b8933c4f0e95963b4ef4377295": {
          "model_module": "@jupyter-widgets/base",
          "model_module_version": "1.2.0",
          "model_name": "LayoutModel",
          "state": {
            "_model_module": "@jupyter-widgets/base",
            "_model_module_version": "1.2.0",
            "_model_name": "LayoutModel",
            "_view_count": null,
            "_view_module": "@jupyter-widgets/base",
            "_view_module_version": "1.2.0",
            "_view_name": "LayoutView",
            "align_content": null,
            "align_items": null,
            "align_self": null,
            "border": null,
            "bottom": null,
            "display": null,
            "flex": null,
            "flex_flow": null,
            "grid_area": null,
            "grid_auto_columns": null,
            "grid_auto_flow": null,
            "grid_auto_rows": null,
            "grid_column": null,
            "grid_gap": null,
            "grid_row": null,
            "grid_template_areas": null,
            "grid_template_columns": null,
            "grid_template_rows": null,
            "height": null,
            "justify_content": null,
            "justify_items": null,
            "left": null,
            "margin": null,
            "max_height": null,
            "max_width": null,
            "min_height": null,
            "min_width": null,
            "object_fit": null,
            "object_position": null,
            "order": null,
            "overflow": null,
            "overflow_x": null,
            "overflow_y": null,
            "padding": null,
            "right": null,
            "top": null,
            "visibility": null,
            "width": null
          }
        },
        "2f1c8c0e988b4e59805d9fe80c85e6cb": {
          "model_module": "@jupyter-widgets/base",
          "model_module_version": "1.2.0",
          "model_name": "LayoutModel",
          "state": {
            "_model_module": "@jupyter-widgets/base",
            "_model_module_version": "1.2.0",
            "_model_name": "LayoutModel",
            "_view_count": null,
            "_view_module": "@jupyter-widgets/base",
            "_view_module_version": "1.2.0",
            "_view_name": "LayoutView",
            "align_content": null,
            "align_items": null,
            "align_self": null,
            "border": null,
            "bottom": null,
            "display": null,
            "flex": null,
            "flex_flow": null,
            "grid_area": null,
            "grid_auto_columns": null,
            "grid_auto_flow": null,
            "grid_auto_rows": null,
            "grid_column": null,
            "grid_gap": null,
            "grid_row": null,
            "grid_template_areas": null,
            "grid_template_columns": null,
            "grid_template_rows": null,
            "height": null,
            "justify_content": null,
            "justify_items": null,
            "left": null,
            "margin": null,
            "max_height": null,
            "max_width": null,
            "min_height": null,
            "min_width": null,
            "object_fit": null,
            "object_position": null,
            "order": null,
            "overflow": null,
            "overflow_x": null,
            "overflow_y": null,
            "padding": null,
            "right": null,
            "top": null,
            "visibility": null,
            "width": null
          }
        },
        "2fa9c2991cd44d32a6df6b35f9e0f1d3": {
          "model_module": "@jupyter-widgets/controls",
          "model_module_version": "1.5.0",
          "model_name": "HTMLModel",
          "state": {
            "_dom_classes": [],
            "_model_module": "@jupyter-widgets/controls",
            "_model_module_version": "1.5.0",
            "_model_name": "HTMLModel",
            "_view_count": null,
            "_view_module": "@jupyter-widgets/controls",
            "_view_module_version": "1.5.0",
            "_view_name": "HTMLView",
            "description": "",
            "description_tooltip": null,
            "layout": "IPY_MODEL_d541038b3fdc469e851a7000fd039ef8",
            "placeholder": "​",
            "style": "IPY_MODEL_d72f7e80e8ab41c39d3b68c71d43f8c1",
            "value": "Downloading (…)_Pooling/config.json: 100%"
          }
        },
        "30ea115b1c7a4810b53383df9018fe25": {
          "model_module": "@jupyter-widgets/base",
          "model_module_version": "1.2.0",
          "model_name": "LayoutModel",
          "state": {
            "_model_module": "@jupyter-widgets/base",
            "_model_module_version": "1.2.0",
            "_model_name": "LayoutModel",
            "_view_count": null,
            "_view_module": "@jupyter-widgets/base",
            "_view_module_version": "1.2.0",
            "_view_name": "LayoutView",
            "align_content": null,
            "align_items": null,
            "align_self": null,
            "border": null,
            "bottom": null,
            "display": null,
            "flex": null,
            "flex_flow": null,
            "grid_area": null,
            "grid_auto_columns": null,
            "grid_auto_flow": null,
            "grid_auto_rows": null,
            "grid_column": null,
            "grid_gap": null,
            "grid_row": null,
            "grid_template_areas": null,
            "grid_template_columns": null,
            "grid_template_rows": null,
            "height": null,
            "justify_content": null,
            "justify_items": null,
            "left": null,
            "margin": null,
            "max_height": null,
            "max_width": null,
            "min_height": null,
            "min_width": null,
            "object_fit": null,
            "object_position": null,
            "order": null,
            "overflow": null,
            "overflow_x": null,
            "overflow_y": null,
            "padding": null,
            "right": null,
            "top": null,
            "visibility": null,
            "width": null
          }
        },
        "3489957a8de341abb5978efe0137a33c": {
          "model_module": "@jupyter-widgets/controls",
          "model_module_version": "1.5.0",
          "model_name": "FloatProgressModel",
          "state": {
            "_dom_classes": [],
            "_model_module": "@jupyter-widgets/controls",
            "_model_module_version": "1.5.0",
            "_model_name": "FloatProgressModel",
            "_view_count": null,
            "_view_module": "@jupyter-widgets/controls",
            "_view_module_version": "1.5.0",
            "_view_name": "ProgressView",
            "bar_style": "success",
            "description": "",
            "description_tooltip": null,
            "layout": "IPY_MODEL_c8e9a1e52b794d3d8ee89bfa3d27c707",
            "max": 1576727,
            "min": 0,
            "orientation": "horizontal",
            "style": "IPY_MODEL_f936fb676f5a47efbe035764e349efbf",
            "value": 1576727
          }
        },
        "35f99383916d4cfdaba8d1d5330b0a4f": {
          "model_module": "@jupyter-widgets/controls",
          "model_module_version": "1.5.0",
          "model_name": "DescriptionStyleModel",
          "state": {
            "_model_module": "@jupyter-widgets/controls",
            "_model_module_version": "1.5.0",
            "_model_name": "DescriptionStyleModel",
            "_view_count": null,
            "_view_module": "@jupyter-widgets/base",
            "_view_module_version": "1.2.0",
            "_view_name": "StyleView",
            "description_width": ""
          }
        },
        "37d60e4f16c1405484f090fb65a848f9": {
          "model_module": "@jupyter-widgets/base",
          "model_module_version": "1.2.0",
          "model_name": "LayoutModel",
          "state": {
            "_model_module": "@jupyter-widgets/base",
            "_model_module_version": "1.2.0",
            "_model_name": "LayoutModel",
            "_view_count": null,
            "_view_module": "@jupyter-widgets/base",
            "_view_module_version": "1.2.0",
            "_view_name": "LayoutView",
            "align_content": null,
            "align_items": null,
            "align_self": null,
            "border": null,
            "bottom": null,
            "display": null,
            "flex": null,
            "flex_flow": null,
            "grid_area": null,
            "grid_auto_columns": null,
            "grid_auto_flow": null,
            "grid_auto_rows": null,
            "grid_column": null,
            "grid_gap": null,
            "grid_row": null,
            "grid_template_areas": null,
            "grid_template_columns": null,
            "grid_template_rows": null,
            "height": null,
            "justify_content": null,
            "justify_items": null,
            "left": null,
            "margin": null,
            "max_height": null,
            "max_width": null,
            "min_height": null,
            "min_width": null,
            "object_fit": null,
            "object_position": null,
            "order": null,
            "overflow": null,
            "overflow_x": null,
            "overflow_y": null,
            "padding": null,
            "right": null,
            "top": null,
            "visibility": null,
            "width": null
          }
        },
        "39e729e36a824694bc409165f3dad9dd": {
          "model_module": "@jupyter-widgets/controls",
          "model_module_version": "1.5.0",
          "model_name": "HTMLModel",
          "state": {
            "_dom_classes": [],
            "_model_module": "@jupyter-widgets/controls",
            "_model_module_version": "1.5.0",
            "_model_name": "HTMLModel",
            "_view_count": null,
            "_view_module": "@jupyter-widgets/controls",
            "_view_module_version": "1.5.0",
            "_view_name": "HTMLView",
            "description": "",
            "description_tooltip": null,
            "layout": "IPY_MODEL_710cf4cb3bc94a178fad21880d4bebc8",
            "placeholder": "​",
            "style": "IPY_MODEL_35f99383916d4cfdaba8d1d5330b0a4f",
            "value": " 1.58M/1.58M [00:00&lt;00:00, 8.83MB/s]"
          }
        },
        "3a876bef40a44509b2557a15e3a88870": {
          "model_module": "@jupyter-widgets/base",
          "model_module_version": "1.2.0",
          "model_name": "LayoutModel",
          "state": {
            "_model_module": "@jupyter-widgets/base",
            "_model_module_version": "1.2.0",
            "_model_name": "LayoutModel",
            "_view_count": null,
            "_view_module": "@jupyter-widgets/base",
            "_view_module_version": "1.2.0",
            "_view_name": "LayoutView",
            "align_content": null,
            "align_items": null,
            "align_self": null,
            "border": null,
            "bottom": null,
            "display": null,
            "flex": null,
            "flex_flow": null,
            "grid_area": null,
            "grid_auto_columns": null,
            "grid_auto_flow": null,
            "grid_auto_rows": null,
            "grid_column": null,
            "grid_gap": null,
            "grid_row": null,
            "grid_template_areas": null,
            "grid_template_columns": null,
            "grid_template_rows": null,
            "height": null,
            "justify_content": null,
            "justify_items": null,
            "left": null,
            "margin": null,
            "max_height": null,
            "max_width": null,
            "min_height": null,
            "min_width": null,
            "object_fit": null,
            "object_position": null,
            "order": null,
            "overflow": null,
            "overflow_x": null,
            "overflow_y": null,
            "padding": null,
            "right": null,
            "top": null,
            "visibility": null,
            "width": null
          }
        },
        "3b3e7dbbc8e74b8395e5ed9ce5b6bfd1": {
          "model_module": "@jupyter-widgets/controls",
          "model_module_version": "1.5.0",
          "model_name": "FloatProgressModel",
          "state": {
            "_dom_classes": [],
            "_model_module": "@jupyter-widgets/controls",
            "_model_module_version": "1.5.0",
            "_model_name": "FloatProgressModel",
            "_view_count": null,
            "_view_module": "@jupyter-widgets/controls",
            "_view_module_version": "1.5.0",
            "_view_name": "ProgressView",
            "bar_style": "success",
            "description": "",
            "description_tooltip": null,
            "layout": "IPY_MODEL_4d5bd1914d054d70b12c69ab42e8b2c2",
            "max": 190,
            "min": 0,
            "orientation": "horizontal",
            "style": "IPY_MODEL_bc0a829805354b30afb25b84f5294f1a",
            "value": 190
          }
        },
        "40f05d702af944cea45707d6f5fc2302": {
          "model_module": "@jupyter-widgets/controls",
          "model_module_version": "1.5.0",
          "model_name": "HTMLModel",
          "state": {
            "_dom_classes": [],
            "_model_module": "@jupyter-widgets/controls",
            "_model_module_version": "1.5.0",
            "_model_name": "HTMLModel",
            "_view_count": null,
            "_view_module": "@jupyter-widgets/controls",
            "_view_module_version": "1.5.0",
            "_view_name": "HTMLView",
            "description": "",
            "description_tooltip": null,
            "layout": "IPY_MODEL_ebcd02e74b904675be13f4735a52d20b",
            "placeholder": "​",
            "style": "IPY_MODEL_29d5468b7f724a078d2e064588f47d36",
            "value": " 996k/996k [00:00&lt;00:00, 13.6MB/s]"
          }
        },
        "41a8f276200c44b2b618d22e63eafac6": {
          "model_module": "@jupyter-widgets/base",
          "model_module_version": "1.2.0",
          "model_name": "LayoutModel",
          "state": {
            "_model_module": "@jupyter-widgets/base",
            "_model_module_version": "1.2.0",
            "_model_name": "LayoutModel",
            "_view_count": null,
            "_view_module": "@jupyter-widgets/base",
            "_view_module_version": "1.2.0",
            "_view_name": "LayoutView",
            "align_content": null,
            "align_items": null,
            "align_self": null,
            "border": null,
            "bottom": null,
            "display": null,
            "flex": null,
            "flex_flow": null,
            "grid_area": null,
            "grid_auto_columns": null,
            "grid_auto_flow": null,
            "grid_auto_rows": null,
            "grid_column": null,
            "grid_gap": null,
            "grid_row": null,
            "grid_template_areas": null,
            "grid_template_columns": null,
            "grid_template_rows": null,
            "height": null,
            "justify_content": null,
            "justify_items": null,
            "left": null,
            "margin": null,
            "max_height": null,
            "max_width": null,
            "min_height": null,
            "min_width": null,
            "object_fit": null,
            "object_position": null,
            "order": null,
            "overflow": null,
            "overflow_x": null,
            "overflow_y": null,
            "padding": null,
            "right": null,
            "top": null,
            "visibility": null,
            "width": null
          }
        },
        "41b70932a70f4c7c913404f2a863328f": {
          "model_module": "@jupyter-widgets/controls",
          "model_module_version": "1.5.0",
          "model_name": "ProgressStyleModel",
          "state": {
            "_model_module": "@jupyter-widgets/controls",
            "_model_module_version": "1.5.0",
            "_model_name": "ProgressStyleModel",
            "_view_count": null,
            "_view_module": "@jupyter-widgets/base",
            "_view_module_version": "1.2.0",
            "_view_name": "StyleView",
            "bar_color": null,
            "description_width": ""
          }
        },
        "42798d53d48c40c99b01b06c9be955b2": {
          "model_module": "@jupyter-widgets/base",
          "model_module_version": "1.2.0",
          "model_name": "LayoutModel",
          "state": {
            "_model_module": "@jupyter-widgets/base",
            "_model_module_version": "1.2.0",
            "_model_name": "LayoutModel",
            "_view_count": null,
            "_view_module": "@jupyter-widgets/base",
            "_view_module_version": "1.2.0",
            "_view_name": "LayoutView",
            "align_content": null,
            "align_items": null,
            "align_self": null,
            "border": null,
            "bottom": null,
            "display": null,
            "flex": null,
            "flex_flow": null,
            "grid_area": null,
            "grid_auto_columns": null,
            "grid_auto_flow": null,
            "grid_auto_rows": null,
            "grid_column": null,
            "grid_gap": null,
            "grid_row": null,
            "grid_template_areas": null,
            "grid_template_columns": null,
            "grid_template_rows": null,
            "height": null,
            "justify_content": null,
            "justify_items": null,
            "left": null,
            "margin": null,
            "max_height": null,
            "max_width": null,
            "min_height": null,
            "min_width": null,
            "object_fit": null,
            "object_position": null,
            "order": null,
            "overflow": null,
            "overflow_x": null,
            "overflow_y": null,
            "padding": null,
            "right": null,
            "top": null,
            "visibility": null,
            "width": null
          }
        },
        "4295b74f92fa42699e159c861246d5ff": {
          "model_module": "@jupyter-widgets/controls",
          "model_module_version": "1.5.0",
          "model_name": "DescriptionStyleModel",
          "state": {
            "_model_module": "@jupyter-widgets/controls",
            "_model_module_version": "1.5.0",
            "_model_name": "DescriptionStyleModel",
            "_view_count": null,
            "_view_module": "@jupyter-widgets/base",
            "_view_module_version": "1.2.0",
            "_view_name": "StyleView",
            "description_width": ""
          }
        },
        "42b7c753fb084bd2b384eb88f0b52bfb": {
          "model_module": "@jupyter-widgets/base",
          "model_module_version": "1.2.0",
          "model_name": "LayoutModel",
          "state": {
            "_model_module": "@jupyter-widgets/base",
            "_model_module_version": "1.2.0",
            "_model_name": "LayoutModel",
            "_view_count": null,
            "_view_module": "@jupyter-widgets/base",
            "_view_module_version": "1.2.0",
            "_view_name": "LayoutView",
            "align_content": null,
            "align_items": null,
            "align_self": null,
            "border": null,
            "bottom": null,
            "display": null,
            "flex": null,
            "flex_flow": null,
            "grid_area": null,
            "grid_auto_columns": null,
            "grid_auto_flow": null,
            "grid_auto_rows": null,
            "grid_column": null,
            "grid_gap": null,
            "grid_row": null,
            "grid_template_areas": null,
            "grid_template_columns": null,
            "grid_template_rows": null,
            "height": null,
            "justify_content": null,
            "justify_items": null,
            "left": null,
            "margin": null,
            "max_height": null,
            "max_width": null,
            "min_height": null,
            "min_width": null,
            "object_fit": null,
            "object_position": null,
            "order": null,
            "overflow": null,
            "overflow_x": null,
            "overflow_y": null,
            "padding": null,
            "right": null,
            "top": null,
            "visibility": null,
            "width": null
          }
        },
        "47d9d7c3b79d486096d19ae9935396e2": {
          "model_module": "@jupyter-widgets/controls",
          "model_module_version": "1.5.0",
          "model_name": "ProgressStyleModel",
          "state": {
            "_model_module": "@jupyter-widgets/controls",
            "_model_module_version": "1.5.0",
            "_model_name": "ProgressStyleModel",
            "_view_count": null,
            "_view_module": "@jupyter-widgets/base",
            "_view_module_version": "1.2.0",
            "_view_name": "StyleView",
            "bar_color": null,
            "description_width": ""
          }
        },
        "4a4b73a871b7427ab879439f3529ebe1": {
          "model_module": "@jupyter-widgets/controls",
          "model_module_version": "1.5.0",
          "model_name": "HBoxModel",
          "state": {
            "_dom_classes": [],
            "_model_module": "@jupyter-widgets/controls",
            "_model_module_version": "1.5.0",
            "_model_name": "HBoxModel",
            "_view_count": null,
            "_view_module": "@jupyter-widgets/controls",
            "_view_module_version": "1.5.0",
            "_view_name": "HBoxView",
            "box_style": "",
            "children": [
              "IPY_MODEL_f5d49000b4404a759cc98b886d27b591",
              "IPY_MODEL_c7ccc741f9e54317bc17d309e713062d",
              "IPY_MODEL_06eef7dc385948269cfc101b509f780e"
            ],
            "layout": "IPY_MODEL_3a876bef40a44509b2557a15e3a88870"
          }
        },
        "4a5c438ed95a49f4b7d686818aa289e1": {
          "model_module": "@jupyter-widgets/base",
          "model_module_version": "1.2.0",
          "model_name": "LayoutModel",
          "state": {
            "_model_module": "@jupyter-widgets/base",
            "_model_module_version": "1.2.0",
            "_model_name": "LayoutModel",
            "_view_count": null,
            "_view_module": "@jupyter-widgets/base",
            "_view_module_version": "1.2.0",
            "_view_name": "LayoutView",
            "align_content": null,
            "align_items": null,
            "align_self": null,
            "border": null,
            "bottom": null,
            "display": null,
            "flex": null,
            "flex_flow": null,
            "grid_area": null,
            "grid_auto_columns": null,
            "grid_auto_flow": null,
            "grid_auto_rows": null,
            "grid_column": null,
            "grid_gap": null,
            "grid_row": null,
            "grid_template_areas": null,
            "grid_template_columns": null,
            "grid_template_rows": null,
            "height": null,
            "justify_content": null,
            "justify_items": null,
            "left": null,
            "margin": null,
            "max_height": null,
            "max_width": null,
            "min_height": null,
            "min_width": null,
            "object_fit": null,
            "object_position": null,
            "order": null,
            "overflow": null,
            "overflow_x": null,
            "overflow_y": null,
            "padding": null,
            "right": null,
            "top": null,
            "visibility": null,
            "width": null
          }
        },
        "4cf35868027e48c2a2fe4966d7ad6bbb": {
          "model_module": "@jupyter-widgets/base",
          "model_module_version": "1.2.0",
          "model_name": "LayoutModel",
          "state": {
            "_model_module": "@jupyter-widgets/base",
            "_model_module_version": "1.2.0",
            "_model_name": "LayoutModel",
            "_view_count": null,
            "_view_module": "@jupyter-widgets/base",
            "_view_module_version": "1.2.0",
            "_view_name": "LayoutView",
            "align_content": null,
            "align_items": null,
            "align_self": null,
            "border": null,
            "bottom": null,
            "display": null,
            "flex": null,
            "flex_flow": null,
            "grid_area": null,
            "grid_auto_columns": null,
            "grid_auto_flow": null,
            "grid_auto_rows": null,
            "grid_column": null,
            "grid_gap": null,
            "grid_row": null,
            "grid_template_areas": null,
            "grid_template_columns": null,
            "grid_template_rows": null,
            "height": null,
            "justify_content": null,
            "justify_items": null,
            "left": null,
            "margin": null,
            "max_height": null,
            "max_width": null,
            "min_height": null,
            "min_width": null,
            "object_fit": null,
            "object_position": null,
            "order": null,
            "overflow": null,
            "overflow_x": null,
            "overflow_y": null,
            "padding": null,
            "right": null,
            "top": null,
            "visibility": null,
            "width": null
          }
        },
        "4d2f9c2a7638447fac71dd71d111f063": {
          "model_module": "@jupyter-widgets/base",
          "model_module_version": "1.2.0",
          "model_name": "LayoutModel",
          "state": {
            "_model_module": "@jupyter-widgets/base",
            "_model_module_version": "1.2.0",
            "_model_name": "LayoutModel",
            "_view_count": null,
            "_view_module": "@jupyter-widgets/base",
            "_view_module_version": "1.2.0",
            "_view_name": "LayoutView",
            "align_content": null,
            "align_items": null,
            "align_self": null,
            "border": null,
            "bottom": null,
            "display": null,
            "flex": null,
            "flex_flow": null,
            "grid_area": null,
            "grid_auto_columns": null,
            "grid_auto_flow": null,
            "grid_auto_rows": null,
            "grid_column": null,
            "grid_gap": null,
            "grid_row": null,
            "grid_template_areas": null,
            "grid_template_columns": null,
            "grid_template_rows": null,
            "height": null,
            "justify_content": null,
            "justify_items": null,
            "left": null,
            "margin": null,
            "max_height": null,
            "max_width": null,
            "min_height": null,
            "min_width": null,
            "object_fit": null,
            "object_position": null,
            "order": null,
            "overflow": null,
            "overflow_x": null,
            "overflow_y": null,
            "padding": null,
            "right": null,
            "top": null,
            "visibility": null,
            "width": null
          }
        },
        "4d5bd1914d054d70b12c69ab42e8b2c2": {
          "model_module": "@jupyter-widgets/base",
          "model_module_version": "1.2.0",
          "model_name": "LayoutModel",
          "state": {
            "_model_module": "@jupyter-widgets/base",
            "_model_module_version": "1.2.0",
            "_model_name": "LayoutModel",
            "_view_count": null,
            "_view_module": "@jupyter-widgets/base",
            "_view_module_version": "1.2.0",
            "_view_name": "LayoutView",
            "align_content": null,
            "align_items": null,
            "align_self": null,
            "border": null,
            "bottom": null,
            "display": null,
            "flex": null,
            "flex_flow": null,
            "grid_area": null,
            "grid_auto_columns": null,
            "grid_auto_flow": null,
            "grid_auto_rows": null,
            "grid_column": null,
            "grid_gap": null,
            "grid_row": null,
            "grid_template_areas": null,
            "grid_template_columns": null,
            "grid_template_rows": null,
            "height": null,
            "justify_content": null,
            "justify_items": null,
            "left": null,
            "margin": null,
            "max_height": null,
            "max_width": null,
            "min_height": null,
            "min_width": null,
            "object_fit": null,
            "object_position": null,
            "order": null,
            "overflow": null,
            "overflow_x": null,
            "overflow_y": null,
            "padding": null,
            "right": null,
            "top": null,
            "visibility": null,
            "width": null
          }
        },
        "4e9554e3604e4e88b5b05ba05fcf89c2": {
          "model_module": "@jupyter-widgets/controls",
          "model_module_version": "1.5.0",
          "model_name": "FloatProgressModel",
          "state": {
            "_dom_classes": [],
            "_model_module": "@jupyter-widgets/controls",
            "_model_module_version": "1.5.0",
            "_model_name": "FloatProgressModel",
            "_view_count": null,
            "_view_module": "@jupyter-widgets/controls",
            "_view_module_version": "1.5.0",
            "_view_name": "ProgressView",
            "bar_style": "success",
            "description": "",
            "description_tooltip": null,
            "layout": "IPY_MODEL_792a6085e20f4742b88ba8d14e2d8b82",
            "max": 528,
            "min": 0,
            "orientation": "horizontal",
            "style": "IPY_MODEL_d54634a07dc24a9ba1ff0a4364424f7e",
            "value": 528
          }
        },
        "4ed9679d0af94aab8837e876a31a4a7a": {
          "model_module": "@jupyter-widgets/controls",
          "model_module_version": "1.5.0",
          "model_name": "DescriptionStyleModel",
          "state": {
            "_model_module": "@jupyter-widgets/controls",
            "_model_module_version": "1.5.0",
            "_model_name": "DescriptionStyleModel",
            "_view_count": null,
            "_view_module": "@jupyter-widgets/base",
            "_view_module_version": "1.2.0",
            "_view_name": "StyleView",
            "description_width": ""
          }
        },
        "4f7bccb185564fc0b081ea2cc86cfea8": {
          "model_module": "@jupyter-widgets/base",
          "model_module_version": "1.2.0",
          "model_name": "LayoutModel",
          "state": {
            "_model_module": "@jupyter-widgets/base",
            "_model_module_version": "1.2.0",
            "_model_name": "LayoutModel",
            "_view_count": null,
            "_view_module": "@jupyter-widgets/base",
            "_view_module_version": "1.2.0",
            "_view_name": "LayoutView",
            "align_content": null,
            "align_items": null,
            "align_self": null,
            "border": null,
            "bottom": null,
            "display": null,
            "flex": null,
            "flex_flow": null,
            "grid_area": null,
            "grid_auto_columns": null,
            "grid_auto_flow": null,
            "grid_auto_rows": null,
            "grid_column": null,
            "grid_gap": null,
            "grid_row": null,
            "grid_template_areas": null,
            "grid_template_columns": null,
            "grid_template_rows": null,
            "height": null,
            "justify_content": null,
            "justify_items": null,
            "left": null,
            "margin": null,
            "max_height": null,
            "max_width": null,
            "min_height": null,
            "min_width": null,
            "object_fit": null,
            "object_position": null,
            "order": null,
            "overflow": null,
            "overflow_x": null,
            "overflow_y": null,
            "padding": null,
            "right": null,
            "top": null,
            "visibility": null,
            "width": null
          }
        },
        "510f4f01de9c4ea0ac9319de2e7bacde": {
          "model_module": "@jupyter-widgets/controls",
          "model_module_version": "1.5.0",
          "model_name": "DescriptionStyleModel",
          "state": {
            "_model_module": "@jupyter-widgets/controls",
            "_model_module_version": "1.5.0",
            "_model_name": "DescriptionStyleModel",
            "_view_count": null,
            "_view_module": "@jupyter-widgets/base",
            "_view_module_version": "1.2.0",
            "_view_name": "StyleView",
            "description_width": ""
          }
        },
        "51f579f1430e43689251f5834fe02e15": {
          "model_module": "@jupyter-widgets/base",
          "model_module_version": "1.2.0",
          "model_name": "LayoutModel",
          "state": {
            "_model_module": "@jupyter-widgets/base",
            "_model_module_version": "1.2.0",
            "_model_name": "LayoutModel",
            "_view_count": null,
            "_view_module": "@jupyter-widgets/base",
            "_view_module_version": "1.2.0",
            "_view_name": "LayoutView",
            "align_content": null,
            "align_items": null,
            "align_self": null,
            "border": null,
            "bottom": null,
            "display": null,
            "flex": null,
            "flex_flow": null,
            "grid_area": null,
            "grid_auto_columns": null,
            "grid_auto_flow": null,
            "grid_auto_rows": null,
            "grid_column": null,
            "grid_gap": null,
            "grid_row": null,
            "grid_template_areas": null,
            "grid_template_columns": null,
            "grid_template_rows": null,
            "height": null,
            "justify_content": null,
            "justify_items": null,
            "left": null,
            "margin": null,
            "max_height": null,
            "max_width": null,
            "min_height": null,
            "min_width": null,
            "object_fit": null,
            "object_position": null,
            "order": null,
            "overflow": null,
            "overflow_x": null,
            "overflow_y": null,
            "padding": null,
            "right": null,
            "top": null,
            "visibility": null,
            "width": null
          }
        },
        "5212ce6bf52c4297a53ae1c7620b33f6": {
          "model_module": "@jupyter-widgets/controls",
          "model_module_version": "1.5.0",
          "model_name": "FloatProgressModel",
          "state": {
            "_dom_classes": [],
            "_model_module": "@jupyter-widgets/controls",
            "_model_module_version": "1.5.0",
            "_model_name": "FloatProgressModel",
            "_view_count": null,
            "_view_module": "@jupyter-widgets/controls",
            "_view_module_version": "1.5.0",
            "_view_name": "ProgressView",
            "bar_style": "success",
            "description": "",
            "description_tooltip": null,
            "layout": "IPY_MODEL_0a6185e15e454dbc8f7fbdb92df6c61a",
            "max": 1961847,
            "min": 0,
            "orientation": "horizontal",
            "style": "IPY_MODEL_c051f24312e8475aac5b84a698483a13",
            "value": 1961847
          }
        },
        "52bb313b496c4118a412472853f370fc": {
          "model_module": "@jupyter-widgets/controls",
          "model_module_version": "1.5.0",
          "model_name": "DescriptionStyleModel",
          "state": {
            "_model_module": "@jupyter-widgets/controls",
            "_model_module_version": "1.5.0",
            "_model_name": "DescriptionStyleModel",
            "_view_count": null,
            "_view_module": "@jupyter-widgets/base",
            "_view_module_version": "1.2.0",
            "_view_name": "StyleView",
            "description_width": ""
          }
        },
        "54ea9f6070a040ecbcd2c5234b608bde": {
          "model_module": "@jupyter-widgets/base",
          "model_module_version": "1.2.0",
          "model_name": "LayoutModel",
          "state": {
            "_model_module": "@jupyter-widgets/base",
            "_model_module_version": "1.2.0",
            "_model_name": "LayoutModel",
            "_view_count": null,
            "_view_module": "@jupyter-widgets/base",
            "_view_module_version": "1.2.0",
            "_view_name": "LayoutView",
            "align_content": null,
            "align_items": null,
            "align_self": null,
            "border": null,
            "bottom": null,
            "display": null,
            "flex": null,
            "flex_flow": null,
            "grid_area": null,
            "grid_auto_columns": null,
            "grid_auto_flow": null,
            "grid_auto_rows": null,
            "grid_column": null,
            "grid_gap": null,
            "grid_row": null,
            "grid_template_areas": null,
            "grid_template_columns": null,
            "grid_template_rows": null,
            "height": null,
            "justify_content": null,
            "justify_items": null,
            "left": null,
            "margin": null,
            "max_height": null,
            "max_width": null,
            "min_height": null,
            "min_width": null,
            "object_fit": null,
            "object_position": null,
            "order": null,
            "overflow": null,
            "overflow_x": null,
            "overflow_y": null,
            "padding": null,
            "right": null,
            "top": null,
            "visibility": null,
            "width": null
          }
        },
        "559fc8d583ed4a7f8073fcd92abc86ce": {
          "model_module": "@jupyter-widgets/controls",
          "model_module_version": "1.5.0",
          "model_name": "HTMLModel",
          "state": {
            "_dom_classes": [],
            "_model_module": "@jupyter-widgets/controls",
            "_model_module_version": "1.5.0",
            "_model_name": "HTMLModel",
            "_view_count": null,
            "_view_module": "@jupyter-widgets/controls",
            "_view_module_version": "1.5.0",
            "_view_name": "HTMLView",
            "description": "",
            "description_tooltip": null,
            "layout": "IPY_MODEL_41a8f276200c44b2b618d22e63eafac6",
            "placeholder": "​",
            "style": "IPY_MODEL_5b3df2f295ba4fb9867d5e47edd6b31a",
            "value": "Downloading pytorch_model.bin: 100%"
          }
        },
        "56c365d998474c4591f0f661c01ce08e": {
          "model_module": "@jupyter-widgets/base",
          "model_module_version": "1.2.0",
          "model_name": "LayoutModel",
          "state": {
            "_model_module": "@jupyter-widgets/base",
            "_model_module_version": "1.2.0",
            "_model_name": "LayoutModel",
            "_view_count": null,
            "_view_module": "@jupyter-widgets/base",
            "_view_module_version": "1.2.0",
            "_view_name": "LayoutView",
            "align_content": null,
            "align_items": null,
            "align_self": null,
            "border": null,
            "bottom": null,
            "display": null,
            "flex": null,
            "flex_flow": null,
            "grid_area": null,
            "grid_auto_columns": null,
            "grid_auto_flow": null,
            "grid_auto_rows": null,
            "grid_column": null,
            "grid_gap": null,
            "grid_row": null,
            "grid_template_areas": null,
            "grid_template_columns": null,
            "grid_template_rows": null,
            "height": null,
            "justify_content": null,
            "justify_items": null,
            "left": null,
            "margin": null,
            "max_height": null,
            "max_width": null,
            "min_height": null,
            "min_width": null,
            "object_fit": null,
            "object_position": null,
            "order": null,
            "overflow": null,
            "overflow_x": null,
            "overflow_y": null,
            "padding": null,
            "right": null,
            "top": null,
            "visibility": null,
            "width": null
          }
        },
        "5707fcf61f134a718d1acdd4423ebc61": {
          "model_module": "@jupyter-widgets/base",
          "model_module_version": "1.2.0",
          "model_name": "LayoutModel",
          "state": {
            "_model_module": "@jupyter-widgets/base",
            "_model_module_version": "1.2.0",
            "_model_name": "LayoutModel",
            "_view_count": null,
            "_view_module": "@jupyter-widgets/base",
            "_view_module_version": "1.2.0",
            "_view_name": "LayoutView",
            "align_content": null,
            "align_items": null,
            "align_self": null,
            "border": null,
            "bottom": null,
            "display": null,
            "flex": null,
            "flex_flow": null,
            "grid_area": null,
            "grid_auto_columns": null,
            "grid_auto_flow": null,
            "grid_auto_rows": null,
            "grid_column": null,
            "grid_gap": null,
            "grid_row": null,
            "grid_template_areas": null,
            "grid_template_columns": null,
            "grid_template_rows": null,
            "height": null,
            "justify_content": null,
            "justify_items": null,
            "left": null,
            "margin": null,
            "max_height": null,
            "max_width": null,
            "min_height": null,
            "min_width": null,
            "object_fit": null,
            "object_position": null,
            "order": null,
            "overflow": null,
            "overflow_x": null,
            "overflow_y": null,
            "padding": null,
            "right": null,
            "top": null,
            "visibility": null,
            "width": null
          }
        },
        "5a67330c90dd453d94a8382295844b33": {
          "model_module": "@jupyter-widgets/base",
          "model_module_version": "1.2.0",
          "model_name": "LayoutModel",
          "state": {
            "_model_module": "@jupyter-widgets/base",
            "_model_module_version": "1.2.0",
            "_model_name": "LayoutModel",
            "_view_count": null,
            "_view_module": "@jupyter-widgets/base",
            "_view_module_version": "1.2.0",
            "_view_name": "LayoutView",
            "align_content": null,
            "align_items": null,
            "align_self": null,
            "border": null,
            "bottom": null,
            "display": null,
            "flex": null,
            "flex_flow": null,
            "grid_area": null,
            "grid_auto_columns": null,
            "grid_auto_flow": null,
            "grid_auto_rows": null,
            "grid_column": null,
            "grid_gap": null,
            "grid_row": null,
            "grid_template_areas": null,
            "grid_template_columns": null,
            "grid_template_rows": null,
            "height": null,
            "justify_content": null,
            "justify_items": null,
            "left": null,
            "margin": null,
            "max_height": null,
            "max_width": null,
            "min_height": null,
            "min_width": null,
            "object_fit": null,
            "object_position": null,
            "order": null,
            "overflow": null,
            "overflow_x": null,
            "overflow_y": null,
            "padding": null,
            "right": null,
            "top": null,
            "visibility": null,
            "width": null
          }
        },
        "5aa9115c850349f1801ecc979b4d036f": {
          "model_module": "@jupyter-widgets/controls",
          "model_module_version": "1.5.0",
          "model_name": "HBoxModel",
          "state": {
            "_dom_classes": [],
            "_model_module": "@jupyter-widgets/controls",
            "_model_module_version": "1.5.0",
            "_model_name": "HBoxModel",
            "_view_count": null,
            "_view_module": "@jupyter-widgets/controls",
            "_view_module_version": "1.5.0",
            "_view_name": "HBoxView",
            "box_style": "",
            "children": [
              "IPY_MODEL_a9bc8beced3a4b059a1f47de425ac95c",
              "IPY_MODEL_5212ce6bf52c4297a53ae1c7620b33f6",
              "IPY_MODEL_a89b2febb00446c4ac55b7fe015bab3c"
            ],
            "layout": "IPY_MODEL_5707fcf61f134a718d1acdd4423ebc61"
          }
        },
        "5b3df2f295ba4fb9867d5e47edd6b31a": {
          "model_module": "@jupyter-widgets/controls",
          "model_module_version": "1.5.0",
          "model_name": "DescriptionStyleModel",
          "state": {
            "_model_module": "@jupyter-widgets/controls",
            "_model_module_version": "1.5.0",
            "_model_name": "DescriptionStyleModel",
            "_view_count": null,
            "_view_module": "@jupyter-widgets/base",
            "_view_module_version": "1.2.0",
            "_view_name": "StyleView",
            "description_width": ""
          }
        },
        "60032fecab874585822abece89703cee": {
          "model_module": "@jupyter-widgets/controls",
          "model_module_version": "1.5.0",
          "model_name": "HTMLModel",
          "state": {
            "_dom_classes": [],
            "_model_module": "@jupyter-widgets/controls",
            "_model_module_version": "1.5.0",
            "_model_name": "HTMLModel",
            "_view_count": null,
            "_view_module": "@jupyter-widgets/controls",
            "_view_module_version": "1.5.0",
            "_view_name": "HTMLView",
            "description": "",
            "description_tooltip": null,
            "layout": "IPY_MODEL_e8e42c91f3fc424f86f780d562039d93",
            "placeholder": "​",
            "style": "IPY_MODEL_510f4f01de9c4ea0ac9319de2e7bacde",
            "value": " 690/690 [00:00&lt;00:00, 28.6kB/s]"
          }
        },
        "630a4bdb41ff47b08554b4182353f91c": {
          "model_module": "@jupyter-widgets/controls",
          "model_module_version": "1.5.0",
          "model_name": "DescriptionStyleModel",
          "state": {
            "_model_module": "@jupyter-widgets/controls",
            "_model_module_version": "1.5.0",
            "_model_name": "DescriptionStyleModel",
            "_view_count": null,
            "_view_module": "@jupyter-widgets/base",
            "_view_module_version": "1.2.0",
            "_view_name": "StyleView",
            "description_width": ""
          }
        },
        "6585eca7c658487aa345e6cc3fa6c36f": {
          "model_module": "@jupyter-widgets/controls",
          "model_module_version": "1.5.0",
          "model_name": "HBoxModel",
          "state": {
            "_dom_classes": [],
            "_model_module": "@jupyter-widgets/controls",
            "_model_module_version": "1.5.0",
            "_model_name": "HBoxModel",
            "_view_count": null,
            "_view_module": "@jupyter-widgets/controls",
            "_view_module_version": "1.5.0",
            "_view_name": "HBoxView",
            "box_style": "",
            "children": [
              "IPY_MODEL_f09b3e49f5a643dc8bf473dab180f3d1",
              "IPY_MODEL_3489957a8de341abb5978efe0137a33c",
              "IPY_MODEL_39e729e36a824694bc409165f3dad9dd"
            ],
            "layout": "IPY_MODEL_91b6a7a0c00f43c2b7c70debdd8d2983"
          }
        },
        "69570a26773b4f07b8791f0b8542cca9": {
          "model_module": "@jupyter-widgets/base",
          "model_module_version": "1.2.0",
          "model_name": "LayoutModel",
          "state": {
            "_model_module": "@jupyter-widgets/base",
            "_model_module_version": "1.2.0",
            "_model_name": "LayoutModel",
            "_view_count": null,
            "_view_module": "@jupyter-widgets/base",
            "_view_module_version": "1.2.0",
            "_view_name": "LayoutView",
            "align_content": null,
            "align_items": null,
            "align_self": null,
            "border": null,
            "bottom": null,
            "display": null,
            "flex": null,
            "flex_flow": null,
            "grid_area": null,
            "grid_auto_columns": null,
            "grid_auto_flow": null,
            "grid_auto_rows": null,
            "grid_column": null,
            "grid_gap": null,
            "grid_row": null,
            "grid_template_areas": null,
            "grid_template_columns": null,
            "grid_template_rows": null,
            "height": null,
            "justify_content": null,
            "justify_items": null,
            "left": null,
            "margin": null,
            "max_height": null,
            "max_width": null,
            "min_height": null,
            "min_width": null,
            "object_fit": null,
            "object_position": null,
            "order": null,
            "overflow": null,
            "overflow_x": null,
            "overflow_y": null,
            "padding": null,
            "right": null,
            "top": null,
            "visibility": null,
            "width": null
          }
        },
        "6964ed0a859c43f7868041ded4564926": {
          "model_module": "@jupyter-widgets/controls",
          "model_module_version": "1.5.0",
          "model_name": "HBoxModel",
          "state": {
            "_dom_classes": [],
            "_model_module": "@jupyter-widgets/controls",
            "_model_module_version": "1.5.0",
            "_model_name": "HBoxModel",
            "_view_count": null,
            "_view_module": "@jupyter-widgets/controls",
            "_view_module_version": "1.5.0",
            "_view_name": "HBoxView",
            "box_style": "",
            "children": [
              "IPY_MODEL_010a5952007545b4b619c82b50462614",
              "IPY_MODEL_0a6a94fbf36d4331afbdb0676591293b",
              "IPY_MODEL_9b83df5cfa5846f19e7a9ce844be8288"
            ],
            "layout": "IPY_MODEL_51f579f1430e43689251f5834fe02e15"
          }
        },
        "69ca3cfe3cc444219ab32ff1c88668cf": {
          "model_module": "@jupyter-widgets/base",
          "model_module_version": "1.2.0",
          "model_name": "LayoutModel",
          "state": {
            "_model_module": "@jupyter-widgets/base",
            "_model_module_version": "1.2.0",
            "_model_name": "LayoutModel",
            "_view_count": null,
            "_view_module": "@jupyter-widgets/base",
            "_view_module_version": "1.2.0",
            "_view_name": "LayoutView",
            "align_content": null,
            "align_items": null,
            "align_self": null,
            "border": null,
            "bottom": null,
            "display": null,
            "flex": null,
            "flex_flow": null,
            "grid_area": null,
            "grid_auto_columns": null,
            "grid_auto_flow": null,
            "grid_auto_rows": null,
            "grid_column": null,
            "grid_gap": null,
            "grid_row": null,
            "grid_template_areas": null,
            "grid_template_columns": null,
            "grid_template_rows": null,
            "height": null,
            "justify_content": null,
            "justify_items": null,
            "left": null,
            "margin": null,
            "max_height": null,
            "max_width": null,
            "min_height": null,
            "min_width": null,
            "object_fit": null,
            "object_position": null,
            "order": null,
            "overflow": null,
            "overflow_x": null,
            "overflow_y": null,
            "padding": null,
            "right": null,
            "top": null,
            "visibility": null,
            "width": null
          }
        },
        "6a2b2bc2992a4f1ea17a129802f5684c": {
          "model_module": "@jupyter-widgets/controls",
          "model_module_version": "1.5.0",
          "model_name": "DescriptionStyleModel",
          "state": {
            "_model_module": "@jupyter-widgets/controls",
            "_model_module_version": "1.5.0",
            "_model_name": "DescriptionStyleModel",
            "_view_count": null,
            "_view_module": "@jupyter-widgets/base",
            "_view_module_version": "1.2.0",
            "_view_name": "StyleView",
            "description_width": ""
          }
        },
        "6f088638d4104adcaa4239160c00278d": {
          "model_module": "@jupyter-widgets/controls",
          "model_module_version": "1.5.0",
          "model_name": "HTMLModel",
          "state": {
            "_dom_classes": [],
            "_model_module": "@jupyter-widgets/controls",
            "_model_module_version": "1.5.0",
            "_model_name": "HTMLModel",
            "_view_count": null,
            "_view_module": "@jupyter-widgets/controls",
            "_view_module_version": "1.5.0",
            "_view_name": "HTMLView",
            "description": "",
            "description_tooltip": null,
            "layout": "IPY_MODEL_0a63a11786bb4400b50eddaf72b57620",
            "placeholder": "​",
            "style": "IPY_MODEL_2abbaf25c78c4286b61b5c9c409e6524",
            "value": "Downloading (…)nce_bert_config.json: 100%"
          }
        },
        "70c7d42d698248ac9b29f2e13d67bb84": {
          "model_module": "@jupyter-widgets/controls",
          "model_module_version": "1.5.0",
          "model_name": "ProgressStyleModel",
          "state": {
            "_model_module": "@jupyter-widgets/controls",
            "_model_module_version": "1.5.0",
            "_model_name": "ProgressStyleModel",
            "_view_count": null,
            "_view_module": "@jupyter-widgets/base",
            "_view_module_version": "1.2.0",
            "_view_name": "StyleView",
            "bar_color": null,
            "description_width": ""
          }
        },
        "710cf4cb3bc94a178fad21880d4bebc8": {
          "model_module": "@jupyter-widgets/base",
          "model_module_version": "1.2.0",
          "model_name": "LayoutModel",
          "state": {
            "_model_module": "@jupyter-widgets/base",
            "_model_module_version": "1.2.0",
            "_model_name": "LayoutModel",
            "_view_count": null,
            "_view_module": "@jupyter-widgets/base",
            "_view_module_version": "1.2.0",
            "_view_name": "LayoutView",
            "align_content": null,
            "align_items": null,
            "align_self": null,
            "border": null,
            "bottom": null,
            "display": null,
            "flex": null,
            "flex_flow": null,
            "grid_area": null,
            "grid_auto_columns": null,
            "grid_auto_flow": null,
            "grid_auto_rows": null,
            "grid_column": null,
            "grid_gap": null,
            "grid_row": null,
            "grid_template_areas": null,
            "grid_template_columns": null,
            "grid_template_rows": null,
            "height": null,
            "justify_content": null,
            "justify_items": null,
            "left": null,
            "margin": null,
            "max_height": null,
            "max_width": null,
            "min_height": null,
            "min_width": null,
            "object_fit": null,
            "object_position": null,
            "order": null,
            "overflow": null,
            "overflow_x": null,
            "overflow_y": null,
            "padding": null,
            "right": null,
            "top": null,
            "visibility": null,
            "width": null
          }
        },
        "737a7b3a4df84038bbf3ab59068935fc": {
          "model_module": "@jupyter-widgets/base",
          "model_module_version": "1.2.0",
          "model_name": "LayoutModel",
          "state": {
            "_model_module": "@jupyter-widgets/base",
            "_model_module_version": "1.2.0",
            "_model_name": "LayoutModel",
            "_view_count": null,
            "_view_module": "@jupyter-widgets/base",
            "_view_module_version": "1.2.0",
            "_view_name": "LayoutView",
            "align_content": null,
            "align_items": null,
            "align_self": null,
            "border": null,
            "bottom": null,
            "display": null,
            "flex": null,
            "flex_flow": null,
            "grid_area": null,
            "grid_auto_columns": null,
            "grid_auto_flow": null,
            "grid_auto_rows": null,
            "grid_column": null,
            "grid_gap": null,
            "grid_row": null,
            "grid_template_areas": null,
            "grid_template_columns": null,
            "grid_template_rows": null,
            "height": null,
            "justify_content": null,
            "justify_items": null,
            "left": null,
            "margin": null,
            "max_height": null,
            "max_width": null,
            "min_height": null,
            "min_width": null,
            "object_fit": null,
            "object_position": null,
            "order": null,
            "overflow": null,
            "overflow_x": null,
            "overflow_y": null,
            "padding": null,
            "right": null,
            "top": null,
            "visibility": null,
            "width": null
          }
        },
        "73bb7e54bdd5495b92eaacb14f08c0e1": {
          "model_module": "@jupyter-widgets/controls",
          "model_module_version": "1.5.0",
          "model_name": "FloatProgressModel",
          "state": {
            "_dom_classes": [],
            "_model_module": "@jupyter-widgets/controls",
            "_model_module_version": "1.5.0",
            "_model_name": "FloatProgressModel",
            "_view_count": null,
            "_view_module": "@jupyter-widgets/controls",
            "_view_module_version": "1.5.0",
            "_view_name": "ProgressView",
            "bar_style": "success",
            "description": "",
            "description_tooltip": null,
            "layout": "IPY_MODEL_737a7b3a4df84038bbf3ab59068935fc",
            "max": 114,
            "min": 0,
            "orientation": "horizontal",
            "style": "IPY_MODEL_c4afd04e22734ae0bfd13e832c0f9444",
            "value": 114
          }
        },
        "74c286ab1acf4409977108334e55e9e7": {
          "model_module": "@jupyter-widgets/controls",
          "model_module_version": "1.5.0",
          "model_name": "HTMLModel",
          "state": {
            "_dom_classes": [],
            "_model_module": "@jupyter-widgets/controls",
            "_model_module_version": "1.5.0",
            "_model_name": "HTMLModel",
            "_view_count": null,
            "_view_module": "@jupyter-widgets/controls",
            "_view_module_version": "1.5.0",
            "_view_name": "HTMLView",
            "description": "",
            "description_tooltip": null,
            "layout": "IPY_MODEL_69570a26773b4f07b8791f0b8542cca9",
            "placeholder": "​",
            "style": "IPY_MODEL_0c46f9ba2eda4bd2ab9398fa994fe1f7",
            "value": " 607/607 [00:00&lt;00:00, 9.02kB/s]"
          }
        },
        "77e63daef8b24ee4a86edbeaaca50fa0": {
          "model_module": "@jupyter-widgets/controls",
          "model_module_version": "1.5.0",
          "model_name": "FloatProgressModel",
          "state": {
            "_dom_classes": [],
            "_model_module": "@jupyter-widgets/controls",
            "_model_module_version": "1.5.0",
            "_model_name": "FloatProgressModel",
            "_view_count": null,
            "_view_module": "@jupyter-widgets/controls",
            "_view_module_version": "1.5.0",
            "_view_name": "ProgressView",
            "bar_style": "success",
            "description": "",
            "description_tooltip": null,
            "layout": "IPY_MODEL_f35e207ca47e473cb480294ae86c10ff",
            "max": 112,
            "min": 0,
            "orientation": "horizontal",
            "style": "IPY_MODEL_9d0d3fa90fe242599534f4956a39197f",
            "value": 112
          }
        },
        "7896796e7e3a41fa9f9f685d1f9fd6ab": {
          "model_module": "@jupyter-widgets/controls",
          "model_module_version": "1.5.0",
          "model_name": "DescriptionStyleModel",
          "state": {
            "_model_module": "@jupyter-widgets/controls",
            "_model_module_version": "1.5.0",
            "_model_name": "DescriptionStyleModel",
            "_view_count": null,
            "_view_module": "@jupyter-widgets/base",
            "_view_module_version": "1.2.0",
            "_view_name": "StyleView",
            "description_width": ""
          }
        },
        "792a6085e20f4742b88ba8d14e2d8b82": {
          "model_module": "@jupyter-widgets/base",
          "model_module_version": "1.2.0",
          "model_name": "LayoutModel",
          "state": {
            "_model_module": "@jupyter-widgets/base",
            "_model_module_version": "1.2.0",
            "_model_name": "LayoutModel",
            "_view_count": null,
            "_view_module": "@jupyter-widgets/base",
            "_view_module_version": "1.2.0",
            "_view_name": "LayoutView",
            "align_content": null,
            "align_items": null,
            "align_self": null,
            "border": null,
            "bottom": null,
            "display": null,
            "flex": null,
            "flex_flow": null,
            "grid_area": null,
            "grid_auto_columns": null,
            "grid_auto_flow": null,
            "grid_auto_rows": null,
            "grid_column": null,
            "grid_gap": null,
            "grid_row": null,
            "grid_template_areas": null,
            "grid_template_columns": null,
            "grid_template_rows": null,
            "height": null,
            "justify_content": null,
            "justify_items": null,
            "left": null,
            "margin": null,
            "max_height": null,
            "max_width": null,
            "min_height": null,
            "min_width": null,
            "object_fit": null,
            "object_position": null,
            "order": null,
            "overflow": null,
            "overflow_x": null,
            "overflow_y": null,
            "padding": null,
            "right": null,
            "top": null,
            "visibility": null,
            "width": null
          }
        },
        "79a1367a4e834a37b517438fca0baa68": {
          "model_module": "@jupyter-widgets/base",
          "model_module_version": "1.2.0",
          "model_name": "LayoutModel",
          "state": {
            "_model_module": "@jupyter-widgets/base",
            "_model_module_version": "1.2.0",
            "_model_name": "LayoutModel",
            "_view_count": null,
            "_view_module": "@jupyter-widgets/base",
            "_view_module_version": "1.2.0",
            "_view_name": "LayoutView",
            "align_content": null,
            "align_items": null,
            "align_self": null,
            "border": null,
            "bottom": null,
            "display": null,
            "flex": null,
            "flex_flow": null,
            "grid_area": null,
            "grid_auto_columns": null,
            "grid_auto_flow": null,
            "grid_auto_rows": null,
            "grid_column": null,
            "grid_gap": null,
            "grid_row": null,
            "grid_template_areas": null,
            "grid_template_columns": null,
            "grid_template_rows": null,
            "height": null,
            "justify_content": null,
            "justify_items": null,
            "left": null,
            "margin": null,
            "max_height": null,
            "max_width": null,
            "min_height": null,
            "min_width": null,
            "object_fit": null,
            "object_position": null,
            "order": null,
            "overflow": null,
            "overflow_x": null,
            "overflow_y": null,
            "padding": null,
            "right": null,
            "top": null,
            "visibility": null,
            "width": null
          }
        },
        "7dd34519fc9c496eaff75d4700f24b85": {
          "model_module": "@jupyter-widgets/base",
          "model_module_version": "1.2.0",
          "model_name": "LayoutModel",
          "state": {
            "_model_module": "@jupyter-widgets/base",
            "_model_module_version": "1.2.0",
            "_model_name": "LayoutModel",
            "_view_count": null,
            "_view_module": "@jupyter-widgets/base",
            "_view_module_version": "1.2.0",
            "_view_name": "LayoutView",
            "align_content": null,
            "align_items": null,
            "align_self": null,
            "border": null,
            "bottom": null,
            "display": null,
            "flex": null,
            "flex_flow": null,
            "grid_area": null,
            "grid_auto_columns": null,
            "grid_auto_flow": null,
            "grid_auto_rows": null,
            "grid_column": null,
            "grid_gap": null,
            "grid_row": null,
            "grid_template_areas": null,
            "grid_template_columns": null,
            "grid_template_rows": null,
            "height": null,
            "justify_content": null,
            "justify_items": null,
            "left": null,
            "margin": null,
            "max_height": null,
            "max_width": null,
            "min_height": null,
            "min_width": null,
            "object_fit": null,
            "object_position": null,
            "order": null,
            "overflow": null,
            "overflow_x": null,
            "overflow_y": null,
            "padding": null,
            "right": null,
            "top": null,
            "visibility": null,
            "width": null
          }
        },
        "7f42f3c3e6284583983ae463ab1d0ece": {
          "model_module": "@jupyter-widgets/controls",
          "model_module_version": "1.5.0",
          "model_name": "HTMLModel",
          "state": {
            "_dom_classes": [],
            "_model_module": "@jupyter-widgets/controls",
            "_model_module_version": "1.5.0",
            "_model_name": "HTMLModel",
            "_view_count": null,
            "_view_module": "@jupyter-widgets/controls",
            "_view_module_version": "1.5.0",
            "_view_name": "HTMLView",
            "description": "",
            "description_tooltip": null,
            "layout": "IPY_MODEL_e687b58a4fbe4a62b310afa8c3f3dd00",
            "placeholder": "​",
            "style": "IPY_MODEL_4295b74f92fa42699e159c861246d5ff",
            "value": " 190/190 [00:00&lt;00:00, 5.02kB/s]"
          }
        },
        "7f52e72690f845139b2592f84ae67279": {
          "model_module": "@jupyter-widgets/base",
          "model_module_version": "1.2.0",
          "model_name": "LayoutModel",
          "state": {
            "_model_module": "@jupyter-widgets/base",
            "_model_module_version": "1.2.0",
            "_model_name": "LayoutModel",
            "_view_count": null,
            "_view_module": "@jupyter-widgets/base",
            "_view_module_version": "1.2.0",
            "_view_name": "LayoutView",
            "align_content": null,
            "align_items": null,
            "align_self": null,
            "border": null,
            "bottom": null,
            "display": null,
            "flex": null,
            "flex_flow": null,
            "grid_area": null,
            "grid_auto_columns": null,
            "grid_auto_flow": null,
            "grid_auto_rows": null,
            "grid_column": null,
            "grid_gap": null,
            "grid_row": null,
            "grid_template_areas": null,
            "grid_template_columns": null,
            "grid_template_rows": null,
            "height": null,
            "justify_content": null,
            "justify_items": null,
            "left": null,
            "margin": null,
            "max_height": null,
            "max_width": null,
            "min_height": null,
            "min_width": null,
            "object_fit": null,
            "object_position": null,
            "order": null,
            "overflow": null,
            "overflow_x": null,
            "overflow_y": null,
            "padding": null,
            "right": null,
            "top": null,
            "visibility": null,
            "width": null
          }
        },
        "87c3e2d91fd44509b7b7b82da52010f7": {
          "model_module": "@jupyter-widgets/controls",
          "model_module_version": "1.5.0",
          "model_name": "DescriptionStyleModel",
          "state": {
            "_model_module": "@jupyter-widgets/controls",
            "_model_module_version": "1.5.0",
            "_model_name": "DescriptionStyleModel",
            "_view_count": null,
            "_view_module": "@jupyter-widgets/base",
            "_view_module_version": "1.2.0",
            "_view_name": "StyleView",
            "description_width": ""
          }
        },
        "885d6e6fc54c45179b25d7383aeb90d0": {
          "model_module": "@jupyter-widgets/base",
          "model_module_version": "1.2.0",
          "model_name": "LayoutModel",
          "state": {
            "_model_module": "@jupyter-widgets/base",
            "_model_module_version": "1.2.0",
            "_model_name": "LayoutModel",
            "_view_count": null,
            "_view_module": "@jupyter-widgets/base",
            "_view_module_version": "1.2.0",
            "_view_name": "LayoutView",
            "align_content": null,
            "align_items": null,
            "align_self": null,
            "border": null,
            "bottom": null,
            "display": null,
            "flex": null,
            "flex_flow": null,
            "grid_area": null,
            "grid_auto_columns": null,
            "grid_auto_flow": null,
            "grid_auto_rows": null,
            "grid_column": null,
            "grid_gap": null,
            "grid_row": null,
            "grid_template_areas": null,
            "grid_template_columns": null,
            "grid_template_rows": null,
            "height": null,
            "justify_content": null,
            "justify_items": null,
            "left": null,
            "margin": null,
            "max_height": null,
            "max_width": null,
            "min_height": null,
            "min_width": null,
            "object_fit": null,
            "object_position": null,
            "order": null,
            "overflow": null,
            "overflow_x": null,
            "overflow_y": null,
            "padding": null,
            "right": null,
            "top": null,
            "visibility": null,
            "width": null
          }
        },
        "8ad4e0684cfe48a38eb969b2284cfd34": {
          "model_module": "@jupyter-widgets/controls",
          "model_module_version": "1.5.0",
          "model_name": "DescriptionStyleModel",
          "state": {
            "_model_module": "@jupyter-widgets/controls",
            "_model_module_version": "1.5.0",
            "_model_name": "DescriptionStyleModel",
            "_view_count": null,
            "_view_module": "@jupyter-widgets/base",
            "_view_module_version": "1.2.0",
            "_view_name": "StyleView",
            "description_width": ""
          }
        },
        "8b63caf5a6074ebd9fa45873467a5dd9": {
          "model_module": "@jupyter-widgets/controls",
          "model_module_version": "1.5.0",
          "model_name": "HTMLModel",
          "state": {
            "_dom_classes": [],
            "_model_module": "@jupyter-widgets/controls",
            "_model_module_version": "1.5.0",
            "_model_name": "HTMLModel",
            "_view_count": null,
            "_view_module": "@jupyter-widgets/controls",
            "_view_module_version": "1.5.0",
            "_view_name": "HTMLView",
            "description": "",
            "description_tooltip": null,
            "layout": "IPY_MODEL_1049575848374536af556877841ca9b3",
            "placeholder": "​",
            "style": "IPY_MODEL_4ed9679d0af94aab8837e876a31a4a7a",
            "value": "Downloading (…)5428d96a/config.json: 100%"
          }
        },
        "8d434112b11948f5ae6439c7dd52579f": {
          "model_module": "@jupyter-widgets/base",
          "model_module_version": "1.2.0",
          "model_name": "LayoutModel",
          "state": {
            "_model_module": "@jupyter-widgets/base",
            "_model_module_version": "1.2.0",
            "_model_name": "LayoutModel",
            "_view_count": null,
            "_view_module": "@jupyter-widgets/base",
            "_view_module_version": "1.2.0",
            "_view_name": "LayoutView",
            "align_content": null,
            "align_items": null,
            "align_self": null,
            "border": null,
            "bottom": null,
            "display": null,
            "flex": null,
            "flex_flow": null,
            "grid_area": null,
            "grid_auto_columns": null,
            "grid_auto_flow": null,
            "grid_auto_rows": null,
            "grid_column": null,
            "grid_gap": null,
            "grid_row": null,
            "grid_template_areas": null,
            "grid_template_columns": null,
            "grid_template_rows": null,
            "height": null,
            "justify_content": null,
            "justify_items": null,
            "left": null,
            "margin": null,
            "max_height": null,
            "max_width": null,
            "min_height": null,
            "min_width": null,
            "object_fit": null,
            "object_position": null,
            "order": null,
            "overflow": null,
            "overflow_x": null,
            "overflow_y": null,
            "padding": null,
            "right": null,
            "top": null,
            "visibility": null,
            "width": null
          }
        },
        "90a32e86d52644abb0753da07c13ea8d": {
          "model_module": "@jupyter-widgets/controls",
          "model_module_version": "1.5.0",
          "model_name": "HBoxModel",
          "state": {
            "_dom_classes": [],
            "_model_module": "@jupyter-widgets/controls",
            "_model_module_version": "1.5.0",
            "_model_name": "HBoxModel",
            "_view_count": null,
            "_view_module": "@jupyter-widgets/controls",
            "_view_module_version": "1.5.0",
            "_view_name": "HBoxView",
            "box_style": "",
            "children": [
              "IPY_MODEL_f0b7f7257b264fb1a9325ff90cd8a083",
              "IPY_MODEL_ba3a69cb51134955bd1a5e80ee4bf29c",
              "IPY_MODEL_40f05d702af944cea45707d6f5fc2302"
            ],
            "layout": "IPY_MODEL_122875198bee4a00b078f9af375e7352"
          }
        },
        "91b6a7a0c00f43c2b7c70debdd8d2983": {
          "model_module": "@jupyter-widgets/base",
          "model_module_version": "1.2.0",
          "model_name": "LayoutModel",
          "state": {
            "_model_module": "@jupyter-widgets/base",
            "_model_module_version": "1.2.0",
            "_model_name": "LayoutModel",
            "_view_count": null,
            "_view_module": "@jupyter-widgets/base",
            "_view_module_version": "1.2.0",
            "_view_name": "LayoutView",
            "align_content": null,
            "align_items": null,
            "align_self": null,
            "border": null,
            "bottom": null,
            "display": null,
            "flex": null,
            "flex_flow": null,
            "grid_area": null,
            "grid_auto_columns": null,
            "grid_auto_flow": null,
            "grid_auto_rows": null,
            "grid_column": null,
            "grid_gap": null,
            "grid_row": null,
            "grid_template_areas": null,
            "grid_template_columns": null,
            "grid_template_rows": null,
            "height": null,
            "justify_content": null,
            "justify_items": null,
            "left": null,
            "margin": null,
            "max_height": null,
            "max_width": null,
            "min_height": null,
            "min_width": null,
            "object_fit": null,
            "object_position": null,
            "order": null,
            "overflow": null,
            "overflow_x": null,
            "overflow_y": null,
            "padding": null,
            "right": null,
            "top": null,
            "visibility": null,
            "width": null
          }
        },
        "935b5058487b46c0af2cb3b6830a800b": {
          "model_module": "@jupyter-widgets/controls",
          "model_module_version": "1.5.0",
          "model_name": "HTMLModel",
          "state": {
            "_dom_classes": [],
            "_model_module": "@jupyter-widgets/controls",
            "_model_module_version": "1.5.0",
            "_model_name": "HTMLModel",
            "_view_count": null,
            "_view_module": "@jupyter-widgets/controls",
            "_view_module_version": "1.5.0",
            "_view_name": "HTMLView",
            "description": "",
            "description_tooltip": null,
            "layout": "IPY_MODEL_a3b6bb5702184b5d9addbbb3ca4a2f55",
            "placeholder": "​",
            "style": "IPY_MODEL_b5198d3bd6ad4a978eca79fc8c25d334",
            "value": "Downloading (…)/2_Dense/config.json: 100%"
          }
        },
        "968b07f502054c4c9cea46b05d9d515b": {
          "model_module": "@jupyter-widgets/base",
          "model_module_version": "1.2.0",
          "model_name": "LayoutModel",
          "state": {
            "_model_module": "@jupyter-widgets/base",
            "_model_module_version": "1.2.0",
            "_model_name": "LayoutModel",
            "_view_count": null,
            "_view_module": "@jupyter-widgets/base",
            "_view_module_version": "1.2.0",
            "_view_name": "LayoutView",
            "align_content": null,
            "align_items": null,
            "align_self": null,
            "border": null,
            "bottom": null,
            "display": null,
            "flex": null,
            "flex_flow": null,
            "grid_area": null,
            "grid_auto_columns": null,
            "grid_auto_flow": null,
            "grid_auto_rows": null,
            "grid_column": null,
            "grid_gap": null,
            "grid_row": null,
            "grid_template_areas": null,
            "grid_template_columns": null,
            "grid_template_rows": null,
            "height": null,
            "justify_content": null,
            "justify_items": null,
            "left": null,
            "margin": null,
            "max_height": null,
            "max_width": null,
            "min_height": null,
            "min_width": null,
            "object_fit": null,
            "object_position": null,
            "order": null,
            "overflow": null,
            "overflow_x": null,
            "overflow_y": null,
            "padding": null,
            "right": null,
            "top": null,
            "visibility": null,
            "width": null
          }
        },
        "985a39666cb3443a8724039c92124ba5": {
          "model_module": "@jupyter-widgets/base",
          "model_module_version": "1.2.0",
          "model_name": "LayoutModel",
          "state": {
            "_model_module": "@jupyter-widgets/base",
            "_model_module_version": "1.2.0",
            "_model_name": "LayoutModel",
            "_view_count": null,
            "_view_module": "@jupyter-widgets/base",
            "_view_module_version": "1.2.0",
            "_view_name": "LayoutView",
            "align_content": null,
            "align_items": null,
            "align_self": null,
            "border": null,
            "bottom": null,
            "display": null,
            "flex": null,
            "flex_flow": null,
            "grid_area": null,
            "grid_auto_columns": null,
            "grid_auto_flow": null,
            "grid_auto_rows": null,
            "grid_column": null,
            "grid_gap": null,
            "grid_row": null,
            "grid_template_areas": null,
            "grid_template_columns": null,
            "grid_template_rows": null,
            "height": null,
            "justify_content": null,
            "justify_items": null,
            "left": null,
            "margin": null,
            "max_height": null,
            "max_width": null,
            "min_height": null,
            "min_width": null,
            "object_fit": null,
            "object_position": null,
            "order": null,
            "overflow": null,
            "overflow_x": null,
            "overflow_y": null,
            "padding": null,
            "right": null,
            "top": null,
            "visibility": null,
            "width": null
          }
        },
        "987564a926e4498d865f60a8246f0d66": {
          "model_module": "@jupyter-widgets/base",
          "model_module_version": "1.2.0",
          "model_name": "LayoutModel",
          "state": {
            "_model_module": "@jupyter-widgets/base",
            "_model_module_version": "1.2.0",
            "_model_name": "LayoutModel",
            "_view_count": null,
            "_view_module": "@jupyter-widgets/base",
            "_view_module_version": "1.2.0",
            "_view_name": "LayoutView",
            "align_content": null,
            "align_items": null,
            "align_self": null,
            "border": null,
            "bottom": null,
            "display": null,
            "flex": null,
            "flex_flow": null,
            "grid_area": null,
            "grid_auto_columns": null,
            "grid_auto_flow": null,
            "grid_auto_rows": null,
            "grid_column": null,
            "grid_gap": null,
            "grid_row": null,
            "grid_template_areas": null,
            "grid_template_columns": null,
            "grid_template_rows": null,
            "height": null,
            "justify_content": null,
            "justify_items": null,
            "left": null,
            "margin": null,
            "max_height": null,
            "max_width": null,
            "min_height": null,
            "min_width": null,
            "object_fit": null,
            "object_position": null,
            "order": null,
            "overflow": null,
            "overflow_x": null,
            "overflow_y": null,
            "padding": null,
            "right": null,
            "top": null,
            "visibility": null,
            "width": null
          }
        },
        "98c8ed4b62af4e8fb20bb03c1379a90c": {
          "model_module": "@jupyter-widgets/controls",
          "model_module_version": "1.5.0",
          "model_name": "HBoxModel",
          "state": {
            "_dom_classes": [],
            "_model_module": "@jupyter-widgets/controls",
            "_model_module_version": "1.5.0",
            "_model_name": "HBoxModel",
            "_view_count": null,
            "_view_module": "@jupyter-widgets/controls",
            "_view_module_version": "1.5.0",
            "_view_name": "HBoxView",
            "box_style": "",
            "children": [
              "IPY_MODEL_bffb58dad2dc46d28951dcb65ea036ca",
              "IPY_MODEL_9de90833032c4eb1bcb1a77969ce2d6a",
              "IPY_MODEL_ffa33f4bb78047bebb6ca7faa7361bf6"
            ],
            "layout": "IPY_MODEL_c5d3a3c488b24370a2edd5bf29c8ad37"
          }
        },
        "997f8a1dcd5944079222a3b0e86a9576": {
          "model_module": "@jupyter-widgets/controls",
          "model_module_version": "1.5.0",
          "model_name": "DescriptionStyleModel",
          "state": {
            "_model_module": "@jupyter-widgets/controls",
            "_model_module_version": "1.5.0",
            "_model_name": "DescriptionStyleModel",
            "_view_count": null,
            "_view_module": "@jupyter-widgets/base",
            "_view_module_version": "1.2.0",
            "_view_name": "StyleView",
            "description_width": ""
          }
        },
        "9b20b8af8fae4a79a347ad975fdf4de6": {
          "model_module": "@jupyter-widgets/base",
          "model_module_version": "1.2.0",
          "model_name": "LayoutModel",
          "state": {
            "_model_module": "@jupyter-widgets/base",
            "_model_module_version": "1.2.0",
            "_model_name": "LayoutModel",
            "_view_count": null,
            "_view_module": "@jupyter-widgets/base",
            "_view_module_version": "1.2.0",
            "_view_name": "LayoutView",
            "align_content": null,
            "align_items": null,
            "align_self": null,
            "border": null,
            "bottom": null,
            "display": null,
            "flex": null,
            "flex_flow": null,
            "grid_area": null,
            "grid_auto_columns": null,
            "grid_auto_flow": null,
            "grid_auto_rows": null,
            "grid_column": null,
            "grid_gap": null,
            "grid_row": null,
            "grid_template_areas": null,
            "grid_template_columns": null,
            "grid_template_rows": null,
            "height": null,
            "justify_content": null,
            "justify_items": null,
            "left": null,
            "margin": null,
            "max_height": null,
            "max_width": null,
            "min_height": null,
            "min_width": null,
            "object_fit": null,
            "object_position": null,
            "order": null,
            "overflow": null,
            "overflow_x": null,
            "overflow_y": null,
            "padding": null,
            "right": null,
            "top": null,
            "visibility": null,
            "width": null
          }
        },
        "9b83df5cfa5846f19e7a9ce844be8288": {
          "model_module": "@jupyter-widgets/controls",
          "model_module_version": "1.5.0",
          "model_name": "HTMLModel",
          "state": {
            "_dom_classes": [],
            "_model_module": "@jupyter-widgets/controls",
            "_model_module_version": "1.5.0",
            "_model_name": "HTMLModel",
            "_view_count": null,
            "_view_module": "@jupyter-widgets/controls",
            "_view_module_version": "1.5.0",
            "_view_name": "HTMLView",
            "description": "",
            "description_tooltip": null,
            "layout": "IPY_MODEL_2b7002b8933c4f0e95963b4ef4377295",
            "placeholder": "​",
            "style": "IPY_MODEL_7896796e7e3a41fa9f9f685d1f9fd6ab",
            "value": " 2.37k/2.37k [00:00&lt;00:00, 76.8kB/s]"
          }
        },
        "9d0d3fa90fe242599534f4956a39197f": {
          "model_module": "@jupyter-widgets/controls",
          "model_module_version": "1.5.0",
          "model_name": "ProgressStyleModel",
          "state": {
            "_model_module": "@jupyter-widgets/controls",
            "_model_module_version": "1.5.0",
            "_model_name": "ProgressStyleModel",
            "_view_count": null,
            "_view_module": "@jupyter-widgets/base",
            "_view_module_version": "1.2.0",
            "_view_name": "StyleView",
            "bar_color": null,
            "description_width": ""
          }
        },
        "9de90833032c4eb1bcb1a77969ce2d6a": {
          "model_module": "@jupyter-widgets/controls",
          "model_module_version": "1.5.0",
          "model_name": "FloatProgressModel",
          "state": {
            "_dom_classes": [],
            "_model_module": "@jupyter-widgets/controls",
            "_model_module_version": "1.5.0",
            "_model_name": "FloatProgressModel",
            "_view_count": null,
            "_view_module": "@jupyter-widgets/controls",
            "_view_module_version": "1.5.0",
            "_view_name": "ProgressView",
            "bar_style": "success",
            "description": "",
            "description_tooltip": null,
            "layout": "IPY_MODEL_a59842832ccd49669a940f4bf8ed8463",
            "max": 538971577,
            "min": 0,
            "orientation": "horizontal",
            "style": "IPY_MODEL_eeef93fdf6a74b31861b30443b3c4321",
            "value": 538971577
          }
        },
        "a02d9dc0a9fb4e2dac6413d0a8fdb390": {
          "model_module": "@jupyter-widgets/controls",
          "model_module_version": "1.5.0",
          "model_name": "HTMLModel",
          "state": {
            "_dom_classes": [],
            "_model_module": "@jupyter-widgets/controls",
            "_model_module_version": "1.5.0",
            "_model_name": "HTMLModel",
            "_view_count": null,
            "_view_module": "@jupyter-widgets/controls",
            "_view_module_version": "1.5.0",
            "_view_name": "HTMLView",
            "description": "",
            "description_tooltip": null,
            "layout": "IPY_MODEL_4f7bccb185564fc0b081ea2cc86cfea8",
            "placeholder": "​",
            "style": "IPY_MODEL_ac6c9215f5b844868cbceb6ceb4ac385",
            "value": " 114/114 [00:00&lt;00:00, 5.46kB/s]"
          }
        },
        "a3b6bb5702184b5d9addbbb3ca4a2f55": {
          "model_module": "@jupyter-widgets/base",
          "model_module_version": "1.2.0",
          "model_name": "LayoutModel",
          "state": {
            "_model_module": "@jupyter-widgets/base",
            "_model_module_version": "1.2.0",
            "_model_name": "LayoutModel",
            "_view_count": null,
            "_view_module": "@jupyter-widgets/base",
            "_view_module_version": "1.2.0",
            "_view_name": "LayoutView",
            "align_content": null,
            "align_items": null,
            "align_self": null,
            "border": null,
            "bottom": null,
            "display": null,
            "flex": null,
            "flex_flow": null,
            "grid_area": null,
            "grid_auto_columns": null,
            "grid_auto_flow": null,
            "grid_auto_rows": null,
            "grid_column": null,
            "grid_gap": null,
            "grid_row": null,
            "grid_template_areas": null,
            "grid_template_columns": null,
            "grid_template_rows": null,
            "height": null,
            "justify_content": null,
            "justify_items": null,
            "left": null,
            "margin": null,
            "max_height": null,
            "max_width": null,
            "min_height": null,
            "min_width": null,
            "object_fit": null,
            "object_position": null,
            "order": null,
            "overflow": null,
            "overflow_x": null,
            "overflow_y": null,
            "padding": null,
            "right": null,
            "top": null,
            "visibility": null,
            "width": null
          }
        },
        "a48946c2bcb44f61ae0a08ac9231354b": {
          "model_module": "@jupyter-widgets/base",
          "model_module_version": "1.2.0",
          "model_name": "LayoutModel",
          "state": {
            "_model_module": "@jupyter-widgets/base",
            "_model_module_version": "1.2.0",
            "_model_name": "LayoutModel",
            "_view_count": null,
            "_view_module": "@jupyter-widgets/base",
            "_view_module_version": "1.2.0",
            "_view_name": "LayoutView",
            "align_content": null,
            "align_items": null,
            "align_self": null,
            "border": null,
            "bottom": null,
            "display": null,
            "flex": null,
            "flex_flow": null,
            "grid_area": null,
            "grid_auto_columns": null,
            "grid_auto_flow": null,
            "grid_auto_rows": null,
            "grid_column": null,
            "grid_gap": null,
            "grid_row": null,
            "grid_template_areas": null,
            "grid_template_columns": null,
            "grid_template_rows": null,
            "height": null,
            "justify_content": null,
            "justify_items": null,
            "left": null,
            "margin": null,
            "max_height": null,
            "max_width": null,
            "min_height": null,
            "min_width": null,
            "object_fit": null,
            "object_position": null,
            "order": null,
            "overflow": null,
            "overflow_x": null,
            "overflow_y": null,
            "padding": null,
            "right": null,
            "top": null,
            "visibility": null,
            "width": null
          }
        },
        "a59842832ccd49669a940f4bf8ed8463": {
          "model_module": "@jupyter-widgets/base",
          "model_module_version": "1.2.0",
          "model_name": "LayoutModel",
          "state": {
            "_model_module": "@jupyter-widgets/base",
            "_model_module_version": "1.2.0",
            "_model_name": "LayoutModel",
            "_view_count": null,
            "_view_module": "@jupyter-widgets/base",
            "_view_module_version": "1.2.0",
            "_view_name": "LayoutView",
            "align_content": null,
            "align_items": null,
            "align_self": null,
            "border": null,
            "bottom": null,
            "display": null,
            "flex": null,
            "flex_flow": null,
            "grid_area": null,
            "grid_auto_columns": null,
            "grid_auto_flow": null,
            "grid_auto_rows": null,
            "grid_column": null,
            "grid_gap": null,
            "grid_row": null,
            "grid_template_areas": null,
            "grid_template_columns": null,
            "grid_template_rows": null,
            "height": null,
            "justify_content": null,
            "justify_items": null,
            "left": null,
            "margin": null,
            "max_height": null,
            "max_width": null,
            "min_height": null,
            "min_width": null,
            "object_fit": null,
            "object_position": null,
            "order": null,
            "overflow": null,
            "overflow_x": null,
            "overflow_y": null,
            "padding": null,
            "right": null,
            "top": null,
            "visibility": null,
            "width": null
          }
        },
        "a5c1e645cc0142f0ad5b8b0c20105cc4": {
          "model_module": "@jupyter-widgets/controls",
          "model_module_version": "1.5.0",
          "model_name": "HTMLModel",
          "state": {
            "_dom_classes": [],
            "_model_module": "@jupyter-widgets/controls",
            "_model_module_version": "1.5.0",
            "_model_name": "HTMLModel",
            "_view_count": null,
            "_view_module": "@jupyter-widgets/controls",
            "_view_module_version": "1.5.0",
            "_view_name": "HTMLView",
            "description": "",
            "description_tooltip": null,
            "layout": "IPY_MODEL_30ea115b1c7a4810b53383df9018fe25",
            "placeholder": "​",
            "style": "IPY_MODEL_630a4bdb41ff47b08554b4182353f91c",
            "value": "Downloading (…)428d96a/modules.json: 100%"
          }
        },
        "a791b6dce5df47e0812d3bf565f52b4c": {
          "model_module": "@jupyter-widgets/controls",
          "model_module_version": "1.5.0",
          "model_name": "HTMLModel",
          "state": {
            "_dom_classes": [],
            "_model_module": "@jupyter-widgets/controls",
            "_model_module_version": "1.5.0",
            "_model_name": "HTMLModel",
            "_view_count": null,
            "_view_module": "@jupyter-widgets/controls",
            "_view_module_version": "1.5.0",
            "_view_name": "HTMLView",
            "description": "",
            "description_tooltip": null,
            "layout": "IPY_MODEL_968b07f502054c4c9cea46b05d9d515b",
            "placeholder": "​",
            "style": "IPY_MODEL_c1a68f9031924ced9ea741cc167d6ccc",
            "value": " 528/528 [00:00&lt;00:00, 6.32kB/s]"
          }
        },
        "a89b2febb00446c4ac55b7fe015bab3c": {
          "model_module": "@jupyter-widgets/controls",
          "model_module_version": "1.5.0",
          "model_name": "HTMLModel",
          "state": {
            "_dom_classes": [],
            "_model_module": "@jupyter-widgets/controls",
            "_model_module_version": "1.5.0",
            "_model_name": "HTMLModel",
            "_view_count": null,
            "_view_module": "@jupyter-widgets/controls",
            "_view_module_version": "1.5.0",
            "_view_name": "HTMLView",
            "description": "",
            "description_tooltip": null,
            "layout": "IPY_MODEL_985a39666cb3443a8724039c92124ba5",
            "placeholder": "​",
            "style": "IPY_MODEL_d637a5c9adfb4177ae30260133a13ca6",
            "value": " 1.96M/1.96M [00:00&lt;00:00, 9.39MB/s]"
          }
        },
        "a9bc8beced3a4b059a1f47de425ac95c": {
          "model_module": "@jupyter-widgets/controls",
          "model_module_version": "1.5.0",
          "model_name": "HTMLModel",
          "state": {
            "_dom_classes": [],
            "_model_module": "@jupyter-widgets/controls",
            "_model_module_version": "1.5.0",
            "_model_name": "HTMLModel",
            "_view_count": null,
            "_view_module": "@jupyter-widgets/controls",
            "_view_module_version": "1.5.0",
            "_view_name": "HTMLView",
            "description": "",
            "description_tooltip": null,
            "layout": "IPY_MODEL_9b20b8af8fae4a79a347ad975fdf4de6",
            "placeholder": "​",
            "style": "IPY_MODEL_1e13448777624f38ad8b8aac7004211e",
            "value": "Downloading (…)8d96a/tokenizer.json: 100%"
          }
        },
        "aa95d66d98964526b694114bf34aeb54": {
          "model_module": "@jupyter-widgets/controls",
          "model_module_version": "1.5.0",
          "model_name": "DescriptionStyleModel",
          "state": {
            "_model_module": "@jupyter-widgets/controls",
            "_model_module_version": "1.5.0",
            "_model_name": "DescriptionStyleModel",
            "_view_count": null,
            "_view_module": "@jupyter-widgets/base",
            "_view_module_version": "1.2.0",
            "_view_name": "StyleView",
            "description_width": ""
          }
        },
        "abc25c4f036a4fdcaabc26bde7859335": {
          "model_module": "@jupyter-widgets/base",
          "model_module_version": "1.2.0",
          "model_name": "LayoutModel",
          "state": {
            "_model_module": "@jupyter-widgets/base",
            "_model_module_version": "1.2.0",
            "_model_name": "LayoutModel",
            "_view_count": null,
            "_view_module": "@jupyter-widgets/base",
            "_view_module_version": "1.2.0",
            "_view_name": "LayoutView",
            "align_content": null,
            "align_items": null,
            "align_self": null,
            "border": null,
            "bottom": null,
            "display": null,
            "flex": null,
            "flex_flow": null,
            "grid_area": null,
            "grid_auto_columns": null,
            "grid_auto_flow": null,
            "grid_auto_rows": null,
            "grid_column": null,
            "grid_gap": null,
            "grid_row": null,
            "grid_template_areas": null,
            "grid_template_columns": null,
            "grid_template_rows": null,
            "height": null,
            "justify_content": null,
            "justify_items": null,
            "left": null,
            "margin": null,
            "max_height": null,
            "max_width": null,
            "min_height": null,
            "min_width": null,
            "object_fit": null,
            "object_position": null,
            "order": null,
            "overflow": null,
            "overflow_x": null,
            "overflow_y": null,
            "padding": null,
            "right": null,
            "top": null,
            "visibility": null,
            "width": null
          }
        },
        "ac6c9215f5b844868cbceb6ceb4ac385": {
          "model_module": "@jupyter-widgets/controls",
          "model_module_version": "1.5.0",
          "model_name": "DescriptionStyleModel",
          "state": {
            "_model_module": "@jupyter-widgets/controls",
            "_model_module_version": "1.5.0",
            "_model_name": "DescriptionStyleModel",
            "_view_count": null,
            "_view_module": "@jupyter-widgets/base",
            "_view_module_version": "1.2.0",
            "_view_name": "StyleView",
            "description_width": ""
          }
        },
        "afa525aebde54df9a4cf29e3cd8e8f45": {
          "model_module": "@jupyter-widgets/controls",
          "model_module_version": "1.5.0",
          "model_name": "FloatProgressModel",
          "state": {
            "_dom_classes": [],
            "_model_module": "@jupyter-widgets/controls",
            "_model_module_version": "1.5.0",
            "_model_name": "FloatProgressModel",
            "_view_count": null,
            "_view_module": "@jupyter-widgets/controls",
            "_view_module_version": "1.5.0",
            "_view_name": "ProgressView",
            "bar_style": "success",
            "description": "",
            "description_tooltip": null,
            "layout": "IPY_MODEL_4d2f9c2a7638447fac71dd71d111f063",
            "max": 690,
            "min": 0,
            "orientation": "horizontal",
            "style": "IPY_MODEL_70c7d42d698248ac9b29f2e13d67bb84",
            "value": 690
          }
        },
        "b1a0bd9ffd20432c946a62532a602bbb": {
          "model_module": "@jupyter-widgets/base",
          "model_module_version": "1.2.0",
          "model_name": "LayoutModel",
          "state": {
            "_model_module": "@jupyter-widgets/base",
            "_model_module_version": "1.2.0",
            "_model_name": "LayoutModel",
            "_view_count": null,
            "_view_module": "@jupyter-widgets/base",
            "_view_module_version": "1.2.0",
            "_view_name": "LayoutView",
            "align_content": null,
            "align_items": null,
            "align_self": null,
            "border": null,
            "bottom": null,
            "display": null,
            "flex": null,
            "flex_flow": null,
            "grid_area": null,
            "grid_auto_columns": null,
            "grid_auto_flow": null,
            "grid_auto_rows": null,
            "grid_column": null,
            "grid_gap": null,
            "grid_row": null,
            "grid_template_areas": null,
            "grid_template_columns": null,
            "grid_template_rows": null,
            "height": null,
            "justify_content": null,
            "justify_items": null,
            "left": null,
            "margin": null,
            "max_height": null,
            "max_width": null,
            "min_height": null,
            "min_width": null,
            "object_fit": null,
            "object_position": null,
            "order": null,
            "overflow": null,
            "overflow_x": null,
            "overflow_y": null,
            "padding": null,
            "right": null,
            "top": null,
            "visibility": null,
            "width": null
          }
        },
        "b2df03944f7c4ab9939d0f3d0d2d11d5": {
          "model_module": "@jupyter-widgets/controls",
          "model_module_version": "1.5.0",
          "model_name": "HTMLModel",
          "state": {
            "_dom_classes": [],
            "_model_module": "@jupyter-widgets/controls",
            "_model_module_version": "1.5.0",
            "_model_name": "HTMLModel",
            "_view_count": null,
            "_view_module": "@jupyter-widgets/controls",
            "_view_module_version": "1.5.0",
            "_view_name": "HTMLView",
            "description": "",
            "description_tooltip": null,
            "layout": "IPY_MODEL_987564a926e4498d865f60a8246f0d66",
            "placeholder": "​",
            "style": "IPY_MODEL_52bb313b496c4118a412472853f370fc",
            "value": " 53.0/53.0 [00:00&lt;00:00, 627B/s]"
          }
        },
        "b5198d3bd6ad4a978eca79fc8c25d334": {
          "model_module": "@jupyter-widgets/controls",
          "model_module_version": "1.5.0",
          "model_name": "DescriptionStyleModel",
          "state": {
            "_model_module": "@jupyter-widgets/controls",
            "_model_module_version": "1.5.0",
            "_model_name": "DescriptionStyleModel",
            "_view_count": null,
            "_view_module": "@jupyter-widgets/base",
            "_view_module_version": "1.2.0",
            "_view_name": "StyleView",
            "description_width": ""
          }
        },
        "ba3a69cb51134955bd1a5e80ee4bf29c": {
          "model_module": "@jupyter-widgets/controls",
          "model_module_version": "1.5.0",
          "model_name": "FloatProgressModel",
          "state": {
            "_dom_classes": [],
            "_model_module": "@jupyter-widgets/controls",
            "_model_module_version": "1.5.0",
            "_model_name": "FloatProgressModel",
            "_view_count": null,
            "_view_module": "@jupyter-widgets/controls",
            "_view_module_version": "1.5.0",
            "_view_name": "ProgressView",
            "bar_style": "success",
            "description": "",
            "description_tooltip": null,
            "layout": "IPY_MODEL_54ea9f6070a040ecbcd2c5234b608bde",
            "max": 995526,
            "min": 0,
            "orientation": "horizontal",
            "style": "IPY_MODEL_c8550f8f6d8144dd8f655905e59f2013",
            "value": 995526
          }
        },
        "bc0a829805354b30afb25b84f5294f1a": {
          "model_module": "@jupyter-widgets/controls",
          "model_module_version": "1.5.0",
          "model_name": "ProgressStyleModel",
          "state": {
            "_model_module": "@jupyter-widgets/controls",
            "_model_module_version": "1.5.0",
            "_model_name": "ProgressStyleModel",
            "_view_count": null,
            "_view_module": "@jupyter-widgets/base",
            "_view_module_version": "1.2.0",
            "_view_name": "StyleView",
            "bar_color": null,
            "description_width": ""
          }
        },
        "be05d5389971449a8af911f1957a56ea": {
          "model_module": "@jupyter-widgets/base",
          "model_module_version": "1.2.0",
          "model_name": "LayoutModel",
          "state": {
            "_model_module": "@jupyter-widgets/base",
            "_model_module_version": "1.2.0",
            "_model_name": "LayoutModel",
            "_view_count": null,
            "_view_module": "@jupyter-widgets/base",
            "_view_module_version": "1.2.0",
            "_view_name": "LayoutView",
            "align_content": null,
            "align_items": null,
            "align_self": null,
            "border": null,
            "bottom": null,
            "display": null,
            "flex": null,
            "flex_flow": null,
            "grid_area": null,
            "grid_auto_columns": null,
            "grid_auto_flow": null,
            "grid_auto_rows": null,
            "grid_column": null,
            "grid_gap": null,
            "grid_row": null,
            "grid_template_areas": null,
            "grid_template_columns": null,
            "grid_template_rows": null,
            "height": null,
            "justify_content": null,
            "justify_items": null,
            "left": null,
            "margin": null,
            "max_height": null,
            "max_width": null,
            "min_height": null,
            "min_width": null,
            "object_fit": null,
            "object_position": null,
            "order": null,
            "overflow": null,
            "overflow_x": null,
            "overflow_y": null,
            "padding": null,
            "right": null,
            "top": null,
            "visibility": null,
            "width": null
          }
        },
        "bf18e1592b67486dac07794582f27449": {
          "model_module": "@jupyter-widgets/controls",
          "model_module_version": "1.5.0",
          "model_name": "HTMLModel",
          "state": {
            "_dom_classes": [],
            "_model_module": "@jupyter-widgets/controls",
            "_model_module_version": "1.5.0",
            "_model_name": "HTMLModel",
            "_view_count": null,
            "_view_module": "@jupyter-widgets/controls",
            "_view_module_version": "1.5.0",
            "_view_name": "HTMLView",
            "description": "",
            "description_tooltip": null,
            "layout": "IPY_MODEL_a48946c2bcb44f61ae0a08ac9231354b",
            "placeholder": "​",
            "style": "IPY_MODEL_cb03cedfa35044d9a11e8d937e5e9b4b",
            "value": "Downloading (…)8d96a/.gitattributes: 100%"
          }
        },
        "bf6cf9433cf24b618a4cfb8375d93027": {
          "model_module": "@jupyter-widgets/controls",
          "model_module_version": "1.5.0",
          "model_name": "HBoxModel",
          "state": {
            "_dom_classes": [],
            "_model_module": "@jupyter-widgets/controls",
            "_model_module_version": "1.5.0",
            "_model_name": "HBoxModel",
            "_view_count": null,
            "_view_module": "@jupyter-widgets/controls",
            "_view_module_version": "1.5.0",
            "_view_name": "HBoxView",
            "box_style": "",
            "children": [
              "IPY_MODEL_1fff62d495d74c9395d544678aa5c7b5",
              "IPY_MODEL_77e63daef8b24ee4a86edbeaaca50fa0",
              "IPY_MODEL_099cee52dbb6417bb5d352ebed64a0a1"
            ],
            "layout": "IPY_MODEL_254632e3ed5d49c599caefaf66e311dd"
          }
        },
        "bffb58dad2dc46d28951dcb65ea036ca": {
          "model_module": "@jupyter-widgets/controls",
          "model_module_version": "1.5.0",
          "model_name": "HTMLModel",
          "state": {
            "_dom_classes": [],
            "_model_module": "@jupyter-widgets/controls",
            "_model_module_version": "1.5.0",
            "_model_name": "HTMLModel",
            "_view_count": null,
            "_view_module": "@jupyter-widgets/controls",
            "_view_module_version": "1.5.0",
            "_view_name": "HTMLView",
            "description": "",
            "description_tooltip": null,
            "layout": "IPY_MODEL_ca3e5f22a9f34ae9ad27406b1b2abbc3",
            "placeholder": "​",
            "style": "IPY_MODEL_11af57f86982478aa3ef2270ea69f6c4",
            "value": "Downloading pytorch_model.bin: 100%"
          }
        },
        "c051f24312e8475aac5b84a698483a13": {
          "model_module": "@jupyter-widgets/controls",
          "model_module_version": "1.5.0",
          "model_name": "ProgressStyleModel",
          "state": {
            "_model_module": "@jupyter-widgets/controls",
            "_model_module_version": "1.5.0",
            "_model_name": "ProgressStyleModel",
            "_view_count": null,
            "_view_module": "@jupyter-widgets/base",
            "_view_module_version": "1.2.0",
            "_view_name": "StyleView",
            "bar_color": null,
            "description_width": ""
          }
        },
        "c1a68f9031924ced9ea741cc167d6ccc": {
          "model_module": "@jupyter-widgets/controls",
          "model_module_version": "1.5.0",
          "model_name": "DescriptionStyleModel",
          "state": {
            "_model_module": "@jupyter-widgets/controls",
            "_model_module_version": "1.5.0",
            "_model_name": "DescriptionStyleModel",
            "_view_count": null,
            "_view_module": "@jupyter-widgets/base",
            "_view_module_version": "1.2.0",
            "_view_name": "StyleView",
            "description_width": ""
          }
        },
        "c4afd04e22734ae0bfd13e832c0f9444": {
          "model_module": "@jupyter-widgets/controls",
          "model_module_version": "1.5.0",
          "model_name": "ProgressStyleModel",
          "state": {
            "_model_module": "@jupyter-widgets/controls",
            "_model_module_version": "1.5.0",
            "_model_name": "ProgressStyleModel",
            "_view_count": null,
            "_view_module": "@jupyter-widgets/base",
            "_view_module_version": "1.2.0",
            "_view_name": "StyleView",
            "bar_color": null,
            "description_width": ""
          }
        },
        "c5d3a3c488b24370a2edd5bf29c8ad37": {
          "model_module": "@jupyter-widgets/base",
          "model_module_version": "1.2.0",
          "model_name": "LayoutModel",
          "state": {
            "_model_module": "@jupyter-widgets/base",
            "_model_module_version": "1.2.0",
            "_model_name": "LayoutModel",
            "_view_count": null,
            "_view_module": "@jupyter-widgets/base",
            "_view_module_version": "1.2.0",
            "_view_name": "LayoutView",
            "align_content": null,
            "align_items": null,
            "align_self": null,
            "border": null,
            "bottom": null,
            "display": null,
            "flex": null,
            "flex_flow": null,
            "grid_area": null,
            "grid_auto_columns": null,
            "grid_auto_flow": null,
            "grid_auto_rows": null,
            "grid_column": null,
            "grid_gap": null,
            "grid_row": null,
            "grid_template_areas": null,
            "grid_template_columns": null,
            "grid_template_rows": null,
            "height": null,
            "justify_content": null,
            "justify_items": null,
            "left": null,
            "margin": null,
            "max_height": null,
            "max_width": null,
            "min_height": null,
            "min_width": null,
            "object_fit": null,
            "object_position": null,
            "order": null,
            "overflow": null,
            "overflow_x": null,
            "overflow_y": null,
            "padding": null,
            "right": null,
            "top": null,
            "visibility": null,
            "width": null
          }
        },
        "c6773fd28d624eff8c3c29ee24f83337": {
          "model_module": "@jupyter-widgets/base",
          "model_module_version": "1.2.0",
          "model_name": "LayoutModel",
          "state": {
            "_model_module": "@jupyter-widgets/base",
            "_model_module_version": "1.2.0",
            "_model_name": "LayoutModel",
            "_view_count": null,
            "_view_module": "@jupyter-widgets/base",
            "_view_module_version": "1.2.0",
            "_view_name": "LayoutView",
            "align_content": null,
            "align_items": null,
            "align_self": null,
            "border": null,
            "bottom": null,
            "display": null,
            "flex": null,
            "flex_flow": null,
            "grid_area": null,
            "grid_auto_columns": null,
            "grid_auto_flow": null,
            "grid_auto_rows": null,
            "grid_column": null,
            "grid_gap": null,
            "grid_row": null,
            "grid_template_areas": null,
            "grid_template_columns": null,
            "grid_template_rows": null,
            "height": null,
            "justify_content": null,
            "justify_items": null,
            "left": null,
            "margin": null,
            "max_height": null,
            "max_width": null,
            "min_height": null,
            "min_width": null,
            "object_fit": null,
            "object_position": null,
            "order": null,
            "overflow": null,
            "overflow_x": null,
            "overflow_y": null,
            "padding": null,
            "right": null,
            "top": null,
            "visibility": null,
            "width": null
          }
        },
        "c7ccc741f9e54317bc17d309e713062d": {
          "model_module": "@jupyter-widgets/controls",
          "model_module_version": "1.5.0",
          "model_name": "FloatProgressModel",
          "state": {
            "_dom_classes": [],
            "_model_module": "@jupyter-widgets/controls",
            "_model_module_version": "1.5.0",
            "_model_name": "FloatProgressModel",
            "_view_count": null,
            "_view_module": "@jupyter-widgets/controls",
            "_view_module_version": "1.5.0",
            "_view_name": "ProgressView",
            "bar_style": "success",
            "description": "",
            "description_tooltip": null,
            "layout": "IPY_MODEL_2f1c8c0e988b4e59805d9fe80c85e6cb",
            "max": 122,
            "min": 0,
            "orientation": "horizontal",
            "style": "IPY_MODEL_c8cfeb5dd9a04ee6b2fc3a7a896a697a",
            "value": 122
          }
        },
        "c8550f8f6d8144dd8f655905e59f2013": {
          "model_module": "@jupyter-widgets/controls",
          "model_module_version": "1.5.0",
          "model_name": "ProgressStyleModel",
          "state": {
            "_model_module": "@jupyter-widgets/controls",
            "_model_module_version": "1.5.0",
            "_model_name": "ProgressStyleModel",
            "_view_count": null,
            "_view_module": "@jupyter-widgets/base",
            "_view_module_version": "1.2.0",
            "_view_name": "StyleView",
            "bar_color": null,
            "description_width": ""
          }
        },
        "c8cfeb5dd9a04ee6b2fc3a7a896a697a": {
          "model_module": "@jupyter-widgets/controls",
          "model_module_version": "1.5.0",
          "model_name": "ProgressStyleModel",
          "state": {
            "_model_module": "@jupyter-widgets/controls",
            "_model_module_version": "1.5.0",
            "_model_name": "ProgressStyleModel",
            "_view_count": null,
            "_view_module": "@jupyter-widgets/base",
            "_view_module_version": "1.2.0",
            "_view_name": "StyleView",
            "bar_color": null,
            "description_width": ""
          }
        },
        "c8e9a1e52b794d3d8ee89bfa3d27c707": {
          "model_module": "@jupyter-widgets/base",
          "model_module_version": "1.2.0",
          "model_name": "LayoutModel",
          "state": {
            "_model_module": "@jupyter-widgets/base",
            "_model_module_version": "1.2.0",
            "_model_name": "LayoutModel",
            "_view_count": null,
            "_view_module": "@jupyter-widgets/base",
            "_view_module_version": "1.2.0",
            "_view_name": "LayoutView",
            "align_content": null,
            "align_items": null,
            "align_self": null,
            "border": null,
            "bottom": null,
            "display": null,
            "flex": null,
            "flex_flow": null,
            "grid_area": null,
            "grid_auto_columns": null,
            "grid_auto_flow": null,
            "grid_auto_rows": null,
            "grid_column": null,
            "grid_gap": null,
            "grid_row": null,
            "grid_template_areas": null,
            "grid_template_columns": null,
            "grid_template_rows": null,
            "height": null,
            "justify_content": null,
            "justify_items": null,
            "left": null,
            "margin": null,
            "max_height": null,
            "max_width": null,
            "min_height": null,
            "min_width": null,
            "object_fit": null,
            "object_position": null,
            "order": null,
            "overflow": null,
            "overflow_x": null,
            "overflow_y": null,
            "padding": null,
            "right": null,
            "top": null,
            "visibility": null,
            "width": null
          }
        },
        "ca3e5f22a9f34ae9ad27406b1b2abbc3": {
          "model_module": "@jupyter-widgets/base",
          "model_module_version": "1.2.0",
          "model_name": "LayoutModel",
          "state": {
            "_model_module": "@jupyter-widgets/base",
            "_model_module_version": "1.2.0",
            "_model_name": "LayoutModel",
            "_view_count": null,
            "_view_module": "@jupyter-widgets/base",
            "_view_module_version": "1.2.0",
            "_view_name": "LayoutView",
            "align_content": null,
            "align_items": null,
            "align_self": null,
            "border": null,
            "bottom": null,
            "display": null,
            "flex": null,
            "flex_flow": null,
            "grid_area": null,
            "grid_auto_columns": null,
            "grid_auto_flow": null,
            "grid_auto_rows": null,
            "grid_column": null,
            "grid_gap": null,
            "grid_row": null,
            "grid_template_areas": null,
            "grid_template_columns": null,
            "grid_template_rows": null,
            "height": null,
            "justify_content": null,
            "justify_items": null,
            "left": null,
            "margin": null,
            "max_height": null,
            "max_width": null,
            "min_height": null,
            "min_width": null,
            "object_fit": null,
            "object_position": null,
            "order": null,
            "overflow": null,
            "overflow_x": null,
            "overflow_y": null,
            "padding": null,
            "right": null,
            "top": null,
            "visibility": null,
            "width": null
          }
        },
        "cb03cedfa35044d9a11e8d937e5e9b4b": {
          "model_module": "@jupyter-widgets/controls",
          "model_module_version": "1.5.0",
          "model_name": "DescriptionStyleModel",
          "state": {
            "_model_module": "@jupyter-widgets/controls",
            "_model_module_version": "1.5.0",
            "_model_name": "DescriptionStyleModel",
            "_view_count": null,
            "_view_module": "@jupyter-widgets/base",
            "_view_module_version": "1.2.0",
            "_view_name": "StyleView",
            "description_width": ""
          }
        },
        "cb13c1a0d73140ccabfdfd73996c68ce": {
          "model_module": "@jupyter-widgets/controls",
          "model_module_version": "1.5.0",
          "model_name": "HTMLModel",
          "state": {
            "_dom_classes": [],
            "_model_module": "@jupyter-widgets/controls",
            "_model_module_version": "1.5.0",
            "_model_name": "HTMLModel",
            "_view_count": null,
            "_view_module": "@jupyter-widgets/controls",
            "_view_module_version": "1.5.0",
            "_view_name": "HTMLView",
            "description": "",
            "description_tooltip": null,
            "layout": "IPY_MODEL_5a67330c90dd453d94a8382295844b33",
            "placeholder": "​",
            "style": "IPY_MODEL_266befab35584b2b85e887efe555625b",
            "value": " 341/341 [00:00&lt;00:00, 3.69kB/s]"
          }
        },
        "d1e5fedb3933403a867c97a5af7a4b3e": {
          "model_module": "@jupyter-widgets/controls",
          "model_module_version": "1.5.0",
          "model_name": "ProgressStyleModel",
          "state": {
            "_model_module": "@jupyter-widgets/controls",
            "_model_module_version": "1.5.0",
            "_model_name": "ProgressStyleModel",
            "_view_count": null,
            "_view_module": "@jupyter-widgets/base",
            "_view_module_version": "1.2.0",
            "_view_name": "StyleView",
            "bar_color": null,
            "description_width": ""
          }
        },
        "d23fe58ce61c4e97b345bd97ae42e319": {
          "model_module": "@jupyter-widgets/controls",
          "model_module_version": "1.5.0",
          "model_name": "HTMLModel",
          "state": {
            "_dom_classes": [],
            "_model_module": "@jupyter-widgets/controls",
            "_model_module_version": "1.5.0",
            "_model_name": "HTMLModel",
            "_view_count": null,
            "_view_module": "@jupyter-widgets/controls",
            "_view_module_version": "1.5.0",
            "_view_name": "HTMLView",
            "description": "",
            "description_tooltip": null,
            "layout": "IPY_MODEL_4cf35868027e48c2a2fe4966d7ad6bbb",
            "placeholder": "​",
            "style": "IPY_MODEL_87c3e2d91fd44509b7b7b82da52010f7",
            "value": " 1.58M/1.58M [00:00&lt;00:00, 10.3MB/s]"
          }
        },
        "d541038b3fdc469e851a7000fd039ef8": {
          "model_module": "@jupyter-widgets/base",
          "model_module_version": "1.2.0",
          "model_name": "LayoutModel",
          "state": {
            "_model_module": "@jupyter-widgets/base",
            "_model_module_version": "1.2.0",
            "_model_name": "LayoutModel",
            "_view_count": null,
            "_view_module": "@jupyter-widgets/base",
            "_view_module_version": "1.2.0",
            "_view_name": "LayoutView",
            "align_content": null,
            "align_items": null,
            "align_self": null,
            "border": null,
            "bottom": null,
            "display": null,
            "flex": null,
            "flex_flow": null,
            "grid_area": null,
            "grid_auto_columns": null,
            "grid_auto_flow": null,
            "grid_auto_rows": null,
            "grid_column": null,
            "grid_gap": null,
            "grid_row": null,
            "grid_template_areas": null,
            "grid_template_columns": null,
            "grid_template_rows": null,
            "height": null,
            "justify_content": null,
            "justify_items": null,
            "left": null,
            "margin": null,
            "max_height": null,
            "max_width": null,
            "min_height": null,
            "min_width": null,
            "object_fit": null,
            "object_position": null,
            "order": null,
            "overflow": null,
            "overflow_x": null,
            "overflow_y": null,
            "padding": null,
            "right": null,
            "top": null,
            "visibility": null,
            "width": null
          }
        },
        "d54634a07dc24a9ba1ff0a4364424f7e": {
          "model_module": "@jupyter-widgets/controls",
          "model_module_version": "1.5.0",
          "model_name": "ProgressStyleModel",
          "state": {
            "_model_module": "@jupyter-widgets/controls",
            "_model_module_version": "1.5.0",
            "_model_name": "ProgressStyleModel",
            "_view_count": null,
            "_view_module": "@jupyter-widgets/base",
            "_view_module_version": "1.2.0",
            "_view_name": "StyleView",
            "bar_color": null,
            "description_width": ""
          }
        },
        "d637a5c9adfb4177ae30260133a13ca6": {
          "model_module": "@jupyter-widgets/controls",
          "model_module_version": "1.5.0",
          "model_name": "DescriptionStyleModel",
          "state": {
            "_model_module": "@jupyter-widgets/controls",
            "_model_module_version": "1.5.0",
            "_model_name": "DescriptionStyleModel",
            "_view_count": null,
            "_view_module": "@jupyter-widgets/base",
            "_view_module_version": "1.2.0",
            "_view_name": "StyleView",
            "description_width": ""
          }
        },
        "d72f7e80e8ab41c39d3b68c71d43f8c1": {
          "model_module": "@jupyter-widgets/controls",
          "model_module_version": "1.5.0",
          "model_name": "DescriptionStyleModel",
          "state": {
            "_model_module": "@jupyter-widgets/controls",
            "_model_module_version": "1.5.0",
            "_model_name": "DescriptionStyleModel",
            "_view_count": null,
            "_view_module": "@jupyter-widgets/base",
            "_view_module_version": "1.2.0",
            "_view_name": "StyleView",
            "description_width": ""
          }
        },
        "d887375efc604920bca80de694b1fcad": {
          "model_module": "@jupyter-widgets/base",
          "model_module_version": "1.2.0",
          "model_name": "LayoutModel",
          "state": {
            "_model_module": "@jupyter-widgets/base",
            "_model_module_version": "1.2.0",
            "_model_name": "LayoutModel",
            "_view_count": null,
            "_view_module": "@jupyter-widgets/base",
            "_view_module_version": "1.2.0",
            "_view_name": "LayoutView",
            "align_content": null,
            "align_items": null,
            "align_self": null,
            "border": null,
            "bottom": null,
            "display": null,
            "flex": null,
            "flex_flow": null,
            "grid_area": null,
            "grid_auto_columns": null,
            "grid_auto_flow": null,
            "grid_auto_rows": null,
            "grid_column": null,
            "grid_gap": null,
            "grid_row": null,
            "grid_template_areas": null,
            "grid_template_columns": null,
            "grid_template_rows": null,
            "height": null,
            "justify_content": null,
            "justify_items": null,
            "left": null,
            "margin": null,
            "max_height": null,
            "max_width": null,
            "min_height": null,
            "min_width": null,
            "object_fit": null,
            "object_position": null,
            "order": null,
            "overflow": null,
            "overflow_x": null,
            "overflow_y": null,
            "padding": null,
            "right": null,
            "top": null,
            "visibility": null,
            "width": null
          }
        },
        "e3ce2884a6af498285ab8af760e18b53": {
          "model_module": "@jupyter-widgets/controls",
          "model_module_version": "1.5.0",
          "model_name": "FloatProgressModel",
          "state": {
            "_dom_classes": [],
            "_model_module": "@jupyter-widgets/controls",
            "_model_module_version": "1.5.0",
            "_model_name": "FloatProgressModel",
            "_view_count": null,
            "_view_module": "@jupyter-widgets/controls",
            "_view_module_version": "1.5.0",
            "_view_name": "ProgressView",
            "bar_style": "success",
            "description": "",
            "description_tooltip": null,
            "layout": "IPY_MODEL_4a5c438ed95a49f4b7d686818aa289e1",
            "max": 607,
            "min": 0,
            "orientation": "horizontal",
            "style": "IPY_MODEL_41b70932a70f4c7c913404f2a863328f",
            "value": 607
          }
        },
        "e436a4f9568a431b98ab6375cae204fa": {
          "model_module": "@jupyter-widgets/controls",
          "model_module_version": "1.5.0",
          "model_name": "HBoxModel",
          "state": {
            "_dom_classes": [],
            "_model_module": "@jupyter-widgets/controls",
            "_model_module_version": "1.5.0",
            "_model_name": "HBoxModel",
            "_view_count": null,
            "_view_module": "@jupyter-widgets/controls",
            "_view_module_version": "1.5.0",
            "_view_name": "HBoxView",
            "box_style": "",
            "children": [
              "IPY_MODEL_bf18e1592b67486dac07794582f27449",
              "IPY_MODEL_afa525aebde54df9a4cf29e3cd8e8f45",
              "IPY_MODEL_60032fecab874585822abece89703cee"
            ],
            "layout": "IPY_MODEL_01a7dcd177444c3e8d351aae5f242061"
          }
        },
        "e687b58a4fbe4a62b310afa8c3f3dd00": {
          "model_module": "@jupyter-widgets/base",
          "model_module_version": "1.2.0",
          "model_name": "LayoutModel",
          "state": {
            "_model_module": "@jupyter-widgets/base",
            "_model_module_version": "1.2.0",
            "_model_name": "LayoutModel",
            "_view_count": null,
            "_view_module": "@jupyter-widgets/base",
            "_view_module_version": "1.2.0",
            "_view_name": "LayoutView",
            "align_content": null,
            "align_items": null,
            "align_self": null,
            "border": null,
            "bottom": null,
            "display": null,
            "flex": null,
            "flex_flow": null,
            "grid_area": null,
            "grid_auto_columns": null,
            "grid_auto_flow": null,
            "grid_auto_rows": null,
            "grid_column": null,
            "grid_gap": null,
            "grid_row": null,
            "grid_template_areas": null,
            "grid_template_columns": null,
            "grid_template_rows": null,
            "height": null,
            "justify_content": null,
            "justify_items": null,
            "left": null,
            "margin": null,
            "max_height": null,
            "max_width": null,
            "min_height": null,
            "min_width": null,
            "object_fit": null,
            "object_position": null,
            "order": null,
            "overflow": null,
            "overflow_x": null,
            "overflow_y": null,
            "padding": null,
            "right": null,
            "top": null,
            "visibility": null,
            "width": null
          }
        },
        "e7b0119aeff04031b5b88fccf6641b02": {
          "model_module": "@jupyter-widgets/base",
          "model_module_version": "1.2.0",
          "model_name": "LayoutModel",
          "state": {
            "_model_module": "@jupyter-widgets/base",
            "_model_module_version": "1.2.0",
            "_model_name": "LayoutModel",
            "_view_count": null,
            "_view_module": "@jupyter-widgets/base",
            "_view_module_version": "1.2.0",
            "_view_name": "LayoutView",
            "align_content": null,
            "align_items": null,
            "align_self": null,
            "border": null,
            "bottom": null,
            "display": null,
            "flex": null,
            "flex_flow": null,
            "grid_area": null,
            "grid_auto_columns": null,
            "grid_auto_flow": null,
            "grid_auto_rows": null,
            "grid_column": null,
            "grid_gap": null,
            "grid_row": null,
            "grid_template_areas": null,
            "grid_template_columns": null,
            "grid_template_rows": null,
            "height": null,
            "justify_content": null,
            "justify_items": null,
            "left": null,
            "margin": null,
            "max_height": null,
            "max_width": null,
            "min_height": null,
            "min_width": null,
            "object_fit": null,
            "object_position": null,
            "order": null,
            "overflow": null,
            "overflow_x": null,
            "overflow_y": null,
            "padding": null,
            "right": null,
            "top": null,
            "visibility": null,
            "width": null
          }
        },
        "e8e42c91f3fc424f86f780d562039d93": {
          "model_module": "@jupyter-widgets/base",
          "model_module_version": "1.2.0",
          "model_name": "LayoutModel",
          "state": {
            "_model_module": "@jupyter-widgets/base",
            "_model_module_version": "1.2.0",
            "_model_name": "LayoutModel",
            "_view_count": null,
            "_view_module": "@jupyter-widgets/base",
            "_view_module_version": "1.2.0",
            "_view_name": "LayoutView",
            "align_content": null,
            "align_items": null,
            "align_self": null,
            "border": null,
            "bottom": null,
            "display": null,
            "flex": null,
            "flex_flow": null,
            "grid_area": null,
            "grid_auto_columns": null,
            "grid_auto_flow": null,
            "grid_auto_rows": null,
            "grid_column": null,
            "grid_gap": null,
            "grid_row": null,
            "grid_template_areas": null,
            "grid_template_columns": null,
            "grid_template_rows": null,
            "height": null,
            "justify_content": null,
            "justify_items": null,
            "left": null,
            "margin": null,
            "max_height": null,
            "max_width": null,
            "min_height": null,
            "min_width": null,
            "object_fit": null,
            "object_position": null,
            "order": null,
            "overflow": null,
            "overflow_x": null,
            "overflow_y": null,
            "padding": null,
            "right": null,
            "top": null,
            "visibility": null,
            "width": null
          }
        },
        "e8ed50889ab0468ca6d86a388cca88ed": {
          "model_module": "@jupyter-widgets/controls",
          "model_module_version": "1.5.0",
          "model_name": "ProgressStyleModel",
          "state": {
            "_model_module": "@jupyter-widgets/controls",
            "_model_module_version": "1.5.0",
            "_model_name": "ProgressStyleModel",
            "_view_count": null,
            "_view_module": "@jupyter-widgets/base",
            "_view_module_version": "1.2.0",
            "_view_name": "StyleView",
            "bar_color": null,
            "description_width": ""
          }
        },
        "e9531b3b014241b1a714a1b447815a46": {
          "model_module": "@jupyter-widgets/controls",
          "model_module_version": "1.5.0",
          "model_name": "DescriptionStyleModel",
          "state": {
            "_model_module": "@jupyter-widgets/controls",
            "_model_module_version": "1.5.0",
            "_model_name": "DescriptionStyleModel",
            "_view_count": null,
            "_view_module": "@jupyter-widgets/base",
            "_view_module_version": "1.2.0",
            "_view_name": "StyleView",
            "description_width": ""
          }
        },
        "eb03a4f5b1fc4d8ba337093a99291cda": {
          "model_module": "@jupyter-widgets/controls",
          "model_module_version": "1.5.0",
          "model_name": "HBoxModel",
          "state": {
            "_dom_classes": [],
            "_model_module": "@jupyter-widgets/controls",
            "_model_module_version": "1.5.0",
            "_model_name": "HBoxModel",
            "_view_count": null,
            "_view_module": "@jupyter-widgets/controls",
            "_view_module_version": "1.5.0",
            "_view_name": "HBoxView",
            "box_style": "",
            "children": [
              "IPY_MODEL_2b561ca8af494f56894ecaebe01f0e63",
              "IPY_MODEL_4e9554e3604e4e88b5b05ba05fcf89c2",
              "IPY_MODEL_a791b6dce5df47e0812d3bf565f52b4c"
            ],
            "layout": "IPY_MODEL_56c365d998474c4591f0f661c01ce08e"
          }
        },
        "eb6091b5ef704fe1b28e1aef33771f03": {
          "model_module": "@jupyter-widgets/controls",
          "model_module_version": "1.5.0",
          "model_name": "HBoxModel",
          "state": {
            "_dom_classes": [],
            "_model_module": "@jupyter-widgets/controls",
            "_model_module_version": "1.5.0",
            "_model_name": "HBoxModel",
            "_view_count": null,
            "_view_module": "@jupyter-widgets/controls",
            "_view_module_version": "1.5.0",
            "_view_name": "HBoxView",
            "box_style": "",
            "children": [
              "IPY_MODEL_2fa9c2991cd44d32a6df6b35f9e0f1d3",
              "IPY_MODEL_3b3e7dbbc8e74b8395e5ed9ce5b6bfd1",
              "IPY_MODEL_7f42f3c3e6284583983ae463ab1d0ece"
            ],
            "layout": "IPY_MODEL_69ca3cfe3cc444219ab32ff1c88668cf"
          }
        },
        "ebcd02e74b904675be13f4735a52d20b": {
          "model_module": "@jupyter-widgets/base",
          "model_module_version": "1.2.0",
          "model_name": "LayoutModel",
          "state": {
            "_model_module": "@jupyter-widgets/base",
            "_model_module_version": "1.2.0",
            "_model_name": "LayoutModel",
            "_view_count": null,
            "_view_module": "@jupyter-widgets/base",
            "_view_module_version": "1.2.0",
            "_view_name": "LayoutView",
            "align_content": null,
            "align_items": null,
            "align_self": null,
            "border": null,
            "bottom": null,
            "display": null,
            "flex": null,
            "flex_flow": null,
            "grid_area": null,
            "grid_auto_columns": null,
            "grid_auto_flow": null,
            "grid_auto_rows": null,
            "grid_column": null,
            "grid_gap": null,
            "grid_row": null,
            "grid_template_areas": null,
            "grid_template_columns": null,
            "grid_template_rows": null,
            "height": null,
            "justify_content": null,
            "justify_items": null,
            "left": null,
            "margin": null,
            "max_height": null,
            "max_width": null,
            "min_height": null,
            "min_width": null,
            "object_fit": null,
            "object_position": null,
            "order": null,
            "overflow": null,
            "overflow_x": null,
            "overflow_y": null,
            "padding": null,
            "right": null,
            "top": null,
            "visibility": null,
            "width": null
          }
        },
        "eeef93fdf6a74b31861b30443b3c4321": {
          "model_module": "@jupyter-widgets/controls",
          "model_module_version": "1.5.0",
          "model_name": "ProgressStyleModel",
          "state": {
            "_model_module": "@jupyter-widgets/controls",
            "_model_module_version": "1.5.0",
            "_model_name": "ProgressStyleModel",
            "_view_count": null,
            "_view_module": "@jupyter-widgets/base",
            "_view_module_version": "1.2.0",
            "_view_name": "StyleView",
            "bar_color": null,
            "description_width": ""
          }
        },
        "f09b3e49f5a643dc8bf473dab180f3d1": {
          "model_module": "@jupyter-widgets/controls",
          "model_module_version": "1.5.0",
          "model_name": "HTMLModel",
          "state": {
            "_dom_classes": [],
            "_model_module": "@jupyter-widgets/controls",
            "_model_module_version": "1.5.0",
            "_model_name": "HTMLModel",
            "_view_count": null,
            "_view_module": "@jupyter-widgets/controls",
            "_view_module_version": "1.5.0",
            "_view_name": "HTMLView",
            "description": "",
            "description_tooltip": null,
            "layout": "IPY_MODEL_7dd34519fc9c496eaff75d4700f24b85",
            "placeholder": "​",
            "style": "IPY_MODEL_ff4dcf16d5134312913da2baab26a528",
            "value": "Downloading rust_model.ot: 100%"
          }
        },
        "f0b7f7257b264fb1a9325ff90cd8a083": {
          "model_module": "@jupyter-widgets/controls",
          "model_module_version": "1.5.0",
          "model_name": "HTMLModel",
          "state": {
            "_dom_classes": [],
            "_model_module": "@jupyter-widgets/controls",
            "_model_module_version": "1.5.0",
            "_model_name": "HTMLModel",
            "_view_count": null,
            "_view_module": "@jupyter-widgets/controls",
            "_view_module_version": "1.5.0",
            "_view_name": "HTMLView",
            "description": "",
            "description_tooltip": null,
            "layout": "IPY_MODEL_885d6e6fc54c45179b25d7383aeb90d0",
            "placeholder": "​",
            "style": "IPY_MODEL_fcce2fca7c284b5c87f63c9df66f4b6c",
            "value": "Downloading (…)3a5428d96a/vocab.txt: 100%"
          }
        },
        "f2cf3ca37fc94ec0adbe5d076af9abee": {
          "model_module": "@jupyter-widgets/base",
          "model_module_version": "1.2.0",
          "model_name": "LayoutModel",
          "state": {
            "_model_module": "@jupyter-widgets/base",
            "_model_module_version": "1.2.0",
            "_model_name": "LayoutModel",
            "_view_count": null,
            "_view_module": "@jupyter-widgets/base",
            "_view_module_version": "1.2.0",
            "_view_name": "LayoutView",
            "align_content": null,
            "align_items": null,
            "align_self": null,
            "border": null,
            "bottom": null,
            "display": null,
            "flex": null,
            "flex_flow": null,
            "grid_area": null,
            "grid_auto_columns": null,
            "grid_auto_flow": null,
            "grid_auto_rows": null,
            "grid_column": null,
            "grid_gap": null,
            "grid_row": null,
            "grid_template_areas": null,
            "grid_template_columns": null,
            "grid_template_rows": null,
            "height": null,
            "justify_content": null,
            "justify_items": null,
            "left": null,
            "margin": null,
            "max_height": null,
            "max_width": null,
            "min_height": null,
            "min_width": null,
            "object_fit": null,
            "object_position": null,
            "order": null,
            "overflow": null,
            "overflow_x": null,
            "overflow_y": null,
            "padding": null,
            "right": null,
            "top": null,
            "visibility": null,
            "width": null
          }
        },
        "f35e207ca47e473cb480294ae86c10ff": {
          "model_module": "@jupyter-widgets/base",
          "model_module_version": "1.2.0",
          "model_name": "LayoutModel",
          "state": {
            "_model_module": "@jupyter-widgets/base",
            "_model_module_version": "1.2.0",
            "_model_name": "LayoutModel",
            "_view_count": null,
            "_view_module": "@jupyter-widgets/base",
            "_view_module_version": "1.2.0",
            "_view_name": "LayoutView",
            "align_content": null,
            "align_items": null,
            "align_self": null,
            "border": null,
            "bottom": null,
            "display": null,
            "flex": null,
            "flex_flow": null,
            "grid_area": null,
            "grid_auto_columns": null,
            "grid_auto_flow": null,
            "grid_auto_rows": null,
            "grid_column": null,
            "grid_gap": null,
            "grid_row": null,
            "grid_template_areas": null,
            "grid_template_columns": null,
            "grid_template_rows": null,
            "height": null,
            "justify_content": null,
            "justify_items": null,
            "left": null,
            "margin": null,
            "max_height": null,
            "max_width": null,
            "min_height": null,
            "min_width": null,
            "object_fit": null,
            "object_position": null,
            "order": null,
            "overflow": null,
            "overflow_x": null,
            "overflow_y": null,
            "padding": null,
            "right": null,
            "top": null,
            "visibility": null,
            "width": null
          }
        },
        "f5d49000b4404a759cc98b886d27b591": {
          "model_module": "@jupyter-widgets/controls",
          "model_module_version": "1.5.0",
          "model_name": "HTMLModel",
          "state": {
            "_dom_classes": [],
            "_model_module": "@jupyter-widgets/controls",
            "_model_module_version": "1.5.0",
            "_model_name": "HTMLModel",
            "_view_count": null,
            "_view_module": "@jupyter-widgets/controls",
            "_view_module_version": "1.5.0",
            "_view_name": "HTMLView",
            "description": "",
            "description_tooltip": null,
            "layout": "IPY_MODEL_d887375efc604920bca80de694b1fcad",
            "placeholder": "​",
            "style": "IPY_MODEL_8ad4e0684cfe48a38eb969b2284cfd34",
            "value": "Downloading (…)ce_transformers.json: 100%"
          }
        },
        "f936fb676f5a47efbe035764e349efbf": {
          "model_module": "@jupyter-widgets/controls",
          "model_module_version": "1.5.0",
          "model_name": "ProgressStyleModel",
          "state": {
            "_model_module": "@jupyter-widgets/controls",
            "_model_module_version": "1.5.0",
            "_model_name": "ProgressStyleModel",
            "_view_count": null,
            "_view_module": "@jupyter-widgets/base",
            "_view_module_version": "1.2.0",
            "_view_name": "StyleView",
            "bar_color": null,
            "description_width": ""
          }
        },
        "fcce2fca7c284b5c87f63c9df66f4b6c": {
          "model_module": "@jupyter-widgets/controls",
          "model_module_version": "1.5.0",
          "model_name": "DescriptionStyleModel",
          "state": {
            "_model_module": "@jupyter-widgets/controls",
            "_model_module_version": "1.5.0",
            "_model_name": "DescriptionStyleModel",
            "_view_count": null,
            "_view_module": "@jupyter-widgets/base",
            "_view_module_version": "1.2.0",
            "_view_name": "StyleView",
            "description_width": ""
          }
        },
        "fce3a96cad404520bf1b65a377d6dedb": {
          "model_module": "@jupyter-widgets/controls",
          "model_module_version": "1.5.0",
          "model_name": "HBoxModel",
          "state": {
            "_dom_classes": [],
            "_model_module": "@jupyter-widgets/controls",
            "_model_module_version": "1.5.0",
            "_model_name": "HBoxModel",
            "_view_count": null,
            "_view_module": "@jupyter-widgets/controls",
            "_view_module_version": "1.5.0",
            "_view_name": "HBoxView",
            "box_style": "",
            "children": [
              "IPY_MODEL_6f088638d4104adcaa4239160c00278d",
              "IPY_MODEL_234f039248ea4e50ab585ef32a9535cc",
              "IPY_MODEL_b2df03944f7c4ab9939d0f3d0d2d11d5"
            ],
            "layout": "IPY_MODEL_42798d53d48c40c99b01b06c9be955b2"
          }
        },
        "fd0addb01f4c4adba75870c8be8c5da4": {
          "model_module": "@jupyter-widgets/base",
          "model_module_version": "1.2.0",
          "model_name": "LayoutModel",
          "state": {
            "_model_module": "@jupyter-widgets/base",
            "_model_module_version": "1.2.0",
            "_model_name": "LayoutModel",
            "_view_count": null,
            "_view_module": "@jupyter-widgets/base",
            "_view_module_version": "1.2.0",
            "_view_name": "LayoutView",
            "align_content": null,
            "align_items": null,
            "align_self": null,
            "border": null,
            "bottom": null,
            "display": null,
            "flex": null,
            "flex_flow": null,
            "grid_area": null,
            "grid_auto_columns": null,
            "grid_auto_flow": null,
            "grid_auto_rows": null,
            "grid_column": null,
            "grid_gap": null,
            "grid_row": null,
            "grid_template_areas": null,
            "grid_template_columns": null,
            "grid_template_rows": null,
            "height": null,
            "justify_content": null,
            "justify_items": null,
            "left": null,
            "margin": null,
            "max_height": null,
            "max_width": null,
            "min_height": null,
            "min_width": null,
            "object_fit": null,
            "object_position": null,
            "order": null,
            "overflow": null,
            "overflow_x": null,
            "overflow_y": null,
            "padding": null,
            "right": null,
            "top": null,
            "visibility": null,
            "width": null
          }
        },
        "ff4dcf16d5134312913da2baab26a528": {
          "model_module": "@jupyter-widgets/controls",
          "model_module_version": "1.5.0",
          "model_name": "DescriptionStyleModel",
          "state": {
            "_model_module": "@jupyter-widgets/controls",
            "_model_module_version": "1.5.0",
            "_model_name": "DescriptionStyleModel",
            "_view_count": null,
            "_view_module": "@jupyter-widgets/base",
            "_view_module_version": "1.2.0",
            "_view_name": "StyleView",
            "description_width": ""
          }
        },
        "ffa33f4bb78047bebb6ca7faa7361bf6": {
          "model_module": "@jupyter-widgets/controls",
          "model_module_version": "1.5.0",
          "model_name": "HTMLModel",
          "state": {
            "_dom_classes": [],
            "_model_module": "@jupyter-widgets/controls",
            "_model_module_version": "1.5.0",
            "_model_name": "HTMLModel",
            "_view_count": null,
            "_view_module": "@jupyter-widgets/controls",
            "_view_module_version": "1.5.0",
            "_view_name": "HTMLView",
            "description": "",
            "description_tooltip": null,
            "layout": "IPY_MODEL_29a2c90b78724620a9c4ca0c51c65968",
            "placeholder": "​",
            "style": "IPY_MODEL_29642f8d253046428654801f3ddf254f",
            "value": " 539M/539M [00:08&lt;00:00, 54.9MB/s]"
          }
        }
      }
    }
  },
  "nbformat": 4,
  "nbformat_minor": 0
}
